{
 "cells": [
  {
   "cell_type": "code",
   "execution_count": 157,
   "id": "841408ef",
   "metadata": {},
   "outputs": [
    {
     "name": "stdout",
     "output_type": "stream",
     "text": [
      "The autoreload extension is already loaded. To reload it, use:\n",
      "  %reload_ext autoreload\n"
     ]
    }
   ],
   "source": [
    "import pandas as pd\n",
    "from nltk.corpus import stopwords\n",
    "from sentence_transformers import SentenceTransformer\n",
    "\n",
    "from bertopic import BERTopic\n",
    "from sklearn.feature_extraction.text import CountVectorizer\n",
    "from hdbscan import HDBSCAN\n",
    "from umap import UMAP\n",
    "\n",
    "from pre_processing import *\n",
    "from helpers import *\n",
    "\n",
    "%load_ext autoreload\n",
    "%autoreload 2"
   ]
  },
  {
   "cell_type": "code",
   "execution_count": 158,
   "id": "73b464a7",
   "metadata": {},
   "outputs": [],
   "source": [
    "# Load data\n",
    "df = pd.read_csv('data/to_be_clustered.csv.gz', compression=\"gzip\")\n",
    "\n",
    "# array that can save the models\n",
    "saved_models = []"
   ]
  },
  {
   "cell_type": "code",
   "execution_count": 159,
   "id": "697aa981",
   "metadata": {},
   "outputs": [],
   "source": [
    "import pickle\n",
    "def save_model(model, params, message = \"\"):\n",
    "    saved_models.append((model, params, message))\n",
    "    \n",
    "def write_good_params():\n",
    "    pickle.dump(saved_models, open( \"data/saved_models/save_models_for_\"+country+\".pkl\", \"wb\" ))\n",
    "    \n",
    "def get_model(params, additional_stop_words =  []) :\n",
    "    embedding_model = SentenceTransformer(\"all-mpnet-base-v2\") #'digio/Twitter4SSE'\n",
    "    s = list(stopwords.words('english'))\n",
    "    vectorizer_model = CountVectorizer(stop_words=s)\n",
    "    \n",
    "    umap_model = UMAP(n_neighbors = params['UMAP']['n_neighbors'], \n",
    "                  n_components = params['UMAP']['n_components'], \n",
    "                  min_dist = params['UMAP']['min_dist'], \n",
    "                  metric = params['UMAP']['metric'], \n",
    "                  low_memory = params['UMAP']['low_memory'], \n",
    "                  random_state = params['UMAP']['random_state'])\n",
    "\n",
    "    hdbscan_model = HDBSCAN(min_cluster_size = params['HDBSCAN']['min_cluster_size'],\n",
    "                       min_samples = params['HDBSCAN']['min_samples'],\n",
    "                       cluster_selection_epsilon = params['HDBSCAN']['cluster_selection_epsilon'],\n",
    "                       metric = params['HDBSCAN']['metric'],                      \n",
    "                       cluster_selection_method = params['HDBSCAN']['cluster_selection_method'],\n",
    "                       prediction_data = params['HDBSCAN']['prediction_data'])\n",
    "\n",
    "    model = BERTopic(\n",
    "        umap_model = umap_model,\n",
    "        vectorizer_model=vectorizer_model,\n",
    "        hdbscan_model = hdbscan_model,\n",
    "        embedding_model=embedding_model,\n",
    "        language='english', calculate_probabilities=False,\n",
    "        verbose=True\n",
    "    )\n",
    "    return model"
   ]
  },
  {
   "cell_type": "markdown",
   "id": "7c2b7b73",
   "metadata": {},
   "source": [
    "## Chose the country"
   ]
  },
  {
   "cell_type": "code",
   "execution_count": 160,
   "id": "841d07a1",
   "metadata": {},
   "outputs": [],
   "source": [
    "country = 'France'"
   ]
  },
  {
   "cell_type": "markdown",
   "id": "0be33a93",
   "metadata": {},
   "source": [
    "## Set parameters"
   ]
  },
  {
   "cell_type": "code",
   "execution_count": 161,
   "id": "bca23a5a",
   "metadata": {},
   "outputs": [],
   "source": [
    "## Best params until now but cannot catch coronavirus\n",
    "params = {\n",
    "    'UMAP' : {\n",
    "        'metric' : 'cosine', \n",
    "        'n_neighbors' : 15, \n",
    "        'n_components' : 20, \n",
    "        'min_dist' : 0.3, \n",
    "        'low_memory' : False,\n",
    "        'random_state': 8\n",
    "    },\n",
    "    'HDBSCAN': {\n",
    "        'min_cluster_size':15,\n",
    "        'min_samples': 1,\n",
    "        'cluster_selection_epsilon': 0.6,\n",
    "        'metric': 'euclidean',                      \n",
    "        'cluster_selection_method': 'eom',\n",
    "        'prediction_data': True}\n",
    "}"
   ]
  },
  {
   "cell_type": "markdown",
   "id": "5052636e",
   "metadata": {},
   "source": [
    "## Load Model"
   ]
  },
  {
   "cell_type": "code",
   "execution_count": 162,
   "id": "f4f39e16",
   "metadata": {},
   "outputs": [],
   "source": [
    "df = df[df.whcs == country]\n",
    "df.drop(df[df.clean.isna()].index,inplace =True)\n",
    "tweets = df.clean.to_list()\n",
    "model = get_model(params, additional_stop_words= ['lol','true', 'amp'])"
   ]
  },
  {
   "cell_type": "code",
   "execution_count": 163,
   "id": "a13b76ce",
   "metadata": {},
   "outputs": [
    {
     "data": {
      "application/vnd.jupyter.widget-view+json": {
       "model_id": "0852c8281b8b41efb38843e60b7fa48a",
       "version_major": 2,
       "version_minor": 0
      },
      "text/plain": [
       "Batches:   0%|          | 0/29 [00:00<?, ?it/s]"
      ]
     },
     "metadata": {},
     "output_type": "display_data"
    },
    {
     "name": "stderr",
     "output_type": "stream",
     "text": [
      "2022-12-15 15:31:44,383 - BERTopic - Transformed documents to Embeddings\n",
      "2022-12-15 15:31:59,387 - BERTopic - Reduced dimensionality\n",
      "2022-12-15 15:31:59,717 - BERTopic - Clustered reduced embeddings\n"
     ]
    }
   ],
   "source": [
    "topics, probs = model.fit_transform(tweets)"
   ]
  },
  {
   "cell_type": "code",
   "execution_count": 164,
   "id": "8cab8d2c",
   "metadata": {},
   "outputs": [],
   "source": [
    "df['topics'] = topics\n",
    "my_topcis = ['white/black - racism', 'islam - terrorism', 'coronavirus - vaccination', \n",
    "          'american elections', 'India - Pakistan', 'jew - antisemtism', 'farright - anti communism'\n",
    "          'tweeter acccounts', 'fantasy sex play', 'Alain Soral', 'immigration', 'homophobia']"
   ]
  },
  {
   "cell_type": "code",
   "execution_count": 165,
   "id": "3395e615",
   "metadata": {},
   "outputs": [
    {
     "data": {
      "application/vnd.plotly.v1+json": {
       "config": {
        "plotlyServerURL": "https://plot.ly"
       },
       "data": [
        {
         "coloraxis": "coloraxis",
         "hovertemplate": "x: %{x}<br>y: %{y}<br>Similarity Score: %{z}<extra></extra>",
         "name": "0",
         "type": "heatmap",
         "x": [
          "0_white_people_black",
          "1_muslim_biden_migrant",
          "2_trump_cpac_democrat",
          "3_india_hindu_pakistan",
          "4_jew_anti_say",
          "5_twitter_follower_many",
          "6_play_sit_fantasy",
          "7_soral_alain_answer",
          "8_reset_great_cleaning",
          "9_communism_socialism_hitler"
         ],
         "xaxis": "x",
         "y": [
          "0_white_people_black",
          "1_muslim_biden_migrant",
          "2_trump_cpac_democrat",
          "3_india_hindu_pakistan",
          "4_jew_anti_say",
          "5_twitter_follower_many",
          "6_play_sit_fantasy",
          "7_soral_alain_answer",
          "8_reset_great_cleaning",
          "9_communism_socialism_hitler"
         ],
         "yaxis": "y",
         "z": [
          [
           0.9999999999999997,
           0.6510027527525742,
           0.7485927601497613,
           0.7044732601697764,
           0.5943753749198666,
           0.6254431828762625,
           0.6988520699318961,
           0.605353297088513,
           0.598660385382522,
           0.6631098543419987
          ],
          [
           0.6510027527525742,
           0.9999999999999998,
           0.64330060027382,
           0.5656919563415758,
           0.463981955319951,
           0.7450847840290199,
           0.560031221464257,
           0.493716878693219,
           0.492322388004082,
           0.5444018862701804
          ],
          [
           0.7485927601497613,
           0.64330060027382,
           1,
           0.7254623041601138,
           0.6708832814127033,
           0.7035065034566286,
           0.6387926667123999,
           0.514936631712922,
           0.610455823119318,
           0.6030493827682728
          ],
          [
           0.7044732601697764,
           0.5656919563415758,
           0.7254623041601138,
           1.0000000000000002,
           0.5842801224464816,
           0.5755211086303392,
           0.6493478864584602,
           0.5236565196038201,
           0.5383709449379671,
           0.6236468103944173
          ],
          [
           0.5943753749198666,
           0.463981955319951,
           0.6708832814127033,
           0.5842801224464816,
           1.0000000000000004,
           0.5164748038630417,
           0.553879558875473,
           0.43945556996600565,
           0.5318788081971438,
           0.4869384288941785
          ],
          [
           0.6254431828762625,
           0.7450847840290199,
           0.7035065034566286,
           0.5755211086303392,
           0.5164748038630417,
           0.9999999999999996,
           0.5633875767531843,
           0.4644046724052188,
           0.547364107733218,
           0.4787257752149341
          ],
          [
           0.6988520699318961,
           0.560031221464257,
           0.6387926667123999,
           0.6493478864584602,
           0.553879558875473,
           0.5633875767531843,
           1.0000000000000002,
           0.58996751603646,
           0.6004111757645184,
           0.6045096037459382
          ],
          [
           0.605353297088513,
           0.493716878693219,
           0.514936631712922,
           0.5236565196038201,
           0.43945556996600565,
           0.4644046724052188,
           0.58996751603646,
           1.0000000000000007,
           0.5489850413085305,
           0.5636903686217394
          ],
          [
           0.598660385382522,
           0.492322388004082,
           0.610455823119318,
           0.5383709449379671,
           0.5318788081971438,
           0.547364107733218,
           0.6004111757645184,
           0.5489850413085305,
           0.9999999999999991,
           0.5940904158530803
          ],
          [
           0.6631098543419987,
           0.5444018862701804,
           0.6030493827682728,
           0.6236468103944173,
           0.4869384288941785,
           0.4787257752149341,
           0.6045096037459382,
           0.5636903686217394,
           0.5940904158530803,
           1
          ]
         ]
        }
       ],
       "layout": {
        "coloraxis": {
         "colorbar": {
          "title": {
           "text": "Similarity Score"
          }
         },
         "colorscale": [
          [
           0,
           "rgb(247,252,240)"
          ],
          [
           0.125,
           "rgb(224,243,219)"
          ],
          [
           0.25,
           "rgb(204,235,197)"
          ],
          [
           0.375,
           "rgb(168,221,181)"
          ],
          [
           0.5,
           "rgb(123,204,196)"
          ],
          [
           0.625,
           "rgb(78,179,211)"
          ],
          [
           0.75,
           "rgb(43,140,190)"
          ],
          [
           0.875,
           "rgb(8,104,172)"
          ],
          [
           1,
           "rgb(8,64,129)"
          ]
         ]
        },
        "height": 800,
        "hoverlabel": {
         "bgcolor": "white",
         "font": {
          "family": "Rockwell",
          "size": 16
         }
        },
        "legend": {
         "title": {
          "text": "Trend"
         }
        },
        "margin": {
         "t": 60
        },
        "showlegend": true,
        "template": {
         "data": {
          "bar": [
           {
            "error_x": {
             "color": "#2a3f5f"
            },
            "error_y": {
             "color": "#2a3f5f"
            },
            "marker": {
             "line": {
              "color": "#E5ECF6",
              "width": 0.5
             },
             "pattern": {
              "fillmode": "overlay",
              "size": 10,
              "solidity": 0.2
             }
            },
            "type": "bar"
           }
          ],
          "barpolar": [
           {
            "marker": {
             "line": {
              "color": "#E5ECF6",
              "width": 0.5
             },
             "pattern": {
              "fillmode": "overlay",
              "size": 10,
              "solidity": 0.2
             }
            },
            "type": "barpolar"
           }
          ],
          "carpet": [
           {
            "aaxis": {
             "endlinecolor": "#2a3f5f",
             "gridcolor": "white",
             "linecolor": "white",
             "minorgridcolor": "white",
             "startlinecolor": "#2a3f5f"
            },
            "baxis": {
             "endlinecolor": "#2a3f5f",
             "gridcolor": "white",
             "linecolor": "white",
             "minorgridcolor": "white",
             "startlinecolor": "#2a3f5f"
            },
            "type": "carpet"
           }
          ],
          "choropleth": [
           {
            "colorbar": {
             "outlinewidth": 0,
             "ticks": ""
            },
            "type": "choropleth"
           }
          ],
          "contour": [
           {
            "colorbar": {
             "outlinewidth": 0,
             "ticks": ""
            },
            "colorscale": [
             [
              0,
              "#0d0887"
             ],
             [
              0.1111111111111111,
              "#46039f"
             ],
             [
              0.2222222222222222,
              "#7201a8"
             ],
             [
              0.3333333333333333,
              "#9c179e"
             ],
             [
              0.4444444444444444,
              "#bd3786"
             ],
             [
              0.5555555555555556,
              "#d8576b"
             ],
             [
              0.6666666666666666,
              "#ed7953"
             ],
             [
              0.7777777777777778,
              "#fb9f3a"
             ],
             [
              0.8888888888888888,
              "#fdca26"
             ],
             [
              1,
              "#f0f921"
             ]
            ],
            "type": "contour"
           }
          ],
          "contourcarpet": [
           {
            "colorbar": {
             "outlinewidth": 0,
             "ticks": ""
            },
            "type": "contourcarpet"
           }
          ],
          "heatmap": [
           {
            "colorbar": {
             "outlinewidth": 0,
             "ticks": ""
            },
            "colorscale": [
             [
              0,
              "#0d0887"
             ],
             [
              0.1111111111111111,
              "#46039f"
             ],
             [
              0.2222222222222222,
              "#7201a8"
             ],
             [
              0.3333333333333333,
              "#9c179e"
             ],
             [
              0.4444444444444444,
              "#bd3786"
             ],
             [
              0.5555555555555556,
              "#d8576b"
             ],
             [
              0.6666666666666666,
              "#ed7953"
             ],
             [
              0.7777777777777778,
              "#fb9f3a"
             ],
             [
              0.8888888888888888,
              "#fdca26"
             ],
             [
              1,
              "#f0f921"
             ]
            ],
            "type": "heatmap"
           }
          ],
          "heatmapgl": [
           {
            "colorbar": {
             "outlinewidth": 0,
             "ticks": ""
            },
            "colorscale": [
             [
              0,
              "#0d0887"
             ],
             [
              0.1111111111111111,
              "#46039f"
             ],
             [
              0.2222222222222222,
              "#7201a8"
             ],
             [
              0.3333333333333333,
              "#9c179e"
             ],
             [
              0.4444444444444444,
              "#bd3786"
             ],
             [
              0.5555555555555556,
              "#d8576b"
             ],
             [
              0.6666666666666666,
              "#ed7953"
             ],
             [
              0.7777777777777778,
              "#fb9f3a"
             ],
             [
              0.8888888888888888,
              "#fdca26"
             ],
             [
              1,
              "#f0f921"
             ]
            ],
            "type": "heatmapgl"
           }
          ],
          "histogram": [
           {
            "marker": {
             "pattern": {
              "fillmode": "overlay",
              "size": 10,
              "solidity": 0.2
             }
            },
            "type": "histogram"
           }
          ],
          "histogram2d": [
           {
            "colorbar": {
             "outlinewidth": 0,
             "ticks": ""
            },
            "colorscale": [
             [
              0,
              "#0d0887"
             ],
             [
              0.1111111111111111,
              "#46039f"
             ],
             [
              0.2222222222222222,
              "#7201a8"
             ],
             [
              0.3333333333333333,
              "#9c179e"
             ],
             [
              0.4444444444444444,
              "#bd3786"
             ],
             [
              0.5555555555555556,
              "#d8576b"
             ],
             [
              0.6666666666666666,
              "#ed7953"
             ],
             [
              0.7777777777777778,
              "#fb9f3a"
             ],
             [
              0.8888888888888888,
              "#fdca26"
             ],
             [
              1,
              "#f0f921"
             ]
            ],
            "type": "histogram2d"
           }
          ],
          "histogram2dcontour": [
           {
            "colorbar": {
             "outlinewidth": 0,
             "ticks": ""
            },
            "colorscale": [
             [
              0,
              "#0d0887"
             ],
             [
              0.1111111111111111,
              "#46039f"
             ],
             [
              0.2222222222222222,
              "#7201a8"
             ],
             [
              0.3333333333333333,
              "#9c179e"
             ],
             [
              0.4444444444444444,
              "#bd3786"
             ],
             [
              0.5555555555555556,
              "#d8576b"
             ],
             [
              0.6666666666666666,
              "#ed7953"
             ],
             [
              0.7777777777777778,
              "#fb9f3a"
             ],
             [
              0.8888888888888888,
              "#fdca26"
             ],
             [
              1,
              "#f0f921"
             ]
            ],
            "type": "histogram2dcontour"
           }
          ],
          "mesh3d": [
           {
            "colorbar": {
             "outlinewidth": 0,
             "ticks": ""
            },
            "type": "mesh3d"
           }
          ],
          "parcoords": [
           {
            "line": {
             "colorbar": {
              "outlinewidth": 0,
              "ticks": ""
             }
            },
            "type": "parcoords"
           }
          ],
          "pie": [
           {
            "automargin": true,
            "type": "pie"
           }
          ],
          "scatter": [
           {
            "fillpattern": {
             "fillmode": "overlay",
             "size": 10,
             "solidity": 0.2
            },
            "type": "scatter"
           }
          ],
          "scatter3d": [
           {
            "line": {
             "colorbar": {
              "outlinewidth": 0,
              "ticks": ""
             }
            },
            "marker": {
             "colorbar": {
              "outlinewidth": 0,
              "ticks": ""
             }
            },
            "type": "scatter3d"
           }
          ],
          "scattercarpet": [
           {
            "marker": {
             "colorbar": {
              "outlinewidth": 0,
              "ticks": ""
             }
            },
            "type": "scattercarpet"
           }
          ],
          "scattergeo": [
           {
            "marker": {
             "colorbar": {
              "outlinewidth": 0,
              "ticks": ""
             }
            },
            "type": "scattergeo"
           }
          ],
          "scattergl": [
           {
            "marker": {
             "colorbar": {
              "outlinewidth": 0,
              "ticks": ""
             }
            },
            "type": "scattergl"
           }
          ],
          "scattermapbox": [
           {
            "marker": {
             "colorbar": {
              "outlinewidth": 0,
              "ticks": ""
             }
            },
            "type": "scattermapbox"
           }
          ],
          "scatterpolar": [
           {
            "marker": {
             "colorbar": {
              "outlinewidth": 0,
              "ticks": ""
             }
            },
            "type": "scatterpolar"
           }
          ],
          "scatterpolargl": [
           {
            "marker": {
             "colorbar": {
              "outlinewidth": 0,
              "ticks": ""
             }
            },
            "type": "scatterpolargl"
           }
          ],
          "scatterternary": [
           {
            "marker": {
             "colorbar": {
              "outlinewidth": 0,
              "ticks": ""
             }
            },
            "type": "scatterternary"
           }
          ],
          "surface": [
           {
            "colorbar": {
             "outlinewidth": 0,
             "ticks": ""
            },
            "colorscale": [
             [
              0,
              "#0d0887"
             ],
             [
              0.1111111111111111,
              "#46039f"
             ],
             [
              0.2222222222222222,
              "#7201a8"
             ],
             [
              0.3333333333333333,
              "#9c179e"
             ],
             [
              0.4444444444444444,
              "#bd3786"
             ],
             [
              0.5555555555555556,
              "#d8576b"
             ],
             [
              0.6666666666666666,
              "#ed7953"
             ],
             [
              0.7777777777777778,
              "#fb9f3a"
             ],
             [
              0.8888888888888888,
              "#fdca26"
             ],
             [
              1,
              "#f0f921"
             ]
            ],
            "type": "surface"
           }
          ],
          "table": [
           {
            "cells": {
             "fill": {
              "color": "#EBF0F8"
             },
             "line": {
              "color": "white"
             }
            },
            "header": {
             "fill": {
              "color": "#C8D4E3"
             },
             "line": {
              "color": "white"
             }
            },
            "type": "table"
           }
          ]
         },
         "layout": {
          "annotationdefaults": {
           "arrowcolor": "#2a3f5f",
           "arrowhead": 0,
           "arrowwidth": 1
          },
          "autotypenumbers": "strict",
          "coloraxis": {
           "colorbar": {
            "outlinewidth": 0,
            "ticks": ""
           }
          },
          "colorscale": {
           "diverging": [
            [
             0,
             "#8e0152"
            ],
            [
             0.1,
             "#c51b7d"
            ],
            [
             0.2,
             "#de77ae"
            ],
            [
             0.3,
             "#f1b6da"
            ],
            [
             0.4,
             "#fde0ef"
            ],
            [
             0.5,
             "#f7f7f7"
            ],
            [
             0.6,
             "#e6f5d0"
            ],
            [
             0.7,
             "#b8e186"
            ],
            [
             0.8,
             "#7fbc41"
            ],
            [
             0.9,
             "#4d9221"
            ],
            [
             1,
             "#276419"
            ]
           ],
           "sequential": [
            [
             0,
             "#0d0887"
            ],
            [
             0.1111111111111111,
             "#46039f"
            ],
            [
             0.2222222222222222,
             "#7201a8"
            ],
            [
             0.3333333333333333,
             "#9c179e"
            ],
            [
             0.4444444444444444,
             "#bd3786"
            ],
            [
             0.5555555555555556,
             "#d8576b"
            ],
            [
             0.6666666666666666,
             "#ed7953"
            ],
            [
             0.7777777777777778,
             "#fb9f3a"
            ],
            [
             0.8888888888888888,
             "#fdca26"
            ],
            [
             1,
             "#f0f921"
            ]
           ],
           "sequentialminus": [
            [
             0,
             "#0d0887"
            ],
            [
             0.1111111111111111,
             "#46039f"
            ],
            [
             0.2222222222222222,
             "#7201a8"
            ],
            [
             0.3333333333333333,
             "#9c179e"
            ],
            [
             0.4444444444444444,
             "#bd3786"
            ],
            [
             0.5555555555555556,
             "#d8576b"
            ],
            [
             0.6666666666666666,
             "#ed7953"
            ],
            [
             0.7777777777777778,
             "#fb9f3a"
            ],
            [
             0.8888888888888888,
             "#fdca26"
            ],
            [
             1,
             "#f0f921"
            ]
           ]
          },
          "colorway": [
           "#636efa",
           "#EF553B",
           "#00cc96",
           "#ab63fa",
           "#FFA15A",
           "#19d3f3",
           "#FF6692",
           "#B6E880",
           "#FF97FF",
           "#FECB52"
          ],
          "font": {
           "color": "#2a3f5f"
          },
          "geo": {
           "bgcolor": "white",
           "lakecolor": "white",
           "landcolor": "#E5ECF6",
           "showlakes": true,
           "showland": true,
           "subunitcolor": "white"
          },
          "hoverlabel": {
           "align": "left"
          },
          "hovermode": "closest",
          "mapbox": {
           "style": "light"
          },
          "paper_bgcolor": "white",
          "plot_bgcolor": "#E5ECF6",
          "polar": {
           "angularaxis": {
            "gridcolor": "white",
            "linecolor": "white",
            "ticks": ""
           },
           "bgcolor": "#E5ECF6",
           "radialaxis": {
            "gridcolor": "white",
            "linecolor": "white",
            "ticks": ""
           }
          },
          "scene": {
           "xaxis": {
            "backgroundcolor": "#E5ECF6",
            "gridcolor": "white",
            "gridwidth": 2,
            "linecolor": "white",
            "showbackground": true,
            "ticks": "",
            "zerolinecolor": "white"
           },
           "yaxis": {
            "backgroundcolor": "#E5ECF6",
            "gridcolor": "white",
            "gridwidth": 2,
            "linecolor": "white",
            "showbackground": true,
            "ticks": "",
            "zerolinecolor": "white"
           },
           "zaxis": {
            "backgroundcolor": "#E5ECF6",
            "gridcolor": "white",
            "gridwidth": 2,
            "linecolor": "white",
            "showbackground": true,
            "ticks": "",
            "zerolinecolor": "white"
           }
          },
          "shapedefaults": {
           "line": {
            "color": "#2a3f5f"
           }
          },
          "ternary": {
           "aaxis": {
            "gridcolor": "white",
            "linecolor": "white",
            "ticks": ""
           },
           "baxis": {
            "gridcolor": "white",
            "linecolor": "white",
            "ticks": ""
           },
           "bgcolor": "#E5ECF6",
           "caxis": {
            "gridcolor": "white",
            "linecolor": "white",
            "ticks": ""
           }
          },
          "title": {
           "x": 0.05
          },
          "xaxis": {
           "automargin": true,
           "gridcolor": "white",
           "linecolor": "white",
           "ticks": "",
           "title": {
            "standoff": 15
           },
           "zerolinecolor": "white",
           "zerolinewidth": 2
          },
          "yaxis": {
           "automargin": true,
           "gridcolor": "white",
           "linecolor": "white",
           "ticks": "",
           "title": {
            "standoff": 15
           },
           "zerolinecolor": "white",
           "zerolinewidth": 2
          }
         }
        },
        "title": {
         "font": {
          "color": "Black",
          "size": 22
         },
         "text": "<b>Similarity Matrix",
         "x": 0.55,
         "xanchor": "center",
         "y": 0.95,
         "yanchor": "top"
        },
        "width": 800,
        "xaxis": {
         "anchor": "y",
         "constrain": "domain",
         "domain": [
          0,
          1
         ],
         "scaleanchor": "y"
        },
        "yaxis": {
         "anchor": "x",
         "autorange": "reversed",
         "constrain": "domain",
         "domain": [
          0,
          1
         ]
        }
       }
      },
      "text/html": [
       "<div>                            <div id=\"b6098ed4-3677-4aa0-a45f-2a7e7549742c\" class=\"plotly-graph-div\" style=\"height:800px; width:800px;\"></div>            <script type=\"text/javascript\">                require([\"plotly\"], function(Plotly) {                    window.PLOTLYENV=window.PLOTLYENV || {};                                    if (document.getElementById(\"b6098ed4-3677-4aa0-a45f-2a7e7549742c\")) {                    Plotly.newPlot(                        \"b6098ed4-3677-4aa0-a45f-2a7e7549742c\",                        [{\"coloraxis\":\"coloraxis\",\"name\":\"0\",\"x\":[\"0_white_people_black\",\"1_muslim_biden_migrant\",\"2_trump_cpac_democrat\",\"3_india_hindu_pakistan\",\"4_jew_anti_say\",\"5_twitter_follower_many\",\"6_play_sit_fantasy\",\"7_soral_alain_answer\",\"8_reset_great_cleaning\",\"9_communism_socialism_hitler\"],\"y\":[\"0_white_people_black\",\"1_muslim_biden_migrant\",\"2_trump_cpac_democrat\",\"3_india_hindu_pakistan\",\"4_jew_anti_say\",\"5_twitter_follower_many\",\"6_play_sit_fantasy\",\"7_soral_alain_answer\",\"8_reset_great_cleaning\",\"9_communism_socialism_hitler\"],\"z\":[[0.9999999999999997,0.6510027527525742,0.7485927601497613,0.7044732601697764,0.5943753749198666,0.6254431828762625,0.6988520699318961,0.605353297088513,0.598660385382522,0.6631098543419987],[0.6510027527525742,0.9999999999999998,0.64330060027382,0.5656919563415758,0.463981955319951,0.7450847840290199,0.560031221464257,0.493716878693219,0.492322388004082,0.5444018862701804],[0.7485927601497613,0.64330060027382,1.0,0.7254623041601138,0.6708832814127033,0.7035065034566286,0.6387926667123999,0.514936631712922,0.610455823119318,0.6030493827682728],[0.7044732601697764,0.5656919563415758,0.7254623041601138,1.0000000000000002,0.5842801224464816,0.5755211086303392,0.6493478864584602,0.5236565196038201,0.5383709449379671,0.6236468103944173],[0.5943753749198666,0.463981955319951,0.6708832814127033,0.5842801224464816,1.0000000000000004,0.5164748038630417,0.553879558875473,0.43945556996600565,0.5318788081971438,0.4869384288941785],[0.6254431828762625,0.7450847840290199,0.7035065034566286,0.5755211086303392,0.5164748038630417,0.9999999999999996,0.5633875767531843,0.4644046724052188,0.547364107733218,0.4787257752149341],[0.6988520699318961,0.560031221464257,0.6387926667123999,0.6493478864584602,0.553879558875473,0.5633875767531843,1.0000000000000002,0.58996751603646,0.6004111757645184,0.6045096037459382],[0.605353297088513,0.493716878693219,0.514936631712922,0.5236565196038201,0.43945556996600565,0.4644046724052188,0.58996751603646,1.0000000000000007,0.5489850413085305,0.5636903686217394],[0.598660385382522,0.492322388004082,0.610455823119318,0.5383709449379671,0.5318788081971438,0.547364107733218,0.6004111757645184,0.5489850413085305,0.9999999999999991,0.5940904158530803],[0.6631098543419987,0.5444018862701804,0.6030493827682728,0.6236468103944173,0.4869384288941785,0.4787257752149341,0.6045096037459382,0.5636903686217394,0.5940904158530803,1.0]],\"type\":\"heatmap\",\"xaxis\":\"x\",\"yaxis\":\"y\",\"hovertemplate\":\"x: %{x}<br>y: %{y}<br>Similarity Score: %{z}<extra></extra>\"}],                        {\"template\":{\"data\":{\"histogram2dcontour\":[{\"type\":\"histogram2dcontour\",\"colorbar\":{\"outlinewidth\":0,\"ticks\":\"\"},\"colorscale\":[[0.0,\"#0d0887\"],[0.1111111111111111,\"#46039f\"],[0.2222222222222222,\"#7201a8\"],[0.3333333333333333,\"#9c179e\"],[0.4444444444444444,\"#bd3786\"],[0.5555555555555556,\"#d8576b\"],[0.6666666666666666,\"#ed7953\"],[0.7777777777777778,\"#fb9f3a\"],[0.8888888888888888,\"#fdca26\"],[1.0,\"#f0f921\"]]}],\"choropleth\":[{\"type\":\"choropleth\",\"colorbar\":{\"outlinewidth\":0,\"ticks\":\"\"}}],\"histogram2d\":[{\"type\":\"histogram2d\",\"colorbar\":{\"outlinewidth\":0,\"ticks\":\"\"},\"colorscale\":[[0.0,\"#0d0887\"],[0.1111111111111111,\"#46039f\"],[0.2222222222222222,\"#7201a8\"],[0.3333333333333333,\"#9c179e\"],[0.4444444444444444,\"#bd3786\"],[0.5555555555555556,\"#d8576b\"],[0.6666666666666666,\"#ed7953\"],[0.7777777777777778,\"#fb9f3a\"],[0.8888888888888888,\"#fdca26\"],[1.0,\"#f0f921\"]]}],\"heatmap\":[{\"type\":\"heatmap\",\"colorbar\":{\"outlinewidth\":0,\"ticks\":\"\"},\"colorscale\":[[0.0,\"#0d0887\"],[0.1111111111111111,\"#46039f\"],[0.2222222222222222,\"#7201a8\"],[0.3333333333333333,\"#9c179e\"],[0.4444444444444444,\"#bd3786\"],[0.5555555555555556,\"#d8576b\"],[0.6666666666666666,\"#ed7953\"],[0.7777777777777778,\"#fb9f3a\"],[0.8888888888888888,\"#fdca26\"],[1.0,\"#f0f921\"]]}],\"heatmapgl\":[{\"type\":\"heatmapgl\",\"colorbar\":{\"outlinewidth\":0,\"ticks\":\"\"},\"colorscale\":[[0.0,\"#0d0887\"],[0.1111111111111111,\"#46039f\"],[0.2222222222222222,\"#7201a8\"],[0.3333333333333333,\"#9c179e\"],[0.4444444444444444,\"#bd3786\"],[0.5555555555555556,\"#d8576b\"],[0.6666666666666666,\"#ed7953\"],[0.7777777777777778,\"#fb9f3a\"],[0.8888888888888888,\"#fdca26\"],[1.0,\"#f0f921\"]]}],\"contourcarpet\":[{\"type\":\"contourcarpet\",\"colorbar\":{\"outlinewidth\":0,\"ticks\":\"\"}}],\"contour\":[{\"type\":\"contour\",\"colorbar\":{\"outlinewidth\":0,\"ticks\":\"\"},\"colorscale\":[[0.0,\"#0d0887\"],[0.1111111111111111,\"#46039f\"],[0.2222222222222222,\"#7201a8\"],[0.3333333333333333,\"#9c179e\"],[0.4444444444444444,\"#bd3786\"],[0.5555555555555556,\"#d8576b\"],[0.6666666666666666,\"#ed7953\"],[0.7777777777777778,\"#fb9f3a\"],[0.8888888888888888,\"#fdca26\"],[1.0,\"#f0f921\"]]}],\"surface\":[{\"type\":\"surface\",\"colorbar\":{\"outlinewidth\":0,\"ticks\":\"\"},\"colorscale\":[[0.0,\"#0d0887\"],[0.1111111111111111,\"#46039f\"],[0.2222222222222222,\"#7201a8\"],[0.3333333333333333,\"#9c179e\"],[0.4444444444444444,\"#bd3786\"],[0.5555555555555556,\"#d8576b\"],[0.6666666666666666,\"#ed7953\"],[0.7777777777777778,\"#fb9f3a\"],[0.8888888888888888,\"#fdca26\"],[1.0,\"#f0f921\"]]}],\"mesh3d\":[{\"type\":\"mesh3d\",\"colorbar\":{\"outlinewidth\":0,\"ticks\":\"\"}}],\"scatter\":[{\"fillpattern\":{\"fillmode\":\"overlay\",\"size\":10,\"solidity\":0.2},\"type\":\"scatter\"}],\"parcoords\":[{\"type\":\"parcoords\",\"line\":{\"colorbar\":{\"outlinewidth\":0,\"ticks\":\"\"}}}],\"scatterpolargl\":[{\"type\":\"scatterpolargl\",\"marker\":{\"colorbar\":{\"outlinewidth\":0,\"ticks\":\"\"}}}],\"bar\":[{\"error_x\":{\"color\":\"#2a3f5f\"},\"error_y\":{\"color\":\"#2a3f5f\"},\"marker\":{\"line\":{\"color\":\"#E5ECF6\",\"width\":0.5},\"pattern\":{\"fillmode\":\"overlay\",\"size\":10,\"solidity\":0.2}},\"type\":\"bar\"}],\"scattergeo\":[{\"type\":\"scattergeo\",\"marker\":{\"colorbar\":{\"outlinewidth\":0,\"ticks\":\"\"}}}],\"scatterpolar\":[{\"type\":\"scatterpolar\",\"marker\":{\"colorbar\":{\"outlinewidth\":0,\"ticks\":\"\"}}}],\"histogram\":[{\"marker\":{\"pattern\":{\"fillmode\":\"overlay\",\"size\":10,\"solidity\":0.2}},\"type\":\"histogram\"}],\"scattergl\":[{\"type\":\"scattergl\",\"marker\":{\"colorbar\":{\"outlinewidth\":0,\"ticks\":\"\"}}}],\"scatter3d\":[{\"type\":\"scatter3d\",\"line\":{\"colorbar\":{\"outlinewidth\":0,\"ticks\":\"\"}},\"marker\":{\"colorbar\":{\"outlinewidth\":0,\"ticks\":\"\"}}}],\"scattermapbox\":[{\"type\":\"scattermapbox\",\"marker\":{\"colorbar\":{\"outlinewidth\":0,\"ticks\":\"\"}}}],\"scatterternary\":[{\"type\":\"scatterternary\",\"marker\":{\"colorbar\":{\"outlinewidth\":0,\"ticks\":\"\"}}}],\"scattercarpet\":[{\"type\":\"scattercarpet\",\"marker\":{\"colorbar\":{\"outlinewidth\":0,\"ticks\":\"\"}}}],\"carpet\":[{\"aaxis\":{\"endlinecolor\":\"#2a3f5f\",\"gridcolor\":\"white\",\"linecolor\":\"white\",\"minorgridcolor\":\"white\",\"startlinecolor\":\"#2a3f5f\"},\"baxis\":{\"endlinecolor\":\"#2a3f5f\",\"gridcolor\":\"white\",\"linecolor\":\"white\",\"minorgridcolor\":\"white\",\"startlinecolor\":\"#2a3f5f\"},\"type\":\"carpet\"}],\"table\":[{\"cells\":{\"fill\":{\"color\":\"#EBF0F8\"},\"line\":{\"color\":\"white\"}},\"header\":{\"fill\":{\"color\":\"#C8D4E3\"},\"line\":{\"color\":\"white\"}},\"type\":\"table\"}],\"barpolar\":[{\"marker\":{\"line\":{\"color\":\"#E5ECF6\",\"width\":0.5},\"pattern\":{\"fillmode\":\"overlay\",\"size\":10,\"solidity\":0.2}},\"type\":\"barpolar\"}],\"pie\":[{\"automargin\":true,\"type\":\"pie\"}]},\"layout\":{\"autotypenumbers\":\"strict\",\"colorway\":[\"#636efa\",\"#EF553B\",\"#00cc96\",\"#ab63fa\",\"#FFA15A\",\"#19d3f3\",\"#FF6692\",\"#B6E880\",\"#FF97FF\",\"#FECB52\"],\"font\":{\"color\":\"#2a3f5f\"},\"hovermode\":\"closest\",\"hoverlabel\":{\"align\":\"left\"},\"paper_bgcolor\":\"white\",\"plot_bgcolor\":\"#E5ECF6\",\"polar\":{\"bgcolor\":\"#E5ECF6\",\"angularaxis\":{\"gridcolor\":\"white\",\"linecolor\":\"white\",\"ticks\":\"\"},\"radialaxis\":{\"gridcolor\":\"white\",\"linecolor\":\"white\",\"ticks\":\"\"}},\"ternary\":{\"bgcolor\":\"#E5ECF6\",\"aaxis\":{\"gridcolor\":\"white\",\"linecolor\":\"white\",\"ticks\":\"\"},\"baxis\":{\"gridcolor\":\"white\",\"linecolor\":\"white\",\"ticks\":\"\"},\"caxis\":{\"gridcolor\":\"white\",\"linecolor\":\"white\",\"ticks\":\"\"}},\"coloraxis\":{\"colorbar\":{\"outlinewidth\":0,\"ticks\":\"\"}},\"colorscale\":{\"sequential\":[[0.0,\"#0d0887\"],[0.1111111111111111,\"#46039f\"],[0.2222222222222222,\"#7201a8\"],[0.3333333333333333,\"#9c179e\"],[0.4444444444444444,\"#bd3786\"],[0.5555555555555556,\"#d8576b\"],[0.6666666666666666,\"#ed7953\"],[0.7777777777777778,\"#fb9f3a\"],[0.8888888888888888,\"#fdca26\"],[1.0,\"#f0f921\"]],\"sequentialminus\":[[0.0,\"#0d0887\"],[0.1111111111111111,\"#46039f\"],[0.2222222222222222,\"#7201a8\"],[0.3333333333333333,\"#9c179e\"],[0.4444444444444444,\"#bd3786\"],[0.5555555555555556,\"#d8576b\"],[0.6666666666666666,\"#ed7953\"],[0.7777777777777778,\"#fb9f3a\"],[0.8888888888888888,\"#fdca26\"],[1.0,\"#f0f921\"]],\"diverging\":[[0,\"#8e0152\"],[0.1,\"#c51b7d\"],[0.2,\"#de77ae\"],[0.3,\"#f1b6da\"],[0.4,\"#fde0ef\"],[0.5,\"#f7f7f7\"],[0.6,\"#e6f5d0\"],[0.7,\"#b8e186\"],[0.8,\"#7fbc41\"],[0.9,\"#4d9221\"],[1,\"#276419\"]]},\"xaxis\":{\"gridcolor\":\"white\",\"linecolor\":\"white\",\"ticks\":\"\",\"title\":{\"standoff\":15},\"zerolinecolor\":\"white\",\"automargin\":true,\"zerolinewidth\":2},\"yaxis\":{\"gridcolor\":\"white\",\"linecolor\":\"white\",\"ticks\":\"\",\"title\":{\"standoff\":15},\"zerolinecolor\":\"white\",\"automargin\":true,\"zerolinewidth\":2},\"scene\":{\"xaxis\":{\"backgroundcolor\":\"#E5ECF6\",\"gridcolor\":\"white\",\"linecolor\":\"white\",\"showbackground\":true,\"ticks\":\"\",\"zerolinecolor\":\"white\",\"gridwidth\":2},\"yaxis\":{\"backgroundcolor\":\"#E5ECF6\",\"gridcolor\":\"white\",\"linecolor\":\"white\",\"showbackground\":true,\"ticks\":\"\",\"zerolinecolor\":\"white\",\"gridwidth\":2},\"zaxis\":{\"backgroundcolor\":\"#E5ECF6\",\"gridcolor\":\"white\",\"linecolor\":\"white\",\"showbackground\":true,\"ticks\":\"\",\"zerolinecolor\":\"white\",\"gridwidth\":2}},\"shapedefaults\":{\"line\":{\"color\":\"#2a3f5f\"}},\"annotationdefaults\":{\"arrowcolor\":\"#2a3f5f\",\"arrowhead\":0,\"arrowwidth\":1},\"geo\":{\"bgcolor\":\"white\",\"landcolor\":\"#E5ECF6\",\"subunitcolor\":\"white\",\"showland\":true,\"showlakes\":true,\"lakecolor\":\"white\"},\"title\":{\"x\":0.05},\"mapbox\":{\"style\":\"light\"}}},\"xaxis\":{\"anchor\":\"y\",\"domain\":[0.0,1.0],\"scaleanchor\":\"y\",\"constrain\":\"domain\"},\"yaxis\":{\"anchor\":\"x\",\"domain\":[0.0,1.0],\"autorange\":\"reversed\",\"constrain\":\"domain\"},\"coloraxis\":{\"colorbar\":{\"title\":{\"text\":\"Similarity Score\"}},\"colorscale\":[[0.0,\"rgb(247,252,240)\"],[0.125,\"rgb(224,243,219)\"],[0.25,\"rgb(204,235,197)\"],[0.375,\"rgb(168,221,181)\"],[0.5,\"rgb(123,204,196)\"],[0.625,\"rgb(78,179,211)\"],[0.75,\"rgb(43,140,190)\"],[0.875,\"rgb(8,104,172)\"],[1.0,\"rgb(8,64,129)\"]]},\"margin\":{\"t\":60},\"title\":{\"font\":{\"size\":22,\"color\":\"Black\"},\"text\":\"<b>Similarity Matrix\",\"y\":0.95,\"x\":0.55,\"xanchor\":\"center\",\"yanchor\":\"top\"},\"hoverlabel\":{\"font\":{\"size\":16,\"family\":\"Rockwell\"},\"bgcolor\":\"white\"},\"width\":800,\"height\":800,\"showlegend\":true,\"legend\":{\"title\":{\"text\":\"Trend\"}}},                        {\"responsive\": true}                    ).then(function(){\n",
       "                            \n",
       "var gd = document.getElementById('b6098ed4-3677-4aa0-a45f-2a7e7549742c');\n",
       "var x = new MutationObserver(function (mutations, observer) {{\n",
       "        var display = window.getComputedStyle(gd).display;\n",
       "        if (!display || display === 'none') {{\n",
       "            console.log([gd, 'removed!']);\n",
       "            Plotly.purge(gd);\n",
       "            observer.disconnect();\n",
       "        }}\n",
       "}});\n",
       "\n",
       "// Listen for the removal of the full notebook cells\n",
       "var notebookContainer = gd.closest('#notebook-container');\n",
       "if (notebookContainer) {{\n",
       "    x.observe(notebookContainer, {childList: true});\n",
       "}}\n",
       "\n",
       "// Listen for the clearing of the current output cell\n",
       "var outputEl = gd.closest('.output');\n",
       "if (outputEl) {{\n",
       "    x.observe(outputEl, {childList: true});\n",
       "}}\n",
       "\n",
       "                        })                };                });            </script>        </div>"
      ]
     },
     "metadata": {},
     "output_type": "display_data"
    }
   ],
   "source": [
    "model.visualize_heatmap()"
   ]
  },
  {
   "cell_type": "code",
   "execution_count": 166,
   "id": "e4507ce6",
   "metadata": {},
   "outputs": [
    {
     "data": {
      "text/html": [
       "<div>\n",
       "<style scoped>\n",
       "    .dataframe tbody tr th:only-of-type {\n",
       "        vertical-align: middle;\n",
       "    }\n",
       "\n",
       "    .dataframe tbody tr th {\n",
       "        vertical-align: top;\n",
       "    }\n",
       "\n",
       "    .dataframe thead th {\n",
       "        text-align: right;\n",
       "    }\n",
       "</style>\n",
       "<table border=\"1\" class=\"dataframe\">\n",
       "  <thead>\n",
       "    <tr style=\"text-align: right;\">\n",
       "      <th></th>\n",
       "      <th>Topic</th>\n",
       "      <th>Count</th>\n",
       "      <th>Name</th>\n",
       "    </tr>\n",
       "  </thead>\n",
       "  <tbody>\n",
       "    <tr>\n",
       "      <th>0</th>\n",
       "      <td>-1</td>\n",
       "      <td>207</td>\n",
       "      <td>-1_people_want_america_amp</td>\n",
       "    </tr>\n",
       "    <tr>\n",
       "      <th>1</th>\n",
       "      <td>0</td>\n",
       "      <td>292</td>\n",
       "      <td>0_white_people_black_nigga</td>\n",
       "    </tr>\n",
       "    <tr>\n",
       "      <th>2</th>\n",
       "      <td>1</td>\n",
       "      <td>166</td>\n",
       "      <td>1_muslim_biden_migrant_amp</td>\n",
       "    </tr>\n",
       "    <tr>\n",
       "      <th>3</th>\n",
       "      <td>2</td>\n",
       "      <td>61</td>\n",
       "      <td>2_trump_cpac_democrat_president</td>\n",
       "    </tr>\n",
       "    <tr>\n",
       "      <th>4</th>\n",
       "      <td>3</td>\n",
       "      <td>42</td>\n",
       "      <td>3_india_hindu_pakistan_modi</td>\n",
       "    </tr>\n",
       "    <tr>\n",
       "      <th>5</th>\n",
       "      <td>4</td>\n",
       "      <td>31</td>\n",
       "      <td>4_jew_anti_say_semitism</td>\n",
       "    </tr>\n",
       "    <tr>\n",
       "      <th>6</th>\n",
       "      <td>5</td>\n",
       "      <td>24</td>\n",
       "      <td>5_twitter_follower_many_account</td>\n",
       "    </tr>\n",
       "    <tr>\n",
       "      <th>7</th>\n",
       "      <td>6</td>\n",
       "      <td>22</td>\n",
       "      <td>6_play_sit_fantasy_day</td>\n",
       "    </tr>\n",
       "    <tr>\n",
       "      <th>8</th>\n",
       "      <td>7</td>\n",
       "      <td>22</td>\n",
       "      <td>7_soral_alain_answer_episode</td>\n",
       "    </tr>\n",
       "    <tr>\n",
       "      <th>9</th>\n",
       "      <td>8</td>\n",
       "      <td>17</td>\n",
       "      <td>8_reset_great_cleaning_lockdown</td>\n",
       "    </tr>\n",
       "    <tr>\n",
       "      <th>10</th>\n",
       "      <td>9</td>\n",
       "      <td>16</td>\n",
       "      <td>9_communism_socialism_hitler_national</td>\n",
       "    </tr>\n",
       "  </tbody>\n",
       "</table>\n",
       "</div>"
      ],
      "text/plain": [
       "    Topic  Count                                   Name\n",
       "0      -1    207             -1_people_want_america_amp\n",
       "1       0    292             0_white_people_black_nigga\n",
       "2       1    166             1_muslim_biden_migrant_amp\n",
       "3       2     61        2_trump_cpac_democrat_president\n",
       "4       3     42            3_india_hindu_pakistan_modi\n",
       "5       4     31                4_jew_anti_say_semitism\n",
       "6       5     24        5_twitter_follower_many_account\n",
       "7       6     22                 6_play_sit_fantasy_day\n",
       "8       7     22           7_soral_alain_answer_episode\n",
       "9       8     17        8_reset_great_cleaning_lockdown\n",
       "10      9     16  9_communism_socialism_hitler_national"
      ]
     },
     "execution_count": 166,
     "metadata": {},
     "output_type": "execute_result"
    }
   ],
   "source": [
    "model.get_topic_info()"
   ]
  },
  {
   "cell_type": "code",
   "execution_count": 167,
   "id": "f921536e",
   "metadata": {},
   "outputs": [
    {
     "data": {
      "text/plain": [
       "{-1: [('people', 0.0257345512272812),\n",
       "  ('want', 0.02268441495277331),\n",
       "  ('america', 0.020353168646884186),\n",
       "  ('amp', 0.018462523593228673),\n",
       "  ('government', 0.018085438793691132),\n",
       "  ('go', 0.018014771074271855),\n",
       "  ('get', 0.01772035416938935),\n",
       "  ('attack', 0.01728125529290298),\n",
       "  ('mr', 0.01704868360727458),\n",
       "  ('gun', 0.01704868360727458)],\n",
       " 0: [('white', 0.10759500818477581),\n",
       "  ('people', 0.0608939013094943),\n",
       "  ('black', 0.045279520246625744),\n",
       "  ('nigga', 0.02265284131853321),\n",
       "  ('really', 0.02217414391669522),\n",
       "  ('racist', 0.021522313686534057),\n",
       "  ('like', 0.021062578982979217),\n",
       "  ('literally', 0.02019067271439289),\n",
       "  ('racism', 0.02019067271439289),\n",
       "  ('say', 0.020124231220722554)],\n",
       " 1: [('muslim', 0.04873762386510598),\n",
       "  ('biden', 0.040642116458368856),\n",
       "  ('migrant', 0.03408951517120118),\n",
       "  ('amp', 0.03147826659974266),\n",
       "  ('islamic', 0.026575855012353437),\n",
       "  ('attack', 0.025714233297801214),\n",
       "  ('border', 0.025446362967878725),\n",
       "  ('germany', 0.025446362967878725),\n",
       "  ('break', 0.02503812361844553),\n",
       "  ('sweden', 0.024795335839482003)],\n",
       " 2: [('trump', 0.10645930645588678),\n",
       "  ('cpac', 0.09143156528621049),\n",
       "  ('democrat', 0.05224660873497743),\n",
       "  ('president', 0.047443627126088114),\n",
       "  ('georgia', 0.04457726998104972),\n",
       "  ('one', 0.04134844394851569),\n",
       "  ('party', 0.040665966108075526),\n",
       "  ('show', 0.039184956551233066),\n",
       "  ('ballot', 0.03419968856395281),\n",
       "  ('watch', 0.033888305090062944)],\n",
       " 3: [('india', 0.07994721311448985),\n",
       "  ('hindu', 0.05915082492765125),\n",
       "  ('pakistan', 0.049408491242981224),\n",
       "  ('modi', 0.047320659942121),\n",
       "  ('friend', 0.04561701948177379),\n",
       "  ('shri', 0.03907779578254289),\n",
       "  ('delhi', 0.03907779578254289),\n",
       "  ('year', 0.037374004780013806),\n",
       "  ('ji', 0.03705636843223593),\n",
       "  ('let', 0.03542381893917227)],\n",
       " 4: [('jew', 0.23020977202098847),\n",
       "  ('anti', 0.1276149472400287),\n",
       "  ('say', 0.12675019825309933),\n",
       "  ('semitism', 0.10423243698792399),\n",
       "  ('zionism', 0.07526383074647679),\n",
       "  ('semitic', 0.07526383074647679),\n",
       "  ('white', 0.07426575465515681),\n",
       "  ('story', 0.06540129932703592),\n",
       "  ('people', 0.06219459928864217),\n",
       "  ('holocaust', 0.059527108270898674)],\n",
       " 5: [('twitter', 0.15112921368895893),\n",
       "  ('follower', 0.13823456448668958),\n",
       "  ('many', 0.13271347333749062),\n",
       "  ('account', 0.11275856208191239),\n",
       "  ('lose', 0.0718963775219945),\n",
       "  ('channel', 0.06817730122813968),\n",
       "  ('view', 0.06817730122813968),\n",
       "  ('thousand', 0.06529636517987476),\n",
       "  ('write', 0.057730678234169316),\n",
       "  ('year', 0.05500935768486881)],\n",
       " 6: [('play', 0.5883740759932072),\n",
       "  ('sit', 0.10607448665572199),\n",
       "  ('fantasy', 0.10607448665572199),\n",
       "  ('day', 0.06371877618438074),\n",
       "  ('accordion', 0.05921430158388955),\n",
       "  ('train', 0.05921430158388955),\n",
       "  ('wagner', 0.05921430158388955),\n",
       "  ('wolter', 0.05921430158388955),\n",
       "  ('ro', 0.05921430158388955),\n",
       "  ('viva', 0.05921430158388955)],\n",
       " 7: [('soral', 0.2599523736618938),\n",
       "  ('alain', 0.19675305265508117),\n",
       "  ('answer', 0.12042682919402052),\n",
       "  ('episode', 0.09032012189551539),\n",
       "  ('de', 0.08194743643222914),\n",
       "  ('le', 0.07798571209856814),\n",
       "  ('jus', 0.07113977548168182),\n",
       "  ('aid', 0.07113977548168182),\n",
       "  ('restaurateur', 0.07113977548168182),\n",
       "  ('fr', 0.07113977548168182)],\n",
       " 8: [('reset', 0.2217621583356483),\n",
       "  ('great', 0.20745248296070376),\n",
       "  ('cleaning', 0.13077215124079314),\n",
       "  ('lockdown', 0.10775765263135643),\n",
       "  ('climate', 0.09354600397984932),\n",
       "  ('spring', 0.09354600397984932),\n",
       "  ('reimburse', 0.09354600397984932),\n",
       "  ('episode', 0.07917826958819459),\n",
       "  ('old', 0.07632769007777111),\n",
       "  ('part', 0.0700041295122998)],\n",
       " 9: [('communism', 0.21062666534229843),\n",
       "  ('socialism', 0.1611480807323832),\n",
       "  ('hitler', 0.1462096355147678),\n",
       "  ('national', 0.11131293949111862),\n",
       "  ('anyone', 0.10108279096115927),\n",
       "  ('look', 0.07711398500787534),\n",
       "  ('historically', 0.076156041701544),\n",
       "  ('hysteria', 0.076156041701544),\n",
       "  ('dyed', 0.076156041701544),\n",
       "  ('blonde', 0.076156041701544)]}"
      ]
     },
     "execution_count": 167,
     "metadata": {},
     "output_type": "execute_result"
    }
   ],
   "source": [
    "model.get_topics()"
   ]
  },
  {
   "cell_type": "code",
   "execution_count": 168,
   "id": "6713ee64",
   "metadata": {},
   "outputs": [
    {
     "data": {
      "text/plain": [
       "([9, 1, -1, 4, 2],\n",
       " [0.6151157263833544,\n",
       "  0.5927522283217049,\n",
       "  0.5463597892060382,\n",
       "  0.5299337499163588,\n",
       "  0.4659209593942061])"
      ]
     },
     "execution_count": 168,
     "metadata": {},
     "output_type": "execute_result"
    }
   ],
   "source": [
    "model.find_topics(\"terrorism\")"
   ]
  },
  {
   "cell_type": "code",
   "execution_count": 169,
   "id": "d0f7101b",
   "metadata": {},
   "outputs": [
    {
     "data": {
      "application/vnd.plotly.v1+json": {
       "config": {
        "plotlyServerURL": "https://plot.ly"
       },
       "data": [
        {
         "hoverinfo": "text",
         "hovertext": [
          "still percent hungry live india constantly gini coefficient rise data present poverty al",
          "gt little girl also kinky someone explain part campaign normalize idea",
          "dark circle know sign",
          "thank australia israel chamber commerce infrastructure showcase great event discus many opportuni",
          "struggle real god nowhere bible say worry stress amp",
          "accord news source suspect detain release name description virtual",
          "people arm security shut hell gun control laughable allow protect themse",
          "sayer die",
          "anyone know ratio jew ce major american corporation",
          "nikol pashinyan prime minister armenia confesses occupation percent shusha populati",
          "china amp iran control biden commie amp islamic supremacist long history unite destroy common enemy",
          "queer activist hit woman come shout revolt system prostitution ra",
          "play celine dion leave without eurovision grand prix",
          "fuck petty go year old man weak pathetic creature",
          "berry case jeane manson accuse member pedophile sect coline berry via",
          "call domestic terrorism see call terrorism ground political affiliat",
          "major victory domestic terrorism america today fail huffington post fire radical",
          "still believe live free country",
          "terror canada nye amir abdulrahman amp al azan shah muhammad drag police sgt andrew harnett death enrichers",
          "boris johnson mr crisis mr liar mr clueless mr corrupt mr racist mr money grabber mr public heal",
          "basically back foreign war shipping american job sea",
          "muslim mayor london fire new year eve firework display feature black life matter marxist clenched",
          "friend waffen veteran wiking division swore cold ext",
          "say",
          "enrichment ireland mob african migrant black life matter communist try attack bus full irish people",
          "equality liberal construct",
          "almost every day quietly think amerindian actually choice fight openly",
          "way bad apartheid state terrorist state terrorizes surround country",
          "government surround fence arm military guard planning unspeakably ho",
          "none organic happen naturally manufacture",
          "censorship laughable pathetic scar conservative",
          "shakespeare sex arcuri johnson read shakespeare sex sofa london mayo",
          "anyone know ratio jew ce major american corporation",
          "everything david hogg reinforces belief one allow vote engage political discours",
          "big bank corporation funding inversion normal healthy society question big bank",
          "buzyn amp co judged crime humanity want new nuremberg",
          "allege nurse practitioner threaten deny people treatment political leaning someone sho",
          "people really need stop use child instrument propaganda fair hardl",
          "detest people every part medium idiot support imagine guy n h ei r si de nobod",
          "man reaps sow lago puelo neighbor receive alberto badly must end run away",
          "let perfectly honest left actually care victim mass shooting se",
          "go year old woman nothing justice act revenge",
          "sister",
          "although one neutral today time everyone inclination towards mine also neutral",
          "daily reminder current president united state say good thing found stock america",
          "new gab post burn coal pay toll meme",
          "fact politician scream gun control trace back george soros gun control",
          "whole event always control western country roll social credit system like comm",
          "threatens violence manager video say hope others find beat tri",
          "ever notice literally sea protest medium like hype sign write english",
          "end attack natural order era insanity become universal new age religion",
          "tell russia never cucked j",
          "baaaaaaaaaaaaa",
          "patriot fight back san diego gym owner sue state amp county official tyrannical lockdown measure wa",
          "get ready lady gentleman criminal illegitimate government go wag open war p",
          "terrorist come terrorist come",
          "warn conservative dangerous new antifa doxxing group beware deplatform hate left wing deplatform hate lat",
          "brexit disaster volume export go british port channel tunnell eu fell last month",
          "leader proud boy former informant case human traffic narcotic",
          "satanism free rule everyday living mondaymotivation freedom sound monday blo",
          "stop banker eat dumpster",
          "world live world people celebrate turn family member mob",
          "people celebrate genocide social medium platform allow yet told live wh",
          "time school place child could learn safety thanks importation di",
          "america soft weak embarrass joke entire world laugh u pathetic government",
          "conquer illegal minor brought dallas male age",
          "find ancient statue like sober experience excite one statue represent",
          "assange never gaol expose war crime u government always mystifies",
          "didnt happen would b funny",
          "timeline evidence lazy choice",
          "downfall america sum single image",
          "left preaches unity heal carry violence denounce violent",
          "country need endless warfare behalf israel get ta make world safe god chosen",
          "america laughingstock",
          "richard berry admits violent catherine hiegel jeane manson",
          "favor report guy try dox",
          "go take people stand shame everyone stood watch",
          "great talk common challenge opportunity u congress always bastion su",
          "capitol wrap barbed wire look like capitol socialist country america",
          "firearm registration always lead firearm confiscation always without exception need contact",
          "warn communist weaponize fake asian hate crime narrative plot march th u protest party liberation socialis",
          "appal homeless queue food last night soup kitchen freeze condition ten year toryism",
          "teach child follow god world teach",
          "want live around u want live around mutually peacefully separate",
          "texas lead freedom via",
          "kind interest timing soros myanmar",
          "manage",
          "isolated act bullying result illegitimate government flood white country",
          "fact get hit hard game stop stock tell one thing people short stock",
          "yes true leftist lot common nazi",
          "fiery mostly peaceful prize",
          "people think boris johnson resign prime minister think continue office accord",
          "leftist never held accountable vicious public threat violence keep make trump",
          "always little shit think smarter elder inevitably end shit",
          "remember current era become naturally manufacture slowly generation",
          "right give british journalism coverage brexit covid",
          "freedom gift beyond estimate give god nation perseverance courage consistency",
          "shame wrongly announce julian assange release bail instead issue correction chan",
          "warn parent virginia meet atif qarni secretary education appoint va governor northam qarni born",
          "current swallower",
          "safely enjoy stroll around mall anymore virtually every mall go",
          "fraud alert joe biden amp harris resurrect left wing lie call hate crime asian american",
          "turn violent criminal care gun illegal carry",
          "main stream medium work international banker international banker fully human hurt u",
          "barack obama blame boulder islamic attack disaffection racism misogyny call gun control mean",
          "shill foreign domestic enemy",
          "arrest people fraudulently get child college however even investigate official fraudulent",
          "pay middle eastern terrorist smuggle u via mexican border people sw",
          "left protects domestic terrorist whereas right abandon",
          "insane insane dangerous rhetoric use justify vicious attack innocent whi",
          "must watch arizona parent fight back school board communist anti racism initiative child indoctrin",
          "much bad everything try pretend trump",
          "love george monbiot pummel andrew bowie monbiot absolutely cool measure logical bowie typic",
          "call target harassment",
          "allahu akbar allahu akbar allahu akbar last word cockpit flight",
          "great reset eat bug future proclaims world economic forum unelected self anoint global elitist post vi",
          "israel still forefront dictatorship",
          "people want walk car well illusion remain anyway good morning thursday thought",
          "pulse farmer need price support edible oil",
          "know go use eternal justification rob freedom right",
          "julian assange release bail",
          "trouble get upset say aaj english",
          "help dad attack antifa attack break arm brave dad campaign canada give child drug change",
          "put account protect mode",
          "want drive neighborhood let driven away gegendemo af",
          "power",
          "voice even low eye level straight neither sign show saxon begin",
          "seethe harder parasite freak",
          "black dude see white guy get shot death response shit like see creature want",
          "innovation molasses possible clamp liquor",
          "even know could shoot mile wow seriousness idiot like allow",
          "everything come existence creates opposite light darkness heat cold life death matter anti",
          "flashback democrat whitewash jihad pulse nightclub islamic terror attack amp blame gun instead left u jihad attack",
          "good pornography toxic legally allow exist",
          "possibly scam divert funding community could possibly scam get",
          "keep weed clean crop care farmer brother weed sister mia khalifa",
          "time people put position power influence base ability base merit",
          "want know exactly many firearm exactly many round ammunition",
          "vote ossoff would need remain vote win",
          "video perfectly illustrates rapid decline quality living u america bust je",
          "whine tv artist lend voice family victim",
          "today first day zero degree entire hour",
          "daily reminder george soros bill gate one let see keep distract pacify",
          "best left wing joke day islamic terrorist shoot someone gun fault make stu",
          "tik tok innocent social network indian redneck year old quiet fun",
          "amount money ever bring equality equality exist anywhere nature brib",
          "cosmetic industry perfumery trade also see existence danger open letter appeal",
          "get ready people government move",
          "hat white people era late great pop culture cool fashion trend",
          "illustrate little government care people nothing",
          "anyone knowingly allows baby poison toxic metal like deserves death penalty serio",
          "governor denounce democrat run twitter allows left attack jewish sile",
          "expose left wing agitator like greta thunberg sacrifice farmer feed global hatred modi thunberg may puppet",
          "whole road map thing psy ops lockdown end people amp business simply realise power amp n",
          "case understand politics work day age wrong opponent",
          "wrong incite intense dislike religion activity teach religion outrageous ir",
          "happy palm sunday amp begin week change world may walk close jesus death amp",
          "parliament need time",
          "rail go work",
          "encourage people call attitude like attitude could get arrest sentence",
          "true juice extractor gas chamber one step",
          "banker rob u generation feel slightest bit sorry finally robbed",
          "brittany huge slut",
          "two tower hand signal hmm",
          "never want equality always secretly want revenge",
          "hey general heard retire general major ig investigation involve army hid",
          "never go solve world problem spread lie hitler germany outlaw firearm ownership",
          "gradually begin hate video link",
          "muslim natural ally race sourc",
          "pay global security bunch scar trickster",
          "yes trump praise amaze international supporter thank supporter america stand",
          "yes even ruin small humble little farm state like wisconsin live people incom",
          "hesitate worn bottom people see inside let go colorful",
          "level security require wef aka enemy life annual meeting tell u",
          "come religious place thief come steal robber",
          "firstly thousand people hundred nice gaslighting sky news usual secondly cop",
          "wave illegal alien clearly fund believe really bought shirt th",
          "new gab post east west divide read way",
          "thank advertising",
          "nothing civil politics anymore politics war either accept prepare accordingly",
          "whole point right keep bear arm protect civilian government force crimina",
          "seriously bad news government move piece place carry illegal act",
          "right guy trial face ten year prison meme another guy give year sent",
          "dead boris johnson say everything could political epitaph indolent prime minister",
          "make farm economically viable sustainable enterprise small farmer india need carefully listen",
          "day say something sign point israel manufacturing war america china ru",
          "arrogation double entendre via",
          "crack smoking hunter biden cry racism deflect swedish sex scandal hunter smear come swedish authorit",
          "yeah stock market hello",
          "accusatory inversion modus operandi",
          "mine christine",
          "brexit cost uk gdp first year body blow uk economy plummet almost cer",
          "archive footage jeane manson sings child god pedophile sect via",
          "nobody owes fuck thing",
          "see biden openly celebrate white people go extinct america decade really care",
          "ficed rothschild return face face reality hysterical assa traor",
          "well guy entire continent call sure would great deal easy get",
          "accusation incest richard berry marilou berry support cousin coline",
          "one legally obligate hire people foreign country law tell hire citizen f",
          "attack u military eleven soldier fort bliss texas injured drinking antifreeze believe dr",
          "ammo hoarder make sure buy enough magazine load ammo boxed amm",
          "right style commission investigate blm antifa riot torched city su",
          "three sea rescue ng accuse complicity criminal smuggler",
          "never want equality never want mere empowerment either aim always empow",
          "america strange fetish reward idiocy need order become rich famous even get",
          "clearly target harassment veil threat violence",
          "want keep america safe stop import people want kill u simple",
          null
         ],
         "marker": {
          "color": "#CFD8DC",
          "opacity": 0.5,
          "size": 5
         },
         "mode": "markers+text",
         "name": "other",
         "showlegend": false,
         "type": "scattergl",
         "x": [
          4.380726337432861,
          7.62307071685791,
          5.544577121734619,
          2.690709352493286,
          5.191940784454346,
          2.0215585231781006,
          3.904374599456787,
          5.271157741546631,
          3.95719838142395,
          0.780578076839447,
          3.3116683959960938,
          3.215397596359253,
          1.7284722328186035,
          5.857814788818359,
          1.7496944665908813,
          3.3337323665618896,
          2.596440553665161,
          4.790580749511719,
          2.1483922004699707,
          2.3187596797943115,
          1.9088340997695923,
          1.8826448917388916,
          3.3989014625549316,
          5.346940517425537,
          2.47731351852417,
          6.532279968261719,
          5.861730575561523,
          4.988327503204346,
          3.796308994293213,
          4.89973258972168,
          3.814077377319336,
          4.895463943481445,
          3.9552016258239746,
          2.8753793239593506,
          3.9375290870666504,
          2.38432240486145,
          3.150282859802246,
          3.448699951171875,
          2.819957971572876,
          6.690779209136963,
          3.472710132598877,
          5.81003475189209,
          5.386805534362793,
          2.9015300273895264,
          3.2540481090545654,
          4.051787853240967,
          3.764631748199463,
          3.852419853210449,
          3.885692596435547,
          5.62504768371582,
          5.134692192077637,
          5.726256370544434,
          5.573461532592773,
          3.7990238666534424,
          3.621486186981201,
          2.195054054260254,
          3.3383915424346924,
          2.235154867172241,
          2.723327159881592,
          5.160338401794434,
          4.002001762390137,
          3.5589346885681152,
          3.5807111263275146,
          1.7193235158920288,
          4.696737766265869,
          5.182260036468506,
          5.269104957580566,
          2.3283960819244385,
          2.1844887733459473,
          4.399117469787598,
          4.7381110191345215,
          3.549164056777954,
          3.269439935684204,
          4.684288501739502,
          1.7753196954727173,
          3.629594087600708,
          4.913568496704102,
          2.9437320232391357,
          3.7741150856018066,
          3.9719796180725098,
          3.3254308700561523,
          2.311518669128418,
          1.9106444120407104,
          5.444753646850586,
          4.641047477722168,
          3.3237104415893555,
          4.653447151184082,
          5.779052257537842,
          3.4542317390441895,
          3.7781822681427,
          4.6883039474487305,
          2.363130807876587,
          3.604987621307373,
          5.833170413970947,
          4.853240489959717,
          2.321542739868164,
          4.650356292724609,
          2.1479220390319824,
          2.3673837184906006,
          2.981541156768799,
          5.013421535491943,
          3.3934547901153564,
          3.9935991764068604,
          3.8592729568481445,
          6.221254825592041,
          3.1057589054107666,
          4.055071830749512,
          3.820385694503784,
          3.4706757068634033,
          3.783445119857788,
          7.163511276245117,
          4.6479411125183105,
          5.451530933380127,
          3.96577787399292,
          2.1562764644622803,
          2.961920738220215,
          3.2593839168548584,
          5.107730865478516,
          4.461338520050049,
          5.082735061645508,
          2.071936845779419,
          5.644952297210693,
          2.9188032150268555,
          3.98459529876709,
          5.334749698638916,
          4.360750675201416,
          5.700478553771973,
          4.645340442657471,
          6.160468101501465,
          2.847123861312866,
          3.9559671878814697,
          5.4101481437683105,
          3.423215627670288,
          5.003558158874512,
          3.9619534015655518,
          4.6937408447265625,
          4.3393707275390625,
          3.937213897705078,
          2.349327802658081,
          4.7454962730407715,
          5.008267879486084,
          2.589782238006592,
          3.2410755157470703,
          3.366975784301758,
          4.451876163482666,
          6.513426780700684,
          4.671872615814209,
          3.6766204833984375,
          5.58747673034668,
          4.531264305114746,
          5.1870598793029785,
          3.266162395477295,
          2.9899444580078125,
          4.167150020599365,
          2.8959598541259766,
          2.222511053085327,
          3.609299659729004,
          2.850177526473999,
          4.1542463302612305,
          4.223747730255127,
          2.7783889770507812,
          3.8890981674194336,
          5.431771278381348,
          5.511203289031982,
          6.51458215713501,
          2.684941291809082,
          4.024490833282471,
          3.875453472137451,
          6.063460826873779,
          3.8906917572021484,
          2.70375657081604,
          4.920265197753906,
          5.483029842376709,
          3.9333226680755615,
          2.0809314250946045,
          2.491992235183716,
          3.8231427669525146,
          3.992905378341675,
          4.036361217498779,
          3.548578977584839,
          3.9431207180023193,
          3.942906618118286,
          2.448822498321533,
          2.326153516769409,
          4.367989540100098,
          3.2833046913146973,
          2.83288311958313,
          4.966527938842773,
          3.469395875930786,
          2.8538036346435547,
          5.439458847045898,
          2.2784714698791504,
          1.8021785020828247,
          4.399734020233154,
          6.8923020362854,
          2.7654688358306885,
          3.806163787841797,
          1.7705256938934326,
          3.8940532207489014,
          2.9225971698760986,
          3.9928576946258545,
          4.020537853240967,
          2.5124499797821045,
          6.538113117218018,
          5.48557186126709,
          3.8518974781036377,
          1.695044994354248,
          3.920032501220703
         ],
         "y": [
          11.891596794128418,
          12.106982231140137,
          11.266029357910156,
          11.082290649414062,
          12.910421371459961,
          10.583847045898438,
          13.68892765045166,
          10.440389633178711,
          13.924576759338379,
          10.549837112426758,
          12.362539291381836,
          13.413273811340332,
          10.048737525939941,
          10.677337646484375,
          10.958453178405762,
          12.831460952758789,
          13.051748275756836,
          12.717174530029297,
          11.304070472717285,
          12.242576599121094,
          12.504627227783203,
          11.72199535369873,
          10.548257827758789,
          10.489595413208008,
          11.874571800231934,
          11.583131790161133,
          11.824301719665527,
          12.286810874938965,
          13.575385093688965,
          11.793540000915527,
          12.643898010253906,
          9.20589542388916,
          13.906394958496094,
          12.405426979064941,
          11.790202140808105,
          10.538368225097656,
          12.664648056030273,
          11.125380516052246,
          11.646177291870117,
          12.053658485412598,
          13.092228889465332,
          10.676214218139648,
          9.703619003295898,
          12.537821769714355,
          12.254209518432617,
          11.225056648254395,
          13.562551498413086,
          11.769427299499512,
          10.16940975189209,
          11.735065460205078,
          13.070204734802246,
          12.40270709991455,
          9.678327560424805,
          13.563350677490234,
          12.441728591918945,
          11.444671630859375,
          12.633702278137207,
          12.226875305175781,
          10.460761070251465,
          13.007550239562988,
          11.482645988464355,
          11.919416427612305,
          11.983996391296387,
          11.297761917114258,
          12.168609619140625,
          12.51145076751709,
          13.684019088745117,
          10.631854057312012,
          11.982006072998047,
          11.2855224609375,
          12.131814002990723,
          13.096410751342773,
          12.332650184631348,
          12.157012939453125,
          10.943896293640137,
          10.273275375366211,
          10.902235984802246,
          12.139083862304688,
          13.327739715576172,
          13.718852043151855,
          12.59482479095459,
          11.952523231506348,
          11.39928913116455,
          12.700115203857422,
          12.686737060546875,
          12.112187385559082,
          11.86248779296875,
          12.419663429260254,
          12.260043144226074,
          13.108935356140137,
          12.695525169372559,
          12.264554023742676,
          13.088095664978027,
          10.653951644897461,
          11.784695625305176,
          12.1607084274292,
          12.67259693145752,
          10.626326560974121,
          11.715912818908691,
          10.43941593170166,
          11.678237915039062,
          12.931199073791504,
          13.722365379333496,
          11.553375244140625,
          13.020565032958984,
          12.725675582885742,
          12.06638240814209,
          11.48025894165039,
          13.060476303100586,
          12.848661422729492,
          12.954261779785156,
          12.273221969604492,
          9.930400848388672,
          12.99319076538086,
          11.504416465759277,
          12.008522033691406,
          12.314681053161621,
          11.536177635192871,
          11.868441581726074,
          13.13204288482666,
          10.633612632751465,
          11.502718925476074,
          10.841423034667969,
          10.72979736328125,
          11.722267150878906,
          11.49201488494873,
          11.465771675109863,
          13.73471736907959,
          12.397151947021484,
          10.110249519348145,
          13.837249755859375,
          13.038169860839844,
          13.111520767211914,
          11.978653907775879,
          11.95337200164795,
          11.83841609954834,
          11.362478256225586,
          13.917447090148926,
          12.293128967285156,
          12.112383842468262,
          10.639278411865234,
          12.623113632202148,
          12.269599914550781,
          13.042899131774902,
          9.64866828918457,
          11.583649635314941,
          11.731640815734863,
          12.502703666687012,
          13.71632194519043,
          12.24919605255127,
          12.085589408874512,
          12.941648483276367,
          12.270210266113281,
          11.636807441711426,
          12.566337585449219,
          11.517425537109375,
          11.032275199890137,
          12.088918685913086,
          11.118243217468262,
          12.213268280029297,
          9.977592468261719,
          11.537933349609375,
          9.766945838928223,
          11.265326499938965,
          11.591620445251465,
          10.512984275817871,
          13.72677993774414,
          10.154607772827148,
          12.285650253295898,
          11.52434253692627,
          13.501108169555664,
          12.09044361114502,
          10.822580337524414,
          10.742302894592285,
          11.411321640014648,
          12.030138969421387,
          12.902925491333008,
          11.30557632446289,
          9.875157356262207,
          12.485677719116211,
          13.673855781555176,
          13.68687629699707,
          10.580127716064453,
          12.23983383178711,
          11.847672462463379,
          12.250819206237793,
          9.64693832397461,
          14.1051025390625,
          12.213943481445312,
          10.10013198852539,
          9.757463455200195,
          12.201261520385742,
          10.926291465759277,
          10.837493896484375,
          12.765165328979492,
          11.80609130859375,
          11.506479263305664,
          10.941008567810059,
          11.573071479797363,
          10.678668975830078,
          13.78317642211914,
          13.233502388000488,
          10.58499813079834,
          11.581709861755371,
          11.978181838989258,
          12.990503311157227,
          12.490930557250977,
          11.921272277832031
         ]
        },
        {
         "hoverinfo": "text",
         "hovertext": [
          "every single time",
          "thus globalists use power compete opposition make opposition illegal",
          "russia international regulation social medium moderation",
          "openly admit displace white people white place living white supremacist conspirac",
          "doubt fauci visit gay sauna bar highly doubt anything understand h",
          "act spiritual psychological warfare native european people white people nowhere else",
          "year say wag war white people finally understand sa",
          "asks compromise always include give right gain control refer democr",
          "white white law protects discriminate white people",
          "well yes certainly full crap",
          "truth",
          "diversity strength army choose diversity",
          "right replace white man twenty dollar bill black woman worthy high priority",
          "advanced civilization",
          "hence social justice warrior infect",
          "illegal adopt black child black",
          "hostile people really except crazy notion planet father god chose",
          "event like go continue occur white country citizen form powerful group real li",
          "anyone good explanation china allow access u power grid hell",
          "one white person alive today ever black slave one black person alive today ever white",
          "fuck sake kill two white people death count racism motivation",
          "many year ago say would eventually consider racist arrest black person crime committ",
          "many generation american government organize crime syndicate illegal occupation",
          "apparently special kind hate black woman experience call misogynoir seriously",
          "white privilege actually exist listen mindless robot drone repeat",
          "freak wonder white nationalism rise world",
          "way win socio political fight attract fighter side pro white community need foc",
          "man white supremacist asian hater keep get darker darker",
          "beating u game shut game fucker literally take ball g",
          "outside environment impose upon artificially construct human race mix almos",
          "quick way get rich america black falsely accuse white person racist toward",
          "hypothetical anymore matter matter government force prep",
          "literally nothing label racist white supremacist pathological hatred white men",
          "diversity safe neighborhood",
          "global war white people",
          "treat big deal rioter antifa whatever reason police always se",
          "repeat lie truth know want erase white history",
          "new comic",
          "feel whole lot well impend collapse western civilization white people form group",
          "ego always ruin man one vision clearest lens",
          "lick foot nigga white trash paris france interracial gay amateur gay",
          "okay checked fuck real",
          "homosexual find criticize heteros much without u even exist",
          "white elder abuse rampant",
          "multi racial society create peace prosperity people create animosity hostility hatred vi",
          "expose back october",
          "everyone understands concept foreign invasive specie plant animal world foreign invasive specie",
          "anyone pretend anyone even want integration first place literally everyone want separation w",
          "go walk condition yeah white thing understand",
          "apart weapon way mamma favorite weapon slipper",
          "gymnastics say dirty arab",
          "netflix already rag machine diversity propaganda",
          "lie repeat often enough eventually becomes truth",
          "stupid fuck bitch",
          "read write wall white people normalize discrimination stop w",
          "pride wake",
          "law enforcement earn every bit hate receive chosen side enemy people",
          "blackwashing never end white people erase little little",
          "toxic upbringing environment anti white hatred racism cultivate hollywood medium school un",
          "salute brave soldier",
          "white genocide conspiracy theory need challenge misinformation u experience great",
          "plan take back hagia sophia",
          "replace white people white country tell u source st",
          "buy story second pipe bomb really plant dc capitol guarantee",
          "deny racist actually proof racist",
          "law enforcement earn every bit hate receive chosen side enemy people",
          "people still oblivious truth right plain sight",
          "gt white supremacy virus like virus die body left infect w",
          "expect someone else save expect group save people country",
          "black actually oppose police shooting oppose police shoot black criminal",
          "say lot year keep repeat hunt racism era witch hunt",
          "america literally white people single western country planet anti american e",
          "yeah war white people",
          "read write wall yet guy war wag white man ever surren",
          "nigger cocksluts help crave white dick much take matter attach",
          "believe",
          "best really",
          "hundred salutation foot madhav",
          "blame white people violent crime commit black end piss entire wh",
          "america really white supremacist nation consume institutional racism big mega corp like coca",
          "racist cookie lecture u wokeness",
          "institutional white genocide look like",
          "let billionaire cry",
          "expropriation without compensation really mean steal farm white farmer destroy say farm blame whit",
          "diversity sensitivity training really mean anti white indoctrination critical race theory",
          "fagot take arm",
          "let cry woman afrin woman together afrin",
          "remove portrait white judge white go ahead tell war",
          "diversity mean death white people able get conceal carry permit get reliable firearm",
          "happens white become minority",
          "unlawful best produce anything beautiful plato",
          "write wall white race slat genocide hyperbole exaggeration",
          "white supremacy mean white people believe white life matter war wag agai",
          "sovereign mind power choice come single set belief define",
          "never forget",
          "nothing allow white white problem need address",
          "strength ancestor life within blood strength survive long enough conti",
          "basically say long racism direct toward white people white country",
          "need keep drive story home power blame white people murder commit bl",
          "prove u right every single time",
          "white literally nothing bad could ever accuse racism accuse l",
          "around world white people get dangerously fed violently attack forei",
          "global war white people",
          "repeat white get dictate white people anti white raci",
          "black need liberal woman offend behalf even think liberal really offend anywa",
          "live every stereotype",
          "mom mom sheep meeeeeeh black sheep yeah nigga moderfacka hahahahahahahaha yeah nigg",
          "war wag white people everything fault",
          "actually watch right funny listen black dude talk sell crack",
          "black life matter movement nominate nobel peace prize via",
          "black people really little lie small shit",
          "city burn ransack violent terrorist savage summer long give fuck le th",
          "multiculturalism culture mix amp blend together create singular monoculture multicultur",
          "white men deserve job white men tell white men persecute",
          "enough people drop look",
          "weak argument difference white kid already die fentanyl overdose l",
          "literally institutional racism exists",
          "dude fuck robot",
          "homosexual scum vote vanilla",
          "nation yahweh mayor miami xavier su rez declare yahweh ben yahweh day october mon",
          "look accept random cop beating people baton like use one call",
          "philosophy ideology tactic method optic superior others feel",
          "european never use feel way country flood foreigner feel",
          "arbitrariness censorship back west via",
          "apparently white people fault black woman sprayed hair gorilla glue anything",
          "refer white people disease probably great way convince u racist go ahead",
          "replace white people",
          "total utter bullshit",
          "jesus fuck christ guy happens talk tough try look sound cool violence g",
          "caught k say true",
          "suck whitedick nigger gayraceplay gaysex oral gayoral interracialgaysex blacksucker bwc",
          "parody account",
          "u call suarez something wen call u nigger u bitch",
          "someone something require perpetual reinforcement via word like amaze beautiful vibrant talented incr",
          "white people ally literally every non white race united",
          "eventually go consider racist white person deny non white access body",
          "see work literally anything infringes money power decry white",
          "someone dm please send picture cat anyrtgingh im boredddd",
          "everybody want believe secret underground army organization go fix everything",
          "man white supremacist asian hater keep get darker darker",
          "yet another evil white man save helpless animal almost behavior genetic something",
          "rhetoric creature manufacture cultivate endless hatred white people people wh",
          "reason white people child simulate experience slave",
          "stereotypical behavior nope way",
          "nothing see folk diversity continue great strength",
          "literally zero justification flood white country non white foreigner whole age dy",
          "ok groomers",
          "goodnight",
          "say year ago lot people say hyperbolic",
          "kind woman foot hit floor morning devil say oh crap woman fear f",
          "rub face know know know say go happen c",
          "time social medium limited use time wisely anti white take war white ser",
          "white want something call white supremacy black want thing call response",
          "know beat white people say care white black yellow blue purple",
          "heartbreaking",
          "particular point time obvious naked eye race people happier segregation",
          "democrat rep jackie speier think lot white american u military national security threat",
          "ally people white people always always stop",
          "little junk",
          "guarantee chick like anything luxury",
          "workout functional real world extend period time",
          "men pig u stop living stop filth serious",
          "drop photography mine",
          "translation many white people science statistic technology go replace white",
          "term radical thrown around pretty loosely day literally anything left like",
          "ever reason storm street overthrow exist regime",
          "say keep right say one single white man alive today ever slave",
          "people fanatically anti racist really anti white tend also mentally ill literally watch",
          "cry laugh zehma mtn catapult whore",
          "overcome lust ego word well sex",
          "good kyle rittenhouse never arrest first place defend violent mob shoul",
          "one try murder lie po",
          "remember watch mother breakdown cry weight poverty hearing pain sorrow shame",
          "behind",
          "institutional white genocide look like",
          "literally neither men kill white people let alone white nationalist kill black",
          "whoever control country institution control society perception reality",
          "one one",
          "white supremacist keep get darker darker day",
          "wow",
          "every non white race planet encourage celebrate history heritage culture white race",
          "accident",
          "available preview",
          "daily reminder real time choreograph synchronize dance routine office hou",
          "post still anti white butthurt black history month",
          "well really want get subject serial killer start samuel little",
          "biophobia contagious",
          "racist always mean white people call u racist justify violence u fal",
          "lil nigga lil nigga lil nigga lil nigga lil nigga lil nigga lil nigga lil nigga lil nigga lil",
          "hunt white supremacist era witch hunt new regime want look every white person w",
          "let spell black separatist treat random individual isolated social medium",
          "talk jq day long however people like michael jones catholic even admit whit",
          "assume fight back know one actually start fight",
          "non white responsible action black gun gang motivate mass sh",
          "lot picture show holodomor gulag mostly white folk",
          "enemy good mean stood something sometime life winston churchill value yo",
          "gt billion covid relief black farmer tell living white supremacist society",
          "think possible man produce much estrogen",
          "two amaze people fighter keep go need",
          "february shape one long cold rape big frozen winter wiener",
          "replace white people",
          "nigga like life anime yea bro one piece shit",
          "medium try get black murder innocent white people white people fully prepared defend yourselv",
          "even black want segregation back peaceful separation solution today catastrophic failure race r",
          "high culture civilization diversity",
          "even issue black asian racism violence narrative remains white people real pro",
          "please keep mind",
          "true never forget",
          "warrior",
          "deep",
          "assume fight back know one actually start fight",
          "join corona cult today tire people still enjoy life exactly right thing cont",
          "basically illegal immigrant get citizenship replace u either way cool steven repeat",
          "wish men shut fuck today",
          "shut shut goy know goy really know",
          "bodybuilding",
          "um exactly dc capitol bombed see already rewrite history le two mon",
          "guy charge proud boy name enrique tarrio yet proud boy still label white supre",
          "make white people happy racist need stop",
          "folkish state make certain suitable education youth day obtain race ripe",
          "excuse pedophile time never tolerate white person believe white life matter",
          "call mass shoot however medium report shooter white",
          "fact liberal consider white guy star athlete change white supremacy tell everythi",
          "really live white supremacist country repeatedly told would law make",
          "god bless eric zemmour",
          "people still oblivious truth right plain sight",
          "proof globalism exist party",
          "good morning ji",
          "woman kill kidnap afrin whole world silent woman together afrin",
          "rapist black call rapist call pervert downplay black crim",
          "black community none white people concern black community allow behave whatever",
          "sorry break bimbo every guy planet want sleep",
          "okay checked fuck real",
          "lol invention exactly even congo finally penetrate native people disco",
          "exactly think culture come think magically fall sky arbitrarily",
          "many innocent white people beaten shot murder savage collectively defen",
          "injury today insurrection oh wait mean medium full crap",
          "live age manufacture tragedy tyranny impose upon u result artificial tragedy",
          "stereotypical behavior nope way",
          "true black woman africa landmass black overwhelm super majority",
          "abolish whiteness mean abolish white people fact popular well receive slogan",
          "marijuana popular people miserable era smoke tolerate world rather fix",
          "like well negro",
          "call whatever want coca cola anti white actively participate war wag",
          "imagine power like power declare act criminal ability declare anti semit",
          "even eat meat whole eat bug synthetic meat thing pretty sketch",
          "fanart prefer",
          "left furious brandon elliot white supremacist instead lifetime parole murder mother sai",
          "anti white amp anti american rhetoric exactly taught kid across america",
          "yes invisible",
          "inca people conquer genocided killke people another south american tribe big deal b",
          "tomorrow recover woman day intelligence day",
          "white country simply never ask ask reject foreign people foreign c",
          "wan na fuck time man body see nigga leave tf alone",
          "new regime go force mass obey send people disappear",
          "guy invent hate crime never happen get free paycheck",
          "yes",
          "many innocent white child die start storm street righteous hatred",
          "diversity strength army choose diversity",
          "new year eve wuhan v nyc spot communist nation",
          "dictatorship forbidden make fun powerful",
          "imagine someone snuck punch face behind start kick stomp yo",
          "imagine desperate attention relevancy surgically remove part body",
          "interestingly enough know sole authority define word like hate racism bigotry extremis",
          "salute",
          "trans child like vegan dog know chose",
          "much institutional white supremacy racism",
          "blackwashing white history continue force stop",
          "false perception humanity impose people",
          "power go force individual citizen comply average citizen know",
          "want really think white man every dollar government take give black",
          "people fake hate crime free government money",
          "white people get dangerously fed foreigner get away countless act violence",
          "say even okay u pride nationality already",
          "say thousand time bear repeat anti racism dangerous new age religion religi",
          "imagine force wake morning everyday",
          "black woman move white neighborhood complains many",
          "people ready admit yet real war wag white people",
          "eventually go consider racist white person deny non white access body",
          "like cold cold make white ancestor hard strong broke weak bloodline ensure",
          "never entirely comfortable truth behind champion always fight something otherwi",
          "lady question imagine pill men begin market would really trust",
          "white people well black people thread",
          "non white prioritize white tell systemic racism exists",
          "course even let white one thing non white ob acce",
          "gt replaces white men normalize concept white people replace non white white",
          "social medium like densest major city human existence loud chaotic fast pace emotional irr",
          "war adolf hitler never end evolve war white people",
          "blackwashing white history continue force stop",
          "think even one race government target deprogramming know becau",
          "year literal white genocide",
          "love reading golden globe hashtags left master exploit identity politics political correctness virt",
          null
         ],
         "marker": {
          "opacity": 0.5,
          "size": 5
         },
         "mode": "markers+text",
         "name": "0_white_people_black",
         "text": [
          "",
          "",
          "",
          "",
          "",
          "",
          "",
          "",
          "",
          "",
          "",
          "",
          "",
          "",
          "",
          "",
          "",
          "",
          "",
          "",
          "",
          "",
          "",
          "",
          "",
          "",
          "",
          "",
          "",
          "",
          "",
          "",
          "",
          "",
          "",
          "",
          "",
          "",
          "",
          "",
          "",
          "",
          "",
          "",
          "",
          "",
          "",
          "",
          "",
          "",
          "",
          "",
          "",
          "",
          "",
          "",
          "",
          "",
          "",
          "",
          "",
          "",
          "",
          "",
          "",
          "",
          "",
          "",
          "",
          "",
          "",
          "",
          "",
          "",
          "",
          "",
          "",
          "",
          "",
          "",
          "",
          "",
          "",
          "",
          "",
          "",
          "",
          "",
          "",
          "",
          "",
          "",
          "",
          "",
          "",
          "",
          "",
          "",
          "",
          "",
          "",
          "",
          "",
          "",
          "",
          "",
          "",
          "",
          "",
          "",
          "",
          "",
          "",
          "",
          "",
          "",
          "",
          "",
          "",
          "",
          "",
          "",
          "",
          "",
          "",
          "",
          "",
          "",
          "",
          "",
          "",
          "",
          "",
          "",
          "",
          "",
          "",
          "",
          "",
          "",
          "",
          "",
          "",
          "",
          "",
          "",
          "",
          "",
          "",
          "",
          "",
          "",
          "",
          "",
          "",
          "",
          "",
          "",
          "",
          "",
          "",
          "",
          "",
          "",
          "",
          "",
          "",
          "",
          "",
          "",
          "",
          "",
          "",
          "",
          "",
          "",
          "",
          "",
          "",
          "",
          "",
          "",
          "",
          "",
          "",
          "",
          "",
          "",
          "",
          "",
          "",
          "",
          "",
          "",
          "",
          "",
          "",
          "",
          "",
          "",
          "",
          "",
          "",
          "",
          "",
          "",
          "",
          "",
          "",
          "",
          "",
          "",
          "",
          "",
          "",
          "",
          "",
          "",
          "",
          "",
          "",
          "",
          "",
          "",
          "",
          "",
          "",
          "",
          "",
          "",
          "",
          "",
          "",
          "",
          "",
          "",
          "",
          "",
          "",
          "",
          "",
          "",
          "",
          "",
          "",
          "",
          "",
          "",
          "",
          "",
          "",
          "",
          "",
          "",
          "",
          "",
          "",
          "",
          "",
          "",
          "",
          "",
          "",
          "",
          "",
          "",
          "",
          "",
          "",
          "",
          "",
          "",
          "",
          "",
          "",
          "",
          "",
          "",
          "",
          "",
          "",
          "",
          "",
          "",
          "",
          "",
          "",
          "",
          "",
          "",
          "",
          "",
          "0_white_people_black"
         ],
         "textfont": {
          "size": 12
         },
         "type": "scattergl",
         "x": [
          5.606922149658203,
          4.164684772491455,
          4.357304096221924,
          7.18809700012207,
          6.26478910446167,
          6.222271919250488,
          6.835901737213135,
          4.245691776275635,
          7.002783298492432,
          4.94804573059082,
          4.939573287963867,
          5.816997051239014,
          7.819764614105225,
          5.939829349517822,
          6.080570697784424,
          5.405852317810059,
          6.118107318878174,
          6.537102222442627,
          4.090753555297852,
          6.903035640716553,
          6.020913124084473,
          5.439945220947266,
          4.105303764343262,
          6.954754829406738,
          7.055172443389893,
          6.461297512054443,
          6.592505931854248,
          6.749526500701904,
          6.0750732421875,
          5.825188159942627,
          6.432196140289307,
          4.316597938537598,
          7.126087665557861,
          5.906777381896973,
          6.502445220947266,
          4.568427562713623,
          7.265798568725586,
          4.655221462249756,
          6.401333332061768,
          4.815144062042236,
          6.572506904602051,
          5.977325439453125,
          6.494817733764648,
          6.345849990844727,
          5.66693639755249,
          4.777107238769531,
          5.374290943145752,
          6.818302154541016,
          6.514547824859619,
          5.157884120941162,
          6.525813579559326,
          6.821358680725098,
          5.063820838928223,
          5.883607864379883,
          7.115258693695068,
          5.098898887634277,
          4.617791175842285,
          7.324309349060059,
          6.419656753540039,
          4.211248874664307,
          7.163188457489014,
          2.7432405948638916,
          7.783968448638916,
          2.7624027729034424,
          6.761103630065918,
          4.635643482208252,
          4.860318660736084,
          6.433938503265381,
          4.329163074493408,
          5.67887544631958,
          6.808388710021973,
          6.408257961273193,
          6.55868673324585,
          7.179411888122559,
          7.037399768829346,
          5.018120765686035,
          5.086789608001709,
          4.285995006561279,
          6.121389389038086,
          6.349058628082275,
          7.0289764404296875,
          7.1169915199279785,
          5.21325159072876,
          6.511317729949951,
          7.042943477630615,
          5.534304141998291,
          5.442357540130615,
          7.3084845542907715,
          5.799131393432617,
          7.651701927185059,
          4.7981977462768555,
          7.127532958984375,
          7.119399070739746,
          4.349563121795654,
          4.982091426849365,
          6.434664249420166,
          5.880720138549805,
          7.153158664703369,
          5.934122562408447,
          5.912600040435791,
          6.910253047943115,
          6.34575891494751,
          6.529016017913818,
          7.0219645500183105,
          6.94803524017334,
          7.130322456359863,
          7.000565052032471,
          6.5052714347839355,
          6.9832940101623535,
          6.561227798461914,
          6.991086483001709,
          2.412886142730713,
          5.791054725646973,
          6.978808879852295,
          4.782446384429932,
          6.258058547973633,
          7.213577747344971,
          5.960972785949707,
          6.605006217956543,
          2.4277334213256836,
          5.046456813812256,
          4.6011457443237305,
          5.73060417175293,
          4.362978935241699,
          6.658652305603027,
          6.496443271636963,
          7.796403884887695,
          5.045089244842529,
          6.043838024139404,
          5.939297199249268,
          6.835277557373047,
          4.790195941925049,
          6.839919090270996,
          4.773082256317139,
          6.411667346954346,
          6.4514079093933105,
          6.506719589233398,
          4.379919528961182,
          4.113424301147461,
          6.845129489898682,
          5.996405124664307,
          6.717667102813721,
          6.437436580657959,
          7.108285427093506,
          5.921870708465576,
          6.0231146812438965,
          6.537107467651367,
          5.563249111175537,
          5.381948471069336,
          5.49770450592041,
          5.8325886726379395,
          6.672918319702148,
          6.991028785705566,
          6.982799530029297,
          5.2768874168396,
          6.950674533843994,
          7.28219747543335,
          6.339115619659424,
          4.956352233886719,
          5.919360160827637,
          4.672895431518555,
          5.747175693511963,
          4.784485340118408,
          7.784746170043945,
          5.305697917938232,
          4.556528091430664,
          7.008373260498047,
          6.549441337585449,
          5.572511196136475,
          4.806859493255615,
          5.069016933441162,
          5.42902946472168,
          5.121060848236084,
          4.9513840675354,
          7.129507064819336,
          6.173528671264648,
          4.326467514038086,
          5.310346603393555,
          6.668932914733887,
          5.174604892730713,
          6.2444844245910645,
          4.919974327087402,
          4.6416802406311035,
          4.7282514572143555,
          7.273458480834961,
          5.088328838348389,
          5.926225662231445,
          6.8070573806762695,
          6.115042686462402,
          6.845623016357422,
          6.784901142120361,
          6.98573112487793,
          5.829665184020996,
          5.906429767608643,
          7.086131572723389,
          4.565230846405029,
          6.3524169921875,
          5.439632892608643,
          5.555408000946045,
          2.4147145748138428,
          7.807552337646484,
          6.046787738800049,
          5.8974151611328125,
          6.797015190124512,
          5.830035209655762,
          6.712399005889893,
          4.992729663848877,
          5.006339073181152,
          5.227802753448486,
          5.051419734954834,
          5.815170764923096,
          5.0389251708984375,
          7.811953067779541,
          5.618649482727051,
          5.942823886871338,
          4.664048671722412,
          2.740513324737549,
          7.006033420562744,
          6.9430060386657715,
          5.944691181182861,
          6.722893714904785,
          5.871826648712158,
          7.035112380981445,
          6.077144622802734,
          3.1537392139434814,
          4.9063825607299805,
          4.099700450897217,
          5.462674140930176,
          5.445570468902588,
          6.972070693969727,
          6.780775547027588,
          5.67664909362793,
          5.9811930656433105,
          7.0322136878967285,
          5.14247465133667,
          6.0734477043151855,
          4.850508213043213,
          4.846640110015869,
          7.1310529708862305,
          7.007573127746582,
          7.304530620574951,
          5.039276123046875,
          6.967475891113281,
          7.096150875091553,
          4.3589277267456055,
          5.588223934173584,
          4.609421730041504,
          6.030104637145996,
          7.070568084716797,
          4.842779159545898,
          7.176163673400879,
          5.549196720123291,
          6.1266584396362305,
          6.054194927215576,
          4.435669422149658,
          5.004397869110107,
          5.025940418243408,
          6.137215614318848,
          5.828303813934326,
          2.9874861240386963,
          4.692225933074951,
          5.8348259925842285,
          4.830072402954102,
          7.0533318519592285,
          4.402865886688232,
          5.622395038604736,
          7.167882919311523,
          7.32415246963501,
          4.846038341522217,
          4.301268577575684,
          6.659300804138184,
          4.659290313720703,
          6.209891319274902,
          5.964914321899414,
          6.592323303222656,
          5.439061641693115,
          6.442785739898682,
          6.649796962738037,
          6.442776679992676,
          5.974351406097412,
          5.856579780578613,
          5.802951812744141,
          6.982975006103516,
          7.060961723327637,
          6.440561294555664,
          7.752381801605225,
          5.655948162078857,
          6.26924991607666,
          7.318480014801025,
          6.8996663093566895,
          7.065975189208984,
          3.6521222591400146,
          5.904854774475098
         ],
         "y": [
          10.090205192565918,
          12.658204078674316,
          12.370150566101074,
          12.794492721557617,
          11.107030868530273,
          13.19959831237793,
          13.371254920959473,
          12.401216506958008,
          12.506507873535156,
          10.22475814819336,
          10.81164836883545,
          13.236332893371582,
          12.236959457397461,
          13.201559066772461,
          12.734780311584473,
          12.616423606872559,
          13.166959762573242,
          13.173456192016602,
          11.942453384399414,
          12.46938705444336,
          12.817215919494629,
          12.747825622558594,
          12.440860748291016,
          11.730847358703613,
          12.512182235717773,
          12.880058288574219,
          12.617895126342773,
          12.87032413482666,
          10.6157865524292,
          12.61042308807373,
          12.182099342346191,
          12.41199016571045,
          12.54277515411377,
          13.172511100769043,
          13.417174339294434,
          12.986916542053223,
          12.876547813415527,
          10.2388277053833,
          12.851883888244629,
          11.444974899291992,
          11.435392379760742,
          10.297523498535156,
          11.164036750793457,
          12.498367309570312,
          13.079977035522461,
          10.303075790405273,
          11.988189697265625,
          12.805856704711914,
          11.980171203613281,
          10.144497871398926,
          11.445012092590332,
          13.008879661560059,
          10.81291389465332,
          10.510725021362305,
          12.40413761138916,
          10.262836456298828,
          12.744104385375977,
          12.904001235961914,
          13.011414527893066,
          10.421584129333496,
          13.275901794433594,
          12.974230766296387,
          12.28288745880127,
          12.999727249145508,
          12.354429244995117,
          12.75279712677002,
          10.9317626953125,
          13.022080421447754,
          12.217116355895996,
          12.7870512008667,
          13.3048734664917,
          12.70244026184082,
          13.433624267578125,
          12.65139102935791,
          12.357715606689453,
          11.159245491027832,
          9.94404411315918,
          10.385930061340332,
          12.767766952514648,
          12.722153663635254,
          12.524772644042969,
          13.410178184509277,
          10.583074569702148,
          11.898079872131348,
          12.806918144226074,
          10.123834609985352,
          10.570995330810547,
          12.841506958007812,
          13.247138977050781,
          12.412154197692871,
          12.274908065795898,
          12.693326950073242,
          12.607715606689453,
          12.424715042114258,
          10.850079536437988,
          12.121084213256836,
          12.709277153015137,
          12.593870162963867,
          12.856480598449707,
          10.270478248596191,
          12.26343822479248,
          12.769574165344238,
          13.427523612976074,
          12.516195297241211,
          11.850831985473633,
          11.513044357299805,
          11.885567665100098,
          13.386384963989258,
          11.873127937316895,
          12.358373641967773,
          11.935985565185547,
          12.590896606445312,
          13.13344669342041,
          12.356013298034668,
          10.316137313842773,
          12.52102279663086,
          13.339885711669922,
          10.354165077209473,
          11.272798538208008,
          12.606269836425781,
          12.849788665771484,
          13.068351745605469,
          11.971612930297852,
          12.431336402893066,
          12.40285587310791,
          12.205802917480469,
          12.275527000427246,
          10.526010513305664,
          10.66002082824707,
          10.279796600341797,
          11.647653579711914,
          10.559854507446289,
          12.112558364868164,
          11.301421165466309,
          12.556806564331055,
          12.15963077545166,
          11.899394989013672,
          9.7749662399292,
          11.923742294311523,
          12.877822875976562,
          12.444597244262695,
          12.999964714050293,
          12.534249305725098,
          11.524397850036621,
          13.189931869506836,
          12.222959518432617,
          11.449301719665527,
          10.973237037658691,
          12.277132034301758,
          10.720754623413086,
          10.131796836853027,
          12.876007080078125,
          12.510574340820312,
          12.322232246398926,
          10.02548885345459,
          13.041751861572266,
          12.833972930908203,
          12.478618621826172,
          10.27808952331543,
          11.163839340209961,
          11.302563667297363,
          10.960564613342285,
          10.26949405670166,
          12.285320281982422,
          12.379507064819336,
          12.959054946899414,
          12.560701370239258,
          12.751321792602539,
          10.483224868774414,
          11.38969612121582,
          12.809199333190918,
          10.496654510498047,
          10.603631973266602,
          10.336930274963379,
          13.410706520080566,
          12.802705764770508,
          12.283187866210938,
          10.308404922485352,
          12.933146476745605,
          10.046360969543457,
          12.673161506652832,
          10.326566696166992,
          10.235936164855957,
          11.30494213104248,
          12.847566604614258,
          12.836103439331055,
          12.428417205810547,
          12.221538543701172,
          10.675987243652344,
          13.311022758483887,
          12.802884101867676,
          11.887100219726562,
          10.047133445739746,
          12.948752403259277,
          13.462510108947754,
          12.754612922668457,
          12.9458646774292,
          11.245529174804688,
          10.077457427978516,
          12.59819507598877,
          12.259398460388184,
          10.746399879455566,
          12.95715045928955,
          12.829050064086914,
          13.165613174438477,
          12.632190704345703,
          10.917343139648438,
          10.845132827758789,
          10.143725395202637,
          10.481301307678223,
          10.028907775878906,
          11.893216133117676,
          12.233359336853027,
          10.837126731872559,
          10.300599098205566,
          11.326427459716797,
          12.96910572052002,
          12.399250984191895,
          12.435824394226074,
          13.179352760314941,
          12.321879386901855,
          12.975508689880371,
          12.41015625,
          13.432083129882812,
          10.394362449645996,
          10.953824043273926,
          12.747088432312012,
          11.041813850402832,
          10.612011909484863,
          11.863326072692871,
          12.577651977539062,
          10.975747108459473,
          10.282685279846191,
          13.195542335510254,
          11.683077812194824,
          12.718344688415527,
          10.1360502243042,
          11.963801383972168,
          11.524598121643066,
          11.83683967590332,
          12.506414413452148,
          11.960817337036133,
          11.913143157958984,
          12.661378860473633,
          12.502875328063965,
          12.27497386932373,
          9.850741386413574,
          12.754355430603027,
          12.923113822937012,
          10.399582862854004,
          13.141960144042969,
          10.768157958984375,
          12.06957721710205,
          10.66376781463623,
          12.378655433654785,
          12.754450798034668,
          10.0875883102417,
          12.676846504211426,
          13.232002258300781,
          12.683283805847168,
          12.224445343017578,
          10.055047988891602,
          11.391801834106445,
          12.604635238647461,
          10.402460098266602,
          12.33855152130127,
          13.402420997619629,
          12.920601844787598,
          11.504729270935059,
          12.268636703491211,
          11.92175579071045,
          12.7337007522583,
          12.513428688049316,
          11.913508415222168,
          13.230249404907227,
          11.06420612335205,
          12.201567649841309,
          13.388444900512695,
          12.167394638061523,
          12.584205627441406,
          10.00716781616211,
          11.136527061462402,
          12.097363471984863,
          12.56305980682373,
          12.159186363220215,
          12.267698287963867,
          12.963099479675293,
          13.468717575073242,
          12.918512344360352,
          13.433795928955078,
          13.409646987915039,
          13.145289421081543,
          12.020350456237793
         ]
        },
        {
         "hoverinfo": "text",
         "hovertext": [
          "warn socialist spain keep register vaccine refusers country receive name dissenter strategy designe",
          "warn attack france come muslim mayor incites jihadis threaten teacher samuel paty style death teacher",
          "break pandemic number fake blame trump change guideline covid test hour biden inauguration thes",
          "muslim brotherhood congressman andre carson arrest yet republican allow serve spy house intelligenc",
          "pau manager reception center kill knife sudanese migrant via",
          "hungary continue put people st illegals prime minister viktor orb n vowed never allow christian country chang",
          "demographic jihad swedish government lie massive migration number almost illegal migrant grant citizensh",
          "enrich belgium brussels mohamed mohammed ahmed common name many municipality new stati",
          "alert america face invasion border biden flood america refugee terr",
          "suicidal socialist spain moroccan migrant mohamed professional robber commit crime h",
          "easy meat another fail muslim asylum seeker rape murder chop body british woman lure",
          "dr fauci covid expert back march",
          "biden let million illegals america vaccination record democrat",
          "follow france footstep austria begin crackdown muslim",
          "trump accomplish last president combine",
          "hamas link cair amp iihan omar unite demand sharia compliance pro sharia muslim rep elect ilhan omar demand amazon give",
          "new follower syria last week see",
          "actually sour though pickle except cabbage instead cucumber delicio",
          "muslim ever respect religious teacher religion koran order religion",
          "share caution vaccine know long term side effect basically modify pe",
          "expose covid lockdown rule apply salvini left wing italian trial judge salvini trial kidnapping w",
          "world hijab day one many subtle tactic use muslim brotherhood front group introduce sharia america illino",
          "igrant enrichment german woman begs help go street anymore without think pepper spr",
          "terror attack update afghani migrant behind stab sweden medium reporting terrorist suffer",
          "politician marine le pen party france slam famous ballet du nord put woman sharia hijab",
          "demographic jihad swedish government lie massive migration number video within generation sweden third large",
          "father botros coptic orthodox priest try wake west year many christian must die",
          "covid plot gay man flee venezuela warns communist take canada trudeau use virus power grab",
          "get ready white people joe biden america inbound gt unrelenting stream immigration non stop gt",
          "read two new openly anti illegal migrant pro border minister appoint conservative prime minister kyriakos",
          "go war germany protect america english replace german ensure",
          "remember nato bombing yugoslavia",
          "break swedish news reporting suspect first enter country",
          "shock famous journalist expose suicidal effect sweden open border policy video swede told",
          "flashback fbi take poster seek islamic terrorist hamas link cair complain show photo fb",
          "america deal deadly islamic terrorist attack colorado jihadist kill mali one",
          "elderly abuse grandma ban nursing home activity refuse vaccinate vaccine suppose vol",
          "biden sign executive order first ten day president anyone sign many executive order",
          "muslim commit multiple terrorist attack across europe gt muslim look back anger random",
          "new year austria civil war like incident amp yell allahu akbar new year eve vienna meanwhile elec",
          "putin responds biden threat wish good health",
          "germany stab spree frankfurt leaf several injured german authority probe attacker motif",
          "bioterrorism bangladeshi muslim doctor arrest boston try obtain deadly ricin fbi investigate dr ishtiaq",
          "hamas link cair amp soros unite push blasphemy law wan america cair call legislator label criticism",
          "break u custom border protection report illegals attempt cross border february",
          "yet bombed middle eastern country",
          "germany threatens citizen merkel release ultimatum get vaccinate banish germany already throw quarantine",
          "migrant party taxpayer fund resort pool spain remains lockdown two week ago migrant left wing red",
          "hungarian prime minister orb n soros population replacement make europe muslim orb n leader pa sto",
          "global plot left wing western leader continue open border mass migration impose harsh coronavirus lock",
          "threat alert terror tie migrant run dangerous mosque amp islamic school florida dr fadi yousef kablawi long history",
          "deeply disappointed gov abbott proud gab amp jewish support christian run business amp thank",
          "enrich france police crew attack mortar fire car burn amp fire set throughout lyon mayor refuse",
          "one good thing french police never hesitate fire weapon knife wield muslim",
          "french geneticist covid health crisis test healthy people medicine see viral video focus",
          "globalists celebrate eu biden join force fight right wing extremist islamize west ban free speech islamic",
          "geert wilder shock dutch parliament koran full jew hatred wilder demand parliament stop pretend care abo",
          "woman speak islam france threaten rape amp death american understand happen",
          "hey know syrian muslim terrorist colorado twitter account delete show h",
          "yes af slam merkel import culture hate woman turn berlin baghdad migrant willi",
          "france call islamophobe live hr police protection due death threat receive",
          "break germany suspends astra zeneca vaccination although report side effect increase several st",
          "trump peace biden war thanks left",
          "must watch video break famous doctor develops safe vaccine covid germany prosecutes state targete",
          "biden legislate executive order unless dictator also biden proceeds sign record break",
          "shock video famous journalist expose suicidal effect sweden open border policy swede told",
          "back another twitter ban new crime quote world health organization discus new vaccination",
          "open border joe biden vow increase refugee admission trump demand low refugee admission u histo",
          "still catholic apostate",
          "enrich sweden isi child back sweden pose weapon sever head social service take child fro",
          "go forward twitter tweet mention coronavirus vaccination censor twitter part",
          "biden threat global security china ate secretary blinken lunch ccp order press back room",
          "netherlands like last week former soldier stood today protection protester",
          "alert mandatory coronavirus vaccination come spain video refuse injection mislabelled vaccine wi",
          "italy naked jaybird illegal alien muslim invader take leak middle street broad daylight",
          "bolder muslim refugee terrorist convict misdemeanor assault another student high school suspe",
          "astra zeneca prove dangerous yet country throughout europe push citizen meanwhile famous german doctor",
          "west full country protect border dangerous illegal migrant problem imposi",
          "turkish president recep tayyip erdogan file criminal complaint dutch opposition leader geert wilder",
          "global plot left wing western leader continue open border mass migration imposin",
          "israel law allows authority know identity unvaccinated people",
          "belgium first islamic state europe one third country population foreign origin brussels belg",
          "anti christian twitter iftar amp ramadan hashtag emoji honor islamic holy day one christian ho",
          "break new year eve canada police violently raid family gathering six people neighbor report coronavirus",
          "sharia sweden conservative journalist ingrid carlqvist amp maria celander indict thought crime islam face",
          "londonistan tesco worker help police take muslim attacker brandishing multiple knife",
          "america corrupt refugee resettlement program brainchild senator biden one reason muslim brotherhood end",
          "keep warn america know many syrian muslim refugee way america next eu",
          "warn u democratic party copy germany deploys antifa stormtroopers conservative germany left wing gov",
          "ten people slaughter syrian muslim refugee ahmad al issa white non muslim terrorist attack also goin",
          "make germany great warn globalists socialist amp enemy west germany fed amp rise af lead",
          "enrich uk refugee demand hotel set fire barrack threaten kidnapping staff commonplace europ",
          "stop steal twitter suspends spain conservative vox party ahead election video vox leader santiago abascal vow",
          "enrichment father beat sexually abuse daughter check muslim sweden refuse deport court h",
          "question point baby wear hijab hijab suppose prevent men tempt sin appea",
          "france sudanese muslim illegal alien stab immigration official death asylum claim reject",
          "sure many research danger associate gene alter prick",
          "clarkston georgia one georgia large mosque built small city clarkston resident",
          "break massive cover expose virologist sucharit bhakdi healthy people dangerous vaccine young",
          "fbi arrest doug mackey aka ricky vaughn conservative journalist florida face year hurt democrat",
          "course american medium never show capital city european union new year eve bruss",
          "tuesday biden address nation islamic attack say would speculate shooter motive",
          "wow german parliament left stun afd martin hess slam german lawmaker allow war machine ente",
          "army illegal migrant invade hungarian home mayor demand military action woman found army illegals",
          "linda sarsour organizer woman march amp openly support sharia law let sink adaywithoutwomen internati",
          "sharia compliant nike harshly condemn depict iranian female mathematician hijab chosen never",
          "morocco muslim youth vandalize brand new casablanca bus apparent reason",
          "sharia uk every woman cover top toe otherwise police collect situati",
          "break terror attack sweden eight injured vetlanda video police refuse answer medium question",
          "alabama litigation jihadist cair file federal lawsuit prison execute two convert islam wit",
          "hijab amp niqab represent subjugation woman sign woman accept responsibility keep men tempt",
          "biden obama back terrorist please islamic pakistani sharia court overturn conviction",
          "meanwhile enrich belgium four minor arrest plot islamic terrorist attack one already bought mac",
          "break sweden admits people die high rate due pandemic video statistic reveal overall death rate",
          "people die vaccination accord pej bos cichutek bpk however people",
          "woman march silent taxpayer fund german school put hijab non muslim german girl dress rehearsal",
          "biden need another war middle east also biden proceeds bomb syria",
          "france muslim arrest try carry attack jewish school amp kosher grocery video prosecutor cry mental illness",
          "trump accomplish last president combine",
          "afd gottfried curio warn world amp stuns german parliament un amp merkel plan expose make every call refugee",
          "biden test illegal alien coronavirus le month biden number people illegally",
          "christian refugee austria return syria safer young christian syria flee austria esca",
          "syrian muslim terrorist ahmad al issa try travel syria summer unable due coronavirus lockdown acco",
          "female palestinian muslim terrorist say prepare carry suicide bombing mission jew like prep",
          "break christian attack jihad attack suicide bomber strike catholic church indonesia palm sunday church",
          "coronavirus tyranny german state police detain maskless elderly cyclist citizen violate chancellor angela merkel lockd",
          "alabama litigation jihadist cair file federal lawsuit prison execute two convert islam without",
          "islamic migrant threatens gang rape politician expose illegally operate mosque see video islamic community",
          "happen make american listen put video year ago man interrogate islamic",
          "vaccination blackmail restaurant expect reopen january",
          "colorado shooter facebook page quote prophet muhammad also know extremely religious sure thi",
          "chinese corona virus like",
          "report government dominate committee call seat inbound flight quarantine place australia",
          "population control group cheer biden force taxpayer fund overseas abortion trump like reagan stop taxpayer fun",
          "fifteen girl saudi arabia burn alive islamic sharia religious police let leave burning",
          "tell u else could seem may side effect",
          "break see inside germany maximum security corona jail quarantine violator barbed wire amp security fence surround",
          "austrian girl told wear hijab prevent assault migrant fmr member parliament suggests austrian born girl",
          "democrat darling rep ilhan omar say chuckle israel call democracy compare iran anti",
          "spain attack military age migrant infect coronavirus storm border fence socialist gov caught distri",
          "radical somali congressmuslim ilhan omar mn threatens force republican congresswoman office",
          "enough mr laschet enough merkel cry help hairdresser bianka fuse burn",
          "fbi interviewed terrorist amp nothing major hasan fort hood tx kill amp wound omar mateen orland",
          "bloody man throw decapitate head window onto street france short month ago islamic migrant",
          "german parliament left stun afd gottfried curio migrant go save germany ruin",
          "syrian muslim refugee welcome america hand citizenship along host taxpayer fund handout",
          "anyone yet investigate mosque ahmad al issa attend",
          "belgium first islamic state europe one third country population foreign origin brussels belgian",
          "biden amp eu join force eu commissioner ylva johansson see video work biden fight right wing extremist",
          "kill kill war police france mainly african arab muslim commu",
          "globalists celebrate open border joe biden european union joe biden join force fight right wing extremist",
          "government enforces hospital put every death covid",
          "start go biden bomb",
          "islamophobia slay unbeliever wherever ye find koran verse",
          "predict biden break trump peacetime record launch air strike syria",
          "venezuela start free distribution drug covid",
          "enrich germany syrian refugee tell job center would rather fight jihadis meanwhile muslim brotherhood ba",
          "german try warn u",
          "suicidal sweden left wing open border policy blame late allahu akbar attack afghani tamim sultani grant",
          "coronavirus tyranny truth teller arrest uk woman arrest film inside empty hospital post online",
          "allahu akbar migrant attack migrant riot man commits suicide greek detention center hundred illegal migrant",
          "know term islamophobia invent front group muslim brotherhood order export",
          "warn isi order wolf attack church amp police spain despite anti terrorist unit warn left wing gov",
          "well uganda damn well leave sweden",
          "easter australia day allow",
          "eu schmuck blast bosnia take well care illegal alien muslim invader burn calle",
          null
         ],
         "marker": {
          "opacity": 0.5,
          "size": 5
         },
         "mode": "markers+text",
         "name": "1_muslim_biden_migrant",
         "text": [
          "",
          "",
          "",
          "",
          "",
          "",
          "",
          "",
          "",
          "",
          "",
          "",
          "",
          "",
          "",
          "",
          "",
          "",
          "",
          "",
          "",
          "",
          "",
          "",
          "",
          "",
          "",
          "",
          "",
          "",
          "",
          "",
          "",
          "",
          "",
          "",
          "",
          "",
          "",
          "",
          "",
          "",
          "",
          "",
          "",
          "",
          "",
          "",
          "",
          "",
          "",
          "",
          "",
          "",
          "",
          "",
          "",
          "",
          "",
          "",
          "",
          "",
          "",
          "",
          "",
          "",
          "",
          "",
          "",
          "",
          "",
          "",
          "",
          "",
          "",
          "",
          "",
          "",
          "",
          "",
          "",
          "",
          "",
          "",
          "",
          "",
          "",
          "",
          "",
          "",
          "",
          "",
          "",
          "",
          "",
          "",
          "",
          "",
          "",
          "",
          "",
          "",
          "",
          "",
          "",
          "",
          "",
          "",
          "",
          "",
          "",
          "",
          "",
          "",
          "",
          "",
          "",
          "",
          "",
          "",
          "",
          "",
          "",
          "",
          "",
          "",
          "",
          "",
          "",
          "",
          "",
          "",
          "",
          "",
          "",
          "",
          "",
          "",
          "",
          "",
          "",
          "",
          "",
          "",
          "",
          "",
          "",
          "",
          "",
          "",
          "",
          "",
          "",
          "",
          "",
          "",
          "",
          "",
          "",
          "",
          "",
          "",
          "",
          "",
          "",
          "",
          "1_muslim_biden_migrant"
         ],
         "textfont": {
          "size": 12
         },
         "type": "scattergl",
         "x": [
          0.8161841034889221,
          1.2982101440429688,
          1.7829195261001587,
          1.343422770500183,
          1.105160117149353,
          0.7672436237335205,
          0.4230162501335144,
          1.2075937986373901,
          1.533394694328308,
          1.2228968143463135,
          1.148337721824646,
          0.9355787634849548,
          1.5929468870162964,
          1.305578351020813,
          1.5634186267852783,
          1.3364993333816528,
          1.4994864463806152,
          1.5923724174499512,
          1.8402258157730103,
          0.9451430439949036,
          1.166418433189392,
          0.6694421768188477,
          1.4049962759017944,
          0.4958890676498413,
          0.6744325757026672,
          0.36783739924430847,
          1.7884573936462402,
          0.7684580683708191,
          1.5931954383850098,
          0.6122596263885498,
          1.7549816370010376,
          1.5433647632598877,
          0.4504333734512329,
          0.3803841173648834,
          1.3516520261764526,
          1.285741925239563,
          0.8094709515571594,
          1.5018229484558105,
          1.2248917818069458,
          2.053568124771118,
          1.5067484378814697,
          1.5076457262039185,
          1.1128138303756714,
          1.3665251731872559,
          1.6108620166778564,
          1.495383858680725,
          1.3395732641220093,
          0.844957172870636,
          0.6944437623023987,
          0.732757031917572,
          1.3817883729934692,
          1.951289176940918,
          1.369052529335022,
          1.3391181230545044,
          0.9678922891616821,
          1.4676302671432495,
          1.6409282684326172,
          1.1774977445602417,
          1.3762460947036743,
          1.646366000175476,
          1.3198529481887817,
          1.1072056293487549,
          1.528428554534912,
          1.0341790914535522,
          1.4921200275421143,
          0.36565306782722473,
          0.8164657950401306,
          1.478300929069519,
          1.8115266561508179,
          0.45575153827667236,
          0.7635158896446228,
          1.5873767137527466,
          1.6241474151611328,
          0.7786321043968201,
          1.3950625658035278,
          1.2065949440002441,
          1.235169768333435,
          1.5892515182495117,
          1.6158777475357056,
          0.6275518536567688,
          0.8285399675369263,
          1.2542328834533691,
          1.8800981044769287,
          1.4202107191085815,
          0.5105760097503662,
          1.1070637702941895,
          1.0496386289596558,
          1.0445770025253296,
          1.694006085395813,
          1.1413443088531494,
          1.7303026914596558,
          1.2742582559585571,
          0.787959098815918,
          0.4827185571193695,
          0.5896865129470825,
          1.2939592599868774,
          1.0563777685165405,
          1.3138824701309204,
          0.8954746127128601,
          1.4306151866912842,
          2.0986926555633545,
          1.3643168210983276,
          1.6871440410614014,
          0.7788237929344177,
          0.629267692565918,
          0.5902220010757446,
          1.1071425676345825,
          0.5939067602157593,
          0.4610002338886261,
          1.2762798070907593,
          0.609719455242157,
          1.2888805866241455,
          1.2317867279052734,
          0.37862083315849304,
          0.8384759426116943,
          0.6424665451049805,
          1.4805798530578613,
          1.2953191995620728,
          1.5520656108856201,
          1.6670821905136108,
          1.5775526762008667,
          1.0322219133377075,
          1.1019535064697266,
          1.1229876279830933,
          1.9493308067321777,
          1.3719732761383057,
          1.259540319442749,
          1.1789181232452393,
          1.31162691116333,
          0.8385851383209229,
          1.3857735395431519,
          0.8066864609718323,
          0.8910126090049744,
          1.5554288625717163,
          0.7304340600967407,
          1.1358634233474731,
          1.3453055620193481,
          0.6423540711402893,
          1.4370918273925781,
          0.8484733700752258,
          1.0444263219833374,
          1.668110728263855,
          1.1533976793289185,
          1.1535958051681519,
          1.6177332401275635,
          1.0562182664871216,
          1.2584987878799438,
          1.20285165309906,
          1.5183100700378418,
          1.4231783151626587,
          1.4990122318267822,
          0.9144008755683899,
          1.526124358177185,
          1.169519066810608,
          1.4956132173538208,
          0.828122079372406,
          0.9284090995788574,
          1.7771711349487305,
          0.5040566325187683,
          0.9046682119369507,
          1.0924477577209473,
          1.1489379405975342,
          1.042189121246338,
          0.38031765818595886,
          1.9827204942703247,
          1.4481533765792847,
          1.1875790357589722
         ],
         "y": [
          9.610980033874512,
          10.972038269042969,
          12.778397560119629,
          12.086897850036621,
          10.990389823913574,
          10.563297271728516,
          10.822563171386719,
          11.459582328796387,
          12.539493560791016,
          10.9293212890625,
          10.960694313049316,
          9.620584487915039,
          12.8714017868042,
          11.293679237365723,
          13.345293045043945,
          11.996345520019531,
          11.462166786193848,
          9.633634567260742,
          11.439729690551758,
          9.467948913574219,
          10.101330757141113,
          11.353056907653809,
          9.661639213562012,
          10.855820655822754,
          11.223584175109863,
          10.808989524841309,
          11.251811981201172,
          10.046255111694336,
          12.807455062866211,
          10.521687507629395,
          9.836244583129883,
          11.507673263549805,
          10.817392349243164,
          10.762252807617188,
          11.846729278564453,
          11.523551940917969,
          9.608580589294434,
          13.277549743652344,
          11.283398628234863,
          11.902871131896973,
          13.208288192749023,
          9.830062866210938,
          11.59172248840332,
          11.983660697937012,
          12.578761100769043,
          11.478760719299316,
          9.701498031616211,
          10.308379173278809,
          10.538434982299805,
          10.189188003540039,
          11.719539642333984,
          11.313715934753418,
          10.867371559143066,
          10.914917945861816,
          9.557080268859863,
          12.745250701904297,
          9.92908763885498,
          11.172636032104492,
          11.572516441345215,
          10.010368347167969,
          10.922856330871582,
          9.54466724395752,
          13.152897834777832,
          9.584521293640137,
          13.290059089660645,
          10.78540325164795,
          9.572330474853516,
          12.69606876373291,
          11.32958984375,
          10.879176139831543,
          9.55999755859375,
          13.173402786254883,
          9.943672180175781,
          9.625429153442383,
          10.29365062713623,
          11.621979713439941,
          9.609417915344238,
          12.398808479309082,
          9.993577003479004,
          10.528952598571777,
          9.545989990234375,
          11.45681381225586,
          11.741898536682129,
          10.435879707336426,
          11.032605171203613,
          11.001261711120605,
          12.0509033203125,
          11.93021297454834,
          9.888935089111328,
          11.476824760437012,
          9.908356666564941,
          10.891624450683594,
          10.135371208190918,
          10.865438461303711,
          11.340232849121094,
          10.917561531066895,
          9.44237232208252,
          11.627917289733887,
          9.502982139587402,
          12.027109146118164,
          11.99099349975586,
          12.979613304138184,
          9.889728546142578,
          10.496109008789062,
          11.350139617919922,
          11.34519100189209,
          11.090694427490234,
          11.34958267211914,
          10.853043556213379,
          11.915046691894531,
          11.353033065795898,
          12.18844985961914,
          11.277863502502441,
          10.718037605285645,
          9.551568984985352,
          11.26094913482666,
          13.167722702026367,
          10.934728622436523,
          13.341019630432129,
          9.92676830291748,
          12.7979736328125,
          11.76413345336914,
          11.597383499145508,
          11.219886779785156,
          11.491827011108398,
          9.806500434875488,
          11.916464805603027,
          11.215972900390625,
          11.524394035339355,
          9.544977188110352,
          11.533429145812988,
          9.78785514831543,
          9.93721866607666,
          12.905906677246094,
          11.083263397216797,
          9.439460754394531,
          9.838508605957031,
          11.176843643188477,
          12.124150276184082,
          10.1828031539917,
          11.671228408813477,
          10.004676818847656,
          11.696942329406738,
          11.030435562133789,
          9.925553321838379,
          12.021064758300781,
          11.747575759887695,
          11.437117576599121,
          12.986549377441406,
          11.012378692626953,
          12.939624786376953,
          9.833279609680176,
          13.204803466796875,
          11.378561973571777,
          13.241920471191406,
          9.802165985107422,
          11.755144119262695,
          9.805731773376465,
          10.803689002990723,
          9.7643461227417,
          11.07518196105957,
          11.49413013458252,
          10.33311653137207,
          10.803912162780762,
          11.545443534851074,
          11.618644714355469,
          11.10591983795166
         ]
        },
        {
         "hoverinfo": "text",
         "hovertext": [
          "greta thunberg expose creation powerful marxist soros back ngo al gore amp",
          "already election need mike penny stop democrat steal",
          "cqfd well totally fire like trump",
          "donald trump jr gov cuomo get emmy send grandma death gov de santis get hell open beach h",
          "cool story first time radio legendary rush limbaugh right somewhat infamou",
          "entire world watch trump cpac",
          "trump one address illegal immigration cpac republican party wake f",
          "surprised new age neo marxist refuse join take wall street crook",
          "gab run beautifully thank msm announce moment hate fo",
          "thought hillary aka schrillary clinton new book welcome",
          "get teary eyed see elderly veteran show freedom plaza fight trump incredible co",
          "end every trump speech music come help get dance president give much ho",
          "trump want every american read follow time magazine article democrat crook flaunt corruptness know",
          "love trigger left amaze marjorie taylor greene look one strong conservative woman scare",
          "make remain ballot de kalb county must manually scan order tabulate",
          "uncle mla aunt vice president",
          "president run third term cpac",
          "wa po typical left wing news organization exists harm conservative jeff bezos u power money",
          "house democrat push cable company big tech get rid conservative news network",
          "united remove traitor like party good choice show cpac",
          "win seat georgia mitt romney go officially declare democrat good riddance",
          "guy tune est click link see donald trump cpac address cpac general",
          "democrat work harder rebuild c swamp american job",
          "rashida tlaib give oscar worthy performance house floor favorite line happen january th",
          "antifa always corporate manufacture product anarcho marxism package sell capitalist impre",
          "alert communist senator chris murphy connecticut national security threat murphy infiltrate senate fo",
          "march nyc mayor de blasio msnbc amp healthy n yers little th",
          "time see mike penny truly patriot",
          "watch president trump take stage cpac give burst joy hope",
          "trump cpac trumpism mean strong border riot support police nd amendment video",
          "john kohn aka john kerry claim earth nine year",
          "counting stop ballot fairy go work",
          "show one politician corrupt core",
          "ryan girdusky lincoln project part grift part groom operation john weaver",
          "necessary win election help someone heart big must heart",
          "shame gop ballot atlanta start come even though poll close five hour ago democrat co",
          "cnn rest liberal medium fake plan attack today u capitol go today",
          "jake tapper dnc operative expose wikileaks left wing hack nerve say kaleigh mc ne",
          "trump slam traitor republican party yes name every last one time take back party",
          "trump cpac warmonger liz cheney",
          "one president trump told u corruption go take place georgia right free",
          "long machine shut georgia night",
          "lincoln project every one work trump admin held accountable action also lp w",
          "expose georgia election bribe democrat group caught break federal law bribing georgia voter",
          "george conway lie national tv say know fellow co founder lincoln project well r",
          "happen look like suitcase democrat ballot show",
          "many vote discover georgia tonight watch suitcase ga sen",
          "year ago today one america great patriot hero born born bloomington illinois",
          "rino nikki haley scar show face cpac",
          "trump present future republican party plan run",
          "george lincoln rockwell born march assassinate august",
          "threat alert radical communist tie nominate secretary interior deb haaland nomination completel",
          "trump take stage cpac love president",
          "rino nikki haley scar show face cpac",
          "one trump lawyer play unedited fine people hoax video debunk front america network",
          "entire world watch trump cpac",
          "gayle oprah paid pr harry witch",
          "president trump cpac must voter id republican party actually tackle issue must stop speaki",
          "yes trump might decide beat third time usa usa usa",
          "warn joe biden radical hud secretary marcia fudge threat america watch like many others biden admin",
          "flag ny dems let let one credible scandal distract another credible disa",
          null
         ],
         "marker": {
          "opacity": 0.5,
          "size": 5
         },
         "mode": "markers+text",
         "name": "2_trump_cpac_democrat",
         "text": [
          "",
          "",
          "",
          "",
          "",
          "",
          "",
          "",
          "",
          "",
          "",
          "",
          "",
          "",
          "",
          "",
          "",
          "",
          "",
          "",
          "",
          "",
          "",
          "",
          "",
          "",
          "",
          "",
          "",
          "",
          "",
          "",
          "",
          "",
          "",
          "",
          "",
          "",
          "",
          "",
          "",
          "",
          "",
          "",
          "",
          "",
          "",
          "",
          "",
          "",
          "",
          "",
          "",
          "",
          "",
          "",
          "",
          "",
          "",
          "",
          "",
          "2_trump_cpac_democrat"
         ],
         "textfont": {
          "size": 12
         },
         "type": "scattergl",
         "x": [
          3.157029390335083,
          2.07311749458313,
          2.6667275428771973,
          2.1952881813049316,
          2.7695653438568115,
          2.6987740993499756,
          2.603267192840576,
          3.526689052581787,
          1.8741039037704468,
          2.923898220062256,
          2.631601333618164,
          2.6031994819641113,
          2.5369925498962402,
          3.0694525241851807,
          1.8248945474624634,
          2.397156000137329,
          2.447396755218506,
          2.7106773853302,
          2.6104204654693604,
          2.367009401321411,
          1.9214390516281128,
          2.67061185836792,
          2.565840721130371,
          2.410151720046997,
          3.991732358932495,
          2.387600898742676,
          2.2495906352996826,
          2.375297784805298,
          2.64229154586792,
          2.739008903503418,
          1.9384312629699707,
          1.8748058080673218,
          2.3186216354370117,
          3.2481863498687744,
          2.065272808074951,
          1.8658270835876465,
          2.6170098781585693,
          2.6137359142303467,
          2.4220950603485107,
          2.770935297012329,
          2.225104808807373,
          1.8724392652511597,
          2.723449468612671,
          1.9540293216705322,
          3.2016384601593018,
          1.866256833076477,
          1.861574649810791,
          3.278341054916382,
          2.766355514526367,
          2.3543083667755127,
          3.2803237438201904,
          2.2711925506591797,
          2.6424670219421387,
          2.762144088745117,
          2.666740894317627,
          2.6697633266448975,
          3.0654473304748535,
          2.608957290649414,
          2.354485511779785,
          2.2762651443481445,
          2.299065351486206,
          2.5307562351226807
         ],
         "y": [
          13.334085464477539,
          13.854891777038574,
          14.020939826965332,
          12.991722106933594,
          13.519110679626465,
          14.11689281463623,
          14.069050788879395,
          13.271111488342285,
          13.986191749572754,
          13.606454849243164,
          14.031250953674316,
          14.074552536010742,
          13.3284912109375,
          13.519859313964844,
          14.02392864227295,
          13.402667045593262,
          13.996947288513184,
          13.225378036499023,
          13.296121597290039,
          13.724416732788086,
          13.93806266784668,
          14.079819679260254,
          13.380655288696289,
          14.133623123168945,
          12.923112869262695,
          13.560976028442383,
          12.963607788085938,
          13.77352523803711,
          14.09412670135498,
          14.083715438842773,
          13.88254165649414,
          13.980562210083008,
          13.752718925476074,
          13.787083625793457,
          13.840153694152832,
          13.988986015319824,
          13.225593566894531,
          13.364312171936035,
          13.7774019241333,
          13.832723617553711,
          13.770223617553711,
          13.951933860778809,
          13.78176212310791,
          13.929268836975098,
          13.811864852905273,
          13.992145538330078,
          13.997361183166504,
          13.715920448303223,
          13.872641563415527,
          13.863460540771484,
          13.7796630859375,
          13.409219741821289,
          14.087872505187988,
          13.869099617004395,
          13.226608276367188,
          14.07689094543457,
          13.681562423706055,
          14.037880897521973,
          13.807732582092285,
          13.485933303833008,
          13.690157890319824,
          13.73109245300293
         ]
        },
        {
         "hoverinfo": "text",
         "hovertext": [
          "pride india rajputana chittorgarh fort",
          "really modi ji get credit rejuvenation include go journey become possible",
          "downfall one kill sadhu insult woman certain parambir singh anil deshmukh uddhav thackeray sanjay raut ht",
          "australian student year behind average chinese student sat test year behind",
          "rahul gandhi big asset bjp",
          "warn biden terror tie hijabi appointee sameera fazili threat u amp india fazili member stand kash",
          "south australia trinity college apologise video circulate show student school hang black",
          "fund dedication shri ram mandir zomato pizza hut domino swiggy mango shopkeeper",
          "associate every work r interest country mithun chakraborty",
          "u press reporting muslim girl father lie samuel paty start campaign get",
          "hindu le sikh today e hoist flag religion red fort",
          "inter n national c chutiya",
          "try tell everyone year matter nothing good enough crea",
          "case prima facie seem fault delivery boy kamaraj hitesha pull whole",
          "sharia pakistan little hindu girl pakistan abduct beg india modi protection islamic ca",
          "happy republic day india america stand care deeply war jihadis amp left wag country amp",
          "islamic pakistan medium blackout muslim destroy another hindu temple pakistan modi caa give citizenship persecute",
          "friend india please contact help expose left coordinate attack country indian fa",
          "final round shivgaan competition full swing across maharashtra eve chhatrapati shivaji maharaj birth anniversary umbrella",
          "holy place vrindavan cm shri ji hon union jal shakti minister shri water power",
          "tell everyone year ever give scandinavian brother sister war th",
          "shameful samuel paty style threat head school bow violent jihad mob parent issue apology su",
          "india innovative thrust jai swadeshi",
          "america pay attention coordinate global attack india left radical launch campaign destr",
          "savitri devi write numerous time determine quality person people view",
          "u bulat home pawri ho rai hai",
          "modi ji slogan self reliance penetrate even among love couple",
          "two private school girl adelaide appear film hang black baby doll give part",
          "heard psycho back send agra soon",
          "day since kashmiri hindu turn away home let sink",
          "ok theek hai",
          "sucial science uba must close",
          "medium want believe hundred people freedom reclaim",
          "terrorist attack india islamic mob drag hindu rinku sharma home slaughter front parent wh",
          "year delhi trouble riot delhi ankit rinku sharma kill jihadis delhi",
          "agree ignoramus toby young free describe journalist illiterate make",
          "cnrs investigate sa bouamama via",
          "time fix mukhtar ansari salwar peeli",
          "facebook ban gay ex muslim iraq life germany one photo show kiss man",
          "friend let support dear friend let solidarity problem account friend get notification",
          "g link anon r pls research post u find fault let know learn hhx news clipping lie flie",
          "lgbt deviant disrespect kaaba bo azi university detain",
          null
         ],
         "marker": {
          "opacity": 0.5,
          "size": 5
         },
         "mode": "markers+text",
         "name": "3_india_hindu_pakistan",
         "text": [
          "",
          "",
          "",
          "",
          "",
          "",
          "",
          "",
          "",
          "",
          "",
          "",
          "",
          "",
          "",
          "",
          "",
          "",
          "",
          "",
          "",
          "",
          "",
          "",
          "",
          "",
          "",
          "",
          "",
          "",
          "",
          "",
          "",
          "",
          "",
          "",
          "",
          "",
          "",
          "",
          "",
          "",
          "3_india_hindu_pakistan"
         ],
         "textfont": {
          "size": 12
         },
         "type": "scattergl",
         "x": [
          3.2871670722961426,
          3.595712900161743,
          2.894791603088379,
          2.5996787548065186,
          3.5550129413604736,
          2.5975799560546875,
          2.6096949577331543,
          3.263110399246216,
          3.6264986991882324,
          2.3226256370544434,
          2.9907686710357666,
          3.238816738128662,
          2.566348075866699,
          2.9830167293548584,
          2.6659772396087646,
          3.323385238647461,
          2.7426276206970215,
          3.136457681655884,
          3.1972250938415527,
          3.1901745796203613,
          2.4961702823638916,
          2.5317718982696533,
          3.3559792041778564,
          3.2137224674224854,
          4.088036060333252,
          3.282322406768799,
          3.6158807277679443,
          2.6406424045562744,
          3.493178606033325,
          2.938138008117676,
          3.1499781608581543,
          3.236870765686035,
          3.563990592956543,
          2.7180681228637695,
          2.8136656284332275,
          2.599429130554199,
          3.1659865379333496,
          2.910411834716797,
          2.3130664825439453,
          3.526301383972168,
          2.7382357120513916,
          2.4880802631378174,
          3.0301570892333984
         ],
         "y": [
          11.344769477844238,
          11.54961109161377,
          11.607441902160645,
          11.19005298614502,
          11.534299850463867,
          11.711946487426758,
          11.249920845031738,
          11.35947036743164,
          11.505648612976074,
          11.47148323059082,
          11.390430450439453,
          11.38701343536377,
          11.161337852478027,
          11.587030410766602,
          11.543208122253418,
          12.0194091796875,
          11.475964546203613,
          11.94836139678955,
          11.351208686828613,
          11.354972839355469,
          11.171932220458984,
          11.445731163024902,
          11.486456871032715,
          12.002812385559082,
          11.249199867248535,
          11.460406303405762,
          11.509223937988281,
          11.207300186157227,
          10.673750877380371,
          11.44773006439209,
          11.466054916381836,
          11.348112106323242,
          11.963529586791992,
          11.554513931274414,
          11.535540580749512,
          12.546405792236328,
          11.33517837524414,
          11.592755317687988,
          11.621357917785645,
          10.50171184539795,
          11.8514986038208,
          11.566696166992188,
          11.482892990112305
         ]
        },
        {
         "hoverinfo": "text",
         "hovertext": [
          "take name main parasitic beneficiary anti semitism journalistic investigation",
          "try say jew one lead impeachment",
          "average people need start ask okay jew anti white okay white",
          "collect coin like jew anti semitic humor slippage elect official sarcelles see",
          "old south wealthy white allied jewish merchant pamper color slave class mass poor white",
          "say denounce anti semitism jew say video link",
          "law anti white law anti jewish white people really wer",
          "try say jew one lead impeachment",
          "hell holocaust denial illegal place mean illegal simply say something like loo",
          "new swedish school report jew malm enemy arab student craze hitler today",
          "well jew allow hate white people white people allow hate jew",
          "myth semitic armenoid story",
          "get align hebrew mythology story",
          "whenever biden speaks know semitic armenoid handler speak instead",
          "daily reminder jew perfect people never commit crime certainly war crime",
          "people draw comparison jeffrey epstein lincoln project",
          "hebrew mythology make race slave benefit",
          "literally every single time hear someone spray paint swastika synagogue end hoax lit",
          "social zionism wreak havoc suburb national zionism reap benefit",
          "try say jew stock market beating game anti semitism",
          "lol say republican today like jewish holocaust apparently",
          "identity generation techouva anti semitism anti zionism place u",
          "harassment violence impersonation zionism ulcan trial via",
          "amaze often jew involve significant world event",
          "ric dupond moretti act submit zionist lobby via",
          "community say black jew operate together coordinate effort dismiss bigotry r",
          "white people say jew white consider anti semitism jew say",
          "abrahamic summit jew pope interfaith meeting iraq",
          "semite member people speak spoke semitic language include particular jew",
          "white people say jew white consider anti semitism jew say",
          "remember allow even much question woman story story holocaust told",
          null
         ],
         "marker": {
          "opacity": 0.5,
          "size": 5
         },
         "mode": "markers+text",
         "name": "4_jew_anti_say",
         "text": [
          "",
          "",
          "",
          "",
          "",
          "",
          "",
          "",
          "",
          "",
          "",
          "",
          "",
          "",
          "",
          "",
          "",
          "",
          "",
          "",
          "",
          "",
          "",
          "",
          "",
          "",
          "",
          "",
          "",
          "",
          "",
          "4_jew_anti_say"
         ],
         "textfont": {
          "size": 12
         },
         "type": "scattergl",
         "x": [
          4.59686279296875,
          5.299012660980225,
          5.750119209289551,
          5.293835639953613,
          5.744742393493652,
          5.469640731811523,
          5.7863993644714355,
          5.286112308502197,
          5.804955959320068,
          5.045912742614746,
          5.784916400909424,
          5.283794403076172,
          5.2933855056762695,
          5.17047643661499,
          5.65608549118042,
          5.0129499435424805,
          5.381364345550537,
          5.513175964355469,
          4.583268642425537,
          5.316144943237305,
          5.705491065979004,
          4.6219868659973145,
          4.58991813659668,
          5.315732955932617,
          4.602444648742676,
          5.852550983428955,
          5.759955406188965,
          5.292474269866943,
          5.744591236114502,
          5.762802600860596,
          5.230621814727783,
          5.340378284454346
         ],
         "y": [
          13.866619110107422,
          14.504630088806152,
          14.339788436889648,
          14.44482707977295,
          14.119904518127441,
          14.453131675720215,
          14.250085830688477,
          14.531861305236816,
          14.085114479064941,
          13.922155380249023,
          14.307117462158203,
          14.169499397277832,
          14.103416442871094,
          14.528813362121582,
          14.235831260681152,
          14.217314720153809,
          14.110350608825684,
          14.402656555175781,
          13.888445854187012,
          14.349649429321289,
          14.367448806762695,
          13.841842651367188,
          13.833630561828613,
          14.302964210510254,
          13.868156433105469,
          14.223037719726562,
          14.318108558654785,
          14.468268394470215,
          14.332015991210938,
          14.309138298034668,
          14.041328430175781,
          14.217328071594238
         ]
        },
        {
         "hoverinfo": "text",
         "hovertext": [
          "book write",
          "post need many many million view share many people",
          "idea guy god work love see clip float around",
          "lose follower twitter seem like tolerant free speech love place",
          "twitter purge account every single day add follower year instead lose follow",
          "friend india website story rinku sharma block twitter however continue",
          "video deserves every thumb get",
          "delete first one get ratio ed hard uploaded new one allow",
          "know many purge account able survive account survive night",
          "think twitter allow certain conservative account maintain follower erase account like min",
          "great many level",
          "neat idea fiction novel anyone interested write bunch retire sof operator use",
          "know many people receive permanent ban social medium account express concern drag",
          "amaze article people write two year ago show ten thousand follower",
          "anyway would never stop repeat place woman tiktok quite simply",
          "anyone think create video channel want deal tube censorship bit chute shitty",
          "bought paid",
          "post need many many million view share many people",
          "amazon dictate ebooks online book sale audiobooks sale head thi",
          "every day come onto twitter lose another hundred follower add follower two year",
          "actually interviewed tube channel couple year ago gotten thousand view",
          "recent psych science paper use national iq predict stuff ran simple probability calculation measur",
          "might audio version concept odysee channel find someone want put together vid",
          "twitter thousand retweets twitter dozen retweets twitter new follower daily twitter followe",
          null
         ],
         "marker": {
          "opacity": 0.5,
          "size": 5
         },
         "mode": "markers+text",
         "name": "5_twitter_follower_many",
         "text": [
          "",
          "",
          "",
          "",
          "",
          "",
          "",
          "",
          "",
          "",
          "",
          "",
          "",
          "",
          "",
          "",
          "",
          "",
          "",
          "",
          "",
          "",
          "",
          "",
          "5_twitter_follower_many"
         ],
         "textfont": {
          "size": 12
         },
         "type": "scattergl",
         "x": [
          4.5787248611450195,
          4.070333003997803,
          4.211148262023926,
          3.9132795333862305,
          3.9005954265594482,
          3.9037585258483887,
          4.072044849395752,
          4.043498516082764,
          3.7380330562591553,
          3.8678338527679443,
          4.313106060028076,
          4.218350410461426,
          3.858733892440796,
          4.022011756896973,
          4.100759506225586,
          4.113266944885254,
          3.887690782546997,
          4.083899021148682,
          4.606149196624756,
          3.9351234436035156,
          4.080379009246826,
          4.010723114013672,
          4.211865425109863,
          3.9817490577697754,
          4.071794033050537
         ],
         "y": [
          9.525160789489746,
          9.711938858032227,
          9.87690544128418,
          9.324037551879883,
          9.32750415802002,
          9.330548286437988,
          9.806800842285156,
          9.740653991699219,
          9.49023723602295,
          9.303182601928711,
          10.179213523864746,
          9.773716926574707,
          9.360774993896484,
          9.566193580627441,
          9.45326042175293,
          9.955434799194336,
          9.864761352539062,
          9.708799362182617,
          9.520862579345703,
          9.363794326782227,
          9.819907188415527,
          9.672609329223633,
          9.919232368469238,
          9.436717987060547,
          9.626343727111816
         ]
        },
        {
         "hoverinfo": "text",
         "hovertext": [
          "play sugarfree fantasy",
          "play various artist fanfare hunger thirst",
          "play anja speak silver silent gold",
          "ptdrrrr nintendo schwitz",
          "get ro pfp would sit one bestie",
          "play lisa del bo pearl like",
          "play snollebollekes springen nondeju nd bass remix",
          "anyone else clubhouse join wonder u",
          "play django wagner de muzikant",
          "bose dk sit naked",
          "play wolter kroes viva hollandia",
          "play nicole wonderful",
          "play jayh nice day",
          "play f aschtb nkler partyplanet",
          "play fantasy casanova",
          "play richard anthony j entends siffler le train version remastered",
          "play hut jordan jay idetto mood",
          "play hansi hinterseer god life earth",
          "play luc steeno played accordion",
          "play bob benny love anyway",
          "play semino rossi alone tonight",
          "play bobby day rockin robin",
          null
         ],
         "marker": {
          "opacity": 0.5,
          "size": 5
         },
         "mode": "markers+text",
         "name": "6_play_sit_fantasy",
         "text": [
          "",
          "",
          "",
          "",
          "",
          "",
          "",
          "",
          "",
          "",
          "",
          "",
          "",
          "",
          "",
          "",
          "",
          "",
          "",
          "",
          "",
          "",
          "6_play_sit_fantasy"
         ],
         "textfont": {
          "size": 12
         },
         "type": "scattergl",
         "x": [
          5.481268405914307,
          5.460177421569824,
          5.5416646003723145,
          5.45499849319458,
          5.298786640167236,
          5.4874725341796875,
          5.455256938934326,
          5.332840442657471,
          5.47871208190918,
          5.328799247741699,
          5.466239929199219,
          5.52598762512207,
          5.50272798538208,
          5.501440048217773,
          5.452272891998291,
          5.411375999450684,
          5.45401668548584,
          5.5031633377075195,
          5.422391414642334,
          5.460336208343506,
          5.340333938598633,
          5.441750526428223,
          5.4455461502075195
         ],
         "y": [
          8.776610374450684,
          8.755043029785156,
          8.817095756530762,
          8.728850364685059,
          9.107836723327637,
          8.752653121948242,
          8.720047950744629,
          8.91745662689209,
          8.692709922790527,
          8.844071388244629,
          8.766698837280273,
          8.78104305267334,
          8.795417785644531,
          8.803309440612793,
          8.817984580993652,
          8.713226318359375,
          8.782516479492188,
          8.796632766723633,
          8.715522766113281,
          8.794114112854004,
          8.932075500488281,
          8.741246223449707,
          8.79782485961914
         ]
        },
        {
         "hoverinfo": "text",
         "hovertext": [
          "quite simply interest le",
          "afghanistan saudi arabia dream afternoon b ziers lidl supermarket avenue de badones",
          "piece bravery alain soral russie toulon",
          "alain soral transition formal logic concrete logic",
          "piece bravery alain soral ntm alain soral fr jus",
          "peugeot affair documentary available vo kontre kulture",
          "meryeminelindentut",
          "see episode",
          "philippe de maistre courageous priest people respect health dictatorship",
          "celebration napoleon bicentenary disturb laughter minister woman elisabeth moreno",
          "soral answer episode alexandre langlois",
          "panic kitchen rebel restaurateur deprive aid bruno le maire via",
          "alain soral answer pierre de brague question understand era compensation complacency",
          "soral answer erfm twenty fourth batch",
          "panic kitchen rebel restaurateur deprive aid bruno le maire",
          "soral answer episode alain soral family program st phane douard",
          "marcel obama lukashenko karine lacombe fourtillan student",
          "race alain soral fr jus may",
          "france freak theory small bubble heat pan water first surface",
          "franco albrecht neo nazi terrorist disguise syrian migrant victor young repentant lfi return v",
          "dr louis fouch hold bonus",
          "didier raoult must stop war press release say go die",
          null
         ],
         "marker": {
          "opacity": 0.5,
          "size": 5
         },
         "mode": "markers+text",
         "name": "7_soral_alain_answer",
         "text": [
          "",
          "",
          "",
          "",
          "",
          "",
          "",
          "",
          "",
          "",
          "",
          "",
          "",
          "",
          "",
          "",
          "",
          "",
          "",
          "",
          "",
          "",
          "7_soral_alain_answer"
         ],
         "textfont": {
          "size": 12
         },
         "type": "scattergl",
         "x": [
          3.001004934310913,
          2.172996997833252,
          2.5848610401153564,
          2.777397871017456,
          2.609137535095215,
          2.696809768676758,
          2.169036388397217,
          3.066485643386841,
          2.5581605434417725,
          2.550337314605713,
          2.7781009674072266,
          2.418546676635742,
          2.837982654571533,
          2.8580029010772705,
          2.4989664554595947,
          2.75009822845459,
          2.3742270469665527,
          2.6435182094573975,
          2.5618808269500732,
          2.3604512214660645,
          3.031484603881836,
          2.1531262397766113,
          2.6114823818206787
         ],
         "y": [
          9.64051628112793,
          9.768390655517578,
          9.5186767578125,
          9.480878829956055,
          9.489134788513184,
          9.37966537475586,
          9.808403968811035,
          9.571676254272461,
          9.59434986114502,
          9.58012866973877,
          9.496573448181152,
          9.669779777526855,
          9.525386810302734,
          9.540932655334473,
          9.619939804077148,
          9.467456817626953,
          9.86731243133545,
          9.44378662109375,
          9.674439430236816,
          10.012921333312988,
          9.691327095031738,
          10.126614570617676,
          9.634922981262207
         ]
        },
        {
         "hoverinfo": "text",
         "hovertext": [
          "create beast finally bring",
          "good news would prefer rehabilitation center",
          "warn left wing fight morph pandemic lockdown climate lockdown climate lockdown private vehicle use b",
          "disability heval",
          "covid warn yr old survivor call resistance recur fascism tend hold onto rather magical amp",
          "daniel year old athletic intensive care bfm tv manipulation",
          "great reset big cleaning episode great reset health",
          "mdrrrr see pair look like clutch pedal",
          "new normal watchword great reset",
          "watch first part minute great reset great reset spring cleaning great r",
          "plz support student amp part campaign",
          "great reset spring cleaning episode free extract",
          "see yet another major purge go today linktree find place",
          "heal unity creature",
          "people bailing tube switch lbry odysee",
          "go leclerc reimburse x psk difference found penny product cheaper htt",
          "start reimburse ruin fn",
          null
         ],
         "marker": {
          "opacity": 0.5,
          "size": 5
         },
         "mode": "markers+text",
         "name": "8_reset_great_cleaning",
         "text": [
          "",
          "",
          "",
          "",
          "",
          "",
          "",
          "",
          "",
          "",
          "",
          "",
          "",
          "",
          "",
          "",
          "",
          "8_reset_great_cleaning"
         ],
         "textfont": {
          "size": 12
         },
         "type": "scattergl",
         "x": [
          3.709366798400879,
          3.6702322959899902,
          3.8967955112457275,
          3.6635096073150635,
          3.6381711959838867,
          3.7932698726654053,
          3.478806972503662,
          4.136224269866943,
          3.5043673515319824,
          3.4681992530822754,
          3.5081987380981445,
          3.4312491416931152,
          3.5275681018829346,
          3.6242191791534424,
          4.0612053871154785,
          3.5308828353881836,
          3.566582441329956,
          3.65934419631958
         ],
         "y": [
          10.71530818939209,
          10.485536575317383,
          11.191689491271973,
          10.537432670593262,
          10.834537506103516,
          10.455870628356934,
          9.923060417175293,
          11.004084587097168,
          9.995687484741211,
          9.935391426086426,
          11.105259895324707,
          9.875157356262207,
          9.775283813476562,
          10.628183364868164,
          11.094648361206055,
          9.900434494018555,
          9.990494728088379,
          10.438121795654297
         ]
        },
        {
         "hoverinfo": "text",
         "hovertext": [
          "oppose islam racist oppose german national socialism soviet communism nothing w color",
          "philosophy national socialism reawaking mankind consciousness nature importance ra",
          "hitler nazi war happen racist hat anyone blonde hair amp blue eye",
          "historically speak virtually every time communism come power regime manufacture artificial famine",
          "hysteria freak see hitler literally everywhere go continue affirm say fo",
          "anti hitler sentiment reach fanatical insanity le severity religious hysteria anyone stoop",
          "marxism virus mutates spread host host time bolshevism communism social democracy",
          "communism always creates resistance logical response communism always fascism na",
          "philosophy lie national socialism man lie",
          "communism symptom disease disease look communism come look",
          "blame anyone know truth adolf hitler amp national socialism victor write history",
          "want socialism",
          "natural redhead rare people planet easily one beautiful anyone natural",
          "historically whenever marxist bolshevik communist regime take power one first thing",
          "ancient celt dyed hair blonde lime also dyed clothes various color plant berry",
          "look like everything prove hitler right",
          null
         ],
         "marker": {
          "opacity": 0.5,
          "size": 5
         },
         "mode": "markers+text",
         "name": "9_communism_socialism_hitler",
         "text": [
          "",
          "",
          "",
          "",
          "",
          "",
          "",
          "",
          "",
          "",
          "",
          "",
          "",
          "",
          "",
          "",
          "9_communism_socialism_hitler"
         ],
         "textfont": {
          "size": 12
         },
         "type": "scattergl",
         "x": [
          4.446174621582031,
          4.556378364562988,
          5.335359573364258,
          4.455753326416016,
          5.157112121582031,
          5.200443267822266,
          4.491894245147705,
          4.432483673095703,
          4.505378246307373,
          4.488565444946289,
          5.033498764038086,
          4.465049743652344,
          5.355903625488281,
          4.477531433105469,
          5.3512420654296875,
          5.1550612449646,
          4.806739330291748
         ],
         "y": [
          13.199450492858887,
          13.234354019165039,
          13.670056343078613,
          13.196020126342773,
          13.538926124572754,
          13.488102912902832,
          13.257916450500488,
          13.189142227172852,
          13.268562316894531,
          13.251327514648438,
          13.458366394042969,
          13.218253135681152,
          13.662017822265625,
          13.207386016845703,
          13.69235897064209,
          13.495536804199219,
          13.37673568725586
         ]
        }
       ],
       "layout": {
        "annotations": [
         {
          "showarrow": false,
          "text": "D1",
          "x": 0.310805107653141,
          "y": 12.050221967697142,
          "yshift": 10
         },
         {
          "showarrow": false,
          "text": "D2",
          "x": 4.651767206937075,
          "xshift": 10,
          "y": 16.711640501022337
         }
        ],
        "height": 750,
        "shapes": [
         {
          "line": {
           "color": "#CFD8DC",
           "width": 2
          },
          "type": "line",
          "x0": 4.651767206937075,
          "x1": 4.651767206937075,
          "y0": 7.388803434371948,
          "y1": 16.711640501022337
         },
         {
          "line": {
           "color": "#9E9E9E",
           "width": 2
          },
          "type": "line",
          "x0": 0.310805107653141,
          "x1": 8.992729306221008,
          "y0": 12.050221967697142,
          "y1": 12.050221967697142
         }
        ],
        "template": {
         "data": {
          "bar": [
           {
            "error_x": {
             "color": "rgb(36,36,36)"
            },
            "error_y": {
             "color": "rgb(36,36,36)"
            },
            "marker": {
             "line": {
              "color": "white",
              "width": 0.5
             },
             "pattern": {
              "fillmode": "overlay",
              "size": 10,
              "solidity": 0.2
             }
            },
            "type": "bar"
           }
          ],
          "barpolar": [
           {
            "marker": {
             "line": {
              "color": "white",
              "width": 0.5
             },
             "pattern": {
              "fillmode": "overlay",
              "size": 10,
              "solidity": 0.2
             }
            },
            "type": "barpolar"
           }
          ],
          "carpet": [
           {
            "aaxis": {
             "endlinecolor": "rgb(36,36,36)",
             "gridcolor": "white",
             "linecolor": "white",
             "minorgridcolor": "white",
             "startlinecolor": "rgb(36,36,36)"
            },
            "baxis": {
             "endlinecolor": "rgb(36,36,36)",
             "gridcolor": "white",
             "linecolor": "white",
             "minorgridcolor": "white",
             "startlinecolor": "rgb(36,36,36)"
            },
            "type": "carpet"
           }
          ],
          "choropleth": [
           {
            "colorbar": {
             "outlinewidth": 1,
             "tickcolor": "rgb(36,36,36)",
             "ticks": "outside"
            },
            "type": "choropleth"
           }
          ],
          "contour": [
           {
            "colorbar": {
             "outlinewidth": 1,
             "tickcolor": "rgb(36,36,36)",
             "ticks": "outside"
            },
            "colorscale": [
             [
              0,
              "#440154"
             ],
             [
              0.1111111111111111,
              "#482878"
             ],
             [
              0.2222222222222222,
              "#3e4989"
             ],
             [
              0.3333333333333333,
              "#31688e"
             ],
             [
              0.4444444444444444,
              "#26828e"
             ],
             [
              0.5555555555555556,
              "#1f9e89"
             ],
             [
              0.6666666666666666,
              "#35b779"
             ],
             [
              0.7777777777777778,
              "#6ece58"
             ],
             [
              0.8888888888888888,
              "#b5de2b"
             ],
             [
              1,
              "#fde725"
             ]
            ],
            "type": "contour"
           }
          ],
          "contourcarpet": [
           {
            "colorbar": {
             "outlinewidth": 1,
             "tickcolor": "rgb(36,36,36)",
             "ticks": "outside"
            },
            "type": "contourcarpet"
           }
          ],
          "heatmap": [
           {
            "colorbar": {
             "outlinewidth": 1,
             "tickcolor": "rgb(36,36,36)",
             "ticks": "outside"
            },
            "colorscale": [
             [
              0,
              "#440154"
             ],
             [
              0.1111111111111111,
              "#482878"
             ],
             [
              0.2222222222222222,
              "#3e4989"
             ],
             [
              0.3333333333333333,
              "#31688e"
             ],
             [
              0.4444444444444444,
              "#26828e"
             ],
             [
              0.5555555555555556,
              "#1f9e89"
             ],
             [
              0.6666666666666666,
              "#35b779"
             ],
             [
              0.7777777777777778,
              "#6ece58"
             ],
             [
              0.8888888888888888,
              "#b5de2b"
             ],
             [
              1,
              "#fde725"
             ]
            ],
            "type": "heatmap"
           }
          ],
          "heatmapgl": [
           {
            "colorbar": {
             "outlinewidth": 1,
             "tickcolor": "rgb(36,36,36)",
             "ticks": "outside"
            },
            "colorscale": [
             [
              0,
              "#440154"
             ],
             [
              0.1111111111111111,
              "#482878"
             ],
             [
              0.2222222222222222,
              "#3e4989"
             ],
             [
              0.3333333333333333,
              "#31688e"
             ],
             [
              0.4444444444444444,
              "#26828e"
             ],
             [
              0.5555555555555556,
              "#1f9e89"
             ],
             [
              0.6666666666666666,
              "#35b779"
             ],
             [
              0.7777777777777778,
              "#6ece58"
             ],
             [
              0.8888888888888888,
              "#b5de2b"
             ],
             [
              1,
              "#fde725"
             ]
            ],
            "type": "heatmapgl"
           }
          ],
          "histogram": [
           {
            "marker": {
             "line": {
              "color": "white",
              "width": 0.6
             }
            },
            "type": "histogram"
           }
          ],
          "histogram2d": [
           {
            "colorbar": {
             "outlinewidth": 1,
             "tickcolor": "rgb(36,36,36)",
             "ticks": "outside"
            },
            "colorscale": [
             [
              0,
              "#440154"
             ],
             [
              0.1111111111111111,
              "#482878"
             ],
             [
              0.2222222222222222,
              "#3e4989"
             ],
             [
              0.3333333333333333,
              "#31688e"
             ],
             [
              0.4444444444444444,
              "#26828e"
             ],
             [
              0.5555555555555556,
              "#1f9e89"
             ],
             [
              0.6666666666666666,
              "#35b779"
             ],
             [
              0.7777777777777778,
              "#6ece58"
             ],
             [
              0.8888888888888888,
              "#b5de2b"
             ],
             [
              1,
              "#fde725"
             ]
            ],
            "type": "histogram2d"
           }
          ],
          "histogram2dcontour": [
           {
            "colorbar": {
             "outlinewidth": 1,
             "tickcolor": "rgb(36,36,36)",
             "ticks": "outside"
            },
            "colorscale": [
             [
              0,
              "#440154"
             ],
             [
              0.1111111111111111,
              "#482878"
             ],
             [
              0.2222222222222222,
              "#3e4989"
             ],
             [
              0.3333333333333333,
              "#31688e"
             ],
             [
              0.4444444444444444,
              "#26828e"
             ],
             [
              0.5555555555555556,
              "#1f9e89"
             ],
             [
              0.6666666666666666,
              "#35b779"
             ],
             [
              0.7777777777777778,
              "#6ece58"
             ],
             [
              0.8888888888888888,
              "#b5de2b"
             ],
             [
              1,
              "#fde725"
             ]
            ],
            "type": "histogram2dcontour"
           }
          ],
          "mesh3d": [
           {
            "colorbar": {
             "outlinewidth": 1,
             "tickcolor": "rgb(36,36,36)",
             "ticks": "outside"
            },
            "type": "mesh3d"
           }
          ],
          "parcoords": [
           {
            "line": {
             "colorbar": {
              "outlinewidth": 1,
              "tickcolor": "rgb(36,36,36)",
              "ticks": "outside"
             }
            },
            "type": "parcoords"
           }
          ],
          "pie": [
           {
            "automargin": true,
            "type": "pie"
           }
          ],
          "scatter": [
           {
            "fillpattern": {
             "fillmode": "overlay",
             "size": 10,
             "solidity": 0.2
            },
            "type": "scatter"
           }
          ],
          "scatter3d": [
           {
            "line": {
             "colorbar": {
              "outlinewidth": 1,
              "tickcolor": "rgb(36,36,36)",
              "ticks": "outside"
             }
            },
            "marker": {
             "colorbar": {
              "outlinewidth": 1,
              "tickcolor": "rgb(36,36,36)",
              "ticks": "outside"
             }
            },
            "type": "scatter3d"
           }
          ],
          "scattercarpet": [
           {
            "marker": {
             "colorbar": {
              "outlinewidth": 1,
              "tickcolor": "rgb(36,36,36)",
              "ticks": "outside"
             }
            },
            "type": "scattercarpet"
           }
          ],
          "scattergeo": [
           {
            "marker": {
             "colorbar": {
              "outlinewidth": 1,
              "tickcolor": "rgb(36,36,36)",
              "ticks": "outside"
             }
            },
            "type": "scattergeo"
           }
          ],
          "scattergl": [
           {
            "marker": {
             "colorbar": {
              "outlinewidth": 1,
              "tickcolor": "rgb(36,36,36)",
              "ticks": "outside"
             }
            },
            "type": "scattergl"
           }
          ],
          "scattermapbox": [
           {
            "marker": {
             "colorbar": {
              "outlinewidth": 1,
              "tickcolor": "rgb(36,36,36)",
              "ticks": "outside"
             }
            },
            "type": "scattermapbox"
           }
          ],
          "scatterpolar": [
           {
            "marker": {
             "colorbar": {
              "outlinewidth": 1,
              "tickcolor": "rgb(36,36,36)",
              "ticks": "outside"
             }
            },
            "type": "scatterpolar"
           }
          ],
          "scatterpolargl": [
           {
            "marker": {
             "colorbar": {
              "outlinewidth": 1,
              "tickcolor": "rgb(36,36,36)",
              "ticks": "outside"
             }
            },
            "type": "scatterpolargl"
           }
          ],
          "scatterternary": [
           {
            "marker": {
             "colorbar": {
              "outlinewidth": 1,
              "tickcolor": "rgb(36,36,36)",
              "ticks": "outside"
             }
            },
            "type": "scatterternary"
           }
          ],
          "surface": [
           {
            "colorbar": {
             "outlinewidth": 1,
             "tickcolor": "rgb(36,36,36)",
             "ticks": "outside"
            },
            "colorscale": [
             [
              0,
              "#440154"
             ],
             [
              0.1111111111111111,
              "#482878"
             ],
             [
              0.2222222222222222,
              "#3e4989"
             ],
             [
              0.3333333333333333,
              "#31688e"
             ],
             [
              0.4444444444444444,
              "#26828e"
             ],
             [
              0.5555555555555556,
              "#1f9e89"
             ],
             [
              0.6666666666666666,
              "#35b779"
             ],
             [
              0.7777777777777778,
              "#6ece58"
             ],
             [
              0.8888888888888888,
              "#b5de2b"
             ],
             [
              1,
              "#fde725"
             ]
            ],
            "type": "surface"
           }
          ],
          "table": [
           {
            "cells": {
             "fill": {
              "color": "rgb(237,237,237)"
             },
             "line": {
              "color": "white"
             }
            },
            "header": {
             "fill": {
              "color": "rgb(217,217,217)"
             },
             "line": {
              "color": "white"
             }
            },
            "type": "table"
           }
          ]
         },
         "layout": {
          "annotationdefaults": {
           "arrowhead": 0,
           "arrowwidth": 1
          },
          "autotypenumbers": "strict",
          "coloraxis": {
           "colorbar": {
            "outlinewidth": 1,
            "tickcolor": "rgb(36,36,36)",
            "ticks": "outside"
           }
          },
          "colorscale": {
           "diverging": [
            [
             0,
             "rgb(103,0,31)"
            ],
            [
             0.1,
             "rgb(178,24,43)"
            ],
            [
             0.2,
             "rgb(214,96,77)"
            ],
            [
             0.3,
             "rgb(244,165,130)"
            ],
            [
             0.4,
             "rgb(253,219,199)"
            ],
            [
             0.5,
             "rgb(247,247,247)"
            ],
            [
             0.6,
             "rgb(209,229,240)"
            ],
            [
             0.7,
             "rgb(146,197,222)"
            ],
            [
             0.8,
             "rgb(67,147,195)"
            ],
            [
             0.9,
             "rgb(33,102,172)"
            ],
            [
             1,
             "rgb(5,48,97)"
            ]
           ],
           "sequential": [
            [
             0,
             "#440154"
            ],
            [
             0.1111111111111111,
             "#482878"
            ],
            [
             0.2222222222222222,
             "#3e4989"
            ],
            [
             0.3333333333333333,
             "#31688e"
            ],
            [
             0.4444444444444444,
             "#26828e"
            ],
            [
             0.5555555555555556,
             "#1f9e89"
            ],
            [
             0.6666666666666666,
             "#35b779"
            ],
            [
             0.7777777777777778,
             "#6ece58"
            ],
            [
             0.8888888888888888,
             "#b5de2b"
            ],
            [
             1,
             "#fde725"
            ]
           ],
           "sequentialminus": [
            [
             0,
             "#440154"
            ],
            [
             0.1111111111111111,
             "#482878"
            ],
            [
             0.2222222222222222,
             "#3e4989"
            ],
            [
             0.3333333333333333,
             "#31688e"
            ],
            [
             0.4444444444444444,
             "#26828e"
            ],
            [
             0.5555555555555556,
             "#1f9e89"
            ],
            [
             0.6666666666666666,
             "#35b779"
            ],
            [
             0.7777777777777778,
             "#6ece58"
            ],
            [
             0.8888888888888888,
             "#b5de2b"
            ],
            [
             1,
             "#fde725"
            ]
           ]
          },
          "colorway": [
           "#1F77B4",
           "#FF7F0E",
           "#2CA02C",
           "#D62728",
           "#9467BD",
           "#8C564B",
           "#E377C2",
           "#7F7F7F",
           "#BCBD22",
           "#17BECF"
          ],
          "font": {
           "color": "rgb(36,36,36)"
          },
          "geo": {
           "bgcolor": "white",
           "lakecolor": "white",
           "landcolor": "white",
           "showlakes": true,
           "showland": true,
           "subunitcolor": "white"
          },
          "hoverlabel": {
           "align": "left"
          },
          "hovermode": "closest",
          "mapbox": {
           "style": "light"
          },
          "paper_bgcolor": "white",
          "plot_bgcolor": "white",
          "polar": {
           "angularaxis": {
            "gridcolor": "rgb(232,232,232)",
            "linecolor": "rgb(36,36,36)",
            "showgrid": false,
            "showline": true,
            "ticks": "outside"
           },
           "bgcolor": "white",
           "radialaxis": {
            "gridcolor": "rgb(232,232,232)",
            "linecolor": "rgb(36,36,36)",
            "showgrid": false,
            "showline": true,
            "ticks": "outside"
           }
          },
          "scene": {
           "xaxis": {
            "backgroundcolor": "white",
            "gridcolor": "rgb(232,232,232)",
            "gridwidth": 2,
            "linecolor": "rgb(36,36,36)",
            "showbackground": true,
            "showgrid": false,
            "showline": true,
            "ticks": "outside",
            "zeroline": false,
            "zerolinecolor": "rgb(36,36,36)"
           },
           "yaxis": {
            "backgroundcolor": "white",
            "gridcolor": "rgb(232,232,232)",
            "gridwidth": 2,
            "linecolor": "rgb(36,36,36)",
            "showbackground": true,
            "showgrid": false,
            "showline": true,
            "ticks": "outside",
            "zeroline": false,
            "zerolinecolor": "rgb(36,36,36)"
           },
           "zaxis": {
            "backgroundcolor": "white",
            "gridcolor": "rgb(232,232,232)",
            "gridwidth": 2,
            "linecolor": "rgb(36,36,36)",
            "showbackground": true,
            "showgrid": false,
            "showline": true,
            "ticks": "outside",
            "zeroline": false,
            "zerolinecolor": "rgb(36,36,36)"
           }
          },
          "shapedefaults": {
           "fillcolor": "black",
           "line": {
            "width": 0
           },
           "opacity": 0.3
          },
          "ternary": {
           "aaxis": {
            "gridcolor": "rgb(232,232,232)",
            "linecolor": "rgb(36,36,36)",
            "showgrid": false,
            "showline": true,
            "ticks": "outside"
           },
           "baxis": {
            "gridcolor": "rgb(232,232,232)",
            "linecolor": "rgb(36,36,36)",
            "showgrid": false,
            "showline": true,
            "ticks": "outside"
           },
           "bgcolor": "white",
           "caxis": {
            "gridcolor": "rgb(232,232,232)",
            "linecolor": "rgb(36,36,36)",
            "showgrid": false,
            "showline": true,
            "ticks": "outside"
           }
          },
          "title": {
           "x": 0.05
          },
          "xaxis": {
           "automargin": true,
           "gridcolor": "rgb(232,232,232)",
           "linecolor": "rgb(36,36,36)",
           "showgrid": false,
           "showline": true,
           "ticks": "outside",
           "title": {
            "standoff": 15
           },
           "zeroline": false,
           "zerolinecolor": "rgb(36,36,36)"
          },
          "yaxis": {
           "automargin": true,
           "gridcolor": "rgb(232,232,232)",
           "linecolor": "rgb(36,36,36)",
           "showgrid": false,
           "showline": true,
           "ticks": "outside",
           "title": {
            "standoff": 15
           },
           "zeroline": false,
           "zerolinecolor": "rgb(36,36,36)"
          }
         }
        },
        "title": {
         "font": {
          "color": "Black",
          "size": 22
         },
         "text": "<b>Documents and Topics",
         "x": 0.5,
         "xanchor": "center",
         "yanchor": "top"
        },
        "width": 1200,
        "xaxis": {
         "visible": false
        },
        "yaxis": {
         "visible": false
        }
       }
      },
      "text/html": [
       "<div>                            <div id=\"bed4fd8f-a389-44ed-b552-64b7155fe861\" class=\"plotly-graph-div\" style=\"height:750px; width:1200px;\"></div>            <script type=\"text/javascript\">                require([\"plotly\"], function(Plotly) {                    window.PLOTLYENV=window.PLOTLYENV || {};                                    if (document.getElementById(\"bed4fd8f-a389-44ed-b552-64b7155fe861\")) {                    Plotly.newPlot(                        \"bed4fd8f-a389-44ed-b552-64b7155fe861\",                        [{\"hoverinfo\":\"text\",\"hovertext\":[\"still percent hungry live india constantly gini coefficient rise data present poverty al\",\"gt little girl also kinky someone explain part campaign normalize idea\",\"dark circle know sign\",\"thank australia israel chamber commerce infrastructure showcase great event discus many opportuni\",\"struggle real god nowhere bible say worry stress amp\",\"accord news source suspect detain release name description virtual\",\"people arm security shut hell gun control laughable allow protect themse\",\"sayer die\",\"anyone know ratio jew ce major american corporation\",\"nikol pashinyan prime minister armenia confesses occupation percent shusha populati\",\"china amp iran control biden commie amp islamic supremacist long history unite destroy common enemy\",\"queer activist hit woman come shout revolt system prostitution ra\",\"play celine dion leave without eurovision grand prix\",\"fuck petty go year old man weak pathetic creature\",\"berry case jeane manson accuse member pedophile sect coline berry via\",\"call domestic terrorism see call terrorism ground political affiliat\",\"major victory domestic terrorism america today fail huffington post fire radical\",\"still believe live free country\",\"terror canada nye amir abdulrahman amp al azan shah muhammad drag police sgt andrew harnett death enrichers\",\"boris johnson mr crisis mr liar mr clueless mr corrupt mr racist mr money grabber mr public heal\",\"basically back foreign war shipping american job sea\",\"muslim mayor london fire new year eve firework display feature black life matter marxist clenched\",\"friend waffen veteran wiking division swore cold ext\",\"say\",\"enrichment ireland mob african migrant black life matter communist try attack bus full irish people\",\"equality liberal construct\",\"almost every day quietly think amerindian actually choice fight openly\",\"way bad apartheid state terrorist state terrorizes surround country\",\"government surround fence arm military guard planning unspeakably ho\",\"none organic happen naturally manufacture\",\"censorship laughable pathetic scar conservative\",\"shakespeare sex arcuri johnson read shakespeare sex sofa london mayo\",\"anyone know ratio jew ce major american corporation\",\"everything david hogg reinforces belief one allow vote engage political discours\",\"big bank corporation funding inversion normal healthy society question big bank\",\"buzyn amp co judged crime humanity want new nuremberg\",\"allege nurse practitioner threaten deny people treatment political leaning someone sho\",\"people really need stop use child instrument propaganda fair hardl\",\"detest people every part medium idiot support imagine guy n h ei r si de nobod\",\"man reaps sow lago puelo neighbor receive alberto badly must end run away\",\"let perfectly honest left actually care victim mass shooting se\",\"go year old woman nothing justice act revenge\",\"sister\",\"although one neutral today time everyone inclination towards mine also neutral\",\"daily reminder current president united state say good thing found stock america\",\"new gab post burn coal pay toll meme\",\"fact politician scream gun control trace back george soros gun control\",\"whole event always control western country roll social credit system like comm\",\"threatens violence manager video say hope others find beat tri\",\"ever notice literally sea protest medium like hype sign write english\",\"end attack natural order era insanity become universal new age religion\",\"tell russia never cucked j\",\"baaaaaaaaaaaaa\",\"patriot fight back san diego gym owner sue state amp county official tyrannical lockdown measure wa\",\"get ready lady gentleman criminal illegitimate government go wag open war p\",\"terrorist come terrorist come\",\"warn conservative dangerous new antifa doxxing group beware deplatform hate left wing deplatform hate lat\",\"brexit disaster volume export go british port channel tunnell eu fell last month\",\"leader proud boy former informant case human traffic narcotic\",\"satanism free rule everyday living mondaymotivation freedom sound monday blo\",\"stop banker eat dumpster\",\"world live world people celebrate turn family member mob\",\"people celebrate genocide social medium platform allow yet told live wh\",\"time school place child could learn safety thanks importation di\",\"america soft weak embarrass joke entire world laugh u pathetic government\",\"conquer illegal minor brought dallas male age\",\"find ancient statue like sober experience excite one statue represent\",\"assange never gaol expose war crime u government always mystifies\",\"didnt happen would b funny\",\"timeline evidence lazy choice\",\"downfall america sum single image\",\"left preaches unity heal carry violence denounce violent\",\"country need endless warfare behalf israel get ta make world safe god chosen\",\"america laughingstock\",\"richard berry admits violent catherine hiegel jeane manson\",\"favor report guy try dox\",\"go take people stand shame everyone stood watch\",\"great talk common challenge opportunity u congress always bastion su\",\"capitol wrap barbed wire look like capitol socialist country america\",\"firearm registration always lead firearm confiscation always without exception need contact\",\"warn communist weaponize fake asian hate crime narrative plot march th u protest party liberation socialis\",\"appal homeless queue food last night soup kitchen freeze condition ten year toryism\",\"teach child follow god world teach\",\"want live around u want live around mutually peacefully separate\",\"texas lead freedom via\",\"kind interest timing soros myanmar\",\"manage\",\"isolated act bullying result illegitimate government flood white country\",\"fact get hit hard game stop stock tell one thing people short stock\",\"yes true leftist lot common nazi\",\"fiery mostly peaceful prize\",\"people think boris johnson resign prime minister think continue office accord\",\"leftist never held accountable vicious public threat violence keep make trump\",\"always little shit think smarter elder inevitably end shit\",\"remember current era become naturally manufacture slowly generation\",\"right give british journalism coverage brexit covid\",\"freedom gift beyond estimate give god nation perseverance courage consistency\",\"shame wrongly announce julian assange release bail instead issue correction chan\",\"warn parent virginia meet atif qarni secretary education appoint va governor northam qarni born\",\"current swallower\",\"safely enjoy stroll around mall anymore virtually every mall go\",\"fraud alert joe biden amp harris resurrect left wing lie call hate crime asian american\",\"turn violent criminal care gun illegal carry\",\"main stream medium work international banker international banker fully human hurt u\",\"barack obama blame boulder islamic attack disaffection racism misogyny call gun control mean\",\"shill foreign domestic enemy\",\"arrest people fraudulently get child college however even investigate official fraudulent\",\"pay middle eastern terrorist smuggle u via mexican border people sw\",\"left protects domestic terrorist whereas right abandon\",\"insane insane dangerous rhetoric use justify vicious attack innocent whi\",\"must watch arizona parent fight back school board communist anti racism initiative child indoctrin\",\"much bad everything try pretend trump\",\"love george monbiot pummel andrew bowie monbiot absolutely cool measure logical bowie typic\",\"call target harassment\",\"allahu akbar allahu akbar allahu akbar last word cockpit flight\",\"great reset eat bug future proclaims world economic forum unelected self anoint global elitist post vi\",\"israel still forefront dictatorship\",\"people want walk car well illusion remain anyway good morning thursday thought\",\"pulse farmer need price support edible oil\",\"know go use eternal justification rob freedom right\",\"julian assange release bail\",\"trouble get upset say aaj english\",\"help dad attack antifa attack break arm brave dad campaign canada give child drug change\",\"put account protect mode\",\"want drive neighborhood let driven away gegendemo af\",\"power\",\"voice even low eye level straight neither sign show saxon begin\",\"seethe harder parasite freak\",\"black dude see white guy get shot death response shit like see creature want\",\"innovation molasses possible clamp liquor\",\"even know could shoot mile wow seriousness idiot like allow\",\"everything come existence creates opposite light darkness heat cold life death matter anti\",\"flashback democrat whitewash jihad pulse nightclub islamic terror attack amp blame gun instead left u jihad attack\",\"good pornography toxic legally allow exist\",\"possibly scam divert funding community could possibly scam get\",\"keep weed clean crop care farmer brother weed sister mia khalifa\",\"time people put position power influence base ability base merit\",\"want know exactly many firearm exactly many round ammunition\",\"vote ossoff would need remain vote win\",\"video perfectly illustrates rapid decline quality living u america bust je\",\"whine tv artist lend voice family victim\",\"today first day zero degree entire hour\",\"daily reminder george soros bill gate one let see keep distract pacify\",\"best left wing joke day islamic terrorist shoot someone gun fault make stu\",\"tik tok innocent social network indian redneck year old quiet fun\",\"amount money ever bring equality equality exist anywhere nature brib\",\"cosmetic industry perfumery trade also see existence danger open letter appeal\",\"get ready people government move\",\"hat white people era late great pop culture cool fashion trend\",\"illustrate little government care people nothing\",\"anyone knowingly allows baby poison toxic metal like deserves death penalty serio\",\"governor denounce democrat run twitter allows left attack jewish sile\",\"expose left wing agitator like greta thunberg sacrifice farmer feed global hatred modi thunberg may puppet\",\"whole road map thing psy ops lockdown end people amp business simply realise power amp n\",\"case understand politics work day age wrong opponent\",\"wrong incite intense dislike religion activity teach religion outrageous ir\",\"happy palm sunday amp begin week change world may walk close jesus death amp\",\"parliament need time\",\"rail go work\",\"encourage people call attitude like attitude could get arrest sentence\",\"true juice extractor gas chamber one step\",\"banker rob u generation feel slightest bit sorry finally robbed\",\"brittany huge slut\",\"two tower hand signal hmm\",\"never want equality always secretly want revenge\",\"hey general heard retire general major ig investigation involve army hid\",\"never go solve world problem spread lie hitler germany outlaw firearm ownership\",\"gradually begin hate video link\",\"muslim natural ally race sourc\",\"pay global security bunch scar trickster\",\"yes trump praise amaze international supporter thank supporter america stand\",\"yes even ruin small humble little farm state like wisconsin live people incom\",\"hesitate worn bottom people see inside let go colorful\",\"level security require wef aka enemy life annual meeting tell u\",\"come religious place thief come steal robber\",\"firstly thousand people hundred nice gaslighting sky news usual secondly cop\",\"wave illegal alien clearly fund believe really bought shirt th\",\"new gab post east west divide read way\",\"thank advertising\",\"nothing civil politics anymore politics war either accept prepare accordingly\",\"whole point right keep bear arm protect civilian government force crimina\",\"seriously bad news government move piece place carry illegal act\",\"right guy trial face ten year prison meme another guy give year sent\",\"dead boris johnson say everything could political epitaph indolent prime minister\",\"make farm economically viable sustainable enterprise small farmer india need carefully listen\",\"day say something sign point israel manufacturing war america china ru\",\"arrogation double entendre via\",\"crack smoking hunter biden cry racism deflect swedish sex scandal hunter smear come swedish authorit\",\"yeah stock market hello\",\"accusatory inversion modus operandi\",\"mine christine\",\"brexit cost uk gdp first year body blow uk economy plummet almost cer\",\"archive footage jeane manson sings child god pedophile sect via\",\"nobody owes fuck thing\",\"see biden openly celebrate white people go extinct america decade really care\",\"ficed rothschild return face face reality hysterical assa traor\",\"well guy entire continent call sure would great deal easy get\",\"accusation incest richard berry marilou berry support cousin coline\",\"one legally obligate hire people foreign country law tell hire citizen f\",\"attack u military eleven soldier fort bliss texas injured drinking antifreeze believe dr\",\"ammo hoarder make sure buy enough magazine load ammo boxed amm\",\"right style commission investigate blm antifa riot torched city su\",\"three sea rescue ng accuse complicity criminal smuggler\",\"never want equality never want mere empowerment either aim always empow\",\"america strange fetish reward idiocy need order become rich famous even get\",\"clearly target harassment veil threat violence\",\"want keep america safe stop import people want kill u simple\",null],\"marker\":{\"color\":\"#CFD8DC\",\"opacity\":0.5,\"size\":5},\"mode\":\"markers+text\",\"name\":\"other\",\"showlegend\":false,\"x\":[4.380726337432861,7.62307071685791,5.544577121734619,2.690709352493286,5.191940784454346,2.0215585231781006,3.904374599456787,5.271157741546631,3.95719838142395,0.780578076839447,3.3116683959960938,3.215397596359253,1.7284722328186035,5.857814788818359,1.7496944665908813,3.3337323665618896,2.596440553665161,4.790580749511719,2.1483922004699707,2.3187596797943115,1.9088340997695923,1.8826448917388916,3.3989014625549316,5.346940517425537,2.47731351852417,6.532279968261719,5.861730575561523,4.988327503204346,3.796308994293213,4.89973258972168,3.814077377319336,4.895463943481445,3.9552016258239746,2.8753793239593506,3.9375290870666504,2.38432240486145,3.150282859802246,3.448699951171875,2.819957971572876,6.690779209136963,3.472710132598877,5.81003475189209,5.386805534362793,2.9015300273895264,3.2540481090545654,4.051787853240967,3.764631748199463,3.852419853210449,3.885692596435547,5.62504768371582,5.134692192077637,5.726256370544434,5.573461532592773,3.7990238666534424,3.621486186981201,2.195054054260254,3.3383915424346924,2.235154867172241,2.723327159881592,5.160338401794434,4.002001762390137,3.5589346885681152,3.5807111263275146,1.7193235158920288,4.696737766265869,5.182260036468506,5.269104957580566,2.3283960819244385,2.1844887733459473,4.399117469787598,4.7381110191345215,3.549164056777954,3.269439935684204,4.684288501739502,1.7753196954727173,3.629594087600708,4.913568496704102,2.9437320232391357,3.7741150856018066,3.9719796180725098,3.3254308700561523,2.311518669128418,1.9106444120407104,5.444753646850586,4.641047477722168,3.3237104415893555,4.653447151184082,5.779052257537842,3.4542317390441895,3.7781822681427,4.6883039474487305,2.363130807876587,3.604987621307373,5.833170413970947,4.853240489959717,2.321542739868164,4.650356292724609,2.1479220390319824,2.3673837184906006,2.981541156768799,5.013421535491943,3.3934547901153564,3.9935991764068604,3.8592729568481445,6.221254825592041,3.1057589054107666,4.055071830749512,3.820385694503784,3.4706757068634033,3.783445119857788,7.163511276245117,4.6479411125183105,5.451530933380127,3.96577787399292,2.1562764644622803,2.961920738220215,3.2593839168548584,5.107730865478516,4.461338520050049,5.082735061645508,2.071936845779419,5.644952297210693,2.9188032150268555,3.98459529876709,5.334749698638916,4.360750675201416,5.700478553771973,4.645340442657471,6.160468101501465,2.847123861312866,3.9559671878814697,5.4101481437683105,3.423215627670288,5.003558158874512,3.9619534015655518,4.6937408447265625,4.3393707275390625,3.937213897705078,2.349327802658081,4.7454962730407715,5.008267879486084,2.589782238006592,3.2410755157470703,3.366975784301758,4.451876163482666,6.513426780700684,4.671872615814209,3.6766204833984375,5.58747673034668,4.531264305114746,5.1870598793029785,3.266162395477295,2.9899444580078125,4.167150020599365,2.8959598541259766,2.222511053085327,3.609299659729004,2.850177526473999,4.1542463302612305,4.223747730255127,2.7783889770507812,3.8890981674194336,5.431771278381348,5.511203289031982,6.51458215713501,2.684941291809082,4.024490833282471,3.875453472137451,6.063460826873779,3.8906917572021484,2.70375657081604,4.920265197753906,5.483029842376709,3.9333226680755615,2.0809314250946045,2.491992235183716,3.8231427669525146,3.992905378341675,4.036361217498779,3.548578977584839,3.9431207180023193,3.942906618118286,2.448822498321533,2.326153516769409,4.367989540100098,3.2833046913146973,2.83288311958313,4.966527938842773,3.469395875930786,2.8538036346435547,5.439458847045898,2.2784714698791504,1.8021785020828247,4.399734020233154,6.8923020362854,2.7654688358306885,3.806163787841797,1.7705256938934326,3.8940532207489014,2.9225971698760986,3.9928576946258545,4.020537853240967,2.5124499797821045,6.538113117218018,5.48557186126709,3.8518974781036377,1.695044994354248,3.920032501220703],\"y\":[11.891596794128418,12.106982231140137,11.266029357910156,11.082290649414062,12.910421371459961,10.583847045898438,13.68892765045166,10.440389633178711,13.924576759338379,10.549837112426758,12.362539291381836,13.413273811340332,10.048737525939941,10.677337646484375,10.958453178405762,12.831460952758789,13.051748275756836,12.717174530029297,11.304070472717285,12.242576599121094,12.504627227783203,11.72199535369873,10.548257827758789,10.489595413208008,11.874571800231934,11.583131790161133,11.824301719665527,12.286810874938965,13.575385093688965,11.793540000915527,12.643898010253906,9.20589542388916,13.906394958496094,12.405426979064941,11.790202140808105,10.538368225097656,12.664648056030273,11.125380516052246,11.646177291870117,12.053658485412598,13.092228889465332,10.676214218139648,9.703619003295898,12.537821769714355,12.254209518432617,11.225056648254395,13.562551498413086,11.769427299499512,10.16940975189209,11.735065460205078,13.070204734802246,12.40270709991455,9.678327560424805,13.563350677490234,12.441728591918945,11.444671630859375,12.633702278137207,12.226875305175781,10.460761070251465,13.007550239562988,11.482645988464355,11.919416427612305,11.983996391296387,11.297761917114258,12.168609619140625,12.51145076751709,13.684019088745117,10.631854057312012,11.982006072998047,11.2855224609375,12.131814002990723,13.096410751342773,12.332650184631348,12.157012939453125,10.943896293640137,10.273275375366211,10.902235984802246,12.139083862304688,13.327739715576172,13.718852043151855,12.59482479095459,11.952523231506348,11.39928913116455,12.700115203857422,12.686737060546875,12.112187385559082,11.86248779296875,12.419663429260254,12.260043144226074,13.108935356140137,12.695525169372559,12.264554023742676,13.088095664978027,10.653951644897461,11.784695625305176,12.1607084274292,12.67259693145752,10.626326560974121,11.715912818908691,10.43941593170166,11.678237915039062,12.931199073791504,13.722365379333496,11.553375244140625,13.020565032958984,12.725675582885742,12.06638240814209,11.48025894165039,13.060476303100586,12.848661422729492,12.954261779785156,12.273221969604492,9.930400848388672,12.99319076538086,11.504416465759277,12.008522033691406,12.314681053161621,11.536177635192871,11.868441581726074,13.13204288482666,10.633612632751465,11.502718925476074,10.841423034667969,10.72979736328125,11.722267150878906,11.49201488494873,11.465771675109863,13.73471736907959,12.397151947021484,10.110249519348145,13.837249755859375,13.038169860839844,13.111520767211914,11.978653907775879,11.95337200164795,11.83841609954834,11.362478256225586,13.917447090148926,12.293128967285156,12.112383842468262,10.639278411865234,12.623113632202148,12.269599914550781,13.042899131774902,9.64866828918457,11.583649635314941,11.731640815734863,12.502703666687012,13.71632194519043,12.24919605255127,12.085589408874512,12.941648483276367,12.270210266113281,11.636807441711426,12.566337585449219,11.517425537109375,11.032275199890137,12.088918685913086,11.118243217468262,12.213268280029297,9.977592468261719,11.537933349609375,9.766945838928223,11.265326499938965,11.591620445251465,10.512984275817871,13.72677993774414,10.154607772827148,12.285650253295898,11.52434253692627,13.501108169555664,12.09044361114502,10.822580337524414,10.742302894592285,11.411321640014648,12.030138969421387,12.902925491333008,11.30557632446289,9.875157356262207,12.485677719116211,13.673855781555176,13.68687629699707,10.580127716064453,12.23983383178711,11.847672462463379,12.250819206237793,9.64693832397461,14.1051025390625,12.213943481445312,10.10013198852539,9.757463455200195,12.201261520385742,10.926291465759277,10.837493896484375,12.765165328979492,11.80609130859375,11.506479263305664,10.941008567810059,11.573071479797363,10.678668975830078,13.78317642211914,13.233502388000488,10.58499813079834,11.581709861755371,11.978181838989258,12.990503311157227,12.490930557250977,11.921272277832031],\"type\":\"scattergl\"},{\"hoverinfo\":\"text\",\"hovertext\":[\"every single time\",\"thus globalists use power compete opposition make opposition illegal\",\"russia international regulation social medium moderation\",\"openly admit displace white people white place living white supremacist conspirac\",\"doubt fauci visit gay sauna bar highly doubt anything understand h\",\"act spiritual psychological warfare native european people white people nowhere else\",\"year say wag war white people finally understand sa\",\"asks compromise always include give right gain control refer democr\",\"white white law protects discriminate white people\",\"well yes certainly full crap\",\"truth\",\"diversity strength army choose diversity\",\"right replace white man twenty dollar bill black woman worthy high priority\",\"advanced civilization\",\"hence social justice warrior infect\",\"illegal adopt black child black\",\"hostile people really except crazy notion planet father god chose\",\"event like go continue occur white country citizen form powerful group real li\",\"anyone good explanation china allow access u power grid hell\",\"one white person alive today ever black slave one black person alive today ever white\",\"fuck sake kill two white people death count racism motivation\",\"many year ago say would eventually consider racist arrest black person crime committ\",\"many generation american government organize crime syndicate illegal occupation\",\"apparently special kind hate black woman experience call misogynoir seriously\",\"white privilege actually exist listen mindless robot drone repeat\",\"freak wonder white nationalism rise world\",\"way win socio political fight attract fighter side pro white community need foc\",\"man white supremacist asian hater keep get darker darker\",\"beating u game shut game fucker literally take ball g\",\"outside environment impose upon artificially construct human race mix almos\",\"quick way get rich america black falsely accuse white person racist toward\",\"hypothetical anymore matter matter government force prep\",\"literally nothing label racist white supremacist pathological hatred white men\",\"diversity safe neighborhood\",\"global war white people\",\"treat big deal rioter antifa whatever reason police always se\",\"repeat lie truth know want erase white history\",\"new comic\",\"feel whole lot well impend collapse western civilization white people form group\",\"ego always ruin man one vision clearest lens\",\"lick foot nigga white trash paris france interracial gay amateur gay\",\"okay checked fuck real\",\"homosexual find criticize heteros much without u even exist\",\"white elder abuse rampant\",\"multi racial society create peace prosperity people create animosity hostility hatred vi\",\"expose back october\",\"everyone understands concept foreign invasive specie plant animal world foreign invasive specie\",\"anyone pretend anyone even want integration first place literally everyone want separation w\",\"go walk condition yeah white thing understand\",\"apart weapon way mamma favorite weapon slipper\",\"gymnastics say dirty arab\",\"netflix already rag machine diversity propaganda\",\"lie repeat often enough eventually becomes truth\",\"stupid fuck bitch\",\"read write wall white people normalize discrimination stop w\",\"pride wake\",\"law enforcement earn every bit hate receive chosen side enemy people\",\"blackwashing never end white people erase little little\",\"toxic upbringing environment anti white hatred racism cultivate hollywood medium school un\",\"salute brave soldier\",\"white genocide conspiracy theory need challenge misinformation u experience great\",\"plan take back hagia sophia\",\"replace white people white country tell u source st\",\"buy story second pipe bomb really plant dc capitol guarantee\",\"deny racist actually proof racist\",\"law enforcement earn every bit hate receive chosen side enemy people\",\"people still oblivious truth right plain sight\",\"gt white supremacy virus like virus die body left infect w\",\"expect someone else save expect group save people country\",\"black actually oppose police shooting oppose police shoot black criminal\",\"say lot year keep repeat hunt racism era witch hunt\",\"america literally white people single western country planet anti american e\",\"yeah war white people\",\"read write wall yet guy war wag white man ever surren\",\"nigger cocksluts help crave white dick much take matter attach\",\"believe\",\"best really\",\"hundred salutation foot madhav\",\"blame white people violent crime commit black end piss entire wh\",\"america really white supremacist nation consume institutional racism big mega corp like coca\",\"racist cookie lecture u wokeness\",\"institutional white genocide look like\",\"let billionaire cry\",\"expropriation without compensation really mean steal farm white farmer destroy say farm blame whit\",\"diversity sensitivity training really mean anti white indoctrination critical race theory\",\"fagot take arm\",\"let cry woman afrin woman together afrin\",\"remove portrait white judge white go ahead tell war\",\"diversity mean death white people able get conceal carry permit get reliable firearm\",\"happens white become minority\",\"unlawful best produce anything beautiful plato\",\"write wall white race slat genocide hyperbole exaggeration\",\"white supremacy mean white people believe white life matter war wag agai\",\"sovereign mind power choice come single set belief define\",\"never forget\",\"nothing allow white white problem need address\",\"strength ancestor life within blood strength survive long enough conti\",\"basically say long racism direct toward white people white country\",\"need keep drive story home power blame white people murder commit bl\",\"prove u right every single time\",\"white literally nothing bad could ever accuse racism accuse l\",\"around world white people get dangerously fed violently attack forei\",\"global war white people\",\"repeat white get dictate white people anti white raci\",\"black need liberal woman offend behalf even think liberal really offend anywa\",\"live every stereotype\",\"mom mom sheep meeeeeeh black sheep yeah nigga moderfacka hahahahahahahaha yeah nigg\",\"war wag white people everything fault\",\"actually watch right funny listen black dude talk sell crack\",\"black life matter movement nominate nobel peace prize via\",\"black people really little lie small shit\",\"city burn ransack violent terrorist savage summer long give fuck le th\",\"multiculturalism culture mix amp blend together create singular monoculture multicultur\",\"white men deserve job white men tell white men persecute\",\"enough people drop look\",\"weak argument difference white kid already die fentanyl overdose l\",\"literally institutional racism exists\",\"dude fuck robot\",\"homosexual scum vote vanilla\",\"nation yahweh mayor miami xavier su rez declare yahweh ben yahweh day october mon\",\"look accept random cop beating people baton like use one call\",\"philosophy ideology tactic method optic superior others feel\",\"european never use feel way country flood foreigner feel\",\"arbitrariness censorship back west via\",\"apparently white people fault black woman sprayed hair gorilla glue anything\",\"refer white people disease probably great way convince u racist go ahead\",\"replace white people\",\"total utter bullshit\",\"jesus fuck christ guy happens talk tough try look sound cool violence g\",\"caught k say true\",\"suck whitedick nigger gayraceplay gaysex oral gayoral interracialgaysex blacksucker bwc\",\"parody account\",\"u call suarez something wen call u nigger u bitch\",\"someone something require perpetual reinforcement via word like amaze beautiful vibrant talented incr\",\"white people ally literally every non white race united\",\"eventually go consider racist white person deny non white access body\",\"see work literally anything infringes money power decry white\",\"someone dm please send picture cat anyrtgingh im boredddd\",\"everybody want believe secret underground army organization go fix everything\",\"man white supremacist asian hater keep get darker darker\",\"yet another evil white man save helpless animal almost behavior genetic something\",\"rhetoric creature manufacture cultivate endless hatred white people people wh\",\"reason white people child simulate experience slave\",\"stereotypical behavior nope way\",\"nothing see folk diversity continue great strength\",\"literally zero justification flood white country non white foreigner whole age dy\",\"ok groomers\",\"goodnight\",\"say year ago lot people say hyperbolic\",\"kind woman foot hit floor morning devil say oh crap woman fear f\",\"rub face know know know say go happen c\",\"time social medium limited use time wisely anti white take war white ser\",\"white want something call white supremacy black want thing call response\",\"know beat white people say care white black yellow blue purple\",\"heartbreaking\",\"particular point time obvious naked eye race people happier segregation\",\"democrat rep jackie speier think lot white american u military national security threat\",\"ally people white people always always stop\",\"little junk\",\"guarantee chick like anything luxury\",\"workout functional real world extend period time\",\"men pig u stop living stop filth serious\",\"drop photography mine\",\"translation many white people science statistic technology go replace white\",\"term radical thrown around pretty loosely day literally anything left like\",\"ever reason storm street overthrow exist regime\",\"say keep right say one single white man alive today ever slave\",\"people fanatically anti racist really anti white tend also mentally ill literally watch\",\"cry laugh zehma mtn catapult whore\",\"overcome lust ego word well sex\",\"good kyle rittenhouse never arrest first place defend violent mob shoul\",\"one try murder lie po\",\"remember watch mother breakdown cry weight poverty hearing pain sorrow shame\",\"behind\",\"institutional white genocide look like\",\"literally neither men kill white people let alone white nationalist kill black\",\"whoever control country institution control society perception reality\",\"one one\",\"white supremacist keep get darker darker day\",\"wow\",\"every non white race planet encourage celebrate history heritage culture white race\",\"accident\",\"available preview\",\"daily reminder real time choreograph synchronize dance routine office hou\",\"post still anti white butthurt black history month\",\"well really want get subject serial killer start samuel little\",\"biophobia contagious\",\"racist always mean white people call u racist justify violence u fal\",\"lil nigga lil nigga lil nigga lil nigga lil nigga lil nigga lil nigga lil nigga lil nigga lil\",\"hunt white supremacist era witch hunt new regime want look every white person w\",\"let spell black separatist treat random individual isolated social medium\",\"talk jq day long however people like michael jones catholic even admit whit\",\"assume fight back know one actually start fight\",\"non white responsible action black gun gang motivate mass sh\",\"lot picture show holodomor gulag mostly white folk\",\"enemy good mean stood something sometime life winston churchill value yo\",\"gt billion covid relief black farmer tell living white supremacist society\",\"think possible man produce much estrogen\",\"two amaze people fighter keep go need\",\"february shape one long cold rape big frozen winter wiener\",\"replace white people\",\"nigga like life anime yea bro one piece shit\",\"medium try get black murder innocent white people white people fully prepared defend yourselv\",\"even black want segregation back peaceful separation solution today catastrophic failure race r\",\"high culture civilization diversity\",\"even issue black asian racism violence narrative remains white people real pro\",\"please keep mind\",\"true never forget\",\"warrior\",\"deep\",\"assume fight back know one actually start fight\",\"join corona cult today tire people still enjoy life exactly right thing cont\",\"basically illegal immigrant get citizenship replace u either way cool steven repeat\",\"wish men shut fuck today\",\"shut shut goy know goy really know\",\"bodybuilding\",\"um exactly dc capitol bombed see already rewrite history le two mon\",\"guy charge proud boy name enrique tarrio yet proud boy still label white supre\",\"make white people happy racist need stop\",\"folkish state make certain suitable education youth day obtain race ripe\",\"excuse pedophile time never tolerate white person believe white life matter\",\"call mass shoot however medium report shooter white\",\"fact liberal consider white guy star athlete change white supremacy tell everythi\",\"really live white supremacist country repeatedly told would law make\",\"god bless eric zemmour\",\"people still oblivious truth right plain sight\",\"proof globalism exist party\",\"good morning ji\",\"woman kill kidnap afrin whole world silent woman together afrin\",\"rapist black call rapist call pervert downplay black crim\",\"black community none white people concern black community allow behave whatever\",\"sorry break bimbo every guy planet want sleep\",\"okay checked fuck real\",\"lol invention exactly even congo finally penetrate native people disco\",\"exactly think culture come think magically fall sky arbitrarily\",\"many innocent white people beaten shot murder savage collectively defen\",\"injury today insurrection oh wait mean medium full crap\",\"live age manufacture tragedy tyranny impose upon u result artificial tragedy\",\"stereotypical behavior nope way\",\"true black woman africa landmass black overwhelm super majority\",\"abolish whiteness mean abolish white people fact popular well receive slogan\",\"marijuana popular people miserable era smoke tolerate world rather fix\",\"like well negro\",\"call whatever want coca cola anti white actively participate war wag\",\"imagine power like power declare act criminal ability declare anti semit\",\"even eat meat whole eat bug synthetic meat thing pretty sketch\",\"fanart prefer\",\"left furious brandon elliot white supremacist instead lifetime parole murder mother sai\",\"anti white amp anti american rhetoric exactly taught kid across america\",\"yes invisible\",\"inca people conquer genocided killke people another south american tribe big deal b\",\"tomorrow recover woman day intelligence day\",\"white country simply never ask ask reject foreign people foreign c\",\"wan na fuck time man body see nigga leave tf alone\",\"new regime go force mass obey send people disappear\",\"guy invent hate crime never happen get free paycheck\",\"yes\",\"many innocent white child die start storm street righteous hatred\",\"diversity strength army choose diversity\",\"new year eve wuhan v nyc spot communist nation\",\"dictatorship forbidden make fun powerful\",\"imagine someone snuck punch face behind start kick stomp yo\",\"imagine desperate attention relevancy surgically remove part body\",\"interestingly enough know sole authority define word like hate racism bigotry extremis\",\"salute\",\"trans child like vegan dog know chose\",\"much institutional white supremacy racism\",\"blackwashing white history continue force stop\",\"false perception humanity impose people\",\"power go force individual citizen comply average citizen know\",\"want really think white man every dollar government take give black\",\"people fake hate crime free government money\",\"white people get dangerously fed foreigner get away countless act violence\",\"say even okay u pride nationality already\",\"say thousand time bear repeat anti racism dangerous new age religion religi\",\"imagine force wake morning everyday\",\"black woman move white neighborhood complains many\",\"people ready admit yet real war wag white people\",\"eventually go consider racist white person deny non white access body\",\"like cold cold make white ancestor hard strong broke weak bloodline ensure\",\"never entirely comfortable truth behind champion always fight something otherwi\",\"lady question imagine pill men begin market would really trust\",\"white people well black people thread\",\"non white prioritize white tell systemic racism exists\",\"course even let white one thing non white ob acce\",\"gt replaces white men normalize concept white people replace non white white\",\"social medium like densest major city human existence loud chaotic fast pace emotional irr\",\"war adolf hitler never end evolve war white people\",\"blackwashing white history continue force stop\",\"think even one race government target deprogramming know becau\",\"year literal white genocide\",\"love reading golden globe hashtags left master exploit identity politics political correctness virt\",null],\"marker\":{\"opacity\":0.5,\"size\":5},\"mode\":\"markers+text\",\"name\":\"0_white_people_black\",\"text\":[\"\",\"\",\"\",\"\",\"\",\"\",\"\",\"\",\"\",\"\",\"\",\"\",\"\",\"\",\"\",\"\",\"\",\"\",\"\",\"\",\"\",\"\",\"\",\"\",\"\",\"\",\"\",\"\",\"\",\"\",\"\",\"\",\"\",\"\",\"\",\"\",\"\",\"\",\"\",\"\",\"\",\"\",\"\",\"\",\"\",\"\",\"\",\"\",\"\",\"\",\"\",\"\",\"\",\"\",\"\",\"\",\"\",\"\",\"\",\"\",\"\",\"\",\"\",\"\",\"\",\"\",\"\",\"\",\"\",\"\",\"\",\"\",\"\",\"\",\"\",\"\",\"\",\"\",\"\",\"\",\"\",\"\",\"\",\"\",\"\",\"\",\"\",\"\",\"\",\"\",\"\",\"\",\"\",\"\",\"\",\"\",\"\",\"\",\"\",\"\",\"\",\"\",\"\",\"\",\"\",\"\",\"\",\"\",\"\",\"\",\"\",\"\",\"\",\"\",\"\",\"\",\"\",\"\",\"\",\"\",\"\",\"\",\"\",\"\",\"\",\"\",\"\",\"\",\"\",\"\",\"\",\"\",\"\",\"\",\"\",\"\",\"\",\"\",\"\",\"\",\"\",\"\",\"\",\"\",\"\",\"\",\"\",\"\",\"\",\"\",\"\",\"\",\"\",\"\",\"\",\"\",\"\",\"\",\"\",\"\",\"\",\"\",\"\",\"\",\"\",\"\",\"\",\"\",\"\",\"\",\"\",\"\",\"\",\"\",\"\",\"\",\"\",\"\",\"\",\"\",\"\",\"\",\"\",\"\",\"\",\"\",\"\",\"\",\"\",\"\",\"\",\"\",\"\",\"\",\"\",\"\",\"\",\"\",\"\",\"\",\"\",\"\",\"\",\"\",\"\",\"\",\"\",\"\",\"\",\"\",\"\",\"\",\"\",\"\",\"\",\"\",\"\",\"\",\"\",\"\",\"\",\"\",\"\",\"\",\"\",\"\",\"\",\"\",\"\",\"\",\"\",\"\",\"\",\"\",\"\",\"\",\"\",\"\",\"\",\"\",\"\",\"\",\"\",\"\",\"\",\"\",\"\",\"\",\"\",\"\",\"\",\"\",\"\",\"\",\"\",\"\",\"\",\"\",\"\",\"\",\"\",\"\",\"\",\"\",\"\",\"\",\"\",\"\",\"\",\"\",\"\",\"\",\"\",\"\",\"\",\"\",\"\",\"\",\"\",\"\",\"\",\"\",\"\",\"\",\"\",\"\",\"\",\"\",\"\",\"\",\"\",\"\",\"0_white_people_black\"],\"textfont\":{\"size\":12},\"x\":[5.606922149658203,4.164684772491455,4.357304096221924,7.18809700012207,6.26478910446167,6.222271919250488,6.835901737213135,4.245691776275635,7.002783298492432,4.94804573059082,4.939573287963867,5.816997051239014,7.819764614105225,5.939829349517822,6.080570697784424,5.405852317810059,6.118107318878174,6.537102222442627,4.090753555297852,6.903035640716553,6.020913124084473,5.439945220947266,4.105303764343262,6.954754829406738,7.055172443389893,6.461297512054443,6.592505931854248,6.749526500701904,6.0750732421875,5.825188159942627,6.432196140289307,4.316597938537598,7.126087665557861,5.906777381896973,6.502445220947266,4.568427562713623,7.265798568725586,4.655221462249756,6.401333332061768,4.815144062042236,6.572506904602051,5.977325439453125,6.494817733764648,6.345849990844727,5.66693639755249,4.777107238769531,5.374290943145752,6.818302154541016,6.514547824859619,5.157884120941162,6.525813579559326,6.821358680725098,5.063820838928223,5.883607864379883,7.115258693695068,5.098898887634277,4.617791175842285,7.324309349060059,6.419656753540039,4.211248874664307,7.163188457489014,2.7432405948638916,7.783968448638916,2.7624027729034424,6.761103630065918,4.635643482208252,4.860318660736084,6.433938503265381,4.329163074493408,5.67887544631958,6.808388710021973,6.408257961273193,6.55868673324585,7.179411888122559,7.037399768829346,5.018120765686035,5.086789608001709,4.285995006561279,6.121389389038086,6.349058628082275,7.0289764404296875,7.1169915199279785,5.21325159072876,6.511317729949951,7.042943477630615,5.534304141998291,5.442357540130615,7.3084845542907715,5.799131393432617,7.651701927185059,4.7981977462768555,7.127532958984375,7.119399070739746,4.349563121795654,4.982091426849365,6.434664249420166,5.880720138549805,7.153158664703369,5.934122562408447,5.912600040435791,6.910253047943115,6.34575891494751,6.529016017913818,7.0219645500183105,6.94803524017334,7.130322456359863,7.000565052032471,6.5052714347839355,6.9832940101623535,6.561227798461914,6.991086483001709,2.412886142730713,5.791054725646973,6.978808879852295,4.782446384429932,6.258058547973633,7.213577747344971,5.960972785949707,6.605006217956543,2.4277334213256836,5.046456813812256,4.6011457443237305,5.73060417175293,4.362978935241699,6.658652305603027,6.496443271636963,7.796403884887695,5.045089244842529,6.043838024139404,5.939297199249268,6.835277557373047,4.790195941925049,6.839919090270996,4.773082256317139,6.411667346954346,6.4514079093933105,6.506719589233398,4.379919528961182,4.113424301147461,6.845129489898682,5.996405124664307,6.717667102813721,6.437436580657959,7.108285427093506,5.921870708465576,6.0231146812438965,6.537107467651367,5.563249111175537,5.381948471069336,5.49770450592041,5.8325886726379395,6.672918319702148,6.991028785705566,6.982799530029297,5.2768874168396,6.950674533843994,7.28219747543335,6.339115619659424,4.956352233886719,5.919360160827637,4.672895431518555,5.747175693511963,4.784485340118408,7.784746170043945,5.305697917938232,4.556528091430664,7.008373260498047,6.549441337585449,5.572511196136475,4.806859493255615,5.069016933441162,5.42902946472168,5.121060848236084,4.9513840675354,7.129507064819336,6.173528671264648,4.326467514038086,5.310346603393555,6.668932914733887,5.174604892730713,6.2444844245910645,4.919974327087402,4.6416802406311035,4.7282514572143555,7.273458480834961,5.088328838348389,5.926225662231445,6.8070573806762695,6.115042686462402,6.845623016357422,6.784901142120361,6.98573112487793,5.829665184020996,5.906429767608643,7.086131572723389,4.565230846405029,6.3524169921875,5.439632892608643,5.555408000946045,2.4147145748138428,7.807552337646484,6.046787738800049,5.8974151611328125,6.797015190124512,5.830035209655762,6.712399005889893,4.992729663848877,5.006339073181152,5.227802753448486,5.051419734954834,5.815170764923096,5.0389251708984375,7.811953067779541,5.618649482727051,5.942823886871338,4.664048671722412,2.740513324737549,7.006033420562744,6.9430060386657715,5.944691181182861,6.722893714904785,5.871826648712158,7.035112380981445,6.077144622802734,3.1537392139434814,4.9063825607299805,4.099700450897217,5.462674140930176,5.445570468902588,6.972070693969727,6.780775547027588,5.67664909362793,5.9811930656433105,7.0322136878967285,5.14247465133667,6.0734477043151855,4.850508213043213,4.846640110015869,7.1310529708862305,7.007573127746582,7.304530620574951,5.039276123046875,6.967475891113281,7.096150875091553,4.3589277267456055,5.588223934173584,4.609421730041504,6.030104637145996,7.070568084716797,4.842779159545898,7.176163673400879,5.549196720123291,6.1266584396362305,6.054194927215576,4.435669422149658,5.004397869110107,5.025940418243408,6.137215614318848,5.828303813934326,2.9874861240386963,4.692225933074951,5.8348259925842285,4.830072402954102,7.0533318519592285,4.402865886688232,5.622395038604736,7.167882919311523,7.32415246963501,4.846038341522217,4.301268577575684,6.659300804138184,4.659290313720703,6.209891319274902,5.964914321899414,6.592323303222656,5.439061641693115,6.442785739898682,6.649796962738037,6.442776679992676,5.974351406097412,5.856579780578613,5.802951812744141,6.982975006103516,7.060961723327637,6.440561294555664,7.752381801605225,5.655948162078857,6.26924991607666,7.318480014801025,6.8996663093566895,7.065975189208984,3.6521222591400146,5.904854774475098],\"y\":[10.090205192565918,12.658204078674316,12.370150566101074,12.794492721557617,11.107030868530273,13.19959831237793,13.371254920959473,12.401216506958008,12.506507873535156,10.22475814819336,10.81164836883545,13.236332893371582,12.236959457397461,13.201559066772461,12.734780311584473,12.616423606872559,13.166959762573242,13.173456192016602,11.942453384399414,12.46938705444336,12.817215919494629,12.747825622558594,12.440860748291016,11.730847358703613,12.512182235717773,12.880058288574219,12.617895126342773,12.87032413482666,10.6157865524292,12.61042308807373,12.182099342346191,12.41199016571045,12.54277515411377,13.172511100769043,13.417174339294434,12.986916542053223,12.876547813415527,10.2388277053833,12.851883888244629,11.444974899291992,11.435392379760742,10.297523498535156,11.164036750793457,12.498367309570312,13.079977035522461,10.303075790405273,11.988189697265625,12.805856704711914,11.980171203613281,10.144497871398926,11.445012092590332,13.008879661560059,10.81291389465332,10.510725021362305,12.40413761138916,10.262836456298828,12.744104385375977,12.904001235961914,13.011414527893066,10.421584129333496,13.275901794433594,12.974230766296387,12.28288745880127,12.999727249145508,12.354429244995117,12.75279712677002,10.9317626953125,13.022080421447754,12.217116355895996,12.7870512008667,13.3048734664917,12.70244026184082,13.433624267578125,12.65139102935791,12.357715606689453,11.159245491027832,9.94404411315918,10.385930061340332,12.767766952514648,12.722153663635254,12.524772644042969,13.410178184509277,10.583074569702148,11.898079872131348,12.806918144226074,10.123834609985352,10.570995330810547,12.841506958007812,13.247138977050781,12.412154197692871,12.274908065795898,12.693326950073242,12.607715606689453,12.424715042114258,10.850079536437988,12.121084213256836,12.709277153015137,12.593870162963867,12.856480598449707,10.270478248596191,12.26343822479248,12.769574165344238,13.427523612976074,12.516195297241211,11.850831985473633,11.513044357299805,11.885567665100098,13.386384963989258,11.873127937316895,12.358373641967773,11.935985565185547,12.590896606445312,13.13344669342041,12.356013298034668,10.316137313842773,12.52102279663086,13.339885711669922,10.354165077209473,11.272798538208008,12.606269836425781,12.849788665771484,13.068351745605469,11.971612930297852,12.431336402893066,12.40285587310791,12.205802917480469,12.275527000427246,10.526010513305664,10.66002082824707,10.279796600341797,11.647653579711914,10.559854507446289,12.112558364868164,11.301421165466309,12.556806564331055,12.15963077545166,11.899394989013672,9.7749662399292,11.923742294311523,12.877822875976562,12.444597244262695,12.999964714050293,12.534249305725098,11.524397850036621,13.189931869506836,12.222959518432617,11.449301719665527,10.973237037658691,12.277132034301758,10.720754623413086,10.131796836853027,12.876007080078125,12.510574340820312,12.322232246398926,10.02548885345459,13.041751861572266,12.833972930908203,12.478618621826172,10.27808952331543,11.163839340209961,11.302563667297363,10.960564613342285,10.26949405670166,12.285320281982422,12.379507064819336,12.959054946899414,12.560701370239258,12.751321792602539,10.483224868774414,11.38969612121582,12.809199333190918,10.496654510498047,10.603631973266602,10.336930274963379,13.410706520080566,12.802705764770508,12.283187866210938,10.308404922485352,12.933146476745605,10.046360969543457,12.673161506652832,10.326566696166992,10.235936164855957,11.30494213104248,12.847566604614258,12.836103439331055,12.428417205810547,12.221538543701172,10.675987243652344,13.311022758483887,12.802884101867676,11.887100219726562,10.047133445739746,12.948752403259277,13.462510108947754,12.754612922668457,12.9458646774292,11.245529174804688,10.077457427978516,12.59819507598877,12.259398460388184,10.746399879455566,12.95715045928955,12.829050064086914,13.165613174438477,12.632190704345703,10.917343139648438,10.845132827758789,10.143725395202637,10.481301307678223,10.028907775878906,11.893216133117676,12.233359336853027,10.837126731872559,10.300599098205566,11.326427459716797,12.96910572052002,12.399250984191895,12.435824394226074,13.179352760314941,12.321879386901855,12.975508689880371,12.41015625,13.432083129882812,10.394362449645996,10.953824043273926,12.747088432312012,11.041813850402832,10.612011909484863,11.863326072692871,12.577651977539062,10.975747108459473,10.282685279846191,13.195542335510254,11.683077812194824,12.718344688415527,10.1360502243042,11.963801383972168,11.524598121643066,11.83683967590332,12.506414413452148,11.960817337036133,11.913143157958984,12.661378860473633,12.502875328063965,12.27497386932373,9.850741386413574,12.754355430603027,12.923113822937012,10.399582862854004,13.141960144042969,10.768157958984375,12.06957721710205,10.66376781463623,12.378655433654785,12.754450798034668,10.0875883102417,12.676846504211426,13.232002258300781,12.683283805847168,12.224445343017578,10.055047988891602,11.391801834106445,12.604635238647461,10.402460098266602,12.33855152130127,13.402420997619629,12.920601844787598,11.504729270935059,12.268636703491211,11.92175579071045,12.7337007522583,12.513428688049316,11.913508415222168,13.230249404907227,11.06420612335205,12.201567649841309,13.388444900512695,12.167394638061523,12.584205627441406,10.00716781616211,11.136527061462402,12.097363471984863,12.56305980682373,12.159186363220215,12.267698287963867,12.963099479675293,13.468717575073242,12.918512344360352,13.433795928955078,13.409646987915039,13.145289421081543,12.020350456237793],\"type\":\"scattergl\"},{\"hoverinfo\":\"text\",\"hovertext\":[\"warn socialist spain keep register vaccine refusers country receive name dissenter strategy designe\",\"warn attack france come muslim mayor incites jihadis threaten teacher samuel paty style death teacher\",\"break pandemic number fake blame trump change guideline covid test hour biden inauguration thes\",\"muslim brotherhood congressman andre carson arrest yet republican allow serve spy house intelligenc\",\"pau manager reception center kill knife sudanese migrant via\",\"hungary continue put people st illegals prime minister viktor orb n vowed never allow christian country chang\",\"demographic jihad swedish government lie massive migration number almost illegal migrant grant citizensh\",\"enrich belgium brussels mohamed mohammed ahmed common name many municipality new stati\",\"alert america face invasion border biden flood america refugee terr\",\"suicidal socialist spain moroccan migrant mohamed professional robber commit crime h\",\"easy meat another fail muslim asylum seeker rape murder chop body british woman lure\",\"dr fauci covid expert back march\",\"biden let million illegals america vaccination record democrat\",\"follow france footstep austria begin crackdown muslim\",\"trump accomplish last president combine\",\"hamas link cair amp iihan omar unite demand sharia compliance pro sharia muslim rep elect ilhan omar demand amazon give\",\"new follower syria last week see\",\"actually sour though pickle except cabbage instead cucumber delicio\",\"muslim ever respect religious teacher religion koran order religion\",\"share caution vaccine know long term side effect basically modify pe\",\"expose covid lockdown rule apply salvini left wing italian trial judge salvini trial kidnapping w\",\"world hijab day one many subtle tactic use muslim brotherhood front group introduce sharia america illino\",\"igrant enrichment german woman begs help go street anymore without think pepper spr\",\"terror attack update afghani migrant behind stab sweden medium reporting terrorist suffer\",\"politician marine le pen party france slam famous ballet du nord put woman sharia hijab\",\"demographic jihad swedish government lie massive migration number video within generation sweden third large\",\"father botros coptic orthodox priest try wake west year many christian must die\",\"covid plot gay man flee venezuela warns communist take canada trudeau use virus power grab\",\"get ready white people joe biden america inbound gt unrelenting stream immigration non stop gt\",\"read two new openly anti illegal migrant pro border minister appoint conservative prime minister kyriakos\",\"go war germany protect america english replace german ensure\",\"remember nato bombing yugoslavia\",\"break swedish news reporting suspect first enter country\",\"shock famous journalist expose suicidal effect sweden open border policy video swede told\",\"flashback fbi take poster seek islamic terrorist hamas link cair complain show photo fb\",\"america deal deadly islamic terrorist attack colorado jihadist kill mali one\",\"elderly abuse grandma ban nursing home activity refuse vaccinate vaccine suppose vol\",\"biden sign executive order first ten day president anyone sign many executive order\",\"muslim commit multiple terrorist attack across europe gt muslim look back anger random\",\"new year austria civil war like incident amp yell allahu akbar new year eve vienna meanwhile elec\",\"putin responds biden threat wish good health\",\"germany stab spree frankfurt leaf several injured german authority probe attacker motif\",\"bioterrorism bangladeshi muslim doctor arrest boston try obtain deadly ricin fbi investigate dr ishtiaq\",\"hamas link cair amp soros unite push blasphemy law wan america cair call legislator label criticism\",\"break u custom border protection report illegals attempt cross border february\",\"yet bombed middle eastern country\",\"germany threatens citizen merkel release ultimatum get vaccinate banish germany already throw quarantine\",\"migrant party taxpayer fund resort pool spain remains lockdown two week ago migrant left wing red\",\"hungarian prime minister orb n soros population replacement make europe muslim orb n leader pa sto\",\"global plot left wing western leader continue open border mass migration impose harsh coronavirus lock\",\"threat alert terror tie migrant run dangerous mosque amp islamic school florida dr fadi yousef kablawi long history\",\"deeply disappointed gov abbott proud gab amp jewish support christian run business amp thank\",\"enrich france police crew attack mortar fire car burn amp fire set throughout lyon mayor refuse\",\"one good thing french police never hesitate fire weapon knife wield muslim\",\"french geneticist covid health crisis test healthy people medicine see viral video focus\",\"globalists celebrate eu biden join force fight right wing extremist islamize west ban free speech islamic\",\"geert wilder shock dutch parliament koran full jew hatred wilder demand parliament stop pretend care abo\",\"woman speak islam france threaten rape amp death american understand happen\",\"hey know syrian muslim terrorist colorado twitter account delete show h\",\"yes af slam merkel import culture hate woman turn berlin baghdad migrant willi\",\"france call islamophobe live hr police protection due death threat receive\",\"break germany suspends astra zeneca vaccination although report side effect increase several st\",\"trump peace biden war thanks left\",\"must watch video break famous doctor develops safe vaccine covid germany prosecutes state targete\",\"biden legislate executive order unless dictator also biden proceeds sign record break\",\"shock video famous journalist expose suicidal effect sweden open border policy swede told\",\"back another twitter ban new crime quote world health organization discus new vaccination\",\"open border joe biden vow increase refugee admission trump demand low refugee admission u histo\",\"still catholic apostate\",\"enrich sweden isi child back sweden pose weapon sever head social service take child fro\",\"go forward twitter tweet mention coronavirus vaccination censor twitter part\",\"biden threat global security china ate secretary blinken lunch ccp order press back room\",\"netherlands like last week former soldier stood today protection protester\",\"alert mandatory coronavirus vaccination come spain video refuse injection mislabelled vaccine wi\",\"italy naked jaybird illegal alien muslim invader take leak middle street broad daylight\",\"bolder muslim refugee terrorist convict misdemeanor assault another student high school suspe\",\"astra zeneca prove dangerous yet country throughout europe push citizen meanwhile famous german doctor\",\"west full country protect border dangerous illegal migrant problem imposi\",\"turkish president recep tayyip erdogan file criminal complaint dutch opposition leader geert wilder\",\"global plot left wing western leader continue open border mass migration imposin\",\"israel law allows authority know identity unvaccinated people\",\"belgium first islamic state europe one third country population foreign origin brussels belg\",\"anti christian twitter iftar amp ramadan hashtag emoji honor islamic holy day one christian ho\",\"break new year eve canada police violently raid family gathering six people neighbor report coronavirus\",\"sharia sweden conservative journalist ingrid carlqvist amp maria celander indict thought crime islam face\",\"londonistan tesco worker help police take muslim attacker brandishing multiple knife\",\"america corrupt refugee resettlement program brainchild senator biden one reason muslim brotherhood end\",\"keep warn america know many syrian muslim refugee way america next eu\",\"warn u democratic party copy germany deploys antifa stormtroopers conservative germany left wing gov\",\"ten people slaughter syrian muslim refugee ahmad al issa white non muslim terrorist attack also goin\",\"make germany great warn globalists socialist amp enemy west germany fed amp rise af lead\",\"enrich uk refugee demand hotel set fire barrack threaten kidnapping staff commonplace europ\",\"stop steal twitter suspends spain conservative vox party ahead election video vox leader santiago abascal vow\",\"enrichment father beat sexually abuse daughter check muslim sweden refuse deport court h\",\"question point baby wear hijab hijab suppose prevent men tempt sin appea\",\"france sudanese muslim illegal alien stab immigration official death asylum claim reject\",\"sure many research danger associate gene alter prick\",\"clarkston georgia one georgia large mosque built small city clarkston resident\",\"break massive cover expose virologist sucharit bhakdi healthy people dangerous vaccine young\",\"fbi arrest doug mackey aka ricky vaughn conservative journalist florida face year hurt democrat\",\"course american medium never show capital city european union new year eve bruss\",\"tuesday biden address nation islamic attack say would speculate shooter motive\",\"wow german parliament left stun afd martin hess slam german lawmaker allow war machine ente\",\"army illegal migrant invade hungarian home mayor demand military action woman found army illegals\",\"linda sarsour organizer woman march amp openly support sharia law let sink adaywithoutwomen internati\",\"sharia compliant nike harshly condemn depict iranian female mathematician hijab chosen never\",\"morocco muslim youth vandalize brand new casablanca bus apparent reason\",\"sharia uk every woman cover top toe otherwise police collect situati\",\"break terror attack sweden eight injured vetlanda video police refuse answer medium question\",\"alabama litigation jihadist cair file federal lawsuit prison execute two convert islam wit\",\"hijab amp niqab represent subjugation woman sign woman accept responsibility keep men tempt\",\"biden obama back terrorist please islamic pakistani sharia court overturn conviction\",\"meanwhile enrich belgium four minor arrest plot islamic terrorist attack one already bought mac\",\"break sweden admits people die high rate due pandemic video statistic reveal overall death rate\",\"people die vaccination accord pej bos cichutek bpk however people\",\"woman march silent taxpayer fund german school put hijab non muslim german girl dress rehearsal\",\"biden need another war middle east also biden proceeds bomb syria\",\"france muslim arrest try carry attack jewish school amp kosher grocery video prosecutor cry mental illness\",\"trump accomplish last president combine\",\"afd gottfried curio warn world amp stuns german parliament un amp merkel plan expose make every call refugee\",\"biden test illegal alien coronavirus le month biden number people illegally\",\"christian refugee austria return syria safer young christian syria flee austria esca\",\"syrian muslim terrorist ahmad al issa try travel syria summer unable due coronavirus lockdown acco\",\"female palestinian muslim terrorist say prepare carry suicide bombing mission jew like prep\",\"break christian attack jihad attack suicide bomber strike catholic church indonesia palm sunday church\",\"coronavirus tyranny german state police detain maskless elderly cyclist citizen violate chancellor angela merkel lockd\",\"alabama litigation jihadist cair file federal lawsuit prison execute two convert islam without\",\"islamic migrant threatens gang rape politician expose illegally operate mosque see video islamic community\",\"happen make american listen put video year ago man interrogate islamic\",\"vaccination blackmail restaurant expect reopen january\",\"colorado shooter facebook page quote prophet muhammad also know extremely religious sure thi\",\"chinese corona virus like\",\"report government dominate committee call seat inbound flight quarantine place australia\",\"population control group cheer biden force taxpayer fund overseas abortion trump like reagan stop taxpayer fun\",\"fifteen girl saudi arabia burn alive islamic sharia religious police let leave burning\",\"tell u else could seem may side effect\",\"break see inside germany maximum security corona jail quarantine violator barbed wire amp security fence surround\",\"austrian girl told wear hijab prevent assault migrant fmr member parliament suggests austrian born girl\",\"democrat darling rep ilhan omar say chuckle israel call democracy compare iran anti\",\"spain attack military age migrant infect coronavirus storm border fence socialist gov caught distri\",\"radical somali congressmuslim ilhan omar mn threatens force republican congresswoman office\",\"enough mr laschet enough merkel cry help hairdresser bianka fuse burn\",\"fbi interviewed terrorist amp nothing major hasan fort hood tx kill amp wound omar mateen orland\",\"bloody man throw decapitate head window onto street france short month ago islamic migrant\",\"german parliament left stun afd gottfried curio migrant go save germany ruin\",\"syrian muslim refugee welcome america hand citizenship along host taxpayer fund handout\",\"anyone yet investigate mosque ahmad al issa attend\",\"belgium first islamic state europe one third country population foreign origin brussels belgian\",\"biden amp eu join force eu commissioner ylva johansson see video work biden fight right wing extremist\",\"kill kill war police france mainly african arab muslim commu\",\"globalists celebrate open border joe biden european union joe biden join force fight right wing extremist\",\"government enforces hospital put every death covid\",\"start go biden bomb\",\"islamophobia slay unbeliever wherever ye find koran verse\",\"predict biden break trump peacetime record launch air strike syria\",\"venezuela start free distribution drug covid\",\"enrich germany syrian refugee tell job center would rather fight jihadis meanwhile muslim brotherhood ba\",\"german try warn u\",\"suicidal sweden left wing open border policy blame late allahu akbar attack afghani tamim sultani grant\",\"coronavirus tyranny truth teller arrest uk woman arrest film inside empty hospital post online\",\"allahu akbar migrant attack migrant riot man commits suicide greek detention center hundred illegal migrant\",\"know term islamophobia invent front group muslim brotherhood order export\",\"warn isi order wolf attack church amp police spain despite anti terrorist unit warn left wing gov\",\"well uganda damn well leave sweden\",\"easter australia day allow\",\"eu schmuck blast bosnia take well care illegal alien muslim invader burn calle\",null],\"marker\":{\"opacity\":0.5,\"size\":5},\"mode\":\"markers+text\",\"name\":\"1_muslim_biden_migrant\",\"text\":[\"\",\"\",\"\",\"\",\"\",\"\",\"\",\"\",\"\",\"\",\"\",\"\",\"\",\"\",\"\",\"\",\"\",\"\",\"\",\"\",\"\",\"\",\"\",\"\",\"\",\"\",\"\",\"\",\"\",\"\",\"\",\"\",\"\",\"\",\"\",\"\",\"\",\"\",\"\",\"\",\"\",\"\",\"\",\"\",\"\",\"\",\"\",\"\",\"\",\"\",\"\",\"\",\"\",\"\",\"\",\"\",\"\",\"\",\"\",\"\",\"\",\"\",\"\",\"\",\"\",\"\",\"\",\"\",\"\",\"\",\"\",\"\",\"\",\"\",\"\",\"\",\"\",\"\",\"\",\"\",\"\",\"\",\"\",\"\",\"\",\"\",\"\",\"\",\"\",\"\",\"\",\"\",\"\",\"\",\"\",\"\",\"\",\"\",\"\",\"\",\"\",\"\",\"\",\"\",\"\",\"\",\"\",\"\",\"\",\"\",\"\",\"\",\"\",\"\",\"\",\"\",\"\",\"\",\"\",\"\",\"\",\"\",\"\",\"\",\"\",\"\",\"\",\"\",\"\",\"\",\"\",\"\",\"\",\"\",\"\",\"\",\"\",\"\",\"\",\"\",\"\",\"\",\"\",\"\",\"\",\"\",\"\",\"\",\"\",\"\",\"\",\"\",\"\",\"\",\"\",\"\",\"\",\"\",\"\",\"\",\"\",\"\",\"\",\"\",\"\",\"\",\"1_muslim_biden_migrant\"],\"textfont\":{\"size\":12},\"x\":[0.8161841034889221,1.2982101440429688,1.7829195261001587,1.343422770500183,1.105160117149353,0.7672436237335205,0.4230162501335144,1.2075937986373901,1.533394694328308,1.2228968143463135,1.148337721824646,0.9355787634849548,1.5929468870162964,1.305578351020813,1.5634186267852783,1.3364993333816528,1.4994864463806152,1.5923724174499512,1.8402258157730103,0.9451430439949036,1.166418433189392,0.6694421768188477,1.4049962759017944,0.4958890676498413,0.6744325757026672,0.36783739924430847,1.7884573936462402,0.7684580683708191,1.5931954383850098,0.6122596263885498,1.7549816370010376,1.5433647632598877,0.4504333734512329,0.3803841173648834,1.3516520261764526,1.285741925239563,0.8094709515571594,1.5018229484558105,1.2248917818069458,2.053568124771118,1.5067484378814697,1.5076457262039185,1.1128138303756714,1.3665251731872559,1.6108620166778564,1.495383858680725,1.3395732641220093,0.844957172870636,0.6944437623023987,0.732757031917572,1.3817883729934692,1.951289176940918,1.369052529335022,1.3391181230545044,0.9678922891616821,1.4676302671432495,1.6409282684326172,1.1774977445602417,1.3762460947036743,1.646366000175476,1.3198529481887817,1.1072056293487549,1.528428554534912,1.0341790914535522,1.4921200275421143,0.36565306782722473,0.8164657950401306,1.478300929069519,1.8115266561508179,0.45575153827667236,0.7635158896446228,1.5873767137527466,1.6241474151611328,0.7786321043968201,1.3950625658035278,1.2065949440002441,1.235169768333435,1.5892515182495117,1.6158777475357056,0.6275518536567688,0.8285399675369263,1.2542328834533691,1.8800981044769287,1.4202107191085815,0.5105760097503662,1.1070637702941895,1.0496386289596558,1.0445770025253296,1.694006085395813,1.1413443088531494,1.7303026914596558,1.2742582559585571,0.787959098815918,0.4827185571193695,0.5896865129470825,1.2939592599868774,1.0563777685165405,1.3138824701309204,0.8954746127128601,1.4306151866912842,2.0986926555633545,1.3643168210983276,1.6871440410614014,0.7788237929344177,0.629267692565918,0.5902220010757446,1.1071425676345825,0.5939067602157593,0.4610002338886261,1.2762798070907593,0.609719455242157,1.2888805866241455,1.2317867279052734,0.37862083315849304,0.8384759426116943,0.6424665451049805,1.4805798530578613,1.2953191995620728,1.5520656108856201,1.6670821905136108,1.5775526762008667,1.0322219133377075,1.1019535064697266,1.1229876279830933,1.9493308067321777,1.3719732761383057,1.259540319442749,1.1789181232452393,1.31162691116333,0.8385851383209229,1.3857735395431519,0.8066864609718323,0.8910126090049744,1.5554288625717163,0.7304340600967407,1.1358634233474731,1.3453055620193481,0.6423540711402893,1.4370918273925781,0.8484733700752258,1.0444263219833374,1.668110728263855,1.1533976793289185,1.1535958051681519,1.6177332401275635,1.0562182664871216,1.2584987878799438,1.20285165309906,1.5183100700378418,1.4231783151626587,1.4990122318267822,0.9144008755683899,1.526124358177185,1.169519066810608,1.4956132173538208,0.828122079372406,0.9284090995788574,1.7771711349487305,0.5040566325187683,0.9046682119369507,1.0924477577209473,1.1489379405975342,1.042189121246338,0.38031765818595886,1.9827204942703247,1.4481533765792847,1.1875790357589722],\"y\":[9.610980033874512,10.972038269042969,12.778397560119629,12.086897850036621,10.990389823913574,10.563297271728516,10.822563171386719,11.459582328796387,12.539493560791016,10.9293212890625,10.960694313049316,9.620584487915039,12.8714017868042,11.293679237365723,13.345293045043945,11.996345520019531,11.462166786193848,9.633634567260742,11.439729690551758,9.467948913574219,10.101330757141113,11.353056907653809,9.661639213562012,10.855820655822754,11.223584175109863,10.808989524841309,11.251811981201172,10.046255111694336,12.807455062866211,10.521687507629395,9.836244583129883,11.507673263549805,10.817392349243164,10.762252807617188,11.846729278564453,11.523551940917969,9.608580589294434,13.277549743652344,11.283398628234863,11.902871131896973,13.208288192749023,9.830062866210938,11.59172248840332,11.983660697937012,12.578761100769043,11.478760719299316,9.701498031616211,10.308379173278809,10.538434982299805,10.189188003540039,11.719539642333984,11.313715934753418,10.867371559143066,10.914917945861816,9.557080268859863,12.745250701904297,9.92908763885498,11.172636032104492,11.572516441345215,10.010368347167969,10.922856330871582,9.54466724395752,13.152897834777832,9.584521293640137,13.290059089660645,10.78540325164795,9.572330474853516,12.69606876373291,11.32958984375,10.879176139831543,9.55999755859375,13.173402786254883,9.943672180175781,9.625429153442383,10.29365062713623,11.621979713439941,9.609417915344238,12.398808479309082,9.993577003479004,10.528952598571777,9.545989990234375,11.45681381225586,11.741898536682129,10.435879707336426,11.032605171203613,11.001261711120605,12.0509033203125,11.93021297454834,9.888935089111328,11.476824760437012,9.908356666564941,10.891624450683594,10.135371208190918,10.865438461303711,11.340232849121094,10.917561531066895,9.44237232208252,11.627917289733887,9.502982139587402,12.027109146118164,11.99099349975586,12.979613304138184,9.889728546142578,10.496109008789062,11.350139617919922,11.34519100189209,11.090694427490234,11.34958267211914,10.853043556213379,11.915046691894531,11.353033065795898,12.18844985961914,11.277863502502441,10.718037605285645,9.551568984985352,11.26094913482666,13.167722702026367,10.934728622436523,13.341019630432129,9.92676830291748,12.7979736328125,11.76413345336914,11.597383499145508,11.219886779785156,11.491827011108398,9.806500434875488,11.916464805603027,11.215972900390625,11.524394035339355,9.544977188110352,11.533429145812988,9.78785514831543,9.93721866607666,12.905906677246094,11.083263397216797,9.439460754394531,9.838508605957031,11.176843643188477,12.124150276184082,10.1828031539917,11.671228408813477,10.004676818847656,11.696942329406738,11.030435562133789,9.925553321838379,12.021064758300781,11.747575759887695,11.437117576599121,12.986549377441406,11.012378692626953,12.939624786376953,9.833279609680176,13.204803466796875,11.378561973571777,13.241920471191406,9.802165985107422,11.755144119262695,9.805731773376465,10.803689002990723,9.7643461227417,11.07518196105957,11.49413013458252,10.33311653137207,10.803912162780762,11.545443534851074,11.618644714355469,11.10591983795166],\"type\":\"scattergl\"},{\"hoverinfo\":\"text\",\"hovertext\":[\"greta thunberg expose creation powerful marxist soros back ngo al gore amp\",\"already election need mike penny stop democrat steal\",\"cqfd well totally fire like trump\",\"donald trump jr gov cuomo get emmy send grandma death gov de santis get hell open beach h\",\"cool story first time radio legendary rush limbaugh right somewhat infamou\",\"entire world watch trump cpac\",\"trump one address illegal immigration cpac republican party wake f\",\"surprised new age neo marxist refuse join take wall street crook\",\"gab run beautifully thank msm announce moment hate fo\",\"thought hillary aka schrillary clinton new book welcome\",\"get teary eyed see elderly veteran show freedom plaza fight trump incredible co\",\"end every trump speech music come help get dance president give much ho\",\"trump want every american read follow time magazine article democrat crook flaunt corruptness know\",\"love trigger left amaze marjorie taylor greene look one strong conservative woman scare\",\"make remain ballot de kalb county must manually scan order tabulate\",\"uncle mla aunt vice president\",\"president run third term cpac\",\"wa po typical left wing news organization exists harm conservative jeff bezos u power money\",\"house democrat push cable company big tech get rid conservative news network\",\"united remove traitor like party good choice show cpac\",\"win seat georgia mitt romney go officially declare democrat good riddance\",\"guy tune est click link see donald trump cpac address cpac general\",\"democrat work harder rebuild c swamp american job\",\"rashida tlaib give oscar worthy performance house floor favorite line happen january th\",\"antifa always corporate manufacture product anarcho marxism package sell capitalist impre\",\"alert communist senator chris murphy connecticut national security threat murphy infiltrate senate fo\",\"march nyc mayor de blasio msnbc amp healthy n yers little th\",\"time see mike penny truly patriot\",\"watch president trump take stage cpac give burst joy hope\",\"trump cpac trumpism mean strong border riot support police nd amendment video\",\"john kohn aka john kerry claim earth nine year\",\"counting stop ballot fairy go work\",\"show one politician corrupt core\",\"ryan girdusky lincoln project part grift part groom operation john weaver\",\"necessary win election help someone heart big must heart\",\"shame gop ballot atlanta start come even though poll close five hour ago democrat co\",\"cnn rest liberal medium fake plan attack today u capitol go today\",\"jake tapper dnc operative expose wikileaks left wing hack nerve say kaleigh mc ne\",\"trump slam traitor republican party yes name every last one time take back party\",\"trump cpac warmonger liz cheney\",\"one president trump told u corruption go take place georgia right free\",\"long machine shut georgia night\",\"lincoln project every one work trump admin held accountable action also lp w\",\"expose georgia election bribe democrat group caught break federal law bribing georgia voter\",\"george conway lie national tv say know fellow co founder lincoln project well r\",\"happen look like suitcase democrat ballot show\",\"many vote discover georgia tonight watch suitcase ga sen\",\"year ago today one america great patriot hero born born bloomington illinois\",\"rino nikki haley scar show face cpac\",\"trump present future republican party plan run\",\"george lincoln rockwell born march assassinate august\",\"threat alert radical communist tie nominate secretary interior deb haaland nomination completel\",\"trump take stage cpac love president\",\"rino nikki haley scar show face cpac\",\"one trump lawyer play unedited fine people hoax video debunk front america network\",\"entire world watch trump cpac\",\"gayle oprah paid pr harry witch\",\"president trump cpac must voter id republican party actually tackle issue must stop speaki\",\"yes trump might decide beat third time usa usa usa\",\"warn joe biden radical hud secretary marcia fudge threat america watch like many others biden admin\",\"flag ny dems let let one credible scandal distract another credible disa\",null],\"marker\":{\"opacity\":0.5,\"size\":5},\"mode\":\"markers+text\",\"name\":\"2_trump_cpac_democrat\",\"text\":[\"\",\"\",\"\",\"\",\"\",\"\",\"\",\"\",\"\",\"\",\"\",\"\",\"\",\"\",\"\",\"\",\"\",\"\",\"\",\"\",\"\",\"\",\"\",\"\",\"\",\"\",\"\",\"\",\"\",\"\",\"\",\"\",\"\",\"\",\"\",\"\",\"\",\"\",\"\",\"\",\"\",\"\",\"\",\"\",\"\",\"\",\"\",\"\",\"\",\"\",\"\",\"\",\"\",\"\",\"\",\"\",\"\",\"\",\"\",\"\",\"\",\"2_trump_cpac_democrat\"],\"textfont\":{\"size\":12},\"x\":[3.157029390335083,2.07311749458313,2.6667275428771973,2.1952881813049316,2.7695653438568115,2.6987740993499756,2.603267192840576,3.526689052581787,1.8741039037704468,2.923898220062256,2.631601333618164,2.6031994819641113,2.5369925498962402,3.0694525241851807,1.8248945474624634,2.397156000137329,2.447396755218506,2.7106773853302,2.6104204654693604,2.367009401321411,1.9214390516281128,2.67061185836792,2.565840721130371,2.410151720046997,3.991732358932495,2.387600898742676,2.2495906352996826,2.375297784805298,2.64229154586792,2.739008903503418,1.9384312629699707,1.8748058080673218,2.3186216354370117,3.2481863498687744,2.065272808074951,1.8658270835876465,2.6170098781585693,2.6137359142303467,2.4220950603485107,2.770935297012329,2.225104808807373,1.8724392652511597,2.723449468612671,1.9540293216705322,3.2016384601593018,1.866256833076477,1.861574649810791,3.278341054916382,2.766355514526367,2.3543083667755127,3.2803237438201904,2.2711925506591797,2.6424670219421387,2.762144088745117,2.666740894317627,2.6697633266448975,3.0654473304748535,2.608957290649414,2.354485511779785,2.2762651443481445,2.299065351486206,2.5307562351226807],\"y\":[13.334085464477539,13.854891777038574,14.020939826965332,12.991722106933594,13.519110679626465,14.11689281463623,14.069050788879395,13.271111488342285,13.986191749572754,13.606454849243164,14.031250953674316,14.074552536010742,13.3284912109375,13.519859313964844,14.02392864227295,13.402667045593262,13.996947288513184,13.225378036499023,13.296121597290039,13.724416732788086,13.93806266784668,14.079819679260254,13.380655288696289,14.133623123168945,12.923112869262695,13.560976028442383,12.963607788085938,13.77352523803711,14.09412670135498,14.083715438842773,13.88254165649414,13.980562210083008,13.752718925476074,13.787083625793457,13.840153694152832,13.988986015319824,13.225593566894531,13.364312171936035,13.7774019241333,13.832723617553711,13.770223617553711,13.951933860778809,13.78176212310791,13.929268836975098,13.811864852905273,13.992145538330078,13.997361183166504,13.715920448303223,13.872641563415527,13.863460540771484,13.7796630859375,13.409219741821289,14.087872505187988,13.869099617004395,13.226608276367188,14.07689094543457,13.681562423706055,14.037880897521973,13.807732582092285,13.485933303833008,13.690157890319824,13.73109245300293],\"type\":\"scattergl\"},{\"hoverinfo\":\"text\",\"hovertext\":[\"pride india rajputana chittorgarh fort\",\"really modi ji get credit rejuvenation include go journey become possible\",\"downfall one kill sadhu insult woman certain parambir singh anil deshmukh uddhav thackeray sanjay raut ht\",\"australian student year behind average chinese student sat test year behind\",\"rahul gandhi big asset bjp\",\"warn biden terror tie hijabi appointee sameera fazili threat u amp india fazili member stand kash\",\"south australia trinity college apologise video circulate show student school hang black\",\"fund dedication shri ram mandir zomato pizza hut domino swiggy mango shopkeeper\",\"associate every work r interest country mithun chakraborty\",\"u press reporting muslim girl father lie samuel paty start campaign get\",\"hindu le sikh today e hoist flag religion red fort\",\"inter n national c chutiya\",\"try tell everyone year matter nothing good enough crea\",\"case prima facie seem fault delivery boy kamaraj hitesha pull whole\",\"sharia pakistan little hindu girl pakistan abduct beg india modi protection islamic ca\",\"happy republic day india america stand care deeply war jihadis amp left wag country amp\",\"islamic pakistan medium blackout muslim destroy another hindu temple pakistan modi caa give citizenship persecute\",\"friend india please contact help expose left coordinate attack country indian fa\",\"final round shivgaan competition full swing across maharashtra eve chhatrapati shivaji maharaj birth anniversary umbrella\",\"holy place vrindavan cm shri ji hon union jal shakti minister shri water power\",\"tell everyone year ever give scandinavian brother sister war th\",\"shameful samuel paty style threat head school bow violent jihad mob parent issue apology su\",\"india innovative thrust jai swadeshi\",\"america pay attention coordinate global attack india left radical launch campaign destr\",\"savitri devi write numerous time determine quality person people view\",\"u bulat home pawri ho rai hai\",\"modi ji slogan self reliance penetrate even among love couple\",\"two private school girl adelaide appear film hang black baby doll give part\",\"heard psycho back send agra soon\",\"day since kashmiri hindu turn away home let sink\",\"ok theek hai\",\"sucial science uba must close\",\"medium want believe hundred people freedom reclaim\",\"terrorist attack india islamic mob drag hindu rinku sharma home slaughter front parent wh\",\"year delhi trouble riot delhi ankit rinku sharma kill jihadis delhi\",\"agree ignoramus toby young free describe journalist illiterate make\",\"cnrs investigate sa bouamama via\",\"time fix mukhtar ansari salwar peeli\",\"facebook ban gay ex muslim iraq life germany one photo show kiss man\",\"friend let support dear friend let solidarity problem account friend get notification\",\"g link anon r pls research post u find fault let know learn hhx news clipping lie flie\",\"lgbt deviant disrespect kaaba bo azi university detain\",null],\"marker\":{\"opacity\":0.5,\"size\":5},\"mode\":\"markers+text\",\"name\":\"3_india_hindu_pakistan\",\"text\":[\"\",\"\",\"\",\"\",\"\",\"\",\"\",\"\",\"\",\"\",\"\",\"\",\"\",\"\",\"\",\"\",\"\",\"\",\"\",\"\",\"\",\"\",\"\",\"\",\"\",\"\",\"\",\"\",\"\",\"\",\"\",\"\",\"\",\"\",\"\",\"\",\"\",\"\",\"\",\"\",\"\",\"\",\"3_india_hindu_pakistan\"],\"textfont\":{\"size\":12},\"x\":[3.2871670722961426,3.595712900161743,2.894791603088379,2.5996787548065186,3.5550129413604736,2.5975799560546875,2.6096949577331543,3.263110399246216,3.6264986991882324,2.3226256370544434,2.9907686710357666,3.238816738128662,2.566348075866699,2.9830167293548584,2.6659772396087646,3.323385238647461,2.7426276206970215,3.136457681655884,3.1972250938415527,3.1901745796203613,2.4961702823638916,2.5317718982696533,3.3559792041778564,3.2137224674224854,4.088036060333252,3.282322406768799,3.6158807277679443,2.6406424045562744,3.493178606033325,2.938138008117676,3.1499781608581543,3.236870765686035,3.563990592956543,2.7180681228637695,2.8136656284332275,2.599429130554199,3.1659865379333496,2.910411834716797,2.3130664825439453,3.526301383972168,2.7382357120513916,2.4880802631378174,3.0301570892333984],\"y\":[11.344769477844238,11.54961109161377,11.607441902160645,11.19005298614502,11.534299850463867,11.711946487426758,11.249920845031738,11.35947036743164,11.505648612976074,11.47148323059082,11.390430450439453,11.38701343536377,11.161337852478027,11.587030410766602,11.543208122253418,12.0194091796875,11.475964546203613,11.94836139678955,11.351208686828613,11.354972839355469,11.171932220458984,11.445731163024902,11.486456871032715,12.002812385559082,11.249199867248535,11.460406303405762,11.509223937988281,11.207300186157227,10.673750877380371,11.44773006439209,11.466054916381836,11.348112106323242,11.963529586791992,11.554513931274414,11.535540580749512,12.546405792236328,11.33517837524414,11.592755317687988,11.621357917785645,10.50171184539795,11.8514986038208,11.566696166992188,11.482892990112305],\"type\":\"scattergl\"},{\"hoverinfo\":\"text\",\"hovertext\":[\"take name main parasitic beneficiary anti semitism journalistic investigation\",\"try say jew one lead impeachment\",\"average people need start ask okay jew anti white okay white\",\"collect coin like jew anti semitic humor slippage elect official sarcelles see\",\"old south wealthy white allied jewish merchant pamper color slave class mass poor white\",\"say denounce anti semitism jew say video link\",\"law anti white law anti jewish white people really wer\",\"try say jew one lead impeachment\",\"hell holocaust denial illegal place mean illegal simply say something like loo\",\"new swedish school report jew malm enemy arab student craze hitler today\",\"well jew allow hate white people white people allow hate jew\",\"myth semitic armenoid story\",\"get align hebrew mythology story\",\"whenever biden speaks know semitic armenoid handler speak instead\",\"daily reminder jew perfect people never commit crime certainly war crime\",\"people draw comparison jeffrey epstein lincoln project\",\"hebrew mythology make race slave benefit\",\"literally every single time hear someone spray paint swastika synagogue end hoax lit\",\"social zionism wreak havoc suburb national zionism reap benefit\",\"try say jew stock market beating game anti semitism\",\"lol say republican today like jewish holocaust apparently\",\"identity generation techouva anti semitism anti zionism place u\",\"harassment violence impersonation zionism ulcan trial via\",\"amaze often jew involve significant world event\",\"ric dupond moretti act submit zionist lobby via\",\"community say black jew operate together coordinate effort dismiss bigotry r\",\"white people say jew white consider anti semitism jew say\",\"abrahamic summit jew pope interfaith meeting iraq\",\"semite member people speak spoke semitic language include particular jew\",\"white people say jew white consider anti semitism jew say\",\"remember allow even much question woman story story holocaust told\",null],\"marker\":{\"opacity\":0.5,\"size\":5},\"mode\":\"markers+text\",\"name\":\"4_jew_anti_say\",\"text\":[\"\",\"\",\"\",\"\",\"\",\"\",\"\",\"\",\"\",\"\",\"\",\"\",\"\",\"\",\"\",\"\",\"\",\"\",\"\",\"\",\"\",\"\",\"\",\"\",\"\",\"\",\"\",\"\",\"\",\"\",\"\",\"4_jew_anti_say\"],\"textfont\":{\"size\":12},\"x\":[4.59686279296875,5.299012660980225,5.750119209289551,5.293835639953613,5.744742393493652,5.469640731811523,5.7863993644714355,5.286112308502197,5.804955959320068,5.045912742614746,5.784916400909424,5.283794403076172,5.2933855056762695,5.17047643661499,5.65608549118042,5.0129499435424805,5.381364345550537,5.513175964355469,4.583268642425537,5.316144943237305,5.705491065979004,4.6219868659973145,4.58991813659668,5.315732955932617,4.602444648742676,5.852550983428955,5.759955406188965,5.292474269866943,5.744591236114502,5.762802600860596,5.230621814727783,5.340378284454346],\"y\":[13.866619110107422,14.504630088806152,14.339788436889648,14.44482707977295,14.119904518127441,14.453131675720215,14.250085830688477,14.531861305236816,14.085114479064941,13.922155380249023,14.307117462158203,14.169499397277832,14.103416442871094,14.528813362121582,14.235831260681152,14.217314720153809,14.110350608825684,14.402656555175781,13.888445854187012,14.349649429321289,14.367448806762695,13.841842651367188,13.833630561828613,14.302964210510254,13.868156433105469,14.223037719726562,14.318108558654785,14.468268394470215,14.332015991210938,14.309138298034668,14.041328430175781,14.217328071594238],\"type\":\"scattergl\"},{\"hoverinfo\":\"text\",\"hovertext\":[\"book write\",\"post need many many million view share many people\",\"idea guy god work love see clip float around\",\"lose follower twitter seem like tolerant free speech love place\",\"twitter purge account every single day add follower year instead lose follow\",\"friend india website story rinku sharma block twitter however continue\",\"video deserves every thumb get\",\"delete first one get ratio ed hard uploaded new one allow\",\"know many purge account able survive account survive night\",\"think twitter allow certain conservative account maintain follower erase account like min\",\"great many level\",\"neat idea fiction novel anyone interested write bunch retire sof operator use\",\"know many people receive permanent ban social medium account express concern drag\",\"amaze article people write two year ago show ten thousand follower\",\"anyway would never stop repeat place woman tiktok quite simply\",\"anyone think create video channel want deal tube censorship bit chute shitty\",\"bought paid\",\"post need many many million view share many people\",\"amazon dictate ebooks online book sale audiobooks sale head thi\",\"every day come onto twitter lose another hundred follower add follower two year\",\"actually interviewed tube channel couple year ago gotten thousand view\",\"recent psych science paper use national iq predict stuff ran simple probability calculation measur\",\"might audio version concept odysee channel find someone want put together vid\",\"twitter thousand retweets twitter dozen retweets twitter new follower daily twitter followe\",null],\"marker\":{\"opacity\":0.5,\"size\":5},\"mode\":\"markers+text\",\"name\":\"5_twitter_follower_many\",\"text\":[\"\",\"\",\"\",\"\",\"\",\"\",\"\",\"\",\"\",\"\",\"\",\"\",\"\",\"\",\"\",\"\",\"\",\"\",\"\",\"\",\"\",\"\",\"\",\"\",\"5_twitter_follower_many\"],\"textfont\":{\"size\":12},\"x\":[4.5787248611450195,4.070333003997803,4.211148262023926,3.9132795333862305,3.9005954265594482,3.9037585258483887,4.072044849395752,4.043498516082764,3.7380330562591553,3.8678338527679443,4.313106060028076,4.218350410461426,3.858733892440796,4.022011756896973,4.100759506225586,4.113266944885254,3.887690782546997,4.083899021148682,4.606149196624756,3.9351234436035156,4.080379009246826,4.010723114013672,4.211865425109863,3.9817490577697754,4.071794033050537],\"y\":[9.525160789489746,9.711938858032227,9.87690544128418,9.324037551879883,9.32750415802002,9.330548286437988,9.806800842285156,9.740653991699219,9.49023723602295,9.303182601928711,10.179213523864746,9.773716926574707,9.360774993896484,9.566193580627441,9.45326042175293,9.955434799194336,9.864761352539062,9.708799362182617,9.520862579345703,9.363794326782227,9.819907188415527,9.672609329223633,9.919232368469238,9.436717987060547,9.626343727111816],\"type\":\"scattergl\"},{\"hoverinfo\":\"text\",\"hovertext\":[\"play sugarfree fantasy\",\"play various artist fanfare hunger thirst\",\"play anja speak silver silent gold\",\"ptdrrrr nintendo schwitz\",\"get ro pfp would sit one bestie\",\"play lisa del bo pearl like\",\"play snollebollekes springen nondeju nd bass remix\",\"anyone else clubhouse join wonder u\",\"play django wagner de muzikant\",\"bose dk sit naked\",\"play wolter kroes viva hollandia\",\"play nicole wonderful\",\"play jayh nice day\",\"play f aschtb nkler partyplanet\",\"play fantasy casanova\",\"play richard anthony j entends siffler le train version remastered\",\"play hut jordan jay idetto mood\",\"play hansi hinterseer god life earth\",\"play luc steeno played accordion\",\"play bob benny love anyway\",\"play semino rossi alone tonight\",\"play bobby day rockin robin\",null],\"marker\":{\"opacity\":0.5,\"size\":5},\"mode\":\"markers+text\",\"name\":\"6_play_sit_fantasy\",\"text\":[\"\",\"\",\"\",\"\",\"\",\"\",\"\",\"\",\"\",\"\",\"\",\"\",\"\",\"\",\"\",\"\",\"\",\"\",\"\",\"\",\"\",\"\",\"6_play_sit_fantasy\"],\"textfont\":{\"size\":12},\"x\":[5.481268405914307,5.460177421569824,5.5416646003723145,5.45499849319458,5.298786640167236,5.4874725341796875,5.455256938934326,5.332840442657471,5.47871208190918,5.328799247741699,5.466239929199219,5.52598762512207,5.50272798538208,5.501440048217773,5.452272891998291,5.411375999450684,5.45401668548584,5.5031633377075195,5.422391414642334,5.460336208343506,5.340333938598633,5.441750526428223,5.4455461502075195],\"y\":[8.776610374450684,8.755043029785156,8.817095756530762,8.728850364685059,9.107836723327637,8.752653121948242,8.720047950744629,8.91745662689209,8.692709922790527,8.844071388244629,8.766698837280273,8.78104305267334,8.795417785644531,8.803309440612793,8.817984580993652,8.713226318359375,8.782516479492188,8.796632766723633,8.715522766113281,8.794114112854004,8.932075500488281,8.741246223449707,8.79782485961914],\"type\":\"scattergl\"},{\"hoverinfo\":\"text\",\"hovertext\":[\"quite simply interest le\",\"afghanistan saudi arabia dream afternoon b ziers lidl supermarket avenue de badones\",\"piece bravery alain soral russie toulon\",\"alain soral transition formal logic concrete logic\",\"piece bravery alain soral ntm alain soral fr jus\",\"peugeot affair documentary available vo kontre kulture\",\"meryeminelindentut\",\"see episode\",\"philippe de maistre courageous priest people respect health dictatorship\",\"celebration napoleon bicentenary disturb laughter minister woman elisabeth moreno\",\"soral answer episode alexandre langlois\",\"panic kitchen rebel restaurateur deprive aid bruno le maire via\",\"alain soral answer pierre de brague question understand era compensation complacency\",\"soral answer erfm twenty fourth batch\",\"panic kitchen rebel restaurateur deprive aid bruno le maire\",\"soral answer episode alain soral family program st phane douard\",\"marcel obama lukashenko karine lacombe fourtillan student\",\"race alain soral fr jus may\",\"france freak theory small bubble heat pan water first surface\",\"franco albrecht neo nazi terrorist disguise syrian migrant victor young repentant lfi return v\",\"dr louis fouch hold bonus\",\"didier raoult must stop war press release say go die\",null],\"marker\":{\"opacity\":0.5,\"size\":5},\"mode\":\"markers+text\",\"name\":\"7_soral_alain_answer\",\"text\":[\"\",\"\",\"\",\"\",\"\",\"\",\"\",\"\",\"\",\"\",\"\",\"\",\"\",\"\",\"\",\"\",\"\",\"\",\"\",\"\",\"\",\"\",\"7_soral_alain_answer\"],\"textfont\":{\"size\":12},\"x\":[3.001004934310913,2.172996997833252,2.5848610401153564,2.777397871017456,2.609137535095215,2.696809768676758,2.169036388397217,3.066485643386841,2.5581605434417725,2.550337314605713,2.7781009674072266,2.418546676635742,2.837982654571533,2.8580029010772705,2.4989664554595947,2.75009822845459,2.3742270469665527,2.6435182094573975,2.5618808269500732,2.3604512214660645,3.031484603881836,2.1531262397766113,2.6114823818206787],\"y\":[9.64051628112793,9.768390655517578,9.5186767578125,9.480878829956055,9.489134788513184,9.37966537475586,9.808403968811035,9.571676254272461,9.59434986114502,9.58012866973877,9.496573448181152,9.669779777526855,9.525386810302734,9.540932655334473,9.619939804077148,9.467456817626953,9.86731243133545,9.44378662109375,9.674439430236816,10.012921333312988,9.691327095031738,10.126614570617676,9.634922981262207],\"type\":\"scattergl\"},{\"hoverinfo\":\"text\",\"hovertext\":[\"create beast finally bring\",\"good news would prefer rehabilitation center\",\"warn left wing fight morph pandemic lockdown climate lockdown climate lockdown private vehicle use b\",\"disability heval\",\"covid warn yr old survivor call resistance recur fascism tend hold onto rather magical amp\",\"daniel year old athletic intensive care bfm tv manipulation\",\"great reset big cleaning episode great reset health\",\"mdrrrr see pair look like clutch pedal\",\"new normal watchword great reset\",\"watch first part minute great reset great reset spring cleaning great r\",\"plz support student amp part campaign\",\"great reset spring cleaning episode free extract\",\"see yet another major purge go today linktree find place\",\"heal unity creature\",\"people bailing tube switch lbry odysee\",\"go leclerc reimburse x psk difference found penny product cheaper htt\",\"start reimburse ruin fn\",null],\"marker\":{\"opacity\":0.5,\"size\":5},\"mode\":\"markers+text\",\"name\":\"8_reset_great_cleaning\",\"text\":[\"\",\"\",\"\",\"\",\"\",\"\",\"\",\"\",\"\",\"\",\"\",\"\",\"\",\"\",\"\",\"\",\"\",\"8_reset_great_cleaning\"],\"textfont\":{\"size\":12},\"x\":[3.709366798400879,3.6702322959899902,3.8967955112457275,3.6635096073150635,3.6381711959838867,3.7932698726654053,3.478806972503662,4.136224269866943,3.5043673515319824,3.4681992530822754,3.5081987380981445,3.4312491416931152,3.5275681018829346,3.6242191791534424,4.0612053871154785,3.5308828353881836,3.566582441329956,3.65934419631958],\"y\":[10.71530818939209,10.485536575317383,11.191689491271973,10.537432670593262,10.834537506103516,10.455870628356934,9.923060417175293,11.004084587097168,9.995687484741211,9.935391426086426,11.105259895324707,9.875157356262207,9.775283813476562,10.628183364868164,11.094648361206055,9.900434494018555,9.990494728088379,10.438121795654297],\"type\":\"scattergl\"},{\"hoverinfo\":\"text\",\"hovertext\":[\"oppose islam racist oppose german national socialism soviet communism nothing w color\",\"philosophy national socialism reawaking mankind consciousness nature importance ra\",\"hitler nazi war happen racist hat anyone blonde hair amp blue eye\",\"historically speak virtually every time communism come power regime manufacture artificial famine\",\"hysteria freak see hitler literally everywhere go continue affirm say fo\",\"anti hitler sentiment reach fanatical insanity le severity religious hysteria anyone stoop\",\"marxism virus mutates spread host host time bolshevism communism social democracy\",\"communism always creates resistance logical response communism always fascism na\",\"philosophy lie national socialism man lie\",\"communism symptom disease disease look communism come look\",\"blame anyone know truth adolf hitler amp national socialism victor write history\",\"want socialism\",\"natural redhead rare people planet easily one beautiful anyone natural\",\"historically whenever marxist bolshevik communist regime take power one first thing\",\"ancient celt dyed hair blonde lime also dyed clothes various color plant berry\",\"look like everything prove hitler right\",null],\"marker\":{\"opacity\":0.5,\"size\":5},\"mode\":\"markers+text\",\"name\":\"9_communism_socialism_hitler\",\"text\":[\"\",\"\",\"\",\"\",\"\",\"\",\"\",\"\",\"\",\"\",\"\",\"\",\"\",\"\",\"\",\"\",\"9_communism_socialism_hitler\"],\"textfont\":{\"size\":12},\"x\":[4.446174621582031,4.556378364562988,5.335359573364258,4.455753326416016,5.157112121582031,5.200443267822266,4.491894245147705,4.432483673095703,4.505378246307373,4.488565444946289,5.033498764038086,4.465049743652344,5.355903625488281,4.477531433105469,5.3512420654296875,5.1550612449646,4.806739330291748],\"y\":[13.199450492858887,13.234354019165039,13.670056343078613,13.196020126342773,13.538926124572754,13.488102912902832,13.257916450500488,13.189142227172852,13.268562316894531,13.251327514648438,13.458366394042969,13.218253135681152,13.662017822265625,13.207386016845703,13.69235897064209,13.495536804199219,13.37673568725586],\"type\":\"scattergl\"}],                        {\"template\":{\"data\":{\"barpolar\":[{\"marker\":{\"line\":{\"color\":\"white\",\"width\":0.5},\"pattern\":{\"fillmode\":\"overlay\",\"size\":10,\"solidity\":0.2}},\"type\":\"barpolar\"}],\"bar\":[{\"error_x\":{\"color\":\"rgb(36,36,36)\"},\"error_y\":{\"color\":\"rgb(36,36,36)\"},\"marker\":{\"line\":{\"color\":\"white\",\"width\":0.5},\"pattern\":{\"fillmode\":\"overlay\",\"size\":10,\"solidity\":0.2}},\"type\":\"bar\"}],\"carpet\":[{\"aaxis\":{\"endlinecolor\":\"rgb(36,36,36)\",\"gridcolor\":\"white\",\"linecolor\":\"white\",\"minorgridcolor\":\"white\",\"startlinecolor\":\"rgb(36,36,36)\"},\"baxis\":{\"endlinecolor\":\"rgb(36,36,36)\",\"gridcolor\":\"white\",\"linecolor\":\"white\",\"minorgridcolor\":\"white\",\"startlinecolor\":\"rgb(36,36,36)\"},\"type\":\"carpet\"}],\"choropleth\":[{\"colorbar\":{\"outlinewidth\":1,\"tickcolor\":\"rgb(36,36,36)\",\"ticks\":\"outside\"},\"type\":\"choropleth\"}],\"contourcarpet\":[{\"colorbar\":{\"outlinewidth\":1,\"tickcolor\":\"rgb(36,36,36)\",\"ticks\":\"outside\"},\"type\":\"contourcarpet\"}],\"contour\":[{\"colorbar\":{\"outlinewidth\":1,\"tickcolor\":\"rgb(36,36,36)\",\"ticks\":\"outside\"},\"colorscale\":[[0.0,\"#440154\"],[0.1111111111111111,\"#482878\"],[0.2222222222222222,\"#3e4989\"],[0.3333333333333333,\"#31688e\"],[0.4444444444444444,\"#26828e\"],[0.5555555555555556,\"#1f9e89\"],[0.6666666666666666,\"#35b779\"],[0.7777777777777778,\"#6ece58\"],[0.8888888888888888,\"#b5de2b\"],[1.0,\"#fde725\"]],\"type\":\"contour\"}],\"heatmapgl\":[{\"colorbar\":{\"outlinewidth\":1,\"tickcolor\":\"rgb(36,36,36)\",\"ticks\":\"outside\"},\"colorscale\":[[0.0,\"#440154\"],[0.1111111111111111,\"#482878\"],[0.2222222222222222,\"#3e4989\"],[0.3333333333333333,\"#31688e\"],[0.4444444444444444,\"#26828e\"],[0.5555555555555556,\"#1f9e89\"],[0.6666666666666666,\"#35b779\"],[0.7777777777777778,\"#6ece58\"],[0.8888888888888888,\"#b5de2b\"],[1.0,\"#fde725\"]],\"type\":\"heatmapgl\"}],\"heatmap\":[{\"colorbar\":{\"outlinewidth\":1,\"tickcolor\":\"rgb(36,36,36)\",\"ticks\":\"outside\"},\"colorscale\":[[0.0,\"#440154\"],[0.1111111111111111,\"#482878\"],[0.2222222222222222,\"#3e4989\"],[0.3333333333333333,\"#31688e\"],[0.4444444444444444,\"#26828e\"],[0.5555555555555556,\"#1f9e89\"],[0.6666666666666666,\"#35b779\"],[0.7777777777777778,\"#6ece58\"],[0.8888888888888888,\"#b5de2b\"],[1.0,\"#fde725\"]],\"type\":\"heatmap\"}],\"histogram2dcontour\":[{\"colorbar\":{\"outlinewidth\":1,\"tickcolor\":\"rgb(36,36,36)\",\"ticks\":\"outside\"},\"colorscale\":[[0.0,\"#440154\"],[0.1111111111111111,\"#482878\"],[0.2222222222222222,\"#3e4989\"],[0.3333333333333333,\"#31688e\"],[0.4444444444444444,\"#26828e\"],[0.5555555555555556,\"#1f9e89\"],[0.6666666666666666,\"#35b779\"],[0.7777777777777778,\"#6ece58\"],[0.8888888888888888,\"#b5de2b\"],[1.0,\"#fde725\"]],\"type\":\"histogram2dcontour\"}],\"histogram2d\":[{\"colorbar\":{\"outlinewidth\":1,\"tickcolor\":\"rgb(36,36,36)\",\"ticks\":\"outside\"},\"colorscale\":[[0.0,\"#440154\"],[0.1111111111111111,\"#482878\"],[0.2222222222222222,\"#3e4989\"],[0.3333333333333333,\"#31688e\"],[0.4444444444444444,\"#26828e\"],[0.5555555555555556,\"#1f9e89\"],[0.6666666666666666,\"#35b779\"],[0.7777777777777778,\"#6ece58\"],[0.8888888888888888,\"#b5de2b\"],[1.0,\"#fde725\"]],\"type\":\"histogram2d\"}],\"histogram\":[{\"marker\":{\"line\":{\"color\":\"white\",\"width\":0.6}},\"type\":\"histogram\"}],\"mesh3d\":[{\"colorbar\":{\"outlinewidth\":1,\"tickcolor\":\"rgb(36,36,36)\",\"ticks\":\"outside\"},\"type\":\"mesh3d\"}],\"parcoords\":[{\"line\":{\"colorbar\":{\"outlinewidth\":1,\"tickcolor\":\"rgb(36,36,36)\",\"ticks\":\"outside\"}},\"type\":\"parcoords\"}],\"pie\":[{\"automargin\":true,\"type\":\"pie\"}],\"scatter3d\":[{\"line\":{\"colorbar\":{\"outlinewidth\":1,\"tickcolor\":\"rgb(36,36,36)\",\"ticks\":\"outside\"}},\"marker\":{\"colorbar\":{\"outlinewidth\":1,\"tickcolor\":\"rgb(36,36,36)\",\"ticks\":\"outside\"}},\"type\":\"scatter3d\"}],\"scattercarpet\":[{\"marker\":{\"colorbar\":{\"outlinewidth\":1,\"tickcolor\":\"rgb(36,36,36)\",\"ticks\":\"outside\"}},\"type\":\"scattercarpet\"}],\"scattergeo\":[{\"marker\":{\"colorbar\":{\"outlinewidth\":1,\"tickcolor\":\"rgb(36,36,36)\",\"ticks\":\"outside\"}},\"type\":\"scattergeo\"}],\"scattergl\":[{\"marker\":{\"colorbar\":{\"outlinewidth\":1,\"tickcolor\":\"rgb(36,36,36)\",\"ticks\":\"outside\"}},\"type\":\"scattergl\"}],\"scattermapbox\":[{\"marker\":{\"colorbar\":{\"outlinewidth\":1,\"tickcolor\":\"rgb(36,36,36)\",\"ticks\":\"outside\"}},\"type\":\"scattermapbox\"}],\"scatterpolargl\":[{\"marker\":{\"colorbar\":{\"outlinewidth\":1,\"tickcolor\":\"rgb(36,36,36)\",\"ticks\":\"outside\"}},\"type\":\"scatterpolargl\"}],\"scatterpolar\":[{\"marker\":{\"colorbar\":{\"outlinewidth\":1,\"tickcolor\":\"rgb(36,36,36)\",\"ticks\":\"outside\"}},\"type\":\"scatterpolar\"}],\"scatter\":[{\"fillpattern\":{\"fillmode\":\"overlay\",\"size\":10,\"solidity\":0.2},\"type\":\"scatter\"}],\"scatterternary\":[{\"marker\":{\"colorbar\":{\"outlinewidth\":1,\"tickcolor\":\"rgb(36,36,36)\",\"ticks\":\"outside\"}},\"type\":\"scatterternary\"}],\"surface\":[{\"colorbar\":{\"outlinewidth\":1,\"tickcolor\":\"rgb(36,36,36)\",\"ticks\":\"outside\"},\"colorscale\":[[0.0,\"#440154\"],[0.1111111111111111,\"#482878\"],[0.2222222222222222,\"#3e4989\"],[0.3333333333333333,\"#31688e\"],[0.4444444444444444,\"#26828e\"],[0.5555555555555556,\"#1f9e89\"],[0.6666666666666666,\"#35b779\"],[0.7777777777777778,\"#6ece58\"],[0.8888888888888888,\"#b5de2b\"],[1.0,\"#fde725\"]],\"type\":\"surface\"}],\"table\":[{\"cells\":{\"fill\":{\"color\":\"rgb(237,237,237)\"},\"line\":{\"color\":\"white\"}},\"header\":{\"fill\":{\"color\":\"rgb(217,217,217)\"},\"line\":{\"color\":\"white\"}},\"type\":\"table\"}]},\"layout\":{\"annotationdefaults\":{\"arrowhead\":0,\"arrowwidth\":1},\"autotypenumbers\":\"strict\",\"coloraxis\":{\"colorbar\":{\"outlinewidth\":1,\"tickcolor\":\"rgb(36,36,36)\",\"ticks\":\"outside\"}},\"colorscale\":{\"diverging\":[[0.0,\"rgb(103,0,31)\"],[0.1,\"rgb(178,24,43)\"],[0.2,\"rgb(214,96,77)\"],[0.3,\"rgb(244,165,130)\"],[0.4,\"rgb(253,219,199)\"],[0.5,\"rgb(247,247,247)\"],[0.6,\"rgb(209,229,240)\"],[0.7,\"rgb(146,197,222)\"],[0.8,\"rgb(67,147,195)\"],[0.9,\"rgb(33,102,172)\"],[1.0,\"rgb(5,48,97)\"]],\"sequential\":[[0.0,\"#440154\"],[0.1111111111111111,\"#482878\"],[0.2222222222222222,\"#3e4989\"],[0.3333333333333333,\"#31688e\"],[0.4444444444444444,\"#26828e\"],[0.5555555555555556,\"#1f9e89\"],[0.6666666666666666,\"#35b779\"],[0.7777777777777778,\"#6ece58\"],[0.8888888888888888,\"#b5de2b\"],[1.0,\"#fde725\"]],\"sequentialminus\":[[0.0,\"#440154\"],[0.1111111111111111,\"#482878\"],[0.2222222222222222,\"#3e4989\"],[0.3333333333333333,\"#31688e\"],[0.4444444444444444,\"#26828e\"],[0.5555555555555556,\"#1f9e89\"],[0.6666666666666666,\"#35b779\"],[0.7777777777777778,\"#6ece58\"],[0.8888888888888888,\"#b5de2b\"],[1.0,\"#fde725\"]]},\"colorway\":[\"#1F77B4\",\"#FF7F0E\",\"#2CA02C\",\"#D62728\",\"#9467BD\",\"#8C564B\",\"#E377C2\",\"#7F7F7F\",\"#BCBD22\",\"#17BECF\"],\"font\":{\"color\":\"rgb(36,36,36)\"},\"geo\":{\"bgcolor\":\"white\",\"lakecolor\":\"white\",\"landcolor\":\"white\",\"showlakes\":true,\"showland\":true,\"subunitcolor\":\"white\"},\"hoverlabel\":{\"align\":\"left\"},\"hovermode\":\"closest\",\"mapbox\":{\"style\":\"light\"},\"paper_bgcolor\":\"white\",\"plot_bgcolor\":\"white\",\"polar\":{\"angularaxis\":{\"gridcolor\":\"rgb(232,232,232)\",\"linecolor\":\"rgb(36,36,36)\",\"showgrid\":false,\"showline\":true,\"ticks\":\"outside\"},\"bgcolor\":\"white\",\"radialaxis\":{\"gridcolor\":\"rgb(232,232,232)\",\"linecolor\":\"rgb(36,36,36)\",\"showgrid\":false,\"showline\":true,\"ticks\":\"outside\"}},\"scene\":{\"xaxis\":{\"backgroundcolor\":\"white\",\"gridcolor\":\"rgb(232,232,232)\",\"gridwidth\":2,\"linecolor\":\"rgb(36,36,36)\",\"showbackground\":true,\"showgrid\":false,\"showline\":true,\"ticks\":\"outside\",\"zeroline\":false,\"zerolinecolor\":\"rgb(36,36,36)\"},\"yaxis\":{\"backgroundcolor\":\"white\",\"gridcolor\":\"rgb(232,232,232)\",\"gridwidth\":2,\"linecolor\":\"rgb(36,36,36)\",\"showbackground\":true,\"showgrid\":false,\"showline\":true,\"ticks\":\"outside\",\"zeroline\":false,\"zerolinecolor\":\"rgb(36,36,36)\"},\"zaxis\":{\"backgroundcolor\":\"white\",\"gridcolor\":\"rgb(232,232,232)\",\"gridwidth\":2,\"linecolor\":\"rgb(36,36,36)\",\"showbackground\":true,\"showgrid\":false,\"showline\":true,\"ticks\":\"outside\",\"zeroline\":false,\"zerolinecolor\":\"rgb(36,36,36)\"}},\"shapedefaults\":{\"fillcolor\":\"black\",\"line\":{\"width\":0},\"opacity\":0.3},\"ternary\":{\"aaxis\":{\"gridcolor\":\"rgb(232,232,232)\",\"linecolor\":\"rgb(36,36,36)\",\"showgrid\":false,\"showline\":true,\"ticks\":\"outside\"},\"baxis\":{\"gridcolor\":\"rgb(232,232,232)\",\"linecolor\":\"rgb(36,36,36)\",\"showgrid\":false,\"showline\":true,\"ticks\":\"outside\"},\"bgcolor\":\"white\",\"caxis\":{\"gridcolor\":\"rgb(232,232,232)\",\"linecolor\":\"rgb(36,36,36)\",\"showgrid\":false,\"showline\":true,\"ticks\":\"outside\"}},\"title\":{\"x\":0.05},\"xaxis\":{\"automargin\":true,\"gridcolor\":\"rgb(232,232,232)\",\"linecolor\":\"rgb(36,36,36)\",\"showgrid\":false,\"showline\":true,\"ticks\":\"outside\",\"title\":{\"standoff\":15},\"zeroline\":false,\"zerolinecolor\":\"rgb(36,36,36)\"},\"yaxis\":{\"automargin\":true,\"gridcolor\":\"rgb(232,232,232)\",\"linecolor\":\"rgb(36,36,36)\",\"showgrid\":false,\"showline\":true,\"ticks\":\"outside\",\"title\":{\"standoff\":15},\"zeroline\":false,\"zerolinecolor\":\"rgb(36,36,36)\"}}},\"shapes\":[{\"line\":{\"color\":\"#CFD8DC\",\"width\":2},\"type\":\"line\",\"x0\":4.651767206937075,\"x1\":4.651767206937075,\"y0\":7.388803434371948,\"y1\":16.711640501022337},{\"line\":{\"color\":\"#9E9E9E\",\"width\":2},\"type\":\"line\",\"x0\":0.310805107653141,\"x1\":8.992729306221008,\"y0\":12.050221967697142,\"y1\":12.050221967697142}],\"annotations\":[{\"showarrow\":false,\"text\":\"D1\",\"x\":0.310805107653141,\"y\":12.050221967697142,\"yshift\":10},{\"showarrow\":false,\"text\":\"D2\",\"x\":4.651767206937075,\"xshift\":10,\"y\":16.711640501022337}],\"title\":{\"font\":{\"size\":22,\"color\":\"Black\"},\"text\":\"<b>Documents and Topics\",\"x\":0.5,\"xanchor\":\"center\",\"yanchor\":\"top\"},\"width\":1200,\"height\":750,\"xaxis\":{\"visible\":false},\"yaxis\":{\"visible\":false}},                        {\"responsive\": true}                    ).then(function(){\n",
       "                            \n",
       "var gd = document.getElementById('bed4fd8f-a389-44ed-b552-64b7155fe861');\n",
       "var x = new MutationObserver(function (mutations, observer) {{\n",
       "        var display = window.getComputedStyle(gd).display;\n",
       "        if (!display || display === 'none') {{\n",
       "            console.log([gd, 'removed!']);\n",
       "            Plotly.purge(gd);\n",
       "            observer.disconnect();\n",
       "        }}\n",
       "}});\n",
       "\n",
       "// Listen for the removal of the full notebook cells\n",
       "var notebookContainer = gd.closest('#notebook-container');\n",
       "if (notebookContainer) {{\n",
       "    x.observe(notebookContainer, {childList: true});\n",
       "}}\n",
       "\n",
       "// Listen for the clearing of the current output cell\n",
       "var outputEl = gd.closest('.output');\n",
       "if (outputEl) {{\n",
       "    x.observe(outputEl, {childList: true});\n",
       "}}\n",
       "\n",
       "                        })                };                });            </script>        </div>"
      ]
     },
     "metadata": {},
     "output_type": "display_data"
    }
   ],
   "source": [
    "model.visualize_documents(tweets)"
   ]
  },
  {
   "cell_type": "code",
   "execution_count": 170,
   "id": "67ba1d47",
   "metadata": {},
   "outputs": [],
   "source": [
    "save_model(model.get_topics(), params, \"12 topics, 225 unmatchde, not bad with trump appeering twice but for different topics\")"
   ]
  },
  {
   "cell_type": "code",
   "execution_count": 171,
   "id": "6f632a71",
   "metadata": {},
   "outputs": [],
   "source": [
    "write_good_params()"
   ]
  },
  {
   "cell_type": "markdown",
   "id": "08e63d29",
   "metadata": {},
   "source": [
    "### Topics \n",
    "We can give categories we used for labelling to these clusters\n",
    "1. 'white/black - racism'\n",
    "1. 'immigration', 'islam'\n",
    "1. 'american elections', 'farright'\n",
    "1. 'India - Pakistan'\n",
    "1. 'tweeter acccounts'\n",
    "1. 'jew - antisemtism'\n",
    "1. 'fantasy sex play'\n",
    "1. 'Alain Soral'\n",
    "1. 'coronavirus - vaccination'\n",
    "1. 'communism - against bankers, against state order', 'farright\n",
    "\n",
    "categories = \n",
    "\n",
    "Don't have :\n",
    "['terrorism', 'homophobia', 'women', 'other', \"Don't know\"]"
   ]
  },
  {
   "cell_type": "code",
   "execution_count": 172,
   "id": "77960ff3",
   "metadata": {},
   "outputs": [],
   "source": [
    "my_topics = [['white/black - racism'],\n",
    "    ['immigration', 'islam'],\n",
    "    ['american elections', 'farright'],\n",
    "    ['India - Pakistan'],\n",
    "    ['tweeter acccounts'],\n",
    "    ['jew - antisemtism'],\n",
    "    ['fantasy sex play'],\n",
    "    ['Alain Soral', 'farright'],\n",
    "    ['coronavirus - vaccination'],\n",
    "    ['communism - against bankers, against state order', 'farright'],\n",
    "    ['terrorism', 'homophobia', 'women', 'other', \"Don't know\"]]"
   ]
  },
  {
   "cell_type": "code",
   "execution_count": 173,
   "id": "fa7a17c9",
   "metadata": {},
   "outputs": [],
   "source": [
    "df_labeled = get_labeled_tweets(country = 'France')\n",
    "labeled_tweets = df_labeled.join(df.loc[df_labeled.index][['topics','clean']])\n",
    "labeled_tweets['topics'] = labeled_tweets['topics'].apply(lambda x: my_topics[x])"
   ]
  },
  {
   "cell_type": "code",
   "execution_count": 174,
   "id": "d8039438",
   "metadata": {},
   "outputs": [
    {
     "data": {
      "text/plain": [
       "0.576"
      ]
     },
     "execution_count": 174,
     "metadata": {},
     "output_type": "execute_result"
    }
   ],
   "source": [
    "get_score(labeled_tweets)"
   ]
  },
  {
   "cell_type": "markdown",
   "id": "668e6827",
   "metadata": {},
   "source": [
    "## Metric"
   ]
  },
  {
   "cell_type": "code",
   "execution_count": 175,
   "id": "44240a53",
   "metadata": {},
   "outputs": [],
   "source": [
    "import gensim.corpora as corpora\n",
    "from gensim.models.coherencemodel import CoherenceModel"
   ]
  },
  {
   "cell_type": "code",
   "execution_count": 176,
   "id": "39c495fa",
   "metadata": {},
   "outputs": [],
   "source": [
    "# Preprocess Documents\n",
    "documents = pd.DataFrame({\"Document\": tweets,\n",
    "                          \"ID\": range(len(tweets)),\n",
    "                          \"Topic\": topics})\n",
    "documents_per_topic = documents.groupby(['Topic'], as_index=False).agg({'Document': ' '.join})\n",
    "cleaned_docs = model._preprocess_text(documents_per_topic.Document.values)"
   ]
  },
  {
   "cell_type": "code",
   "execution_count": 177,
   "id": "2236e1db",
   "metadata": {},
   "outputs": [],
   "source": [
    "# Extract vectorizer and analyzer from BERTopic\n",
    "vectorizer = model.vectorizer_model\n",
    "analyzer = vectorizer.build_analyzer()"
   ]
  },
  {
   "cell_type": "code",
   "execution_count": 178,
   "id": "450b18a2",
   "metadata": {},
   "outputs": [],
   "source": [
    "# Extract features for Topic Coherence evaluation\n",
    "words = vectorizer.get_feature_names()\n",
    "tokens = [analyzer(doc) for doc in cleaned_docs]\n",
    "dictionary = corpora.Dictionary(tokens)\n",
    "corpus = [dictionary.doc2bow(token) for token in tokens]\n",
    "topic_words = [[words for words, _ in model.get_topic(topic)] \n",
    "               for topic in range(len(set(topics))-1)]"
   ]
  },
  {
   "cell_type": "code",
   "execution_count": 179,
   "id": "1469b9de",
   "metadata": {},
   "outputs": [],
   "source": [
    "# Evaluate\n",
    "coherence_model = CoherenceModel(topics=topic_words, \n",
    "                                 texts=tokens, \n",
    "                                 corpus=corpus,\n",
    "                                 dictionary=dictionary, \n",
    "                                 coherence='c_v')\n",
    "coherence = coherence_model.get_coherence()"
   ]
  },
  {
   "cell_type": "code",
   "execution_count": 180,
   "id": "d3ff4edf",
   "metadata": {},
   "outputs": [
    {
     "data": {
      "text/plain": [
       "0.7936895693528356"
      ]
     },
     "execution_count": 180,
     "metadata": {},
     "output_type": "execute_result"
    }
   ],
   "source": [
    "coherence"
   ]
  }
 ],
 "metadata": {
  "kernelspec": {
   "display_name": "Python 3 (ipykernel)",
   "language": "python",
   "name": "python3"
  },
  "language_info": {
   "codemirror_mode": {
    "name": "ipython",
    "version": 3
   },
   "file_extension": ".py",
   "mimetype": "text/x-python",
   "name": "python",
   "nbconvert_exporter": "python",
   "pygments_lexer": "ipython3",
   "version": "3.9.7"
  }
 },
 "nbformat": 4,
 "nbformat_minor": 5
}
