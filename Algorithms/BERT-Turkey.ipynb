{
 "cells": [
  {
   "cell_type": "code",
   "execution_count": 12,
   "id": "841408ef",
   "metadata": {},
   "outputs": [
    {
     "name": "stdout",
     "output_type": "stream",
     "text": [
      "The autoreload extension is already loaded. To reload it, use:\n",
      "  %reload_ext autoreload\n"
     ]
    }
   ],
   "source": [
    "import pandas as pd\n",
    "import random \n",
    "from bertopic import BERTopic\n",
    "\n",
    "from bert_helpers import * \n",
    "import sys\n",
    "sys.path.append('../helpers_python')\n",
    "from pre_processing import *\n",
    "from helpers import *\n",
    "\n",
    "%load_ext autoreload\n",
    "%autoreload 2"
   ]
  },
  {
   "cell_type": "markdown",
   "id": "7c2b7b73",
   "metadata": {},
   "source": [
    "## Chose the country"
   ]
  },
  {
   "cell_type": "code",
   "execution_count": 8,
   "id": "73b464a7",
   "metadata": {},
   "outputs": [],
   "source": [
    "country = 'Turkey'\n",
    "\n",
    "# Load data\n",
    "df = load_data_bert(country)\n",
    "\n",
    "# array that can save the models\n",
    "saved_models = []"
   ]
  },
  {
   "cell_type": "markdown",
   "id": "0be33a93",
   "metadata": {},
   "source": [
    "## Set parameters"
   ]
  },
  {
   "cell_type": "code",
   "execution_count": 27,
   "id": "bca23a5a",
   "metadata": {},
   "outputs": [],
   "source": [
    "## Best params until now but cannot catch coronavirus\n",
    "params_france = {\n",
    "    'UMAP' : {\n",
    "        'metric' : 'cosine', \n",
    "        'n_neighbors' : 15, \n",
    "        'n_components' : 20, \n",
    "        'min_dist' : 0.3, \n",
    "        'low_memory' : False,\n",
    "        'random_state': 8\n",
    "    },\n",
    "    'HDBSCAN': {\n",
    "        'min_cluster_size':15,\n",
    "        'min_samples': 1,\n",
    "        'cluster_selection_epsilon': 0.6,\n",
    "        'metric': 'euclidean',                      \n",
    "        'cluster_selection_method': 'eom',\n",
    "        'prediction_data': True}\n",
    "}\n",
    "\n",
    "params= {\n",
    "    'UMAP' : {\n",
    "        'metric' : 'cosine', \n",
    "        'n_neighbors' : 15, \n",
    "        'n_components' : 10, \n",
    "        'min_dist' : 0.2, \n",
    "        'low_memory' : False,\n",
    "        'random_state': 8\n",
    "    },\n",
    "    'HDBSCAN': {\n",
    "        'min_cluster_size':15,\n",
    "        'min_samples': 1,\n",
    "        'cluster_selection_epsilon': 0.6,\n",
    "        'metric': 'euclidean',                      \n",
    "        'cluster_selection_method': 'eom',\n",
    "        'prediction_data': True}\n",
    "}"
   ]
  },
  {
   "cell_type": "markdown",
   "id": "5052636e",
   "metadata": {},
   "source": [
    "## Train model with french parameters"
   ]
  },
  {
   "cell_type": "code",
   "execution_count": 22,
   "id": "f4f39e16",
   "metadata": {},
   "outputs": [],
   "source": [
    "tweets = df.clean.to_list()\n",
    "tweets_sub = random.sample(tweets,k=int(len(tweets)*0.1))\n"
   ]
  },
  {
   "cell_type": "code",
   "execution_count": 36,
   "id": "a13b76ce",
   "metadata": {},
   "outputs": [
    {
     "data": {
      "application/vnd.jupyter.widget-view+json": {
       "model_id": "3bcc263520aa436c8634cd58b949afe0",
       "version_major": 2,
       "version_minor": 0
      },
      "text/plain": [
       "Batches:   0%|          | 0/17 [00:00<?, ?it/s]"
      ]
     },
     "metadata": {},
     "output_type": "display_data"
    },
    {
     "name": "stderr",
     "output_type": "stream",
     "text": [
      "2022-12-16 17:23:51,160 - BERTopic - Transformed documents to Embeddings\n",
      "2022-12-16 17:23:58,237 - BERTopic - Reduced dimensionality\n",
      "2022-12-16 17:23:58,341 - BERTopic - Clustered reduced embeddings\n"
     ]
    },
    {
     "data": {
      "text/html": [
       "<div>\n",
       "<style scoped>\n",
       "    .dataframe tbody tr th:only-of-type {\n",
       "        vertical-align: middle;\n",
       "    }\n",
       "\n",
       "    .dataframe tbody tr th {\n",
       "        vertical-align: top;\n",
       "    }\n",
       "\n",
       "    .dataframe thead th {\n",
       "        text-align: right;\n",
       "    }\n",
       "</style>\n",
       "<table border=\"1\" class=\"dataframe\">\n",
       "  <thead>\n",
       "    <tr style=\"text-align: right;\">\n",
       "      <th></th>\n",
       "      <th>Topic</th>\n",
       "      <th>Count</th>\n",
       "      <th>Name</th>\n",
       "    </tr>\n",
       "  </thead>\n",
       "  <tbody>\n",
       "    <tr>\n",
       "      <th>0</th>\n",
       "      <td>-1</td>\n",
       "      <td>60</td>\n",
       "      <td>-1_pkk_time_go_link</td>\n",
       "    </tr>\n",
       "    <tr>\n",
       "      <th>1</th>\n",
       "      <td>0</td>\n",
       "      <td>231</td>\n",
       "      <td>0_turkey_turkish_state_kurdish</td>\n",
       "    </tr>\n",
       "    <tr>\n",
       "      <th>2</th>\n",
       "      <td>1</td>\n",
       "      <td>122</td>\n",
       "      <td>1_woman_right_say_allah</td>\n",
       "    </tr>\n",
       "    <tr>\n",
       "      <th>3</th>\n",
       "      <td>2</td>\n",
       "      <td>89</td>\n",
       "      <td>2_prison_mother_student_take</td>\n",
       "    </tr>\n",
       "    <tr>\n",
       "      <th>4</th>\n",
       "      <td>3</td>\n",
       "      <td>26</td>\n",
       "      <td>3_martyr_struggle_people_guerrilla</td>\n",
       "    </tr>\n",
       "  </tbody>\n",
       "</table>\n",
       "</div>"
      ],
      "text/plain": [
       "   Topic  Count                                Name\n",
       "0     -1     60                 -1_pkk_time_go_link\n",
       "1      0    231      0_turkey_turkish_state_kurdish\n",
       "2      1    122             1_woman_right_say_allah\n",
       "3      2     89        2_prison_mother_student_take\n",
       "4      3     26  3_martyr_struggle_people_guerrilla"
      ]
     },
     "execution_count": 36,
     "metadata": {},
     "output_type": "execute_result"
    }
   ],
   "source": [
    "model_fr = get_model(params_france, additional_stop_words= [])\n",
    "topics_fr, probs_fr = model_fr.fit_transform(tweets_sub)\n",
    "model_fr.get_topic_info()"
   ]
  },
  {
   "cell_type": "code",
   "execution_count": 37,
   "id": "181ddae2",
   "metadata": {},
   "outputs": [
    {
     "data": {
      "text/plain": [
       "{-1: [('pkk', 0.05568987137156217),\n",
       "  ('time', 0.047734175461339),\n",
       "  ('go', 0.03977847955111583),\n",
       "  ('link', 0.03630596445269925),\n",
       "  ('alternative', 0.03630596445269925),\n",
       "  ('calan', 0.035336787996869026),\n",
       "  ('month', 0.035336787996869026),\n",
       "  ('year', 0.03355959993365784),\n",
       "  ('climate', 0.031854529195505174),\n",
       "  ('memory', 0.031854529195505174)],\n",
       " 0: [('turkey', 0.05024801599855099),\n",
       "  ('turkish', 0.04701590561904063),\n",
       "  ('state', 0.0389868641185469),\n",
       "  ('kurdish', 0.034889777997744884),\n",
       "  ('people', 0.02935507047910019),\n",
       "  ('lu', 0.027229784087240458),\n",
       "  ('gergerlio', 0.02619986845486328),\n",
       "  ('akp', 0.024511678343846162),\n",
       "  ('hdp', 0.023037175730554492),\n",
       "  ('erdogan', 0.023037175730554492)],\n",
       " 1: [('woman', 0.046707385839345895),\n",
       "  ('right', 0.046195122085384455),\n",
       "  ('say', 0.040263524309493204),\n",
       "  ('allah', 0.039690396374306686),\n",
       "  ('people', 0.03794185327558143),\n",
       "  ('day', 0.037250079914060236),\n",
       "  ('great', 0.033889761501128025),\n",
       "  ('follow', 0.033139697950369064),\n",
       "  ('god', 0.03184365255842217),\n",
       "  ('test', 0.031527682622690484)],\n",
       " 2: [('prison', 0.0612176913392881),\n",
       "  ('mother', 0.05255535299963586),\n",
       "  ('student', 0.03897020773041805),\n",
       "  ('take', 0.034557641252814485),\n",
       "  ('year', 0.033837974495319514),\n",
       "  ('child', 0.030627765890621984),\n",
       "  ('son', 0.03052601881843963),\n",
       "  ('person', 0.029575909771106315),\n",
       "  ('court', 0.029481531177515872),\n",
       "  ('attack', 0.02715135728975417)],\n",
       " 3: [('martyr', 0.14090936816109476),\n",
       "  ('struggle', 0.09576329936226556),\n",
       "  ('people', 0.0652921644707002),\n",
       "  ('guerrilla', 0.05853138782186127),\n",
       "  ('remember', 0.056176503889199154),\n",
       "  ('resistance', 0.056176503889199154),\n",
       "  ('sunday', 0.056176503889199154),\n",
       "  ('revolution', 0.0542543513683755),\n",
       "  ('action', 0.04888147269610218),\n",
       "  ('without', 0.04788164968113278)]}"
      ]
     },
     "execution_count": 37,
     "metadata": {},
     "output_type": "execute_result"
    }
   ],
   "source": [
    "model_fr.get_topics()"
   ]
  },
  {
   "cell_type": "code",
   "execution_count": 38,
   "id": "3395e615",
   "metadata": {},
   "outputs": [
    {
     "data": {
      "application/vnd.plotly.v1+json": {
       "config": {
        "plotlyServerURL": "https://plot.ly"
       },
       "data": [
        {
         "coloraxis": "coloraxis",
         "hovertemplate": "x: %{x}<br>y: %{y}<br>Similarity Score: %{z}<extra></extra>",
         "name": "0",
         "type": "heatmap",
         "x": [
          "0_turkey_turkish_state",
          "1_woman_right_say",
          "2_prison_mother_student",
          "3_martyr_struggle_people"
         ],
         "xaxis": "x",
         "y": [
          "0_turkey_turkish_state",
          "1_woman_right_say",
          "2_prison_mother_student",
          "3_martyr_struggle_people"
         ],
         "yaxis": "y",
         "z": [
          [
           1.0000000000000004,
           0.6275109436458611,
           0.7023918050839275,
           0.7030529808011684
          ],
          [
           0.6275109436458611,
           0.9999999999999993,
           0.6385781939459134,
           0.5917809800129329
          ],
          [
           0.7023918050839275,
           0.6385781939459134,
           0.9999999999999996,
           0.705517812196409
          ],
          [
           0.7030529808011684,
           0.5917809800129329,
           0.705517812196409,
           1
          ]
         ]
        }
       ],
       "layout": {
        "coloraxis": {
         "colorbar": {
          "title": {
           "text": "Similarity Score"
          }
         },
         "colorscale": [
          [
           0,
           "rgb(247,252,240)"
          ],
          [
           0.125,
           "rgb(224,243,219)"
          ],
          [
           0.25,
           "rgb(204,235,197)"
          ],
          [
           0.375,
           "rgb(168,221,181)"
          ],
          [
           0.5,
           "rgb(123,204,196)"
          ],
          [
           0.625,
           "rgb(78,179,211)"
          ],
          [
           0.75,
           "rgb(43,140,190)"
          ],
          [
           0.875,
           "rgb(8,104,172)"
          ],
          [
           1,
           "rgb(8,64,129)"
          ]
         ]
        },
        "height": 800,
        "hoverlabel": {
         "bgcolor": "white",
         "font": {
          "family": "Rockwell",
          "size": 16
         }
        },
        "legend": {
         "title": {
          "text": "Trend"
         }
        },
        "margin": {
         "t": 60
        },
        "showlegend": true,
        "template": {
         "data": {
          "bar": [
           {
            "error_x": {
             "color": "#2a3f5f"
            },
            "error_y": {
             "color": "#2a3f5f"
            },
            "marker": {
             "line": {
              "color": "#E5ECF6",
              "width": 0.5
             },
             "pattern": {
              "fillmode": "overlay",
              "size": 10,
              "solidity": 0.2
             }
            },
            "type": "bar"
           }
          ],
          "barpolar": [
           {
            "marker": {
             "line": {
              "color": "#E5ECF6",
              "width": 0.5
             },
             "pattern": {
              "fillmode": "overlay",
              "size": 10,
              "solidity": 0.2
             }
            },
            "type": "barpolar"
           }
          ],
          "carpet": [
           {
            "aaxis": {
             "endlinecolor": "#2a3f5f",
             "gridcolor": "white",
             "linecolor": "white",
             "minorgridcolor": "white",
             "startlinecolor": "#2a3f5f"
            },
            "baxis": {
             "endlinecolor": "#2a3f5f",
             "gridcolor": "white",
             "linecolor": "white",
             "minorgridcolor": "white",
             "startlinecolor": "#2a3f5f"
            },
            "type": "carpet"
           }
          ],
          "choropleth": [
           {
            "colorbar": {
             "outlinewidth": 0,
             "ticks": ""
            },
            "type": "choropleth"
           }
          ],
          "contour": [
           {
            "colorbar": {
             "outlinewidth": 0,
             "ticks": ""
            },
            "colorscale": [
             [
              0,
              "#0d0887"
             ],
             [
              0.1111111111111111,
              "#46039f"
             ],
             [
              0.2222222222222222,
              "#7201a8"
             ],
             [
              0.3333333333333333,
              "#9c179e"
             ],
             [
              0.4444444444444444,
              "#bd3786"
             ],
             [
              0.5555555555555556,
              "#d8576b"
             ],
             [
              0.6666666666666666,
              "#ed7953"
             ],
             [
              0.7777777777777778,
              "#fb9f3a"
             ],
             [
              0.8888888888888888,
              "#fdca26"
             ],
             [
              1,
              "#f0f921"
             ]
            ],
            "type": "contour"
           }
          ],
          "contourcarpet": [
           {
            "colorbar": {
             "outlinewidth": 0,
             "ticks": ""
            },
            "type": "contourcarpet"
           }
          ],
          "heatmap": [
           {
            "colorbar": {
             "outlinewidth": 0,
             "ticks": ""
            },
            "colorscale": [
             [
              0,
              "#0d0887"
             ],
             [
              0.1111111111111111,
              "#46039f"
             ],
             [
              0.2222222222222222,
              "#7201a8"
             ],
             [
              0.3333333333333333,
              "#9c179e"
             ],
             [
              0.4444444444444444,
              "#bd3786"
             ],
             [
              0.5555555555555556,
              "#d8576b"
             ],
             [
              0.6666666666666666,
              "#ed7953"
             ],
             [
              0.7777777777777778,
              "#fb9f3a"
             ],
             [
              0.8888888888888888,
              "#fdca26"
             ],
             [
              1,
              "#f0f921"
             ]
            ],
            "type": "heatmap"
           }
          ],
          "heatmapgl": [
           {
            "colorbar": {
             "outlinewidth": 0,
             "ticks": ""
            },
            "colorscale": [
             [
              0,
              "#0d0887"
             ],
             [
              0.1111111111111111,
              "#46039f"
             ],
             [
              0.2222222222222222,
              "#7201a8"
             ],
             [
              0.3333333333333333,
              "#9c179e"
             ],
             [
              0.4444444444444444,
              "#bd3786"
             ],
             [
              0.5555555555555556,
              "#d8576b"
             ],
             [
              0.6666666666666666,
              "#ed7953"
             ],
             [
              0.7777777777777778,
              "#fb9f3a"
             ],
             [
              0.8888888888888888,
              "#fdca26"
             ],
             [
              1,
              "#f0f921"
             ]
            ],
            "type": "heatmapgl"
           }
          ],
          "histogram": [
           {
            "marker": {
             "pattern": {
              "fillmode": "overlay",
              "size": 10,
              "solidity": 0.2
             }
            },
            "type": "histogram"
           }
          ],
          "histogram2d": [
           {
            "colorbar": {
             "outlinewidth": 0,
             "ticks": ""
            },
            "colorscale": [
             [
              0,
              "#0d0887"
             ],
             [
              0.1111111111111111,
              "#46039f"
             ],
             [
              0.2222222222222222,
              "#7201a8"
             ],
             [
              0.3333333333333333,
              "#9c179e"
             ],
             [
              0.4444444444444444,
              "#bd3786"
             ],
             [
              0.5555555555555556,
              "#d8576b"
             ],
             [
              0.6666666666666666,
              "#ed7953"
             ],
             [
              0.7777777777777778,
              "#fb9f3a"
             ],
             [
              0.8888888888888888,
              "#fdca26"
             ],
             [
              1,
              "#f0f921"
             ]
            ],
            "type": "histogram2d"
           }
          ],
          "histogram2dcontour": [
           {
            "colorbar": {
             "outlinewidth": 0,
             "ticks": ""
            },
            "colorscale": [
             [
              0,
              "#0d0887"
             ],
             [
              0.1111111111111111,
              "#46039f"
             ],
             [
              0.2222222222222222,
              "#7201a8"
             ],
             [
              0.3333333333333333,
              "#9c179e"
             ],
             [
              0.4444444444444444,
              "#bd3786"
             ],
             [
              0.5555555555555556,
              "#d8576b"
             ],
             [
              0.6666666666666666,
              "#ed7953"
             ],
             [
              0.7777777777777778,
              "#fb9f3a"
             ],
             [
              0.8888888888888888,
              "#fdca26"
             ],
             [
              1,
              "#f0f921"
             ]
            ],
            "type": "histogram2dcontour"
           }
          ],
          "mesh3d": [
           {
            "colorbar": {
             "outlinewidth": 0,
             "ticks": ""
            },
            "type": "mesh3d"
           }
          ],
          "parcoords": [
           {
            "line": {
             "colorbar": {
              "outlinewidth": 0,
              "ticks": ""
             }
            },
            "type": "parcoords"
           }
          ],
          "pie": [
           {
            "automargin": true,
            "type": "pie"
           }
          ],
          "scatter": [
           {
            "fillpattern": {
             "fillmode": "overlay",
             "size": 10,
             "solidity": 0.2
            },
            "type": "scatter"
           }
          ],
          "scatter3d": [
           {
            "line": {
             "colorbar": {
              "outlinewidth": 0,
              "ticks": ""
             }
            },
            "marker": {
             "colorbar": {
              "outlinewidth": 0,
              "ticks": ""
             }
            },
            "type": "scatter3d"
           }
          ],
          "scattercarpet": [
           {
            "marker": {
             "colorbar": {
              "outlinewidth": 0,
              "ticks": ""
             }
            },
            "type": "scattercarpet"
           }
          ],
          "scattergeo": [
           {
            "marker": {
             "colorbar": {
              "outlinewidth": 0,
              "ticks": ""
             }
            },
            "type": "scattergeo"
           }
          ],
          "scattergl": [
           {
            "marker": {
             "colorbar": {
              "outlinewidth": 0,
              "ticks": ""
             }
            },
            "type": "scattergl"
           }
          ],
          "scattermapbox": [
           {
            "marker": {
             "colorbar": {
              "outlinewidth": 0,
              "ticks": ""
             }
            },
            "type": "scattermapbox"
           }
          ],
          "scatterpolar": [
           {
            "marker": {
             "colorbar": {
              "outlinewidth": 0,
              "ticks": ""
             }
            },
            "type": "scatterpolar"
           }
          ],
          "scatterpolargl": [
           {
            "marker": {
             "colorbar": {
              "outlinewidth": 0,
              "ticks": ""
             }
            },
            "type": "scatterpolargl"
           }
          ],
          "scatterternary": [
           {
            "marker": {
             "colorbar": {
              "outlinewidth": 0,
              "ticks": ""
             }
            },
            "type": "scatterternary"
           }
          ],
          "surface": [
           {
            "colorbar": {
             "outlinewidth": 0,
             "ticks": ""
            },
            "colorscale": [
             [
              0,
              "#0d0887"
             ],
             [
              0.1111111111111111,
              "#46039f"
             ],
             [
              0.2222222222222222,
              "#7201a8"
             ],
             [
              0.3333333333333333,
              "#9c179e"
             ],
             [
              0.4444444444444444,
              "#bd3786"
             ],
             [
              0.5555555555555556,
              "#d8576b"
             ],
             [
              0.6666666666666666,
              "#ed7953"
             ],
             [
              0.7777777777777778,
              "#fb9f3a"
             ],
             [
              0.8888888888888888,
              "#fdca26"
             ],
             [
              1,
              "#f0f921"
             ]
            ],
            "type": "surface"
           }
          ],
          "table": [
           {
            "cells": {
             "fill": {
              "color": "#EBF0F8"
             },
             "line": {
              "color": "white"
             }
            },
            "header": {
             "fill": {
              "color": "#C8D4E3"
             },
             "line": {
              "color": "white"
             }
            },
            "type": "table"
           }
          ]
         },
         "layout": {
          "annotationdefaults": {
           "arrowcolor": "#2a3f5f",
           "arrowhead": 0,
           "arrowwidth": 1
          },
          "autotypenumbers": "strict",
          "coloraxis": {
           "colorbar": {
            "outlinewidth": 0,
            "ticks": ""
           }
          },
          "colorscale": {
           "diverging": [
            [
             0,
             "#8e0152"
            ],
            [
             0.1,
             "#c51b7d"
            ],
            [
             0.2,
             "#de77ae"
            ],
            [
             0.3,
             "#f1b6da"
            ],
            [
             0.4,
             "#fde0ef"
            ],
            [
             0.5,
             "#f7f7f7"
            ],
            [
             0.6,
             "#e6f5d0"
            ],
            [
             0.7,
             "#b8e186"
            ],
            [
             0.8,
             "#7fbc41"
            ],
            [
             0.9,
             "#4d9221"
            ],
            [
             1,
             "#276419"
            ]
           ],
           "sequential": [
            [
             0,
             "#0d0887"
            ],
            [
             0.1111111111111111,
             "#46039f"
            ],
            [
             0.2222222222222222,
             "#7201a8"
            ],
            [
             0.3333333333333333,
             "#9c179e"
            ],
            [
             0.4444444444444444,
             "#bd3786"
            ],
            [
             0.5555555555555556,
             "#d8576b"
            ],
            [
             0.6666666666666666,
             "#ed7953"
            ],
            [
             0.7777777777777778,
             "#fb9f3a"
            ],
            [
             0.8888888888888888,
             "#fdca26"
            ],
            [
             1,
             "#f0f921"
            ]
           ],
           "sequentialminus": [
            [
             0,
             "#0d0887"
            ],
            [
             0.1111111111111111,
             "#46039f"
            ],
            [
             0.2222222222222222,
             "#7201a8"
            ],
            [
             0.3333333333333333,
             "#9c179e"
            ],
            [
             0.4444444444444444,
             "#bd3786"
            ],
            [
             0.5555555555555556,
             "#d8576b"
            ],
            [
             0.6666666666666666,
             "#ed7953"
            ],
            [
             0.7777777777777778,
             "#fb9f3a"
            ],
            [
             0.8888888888888888,
             "#fdca26"
            ],
            [
             1,
             "#f0f921"
            ]
           ]
          },
          "colorway": [
           "#636efa",
           "#EF553B",
           "#00cc96",
           "#ab63fa",
           "#FFA15A",
           "#19d3f3",
           "#FF6692",
           "#B6E880",
           "#FF97FF",
           "#FECB52"
          ],
          "font": {
           "color": "#2a3f5f"
          },
          "geo": {
           "bgcolor": "white",
           "lakecolor": "white",
           "landcolor": "#E5ECF6",
           "showlakes": true,
           "showland": true,
           "subunitcolor": "white"
          },
          "hoverlabel": {
           "align": "left"
          },
          "hovermode": "closest",
          "mapbox": {
           "style": "light"
          },
          "paper_bgcolor": "white",
          "plot_bgcolor": "#E5ECF6",
          "polar": {
           "angularaxis": {
            "gridcolor": "white",
            "linecolor": "white",
            "ticks": ""
           },
           "bgcolor": "#E5ECF6",
           "radialaxis": {
            "gridcolor": "white",
            "linecolor": "white",
            "ticks": ""
           }
          },
          "scene": {
           "xaxis": {
            "backgroundcolor": "#E5ECF6",
            "gridcolor": "white",
            "gridwidth": 2,
            "linecolor": "white",
            "showbackground": true,
            "ticks": "",
            "zerolinecolor": "white"
           },
           "yaxis": {
            "backgroundcolor": "#E5ECF6",
            "gridcolor": "white",
            "gridwidth": 2,
            "linecolor": "white",
            "showbackground": true,
            "ticks": "",
            "zerolinecolor": "white"
           },
           "zaxis": {
            "backgroundcolor": "#E5ECF6",
            "gridcolor": "white",
            "gridwidth": 2,
            "linecolor": "white",
            "showbackground": true,
            "ticks": "",
            "zerolinecolor": "white"
           }
          },
          "shapedefaults": {
           "line": {
            "color": "#2a3f5f"
           }
          },
          "ternary": {
           "aaxis": {
            "gridcolor": "white",
            "linecolor": "white",
            "ticks": ""
           },
           "baxis": {
            "gridcolor": "white",
            "linecolor": "white",
            "ticks": ""
           },
           "bgcolor": "#E5ECF6",
           "caxis": {
            "gridcolor": "white",
            "linecolor": "white",
            "ticks": ""
           }
          },
          "title": {
           "x": 0.05
          },
          "xaxis": {
           "automargin": true,
           "gridcolor": "white",
           "linecolor": "white",
           "ticks": "",
           "title": {
            "standoff": 15
           },
           "zerolinecolor": "white",
           "zerolinewidth": 2
          },
          "yaxis": {
           "automargin": true,
           "gridcolor": "white",
           "linecolor": "white",
           "ticks": "",
           "title": {
            "standoff": 15
           },
           "zerolinecolor": "white",
           "zerolinewidth": 2
          }
         }
        },
        "title": {
         "font": {
          "color": "Black",
          "size": 22
         },
         "text": "<b>Similarity Matrix",
         "x": 0.55,
         "xanchor": "center",
         "y": 0.95,
         "yanchor": "top"
        },
        "width": 800,
        "xaxis": {
         "anchor": "y",
         "constrain": "domain",
         "domain": [
          0,
          1
         ],
         "scaleanchor": "y"
        },
        "yaxis": {
         "anchor": "x",
         "autorange": "reversed",
         "constrain": "domain",
         "domain": [
          0,
          1
         ]
        }
       }
      },
      "text/html": [
       "<div>                            <div id=\"94ce9dd0-450e-4f91-b5e9-e7c767042d78\" class=\"plotly-graph-div\" style=\"height:800px; width:800px;\"></div>            <script type=\"text/javascript\">                require([\"plotly\"], function(Plotly) {                    window.PLOTLYENV=window.PLOTLYENV || {};                                    if (document.getElementById(\"94ce9dd0-450e-4f91-b5e9-e7c767042d78\")) {                    Plotly.newPlot(                        \"94ce9dd0-450e-4f91-b5e9-e7c767042d78\",                        [{\"coloraxis\":\"coloraxis\",\"name\":\"0\",\"x\":[\"0_turkey_turkish_state\",\"1_woman_right_say\",\"2_prison_mother_student\",\"3_martyr_struggle_people\"],\"y\":[\"0_turkey_turkish_state\",\"1_woman_right_say\",\"2_prison_mother_student\",\"3_martyr_struggle_people\"],\"z\":[[1.0000000000000004,0.6275109436458611,0.7023918050839275,0.7030529808011684],[0.6275109436458611,0.9999999999999993,0.6385781939459134,0.5917809800129329],[0.7023918050839275,0.6385781939459134,0.9999999999999996,0.705517812196409],[0.7030529808011684,0.5917809800129329,0.705517812196409,1.0]],\"type\":\"heatmap\",\"xaxis\":\"x\",\"yaxis\":\"y\",\"hovertemplate\":\"x: %{x}<br>y: %{y}<br>Similarity Score: %{z}<extra></extra>\"}],                        {\"template\":{\"data\":{\"histogram2dcontour\":[{\"type\":\"histogram2dcontour\",\"colorbar\":{\"outlinewidth\":0,\"ticks\":\"\"},\"colorscale\":[[0.0,\"#0d0887\"],[0.1111111111111111,\"#46039f\"],[0.2222222222222222,\"#7201a8\"],[0.3333333333333333,\"#9c179e\"],[0.4444444444444444,\"#bd3786\"],[0.5555555555555556,\"#d8576b\"],[0.6666666666666666,\"#ed7953\"],[0.7777777777777778,\"#fb9f3a\"],[0.8888888888888888,\"#fdca26\"],[1.0,\"#f0f921\"]]}],\"choropleth\":[{\"type\":\"choropleth\",\"colorbar\":{\"outlinewidth\":0,\"ticks\":\"\"}}],\"histogram2d\":[{\"type\":\"histogram2d\",\"colorbar\":{\"outlinewidth\":0,\"ticks\":\"\"},\"colorscale\":[[0.0,\"#0d0887\"],[0.1111111111111111,\"#46039f\"],[0.2222222222222222,\"#7201a8\"],[0.3333333333333333,\"#9c179e\"],[0.4444444444444444,\"#bd3786\"],[0.5555555555555556,\"#d8576b\"],[0.6666666666666666,\"#ed7953\"],[0.7777777777777778,\"#fb9f3a\"],[0.8888888888888888,\"#fdca26\"],[1.0,\"#f0f921\"]]}],\"heatmap\":[{\"type\":\"heatmap\",\"colorbar\":{\"outlinewidth\":0,\"ticks\":\"\"},\"colorscale\":[[0.0,\"#0d0887\"],[0.1111111111111111,\"#46039f\"],[0.2222222222222222,\"#7201a8\"],[0.3333333333333333,\"#9c179e\"],[0.4444444444444444,\"#bd3786\"],[0.5555555555555556,\"#d8576b\"],[0.6666666666666666,\"#ed7953\"],[0.7777777777777778,\"#fb9f3a\"],[0.8888888888888888,\"#fdca26\"],[1.0,\"#f0f921\"]]}],\"heatmapgl\":[{\"type\":\"heatmapgl\",\"colorbar\":{\"outlinewidth\":0,\"ticks\":\"\"},\"colorscale\":[[0.0,\"#0d0887\"],[0.1111111111111111,\"#46039f\"],[0.2222222222222222,\"#7201a8\"],[0.3333333333333333,\"#9c179e\"],[0.4444444444444444,\"#bd3786\"],[0.5555555555555556,\"#d8576b\"],[0.6666666666666666,\"#ed7953\"],[0.7777777777777778,\"#fb9f3a\"],[0.8888888888888888,\"#fdca26\"],[1.0,\"#f0f921\"]]}],\"contourcarpet\":[{\"type\":\"contourcarpet\",\"colorbar\":{\"outlinewidth\":0,\"ticks\":\"\"}}],\"contour\":[{\"type\":\"contour\",\"colorbar\":{\"outlinewidth\":0,\"ticks\":\"\"},\"colorscale\":[[0.0,\"#0d0887\"],[0.1111111111111111,\"#46039f\"],[0.2222222222222222,\"#7201a8\"],[0.3333333333333333,\"#9c179e\"],[0.4444444444444444,\"#bd3786\"],[0.5555555555555556,\"#d8576b\"],[0.6666666666666666,\"#ed7953\"],[0.7777777777777778,\"#fb9f3a\"],[0.8888888888888888,\"#fdca26\"],[1.0,\"#f0f921\"]]}],\"surface\":[{\"type\":\"surface\",\"colorbar\":{\"outlinewidth\":0,\"ticks\":\"\"},\"colorscale\":[[0.0,\"#0d0887\"],[0.1111111111111111,\"#46039f\"],[0.2222222222222222,\"#7201a8\"],[0.3333333333333333,\"#9c179e\"],[0.4444444444444444,\"#bd3786\"],[0.5555555555555556,\"#d8576b\"],[0.6666666666666666,\"#ed7953\"],[0.7777777777777778,\"#fb9f3a\"],[0.8888888888888888,\"#fdca26\"],[1.0,\"#f0f921\"]]}],\"mesh3d\":[{\"type\":\"mesh3d\",\"colorbar\":{\"outlinewidth\":0,\"ticks\":\"\"}}],\"scatter\":[{\"fillpattern\":{\"fillmode\":\"overlay\",\"size\":10,\"solidity\":0.2},\"type\":\"scatter\"}],\"parcoords\":[{\"type\":\"parcoords\",\"line\":{\"colorbar\":{\"outlinewidth\":0,\"ticks\":\"\"}}}],\"scatterpolargl\":[{\"type\":\"scatterpolargl\",\"marker\":{\"colorbar\":{\"outlinewidth\":0,\"ticks\":\"\"}}}],\"bar\":[{\"error_x\":{\"color\":\"#2a3f5f\"},\"error_y\":{\"color\":\"#2a3f5f\"},\"marker\":{\"line\":{\"color\":\"#E5ECF6\",\"width\":0.5},\"pattern\":{\"fillmode\":\"overlay\",\"size\":10,\"solidity\":0.2}},\"type\":\"bar\"}],\"scattergeo\":[{\"type\":\"scattergeo\",\"marker\":{\"colorbar\":{\"outlinewidth\":0,\"ticks\":\"\"}}}],\"scatterpolar\":[{\"type\":\"scatterpolar\",\"marker\":{\"colorbar\":{\"outlinewidth\":0,\"ticks\":\"\"}}}],\"histogram\":[{\"marker\":{\"pattern\":{\"fillmode\":\"overlay\",\"size\":10,\"solidity\":0.2}},\"type\":\"histogram\"}],\"scattergl\":[{\"type\":\"scattergl\",\"marker\":{\"colorbar\":{\"outlinewidth\":0,\"ticks\":\"\"}}}],\"scatter3d\":[{\"type\":\"scatter3d\",\"line\":{\"colorbar\":{\"outlinewidth\":0,\"ticks\":\"\"}},\"marker\":{\"colorbar\":{\"outlinewidth\":0,\"ticks\":\"\"}}}],\"scattermapbox\":[{\"type\":\"scattermapbox\",\"marker\":{\"colorbar\":{\"outlinewidth\":0,\"ticks\":\"\"}}}],\"scatterternary\":[{\"type\":\"scatterternary\",\"marker\":{\"colorbar\":{\"outlinewidth\":0,\"ticks\":\"\"}}}],\"scattercarpet\":[{\"type\":\"scattercarpet\",\"marker\":{\"colorbar\":{\"outlinewidth\":0,\"ticks\":\"\"}}}],\"carpet\":[{\"aaxis\":{\"endlinecolor\":\"#2a3f5f\",\"gridcolor\":\"white\",\"linecolor\":\"white\",\"minorgridcolor\":\"white\",\"startlinecolor\":\"#2a3f5f\"},\"baxis\":{\"endlinecolor\":\"#2a3f5f\",\"gridcolor\":\"white\",\"linecolor\":\"white\",\"minorgridcolor\":\"white\",\"startlinecolor\":\"#2a3f5f\"},\"type\":\"carpet\"}],\"table\":[{\"cells\":{\"fill\":{\"color\":\"#EBF0F8\"},\"line\":{\"color\":\"white\"}},\"header\":{\"fill\":{\"color\":\"#C8D4E3\"},\"line\":{\"color\":\"white\"}},\"type\":\"table\"}],\"barpolar\":[{\"marker\":{\"line\":{\"color\":\"#E5ECF6\",\"width\":0.5},\"pattern\":{\"fillmode\":\"overlay\",\"size\":10,\"solidity\":0.2}},\"type\":\"barpolar\"}],\"pie\":[{\"automargin\":true,\"type\":\"pie\"}]},\"layout\":{\"autotypenumbers\":\"strict\",\"colorway\":[\"#636efa\",\"#EF553B\",\"#00cc96\",\"#ab63fa\",\"#FFA15A\",\"#19d3f3\",\"#FF6692\",\"#B6E880\",\"#FF97FF\",\"#FECB52\"],\"font\":{\"color\":\"#2a3f5f\"},\"hovermode\":\"closest\",\"hoverlabel\":{\"align\":\"left\"},\"paper_bgcolor\":\"white\",\"plot_bgcolor\":\"#E5ECF6\",\"polar\":{\"bgcolor\":\"#E5ECF6\",\"angularaxis\":{\"gridcolor\":\"white\",\"linecolor\":\"white\",\"ticks\":\"\"},\"radialaxis\":{\"gridcolor\":\"white\",\"linecolor\":\"white\",\"ticks\":\"\"}},\"ternary\":{\"bgcolor\":\"#E5ECF6\",\"aaxis\":{\"gridcolor\":\"white\",\"linecolor\":\"white\",\"ticks\":\"\"},\"baxis\":{\"gridcolor\":\"white\",\"linecolor\":\"white\",\"ticks\":\"\"},\"caxis\":{\"gridcolor\":\"white\",\"linecolor\":\"white\",\"ticks\":\"\"}},\"coloraxis\":{\"colorbar\":{\"outlinewidth\":0,\"ticks\":\"\"}},\"colorscale\":{\"sequential\":[[0.0,\"#0d0887\"],[0.1111111111111111,\"#46039f\"],[0.2222222222222222,\"#7201a8\"],[0.3333333333333333,\"#9c179e\"],[0.4444444444444444,\"#bd3786\"],[0.5555555555555556,\"#d8576b\"],[0.6666666666666666,\"#ed7953\"],[0.7777777777777778,\"#fb9f3a\"],[0.8888888888888888,\"#fdca26\"],[1.0,\"#f0f921\"]],\"sequentialminus\":[[0.0,\"#0d0887\"],[0.1111111111111111,\"#46039f\"],[0.2222222222222222,\"#7201a8\"],[0.3333333333333333,\"#9c179e\"],[0.4444444444444444,\"#bd3786\"],[0.5555555555555556,\"#d8576b\"],[0.6666666666666666,\"#ed7953\"],[0.7777777777777778,\"#fb9f3a\"],[0.8888888888888888,\"#fdca26\"],[1.0,\"#f0f921\"]],\"diverging\":[[0,\"#8e0152\"],[0.1,\"#c51b7d\"],[0.2,\"#de77ae\"],[0.3,\"#f1b6da\"],[0.4,\"#fde0ef\"],[0.5,\"#f7f7f7\"],[0.6,\"#e6f5d0\"],[0.7,\"#b8e186\"],[0.8,\"#7fbc41\"],[0.9,\"#4d9221\"],[1,\"#276419\"]]},\"xaxis\":{\"gridcolor\":\"white\",\"linecolor\":\"white\",\"ticks\":\"\",\"title\":{\"standoff\":15},\"zerolinecolor\":\"white\",\"automargin\":true,\"zerolinewidth\":2},\"yaxis\":{\"gridcolor\":\"white\",\"linecolor\":\"white\",\"ticks\":\"\",\"title\":{\"standoff\":15},\"zerolinecolor\":\"white\",\"automargin\":true,\"zerolinewidth\":2},\"scene\":{\"xaxis\":{\"backgroundcolor\":\"#E5ECF6\",\"gridcolor\":\"white\",\"linecolor\":\"white\",\"showbackground\":true,\"ticks\":\"\",\"zerolinecolor\":\"white\",\"gridwidth\":2},\"yaxis\":{\"backgroundcolor\":\"#E5ECF6\",\"gridcolor\":\"white\",\"linecolor\":\"white\",\"showbackground\":true,\"ticks\":\"\",\"zerolinecolor\":\"white\",\"gridwidth\":2},\"zaxis\":{\"backgroundcolor\":\"#E5ECF6\",\"gridcolor\":\"white\",\"linecolor\":\"white\",\"showbackground\":true,\"ticks\":\"\",\"zerolinecolor\":\"white\",\"gridwidth\":2}},\"shapedefaults\":{\"line\":{\"color\":\"#2a3f5f\"}},\"annotationdefaults\":{\"arrowcolor\":\"#2a3f5f\",\"arrowhead\":0,\"arrowwidth\":1},\"geo\":{\"bgcolor\":\"white\",\"landcolor\":\"#E5ECF6\",\"subunitcolor\":\"white\",\"showland\":true,\"showlakes\":true,\"lakecolor\":\"white\"},\"title\":{\"x\":0.05},\"mapbox\":{\"style\":\"light\"}}},\"xaxis\":{\"anchor\":\"y\",\"domain\":[0.0,1.0],\"scaleanchor\":\"y\",\"constrain\":\"domain\"},\"yaxis\":{\"anchor\":\"x\",\"domain\":[0.0,1.0],\"autorange\":\"reversed\",\"constrain\":\"domain\"},\"coloraxis\":{\"colorbar\":{\"title\":{\"text\":\"Similarity Score\"}},\"colorscale\":[[0.0,\"rgb(247,252,240)\"],[0.125,\"rgb(224,243,219)\"],[0.25,\"rgb(204,235,197)\"],[0.375,\"rgb(168,221,181)\"],[0.5,\"rgb(123,204,196)\"],[0.625,\"rgb(78,179,211)\"],[0.75,\"rgb(43,140,190)\"],[0.875,\"rgb(8,104,172)\"],[1.0,\"rgb(8,64,129)\"]]},\"margin\":{\"t\":60},\"title\":{\"font\":{\"size\":22,\"color\":\"Black\"},\"text\":\"<b>Similarity Matrix\",\"y\":0.95,\"x\":0.55,\"xanchor\":\"center\",\"yanchor\":\"top\"},\"hoverlabel\":{\"font\":{\"size\":16,\"family\":\"Rockwell\"},\"bgcolor\":\"white\"},\"width\":800,\"height\":800,\"showlegend\":true,\"legend\":{\"title\":{\"text\":\"Trend\"}}},                        {\"responsive\": true}                    ).then(function(){\n",
       "                            \n",
       "var gd = document.getElementById('94ce9dd0-450e-4f91-b5e9-e7c767042d78');\n",
       "var x = new MutationObserver(function (mutations, observer) {{\n",
       "        var display = window.getComputedStyle(gd).display;\n",
       "        if (!display || display === 'none') {{\n",
       "            console.log([gd, 'removed!']);\n",
       "            Plotly.purge(gd);\n",
       "            observer.disconnect();\n",
       "        }}\n",
       "}});\n",
       "\n",
       "// Listen for the removal of the full notebook cells\n",
       "var notebookContainer = gd.closest('#notebook-container');\n",
       "if (notebookContainer) {{\n",
       "    x.observe(notebookContainer, {childList: true});\n",
       "}}\n",
       "\n",
       "// Listen for the clearing of the current output cell\n",
       "var outputEl = gd.closest('.output');\n",
       "if (outputEl) {{\n",
       "    x.observe(outputEl, {childList: true});\n",
       "}}\n",
       "\n",
       "                        })                };                });            </script>        </div>"
      ]
     },
     "metadata": {},
     "output_type": "display_data"
    }
   ],
   "source": [
    "model_fr.visualize_heatmap()"
   ]
  },
  {
   "cell_type": "code",
   "execution_count": null,
   "id": "cd01c1f4",
   "metadata": {},
   "outputs": [],
   "source": [
    "model_fr.visualize_documents(tweets_sub)"
   ]
  },
  {
   "cell_type": "markdown",
   "id": "d0a88477",
   "metadata": {},
   "source": [
    "## Find parameters that are more adapted to Turkey "
   ]
  },
  {
   "cell_type": "code",
   "execution_count": null,
   "id": "caf7b28f",
   "metadata": {},
   "outputs": [],
   "source": [
    "model = get_model(params, additional_stop_words= [])\n",
    "topics, probs = model.fit_transform(tweets_sub)\n",
    "model.get_topic_info()"
   ]
  },
  {
   "cell_type": "code",
   "execution_count": null,
   "id": "f921536e",
   "metadata": {
    "scrolled": true
   },
   "outputs": [],
   "source": [
    "model.get_topics()"
   ]
  },
  {
   "cell_type": "code",
   "execution_count": 19,
   "id": "6713ee64",
   "metadata": {},
   "outputs": [
    {
     "data": {
      "text/plain": [
       "([0, 5, 2, -1, 6],\n",
       " [0.6815587825466685,\n",
       "  0.4726839886601701,\n",
       "  0.4124459038638667,\n",
       "  0.3467415785867757,\n",
       "  0.3430034015491334])"
      ]
     },
     "execution_count": 19,
     "metadata": {},
     "output_type": "execute_result"
    }
   ],
   "source": [
    "model.find_topics(\"armenia\")"
   ]
  },
  {
   "cell_type": "code",
   "execution_count": 31,
   "id": "d0f7101b",
   "metadata": {},
   "outputs": [
    {
     "data": {
      "application/vnd.plotly.v1+json": {
       "config": {
        "plotlyServerURL": "https://plot.ly"
       },
       "data": [
        {
         "hoverinfo": "text",
         "hovertext": [
          "nasreddin hodja birth memory year mustafa z eli k column publication",
          "despite corona requirement massive police violence feminist demonstration saturday zurich",
          "listens friend listens",
          "today mark international day womed girlsin science thanks female scientist great effort",
          "horrify say let see mawla whatever good like right ibrahim watch window go bsn",
          "service revolutionary work woman education hundred girl high school open rate religious education girl",
          "lot strife around world turmoil prevails riot follow everyone",
          "gulistan saeed security force take away person without return judge",
          "god damn",
          "able say uncover kidnap take care one humanity take care humanity surrender fascism",
          "let piss corp wait herd dead dog continue pkk",
          "trust scott morrison government deal climate change face climate emergency climate action auspol",
          "go publish video friday thank god muezzin honest man left alone lie",
          "surprised tomorrow erdogan bah eli deceive u open closure case hdp",
          "ali lmaz stay jail sick",
          "ten thousand ton gmo rice import mersin port child ate baby fed sure continue ba",
          "mother year ago mile closer erbil warmly welcome today gang terrorist people",
          "million million vaccinate",
          "march",
          "success dialogue enks pynk goal agreement reach important interest",
          "bylock tyranny state via",
          "revenge invader afrin child",
          "pkk iye pkk hold congress conference time disrupt democratic function even severe war condition",
          "much trouble sat bad",
          "change understand old age sweden past rapidly move towards elderly category today old",
          "political prisoner turkish prison hunger strike isolation fascism right violation cezaevlerin haberin varm",
          "connection capitalism ecology due devastate effect environmental degradation ecologic",
          "cizre police attack moment",
          "remember u cooperate pkk fight monster isi control frankenstein",
          "like beating water mortar still describe elephant best half bake information",
          "coronavirus restriction texas lift wear mask longer mandatory",
          "forgot report time go wc alone go together amp guard many time since",
          "rojava center strategic study nrl organize workshop dispute kurd qamishlo",
          "charlie hebdo journalist indict turkey insult erdo",
          "flee gar attack hdp truth turn upside silence suppress everyone whole world",
          "rajin nujiyan become part woman resistance",
          "enough woman science pursue vocation boy hope",
          "nder apo diyorki tale parable make almost never remain",
          "yes also say break word come answer question follower",
          "journalist etin share twitter account invasion attack gar say",
          "well heavy hhhh",
          "sleepy let talk morning",
          "mithat sancar stand calan newroz message insist democratic politics insist democratic solutio",
          "lose great artist rasimoztekin rest peace wish patience relative",
          "yaaa follower count low realize let give hand vartolu tweeter follower count",
          "go til end month",
          "friend one brother eat little reason look miss meeting journalist writer foundation",
          "neither live live life without leader happen mral",
          "let million transfer wealth fund use child sma",
          "people defense central headquarters command hsm attack prisoner camp way save",
          "history ibn khaldun study history establishment rise collapse state lecture guide today",
          "nuri mahmoud want put end mentality isi",
          "anniversary international conspiracy pkk leader abdullah calan february aggravate",
          "woman superpower girl future girl science woman science woman science day internation",
          "would like make call friend walk life reading tweet please woman right woman",
          "country support let dictator prosecute campaign",
          "course must",
          "book life prophet pbuh publish publishing house translate german friend available instagram",
          "request rt support guy",
          "important partial phone call make nder calan however phone interrupt print told",
          "woman struggle labor history",
          "happen solidarity teamwork",
          "parliament deny zlem zengin report nude search emerge",
          "support",
          "country society consists educate enlighten woman stand foot exclusively religious intellectual",
          "komalen jinen ciwan sitesinin resmi hesb r supporterseniz seviniriz official account komalen jinen ciwan pish",
          "language insult mother sister kurdish freedom fighter prison insult u language shot assassinate",
          "usa fan read article well double confession jeffrey",
          "continue follow",
          "notice akp also start school classroom first step plan februaryists eto plan step step",
          "tonight berlin time invite online hatim prayer please share",
          "bring justice state turn big gang augustinus",
          "dear uncle nusret photo take morning wait take prison shoemaker manisa many year",
          "imprison nazl il cak give big support kavak time think like get",
          "god almost today medi run aid victim innocent oppress family entrust u",
          "khk person khk wife khk friend saw family stand side side oppress",
          "erdogan regime satisfied jailing journalist shut medium outlet censor even youtube pro",
          "three month come let prepare evaluate happy birthday",
          "woman story march",
          "call parliament gergerlioglu take custody imprison make ablution de facto power left",
          "faith determination self sacrifice ypj become hope woman also oppress humanity h",
          "h seyin galip k k zyi mysterious miss person case turkey erdo government",
          "khashoggi sanction usa start apply cause opposition journalist activist abroad harass threaten monitor",
          "american law professor ann graham say first class service institution service people admire tr visit",
          "strong together",
          "family captive soldier police mi member repeatedly apply hd parliament political party human right",
          "people institution shengal resist end kazim insists imposition sends power shengal",
          "memory spoke rally ganja russian kill azerbaijani youth bakude told sermon embassy moscow",
          "german bos work nearly year still call turkish consulate job",
          "yes tire repeat thousand time maybe give flavor heavy small child memory huh",
          "society start disassemble immediate leave powerful individual alone amin maalouf",
          "tree grows root man grows tongue language unknown happy mother day february",
          "horrible creature make transition human world ape world",
          "f altun soylu minister brutal attack social medium anything",
          "p get vote cut uk aid spending say boris johnson johnson",
          "journalist first give name korkmaz afraid happens shooter stop erdogan shook balance",
          "make bread roast aubergine pepper white cheese tea also roast pepper paste okay",
          "follow account follow back canpazar samsun ci k",
          "lord integrate immigrant brother sister protect value learn language job profession",
          "today year ago koban liberate koban begin end isi",
          "three month time always veil otherworldly color fg len",
          "start support please victory bless mother",
          "use month",
          "google monitor even sleep",
          "arabic press agreement russia turkish state violate second year",
          "damn damn damn",
          "whatever happens let afraid goal mind bet fear solidarity",
          "pkk pajk prisoner struggle continue leader free",
          "follow person twitter allow say follow increase allow h seyin ga",
          "asagi bakmayacagiz remember immortal",
          "real terrorist dhkp c member pkk member live none would open mouth would afraid long hurt",
          "matter never badheaded fascism trustee system",
          "nelly make money bus challenge tik tok",
          "trakya university dean faculty theology secretary general university prof dr cevdet k l graduate bo azi university",
          "joke turkey oligarchic elite poor people child class see upwards education",
          "occasion st april akitu new year extend best wish chaldean syriac assyrian people co",
          "animal magnetism",
          "longer expect academic professional amp middle class kurd amp turk share real authentic news stri",
          "hpg chemical use siyan prison camp",
          "borrow word continue conversation inspire layan",
          "implementation exile punishment ottoman empire also sell le underweight bread alcoholic beverage",
          "truth truth freedom people right democratic revolution calan kirmizi line",
          "pkk leader abdullah calan despite lock prison island marmara sea lead democratic revolution",
          "dot great",
          "demo today many small town many arrest samsun also report arrest bursa see",
          null
         ],
         "marker": {
          "color": "#CFD8DC",
          "opacity": 0.5,
          "size": 5
         },
         "mode": "markers+text",
         "name": "other",
         "showlegend": false,
         "type": "scattergl",
         "x": [
          9.068188667297363,
          8.313591003417969,
          6.587555408477783,
          6.2275567054748535,
          5.471181392669678,
          6.157885551452637,
          7.179535865783691,
          9.237601280212402,
          6.4479594230651855,
          7.209100723266602,
          8.389297485351562,
          10.190657615661621,
          9.31523609161377,
          9.572568893432617,
          8.6297025680542,
          9.422755241394043,
          8.7044677734375,
          7.892772197723389,
          5.478354454040527,
          8.521954536437988,
          7.927080154418945,
          7.632728099822998,
          8.749043464660645,
          7.081132411956787,
          5.96258020401001,
          9.298867225646973,
          9.638169288635254,
          8.672346115112305,
          6.974082946777344,
          6.724892616271973,
          8.388531684875488,
          7.6040544509887695,
          9.007503509521484,
          10.083337783813477,
          7.245429039001465,
          6.334492206573486,
          6.179372787475586,
          7.559771537780762,
          6.942774772644043,
          7.08759880065918,
          5.871393203735352,
          5.710984706878662,
          8.270150184631348,
          7.412151336669922,
          7.024794101715088,
          5.477988243103027,
          6.6458306312561035,
          8.394536018371582,
          9.464890480041504,
          8.693336486816406,
          8.3693265914917,
          8.574955940246582,
          8.805642127990723,
          6.233792781829834,
          6.8360419273376465,
          10.31397819519043,
          6.985634803771973,
          6.874190330505371,
          6.903527736663818,
          7.242859363555908,
          6.2292799949646,
          6.947114944458008,
          10.153703689575195,
          6.841254711151123,
          5.93966817855835,
          7.095426559448242,
          8.452811241149902,
          8.701093673706055,
          6.990288257598877,
          8.725545883178711,
          5.412858009338379,
          7.569608688354492,
          8.441157341003418,
          8.847301483154297,
          7.885306358337402,
          7.403116226196289,
          10.15277099609375,
          5.462352275848389,
          6.264206886291504,
          8.362324714660645,
          5.922543525695801,
          10.45062255859375,
          10.269906044006348,
          6.002258777618408,
          6.7685627937316895,
          9.159258842468262,
          8.5208158493042,
          8.7653226852417,
          9.827834129333496,
          6.855434417724609,
          8.291136741638184,
          5.287954330444336,
          6.9098687171936035,
          7.323407173156738,
          10.293599128723145,
          10.12559986114502,
          6.72724723815918,
          6.95426082611084,
          6.096004962921143,
          8.736509323120117,
          5.477554798126221,
          6.306625843048096,
          5.47107458114624,
          6.829721927642822,
          10.382452964782715,
          6.47273588180542,
          6.593595027923584,
          8.736573219299316,
          6.989858150482178,
          6.980360984802246,
          8.751853942871094,
          7.980250835418701,
          8.683259010314941,
          5.612882614135742,
          9.243661880493164,
          5.444684028625488,
          6.560130596160889,
          9.127717971801758,
          8.893665313720703,
          6.620002269744873,
          9.382575988769531,
          8.18945026397705,
          8.78310775756836,
          5.888086795806885,
          8.56255054473877,
          7.698777675628662
         ],
         "y": [
          -1.97098970413208,
          -2.1897246837615967,
          -1.52114999294281,
          -2.188624382019043,
          -2.8472280502319336,
          -2.281632661819458,
          -2.3984322547912598,
          -2.0026283264160156,
          -1.0820432901382446,
          -2.6984188556671143,
          -2.7329132556915283,
          -4.232271194458008,
          -3.3591978549957275,
          -3.253753900527954,
          -0.827634334564209,
          -2.563117504119873,
          -4.415858745574951,
          -0.4804410934448242,
          -0.4237864315509796,
          -3.994941473007202,
          -2.9037046432495117,
          -2.408849000930786,
          -2.885519027709961,
          -2.226808786392212,
          -1.9494832754135132,
          -2.6269705295562744,
          -2.736529588699341,
          -2.2031521797180176,
          -2.4321517944335938,
          -1.9045709371566772,
          -2.2539548873901367,
          -1.5197337865829468,
          -3.3191022872924805,
          -3.4718449115753174,
          -2.527780532836914,
          -2.462528944015503,
          -2.160032033920288,
          -1.050726056098938,
          -1.5545798540115356,
          -1.4444046020507812,
          -2.550598621368408,
          -1.4562100172042847,
          -3.322275400161743,
          -0.7411834597587585,
          -1.5097652673721313,
          -0.413606733083725,
          -1.6097002029418945,
          -3.1523828506469727,
          -2.393515110015869,
          -2.1436257362365723,
          -3.3556969165802,
          -3.9243054389953613,
          -2.5371038913726807,
          -2.167977809906006,
          -1.5124118328094482,
          -3.2460036277770996,
          -1.9910651445388794,
          -1.6422520875930786,
          -2.7105565071105957,
          -1.467321753501892,
          -2.2812352180480957,
          -2.7457146644592285,
          -2.6921916007995605,
          -2.708481788635254,
          -2.3814663887023926,
          -3.056497573852539,
          -4.256688117980957,
          -3.179887533187866,
          -1.4780412912368774,
          -2.3756210803985596,
          -2.226552724838257,
          -2.4471447467803955,
          -1.388419508934021,
          -1.5955185890197754,
          -0.3465709686279297,
          -2.1609878540039062,
          -3.5193581581115723,
          -0.4163718521595001,
          -2.2276926040649414,
          -3.182187557220459,
          -2.468811511993408,
          -2.6578567028045654,
          -3.283721446990967,
          -2.463927984237671,
          -2.7681994438171387,
          -2.0899243354797363,
          -3.400738477706909,
          -3.7886548042297363,
          -2.379405975341797,
          -1.5615594387054443,
          -3.2431039810180664,
          -1.6213068962097168,
          -2.3389854431152344,
          -1.6173771619796753,
          -4.215567111968994,
          -3.5709598064422607,
          -1.956791639328003,
          -1.5319247245788574,
          -2.306382894515991,
          -4.4455156326293945,
          -0.4107629656791687,
          -3.096402406692505,
          -0.41038477420806885,
          -1.5752884149551392,
          -3.4072329998016357,
          -1.1021473407745361,
          -3.0724570751190186,
          -2.493821144104004,
          -1.5028597116470337,
          -1.094986081123352,
          -2.888456106185913,
          -2.8537235260009766,
          -1.4976540803909302,
          -2.1417455673217773,
          -3.9050629138946533,
          -2.2687692642211914,
          -2.1506881713867188,
          -3.7758820056915283,
          -0.6349859833717346,
          -1.5235743522644043,
          -2.6140992641448975,
          -3.441066265106201,
          -2.4514172077178955,
          -1.2692054510116577,
          -2.226043939590454,
          -2.3323261737823486
         ]
        },
        {
         "hoverinfo": "text",
         "hovertext": [
          "last time tuesday office across ankara maltepe mosque fnf plate mazd",
          "clash bombardment continue isa",
          "erdogan chemistry deteriorates opposition asks money treasury",
          "wonder face annul istanbul convention red note crime amnesty twice july",
          "president erdo unveiled economic reform package aim boost investment production job export htt",
          "may size groom fall head fix money coin treasury nation central bank",
          "bazaar sunday fire real food inflation",
          "turkish occupation built another military base near road west ayn isa district",
          "venezuelan economy shatter maduro become president three quarter national income disappear country e",
          "kobane",
          "another kurdish journalist detain morning raid free mehmet aslan twitterstorm hashtag mehmet aslan gazetecidir htt",
          "protest force capitalist modernity try reshape middle east kurdistan accord interest",
          "someone work intensively raise awareness one aspect many atrocity take place turkish oc",
          "like meddling business well write please call ht",
          "thousand child sexually abuse last year turkey",
          "erdogan explain mentality tell bilal",
          "turkish state gang related want get closer village mihelq belonging eyn isa road ypj q",
          "commend bravery sacrifice iraqi security force iraqi kurdish peshmerga syrian democrati",
          "msd call arab state stand turkish state",
          "far deforestation visible furqat al hamza training montage film km west afrin city near gund mez",
          "afrin leader syrian opposition steal people tiraqtura",
          "western people liberation organization reveal war crime turkish state army afrin",
          "call take action turkish fascist state launch new invasion gare occupy southern kurdistan ta",
          "many cent bank turkey turkey control turkish",
          "announcement share product workshop ruble kurdish hope help",
          "le kilometer away kobane isi fighter find safe refuge among rank syrian national army pr",
          "kobani victory put life price",
          "city council member ekrem yal n hdp arrest northern kurdish city n",
          "estado espa ol message solidarity hdp continue arrive face threat outlaw turkey htt",
          "nato eu usa ten thousand people gather city diyarbak r southeast turkey sunday celebrate",
          "dear youth give devote brave great martyr people kurdistan dear young people youth",
          "anf twitter account block turkey follower turkey northern kurdistan",
          "security camera footage place russia hit yesterday",
          "pkk hand kurdish blood",
          "explain reform package result change change result",
          "sohr anniversary turkish control region nowruz approach turkish intelligence order proxy faction",
          "another kidnapping case news former prime ministry rapporteur day",
          "member isi cell responsible assassination kidnapping plant ie propaganda arrest raqqa ci",
          "islamic state isi conquer syria iraq muslim brotherhood overthrown egypt tu",
          "kurdish association member criminalize ever france victim sneaky repression carry",
          "aldar khalil state necessary change constitution syria order ensure right syrian h",
          "groove double name newly publish book december july axis community center turkey agenda ho",
          "good start try understand hizmet gulen people forget ignore value base community",
          "goal unite kurdish part build independent kurdistan mustefa berzan",
          "civil market closing erdo halkbank ziraat two big headache collapse favorite businessmen feb",
          "turkey kurdish school million kurd live open plenty turkish school turk exists pkk",
          "rather stop watch injustice turkey",
          "first bomb year come house k kl video turkey trend place queue thank interest",
          "russia millstone tc damascus work",
          "sdf commander signal visit biden team washington commander kurdish lead syrian democratic force sdf",
          "huge crowd newroz square diyarbakir million people gather today north kurdis",
          "oil depot turkish gang jarablus shot reconnaissance plane unknown nationality",
          "contract make least two party international ankara agreement announce prepared turkey",
          "stone market jarablus bab target missile damascus government force russian force fire missile market",
          "stop genocide yazidis crush islamic state syria stand democracy socialis",
          "etimesgut terror branch call testify let see",
          "kurdish youth stuttgart germany held demonstration abdullah calan demand kurdish hero abdullah",
          "fact akp brother porsche bmw take powder sugar instead cocaine show magnitude economic crisis",
          "hpg hot clash siyan area still continue conflict developed initiative force field many",
          "akp mean kurdish massacre akp mean fascism unemployment humanity democracy everything else name human right",
          "video excerpt newroz celebration raqqa",
          "kurdish cultural movement tev publish new clip sixty",
          "make rabia symbol erdogan return brotherhood turkey make peace sisi ga",
          "look istanbul airport attack isi chose international airport tourist rather domest",
          "important letter eu state usa administration ask delist pkk black list",
          "turkey first space experience gare bimre xiyaneta pdk",
          "get believe bare search turkey thing already look subject interior",
          "throughout humanitarian security operation sdf asayish ensure vital service continue al ho",
          "kck call mobilisation kurdish people friend protest genocidal attack agains",
          "sancar international community recognize atrocity halabja genocide sancar say international community must recognize halabja",
          "head koye gar occupy turkish army severely damage newroz festival stop",
          "belief committee engal tribal leader work resist zid invasion attack invade turkish state",
          "karayilan place kurd th century",
          "satisfied crisis supporter billion dollar tender",
          "turkey vigil justice launch hdp mer faruk gergerlio lu strip e",
          "decrease euphrates water put tishrin dam danger",
          "bimre xiyaneta pdk process developrime ministerents continue like maybe operation turkish republic extremely effective kdp",
          "turkey brutal jihadist mercenary abduct young disabled woman afrin crime could possibly commit",
          "two month preparation artist collective northern kurdistan finish song pkk accompany video",
          "sand cover snow winter storm saudi arabia create stun display tabuk region h",
          "accord local source elderly civilian name mihemed mihemed mustefa abduct turkish back jihadist",
          "kemal kurkut",
          "artist friend one important performer kurdish music treat corona virus health status",
          "hewl airport close missile attack erbil province capital south kurdistan close airport",
          "free kurdish activist",
          "central bank interest rate caliph ummah",
          "paris stand afrinparis saturday march kurd friend demonstrate paris turkish invasion",
          "big crisis suez canal giant ship close canal traffic jammed",
          "year ago today kurdish civilian trap three basement burn alive death inhuman barbaric",
          "always heard rothschild family rockefeller family amp subject behind action",
          "context gross appal violation human right russia canadian department international affair decide yesterday wednesday impose",
          "happen say erdogan attack prisoner gare say would happen akp attac",
          "go include part state department arm train jihadist group terrorize w",
          "another important reason appoint trustee bo azi university collapse land view bosphorus turn income",
          "former tsk commando turkish army want kill capture soldier",
          "turkey wife defend abusive husband face life prison turkey",
          "stop attack engal bangawazi iraqi prime minister mustafa kazimi turkish state kdp sign order liquidate shengal h",
          "last minute military land siyane want land bergare area tc gare hit",
          "believe organize july coup attempt country erdogan",
          "kdp hand kurdish politician turkish state blindfold blindfold alternative link",
          "kurd come kemalists come rest let make turkey livable da",
          "million stand kurdistan soylu",
          "expect nothing still disappointed kdp continuously collaborate turkish invader gt",
          "aim turkish republic save captive soldier could silently diplomacy pretentious air attack gare",
          "funny yaw man head turkish army reading paper perhaps know much write",
          "turkey purge hdp kurd interview outspoken human right defender omer faruk gergerlioglu sentence",
          "ask peshmerge becomes kurdistan peshmerge turk",
          "life young man shot turkish soldier van danger ali nameto shot turkish soldier van",
          "security force participate humanity security campaign end operation within first sector concerned iraqi refugee",
          "urgent continuation humanitarian security operation internal security force conduct inspection search operation",
          "amal hussein omar kidnap hamza division group know target woman august",
          "internal security force caught isi gang part clean operation launch internal security force hesek",
          "occupy turkish army ban newroz fire south kurdistan",
          "yezidi people shengal reach express concern situation yezidi mp human",
          "clear eu make deal turkey stop expansionist policy eastern mediterranean amp libya amp",
          "nothing surprise anymore turkey withdrawn call istanbul convention ban violence woman",
          "high level contact riyadh doha minister foreign affair qatar saudi representative met doha",
          "another dark day democracy turkey strong human right defender member pro kurdish hdp gergerlio",
          "msd arab state take action policy turkish state",
          "deutschlandfunk one important radio german state interviewed victim witch hunt turkey",
          "devshirme turkism dev sol devshirme turk devyol revolution",
          "something like get much attention turkey make another attempt tonight",
          "opinion e memorandum operation polish erdo make one man erdogan open alliance status quo",
          "jaish al islam amp image violent internal conflict brigade",
          "turkish society really interest mafia bos reveal empty treasure paid everyone",
          "erdogan acolyte detach significant part society reality follow audience medium hypnosis",
          "also involve smuggle isi leader whose faction ahrar al sharqiya part abu hatem move freely btw tur",
          "march kobane father brother deport turkey police attack workplace",
          "turkey ready move case russian withdrawal manoeuvre happen context recent tension",
          "kurd take statement seriously share want break strong stance kurdish people invader",
          "kurd demand justice year murder kurdish activist paris paris le j",
          "letter sent american congressman u secretary state antony blinken explain dictatorship turkey",
          "hocaefendi message broadcast greek tv oppress victim take refuge without discriminate anyone",
          "turkey hdp back president erdogan sight turkey bakur defeat",
          null
         ],
         "marker": {
          "opacity": 0.5,
          "size": 5
         },
         "mode": "markers+text",
         "name": "0_turkey_turkish_kurdish",
         "text": [
          "",
          "",
          "",
          "",
          "",
          "",
          "",
          "",
          "",
          "",
          "",
          "",
          "",
          "",
          "",
          "",
          "",
          "",
          "",
          "",
          "",
          "",
          "",
          "",
          "",
          "",
          "",
          "",
          "",
          "",
          "",
          "",
          "",
          "",
          "",
          "",
          "",
          "",
          "",
          "",
          "",
          "",
          "",
          "",
          "",
          "",
          "",
          "",
          "",
          "",
          "",
          "",
          "",
          "",
          "",
          "",
          "",
          "",
          "",
          "",
          "",
          "",
          "",
          "",
          "",
          "",
          "",
          "",
          "",
          "",
          "",
          "",
          "",
          "",
          "",
          "",
          "",
          "",
          "",
          "",
          "",
          "",
          "",
          "",
          "",
          "",
          "",
          "",
          "",
          "",
          "",
          "",
          "",
          "",
          "",
          "",
          "",
          "",
          "",
          "",
          "",
          "",
          "",
          "",
          "",
          "",
          "",
          "",
          "",
          "",
          "",
          "",
          "",
          "",
          "",
          "",
          "",
          "",
          "",
          "",
          "",
          "",
          "",
          "",
          "",
          "",
          "",
          "",
          "",
          "",
          "",
          "",
          "",
          "",
          "0_turkey_turkish_kurdish"
         ],
         "textfont": {
          "size": 12
         },
         "type": "scattergl",
         "x": [
          10.206076622009277,
          11.404022216796875,
          10.048688888549805,
          10.085225105285645,
          9.780405044555664,
          10.030193328857422,
          9.654921531677246,
          10.897092819213867,
          9.634974479675293,
          8.937638282775879,
          9.635917663574219,
          9.610854148864746,
          10.460898399353027,
          10.083135604858398,
          10.294723510742188,
          10.038561820983887,
          10.641777992248535,
          11.011395454406738,
          10.606578826904297,
          11.012482643127441,
          10.943304061889648,
          10.560649871826172,
          9.969218254089355,
          10.293304443359375,
          9.159008979797363,
          11.253793716430664,
          8.854046821594238,
          9.589507102966309,
          9.626104354858398,
          9.556177139282227,
          8.795818328857422,
          10.004923820495605,
          10.74259090423584,
          9.544830322265625,
          9.696282386779785,
          10.579405784606934,
          10.706497192382812,
          10.8103609085083,
          10.469555854797363,
          9.657109260559082,
          10.636893272399902,
          9.44808578491211,
          10.087647438049316,
          9.356229782104492,
          9.906704902648926,
          9.406758308410645,
          9.597082138061523,
          9.715840339660645,
          10.937137603759766,
          11.048511505126953,
          9.427474975585938,
          10.748549461364746,
          10.218451499938965,
          10.99059009552002,
          10.616144180297852,
          10.641106605529785,
          9.44657039642334,
          9.560979843139648,
          11.406397819519043,
          9.400097846984863,
          8.925704002380371,
          9.022862434387207,
          10.39210319519043,
          10.744747161865234,
          10.410178184509277,
          9.558819770812988,
          9.811959266662598,
          11.311474800109863,
          9.716835021972656,
          10.453124046325684,
          10.037066459655762,
          10.357637405395508,
          9.136470794677734,
          9.732486724853516,
          9.560924530029297,
          10.979204177856445,
          9.693870544433594,
          10.498008728027344,
          8.987796783447266,
          10.990127563476562,
          10.588446617126465,
          9.20468807220459,
          8.974713325500488,
          10.85529613494873,
          9.400785446166992,
          9.991002082824707,
          9.790840148925781,
          10.856613159179688,
          9.429095268249512,
          10.17066478729248,
          10.327531814575195,
          9.987244606018066,
          10.980958938598633,
          9.853291511535645,
          10.712093353271484,
          9.930646896362305,
          10.24411392211914,
          11.035683631896973,
          9.975078582763672,
          9.562801361083984,
          9.574756622314453,
          9.063352584838867,
          9.791975975036621,
          10.567623138427734,
          10.502352714538574,
          9.925943374633789,
          9.269903182983398,
          10.673924446105957,
          11.243303298950195,
          11.346540451049805,
          10.752544403076172,
          11.338717460632324,
          9.975301742553711,
          10.581503868103027,
          10.429179191589355,
          10.065413475036621,
          10.775786399841309,
          9.52136516571045,
          10.559173583984375,
          10.150544166564941,
          9.19937801361084,
          9.694371223449707,
          10.237595558166504,
          11.029855728149414,
          10.393070220947266,
          10.007661819458008,
          11.043374061584473,
          9.971782684326172,
          9.897453308105469,
          9.795309066772461,
          9.496773719787598,
          10.418989181518555,
          10.022029876708984,
          9.833999633789062,
          10.125590324401855
         ],
         "y": [
          -2.6453065872192383,
          -3.8115005493164062,
          -3.811112880706787,
          -2.9366583824157715,
          -3.749831438064575,
          -2.342000961303711,
          -2.6056225299835205,
          -2.888401985168457,
          -2.834057092666626,
          -4.313336372375488,
          -4.61154317855835,
          -4.496854782104492,
          -3.016136407852173,
          -2.204669237136841,
          -2.874919891357422,
          -3.7523295879364014,
          -2.7305078506469727,
          -4.1179094314575195,
          -4.191014766693115,
          -2.9853429794311523,
          -3.3465237617492676,
          -3.0083274841308594,
          -4.419402599334717,
          -2.441676378250122,
          -4.067913055419922,
          -3.9389488697052,
          -4.322985649108887,
          -4.701609134674072,
          -3.3675708770751953,
          -4.050934791564941,
          -4.489650249481201,
          -4.499863624572754,
          -3.035579204559326,
          -4.408314228057861,
          -3.673945903778076,
          -3.504861831665039,
          -2.5539588928222656,
          -2.63761043548584,
          -4.289103984832764,
          -4.7306389808654785,
          -4.1979475021362305,
          -3.741802453994751,
          -3.698951482772827,
          -4.594961643218994,
          -2.6077308654785156,
          -4.131222724914551,
          -3.106961965560913,
          -3.3621487617492676,
          -3.2290704250335693,
          -4.081414222717285,
          -4.323733329772949,
          -3.0871102809906006,
          -3.739668130874634,
          -3.1728334426879883,
          -4.2385687828063965,
          -3.395284414291382,
          -4.731296539306641,
          -2.7696683406829834,
          -3.785980701446533,
          -3.8088865280151367,
          -4.725393772125244,
          -4.717551231384277,
          -4.259800910949707,
          -2.9398539066314697,
          -3.9601407051086426,
          -3.6216962337493896,
          -3.202955961227417,
          -3.9127142429351807,
          -4.549793720245361,
          -2.92832088470459,
          -4.407987594604492,
          -4.232931613922119,
          -4.3279314041137695,
          -2.399256467819214,
          -3.1997439861297607,
          -3.1799256801605225,
          -3.7554049491882324,
          -2.824902057647705,
          -4.69521951675415,
          -3.0912623405456543,
          -2.7394518852233887,
          -4.251101970672607,
          -4.700290679931641,
          -3.033172369003296,
          -4.664728164672852,
          -2.313817262649536,
          -4.597929954528809,
          -3.25260329246521,
          -4.574450969696045,
          -2.348543643951416,
          -2.9923367500305176,
          -3.805410623550415,
          -3.592970848083496,
          -2.0839273929595947,
          -3.2950022220611572,
          -3.1244425773620605,
          -4.034097671508789,
          -3.0728695392608643,
          -3.8803553581237793,
          -4.378208637237549,
          -4.186813831329346,
          -4.2249298095703125,
          -3.882331132888794,
          -3.5528411865234375,
          -3.549186944961548,
          -3.226926565170288,
          -4.112392902374268,
          -3.1806626319885254,
          -3.959575653076172,
          -3.8456413745880127,
          -2.5742411613464355,
          -3.784196615219116,
          -4.486184597015381,
          -4.278222560882568,
          -4.242269992828369,
          -3.049975872039795,
          -4.089097499847412,
          -3.839121103286743,
          -4.16393518447876,
          -2.9180262088775635,
          -3.851738214492798,
          -3.5006473064422607,
          -4.136742115020752,
          -3.7813403606414795,
          -2.492293357849121,
          -3.732602119445801,
          -3.527177333831787,
          -3.0925323963165283,
          -3.767857789993286,
          -4.458747863769531,
          -4.7864556312561035,
          -4.051973819732666,
          -2.939971923828125,
          -3.6726603507995605,
          -3.6479218006134033
         ]
        },
        {
         "hoverinfo": "text",
         "hovertext": [
          "anliurfa sister suddenly left without mother pandemic period hatice b give birth child time",
          "together mother demand justice mother take custody question murderer state hospital",
          "defense individual service indicates participation crime statute limitation term law",
          "stop attack engal",
          "want see death prison raise social reaction",
          "zlem zengin say exist naked search prison come parliamentary report",
          "dissent erbil court decision continue click",
          "b fly denver honolulu engine fire via usa",
          "kid sick need mother many innocent people like persecution news channel",
          "detain attack u thousand student today attack enemy look",
          "painful exemplary person curse lament one meri",
          "decision like powder sugar court",
          "warn ttb application acceptable asagi bakmayacagiz ttb",
          "could would burn world would wash world single tear eye fatma aslan hafsaya kavu su",
          "mother martyr viyan soran sulaymaniyah sacrifice year ago tell u daughter",
          "ward die keeler constantly make suffer use son right try clear name h",
          "judge prosecutor must mass cocaine party verdict",
          "time young dear friend burn still young sometimes",
          "veli yildizo involve accident pilemuriye dersim shot claim member organization",
          "either young girl may murder whatever go take life cover accident",
          "teacher halil im ek walk hereafter brother exact namesake also pas away since last name",
          "sir series far follow article everyone responsible office end",
          "brother lie balikesir burhaniye year release play supreme court although sentence due today",
          "saray party juvenile partner state medium cope deputy try silence imprison",
          "let let another child die plain sight",
          "nursena k k zyi father disappear december wait day say would come u december",
          "boy name hakan leukemia condition deteriorate parent prison bogus reason",
          "hpg make write statement regard attack gare",
          "end torture hate custody",
          "become death house prison life end prison",
          "far many reader ask wife pray receive complaint man sent email recently",
          "attack defense continue judge interrogate accompany arm police lawyer take hall police present",
          "painful sad story mohamad aziz halabjayi living reminder devastate effect mustard",
          "miss eleftheria thank friend trouble",
          "january mark sixteenth anniversary death oury jalloh dessau police cell independent appraisal l",
          "saturday mother th week protest torture murder take custody 2012",
          "nice useful article veysel ayhan wear service course afraid people",
          "mustafa kabak lu kept solitary cell daily quarantine process desperation speak anyone",
          "co chairman kck executive council cemil bayik evaluate detail step dem dema azadi say prisoner help",
          "one beating ex wife death samsun vile creature rap kill woman age manisa",
          "end surprising law friend",
          "child small year old left motherless fatherless age little body defenseless",
          "today watch movie netflix police wait woman give birth door woman give birth woman baby",
          "mother long son son mother many pain experience unable even describe",
          "fikret kaplan bediuzzaman last journey",
          "small fix place ship sank would ile silivri must result reside silivri year",
          "lazaro baez case overflow political interference",
          "first hearing case brought person saturday mother held",
          "lord bless friday night beg help innocent wrongfully imprison especially sick old",
          "fatma ift khk mother child fatma teacher receive treatment advanced breast cancer due oxygen",
          "dear friend woman prison start platform upon request receive",
          "dear silent atrocity listen cry baby lose life meri age",
          "remembrance idea bogazici direniyor",
          "world famous hacker group continue ask erdo real upset u human murat din",
          "think afraid pity child kill one day set fire name nurefsan",
          "one person wrong without look identity person gergerlio lu people deputy",
          "time selahattin demirta free leave",
          "selahattin sentence year month prison today word",
          "leave grieve mother martyr child alone even son grave use political interest",
          "fi kret kaplan let master take initiative",
          "miktad must release treatment sick detainee must access treatment right scream cell miktad dogan",
          "let introduce suat faik friend fire court decide reemploy american company destroyed",
          "good news even ertu rul kuzan kand ra prison go see daughter intensive care brain cancer",
          "risale nur lesson fruit treatise write excellency master bediuzzaman denizli prison issue",
          "mathematics teacher detain hour give birth son mehmet ekrem later release",
          "commentary court decision assassination case andrey karlov",
          "want innocent old people live difficult condition pain suffer die prison corner",
          "ignorant black eyed tear deaf blind good night",
          "structure unjust baseless attack outside",
          "two day ago saw ex colleague work together office year pas without say hello",
          "howitzer fire wedding hall hodeida woman die alternative link",
          "mr ekrem make self criticism first service mr ekrem let face",
          "evacuation coffin",
          "okay guy bud caught powder sugar completely ridiculous say let save day forget",
          "zg r g ndem main trial four person sentence prison ebnem korur fincanc fin tl newspaper arrest van",
          "person include terrorist calan life declare bo azi university student terrorist",
          null
         ],
         "marker": {
          "opacity": 0.5,
          "size": 5
         },
         "mode": "markers+text",
         "name": "1_mother_prison_son",
         "text": [
          "",
          "",
          "",
          "",
          "",
          "",
          "",
          "",
          "",
          "",
          "",
          "",
          "",
          "",
          "",
          "",
          "",
          "",
          "",
          "",
          "",
          "",
          "",
          "",
          "",
          "",
          "",
          "",
          "",
          "",
          "",
          "",
          "",
          "",
          "",
          "",
          "",
          "",
          "",
          "",
          "",
          "",
          "",
          "",
          "",
          "",
          "",
          "",
          "",
          "",
          "",
          "",
          "",
          "",
          "",
          "",
          "",
          "",
          "",
          "",
          "",
          "",
          "",
          "",
          "",
          "",
          "",
          "",
          "",
          "",
          "",
          "",
          "",
          "",
          "",
          "",
          "1_mother_prison_son"
         ],
         "textfont": {
          "size": 12
         },
         "type": "scattergl",
         "x": [
          7.77817964553833,
          7.968538761138916,
          8.956503868103027,
          9.27606201171875,
          8.714014053344727,
          9.517797470092773,
          10.017509460449219,
          8.807783126831055,
          7.8598456382751465,
          9.392828941345215,
          6.502710342407227,
          9.937191009521484,
          9.029399871826172,
          7.197274208068848,
          7.767430305480957,
          7.505902290344238,
          9.857453346252441,
          6.98596715927124,
          8.619281768798828,
          8.157014846801758,
          7.66231632232666,
          8.658866882324219,
          8.957613945007324,
          8.707866668701172,
          7.834869384765625,
          7.492879867553711,
          8.569761276245117,
          9.175503730773926,
          8.67073917388916,
          8.716434478759766,
          7.347041130065918,
          9.059415817260742,
          7.990316867828369,
          6.704768657684326,
          8.433720588684082,
          8.148441314697266,
          8.763392448425293,
          8.697503089904785,
          8.754769325256348,
          7.221372127532959,
          8.887101173400879,
          7.824059963226318,
          7.890324592590332,
          7.725222110748291,
          8.650084495544434,
          8.440945625305176,
          10.073643684387207,
          8.115663528442383,
          8.646777153015137,
          8.388836860656738,
          8.783489227294922,
          6.5241875648498535,
          8.270654678344727,
          7.131136417388916,
          7.3315582275390625,
          7.591624736785889,
          8.970159530639648,
          8.9705171585083,
          7.823614597320557,
          8.710838317871094,
          8.66759204864502,
          8.82697868347168,
          8.494603157043457,
          8.790207862854004,
          7.974904537200928,
          10.048195838928223,
          8.715714454650879,
          6.30180025100708,
          9.141799926757812,
          7.669571876525879,
          8.376188278198242,
          8.720870971679688,
          8.365411758422852,
          9.898096084594727,
          8.938299179077148,
          9.456056594848633,
          8.40201473236084
         ],
         "y": [
          -0.3257387578487396,
          -0.14216797053813934,
          -0.7572529315948486,
          -1.110351324081421,
          -0.28671225905418396,
          -1.9426040649414062,
          -1.4774376153945923,
          -1.0838974714279175,
          -0.21649202704429626,
          -1.424745798110962,
          -3.585801601409912,
          -1.2559818029403687,
          -1.5261591672897339,
          -0.8610648512840271,
          -0.40338754653930664,
          -0.6518325209617615,
          -1.1997179985046387,
          -0.9102693796157837,
          -1.1376124620437622,
          -0.3300754725933075,
          -0.8956380486488342,
          -1.6932317018508911,
          -0.8982591032981873,
          -0.6121155023574829,
          -0.25109294056892395,
          -0.6303582787513733,
          -0.49982786178588867,
          -0.930073618888855,
          -0.24330288171768188,
          -0.2876245379447937,
          -1.1024142503738403,
          -0.9180943965911865,
          -1.3638572692871094,
          -3.6862711906433105,
          -1.290003776550293,
          -0.16893064975738525,
          -1.6643623113632202,
          -0.8475263714790344,
          -1.4839787483215332,
          -0.7837832570075989,
          -0.7297255992889404,
          -0.2610017955303192,
          -0.2852782905101776,
          -0.33504587411880493,
          -1.3602509498596191,
          -1.1710244417190552,
          -1.4431917667388916,
          -0.182284876704216,
          -0.36315780878067017,
          -0.5048166513442993,
          -0.5023135542869568,
          -3.4265341758728027,
          -1.2787017822265625,
          -1.2230125665664673,
          -0.5682545304298401,
          -1.02898371219635,
          -0.8089349269866943,
          -0.8611717820167542,
          -0.2425910085439682,
          -1.5433083772659302,
          -0.5276896953582764,
          -0.9889918565750122,
          -0.4941611588001251,
          -1.0900033712387085,
          -0.7021620869636536,
          -1.4805690050125122,
          -0.3177177608013153,
          -3.3202590942382812,
          -0.9028458595275879,
          -0.9781510233879089,
          -1.2078216075897217,
          -1.5890960693359375,
          -1.174429178237915,
          -1.2192811965942383,
          -1.25851571559906,
          -1.5351996421813965,
          -1.0235071182250977
         ]
        },
        {
         "hoverinfo": "text",
         "hovertext": [
          "day day start hate country nothing bind country iota goodness conscience moral",
          "allow pray wear clothes happen moment",
          "go moon gunpowder run grows lie bread break moon eat home mask distance end hygiene",
          "brother ismail sent brother eternal realm month ago yesterday brother lord bless forever paradise",
          "say year hour people crack allah c c may oppressor punish nice friday",
          "yezid work year kept headscarf religious discourse mouth gergerlio lu washroom morning prayer",
          "lord test country beautiful people nation help",
          "morale peace happiness joy effective medicine cancer treatment hakan sick release parent",
          "allah take oppress hand oppressor amen take dirty bloody hand oppressor oppress",
          "great article one right tarnish work people one right cast doubt people mind",
          "may god give wisdom",
          "fracture test berat night",
          "may lord grant heal sake name hope teacher",
          "call fascist persecute people cover terror herkes mi ter rist",
          "spirit sincerity action",
          "congratulate friend soul oppress warmth nowruz fire",
          "islam even humanity pas",
          "teacher halil im ek devote life service faith koran walk horizon soul lord mercy forgiveness majesty",
          "masha allah",
          "william david crew equal god born everyone equal right include mr calanda",
          "dear year defend right everyone wrong without discrimination defend human right",
          "great conversation good friend human right justice thank friendship amp",
          "one thing pleased help allah imminent victory give good news believer saff",
          "true student wisdom koran abd however deign worship great creature",
          "spring come awaken sheep",
          "fascist monist mentality target oppress people year however persecution also support resistance",
          "mathematics overcome fear mathematics solution get rid anxiety turn life torment",
          "enjoy cup coffee community genocide commit pas speech top say pure bullshit",
          "oppression always omar shout truth truth gergerlioglu susmaz",
          "father representative people touch injustice injustice happen u",
          "congratulate friend three month free disease trouble calamity obey health health well",
          "forgive afraid swallow chase money think nation freedom think nation freedom put colonialist",
          "amin inshallah aminnn",
          "hope live pain shame institute die living shame amin academic decree law",
          "wisdom purpose send man world know h l k kainat believe worship bsn",
          "hey like muslim equilvalent love food joking sometimes together would love break",
          "worship perform sincerely sincerely time observe pillar",
          "difficult goal person reach standard intention face qu allah regard",
          "equal brother ummah always indicator",
          "ask honor honor dignity honor honor dignity believe ashamed oh politics",
          "uploaded valentine day everyday sun love poetry story immortal water zz",
          "hope hope heart longing good day good news",
          "sense hypocrisy thought believer fethullah g len hocaefendi",
          "k e r u side persecution hodja afraid quietb osm",
          "defender truth right fight violation right suffer segment society",
          "eat drink give alms dress arrogant waste undoubtedly blessing allah c c",
          "today fruitful day spring come cleaning begin",
          "fit islam site question word pity dilute use bylock real evidence crime",
          "god bless may god turn plan god forbid oppressor",
          "way abduct people allah unbeliever harmful islam mfg",
          "great responsibility deal wrong perception wish psychological run",
          "truly love creator look every human sincerely heartbroken accept people communist",
          "provision superior taqwa virtue well silence enemy harmful ignorance great lie",
          "follow advice imam rabbani accepted master make tawhid qibla master practice tawhid",
          "last discussion body react heat work defense system vitality sign life well manage",
          "sake lofty goal trouble walk horizon win sea drop see fate road",
          "test wealth test absence test illness test health",
          "construction must stop shame must prevent",
          "stand need serious vigilance heart mfg",
          "write mer faruk gergerlio lu read nobility seriousness determination perseverance struggle fairness justice",
          "see right right follow see wrong wrong avoid bless god",
          "confidence deed pride people receive allah love mfg",
          "wicked religious bastard say say faith disastrous say without believe much disastrous",
          "levent g lteki n attack fist door halk tv get well soon",
          "issue dignity steal massacre amp enslavement dignity undermined",
          null
         ],
         "marker": {
          "opacity": 0.5,
          "size": 5
         },
         "mode": "markers+text",
         "name": "2_allah_right_test",
         "text": [
          "",
          "",
          "",
          "",
          "",
          "",
          "",
          "",
          "",
          "",
          "",
          "",
          "",
          "",
          "",
          "",
          "",
          "",
          "",
          "",
          "",
          "",
          "",
          "",
          "",
          "",
          "",
          "",
          "",
          "",
          "",
          "",
          "",
          "",
          "",
          "",
          "",
          "",
          "",
          "",
          "",
          "",
          "",
          "",
          "",
          "",
          "",
          "",
          "",
          "",
          "",
          "",
          "",
          "",
          "",
          "",
          "",
          "",
          "",
          "",
          "",
          "",
          "",
          "",
          "",
          "2_allah_right_test"
         ],
         "textfont": {
          "size": 12
         },
         "type": "scattergl",
         "x": [
          5.946000576019287,
          4.944650650024414,
          5.1150221824646,
          5.1939215660095215,
          5.533400058746338,
          5.005615711212158,
          6.212618350982666,
          5.243122577667236,
          5.493968963623047,
          5.579492092132568,
          5.025362014770508,
          5.84889030456543,
          5.313344478607178,
          6.384947776794434,
          4.978464126586914,
          5.191596031188965,
          5.435522556304932,
          5.073447227478027,
          5.335602283477783,
          5.876432418823242,
          5.978919506072998,
          6.074669361114502,
          5.329738140106201,
          5.0325398445129395,
          5.226586818695068,
          6.384143352508545,
          5.490642547607422,
          6.306199073791504,
          6.211162090301514,
          6.009361743927002,
          5.302284240722656,
          6.003840923309326,
          5.31405782699585,
          5.614602088928223,
          5.09906530380249,
          5.366171836853027,
          4.938762664794922,
          5.210784435272217,
          5.289342403411865,
          5.665440082550049,
          5.230444431304932,
          5.262114524841309,
          5.437910079956055,
          6.555746078491211,
          5.9975690841674805,
          5.187903881072998,
          5.239266872406006,
          5.398684501647949,
          5.962320804595947,
          5.492051601409912,
          5.127752780914307,
          5.743782043457031,
          5.132049560546875,
          4.923464298248291,
          5.506287574768066,
          5.046858310699463,
          5.618496894836426,
          5.4783101081848145,
          5.846307754516602,
          5.149684429168701,
          5.037472248077393,
          5.228360176086426,
          5.345612525939941,
          5.793211936950684,
          5.876128673553467,
          5.4953460693359375
         ],
         "y": [
          -3.4763412475585938,
          -2.477811336517334,
          -1.8405802249908447,
          -2.4646902084350586,
          -3.195784568786621,
          -2.269784927368164,
          -3.299872636795044,
          -1.5462311506271362,
          -3.193981885910034,
          -2.6741628646850586,
          -2.2667980194091797,
          -1.644529104232788,
          -1.792008399963379,
          -3.1821439266204834,
          -2.457764148712158,
          -1.5490896701812744,
          -3.1366145610809326,
          -2.100898265838623,
          -2.868281364440918,
          -3.1401655673980713,
          -3.01039457321167,
          -3.0440053939819336,
          -2.8139889240264893,
          -2.288334846496582,
          -1.656270980834961,
          -3.196171998977661,
          -1.728896141052246,
          -3.2338154315948486,
          -3.1990222930908203,
          -3.0385520458221436,
          -1.4780712127685547,
          -3.420664072036743,
          -2.7869749069213867,
          -2.0382425785064697,
          -2.271074056625366,
          -3.039827823638916,
          -2.407790184020996,
          -2.5987329483032227,
          -2.6566600799560547,
          -2.3658652305603027,
          -1.472450852394104,
          -1.5030969381332397,
          -2.724398374557495,
          -3.2357723712921143,
          -2.9893128871917725,
          -2.7388548851013184,
          -1.647412896156311,
          -3.1184487342834473,
          -3.3089451789855957,
          -3.1996500492095947,
          -2.4787704944610596,
          -3.188859462738037,
          -2.246964693069458,
          -2.39194655418396,
          -1.6950315237045288,
          -1.9343031644821167,
          -1.6994025707244873,
          -2.231976270675659,
          -1.6107642650604248,
          -2.0402894020080566,
          -2.254887819290161,
          -2.5826833248138428,
          -2.725417137145996,
          -1.71326744556427,
          -2.6961476802825928,
          -2.496614694595337
         ]
        },
        {
         "hoverinfo": "text",
         "hovertext": [
          "travel leadership library oldenburg alternative link",
          "reber calan mobile library promotion event stockholm sweden",
          "time martyr fall like star heart night country guerrilla kurdistan either lead die",
          "thank god c c martyr lose bitlist wish patience family",
          "january publication revolution communism martyr commemorate youtube channel name remember immortal january",
          "special file ehba liberation afrin resistance struggle continue strong",
          "nder apo diyorki people war without people guerrilla war without people",
          "headline fought cowardly ran away use gas fought cowardly resort dirty rule day",
          "today remember comrade ehid leger n iya alina nchez argentina martyr year ago work",
          "february action young people internationalist alternative link day",
          "call lowly pro medium provoke youth bosphorus yesterday fun snow martyr photo",
          "resistance herald victory struggle overthrow fascist state resistance fragment area",
          "tkp ml central committee remember respect immortalize revolution keep promise",
          "lieutet colonel name nihat altintop",
          "series scene show take place paris find architecture like paris pek university usurped",
          "rally held downtown magdeburg occasion year political hostage imprisonment imrali accompany",
          "banner invasion flag hang might police soldier",
          "paris amsterdam vienna rome athens toronto brussels marseille zurih stocholm copenhagen helsinki oslo berlin cologne dortmunt fr",
          "derya devrim rman martyr guerrilla dersim demet taner martyr city happy march htt",
          "community let part sign petition call necessary proper action save",
          "thousand demonstrate sunday haitian capital port au prince say government try establish new di",
          "call people meiro begin occupation massacre afrin activity social network hashtag",
          "january invite meet gare du nord h demand justice say stop impunity",
          "agenda girl bosphorus",
          "voice hunger strike fcdk kawa federation start work send thousand letter un freedom reber apo",
          "defend bosphorus crime torture crime",
          "today first sunday lent feast orthodoxy commemorates restoration icon final defeat iconocl",
          "tkp ml kkb organize struggle bring end fascism party exploitation",
          "write worldwide virtual protest organize ast sunday march",
          "martyr write shame play patriotism without mention name russia martyr mehmet",
          "letter sent un duisburg alternative link",
          "know german think anything learn german french free",
          "still go anywhere",
          "football player club newcastle united fc transfer professional football player de andre roselle yedlin club",
          "thousand start newroz march front hbf hannover 1",
          "come enough plucked people nothing july commit crime honorable uniform love much",
          "struggle dimitris well put life line last minute comrade struggle str",
          "hunger strike makhmur continue group click",
          "left behind timeless year usurped newspaper say continue struggle long hold pen relentlessly",
          "internationalist youth action end rally freiburg alternative link",
          "support bosphorus switzerland alternative link",
          "around world action week creatively show achievement rojava revolution must defend",
          null
         ],
         "marker": {
          "opacity": 0.5,
          "size": 5
         },
         "mode": "markers+text",
         "name": "3_martyr_struggle_link",
         "text": [
          "",
          "",
          "",
          "",
          "",
          "",
          "",
          "",
          "",
          "",
          "",
          "",
          "",
          "",
          "",
          "",
          "",
          "",
          "",
          "",
          "",
          "",
          "",
          "",
          "",
          "",
          "",
          "",
          "",
          "",
          "",
          "",
          "",
          "",
          "",
          "",
          "",
          "",
          "",
          "",
          "",
          "",
          "3_martyr_struggle_link"
         ],
         "textfont": {
          "size": 12
         },
         "type": "scattergl",
         "x": [
          8.109566688537598,
          8.0618257522583,
          7.786365509033203,
          7.789982318878174,
          7.526785373687744,
          7.560586452484131,
          7.817224502563477,
          7.486383438110352,
          7.654983997344971,
          7.913251876831055,
          7.617529392242432,
          7.4141387939453125,
          7.629332542419434,
          8.044679641723633,
          7.8532795906066895,
          8.07286262512207,
          7.490417957305908,
          7.843064308166504,
          7.712000846862793,
          7.9158453941345215,
          8.26752758026123,
          7.417594909667969,
          8.128629684448242,
          9.06130313873291,
          7.955007553100586,
          10.047362327575684,
          7.439426422119141,
          7.403558731079102,
          8.018146514892578,
          7.918497562408447,
          8.089543342590332,
          7.771151542663574,
          7.54121208190918,
          8.137030601501465,
          7.85884952545166,
          7.40595006942749,
          7.628620147705078,
          7.909323215484619,
          7.5095601081848145,
          8.101615905761719,
          8.223658561706543,
          7.4844818115234375,
          7.871860980987549
         ],
         "y": [
          -1.9450581073760986,
          -1.9689167737960815,
          -3.183657646179199,
          -2.769294500350952,
          -2.897235870361328,
          -2.85428524017334,
          -2.973329544067383,
          -2.9933271408081055,
          -2.9506688117980957,
          -2.4031763076782227,
          -3.2642223834991455,
          -2.7975430488586426,
          -2.872032403945923,
          -1.8142285346984863,
          -2.0207767486572266,
          -1.9982192516326904,
          -3.1486971378326416,
          -1.9690885543823242,
          -3.011594772338867,
          -2.5868008136749268,
          -2.699558973312378,
          -2.179607391357422,
          -1.947327971458435,
          -2.248183012008667,
          -2.585310220718384,
          -2.8748867511749268,
          -2.8475422859191895,
          -2.7949700355529785,
          -2.525601387023926,
          -3.22686505317688,
          -1.8805794715881348,
          -1.8865338563919067,
          -1.9216899871826172,
          -1.8756617307662964,
          -2.188119411468506,
          -3.137674570083618,
          -2.917531728744507,
          -2.605361223220825,
          -2.8820297718048096,
          -2.0006260871887207,
          -1.9280086755752563,
          -2.7819104194641113,
          -2.532327175140381
         ]
        },
        {
         "hoverinfo": "text",
         "hovertext": [
          "asagi bakmayacagiz yer bogazici yer direnis ya hep beraber ya hicbirimiz united struggle bow head lve",
          "name mer faruk come disturb",
          "support ergun babahan justice watch g n say n via live broadcast guest",
          "mer faruk gergerli lu majority silent stay silent touch deputy people",
          "mer faruk gergerlio lu let take deputyship let take life let honor trample three day world",
          "gar destan",
          "word ahmet nmez",
          "god permission caravan stop fg len",
          "mene r rasul please continue beautiful tradition start",
          "qamishlo newroz",
          "well know printing house even get past wall intermediary print poetry book",
          "birle erek kazanaca z live people union",
          "zlem zengin woman veysel ayhan write",
          "emre bel zo lu galatasaray trauma",
          "b mre xiyeneta pdk",
          "tonight everyone loyalty say biz gergerlio lu",
          "africa female leader samia suluhu hassan new president tanzania",
          "h seyin galip",
          "mer gergerlio lu strong take power people relies people people gergerlio lu",
          "hate poetry one know current poet say poetry like god u kurd",
          "gergerlio lu conscience society touch gergerlio lu",
          "live president azad ji bo r ber apo",
          "yun jitem today akp",
          "look yer bogazici yer direnis bow head",
          "mother tongue shake foundation state built state land musa anter ziman",
          "hdp mer faruk gergerlio lu resist long parliament",
          "gara",
          "rkei immunit von mer faruk gergerlio lu via aufgehoben",
          "leader apo mam zeki engali",
          "hdp kocaeli deputy mer faruk gergerlio lu told former prime ministry rapporteur h seyin galip k k zyi decree",
          "yja star guerrilla dirok cudi use peshmerga drew attention kdp mentality ignores woman pk",
          "mer gergerlio lu silence gergerlio lu people deputy",
          "ben hakan dagdeviren",
          "gergerlio lunun yadayiz",
          "mer faruk gergerlio lu fg touch",
          "someone speaks like hit mouth shovel hello diyarbak r kurd head eye",
          "ben hakan dagdeviren",
          "levent g ltekin right indescribable",
          "ypg ypj",
          "halabja name massacre people divide four part smell apple zilan dersim halabja roboski one",
          null
         ],
         "marker": {
          "opacity": 0.5,
          "size": 5
         },
         "mode": "markers+text",
         "name": "4_lu_gergerlio_mer",
         "text": [
          "",
          "",
          "",
          "",
          "",
          "",
          "",
          "",
          "",
          "",
          "",
          "",
          "",
          "",
          "",
          "",
          "",
          "",
          "",
          "",
          "",
          "",
          "",
          "",
          "",
          "",
          "",
          "",
          "",
          "",
          "",
          "",
          "",
          "",
          "",
          "",
          "",
          "",
          "",
          "",
          "4_lu_gergerlio_mer"
         ],
         "textfont": {
          "size": 12
         },
         "type": "scattergl",
         "x": [
          7.527676582336426,
          6.955548286437988,
          8.362008094787598,
          7.045339584350586,
          6.8387041091918945,
          7.363386631011963,
          7.7579345703125,
          6.689629077911377,
          6.956746578216553,
          7.846519947052002,
          7.082372665405273,
          7.794260025024414,
          7.737630844116211,
          7.123672008514404,
          7.912774085998535,
          6.731950283050537,
          8.076090812683105,
          7.41103458404541,
          6.728147983551025,
          7.497127056121826,
          6.58492374420166,
          8.384048461914062,
          7.684106349945068,
          7.4966912269592285,
          7.995743274688721,
          7.066744327545166,
          7.503371715545654,
          6.9547271728515625,
          7.9095587730407715,
          7.241470813751221,
          7.6763200759887695,
          6.7518134117126465,
          7.1743268966674805,
          6.772860050201416,
          6.998080730438232,
          7.546601295471191,
          7.160455226898193,
          6.676884651184082,
          7.816277027130127,
          7.874050140380859,
          7.3676910400390625
         ],
         "y": [
          -4.170741558074951,
          -3.783475637435913,
          -2.828186273574829,
          -3.666064977645874,
          -3.605311632156372,
          -3.9101755619049072,
          -4.113053798675537,
          -3.594764232635498,
          -3.484647035598755,
          -4.1432785987854,
          -1.7334675788879395,
          -4.100038528442383,
          -4.073154449462891,
          -4.088621616363525,
          -3.9957473278045654,
          -3.9757022857666016,
          -3.675652503967285,
          -3.834320306777954,
          -3.9669244289398193,
          -4.1091814041137695,
          -3.935638189315796,
          -3.109847068786621,
          -3.707084894180298,
          -4.071952819824219,
          -3.727684259414673,
          -3.597414493560791,
          -3.931830406188965,
          -3.881532907485962,
          -3.6547043323516846,
          -3.689455509185791,
          -3.6423280239105225,
          -3.9251065254211426,
          -3.946260452270508,
          -4.0062994956970215,
          -3.9487621784210205,
          -4.120439529418945,
          -3.9393975734710693,
          -3.6179885864257812,
          -3.7885866165161133,
          -1.481030821800232,
          -3.7143967151641846
         ]
        },
        {
         "hoverinfo": "text",
         "hovertext": [
          "prof dr brahi zt rk turkish nation everything institution constitution court go get situation",
          "police disguise militia wicked religious despot partisan thief immoral person lack academic ethic appoint rector",
          "akp become big scourge country akp parliamentarian include president parliament like hitler respect country",
          "beyza buldag student mimar si university arrest",
          "leyman leyman soylu behind bosphorus action former rector st n erg der call get job",
          "new ben carson say resign trump administration capitol riot apparently unaware term en",
          "today hdp supporter reign cruelty end sooner later people vekili g zalt nda",
          "man make country property could appoint akp deputy candidate rector good sleep guy already akp community",
          "erdogan appoint rector akp bosphorus stood leader justice developrime ministerent party akp",
          "impeachment bill sent senate today u house representative former president donald",
          "meeting u secretary state avu lu say also talk f go official statement usa",
          "bogazici university bogazici university senate university administrative board held tomorrow rector melih bulu",
          "former ak parti bitlis mv abd rrahim aksoy member new deva party deputy",
          "b ra arrest senior music teacher detention year close eye surgery",
          "mister gay election due corona crisis",
          "state emergency agenda year struggle deprivation citizenship even expulsion people khk",
          "political genocide jiyan ta lead member democratic society congress dtk today sentence",
          "announcement review compile hundred page official party program statute pkk kdp puk",
          "student take custody sentence house arrest among ar",
          "torture ill treatment law enforcement official student protest appointment rector bo azi university",
          "wow pull punch piece hitman position political power",
          "melih bulu rector resign",
          "unfortunately shame five ten shirt much people country political life b",
          "police raid house student protest melih bulu trustee appoint bo azi university student detain",
          "gulistan k l ko yi hdp deputy member parliamentary human right commission make assessment anf",
          "akp mhp supporter water news men curse shook social medium one",
          null
         ],
         "marker": {
          "opacity": 0.5,
          "size": 5
         },
         "mode": "markers+text",
         "name": "5_rector_akp_university",
         "text": [
          "",
          "",
          "",
          "",
          "",
          "",
          "",
          "",
          "",
          "",
          "",
          "",
          "",
          "",
          "",
          "",
          "",
          "",
          "",
          "",
          "",
          "",
          "",
          "",
          "",
          "",
          "5_rector_akp_university"
         ],
         "textfont": {
          "size": 12
         },
         "type": "scattergl",
         "x": [
          9.709938049316406,
          8.822985649108887,
          8.97830867767334,
          9.341568946838379,
          9.615545272827148,
          8.935103416442871,
          7.5103559494018555,
          9.293201446533203,
          9.582819938659668,
          9.062106132507324,
          8.721450805664062,
          9.58010482788086,
          9.36794662475586,
          9.417399406433105,
          8.570320129394531,
          8.78278923034668,
          8.540486335754395,
          8.723965644836426,
          9.366222381591797,
          9.460407257080078,
          8.557900428771973,
          9.578697204589844,
          8.556892395019531,
          9.420963287353516,
          8.9212007522583,
          7.413948059082031,
          8.993561744689941
         ],
         "y": [
          -1.8095141649246216,
          -2.812055826187134,
          -2.977407217025757,
          -1.4545716047286987,
          -1.9392523765563965,
          -2.817624092102051,
          -2.5031485557556152,
          -2.2464826107025146,
          -1.8893693685531616,
          -2.9728004932403564,
          -2.999272108078003,
          -1.831892967224121,
          -2.166924476623535,
          -1.4545989036560059,
          -3.0975046157836914,
          -2.725511312484741,
          -2.938331365585327,
          -2.776993751525879,
          -1.3675276041030884,
          -1.5812560319900513,
          -2.89697527885437,
          -1.8540359735488892,
          -3.014627456665039,
          -1.465338110923767,
          -2.1217358112335205,
          -2.1874759197235107,
          -2.303931951522827
         ]
        },
        {
         "hoverinfo": "text",
         "hovertext": [
          "every owner beauty perfection want see show beauty perfection bsn",
          "comment",
          "liar",
          "new profile picture",
          "person far something see much person close matter smart bsn",
          "say",
          "think one create know go grave prepare bsn",
          "four",
          "look moon",
          "shut",
          "really",
          "watch bewilderment one sorry everyone get deserve",
          "look",
          "look",
          "ya hack",
          "explanation meet everyone expectation regardless",
          "instead disappoint people let tell ignore",
          "day come even want find achieve desire fg len h",
          "idea much information perception dundar",
          "really sorry anthony axel face vile post week measure compel",
          null
         ],
         "marker": {
          "opacity": 0.5,
          "size": 5
         },
         "mode": "markers+text",
         "name": "6_bsn_look_perfection",
         "text": [
          "",
          "",
          "",
          "",
          "",
          "",
          "",
          "",
          "",
          "",
          "",
          "",
          "",
          "",
          "",
          "",
          "",
          "",
          "",
          "",
          "6_bsn_look_perfection"
         ],
         "textfont": {
          "size": 12
         },
         "type": "scattergl",
         "x": [
          5.945041656494141,
          6.005184173583984,
          6.358334541320801,
          6.000527381896973,
          6.321671962738037,
          6.011342525482178,
          6.414188861846924,
          6.323983669281006,
          5.804019451141357,
          6.0921173095703125,
          6.2919840812683105,
          6.084043979644775,
          5.8477559089660645,
          5.858082294464111,
          6.496612071990967,
          6.137656211853027,
          6.099838733673096,
          6.009976387023926,
          6.27591609954834,
          6.17915678024292,
          6.127871513366699
         ],
         "y": [
          -1.1873873472213745,
          -0.8140301704406738,
          -0.6269436478614807,
          -1.2201743125915527,
          -1.306757926940918,
          -0.7533360123634338,
          -1.1893254518508911,
          -0.5917991995811462,
          -0.8733962178230286,
          -0.7384087443351746,
          -0.6794686913490295,
          -0.8671698570251465,
          -0.8674811124801636,
          -0.8561630845069885,
          -0.8124811053276062,
          -0.9173357486724854,
          -0.9038814306259155,
          -1.2477831840515137,
          -1.2265610694885254,
          -1.2484427690505981,
          -0.9464163780212402
         ]
        }
       ],
       "layout": {
        "annotations": [
         {
          "showarrow": false,
          "text": "D1",
          "x": 4.184944653511048,
          "y": -2.812633375450969,
          "yshift": 10
         },
         {
          "showarrow": false,
          "text": "D2",
          "x": 8.651151072978973,
          "xshift": 10,
          "y": -0.12084277495741844
         }
        ],
        "height": 750,
        "shapes": [
         {
          "line": {
           "color": "#CFD8DC",
           "width": 2
          },
          "type": "line",
          "x0": 8.651151072978973,
          "x1": 8.651151072978973,
          "y0": -5.504423975944519,
          "y1": -0.12084277495741844
         },
         {
          "line": {
           "color": "#9E9E9E",
           "width": 2
          },
          "type": "line",
          "x0": 4.184944653511048,
          "x1": 13.1173574924469,
          "y0": -2.812633375450969,
          "y1": -2.812633375450969
         }
        ],
        "template": {
         "data": {
          "bar": [
           {
            "error_x": {
             "color": "rgb(36,36,36)"
            },
            "error_y": {
             "color": "rgb(36,36,36)"
            },
            "marker": {
             "line": {
              "color": "white",
              "width": 0.5
             },
             "pattern": {
              "fillmode": "overlay",
              "size": 10,
              "solidity": 0.2
             }
            },
            "type": "bar"
           }
          ],
          "barpolar": [
           {
            "marker": {
             "line": {
              "color": "white",
              "width": 0.5
             },
             "pattern": {
              "fillmode": "overlay",
              "size": 10,
              "solidity": 0.2
             }
            },
            "type": "barpolar"
           }
          ],
          "carpet": [
           {
            "aaxis": {
             "endlinecolor": "rgb(36,36,36)",
             "gridcolor": "white",
             "linecolor": "white",
             "minorgridcolor": "white",
             "startlinecolor": "rgb(36,36,36)"
            },
            "baxis": {
             "endlinecolor": "rgb(36,36,36)",
             "gridcolor": "white",
             "linecolor": "white",
             "minorgridcolor": "white",
             "startlinecolor": "rgb(36,36,36)"
            },
            "type": "carpet"
           }
          ],
          "choropleth": [
           {
            "colorbar": {
             "outlinewidth": 1,
             "tickcolor": "rgb(36,36,36)",
             "ticks": "outside"
            },
            "type": "choropleth"
           }
          ],
          "contour": [
           {
            "colorbar": {
             "outlinewidth": 1,
             "tickcolor": "rgb(36,36,36)",
             "ticks": "outside"
            },
            "colorscale": [
             [
              0,
              "#440154"
             ],
             [
              0.1111111111111111,
              "#482878"
             ],
             [
              0.2222222222222222,
              "#3e4989"
             ],
             [
              0.3333333333333333,
              "#31688e"
             ],
             [
              0.4444444444444444,
              "#26828e"
             ],
             [
              0.5555555555555556,
              "#1f9e89"
             ],
             [
              0.6666666666666666,
              "#35b779"
             ],
             [
              0.7777777777777778,
              "#6ece58"
             ],
             [
              0.8888888888888888,
              "#b5de2b"
             ],
             [
              1,
              "#fde725"
             ]
            ],
            "type": "contour"
           }
          ],
          "contourcarpet": [
           {
            "colorbar": {
             "outlinewidth": 1,
             "tickcolor": "rgb(36,36,36)",
             "ticks": "outside"
            },
            "type": "contourcarpet"
           }
          ],
          "heatmap": [
           {
            "colorbar": {
             "outlinewidth": 1,
             "tickcolor": "rgb(36,36,36)",
             "ticks": "outside"
            },
            "colorscale": [
             [
              0,
              "#440154"
             ],
             [
              0.1111111111111111,
              "#482878"
             ],
             [
              0.2222222222222222,
              "#3e4989"
             ],
             [
              0.3333333333333333,
              "#31688e"
             ],
             [
              0.4444444444444444,
              "#26828e"
             ],
             [
              0.5555555555555556,
              "#1f9e89"
             ],
             [
              0.6666666666666666,
              "#35b779"
             ],
             [
              0.7777777777777778,
              "#6ece58"
             ],
             [
              0.8888888888888888,
              "#b5de2b"
             ],
             [
              1,
              "#fde725"
             ]
            ],
            "type": "heatmap"
           }
          ],
          "heatmapgl": [
           {
            "colorbar": {
             "outlinewidth": 1,
             "tickcolor": "rgb(36,36,36)",
             "ticks": "outside"
            },
            "colorscale": [
             [
              0,
              "#440154"
             ],
             [
              0.1111111111111111,
              "#482878"
             ],
             [
              0.2222222222222222,
              "#3e4989"
             ],
             [
              0.3333333333333333,
              "#31688e"
             ],
             [
              0.4444444444444444,
              "#26828e"
             ],
             [
              0.5555555555555556,
              "#1f9e89"
             ],
             [
              0.6666666666666666,
              "#35b779"
             ],
             [
              0.7777777777777778,
              "#6ece58"
             ],
             [
              0.8888888888888888,
              "#b5de2b"
             ],
             [
              1,
              "#fde725"
             ]
            ],
            "type": "heatmapgl"
           }
          ],
          "histogram": [
           {
            "marker": {
             "line": {
              "color": "white",
              "width": 0.6
             }
            },
            "type": "histogram"
           }
          ],
          "histogram2d": [
           {
            "colorbar": {
             "outlinewidth": 1,
             "tickcolor": "rgb(36,36,36)",
             "ticks": "outside"
            },
            "colorscale": [
             [
              0,
              "#440154"
             ],
             [
              0.1111111111111111,
              "#482878"
             ],
             [
              0.2222222222222222,
              "#3e4989"
             ],
             [
              0.3333333333333333,
              "#31688e"
             ],
             [
              0.4444444444444444,
              "#26828e"
             ],
             [
              0.5555555555555556,
              "#1f9e89"
             ],
             [
              0.6666666666666666,
              "#35b779"
             ],
             [
              0.7777777777777778,
              "#6ece58"
             ],
             [
              0.8888888888888888,
              "#b5de2b"
             ],
             [
              1,
              "#fde725"
             ]
            ],
            "type": "histogram2d"
           }
          ],
          "histogram2dcontour": [
           {
            "colorbar": {
             "outlinewidth": 1,
             "tickcolor": "rgb(36,36,36)",
             "ticks": "outside"
            },
            "colorscale": [
             [
              0,
              "#440154"
             ],
             [
              0.1111111111111111,
              "#482878"
             ],
             [
              0.2222222222222222,
              "#3e4989"
             ],
             [
              0.3333333333333333,
              "#31688e"
             ],
             [
              0.4444444444444444,
              "#26828e"
             ],
             [
              0.5555555555555556,
              "#1f9e89"
             ],
             [
              0.6666666666666666,
              "#35b779"
             ],
             [
              0.7777777777777778,
              "#6ece58"
             ],
             [
              0.8888888888888888,
              "#b5de2b"
             ],
             [
              1,
              "#fde725"
             ]
            ],
            "type": "histogram2dcontour"
           }
          ],
          "mesh3d": [
           {
            "colorbar": {
             "outlinewidth": 1,
             "tickcolor": "rgb(36,36,36)",
             "ticks": "outside"
            },
            "type": "mesh3d"
           }
          ],
          "parcoords": [
           {
            "line": {
             "colorbar": {
              "outlinewidth": 1,
              "tickcolor": "rgb(36,36,36)",
              "ticks": "outside"
             }
            },
            "type": "parcoords"
           }
          ],
          "pie": [
           {
            "automargin": true,
            "type": "pie"
           }
          ],
          "scatter": [
           {
            "fillpattern": {
             "fillmode": "overlay",
             "size": 10,
             "solidity": 0.2
            },
            "type": "scatter"
           }
          ],
          "scatter3d": [
           {
            "line": {
             "colorbar": {
              "outlinewidth": 1,
              "tickcolor": "rgb(36,36,36)",
              "ticks": "outside"
             }
            },
            "marker": {
             "colorbar": {
              "outlinewidth": 1,
              "tickcolor": "rgb(36,36,36)",
              "ticks": "outside"
             }
            },
            "type": "scatter3d"
           }
          ],
          "scattercarpet": [
           {
            "marker": {
             "colorbar": {
              "outlinewidth": 1,
              "tickcolor": "rgb(36,36,36)",
              "ticks": "outside"
             }
            },
            "type": "scattercarpet"
           }
          ],
          "scattergeo": [
           {
            "marker": {
             "colorbar": {
              "outlinewidth": 1,
              "tickcolor": "rgb(36,36,36)",
              "ticks": "outside"
             }
            },
            "type": "scattergeo"
           }
          ],
          "scattergl": [
           {
            "marker": {
             "colorbar": {
              "outlinewidth": 1,
              "tickcolor": "rgb(36,36,36)",
              "ticks": "outside"
             }
            },
            "type": "scattergl"
           }
          ],
          "scattermapbox": [
           {
            "marker": {
             "colorbar": {
              "outlinewidth": 1,
              "tickcolor": "rgb(36,36,36)",
              "ticks": "outside"
             }
            },
            "type": "scattermapbox"
           }
          ],
          "scatterpolar": [
           {
            "marker": {
             "colorbar": {
              "outlinewidth": 1,
              "tickcolor": "rgb(36,36,36)",
              "ticks": "outside"
             }
            },
            "type": "scatterpolar"
           }
          ],
          "scatterpolargl": [
           {
            "marker": {
             "colorbar": {
              "outlinewidth": 1,
              "tickcolor": "rgb(36,36,36)",
              "ticks": "outside"
             }
            },
            "type": "scatterpolargl"
           }
          ],
          "scatterternary": [
           {
            "marker": {
             "colorbar": {
              "outlinewidth": 1,
              "tickcolor": "rgb(36,36,36)",
              "ticks": "outside"
             }
            },
            "type": "scatterternary"
           }
          ],
          "surface": [
           {
            "colorbar": {
             "outlinewidth": 1,
             "tickcolor": "rgb(36,36,36)",
             "ticks": "outside"
            },
            "colorscale": [
             [
              0,
              "#440154"
             ],
             [
              0.1111111111111111,
              "#482878"
             ],
             [
              0.2222222222222222,
              "#3e4989"
             ],
             [
              0.3333333333333333,
              "#31688e"
             ],
             [
              0.4444444444444444,
              "#26828e"
             ],
             [
              0.5555555555555556,
              "#1f9e89"
             ],
             [
              0.6666666666666666,
              "#35b779"
             ],
             [
              0.7777777777777778,
              "#6ece58"
             ],
             [
              0.8888888888888888,
              "#b5de2b"
             ],
             [
              1,
              "#fde725"
             ]
            ],
            "type": "surface"
           }
          ],
          "table": [
           {
            "cells": {
             "fill": {
              "color": "rgb(237,237,237)"
             },
             "line": {
              "color": "white"
             }
            },
            "header": {
             "fill": {
              "color": "rgb(217,217,217)"
             },
             "line": {
              "color": "white"
             }
            },
            "type": "table"
           }
          ]
         },
         "layout": {
          "annotationdefaults": {
           "arrowhead": 0,
           "arrowwidth": 1
          },
          "autotypenumbers": "strict",
          "coloraxis": {
           "colorbar": {
            "outlinewidth": 1,
            "tickcolor": "rgb(36,36,36)",
            "ticks": "outside"
           }
          },
          "colorscale": {
           "diverging": [
            [
             0,
             "rgb(103,0,31)"
            ],
            [
             0.1,
             "rgb(178,24,43)"
            ],
            [
             0.2,
             "rgb(214,96,77)"
            ],
            [
             0.3,
             "rgb(244,165,130)"
            ],
            [
             0.4,
             "rgb(253,219,199)"
            ],
            [
             0.5,
             "rgb(247,247,247)"
            ],
            [
             0.6,
             "rgb(209,229,240)"
            ],
            [
             0.7,
             "rgb(146,197,222)"
            ],
            [
             0.8,
             "rgb(67,147,195)"
            ],
            [
             0.9,
             "rgb(33,102,172)"
            ],
            [
             1,
             "rgb(5,48,97)"
            ]
           ],
           "sequential": [
            [
             0,
             "#440154"
            ],
            [
             0.1111111111111111,
             "#482878"
            ],
            [
             0.2222222222222222,
             "#3e4989"
            ],
            [
             0.3333333333333333,
             "#31688e"
            ],
            [
             0.4444444444444444,
             "#26828e"
            ],
            [
             0.5555555555555556,
             "#1f9e89"
            ],
            [
             0.6666666666666666,
             "#35b779"
            ],
            [
             0.7777777777777778,
             "#6ece58"
            ],
            [
             0.8888888888888888,
             "#b5de2b"
            ],
            [
             1,
             "#fde725"
            ]
           ],
           "sequentialminus": [
            [
             0,
             "#440154"
            ],
            [
             0.1111111111111111,
             "#482878"
            ],
            [
             0.2222222222222222,
             "#3e4989"
            ],
            [
             0.3333333333333333,
             "#31688e"
            ],
            [
             0.4444444444444444,
             "#26828e"
            ],
            [
             0.5555555555555556,
             "#1f9e89"
            ],
            [
             0.6666666666666666,
             "#35b779"
            ],
            [
             0.7777777777777778,
             "#6ece58"
            ],
            [
             0.8888888888888888,
             "#b5de2b"
            ],
            [
             1,
             "#fde725"
            ]
           ]
          },
          "colorway": [
           "#1F77B4",
           "#FF7F0E",
           "#2CA02C",
           "#D62728",
           "#9467BD",
           "#8C564B",
           "#E377C2",
           "#7F7F7F",
           "#BCBD22",
           "#17BECF"
          ],
          "font": {
           "color": "rgb(36,36,36)"
          },
          "geo": {
           "bgcolor": "white",
           "lakecolor": "white",
           "landcolor": "white",
           "showlakes": true,
           "showland": true,
           "subunitcolor": "white"
          },
          "hoverlabel": {
           "align": "left"
          },
          "hovermode": "closest",
          "mapbox": {
           "style": "light"
          },
          "paper_bgcolor": "white",
          "plot_bgcolor": "white",
          "polar": {
           "angularaxis": {
            "gridcolor": "rgb(232,232,232)",
            "linecolor": "rgb(36,36,36)",
            "showgrid": false,
            "showline": true,
            "ticks": "outside"
           },
           "bgcolor": "white",
           "radialaxis": {
            "gridcolor": "rgb(232,232,232)",
            "linecolor": "rgb(36,36,36)",
            "showgrid": false,
            "showline": true,
            "ticks": "outside"
           }
          },
          "scene": {
           "xaxis": {
            "backgroundcolor": "white",
            "gridcolor": "rgb(232,232,232)",
            "gridwidth": 2,
            "linecolor": "rgb(36,36,36)",
            "showbackground": true,
            "showgrid": false,
            "showline": true,
            "ticks": "outside",
            "zeroline": false,
            "zerolinecolor": "rgb(36,36,36)"
           },
           "yaxis": {
            "backgroundcolor": "white",
            "gridcolor": "rgb(232,232,232)",
            "gridwidth": 2,
            "linecolor": "rgb(36,36,36)",
            "showbackground": true,
            "showgrid": false,
            "showline": true,
            "ticks": "outside",
            "zeroline": false,
            "zerolinecolor": "rgb(36,36,36)"
           },
           "zaxis": {
            "backgroundcolor": "white",
            "gridcolor": "rgb(232,232,232)",
            "gridwidth": 2,
            "linecolor": "rgb(36,36,36)",
            "showbackground": true,
            "showgrid": false,
            "showline": true,
            "ticks": "outside",
            "zeroline": false,
            "zerolinecolor": "rgb(36,36,36)"
           }
          },
          "shapedefaults": {
           "fillcolor": "black",
           "line": {
            "width": 0
           },
           "opacity": 0.3
          },
          "ternary": {
           "aaxis": {
            "gridcolor": "rgb(232,232,232)",
            "linecolor": "rgb(36,36,36)",
            "showgrid": false,
            "showline": true,
            "ticks": "outside"
           },
           "baxis": {
            "gridcolor": "rgb(232,232,232)",
            "linecolor": "rgb(36,36,36)",
            "showgrid": false,
            "showline": true,
            "ticks": "outside"
           },
           "bgcolor": "white",
           "caxis": {
            "gridcolor": "rgb(232,232,232)",
            "linecolor": "rgb(36,36,36)",
            "showgrid": false,
            "showline": true,
            "ticks": "outside"
           }
          },
          "title": {
           "x": 0.05
          },
          "xaxis": {
           "automargin": true,
           "gridcolor": "rgb(232,232,232)",
           "linecolor": "rgb(36,36,36)",
           "showgrid": false,
           "showline": true,
           "ticks": "outside",
           "title": {
            "standoff": 15
           },
           "zeroline": false,
           "zerolinecolor": "rgb(36,36,36)"
          },
          "yaxis": {
           "automargin": true,
           "gridcolor": "rgb(232,232,232)",
           "linecolor": "rgb(36,36,36)",
           "showgrid": false,
           "showline": true,
           "ticks": "outside",
           "title": {
            "standoff": 15
           },
           "zeroline": false,
           "zerolinecolor": "rgb(36,36,36)"
          }
         }
        },
        "title": {
         "font": {
          "color": "Black",
          "size": 22
         },
         "text": "<b>Documents and Topics",
         "x": 0.5,
         "xanchor": "center",
         "yanchor": "top"
        },
        "width": 1200,
        "xaxis": {
         "visible": false
        },
        "yaxis": {
         "visible": false
        }
       }
      },
      "text/html": [
       "<div>                            <div id=\"b6e4f5fb-b041-4419-b3db-4e1c65dd8c02\" class=\"plotly-graph-div\" style=\"height:750px; width:1200px;\"></div>            <script type=\"text/javascript\">                require([\"plotly\"], function(Plotly) {                    window.PLOTLYENV=window.PLOTLYENV || {};                                    if (document.getElementById(\"b6e4f5fb-b041-4419-b3db-4e1c65dd8c02\")) {                    Plotly.newPlot(                        \"b6e4f5fb-b041-4419-b3db-4e1c65dd8c02\",                        [{\"hoverinfo\":\"text\",\"hovertext\":[\"nasreddin hodja birth memory year mustafa z eli k column publication\",\"despite corona requirement massive police violence feminist demonstration saturday zurich\",\"listens friend listens\",\"today mark international day womed girlsin science thanks female scientist great effort\",\"horrify say let see mawla whatever good like right ibrahim watch window go bsn\",\"service revolutionary work woman education hundred girl high school open rate religious education girl\",\"lot strife around world turmoil prevails riot follow everyone\",\"gulistan saeed security force take away person without return judge\",\"god damn\",\"able say uncover kidnap take care one humanity take care humanity surrender fascism\",\"let piss corp wait herd dead dog continue pkk\",\"trust scott morrison government deal climate change face climate emergency climate action auspol\",\"go publish video friday thank god muezzin honest man left alone lie\",\"surprised tomorrow erdogan bah eli deceive u open closure case hdp\",\"ali lmaz stay jail sick\",\"ten thousand ton gmo rice import mersin port child ate baby fed sure continue ba\",\"mother year ago mile closer erbil warmly welcome today gang terrorist people\",\"million million vaccinate\",\"march\",\"success dialogue enks pynk goal agreement reach important interest\",\"bylock tyranny state via\",\"revenge invader afrin child\",\"pkk iye pkk hold congress conference time disrupt democratic function even severe war condition\",\"much trouble sat bad\",\"change understand old age sweden past rapidly move towards elderly category today old\",\"political prisoner turkish prison hunger strike isolation fascism right violation cezaevlerin haberin varm\",\"connection capitalism ecology due devastate effect environmental degradation ecologic\",\"cizre police attack moment\",\"remember u cooperate pkk fight monster isi control frankenstein\",\"like beating water mortar still describe elephant best half bake information\",\"coronavirus restriction texas lift wear mask longer mandatory\",\"forgot report time go wc alone go together amp guard many time since\",\"rojava center strategic study nrl organize workshop dispute kurd qamishlo\",\"charlie hebdo journalist indict turkey insult erdo\",\"flee gar attack hdp truth turn upside silence suppress everyone whole world\",\"rajin nujiyan become part woman resistance\",\"enough woman science pursue vocation boy hope\",\"nder apo diyorki tale parable make almost never remain\",\"yes also say break word come answer question follower\",\"journalist etin share twitter account invasion attack gar say\",\"well heavy hhhh\",\"sleepy let talk morning\",\"mithat sancar stand calan newroz message insist democratic politics insist democratic solutio\",\"lose great artist rasimoztekin rest peace wish patience relative\",\"yaaa follower count low realize let give hand vartolu tweeter follower count\",\"go til end month\",\"friend one brother eat little reason look miss meeting journalist writer foundation\",\"neither live live life without leader happen mral\",\"let million transfer wealth fund use child sma\",\"people defense central headquarters command hsm attack prisoner camp way save\",\"history ibn khaldun study history establishment rise collapse state lecture guide today\",\"nuri mahmoud want put end mentality isi\",\"anniversary international conspiracy pkk leader abdullah calan february aggravate\",\"woman superpower girl future girl science woman science woman science day internation\",\"would like make call friend walk life reading tweet please woman right woman\",\"country support let dictator prosecute campaign\",\"course must\",\"book life prophet pbuh publish publishing house translate german friend available instagram\",\"request rt support guy\",\"important partial phone call make nder calan however phone interrupt print told\",\"woman struggle labor history\",\"happen solidarity teamwork\",\"parliament deny zlem zengin report nude search emerge\",\"support\",\"country society consists educate enlighten woman stand foot exclusively religious intellectual\",\"komalen jinen ciwan sitesinin resmi hesb r supporterseniz seviniriz official account komalen jinen ciwan pish\",\"language insult mother sister kurdish freedom fighter prison insult u language shot assassinate\",\"usa fan read article well double confession jeffrey\",\"continue follow\",\"notice akp also start school classroom first step plan februaryists eto plan step step\",\"tonight berlin time invite online hatim prayer please share\",\"bring justice state turn big gang augustinus\",\"dear uncle nusret photo take morning wait take prison shoemaker manisa many year\",\"imprison nazl il cak give big support kavak time think like get\",\"god almost today medi run aid victim innocent oppress family entrust u\",\"khk person khk wife khk friend saw family stand side side oppress\",\"erdogan regime satisfied jailing journalist shut medium outlet censor even youtube pro\",\"three month come let prepare evaluate happy birthday\",\"woman story march\",\"call parliament gergerlioglu take custody imprison make ablution de facto power left\",\"faith determination self sacrifice ypj become hope woman also oppress humanity h\",\"h seyin galip k k zyi mysterious miss person case turkey erdo government\",\"khashoggi sanction usa start apply cause opposition journalist activist abroad harass threaten monitor\",\"american law professor ann graham say first class service institution service people admire tr visit\",\"strong together\",\"family captive soldier police mi member repeatedly apply hd parliament political party human right\",\"people institution shengal resist end kazim insists imposition sends power shengal\",\"memory spoke rally ganja russian kill azerbaijani youth bakude told sermon embassy moscow\",\"german bos work nearly year still call turkish consulate job\",\"yes tire repeat thousand time maybe give flavor heavy small child memory huh\",\"society start disassemble immediate leave powerful individual alone amin maalouf\",\"tree grows root man grows tongue language unknown happy mother day february\",\"horrible creature make transition human world ape world\",\"f altun soylu minister brutal attack social medium anything\",\"p get vote cut uk aid spending say boris johnson johnson\",\"journalist first give name korkmaz afraid happens shooter stop erdogan shook balance\",\"make bread roast aubergine pepper white cheese tea also roast pepper paste okay\",\"follow account follow back canpazar samsun ci k\",\"lord integrate immigrant brother sister protect value learn language job profession\",\"today year ago koban liberate koban begin end isi\",\"three month time always veil otherworldly color fg len\",\"start support please victory bless mother\",\"use month\",\"google monitor even sleep\",\"arabic press agreement russia turkish state violate second year\",\"damn damn damn\",\"whatever happens let afraid goal mind bet fear solidarity\",\"pkk pajk prisoner struggle continue leader free\",\"follow person twitter allow say follow increase allow h seyin ga\",\"asagi bakmayacagiz remember immortal\",\"real terrorist dhkp c member pkk member live none would open mouth would afraid long hurt\",\"matter never badheaded fascism trustee system\",\"nelly make money bus challenge tik tok\",\"trakya university dean faculty theology secretary general university prof dr cevdet k l graduate bo azi university\",\"joke turkey oligarchic elite poor people child class see upwards education\",\"occasion st april akitu new year extend best wish chaldean syriac assyrian people co\",\"animal magnetism\",\"longer expect academic professional amp middle class kurd amp turk share real authentic news stri\",\"hpg chemical use siyan prison camp\",\"borrow word continue conversation inspire layan\",\"implementation exile punishment ottoman empire also sell le underweight bread alcoholic beverage\",\"truth truth freedom people right democratic revolution calan kirmizi line\",\"pkk leader abdullah calan despite lock prison island marmara sea lead democratic revolution\",\"dot great\",\"demo today many small town many arrest samsun also report arrest bursa see\",null],\"marker\":{\"color\":\"#CFD8DC\",\"opacity\":0.5,\"size\":5},\"mode\":\"markers+text\",\"name\":\"other\",\"showlegend\":false,\"x\":[9.068188667297363,8.313591003417969,6.587555408477783,6.2275567054748535,5.471181392669678,6.157885551452637,7.179535865783691,9.237601280212402,6.4479594230651855,7.209100723266602,8.389297485351562,10.190657615661621,9.31523609161377,9.572568893432617,8.6297025680542,9.422755241394043,8.7044677734375,7.892772197723389,5.478354454040527,8.521954536437988,7.927080154418945,7.632728099822998,8.749043464660645,7.081132411956787,5.96258020401001,9.298867225646973,9.638169288635254,8.672346115112305,6.974082946777344,6.724892616271973,8.388531684875488,7.6040544509887695,9.007503509521484,10.083337783813477,7.245429039001465,6.334492206573486,6.179372787475586,7.559771537780762,6.942774772644043,7.08759880065918,5.871393203735352,5.710984706878662,8.270150184631348,7.412151336669922,7.024794101715088,5.477988243103027,6.6458306312561035,8.394536018371582,9.464890480041504,8.693336486816406,8.3693265914917,8.574955940246582,8.805642127990723,6.233792781829834,6.8360419273376465,10.31397819519043,6.985634803771973,6.874190330505371,6.903527736663818,7.242859363555908,6.2292799949646,6.947114944458008,10.153703689575195,6.841254711151123,5.93966817855835,7.095426559448242,8.452811241149902,8.701093673706055,6.990288257598877,8.725545883178711,5.412858009338379,7.569608688354492,8.441157341003418,8.847301483154297,7.885306358337402,7.403116226196289,10.15277099609375,5.462352275848389,6.264206886291504,8.362324714660645,5.922543525695801,10.45062255859375,10.269906044006348,6.002258777618408,6.7685627937316895,9.159258842468262,8.5208158493042,8.7653226852417,9.827834129333496,6.855434417724609,8.291136741638184,5.287954330444336,6.9098687171936035,7.323407173156738,10.293599128723145,10.12559986114502,6.72724723815918,6.95426082611084,6.096004962921143,8.736509323120117,5.477554798126221,6.306625843048096,5.47107458114624,6.829721927642822,10.382452964782715,6.47273588180542,6.593595027923584,8.736573219299316,6.989858150482178,6.980360984802246,8.751853942871094,7.980250835418701,8.683259010314941,5.612882614135742,9.243661880493164,5.444684028625488,6.560130596160889,9.127717971801758,8.893665313720703,6.620002269744873,9.382575988769531,8.18945026397705,8.78310775756836,5.888086795806885,8.56255054473877,7.698777675628662],\"y\":[-1.97098970413208,-2.1897246837615967,-1.52114999294281,-2.188624382019043,-2.8472280502319336,-2.281632661819458,-2.3984322547912598,-2.0026283264160156,-1.0820432901382446,-2.6984188556671143,-2.7329132556915283,-4.232271194458008,-3.3591978549957275,-3.253753900527954,-0.827634334564209,-2.563117504119873,-4.415858745574951,-0.4804410934448242,-0.4237864315509796,-3.994941473007202,-2.9037046432495117,-2.408849000930786,-2.885519027709961,-2.226808786392212,-1.9494832754135132,-2.6269705295562744,-2.736529588699341,-2.2031521797180176,-2.4321517944335938,-1.9045709371566772,-2.2539548873901367,-1.5197337865829468,-3.3191022872924805,-3.4718449115753174,-2.527780532836914,-2.462528944015503,-2.160032033920288,-1.050726056098938,-1.5545798540115356,-1.4444046020507812,-2.550598621368408,-1.4562100172042847,-3.322275400161743,-0.7411834597587585,-1.5097652673721313,-0.413606733083725,-1.6097002029418945,-3.1523828506469727,-2.393515110015869,-2.1436257362365723,-3.3556969165802,-3.9243054389953613,-2.5371038913726807,-2.167977809906006,-1.5124118328094482,-3.2460036277770996,-1.9910651445388794,-1.6422520875930786,-2.7105565071105957,-1.467321753501892,-2.2812352180480957,-2.7457146644592285,-2.6921916007995605,-2.708481788635254,-2.3814663887023926,-3.056497573852539,-4.256688117980957,-3.179887533187866,-1.4780412912368774,-2.3756210803985596,-2.226552724838257,-2.4471447467803955,-1.388419508934021,-1.5955185890197754,-0.3465709686279297,-2.1609878540039062,-3.5193581581115723,-0.4163718521595001,-2.2276926040649414,-3.182187557220459,-2.468811511993408,-2.6578567028045654,-3.283721446990967,-2.463927984237671,-2.7681994438171387,-2.0899243354797363,-3.400738477706909,-3.7886548042297363,-2.379405975341797,-1.5615594387054443,-3.2431039810180664,-1.6213068962097168,-2.3389854431152344,-1.6173771619796753,-4.215567111968994,-3.5709598064422607,-1.956791639328003,-1.5319247245788574,-2.306382894515991,-4.4455156326293945,-0.4107629656791687,-3.096402406692505,-0.41038477420806885,-1.5752884149551392,-3.4072329998016357,-1.1021473407745361,-3.0724570751190186,-2.493821144104004,-1.5028597116470337,-1.094986081123352,-2.888456106185913,-2.8537235260009766,-1.4976540803909302,-2.1417455673217773,-3.9050629138946533,-2.2687692642211914,-2.1506881713867188,-3.7758820056915283,-0.6349859833717346,-1.5235743522644043,-2.6140992641448975,-3.441066265106201,-2.4514172077178955,-1.2692054510116577,-2.226043939590454,-2.3323261737823486],\"type\":\"scattergl\"},{\"hoverinfo\":\"text\",\"hovertext\":[\"last time tuesday office across ankara maltepe mosque fnf plate mazd\",\"clash bombardment continue isa\",\"erdogan chemistry deteriorates opposition asks money treasury\",\"wonder face annul istanbul convention red note crime amnesty twice july\",\"president erdo unveiled economic reform package aim boost investment production job export htt\",\"may size groom fall head fix money coin treasury nation central bank\",\"bazaar sunday fire real food inflation\",\"turkish occupation built another military base near road west ayn isa district\",\"venezuelan economy shatter maduro become president three quarter national income disappear country e\",\"kobane\",\"another kurdish journalist detain morning raid free mehmet aslan twitterstorm hashtag mehmet aslan gazetecidir htt\",\"protest force capitalist modernity try reshape middle east kurdistan accord interest\",\"someone work intensively raise awareness one aspect many atrocity take place turkish oc\",\"like meddling business well write please call ht\",\"thousand child sexually abuse last year turkey\",\"erdogan explain mentality tell bilal\",\"turkish state gang related want get closer village mihelq belonging eyn isa road ypj q\",\"commend bravery sacrifice iraqi security force iraqi kurdish peshmerga syrian democrati\",\"msd call arab state stand turkish state\",\"far deforestation visible furqat al hamza training montage film km west afrin city near gund mez\",\"afrin leader syrian opposition steal people tiraqtura\",\"western people liberation organization reveal war crime turkish state army afrin\",\"call take action turkish fascist state launch new invasion gare occupy southern kurdistan ta\",\"many cent bank turkey turkey control turkish\",\"announcement share product workshop ruble kurdish hope help\",\"le kilometer away kobane isi fighter find safe refuge among rank syrian national army pr\",\"kobani victory put life price\",\"city council member ekrem yal n hdp arrest northern kurdish city n\",\"estado espa ol message solidarity hdp continue arrive face threat outlaw turkey htt\",\"nato eu usa ten thousand people gather city diyarbak r southeast turkey sunday celebrate\",\"dear youth give devote brave great martyr people kurdistan dear young people youth\",\"anf twitter account block turkey follower turkey northern kurdistan\",\"security camera footage place russia hit yesterday\",\"pkk hand kurdish blood\",\"explain reform package result change change result\",\"sohr anniversary turkish control region nowruz approach turkish intelligence order proxy faction\",\"another kidnapping case news former prime ministry rapporteur day\",\"member isi cell responsible assassination kidnapping plant ie propaganda arrest raqqa ci\",\"islamic state isi conquer syria iraq muslim brotherhood overthrown egypt tu\",\"kurdish association member criminalize ever france victim sneaky repression carry\",\"aldar khalil state necessary change constitution syria order ensure right syrian h\",\"groove double name newly publish book december july axis community center turkey agenda ho\",\"good start try understand hizmet gulen people forget ignore value base community\",\"goal unite kurdish part build independent kurdistan mustefa berzan\",\"civil market closing erdo halkbank ziraat two big headache collapse favorite businessmen feb\",\"turkey kurdish school million kurd live open plenty turkish school turk exists pkk\",\"rather stop watch injustice turkey\",\"first bomb year come house k kl video turkey trend place queue thank interest\",\"russia millstone tc damascus work\",\"sdf commander signal visit biden team washington commander kurdish lead syrian democratic force sdf\",\"huge crowd newroz square diyarbakir million people gather today north kurdis\",\"oil depot turkish gang jarablus shot reconnaissance plane unknown nationality\",\"contract make least two party international ankara agreement announce prepared turkey\",\"stone market jarablus bab target missile damascus government force russian force fire missile market\",\"stop genocide yazidis crush islamic state syria stand democracy socialis\",\"etimesgut terror branch call testify let see\",\"kurdish youth stuttgart germany held demonstration abdullah calan demand kurdish hero abdullah\",\"fact akp brother porsche bmw take powder sugar instead cocaine show magnitude economic crisis\",\"hpg hot clash siyan area still continue conflict developed initiative force field many\",\"akp mean kurdish massacre akp mean fascism unemployment humanity democracy everything else name human right\",\"video excerpt newroz celebration raqqa\",\"kurdish cultural movement tev publish new clip sixty\",\"make rabia symbol erdogan return brotherhood turkey make peace sisi ga\",\"look istanbul airport attack isi chose international airport tourist rather domest\",\"important letter eu state usa administration ask delist pkk black list\",\"turkey first space experience gare bimre xiyaneta pdk\",\"get believe bare search turkey thing already look subject interior\",\"throughout humanitarian security operation sdf asayish ensure vital service continue al ho\",\"kck call mobilisation kurdish people friend protest genocidal attack agains\",\"sancar international community recognize atrocity halabja genocide sancar say international community must recognize halabja\",\"head koye gar occupy turkish army severely damage newroz festival stop\",\"belief committee engal tribal leader work resist zid invasion attack invade turkish state\",\"karayilan place kurd th century\",\"satisfied crisis supporter billion dollar tender\",\"turkey vigil justice launch hdp mer faruk gergerlio lu strip e\",\"decrease euphrates water put tishrin dam danger\",\"bimre xiyaneta pdk process developrime ministerents continue like maybe operation turkish republic extremely effective kdp\",\"turkey brutal jihadist mercenary abduct young disabled woman afrin crime could possibly commit\",\"two month preparation artist collective northern kurdistan finish song pkk accompany video\",\"sand cover snow winter storm saudi arabia create stun display tabuk region h\",\"accord local source elderly civilian name mihemed mihemed mustefa abduct turkish back jihadist\",\"kemal kurkut\",\"artist friend one important performer kurdish music treat corona virus health status\",\"hewl airport close missile attack erbil province capital south kurdistan close airport\",\"free kurdish activist\",\"central bank interest rate caliph ummah\",\"paris stand afrinparis saturday march kurd friend demonstrate paris turkish invasion\",\"big crisis suez canal giant ship close canal traffic jammed\",\"year ago today kurdish civilian trap three basement burn alive death inhuman barbaric\",\"always heard rothschild family rockefeller family amp subject behind action\",\"context gross appal violation human right russia canadian department international affair decide yesterday wednesday impose\",\"happen say erdogan attack prisoner gare say would happen akp attac\",\"go include part state department arm train jihadist group terrorize w\",\"another important reason appoint trustee bo azi university collapse land view bosphorus turn income\",\"former tsk commando turkish army want kill capture soldier\",\"turkey wife defend abusive husband face life prison turkey\",\"stop attack engal bangawazi iraqi prime minister mustafa kazimi turkish state kdp sign order liquidate shengal h\",\"last minute military land siyane want land bergare area tc gare hit\",\"believe organize july coup attempt country erdogan\",\"kdp hand kurdish politician turkish state blindfold blindfold alternative link\",\"kurd come kemalists come rest let make turkey livable da\",\"million stand kurdistan soylu\",\"expect nothing still disappointed kdp continuously collaborate turkish invader gt\",\"aim turkish republic save captive soldier could silently diplomacy pretentious air attack gare\",\"funny yaw man head turkish army reading paper perhaps know much write\",\"turkey purge hdp kurd interview outspoken human right defender omer faruk gergerlioglu sentence\",\"ask peshmerge becomes kurdistan peshmerge turk\",\"life young man shot turkish soldier van danger ali nameto shot turkish soldier van\",\"security force participate humanity security campaign end operation within first sector concerned iraqi refugee\",\"urgent continuation humanitarian security operation internal security force conduct inspection search operation\",\"amal hussein omar kidnap hamza division group know target woman august\",\"internal security force caught isi gang part clean operation launch internal security force hesek\",\"occupy turkish army ban newroz fire south kurdistan\",\"yezidi people shengal reach express concern situation yezidi mp human\",\"clear eu make deal turkey stop expansionist policy eastern mediterranean amp libya amp\",\"nothing surprise anymore turkey withdrawn call istanbul convention ban violence woman\",\"high level contact riyadh doha minister foreign affair qatar saudi representative met doha\",\"another dark day democracy turkey strong human right defender member pro kurdish hdp gergerlio\",\"msd arab state take action policy turkish state\",\"deutschlandfunk one important radio german state interviewed victim witch hunt turkey\",\"devshirme turkism dev sol devshirme turk devyol revolution\",\"something like get much attention turkey make another attempt tonight\",\"opinion e memorandum operation polish erdo make one man erdogan open alliance status quo\",\"jaish al islam amp image violent internal conflict brigade\",\"turkish society really interest mafia bos reveal empty treasure paid everyone\",\"erdogan acolyte detach significant part society reality follow audience medium hypnosis\",\"also involve smuggle isi leader whose faction ahrar al sharqiya part abu hatem move freely btw tur\",\"march kobane father brother deport turkey police attack workplace\",\"turkey ready move case russian withdrawal manoeuvre happen context recent tension\",\"kurd take statement seriously share want break strong stance kurdish people invader\",\"kurd demand justice year murder kurdish activist paris paris le j\",\"letter sent american congressman u secretary state antony blinken explain dictatorship turkey\",\"hocaefendi message broadcast greek tv oppress victim take refuge without discriminate anyone\",\"turkey hdp back president erdogan sight turkey bakur defeat\",null],\"marker\":{\"opacity\":0.5,\"size\":5},\"mode\":\"markers+text\",\"name\":\"0_turkey_turkish_kurdish\",\"text\":[\"\",\"\",\"\",\"\",\"\",\"\",\"\",\"\",\"\",\"\",\"\",\"\",\"\",\"\",\"\",\"\",\"\",\"\",\"\",\"\",\"\",\"\",\"\",\"\",\"\",\"\",\"\",\"\",\"\",\"\",\"\",\"\",\"\",\"\",\"\",\"\",\"\",\"\",\"\",\"\",\"\",\"\",\"\",\"\",\"\",\"\",\"\",\"\",\"\",\"\",\"\",\"\",\"\",\"\",\"\",\"\",\"\",\"\",\"\",\"\",\"\",\"\",\"\",\"\",\"\",\"\",\"\",\"\",\"\",\"\",\"\",\"\",\"\",\"\",\"\",\"\",\"\",\"\",\"\",\"\",\"\",\"\",\"\",\"\",\"\",\"\",\"\",\"\",\"\",\"\",\"\",\"\",\"\",\"\",\"\",\"\",\"\",\"\",\"\",\"\",\"\",\"\",\"\",\"\",\"\",\"\",\"\",\"\",\"\",\"\",\"\",\"\",\"\",\"\",\"\",\"\",\"\",\"\",\"\",\"\",\"\",\"\",\"\",\"\",\"\",\"\",\"\",\"\",\"\",\"\",\"\",\"\",\"\",\"\",\"0_turkey_turkish_kurdish\"],\"textfont\":{\"size\":12},\"x\":[10.206076622009277,11.404022216796875,10.048688888549805,10.085225105285645,9.780405044555664,10.030193328857422,9.654921531677246,10.897092819213867,9.634974479675293,8.937638282775879,9.635917663574219,9.610854148864746,10.460898399353027,10.083135604858398,10.294723510742188,10.038561820983887,10.641777992248535,11.011395454406738,10.606578826904297,11.012482643127441,10.943304061889648,10.560649871826172,9.969218254089355,10.293304443359375,9.159008979797363,11.253793716430664,8.854046821594238,9.589507102966309,9.626104354858398,9.556177139282227,8.795818328857422,10.004923820495605,10.74259090423584,9.544830322265625,9.696282386779785,10.579405784606934,10.706497192382812,10.8103609085083,10.469555854797363,9.657109260559082,10.636893272399902,9.44808578491211,10.087647438049316,9.356229782104492,9.906704902648926,9.406758308410645,9.597082138061523,9.715840339660645,10.937137603759766,11.048511505126953,9.427474975585938,10.748549461364746,10.218451499938965,10.99059009552002,10.616144180297852,10.641106605529785,9.44657039642334,9.560979843139648,11.406397819519043,9.400097846984863,8.925704002380371,9.022862434387207,10.39210319519043,10.744747161865234,10.410178184509277,9.558819770812988,9.811959266662598,11.311474800109863,9.716835021972656,10.453124046325684,10.037066459655762,10.357637405395508,9.136470794677734,9.732486724853516,9.560924530029297,10.979204177856445,9.693870544433594,10.498008728027344,8.987796783447266,10.990127563476562,10.588446617126465,9.20468807220459,8.974713325500488,10.85529613494873,9.400785446166992,9.991002082824707,9.790840148925781,10.856613159179688,9.429095268249512,10.17066478729248,10.327531814575195,9.987244606018066,10.980958938598633,9.853291511535645,10.712093353271484,9.930646896362305,10.24411392211914,11.035683631896973,9.975078582763672,9.562801361083984,9.574756622314453,9.063352584838867,9.791975975036621,10.567623138427734,10.502352714538574,9.925943374633789,9.269903182983398,10.673924446105957,11.243303298950195,11.346540451049805,10.752544403076172,11.338717460632324,9.975301742553711,10.581503868103027,10.429179191589355,10.065413475036621,10.775786399841309,9.52136516571045,10.559173583984375,10.150544166564941,9.19937801361084,9.694371223449707,10.237595558166504,11.029855728149414,10.393070220947266,10.007661819458008,11.043374061584473,9.971782684326172,9.897453308105469,9.795309066772461,9.496773719787598,10.418989181518555,10.022029876708984,9.833999633789062,10.125590324401855],\"y\":[-2.6453065872192383,-3.8115005493164062,-3.811112880706787,-2.9366583824157715,-3.749831438064575,-2.342000961303711,-2.6056225299835205,-2.888401985168457,-2.834057092666626,-4.313336372375488,-4.61154317855835,-4.496854782104492,-3.016136407852173,-2.204669237136841,-2.874919891357422,-3.7523295879364014,-2.7305078506469727,-4.1179094314575195,-4.191014766693115,-2.9853429794311523,-3.3465237617492676,-3.0083274841308594,-4.419402599334717,-2.441676378250122,-4.067913055419922,-3.9389488697052,-4.322985649108887,-4.701609134674072,-3.3675708770751953,-4.050934791564941,-4.489650249481201,-4.499863624572754,-3.035579204559326,-4.408314228057861,-3.673945903778076,-3.504861831665039,-2.5539588928222656,-2.63761043548584,-4.289103984832764,-4.7306389808654785,-4.1979475021362305,-3.741802453994751,-3.698951482772827,-4.594961643218994,-2.6077308654785156,-4.131222724914551,-3.106961965560913,-3.3621487617492676,-3.2290704250335693,-4.081414222717285,-4.323733329772949,-3.0871102809906006,-3.739668130874634,-3.1728334426879883,-4.2385687828063965,-3.395284414291382,-4.731296539306641,-2.7696683406829834,-3.785980701446533,-3.8088865280151367,-4.725393772125244,-4.717551231384277,-4.259800910949707,-2.9398539066314697,-3.9601407051086426,-3.6216962337493896,-3.202955961227417,-3.9127142429351807,-4.549793720245361,-2.92832088470459,-4.407987594604492,-4.232931613922119,-4.3279314041137695,-2.399256467819214,-3.1997439861297607,-3.1799256801605225,-3.7554049491882324,-2.824902057647705,-4.69521951675415,-3.0912623405456543,-2.7394518852233887,-4.251101970672607,-4.700290679931641,-3.033172369003296,-4.664728164672852,-2.313817262649536,-4.597929954528809,-3.25260329246521,-4.574450969696045,-2.348543643951416,-2.9923367500305176,-3.805410623550415,-3.592970848083496,-2.0839273929595947,-3.2950022220611572,-3.1244425773620605,-4.034097671508789,-3.0728695392608643,-3.8803553581237793,-4.378208637237549,-4.186813831329346,-4.2249298095703125,-3.882331132888794,-3.5528411865234375,-3.549186944961548,-3.226926565170288,-4.112392902374268,-3.1806626319885254,-3.959575653076172,-3.8456413745880127,-2.5742411613464355,-3.784196615219116,-4.486184597015381,-4.278222560882568,-4.242269992828369,-3.049975872039795,-4.089097499847412,-3.839121103286743,-4.16393518447876,-2.9180262088775635,-3.851738214492798,-3.5006473064422607,-4.136742115020752,-3.7813403606414795,-2.492293357849121,-3.732602119445801,-3.527177333831787,-3.0925323963165283,-3.767857789993286,-4.458747863769531,-4.7864556312561035,-4.051973819732666,-2.939971923828125,-3.6726603507995605,-3.6479218006134033],\"type\":\"scattergl\"},{\"hoverinfo\":\"text\",\"hovertext\":[\"anliurfa sister suddenly left without mother pandemic period hatice b give birth child time\",\"together mother demand justice mother take custody question murderer state hospital\",\"defense individual service indicates participation crime statute limitation term law\",\"stop attack engal\",\"want see death prison raise social reaction\",\"zlem zengin say exist naked search prison come parliamentary report\",\"dissent erbil court decision continue click\",\"b fly denver honolulu engine fire via usa\",\"kid sick need mother many innocent people like persecution news channel\",\"detain attack u thousand student today attack enemy look\",\"painful exemplary person curse lament one meri\",\"decision like powder sugar court\",\"warn ttb application acceptable asagi bakmayacagiz ttb\",\"could would burn world would wash world single tear eye fatma aslan hafsaya kavu su\",\"mother martyr viyan soran sulaymaniyah sacrifice year ago tell u daughter\",\"ward die keeler constantly make suffer use son right try clear name h\",\"judge prosecutor must mass cocaine party verdict\",\"time young dear friend burn still young sometimes\",\"veli yildizo involve accident pilemuriye dersim shot claim member organization\",\"either young girl may murder whatever go take life cover accident\",\"teacher halil im ek walk hereafter brother exact namesake also pas away since last name\",\"sir series far follow article everyone responsible office end\",\"brother lie balikesir burhaniye year release play supreme court although sentence due today\",\"saray party juvenile partner state medium cope deputy try silence imprison\",\"let let another child die plain sight\",\"nursena k k zyi father disappear december wait day say would come u december\",\"boy name hakan leukemia condition deteriorate parent prison bogus reason\",\"hpg make write statement regard attack gare\",\"end torture hate custody\",\"become death house prison life end prison\",\"far many reader ask wife pray receive complaint man sent email recently\",\"attack defense continue judge interrogate accompany arm police lawyer take hall police present\",\"painful sad story mohamad aziz halabjayi living reminder devastate effect mustard\",\"miss eleftheria thank friend trouble\",\"january mark sixteenth anniversary death oury jalloh dessau police cell independent appraisal l\",\"saturday mother th week protest torture murder take custody 2012\",\"nice useful article veysel ayhan wear service course afraid people\",\"mustafa kabak lu kept solitary cell daily quarantine process desperation speak anyone\",\"co chairman kck executive council cemil bayik evaluate detail step dem dema azadi say prisoner help\",\"one beating ex wife death samsun vile creature rap kill woman age manisa\",\"end surprising law friend\",\"child small year old left motherless fatherless age little body defenseless\",\"today watch movie netflix police wait woman give birth door woman give birth woman baby\",\"mother long son son mother many pain experience unable even describe\",\"fikret kaplan bediuzzaman last journey\",\"small fix place ship sank would ile silivri must result reside silivri year\",\"lazaro baez case overflow political interference\",\"first hearing case brought person saturday mother held\",\"lord bless friday night beg help innocent wrongfully imprison especially sick old\",\"fatma ift khk mother child fatma teacher receive treatment advanced breast cancer due oxygen\",\"dear friend woman prison start platform upon request receive\",\"dear silent atrocity listen cry baby lose life meri age\",\"remembrance idea bogazici direniyor\",\"world famous hacker group continue ask erdo real upset u human murat din\",\"think afraid pity child kill one day set fire name nurefsan\",\"one person wrong without look identity person gergerlio lu people deputy\",\"time selahattin demirta free leave\",\"selahattin sentence year month prison today word\",\"leave grieve mother martyr child alone even son grave use political interest\",\"fi kret kaplan let master take initiative\",\"miktad must release treatment sick detainee must access treatment right scream cell miktad dogan\",\"let introduce suat faik friend fire court decide reemploy american company destroyed\",\"good news even ertu rul kuzan kand ra prison go see daughter intensive care brain cancer\",\"risale nur lesson fruit treatise write excellency master bediuzzaman denizli prison issue\",\"mathematics teacher detain hour give birth son mehmet ekrem later release\",\"commentary court decision assassination case andrey karlov\",\"want innocent old people live difficult condition pain suffer die prison corner\",\"ignorant black eyed tear deaf blind good night\",\"structure unjust baseless attack outside\",\"two day ago saw ex colleague work together office year pas without say hello\",\"howitzer fire wedding hall hodeida woman die alternative link\",\"mr ekrem make self criticism first service mr ekrem let face\",\"evacuation coffin\",\"okay guy bud caught powder sugar completely ridiculous say let save day forget\",\"zg r g ndem main trial four person sentence prison ebnem korur fincanc fin tl newspaper arrest van\",\"person include terrorist calan life declare bo azi university student terrorist\",null],\"marker\":{\"opacity\":0.5,\"size\":5},\"mode\":\"markers+text\",\"name\":\"1_mother_prison_son\",\"text\":[\"\",\"\",\"\",\"\",\"\",\"\",\"\",\"\",\"\",\"\",\"\",\"\",\"\",\"\",\"\",\"\",\"\",\"\",\"\",\"\",\"\",\"\",\"\",\"\",\"\",\"\",\"\",\"\",\"\",\"\",\"\",\"\",\"\",\"\",\"\",\"\",\"\",\"\",\"\",\"\",\"\",\"\",\"\",\"\",\"\",\"\",\"\",\"\",\"\",\"\",\"\",\"\",\"\",\"\",\"\",\"\",\"\",\"\",\"\",\"\",\"\",\"\",\"\",\"\",\"\",\"\",\"\",\"\",\"\",\"\",\"\",\"\",\"\",\"\",\"\",\"\",\"1_mother_prison_son\"],\"textfont\":{\"size\":12},\"x\":[7.77817964553833,7.968538761138916,8.956503868103027,9.27606201171875,8.714014053344727,9.517797470092773,10.017509460449219,8.807783126831055,7.8598456382751465,9.392828941345215,6.502710342407227,9.937191009521484,9.029399871826172,7.197274208068848,7.767430305480957,7.505902290344238,9.857453346252441,6.98596715927124,8.619281768798828,8.157014846801758,7.66231632232666,8.658866882324219,8.957613945007324,8.707866668701172,7.834869384765625,7.492879867553711,8.569761276245117,9.175503730773926,8.67073917388916,8.716434478759766,7.347041130065918,9.059415817260742,7.990316867828369,6.704768657684326,8.433720588684082,8.148441314697266,8.763392448425293,8.697503089904785,8.754769325256348,7.221372127532959,8.887101173400879,7.824059963226318,7.890324592590332,7.725222110748291,8.650084495544434,8.440945625305176,10.073643684387207,8.115663528442383,8.646777153015137,8.388836860656738,8.783489227294922,6.5241875648498535,8.270654678344727,7.131136417388916,7.3315582275390625,7.591624736785889,8.970159530639648,8.9705171585083,7.823614597320557,8.710838317871094,8.66759204864502,8.82697868347168,8.494603157043457,8.790207862854004,7.974904537200928,10.048195838928223,8.715714454650879,6.30180025100708,9.141799926757812,7.669571876525879,8.376188278198242,8.720870971679688,8.365411758422852,9.898096084594727,8.938299179077148,9.456056594848633,8.40201473236084],\"y\":[-0.3257387578487396,-0.14216797053813934,-0.7572529315948486,-1.110351324081421,-0.28671225905418396,-1.9426040649414062,-1.4774376153945923,-1.0838974714279175,-0.21649202704429626,-1.424745798110962,-3.585801601409912,-1.2559818029403687,-1.5261591672897339,-0.8610648512840271,-0.40338754653930664,-0.6518325209617615,-1.1997179985046387,-0.9102693796157837,-1.1376124620437622,-0.3300754725933075,-0.8956380486488342,-1.6932317018508911,-0.8982591032981873,-0.6121155023574829,-0.25109294056892395,-0.6303582787513733,-0.49982786178588867,-0.930073618888855,-0.24330288171768188,-0.2876245379447937,-1.1024142503738403,-0.9180943965911865,-1.3638572692871094,-3.6862711906433105,-1.290003776550293,-0.16893064975738525,-1.6643623113632202,-0.8475263714790344,-1.4839787483215332,-0.7837832570075989,-0.7297255992889404,-0.2610017955303192,-0.2852782905101776,-0.33504587411880493,-1.3602509498596191,-1.1710244417190552,-1.4431917667388916,-0.182284876704216,-0.36315780878067017,-0.5048166513442993,-0.5023135542869568,-3.4265341758728027,-1.2787017822265625,-1.2230125665664673,-0.5682545304298401,-1.02898371219635,-0.8089349269866943,-0.8611717820167542,-0.2425910085439682,-1.5433083772659302,-0.5276896953582764,-0.9889918565750122,-0.4941611588001251,-1.0900033712387085,-0.7021620869636536,-1.4805690050125122,-0.3177177608013153,-3.3202590942382812,-0.9028458595275879,-0.9781510233879089,-1.2078216075897217,-1.5890960693359375,-1.174429178237915,-1.2192811965942383,-1.25851571559906,-1.5351996421813965,-1.0235071182250977],\"type\":\"scattergl\"},{\"hoverinfo\":\"text\",\"hovertext\":[\"day day start hate country nothing bind country iota goodness conscience moral\",\"allow pray wear clothes happen moment\",\"go moon gunpowder run grows lie bread break moon eat home mask distance end hygiene\",\"brother ismail sent brother eternal realm month ago yesterday brother lord bless forever paradise\",\"say year hour people crack allah c c may oppressor punish nice friday\",\"yezid work year kept headscarf religious discourse mouth gergerlio lu washroom morning prayer\",\"lord test country beautiful people nation help\",\"morale peace happiness joy effective medicine cancer treatment hakan sick release parent\",\"allah take oppress hand oppressor amen take dirty bloody hand oppressor oppress\",\"great article one right tarnish work people one right cast doubt people mind\",\"may god give wisdom\",\"fracture test berat night\",\"may lord grant heal sake name hope teacher\",\"call fascist persecute people cover terror herkes mi ter rist\",\"spirit sincerity action\",\"congratulate friend soul oppress warmth nowruz fire\",\"islam even humanity pas\",\"teacher halil im ek devote life service faith koran walk horizon soul lord mercy forgiveness majesty\",\"masha allah\",\"william david crew equal god born everyone equal right include mr calanda\",\"dear year defend right everyone wrong without discrimination defend human right\",\"great conversation good friend human right justice thank friendship amp\",\"one thing pleased help allah imminent victory give good news believer saff\",\"true student wisdom koran abd however deign worship great creature\",\"spring come awaken sheep\",\"fascist monist mentality target oppress people year however persecution also support resistance\",\"mathematics overcome fear mathematics solution get rid anxiety turn life torment\",\"enjoy cup coffee community genocide commit pas speech top say pure bullshit\",\"oppression always omar shout truth truth gergerlioglu susmaz\",\"father representative people touch injustice injustice happen u\",\"congratulate friend three month free disease trouble calamity obey health health well\",\"forgive afraid swallow chase money think nation freedom think nation freedom put colonialist\",\"amin inshallah aminnn\",\"hope live pain shame institute die living shame amin academic decree law\",\"wisdom purpose send man world know h l k kainat believe worship bsn\",\"hey like muslim equilvalent love food joking sometimes together would love break\",\"worship perform sincerely sincerely time observe pillar\",\"difficult goal person reach standard intention face qu allah regard\",\"equal brother ummah always indicator\",\"ask honor honor dignity honor honor dignity believe ashamed oh politics\",\"uploaded valentine day everyday sun love poetry story immortal water zz\",\"hope hope heart longing good day good news\",\"sense hypocrisy thought believer fethullah g len hocaefendi\",\"k e r u side persecution hodja afraid quietb osm\",\"defender truth right fight violation right suffer segment society\",\"eat drink give alms dress arrogant waste undoubtedly blessing allah c c\",\"today fruitful day spring come cleaning begin\",\"fit islam site question word pity dilute use bylock real evidence crime\",\"god bless may god turn plan god forbid oppressor\",\"way abduct people allah unbeliever harmful islam mfg\",\"great responsibility deal wrong perception wish psychological run\",\"truly love creator look every human sincerely heartbroken accept people communist\",\"provision superior taqwa virtue well silence enemy harmful ignorance great lie\",\"follow advice imam rabbani accepted master make tawhid qibla master practice tawhid\",\"last discussion body react heat work defense system vitality sign life well manage\",\"sake lofty goal trouble walk horizon win sea drop see fate road\",\"test wealth test absence test illness test health\",\"construction must stop shame must prevent\",\"stand need serious vigilance heart mfg\",\"write mer faruk gergerlio lu read nobility seriousness determination perseverance struggle fairness justice\",\"see right right follow see wrong wrong avoid bless god\",\"confidence deed pride people receive allah love mfg\",\"wicked religious bastard say say faith disastrous say without believe much disastrous\",\"levent g lteki n attack fist door halk tv get well soon\",\"issue dignity steal massacre amp enslavement dignity undermined\",null],\"marker\":{\"opacity\":0.5,\"size\":5},\"mode\":\"markers+text\",\"name\":\"2_allah_right_test\",\"text\":[\"\",\"\",\"\",\"\",\"\",\"\",\"\",\"\",\"\",\"\",\"\",\"\",\"\",\"\",\"\",\"\",\"\",\"\",\"\",\"\",\"\",\"\",\"\",\"\",\"\",\"\",\"\",\"\",\"\",\"\",\"\",\"\",\"\",\"\",\"\",\"\",\"\",\"\",\"\",\"\",\"\",\"\",\"\",\"\",\"\",\"\",\"\",\"\",\"\",\"\",\"\",\"\",\"\",\"\",\"\",\"\",\"\",\"\",\"\",\"\",\"\",\"\",\"\",\"\",\"\",\"2_allah_right_test\"],\"textfont\":{\"size\":12},\"x\":[5.946000576019287,4.944650650024414,5.1150221824646,5.1939215660095215,5.533400058746338,5.005615711212158,6.212618350982666,5.243122577667236,5.493968963623047,5.579492092132568,5.025362014770508,5.84889030456543,5.313344478607178,6.384947776794434,4.978464126586914,5.191596031188965,5.435522556304932,5.073447227478027,5.335602283477783,5.876432418823242,5.978919506072998,6.074669361114502,5.329738140106201,5.0325398445129395,5.226586818695068,6.384143352508545,5.490642547607422,6.306199073791504,6.211162090301514,6.009361743927002,5.302284240722656,6.003840923309326,5.31405782699585,5.614602088928223,5.09906530380249,5.366171836853027,4.938762664794922,5.210784435272217,5.289342403411865,5.665440082550049,5.230444431304932,5.262114524841309,5.437910079956055,6.555746078491211,5.9975690841674805,5.187903881072998,5.239266872406006,5.398684501647949,5.962320804595947,5.492051601409912,5.127752780914307,5.743782043457031,5.132049560546875,4.923464298248291,5.506287574768066,5.046858310699463,5.618496894836426,5.4783101081848145,5.846307754516602,5.149684429168701,5.037472248077393,5.228360176086426,5.345612525939941,5.793211936950684,5.876128673553467,5.4953460693359375],\"y\":[-3.4763412475585938,-2.477811336517334,-1.8405802249908447,-2.4646902084350586,-3.195784568786621,-2.269784927368164,-3.299872636795044,-1.5462311506271362,-3.193981885910034,-2.6741628646850586,-2.2667980194091797,-1.644529104232788,-1.792008399963379,-3.1821439266204834,-2.457764148712158,-1.5490896701812744,-3.1366145610809326,-2.100898265838623,-2.868281364440918,-3.1401655673980713,-3.01039457321167,-3.0440053939819336,-2.8139889240264893,-2.288334846496582,-1.656270980834961,-3.196171998977661,-1.728896141052246,-3.2338154315948486,-3.1990222930908203,-3.0385520458221436,-1.4780712127685547,-3.420664072036743,-2.7869749069213867,-2.0382425785064697,-2.271074056625366,-3.039827823638916,-2.407790184020996,-2.5987329483032227,-2.6566600799560547,-2.3658652305603027,-1.472450852394104,-1.5030969381332397,-2.724398374557495,-3.2357723712921143,-2.9893128871917725,-2.7388548851013184,-1.647412896156311,-3.1184487342834473,-3.3089451789855957,-3.1996500492095947,-2.4787704944610596,-3.188859462738037,-2.246964693069458,-2.39194655418396,-1.6950315237045288,-1.9343031644821167,-1.6994025707244873,-2.231976270675659,-1.6107642650604248,-2.0402894020080566,-2.254887819290161,-2.5826833248138428,-2.725417137145996,-1.71326744556427,-2.6961476802825928,-2.496614694595337],\"type\":\"scattergl\"},{\"hoverinfo\":\"text\",\"hovertext\":[\"travel leadership library oldenburg alternative link\",\"reber calan mobile library promotion event stockholm sweden\",\"time martyr fall like star heart night country guerrilla kurdistan either lead die\",\"thank god c c martyr lose bitlist wish patience family\",\"january publication revolution communism martyr commemorate youtube channel name remember immortal january\",\"special file ehba liberation afrin resistance struggle continue strong\",\"nder apo diyorki people war without people guerrilla war without people\",\"headline fought cowardly ran away use gas fought cowardly resort dirty rule day\",\"today remember comrade ehid leger n iya alina nchez argentina martyr year ago work\",\"february action young people internationalist alternative link day\",\"call lowly pro medium provoke youth bosphorus yesterday fun snow martyr photo\",\"resistance herald victory struggle overthrow fascist state resistance fragment area\",\"tkp ml central committee remember respect immortalize revolution keep promise\",\"lieutet colonel name nihat altintop\",\"series scene show take place paris find architecture like paris pek university usurped\",\"rally held downtown magdeburg occasion year political hostage imprisonment imrali accompany\",\"banner invasion flag hang might police soldier\",\"paris amsterdam vienna rome athens toronto brussels marseille zurih stocholm copenhagen helsinki oslo berlin cologne dortmunt fr\",\"derya devrim rman martyr guerrilla dersim demet taner martyr city happy march htt\",\"community let part sign petition call necessary proper action save\",\"thousand demonstrate sunday haitian capital port au prince say government try establish new di\",\"call people meiro begin occupation massacre afrin activity social network hashtag\",\"january invite meet gare du nord h demand justice say stop impunity\",\"agenda girl bosphorus\",\"voice hunger strike fcdk kawa federation start work send thousand letter un freedom reber apo\",\"defend bosphorus crime torture crime\",\"today first sunday lent feast orthodoxy commemorates restoration icon final defeat iconocl\",\"tkp ml kkb organize struggle bring end fascism party exploitation\",\"write worldwide virtual protest organize ast sunday march\",\"martyr write shame play patriotism without mention name russia martyr mehmet\",\"letter sent un duisburg alternative link\",\"know german think anything learn german french free\",\"still go anywhere\",\"football player club newcastle united fc transfer professional football player de andre roselle yedlin club\",\"thousand start newroz march front hbf hannover 1\",\"come enough plucked people nothing july commit crime honorable uniform love much\",\"struggle dimitris well put life line last minute comrade struggle str\",\"hunger strike makhmur continue group click\",\"left behind timeless year usurped newspaper say continue struggle long hold pen relentlessly\",\"internationalist youth action end rally freiburg alternative link\",\"support bosphorus switzerland alternative link\",\"around world action week creatively show achievement rojava revolution must defend\",null],\"marker\":{\"opacity\":0.5,\"size\":5},\"mode\":\"markers+text\",\"name\":\"3_martyr_struggle_link\",\"text\":[\"\",\"\",\"\",\"\",\"\",\"\",\"\",\"\",\"\",\"\",\"\",\"\",\"\",\"\",\"\",\"\",\"\",\"\",\"\",\"\",\"\",\"\",\"\",\"\",\"\",\"\",\"\",\"\",\"\",\"\",\"\",\"\",\"\",\"\",\"\",\"\",\"\",\"\",\"\",\"\",\"\",\"\",\"3_martyr_struggle_link\"],\"textfont\":{\"size\":12},\"x\":[8.109566688537598,8.0618257522583,7.786365509033203,7.789982318878174,7.526785373687744,7.560586452484131,7.817224502563477,7.486383438110352,7.654983997344971,7.913251876831055,7.617529392242432,7.4141387939453125,7.629332542419434,8.044679641723633,7.8532795906066895,8.07286262512207,7.490417957305908,7.843064308166504,7.712000846862793,7.9158453941345215,8.26752758026123,7.417594909667969,8.128629684448242,9.06130313873291,7.955007553100586,10.047362327575684,7.439426422119141,7.403558731079102,8.018146514892578,7.918497562408447,8.089543342590332,7.771151542663574,7.54121208190918,8.137030601501465,7.85884952545166,7.40595006942749,7.628620147705078,7.909323215484619,7.5095601081848145,8.101615905761719,8.223658561706543,7.4844818115234375,7.871860980987549],\"y\":[-1.9450581073760986,-1.9689167737960815,-3.183657646179199,-2.769294500350952,-2.897235870361328,-2.85428524017334,-2.973329544067383,-2.9933271408081055,-2.9506688117980957,-2.4031763076782227,-3.2642223834991455,-2.7975430488586426,-2.872032403945923,-1.8142285346984863,-2.0207767486572266,-1.9982192516326904,-3.1486971378326416,-1.9690885543823242,-3.011594772338867,-2.5868008136749268,-2.699558973312378,-2.179607391357422,-1.947327971458435,-2.248183012008667,-2.585310220718384,-2.8748867511749268,-2.8475422859191895,-2.7949700355529785,-2.525601387023926,-3.22686505317688,-1.8805794715881348,-1.8865338563919067,-1.9216899871826172,-1.8756617307662964,-2.188119411468506,-3.137674570083618,-2.917531728744507,-2.605361223220825,-2.8820297718048096,-2.0006260871887207,-1.9280086755752563,-2.7819104194641113,-2.532327175140381],\"type\":\"scattergl\"},{\"hoverinfo\":\"text\",\"hovertext\":[\"asagi bakmayacagiz yer bogazici yer direnis ya hep beraber ya hicbirimiz united struggle bow head lve\",\"name mer faruk come disturb\",\"support ergun babahan justice watch g n say n via live broadcast guest\",\"mer faruk gergerli lu majority silent stay silent touch deputy people\",\"mer faruk gergerlio lu let take deputyship let take life let honor trample three day world\",\"gar destan\",\"word ahmet nmez\",\"god permission caravan stop fg len\",\"mene r rasul please continue beautiful tradition start\",\"qamishlo newroz\",\"well know printing house even get past wall intermediary print poetry book\",\"birle erek kazanaca z live people union\",\"zlem zengin woman veysel ayhan write\",\"emre bel zo lu galatasaray trauma\",\"b mre xiyeneta pdk\",\"tonight everyone loyalty say biz gergerlio lu\",\"africa female leader samia suluhu hassan new president tanzania\",\"h seyin galip\",\"mer gergerlio lu strong take power people relies people people gergerlio lu\",\"hate poetry one know current poet say poetry like god u kurd\",\"gergerlio lu conscience society touch gergerlio lu\",\"live president azad ji bo r ber apo\",\"yun jitem today akp\",\"look yer bogazici yer direnis bow head\",\"mother tongue shake foundation state built state land musa anter ziman\",\"hdp mer faruk gergerlio lu resist long parliament\",\"gara\",\"rkei immunit von mer faruk gergerlio lu via aufgehoben\",\"leader apo mam zeki engali\",\"hdp kocaeli deputy mer faruk gergerlio lu told former prime ministry rapporteur h seyin galip k k zyi decree\",\"yja star guerrilla dirok cudi use peshmerga drew attention kdp mentality ignores woman pk\",\"mer gergerlio lu silence gergerlio lu people deputy\",\"ben hakan dagdeviren\",\"gergerlio lunun yadayiz\",\"mer faruk gergerlio lu fg touch\",\"someone speaks like hit mouth shovel hello diyarbak r kurd head eye\",\"ben hakan dagdeviren\",\"levent g ltekin right indescribable\",\"ypg ypj\",\"halabja name massacre people divide four part smell apple zilan dersim halabja roboski one\",null],\"marker\":{\"opacity\":0.5,\"size\":5},\"mode\":\"markers+text\",\"name\":\"4_lu_gergerlio_mer\",\"text\":[\"\",\"\",\"\",\"\",\"\",\"\",\"\",\"\",\"\",\"\",\"\",\"\",\"\",\"\",\"\",\"\",\"\",\"\",\"\",\"\",\"\",\"\",\"\",\"\",\"\",\"\",\"\",\"\",\"\",\"\",\"\",\"\",\"\",\"\",\"\",\"\",\"\",\"\",\"\",\"\",\"4_lu_gergerlio_mer\"],\"textfont\":{\"size\":12},\"x\":[7.527676582336426,6.955548286437988,8.362008094787598,7.045339584350586,6.8387041091918945,7.363386631011963,7.7579345703125,6.689629077911377,6.956746578216553,7.846519947052002,7.082372665405273,7.794260025024414,7.737630844116211,7.123672008514404,7.912774085998535,6.731950283050537,8.076090812683105,7.41103458404541,6.728147983551025,7.497127056121826,6.58492374420166,8.384048461914062,7.684106349945068,7.4966912269592285,7.995743274688721,7.066744327545166,7.503371715545654,6.9547271728515625,7.9095587730407715,7.241470813751221,7.6763200759887695,6.7518134117126465,7.1743268966674805,6.772860050201416,6.998080730438232,7.546601295471191,7.160455226898193,6.676884651184082,7.816277027130127,7.874050140380859,7.3676910400390625],\"y\":[-4.170741558074951,-3.783475637435913,-2.828186273574829,-3.666064977645874,-3.605311632156372,-3.9101755619049072,-4.113053798675537,-3.594764232635498,-3.484647035598755,-4.1432785987854,-1.7334675788879395,-4.100038528442383,-4.073154449462891,-4.088621616363525,-3.9957473278045654,-3.9757022857666016,-3.675652503967285,-3.834320306777954,-3.9669244289398193,-4.1091814041137695,-3.935638189315796,-3.109847068786621,-3.707084894180298,-4.071952819824219,-3.727684259414673,-3.597414493560791,-3.931830406188965,-3.881532907485962,-3.6547043323516846,-3.689455509185791,-3.6423280239105225,-3.9251065254211426,-3.946260452270508,-4.0062994956970215,-3.9487621784210205,-4.120439529418945,-3.9393975734710693,-3.6179885864257812,-3.7885866165161133,-1.481030821800232,-3.7143967151641846],\"type\":\"scattergl\"},{\"hoverinfo\":\"text\",\"hovertext\":[\"prof dr brahi zt rk turkish nation everything institution constitution court go get situation\",\"police disguise militia wicked religious despot partisan thief immoral person lack academic ethic appoint rector\",\"akp become big scourge country akp parliamentarian include president parliament like hitler respect country\",\"beyza buldag student mimar si university arrest\",\"leyman leyman soylu behind bosphorus action former rector st n erg der call get job\",\"new ben carson say resign trump administration capitol riot apparently unaware term en\",\"today hdp supporter reign cruelty end sooner later people vekili g zalt nda\",\"man make country property could appoint akp deputy candidate rector good sleep guy already akp community\",\"erdogan appoint rector akp bosphorus stood leader justice developrime ministerent party akp\",\"impeachment bill sent senate today u house representative former president donald\",\"meeting u secretary state avu lu say also talk f go official statement usa\",\"bogazici university bogazici university senate university administrative board held tomorrow rector melih bulu\",\"former ak parti bitlis mv abd rrahim aksoy member new deva party deputy\",\"b ra arrest senior music teacher detention year close eye surgery\",\"mister gay election due corona crisis\",\"state emergency agenda year struggle deprivation citizenship even expulsion people khk\",\"political genocide jiyan ta lead member democratic society congress dtk today sentence\",\"announcement review compile hundred page official party program statute pkk kdp puk\",\"student take custody sentence house arrest among ar\",\"torture ill treatment law enforcement official student protest appointment rector bo azi university\",\"wow pull punch piece hitman position political power\",\"melih bulu rector resign\",\"unfortunately shame five ten shirt much people country political life b\",\"police raid house student protest melih bulu trustee appoint bo azi university student detain\",\"gulistan k l ko yi hdp deputy member parliamentary human right commission make assessment anf\",\"akp mhp supporter water news men curse shook social medium one\",null],\"marker\":{\"opacity\":0.5,\"size\":5},\"mode\":\"markers+text\",\"name\":\"5_rector_akp_university\",\"text\":[\"\",\"\",\"\",\"\",\"\",\"\",\"\",\"\",\"\",\"\",\"\",\"\",\"\",\"\",\"\",\"\",\"\",\"\",\"\",\"\",\"\",\"\",\"\",\"\",\"\",\"\",\"5_rector_akp_university\"],\"textfont\":{\"size\":12},\"x\":[9.709938049316406,8.822985649108887,8.97830867767334,9.341568946838379,9.615545272827148,8.935103416442871,7.5103559494018555,9.293201446533203,9.582819938659668,9.062106132507324,8.721450805664062,9.58010482788086,9.36794662475586,9.417399406433105,8.570320129394531,8.78278923034668,8.540486335754395,8.723965644836426,9.366222381591797,9.460407257080078,8.557900428771973,9.578697204589844,8.556892395019531,9.420963287353516,8.9212007522583,7.413948059082031,8.993561744689941],\"y\":[-1.8095141649246216,-2.812055826187134,-2.977407217025757,-1.4545716047286987,-1.9392523765563965,-2.817624092102051,-2.5031485557556152,-2.2464826107025146,-1.8893693685531616,-2.9728004932403564,-2.999272108078003,-1.831892967224121,-2.166924476623535,-1.4545989036560059,-3.0975046157836914,-2.725511312484741,-2.938331365585327,-2.776993751525879,-1.3675276041030884,-1.5812560319900513,-2.89697527885437,-1.8540359735488892,-3.014627456665039,-1.465338110923767,-2.1217358112335205,-2.1874759197235107,-2.303931951522827],\"type\":\"scattergl\"},{\"hoverinfo\":\"text\",\"hovertext\":[\"every owner beauty perfection want see show beauty perfection bsn\",\"comment\",\"liar\",\"new profile picture\",\"person far something see much person close matter smart bsn\",\"say\",\"think one create know go grave prepare bsn\",\"four\",\"look moon\",\"shut\",\"really\",\"watch bewilderment one sorry everyone get deserve\",\"look\",\"look\",\"ya hack\",\"explanation meet everyone expectation regardless\",\"instead disappoint people let tell ignore\",\"day come even want find achieve desire fg len h\",\"idea much information perception dundar\",\"really sorry anthony axel face vile post week measure compel\",null],\"marker\":{\"opacity\":0.5,\"size\":5},\"mode\":\"markers+text\",\"name\":\"6_bsn_look_perfection\",\"text\":[\"\",\"\",\"\",\"\",\"\",\"\",\"\",\"\",\"\",\"\",\"\",\"\",\"\",\"\",\"\",\"\",\"\",\"\",\"\",\"\",\"6_bsn_look_perfection\"],\"textfont\":{\"size\":12},\"x\":[5.945041656494141,6.005184173583984,6.358334541320801,6.000527381896973,6.321671962738037,6.011342525482178,6.414188861846924,6.323983669281006,5.804019451141357,6.0921173095703125,6.2919840812683105,6.084043979644775,5.8477559089660645,5.858082294464111,6.496612071990967,6.137656211853027,6.099838733673096,6.009976387023926,6.27591609954834,6.17915678024292,6.127871513366699],\"y\":[-1.1873873472213745,-0.8140301704406738,-0.6269436478614807,-1.2201743125915527,-1.306757926940918,-0.7533360123634338,-1.1893254518508911,-0.5917991995811462,-0.8733962178230286,-0.7384087443351746,-0.6794686913490295,-0.8671698570251465,-0.8674811124801636,-0.8561630845069885,-0.8124811053276062,-0.9173357486724854,-0.9038814306259155,-1.2477831840515137,-1.2265610694885254,-1.2484427690505981,-0.9464163780212402],\"type\":\"scattergl\"}],                        {\"template\":{\"data\":{\"barpolar\":[{\"marker\":{\"line\":{\"color\":\"white\",\"width\":0.5},\"pattern\":{\"fillmode\":\"overlay\",\"size\":10,\"solidity\":0.2}},\"type\":\"barpolar\"}],\"bar\":[{\"error_x\":{\"color\":\"rgb(36,36,36)\"},\"error_y\":{\"color\":\"rgb(36,36,36)\"},\"marker\":{\"line\":{\"color\":\"white\",\"width\":0.5},\"pattern\":{\"fillmode\":\"overlay\",\"size\":10,\"solidity\":0.2}},\"type\":\"bar\"}],\"carpet\":[{\"aaxis\":{\"endlinecolor\":\"rgb(36,36,36)\",\"gridcolor\":\"white\",\"linecolor\":\"white\",\"minorgridcolor\":\"white\",\"startlinecolor\":\"rgb(36,36,36)\"},\"baxis\":{\"endlinecolor\":\"rgb(36,36,36)\",\"gridcolor\":\"white\",\"linecolor\":\"white\",\"minorgridcolor\":\"white\",\"startlinecolor\":\"rgb(36,36,36)\"},\"type\":\"carpet\"}],\"choropleth\":[{\"colorbar\":{\"outlinewidth\":1,\"tickcolor\":\"rgb(36,36,36)\",\"ticks\":\"outside\"},\"type\":\"choropleth\"}],\"contourcarpet\":[{\"colorbar\":{\"outlinewidth\":1,\"tickcolor\":\"rgb(36,36,36)\",\"ticks\":\"outside\"},\"type\":\"contourcarpet\"}],\"contour\":[{\"colorbar\":{\"outlinewidth\":1,\"tickcolor\":\"rgb(36,36,36)\",\"ticks\":\"outside\"},\"colorscale\":[[0.0,\"#440154\"],[0.1111111111111111,\"#482878\"],[0.2222222222222222,\"#3e4989\"],[0.3333333333333333,\"#31688e\"],[0.4444444444444444,\"#26828e\"],[0.5555555555555556,\"#1f9e89\"],[0.6666666666666666,\"#35b779\"],[0.7777777777777778,\"#6ece58\"],[0.8888888888888888,\"#b5de2b\"],[1.0,\"#fde725\"]],\"type\":\"contour\"}],\"heatmapgl\":[{\"colorbar\":{\"outlinewidth\":1,\"tickcolor\":\"rgb(36,36,36)\",\"ticks\":\"outside\"},\"colorscale\":[[0.0,\"#440154\"],[0.1111111111111111,\"#482878\"],[0.2222222222222222,\"#3e4989\"],[0.3333333333333333,\"#31688e\"],[0.4444444444444444,\"#26828e\"],[0.5555555555555556,\"#1f9e89\"],[0.6666666666666666,\"#35b779\"],[0.7777777777777778,\"#6ece58\"],[0.8888888888888888,\"#b5de2b\"],[1.0,\"#fde725\"]],\"type\":\"heatmapgl\"}],\"heatmap\":[{\"colorbar\":{\"outlinewidth\":1,\"tickcolor\":\"rgb(36,36,36)\",\"ticks\":\"outside\"},\"colorscale\":[[0.0,\"#440154\"],[0.1111111111111111,\"#482878\"],[0.2222222222222222,\"#3e4989\"],[0.3333333333333333,\"#31688e\"],[0.4444444444444444,\"#26828e\"],[0.5555555555555556,\"#1f9e89\"],[0.6666666666666666,\"#35b779\"],[0.7777777777777778,\"#6ece58\"],[0.8888888888888888,\"#b5de2b\"],[1.0,\"#fde725\"]],\"type\":\"heatmap\"}],\"histogram2dcontour\":[{\"colorbar\":{\"outlinewidth\":1,\"tickcolor\":\"rgb(36,36,36)\",\"ticks\":\"outside\"},\"colorscale\":[[0.0,\"#440154\"],[0.1111111111111111,\"#482878\"],[0.2222222222222222,\"#3e4989\"],[0.3333333333333333,\"#31688e\"],[0.4444444444444444,\"#26828e\"],[0.5555555555555556,\"#1f9e89\"],[0.6666666666666666,\"#35b779\"],[0.7777777777777778,\"#6ece58\"],[0.8888888888888888,\"#b5de2b\"],[1.0,\"#fde725\"]],\"type\":\"histogram2dcontour\"}],\"histogram2d\":[{\"colorbar\":{\"outlinewidth\":1,\"tickcolor\":\"rgb(36,36,36)\",\"ticks\":\"outside\"},\"colorscale\":[[0.0,\"#440154\"],[0.1111111111111111,\"#482878\"],[0.2222222222222222,\"#3e4989\"],[0.3333333333333333,\"#31688e\"],[0.4444444444444444,\"#26828e\"],[0.5555555555555556,\"#1f9e89\"],[0.6666666666666666,\"#35b779\"],[0.7777777777777778,\"#6ece58\"],[0.8888888888888888,\"#b5de2b\"],[1.0,\"#fde725\"]],\"type\":\"histogram2d\"}],\"histogram\":[{\"marker\":{\"line\":{\"color\":\"white\",\"width\":0.6}},\"type\":\"histogram\"}],\"mesh3d\":[{\"colorbar\":{\"outlinewidth\":1,\"tickcolor\":\"rgb(36,36,36)\",\"ticks\":\"outside\"},\"type\":\"mesh3d\"}],\"parcoords\":[{\"line\":{\"colorbar\":{\"outlinewidth\":1,\"tickcolor\":\"rgb(36,36,36)\",\"ticks\":\"outside\"}},\"type\":\"parcoords\"}],\"pie\":[{\"automargin\":true,\"type\":\"pie\"}],\"scatter3d\":[{\"line\":{\"colorbar\":{\"outlinewidth\":1,\"tickcolor\":\"rgb(36,36,36)\",\"ticks\":\"outside\"}},\"marker\":{\"colorbar\":{\"outlinewidth\":1,\"tickcolor\":\"rgb(36,36,36)\",\"ticks\":\"outside\"}},\"type\":\"scatter3d\"}],\"scattercarpet\":[{\"marker\":{\"colorbar\":{\"outlinewidth\":1,\"tickcolor\":\"rgb(36,36,36)\",\"ticks\":\"outside\"}},\"type\":\"scattercarpet\"}],\"scattergeo\":[{\"marker\":{\"colorbar\":{\"outlinewidth\":1,\"tickcolor\":\"rgb(36,36,36)\",\"ticks\":\"outside\"}},\"type\":\"scattergeo\"}],\"scattergl\":[{\"marker\":{\"colorbar\":{\"outlinewidth\":1,\"tickcolor\":\"rgb(36,36,36)\",\"ticks\":\"outside\"}},\"type\":\"scattergl\"}],\"scattermapbox\":[{\"marker\":{\"colorbar\":{\"outlinewidth\":1,\"tickcolor\":\"rgb(36,36,36)\",\"ticks\":\"outside\"}},\"type\":\"scattermapbox\"}],\"scatterpolargl\":[{\"marker\":{\"colorbar\":{\"outlinewidth\":1,\"tickcolor\":\"rgb(36,36,36)\",\"ticks\":\"outside\"}},\"type\":\"scatterpolargl\"}],\"scatterpolar\":[{\"marker\":{\"colorbar\":{\"outlinewidth\":1,\"tickcolor\":\"rgb(36,36,36)\",\"ticks\":\"outside\"}},\"type\":\"scatterpolar\"}],\"scatter\":[{\"fillpattern\":{\"fillmode\":\"overlay\",\"size\":10,\"solidity\":0.2},\"type\":\"scatter\"}],\"scatterternary\":[{\"marker\":{\"colorbar\":{\"outlinewidth\":1,\"tickcolor\":\"rgb(36,36,36)\",\"ticks\":\"outside\"}},\"type\":\"scatterternary\"}],\"surface\":[{\"colorbar\":{\"outlinewidth\":1,\"tickcolor\":\"rgb(36,36,36)\",\"ticks\":\"outside\"},\"colorscale\":[[0.0,\"#440154\"],[0.1111111111111111,\"#482878\"],[0.2222222222222222,\"#3e4989\"],[0.3333333333333333,\"#31688e\"],[0.4444444444444444,\"#26828e\"],[0.5555555555555556,\"#1f9e89\"],[0.6666666666666666,\"#35b779\"],[0.7777777777777778,\"#6ece58\"],[0.8888888888888888,\"#b5de2b\"],[1.0,\"#fde725\"]],\"type\":\"surface\"}],\"table\":[{\"cells\":{\"fill\":{\"color\":\"rgb(237,237,237)\"},\"line\":{\"color\":\"white\"}},\"header\":{\"fill\":{\"color\":\"rgb(217,217,217)\"},\"line\":{\"color\":\"white\"}},\"type\":\"table\"}]},\"layout\":{\"annotationdefaults\":{\"arrowhead\":0,\"arrowwidth\":1},\"autotypenumbers\":\"strict\",\"coloraxis\":{\"colorbar\":{\"outlinewidth\":1,\"tickcolor\":\"rgb(36,36,36)\",\"ticks\":\"outside\"}},\"colorscale\":{\"diverging\":[[0.0,\"rgb(103,0,31)\"],[0.1,\"rgb(178,24,43)\"],[0.2,\"rgb(214,96,77)\"],[0.3,\"rgb(244,165,130)\"],[0.4,\"rgb(253,219,199)\"],[0.5,\"rgb(247,247,247)\"],[0.6,\"rgb(209,229,240)\"],[0.7,\"rgb(146,197,222)\"],[0.8,\"rgb(67,147,195)\"],[0.9,\"rgb(33,102,172)\"],[1.0,\"rgb(5,48,97)\"]],\"sequential\":[[0.0,\"#440154\"],[0.1111111111111111,\"#482878\"],[0.2222222222222222,\"#3e4989\"],[0.3333333333333333,\"#31688e\"],[0.4444444444444444,\"#26828e\"],[0.5555555555555556,\"#1f9e89\"],[0.6666666666666666,\"#35b779\"],[0.7777777777777778,\"#6ece58\"],[0.8888888888888888,\"#b5de2b\"],[1.0,\"#fde725\"]],\"sequentialminus\":[[0.0,\"#440154\"],[0.1111111111111111,\"#482878\"],[0.2222222222222222,\"#3e4989\"],[0.3333333333333333,\"#31688e\"],[0.4444444444444444,\"#26828e\"],[0.5555555555555556,\"#1f9e89\"],[0.6666666666666666,\"#35b779\"],[0.7777777777777778,\"#6ece58\"],[0.8888888888888888,\"#b5de2b\"],[1.0,\"#fde725\"]]},\"colorway\":[\"#1F77B4\",\"#FF7F0E\",\"#2CA02C\",\"#D62728\",\"#9467BD\",\"#8C564B\",\"#E377C2\",\"#7F7F7F\",\"#BCBD22\",\"#17BECF\"],\"font\":{\"color\":\"rgb(36,36,36)\"},\"geo\":{\"bgcolor\":\"white\",\"lakecolor\":\"white\",\"landcolor\":\"white\",\"showlakes\":true,\"showland\":true,\"subunitcolor\":\"white\"},\"hoverlabel\":{\"align\":\"left\"},\"hovermode\":\"closest\",\"mapbox\":{\"style\":\"light\"},\"paper_bgcolor\":\"white\",\"plot_bgcolor\":\"white\",\"polar\":{\"angularaxis\":{\"gridcolor\":\"rgb(232,232,232)\",\"linecolor\":\"rgb(36,36,36)\",\"showgrid\":false,\"showline\":true,\"ticks\":\"outside\"},\"bgcolor\":\"white\",\"radialaxis\":{\"gridcolor\":\"rgb(232,232,232)\",\"linecolor\":\"rgb(36,36,36)\",\"showgrid\":false,\"showline\":true,\"ticks\":\"outside\"}},\"scene\":{\"xaxis\":{\"backgroundcolor\":\"white\",\"gridcolor\":\"rgb(232,232,232)\",\"gridwidth\":2,\"linecolor\":\"rgb(36,36,36)\",\"showbackground\":true,\"showgrid\":false,\"showline\":true,\"ticks\":\"outside\",\"zeroline\":false,\"zerolinecolor\":\"rgb(36,36,36)\"},\"yaxis\":{\"backgroundcolor\":\"white\",\"gridcolor\":\"rgb(232,232,232)\",\"gridwidth\":2,\"linecolor\":\"rgb(36,36,36)\",\"showbackground\":true,\"showgrid\":false,\"showline\":true,\"ticks\":\"outside\",\"zeroline\":false,\"zerolinecolor\":\"rgb(36,36,36)\"},\"zaxis\":{\"backgroundcolor\":\"white\",\"gridcolor\":\"rgb(232,232,232)\",\"gridwidth\":2,\"linecolor\":\"rgb(36,36,36)\",\"showbackground\":true,\"showgrid\":false,\"showline\":true,\"ticks\":\"outside\",\"zeroline\":false,\"zerolinecolor\":\"rgb(36,36,36)\"}},\"shapedefaults\":{\"fillcolor\":\"black\",\"line\":{\"width\":0},\"opacity\":0.3},\"ternary\":{\"aaxis\":{\"gridcolor\":\"rgb(232,232,232)\",\"linecolor\":\"rgb(36,36,36)\",\"showgrid\":false,\"showline\":true,\"ticks\":\"outside\"},\"baxis\":{\"gridcolor\":\"rgb(232,232,232)\",\"linecolor\":\"rgb(36,36,36)\",\"showgrid\":false,\"showline\":true,\"ticks\":\"outside\"},\"bgcolor\":\"white\",\"caxis\":{\"gridcolor\":\"rgb(232,232,232)\",\"linecolor\":\"rgb(36,36,36)\",\"showgrid\":false,\"showline\":true,\"ticks\":\"outside\"}},\"title\":{\"x\":0.05},\"xaxis\":{\"automargin\":true,\"gridcolor\":\"rgb(232,232,232)\",\"linecolor\":\"rgb(36,36,36)\",\"showgrid\":false,\"showline\":true,\"ticks\":\"outside\",\"title\":{\"standoff\":15},\"zeroline\":false,\"zerolinecolor\":\"rgb(36,36,36)\"},\"yaxis\":{\"automargin\":true,\"gridcolor\":\"rgb(232,232,232)\",\"linecolor\":\"rgb(36,36,36)\",\"showgrid\":false,\"showline\":true,\"ticks\":\"outside\",\"title\":{\"standoff\":15},\"zeroline\":false,\"zerolinecolor\":\"rgb(36,36,36)\"}}},\"shapes\":[{\"line\":{\"color\":\"#CFD8DC\",\"width\":2},\"type\":\"line\",\"x0\":8.651151072978973,\"x1\":8.651151072978973,\"y0\":-5.504423975944519,\"y1\":-0.12084277495741844},{\"line\":{\"color\":\"#9E9E9E\",\"width\":2},\"type\":\"line\",\"x0\":4.184944653511048,\"x1\":13.1173574924469,\"y0\":-2.812633375450969,\"y1\":-2.812633375450969}],\"annotations\":[{\"showarrow\":false,\"text\":\"D1\",\"x\":4.184944653511048,\"y\":-2.812633375450969,\"yshift\":10},{\"showarrow\":false,\"text\":\"D2\",\"x\":8.651151072978973,\"xshift\":10,\"y\":-0.12084277495741844}],\"title\":{\"font\":{\"size\":22,\"color\":\"Black\"},\"text\":\"<b>Documents and Topics\",\"x\":0.5,\"xanchor\":\"center\",\"yanchor\":\"top\"},\"width\":1200,\"height\":750,\"xaxis\":{\"visible\":false},\"yaxis\":{\"visible\":false}},                        {\"responsive\": true}                    ).then(function(){\n",
       "                            \n",
       "var gd = document.getElementById('b6e4f5fb-b041-4419-b3db-4e1c65dd8c02');\n",
       "var x = new MutationObserver(function (mutations, observer) {{\n",
       "        var display = window.getComputedStyle(gd).display;\n",
       "        if (!display || display === 'none') {{\n",
       "            console.log([gd, 'removed!']);\n",
       "            Plotly.purge(gd);\n",
       "            observer.disconnect();\n",
       "        }}\n",
       "}});\n",
       "\n",
       "// Listen for the removal of the full notebook cells\n",
       "var notebookContainer = gd.closest('#notebook-container');\n",
       "if (notebookContainer) {{\n",
       "    x.observe(notebookContainer, {childList: true});\n",
       "}}\n",
       "\n",
       "// Listen for the clearing of the current output cell\n",
       "var outputEl = gd.closest('.output');\n",
       "if (outputEl) {{\n",
       "    x.observe(outputEl, {childList: true});\n",
       "}}\n",
       "\n",
       "                        })                };                });            </script>        </div>"
      ]
     },
     "metadata": {},
     "output_type": "display_data"
    }
   ],
   "source": [
    "model.visualize_documents(tweets_sub)"
   ]
  },
  {
   "cell_type": "markdown",
   "id": "668e6827",
   "metadata": {},
   "source": [
    "## Metric"
   ]
  },
  {
   "cell_type": "code",
   "execution_count": 175,
   "id": "44240a53",
   "metadata": {},
   "outputs": [],
   "source": [
    "import gensim.corpora as corpora\n",
    "from gensim.models.coherencemodel import CoherenceModel"
   ]
  },
  {
   "cell_type": "code",
   "execution_count": 176,
   "id": "39c495fa",
   "metadata": {},
   "outputs": [],
   "source": [
    "# Preprocess Documents\n",
    "documents = pd.DataFrame({\"Document\": tweets,\n",
    "                          \"ID\": range(len(tweets)),\n",
    "                          \"Topic\": topics})\n",
    "documents_per_topic = documents.groupby(['Topic'], as_index=False).agg({'Document': ' '.join})\n",
    "cleaned_docs = model._preprocess_text(documents_per_topic.Document.values)"
   ]
  },
  {
   "cell_type": "code",
   "execution_count": 177,
   "id": "2236e1db",
   "metadata": {},
   "outputs": [],
   "source": [
    "# Extract vectorizer and analyzer from BERTopic\n",
    "vectorizer = model.vectorizer_model\n",
    "analyzer = vectorizer.build_analyzer()"
   ]
  },
  {
   "cell_type": "code",
   "execution_count": 178,
   "id": "450b18a2",
   "metadata": {},
   "outputs": [],
   "source": [
    "# Extract features for Topic Coherence evaluation\n",
    "words = vectorizer.get_feature_names()\n",
    "tokens = [analyzer(doc) for doc in cleaned_docs]\n",
    "dictionary = corpora.Dictionary(tokens)\n",
    "corpus = [dictionary.doc2bow(token) for token in tokens]\n",
    "topic_words = [[words for words, _ in model.get_topic(topic)] \n",
    "               for topic in range(len(set(topics))-1)]"
   ]
  },
  {
   "cell_type": "code",
   "execution_count": 179,
   "id": "1469b9de",
   "metadata": {},
   "outputs": [],
   "source": [
    "# Evaluate\n",
    "coherence_model = CoherenceModel(topics=topic_words, \n",
    "                                 texts=tokens, \n",
    "                                 corpus=corpus,\n",
    "                                 dictionary=dictionary, \n",
    "                                 coherence='c_v')\n",
    "coherence = coherence_model.get_coherence()"
   ]
  },
  {
   "cell_type": "code",
   "execution_count": 180,
   "id": "d3ff4edf",
   "metadata": {},
   "outputs": [
    {
     "data": {
      "text/plain": [
       "0.7936895693528356"
      ]
     },
     "execution_count": 180,
     "metadata": {},
     "output_type": "execute_result"
    }
   ],
   "source": [
    "coherence"
   ]
  }
 ],
 "metadata": {
  "kernelspec": {
   "display_name": "Python 3 (ipykernel)",
   "language": "python",
   "name": "python3"
  },
  "language_info": {
   "codemirror_mode": {
    "name": "ipython",
    "version": 3
   },
   "file_extension": ".py",
   "mimetype": "text/x-python",
   "name": "python",
   "nbconvert_exporter": "python",
   "pygments_lexer": "ipython3",
   "version": "3.9.7"
  }
 },
 "nbformat": 4,
 "nbformat_minor": 5
}
