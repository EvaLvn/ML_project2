{
 "cells": [
  {
   "cell_type": "code",
   "execution_count": 157,
   "id": "841408ef",
   "metadata": {},
   "outputs": [
    {
     "name": "stdout",
     "output_type": "stream",
     "text": [
      "The autoreload extension is already loaded. To reload it, use:\n",
      "  %reload_ext autoreload\n"
     ]
    }
   ],
   "source": [
    "import pandas as pd\n",
    "from nltk.corpus import stopwords\n",
    "from sentence_transformers import SentenceTransformer\n",
    "\n",
    "from bertopic import BERTopic\n",
    "from sklearn.feature_extraction.text import CountVectorizer\n",
    "from hdbscan import HDBSCAN\n",
    "from umap import UMAP\n",
    "\n",
    "from pre_processing import *\n",
    "from helpers import *\n",
    "\n",
    "%load_ext autoreload\n",
    "%autoreload 2"
   ]
  },
  {
   "cell_type": "code",
   "execution_count": 158,
   "id": "73b464a7",
   "metadata": {},
   "outputs": [],
   "source": [
    "# Load data\n",
    "df = pd.read_csv('data/to_be_clustered.csv.gz', compression=\"gzip\")\n",
    "\n",
    "# array that can save the models\n",
    "saved_models = []"
   ]
  },
  {
   "cell_type": "code",
   "execution_count": 159,
   "id": "697aa981",
   "metadata": {},
   "outputs": [],
   "source": [
    "import pickle\n",
    "def save_model(model, params, message = \"\"):\n",
    "    saved_models.append((model, params, message))\n",
    "    \n",
    "def write_good_params():\n",
    "    pickle.dump(saved_models, open( \"data/saved_models/save_models_for_\"+country+\".pkl\", \"wb\" ))\n",
    "    \n",
    "def get_model(params, additional_stop_words =  []) :\n",
    "    embedding_model = SentenceTransformer(\"all-mpnet-base-v2\") #'digio/Twitter4SSE'\n",
    "    s = list(stopwords.words('english'))\n",
    "    vectorizer_model = CountVectorizer(stop_words=s)\n",
    "    \n",
    "    umap_model = UMAP(n_neighbors = params['UMAP']['n_neighbors'], \n",
    "                  n_components = params['UMAP']['n_components'], \n",
    "                  min_dist = params['UMAP']['min_dist'], \n",
    "                  metric = params['UMAP']['metric'], \n",
    "                  low_memory = params['UMAP']['low_memory'], \n",
    "                  random_state = params['UMAP']['random_state'])\n",
    "\n",
    "    hdbscan_model = HDBSCAN(min_cluster_size = params['HDBSCAN']['min_cluster_size'],\n",
    "                       min_samples = params['HDBSCAN']['min_samples'],\n",
    "                       cluster_selection_epsilon = params['HDBSCAN']['cluster_selection_epsilon'],\n",
    "                       metric = params['HDBSCAN']['metric'],                      \n",
    "                       cluster_selection_method = params['HDBSCAN']['cluster_selection_method'],\n",
    "                       prediction_data = params['HDBSCAN']['prediction_data'])\n",
    "\n",
    "    model = BERTopic(\n",
    "        umap_model = umap_model,\n",
    "        vectorizer_model=vectorizer_model,\n",
    "        hdbscan_model = hdbscan_model,\n",
    "        embedding_model=embedding_model,\n",
    "        language='english', calculate_probabilities=False,\n",
    "        verbose=True\n",
    "    )\n",
    "    return model"
   ]
  },
  {
   "cell_type": "markdown",
   "id": "7c2b7b73",
   "metadata": {},
   "source": [
    "## Chose the country"
   ]
  },
  {
   "cell_type": "code",
   "execution_count": 160,
   "id": "841d07a1",
   "metadata": {},
   "outputs": [],
   "source": [
    "country = 'France'"
   ]
  },
  {
   "cell_type": "markdown",
   "id": "0be33a93",
   "metadata": {},
   "source": [
    "## Set parameters"
   ]
  },
  {
   "cell_type": "code",
   "execution_count": 161,
   "id": "bca23a5a",
   "metadata": {},
   "outputs": [],
   "source": [
    "## Best params until now but cannot catch coronavirus\n",
    "params = {\n",
    "    'UMAP' : {\n",
    "        'metric' : 'cosine', \n",
    "        'n_neighbors' : 15, \n",
    "        'n_components' : 20, \n",
    "        'min_dist' : 0.3, \n",
    "        'low_memory' : False,\n",
    "        'random_state': 8\n",
    "    },\n",
    "    'HDBSCAN': {\n",
    "        'min_cluster_size':15,\n",
    "        'min_samples': 1,\n",
    "        'cluster_selection_epsilon': 0.6,\n",
    "        'metric': 'euclidean',                      \n",
    "        'cluster_selection_method': 'eom',\n",
    "        'prediction_data': True}\n",
    "}"
   ]
  },
  {
   "cell_type": "markdown",
   "id": "5052636e",
   "metadata": {},
   "source": [
    "## Load Model"
   ]
  },
  {
   "cell_type": "code",
   "execution_count": 162,
   "id": "f4f39e16",
   "metadata": {},
   "outputs": [],
   "source": [
    "df = df[df.whcs == country]\n",
    "df.drop(df[df.clean.isna()].index,inplace =True)\n",
    "tweets = df.clean.to_list()\n",
    "model = get_model(params, additional_stop_words= ['lol','true', 'amp'])"
   ]
  },
  {
   "cell_type": "code",
   "execution_count": 163,
   "id": "a13b76ce",
   "metadata": {},
   "outputs": [
    {
     "data": {
      "application/vnd.jupyter.widget-view+json": {
       "model_id": "0852c8281b8b41efb38843e60b7fa48a",
       "version_major": 2,
       "version_minor": 0
      },
      "text/plain": [
       "Batches:   0%|          | 0/29 [00:00<?, ?it/s]"
      ]
     },
     "metadata": {},
     "output_type": "display_data"
    },
    {
     "name": "stderr",
     "output_type": "stream",
     "text": [
      "2022-12-15 15:31:44,383 - BERTopic - Transformed documents to Embeddings\n",
      "2022-12-15 15:31:59,387 - BERTopic - Reduced dimensionality\n",
      "2022-12-15 15:31:59,717 - BERTopic - Clustered reduced embeddings\n"
     ]
    }
   ],
   "source": [
    "topics, probs = model.fit_transform(tweets)"
   ]
  },
  {
   "cell_type": "code",
   "execution_count": 164,
   "id": "8cab8d2c",
   "metadata": {},
   "outputs": [],
   "source": [
    "df['topics'] = topics\n",
    "my_topcis = ['white/black - racism', 'islam - terrorism', 'coronavirus - vaccination', \n",
    "          'american elections', 'India - Pakistan', 'jew - antisemtism', 'farright - anti communism'\n",
    "          'tweeter acccounts', 'fantasy sex play', 'Alain Soral', 'immigration', 'homophobia']"
   ]
  },
  {
   "cell_type": "code",
   "execution_count": 165,
   "id": "3395e615",
   "metadata": {},
   "outputs": [
    {
     "data": {
      "application/vnd.plotly.v1+json": {
       "config": {
        "plotlyServerURL": "https://plot.ly"
       },
       "data": [
        {
         "coloraxis": "coloraxis",
         "hovertemplate": "x: %{x}<br>y: %{y}<br>Similarity Score: %{z}<extra></extra>",
         "name": "0",
         "type": "heatmap",
         "x": [
          "0_white_people_black",
          "1_muslim_biden_migrant",
          "2_trump_cpac_democrat",
          "3_india_hindu_pakistan",
          "4_jew_anti_say",
          "5_twitter_follower_many",
          "6_play_sit_fantasy",
          "7_soral_alain_answer",
          "8_reset_great_cleaning",
          "9_communism_socialism_hitler"
         ],
         "xaxis": "x",
         "y": [
          "0_white_people_black",
          "1_muslim_biden_migrant",
          "2_trump_cpac_democrat",
          "3_india_hindu_pakistan",
          "4_jew_anti_say",
          "5_twitter_follower_many",
          "6_play_sit_fantasy",
          "7_soral_alain_answer",
          "8_reset_great_cleaning",
          "9_communism_socialism_hitler"
         ],
         "yaxis": "y",
         "z": [
          [
           0.9999999999999997,
           0.6510027527525742,
           0.7485927601497613,
           0.7044732601697764,
           0.5943753749198666,
           0.6254431828762625,
           0.6988520699318961,
           0.605353297088513,
           0.598660385382522,
           0.6631098543419987
          ],
          [
           0.6510027527525742,
           0.9999999999999998,
           0.64330060027382,
           0.5656919563415758,
           0.463981955319951,
           0.7450847840290199,
           0.560031221464257,
           0.493716878693219,
           0.492322388004082,
           0.5444018862701804
          ],
          [
           0.7485927601497613,
           0.64330060027382,
           1,
           0.7254623041601138,
           0.6708832814127033,
           0.7035065034566286,
           0.6387926667123999,
           0.514936631712922,
           0.610455823119318,
           0.6030493827682728
          ],
          [
           0.7044732601697764,
           0.5656919563415758,
           0.7254623041601138,
           1.0000000000000002,
           0.5842801224464816,
           0.5755211086303392,
           0.6493478864584602,
           0.5236565196038201,
           0.5383709449379671,
           0.6236468103944173
          ],
          [
           0.5943753749198666,
           0.463981955319951,
           0.6708832814127033,
           0.5842801224464816,
           1.0000000000000004,
           0.5164748038630417,
           0.553879558875473,
           0.43945556996600565,
           0.5318788081971438,
           0.4869384288941785
          ],
          [
           0.6254431828762625,
           0.7450847840290199,
           0.7035065034566286,
           0.5755211086303392,
           0.5164748038630417,
           0.9999999999999996,
           0.5633875767531843,
           0.4644046724052188,
           0.547364107733218,
           0.4787257752149341
          ],
          [
           0.6988520699318961,
           0.560031221464257,
           0.6387926667123999,
           0.6493478864584602,
           0.553879558875473,
           0.5633875767531843,
           1.0000000000000002,
           0.58996751603646,
           0.6004111757645184,
           0.6045096037459382
          ],
          [
           0.605353297088513,
           0.493716878693219,
           0.514936631712922,
           0.5236565196038201,
           0.43945556996600565,
           0.4644046724052188,
           0.58996751603646,
           1.0000000000000007,
           0.5489850413085305,
           0.5636903686217394
          ],
          [
           0.598660385382522,
           0.492322388004082,
           0.610455823119318,
           0.5383709449379671,
           0.5318788081971438,
           0.547364107733218,
           0.6004111757645184,
           0.5489850413085305,
           0.9999999999999991,
           0.5940904158530803
          ],
          [
           0.6631098543419987,
           0.5444018862701804,
           0.6030493827682728,
           0.6236468103944173,
           0.4869384288941785,
           0.4787257752149341,
           0.6045096037459382,
           0.5636903686217394,
           0.5940904158530803,
           1
          ]
         ]
        }
       ],
       "layout": {
        "coloraxis": {
         "colorbar": {
          "title": {
           "text": "Similarity Score"
          }
         },
         "colorscale": [
          [
           0,
           "rgb(247,252,240)"
          ],
          [
           0.125,
           "rgb(224,243,219)"
          ],
          [
           0.25,
           "rgb(204,235,197)"
          ],
          [
           0.375,
           "rgb(168,221,181)"
          ],
          [
           0.5,
           "rgb(123,204,196)"
          ],
          [
           0.625,
           "rgb(78,179,211)"
          ],
          [
           0.75,
           "rgb(43,140,190)"
          ],
          [
           0.875,
           "rgb(8,104,172)"
          ],
          [
           1,
           "rgb(8,64,129)"
          ]
         ]
        },
        "height": 800,
        "hoverlabel": {
         "bgcolor": "white",
         "font": {
          "family": "Rockwell",
          "size": 16
         }
        },
        "legend": {
         "title": {
          "text": "Trend"
         }
        },
        "margin": {
         "t": 60
        },
        "showlegend": true,
        "template": {
         "data": {
          "bar": [
           {
            "error_x": {
             "color": "#2a3f5f"
            },
            "error_y": {
             "color": "#2a3f5f"
            },
            "marker": {
             "line": {
              "color": "#E5ECF6",
              "width": 0.5
             },
             "pattern": {
              "fillmode": "overlay",
              "size": 10,
              "solidity": 0.2
             }
            },
            "type": "bar"
           }
          ],
          "barpolar": [
           {
            "marker": {
             "line": {
              "color": "#E5ECF6",
              "width": 0.5
             },
             "pattern": {
              "fillmode": "overlay",
              "size": 10,
              "solidity": 0.2
             }
            },
            "type": "barpolar"
           }
          ],
          "carpet": [
           {
            "aaxis": {
             "endlinecolor": "#2a3f5f",
             "gridcolor": "white",
             "linecolor": "white",
             "minorgridcolor": "white",
             "startlinecolor": "#2a3f5f"
            },
            "baxis": {
             "endlinecolor": "#2a3f5f",
             "gridcolor": "white",
             "linecolor": "white",
             "minorgridcolor": "white",
             "startlinecolor": "#2a3f5f"
            },
            "type": "carpet"
           }
          ],
          "choropleth": [
           {
            "colorbar": {
             "outlinewidth": 0,
             "ticks": ""
            },
            "type": "choropleth"
           }
          ],
          "contour": [
           {
            "colorbar": {
             "outlinewidth": 0,
             "ticks": ""
            },
            "colorscale": [
             [
              0,
              "#0d0887"
             ],
             [
              0.1111111111111111,
              "#46039f"
             ],
             [
              0.2222222222222222,
              "#7201a8"
             ],
             [
              0.3333333333333333,
              "#9c179e"
             ],
             [
              0.4444444444444444,
              "#bd3786"
             ],
             [
              0.5555555555555556,
              "#d8576b"
             ],
             [
              0.6666666666666666,
              "#ed7953"
             ],
             [
              0.7777777777777778,
              "#fb9f3a"
             ],
             [
              0.8888888888888888,
              "#fdca26"
             ],
             [
              1,
              "#f0f921"
             ]
            ],
            "type": "contour"
           }
          ],
          "contourcarpet": [
           {
            "colorbar": {
             "outlinewidth": 0,
             "ticks": ""
            },
            "type": "contourcarpet"
           }
          ],
          "heatmap": [
           {
            "colorbar": {
             "outlinewidth": 0,
             "ticks": ""
            },
            "colorscale": [
             [
              0,
              "#0d0887"
             ],
             [
              0.1111111111111111,
              "#46039f"
             ],
             [
              0.2222222222222222,
              "#7201a8"
             ],
             [
              0.3333333333333333,
              "#9c179e"
             ],
             [
              0.4444444444444444,
              "#bd3786"
             ],
             [
              0.5555555555555556,
              "#d8576b"
             ],
             [
              0.6666666666666666,
              "#ed7953"
             ],
             [
              0.7777777777777778,
              "#fb9f3a"
             ],
             [
              0.8888888888888888,
              "#fdca26"
             ],
             [
              1,
              "#f0f921"
             ]
            ],
            "type": "heatmap"
           }
          ],
          "heatmapgl": [
           {
            "colorbar": {
             "outlinewidth": 0,
             "ticks": ""
            },
            "colorscale": [
             [
              0,
              "#0d0887"
             ],
             [
              0.1111111111111111,
              "#46039f"
             ],
             [
              0.2222222222222222,
              "#7201a8"
             ],
             [
              0.3333333333333333,
              "#9c179e"
             ],
             [
              0.4444444444444444,
              "#bd3786"
             ],
             [
              0.5555555555555556,
              "#d8576b"
             ],
             [
              0.6666666666666666,
              "#ed7953"
             ],
             [
              0.7777777777777778,
              "#fb9f3a"
             ],
             [
              0.8888888888888888,
              "#fdca26"
             ],
             [
              1,
              "#f0f921"
             ]
            ],
            "type": "heatmapgl"
           }
          ],
          "histogram": [
           {
            "marker": {
             "pattern": {
              "fillmode": "overlay",
              "size": 10,
              "solidity": 0.2
             }
            },
            "type": "histogram"
           }
          ],
          "histogram2d": [
           {
            "colorbar": {
             "outlinewidth": 0,
             "ticks": ""
            },
            "colorscale": [
             [
              0,
              "#0d0887"
             ],
             [
              0.1111111111111111,
              "#46039f"
             ],
             [
              0.2222222222222222,
              "#7201a8"
             ],
             [
              0.3333333333333333,
              "#9c179e"
             ],
             [
              0.4444444444444444,
              "#bd3786"
             ],
             [
              0.5555555555555556,
              "#d8576b"
             ],
             [
              0.6666666666666666,
              "#ed7953"
             ],
             [
              0.7777777777777778,
              "#fb9f3a"
             ],
             [
              0.8888888888888888,
              "#fdca26"
             ],
             [
              1,
              "#f0f921"
             ]
            ],
            "type": "histogram2d"
           }
          ],
          "histogram2dcontour": [
           {
            "colorbar": {
             "outlinewidth": 0,
             "ticks": ""
            },
            "colorscale": [
             [
              0,
              "#0d0887"
             ],
             [
              0.1111111111111111,
              "#46039f"
             ],
             [
              0.2222222222222222,
              "#7201a8"
             ],
             [
              0.3333333333333333,
              "#9c179e"
             ],
             [
              0.4444444444444444,
              "#bd3786"
             ],
             [
              0.5555555555555556,
              "#d8576b"
             ],
             [
              0.6666666666666666,
              "#ed7953"
             ],
             [
              0.7777777777777778,
              "#fb9f3a"
             ],
             [
              0.8888888888888888,
              "#fdca26"
             ],
             [
              1,
              "#f0f921"
             ]
            ],
            "type": "histogram2dcontour"
           }
          ],
          "mesh3d": [
           {
            "colorbar": {
             "outlinewidth": 0,
             "ticks": ""
            },
            "type": "mesh3d"
           }
          ],
          "parcoords": [
           {
            "line": {
             "colorbar": {
              "outlinewidth": 0,
              "ticks": ""
             }
            },
            "type": "parcoords"
           }
          ],
          "pie": [
           {
            "automargin": true,
            "type": "pie"
           }
          ],
          "scatter": [
           {
            "fillpattern": {
             "fillmode": "overlay",
             "size": 10,
             "solidity": 0.2
            },
            "type": "scatter"
           }
          ],
          "scatter3d": [
           {
            "line": {
             "colorbar": {
              "outlinewidth": 0,
              "ticks": ""
             }
            },
            "marker": {
             "colorbar": {
              "outlinewidth": 0,
              "ticks": ""
             }
            },
            "type": "scatter3d"
           }
          ],
          "scattercarpet": [
           {
            "marker": {
             "colorbar": {
              "outlinewidth": 0,
              "ticks": ""
             }
            },
            "type": "scattercarpet"
           }
          ],
          "scattergeo": [
           {
            "marker": {
             "colorbar": {
              "outlinewidth": 0,
              "ticks": ""
             }
            },
            "type": "scattergeo"
           }
          ],
          "scattergl": [
           {
            "marker": {
             "colorbar": {
              "outlinewidth": 0,
              "ticks": ""
             }
            },
            "type": "scattergl"
           }
          ],
          "scattermapbox": [
           {
            "marker": {
             "colorbar": {
              "outlinewidth": 0,
              "ticks": ""
             }
            },
            "type": "scattermapbox"
           }
          ],
          "scatterpolar": [
           {
            "marker": {
             "colorbar": {
              "outlinewidth": 0,
              "ticks": ""
             }
            },
            "type": "scatterpolar"
           }
          ],
          "scatterpolargl": [
           {
            "marker": {
             "colorbar": {
              "outlinewidth": 0,
              "ticks": ""
             }
            },
            "type": "scatterpolargl"
           }
          ],
          "scatterternary": [
           {
            "marker": {
             "colorbar": {
              "outlinewidth": 0,
              "ticks": ""
             }
            },
            "type": "scatterternary"
           }
          ],
          "surface": [
           {
            "colorbar": {
             "outlinewidth": 0,
             "ticks": ""
            },
            "colorscale": [
             [
              0,
              "#0d0887"
             ],
             [
              0.1111111111111111,
              "#46039f"
             ],
             [
              0.2222222222222222,
              "#7201a8"
             ],
             [
              0.3333333333333333,
              "#9c179e"
             ],
             [
              0.4444444444444444,
              "#bd3786"
             ],
             [
              0.5555555555555556,
              "#d8576b"
             ],
             [
              0.6666666666666666,
              "#ed7953"
             ],
             [
              0.7777777777777778,
              "#fb9f3a"
             ],
             [
              0.8888888888888888,
              "#fdca26"
             ],
             [
              1,
              "#f0f921"
             ]
            ],
            "type": "surface"
           }
          ],
          "table": [
           {
            "cells": {
             "fill": {
              "color": "#EBF0F8"
             },
             "line": {
              "color": "white"
             }
            },
            "header": {
             "fill": {
              "color": "#C8D4E3"
             },
             "line": {
              "color": "white"
             }
            },
            "type": "table"
           }
          ]
         },
         "layout": {
          "annotationdefaults": {
           "arrowcolor": "#2a3f5f",
           "arrowhead": 0,
           "arrowwidth": 1
          },
          "autotypenumbers": "strict",
          "coloraxis": {
           "colorbar": {
            "outlinewidth": 0,
            "ticks": ""
           }
          },
          "colorscale": {
           "diverging": [
            [
             0,
             "#8e0152"
            ],
            [
             0.1,
             "#c51b7d"
            ],
            [
             0.2,
             "#de77ae"
            ],
            [
             0.3,
             "#f1b6da"
            ],
            [
             0.4,
             "#fde0ef"
            ],
            [
             0.5,
             "#f7f7f7"
            ],
            [
             0.6,
             "#e6f5d0"
            ],
            [
             0.7,
             "#b8e186"
            ],
            [
             0.8,
             "#7fbc41"
            ],
            [
             0.9,
             "#4d9221"
            ],
            [
             1,
             "#276419"
            ]
           ],
           "sequential": [
            [
             0,
             "#0d0887"
            ],
            [
             0.1111111111111111,
             "#46039f"
            ],
            [
             0.2222222222222222,
             "#7201a8"
            ],
            [
             0.3333333333333333,
             "#9c179e"
            ],
            [
             0.4444444444444444,
             "#bd3786"
            ],
            [
             0.5555555555555556,
             "#d8576b"
            ],
            [
             0.6666666666666666,
             "#ed7953"
            ],
            [
             0.7777777777777778,
             "#fb9f3a"
            ],
            [
             0.8888888888888888,
             "#fdca26"
            ],
            [
             1,
             "#f0f921"
            ]
           ],
           "sequentialminus": [
            [
             0,
             "#0d0887"
            ],
            [
             0.1111111111111111,
             "#46039f"
            ],
            [
             0.2222222222222222,
             "#7201a8"
            ],
            [
             0.3333333333333333,
             "#9c179e"
            ],
            [
             0.4444444444444444,
             "#bd3786"
            ],
            [
             0.5555555555555556,
             "#d8576b"
            ],
            [
             0.6666666666666666,
             "#ed7953"
            ],
            [
             0.7777777777777778,
             "#fb9f3a"
            ],
            [
             0.8888888888888888,
             "#fdca26"
            ],
            [
             1,
             "#f0f921"
            ]
           ]
          },
          "colorway": [
           "#636efa",
           "#EF553B",
           "#00cc96",
           "#ab63fa",
           "#FFA15A",
           "#19d3f3",
           "#FF6692",
           "#B6E880",
           "#FF97FF",
           "#FECB52"
          ],
          "font": {
           "color": "#2a3f5f"
          },
          "geo": {
           "bgcolor": "white",
           "lakecolor": "white",
           "landcolor": "#E5ECF6",
           "showlakes": true,
           "showland": true,
           "subunitcolor": "white"
          },
          "hoverlabel": {
           "align": "left"
          },
          "hovermode": "closest",
          "mapbox": {
           "style": "light"
          },
          "paper_bgcolor": "white",
          "plot_bgcolor": "#E5ECF6",
          "polar": {
           "angularaxis": {
            "gridcolor": "white",
            "linecolor": "white",
            "ticks": ""
           },
           "bgcolor": "#E5ECF6",
           "radialaxis": {
            "gridcolor": "white",
            "linecolor": "white",
            "ticks": ""
           }
          },
          "scene": {
           "xaxis": {
            "backgroundcolor": "#E5ECF6",
            "gridcolor": "white",
            "gridwidth": 2,
            "linecolor": "white",
            "showbackground": true,
            "ticks": "",
            "zerolinecolor": "white"
           },
           "yaxis": {
            "backgroundcolor": "#E5ECF6",
            "gridcolor": "white",
            "gridwidth": 2,
            "linecolor": "white",
            "showbackground": true,
            "ticks": "",
            "zerolinecolor": "white"
           },
           "zaxis": {
            "backgroundcolor": "#E5ECF6",
            "gridcolor": "white",
            "gridwidth": 2,
            "linecolor": "white",
            "showbackground": true,
            "ticks": "",
            "zerolinecolor": "white"
           }
          },
          "shapedefaults": {
           "line": {
            "color": "#2a3f5f"
           }
          },
          "ternary": {
           "aaxis": {
            "gridcolor": "white",
            "linecolor": "white",
            "ticks": ""
           },
           "baxis": {
            "gridcolor": "white",
            "linecolor": "white",
            "ticks": ""
           },
           "bgcolor": "#E5ECF6",
           "caxis": {
            "gridcolor": "white",
            "linecolor": "white",
            "ticks": ""
           }
          },
          "title": {
           "x": 0.05
          },
          "xaxis": {
           "automargin": true,
           "gridcolor": "white",
           "linecolor": "white",
           "ticks": "",
           "title": {
            "standoff": 15
           },
           "zerolinecolor": "white",
           "zerolinewidth": 2
          },
          "yaxis": {
           "automargin": true,
           "gridcolor": "white",
           "linecolor": "white",
           "ticks": "",
           "title": {
            "standoff": 15
           },
           "zerolinecolor": "white",
           "zerolinewidth": 2
          }
         }
        },
        "title": {
         "font": {
          "color": "Black",
          "size": 22
         },
         "text": "<b>Similarity Matrix",
         "x": 0.55,
         "xanchor": "center",
         "y": 0.95,
         "yanchor": "top"
        },
        "width": 800,
        "xaxis": {
         "anchor": "y",
         "constrain": "domain",
         "domain": [
          0,
          1
         ],
         "scaleanchor": "y"
        },
        "yaxis": {
         "anchor": "x",
         "autorange": "reversed",
         "constrain": "domain",
         "domain": [
          0,
          1
         ]
        }
       }
      },
      "text/html": [
       "<div>                            <div id=\"b6098ed4-3677-4aa0-a45f-2a7e7549742c\" class=\"plotly-graph-div\" style=\"height:800px; width:800px;\"></div>            <script type=\"text/javascript\">                require([\"plotly\"], function(Plotly) {                    window.PLOTLYENV=window.PLOTLYENV || {};                                    if (document.getElementById(\"b6098ed4-3677-4aa0-a45f-2a7e7549742c\")) {                    Plotly.newPlot(                        \"b6098ed4-3677-4aa0-a45f-2a7e7549742c\",                        [{\"coloraxis\":\"coloraxis\",\"name\":\"0\",\"x\":[\"0_white_people_black\",\"1_muslim_biden_migrant\",\"2_trump_cpac_democrat\",\"3_india_hindu_pakistan\",\"4_jew_anti_say\",\"5_twitter_follower_many\",\"6_play_sit_fantasy\",\"7_soral_alain_answer\",\"8_reset_great_cleaning\",\"9_communism_socialism_hitler\"],\"y\":[\"0_white_people_black\",\"1_muslim_biden_migrant\",\"2_trump_cpac_democrat\",\"3_india_hindu_pakistan\",\"4_jew_anti_say\",\"5_twitter_follower_many\",\"6_play_sit_fantasy\",\"7_soral_alain_answer\",\"8_reset_great_cleaning\",\"9_communism_socialism_hitler\"],\"z\":[[0.9999999999999997,0.6510027527525742,0.7485927601497613,0.7044732601697764,0.5943753749198666,0.6254431828762625,0.6988520699318961,0.605353297088513,0.598660385382522,0.6631098543419987],[0.6510027527525742,0.9999999999999998,0.64330060027382,0.5656919563415758,0.463981955319951,0.7450847840290199,0.560031221464257,0.493716878693219,0.492322388004082,0.5444018862701804],[0.7485927601497613,0.64330060027382,1.0,0.7254623041601138,0.6708832814127033,0.7035065034566286,0.6387926667123999,0.514936631712922,0.610455823119318,0.6030493827682728],[0.7044732601697764,0.5656919563415758,0.7254623041601138,1.0000000000000002,0.5842801224464816,0.5755211086303392,0.6493478864584602,0.5236565196038201,0.5383709449379671,0.6236468103944173],[0.5943753749198666,0.463981955319951,0.6708832814127033,0.5842801224464816,1.0000000000000004,0.5164748038630417,0.553879558875473,0.43945556996600565,0.5318788081971438,0.4869384288941785],[0.6254431828762625,0.7450847840290199,0.7035065034566286,0.5755211086303392,0.5164748038630417,0.9999999999999996,0.5633875767531843,0.4644046724052188,0.547364107733218,0.4787257752149341],[0.6988520699318961,0.560031221464257,0.6387926667123999,0.6493478864584602,0.553879558875473,0.5633875767531843,1.0000000000000002,0.58996751603646,0.6004111757645184,0.6045096037459382],[0.605353297088513,0.493716878693219,0.514936631712922,0.5236565196038201,0.43945556996600565,0.4644046724052188,0.58996751603646,1.0000000000000007,0.5489850413085305,0.5636903686217394],[0.598660385382522,0.492322388004082,0.610455823119318,0.5383709449379671,0.5318788081971438,0.547364107733218,0.6004111757645184,0.5489850413085305,0.9999999999999991,0.5940904158530803],[0.6631098543419987,0.5444018862701804,0.6030493827682728,0.6236468103944173,0.4869384288941785,0.4787257752149341,0.6045096037459382,0.5636903686217394,0.5940904158530803,1.0]],\"type\":\"heatmap\",\"xaxis\":\"x\",\"yaxis\":\"y\",\"hovertemplate\":\"x: %{x}<br>y: %{y}<br>Similarity Score: %{z}<extra></extra>\"}],                        {\"template\":{\"data\":{\"histogram2dcontour\":[{\"type\":\"histogram2dcontour\",\"colorbar\":{\"outlinewidth\":0,\"ticks\":\"\"},\"colorscale\":[[0.0,\"#0d0887\"],[0.1111111111111111,\"#46039f\"],[0.2222222222222222,\"#7201a8\"],[0.3333333333333333,\"#9c179e\"],[0.4444444444444444,\"#bd3786\"],[0.5555555555555556,\"#d8576b\"],[0.6666666666666666,\"#ed7953\"],[0.7777777777777778,\"#fb9f3a\"],[0.8888888888888888,\"#fdca26\"],[1.0,\"#f0f921\"]]}],\"choropleth\":[{\"type\":\"choropleth\",\"colorbar\":{\"outlinewidth\":0,\"ticks\":\"\"}}],\"histogram2d\":[{\"type\":\"histogram2d\",\"colorbar\":{\"outlinewidth\":0,\"ticks\":\"\"},\"colorscale\":[[0.0,\"#0d0887\"],[0.1111111111111111,\"#46039f\"],[0.2222222222222222,\"#7201a8\"],[0.3333333333333333,\"#9c179e\"],[0.4444444444444444,\"#bd3786\"],[0.5555555555555556,\"#d8576b\"],[0.6666666666666666,\"#ed7953\"],[0.7777777777777778,\"#fb9f3a\"],[0.8888888888888888,\"#fdca26\"],[1.0,\"#f0f921\"]]}],\"heatmap\":[{\"type\":\"heatmap\",\"colorbar\":{\"outlinewidth\":0,\"ticks\":\"\"},\"colorscale\":[[0.0,\"#0d0887\"],[0.1111111111111111,\"#46039f\"],[0.2222222222222222,\"#7201a8\"],[0.3333333333333333,\"#9c179e\"],[0.4444444444444444,\"#bd3786\"],[0.5555555555555556,\"#d8576b\"],[0.6666666666666666,\"#ed7953\"],[0.7777777777777778,\"#fb9f3a\"],[0.8888888888888888,\"#fdca26\"],[1.0,\"#f0f921\"]]}],\"heatmapgl\":[{\"type\":\"heatmapgl\",\"colorbar\":{\"outlinewidth\":0,\"ticks\":\"\"},\"colorscale\":[[0.0,\"#0d0887\"],[0.1111111111111111,\"#46039f\"],[0.2222222222222222,\"#7201a8\"],[0.3333333333333333,\"#9c179e\"],[0.4444444444444444,\"#bd3786\"],[0.5555555555555556,\"#d8576b\"],[0.6666666666666666,\"#ed7953\"],[0.7777777777777778,\"#fb9f3a\"],[0.8888888888888888,\"#fdca26\"],[1.0,\"#f0f921\"]]}],\"contourcarpet\":[{\"type\":\"contourcarpet\",\"colorbar\":{\"outlinewidth\":0,\"ticks\":\"\"}}],\"contour\":[{\"type\":\"contour\",\"colorbar\":{\"outlinewidth\":0,\"ticks\":\"\"},\"colorscale\":[[0.0,\"#0d0887\"],[0.1111111111111111,\"#46039f\"],[0.2222222222222222,\"#7201a8\"],[0.3333333333333333,\"#9c179e\"],[0.4444444444444444,\"#bd3786\"],[0.5555555555555556,\"#d8576b\"],[0.6666666666666666,\"#ed7953\"],[0.7777777777777778,\"#fb9f3a\"],[0.8888888888888888,\"#fdca26\"],[1.0,\"#f0f921\"]]}],\"surface\":[{\"type\":\"surface\",\"colorbar\":{\"outlinewidth\":0,\"ticks\":\"\"},\"colorscale\":[[0.0,\"#0d0887\"],[0.1111111111111111,\"#46039f\"],[0.2222222222222222,\"#7201a8\"],[0.3333333333333333,\"#9c179e\"],[0.4444444444444444,\"#bd3786\"],[0.5555555555555556,\"#d8576b\"],[0.6666666666666666,\"#ed7953\"],[0.7777777777777778,\"#fb9f3a\"],[0.8888888888888888,\"#fdca26\"],[1.0,\"#f0f921\"]]}],\"mesh3d\":[{\"type\":\"mesh3d\",\"colorbar\":{\"outlinewidth\":0,\"ticks\":\"\"}}],\"scatter\":[{\"fillpattern\":{\"fillmode\":\"overlay\",\"size\":10,\"solidity\":0.2},\"type\":\"scatter\"}],\"parcoords\":[{\"type\":\"parcoords\",\"line\":{\"colorbar\":{\"outlinewidth\":0,\"ticks\":\"\"}}}],\"scatterpolargl\":[{\"type\":\"scatterpolargl\",\"marker\":{\"colorbar\":{\"outlinewidth\":0,\"ticks\":\"\"}}}],\"bar\":[{\"error_x\":{\"color\":\"#2a3f5f\"},\"error_y\":{\"color\":\"#2a3f5f\"},\"marker\":{\"line\":{\"color\":\"#E5ECF6\",\"width\":0.5},\"pattern\":{\"fillmode\":\"overlay\",\"size\":10,\"solidity\":0.2}},\"type\":\"bar\"}],\"scattergeo\":[{\"type\":\"scattergeo\",\"marker\":{\"colorbar\":{\"outlinewidth\":0,\"ticks\":\"\"}}}],\"scatterpolar\":[{\"type\":\"scatterpolar\",\"marker\":{\"colorbar\":{\"outlinewidth\":0,\"ticks\":\"\"}}}],\"histogram\":[{\"marker\":{\"pattern\":{\"fillmode\":\"overlay\",\"size\":10,\"solidity\":0.2}},\"type\":\"histogram\"}],\"scattergl\":[{\"type\":\"scattergl\",\"marker\":{\"colorbar\":{\"outlinewidth\":0,\"ticks\":\"\"}}}],\"scatter3d\":[{\"type\":\"scatter3d\",\"line\":{\"colorbar\":{\"outlinewidth\":0,\"ticks\":\"\"}},\"marker\":{\"colorbar\":{\"outlinewidth\":0,\"ticks\":\"\"}}}],\"scattermapbox\":[{\"type\":\"scattermapbox\",\"marker\":{\"colorbar\":{\"outlinewidth\":0,\"ticks\":\"\"}}}],\"scatterternary\":[{\"type\":\"scatterternary\",\"marker\":{\"colorbar\":{\"outlinewidth\":0,\"ticks\":\"\"}}}],\"scattercarpet\":[{\"type\":\"scattercarpet\",\"marker\":{\"colorbar\":{\"outlinewidth\":0,\"ticks\":\"\"}}}],\"carpet\":[{\"aaxis\":{\"endlinecolor\":\"#2a3f5f\",\"gridcolor\":\"white\",\"linecolor\":\"white\",\"minorgridcolor\":\"white\",\"startlinecolor\":\"#2a3f5f\"},\"baxis\":{\"endlinecolor\":\"#2a3f5f\",\"gridcolor\":\"white\",\"linecolor\":\"white\",\"minorgridcolor\":\"white\",\"startlinecolor\":\"#2a3f5f\"},\"type\":\"carpet\"}],\"table\":[{\"cells\":{\"fill\":{\"color\":\"#EBF0F8\"},\"line\":{\"color\":\"white\"}},\"header\":{\"fill\":{\"color\":\"#C8D4E3\"},\"line\":{\"color\":\"white\"}},\"type\":\"table\"}],\"barpolar\":[{\"marker\":{\"line\":{\"color\":\"#E5ECF6\",\"width\":0.5},\"pattern\":{\"fillmode\":\"overlay\",\"size\":10,\"solidity\":0.2}},\"type\":\"barpolar\"}],\"pie\":[{\"automargin\":true,\"type\":\"pie\"}]},\"layout\":{\"autotypenumbers\":\"strict\",\"colorway\":[\"#636efa\",\"#EF553B\",\"#00cc96\",\"#ab63fa\",\"#FFA15A\",\"#19d3f3\",\"#FF6692\",\"#B6E880\",\"#FF97FF\",\"#FECB52\"],\"font\":{\"color\":\"#2a3f5f\"},\"hovermode\":\"closest\",\"hoverlabel\":{\"align\":\"left\"},\"paper_bgcolor\":\"white\",\"plot_bgcolor\":\"#E5ECF6\",\"polar\":{\"bgcolor\":\"#E5ECF6\",\"angularaxis\":{\"gridcolor\":\"white\",\"linecolor\":\"white\",\"ticks\":\"\"},\"radialaxis\":{\"gridcolor\":\"white\",\"linecolor\":\"white\",\"ticks\":\"\"}},\"ternary\":{\"bgcolor\":\"#E5ECF6\",\"aaxis\":{\"gridcolor\":\"white\",\"linecolor\":\"white\",\"ticks\":\"\"},\"baxis\":{\"gridcolor\":\"white\",\"linecolor\":\"white\",\"ticks\":\"\"},\"caxis\":{\"gridcolor\":\"white\",\"linecolor\":\"white\",\"ticks\":\"\"}},\"coloraxis\":{\"colorbar\":{\"outlinewidth\":0,\"ticks\":\"\"}},\"colorscale\":{\"sequential\":[[0.0,\"#0d0887\"],[0.1111111111111111,\"#46039f\"],[0.2222222222222222,\"#7201a8\"],[0.3333333333333333,\"#9c179e\"],[0.4444444444444444,\"#bd3786\"],[0.5555555555555556,\"#d8576b\"],[0.6666666666666666,\"#ed7953\"],[0.7777777777777778,\"#fb9f3a\"],[0.8888888888888888,\"#fdca26\"],[1.0,\"#f0f921\"]],\"sequentialminus\":[[0.0,\"#0d0887\"],[0.1111111111111111,\"#46039f\"],[0.2222222222222222,\"#7201a8\"],[0.3333333333333333,\"#9c179e\"],[0.4444444444444444,\"#bd3786\"],[0.5555555555555556,\"#d8576b\"],[0.6666666666666666,\"#ed7953\"],[0.7777777777777778,\"#fb9f3a\"],[0.8888888888888888,\"#fdca26\"],[1.0,\"#f0f921\"]],\"diverging\":[[0,\"#8e0152\"],[0.1,\"#c51b7d\"],[0.2,\"#de77ae\"],[0.3,\"#f1b6da\"],[0.4,\"#fde0ef\"],[0.5,\"#f7f7f7\"],[0.6,\"#e6f5d0\"],[0.7,\"#b8e186\"],[0.8,\"#7fbc41\"],[0.9,\"#4d9221\"],[1,\"#276419\"]]},\"xaxis\":{\"gridcolor\":\"white\",\"linecolor\":\"white\",\"ticks\":\"\",\"title\":{\"standoff\":15},\"zerolinecolor\":\"white\",\"automargin\":true,\"zerolinewidth\":2},\"yaxis\":{\"gridcolor\":\"white\",\"linecolor\":\"white\",\"ticks\":\"\",\"title\":{\"standoff\":15},\"zerolinecolor\":\"white\",\"automargin\":true,\"zerolinewidth\":2},\"scene\":{\"xaxis\":{\"backgroundcolor\":\"#E5ECF6\",\"gridcolor\":\"white\",\"linecolor\":\"white\",\"showbackground\":true,\"ticks\":\"\",\"zerolinecolor\":\"white\",\"gridwidth\":2},\"yaxis\":{\"backgroundcolor\":\"#E5ECF6\",\"gridcolor\":\"white\",\"linecolor\":\"white\",\"showbackground\":true,\"ticks\":\"\",\"zerolinecolor\":\"white\",\"gridwidth\":2},\"zaxis\":{\"backgroundcolor\":\"#E5ECF6\",\"gridcolor\":\"white\",\"linecolor\":\"white\",\"showbackground\":true,\"ticks\":\"\",\"zerolinecolor\":\"white\",\"gridwidth\":2}},\"shapedefaults\":{\"line\":{\"color\":\"#2a3f5f\"}},\"annotationdefaults\":{\"arrowcolor\":\"#2a3f5f\",\"arrowhead\":0,\"arrowwidth\":1},\"geo\":{\"bgcolor\":\"white\",\"landcolor\":\"#E5ECF6\",\"subunitcolor\":\"white\",\"showland\":true,\"showlakes\":true,\"lakecolor\":\"white\"},\"title\":{\"x\":0.05},\"mapbox\":{\"style\":\"light\"}}},\"xaxis\":{\"anchor\":\"y\",\"domain\":[0.0,1.0],\"scaleanchor\":\"y\",\"constrain\":\"domain\"},\"yaxis\":{\"anchor\":\"x\",\"domain\":[0.0,1.0],\"autorange\":\"reversed\",\"constrain\":\"domain\"},\"coloraxis\":{\"colorbar\":{\"title\":{\"text\":\"Similarity Score\"}},\"colorscale\":[[0.0,\"rgb(247,252,240)\"],[0.125,\"rgb(224,243,219)\"],[0.25,\"rgb(204,235,197)\"],[0.375,\"rgb(168,221,181)\"],[0.5,\"rgb(123,204,196)\"],[0.625,\"rgb(78,179,211)\"],[0.75,\"rgb(43,140,190)\"],[0.875,\"rgb(8,104,172)\"],[1.0,\"rgb(8,64,129)\"]]},\"margin\":{\"t\":60},\"title\":{\"font\":{\"size\":22,\"color\":\"Black\"},\"text\":\"<b>Similarity Matrix\",\"y\":0.95,\"x\":0.55,\"xanchor\":\"center\",\"yanchor\":\"top\"},\"hoverlabel\":{\"font\":{\"size\":16,\"family\":\"Rockwell\"},\"bgcolor\":\"white\"},\"width\":800,\"height\":800,\"showlegend\":true,\"legend\":{\"title\":{\"text\":\"Trend\"}}},                        {\"responsive\": true}                    ).then(function(){\n",
       "                            \n",
       "var gd = document.getElementById('b6098ed4-3677-4aa0-a45f-2a7e7549742c');\n",
       "var x = new MutationObserver(function (mutations, observer) {{\n",
       "        var display = window.getComputedStyle(gd).display;\n",
       "        if (!display || display === 'none') {{\n",
       "            console.log([gd, 'removed!']);\n",
       "            Plotly.purge(gd);\n",
       "            observer.disconnect();\n",
       "        }}\n",
       "}});\n",
       "\n",
       "// Listen for the removal of the full notebook cells\n",
       "var notebookContainer = gd.closest('#notebook-container');\n",
       "if (notebookContainer) {{\n",
       "    x.observe(notebookContainer, {childList: true});\n",
       "}}\n",
       "\n",
       "// Listen for the clearing of the current output cell\n",
       "var outputEl = gd.closest('.output');\n",
       "if (outputEl) {{\n",
       "    x.observe(outputEl, {childList: true});\n",
       "}}\n",
       "\n",
       "                        })                };                });            </script>        </div>"
      ]
     },
     "metadata": {},
     "output_type": "display_data"
    }
   ],
   "source": [
    "model.visualize_heatmap()"
   ]
  },
  {
   "cell_type": "code",
   "execution_count": 166,
   "id": "e4507ce6",
   "metadata": {},
   "outputs": [
    {
     "data": {
      "text/html": [
       "<div>\n",
       "<style scoped>\n",
       "    .dataframe tbody tr th:only-of-type {\n",
       "        vertical-align: middle;\n",
       "    }\n",
       "\n",
       "    .dataframe tbody tr th {\n",
       "        vertical-align: top;\n",
       "    }\n",
       "\n",
       "    .dataframe thead th {\n",
       "        text-align: right;\n",
       "    }\n",
       "</style>\n",
       "<table border=\"1\" class=\"dataframe\">\n",
       "  <thead>\n",
       "    <tr style=\"text-align: right;\">\n",
       "      <th></th>\n",
       "      <th>Topic</th>\n",
       "      <th>Count</th>\n",
       "      <th>Name</th>\n",
       "    </tr>\n",
       "  </thead>\n",
       "  <tbody>\n",
       "    <tr>\n",
       "      <th>0</th>\n",
       "      <td>-1</td>\n",
       "      <td>207</td>\n",
       "      <td>-1_people_want_america_amp</td>\n",
       "    </tr>\n",
       "    <tr>\n",
       "      <th>1</th>\n",
       "      <td>0</td>\n",
       "      <td>292</td>\n",
       "      <td>0_white_people_black_nigga</td>\n",
       "    </tr>\n",
       "    <tr>\n",
       "      <th>2</th>\n",
       "      <td>1</td>\n",
       "      <td>166</td>\n",
       "      <td>1_muslim_biden_migrant_amp</td>\n",
       "    </tr>\n",
       "    <tr>\n",
       "      <th>3</th>\n",
       "      <td>2</td>\n",
       "      <td>61</td>\n",
       "      <td>2_trump_cpac_democrat_president</td>\n",
       "    </tr>\n",
       "    <tr>\n",
       "      <th>4</th>\n",
       "      <td>3</td>\n",
       "      <td>42</td>\n",
       "      <td>3_india_hindu_pakistan_modi</td>\n",
       "    </tr>\n",
       "    <tr>\n",
       "      <th>5</th>\n",
       "      <td>4</td>\n",
       "      <td>31</td>\n",
       "      <td>4_jew_anti_say_semitism</td>\n",
       "    </tr>\n",
       "    <tr>\n",
       "      <th>6</th>\n",
       "      <td>5</td>\n",
       "      <td>24</td>\n",
       "      <td>5_twitter_follower_many_account</td>\n",
       "    </tr>\n",
       "    <tr>\n",
       "      <th>7</th>\n",
       "      <td>6</td>\n",
       "      <td>22</td>\n",
       "      <td>6_play_sit_fantasy_day</td>\n",
       "    </tr>\n",
       "    <tr>\n",
       "      <th>8</th>\n",
       "      <td>7</td>\n",
       "      <td>22</td>\n",
       "      <td>7_soral_alain_answer_episode</td>\n",
       "    </tr>\n",
       "    <tr>\n",
       "      <th>9</th>\n",
       "      <td>8</td>\n",
       "      <td>17</td>\n",
       "      <td>8_reset_great_cleaning_lockdown</td>\n",
       "    </tr>\n",
       "    <tr>\n",
       "      <th>10</th>\n",
       "      <td>9</td>\n",
       "      <td>16</td>\n",
       "      <td>9_communism_socialism_hitler_national</td>\n",
       "    </tr>\n",
       "  </tbody>\n",
       "</table>\n",
       "</div>"
      ],
      "text/plain": [
       "    Topic  Count                                   Name\n",
       "0      -1    207             -1_people_want_america_amp\n",
       "1       0    292             0_white_people_black_nigga\n",
       "2       1    166             1_muslim_biden_migrant_amp\n",
       "3       2     61        2_trump_cpac_democrat_president\n",
       "4       3     42            3_india_hindu_pakistan_modi\n",
       "5       4     31                4_jew_anti_say_semitism\n",
       "6       5     24        5_twitter_follower_many_account\n",
       "7       6     22                 6_play_sit_fantasy_day\n",
       "8       7     22           7_soral_alain_answer_episode\n",
       "9       8     17        8_reset_great_cleaning_lockdown\n",
       "10      9     16  9_communism_socialism_hitler_national"
      ]
     },
     "execution_count": 166,
     "metadata": {},
     "output_type": "execute_result"
    }
   ],
   "source": [
    "model.get_topic_info()"
   ]
  },
  {
   "cell_type": "code",
   "execution_count": 167,
   "id": "f921536e",
   "metadata": {},
   "outputs": [
    {
     "data": {
      "text/plain": [
       "{-1: [('people', 0.0257345512272812),\n",
       "  ('want', 0.02268441495277331),\n",
       "  ('america', 0.020353168646884186),\n",
       "  ('amp', 0.018462523593228673),\n",
       "  ('government', 0.018085438793691132),\n",
       "  ('go', 0.018014771074271855),\n",
       "  ('get', 0.01772035416938935),\n",
       "  ('attack', 0.01728125529290298),\n",
       "  ('mr', 0.01704868360727458),\n",
       "  ('gun', 0.01704868360727458)],\n",
       " 0: [('white', 0.10759500818477581),\n",
       "  ('people', 0.0608939013094943),\n",
       "  ('black', 0.045279520246625744),\n",
       "  ('nigga', 0.02265284131853321),\n",
       "  ('really', 0.02217414391669522),\n",
       "  ('racist', 0.021522313686534057),\n",
       "  ('like', 0.021062578982979217),\n",
       "  ('literally', 0.02019067271439289),\n",
       "  ('racism', 0.02019067271439289),\n",
       "  ('say', 0.020124231220722554)],\n",
       " 1: [('muslim', 0.04873762386510598),\n",
       "  ('biden', 0.040642116458368856),\n",
       "  ('migrant', 0.03408951517120118),\n",
       "  ('amp', 0.03147826659974266),\n",
       "  ('islamic', 0.026575855012353437),\n",
       "  ('attack', 0.025714233297801214),\n",
       "  ('border', 0.025446362967878725),\n",
       "  ('germany', 0.025446362967878725),\n",
       "  ('break', 0.02503812361844553),\n",
       "  ('sweden', 0.024795335839482003)],\n",
       " 2: [('trump', 0.10645930645588678),\n",
       "  ('cpac', 0.09143156528621049),\n",
       "  ('democrat', 0.05224660873497743),\n",
       "  ('president', 0.047443627126088114),\n",
       "  ('georgia', 0.04457726998104972),\n",
       "  ('one', 0.04134844394851569),\n",
       "  ('party', 0.040665966108075526),\n",
       "  ('show', 0.039184956551233066),\n",
       "  ('ballot', 0.03419968856395281),\n",
       "  ('watch', 0.033888305090062944)],\n",
       " 3: [('india', 0.07994721311448985),\n",
       "  ('hindu', 0.05915082492765125),\n",
       "  ('pakistan', 0.049408491242981224),\n",
       "  ('modi', 0.047320659942121),\n",
       "  ('friend', 0.04561701948177379),\n",
       "  ('shri', 0.03907779578254289),\n",
       "  ('delhi', 0.03907779578254289),\n",
       "  ('year', 0.037374004780013806),\n",
       "  ('ji', 0.03705636843223593),\n",
       "  ('let', 0.03542381893917227)],\n",
       " 4: [('jew', 0.23020977202098847),\n",
       "  ('anti', 0.1276149472400287),\n",
       "  ('say', 0.12675019825309933),\n",
       "  ('semitism', 0.10423243698792399),\n",
       "  ('zionism', 0.07526383074647679),\n",
       "  ('semitic', 0.07526383074647679),\n",
       "  ('white', 0.07426575465515681),\n",
       "  ('story', 0.06540129932703592),\n",
       "  ('people', 0.06219459928864217),\n",
       "  ('holocaust', 0.059527108270898674)],\n",
       " 5: [('twitter', 0.15112921368895893),\n",
       "  ('follower', 0.13823456448668958),\n",
       "  ('many', 0.13271347333749062),\n",
       "  ('account', 0.11275856208191239),\n",
       "  ('lose', 0.0718963775219945),\n",
       "  ('channel', 0.06817730122813968),\n",
       "  ('view', 0.06817730122813968),\n",
       "  ('thousand', 0.06529636517987476),\n",
       "  ('write', 0.057730678234169316),\n",
       "  ('year', 0.05500935768486881)],\n",
       " 6: [('play', 0.5883740759932072),\n",
       "  ('sit', 0.10607448665572199),\n",
       "  ('fantasy', 0.10607448665572199),\n",
       "  ('day', 0.06371877618438074),\n",
       "  ('accordion', 0.05921430158388955),\n",
       "  ('train', 0.05921430158388955),\n",
       "  ('wagner', 0.05921430158388955),\n",
       "  ('wolter', 0.05921430158388955),\n",
       "  ('ro', 0.05921430158388955),\n",
       "  ('viva', 0.05921430158388955)],\n",
       " 7: [('soral', 0.2599523736618938),\n",
       "  ('alain', 0.19675305265508117),\n",
       "  ('answer', 0.12042682919402052),\n",
       "  ('episode', 0.09032012189551539),\n",
       "  ('de', 0.08194743643222914),\n",
       "  ('le', 0.07798571209856814),\n",
       "  ('jus', 0.07113977548168182),\n",
       "  ('aid', 0.07113977548168182),\n",
       "  ('restaurateur', 0.07113977548168182),\n",
       "  ('fr', 0.07113977548168182)],\n",
       " 8: [('reset', 0.2217621583356483),\n",
       "  ('great', 0.20745248296070376),\n",
       "  ('cleaning', 0.13077215124079314),\n",
       "  ('lockdown', 0.10775765263135643),\n",
       "  ('climate', 0.09354600397984932),\n",
       "  ('spring', 0.09354600397984932),\n",
       "  ('reimburse', 0.09354600397984932),\n",
       "  ('episode', 0.07917826958819459),\n",
       "  ('old', 0.07632769007777111),\n",
       "  ('part', 0.0700041295122998)],\n",
       " 9: [('communism', 0.21062666534229843),\n",
       "  ('socialism', 0.1611480807323832),\n",
       "  ('hitler', 0.1462096355147678),\n",
       "  ('national', 0.11131293949111862),\n",
       "  ('anyone', 0.10108279096115927),\n",
       "  ('look', 0.07711398500787534),\n",
       "  ('historically', 0.076156041701544),\n",
       "  ('hysteria', 0.076156041701544),\n",
       "  ('dyed', 0.076156041701544),\n",
       "  ('blonde', 0.076156041701544)]}"
      ]
     },
     "execution_count": 167,
     "metadata": {},
     "output_type": "execute_result"
    }
   ],
   "source": [
    "model.get_topics()"
   ]
  },
  {
   "cell_type": "code",
   "execution_count": 168,
   "id": "6713ee64",
   "metadata": {},
   "outputs": [
    {
     "data": {
      "text/plain": [
       "([9, 1, -1, 4, 2],\n",
       " [0.6151157263833544,\n",
       "  0.5927522283217049,\n",
       "  0.5463597892060382,\n",
       "  0.5299337499163588,\n",
       "  0.4659209593942061])"
      ]
     },
     "execution_count": 168,
     "metadata": {},
     "output_type": "execute_result"
    }
   ],
   "source": [
    "model.find_topics(\"terrorism\")"
   ]
  },
  {
   "cell_type": "code",
   "execution_count": null,
   "id": "d0f7101b",
   "metadata": {},
   "outputs": [],
   "source": [
    "model.visualize_documents(tweets)"
   ]
  },
  {
   "cell_type": "code",
   "execution_count": null,
   "id": "67ba1d47",
   "metadata": {},
   "outputs": [],
   "source": [
    "save_model(model.get_topics(), params, \"12 topics, 225 unmatchde, not bad with trump appeering twice but for different topics\")"
   ]
  },
  {
   "cell_type": "code",
   "execution_count": null,
   "id": "6f632a71",
   "metadata": {},
   "outputs": [],
   "source": [
    "write_good_params()"
   ]
  },
  {
   "cell_type": "markdown",
   "id": "08e63d29",
   "metadata": {},
   "source": [
    "### Topics \n",
    "We can give categories we used for labelling to these clusters\n",
    "1. 'white/black - racism'\n",
    "1. 'immigration', 'islam'\n",
    "1. 'american elections', 'farright'\n",
    "1. 'India - Pakistan'\n",
    "1. 'tweeter acccounts'\n",
    "1. 'jew - antisemtism'\n",
    "1. 'fantasy sex play'\n",
    "1. 'Alain Soral'\n",
    "1. 'coronavirus - vaccination'\n",
    "1. 'communism - against bankers, against state order', 'farright\n",
    "\n",
    "categories = \n",
    "\n",
    "Don't have :\n",
    "['terrorism', 'homophobia', 'women', 'other', \"Don't know\"]"
   ]
  },
  {
   "cell_type": "code",
   "execution_count": null,
   "id": "77960ff3",
   "metadata": {},
   "outputs": [],
   "source": [
    "my_topics = [['white/black - racism'],\n",
    "    ['immigration', 'islam'],\n",
    "    ['american elections', 'farright'],\n",
    "    ['India - Pakistan'],\n",
    "    ['tweeter acccounts'],\n",
    "    ['jew - antisemtism'],\n",
    "    ['fantasy sex play'],\n",
    "    ['Alain Soral', 'farright'],\n",
    "    ['coronavirus - vaccination'],\n",
    "    ['communism - against bankers, against state order', 'farright'],\n",
    "    ['terrorism', 'homophobia', 'women', 'other', \"Don't know\"]]"
   ]
  },
  {
   "cell_type": "code",
   "execution_count": null,
   "id": "fa7a17c9",
   "metadata": {},
   "outputs": [],
   "source": [
    "df_labeled = get_labeled_tweets(country = 'France')\n",
    "labeled_tweets = df_labeled.join(df.loc[df_labeled.index][['topics','clean']])\n",
    "labeled_tweets['topics'] = labeled_tweets['topics'].apply(lambda x: my_topics[x])"
   ]
  },
  {
   "cell_type": "code",
   "execution_count": null,
   "id": "d8039438",
   "metadata": {},
   "outputs": [],
   "source": [
    "get_score(labeled_tweets)"
   ]
  },
  {
   "cell_type": "markdown",
   "id": "668e6827",
   "metadata": {},
   "source": [
    "## Metric"
   ]
  },
  {
   "cell_type": "code",
   "execution_count": null,
   "id": "44240a53",
   "metadata": {},
   "outputs": [],
   "source": [
    "import gensim.corpora as corpora\n",
    "from gensim.models.coherencemodel import CoherenceModel"
   ]
  },
  {
   "cell_type": "code",
   "execution_count": null,
   "id": "39c495fa",
   "metadata": {},
   "outputs": [],
   "source": [
    "# Preprocess Documents\n",
    "documents = pd.DataFrame({\"Document\": tweets,\n",
    "                          \"ID\": range(len(tweets)),\n",
    "                          \"Topic\": topics})\n",
    "documents_per_topic = documents.groupby(['Topic'], as_index=False).agg({'Document': ' '.join})\n",
    "cleaned_docs = model._preprocess_text(documents_per_topic.Document.values)"
   ]
  },
  {
   "cell_type": "code",
   "execution_count": null,
   "id": "2236e1db",
   "metadata": {},
   "outputs": [],
   "source": [
    "# Extract vectorizer and analyzer from BERTopic\n",
    "vectorizer = model.vectorizer_model\n",
    "analyzer = vectorizer.build_analyzer()"
   ]
  },
  {
   "cell_type": "code",
   "execution_count": null,
   "id": "450b18a2",
   "metadata": {},
   "outputs": [],
   "source": [
    "# Extract features for Topic Coherence evaluation\n",
    "words = vectorizer.get_feature_names()\n",
    "tokens = [analyzer(doc) for doc in cleaned_docs]\n",
    "dictionary = corpora.Dictionary(tokens)\n",
    "corpus = [dictionary.doc2bow(token) for token in tokens]\n",
    "topic_words = [[words for words, _ in model.get_topic(topic)] \n",
    "               for topic in range(len(set(topics))-1)]"
   ]
  },
  {
   "cell_type": "code",
   "execution_count": null,
   "id": "1469b9de",
   "metadata": {},
   "outputs": [],
   "source": [
    "# Evaluate\n",
    "coherence_model = CoherenceModel(topics=topic_words, \n",
    "                                 texts=tokens, \n",
    "                                 corpus=corpus,\n",
    "                                 dictionary=dictionary, \n",
    "                                 coherence='c_v')\n",
    "coherence = coherence_model.get_coherence()"
   ]
  },
  {
   "cell_type": "code",
   "execution_count": null,
   "id": "d3ff4edf",
   "metadata": {},
   "outputs": [],
   "source": [
    "coherence"
   ]
  },
  {
   "cell_type": "code",
   "execution_count": null,
   "id": "9d38caf8",
   "metadata": {},
   "outputs": [],
   "source": [
    "topic_words"
   ]
  },
  {
   "cell_type": "code",
   "execution_count": null,
   "id": "f1b26222",
   "metadata": {},
   "outputs": [],
   "source": []
  },
  {
   "cell_type": "code",
   "execution_count": null,
   "id": "707b7dd3",
   "metadata": {},
   "outputs": [],
   "source": []
  },
  {
   "cell_type": "code",
   "execution_count": null,
   "id": "f93a6785",
   "metadata": {},
   "outputs": [],
   "source": []
  },
  {
   "cell_type": "code",
   "execution_count": null,
   "id": "dfecc228",
   "metadata": {},
   "outputs": [],
   "source": []
  },
  {
   "cell_type": "code",
   "execution_count": null,
   "id": "a69a731e",
   "metadata": {},
   "outputs": [],
   "source": []
  },
  {
   "cell_type": "code",
   "execution_count": null,
   "id": "dd2a4000",
   "metadata": {},
   "outputs": [],
   "source": []
  },
  {
   "cell_type": "code",
   "execution_count": null,
   "id": "b25d200f",
   "metadata": {},
   "outputs": [],
   "source": []
  }
 ],
 "metadata": {
  "kernelspec": {
   "display_name": "Python 3 (ipykernel)",
   "language": "python",
   "name": "python3"
  },
  "language_info": {
   "codemirror_mode": {
    "name": "ipython",
    "version": 3
   },
   "file_extension": ".py",
   "mimetype": "text/x-python",
   "name": "python",
   "nbconvert_exporter": "python",
   "pygments_lexer": "ipython3",
   "version": "3.9.7"
  }
 },
 "nbformat": 4,
 "nbformat_minor": 5
}
