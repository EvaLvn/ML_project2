{
 "cells": [
  {
   "cell_type": "code",
   "execution_count": 31,
   "id": "841408ef",
   "metadata": {},
   "outputs": [
    {
     "name": "stdout",
     "output_type": "stream",
     "text": [
      "The autoreload extension is already loaded. To reload it, use:\n",
      "  %reload_ext autoreload\n"
     ]
    }
   ],
   "source": [
    "import pandas as pd\n",
    "from nltk.corpus import stopwords\n",
    "from sentence_transformers import SentenceTransformer\n",
    "\n",
    "from bertopic import BERTopic\n",
    "from sklearn.feature_extraction.text import CountVectorizer\n",
    "from hdbscan import HDBSCAN\n",
    "from umap import UMAP\n",
    "\n",
    "from pre_processing import *\n",
    "from helpers import *\n",
    "\n",
    "%load_ext autoreload\n",
    "%autoreload 2"
   ]
  },
  {
   "cell_type": "code",
   "execution_count": 32,
   "id": "73b464a7",
   "metadata": {},
   "outputs": [],
   "source": [
    "# Load data\n",
    "df = pd.read_csv('data/to_be_clustered.csv.gz', compression=\"gzip\")\n",
    "\n",
    "# array that can save the models\n",
    "saved_models = []"
   ]
  },
  {
   "cell_type": "code",
   "execution_count": 33,
   "id": "697aa981",
   "metadata": {},
   "outputs": [],
   "source": [
    "import pickle\n",
    "def save_model(model, params, message = \"\"):\n",
    "    saved_models.append((model, params, message))\n",
    "    \n",
    "def write_good_params():\n",
    "    pickle.dump(saved_models, open( \"data/saved_models/save_models_for_\"+country+\".pkl\", \"wb\" ))\n",
    "    \n",
    "def get_model(params, additional_stop_words =  []) :\n",
    "    embedding_model = SentenceTransformer(\"all-mpnet-base-v2\") #'digio/Twitter4SSE'\n",
    "    s = list(stopwords.words('english'))\n",
    "    vectorizer_model = CountVectorizer(stop_words=s)\n",
    "    \n",
    "    umap_model = UMAP(n_neighbors = params['UMAP']['n_neighbors'], \n",
    "                  n_components = params['UMAP']['n_components'], \n",
    "                  min_dist = params['UMAP']['min_dist'], \n",
    "                  metric = params['UMAP']['metric'], \n",
    "                  low_memory = params['UMAP']['low_memory'], \n",
    "                  random_state = params['UMAP']['random_state'])\n",
    "\n",
    "    hdbscan_model = HDBSCAN(min_cluster_size = params['HDBSCAN']['min_cluster_size'],\n",
    "                       min_samples = params['HDBSCAN']['min_samples'],\n",
    "                       cluster_selection_epsilon = params['HDBSCAN']['cluster_selection_epsilon'],\n",
    "                       metric = params['HDBSCAN']['metric'],                      \n",
    "                       cluster_selection_method = params['HDBSCAN']['cluster_selection_method'],\n",
    "                       prediction_data = params['HDBSCAN']['prediction_data'])\n",
    "\n",
    "    model = BERTopic(\n",
    "        umap_model = umap_model,\n",
    "        vectorizer_model=vectorizer_model,\n",
    "        hdbscan_model = hdbscan_model,\n",
    "        embedding_model=embedding_model,\n",
    "        language='english', calculate_probabilities=False,\n",
    "        verbose=True\n",
    "    )\n",
    "    return model"
   ]
  },
  {
   "cell_type": "markdown",
   "id": "7c2b7b73",
   "metadata": {},
   "source": [
    "## Chose the country"
   ]
  },
  {
   "cell_type": "code",
   "execution_count": 34,
   "id": "841d07a1",
   "metadata": {},
   "outputs": [],
   "source": [
    "country = 'France'"
   ]
  },
  {
   "cell_type": "markdown",
   "id": "0be33a93",
   "metadata": {},
   "source": [
    "## Set parameters"
   ]
  },
  {
   "cell_type": "code",
   "execution_count": 35,
   "id": "bca23a5a",
   "metadata": {},
   "outputs": [],
   "source": [
    "## Best params until now but cannot catch coronavirus\n",
    "params = {\n",
    "    'UMAP' : {\n",
    "        'metric' : 'cosine', \n",
    "        'n_neighbors' : 15, \n",
    "        'n_components' : 20, \n",
    "        'min_dist' : 0.3, \n",
    "        'low_memory' : False,\n",
    "        'random_state': 8\n",
    "    },\n",
    "    'HDBSCAN': {\n",
    "        'min_cluster_size':15,\n",
    "        'min_samples': 1,\n",
    "        'cluster_selection_epsilon': 0.6,\n",
    "        'metric': 'euclidean',                      \n",
    "        'cluster_selection_method': 'eom',\n",
    "        'prediction_data': True}\n",
    "}"
   ]
  },
  {
   "cell_type": "markdown",
   "id": "5052636e",
   "metadata": {},
   "source": [
    "## Load Model"
   ]
  },
  {
   "cell_type": "code",
   "execution_count": 36,
   "id": "f4f39e16",
   "metadata": {},
   "outputs": [],
   "source": [
    "df = df[df.whcs == country]\n",
    "df.drop(df[df.clean.isna()].index,inplace =True)\n",
    "tweets = df.clean.to_list()\n",
    "model = get_model(params, additional_stop_words= ['lol','true', 'amp'])"
   ]
  },
  {
   "cell_type": "code",
   "execution_count": 37,
   "id": "a13b76ce",
   "metadata": {},
   "outputs": [
    {
     "data": {
      "application/vnd.jupyter.widget-view+json": {
       "model_id": "31c58bba22ca4cf98c06e49d9319f0f2",
       "version_major": 2,
       "version_minor": 0
      },
      "text/plain": [
       "Batches:   0%|          | 0/29 [00:00<?, ?it/s]"
      ]
     },
     "metadata": {},
     "output_type": "display_data"
    },
    {
     "name": "stderr",
     "output_type": "stream",
     "text": [
      "2022-12-13 20:42:08,229 - BERTopic - Transformed documents to Embeddings\n",
      "2022-12-13 20:42:13,335 - BERTopic - Reduced dimensionality\n",
      "2022-12-13 20:42:13,498 - BERTopic - Clustered reduced embeddings\n"
     ]
    }
   ],
   "source": [
    "topics, probs = model.fit_transform(tweets)"
   ]
  },
  {
   "cell_type": "code",
   "execution_count": 38,
   "id": "8cab8d2c",
   "metadata": {},
   "outputs": [],
   "source": [
    "df['topics'] = topics\n",
    "my_topcis = ['white/black - racism', 'islam - terrorism', 'coronavirus - vaccination', \n",
    "          'american elections', 'India - Pakistan', 'jew - antisemtism', 'farright - anti communism'\n",
    "          'tweeter acccounts', 'fantasy sex play', 'Alain Soral', 'immigration', 'homophobia']"
   ]
  },
  {
   "cell_type": "code",
   "execution_count": 39,
   "id": "3395e615",
   "metadata": {},
   "outputs": [
    {
     "data": {
      "application/vnd.plotly.v1+json": {
       "config": {
        "plotlyServerURL": "https://plot.ly"
       },
       "data": [
        {
         "coloraxis": "coloraxis",
         "hovertemplate": "x: %{x}<br>y: %{y}<br>Similarity Score: %{z}<extra></extra>",
         "name": "0",
         "type": "heatmap",
         "x": [
          "0_white_people_black",
          "1_muslim_biden_migrant",
          "2_nigga_lil_twitter",
          "3_trump_cpac_power",
          "4_india_hindu_pakistan",
          "5_jew_anti_say",
          "6_play_sit_fantasy",
          "7_soral_alain_answer",
          "8_berry_jeane_manson",
          "9_yahweh_mon_deplatform",
          "10_reset_great_cleaning"
         ],
         "xaxis": "x",
         "y": [
          "0_white_people_black",
          "1_muslim_biden_migrant",
          "2_nigga_lil_twitter",
          "3_trump_cpac_power",
          "4_india_hindu_pakistan",
          "5_jew_anti_say",
          "6_play_sit_fantasy",
          "7_soral_alain_answer",
          "8_berry_jeane_manson",
          "9_yahweh_mon_deplatform",
          "10_reset_great_cleaning"
         ],
         "yaxis": "y",
         "z": [
          [
           0.9999999999999996,
           0.6690084821006377,
           0.7314638944346284,
           0.683947614710072,
           0.7625237173598274,
           0.6135844336890943,
           0.6283055623306183,
           0.5643004528700089,
           0.5890224770208433,
           0.6330148268939069,
           0.6771485368069488
          ],
          [
           0.6690084821006377,
           1,
           0.6775480249350111,
           0.619398750652685,
           0.6226668387935529,
           0.46338178160597016,
           0.7416357626406896,
           0.4768071784482577,
           0.48341930588407833,
           0.5621368237939918,
           0.5523274697838269
          ],
          [
           0.7314638944346284,
           0.6775480249350111,
           1.0000000000000002,
           0.646334824979754,
           0.7385040391461047,
           0.6615273310178227,
           0.7148157786824847,
           0.499303564021449,
           0.604217345909523,
           0.656088623876161,
           0.6445313574498102
          ],
          [
           0.683947614710072,
           0.619398750652685,
           0.646334824979754,
           0.9999999999999998,
           0.6702057506513257,
           0.5694058347886679,
           0.6359803714982288,
           0.5708064083659644,
           0.6038983469461353,
           0.650891336243402,
           0.6828815744516178
          ],
          [
           0.7625237173598274,
           0.6226668387935529,
           0.7385040391461047,
           0.6702057506513257,
           0.9999999999999996,
           0.6021156354807631,
           0.6119673271160585,
           0.5178777059941069,
           0.5489651624099443,
           0.6367344953688887,
           0.6744932726605903
          ],
          [
           0.6135844336890943,
           0.46338178160597016,
           0.6615273310178227,
           0.5694058347886679,
           0.6021156354807631,
           0.9999999999999997,
           0.5073898514053983,
           0.4315184570816042,
           0.5216716917938278,
           0.5159368661520973,
           0.5595925419669128
          ],
          [
           0.6283055623306183,
           0.7416357626406896,
           0.7148157786824847,
           0.6359803714982288,
           0.6119673271160585,
           0.5073898514053983,
           1.0000000000000007,
           0.4643082029194699,
           0.5471035644139699,
           0.5669312232763856,
           0.5906700033645527
          ],
          [
           0.5643004528700089,
           0.4768071784482577,
           0.499303564021449,
           0.5708064083659644,
           0.5178777059941069,
           0.4315184570816042,
           0.4643082029194699,
           1.0000000000000004,
           0.5501550685786107,
           0.5178887102279036,
           0.5633982512032049
          ],
          [
           0.5890224770208433,
           0.48341930588407833,
           0.604217345909523,
           0.6038983469461353,
           0.5489651624099443,
           0.5216716917938278,
           0.5471035644139699,
           0.5501550685786107,
           0.9999999999999998,
           0.6899996461832165,
           0.6527549265533389
          ],
          [
           0.6330148268939069,
           0.5621368237939918,
           0.656088623876161,
           0.650891336243402,
           0.6367344953688887,
           0.5159368661520973,
           0.5669312232763856,
           0.5178887102279036,
           0.6899996461832165,
           1.0000000000000002,
           0.6511177444875347
          ],
          [
           0.6771485368069488,
           0.5523274697838269,
           0.6445313574498102,
           0.6828815744516178,
           0.6744932726605903,
           0.5595925419669128,
           0.5906700033645527,
           0.5633982512032049,
           0.6527549265533389,
           0.6511177444875347,
           1.0000000000000002
          ]
         ]
        }
       ],
       "layout": {
        "coloraxis": {
         "colorbar": {
          "title": {
           "text": "Similarity Score"
          }
         },
         "colorscale": [
          [
           0,
           "rgb(247,252,240)"
          ],
          [
           0.125,
           "rgb(224,243,219)"
          ],
          [
           0.25,
           "rgb(204,235,197)"
          ],
          [
           0.375,
           "rgb(168,221,181)"
          ],
          [
           0.5,
           "rgb(123,204,196)"
          ],
          [
           0.625,
           "rgb(78,179,211)"
          ],
          [
           0.75,
           "rgb(43,140,190)"
          ],
          [
           0.875,
           "rgb(8,104,172)"
          ],
          [
           1,
           "rgb(8,64,129)"
          ]
         ]
        },
        "height": 800,
        "hoverlabel": {
         "bgcolor": "white",
         "font": {
          "family": "Rockwell",
          "size": 16
         }
        },
        "legend": {
         "title": {
          "text": "Trend"
         }
        },
        "margin": {
         "t": 60
        },
        "showlegend": true,
        "template": {
         "data": {
          "bar": [
           {
            "error_x": {
             "color": "#2a3f5f"
            },
            "error_y": {
             "color": "#2a3f5f"
            },
            "marker": {
             "line": {
              "color": "#E5ECF6",
              "width": 0.5
             },
             "pattern": {
              "fillmode": "overlay",
              "size": 10,
              "solidity": 0.2
             }
            },
            "type": "bar"
           }
          ],
          "barpolar": [
           {
            "marker": {
             "line": {
              "color": "#E5ECF6",
              "width": 0.5
             },
             "pattern": {
              "fillmode": "overlay",
              "size": 10,
              "solidity": 0.2
             }
            },
            "type": "barpolar"
           }
          ],
          "carpet": [
           {
            "aaxis": {
             "endlinecolor": "#2a3f5f",
             "gridcolor": "white",
             "linecolor": "white",
             "minorgridcolor": "white",
             "startlinecolor": "#2a3f5f"
            },
            "baxis": {
             "endlinecolor": "#2a3f5f",
             "gridcolor": "white",
             "linecolor": "white",
             "minorgridcolor": "white",
             "startlinecolor": "#2a3f5f"
            },
            "type": "carpet"
           }
          ],
          "choropleth": [
           {
            "colorbar": {
             "outlinewidth": 0,
             "ticks": ""
            },
            "type": "choropleth"
           }
          ],
          "contour": [
           {
            "colorbar": {
             "outlinewidth": 0,
             "ticks": ""
            },
            "colorscale": [
             [
              0,
              "#0d0887"
             ],
             [
              0.1111111111111111,
              "#46039f"
             ],
             [
              0.2222222222222222,
              "#7201a8"
             ],
             [
              0.3333333333333333,
              "#9c179e"
             ],
             [
              0.4444444444444444,
              "#bd3786"
             ],
             [
              0.5555555555555556,
              "#d8576b"
             ],
             [
              0.6666666666666666,
              "#ed7953"
             ],
             [
              0.7777777777777778,
              "#fb9f3a"
             ],
             [
              0.8888888888888888,
              "#fdca26"
             ],
             [
              1,
              "#f0f921"
             ]
            ],
            "type": "contour"
           }
          ],
          "contourcarpet": [
           {
            "colorbar": {
             "outlinewidth": 0,
             "ticks": ""
            },
            "type": "contourcarpet"
           }
          ],
          "heatmap": [
           {
            "colorbar": {
             "outlinewidth": 0,
             "ticks": ""
            },
            "colorscale": [
             [
              0,
              "#0d0887"
             ],
             [
              0.1111111111111111,
              "#46039f"
             ],
             [
              0.2222222222222222,
              "#7201a8"
             ],
             [
              0.3333333333333333,
              "#9c179e"
             ],
             [
              0.4444444444444444,
              "#bd3786"
             ],
             [
              0.5555555555555556,
              "#d8576b"
             ],
             [
              0.6666666666666666,
              "#ed7953"
             ],
             [
              0.7777777777777778,
              "#fb9f3a"
             ],
             [
              0.8888888888888888,
              "#fdca26"
             ],
             [
              1,
              "#f0f921"
             ]
            ],
            "type": "heatmap"
           }
          ],
          "heatmapgl": [
           {
            "colorbar": {
             "outlinewidth": 0,
             "ticks": ""
            },
            "colorscale": [
             [
              0,
              "#0d0887"
             ],
             [
              0.1111111111111111,
              "#46039f"
             ],
             [
              0.2222222222222222,
              "#7201a8"
             ],
             [
              0.3333333333333333,
              "#9c179e"
             ],
             [
              0.4444444444444444,
              "#bd3786"
             ],
             [
              0.5555555555555556,
              "#d8576b"
             ],
             [
              0.6666666666666666,
              "#ed7953"
             ],
             [
              0.7777777777777778,
              "#fb9f3a"
             ],
             [
              0.8888888888888888,
              "#fdca26"
             ],
             [
              1,
              "#f0f921"
             ]
            ],
            "type": "heatmapgl"
           }
          ],
          "histogram": [
           {
            "marker": {
             "pattern": {
              "fillmode": "overlay",
              "size": 10,
              "solidity": 0.2
             }
            },
            "type": "histogram"
           }
          ],
          "histogram2d": [
           {
            "colorbar": {
             "outlinewidth": 0,
             "ticks": ""
            },
            "colorscale": [
             [
              0,
              "#0d0887"
             ],
             [
              0.1111111111111111,
              "#46039f"
             ],
             [
              0.2222222222222222,
              "#7201a8"
             ],
             [
              0.3333333333333333,
              "#9c179e"
             ],
             [
              0.4444444444444444,
              "#bd3786"
             ],
             [
              0.5555555555555556,
              "#d8576b"
             ],
             [
              0.6666666666666666,
              "#ed7953"
             ],
             [
              0.7777777777777778,
              "#fb9f3a"
             ],
             [
              0.8888888888888888,
              "#fdca26"
             ],
             [
              1,
              "#f0f921"
             ]
            ],
            "type": "histogram2d"
           }
          ],
          "histogram2dcontour": [
           {
            "colorbar": {
             "outlinewidth": 0,
             "ticks": ""
            },
            "colorscale": [
             [
              0,
              "#0d0887"
             ],
             [
              0.1111111111111111,
              "#46039f"
             ],
             [
              0.2222222222222222,
              "#7201a8"
             ],
             [
              0.3333333333333333,
              "#9c179e"
             ],
             [
              0.4444444444444444,
              "#bd3786"
             ],
             [
              0.5555555555555556,
              "#d8576b"
             ],
             [
              0.6666666666666666,
              "#ed7953"
             ],
             [
              0.7777777777777778,
              "#fb9f3a"
             ],
             [
              0.8888888888888888,
              "#fdca26"
             ],
             [
              1,
              "#f0f921"
             ]
            ],
            "type": "histogram2dcontour"
           }
          ],
          "mesh3d": [
           {
            "colorbar": {
             "outlinewidth": 0,
             "ticks": ""
            },
            "type": "mesh3d"
           }
          ],
          "parcoords": [
           {
            "line": {
             "colorbar": {
              "outlinewidth": 0,
              "ticks": ""
             }
            },
            "type": "parcoords"
           }
          ],
          "pie": [
           {
            "automargin": true,
            "type": "pie"
           }
          ],
          "scatter": [
           {
            "fillpattern": {
             "fillmode": "overlay",
             "size": 10,
             "solidity": 0.2
            },
            "type": "scatter"
           }
          ],
          "scatter3d": [
           {
            "line": {
             "colorbar": {
              "outlinewidth": 0,
              "ticks": ""
             }
            },
            "marker": {
             "colorbar": {
              "outlinewidth": 0,
              "ticks": ""
             }
            },
            "type": "scatter3d"
           }
          ],
          "scattercarpet": [
           {
            "marker": {
             "colorbar": {
              "outlinewidth": 0,
              "ticks": ""
             }
            },
            "type": "scattercarpet"
           }
          ],
          "scattergeo": [
           {
            "marker": {
             "colorbar": {
              "outlinewidth": 0,
              "ticks": ""
             }
            },
            "type": "scattergeo"
           }
          ],
          "scattergl": [
           {
            "marker": {
             "colorbar": {
              "outlinewidth": 0,
              "ticks": ""
             }
            },
            "type": "scattergl"
           }
          ],
          "scattermapbox": [
           {
            "marker": {
             "colorbar": {
              "outlinewidth": 0,
              "ticks": ""
             }
            },
            "type": "scattermapbox"
           }
          ],
          "scatterpolar": [
           {
            "marker": {
             "colorbar": {
              "outlinewidth": 0,
              "ticks": ""
             }
            },
            "type": "scatterpolar"
           }
          ],
          "scatterpolargl": [
           {
            "marker": {
             "colorbar": {
              "outlinewidth": 0,
              "ticks": ""
             }
            },
            "type": "scatterpolargl"
           }
          ],
          "scatterternary": [
           {
            "marker": {
             "colorbar": {
              "outlinewidth": 0,
              "ticks": ""
             }
            },
            "type": "scatterternary"
           }
          ],
          "surface": [
           {
            "colorbar": {
             "outlinewidth": 0,
             "ticks": ""
            },
            "colorscale": [
             [
              0,
              "#0d0887"
             ],
             [
              0.1111111111111111,
              "#46039f"
             ],
             [
              0.2222222222222222,
              "#7201a8"
             ],
             [
              0.3333333333333333,
              "#9c179e"
             ],
             [
              0.4444444444444444,
              "#bd3786"
             ],
             [
              0.5555555555555556,
              "#d8576b"
             ],
             [
              0.6666666666666666,
              "#ed7953"
             ],
             [
              0.7777777777777778,
              "#fb9f3a"
             ],
             [
              0.8888888888888888,
              "#fdca26"
             ],
             [
              1,
              "#f0f921"
             ]
            ],
            "type": "surface"
           }
          ],
          "table": [
           {
            "cells": {
             "fill": {
              "color": "#EBF0F8"
             },
             "line": {
              "color": "white"
             }
            },
            "header": {
             "fill": {
              "color": "#C8D4E3"
             },
             "line": {
              "color": "white"
             }
            },
            "type": "table"
           }
          ]
         },
         "layout": {
          "annotationdefaults": {
           "arrowcolor": "#2a3f5f",
           "arrowhead": 0,
           "arrowwidth": 1
          },
          "autotypenumbers": "strict",
          "coloraxis": {
           "colorbar": {
            "outlinewidth": 0,
            "ticks": ""
           }
          },
          "colorscale": {
           "diverging": [
            [
             0,
             "#8e0152"
            ],
            [
             0.1,
             "#c51b7d"
            ],
            [
             0.2,
             "#de77ae"
            ],
            [
             0.3,
             "#f1b6da"
            ],
            [
             0.4,
             "#fde0ef"
            ],
            [
             0.5,
             "#f7f7f7"
            ],
            [
             0.6,
             "#e6f5d0"
            ],
            [
             0.7,
             "#b8e186"
            ],
            [
             0.8,
             "#7fbc41"
            ],
            [
             0.9,
             "#4d9221"
            ],
            [
             1,
             "#276419"
            ]
           ],
           "sequential": [
            [
             0,
             "#0d0887"
            ],
            [
             0.1111111111111111,
             "#46039f"
            ],
            [
             0.2222222222222222,
             "#7201a8"
            ],
            [
             0.3333333333333333,
             "#9c179e"
            ],
            [
             0.4444444444444444,
             "#bd3786"
            ],
            [
             0.5555555555555556,
             "#d8576b"
            ],
            [
             0.6666666666666666,
             "#ed7953"
            ],
            [
             0.7777777777777778,
             "#fb9f3a"
            ],
            [
             0.8888888888888888,
             "#fdca26"
            ],
            [
             1,
             "#f0f921"
            ]
           ],
           "sequentialminus": [
            [
             0,
             "#0d0887"
            ],
            [
             0.1111111111111111,
             "#46039f"
            ],
            [
             0.2222222222222222,
             "#7201a8"
            ],
            [
             0.3333333333333333,
             "#9c179e"
            ],
            [
             0.4444444444444444,
             "#bd3786"
            ],
            [
             0.5555555555555556,
             "#d8576b"
            ],
            [
             0.6666666666666666,
             "#ed7953"
            ],
            [
             0.7777777777777778,
             "#fb9f3a"
            ],
            [
             0.8888888888888888,
             "#fdca26"
            ],
            [
             1,
             "#f0f921"
            ]
           ]
          },
          "colorway": [
           "#636efa",
           "#EF553B",
           "#00cc96",
           "#ab63fa",
           "#FFA15A",
           "#19d3f3",
           "#FF6692",
           "#B6E880",
           "#FF97FF",
           "#FECB52"
          ],
          "font": {
           "color": "#2a3f5f"
          },
          "geo": {
           "bgcolor": "white",
           "lakecolor": "white",
           "landcolor": "#E5ECF6",
           "showlakes": true,
           "showland": true,
           "subunitcolor": "white"
          },
          "hoverlabel": {
           "align": "left"
          },
          "hovermode": "closest",
          "mapbox": {
           "style": "light"
          },
          "paper_bgcolor": "white",
          "plot_bgcolor": "#E5ECF6",
          "polar": {
           "angularaxis": {
            "gridcolor": "white",
            "linecolor": "white",
            "ticks": ""
           },
           "bgcolor": "#E5ECF6",
           "radialaxis": {
            "gridcolor": "white",
            "linecolor": "white",
            "ticks": ""
           }
          },
          "scene": {
           "xaxis": {
            "backgroundcolor": "#E5ECF6",
            "gridcolor": "white",
            "gridwidth": 2,
            "linecolor": "white",
            "showbackground": true,
            "ticks": "",
            "zerolinecolor": "white"
           },
           "yaxis": {
            "backgroundcolor": "#E5ECF6",
            "gridcolor": "white",
            "gridwidth": 2,
            "linecolor": "white",
            "showbackground": true,
            "ticks": "",
            "zerolinecolor": "white"
           },
           "zaxis": {
            "backgroundcolor": "#E5ECF6",
            "gridcolor": "white",
            "gridwidth": 2,
            "linecolor": "white",
            "showbackground": true,
            "ticks": "",
            "zerolinecolor": "white"
           }
          },
          "shapedefaults": {
           "line": {
            "color": "#2a3f5f"
           }
          },
          "ternary": {
           "aaxis": {
            "gridcolor": "white",
            "linecolor": "white",
            "ticks": ""
           },
           "baxis": {
            "gridcolor": "white",
            "linecolor": "white",
            "ticks": ""
           },
           "bgcolor": "#E5ECF6",
           "caxis": {
            "gridcolor": "white",
            "linecolor": "white",
            "ticks": ""
           }
          },
          "title": {
           "x": 0.05
          },
          "xaxis": {
           "automargin": true,
           "gridcolor": "white",
           "linecolor": "white",
           "ticks": "",
           "title": {
            "standoff": 15
           },
           "zerolinecolor": "white",
           "zerolinewidth": 2
          },
          "yaxis": {
           "automargin": true,
           "gridcolor": "white",
           "linecolor": "white",
           "ticks": "",
           "title": {
            "standoff": 15
           },
           "zerolinecolor": "white",
           "zerolinewidth": 2
          }
         }
        },
        "title": {
         "font": {
          "color": "Black",
          "size": 22
         },
         "text": "<b>Similarity Matrix",
         "x": 0.55,
         "xanchor": "center",
         "y": 0.95,
         "yanchor": "top"
        },
        "width": 800,
        "xaxis": {
         "anchor": "y",
         "constrain": "domain",
         "domain": [
          0,
          1
         ],
         "scaleanchor": "y"
        },
        "yaxis": {
         "anchor": "x",
         "autorange": "reversed",
         "constrain": "domain",
         "domain": [
          0,
          1
         ]
        }
       }
      },
      "text/html": [
       "<div>                            <div id=\"fb90364e-b27a-4456-a0bb-2b0c9f3f96b3\" class=\"plotly-graph-div\" style=\"height:800px; width:800px;\"></div>            <script type=\"text/javascript\">                require([\"plotly\"], function(Plotly) {                    window.PLOTLYENV=window.PLOTLYENV || {};                                    if (document.getElementById(\"fb90364e-b27a-4456-a0bb-2b0c9f3f96b3\")) {                    Plotly.newPlot(                        \"fb90364e-b27a-4456-a0bb-2b0c9f3f96b3\",                        [{\"coloraxis\":\"coloraxis\",\"name\":\"0\",\"x\":[\"0_white_people_black\",\"1_muslim_biden_migrant\",\"2_nigga_lil_twitter\",\"3_trump_cpac_power\",\"4_india_hindu_pakistan\",\"5_jew_anti_say\",\"6_play_sit_fantasy\",\"7_soral_alain_answer\",\"8_berry_jeane_manson\",\"9_yahweh_mon_deplatform\",\"10_reset_great_cleaning\"],\"y\":[\"0_white_people_black\",\"1_muslim_biden_migrant\",\"2_nigga_lil_twitter\",\"3_trump_cpac_power\",\"4_india_hindu_pakistan\",\"5_jew_anti_say\",\"6_play_sit_fantasy\",\"7_soral_alain_answer\",\"8_berry_jeane_manson\",\"9_yahweh_mon_deplatform\",\"10_reset_great_cleaning\"],\"z\":[[0.9999999999999996,0.6690084821006377,0.7314638944346284,0.683947614710072,0.7625237173598274,0.6135844336890943,0.6283055623306183,0.5643004528700089,0.5890224770208433,0.6330148268939069,0.6771485368069488],[0.6690084821006377,1.0,0.6775480249350111,0.619398750652685,0.6226668387935529,0.46338178160597016,0.7416357626406896,0.4768071784482577,0.48341930588407833,0.5621368237939918,0.5523274697838269],[0.7314638944346284,0.6775480249350111,1.0000000000000002,0.646334824979754,0.7385040391461047,0.6615273310178227,0.7148157786824847,0.499303564021449,0.604217345909523,0.656088623876161,0.6445313574498102],[0.683947614710072,0.619398750652685,0.646334824979754,0.9999999999999998,0.6702057506513257,0.5694058347886679,0.6359803714982288,0.5708064083659644,0.6038983469461353,0.650891336243402,0.6828815744516178],[0.7625237173598274,0.6226668387935529,0.7385040391461047,0.6702057506513257,0.9999999999999996,0.6021156354807631,0.6119673271160585,0.5178777059941069,0.5489651624099443,0.6367344953688887,0.6744932726605903],[0.6135844336890943,0.46338178160597016,0.6615273310178227,0.5694058347886679,0.6021156354807631,0.9999999999999997,0.5073898514053983,0.4315184570816042,0.5216716917938278,0.5159368661520973,0.5595925419669128],[0.6283055623306183,0.7416357626406896,0.7148157786824847,0.6359803714982288,0.6119673271160585,0.5073898514053983,1.0000000000000007,0.4643082029194699,0.5471035644139699,0.5669312232763856,0.5906700033645527],[0.5643004528700089,0.4768071784482577,0.499303564021449,0.5708064083659644,0.5178777059941069,0.4315184570816042,0.4643082029194699,1.0000000000000004,0.5501550685786107,0.5178887102279036,0.5633982512032049],[0.5890224770208433,0.48341930588407833,0.604217345909523,0.6038983469461353,0.5489651624099443,0.5216716917938278,0.5471035644139699,0.5501550685786107,0.9999999999999998,0.6899996461832165,0.6527549265533389],[0.6330148268939069,0.5621368237939918,0.656088623876161,0.650891336243402,0.6367344953688887,0.5159368661520973,0.5669312232763856,0.5178887102279036,0.6899996461832165,1.0000000000000002,0.6511177444875347],[0.6771485368069488,0.5523274697838269,0.6445313574498102,0.6828815744516178,0.6744932726605903,0.5595925419669128,0.5906700033645527,0.5633982512032049,0.6527549265533389,0.6511177444875347,1.0000000000000002]],\"type\":\"heatmap\",\"xaxis\":\"x\",\"yaxis\":\"y\",\"hovertemplate\":\"x: %{x}<br>y: %{y}<br>Similarity Score: %{z}<extra></extra>\"}],                        {\"template\":{\"data\":{\"histogram2dcontour\":[{\"type\":\"histogram2dcontour\",\"colorbar\":{\"outlinewidth\":0,\"ticks\":\"\"},\"colorscale\":[[0.0,\"#0d0887\"],[0.1111111111111111,\"#46039f\"],[0.2222222222222222,\"#7201a8\"],[0.3333333333333333,\"#9c179e\"],[0.4444444444444444,\"#bd3786\"],[0.5555555555555556,\"#d8576b\"],[0.6666666666666666,\"#ed7953\"],[0.7777777777777778,\"#fb9f3a\"],[0.8888888888888888,\"#fdca26\"],[1.0,\"#f0f921\"]]}],\"choropleth\":[{\"type\":\"choropleth\",\"colorbar\":{\"outlinewidth\":0,\"ticks\":\"\"}}],\"histogram2d\":[{\"type\":\"histogram2d\",\"colorbar\":{\"outlinewidth\":0,\"ticks\":\"\"},\"colorscale\":[[0.0,\"#0d0887\"],[0.1111111111111111,\"#46039f\"],[0.2222222222222222,\"#7201a8\"],[0.3333333333333333,\"#9c179e\"],[0.4444444444444444,\"#bd3786\"],[0.5555555555555556,\"#d8576b\"],[0.6666666666666666,\"#ed7953\"],[0.7777777777777778,\"#fb9f3a\"],[0.8888888888888888,\"#fdca26\"],[1.0,\"#f0f921\"]]}],\"heatmap\":[{\"type\":\"heatmap\",\"colorbar\":{\"outlinewidth\":0,\"ticks\":\"\"},\"colorscale\":[[0.0,\"#0d0887\"],[0.1111111111111111,\"#46039f\"],[0.2222222222222222,\"#7201a8\"],[0.3333333333333333,\"#9c179e\"],[0.4444444444444444,\"#bd3786\"],[0.5555555555555556,\"#d8576b\"],[0.6666666666666666,\"#ed7953\"],[0.7777777777777778,\"#fb9f3a\"],[0.8888888888888888,\"#fdca26\"],[1.0,\"#f0f921\"]]}],\"heatmapgl\":[{\"type\":\"heatmapgl\",\"colorbar\":{\"outlinewidth\":0,\"ticks\":\"\"},\"colorscale\":[[0.0,\"#0d0887\"],[0.1111111111111111,\"#46039f\"],[0.2222222222222222,\"#7201a8\"],[0.3333333333333333,\"#9c179e\"],[0.4444444444444444,\"#bd3786\"],[0.5555555555555556,\"#d8576b\"],[0.6666666666666666,\"#ed7953\"],[0.7777777777777778,\"#fb9f3a\"],[0.8888888888888888,\"#fdca26\"],[1.0,\"#f0f921\"]]}],\"contourcarpet\":[{\"type\":\"contourcarpet\",\"colorbar\":{\"outlinewidth\":0,\"ticks\":\"\"}}],\"contour\":[{\"type\":\"contour\",\"colorbar\":{\"outlinewidth\":0,\"ticks\":\"\"},\"colorscale\":[[0.0,\"#0d0887\"],[0.1111111111111111,\"#46039f\"],[0.2222222222222222,\"#7201a8\"],[0.3333333333333333,\"#9c179e\"],[0.4444444444444444,\"#bd3786\"],[0.5555555555555556,\"#d8576b\"],[0.6666666666666666,\"#ed7953\"],[0.7777777777777778,\"#fb9f3a\"],[0.8888888888888888,\"#fdca26\"],[1.0,\"#f0f921\"]]}],\"surface\":[{\"type\":\"surface\",\"colorbar\":{\"outlinewidth\":0,\"ticks\":\"\"},\"colorscale\":[[0.0,\"#0d0887\"],[0.1111111111111111,\"#46039f\"],[0.2222222222222222,\"#7201a8\"],[0.3333333333333333,\"#9c179e\"],[0.4444444444444444,\"#bd3786\"],[0.5555555555555556,\"#d8576b\"],[0.6666666666666666,\"#ed7953\"],[0.7777777777777778,\"#fb9f3a\"],[0.8888888888888888,\"#fdca26\"],[1.0,\"#f0f921\"]]}],\"mesh3d\":[{\"type\":\"mesh3d\",\"colorbar\":{\"outlinewidth\":0,\"ticks\":\"\"}}],\"scatter\":[{\"fillpattern\":{\"fillmode\":\"overlay\",\"size\":10,\"solidity\":0.2},\"type\":\"scatter\"}],\"parcoords\":[{\"type\":\"parcoords\",\"line\":{\"colorbar\":{\"outlinewidth\":0,\"ticks\":\"\"}}}],\"scatterpolargl\":[{\"type\":\"scatterpolargl\",\"marker\":{\"colorbar\":{\"outlinewidth\":0,\"ticks\":\"\"}}}],\"bar\":[{\"error_x\":{\"color\":\"#2a3f5f\"},\"error_y\":{\"color\":\"#2a3f5f\"},\"marker\":{\"line\":{\"color\":\"#E5ECF6\",\"width\":0.5},\"pattern\":{\"fillmode\":\"overlay\",\"size\":10,\"solidity\":0.2}},\"type\":\"bar\"}],\"scattergeo\":[{\"type\":\"scattergeo\",\"marker\":{\"colorbar\":{\"outlinewidth\":0,\"ticks\":\"\"}}}],\"scatterpolar\":[{\"type\":\"scatterpolar\",\"marker\":{\"colorbar\":{\"outlinewidth\":0,\"ticks\":\"\"}}}],\"histogram\":[{\"marker\":{\"pattern\":{\"fillmode\":\"overlay\",\"size\":10,\"solidity\":0.2}},\"type\":\"histogram\"}],\"scattergl\":[{\"type\":\"scattergl\",\"marker\":{\"colorbar\":{\"outlinewidth\":0,\"ticks\":\"\"}}}],\"scatter3d\":[{\"type\":\"scatter3d\",\"line\":{\"colorbar\":{\"outlinewidth\":0,\"ticks\":\"\"}},\"marker\":{\"colorbar\":{\"outlinewidth\":0,\"ticks\":\"\"}}}],\"scattermapbox\":[{\"type\":\"scattermapbox\",\"marker\":{\"colorbar\":{\"outlinewidth\":0,\"ticks\":\"\"}}}],\"scatterternary\":[{\"type\":\"scatterternary\",\"marker\":{\"colorbar\":{\"outlinewidth\":0,\"ticks\":\"\"}}}],\"scattercarpet\":[{\"type\":\"scattercarpet\",\"marker\":{\"colorbar\":{\"outlinewidth\":0,\"ticks\":\"\"}}}],\"carpet\":[{\"aaxis\":{\"endlinecolor\":\"#2a3f5f\",\"gridcolor\":\"white\",\"linecolor\":\"white\",\"minorgridcolor\":\"white\",\"startlinecolor\":\"#2a3f5f\"},\"baxis\":{\"endlinecolor\":\"#2a3f5f\",\"gridcolor\":\"white\",\"linecolor\":\"white\",\"minorgridcolor\":\"white\",\"startlinecolor\":\"#2a3f5f\"},\"type\":\"carpet\"}],\"table\":[{\"cells\":{\"fill\":{\"color\":\"#EBF0F8\"},\"line\":{\"color\":\"white\"}},\"header\":{\"fill\":{\"color\":\"#C8D4E3\"},\"line\":{\"color\":\"white\"}},\"type\":\"table\"}],\"barpolar\":[{\"marker\":{\"line\":{\"color\":\"#E5ECF6\",\"width\":0.5},\"pattern\":{\"fillmode\":\"overlay\",\"size\":10,\"solidity\":0.2}},\"type\":\"barpolar\"}],\"pie\":[{\"automargin\":true,\"type\":\"pie\"}]},\"layout\":{\"autotypenumbers\":\"strict\",\"colorway\":[\"#636efa\",\"#EF553B\",\"#00cc96\",\"#ab63fa\",\"#FFA15A\",\"#19d3f3\",\"#FF6692\",\"#B6E880\",\"#FF97FF\",\"#FECB52\"],\"font\":{\"color\":\"#2a3f5f\"},\"hovermode\":\"closest\",\"hoverlabel\":{\"align\":\"left\"},\"paper_bgcolor\":\"white\",\"plot_bgcolor\":\"#E5ECF6\",\"polar\":{\"bgcolor\":\"#E5ECF6\",\"angularaxis\":{\"gridcolor\":\"white\",\"linecolor\":\"white\",\"ticks\":\"\"},\"radialaxis\":{\"gridcolor\":\"white\",\"linecolor\":\"white\",\"ticks\":\"\"}},\"ternary\":{\"bgcolor\":\"#E5ECF6\",\"aaxis\":{\"gridcolor\":\"white\",\"linecolor\":\"white\",\"ticks\":\"\"},\"baxis\":{\"gridcolor\":\"white\",\"linecolor\":\"white\",\"ticks\":\"\"},\"caxis\":{\"gridcolor\":\"white\",\"linecolor\":\"white\",\"ticks\":\"\"}},\"coloraxis\":{\"colorbar\":{\"outlinewidth\":0,\"ticks\":\"\"}},\"colorscale\":{\"sequential\":[[0.0,\"#0d0887\"],[0.1111111111111111,\"#46039f\"],[0.2222222222222222,\"#7201a8\"],[0.3333333333333333,\"#9c179e\"],[0.4444444444444444,\"#bd3786\"],[0.5555555555555556,\"#d8576b\"],[0.6666666666666666,\"#ed7953\"],[0.7777777777777778,\"#fb9f3a\"],[0.8888888888888888,\"#fdca26\"],[1.0,\"#f0f921\"]],\"sequentialminus\":[[0.0,\"#0d0887\"],[0.1111111111111111,\"#46039f\"],[0.2222222222222222,\"#7201a8\"],[0.3333333333333333,\"#9c179e\"],[0.4444444444444444,\"#bd3786\"],[0.5555555555555556,\"#d8576b\"],[0.6666666666666666,\"#ed7953\"],[0.7777777777777778,\"#fb9f3a\"],[0.8888888888888888,\"#fdca26\"],[1.0,\"#f0f921\"]],\"diverging\":[[0,\"#8e0152\"],[0.1,\"#c51b7d\"],[0.2,\"#de77ae\"],[0.3,\"#f1b6da\"],[0.4,\"#fde0ef\"],[0.5,\"#f7f7f7\"],[0.6,\"#e6f5d0\"],[0.7,\"#b8e186\"],[0.8,\"#7fbc41\"],[0.9,\"#4d9221\"],[1,\"#276419\"]]},\"xaxis\":{\"gridcolor\":\"white\",\"linecolor\":\"white\",\"ticks\":\"\",\"title\":{\"standoff\":15},\"zerolinecolor\":\"white\",\"automargin\":true,\"zerolinewidth\":2},\"yaxis\":{\"gridcolor\":\"white\",\"linecolor\":\"white\",\"ticks\":\"\",\"title\":{\"standoff\":15},\"zerolinecolor\":\"white\",\"automargin\":true,\"zerolinewidth\":2},\"scene\":{\"xaxis\":{\"backgroundcolor\":\"#E5ECF6\",\"gridcolor\":\"white\",\"linecolor\":\"white\",\"showbackground\":true,\"ticks\":\"\",\"zerolinecolor\":\"white\",\"gridwidth\":2},\"yaxis\":{\"backgroundcolor\":\"#E5ECF6\",\"gridcolor\":\"white\",\"linecolor\":\"white\",\"showbackground\":true,\"ticks\":\"\",\"zerolinecolor\":\"white\",\"gridwidth\":2},\"zaxis\":{\"backgroundcolor\":\"#E5ECF6\",\"gridcolor\":\"white\",\"linecolor\":\"white\",\"showbackground\":true,\"ticks\":\"\",\"zerolinecolor\":\"white\",\"gridwidth\":2}},\"shapedefaults\":{\"line\":{\"color\":\"#2a3f5f\"}},\"annotationdefaults\":{\"arrowcolor\":\"#2a3f5f\",\"arrowhead\":0,\"arrowwidth\":1},\"geo\":{\"bgcolor\":\"white\",\"landcolor\":\"#E5ECF6\",\"subunitcolor\":\"white\",\"showland\":true,\"showlakes\":true,\"lakecolor\":\"white\"},\"title\":{\"x\":0.05},\"mapbox\":{\"style\":\"light\"}}},\"xaxis\":{\"anchor\":\"y\",\"domain\":[0.0,1.0],\"scaleanchor\":\"y\",\"constrain\":\"domain\"},\"yaxis\":{\"anchor\":\"x\",\"domain\":[0.0,1.0],\"autorange\":\"reversed\",\"constrain\":\"domain\"},\"coloraxis\":{\"colorbar\":{\"title\":{\"text\":\"Similarity Score\"}},\"colorscale\":[[0.0,\"rgb(247,252,240)\"],[0.125,\"rgb(224,243,219)\"],[0.25,\"rgb(204,235,197)\"],[0.375,\"rgb(168,221,181)\"],[0.5,\"rgb(123,204,196)\"],[0.625,\"rgb(78,179,211)\"],[0.75,\"rgb(43,140,190)\"],[0.875,\"rgb(8,104,172)\"],[1.0,\"rgb(8,64,129)\"]]},\"margin\":{\"t\":60},\"title\":{\"font\":{\"size\":22,\"color\":\"Black\"},\"text\":\"<b>Similarity Matrix\",\"y\":0.95,\"x\":0.55,\"xanchor\":\"center\",\"yanchor\":\"top\"},\"hoverlabel\":{\"font\":{\"size\":16,\"family\":\"Rockwell\"},\"bgcolor\":\"white\"},\"width\":800,\"height\":800,\"showlegend\":true,\"legend\":{\"title\":{\"text\":\"Trend\"}}},                        {\"responsive\": true}                    ).then(function(){\n",
       "                            \n",
       "var gd = document.getElementById('fb90364e-b27a-4456-a0bb-2b0c9f3f96b3');\n",
       "var x = new MutationObserver(function (mutations, observer) {{\n",
       "        var display = window.getComputedStyle(gd).display;\n",
       "        if (!display || display === 'none') {{\n",
       "            console.log([gd, 'removed!']);\n",
       "            Plotly.purge(gd);\n",
       "            observer.disconnect();\n",
       "        }}\n",
       "}});\n",
       "\n",
       "// Listen for the removal of the full notebook cells\n",
       "var notebookContainer = gd.closest('#notebook-container');\n",
       "if (notebookContainer) {{\n",
       "    x.observe(notebookContainer, {childList: true});\n",
       "}}\n",
       "\n",
       "// Listen for the clearing of the current output cell\n",
       "var outputEl = gd.closest('.output');\n",
       "if (outputEl) {{\n",
       "    x.observe(outputEl, {childList: true});\n",
       "}}\n",
       "\n",
       "                        })                };                });            </script>        </div>"
      ]
     },
     "metadata": {},
     "output_type": "display_data"
    }
   ],
   "source": [
    "model.visualize_heatmap()"
   ]
  },
  {
   "cell_type": "code",
   "execution_count": 40,
   "id": "e4507ce6",
   "metadata": {},
   "outputs": [
    {
     "data": {
      "text/html": [
       "<div>\n",
       "<style scoped>\n",
       "    .dataframe tbody tr th:only-of-type {\n",
       "        vertical-align: middle;\n",
       "    }\n",
       "\n",
       "    .dataframe tbody tr th {\n",
       "        vertical-align: top;\n",
       "    }\n",
       "\n",
       "    .dataframe thead th {\n",
       "        text-align: right;\n",
       "    }\n",
       "</style>\n",
       "<table border=\"1\" class=\"dataframe\">\n",
       "  <thead>\n",
       "    <tr style=\"text-align: right;\">\n",
       "      <th></th>\n",
       "      <th>Topic</th>\n",
       "      <th>Count</th>\n",
       "      <th>Name</th>\n",
       "    </tr>\n",
       "  </thead>\n",
       "  <tbody>\n",
       "    <tr>\n",
       "      <th>0</th>\n",
       "      <td>-1</td>\n",
       "      <td>179</td>\n",
       "      <td>-1_people_get_want_mr</td>\n",
       "    </tr>\n",
       "    <tr>\n",
       "      <th>1</th>\n",
       "      <td>0</td>\n",
       "      <td>189</td>\n",
       "      <td>0_white_people_black_racist</td>\n",
       "    </tr>\n",
       "    <tr>\n",
       "      <th>2</th>\n",
       "      <td>1</td>\n",
       "      <td>165</td>\n",
       "      <td>1_muslim_biden_migrant_amp</td>\n",
       "    </tr>\n",
       "    <tr>\n",
       "      <th>3</th>\n",
       "      <td>2</td>\n",
       "      <td>101</td>\n",
       "      <td>2_nigga_lil_twitter_fuck</td>\n",
       "    </tr>\n",
       "    <tr>\n",
       "      <th>4</th>\n",
       "      <td>3</td>\n",
       "      <td>94</td>\n",
       "      <td>3_trump_cpac_power_communism</td>\n",
       "    </tr>\n",
       "    <tr>\n",
       "      <th>5</th>\n",
       "      <td>4</td>\n",
       "      <td>46</td>\n",
       "      <td>4_india_hindu_pakistan_modi</td>\n",
       "    </tr>\n",
       "    <tr>\n",
       "      <th>6</th>\n",
       "      <td>5</td>\n",
       "      <td>31</td>\n",
       "      <td>5_jew_anti_say_semitism</td>\n",
       "    </tr>\n",
       "    <tr>\n",
       "      <th>7</th>\n",
       "      <td>6</td>\n",
       "      <td>22</td>\n",
       "      <td>6_play_sit_fantasy_day</td>\n",
       "    </tr>\n",
       "    <tr>\n",
       "      <th>8</th>\n",
       "      <td>7</td>\n",
       "      <td>22</td>\n",
       "      <td>7_soral_alain_answer_episode</td>\n",
       "    </tr>\n",
       "    <tr>\n",
       "      <th>9</th>\n",
       "      <td>8</td>\n",
       "      <td>18</td>\n",
       "      <td>8_berry_jeane_manson_assange</td>\n",
       "    </tr>\n",
       "    <tr>\n",
       "      <th>10</th>\n",
       "      <td>9</td>\n",
       "      <td>17</td>\n",
       "      <td>9_yahweh_mon_deplatform_dc</td>\n",
       "    </tr>\n",
       "    <tr>\n",
       "      <th>11</th>\n",
       "      <td>10</td>\n",
       "      <td>16</td>\n",
       "      <td>10_reset_great_cleaning_lockdown</td>\n",
       "    </tr>\n",
       "  </tbody>\n",
       "</table>\n",
       "</div>"
      ],
      "text/plain": [
       "    Topic  Count                              Name\n",
       "0      -1    179             -1_people_get_want_mr\n",
       "1       0    189       0_white_people_black_racist\n",
       "2       1    165        1_muslim_biden_migrant_amp\n",
       "3       2    101          2_nigga_lil_twitter_fuck\n",
       "4       3     94      3_trump_cpac_power_communism\n",
       "5       4     46       4_india_hindu_pakistan_modi\n",
       "6       5     31           5_jew_anti_say_semitism\n",
       "7       6     22            6_play_sit_fantasy_day\n",
       "8       7     22      7_soral_alain_answer_episode\n",
       "9       8     18      8_berry_jeane_manson_assange\n",
       "10      9     17        9_yahweh_mon_deplatform_dc\n",
       "11     10     16  10_reset_great_cleaning_lockdown"
      ]
     },
     "execution_count": 40,
     "metadata": {},
     "output_type": "execute_result"
    }
   ],
   "source": [
    "model.get_topic_info()"
   ]
  },
  {
   "cell_type": "code",
   "execution_count": 41,
   "id": "f921536e",
   "metadata": {},
   "outputs": [
    {
     "data": {
      "text/plain": [
       "{-1: [('people', 0.025229362252351013),\n",
       "  ('get', 0.023595742716328572),\n",
       "  ('want', 0.019696810594882617),\n",
       "  ('mr', 0.019376256926973284),\n",
       "  ('gun', 0.019376256926973284),\n",
       "  ('america', 0.019132921995857796),\n",
       "  ('amp', 0.01904753534984963),\n",
       "  ('government', 0.018202150463911597),\n",
       "  ('left', 0.017727129535394355),\n",
       "  ('world', 0.01769474468343855)],\n",
       " 0: [('white', 0.14023304184882154),\n",
       "  ('people', 0.07314173581047005),\n",
       "  ('black', 0.06148606504322554),\n",
       "  ('racist', 0.028609679929422836),\n",
       "  ('racism', 0.026848362660787595),\n",
       "  ('diversity', 0.02468452847922403),\n",
       "  ('war', 0.024261857489089413),\n",
       "  ('supremacist', 0.024139906987789277),\n",
       "  ('get', 0.023833679440132347),\n",
       "  ('race', 0.023187324456103147)],\n",
       " 1: [('muslim', 0.04763870485892607),\n",
       "  ('biden', 0.039749697452471276),\n",
       "  ('migrant', 0.03168321153429926),\n",
       "  ('amp', 0.03072305701816145),\n",
       "  ('islamic', 0.026065087685097042),\n",
       "  ('attack', 0.0251655885114386),\n",
       "  ('germany', 0.025009372566648858),\n",
       "  ('break', 0.02460004398918951),\n",
       "  ('refugee', 0.024395754709876743),\n",
       "  ('sweden', 0.024395754709876743)],\n",
       " 2: [('nigga', 0.0763852497369207),\n",
       "  ('lil', 0.06776453359583158),\n",
       "  ('twitter', 0.05437381109565467),\n",
       "  ('fuck', 0.053015540951527024),\n",
       "  ('follower', 0.049890776195725794),\n",
       "  ('many', 0.047616056358871346),\n",
       "  ('account', 0.0474351735170821),\n",
       "  ('know', 0.04475910059331869),\n",
       "  ('woman', 0.04475910059331869),\n",
       "  ('truth', 0.03563626871123271)],\n",
       " 3: [('trump', 0.06723834576739764),\n",
       "  ('cpac', 0.06105241639648463),\n",
       "  ('power', 0.042156485639593996),\n",
       "  ('communism', 0.03584018087199276),\n",
       "  ('democrat', 0.0348870950837055),\n",
       "  ('one', 0.03348271707989839),\n",
       "  ('party', 0.031703186791955565),\n",
       "  ('go', 0.02984862601317087),\n",
       "  ('georgia', 0.029839435667538862),\n",
       "  ('national', 0.028370751398788155)],\n",
       " 4: [('india', 0.08779999925516606),\n",
       "  ('hindu', 0.05212702977435974),\n",
       "  ('pakistan', 0.04357262768872505),\n",
       "  ('modi', 0.04170162381948779),\n",
       "  ('friend', 0.040175092133388476),\n",
       "  ('delhi', 0.034491182367685204),\n",
       "  ('shri', 0.034491182367685204),\n",
       "  ('ji', 0.032679470766543796),\n",
       "  ('year', 0.03263495239166884),\n",
       "  ('let', 0.031047338924203638)],\n",
       " 5: [('jew', 0.22477634756395512),\n",
       "  ('anti', 0.1243340176119575),\n",
       "  ('say', 0.12322229135079435),\n",
       "  ('semitism', 0.10238168640444162),\n",
       "  ('zionism', 0.07402661478299526),\n",
       "  ('semitic', 0.07402661478299526),\n",
       "  ('white', 0.07122161265204548),\n",
       "  ('story', 0.06417082939255668),\n",
       "  ('people', 0.05981800404992902),\n",
       "  ('holocaust', 0.05859792273219638)],\n",
       " 6: [('play', 0.5748027218260742),\n",
       "  ('sit', 0.10452925411072461),\n",
       "  ('fantasy', 0.10452925411072461),\n",
       "  ('day', 0.06221488191502329),\n",
       "  ('accordion', 0.0584406219672716),\n",
       "  ('train', 0.0584406219672716),\n",
       "  ('wagner', 0.0584406219672716),\n",
       "  ('wolter', 0.0584406219672716),\n",
       "  ('ro', 0.0584406219672716),\n",
       "  ('viva', 0.0584406219672716)],\n",
       " 7: [('soral', 0.2548271083723487),\n",
       "  ('alain', 0.19315067535804484),\n",
       "  ('answer', 0.11836269275710908),\n",
       "  ('episode', 0.0887720195678318),\n",
       "  ('de', 0.0804056649724101),\n",
       "  ('le', 0.0764481325117046),\n",
       "  ('jus', 0.07010345185868957),\n",
       "  ('aid', 0.07010345185868957),\n",
       "  ('restaurateur', 0.07010345185868957),\n",
       "  ('fr', 0.07010345185868957)],\n",
       " 8: [('berry', 0.15558001365380833),\n",
       "  ('jeane', 0.10685503557047574),\n",
       "  ('manson', 0.10685503557047574),\n",
       "  ('assange', 0.10685503557047574),\n",
       "  ('release', 0.09689494946292752),\n",
       "  ('guy', 0.07695682739052684),\n",
       "  ('coline', 0.07651814680000757),\n",
       "  ('bail', 0.07651814680000757),\n",
       "  ('sect', 0.07651814680000757),\n",
       "  ('julian', 0.07651814680000757)],\n",
       " 9: [('yahweh', 0.10154546858560738),\n",
       "  ('mon', 0.07271600285963452),\n",
       "  ('deplatform', 0.07271600285963452),\n",
       "  ('dc', 0.07271600285963452),\n",
       "  ('hate', 0.07187356712297797),\n",
       "  ('domestic', 0.06414107305731577),\n",
       "  ('nation', 0.06138686239266215),\n",
       "  ('capitol', 0.06138686239266215),\n",
       "  ('th', 0.05913973189821782),\n",
       "  ('dangerous', 0.057242524906465815)],\n",
       " 10: [('reset', 0.22849702090762802),\n",
       "  ('great', 0.21284105485642082),\n",
       "  ('cleaning', 0.1351142185312627),\n",
       "  ('lockdown', 0.11097310785448336),\n",
       "  ('climate', 0.09675435091240626),\n",
       "  ('reimburse', 0.09675435091240626),\n",
       "  ('spring', 0.09675435091240626),\n",
       "  ('episode', 0.081680040043129),\n",
       "  ('old', 0.07869005649267),\n",
       "  ('warn', 0.06271212739774314)]}"
      ]
     },
     "execution_count": 41,
     "metadata": {},
     "output_type": "execute_result"
    }
   ],
   "source": [
    "model.get_topics()"
   ]
  },
  {
   "cell_type": "code",
   "execution_count": 42,
   "id": "d7a31b88",
   "metadata": {},
   "outputs": [
    {
     "data": {
      "text/plain": [
       "([1, 5, 3, -1, 0],\n",
       " [0.5957646661869934,\n",
       "  0.5302741385820826,\n",
       "  0.5291504266860951,\n",
       "  0.5257780479770615,\n",
       "  0.4612791744735536])"
      ]
     },
     "execution_count": 42,
     "metadata": {},
     "output_type": "execute_result"
    }
   ],
   "source": [
    "model.find_topics(\"terrorism\")"
   ]
  },
  {
   "cell_type": "code",
   "execution_count": 43,
   "id": "d0f7101b",
   "metadata": {},
   "outputs": [
    {
     "data": {
      "application/vnd.plotly.v1+json": {
       "config": {
        "plotlyServerURL": "https://plot.ly"
       },
       "data": [
        {
         "hoverinfo": "text",
         "hovertext": [
          "conquer illegal minor brought dallas male age",
          "put account protect mode",
          "come religious place thief come steal robber",
          "equality liberal construct",
          "brittany huge slut",
          "rashida tlaib give oscar worthy performance house floor favorite line happen january th",
          "flashback democrat whitewash jihad pulse nightclub islamic terror attack amp blame gun instead left u jihad attack",
          "barack obama blame boulder islamic attack disaffection racism misogyny call gun control mean",
          "one legally obligate hire people foreign country law tell hire citizen f",
          "texas lead freedom via",
          "daily reminder george soros bill gate one let see keep distract pacify",
          "freedom gift beyond estimate give god nation perseverance courage consistency",
          "people think boris johnson resign prime minister think continue office accord",
          "play celine dion leave without eurovision grand prix",
          "left protects domestic terrorist whereas right abandon",
          "want drive neighborhood let driven away gegendemo af",
          "baaaaaaaaaaaaa",
          "shakespeare sex arcuri johnson read shakespeare sex sofa london mayo",
          "pay global security bunch scar trickster",
          "country need endless warfare behalf israel get ta make world safe god chosen",
          "tell russia never cucked j",
          "amazon dictate ebooks online book sale audiobooks sale head thi",
          "accusatory inversion modus operandi",
          "mine christine",
          "sister",
          "still believe live free country",
          "struggle real god nowhere bible say worry stress amp",
          "call target harassment",
          "crack smoking hunter biden cry racism deflect swedish sex scandal hunter smear come swedish authorit",
          "agree ignoramus toby young free describe journalist illiterate make",
          "happy palm sunday amp begin week change world may walk close jesus death amp",
          "time school place child could learn safety thanks importation di",
          "uncle mla aunt vice president",
          "must watch arizona parent fight back school board communist anti racism initiative child indoctrin",
          "leftist never held accountable vicious public threat violence keep make trump",
          "main stream medium work international banker international banker fully human hurt u",
          "hat white people era late great pop culture cool fashion trend",
          "china amp iran control biden commie amp islamic supremacist long history unite destroy common enemy",
          "term radical thrown around pretty loosely day literally anything left like",
          "well really want get subject serial killer start samuel little",
          "stop banker eat dumpster",
          "amount money ever bring equality equality exist anywhere nature brib",
          "hesitate worn bottom people see inside let go colorful",
          "even eat meat whole eat bug synthetic meat thing pretty sketch",
          "terrorist come terrorist come",
          "fraud alert joe biden amp harris resurrect left wing lie call hate crime asian american",
          "video perfectly illustrates rapid decline quality living u america bust je",
          "march nyc mayor de blasio msnbc amp healthy n yers little th",
          "donald trump jr gov cuomo get emmy send grandma death gov de santis get hell open beach h",
          "ever notice literally sea protest medium like hype sign write english",
          "new gab post east west divide read way",
          "teach child follow god world teach",
          "attack u military eleven soldier fort bliss texas injured drinking antifreeze believe dr",
          "possibly scam divert funding community could possibly scam get",
          "love george monbiot pummel andrew bowie monbiot absolutely cool measure logical bowie typic",
          "patriot fight back san diego gym owner sue state amp county official tyrannical lockdown measure wa",
          "much bad everything try pretend trump",
          "brexit cost uk gdp first year body blow uk economy plummet almost cer",
          "censorship laughable pathetic scar conservative",
          "appal homeless queue food last night soup kitchen freeze condition ten year toryism",
          "get ready lady gentleman criminal illegitimate government go wag open war p",
          "muslim mayor london fire new year eve firework display feature black life matter marxist clenched",
          "true never forget",
          "tik tok innocent social network indian redneck year old quiet fun",
          "whine tv artist lend voice family victim",
          "go take people stand shame everyone stood watch",
          "well guy entire continent call sure would great deal easy get",
          "cosmetic industry perfumery trade also see existence danger open letter appeal",
          "man reaps sow lago puelo neighbor receive alberto badly must end run away",
          "government surround fence arm military guard planning unspeakably ho",
          "world live world people celebrate turn family member mob",
          "wrong incite intense dislike religion activity teach religion outrageous ir",
          "isolated act bullying result illegitimate government flood white country",
          "good pornography toxic legally allow exist",
          "everything david hogg reinforces belief one allow vote engage political discours",
          "gt little girl also kinky someone explain part campaign normalize idea",
          "israel still forefront dictatorship",
          "say year ago lot people say hyperbolic",
          "terror canada nye amir abdulrahman amp al azan shah muhammad drag police sgt andrew harnett death enrichers",
          "never go solve world problem spread lie hitler germany outlaw firearm ownership",
          "great reset eat bug future proclaims world economic forum unelected self anoint global elitist post vi",
          "people arm security shut hell gun control laughable allow protect themse",
          "right give british journalism coverage brexit covid",
          "book write",
          "safely enjoy stroll around mall anymore virtually every mall go",
          "wave illegal alien clearly fund believe really bought shirt th",
          "get ready people government move",
          "parliament need time",
          "great talk common challenge opportunity u congress always bastion su",
          "nothing civil politics anymore politics war either accept prepare accordingly",
          "sayer die",
          "today first day zero degree entire hour",
          "even know could shoot mile wow seriousness idiot like allow",
          "enrichment ireland mob african migrant black life matter communist try attack bus full irish people",
          "daily reminder current president united state say good thing found stock america",
          "kind interest timing soros myanmar",
          "muslim natural ally race sourc",
          "rail go work",
          "level security require wef aka enemy life annual meeting tell u",
          "vote ossoff would need remain vote win",
          "brexit disaster volume export go british port channel tunnell eu fell last month",
          "clearly target harassment veil threat violence",
          "arrogation double entendre via",
          "new gab post burn coal pay toll meme",
          "ficed rothschild return face face reality hysterical assa traor",
          "although one neutral today time everyone inclination towards mine also neutral",
          "true juice extractor gas chamber one step",
          "help dad attack antifa attack break arm brave dad campaign canada give child drug change",
          "never want equality always secretly want revenge",
          "boris johnson mr crisis mr liar mr clueless mr corrupt mr racist mr money grabber mr public heal",
          "day say something sign point israel manufacturing war america china ru",
          "want know exactly many firearm exactly many round ammunition",
          "dead boris johnson say everything could political epitaph indolent prime minister",
          "trouble get upset say aaj english",
          "people celebrate genocide social medium platform allow yet told live wh",
          "nobody owes fuck thing",
          "banker rob u generation feel slightest bit sorry finally robbed",
          "allege nurse practitioner threaten deny people treatment political leaning someone sho",
          "illustrate little government care people nothing",
          "yes even ruin small humble little farm state like wisconsin live people incom",
          "america laughingstock",
          "right style commission investigate blm antifa riot torched city su",
          "want live around u want live around mutually peacefully separate",
          "people want walk car well illusion remain anyway good morning thursday thought",
          "plz support student amp part campaign",
          "friend waffen veteran wiking division swore cold ext",
          "encourage people call attitude like attitude could get arrest sentence",
          "queer activist hit woman come shout revolt system prostitution ra",
          "never want equality never want mere empowerment either aim always empow",
          "case understand politics work day age wrong opponent",
          "downfall america sum single image",
          "governor denounce democrat run twitter allows left attack jewish sile",
          "seethe harder parasite freak",
          "expose left wing agitator like greta thunberg sacrifice farmer feed global hatred modi thunberg may puppet",
          "fact politician scream gun control trace back george soros gun control",
          "find ancient statue like sober experience excite one statue represent",
          "fact get hit hard game stop stock tell one thing people short stock",
          "big bank corporation funding inversion normal healthy society question big bank",
          "detest people every part medium idiot support imagine guy n h ei r si de nobod",
          "capitol wrap barbed wire look like capitol socialist country america",
          "warn parent virginia meet atif qarni secretary education appoint va governor northam qarni born",
          "dark circle know sign",
          "neat idea fiction novel anyone interested write bunch retire sof operator use",
          "almost every day quietly think amerindian actually choice fight openly",
          "arrest people fraudulently get child college however even investigate official fraudulent",
          "firearm registration always lead firearm confiscation always without exception need contact",
          "yeah stock market hello",
          "seriously bad news government move piece place carry illegal act",
          "insane insane dangerous rhetoric use justify vicious attack innocent whi",
          "voice even low eye level straight neither sign show saxon begin",
          "let perfectly honest left actually care victim mass shooting se",
          "america soft weak embarrass joke entire world laugh u pathetic government",
          "see biden openly celebrate white people go extinct america decade really care",
          "call domestic terrorism see call terrorism ground political affiliat",
          "yes trump praise amaze international supporter thank supporter america stand",
          "turn violent criminal care gun illegal carry",
          "thank advertising",
          "innovation molasses possible clamp liquor",
          "best left wing joke day islamic terrorist shoot someone gun fault make stu",
          "didnt happen would b funny",
          "anyone know ratio jew ce major american corporation",
          "left preaches unity heal carry violence denounce violent",
          "fiery mostly peaceful prize",
          "anyone knowingly allows baby poison toxic metal like deserves death penalty serio",
          "firstly thousand people hundred nice gaslighting sky news usual secondly cop",
          "biophobia contagious",
          "actually sour though pickle except cabbage instead cucumber delicio",
          "people really need stop use child instrument propaganda fair hardl",
          "america strange fetish reward idiocy need order become rich famous even get",
          "please keep mind",
          "way bad apartheid state terrorist state terrorizes surround country",
          "anyone know ratio jew ce major american corporation",
          "satanism free rule everyday living mondaymotivation freedom sound monday blo",
          "whole point right keep bear arm protect civilian government force crimina",
          "thank australia israel chamber commerce infrastructure showcase great event discus many opportuni",
          "never forget",
          "everything come existence creates opposite light darkness heat cold life death matter anti",
          "ammo hoarder make sure buy enough magazine load ammo boxed amm",
          "trans child like vegan dog know chose",
          null
         ],
         "marker": {
          "color": "#CFD8DC",
          "opacity": 0.5,
          "size": 5
         },
         "mode": "markers+text",
         "name": "other",
         "showlegend": false,
         "type": "scattergl",
         "x": [
          8.41289234161377,
          6.094376087188721,
          5.102520942687988,
          10.044687271118164,
          7.727644920349121,
          6.743975639343262,
          7.08959436416626,
          9.160192489624023,
          6.501744270324707,
          7.2859649658203125,
          6.4567790031433105,
          7.323193550109863,
          5.636858940124512,
          4.300947189331055,
          7.086608409881592,
          7.773136138916016,
          7.725807189941406,
          6.358642578125,
          6.59110164642334,
          5.37642765045166,
          8.945369720458984,
          6.350600719451904,
          7.706094264984131,
          7.62763786315918,
          7.611561298370361,
          7.267391681671143,
          8.495184898376465,
          7.346156597137451,
          8.787361145019531,
          6.280620098114014,
          6.522984981536865,
          3.5231642723083496,
          6.18871545791626,
          9.98881721496582,
          7.098516941070557,
          6.55780553817749,
          9.198141098022461,
          6.239862442016602,
          8.077932357788086,
          8.388344764709473,
          6.729164123535156,
          10.077436447143555,
          7.408672332763672,
          8.612927436828613,
          5.103226661682129,
          6.685414791107178,
          7.291721343994141,
          5.935920715332031,
          5.92535924911499,
          7.157650947570801,
          6.7937211990356445,
          3.9707484245300293,
          5.578150749206543,
          6.945523262023926,
          5.689320087432861,
          4.099275588989258,
          7.50956392288208,
          5.537698745727539,
          7.418211460113525,
          5.450567722320557,
          6.294846057891846,
          4.9312825202941895,
          7.752234935760498,
          6.489021301269531,
          7.420661449432373,
          7.397366046905518,
          6.471346855163574,
          7.7400407791137695,
          10.00207233428955,
          4.096374034881592,
          6.368698596954346,
          5.258283615112305,
          9.061441421508789,
          7.893263339996338,
          6.148929119110107,
          8.439701080322266,
          5.203118801116943,
          8.161356925964355,
          5.0689167976379395,
          7.803039073944092,
          6.101250171661377,
          7.8404059410095215,
          5.584108829498291,
          6.322565078735352,
          7.661830425262451,
          7.1703667640686035,
          6.590892314910889,
          5.885435104370117,
          6.047646999359131,
          6.2584428787231445,
          7.481753349304199,
          5.939472675323486,
          7.80669641494751,
          5.457212924957275,
          6.441442012786865,
          6.456800937652588,
          9.301727294921875,
          6.739938735961914,
          6.059626579284668,
          5.702249526977539,
          5.508964538574219,
          7.2910284996032715,
          4.950630187988281,
          6.754508972167969,
          5.878429889678955,
          6.104106426239014,
          5.007727146148682,
          5.61396598815918,
          9.985928535461426,
          5.603293418884277,
          6.282153606414795,
          7.851687431335449,
          5.638359546661377,
          7.086280345916748,
          6.3535308837890625,
          6.711535453796387,
          6.678638458251953,
          6.346469402313232,
          7.440354824066162,
          7.291192531585693,
          7.347253322601318,
          6.895749568939209,
          8.934391021728516,
          7.693241119384766,
          6.585161209106445,
          5.939615249633789,
          7.399990558624268,
          7.067838191986084,
          10.04383373260498,
          6.230981826782227,
          7.293321132659912,
          6.599120140075684,
          8.441328048706055,
          6.266170024871826,
          7.579017639160156,
          8.897964477539062,
          6.595698833465576,
          6.796571731567383,
          5.796905040740967,
          4.130672454833984,
          6.062887668609619,
          7.2723612785339355,
          6.265237808227539,
          8.889622688293457,
          6.9405951499938965,
          7.863155841827393,
          6.670858383178711,
          7.779247283935547,
          7.228031635284424,
          7.114663124084473,
          7.10195779800415,
          7.347226619720459,
          10.264102935791016,
          6.982895374298096,
          6.565454483032227,
          7.889112949371338,
          6.142672061920166,
          5.114547252655029,
          7.068563938140869,
          5.639817237854004,
          7.8239240646362305,
          7.110026836395264,
          7.397609233856201,
          8.351390838623047,
          5.831401824951172,
          9.042633056640625,
          3.872053623199463,
          6.617229461669922,
          9.292295455932617,
          7.7592926025390625,
          8.8656644821167,
          7.820718288421631,
          8.528359413146973,
          7.823121547698975,
          5.281991004943848,
          7.7542853355407715,
          8.64796257019043,
          7.903569221496582,
          8.638643264770508,
          6.967855453491211
         ],
         "y": [
          10.887855529785156,
          10.011152267456055,
          11.873208999633789,
          10.106170654296875,
          8.818780899047852,
          13.717085838317871,
          12.580519676208496,
          11.655193328857422,
          11.025887489318848,
          11.868778228759766,
          12.005057334899902,
          11.873482704162598,
          12.037822723388672,
          10.907615661621094,
          12.512412071228027,
          10.6444091796875,
          8.870316505432129,
          8.509800910949707,
          10.937732696533203,
          12.548775672912598,
          11.264581680297852,
          8.75948715209961,
          11.750412940979004,
          8.816488265991211,
          8.851287841796875,
          11.683991432189941,
          11.832918167114258,
          12.310760498046875,
          13.009126663208008,
          12.642051696777344,
          10.454389572143555,
          12.364252090454102,
          13.484615325927734,
          11.291166305541992,
          12.504476547241211,
          10.96053409576416,
          12.344986915588379,
          12.185722351074219,
          11.716689109802246,
          11.75152587890625,
          10.829449653625488,
          10.132218360900879,
          10.017887115478516,
          10.753143310546875,
          11.793272018432617,
          12.518134117126465,
          11.247879028320312,
          12.958149909973145,
          13.027278900146484,
          10.432880401611328,
          11.650984764099121,
          12.413104057312012,
          10.475085258483887,
          11.51892375946045,
          10.811476707458496,
          10.923197746276855,
          11.362507820129395,
          12.050649642944336,
          11.191512107849121,
          11.970189094543457,
          11.931748390197754,
          12.221857070922852,
          9.290594100952148,
          9.206045150756836,
          9.744394302368164,
          9.681686401367188,
          11.015381813049316,
          10.789395332336426,
          10.547028541564941,
          10.864081382751465,
          11.482084274291992,
          11.499926567077637,
          11.193547248840332,
          10.866382598876953,
          12.131501197814941,
          11.322932243347168,
          12.50244140625,
          11.707947731018066,
          11.765352249145508,
          12.653752326965332,
          11.700688362121582,
          12.679548263549805,
          12.030189514160156,
          8.813425064086914,
          10.673990249633789,
          10.436362266540527,
          11.87304401397705,
          11.842483520507812,
          11.882530212402344,
          11.994964599609375,
          9.316831588745117,
          12.423606872558594,
          12.702852249145508,
          11.780973434448242,
          12.032364845275879,
          11.808923721313477,
          10.875622749328613,
          11.199959754943848,
          10.086801528930664,
          12.150984764099121,
          12.034884452819824,
          12.338713645935059,
          9.844379425048828,
          11.427512168884277,
          11.513819694519043,
          12.128117561340332,
          10.260315895080566,
          10.822853088378906,
          10.067818641662598,
          12.076159477233887,
          12.035386085510254,
          12.832043647766113,
          12.04991626739502,
          10.27845573425293,
          11.481356620788574,
          10.371848106384277,
          10.864768981933594,
          12.395699501037598,
          11.498936653137207,
          11.248990058898926,
          11.13845443725586,
          12.223108291625977,
          11.721677780151367,
          10.61674690246582,
          10.561481475830078,
          10.239272117614746,
          11.378826141357422,
          12.971940040588379,
          10.120386123657227,
          12.322134971618652,
          11.208123207092285,
          12.557862281799316,
          12.724156379699707,
          11.841090202331543,
          12.687146186828613,
          12.441780090332031,
          11.85067081451416,
          11.18045425415039,
          11.203835487365723,
          10.843118667602539,
          13.37287425994873,
          10.178387641906738,
          8.976629257202148,
          10.441908836364746,
          11.583354949951172,
          12.67559814453125,
          11.82328987121582,
          12.624174118041992,
          12.361124992370605,
          10.196353912353516,
          12.534796714782715,
          11.226828575134277,
          11.209630012512207,
          12.342041969299316,
          13.473392486572266,
          12.635980606079102,
          9.620378494262695,
          10.2958402633667,
          12.563782691955566,
          12.371045112609863,
          12.934770584106445,
          12.531371116638184,
          11.822625160217285,
          10.762722969055176,
          11.69901180267334,
          10.921180725097656,
          10.60763931274414,
          10.653965950012207,
          11.417967796325684,
          9.324440002441406,
          11.161680221557617,
          12.933362007141113,
          11.875126838684082,
          12.643058776855469,
          12.419254302978516,
          9.316396713256836,
          11.898775100708008,
          12.677191734313965,
          10.787981033325195,
          11.410470008850098
         ]
        },
        {
         "hoverinfo": "text",
         "hovertext": [
          "fact liberal consider white guy star athlete change white supremacy tell everythi",
          "like cold cold make white ancestor hard strong broke weak bloodline ensure",
          "one white person alive today ever black slave one black person alive today ever white",
          "man white supremacist asian hater keep get darker darker",
          "gt white supremacy virus like virus die body left infect w",
          "institutional white genocide look like",
          "openly admit displace white people white place living white supremacist conspirac",
          "black actually oppose police shooting oppose police shoot black criminal",
          "white country simply never ask ask reject foreign people foreign c",
          "america really white supremacist nation consume institutional racism big mega corp like coca",
          "excuse pedophile time never tolerate white person believe white life matter",
          "black need liberal woman offend behalf even think liberal really offend anywa",
          "black community none white people concern black community allow behave whatever",
          "gt billion covid relief black farmer tell living white supremacist society",
          "daily reminder real time choreograph synchronize dance routine office hou",
          "know beat white people say care white black yellow blue purple",
          "inca people conquer genocided killke people another south american tribe big deal b",
          "happens white become minority",
          "blame white people violent crime commit black end piss entire wh",
          "lol invention exactly even congo finally penetrate native people disco",
          "way win socio political fight attract fighter side pro white community need foc",
          "advanced civilization",
          "war wag white people everything fault",
          "make white people happy racist need stop",
          "everyone understands concept foreign invasive specie plant animal world foreign invasive specie",
          "diversity strength army choose diversity",
          "right replace white man twenty dollar bill black woman worthy high priority",
          "imagine desperate attention relevancy surgically remove part body",
          "go walk condition yeah white thing understand",
          "democrat rep jackie speier think lot white american u military national security threat",
          "war adolf hitler never end evolve war white people",
          "around world white people get dangerously fed violently attack forei",
          "black people really little lie small shit",
          "time social medium limited use time wisely anti white take war white ser",
          "white supremacy mean white people believe white life matter war wag agai",
          "rhetoric creature manufacture cultivate endless hatred white people people wh",
          "enemy good mean stood something sometime life winston churchill value yo",
          "white supremacist keep get darker darker day",
          "talk jq day long however people like michael jones catholic even admit whit",
          "think even one race government target deprogramming know becau",
          "illegal adopt black child black",
          "good kyle rittenhouse never arrest first place defend violent mob shoul",
          "many innocent white child die start storm street righteous hatred",
          "literally nothing label racist white supremacist pathological hatred white men",
          "anti white amp anti american rhetoric exactly taught kid across america",
          "say thousand time bear repeat anti racism dangerous new age religion religi",
          "u call suarez something wen call u nigger u bitch",
          "black woman move white neighborhood complains many",
          "many innocent white people beaten shot murder savage collectively defen",
          "exactly think culture come think magically fall sky arbitrarily",
          "high culture civilization diversity",
          "many year ago say would eventually consider racist arrest black person crime committ",
          "people fanatically anti racist really anti white tend also mentally ill literally watch",
          "white privilege actually exist listen mindless robot drone repeat",
          "interestingly enough know sole authority define word like hate racism bigotry extremis",
          "guy invent hate crime never happen get free paycheck",
          "live age manufacture tragedy tyranny impose upon u result artificial tragedy",
          "non white prioritize white tell systemic racism exists",
          "man white supremacist asian hater keep get darker darker",
          "power",
          "literally neither men kill white people let alone white nationalist kill black",
          "course even let white one thing non white ob acce",
          "like well negro",
          "multiculturalism culture mix amp blend together create singular monoculture multicultur",
          "feel whole lot well impend collapse western civilization white people form group",
          "say keep right say one single white man alive today ever slave",
          "unlawful best produce anything beautiful plato",
          "let spell black separatist treat random individual isolated social medium",
          "freak wonder white nationalism rise world",
          "people ready admit yet real war wag white people",
          "racist cookie lecture u wokeness",
          "white people ally literally every non white race united",
          "hence social justice warrior infect",
          "read write wall white people normalize discrimination stop w",
          "remove portrait white judge white go ahead tell war",
          "nothing allow white white problem need address",
          "post still anti white butthurt black history month",
          "year literal white genocide",
          "left furious brandon elliot white supremacist instead lifetime parole murder mother sai",
          "expropriation without compensation really mean steal farm white farmer destroy say farm blame whit",
          "want really think white man every dollar government take give black",
          "diversity sensitivity training really mean anti white indoctrination critical race theory",
          "gt replaces white men normalize concept white people replace non white white",
          "stereotypical behavior nope way",
          "manage",
          "write wall white race slat genocide hyperbole exaggeration",
          "refer white people disease probably great way convince u racist go ahead",
          "someone something require perpetual reinforcement via word like amaze beautiful vibrant talented incr",
          "even issue black asian racism violence narrative remains white people real pro",
          "blackwashing white history continue force stop",
          "folkish state make certain suitable education youth day obtain race ripe",
          "live every stereotype",
          "workout functional real world extend period time",
          "repeat white get dictate white people anti white raci",
          "need keep drive story home power blame white people murder commit bl",
          "lot picture show holodomor gulag mostly white folk",
          "strength ancestor life within blood strength survive long enough conti",
          "black dude see white guy get shot death response shit like see creature want",
          "rapist black call rapist call pervert downplay black crim",
          "marijuana popular people miserable era smoke tolerate world rather fix",
          "apparently white people fault black woman sprayed hair gorilla glue anything",
          "white elder abuse rampant",
          "see work literally anything infringes money power decry white",
          "stereotypical behavior nope way",
          "diversity safe neighborhood",
          "multi racial society create peace prosperity people create animosity hostility hatred vi",
          "white white law protects discriminate white people",
          "even black want segregation back peaceful separation solution today catastrophic failure race r",
          "replace white people white country tell u source st",
          "non white responsible action black gun gang motivate mass sh",
          "diversity mean death white people able get conceal carry permit get reliable firearm",
          "event like go continue occur white country citizen form powerful group real li",
          "hostile people really except crazy notion planet father god chose",
          "suck whitedick nigger gayraceplay gaysex oral gayoral interracialgaysex blacksucker bwc",
          "netflix already rag machine diversity propaganda",
          "basically say long racism direct toward white people white country",
          "call mass shoot however medium report shooter white",
          "act spiritual psychological warfare native european people white people nowhere else",
          "literally institutional racism exists",
          "guy charge proud boy name enrique tarrio yet proud boy still label white supre",
          "join corona cult today tire people still enjoy life exactly right thing cont",
          "look accept random cop beating people baton like use one call",
          "hunt white supremacist era witch hunt new regime want look every white person w",
          "true black woman africa landmass black overwhelm super majority",
          "fuck sake kill two white people death count racism motivation",
          "repeat lie truth know want erase white history",
          "particular point time obvious naked eye race people happier segregation",
          "white men deserve job white men tell white men persecute",
          "diversity strength army choose diversity",
          "overcome lust ego word well sex",
          "literally zero justification flood white country non white foreigner whole age dy",
          "anyone pretend anyone even want integration first place literally everyone want separation w",
          "racist always mean white people call u racist justify violence u fal",
          "people fake hate crime free government money",
          "yet another evil white man save helpless animal almost behavior genetic something",
          "bodybuilding",
          "year say wag war white people finally understand sa",
          "replace white people",
          "replace white people",
          "abolish whiteness mean abolish white people fact popular well receive slogan",
          "white people get dangerously fed foreigner get away countless act violence",
          "weak argument difference white kid already die fentanyl overdose l",
          "white genocide conspiracy theory need challenge misinformation u experience great",
          "treat big deal rioter antifa whatever reason police always se",
          "law enforcement earn every bit hate receive chosen side enemy people",
          "outside environment impose upon artificially construct human race mix almos",
          "institutional white genocide look like",
          "yeah war white people",
          "eventually go consider racist white person deny non white access body",
          "black life matter movement nominate nobel peace prize via",
          "ally people white people always always stop",
          "ego always ruin man one vision clearest lens",
          "translation many white people science statistic technology go replace white",
          "call whatever want coca cola anti white actively participate war wag",
          "apparently special kind hate black woman experience call misogynoir seriously",
          "actually watch right funny listen black dude talk sell crack",
          "quick way get rich america black falsely accuse white person racist toward",
          "every non white race planet encourage celebrate history heritage culture white race",
          "blackwashing white history continue force stop",
          "eventually go consider racist white person deny non white access body",
          "say lot year keep repeat hunt racism era witch hunt",
          "white people well black people thread",
          "nothing see folk diversity continue great strength",
          "white want something call white supremacy black want thing call response",
          "false perception humanity impose people",
          "nigger cocksluts help crave white dick much take matter attach",
          "mom mom sheep meeeeeeh black sheep yeah nigga moderfacka hahahahahahahaha yeah nigg",
          "really live white supremacist country repeatedly told would law make",
          "basically illegal immigrant get citizenship replace u either way cool steven repeat",
          "much institutional white supremacy racism",
          "blackwashing never end white people erase little little",
          "timeline evidence lazy choice",
          "european never use feel way country flood foreigner feel",
          "philosophy ideology tactic method optic superior others feel",
          "read write wall yet guy war wag white man ever surren",
          "white literally nothing bad could ever accuse racism accuse l",
          "love reading golden globe hashtags left master exploit identity politics political correctness virt",
          "global war white people",
          "medium try get black murder innocent white people white people fully prepared defend yourselv",
          "social medium like densest major city human existence loud chaotic fast pace emotional irr",
          "say even okay u pride nationality already",
          "keep weed clean crop care farmer brother weed sister mia khalifa",
          "toxic upbringing environment anti white hatred racism cultivate hollywood medium school un",
          "america literally white people single western country planet anti american e",
          "reason white people child simulate experience slave",
          "deny racist actually proof racist",
          "law enforcement earn every bit hate receive chosen side enemy people",
          "time people put position power influence base ability base merit",
          "global war white people",
          null
         ],
         "marker": {
          "opacity": 0.5,
          "size": 5
         },
         "mode": "markers+text",
         "name": "0_white_people_black",
         "text": [
          "",
          "",
          "",
          "",
          "",
          "",
          "",
          "",
          "",
          "",
          "",
          "",
          "",
          "",
          "",
          "",
          "",
          "",
          "",
          "",
          "",
          "",
          "",
          "",
          "",
          "",
          "",
          "",
          "",
          "",
          "",
          "",
          "",
          "",
          "",
          "",
          "",
          "",
          "",
          "",
          "",
          "",
          "",
          "",
          "",
          "",
          "",
          "",
          "",
          "",
          "",
          "",
          "",
          "",
          "",
          "",
          "",
          "",
          "",
          "",
          "",
          "",
          "",
          "",
          "",
          "",
          "",
          "",
          "",
          "",
          "",
          "",
          "",
          "",
          "",
          "",
          "",
          "",
          "",
          "",
          "",
          "",
          "",
          "",
          "",
          "",
          "",
          "",
          "",
          "",
          "",
          "",
          "",
          "",
          "",
          "",
          "",
          "",
          "",
          "",
          "",
          "",
          "",
          "",
          "",
          "",
          "",
          "",
          "",
          "",
          "",
          "",
          "",
          "",
          "",
          "",
          "",
          "",
          "",
          "",
          "",
          "",
          "",
          "",
          "",
          "",
          "",
          "",
          "",
          "",
          "",
          "",
          "",
          "",
          "",
          "",
          "",
          "",
          "",
          "",
          "",
          "",
          "",
          "",
          "",
          "",
          "",
          "",
          "",
          "",
          "",
          "",
          "",
          "",
          "",
          "",
          "",
          "",
          "",
          "",
          "",
          "",
          "",
          "",
          "",
          "",
          "",
          "",
          "",
          "",
          "",
          "",
          "",
          "",
          "",
          "",
          "",
          "",
          "",
          "",
          "",
          "",
          "",
          "",
          "",
          "",
          "",
          "",
          "",
          "0_white_people_black"
         ],
         "textfont": {
          "size": 12
         },
         "type": "scattergl",
         "x": [
          10.101655006408691,
          9.220027923583984,
          10.247154235839844,
          9.931221961975098,
          9.043081283569336,
          10.389363288879395,
          10.159667015075684,
          8.74109935760498,
          9.252450942993164,
          9.538363456726074,
          9.717329025268555,
          9.863890647888184,
          9.686017990112305,
          9.244400978088379,
          7.592975616455078,
          9.924150466918945,
          10.398338317871094,
          10.749678611755371,
          9.285887718200684,
          10.319723129272461,
          9.492220878601074,
          9.309040069580078,
          9.752524375915527,
          9.932841300964355,
          8.517630577087402,
          9.316390991210938,
          10.803462028503418,
          7.82952356338501,
          9.5901517868042,
          10.455582618713379,
          9.57905387878418,
          9.51347541809082,
          9.573352813720703,
          9.69953441619873,
          10.035512924194336,
          9.412124633789062,
          7.352065563201904,
          9.962936401367188,
          9.569720268249512,
          7.455552577972412,
          8.610296249389648,
          8.488737106323242,
          9.256314277648926,
          9.945321083068848,
          9.973312377929688,
          9.337430000305176,
          9.973367691040039,
          9.560843467712402,
          9.232099533081055,
          7.87174654006958,
          9.291568756103516,
          8.657946586608887,
          9.651795387268066,
          10.21705436706543,
          8.169672966003418,
          8.480551719665527,
          7.786678791046143,
          10.146153450012207,
          9.930693626403809,
          7.391618728637695,
          9.25365924835205,
          9.557914733886719,
          9.632081031799316,
          9.261366844177246,
          9.636065483093262,
          10.372425079345703,
          7.799819469451904,
          9.780389785766602,
          9.659687995910645,
          9.931293487548828,
          9.95772647857666,
          9.599797248840332,
          9.208231925964355,
          10.156465530395508,
          10.333333015441895,
          9.536067008972168,
          10.369653701782227,
          10.27211856842041,
          8.951876640319824,
          10.231678009033203,
          10.23430347442627,
          10.044824600219727,
          10.779727935791016,
          9.896718978881836,
          8.008842468261719,
          10.12666130065918,
          9.612831115722656,
          7.654191017150879,
          9.657750129699707,
          10.450428009033203,
          9.570527076721191,
          9.885750770568848,
          7.645637035369873,
          10.010997772216797,
          9.116519927978516,
          10.36658763885498,
          9.135783195495605,
          9.146280288696289,
          9.619039535522461,
          8.135315895080566,
          9.6228609085083,
          9.39963436126709,
          10.198884010314941,
          9.882566452026367,
          9.451321601867676,
          9.111001014709473,
          10.086894989013672,
          9.828158378601074,
          10.791277885437012,
          9.0623779296875,
          9.309425354003906,
          9.451677322387695,
          9.236823081970215,
          9.515604972839355,
          9.75930118560791,
          9.950535774230957,
          8.968875885009766,
          9.356790542602539,
          10.431224822998047,
          9.983721733093262,
          8.039669036865234,
          8.539169311523438,
          9.99439525604248,
          9.814034461975098,
          9.014744758605957,
          10.41209602355957,
          10.03818130493164,
          10.181655883789062,
          9.360294342041016,
          7.809245586395264,
          9.207398414611816,
          9.833449363708496,
          9.848637580871582,
          7.298477649688721,
          9.119170188903809,
          7.7106032371521,
          10.045093536376953,
          10.80620288848877,
          10.801163673400879,
          10.133710861206055,
          9.339269638061523,
          9.328109741210938,
          10.38292407989502,
          8.33248519897461,
          7.377039909362793,
          8.837505340576172,
          10.37290096282959,
          9.814163208007812,
          9.584526062011719,
          9.501492500305176,
          9.568281173706055,
          7.8383259773254395,
          10.787579536437988,
          10.101123809814453,
          9.81354808807373,
          9.505175590515137,
          9.25704574584961,
          9.627717971801758,
          10.438019752502441,
          9.562162399291992,
          9.949186325073242,
          9.756178855895996,
          9.459724426269531,
          9.936700820922852,
          7.8061370849609375,
          9.925724029541016,
          9.525627136230469,
          9.841449737548828,
          10.837653160095215,
          10.411958694458008,
          10.435588836669922,
          7.278827667236328,
          8.749088287353516,
          7.76099967956543,
          10.24686050415039,
          9.728532791137695,
          7.145229816436768,
          9.771910667419434,
          9.067804336547852,
          9.010741233825684,
          9.060749053955078,
          8.05504035949707,
          9.410937309265137,
          9.690828323364258,
          9.467884063720703,
          9.701798439025879,
          7.37596321105957,
          7.394639015197754,
          9.760863304138184,
          9.431075096130371
         ],
         "y": [
          10.727856636047363,
          11.432894706726074,
          10.775879859924316,
          11.147909164428711,
          11.331957817077637,
          11.651816368103027,
          11.102298736572266,
          11.150951385498047,
          10.637673377990723,
          11.395527839660645,
          10.780771255493164,
          10.06196117401123,
          10.860705375671387,
          11.206233024597168,
          10.335193634033203,
          10.567238807678223,
          11.448959350585938,
          10.793855667114258,
          11.129342079162598,
          11.529775619506836,
          11.180778503417969,
          11.851551055908203,
          11.812372207641602,
          10.842219352722168,
          10.830915451049805,
          11.928650856018066,
          10.758465766906738,
          10.26358699798584,
          10.550867080688477,
          11.26938247680664,
          11.989448547363281,
          11.25699234008789,
          10.145528793334961,
          11.63064193725586,
          10.940827369689941,
          11.646377563476562,
          11.8574857711792,
          11.190380096435547,
          10.11504077911377,
          12.073909759521484,
          10.951207160949707,
          11.22571849822998,
          11.227922439575195,
          10.895828247070312,
          11.249349594116211,
          11.8721923828125,
          10.549423217773438,
          10.643497467041016,
          11.17484188079834,
          10.614259719848633,
          11.877660751342773,
          11.136870384216309,
          11.353348731994629,
          10.764901161193848,
          11.626628875732422,
          11.323258399963379,
          10.804021835327148,
          10.857500076293945,
          11.177919387817383,
          10.781678199768066,
          11.07848834991455,
          10.602045059204102,
          10.152931213378906,
          11.865313529968262,
          11.381760597229004,
          10.811470031738281,
          11.073360443115234,
          11.460864067077637,
          11.383045196533203,
          11.726277351379395,
          10.953798294067383,
          11.079495429992676,
          11.11801815032959,
          10.841343879699707,
          11.110722541809082,
          10.621964454650879,
          11.158369064331055,
          11.672884941101074,
          11.12054443359375,
          10.465205192565918,
          10.533577919006348,
          11.165616035461426,
          10.758661270141602,
          9.847541809082031,
          10.999564170837402,
          11.070985794067383,
          10.717700958251953,
          10.340275764465332,
          10.941146850585938,
          11.204628944396973,
          11.560419082641602,
          9.85092830657959,
          10.398893356323242,
          10.906253814697266,
          11.1221923828125,
          11.729692459106445,
          11.576480865478516,
          10.79896068572998,
          10.156431198120117,
          10.922063827514648,
          10.930973052978516,
          11.214719772338867,
          10.49783992767334,
          9.850775718688965,
          11.842894554138184,
          11.888465881347656,
          10.982710838317871,
          11.464740753173828,
          10.762868881225586,
          11.252511024475098,
          11.966926574707031,
          11.507731437683105,
          11.826969146728516,
          10.200470924377441,
          11.543471336364746,
          11.010592460632324,
          11.271001815795898,
          11.816178321838379,
          11.597186088562012,
          10.82296371459961,
          10.796055793762207,
          11.209283828735352,
          11.757559776306152,
          10.085748672485352,
          11.14300537109375,
          11.209808349609375,
          11.427652359008789,
          10.676403999328613,
          11.963582992553711,
          10.286637306213379,
          10.774709701538086,
          11.428577423095703,
          10.81882381439209,
          11.820920944213867,
          11.002052307128906,
          10.32142162322998,
          11.705185890197754,
          10.760482788085938,
          10.7637357711792,
          11.028777122497559,
          11.021258354187012,
          10.899893760681152,
          11.499701499938965,
          11.380514144897461,
          11.86672306060791,
          10.927412033081055,
          11.66180419921875,
          11.854564666748047,
          10.648508071899414,
          11.127537727355957,
          10.905171394348145,
          10.365326881408691,
          10.770829200744629,
          10.981135368347168,
          10.027191162109375,
          10.100662231445312,
          10.795655250549316,
          11.301584243774414,
          11.208685874938965,
          10.66698169708252,
          11.744433403015137,
          10.445961952209473,
          11.896208763122559,
          10.869640350341797,
          10.593514442443848,
          10.806556701660156,
          10.167805671691895,
          11.930259704589844,
          10.731913566589355,
          11.606345176696777,
          11.208086013793945,
          10.72761058807373,
          10.71781063079834,
          11.271819114685059,
          11.033195495605469,
          10.788492202758789,
          12.542075157165527,
          11.864058494567871,
          11.289112091064453,
          11.783791542053223,
          10.55892562866211,
          10.952735900878906,
          11.536433219909668,
          11.268233299255371,
          11.140472412109375,
          10.708480834960938,
          11.860942840576172,
          10.833622932434082,
          11.87267017364502,
          11.082470893859863
         ]
        },
        {
         "hoverinfo": "text",
         "hovertext": [
          "tell u else could seem may side effect",
          "world hijab day one many subtle tactic use muslim brotherhood front group introduce sharia america illino",
          "open border joe biden vow increase refugee admission trump demand low refugee admission u histo",
          "easy meat another fail muslim asylum seeker rape murder chop body british woman lure",
          "hey know syrian muslim terrorist colorado twitter account delete show h",
          "covid plot gay man flee venezuela warns communist take canada trudeau use virus power grab",
          "woman speak islam france threaten rape amp death american understand happen",
          "ten people slaughter syrian muslim refugee ahmad al issa white non muslim terrorist attack also goin",
          "break germany suspends astra zeneca vaccination although report side effect increase several st",
          "keep warn america know many syrian muslim refugee way america next eu",
          "hijab amp niqab represent subjugation woman sign woman accept responsibility keep men tempt",
          "spain attack military age migrant infect coronavirus storm border fence socialist gov caught distri",
          "colorado shooter facebook page quote prophet muhammad also know extremely religious sure thi",
          "bioterrorism bangladeshi muslim doctor arrest boston try obtain deadly ricin fbi investigate dr ishtiaq",
          "biden legislate executive order unless dictator also biden proceeds sign record break",
          "warn u democratic party copy germany deploys antifa stormtroopers conservative germany left wing gov",
          "people die vaccination accord pej bos cichutek bpk however people",
          "globalists celebrate eu biden join force fight right wing extremist islamize west ban free speech islamic",
          "sharia compliant nike harshly condemn depict iranian female mathematician hijab chosen never",
          "report government dominate committee call seat inbound flight quarantine place australia",
          "shock video famous journalist expose suicidal effect sweden open border policy swede told",
          "go war germany protect america english replace german ensure",
          "back another twitter ban new crime quote world health organization discus new vaccination",
          "break swedish news reporting suspect first enter country",
          "alert america face invasion border biden flood america refugee terr",
          "fbi arrest doug mackey aka ricky vaughn conservative journalist florida face year hurt democrat",
          "demographic jihad swedish government lie massive migration number video within generation sweden third large",
          "enrich sweden isi child back sweden pose weapon sever head social service take child fro",
          "suicidal socialist spain moroccan migrant mohamed professional robber commit crime h",
          "france sudanese muslim illegal alien stab immigration official death asylum claim reject",
          "londonistan tesco worker help police take muslim attacker brandishing multiple knife",
          "biden amp eu join force eu commissioner ylva johansson see video work biden fight right wing extremist",
          "anyone yet investigate mosque ahmad al issa attend",
          "hungarian prime minister orb n soros population replacement make europe muslim orb n leader pa sto",
          "break u custom border protection report illegals attempt cross border february",
          "suicidal sweden left wing open border policy blame late allahu akbar attack afghani tamim sultani grant",
          "astra zeneca prove dangerous yet country throughout europe push citizen meanwhile famous german doctor",
          "radical somali congressmuslim ilhan omar mn threatens force republican congresswoman office",
          "allahu akbar migrant attack migrant riot man commits suicide greek detention center hundred illegal migrant",
          "pau manager reception center kill knife sudanese migrant via",
          "hungary continue put people st illegals prime minister viktor orb n vowed never allow christian country chang",
          "migrant party taxpayer fund resort pool spain remains lockdown two week ago migrant left wing red",
          "happen make american listen put video year ago man interrogate islamic",
          "globalists celebrate open border joe biden european union joe biden join force fight right wing extremist",
          "break christian attack jihad attack suicide bomber strike catholic church indonesia palm sunday church",
          "geert wilder shock dutch parliament koran full jew hatred wilder demand parliament stop pretend care abo",
          "sharia uk every woman cover top toe otherwise police collect situati",
          "enrich germany syrian refugee tell job center would rather fight jihadis meanwhile muslim brotherhood ba",
          "germany stab spree frankfurt leaf several injured german authority probe attacker motif",
          "israel law allows authority know identity unvaccinated people",
          "netherlands like last week former soldier stood today protection protester",
          "start go biden bomb",
          "break new year eve canada police violently raid family gathering six people neighbor report coronavirus",
          "german try warn u",
          "global plot left wing western leader continue open border mass migration impose harsh coronavirus lock",
          "igrant enrichment german woman begs help go street anymore without think pepper spr",
          "know term islamophobia invent front group muslim brotherhood order export",
          "biden sign executive order first ten day president anyone sign many executive order",
          "kill kill war police france mainly african arab muslim commu",
          "syrian muslim refugee welcome america hand citizenship along host taxpayer fund handout",
          "hamas link cair amp iihan omar unite demand sharia compliance pro sharia muslim rep elect ilhan omar demand amazon give",
          "fbi interviewed terrorist amp nothing major hasan fort hood tx kill amp wound omar mateen orland",
          "biden obama back terrorist please islamic pakistani sharia court overturn conviction",
          "france call islamophobe live hr police protection due death threat receive",
          "enrich france police crew attack mortar fire car burn amp fire set throughout lyon mayor refuse",
          "tuesday biden address nation islamic attack say would speculate shooter motive",
          "muslim ever respect religious teacher religion koran order religion",
          "government enforces hospital put every death covid",
          "germany threatens citizen merkel release ultimatum get vaccinate banish germany already throw quarantine",
          "remember nato bombing yugoslavia",
          "alabama litigation jihadist cair file federal lawsuit prison execute two convert islam without",
          "deeply disappointed gov abbott proud gab amp jewish support christian run business amp thank",
          "christian refugee austria return syria safer young christian syria flee austria esca",
          "enough mr laschet enough merkel cry help hairdresser bianka fuse burn",
          "sharia sweden conservative journalist ingrid carlqvist amp maria celander indict thought crime islam face",
          "france muslim arrest try carry attack jewish school amp kosher grocery video prosecutor cry mental illness",
          "chinese corona virus like",
          "predict biden break trump peacetime record launch air strike syria",
          "politician marine le pen party france slam famous ballet du nord put woman sharia hijab",
          "new follower syria last week see",
          "shock famous journalist expose suicidal effect sweden open border policy video swede told",
          "demographic jihad swedish government lie massive migration number almost illegal migrant grant citizensh",
          "course american medium never show capital city european union new year eve bruss",
          "eu schmuck blast bosnia take well care illegal alien muslim invader burn calle",
          "enrichment father beat sexually abuse daughter check muslim sweden refuse deport court h",
          "biden threat global security china ate secretary blinken lunch ccp order press back room",
          "question point baby wear hijab hijab suppose prevent men tempt sin appea",
          "bolder muslim refugee terrorist convict misdemeanor assault another student high school suspe",
          "trump accomplish last president combine",
          "muslim commit multiple terrorist attack across europe gt muslim look back anger random",
          "alabama litigation jihadist cair file federal lawsuit prison execute two convert islam wit",
          "wow german parliament left stun afd martin hess slam german lawmaker allow war machine ente",
          "yes af slam merkel import culture hate woman turn berlin baghdad migrant willi",
          "must watch video break famous doctor develops safe vaccine covid germany prosecutes state targete",
          "bloody man throw decapitate head window onto street france short month ago islamic migrant",
          "warn socialist spain keep register vaccine refusers country receive name dissenter strategy designe",
          "follow france footstep austria begin crackdown muslim",
          "enrich uk refugee demand hotel set fire barrack threaten kidnapping staff commonplace europ",
          "make germany great warn globalists socialist amp enemy west germany fed amp rise af lead",
          "stop steal twitter suspends spain conservative vox party ahead election video vox leader santiago abascal vow",
          "female palestinian muslim terrorist say prepare carry suicide bombing mission jew like prep",
          "break pandemic number fake blame trump change guideline covid test hour biden inauguration thes",
          "anti christian twitter iftar amp ramadan hashtag emoji honor islamic holy day one christian ho",
          "french geneticist covid health crisis test healthy people medicine see viral video focus",
          "meanwhile enrich belgium four minor arrest plot islamic terrorist attack one already bought mac",
          "get ready white people joe biden america inbound gt unrelenting stream immigration non stop gt",
          "democrat darling rep ilhan omar say chuckle israel call democracy compare iran anti",
          "enrich belgium brussels mohamed mohammed ahmed common name many municipality new stati",
          "father botros coptic orthodox priest try wake west year many christian must die",
          "woman march silent taxpayer fund german school put hijab non muslim german girl dress rehearsal",
          "syrian muslim terrorist ahmad al issa try travel syria summer unable due coronavirus lockdown acco",
          "muslim brotherhood congressman andre carson arrest yet republican allow serve spy house intelligenc",
          "share caution vaccine know long term side effect basically modify pe",
          "warn isi order wolf attack church amp police spain despite anti terrorist unit warn left wing gov",
          "go forward twitter tweet mention coronavirus vaccination censor twitter part",
          "warn attack france come muslim mayor incites jihadis threaten teacher samuel paty style death teacher",
          "vaccination blackmail restaurant expect reopen january",
          "biden let million illegals america vaccination record democrat",
          "austrian girl told wear hijab prevent assault migrant fmr member parliament suggests austrian born girl",
          "dr fauci covid expert back march",
          "italy naked jaybird illegal alien muslim invader take leak middle street broad daylight",
          "putin responds biden threat wish good health",
          "army illegal migrant invade hungarian home mayor demand military action woman found army illegals",
          "sure many research danger associate gene alter prick",
          "german parliament left stun afd gottfried curio migrant go save germany ruin",
          "still catholic apostate",
          "break massive cover expose virologist sucharit bhakdi healthy people dangerous vaccine young",
          "america corrupt refugee resettlement program brainchild senator biden one reason muslim brotherhood end",
          "biden need another war middle east also biden proceeds bomb syria",
          "biden test illegal alien coronavirus le month biden number people illegally",
          "elderly abuse grandma ban nursing home activity refuse vaccinate vaccine suppose vol",
          "break terror attack sweden eight injured vetlanda video police refuse answer medium question",
          "threat alert terror tie migrant run dangerous mosque amp islamic school florida dr fadi yousef kablawi long history",
          "turkish president recep tayyip erdogan file criminal complaint dutch opposition leader geert wilder",
          "well uganda damn well leave sweden",
          "global plot left wing western leader continue open border mass migration imposin",
          "new year austria civil war like incident amp yell allahu akbar new year eve vienna meanwhile elec",
          "islamophobia slay unbeliever wherever ye find koran verse",
          "fifteen girl saudi arabia burn alive islamic sharia religious police let leave burning",
          "expose covid lockdown rule apply salvini left wing italian trial judge salvini trial kidnapping w",
          "america deal deadly islamic terrorist attack colorado jihadist kill mali one",
          "flashback fbi take poster seek islamic terrorist hamas link cair complain show photo fb",
          "islamic migrant threatens gang rape politician expose illegally operate mosque see video islamic community",
          "morocco muslim youth vandalize brand new casablanca bus apparent reason",
          "terror attack update afghani migrant behind stab sweden medium reporting terrorist suffer",
          "coronavirus tyranny german state police detain maskless elderly cyclist citizen violate chancellor angela merkel lockd",
          "coronavirus tyranny truth teller arrest uk woman arrest film inside empty hospital post online",
          "belgium first islamic state europe one third country population foreign origin brussels belg",
          "population control group cheer biden force taxpayer fund overseas abortion trump like reagan stop taxpayer fun",
          "break sweden admits people die high rate due pandemic video statistic reveal overall death rate",
          "yet bombed middle eastern country",
          "allahu akbar allahu akbar allahu akbar last word cockpit flight",
          "trump peace biden war thanks left",
          "linda sarsour organizer woman march amp openly support sharia law let sink adaywithoutwomen internati",
          "clarkston georgia one georgia large mosque built small city clarkston resident",
          "trump accomplish last president combine",
          "belgium first islamic state europe one third country population foreign origin brussels belgian",
          "venezuela start free distribution drug covid",
          "hamas link cair amp soros unite push blasphemy law wan america cair call legislator label criticism",
          "alert mandatory coronavirus vaccination come spain video refuse injection mislabelled vaccine wi",
          "break see inside germany maximum security corona jail quarantine violator barbed wire amp security fence surround",
          "easter australia day allow",
          "read two new openly anti illegal migrant pro border minister appoint conservative prime minister kyriakos",
          "afd gottfried curio warn world amp stuns german parliament un amp merkel plan expose make every call refugee",
          "one good thing french police never hesitate fire weapon knife wield muslim",
          null
         ],
         "marker": {
          "opacity": 0.5,
          "size": 5
         },
         "mode": "markers+text",
         "name": "1_muslim_biden_migrant",
         "text": [
          "",
          "",
          "",
          "",
          "",
          "",
          "",
          "",
          "",
          "",
          "",
          "",
          "",
          "",
          "",
          "",
          "",
          "",
          "",
          "",
          "",
          "",
          "",
          "",
          "",
          "",
          "",
          "",
          "",
          "",
          "",
          "",
          "",
          "",
          "",
          "",
          "",
          "",
          "",
          "",
          "",
          "",
          "",
          "",
          "",
          "",
          "",
          "",
          "",
          "",
          "",
          "",
          "",
          "",
          "",
          "",
          "",
          "",
          "",
          "",
          "",
          "",
          "",
          "",
          "",
          "",
          "",
          "",
          "",
          "",
          "",
          "",
          "",
          "",
          "",
          "",
          "",
          "",
          "",
          "",
          "",
          "",
          "",
          "",
          "",
          "",
          "",
          "",
          "",
          "",
          "",
          "",
          "",
          "",
          "",
          "",
          "",
          "",
          "",
          "",
          "",
          "",
          "",
          "",
          "",
          "",
          "",
          "",
          "",
          "",
          "",
          "",
          "",
          "",
          "",
          "",
          "",
          "",
          "",
          "",
          "",
          "",
          "",
          "",
          "",
          "",
          "",
          "",
          "",
          "",
          "",
          "",
          "",
          "",
          "",
          "",
          "",
          "",
          "",
          "",
          "",
          "",
          "",
          "",
          "",
          "",
          "",
          "",
          "",
          "",
          "",
          "",
          "",
          "",
          "",
          "",
          "",
          "",
          "",
          "",
          "",
          "",
          "",
          "",
          "",
          "1_muslim_biden_migrant"
         ],
         "textfont": {
          "size": 12
         },
         "type": "scattergl",
         "x": [
          3.2664883136749268,
          3.72287917137146,
          5.25994873046875,
          3.9822049140930176,
          4.443173885345459,
          3.279439687728882,
          4.064813613891602,
          4.3772149085998535,
          3.28718638420105,
          4.583488464355469,
          3.644442558288574,
          3.4516358375549316,
          4.369333744049072,
          4.267229080200195,
          5.48441743850708,
          4.1269941329956055,
          3.1634984016418457,
          5.175947189331055,
          3.5803701877593994,
          3.4123644828796387,
          3.1017868518829346,
          4.1494140625,
          3.18064546585083,
          3.167353630065918,
          5.278253078460693,
          4.769506454467773,
          3.1493711471557617,
          3.2229363918304443,
          3.979889154434204,
          3.9919779300689697,
          3.9675662517547607,
          5.3311920166015625,
          4.486931800842285,
          3.4414963722229004,
          5.288280487060547,
          3.2091786861419678,
          3.3960628509521484,
          4.338665962219238,
          3.91907000541687,
          3.9868199825286865,
          3.5073869228363037,
          3.488718271255493,
          4.368902206420898,
          5.327810287475586,
          5.116893291473389,
          4.026518821716309,
          3.6316733360290527,
          4.3686723709106445,
          4.039979934692383,
          3.167955160140991,
          3.9190030097961426,
          5.465485095977783,
          4.265387535095215,
          4.127954006195068,
          3.324708938598633,
          3.794856071472168,
          4.086147785186768,
          5.481109619140625,
          4.418774604797363,
          4.6406683921813965,
          4.789929389953613,
          4.4242658615112305,
          4.758114337921143,
          4.115411758422852,
          4.150697231292725,
          5.151641845703125,
          4.061962604522705,
          3.266763687133789,
          3.814244508743286,
          4.687349796295166,
          4.6048173904418945,
          5.096469879150391,
          4.4615397453308105,
          4.285243988037109,
          3.498544454574585,
          4.112061500549316,
          3.234227180480957,
          5.468451976776123,
          3.615748882293701,
          4.537195682525635,
          3.107668876647949,
          3.200601816177368,
          5.334944725036621,
          4.563311576843262,
          3.3219141960144043,
          5.482023239135742,
          3.6394660472869873,
          4.415496826171875,
          5.562905311584473,
          4.2730584144592285,
          4.6053667068481445,
          4.036126136779785,
          4.201005458831787,
          3.221141815185547,
          4.000852108001709,
          3.24617338180542,
          4.366122722625732,
          4.166938781738281,
          4.161403179168701,
          3.527216672897339,
          4.154996395111084,
          5.429136276245117,
          5.1199750900268555,
          3.2087490558624268,
          4.212896823883057,
          5.341991901397705,
          4.9229044914245605,
          4.2747673988342285,
          4.837391376495361,
          3.6117606163024902,
          4.3515472412109375,
          4.666800022125244,
          3.235802412033081,
          3.795931577682495,
          3.2260611057281494,
          4.122734546661377,
          3.1812257766723633,
          5.346502780914307,
          3.6243185997009277,
          3.2979896068573,
          4.147224426269531,
          5.4575114250183105,
          3.494448184967041,
          3.232671022415161,
          4.054503440856934,
          4.831660747528076,
          3.176528215408325,
          4.732325553894043,
          5.434226036071777,
          5.312357425689697,
          3.277749538421631,
          3.208099365234375,
          4.5510573387146,
          3.955349922180176,
          3.167440414428711,
          3.374155282974243,
          5.313230991363525,
          4.040023326873779,
          3.74003005027771,
          3.724259853363037,
          4.324029922485352,
          4.731492519378662,
          4.087906837463379,
          3.9737496376037598,
          3.2482149600982666,
          3.8785018920898438,
          3.2710800170898438,
          4.358617305755615,
          5.359734058380127,
          3.0849902629852295,
          4.683712959289551,
          4.9770941734313965,
          5.450130462646484,
          3.6678781509399414,
          4.507684707641602,
          5.5557122230529785,
          4.277655601501465,
          3.2306621074676514,
          4.7570085525512695,
          3.21940541267395,
          4.008351802825928,
          5.151136875152588,
          3.3484461307525635,
          4.09279203414917,
          4.143181800842285,
          4.151600360870361
         ],
         "y": [
          10.641871452331543,
          12.57121467590332,
          13.214152336120605,
          12.002130508422852,
          12.462457656860352,
          11.2341947555542,
          12.080394744873047,
          12.346857070922852,
          10.732938766479492,
          12.51832389831543,
          12.5759859085083,
          11.257960319519043,
          12.521980285644531,
          12.469819068908691,
          13.685768127441406,
          10.867383003234863,
          10.796242713928223,
          13.294329643249512,
          12.566876411437988,
          11.024395942687988,
          12.013721466064453,
          10.755279541015625,
          10.760055541992188,
          12.04784870147705,
          13.117228507995605,
          12.793196678161621,
          12.062155723571777,
          12.144455909729004,
          11.804570198059082,
          11.916666030883789,
          11.98731517791748,
          13.414329528808594,
          12.601692199707031,
          11.715127944946289,
          13.040168762207031,
          12.029568672180176,
          10.672572135925293,
          12.770491600036621,
          12.056827545166016,
          11.971919059753418,
          11.700469017028809,
          11.380362510681152,
          12.374892234802246,
          13.404537200927734,
          12.188851356506348,
          11.048678398132324,
          12.551237106323242,
          11.904448509216309,
          10.861041069030762,
          10.747573852539062,
          11.0292329788208,
          13.588445663452148,
          11.460209846496582,
          10.695889472961426,
          11.382637977600098,
          10.653741836547852,
          12.483495712280273,
          13.656015396118164,
          11.803000450134277,
          12.712981224060059,
          12.749709129333496,
          12.742237091064453,
          12.89572811126709,
          11.81492805480957,
          11.859659194946289,
          13.379443168640137,
          12.476479530334473,
          10.89957046508789,
          10.74970531463623,
          12.109379768371582,
          12.735814094543457,
          12.371881484985352,
          12.23992919921875,
          10.921836853027344,
          12.336551666259766,
          11.942060470581055,
          10.976819038391113,
          13.627764701843262,
          12.441191673278809,
          12.354897499084473,
          11.983797073364258,
          12.084402084350586,
          12.223240852355957,
          12.060470581054688,
          12.190020561218262,
          13.54963207244873,
          12.563210487365723,
          12.480770111083984,
          13.71770191192627,
          12.334372520446777,
          12.72580623626709,
          10.878039360046387,
          11.040753364562988,
          10.733600616455078,
          11.98982048034668,
          10.867868423461914,
          12.0785551071167,
          11.77694034576416,
          10.817456245422363,
          11.366412162780762,
          12.32255744934082,
          13.229544639587402,
          12.375377655029297,
          10.760263442993164,
          12.050313949584961,
          13.241412162780762,
          12.692488670349121,
          12.04706859588623,
          12.10623550415039,
          12.48829174041748,
          12.350150108337402,
          12.77765941619873,
          10.662521362304688,
          11.395245552062988,
          10.788000106811523,
          11.91883659362793,
          10.760627746582031,
          13.335779190063477,
          12.374473571777344,
          10.752910614013672,
          11.346858024597168,
          13.55129623413086,
          11.672320365905762,
          10.662031173706055,
          10.930347442626953,
          12.136514663696289,
          10.721529960632324,
          12.830392837524414,
          13.561140060424805,
          13.308853149414062,
          10.790937423706055,
          12.04988956451416,
          12.5548677444458,
          11.206242561340332,
          12.082185745239258,
          11.672362327575684,
          12.256391525268555,
          12.477550506591797,
          12.271173477172852,
          11.1461763381958,
          12.489014625549316,
          12.700716972351074,
          12.225704193115234,
          12.168861389160156,
          12.065706253051758,
          10.80732250213623,
          10.84367561340332,
          12.023781776428223,
          13.406134605407715,
          11.870893478393555,
          12.276269912719727,
          11.862905502319336,
          13.547212600708008,
          12.546704292297363,
          12.488067626953125,
          13.71138858795166,
          12.065711975097656,
          10.919238090515137,
          12.731939315795898,
          10.803949356079102,
          10.781445503234863,
          12.303653717041016,
          11.69898796081543,
          10.874555587768555,
          11.919108390808105,
          12.024534225463867
         ]
        },
        {
         "hoverinfo": "text",
         "hovertext": [
          "never entirely comfortable truth behind champion always fight something otherwi",
          "dude fuck robot",
          "okay checked fuck real",
          "friend india website story rinku sharma block twitter however continue",
          "new comic",
          "caught k say true",
          "let billionaire cry",
          "two amaze people fighter keep go need",
          "pride wake",
          "yes invisible",
          "enough people drop look",
          "assume fight back know one actually start fight",
          "think possible man produce much estrogen",
          "twitter thousand retweets twitter dozen retweets twitter new follower daily twitter followe",
          "woman kill kidnap afrin whole world silent woman together afrin",
          "stupid fuck bitch",
          "go year old woman nothing justice act revenge",
          "wow",
          "say",
          "rub face know know know say go happen c",
          "lady question imagine pill men begin market would really trust",
          "doubt fauci visit gay sauna bar highly doubt anything understand h",
          "every day come onto twitter lose another hundred follower add follower two year",
          "beating u game shut game fucker literally take ball g",
          "homosexual find criticize heteros much without u even exist",
          "men pig u stop living stop filth serious",
          "sorry break bimbo every guy planet want sleep",
          "actually interviewed tube channel couple year ago gotten thousand view",
          "deep",
          "homosexual scum vote vanilla",
          "total utter bullshit",
          "every single time",
          "available preview",
          "let cry woman afrin woman together afrin",
          "nigga like life anime yea bro one piece shit",
          "best really",
          "ok groomers",
          "little junk",
          "twitter purge account every single day add follower year instead lose follow",
          "fanart prefer",
          "know many purge account able survive account survive night",
          "drop photography mine",
          "guarantee chick like anything luxury",
          "idea guy god work love see clip float around",
          "none organic happen naturally manufacture",
          "believe",
          "kind woman foot hit floor morning devil say oh crap woman fear f",
          "know many people receive permanent ban social medium account express concern drag",
          "injury today insurrection oh wait mean medium full crap",
          "imagine someone snuck punch face behind start kick stomp yo",
          "lose follower twitter seem like tolerant free speech love place",
          "hundred salutation foot madhav",
          "delete first one get ratio ed hard uploaded new one allow",
          "prove u right every single time",
          "okay checked fuck real",
          "fuck petty go year old man weak pathetic creature",
          "assume fight back know one actually start fight",
          "bought paid",
          "video deserves every thumb get",
          "lie repeat often enough eventually becomes truth",
          "heartbreaking",
          "remember current era become naturally manufacture slowly generation",
          "lil nigga lil nigga lil nigga lil nigga lil nigga lil nigga lil nigga lil nigga lil nigga lil",
          "tomorrow recover woman day intelligence day",
          "one try murder lie po",
          "cry laugh zehma mtn catapult whore",
          "remember watch mother breakdown cry weight poverty hearing pain sorrow shame",
          "salute",
          "two tower hand signal hmm",
          "one one",
          "behind",
          "people still oblivious truth right plain sight",
          "wan na fuck time man body see nigga leave tf alone",
          "warrior",
          "someone dm please send picture cat anyrtgingh im boredddd",
          "always little shit think smarter elder inevitably end shit",
          "might audio version concept odysee channel find someone want put together vid",
          "accident",
          "post need many many million view share many people",
          "imagine force wake morning everyday",
          "parody account",
          "truth",
          "goodnight",
          "lick foot nigga white trash paris france interracial gay amateur gay",
          "yes",
          "apart weapon way mamma favorite weapon slipper",
          "shut shut goy know goy really know",
          "anyone think create video channel want deal tube censorship bit chute shitty",
          "think twitter allow certain conservative account maintain follower erase account like min",
          "jesus fuck christ guy happens talk tough try look sound cool violence g",
          "post need many many million view share many people",
          "expose back october",
          "well yes certainly full crap",
          "anyway would never stop repeat place woman tiktok quite simply",
          "gymnastics say dirty arab",
          "good morning ji",
          "amaze article people write two year ago show ten thousand follower",
          "wish men shut fuck today",
          "people still oblivious truth right plain sight",
          "great many level",
          "fagot take arm",
          null
         ],
         "marker": {
          "opacity": 0.5,
          "size": 5
         },
         "mode": "markers+text",
         "name": "2_nigga_lil_twitter",
         "text": [
          "",
          "",
          "",
          "",
          "",
          "",
          "",
          "",
          "",
          "",
          "",
          "",
          "",
          "",
          "",
          "",
          "",
          "",
          "",
          "",
          "",
          "",
          "",
          "",
          "",
          "",
          "",
          "",
          "",
          "",
          "",
          "",
          "",
          "",
          "",
          "",
          "",
          "",
          "",
          "",
          "",
          "",
          "",
          "",
          "",
          "",
          "",
          "",
          "",
          "",
          "",
          "",
          "",
          "",
          "",
          "",
          "",
          "",
          "",
          "",
          "",
          "",
          "",
          "",
          "",
          "",
          "",
          "",
          "",
          "",
          "",
          "",
          "",
          "",
          "",
          "",
          "",
          "",
          "",
          "",
          "",
          "",
          "",
          "",
          "",
          "",
          "",
          "",
          "",
          "",
          "",
          "",
          "",
          "",
          "",
          "",
          "",
          "",
          "",
          "",
          "",
          "2_nigga_lil_twitter"
         ],
         "textfont": {
          "size": 12
         },
         "type": "scattergl",
         "x": [
          8.269222259521484,
          8.26273250579834,
          8.25649642944336,
          5.797628879547119,
          6.8193745613098145,
          8.200189590454102,
          7.524144649505615,
          7.835600852966309,
          7.350115776062012,
          7.225017547607422,
          7.1249518394470215,
          8.260021209716797,
          8.194308280944824,
          5.830706596374512,
          7.618256092071533,
          8.42974853515625,
          8.20142936706543,
          7.427329063415527,
          7.60834264755249,
          8.277022361755371,
          8.442631721496582,
          8.727216720581055,
          5.821451663970947,
          8.632852554321289,
          8.971610069274902,
          8.188943862915039,
          8.028518676757812,
          6.168869495391846,
          7.384764194488525,
          9.13308048248291,
          7.356553554534912,
          7.782696723937988,
          6.996950149536133,
          7.605768203735352,
          8.546775817871094,
          7.321486473083496,
          9.130870819091797,
          7.187369346618652,
          5.786093235015869,
          6.63529634475708,
          5.721181392669678,
          7.109005451202393,
          8.581767082214355,
          6.294862270355225,
          8.00231647491455,
          7.318687915802002,
          7.59763240814209,
          5.760655403137207,
          7.169670104980469,
          8.279550552368164,
          5.775387287139893,
          6.622195243835449,
          6.143513202667236,
          8.169965744018555,
          8.264100074768066,
          8.290899276733398,
          8.273262023925781,
          6.035802364349365,
          6.25004768371582,
          7.818627834320068,
          7.586636066436768,
          7.836062908172607,
          8.685396194458008,
          7.732452392578125,
          8.055554389953613,
          7.654440879821777,
          7.475070476531982,
          6.751319885253906,
          7.175832271575928,
          7.989162921905518,
          7.2129974365234375,
          7.3606414794921875,
          8.58770751953125,
          7.570607662200928,
          6.425661087036133,
          8.233445167541504,
          6.323480129241943,
          7.100474834442139,
          6.164050102233887,
          7.760039806365967,
          7.150869846343994,
          7.405346393585205,
          7.6229448318481445,
          9.19524097442627,
          7.238894462585449,
          7.495616436004639,
          8.362741470336914,
          6.320862770080566,
          5.756834030151367,
          8.647583961486816,
          6.145419120788574,
          7.215354919433594,
          7.210931301116943,
          5.964229583740234,
          9.170291900634766,
          7.478994846343994,
          6.008281230926514,
          7.9821014404296875,
          7.370053291320801,
          6.485560894012451,
          7.844130516052246,
          7.461335182189941
         ],
         "y": [
          9.401366233825684,
          9.297941207885742,
          9.123587608337402,
          9.189098358154297,
          9.204925537109375,
          9.134230613708496,
          9.681546211242676,
          9.530542373657227,
          9.65399169921875,
          9.24553394317627,
          9.329229354858398,
          9.38383674621582,
          10.219476699829102,
          9.2001953125,
          9.728904724121094,
          9.530445098876953,
          9.80214786529541,
          8.96607780456543,
          9.413864135742188,
          9.368067741394043,
          10.067670822143555,
          9.993014335632324,
          9.173444747924805,
          9.617934226989746,
          9.989620208740234,
          9.9557523727417,
          10.024796485900879,
          9.409141540527344,
          9.510566711425781,
          10.013666152954102,
          9.062344551086426,
          8.956319808959961,
          9.304462432861328,
          9.719877243041992,
          9.685811996459961,
          8.909103393554688,
          10.015215873718262,
          9.037251472473145,
          9.165237426757812,
          9.077730178833008,
          9.240803718566895,
          9.309088706970215,
          10.055925369262695,
          9.379779815673828,
          10.575075149536133,
          10.212204933166504,
          9.876388549804688,
          9.194687843322754,
          9.017158508300781,
          9.377029418945312,
          9.159875869750977,
          9.882451057434082,
          9.40755558013916,
          9.119088172912598,
          9.172334671020508,
          9.786515235900879,
          9.387446403503418,
          9.580344200134277,
          9.460288047790527,
          9.305801391601562,
          8.965242385864258,
          10.672163963317871,
          9.591790199279785,
          10.06241512298584,
          9.688093185424805,
          9.745223999023438,
          9.705055236816406,
          9.884100914001465,
          10.115697860717773,
          9.639766693115234,
          9.392484664916992,
          9.425959587097168,
          9.606744766235352,
          9.574399948120117,
          9.210905075073242,
          9.758008003234863,
          9.364607810974121,
          9.099776268005371,
          9.383612632751465,
          10.194355010986328,
          9.219079971313477,
          9.356352806091309,
          10.060847282409668,
          9.991698265075684,
          8.98669147491455,
          9.539385795593262,
          9.364224433898926,
          9.42388916015625,
          9.160545349121094,
          9.661932945251465,
          9.38724422454834,
          9.369988441467285,
          8.997600555419922,
          9.122458457946777,
          10.061483383178711,
          10.070175170898438,
          9.351545333862305,
          9.97630500793457,
          9.43575668334961,
          9.67978286743164,
          9.571758270263672,
          9.529336929321289
         ]
        },
        {
         "hoverinfo": "text",
         "hovertext": [
          "ancient celt dyed hair blonde lime also dyed clothes various color plant berry",
          "jake tapper dnc operative expose wikileaks left wing hack nerve say kaleigh mc ne",
          "guy tune est click link see donald trump cpac address cpac general",
          "rino nikki haley scar show face cpac",
          "look like everything prove hitler right",
          "long machine shut georgia night",
          "surprised new age neo marxist refuse join take wall street crook",
          "shame gop ballot atlanta start come even though poll close five hour ago democrat co",
          "new regime go force mass obey send people disappear",
          "lincoln project every one work trump admin held accountable action also lp w",
          "necessary win election help someone heart big must heart",
          "democrat work harder rebuild c swamp american job",
          "sovereign mind power choice come single set belief define",
          "anti hitler sentiment reach fanatical insanity le severity religious hysteria anyone stoop",
          "want socialism",
          "john kohn aka john kerry claim earth nine year",
          "power go force individual citizen comply average citizen know",
          "alert communist senator chris murphy connecticut national security threat murphy infiltrate senate fo",
          "many generation american government organize crime syndicate illegal occupation",
          "rino nikki haley scar show face cpac",
          "trump cpac warmonger liz cheney",
          "house democrat push cable company big tech get rid conservative news network",
          "philosophy lie national socialism man lie",
          "blame anyone know truth adolf hitler amp national socialism victor write history",
          "gayle oprah paid pr harry witch",
          "yes true leftist lot common nazi",
          "entire world watch trump cpac",
          "end every trump speech music come help get dance president give much ho",
          "happen look like suitcase democrat ballot show",
          "threat alert radical communist tie nominate secretary interior deb haaland nomination completel",
          "communism symptom disease disease look communism come look",
          "year ago today one america great patriot hero born born bloomington illinois",
          "everybody want believe secret underground army organization go fix everything",
          "president trump cpac must voter id republican party actually tackle issue must stop speaki",
          "anyone good explanation china allow access u power grid hell",
          "arbitrariness censorship back west via",
          "make remain ballot de kalb county must manually scan order tabulate",
          "love trigger left amaze marjorie taylor greene look one strong conservative woman scare",
          "hitler nazi war happen racist hat anyone blonde hair amp blue eye",
          "oppose islam racist oppose german national socialism soviet communism nothing w color",
          "whoever control country institution control society perception reality",
          "ever reason storm street overthrow exist regime",
          "ryan girdusky lincoln project part grift part groom operation john weaver",
          "hypothetical anymore matter matter government force prep",
          "trump one address illegal immigration cpac republican party wake f",
          "wa po typical left wing news organization exists harm conservative jeff bezos u power money",
          "asks compromise always include give right gain control refer democr",
          "know go use eternal justification rob freedom right",
          "trump take stage cpac love president",
          "cqfd well totally fire like trump",
          "thought hillary aka schrillary clinton new book welcome",
          "george lincoln rockwell born march assassinate august",
          "trump present future republican party plan run",
          "proof globalism exist party",
          "cool story first time radio legendary rush limbaugh right somewhat infamou",
          "cnn rest liberal medium fake plan attack today u capitol go today",
          "george conway lie national tv say know fellow co founder lincoln project well r",
          "flag ny dems let let one credible scandal distract another credible disa",
          "trump cpac trumpism mean strong border riot support police nd amendment video",
          "dictatorship forbidden make fun powerful",
          "whole road map thing psy ops lockdown end people amp business simply realise power amp n",
          "yes trump might decide beat third time usa usa usa",
          "one president trump told u corruption go take place georgia right free",
          "expect someone else save expect group save people country",
          "show one politician corrupt core",
          "united remove traitor like party good choice show cpac",
          "gab run beautifully thank msm announce moment hate fo",
          "antifa always corporate manufacture product anarcho marxism package sell capitalist impre",
          "philosophy national socialism reawaking mankind consciousness nature importance ra",
          "get teary eyed see elderly veteran show freedom plaza fight trump incredible co",
          "russia international regulation social medium moderation",
          "counting stop ballot fairy go work",
          "trump want every american read follow time magazine article democrat crook flaunt corruptness know",
          "already election need mike penny stop democrat steal",
          "hysteria freak see hitler literally everywhere go continue affirm say fo",
          "win seat georgia mitt romney go officially declare democrat good riddance",
          "historically whenever marxist bolshevik communist regime take power one first thing",
          "thus globalists use power compete opposition make opposition illegal",
          "time see mike penny truly patriot",
          "president run third term cpac",
          "marxism virus mutates spread host host time bolshevism communism social democracy",
          "entire world watch trump cpac",
          "end attack natural order era insanity become universal new age religion",
          "trump slam traitor republican party yes name every last one time take back party",
          "natural redhead rare people planet easily one beautiful anyone natural",
          "expose georgia election bribe democrat group caught break federal law bribing georgia voter",
          "watch president trump take stage cpac give burst joy hope",
          "communism always creates resistance logical response communism always fascism na",
          "greta thunberg expose creation powerful marxist soros back ngo al gore amp",
          "warn joe biden radical hud secretary marcia fudge threat america watch like many others biden admin",
          "historically speak virtually every time communism come power regime manufacture artificial famine",
          "many vote discover georgia tonight watch suitcase ga sen",
          "one trump lawyer play unedited fine people hoax video debunk front america network",
          "imagine power like power declare act criminal ability declare anti semit",
          null
         ],
         "marker": {
          "opacity": 0.5,
          "size": 5
         },
         "mode": "markers+text",
         "name": "3_trump_cpac_power",
         "text": [
          "",
          "",
          "",
          "",
          "",
          "",
          "",
          "",
          "",
          "",
          "",
          "",
          "",
          "",
          "",
          "",
          "",
          "",
          "",
          "",
          "",
          "",
          "",
          "",
          "",
          "",
          "",
          "",
          "",
          "",
          "",
          "",
          "",
          "",
          "",
          "",
          "",
          "",
          "",
          "",
          "",
          "",
          "",
          "",
          "",
          "",
          "",
          "",
          "",
          "",
          "",
          "",
          "",
          "",
          "",
          "",
          "",
          "",
          "",
          "",
          "",
          "",
          "",
          "",
          "",
          "",
          "",
          "",
          "",
          "",
          "",
          "",
          "",
          "",
          "",
          "",
          "",
          "",
          "",
          "",
          "",
          "",
          "",
          "",
          "",
          "",
          "",
          "",
          "",
          "",
          "",
          "",
          "",
          "",
          "3_trump_cpac_power"
         ],
         "textfont": {
          "size": 12
         },
         "type": "scattergl",
         "x": [
          8.899316787719727,
          6.437411308288574,
          6.787269592285156,
          6.911899566650391,
          8.695894241333008,
          6.196791172027588,
          7.188144207000732,
          6.179440021514893,
          7.902358055114746,
          6.7506184577941895,
          6.146655559539795,
          6.509929180145264,
          7.713589668273926,
          8.710978507995605,
          8.01889419555664,
          6.165467262268066,
          7.60302209854126,
          6.232049465179443,
          7.217457294464111,
          6.879443168640137,
          6.89376163482666,
          6.511209964752197,
          8.00328540802002,
          8.3495454788208,
          7.095612525939941,
          7.320853233337402,
          6.832760810852051,
          6.790775299072266,
          6.190234661102295,
          6.151586532592773,
          7.974781036376953,
          7.038503646850586,
          7.208465099334717,
          6.773472309112549,
          7.093789577484131,
          7.6580400466918945,
          6.157843589782715,
          6.991855621337891,
          8.816649436950684,
          8.004576683044434,
          7.664305686950684,
          8.159844398498535,
          7.215122222900391,
          7.74972677230835,
          6.789371490478516,
          6.57427453994751,
          7.821005821228027,
          8.439663887023926,
          6.784630298614502,
          6.816629886627197,
          6.8929219245910645,
          7.169659614562988,
          6.531770706176758,
          7.704418659210205,
          6.663622856140137,
          6.459283828735352,
          7.226344108581543,
          6.296043872833252,
          6.8808746337890625,
          7.734334945678711,
          7.075648784637451,
          6.487066268920898,
          6.4748101234436035,
          7.848315715789795,
          6.323159694671631,
          6.33107852935791,
          6.229297161102295,
          7.338003635406494,
          8.096070289611816,
          6.751293659210205,
          7.7113494873046875,
          6.187374591827393,
          6.496666431427002,
          6.268684387207031,
          8.718849182128906,
          6.212838649749756,
          8.004195213317871,
          7.6574387550354,
          6.422054290771484,
          6.6136155128479,
          8.024029731750488,
          6.800784587860107,
          8.546167373657227,
          6.447642803192139,
          8.759242057800293,
          6.2408061027526855,
          6.804522514343262,
          7.9520978927612305,
          6.962961673736572,
          6.226049423217773,
          7.939536094665527,
          6.198925018310547,
          6.529521942138672,
          7.681408405303955,
          7.13765287399292
         ],
         "y": [
          12.415694236755371,
          13.258950233459473,
          13.800003051757812,
          13.762173652648926,
          12.48252010345459,
          14.055264472961426,
          12.803180694580078,
          14.073022842407227,
          11.511019706726074,
          13.357758522033691,
          13.961214065551758,
          13.251988410949707,
          11.608394622802734,
          12.398812294006348,
          12.19278621673584,
          13.9335355758667,
          11.491058349609375,
          13.49519157409668,
          11.782980918884277,
          13.731505393981934,
          13.647551536560059,
          13.105865478515625,
          12.278937339782715,
          12.25494384765625,
          13.21494197845459,
          12.521018981933594,
          13.826874732971191,
          13.85399341583252,
          14.041169166564941,
          13.461262702941895,
          12.056896209716797,
          12.750356674194336,
          11.188593864440918,
          13.851073265075684,
          11.095067977905273,
          11.237126350402832,
          14.06241512298584,
          13.138216018676758,
          12.449719429016113,
          12.247334480285645,
          11.318227767944336,
          11.58527660369873,
          13.159866333007812,
          11.6498441696167,
          13.857454299926758,
          12.926304817199707,
          11.604865074157715,
          12.027324676513672,
          13.811264038085938,
          13.749378204345703,
          13.350319862365723,
          13.085208892822266,
          13.730511665344238,
          12.15956974029541,
          13.399103164672852,
          13.069363594055176,
          13.148380279541016,
          13.675729751586914,
          13.844500541687012,
          11.235596656799316,
          10.860465049743652,
          13.625555992126465,
          13.675353050231934,
          11.485684394836426,
          13.567805290222168,
          13.602995872497559,
          13.991003036499023,
          12.152349472045898,
          12.181257247924805,
          13.794048309326172,
          11.324552536010742,
          14.040284156799316,
          13.179753303527832,
          13.91361141204834,
          12.503640174865723,
          14.008798599243164,
          12.02852725982666,
          11.813253402709961,
          13.73656940460205,
          13.720627784729004,
          12.069534301757812,
          13.834492683410645,
          11.973860740661621,
          13.712746620178223,
          12.278142929077148,
          13.964255332946777,
          13.833651542663574,
          12.02506160736084,
          12.938506126403809,
          13.505661010742188,
          11.9977445602417,
          14.037054061889648,
          13.059338569641113,
          11.669798851013184,
          12.89515495300293
         ]
        },
        {
         "hoverinfo": "text",
         "hovertext": [
          "america pay attention coordinate global attack india left radical launch campaign destr",
          "sharia pakistan little hindu girl pakistan abduct beg india modi protection islamic ca",
          "hindu le sikh today e hoist flag religion red fort",
          "islamic pakistan medium blackout muslim destroy another hindu temple pakistan modi caa give citizenship persecute",
          "holy place vrindavan cm shri ji hon union jal shakti minister shri water power",
          "year delhi trouble riot delhi ankit rinku sharma kill jihadis delhi",
          "india innovative thrust jai swadeshi",
          "day since kashmiri hindu turn away home let sink",
          "recent psych science paper use national iq predict stuff ran simple probability calculation measur",
          "cnrs investigate sa bouamama via",
          "inter n national c chutiya",
          "friend india please contact help expose left coordinate attack country indian fa",
          "u bulat home pawri ho rai hai",
          "lgbt deviant disrespect kaaba bo azi university detain",
          "g link anon r pls research post u find fault let know learn hhx news clipping lie flie",
          "associate every work r interest country mithun chakraborty",
          "downfall one kill sadhu insult woman certain parambir singh anil deshmukh uddhav thackeray sanjay raut ht",
          "modi ji slogan self reliance penetrate even among love couple",
          "warn biden terror tie hijabi appointee sameera fazili threat u amp india fazili member stand kash",
          "try tell everyone year matter nothing good enough crea",
          "pulse farmer need price support edible oil",
          "time fix mukhtar ansari salwar peeli",
          "still percent hungry live india constantly gini coefficient rise data present poverty al",
          "u press reporting muslim girl father lie samuel paty start campaign get",
          "shameful samuel paty style threat head school bow violent jihad mob parent issue apology su",
          "fund dedication shri ram mandir zomato pizza hut domino swiggy mango shopkeeper",
          "happy republic day india america stand care deeply war jihadis amp left wag country amp",
          "make farm economically viable sustainable enterprise small farmer india need carefully listen",
          "terrorist attack india islamic mob drag hindu rinku sharma home slaughter front parent wh",
          "facebook ban gay ex muslim iraq life germany one photo show kiss man",
          "savitri devi write numerous time determine quality person people view",
          "two private school girl adelaide appear film hang black baby doll give part",
          "australian student year behind average chinese student sat test year behind",
          "heard psycho back send agra soon",
          "whole event always control western country roll social credit system like comm",
          "final round shivgaan competition full swing across maharashtra eve chhatrapati shivaji maharaj birth anniversary umbrella",
          "rahul gandhi big asset bjp",
          "medium want believe hundred people freedom reclaim",
          "sucial science uba must close",
          "friend let support dear friend let solidarity problem account friend get notification",
          "tell everyone year ever give scandinavian brother sister war th",
          "ok theek hai",
          "really modi ji get credit rejuvenation include go journey become possible",
          "case prima facie seem fault delivery boy kamaraj hitesha pull whole",
          "south australia trinity college apologise video circulate show student school hang black",
          "pride india rajputana chittorgarh fort",
          null
         ],
         "marker": {
          "opacity": 0.5,
          "size": 5
         },
         "mode": "markers+text",
         "name": "4_india_hindu_pakistan",
         "text": [
          "",
          "",
          "",
          "",
          "",
          "",
          "",
          "",
          "",
          "",
          "",
          "",
          "",
          "",
          "",
          "",
          "",
          "",
          "",
          "",
          "",
          "",
          "",
          "",
          "",
          "",
          "",
          "",
          "",
          "",
          "",
          "",
          "",
          "",
          "",
          "",
          "",
          "",
          "",
          "",
          "",
          "",
          "",
          "",
          "",
          "",
          "4_india_hindu_pakistan"
         ],
         "textfont": {
          "size": 12
         },
         "type": "scattergl",
         "x": [
          6.14193868637085,
          5.659726619720459,
          5.8518385887146,
          5.735899448394775,
          5.894951343536377,
          5.755792140960693,
          6.062582492828369,
          5.838697910308838,
          5.960446357727051,
          5.867490768432617,
          5.917309284210205,
          6.0693159103393555,
          6.09938907623291,
          5.587923526763916,
          5.695446014404297,
          6.314713954925537,
          5.866647720336914,
          6.239067554473877,
          5.4906840324401855,
          5.583247184753418,
          7.1343092918396,
          5.762304306030273,
          7.151255130767822,
          5.4695143699646,
          5.510573863983154,
          5.849399566650391,
          6.256602764129639,
          6.99645471572876,
          5.67861270904541,
          5.524020671844482,
          6.3236308097839355,
          5.748663902282715,
          5.599967956542969,
          5.987346172332764,
          6.709357261657715,
          5.840919494628906,
          6.133902072906494,
          6.329646587371826,
          5.827625274658203,
          5.981393337249756,
          5.545191287994385,
          6.017467021942139,
          6.204273700714111,
          5.839121341705322,
          5.558882236480713,
          5.974789619445801,
          5.969311237335205
         ],
         "y": [
          11.621618270874023,
          11.302849769592285,
          11.008932113647461,
          11.220616340637207,
          10.878716468811035,
          11.273550987243652,
          10.914416313171387,
          11.218328475952148,
          9.569717407226562,
          10.84132194519043,
          10.856560707092285,
          11.458641052246094,
          10.897757530212402,
          11.37432861328125,
          11.52059555053711,
          10.95694351196289,
          11.166274070739746,
          10.886796951293945,
          11.55665397644043,
          11.750422477722168,
          11.267633438110352,
          11.138972282409668,
          11.29589557647705,
          11.454115867614746,
          11.439692497253418,
          10.898804664611816,
          11.562432289123535,
          11.282224655151367,
          11.324328422546387,
          11.462114334106445,
          10.685750961303711,
          11.260519981384277,
          11.455108642578125,
          10.386771202087402,
          11.100966453552246,
          10.820834159851074,
          11.016490936279297,
          11.52202320098877,
          10.797981262207031,
          10.131020545959473,
          11.83361530303955,
          10.859884262084961,
          10.96677017211914,
          11.07906723022461,
          11.376055717468262,
          10.889177322387695,
          11.121377944946289
         ]
        },
        {
         "hoverinfo": "text",
         "hovertext": [
          "white people say jew white consider anti semitism jew say",
          "ric dupond moretti act submit zionist lobby via",
          "try say jew stock market beating game anti semitism",
          "law anti white law anti jewish white people really wer",
          "average people need start ask okay jew anti white okay white",
          "new swedish school report jew malm enemy arab student craze hitler today",
          "social zionism wreak havoc suburb national zionism reap benefit",
          "community say black jew operate together coordinate effort dismiss bigotry r",
          "well jew allow hate white people white people allow hate jew",
          "lol say republican today like jewish holocaust apparently",
          "harassment violence impersonation zionism ulcan trial via",
          "people draw comparison jeffrey epstein lincoln project",
          "amaze often jew involve significant world event",
          "take name main parasitic beneficiary anti semitism journalistic investigation",
          "get align hebrew mythology story",
          "literally every single time hear someone spray paint swastika synagogue end hoax lit",
          "myth semitic armenoid story",
          "hebrew mythology make race slave benefit",
          "remember allow even much question woman story story holocaust told",
          "white people say jew white consider anti semitism jew say",
          "try say jew one lead impeachment",
          "semite member people speak spoke semitic language include particular jew",
          "identity generation techouva anti semitism anti zionism place u",
          "old south wealthy white allied jewish merchant pamper color slave class mass poor white",
          "collect coin like jew anti semitic humor slippage elect official sarcelles see",
          "daily reminder jew perfect people never commit crime certainly war crime",
          "whenever biden speaks know semitic armenoid handler speak instead",
          "abrahamic summit jew pope interfaith meeting iraq",
          "hell holocaust denial illegal place mean illegal simply say something like loo",
          "try say jew one lead impeachment",
          "say denounce anti semitism jew say video link",
          null
         ],
         "marker": {
          "opacity": 0.5,
          "size": 5
         },
         "mode": "markers+text",
         "name": "5_jew_anti_say",
         "text": [
          "",
          "",
          "",
          "",
          "",
          "",
          "",
          "",
          "",
          "",
          "",
          "",
          "",
          "",
          "",
          "",
          "",
          "",
          "",
          "",
          "",
          "",
          "",
          "",
          "",
          "",
          "",
          "",
          "",
          "",
          "",
          "5_jew_anti_say"
         ],
         "textfont": {
          "size": 12
         },
         "type": "scattergl",
         "x": [
          9.536664962768555,
          8.497688293457031,
          9.221714973449707,
          9.594507217407227,
          9.568459510803223,
          8.770535469055176,
          8.443902015686035,
          9.6532564163208,
          9.57779312133789,
          9.427799224853516,
          8.402851104736328,
          8.805514335632324,
          9.223832130432129,
          8.470590591430664,
          9.201991081237793,
          9.23585033416748,
          9.199677467346191,
          9.280510902404785,
          9.02877140045166,
          9.553038597106934,
          9.165417671203613,
          9.525811195373535,
          8.45309829711914,
          9.46036434173584,
          9.155797004699707,
          9.4273099899292,
          9.093223571777344,
          9.157075881958008,
          9.560901641845703,
          9.163511276245117,
          9.335555076599121,
          9.167515754699707
         ],
         "y": [
          12.951745986938477,
          12.995518684387207,
          13.073607444763184,
          12.870033264160156,
          12.893207550048828,
          12.77627944946289,
          12.951274871826172,
          12.72710132598877,
          12.882514953613281,
          12.988078117370605,
          12.939103126525879,
          13.039977073669434,
          13.012489318847656,
          12.907414436340332,
          12.823726654052734,
          13.096444129943848,
          12.789423942565918,
          12.7733736038208,
          12.69933032989502,
          12.902556419372559,
          13.182354927062988,
          12.928475379943848,
          12.906954765319824,
          12.786766052246094,
          13.15025806427002,
          12.92031192779541,
          13.182275772094727,
          13.181279182434082,
          12.787909507751465,
          13.181506156921387,
          13.053886413574219,
          12.946942329406738
         ]
        },
        {
         "hoverinfo": "text",
         "hovertext": [
          "play f aschtb nkler partyplanet",
          "play hut jordan jay idetto mood",
          "play fantasy casanova",
          "play sugarfree fantasy",
          "play luc steeno played accordion",
          "anyone else clubhouse join wonder u",
          "play snollebollekes springen nondeju nd bass remix",
          "play anja speak silver silent gold",
          "play bobby day rockin robin",
          "play various artist fanfare hunger thirst",
          "play lisa del bo pearl like",
          "play wolter kroes viva hollandia",
          "bose dk sit naked",
          "play django wagner de muzikant",
          "play hansi hinterseer god life earth",
          "play semino rossi alone tonight",
          "play bob benny love anyway",
          "play jayh nice day",
          "get ro pfp would sit one bestie",
          "play nicole wonderful",
          "ptdrrrr nintendo schwitz",
          "play richard anthony j entends siffler le train version remastered",
          null
         ],
         "marker": {
          "opacity": 0.5,
          "size": 5
         },
         "mode": "markers+text",
         "name": "6_play_sit_fantasy",
         "text": [
          "",
          "",
          "",
          "",
          "",
          "",
          "",
          "",
          "",
          "",
          "",
          "",
          "",
          "",
          "",
          "",
          "",
          "",
          "",
          "",
          "",
          "",
          "6_play_sit_fantasy"
         ],
         "textfont": {
          "size": 12
         },
         "type": "scattergl",
         "x": [
          6.543566703796387,
          6.479093551635742,
          6.635056018829346,
          6.612086296081543,
          6.503437042236328,
          6.625864028930664,
          6.5117268562316895,
          6.567367076873779,
          6.532368183135986,
          6.5115766525268555,
          6.555389404296875,
          6.566903114318848,
          6.432009696960449,
          6.548354148864746,
          6.570704460144043,
          6.701189994812012,
          6.587593078613281,
          6.568415641784668,
          6.785665035247803,
          6.713118553161621,
          6.50966739654541,
          6.562334060668945,
          6.573794364929199
         ],
         "y": [
          7.8598737716674805,
          7.91356897354126,
          7.9222211837768555,
          7.875077247619629,
          7.8688788414001465,
          8.251871109008789,
          7.838949680328369,
          7.8797688484191895,
          7.86390495300293,
          7.834957122802734,
          7.889070510864258,
          7.8263702392578125,
          8.010431289672852,
          7.8162641525268555,
          7.881914138793945,
          8.012356758117676,
          7.886472702026367,
          7.888067722320557,
          8.121582984924316,
          7.984080791473389,
          7.836973190307617,
          7.849531650543213,
          7.914190292358398
         ]
        },
        {
         "hoverinfo": "text",
         "hovertext": [
          "panic kitchen rebel restaurateur deprive aid bruno le maire via",
          "peugeot affair documentary available vo kontre kulture",
          "soral answer episode alain soral family program st phane douard",
          "soral answer episode alexandre langlois",
          "philippe de maistre courageous priest people respect health dictatorship",
          "see episode",
          "celebration napoleon bicentenary disturb laughter minister woman elisabeth moreno",
          "piece bravery alain soral russie toulon",
          "afghanistan saudi arabia dream afternoon b ziers lidl supermarket avenue de badones",
          "race alain soral fr jus may",
          "dr louis fouch hold bonus",
          "alain soral answer pierre de brague question understand era compensation complacency",
          "meryeminelindentut",
          "marcel obama lukashenko karine lacombe fourtillan student",
          "quite simply interest le",
          "france freak theory small bubble heat pan water first surface",
          "soral answer erfm twenty fourth batch",
          "didier raoult must stop war press release say go die",
          "alain soral transition formal logic concrete logic",
          "piece bravery alain soral ntm alain soral fr jus",
          "panic kitchen rebel restaurateur deprive aid bruno le maire",
          "franco albrecht neo nazi terrorist disguise syrian migrant victor young repentant lfi return v",
          null
         ],
         "marker": {
          "opacity": 0.5,
          "size": 5
         },
         "mode": "markers+text",
         "name": "7_soral_alain_answer",
         "text": [
          "",
          "",
          "",
          "",
          "",
          "",
          "",
          "",
          "",
          "",
          "",
          "",
          "",
          "",
          "",
          "",
          "",
          "",
          "",
          "",
          "",
          "",
          "7_soral_alain_answer"
         ],
         "textfont": {
          "size": 12
         },
         "type": "scattergl",
         "x": [
          4.629209995269775,
          4.661367893218994,
          4.7348480224609375,
          4.768921852111816,
          4.687715530395508,
          5.148920059204102,
          4.679149627685547,
          4.697739124298096,
          4.451650142669678,
          4.689459323883057,
          4.976689338684082,
          4.832745552062988,
          4.4032769203186035,
          4.686100959777832,
          4.913619041442871,
          4.713605880737305,
          4.8189568519592285,
          4.689451694488525,
          4.810604095458984,
          4.674991130828857,
          4.647511005401611,
          4.842963695526123,
          4.734522819519043
         ],
         "y": [
          10.319974899291992,
          10.002202987670898,
          9.981085777282715,
          9.97805118560791,
          10.37159252166748,
          9.840869903564453,
          10.38238525390625,
          10.204472541809082,
          10.540818214416504,
          10.054136276245117,
          9.889202117919922,
          9.955960273742676,
          10.515369415283203,
          10.483616828918457,
          9.965446472167969,
          10.25692367553711,
          9.968175888061523,
          10.620457649230957,
          9.91773509979248,
          10.113334655761719,
          10.305411338806152,
          10.693275451660156,
          10.198203086853027
         ]
        },
        {
         "hoverinfo": "text",
         "hovertext": [
          "three sea rescue ng accuse complicity criminal smuggler",
          "right guy trial face ten year prison meme another guy give year sent",
          "shame wrongly announce julian assange release bail instead issue correction chan",
          "accusation incest richard berry marilou berry support cousin coline",
          "hey general heard retire general major ig investigation involve army hid",
          "berry case jeane manson accuse member pedophile sect coline berry via",
          "current swallower",
          "buzyn amp co judged crime humanity want new nuremberg",
          "archive footage jeane manson sings child god pedophile sect via",
          "richard berry admits violent catherine hiegel jeane manson",
          "leader proud boy former informant case human traffic narcotic",
          "julian assange release bail",
          "accord news source suspect detain release name description virtual",
          "assange never gaol expose war crime u government always mystifies",
          "favor report guy try dox",
          "gradually begin hate video link",
          "nikol pashinyan prime minister armenia confesses occupation percent shusha populati",
          "threatens violence manager video say hope others find beat tri",
          null
         ],
         "marker": {
          "opacity": 0.5,
          "size": 5
         },
         "mode": "markers+text",
         "name": "8_berry_jeane_manson",
         "text": [
          "",
          "",
          "",
          "",
          "",
          "",
          "",
          "",
          "",
          "",
          "",
          "",
          "",
          "",
          "",
          "",
          "",
          "",
          "8_berry_jeane_manson"
         ],
         "textfont": {
          "size": 12
         },
         "type": "scattergl",
         "x": [
          5.153919219970703,
          5.08002233505249,
          4.971652984619141,
          4.718846321105957,
          5.248492240905762,
          4.7267632484436035,
          7.042339324951172,
          5.046672821044922,
          4.755443572998047,
          4.715684413909912,
          5.3269782066345215,
          4.977641582489014,
          4.792916774749756,
          5.057515621185303,
          6.13073205947876,
          6.382360458374023,
          3.5469701290130615,
          6.3738694190979,
          5.2249345779418945
         ],
         "y": [
          10.964922904968262,
          11.0565767288208,
          11.139884948730469,
          11.818852424621582,
          10.752474784851074,
          11.827383041381836,
          10.064130783081055,
          11.035696029663086,
          11.790947914123535,
          11.811965942382812,
          10.70263385772705,
          11.113996505737305,
          11.205232620239258,
          11.045632362365723,
          9.934279441833496,
          9.673649787902832,
          11.667492866516113,
          9.740955352783203,
          10.963706016540527
         ]
        },
        {
         "hoverinfo": "text",
         "hovertext": [
          "plan take back hagia sophia",
          "buy story second pipe bomb really plant dc capitol guarantee",
          "basically back foreign war shipping american job sea",
          "shill foreign domestic enemy",
          "february shape one long cold rape big frozen winter wiener",
          "um exactly dc capitol bombed see already rewrite history le two mon",
          "nation yahweh mayor miami xavier su rez declare yahweh ben yahweh day october mon",
          "salute brave soldier",
          "new year eve wuhan v nyc spot communist nation",
          "city burn ransack violent terrorist savage summer long give fuck le th",
          "major victory domestic terrorism america today fail huffington post fire radical",
          "warn conservative dangerous new antifa doxxing group beware deplatform hate left wing deplatform hate lat",
          "want keep america safe stop import people want kill u simple",
          "pay middle eastern terrorist smuggle u via mexican border people sw",
          "west full country protect border dangerous illegal migrant problem imposi",
          "god bless eric zemmour",
          "warn communist weaponize fake asian hate crime narrative plot march th u protest party liberation socialis",
          null
         ],
         "marker": {
          "opacity": 0.5,
          "size": 5
         },
         "mode": "markers+text",
         "name": "9_yahweh_mon_deplatform",
         "text": [
          "",
          "",
          "",
          "",
          "",
          "",
          "",
          "",
          "",
          "",
          "",
          "",
          "",
          "",
          "",
          "",
          "",
          "9_yahweh_mon_deplatform"
         ],
         "textfont": {
          "size": 12
         },
         "type": "scattergl",
         "x": [
          6.107069492340088,
          6.194879531860352,
          5.519768714904785,
          6.7519073486328125,
          5.771484851837158,
          6.134857177734375,
          5.884756565093994,
          6.606570720672607,
          6.3159613609313965,
          5.7689361572265625,
          6.290896892547607,
          6.682408809661865,
          5.364128112792969,
          6.491076946258545,
          5.261697292327881,
          5.901191711425781,
          6.641430854797363,
          6.099353790283203
         ],
         "y": [
          12.727241516113281,
          12.777704238891602,
          12.82906723022461,
          12.314606666564941,
          12.512782096862793,
          12.735872268676758,
          12.623075485229492,
          9.99498176574707,
          12.475899696350098,
          12.547536849975586,
          12.816038131713867,
          12.324666023254395,
          13.01036548614502,
          11.040003776550293,
          12.978408813476562,
          12.502941131591797,
          12.266685485839844,
          12.381051063537598
         ]
        },
        {
         "hoverinfo": "text",
         "hovertext": [
          "covid warn yr old survivor call resistance recur fascism tend hold onto rather magical amp",
          "create beast finally bring",
          "start reimburse ruin fn",
          "good news would prefer rehabilitation center",
          "great reset big cleaning episode great reset health",
          "people bailing tube switch lbry odysee",
          "heal unity creature",
          "warn left wing fight morph pandemic lockdown climate lockdown climate lockdown private vehicle use b",
          "new normal watchword great reset",
          "daniel year old athletic intensive care bfm tv manipulation",
          "mdrrrr see pair look like clutch pedal",
          "see yet another major purge go today linktree find place",
          "go leclerc reimburse x psk difference found penny product cheaper htt",
          "disability heval",
          "great reset spring cleaning episode free extract",
          "watch first part minute great reset great reset spring cleaning great r",
          null
         ],
         "marker": {
          "opacity": 0.5,
          "size": 5
         },
         "mode": "markers+text",
         "name": "10_reset_great_cleaning",
         "text": [
          "",
          "",
          "",
          "",
          "",
          "",
          "",
          "",
          "",
          "",
          "",
          "",
          "",
          "",
          "",
          "",
          "10_reset_great_cleaning"
         ],
         "textfont": {
          "size": 12
         },
         "type": "scattergl",
         "x": [
          6.397575378417969,
          6.238232135772705,
          5.634207725524902,
          5.868564605712891,
          5.58739709854126,
          6.940576076507568,
          5.912791728973389,
          6.708273410797119,
          5.586277961730957,
          5.9343671798706055,
          6.989578723907471,
          5.572723865509033,
          5.653281211853027,
          5.93868350982666,
          5.545650959014893,
          5.59398078918457,
          6.006385326385498
         ],
         "y": [
          10.376344680786133,
          10.333036422729492,
          9.814704895019531,
          10.112931251525879,
          9.85030746459961,
          10.741483688354492,
          10.215008735656738,
          11.50035285949707,
          9.857686996459961,
          9.963841438293457,
          10.452134132385254,
          9.693243026733398,
          9.760748863220215,
          10.140704154968262,
          9.856221199035645,
          9.863409996032715,
          10.158259391784668
         ]
        }
       ],
       "layout": {
        "annotations": [
         {
          "showarrow": false,
          "text": "D1",
          "x": 2.622241723537445,
          "y": 11.41390039920807,
          "yshift": 10
         },
         {
          "showarrow": false,
          "text": "D2",
          "x": 7.542771428823471,
          "xshift": 10,
          "y": 16.183976268768312
         }
        ],
        "height": 750,
        "shapes": [
         {
          "line": {
           "color": "#CFD8DC",
           "width": 2
          },
          "type": "line",
          "x0": 7.542771428823471,
          "x1": 7.542771428823471,
          "y0": 6.643824529647827,
          "y1": 16.183976268768312
         },
         {
          "line": {
           "color": "#9E9E9E",
           "width": 2
          },
          "type": "line",
          "x0": 2.622241723537445,
          "x1": 12.463301134109496,
          "y0": 11.41390039920807,
          "y1": 11.41390039920807
         }
        ],
        "template": {
         "data": {
          "bar": [
           {
            "error_x": {
             "color": "rgb(36,36,36)"
            },
            "error_y": {
             "color": "rgb(36,36,36)"
            },
            "marker": {
             "line": {
              "color": "white",
              "width": 0.5
             },
             "pattern": {
              "fillmode": "overlay",
              "size": 10,
              "solidity": 0.2
             }
            },
            "type": "bar"
           }
          ],
          "barpolar": [
           {
            "marker": {
             "line": {
              "color": "white",
              "width": 0.5
             },
             "pattern": {
              "fillmode": "overlay",
              "size": 10,
              "solidity": 0.2
             }
            },
            "type": "barpolar"
           }
          ],
          "carpet": [
           {
            "aaxis": {
             "endlinecolor": "rgb(36,36,36)",
             "gridcolor": "white",
             "linecolor": "white",
             "minorgridcolor": "white",
             "startlinecolor": "rgb(36,36,36)"
            },
            "baxis": {
             "endlinecolor": "rgb(36,36,36)",
             "gridcolor": "white",
             "linecolor": "white",
             "minorgridcolor": "white",
             "startlinecolor": "rgb(36,36,36)"
            },
            "type": "carpet"
           }
          ],
          "choropleth": [
           {
            "colorbar": {
             "outlinewidth": 1,
             "tickcolor": "rgb(36,36,36)",
             "ticks": "outside"
            },
            "type": "choropleth"
           }
          ],
          "contour": [
           {
            "colorbar": {
             "outlinewidth": 1,
             "tickcolor": "rgb(36,36,36)",
             "ticks": "outside"
            },
            "colorscale": [
             [
              0,
              "#440154"
             ],
             [
              0.1111111111111111,
              "#482878"
             ],
             [
              0.2222222222222222,
              "#3e4989"
             ],
             [
              0.3333333333333333,
              "#31688e"
             ],
             [
              0.4444444444444444,
              "#26828e"
             ],
             [
              0.5555555555555556,
              "#1f9e89"
             ],
             [
              0.6666666666666666,
              "#35b779"
             ],
             [
              0.7777777777777778,
              "#6ece58"
             ],
             [
              0.8888888888888888,
              "#b5de2b"
             ],
             [
              1,
              "#fde725"
             ]
            ],
            "type": "contour"
           }
          ],
          "contourcarpet": [
           {
            "colorbar": {
             "outlinewidth": 1,
             "tickcolor": "rgb(36,36,36)",
             "ticks": "outside"
            },
            "type": "contourcarpet"
           }
          ],
          "heatmap": [
           {
            "colorbar": {
             "outlinewidth": 1,
             "tickcolor": "rgb(36,36,36)",
             "ticks": "outside"
            },
            "colorscale": [
             [
              0,
              "#440154"
             ],
             [
              0.1111111111111111,
              "#482878"
             ],
             [
              0.2222222222222222,
              "#3e4989"
             ],
             [
              0.3333333333333333,
              "#31688e"
             ],
             [
              0.4444444444444444,
              "#26828e"
             ],
             [
              0.5555555555555556,
              "#1f9e89"
             ],
             [
              0.6666666666666666,
              "#35b779"
             ],
             [
              0.7777777777777778,
              "#6ece58"
             ],
             [
              0.8888888888888888,
              "#b5de2b"
             ],
             [
              1,
              "#fde725"
             ]
            ],
            "type": "heatmap"
           }
          ],
          "heatmapgl": [
           {
            "colorbar": {
             "outlinewidth": 1,
             "tickcolor": "rgb(36,36,36)",
             "ticks": "outside"
            },
            "colorscale": [
             [
              0,
              "#440154"
             ],
             [
              0.1111111111111111,
              "#482878"
             ],
             [
              0.2222222222222222,
              "#3e4989"
             ],
             [
              0.3333333333333333,
              "#31688e"
             ],
             [
              0.4444444444444444,
              "#26828e"
             ],
             [
              0.5555555555555556,
              "#1f9e89"
             ],
             [
              0.6666666666666666,
              "#35b779"
             ],
             [
              0.7777777777777778,
              "#6ece58"
             ],
             [
              0.8888888888888888,
              "#b5de2b"
             ],
             [
              1,
              "#fde725"
             ]
            ],
            "type": "heatmapgl"
           }
          ],
          "histogram": [
           {
            "marker": {
             "line": {
              "color": "white",
              "width": 0.6
             }
            },
            "type": "histogram"
           }
          ],
          "histogram2d": [
           {
            "colorbar": {
             "outlinewidth": 1,
             "tickcolor": "rgb(36,36,36)",
             "ticks": "outside"
            },
            "colorscale": [
             [
              0,
              "#440154"
             ],
             [
              0.1111111111111111,
              "#482878"
             ],
             [
              0.2222222222222222,
              "#3e4989"
             ],
             [
              0.3333333333333333,
              "#31688e"
             ],
             [
              0.4444444444444444,
              "#26828e"
             ],
             [
              0.5555555555555556,
              "#1f9e89"
             ],
             [
              0.6666666666666666,
              "#35b779"
             ],
             [
              0.7777777777777778,
              "#6ece58"
             ],
             [
              0.8888888888888888,
              "#b5de2b"
             ],
             [
              1,
              "#fde725"
             ]
            ],
            "type": "histogram2d"
           }
          ],
          "histogram2dcontour": [
           {
            "colorbar": {
             "outlinewidth": 1,
             "tickcolor": "rgb(36,36,36)",
             "ticks": "outside"
            },
            "colorscale": [
             [
              0,
              "#440154"
             ],
             [
              0.1111111111111111,
              "#482878"
             ],
             [
              0.2222222222222222,
              "#3e4989"
             ],
             [
              0.3333333333333333,
              "#31688e"
             ],
             [
              0.4444444444444444,
              "#26828e"
             ],
             [
              0.5555555555555556,
              "#1f9e89"
             ],
             [
              0.6666666666666666,
              "#35b779"
             ],
             [
              0.7777777777777778,
              "#6ece58"
             ],
             [
              0.8888888888888888,
              "#b5de2b"
             ],
             [
              1,
              "#fde725"
             ]
            ],
            "type": "histogram2dcontour"
           }
          ],
          "mesh3d": [
           {
            "colorbar": {
             "outlinewidth": 1,
             "tickcolor": "rgb(36,36,36)",
             "ticks": "outside"
            },
            "type": "mesh3d"
           }
          ],
          "parcoords": [
           {
            "line": {
             "colorbar": {
              "outlinewidth": 1,
              "tickcolor": "rgb(36,36,36)",
              "ticks": "outside"
             }
            },
            "type": "parcoords"
           }
          ],
          "pie": [
           {
            "automargin": true,
            "type": "pie"
           }
          ],
          "scatter": [
           {
            "fillpattern": {
             "fillmode": "overlay",
             "size": 10,
             "solidity": 0.2
            },
            "type": "scatter"
           }
          ],
          "scatter3d": [
           {
            "line": {
             "colorbar": {
              "outlinewidth": 1,
              "tickcolor": "rgb(36,36,36)",
              "ticks": "outside"
             }
            },
            "marker": {
             "colorbar": {
              "outlinewidth": 1,
              "tickcolor": "rgb(36,36,36)",
              "ticks": "outside"
             }
            },
            "type": "scatter3d"
           }
          ],
          "scattercarpet": [
           {
            "marker": {
             "colorbar": {
              "outlinewidth": 1,
              "tickcolor": "rgb(36,36,36)",
              "ticks": "outside"
             }
            },
            "type": "scattercarpet"
           }
          ],
          "scattergeo": [
           {
            "marker": {
             "colorbar": {
              "outlinewidth": 1,
              "tickcolor": "rgb(36,36,36)",
              "ticks": "outside"
             }
            },
            "type": "scattergeo"
           }
          ],
          "scattergl": [
           {
            "marker": {
             "colorbar": {
              "outlinewidth": 1,
              "tickcolor": "rgb(36,36,36)",
              "ticks": "outside"
             }
            },
            "type": "scattergl"
           }
          ],
          "scattermapbox": [
           {
            "marker": {
             "colorbar": {
              "outlinewidth": 1,
              "tickcolor": "rgb(36,36,36)",
              "ticks": "outside"
             }
            },
            "type": "scattermapbox"
           }
          ],
          "scatterpolar": [
           {
            "marker": {
             "colorbar": {
              "outlinewidth": 1,
              "tickcolor": "rgb(36,36,36)",
              "ticks": "outside"
             }
            },
            "type": "scatterpolar"
           }
          ],
          "scatterpolargl": [
           {
            "marker": {
             "colorbar": {
              "outlinewidth": 1,
              "tickcolor": "rgb(36,36,36)",
              "ticks": "outside"
             }
            },
            "type": "scatterpolargl"
           }
          ],
          "scatterternary": [
           {
            "marker": {
             "colorbar": {
              "outlinewidth": 1,
              "tickcolor": "rgb(36,36,36)",
              "ticks": "outside"
             }
            },
            "type": "scatterternary"
           }
          ],
          "surface": [
           {
            "colorbar": {
             "outlinewidth": 1,
             "tickcolor": "rgb(36,36,36)",
             "ticks": "outside"
            },
            "colorscale": [
             [
              0,
              "#440154"
             ],
             [
              0.1111111111111111,
              "#482878"
             ],
             [
              0.2222222222222222,
              "#3e4989"
             ],
             [
              0.3333333333333333,
              "#31688e"
             ],
             [
              0.4444444444444444,
              "#26828e"
             ],
             [
              0.5555555555555556,
              "#1f9e89"
             ],
             [
              0.6666666666666666,
              "#35b779"
             ],
             [
              0.7777777777777778,
              "#6ece58"
             ],
             [
              0.8888888888888888,
              "#b5de2b"
             ],
             [
              1,
              "#fde725"
             ]
            ],
            "type": "surface"
           }
          ],
          "table": [
           {
            "cells": {
             "fill": {
              "color": "rgb(237,237,237)"
             },
             "line": {
              "color": "white"
             }
            },
            "header": {
             "fill": {
              "color": "rgb(217,217,217)"
             },
             "line": {
              "color": "white"
             }
            },
            "type": "table"
           }
          ]
         },
         "layout": {
          "annotationdefaults": {
           "arrowhead": 0,
           "arrowwidth": 1
          },
          "autotypenumbers": "strict",
          "coloraxis": {
           "colorbar": {
            "outlinewidth": 1,
            "tickcolor": "rgb(36,36,36)",
            "ticks": "outside"
           }
          },
          "colorscale": {
           "diverging": [
            [
             0,
             "rgb(103,0,31)"
            ],
            [
             0.1,
             "rgb(178,24,43)"
            ],
            [
             0.2,
             "rgb(214,96,77)"
            ],
            [
             0.3,
             "rgb(244,165,130)"
            ],
            [
             0.4,
             "rgb(253,219,199)"
            ],
            [
             0.5,
             "rgb(247,247,247)"
            ],
            [
             0.6,
             "rgb(209,229,240)"
            ],
            [
             0.7,
             "rgb(146,197,222)"
            ],
            [
             0.8,
             "rgb(67,147,195)"
            ],
            [
             0.9,
             "rgb(33,102,172)"
            ],
            [
             1,
             "rgb(5,48,97)"
            ]
           ],
           "sequential": [
            [
             0,
             "#440154"
            ],
            [
             0.1111111111111111,
             "#482878"
            ],
            [
             0.2222222222222222,
             "#3e4989"
            ],
            [
             0.3333333333333333,
             "#31688e"
            ],
            [
             0.4444444444444444,
             "#26828e"
            ],
            [
             0.5555555555555556,
             "#1f9e89"
            ],
            [
             0.6666666666666666,
             "#35b779"
            ],
            [
             0.7777777777777778,
             "#6ece58"
            ],
            [
             0.8888888888888888,
             "#b5de2b"
            ],
            [
             1,
             "#fde725"
            ]
           ],
           "sequentialminus": [
            [
             0,
             "#440154"
            ],
            [
             0.1111111111111111,
             "#482878"
            ],
            [
             0.2222222222222222,
             "#3e4989"
            ],
            [
             0.3333333333333333,
             "#31688e"
            ],
            [
             0.4444444444444444,
             "#26828e"
            ],
            [
             0.5555555555555556,
             "#1f9e89"
            ],
            [
             0.6666666666666666,
             "#35b779"
            ],
            [
             0.7777777777777778,
             "#6ece58"
            ],
            [
             0.8888888888888888,
             "#b5de2b"
            ],
            [
             1,
             "#fde725"
            ]
           ]
          },
          "colorway": [
           "#1F77B4",
           "#FF7F0E",
           "#2CA02C",
           "#D62728",
           "#9467BD",
           "#8C564B",
           "#E377C2",
           "#7F7F7F",
           "#BCBD22",
           "#17BECF"
          ],
          "font": {
           "color": "rgb(36,36,36)"
          },
          "geo": {
           "bgcolor": "white",
           "lakecolor": "white",
           "landcolor": "white",
           "showlakes": true,
           "showland": true,
           "subunitcolor": "white"
          },
          "hoverlabel": {
           "align": "left"
          },
          "hovermode": "closest",
          "mapbox": {
           "style": "light"
          },
          "paper_bgcolor": "white",
          "plot_bgcolor": "white",
          "polar": {
           "angularaxis": {
            "gridcolor": "rgb(232,232,232)",
            "linecolor": "rgb(36,36,36)",
            "showgrid": false,
            "showline": true,
            "ticks": "outside"
           },
           "bgcolor": "white",
           "radialaxis": {
            "gridcolor": "rgb(232,232,232)",
            "linecolor": "rgb(36,36,36)",
            "showgrid": false,
            "showline": true,
            "ticks": "outside"
           }
          },
          "scene": {
           "xaxis": {
            "backgroundcolor": "white",
            "gridcolor": "rgb(232,232,232)",
            "gridwidth": 2,
            "linecolor": "rgb(36,36,36)",
            "showbackground": true,
            "showgrid": false,
            "showline": true,
            "ticks": "outside",
            "zeroline": false,
            "zerolinecolor": "rgb(36,36,36)"
           },
           "yaxis": {
            "backgroundcolor": "white",
            "gridcolor": "rgb(232,232,232)",
            "gridwidth": 2,
            "linecolor": "rgb(36,36,36)",
            "showbackground": true,
            "showgrid": false,
            "showline": true,
            "ticks": "outside",
            "zeroline": false,
            "zerolinecolor": "rgb(36,36,36)"
           },
           "zaxis": {
            "backgroundcolor": "white",
            "gridcolor": "rgb(232,232,232)",
            "gridwidth": 2,
            "linecolor": "rgb(36,36,36)",
            "showbackground": true,
            "showgrid": false,
            "showline": true,
            "ticks": "outside",
            "zeroline": false,
            "zerolinecolor": "rgb(36,36,36)"
           }
          },
          "shapedefaults": {
           "fillcolor": "black",
           "line": {
            "width": 0
           },
           "opacity": 0.3
          },
          "ternary": {
           "aaxis": {
            "gridcolor": "rgb(232,232,232)",
            "linecolor": "rgb(36,36,36)",
            "showgrid": false,
            "showline": true,
            "ticks": "outside"
           },
           "baxis": {
            "gridcolor": "rgb(232,232,232)",
            "linecolor": "rgb(36,36,36)",
            "showgrid": false,
            "showline": true,
            "ticks": "outside"
           },
           "bgcolor": "white",
           "caxis": {
            "gridcolor": "rgb(232,232,232)",
            "linecolor": "rgb(36,36,36)",
            "showgrid": false,
            "showline": true,
            "ticks": "outside"
           }
          },
          "title": {
           "x": 0.05
          },
          "xaxis": {
           "automargin": true,
           "gridcolor": "rgb(232,232,232)",
           "linecolor": "rgb(36,36,36)",
           "showgrid": false,
           "showline": true,
           "ticks": "outside",
           "title": {
            "standoff": 15
           },
           "zeroline": false,
           "zerolinecolor": "rgb(36,36,36)"
          },
          "yaxis": {
           "automargin": true,
           "gridcolor": "rgb(232,232,232)",
           "linecolor": "rgb(36,36,36)",
           "showgrid": false,
           "showline": true,
           "ticks": "outside",
           "title": {
            "standoff": 15
           },
           "zeroline": false,
           "zerolinecolor": "rgb(36,36,36)"
          }
         }
        },
        "title": {
         "font": {
          "color": "Black",
          "size": 22
         },
         "text": "<b>Documents and Topics",
         "x": 0.5,
         "xanchor": "center",
         "yanchor": "top"
        },
        "width": 1200,
        "xaxis": {
         "visible": false
        },
        "yaxis": {
         "visible": false
        }
       }
      },
      "text/html": [
       "<div>                            <div id=\"428a08bd-755c-47f5-b786-4413adb7fe51\" class=\"plotly-graph-div\" style=\"height:750px; width:1200px;\"></div>            <script type=\"text/javascript\">                require([\"plotly\"], function(Plotly) {                    window.PLOTLYENV=window.PLOTLYENV || {};                                    if (document.getElementById(\"428a08bd-755c-47f5-b786-4413adb7fe51\")) {                    Plotly.newPlot(                        \"428a08bd-755c-47f5-b786-4413adb7fe51\",                        [{\"hoverinfo\":\"text\",\"hovertext\":[\"conquer illegal minor brought dallas male age\",\"put account protect mode\",\"come religious place thief come steal robber\",\"equality liberal construct\",\"brittany huge slut\",\"rashida tlaib give oscar worthy performance house floor favorite line happen january th\",\"flashback democrat whitewash jihad pulse nightclub islamic terror attack amp blame gun instead left u jihad attack\",\"barack obama blame boulder islamic attack disaffection racism misogyny call gun control mean\",\"one legally obligate hire people foreign country law tell hire citizen f\",\"texas lead freedom via\",\"daily reminder george soros bill gate one let see keep distract pacify\",\"freedom gift beyond estimate give god nation perseverance courage consistency\",\"people think boris johnson resign prime minister think continue office accord\",\"play celine dion leave without eurovision grand prix\",\"left protects domestic terrorist whereas right abandon\",\"want drive neighborhood let driven away gegendemo af\",\"baaaaaaaaaaaaa\",\"shakespeare sex arcuri johnson read shakespeare sex sofa london mayo\",\"pay global security bunch scar trickster\",\"country need endless warfare behalf israel get ta make world safe god chosen\",\"tell russia never cucked j\",\"amazon dictate ebooks online book sale audiobooks sale head thi\",\"accusatory inversion modus operandi\",\"mine christine\",\"sister\",\"still believe live free country\",\"struggle real god nowhere bible say worry stress amp\",\"call target harassment\",\"crack smoking hunter biden cry racism deflect swedish sex scandal hunter smear come swedish authorit\",\"agree ignoramus toby young free describe journalist illiterate make\",\"happy palm sunday amp begin week change world may walk close jesus death amp\",\"time school place child could learn safety thanks importation di\",\"uncle mla aunt vice president\",\"must watch arizona parent fight back school board communist anti racism initiative child indoctrin\",\"leftist never held accountable vicious public threat violence keep make trump\",\"main stream medium work international banker international banker fully human hurt u\",\"hat white people era late great pop culture cool fashion trend\",\"china amp iran control biden commie amp islamic supremacist long history unite destroy common enemy\",\"term radical thrown around pretty loosely day literally anything left like\",\"well really want get subject serial killer start samuel little\",\"stop banker eat dumpster\",\"amount money ever bring equality equality exist anywhere nature brib\",\"hesitate worn bottom people see inside let go colorful\",\"even eat meat whole eat bug synthetic meat thing pretty sketch\",\"terrorist come terrorist come\",\"fraud alert joe biden amp harris resurrect left wing lie call hate crime asian american\",\"video perfectly illustrates rapid decline quality living u america bust je\",\"march nyc mayor de blasio msnbc amp healthy n yers little th\",\"donald trump jr gov cuomo get emmy send grandma death gov de santis get hell open beach h\",\"ever notice literally sea protest medium like hype sign write english\",\"new gab post east west divide read way\",\"teach child follow god world teach\",\"attack u military eleven soldier fort bliss texas injured drinking antifreeze believe dr\",\"possibly scam divert funding community could possibly scam get\",\"love george monbiot pummel andrew bowie monbiot absolutely cool measure logical bowie typic\",\"patriot fight back san diego gym owner sue state amp county official tyrannical lockdown measure wa\",\"much bad everything try pretend trump\",\"brexit cost uk gdp first year body blow uk economy plummet almost cer\",\"censorship laughable pathetic scar conservative\",\"appal homeless queue food last night soup kitchen freeze condition ten year toryism\",\"get ready lady gentleman criminal illegitimate government go wag open war p\",\"muslim mayor london fire new year eve firework display feature black life matter marxist clenched\",\"true never forget\",\"tik tok innocent social network indian redneck year old quiet fun\",\"whine tv artist lend voice family victim\",\"go take people stand shame everyone stood watch\",\"well guy entire continent call sure would great deal easy get\",\"cosmetic industry perfumery trade also see existence danger open letter appeal\",\"man reaps sow lago puelo neighbor receive alberto badly must end run away\",\"government surround fence arm military guard planning unspeakably ho\",\"world live world people celebrate turn family member mob\",\"wrong incite intense dislike religion activity teach religion outrageous ir\",\"isolated act bullying result illegitimate government flood white country\",\"good pornography toxic legally allow exist\",\"everything david hogg reinforces belief one allow vote engage political discours\",\"gt little girl also kinky someone explain part campaign normalize idea\",\"israel still forefront dictatorship\",\"say year ago lot people say hyperbolic\",\"terror canada nye amir abdulrahman amp al azan shah muhammad drag police sgt andrew harnett death enrichers\",\"never go solve world problem spread lie hitler germany outlaw firearm ownership\",\"great reset eat bug future proclaims world economic forum unelected self anoint global elitist post vi\",\"people arm security shut hell gun control laughable allow protect themse\",\"right give british journalism coverage brexit covid\",\"book write\",\"safely enjoy stroll around mall anymore virtually every mall go\",\"wave illegal alien clearly fund believe really bought shirt th\",\"get ready people government move\",\"parliament need time\",\"great talk common challenge opportunity u congress always bastion su\",\"nothing civil politics anymore politics war either accept prepare accordingly\",\"sayer die\",\"today first day zero degree entire hour\",\"even know could shoot mile wow seriousness idiot like allow\",\"enrichment ireland mob african migrant black life matter communist try attack bus full irish people\",\"daily reminder current president united state say good thing found stock america\",\"kind interest timing soros myanmar\",\"muslim natural ally race sourc\",\"rail go work\",\"level security require wef aka enemy life annual meeting tell u\",\"vote ossoff would need remain vote win\",\"brexit disaster volume export go british port channel tunnell eu fell last month\",\"clearly target harassment veil threat violence\",\"arrogation double entendre via\",\"new gab post burn coal pay toll meme\",\"ficed rothschild return face face reality hysterical assa traor\",\"although one neutral today time everyone inclination towards mine also neutral\",\"true juice extractor gas chamber one step\",\"help dad attack antifa attack break arm brave dad campaign canada give child drug change\",\"never want equality always secretly want revenge\",\"boris johnson mr crisis mr liar mr clueless mr corrupt mr racist mr money grabber mr public heal\",\"day say something sign point israel manufacturing war america china ru\",\"want know exactly many firearm exactly many round ammunition\",\"dead boris johnson say everything could political epitaph indolent prime minister\",\"trouble get upset say aaj english\",\"people celebrate genocide social medium platform allow yet told live wh\",\"nobody owes fuck thing\",\"banker rob u generation feel slightest bit sorry finally robbed\",\"allege nurse practitioner threaten deny people treatment political leaning someone sho\",\"illustrate little government care people nothing\",\"yes even ruin small humble little farm state like wisconsin live people incom\",\"america laughingstock\",\"right style commission investigate blm antifa riot torched city su\",\"want live around u want live around mutually peacefully separate\",\"people want walk car well illusion remain anyway good morning thursday thought\",\"plz support student amp part campaign\",\"friend waffen veteran wiking division swore cold ext\",\"encourage people call attitude like attitude could get arrest sentence\",\"queer activist hit woman come shout revolt system prostitution ra\",\"never want equality never want mere empowerment either aim always empow\",\"case understand politics work day age wrong opponent\",\"downfall america sum single image\",\"governor denounce democrat run twitter allows left attack jewish sile\",\"seethe harder parasite freak\",\"expose left wing agitator like greta thunberg sacrifice farmer feed global hatred modi thunberg may puppet\",\"fact politician scream gun control trace back george soros gun control\",\"find ancient statue like sober experience excite one statue represent\",\"fact get hit hard game stop stock tell one thing people short stock\",\"big bank corporation funding inversion normal healthy society question big bank\",\"detest people every part medium idiot support imagine guy n h ei r si de nobod\",\"capitol wrap barbed wire look like capitol socialist country america\",\"warn parent virginia meet atif qarni secretary education appoint va governor northam qarni born\",\"dark circle know sign\",\"neat idea fiction novel anyone interested write bunch retire sof operator use\",\"almost every day quietly think amerindian actually choice fight openly\",\"arrest people fraudulently get child college however even investigate official fraudulent\",\"firearm registration always lead firearm confiscation always without exception need contact\",\"yeah stock market hello\",\"seriously bad news government move piece place carry illegal act\",\"insane insane dangerous rhetoric use justify vicious attack innocent whi\",\"voice even low eye level straight neither sign show saxon begin\",\"let perfectly honest left actually care victim mass shooting se\",\"america soft weak embarrass joke entire world laugh u pathetic government\",\"see biden openly celebrate white people go extinct america decade really care\",\"call domestic terrorism see call terrorism ground political affiliat\",\"yes trump praise amaze international supporter thank supporter america stand\",\"turn violent criminal care gun illegal carry\",\"thank advertising\",\"innovation molasses possible clamp liquor\",\"best left wing joke day islamic terrorist shoot someone gun fault make stu\",\"didnt happen would b funny\",\"anyone know ratio jew ce major american corporation\",\"left preaches unity heal carry violence denounce violent\",\"fiery mostly peaceful prize\",\"anyone knowingly allows baby poison toxic metal like deserves death penalty serio\",\"firstly thousand people hundred nice gaslighting sky news usual secondly cop\",\"biophobia contagious\",\"actually sour though pickle except cabbage instead cucumber delicio\",\"people really need stop use child instrument propaganda fair hardl\",\"america strange fetish reward idiocy need order become rich famous even get\",\"please keep mind\",\"way bad apartheid state terrorist state terrorizes surround country\",\"anyone know ratio jew ce major american corporation\",\"satanism free rule everyday living mondaymotivation freedom sound monday blo\",\"whole point right keep bear arm protect civilian government force crimina\",\"thank australia israel chamber commerce infrastructure showcase great event discus many opportuni\",\"never forget\",\"everything come existence creates opposite light darkness heat cold life death matter anti\",\"ammo hoarder make sure buy enough magazine load ammo boxed amm\",\"trans child like vegan dog know chose\",null],\"marker\":{\"color\":\"#CFD8DC\",\"opacity\":0.5,\"size\":5},\"mode\":\"markers+text\",\"name\":\"other\",\"showlegend\":false,\"x\":[8.41289234161377,6.094376087188721,5.102520942687988,10.044687271118164,7.727644920349121,6.743975639343262,7.08959436416626,9.160192489624023,6.501744270324707,7.2859649658203125,6.4567790031433105,7.323193550109863,5.636858940124512,4.300947189331055,7.086608409881592,7.773136138916016,7.725807189941406,6.358642578125,6.59110164642334,5.37642765045166,8.945369720458984,6.350600719451904,7.706094264984131,7.62763786315918,7.611561298370361,7.267391681671143,8.495184898376465,7.346156597137451,8.787361145019531,6.280620098114014,6.522984981536865,3.5231642723083496,6.18871545791626,9.98881721496582,7.098516941070557,6.55780553817749,9.198141098022461,6.239862442016602,8.077932357788086,8.388344764709473,6.729164123535156,10.077436447143555,7.408672332763672,8.612927436828613,5.103226661682129,6.685414791107178,7.291721343994141,5.935920715332031,5.92535924911499,7.157650947570801,6.7937211990356445,3.9707484245300293,5.578150749206543,6.945523262023926,5.689320087432861,4.099275588989258,7.50956392288208,5.537698745727539,7.418211460113525,5.450567722320557,6.294846057891846,4.9312825202941895,7.752234935760498,6.489021301269531,7.420661449432373,7.397366046905518,6.471346855163574,7.7400407791137695,10.00207233428955,4.096374034881592,6.368698596954346,5.258283615112305,9.061441421508789,7.893263339996338,6.148929119110107,8.439701080322266,5.203118801116943,8.161356925964355,5.0689167976379395,7.803039073944092,6.101250171661377,7.8404059410095215,5.584108829498291,6.322565078735352,7.661830425262451,7.1703667640686035,6.590892314910889,5.885435104370117,6.047646999359131,6.2584428787231445,7.481753349304199,5.939472675323486,7.80669641494751,5.457212924957275,6.441442012786865,6.456800937652588,9.301727294921875,6.739938735961914,6.059626579284668,5.702249526977539,5.508964538574219,7.2910284996032715,4.950630187988281,6.754508972167969,5.878429889678955,6.104106426239014,5.007727146148682,5.61396598815918,9.985928535461426,5.603293418884277,6.282153606414795,7.851687431335449,5.638359546661377,7.086280345916748,6.3535308837890625,6.711535453796387,6.678638458251953,6.346469402313232,7.440354824066162,7.291192531585693,7.347253322601318,6.895749568939209,8.934391021728516,7.693241119384766,6.585161209106445,5.939615249633789,7.399990558624268,7.067838191986084,10.04383373260498,6.230981826782227,7.293321132659912,6.599120140075684,8.441328048706055,6.266170024871826,7.579017639160156,8.897964477539062,6.595698833465576,6.796571731567383,5.796905040740967,4.130672454833984,6.062887668609619,7.2723612785339355,6.265237808227539,8.889622688293457,6.9405951499938965,7.863155841827393,6.670858383178711,7.779247283935547,7.228031635284424,7.114663124084473,7.10195779800415,7.347226619720459,10.264102935791016,6.982895374298096,6.565454483032227,7.889112949371338,6.142672061920166,5.114547252655029,7.068563938140869,5.639817237854004,7.8239240646362305,7.110026836395264,7.397609233856201,8.351390838623047,5.831401824951172,9.042633056640625,3.872053623199463,6.617229461669922,9.292295455932617,7.7592926025390625,8.8656644821167,7.820718288421631,8.528359413146973,7.823121547698975,5.281991004943848,7.7542853355407715,8.64796257019043,7.903569221496582,8.638643264770508,6.967855453491211],\"y\":[10.887855529785156,10.011152267456055,11.873208999633789,10.106170654296875,8.818780899047852,13.717085838317871,12.580519676208496,11.655193328857422,11.025887489318848,11.868778228759766,12.005057334899902,11.873482704162598,12.037822723388672,10.907615661621094,12.512412071228027,10.6444091796875,8.870316505432129,8.509800910949707,10.937732696533203,12.548775672912598,11.264581680297852,8.75948715209961,11.750412940979004,8.816488265991211,8.851287841796875,11.683991432189941,11.832918167114258,12.310760498046875,13.009126663208008,12.642051696777344,10.454389572143555,12.364252090454102,13.484615325927734,11.291166305541992,12.504476547241211,10.96053409576416,12.344986915588379,12.185722351074219,11.716689109802246,11.75152587890625,10.829449653625488,10.132218360900879,10.017887115478516,10.753143310546875,11.793272018432617,12.518134117126465,11.247879028320312,12.958149909973145,13.027278900146484,10.432880401611328,11.650984764099121,12.413104057312012,10.475085258483887,11.51892375946045,10.811476707458496,10.923197746276855,11.362507820129395,12.050649642944336,11.191512107849121,11.970189094543457,11.931748390197754,12.221857070922852,9.290594100952148,9.206045150756836,9.744394302368164,9.681686401367188,11.015381813049316,10.789395332336426,10.547028541564941,10.864081382751465,11.482084274291992,11.499926567077637,11.193547248840332,10.866382598876953,12.131501197814941,11.322932243347168,12.50244140625,11.707947731018066,11.765352249145508,12.653752326965332,11.700688362121582,12.679548263549805,12.030189514160156,8.813425064086914,10.673990249633789,10.436362266540527,11.87304401397705,11.842483520507812,11.882530212402344,11.994964599609375,9.316831588745117,12.423606872558594,12.702852249145508,11.780973434448242,12.032364845275879,11.808923721313477,10.875622749328613,11.199959754943848,10.086801528930664,12.150984764099121,12.034884452819824,12.338713645935059,9.844379425048828,11.427512168884277,11.513819694519043,12.128117561340332,10.260315895080566,10.822853088378906,10.067818641662598,12.076159477233887,12.035386085510254,12.832043647766113,12.04991626739502,10.27845573425293,11.481356620788574,10.371848106384277,10.864768981933594,12.395699501037598,11.498936653137207,11.248990058898926,11.13845443725586,12.223108291625977,11.721677780151367,10.61674690246582,10.561481475830078,10.239272117614746,11.378826141357422,12.971940040588379,10.120386123657227,12.322134971618652,11.208123207092285,12.557862281799316,12.724156379699707,11.841090202331543,12.687146186828613,12.441780090332031,11.85067081451416,11.18045425415039,11.203835487365723,10.843118667602539,13.37287425994873,10.178387641906738,8.976629257202148,10.441908836364746,11.583354949951172,12.67559814453125,11.82328987121582,12.624174118041992,12.361124992370605,10.196353912353516,12.534796714782715,11.226828575134277,11.209630012512207,12.342041969299316,13.473392486572266,12.635980606079102,9.620378494262695,10.2958402633667,12.563782691955566,12.371045112609863,12.934770584106445,12.531371116638184,11.822625160217285,10.762722969055176,11.69901180267334,10.921180725097656,10.60763931274414,10.653965950012207,11.417967796325684,9.324440002441406,11.161680221557617,12.933362007141113,11.875126838684082,12.643058776855469,12.419254302978516,9.316396713256836,11.898775100708008,12.677191734313965,10.787981033325195,11.410470008850098],\"type\":\"scattergl\"},{\"hoverinfo\":\"text\",\"hovertext\":[\"fact liberal consider white guy star athlete change white supremacy tell everythi\",\"like cold cold make white ancestor hard strong broke weak bloodline ensure\",\"one white person alive today ever black slave one black person alive today ever white\",\"man white supremacist asian hater keep get darker darker\",\"gt white supremacy virus like virus die body left infect w\",\"institutional white genocide look like\",\"openly admit displace white people white place living white supremacist conspirac\",\"black actually oppose police shooting oppose police shoot black criminal\",\"white country simply never ask ask reject foreign people foreign c\",\"america really white supremacist nation consume institutional racism big mega corp like coca\",\"excuse pedophile time never tolerate white person believe white life matter\",\"black need liberal woman offend behalf even think liberal really offend anywa\",\"black community none white people concern black community allow behave whatever\",\"gt billion covid relief black farmer tell living white supremacist society\",\"daily reminder real time choreograph synchronize dance routine office hou\",\"know beat white people say care white black yellow blue purple\",\"inca people conquer genocided killke people another south american tribe big deal b\",\"happens white become minority\",\"blame white people violent crime commit black end piss entire wh\",\"lol invention exactly even congo finally penetrate native people disco\",\"way win socio political fight attract fighter side pro white community need foc\",\"advanced civilization\",\"war wag white people everything fault\",\"make white people happy racist need stop\",\"everyone understands concept foreign invasive specie plant animal world foreign invasive specie\",\"diversity strength army choose diversity\",\"right replace white man twenty dollar bill black woman worthy high priority\",\"imagine desperate attention relevancy surgically remove part body\",\"go walk condition yeah white thing understand\",\"democrat rep jackie speier think lot white american u military national security threat\",\"war adolf hitler never end evolve war white people\",\"around world white people get dangerously fed violently attack forei\",\"black people really little lie small shit\",\"time social medium limited use time wisely anti white take war white ser\",\"white supremacy mean white people believe white life matter war wag agai\",\"rhetoric creature manufacture cultivate endless hatred white people people wh\",\"enemy good mean stood something sometime life winston churchill value yo\",\"white supremacist keep get darker darker day\",\"talk jq day long however people like michael jones catholic even admit whit\",\"think even one race government target deprogramming know becau\",\"illegal adopt black child black\",\"good kyle rittenhouse never arrest first place defend violent mob shoul\",\"many innocent white child die start storm street righteous hatred\",\"literally nothing label racist white supremacist pathological hatred white men\",\"anti white amp anti american rhetoric exactly taught kid across america\",\"say thousand time bear repeat anti racism dangerous new age religion religi\",\"u call suarez something wen call u nigger u bitch\",\"black woman move white neighborhood complains many\",\"many innocent white people beaten shot murder savage collectively defen\",\"exactly think culture come think magically fall sky arbitrarily\",\"high culture civilization diversity\",\"many year ago say would eventually consider racist arrest black person crime committ\",\"people fanatically anti racist really anti white tend also mentally ill literally watch\",\"white privilege actually exist listen mindless robot drone repeat\",\"interestingly enough know sole authority define word like hate racism bigotry extremis\",\"guy invent hate crime never happen get free paycheck\",\"live age manufacture tragedy tyranny impose upon u result artificial tragedy\",\"non white prioritize white tell systemic racism exists\",\"man white supremacist asian hater keep get darker darker\",\"power\",\"literally neither men kill white people let alone white nationalist kill black\",\"course even let white one thing non white ob acce\",\"like well negro\",\"multiculturalism culture mix amp blend together create singular monoculture multicultur\",\"feel whole lot well impend collapse western civilization white people form group\",\"say keep right say one single white man alive today ever slave\",\"unlawful best produce anything beautiful plato\",\"let spell black separatist treat random individual isolated social medium\",\"freak wonder white nationalism rise world\",\"people ready admit yet real war wag white people\",\"racist cookie lecture u wokeness\",\"white people ally literally every non white race united\",\"hence social justice warrior infect\",\"read write wall white people normalize discrimination stop w\",\"remove portrait white judge white go ahead tell war\",\"nothing allow white white problem need address\",\"post still anti white butthurt black history month\",\"year literal white genocide\",\"left furious brandon elliot white supremacist instead lifetime parole murder mother sai\",\"expropriation without compensation really mean steal farm white farmer destroy say farm blame whit\",\"want really think white man every dollar government take give black\",\"diversity sensitivity training really mean anti white indoctrination critical race theory\",\"gt replaces white men normalize concept white people replace non white white\",\"stereotypical behavior nope way\",\"manage\",\"write wall white race slat genocide hyperbole exaggeration\",\"refer white people disease probably great way convince u racist go ahead\",\"someone something require perpetual reinforcement via word like amaze beautiful vibrant talented incr\",\"even issue black asian racism violence narrative remains white people real pro\",\"blackwashing white history continue force stop\",\"folkish state make certain suitable education youth day obtain race ripe\",\"live every stereotype\",\"workout functional real world extend period time\",\"repeat white get dictate white people anti white raci\",\"need keep drive story home power blame white people murder commit bl\",\"lot picture show holodomor gulag mostly white folk\",\"strength ancestor life within blood strength survive long enough conti\",\"black dude see white guy get shot death response shit like see creature want\",\"rapist black call rapist call pervert downplay black crim\",\"marijuana popular people miserable era smoke tolerate world rather fix\",\"apparently white people fault black woman sprayed hair gorilla glue anything\",\"white elder abuse rampant\",\"see work literally anything infringes money power decry white\",\"stereotypical behavior nope way\",\"diversity safe neighborhood\",\"multi racial society create peace prosperity people create animosity hostility hatred vi\",\"white white law protects discriminate white people\",\"even black want segregation back peaceful separation solution today catastrophic failure race r\",\"replace white people white country tell u source st\",\"non white responsible action black gun gang motivate mass sh\",\"diversity mean death white people able get conceal carry permit get reliable firearm\",\"event like go continue occur white country citizen form powerful group real li\",\"hostile people really except crazy notion planet father god chose\",\"suck whitedick nigger gayraceplay gaysex oral gayoral interracialgaysex blacksucker bwc\",\"netflix already rag machine diversity propaganda\",\"basically say long racism direct toward white people white country\",\"call mass shoot however medium report shooter white\",\"act spiritual psychological warfare native european people white people nowhere else\",\"literally institutional racism exists\",\"guy charge proud boy name enrique tarrio yet proud boy still label white supre\",\"join corona cult today tire people still enjoy life exactly right thing cont\",\"look accept random cop beating people baton like use one call\",\"hunt white supremacist era witch hunt new regime want look every white person w\",\"true black woman africa landmass black overwhelm super majority\",\"fuck sake kill two white people death count racism motivation\",\"repeat lie truth know want erase white history\",\"particular point time obvious naked eye race people happier segregation\",\"white men deserve job white men tell white men persecute\",\"diversity strength army choose diversity\",\"overcome lust ego word well sex\",\"literally zero justification flood white country non white foreigner whole age dy\",\"anyone pretend anyone even want integration first place literally everyone want separation w\",\"racist always mean white people call u racist justify violence u fal\",\"people fake hate crime free government money\",\"yet another evil white man save helpless animal almost behavior genetic something\",\"bodybuilding\",\"year say wag war white people finally understand sa\",\"replace white people\",\"replace white people\",\"abolish whiteness mean abolish white people fact popular well receive slogan\",\"white people get dangerously fed foreigner get away countless act violence\",\"weak argument difference white kid already die fentanyl overdose l\",\"white genocide conspiracy theory need challenge misinformation u experience great\",\"treat big deal rioter antifa whatever reason police always se\",\"law enforcement earn every bit hate receive chosen side enemy people\",\"outside environment impose upon artificially construct human race mix almos\",\"institutional white genocide look like\",\"yeah war white people\",\"eventually go consider racist white person deny non white access body\",\"black life matter movement nominate nobel peace prize via\",\"ally people white people always always stop\",\"ego always ruin man one vision clearest lens\",\"translation many white people science statistic technology go replace white\",\"call whatever want coca cola anti white actively participate war wag\",\"apparently special kind hate black woman experience call misogynoir seriously\",\"actually watch right funny listen black dude talk sell crack\",\"quick way get rich america black falsely accuse white person racist toward\",\"every non white race planet encourage celebrate history heritage culture white race\",\"blackwashing white history continue force stop\",\"eventually go consider racist white person deny non white access body\",\"say lot year keep repeat hunt racism era witch hunt\",\"white people well black people thread\",\"nothing see folk diversity continue great strength\",\"white want something call white supremacy black want thing call response\",\"false perception humanity impose people\",\"nigger cocksluts help crave white dick much take matter attach\",\"mom mom sheep meeeeeeh black sheep yeah nigga moderfacka hahahahahahahaha yeah nigg\",\"really live white supremacist country repeatedly told would law make\",\"basically illegal immigrant get citizenship replace u either way cool steven repeat\",\"much institutional white supremacy racism\",\"blackwashing never end white people erase little little\",\"timeline evidence lazy choice\",\"european never use feel way country flood foreigner feel\",\"philosophy ideology tactic method optic superior others feel\",\"read write wall yet guy war wag white man ever surren\",\"white literally nothing bad could ever accuse racism accuse l\",\"love reading golden globe hashtags left master exploit identity politics political correctness virt\",\"global war white people\",\"medium try get black murder innocent white people white people fully prepared defend yourselv\",\"social medium like densest major city human existence loud chaotic fast pace emotional irr\",\"say even okay u pride nationality already\",\"keep weed clean crop care farmer brother weed sister mia khalifa\",\"toxic upbringing environment anti white hatred racism cultivate hollywood medium school un\",\"america literally white people single western country planet anti american e\",\"reason white people child simulate experience slave\",\"deny racist actually proof racist\",\"law enforcement earn every bit hate receive chosen side enemy people\",\"time people put position power influence base ability base merit\",\"global war white people\",null],\"marker\":{\"opacity\":0.5,\"size\":5},\"mode\":\"markers+text\",\"name\":\"0_white_people_black\",\"text\":[\"\",\"\",\"\",\"\",\"\",\"\",\"\",\"\",\"\",\"\",\"\",\"\",\"\",\"\",\"\",\"\",\"\",\"\",\"\",\"\",\"\",\"\",\"\",\"\",\"\",\"\",\"\",\"\",\"\",\"\",\"\",\"\",\"\",\"\",\"\",\"\",\"\",\"\",\"\",\"\",\"\",\"\",\"\",\"\",\"\",\"\",\"\",\"\",\"\",\"\",\"\",\"\",\"\",\"\",\"\",\"\",\"\",\"\",\"\",\"\",\"\",\"\",\"\",\"\",\"\",\"\",\"\",\"\",\"\",\"\",\"\",\"\",\"\",\"\",\"\",\"\",\"\",\"\",\"\",\"\",\"\",\"\",\"\",\"\",\"\",\"\",\"\",\"\",\"\",\"\",\"\",\"\",\"\",\"\",\"\",\"\",\"\",\"\",\"\",\"\",\"\",\"\",\"\",\"\",\"\",\"\",\"\",\"\",\"\",\"\",\"\",\"\",\"\",\"\",\"\",\"\",\"\",\"\",\"\",\"\",\"\",\"\",\"\",\"\",\"\",\"\",\"\",\"\",\"\",\"\",\"\",\"\",\"\",\"\",\"\",\"\",\"\",\"\",\"\",\"\",\"\",\"\",\"\",\"\",\"\",\"\",\"\",\"\",\"\",\"\",\"\",\"\",\"\",\"\",\"\",\"\",\"\",\"\",\"\",\"\",\"\",\"\",\"\",\"\",\"\",\"\",\"\",\"\",\"\",\"\",\"\",\"\",\"\",\"\",\"\",\"\",\"\",\"\",\"\",\"\",\"\",\"\",\"\",\"\",\"\",\"\",\"\",\"\",\"\",\"0_white_people_black\"],\"textfont\":{\"size\":12},\"x\":[10.101655006408691,9.220027923583984,10.247154235839844,9.931221961975098,9.043081283569336,10.389363288879395,10.159667015075684,8.74109935760498,9.252450942993164,9.538363456726074,9.717329025268555,9.863890647888184,9.686017990112305,9.244400978088379,7.592975616455078,9.924150466918945,10.398338317871094,10.749678611755371,9.285887718200684,10.319723129272461,9.492220878601074,9.309040069580078,9.752524375915527,9.932841300964355,8.517630577087402,9.316390991210938,10.803462028503418,7.82952356338501,9.5901517868042,10.455582618713379,9.57905387878418,9.51347541809082,9.573352813720703,9.69953441619873,10.035512924194336,9.412124633789062,7.352065563201904,9.962936401367188,9.569720268249512,7.455552577972412,8.610296249389648,8.488737106323242,9.256314277648926,9.945321083068848,9.973312377929688,9.337430000305176,9.973367691040039,9.560843467712402,9.232099533081055,7.87174654006958,9.291568756103516,8.657946586608887,9.651795387268066,10.21705436706543,8.169672966003418,8.480551719665527,7.786678791046143,10.146153450012207,9.930693626403809,7.391618728637695,9.25365924835205,9.557914733886719,9.632081031799316,9.261366844177246,9.636065483093262,10.372425079345703,7.799819469451904,9.780389785766602,9.659687995910645,9.931293487548828,9.95772647857666,9.599797248840332,9.208231925964355,10.156465530395508,10.333333015441895,9.536067008972168,10.369653701782227,10.27211856842041,8.951876640319824,10.231678009033203,10.23430347442627,10.044824600219727,10.779727935791016,9.896718978881836,8.008842468261719,10.12666130065918,9.612831115722656,7.654191017150879,9.657750129699707,10.450428009033203,9.570527076721191,9.885750770568848,7.645637035369873,10.010997772216797,9.116519927978516,10.36658763885498,9.135783195495605,9.146280288696289,9.619039535522461,8.135315895080566,9.6228609085083,9.39963436126709,10.198884010314941,9.882566452026367,9.451321601867676,9.111001014709473,10.086894989013672,9.828158378601074,10.791277885437012,9.0623779296875,9.309425354003906,9.451677322387695,9.236823081970215,9.515604972839355,9.75930118560791,9.950535774230957,8.968875885009766,9.356790542602539,10.431224822998047,9.983721733093262,8.039669036865234,8.539169311523438,9.99439525604248,9.814034461975098,9.014744758605957,10.41209602355957,10.03818130493164,10.181655883789062,9.360294342041016,7.809245586395264,9.207398414611816,9.833449363708496,9.848637580871582,7.298477649688721,9.119170188903809,7.7106032371521,10.045093536376953,10.80620288848877,10.801163673400879,10.133710861206055,9.339269638061523,9.328109741210938,10.38292407989502,8.33248519897461,7.377039909362793,8.837505340576172,10.37290096282959,9.814163208007812,9.584526062011719,9.501492500305176,9.568281173706055,7.8383259773254395,10.787579536437988,10.101123809814453,9.81354808807373,9.505175590515137,9.25704574584961,9.627717971801758,10.438019752502441,9.562162399291992,9.949186325073242,9.756178855895996,9.459724426269531,9.936700820922852,7.8061370849609375,9.925724029541016,9.525627136230469,9.841449737548828,10.837653160095215,10.411958694458008,10.435588836669922,7.278827667236328,8.749088287353516,7.76099967956543,10.24686050415039,9.728532791137695,7.145229816436768,9.771910667419434,9.067804336547852,9.010741233825684,9.060749053955078,8.05504035949707,9.410937309265137,9.690828323364258,9.467884063720703,9.701798439025879,7.37596321105957,7.394639015197754,9.760863304138184,9.431075096130371],\"y\":[10.727856636047363,11.432894706726074,10.775879859924316,11.147909164428711,11.331957817077637,11.651816368103027,11.102298736572266,11.150951385498047,10.637673377990723,11.395527839660645,10.780771255493164,10.06196117401123,10.860705375671387,11.206233024597168,10.335193634033203,10.567238807678223,11.448959350585938,10.793855667114258,11.129342079162598,11.529775619506836,11.180778503417969,11.851551055908203,11.812372207641602,10.842219352722168,10.830915451049805,11.928650856018066,10.758465766906738,10.26358699798584,10.550867080688477,11.26938247680664,11.989448547363281,11.25699234008789,10.145528793334961,11.63064193725586,10.940827369689941,11.646377563476562,11.8574857711792,11.190380096435547,10.11504077911377,12.073909759521484,10.951207160949707,11.22571849822998,11.227922439575195,10.895828247070312,11.249349594116211,11.8721923828125,10.549423217773438,10.643497467041016,11.17484188079834,10.614259719848633,11.877660751342773,11.136870384216309,11.353348731994629,10.764901161193848,11.626628875732422,11.323258399963379,10.804021835327148,10.857500076293945,11.177919387817383,10.781678199768066,11.07848834991455,10.602045059204102,10.152931213378906,11.865313529968262,11.381760597229004,10.811470031738281,11.073360443115234,11.460864067077637,11.383045196533203,11.726277351379395,10.953798294067383,11.079495429992676,11.11801815032959,10.841343879699707,11.110722541809082,10.621964454650879,11.158369064331055,11.672884941101074,11.12054443359375,10.465205192565918,10.533577919006348,11.165616035461426,10.758661270141602,9.847541809082031,10.999564170837402,11.070985794067383,10.717700958251953,10.340275764465332,10.941146850585938,11.204628944396973,11.560419082641602,9.85092830657959,10.398893356323242,10.906253814697266,11.1221923828125,11.729692459106445,11.576480865478516,10.79896068572998,10.156431198120117,10.922063827514648,10.930973052978516,11.214719772338867,10.49783992767334,9.850775718688965,11.842894554138184,11.888465881347656,10.982710838317871,11.464740753173828,10.762868881225586,11.252511024475098,11.966926574707031,11.507731437683105,11.826969146728516,10.200470924377441,11.543471336364746,11.010592460632324,11.271001815795898,11.816178321838379,11.597186088562012,10.82296371459961,10.796055793762207,11.209283828735352,11.757559776306152,10.085748672485352,11.14300537109375,11.209808349609375,11.427652359008789,10.676403999328613,11.963582992553711,10.286637306213379,10.774709701538086,11.428577423095703,10.81882381439209,11.820920944213867,11.002052307128906,10.32142162322998,11.705185890197754,10.760482788085938,10.7637357711792,11.028777122497559,11.021258354187012,10.899893760681152,11.499701499938965,11.380514144897461,11.86672306060791,10.927412033081055,11.66180419921875,11.854564666748047,10.648508071899414,11.127537727355957,10.905171394348145,10.365326881408691,10.770829200744629,10.981135368347168,10.027191162109375,10.100662231445312,10.795655250549316,11.301584243774414,11.208685874938965,10.66698169708252,11.744433403015137,10.445961952209473,11.896208763122559,10.869640350341797,10.593514442443848,10.806556701660156,10.167805671691895,11.930259704589844,10.731913566589355,11.606345176696777,11.208086013793945,10.72761058807373,10.71781063079834,11.271819114685059,11.033195495605469,10.788492202758789,12.542075157165527,11.864058494567871,11.289112091064453,11.783791542053223,10.55892562866211,10.952735900878906,11.536433219909668,11.268233299255371,11.140472412109375,10.708480834960938,11.860942840576172,10.833622932434082,11.87267017364502,11.082470893859863],\"type\":\"scattergl\"},{\"hoverinfo\":\"text\",\"hovertext\":[\"tell u else could seem may side effect\",\"world hijab day one many subtle tactic use muslim brotherhood front group introduce sharia america illino\",\"open border joe biden vow increase refugee admission trump demand low refugee admission u histo\",\"easy meat another fail muslim asylum seeker rape murder chop body british woman lure\",\"hey know syrian muslim terrorist colorado twitter account delete show h\",\"covid plot gay man flee venezuela warns communist take canada trudeau use virus power grab\",\"woman speak islam france threaten rape amp death american understand happen\",\"ten people slaughter syrian muslim refugee ahmad al issa white non muslim terrorist attack also goin\",\"break germany suspends astra zeneca vaccination although report side effect increase several st\",\"keep warn america know many syrian muslim refugee way america next eu\",\"hijab amp niqab represent subjugation woman sign woman accept responsibility keep men tempt\",\"spain attack military age migrant infect coronavirus storm border fence socialist gov caught distri\",\"colorado shooter facebook page quote prophet muhammad also know extremely religious sure thi\",\"bioterrorism bangladeshi muslim doctor arrest boston try obtain deadly ricin fbi investigate dr ishtiaq\",\"biden legislate executive order unless dictator also biden proceeds sign record break\",\"warn u democratic party copy germany deploys antifa stormtroopers conservative germany left wing gov\",\"people die vaccination accord pej bos cichutek bpk however people\",\"globalists celebrate eu biden join force fight right wing extremist islamize west ban free speech islamic\",\"sharia compliant nike harshly condemn depict iranian female mathematician hijab chosen never\",\"report government dominate committee call seat inbound flight quarantine place australia\",\"shock video famous journalist expose suicidal effect sweden open border policy swede told\",\"go war germany protect america english replace german ensure\",\"back another twitter ban new crime quote world health organization discus new vaccination\",\"break swedish news reporting suspect first enter country\",\"alert america face invasion border biden flood america refugee terr\",\"fbi arrest doug mackey aka ricky vaughn conservative journalist florida face year hurt democrat\",\"demographic jihad swedish government lie massive migration number video within generation sweden third large\",\"enrich sweden isi child back sweden pose weapon sever head social service take child fro\",\"suicidal socialist spain moroccan migrant mohamed professional robber commit crime h\",\"france sudanese muslim illegal alien stab immigration official death asylum claim reject\",\"londonistan tesco worker help police take muslim attacker brandishing multiple knife\",\"biden amp eu join force eu commissioner ylva johansson see video work biden fight right wing extremist\",\"anyone yet investigate mosque ahmad al issa attend\",\"hungarian prime minister orb n soros population replacement make europe muslim orb n leader pa sto\",\"break u custom border protection report illegals attempt cross border february\",\"suicidal sweden left wing open border policy blame late allahu akbar attack afghani tamim sultani grant\",\"astra zeneca prove dangerous yet country throughout europe push citizen meanwhile famous german doctor\",\"radical somali congressmuslim ilhan omar mn threatens force republican congresswoman office\",\"allahu akbar migrant attack migrant riot man commits suicide greek detention center hundred illegal migrant\",\"pau manager reception center kill knife sudanese migrant via\",\"hungary continue put people st illegals prime minister viktor orb n vowed never allow christian country chang\",\"migrant party taxpayer fund resort pool spain remains lockdown two week ago migrant left wing red\",\"happen make american listen put video year ago man interrogate islamic\",\"globalists celebrate open border joe biden european union joe biden join force fight right wing extremist\",\"break christian attack jihad attack suicide bomber strike catholic church indonesia palm sunday church\",\"geert wilder shock dutch parliament koran full jew hatred wilder demand parliament stop pretend care abo\",\"sharia uk every woman cover top toe otherwise police collect situati\",\"enrich germany syrian refugee tell job center would rather fight jihadis meanwhile muslim brotherhood ba\",\"germany stab spree frankfurt leaf several injured german authority probe attacker motif\",\"israel law allows authority know identity unvaccinated people\",\"netherlands like last week former soldier stood today protection protester\",\"start go biden bomb\",\"break new year eve canada police violently raid family gathering six people neighbor report coronavirus\",\"german try warn u\",\"global plot left wing western leader continue open border mass migration impose harsh coronavirus lock\",\"igrant enrichment german woman begs help go street anymore without think pepper spr\",\"know term islamophobia invent front group muslim brotherhood order export\",\"biden sign executive order first ten day president anyone sign many executive order\",\"kill kill war police france mainly african arab muslim commu\",\"syrian muslim refugee welcome america hand citizenship along host taxpayer fund handout\",\"hamas link cair amp iihan omar unite demand sharia compliance pro sharia muslim rep elect ilhan omar demand amazon give\",\"fbi interviewed terrorist amp nothing major hasan fort hood tx kill amp wound omar mateen orland\",\"biden obama back terrorist please islamic pakistani sharia court overturn conviction\",\"france call islamophobe live hr police protection due death threat receive\",\"enrich france police crew attack mortar fire car burn amp fire set throughout lyon mayor refuse\",\"tuesday biden address nation islamic attack say would speculate shooter motive\",\"muslim ever respect religious teacher religion koran order religion\",\"government enforces hospital put every death covid\",\"germany threatens citizen merkel release ultimatum get vaccinate banish germany already throw quarantine\",\"remember nato bombing yugoslavia\",\"alabama litigation jihadist cair file federal lawsuit prison execute two convert islam without\",\"deeply disappointed gov abbott proud gab amp jewish support christian run business amp thank\",\"christian refugee austria return syria safer young christian syria flee austria esca\",\"enough mr laschet enough merkel cry help hairdresser bianka fuse burn\",\"sharia sweden conservative journalist ingrid carlqvist amp maria celander indict thought crime islam face\",\"france muslim arrest try carry attack jewish school amp kosher grocery video prosecutor cry mental illness\",\"chinese corona virus like\",\"predict biden break trump peacetime record launch air strike syria\",\"politician marine le pen party france slam famous ballet du nord put woman sharia hijab\",\"new follower syria last week see\",\"shock famous journalist expose suicidal effect sweden open border policy video swede told\",\"demographic jihad swedish government lie massive migration number almost illegal migrant grant citizensh\",\"course american medium never show capital city european union new year eve bruss\",\"eu schmuck blast bosnia take well care illegal alien muslim invader burn calle\",\"enrichment father beat sexually abuse daughter check muslim sweden refuse deport court h\",\"biden threat global security china ate secretary blinken lunch ccp order press back room\",\"question point baby wear hijab hijab suppose prevent men tempt sin appea\",\"bolder muslim refugee terrorist convict misdemeanor assault another student high school suspe\",\"trump accomplish last president combine\",\"muslim commit multiple terrorist attack across europe gt muslim look back anger random\",\"alabama litigation jihadist cair file federal lawsuit prison execute two convert islam wit\",\"wow german parliament left stun afd martin hess slam german lawmaker allow war machine ente\",\"yes af slam merkel import culture hate woman turn berlin baghdad migrant willi\",\"must watch video break famous doctor develops safe vaccine covid germany prosecutes state targete\",\"bloody man throw decapitate head window onto street france short month ago islamic migrant\",\"warn socialist spain keep register vaccine refusers country receive name dissenter strategy designe\",\"follow france footstep austria begin crackdown muslim\",\"enrich uk refugee demand hotel set fire barrack threaten kidnapping staff commonplace europ\",\"make germany great warn globalists socialist amp enemy west germany fed amp rise af lead\",\"stop steal twitter suspends spain conservative vox party ahead election video vox leader santiago abascal vow\",\"female palestinian muslim terrorist say prepare carry suicide bombing mission jew like prep\",\"break pandemic number fake blame trump change guideline covid test hour biden inauguration thes\",\"anti christian twitter iftar amp ramadan hashtag emoji honor islamic holy day one christian ho\",\"french geneticist covid health crisis test healthy people medicine see viral video focus\",\"meanwhile enrich belgium four minor arrest plot islamic terrorist attack one already bought mac\",\"get ready white people joe biden america inbound gt unrelenting stream immigration non stop gt\",\"democrat darling rep ilhan omar say chuckle israel call democracy compare iran anti\",\"enrich belgium brussels mohamed mohammed ahmed common name many municipality new stati\",\"father botros coptic orthodox priest try wake west year many christian must die\",\"woman march silent taxpayer fund german school put hijab non muslim german girl dress rehearsal\",\"syrian muslim terrorist ahmad al issa try travel syria summer unable due coronavirus lockdown acco\",\"muslim brotherhood congressman andre carson arrest yet republican allow serve spy house intelligenc\",\"share caution vaccine know long term side effect basically modify pe\",\"warn isi order wolf attack church amp police spain despite anti terrorist unit warn left wing gov\",\"go forward twitter tweet mention coronavirus vaccination censor twitter part\",\"warn attack france come muslim mayor incites jihadis threaten teacher samuel paty style death teacher\",\"vaccination blackmail restaurant expect reopen january\",\"biden let million illegals america vaccination record democrat\",\"austrian girl told wear hijab prevent assault migrant fmr member parliament suggests austrian born girl\",\"dr fauci covid expert back march\",\"italy naked jaybird illegal alien muslim invader take leak middle street broad daylight\",\"putin responds biden threat wish good health\",\"army illegal migrant invade hungarian home mayor demand military action woman found army illegals\",\"sure many research danger associate gene alter prick\",\"german parliament left stun afd gottfried curio migrant go save germany ruin\",\"still catholic apostate\",\"break massive cover expose virologist sucharit bhakdi healthy people dangerous vaccine young\",\"america corrupt refugee resettlement program brainchild senator biden one reason muslim brotherhood end\",\"biden need another war middle east also biden proceeds bomb syria\",\"biden test illegal alien coronavirus le month biden number people illegally\",\"elderly abuse grandma ban nursing home activity refuse vaccinate vaccine suppose vol\",\"break terror attack sweden eight injured vetlanda video police refuse answer medium question\",\"threat alert terror tie migrant run dangerous mosque amp islamic school florida dr fadi yousef kablawi long history\",\"turkish president recep tayyip erdogan file criminal complaint dutch opposition leader geert wilder\",\"well uganda damn well leave sweden\",\"global plot left wing western leader continue open border mass migration imposin\",\"new year austria civil war like incident amp yell allahu akbar new year eve vienna meanwhile elec\",\"islamophobia slay unbeliever wherever ye find koran verse\",\"fifteen girl saudi arabia burn alive islamic sharia religious police let leave burning\",\"expose covid lockdown rule apply salvini left wing italian trial judge salvini trial kidnapping w\",\"america deal deadly islamic terrorist attack colorado jihadist kill mali one\",\"flashback fbi take poster seek islamic terrorist hamas link cair complain show photo fb\",\"islamic migrant threatens gang rape politician expose illegally operate mosque see video islamic community\",\"morocco muslim youth vandalize brand new casablanca bus apparent reason\",\"terror attack update afghani migrant behind stab sweden medium reporting terrorist suffer\",\"coronavirus tyranny german state police detain maskless elderly cyclist citizen violate chancellor angela merkel lockd\",\"coronavirus tyranny truth teller arrest uk woman arrest film inside empty hospital post online\",\"belgium first islamic state europe one third country population foreign origin brussels belg\",\"population control group cheer biden force taxpayer fund overseas abortion trump like reagan stop taxpayer fun\",\"break sweden admits people die high rate due pandemic video statistic reveal overall death rate\",\"yet bombed middle eastern country\",\"allahu akbar allahu akbar allahu akbar last word cockpit flight\",\"trump peace biden war thanks left\",\"linda sarsour organizer woman march amp openly support sharia law let sink adaywithoutwomen internati\",\"clarkston georgia one georgia large mosque built small city clarkston resident\",\"trump accomplish last president combine\",\"belgium first islamic state europe one third country population foreign origin brussels belgian\",\"venezuela start free distribution drug covid\",\"hamas link cair amp soros unite push blasphemy law wan america cair call legislator label criticism\",\"alert mandatory coronavirus vaccination come spain video refuse injection mislabelled vaccine wi\",\"break see inside germany maximum security corona jail quarantine violator barbed wire amp security fence surround\",\"easter australia day allow\",\"read two new openly anti illegal migrant pro border minister appoint conservative prime minister kyriakos\",\"afd gottfried curio warn world amp stuns german parliament un amp merkel plan expose make every call refugee\",\"one good thing french police never hesitate fire weapon knife wield muslim\",null],\"marker\":{\"opacity\":0.5,\"size\":5},\"mode\":\"markers+text\",\"name\":\"1_muslim_biden_migrant\",\"text\":[\"\",\"\",\"\",\"\",\"\",\"\",\"\",\"\",\"\",\"\",\"\",\"\",\"\",\"\",\"\",\"\",\"\",\"\",\"\",\"\",\"\",\"\",\"\",\"\",\"\",\"\",\"\",\"\",\"\",\"\",\"\",\"\",\"\",\"\",\"\",\"\",\"\",\"\",\"\",\"\",\"\",\"\",\"\",\"\",\"\",\"\",\"\",\"\",\"\",\"\",\"\",\"\",\"\",\"\",\"\",\"\",\"\",\"\",\"\",\"\",\"\",\"\",\"\",\"\",\"\",\"\",\"\",\"\",\"\",\"\",\"\",\"\",\"\",\"\",\"\",\"\",\"\",\"\",\"\",\"\",\"\",\"\",\"\",\"\",\"\",\"\",\"\",\"\",\"\",\"\",\"\",\"\",\"\",\"\",\"\",\"\",\"\",\"\",\"\",\"\",\"\",\"\",\"\",\"\",\"\",\"\",\"\",\"\",\"\",\"\",\"\",\"\",\"\",\"\",\"\",\"\",\"\",\"\",\"\",\"\",\"\",\"\",\"\",\"\",\"\",\"\",\"\",\"\",\"\",\"\",\"\",\"\",\"\",\"\",\"\",\"\",\"\",\"\",\"\",\"\",\"\",\"\",\"\",\"\",\"\",\"\",\"\",\"\",\"\",\"\",\"\",\"\",\"\",\"\",\"\",\"\",\"\",\"\",\"\",\"\",\"\",\"\",\"\",\"\",\"\",\"1_muslim_biden_migrant\"],\"textfont\":{\"size\":12},\"x\":[3.2664883136749268,3.72287917137146,5.25994873046875,3.9822049140930176,4.443173885345459,3.279439687728882,4.064813613891602,4.3772149085998535,3.28718638420105,4.583488464355469,3.644442558288574,3.4516358375549316,4.369333744049072,4.267229080200195,5.48441743850708,4.1269941329956055,3.1634984016418457,5.175947189331055,3.5803701877593994,3.4123644828796387,3.1017868518829346,4.1494140625,3.18064546585083,3.167353630065918,5.278253078460693,4.769506454467773,3.1493711471557617,3.2229363918304443,3.979889154434204,3.9919779300689697,3.9675662517547607,5.3311920166015625,4.486931800842285,3.4414963722229004,5.288280487060547,3.2091786861419678,3.3960628509521484,4.338665962219238,3.91907000541687,3.9868199825286865,3.5073869228363037,3.488718271255493,4.368902206420898,5.327810287475586,5.116893291473389,4.026518821716309,3.6316733360290527,4.3686723709106445,4.039979934692383,3.167955160140991,3.9190030097961426,5.465485095977783,4.265387535095215,4.127954006195068,3.324708938598633,3.794856071472168,4.086147785186768,5.481109619140625,4.418774604797363,4.6406683921813965,4.789929389953613,4.4242658615112305,4.758114337921143,4.115411758422852,4.150697231292725,5.151641845703125,4.061962604522705,3.266763687133789,3.814244508743286,4.687349796295166,4.6048173904418945,5.096469879150391,4.4615397453308105,4.285243988037109,3.498544454574585,4.112061500549316,3.234227180480957,5.468451976776123,3.615748882293701,4.537195682525635,3.107668876647949,3.200601816177368,5.334944725036621,4.563311576843262,3.3219141960144043,5.482023239135742,3.6394660472869873,4.415496826171875,5.562905311584473,4.2730584144592285,4.6053667068481445,4.036126136779785,4.201005458831787,3.221141815185547,4.000852108001709,3.24617338180542,4.366122722625732,4.166938781738281,4.161403179168701,3.527216672897339,4.154996395111084,5.429136276245117,5.1199750900268555,3.2087490558624268,4.212896823883057,5.341991901397705,4.9229044914245605,4.2747673988342285,4.837391376495361,3.6117606163024902,4.3515472412109375,4.666800022125244,3.235802412033081,3.795931577682495,3.2260611057281494,4.122734546661377,3.1812257766723633,5.346502780914307,3.6243185997009277,3.2979896068573,4.147224426269531,5.4575114250183105,3.494448184967041,3.232671022415161,4.054503440856934,4.831660747528076,3.176528215408325,4.732325553894043,5.434226036071777,5.312357425689697,3.277749538421631,3.208099365234375,4.5510573387146,3.955349922180176,3.167440414428711,3.374155282974243,5.313230991363525,4.040023326873779,3.74003005027771,3.724259853363037,4.324029922485352,4.731492519378662,4.087906837463379,3.9737496376037598,3.2482149600982666,3.8785018920898438,3.2710800170898438,4.358617305755615,5.359734058380127,3.0849902629852295,4.683712959289551,4.9770941734313965,5.450130462646484,3.6678781509399414,4.507684707641602,5.5557122230529785,4.277655601501465,3.2306621074676514,4.7570085525512695,3.21940541267395,4.008351802825928,5.151136875152588,3.3484461307525635,4.09279203414917,4.143181800842285,4.151600360870361],\"y\":[10.641871452331543,12.57121467590332,13.214152336120605,12.002130508422852,12.462457656860352,11.2341947555542,12.080394744873047,12.346857070922852,10.732938766479492,12.51832389831543,12.5759859085083,11.257960319519043,12.521980285644531,12.469819068908691,13.685768127441406,10.867383003234863,10.796242713928223,13.294329643249512,12.566876411437988,11.024395942687988,12.013721466064453,10.755279541015625,10.760055541992188,12.04784870147705,13.117228507995605,12.793196678161621,12.062155723571777,12.144455909729004,11.804570198059082,11.916666030883789,11.98731517791748,13.414329528808594,12.601692199707031,11.715127944946289,13.040168762207031,12.029568672180176,10.672572135925293,12.770491600036621,12.056827545166016,11.971919059753418,11.700469017028809,11.380362510681152,12.374892234802246,13.404537200927734,12.188851356506348,11.048678398132324,12.551237106323242,11.904448509216309,10.861041069030762,10.747573852539062,11.0292329788208,13.588445663452148,11.460209846496582,10.695889472961426,11.382637977600098,10.653741836547852,12.483495712280273,13.656015396118164,11.803000450134277,12.712981224060059,12.749709129333496,12.742237091064453,12.89572811126709,11.81492805480957,11.859659194946289,13.379443168640137,12.476479530334473,10.89957046508789,10.74970531463623,12.109379768371582,12.735814094543457,12.371881484985352,12.23992919921875,10.921836853027344,12.336551666259766,11.942060470581055,10.976819038391113,13.627764701843262,12.441191673278809,12.354897499084473,11.983797073364258,12.084402084350586,12.223240852355957,12.060470581054688,12.190020561218262,13.54963207244873,12.563210487365723,12.480770111083984,13.71770191192627,12.334372520446777,12.72580623626709,10.878039360046387,11.040753364562988,10.733600616455078,11.98982048034668,10.867868423461914,12.0785551071167,11.77694034576416,10.817456245422363,11.366412162780762,12.32255744934082,13.229544639587402,12.375377655029297,10.760263442993164,12.050313949584961,13.241412162780762,12.692488670349121,12.04706859588623,12.10623550415039,12.48829174041748,12.350150108337402,12.77765941619873,10.662521362304688,11.395245552062988,10.788000106811523,11.91883659362793,10.760627746582031,13.335779190063477,12.374473571777344,10.752910614013672,11.346858024597168,13.55129623413086,11.672320365905762,10.662031173706055,10.930347442626953,12.136514663696289,10.721529960632324,12.830392837524414,13.561140060424805,13.308853149414062,10.790937423706055,12.04988956451416,12.5548677444458,11.206242561340332,12.082185745239258,11.672362327575684,12.256391525268555,12.477550506591797,12.271173477172852,11.1461763381958,12.489014625549316,12.700716972351074,12.225704193115234,12.168861389160156,12.065706253051758,10.80732250213623,10.84367561340332,12.023781776428223,13.406134605407715,11.870893478393555,12.276269912719727,11.862905502319336,13.547212600708008,12.546704292297363,12.488067626953125,13.71138858795166,12.065711975097656,10.919238090515137,12.731939315795898,10.803949356079102,10.781445503234863,12.303653717041016,11.69898796081543,10.874555587768555,11.919108390808105,12.024534225463867],\"type\":\"scattergl\"},{\"hoverinfo\":\"text\",\"hovertext\":[\"never entirely comfortable truth behind champion always fight something otherwi\",\"dude fuck robot\",\"okay checked fuck real\",\"friend india website story rinku sharma block twitter however continue\",\"new comic\",\"caught k say true\",\"let billionaire cry\",\"two amaze people fighter keep go need\",\"pride wake\",\"yes invisible\",\"enough people drop look\",\"assume fight back know one actually start fight\",\"think possible man produce much estrogen\",\"twitter thousand retweets twitter dozen retweets twitter new follower daily twitter followe\",\"woman kill kidnap afrin whole world silent woman together afrin\",\"stupid fuck bitch\",\"go year old woman nothing justice act revenge\",\"wow\",\"say\",\"rub face know know know say go happen c\",\"lady question imagine pill men begin market would really trust\",\"doubt fauci visit gay sauna bar highly doubt anything understand h\",\"every day come onto twitter lose another hundred follower add follower two year\",\"beating u game shut game fucker literally take ball g\",\"homosexual find criticize heteros much without u even exist\",\"men pig u stop living stop filth serious\",\"sorry break bimbo every guy planet want sleep\",\"actually interviewed tube channel couple year ago gotten thousand view\",\"deep\",\"homosexual scum vote vanilla\",\"total utter bullshit\",\"every single time\",\"available preview\",\"let cry woman afrin woman together afrin\",\"nigga like life anime yea bro one piece shit\",\"best really\",\"ok groomers\",\"little junk\",\"twitter purge account every single day add follower year instead lose follow\",\"fanart prefer\",\"know many purge account able survive account survive night\",\"drop photography mine\",\"guarantee chick like anything luxury\",\"idea guy god work love see clip float around\",\"none organic happen naturally manufacture\",\"believe\",\"kind woman foot hit floor morning devil say oh crap woman fear f\",\"know many people receive permanent ban social medium account express concern drag\",\"injury today insurrection oh wait mean medium full crap\",\"imagine someone snuck punch face behind start kick stomp yo\",\"lose follower twitter seem like tolerant free speech love place\",\"hundred salutation foot madhav\",\"delete first one get ratio ed hard uploaded new one allow\",\"prove u right every single time\",\"okay checked fuck real\",\"fuck petty go year old man weak pathetic creature\",\"assume fight back know one actually start fight\",\"bought paid\",\"video deserves every thumb get\",\"lie repeat often enough eventually becomes truth\",\"heartbreaking\",\"remember current era become naturally manufacture slowly generation\",\"lil nigga lil nigga lil nigga lil nigga lil nigga lil nigga lil nigga lil nigga lil nigga lil\",\"tomorrow recover woman day intelligence day\",\"one try murder lie po\",\"cry laugh zehma mtn catapult whore\",\"remember watch mother breakdown cry weight poverty hearing pain sorrow shame\",\"salute\",\"two tower hand signal hmm\",\"one one\",\"behind\",\"people still oblivious truth right plain sight\",\"wan na fuck time man body see nigga leave tf alone\",\"warrior\",\"someone dm please send picture cat anyrtgingh im boredddd\",\"always little shit think smarter elder inevitably end shit\",\"might audio version concept odysee channel find someone want put together vid\",\"accident\",\"post need many many million view share many people\",\"imagine force wake morning everyday\",\"parody account\",\"truth\",\"goodnight\",\"lick foot nigga white trash paris france interracial gay amateur gay\",\"yes\",\"apart weapon way mamma favorite weapon slipper\",\"shut shut goy know goy really know\",\"anyone think create video channel want deal tube censorship bit chute shitty\",\"think twitter allow certain conservative account maintain follower erase account like min\",\"jesus fuck christ guy happens talk tough try look sound cool violence g\",\"post need many many million view share many people\",\"expose back october\",\"well yes certainly full crap\",\"anyway would never stop repeat place woman tiktok quite simply\",\"gymnastics say dirty arab\",\"good morning ji\",\"amaze article people write two year ago show ten thousand follower\",\"wish men shut fuck today\",\"people still oblivious truth right plain sight\",\"great many level\",\"fagot take arm\",null],\"marker\":{\"opacity\":0.5,\"size\":5},\"mode\":\"markers+text\",\"name\":\"2_nigga_lil_twitter\",\"text\":[\"\",\"\",\"\",\"\",\"\",\"\",\"\",\"\",\"\",\"\",\"\",\"\",\"\",\"\",\"\",\"\",\"\",\"\",\"\",\"\",\"\",\"\",\"\",\"\",\"\",\"\",\"\",\"\",\"\",\"\",\"\",\"\",\"\",\"\",\"\",\"\",\"\",\"\",\"\",\"\",\"\",\"\",\"\",\"\",\"\",\"\",\"\",\"\",\"\",\"\",\"\",\"\",\"\",\"\",\"\",\"\",\"\",\"\",\"\",\"\",\"\",\"\",\"\",\"\",\"\",\"\",\"\",\"\",\"\",\"\",\"\",\"\",\"\",\"\",\"\",\"\",\"\",\"\",\"\",\"\",\"\",\"\",\"\",\"\",\"\",\"\",\"\",\"\",\"\",\"\",\"\",\"\",\"\",\"\",\"\",\"\",\"\",\"\",\"\",\"\",\"\",\"2_nigga_lil_twitter\"],\"textfont\":{\"size\":12},\"x\":[8.269222259521484,8.26273250579834,8.25649642944336,5.797628879547119,6.8193745613098145,8.200189590454102,7.524144649505615,7.835600852966309,7.350115776062012,7.225017547607422,7.1249518394470215,8.260021209716797,8.194308280944824,5.830706596374512,7.618256092071533,8.42974853515625,8.20142936706543,7.427329063415527,7.60834264755249,8.277022361755371,8.442631721496582,8.727216720581055,5.821451663970947,8.632852554321289,8.971610069274902,8.188943862915039,8.028518676757812,6.168869495391846,7.384764194488525,9.13308048248291,7.356553554534912,7.782696723937988,6.996950149536133,7.605768203735352,8.546775817871094,7.321486473083496,9.130870819091797,7.187369346618652,5.786093235015869,6.63529634475708,5.721181392669678,7.109005451202393,8.581767082214355,6.294862270355225,8.00231647491455,7.318687915802002,7.59763240814209,5.760655403137207,7.169670104980469,8.279550552368164,5.775387287139893,6.622195243835449,6.143513202667236,8.169965744018555,8.264100074768066,8.290899276733398,8.273262023925781,6.035802364349365,6.25004768371582,7.818627834320068,7.586636066436768,7.836062908172607,8.685396194458008,7.732452392578125,8.055554389953613,7.654440879821777,7.475070476531982,6.751319885253906,7.175832271575928,7.989162921905518,7.2129974365234375,7.3606414794921875,8.58770751953125,7.570607662200928,6.425661087036133,8.233445167541504,6.323480129241943,7.100474834442139,6.164050102233887,7.760039806365967,7.150869846343994,7.405346393585205,7.6229448318481445,9.19524097442627,7.238894462585449,7.495616436004639,8.362741470336914,6.320862770080566,5.756834030151367,8.647583961486816,6.145419120788574,7.215354919433594,7.210931301116943,5.964229583740234,9.170291900634766,7.478994846343994,6.008281230926514,7.9821014404296875,7.370053291320801,6.485560894012451,7.844130516052246,7.461335182189941],\"y\":[9.401366233825684,9.297941207885742,9.123587608337402,9.189098358154297,9.204925537109375,9.134230613708496,9.681546211242676,9.530542373657227,9.65399169921875,9.24553394317627,9.329229354858398,9.38383674621582,10.219476699829102,9.2001953125,9.728904724121094,9.530445098876953,9.80214786529541,8.96607780456543,9.413864135742188,9.368067741394043,10.067670822143555,9.993014335632324,9.173444747924805,9.617934226989746,9.989620208740234,9.9557523727417,10.024796485900879,9.409141540527344,9.510566711425781,10.013666152954102,9.062344551086426,8.956319808959961,9.304462432861328,9.719877243041992,9.685811996459961,8.909103393554688,10.015215873718262,9.037251472473145,9.165237426757812,9.077730178833008,9.240803718566895,9.309088706970215,10.055925369262695,9.379779815673828,10.575075149536133,10.212204933166504,9.876388549804688,9.194687843322754,9.017158508300781,9.377029418945312,9.159875869750977,9.882451057434082,9.40755558013916,9.119088172912598,9.172334671020508,9.786515235900879,9.387446403503418,9.580344200134277,9.460288047790527,9.305801391601562,8.965242385864258,10.672163963317871,9.591790199279785,10.06241512298584,9.688093185424805,9.745223999023438,9.705055236816406,9.884100914001465,10.115697860717773,9.639766693115234,9.392484664916992,9.425959587097168,9.606744766235352,9.574399948120117,9.210905075073242,9.758008003234863,9.364607810974121,9.099776268005371,9.383612632751465,10.194355010986328,9.219079971313477,9.356352806091309,10.060847282409668,9.991698265075684,8.98669147491455,9.539385795593262,9.364224433898926,9.42388916015625,9.160545349121094,9.661932945251465,9.38724422454834,9.369988441467285,8.997600555419922,9.122458457946777,10.061483383178711,10.070175170898438,9.351545333862305,9.97630500793457,9.43575668334961,9.67978286743164,9.571758270263672,9.529336929321289],\"type\":\"scattergl\"},{\"hoverinfo\":\"text\",\"hovertext\":[\"ancient celt dyed hair blonde lime also dyed clothes various color plant berry\",\"jake tapper dnc operative expose wikileaks left wing hack nerve say kaleigh mc ne\",\"guy tune est click link see donald trump cpac address cpac general\",\"rino nikki haley scar show face cpac\",\"look like everything prove hitler right\",\"long machine shut georgia night\",\"surprised new age neo marxist refuse join take wall street crook\",\"shame gop ballot atlanta start come even though poll close five hour ago democrat co\",\"new regime go force mass obey send people disappear\",\"lincoln project every one work trump admin held accountable action also lp w\",\"necessary win election help someone heart big must heart\",\"democrat work harder rebuild c swamp american job\",\"sovereign mind power choice come single set belief define\",\"anti hitler sentiment reach fanatical insanity le severity religious hysteria anyone stoop\",\"want socialism\",\"john kohn aka john kerry claim earth nine year\",\"power go force individual citizen comply average citizen know\",\"alert communist senator chris murphy connecticut national security threat murphy infiltrate senate fo\",\"many generation american government organize crime syndicate illegal occupation\",\"rino nikki haley scar show face cpac\",\"trump cpac warmonger liz cheney\",\"house democrat push cable company big tech get rid conservative news network\",\"philosophy lie national socialism man lie\",\"blame anyone know truth adolf hitler amp national socialism victor write history\",\"gayle oprah paid pr harry witch\",\"yes true leftist lot common nazi\",\"entire world watch trump cpac\",\"end every trump speech music come help get dance president give much ho\",\"happen look like suitcase democrat ballot show\",\"threat alert radical communist tie nominate secretary interior deb haaland nomination completel\",\"communism symptom disease disease look communism come look\",\"year ago today one america great patriot hero born born bloomington illinois\",\"everybody want believe secret underground army organization go fix everything\",\"president trump cpac must voter id republican party actually tackle issue must stop speaki\",\"anyone good explanation china allow access u power grid hell\",\"arbitrariness censorship back west via\",\"make remain ballot de kalb county must manually scan order tabulate\",\"love trigger left amaze marjorie taylor greene look one strong conservative woman scare\",\"hitler nazi war happen racist hat anyone blonde hair amp blue eye\",\"oppose islam racist oppose german national socialism soviet communism nothing w color\",\"whoever control country institution control society perception reality\",\"ever reason storm street overthrow exist regime\",\"ryan girdusky lincoln project part grift part groom operation john weaver\",\"hypothetical anymore matter matter government force prep\",\"trump one address illegal immigration cpac republican party wake f\",\"wa po typical left wing news organization exists harm conservative jeff bezos u power money\",\"asks compromise always include give right gain control refer democr\",\"know go use eternal justification rob freedom right\",\"trump take stage cpac love president\",\"cqfd well totally fire like trump\",\"thought hillary aka schrillary clinton new book welcome\",\"george lincoln rockwell born march assassinate august\",\"trump present future republican party plan run\",\"proof globalism exist party\",\"cool story first time radio legendary rush limbaugh right somewhat infamou\",\"cnn rest liberal medium fake plan attack today u capitol go today\",\"george conway lie national tv say know fellow co founder lincoln project well r\",\"flag ny dems let let one credible scandal distract another credible disa\",\"trump cpac trumpism mean strong border riot support police nd amendment video\",\"dictatorship forbidden make fun powerful\",\"whole road map thing psy ops lockdown end people amp business simply realise power amp n\",\"yes trump might decide beat third time usa usa usa\",\"one president trump told u corruption go take place georgia right free\",\"expect someone else save expect group save people country\",\"show one politician corrupt core\",\"united remove traitor like party good choice show cpac\",\"gab run beautifully thank msm announce moment hate fo\",\"antifa always corporate manufacture product anarcho marxism package sell capitalist impre\",\"philosophy national socialism reawaking mankind consciousness nature importance ra\",\"get teary eyed see elderly veteran show freedom plaza fight trump incredible co\",\"russia international regulation social medium moderation\",\"counting stop ballot fairy go work\",\"trump want every american read follow time magazine article democrat crook flaunt corruptness know\",\"already election need mike penny stop democrat steal\",\"hysteria freak see hitler literally everywhere go continue affirm say fo\",\"win seat georgia mitt romney go officially declare democrat good riddance\",\"historically whenever marxist bolshevik communist regime take power one first thing\",\"thus globalists use power compete opposition make opposition illegal\",\"time see mike penny truly patriot\",\"president run third term cpac\",\"marxism virus mutates spread host host time bolshevism communism social democracy\",\"entire world watch trump cpac\",\"end attack natural order era insanity become universal new age religion\",\"trump slam traitor republican party yes name every last one time take back party\",\"natural redhead rare people planet easily one beautiful anyone natural\",\"expose georgia election bribe democrat group caught break federal law bribing georgia voter\",\"watch president trump take stage cpac give burst joy hope\",\"communism always creates resistance logical response communism always fascism na\",\"greta thunberg expose creation powerful marxist soros back ngo al gore amp\",\"warn joe biden radical hud secretary marcia fudge threat america watch like many others biden admin\",\"historically speak virtually every time communism come power regime manufacture artificial famine\",\"many vote discover georgia tonight watch suitcase ga sen\",\"one trump lawyer play unedited fine people hoax video debunk front america network\",\"imagine power like power declare act criminal ability declare anti semit\",null],\"marker\":{\"opacity\":0.5,\"size\":5},\"mode\":\"markers+text\",\"name\":\"3_trump_cpac_power\",\"text\":[\"\",\"\",\"\",\"\",\"\",\"\",\"\",\"\",\"\",\"\",\"\",\"\",\"\",\"\",\"\",\"\",\"\",\"\",\"\",\"\",\"\",\"\",\"\",\"\",\"\",\"\",\"\",\"\",\"\",\"\",\"\",\"\",\"\",\"\",\"\",\"\",\"\",\"\",\"\",\"\",\"\",\"\",\"\",\"\",\"\",\"\",\"\",\"\",\"\",\"\",\"\",\"\",\"\",\"\",\"\",\"\",\"\",\"\",\"\",\"\",\"\",\"\",\"\",\"\",\"\",\"\",\"\",\"\",\"\",\"\",\"\",\"\",\"\",\"\",\"\",\"\",\"\",\"\",\"\",\"\",\"\",\"\",\"\",\"\",\"\",\"\",\"\",\"\",\"\",\"\",\"\",\"\",\"\",\"\",\"3_trump_cpac_power\"],\"textfont\":{\"size\":12},\"x\":[8.899316787719727,6.437411308288574,6.787269592285156,6.911899566650391,8.695894241333008,6.196791172027588,7.188144207000732,6.179440021514893,7.902358055114746,6.7506184577941895,6.146655559539795,6.509929180145264,7.713589668273926,8.710978507995605,8.01889419555664,6.165467262268066,7.60302209854126,6.232049465179443,7.217457294464111,6.879443168640137,6.89376163482666,6.511209964752197,8.00328540802002,8.3495454788208,7.095612525939941,7.320853233337402,6.832760810852051,6.790775299072266,6.190234661102295,6.151586532592773,7.974781036376953,7.038503646850586,7.208465099334717,6.773472309112549,7.093789577484131,7.6580400466918945,6.157843589782715,6.991855621337891,8.816649436950684,8.004576683044434,7.664305686950684,8.159844398498535,7.215122222900391,7.74972677230835,6.789371490478516,6.57427453994751,7.821005821228027,8.439663887023926,6.784630298614502,6.816629886627197,6.8929219245910645,7.169659614562988,6.531770706176758,7.704418659210205,6.663622856140137,6.459283828735352,7.226344108581543,6.296043872833252,6.8808746337890625,7.734334945678711,7.075648784637451,6.487066268920898,6.4748101234436035,7.848315715789795,6.323159694671631,6.33107852935791,6.229297161102295,7.338003635406494,8.096070289611816,6.751293659210205,7.7113494873046875,6.187374591827393,6.496666431427002,6.268684387207031,8.718849182128906,6.212838649749756,8.004195213317871,7.6574387550354,6.422054290771484,6.6136155128479,8.024029731750488,6.800784587860107,8.546167373657227,6.447642803192139,8.759242057800293,6.2408061027526855,6.804522514343262,7.9520978927612305,6.962961673736572,6.226049423217773,7.939536094665527,6.198925018310547,6.529521942138672,7.681408405303955,7.13765287399292],\"y\":[12.415694236755371,13.258950233459473,13.800003051757812,13.762173652648926,12.48252010345459,14.055264472961426,12.803180694580078,14.073022842407227,11.511019706726074,13.357758522033691,13.961214065551758,13.251988410949707,11.608394622802734,12.398812294006348,12.19278621673584,13.9335355758667,11.491058349609375,13.49519157409668,11.782980918884277,13.731505393981934,13.647551536560059,13.105865478515625,12.278937339782715,12.25494384765625,13.21494197845459,12.521018981933594,13.826874732971191,13.85399341583252,14.041169166564941,13.461262702941895,12.056896209716797,12.750356674194336,11.188593864440918,13.851073265075684,11.095067977905273,11.237126350402832,14.06241512298584,13.138216018676758,12.449719429016113,12.247334480285645,11.318227767944336,11.58527660369873,13.159866333007812,11.6498441696167,13.857454299926758,12.926304817199707,11.604865074157715,12.027324676513672,13.811264038085938,13.749378204345703,13.350319862365723,13.085208892822266,13.730511665344238,12.15956974029541,13.399103164672852,13.069363594055176,13.148380279541016,13.675729751586914,13.844500541687012,11.235596656799316,10.860465049743652,13.625555992126465,13.675353050231934,11.485684394836426,13.567805290222168,13.602995872497559,13.991003036499023,12.152349472045898,12.181257247924805,13.794048309326172,11.324552536010742,14.040284156799316,13.179753303527832,13.91361141204834,12.503640174865723,14.008798599243164,12.02852725982666,11.813253402709961,13.73656940460205,13.720627784729004,12.069534301757812,13.834492683410645,11.973860740661621,13.712746620178223,12.278142929077148,13.964255332946777,13.833651542663574,12.02506160736084,12.938506126403809,13.505661010742188,11.9977445602417,14.037054061889648,13.059338569641113,11.669798851013184,12.89515495300293],\"type\":\"scattergl\"},{\"hoverinfo\":\"text\",\"hovertext\":[\"america pay attention coordinate global attack india left radical launch campaign destr\",\"sharia pakistan little hindu girl pakistan abduct beg india modi protection islamic ca\",\"hindu le sikh today e hoist flag religion red fort\",\"islamic pakistan medium blackout muslim destroy another hindu temple pakistan modi caa give citizenship persecute\",\"holy place vrindavan cm shri ji hon union jal shakti minister shri water power\",\"year delhi trouble riot delhi ankit rinku sharma kill jihadis delhi\",\"india innovative thrust jai swadeshi\",\"day since kashmiri hindu turn away home let sink\",\"recent psych science paper use national iq predict stuff ran simple probability calculation measur\",\"cnrs investigate sa bouamama via\",\"inter n national c chutiya\",\"friend india please contact help expose left coordinate attack country indian fa\",\"u bulat home pawri ho rai hai\",\"lgbt deviant disrespect kaaba bo azi university detain\",\"g link anon r pls research post u find fault let know learn hhx news clipping lie flie\",\"associate every work r interest country mithun chakraborty\",\"downfall one kill sadhu insult woman certain parambir singh anil deshmukh uddhav thackeray sanjay raut ht\",\"modi ji slogan self reliance penetrate even among love couple\",\"warn biden terror tie hijabi appointee sameera fazili threat u amp india fazili member stand kash\",\"try tell everyone year matter nothing good enough crea\",\"pulse farmer need price support edible oil\",\"time fix mukhtar ansari salwar peeli\",\"still percent hungry live india constantly gini coefficient rise data present poverty al\",\"u press reporting muslim girl father lie samuel paty start campaign get\",\"shameful samuel paty style threat head school bow violent jihad mob parent issue apology su\",\"fund dedication shri ram mandir zomato pizza hut domino swiggy mango shopkeeper\",\"happy republic day india america stand care deeply war jihadis amp left wag country amp\",\"make farm economically viable sustainable enterprise small farmer india need carefully listen\",\"terrorist attack india islamic mob drag hindu rinku sharma home slaughter front parent wh\",\"facebook ban gay ex muslim iraq life germany one photo show kiss man\",\"savitri devi write numerous time determine quality person people view\",\"two private school girl adelaide appear film hang black baby doll give part\",\"australian student year behind average chinese student sat test year behind\",\"heard psycho back send agra soon\",\"whole event always control western country roll social credit system like comm\",\"final round shivgaan competition full swing across maharashtra eve chhatrapati shivaji maharaj birth anniversary umbrella\",\"rahul gandhi big asset bjp\",\"medium want believe hundred people freedom reclaim\",\"sucial science uba must close\",\"friend let support dear friend let solidarity problem account friend get notification\",\"tell everyone year ever give scandinavian brother sister war th\",\"ok theek hai\",\"really modi ji get credit rejuvenation include go journey become possible\",\"case prima facie seem fault delivery boy kamaraj hitesha pull whole\",\"south australia trinity college apologise video circulate show student school hang black\",\"pride india rajputana chittorgarh fort\",null],\"marker\":{\"opacity\":0.5,\"size\":5},\"mode\":\"markers+text\",\"name\":\"4_india_hindu_pakistan\",\"text\":[\"\",\"\",\"\",\"\",\"\",\"\",\"\",\"\",\"\",\"\",\"\",\"\",\"\",\"\",\"\",\"\",\"\",\"\",\"\",\"\",\"\",\"\",\"\",\"\",\"\",\"\",\"\",\"\",\"\",\"\",\"\",\"\",\"\",\"\",\"\",\"\",\"\",\"\",\"\",\"\",\"\",\"\",\"\",\"\",\"\",\"\",\"4_india_hindu_pakistan\"],\"textfont\":{\"size\":12},\"x\":[6.14193868637085,5.659726619720459,5.8518385887146,5.735899448394775,5.894951343536377,5.755792140960693,6.062582492828369,5.838697910308838,5.960446357727051,5.867490768432617,5.917309284210205,6.0693159103393555,6.09938907623291,5.587923526763916,5.695446014404297,6.314713954925537,5.866647720336914,6.239067554473877,5.4906840324401855,5.583247184753418,7.1343092918396,5.762304306030273,7.151255130767822,5.4695143699646,5.510573863983154,5.849399566650391,6.256602764129639,6.99645471572876,5.67861270904541,5.524020671844482,6.3236308097839355,5.748663902282715,5.599967956542969,5.987346172332764,6.709357261657715,5.840919494628906,6.133902072906494,6.329646587371826,5.827625274658203,5.981393337249756,5.545191287994385,6.017467021942139,6.204273700714111,5.839121341705322,5.558882236480713,5.974789619445801,5.969311237335205],\"y\":[11.621618270874023,11.302849769592285,11.008932113647461,11.220616340637207,10.878716468811035,11.273550987243652,10.914416313171387,11.218328475952148,9.569717407226562,10.84132194519043,10.856560707092285,11.458641052246094,10.897757530212402,11.37432861328125,11.52059555053711,10.95694351196289,11.166274070739746,10.886796951293945,11.55665397644043,11.750422477722168,11.267633438110352,11.138972282409668,11.29589557647705,11.454115867614746,11.439692497253418,10.898804664611816,11.562432289123535,11.282224655151367,11.324328422546387,11.462114334106445,10.685750961303711,11.260519981384277,11.455108642578125,10.386771202087402,11.100966453552246,10.820834159851074,11.016490936279297,11.52202320098877,10.797981262207031,10.131020545959473,11.83361530303955,10.859884262084961,10.96677017211914,11.07906723022461,11.376055717468262,10.889177322387695,11.121377944946289],\"type\":\"scattergl\"},{\"hoverinfo\":\"text\",\"hovertext\":[\"white people say jew white consider anti semitism jew say\",\"ric dupond moretti act submit zionist lobby via\",\"try say jew stock market beating game anti semitism\",\"law anti white law anti jewish white people really wer\",\"average people need start ask okay jew anti white okay white\",\"new swedish school report jew malm enemy arab student craze hitler today\",\"social zionism wreak havoc suburb national zionism reap benefit\",\"community say black jew operate together coordinate effort dismiss bigotry r\",\"well jew allow hate white people white people allow hate jew\",\"lol say republican today like jewish holocaust apparently\",\"harassment violence impersonation zionism ulcan trial via\",\"people draw comparison jeffrey epstein lincoln project\",\"amaze often jew involve significant world event\",\"take name main parasitic beneficiary anti semitism journalistic investigation\",\"get align hebrew mythology story\",\"literally every single time hear someone spray paint swastika synagogue end hoax lit\",\"myth semitic armenoid story\",\"hebrew mythology make race slave benefit\",\"remember allow even much question woman story story holocaust told\",\"white people say jew white consider anti semitism jew say\",\"try say jew one lead impeachment\",\"semite member people speak spoke semitic language include particular jew\",\"identity generation techouva anti semitism anti zionism place u\",\"old south wealthy white allied jewish merchant pamper color slave class mass poor white\",\"collect coin like jew anti semitic humor slippage elect official sarcelles see\",\"daily reminder jew perfect people never commit crime certainly war crime\",\"whenever biden speaks know semitic armenoid handler speak instead\",\"abrahamic summit jew pope interfaith meeting iraq\",\"hell holocaust denial illegal place mean illegal simply say something like loo\",\"try say jew one lead impeachment\",\"say denounce anti semitism jew say video link\",null],\"marker\":{\"opacity\":0.5,\"size\":5},\"mode\":\"markers+text\",\"name\":\"5_jew_anti_say\",\"text\":[\"\",\"\",\"\",\"\",\"\",\"\",\"\",\"\",\"\",\"\",\"\",\"\",\"\",\"\",\"\",\"\",\"\",\"\",\"\",\"\",\"\",\"\",\"\",\"\",\"\",\"\",\"\",\"\",\"\",\"\",\"\",\"5_jew_anti_say\"],\"textfont\":{\"size\":12},\"x\":[9.536664962768555,8.497688293457031,9.221714973449707,9.594507217407227,9.568459510803223,8.770535469055176,8.443902015686035,9.6532564163208,9.57779312133789,9.427799224853516,8.402851104736328,8.805514335632324,9.223832130432129,8.470590591430664,9.201991081237793,9.23585033416748,9.199677467346191,9.280510902404785,9.02877140045166,9.553038597106934,9.165417671203613,9.525811195373535,8.45309829711914,9.46036434173584,9.155797004699707,9.4273099899292,9.093223571777344,9.157075881958008,9.560901641845703,9.163511276245117,9.335555076599121,9.167515754699707],\"y\":[12.951745986938477,12.995518684387207,13.073607444763184,12.870033264160156,12.893207550048828,12.77627944946289,12.951274871826172,12.72710132598877,12.882514953613281,12.988078117370605,12.939103126525879,13.039977073669434,13.012489318847656,12.907414436340332,12.823726654052734,13.096444129943848,12.789423942565918,12.7733736038208,12.69933032989502,12.902556419372559,13.182354927062988,12.928475379943848,12.906954765319824,12.786766052246094,13.15025806427002,12.92031192779541,13.182275772094727,13.181279182434082,12.787909507751465,13.181506156921387,13.053886413574219,12.946942329406738],\"type\":\"scattergl\"},{\"hoverinfo\":\"text\",\"hovertext\":[\"play f aschtb nkler partyplanet\",\"play hut jordan jay idetto mood\",\"play fantasy casanova\",\"play sugarfree fantasy\",\"play luc steeno played accordion\",\"anyone else clubhouse join wonder u\",\"play snollebollekes springen nondeju nd bass remix\",\"play anja speak silver silent gold\",\"play bobby day rockin robin\",\"play various artist fanfare hunger thirst\",\"play lisa del bo pearl like\",\"play wolter kroes viva hollandia\",\"bose dk sit naked\",\"play django wagner de muzikant\",\"play hansi hinterseer god life earth\",\"play semino rossi alone tonight\",\"play bob benny love anyway\",\"play jayh nice day\",\"get ro pfp would sit one bestie\",\"play nicole wonderful\",\"ptdrrrr nintendo schwitz\",\"play richard anthony j entends siffler le train version remastered\",null],\"marker\":{\"opacity\":0.5,\"size\":5},\"mode\":\"markers+text\",\"name\":\"6_play_sit_fantasy\",\"text\":[\"\",\"\",\"\",\"\",\"\",\"\",\"\",\"\",\"\",\"\",\"\",\"\",\"\",\"\",\"\",\"\",\"\",\"\",\"\",\"\",\"\",\"\",\"6_play_sit_fantasy\"],\"textfont\":{\"size\":12},\"x\":[6.543566703796387,6.479093551635742,6.635056018829346,6.612086296081543,6.503437042236328,6.625864028930664,6.5117268562316895,6.567367076873779,6.532368183135986,6.5115766525268555,6.555389404296875,6.566903114318848,6.432009696960449,6.548354148864746,6.570704460144043,6.701189994812012,6.587593078613281,6.568415641784668,6.785665035247803,6.713118553161621,6.50966739654541,6.562334060668945,6.573794364929199],\"y\":[7.8598737716674805,7.91356897354126,7.9222211837768555,7.875077247619629,7.8688788414001465,8.251871109008789,7.838949680328369,7.8797688484191895,7.86390495300293,7.834957122802734,7.889070510864258,7.8263702392578125,8.010431289672852,7.8162641525268555,7.881914138793945,8.012356758117676,7.886472702026367,7.888067722320557,8.121582984924316,7.984080791473389,7.836973190307617,7.849531650543213,7.914190292358398],\"type\":\"scattergl\"},{\"hoverinfo\":\"text\",\"hovertext\":[\"panic kitchen rebel restaurateur deprive aid bruno le maire via\",\"peugeot affair documentary available vo kontre kulture\",\"soral answer episode alain soral family program st phane douard\",\"soral answer episode alexandre langlois\",\"philippe de maistre courageous priest people respect health dictatorship\",\"see episode\",\"celebration napoleon bicentenary disturb laughter minister woman elisabeth moreno\",\"piece bravery alain soral russie toulon\",\"afghanistan saudi arabia dream afternoon b ziers lidl supermarket avenue de badones\",\"race alain soral fr jus may\",\"dr louis fouch hold bonus\",\"alain soral answer pierre de brague question understand era compensation complacency\",\"meryeminelindentut\",\"marcel obama lukashenko karine lacombe fourtillan student\",\"quite simply interest le\",\"france freak theory small bubble heat pan water first surface\",\"soral answer erfm twenty fourth batch\",\"didier raoult must stop war press release say go die\",\"alain soral transition formal logic concrete logic\",\"piece bravery alain soral ntm alain soral fr jus\",\"panic kitchen rebel restaurateur deprive aid bruno le maire\",\"franco albrecht neo nazi terrorist disguise syrian migrant victor young repentant lfi return v\",null],\"marker\":{\"opacity\":0.5,\"size\":5},\"mode\":\"markers+text\",\"name\":\"7_soral_alain_answer\",\"text\":[\"\",\"\",\"\",\"\",\"\",\"\",\"\",\"\",\"\",\"\",\"\",\"\",\"\",\"\",\"\",\"\",\"\",\"\",\"\",\"\",\"\",\"\",\"7_soral_alain_answer\"],\"textfont\":{\"size\":12},\"x\":[4.629209995269775,4.661367893218994,4.7348480224609375,4.768921852111816,4.687715530395508,5.148920059204102,4.679149627685547,4.697739124298096,4.451650142669678,4.689459323883057,4.976689338684082,4.832745552062988,4.4032769203186035,4.686100959777832,4.913619041442871,4.713605880737305,4.8189568519592285,4.689451694488525,4.810604095458984,4.674991130828857,4.647511005401611,4.842963695526123,4.734522819519043],\"y\":[10.319974899291992,10.002202987670898,9.981085777282715,9.97805118560791,10.37159252166748,9.840869903564453,10.38238525390625,10.204472541809082,10.540818214416504,10.054136276245117,9.889202117919922,9.955960273742676,10.515369415283203,10.483616828918457,9.965446472167969,10.25692367553711,9.968175888061523,10.620457649230957,9.91773509979248,10.113334655761719,10.305411338806152,10.693275451660156,10.198203086853027],\"type\":\"scattergl\"},{\"hoverinfo\":\"text\",\"hovertext\":[\"three sea rescue ng accuse complicity criminal smuggler\",\"right guy trial face ten year prison meme another guy give year sent\",\"shame wrongly announce julian assange release bail instead issue correction chan\",\"accusation incest richard berry marilou berry support cousin coline\",\"hey general heard retire general major ig investigation involve army hid\",\"berry case jeane manson accuse member pedophile sect coline berry via\",\"current swallower\",\"buzyn amp co judged crime humanity want new nuremberg\",\"archive footage jeane manson sings child god pedophile sect via\",\"richard berry admits violent catherine hiegel jeane manson\",\"leader proud boy former informant case human traffic narcotic\",\"julian assange release bail\",\"accord news source suspect detain release name description virtual\",\"assange never gaol expose war crime u government always mystifies\",\"favor report guy try dox\",\"gradually begin hate video link\",\"nikol pashinyan prime minister armenia confesses occupation percent shusha populati\",\"threatens violence manager video say hope others find beat tri\",null],\"marker\":{\"opacity\":0.5,\"size\":5},\"mode\":\"markers+text\",\"name\":\"8_berry_jeane_manson\",\"text\":[\"\",\"\",\"\",\"\",\"\",\"\",\"\",\"\",\"\",\"\",\"\",\"\",\"\",\"\",\"\",\"\",\"\",\"\",\"8_berry_jeane_manson\"],\"textfont\":{\"size\":12},\"x\":[5.153919219970703,5.08002233505249,4.971652984619141,4.718846321105957,5.248492240905762,4.7267632484436035,7.042339324951172,5.046672821044922,4.755443572998047,4.715684413909912,5.3269782066345215,4.977641582489014,4.792916774749756,5.057515621185303,6.13073205947876,6.382360458374023,3.5469701290130615,6.3738694190979,5.2249345779418945],\"y\":[10.964922904968262,11.0565767288208,11.139884948730469,11.818852424621582,10.752474784851074,11.827383041381836,10.064130783081055,11.035696029663086,11.790947914123535,11.811965942382812,10.70263385772705,11.113996505737305,11.205232620239258,11.045632362365723,9.934279441833496,9.673649787902832,11.667492866516113,9.740955352783203,10.963706016540527],\"type\":\"scattergl\"},{\"hoverinfo\":\"text\",\"hovertext\":[\"plan take back hagia sophia\",\"buy story second pipe bomb really plant dc capitol guarantee\",\"basically back foreign war shipping american job sea\",\"shill foreign domestic enemy\",\"february shape one long cold rape big frozen winter wiener\",\"um exactly dc capitol bombed see already rewrite history le two mon\",\"nation yahweh mayor miami xavier su rez declare yahweh ben yahweh day october mon\",\"salute brave soldier\",\"new year eve wuhan v nyc spot communist nation\",\"city burn ransack violent terrorist savage summer long give fuck le th\",\"major victory domestic terrorism america today fail huffington post fire radical\",\"warn conservative dangerous new antifa doxxing group beware deplatform hate left wing deplatform hate lat\",\"want keep america safe stop import people want kill u simple\",\"pay middle eastern terrorist smuggle u via mexican border people sw\",\"west full country protect border dangerous illegal migrant problem imposi\",\"god bless eric zemmour\",\"warn communist weaponize fake asian hate crime narrative plot march th u protest party liberation socialis\",null],\"marker\":{\"opacity\":0.5,\"size\":5},\"mode\":\"markers+text\",\"name\":\"9_yahweh_mon_deplatform\",\"text\":[\"\",\"\",\"\",\"\",\"\",\"\",\"\",\"\",\"\",\"\",\"\",\"\",\"\",\"\",\"\",\"\",\"\",\"9_yahweh_mon_deplatform\"],\"textfont\":{\"size\":12},\"x\":[6.107069492340088,6.194879531860352,5.519768714904785,6.7519073486328125,5.771484851837158,6.134857177734375,5.884756565093994,6.606570720672607,6.3159613609313965,5.7689361572265625,6.290896892547607,6.682408809661865,5.364128112792969,6.491076946258545,5.261697292327881,5.901191711425781,6.641430854797363,6.099353790283203],\"y\":[12.727241516113281,12.777704238891602,12.82906723022461,12.314606666564941,12.512782096862793,12.735872268676758,12.623075485229492,9.99498176574707,12.475899696350098,12.547536849975586,12.816038131713867,12.324666023254395,13.01036548614502,11.040003776550293,12.978408813476562,12.502941131591797,12.266685485839844,12.381051063537598],\"type\":\"scattergl\"},{\"hoverinfo\":\"text\",\"hovertext\":[\"covid warn yr old survivor call resistance recur fascism tend hold onto rather magical amp\",\"create beast finally bring\",\"start reimburse ruin fn\",\"good news would prefer rehabilitation center\",\"great reset big cleaning episode great reset health\",\"people bailing tube switch lbry odysee\",\"heal unity creature\",\"warn left wing fight morph pandemic lockdown climate lockdown climate lockdown private vehicle use b\",\"new normal watchword great reset\",\"daniel year old athletic intensive care bfm tv manipulation\",\"mdrrrr see pair look like clutch pedal\",\"see yet another major purge go today linktree find place\",\"go leclerc reimburse x psk difference found penny product cheaper htt\",\"disability heval\",\"great reset spring cleaning episode free extract\",\"watch first part minute great reset great reset spring cleaning great r\",null],\"marker\":{\"opacity\":0.5,\"size\":5},\"mode\":\"markers+text\",\"name\":\"10_reset_great_cleaning\",\"text\":[\"\",\"\",\"\",\"\",\"\",\"\",\"\",\"\",\"\",\"\",\"\",\"\",\"\",\"\",\"\",\"\",\"10_reset_great_cleaning\"],\"textfont\":{\"size\":12},\"x\":[6.397575378417969,6.238232135772705,5.634207725524902,5.868564605712891,5.58739709854126,6.940576076507568,5.912791728973389,6.708273410797119,5.586277961730957,5.9343671798706055,6.989578723907471,5.572723865509033,5.653281211853027,5.93868350982666,5.545650959014893,5.59398078918457,6.006385326385498],\"y\":[10.376344680786133,10.333036422729492,9.814704895019531,10.112931251525879,9.85030746459961,10.741483688354492,10.215008735656738,11.50035285949707,9.857686996459961,9.963841438293457,10.452134132385254,9.693243026733398,9.760748863220215,10.140704154968262,9.856221199035645,9.863409996032715,10.158259391784668],\"type\":\"scattergl\"}],                        {\"template\":{\"data\":{\"barpolar\":[{\"marker\":{\"line\":{\"color\":\"white\",\"width\":0.5},\"pattern\":{\"fillmode\":\"overlay\",\"size\":10,\"solidity\":0.2}},\"type\":\"barpolar\"}],\"bar\":[{\"error_x\":{\"color\":\"rgb(36,36,36)\"},\"error_y\":{\"color\":\"rgb(36,36,36)\"},\"marker\":{\"line\":{\"color\":\"white\",\"width\":0.5},\"pattern\":{\"fillmode\":\"overlay\",\"size\":10,\"solidity\":0.2}},\"type\":\"bar\"}],\"carpet\":[{\"aaxis\":{\"endlinecolor\":\"rgb(36,36,36)\",\"gridcolor\":\"white\",\"linecolor\":\"white\",\"minorgridcolor\":\"white\",\"startlinecolor\":\"rgb(36,36,36)\"},\"baxis\":{\"endlinecolor\":\"rgb(36,36,36)\",\"gridcolor\":\"white\",\"linecolor\":\"white\",\"minorgridcolor\":\"white\",\"startlinecolor\":\"rgb(36,36,36)\"},\"type\":\"carpet\"}],\"choropleth\":[{\"colorbar\":{\"outlinewidth\":1,\"tickcolor\":\"rgb(36,36,36)\",\"ticks\":\"outside\"},\"type\":\"choropleth\"}],\"contourcarpet\":[{\"colorbar\":{\"outlinewidth\":1,\"tickcolor\":\"rgb(36,36,36)\",\"ticks\":\"outside\"},\"type\":\"contourcarpet\"}],\"contour\":[{\"colorbar\":{\"outlinewidth\":1,\"tickcolor\":\"rgb(36,36,36)\",\"ticks\":\"outside\"},\"colorscale\":[[0.0,\"#440154\"],[0.1111111111111111,\"#482878\"],[0.2222222222222222,\"#3e4989\"],[0.3333333333333333,\"#31688e\"],[0.4444444444444444,\"#26828e\"],[0.5555555555555556,\"#1f9e89\"],[0.6666666666666666,\"#35b779\"],[0.7777777777777778,\"#6ece58\"],[0.8888888888888888,\"#b5de2b\"],[1.0,\"#fde725\"]],\"type\":\"contour\"}],\"heatmapgl\":[{\"colorbar\":{\"outlinewidth\":1,\"tickcolor\":\"rgb(36,36,36)\",\"ticks\":\"outside\"},\"colorscale\":[[0.0,\"#440154\"],[0.1111111111111111,\"#482878\"],[0.2222222222222222,\"#3e4989\"],[0.3333333333333333,\"#31688e\"],[0.4444444444444444,\"#26828e\"],[0.5555555555555556,\"#1f9e89\"],[0.6666666666666666,\"#35b779\"],[0.7777777777777778,\"#6ece58\"],[0.8888888888888888,\"#b5de2b\"],[1.0,\"#fde725\"]],\"type\":\"heatmapgl\"}],\"heatmap\":[{\"colorbar\":{\"outlinewidth\":1,\"tickcolor\":\"rgb(36,36,36)\",\"ticks\":\"outside\"},\"colorscale\":[[0.0,\"#440154\"],[0.1111111111111111,\"#482878\"],[0.2222222222222222,\"#3e4989\"],[0.3333333333333333,\"#31688e\"],[0.4444444444444444,\"#26828e\"],[0.5555555555555556,\"#1f9e89\"],[0.6666666666666666,\"#35b779\"],[0.7777777777777778,\"#6ece58\"],[0.8888888888888888,\"#b5de2b\"],[1.0,\"#fde725\"]],\"type\":\"heatmap\"}],\"histogram2dcontour\":[{\"colorbar\":{\"outlinewidth\":1,\"tickcolor\":\"rgb(36,36,36)\",\"ticks\":\"outside\"},\"colorscale\":[[0.0,\"#440154\"],[0.1111111111111111,\"#482878\"],[0.2222222222222222,\"#3e4989\"],[0.3333333333333333,\"#31688e\"],[0.4444444444444444,\"#26828e\"],[0.5555555555555556,\"#1f9e89\"],[0.6666666666666666,\"#35b779\"],[0.7777777777777778,\"#6ece58\"],[0.8888888888888888,\"#b5de2b\"],[1.0,\"#fde725\"]],\"type\":\"histogram2dcontour\"}],\"histogram2d\":[{\"colorbar\":{\"outlinewidth\":1,\"tickcolor\":\"rgb(36,36,36)\",\"ticks\":\"outside\"},\"colorscale\":[[0.0,\"#440154\"],[0.1111111111111111,\"#482878\"],[0.2222222222222222,\"#3e4989\"],[0.3333333333333333,\"#31688e\"],[0.4444444444444444,\"#26828e\"],[0.5555555555555556,\"#1f9e89\"],[0.6666666666666666,\"#35b779\"],[0.7777777777777778,\"#6ece58\"],[0.8888888888888888,\"#b5de2b\"],[1.0,\"#fde725\"]],\"type\":\"histogram2d\"}],\"histogram\":[{\"marker\":{\"line\":{\"color\":\"white\",\"width\":0.6}},\"type\":\"histogram\"}],\"mesh3d\":[{\"colorbar\":{\"outlinewidth\":1,\"tickcolor\":\"rgb(36,36,36)\",\"ticks\":\"outside\"},\"type\":\"mesh3d\"}],\"parcoords\":[{\"line\":{\"colorbar\":{\"outlinewidth\":1,\"tickcolor\":\"rgb(36,36,36)\",\"ticks\":\"outside\"}},\"type\":\"parcoords\"}],\"pie\":[{\"automargin\":true,\"type\":\"pie\"}],\"scatter3d\":[{\"line\":{\"colorbar\":{\"outlinewidth\":1,\"tickcolor\":\"rgb(36,36,36)\",\"ticks\":\"outside\"}},\"marker\":{\"colorbar\":{\"outlinewidth\":1,\"tickcolor\":\"rgb(36,36,36)\",\"ticks\":\"outside\"}},\"type\":\"scatter3d\"}],\"scattercarpet\":[{\"marker\":{\"colorbar\":{\"outlinewidth\":1,\"tickcolor\":\"rgb(36,36,36)\",\"ticks\":\"outside\"}},\"type\":\"scattercarpet\"}],\"scattergeo\":[{\"marker\":{\"colorbar\":{\"outlinewidth\":1,\"tickcolor\":\"rgb(36,36,36)\",\"ticks\":\"outside\"}},\"type\":\"scattergeo\"}],\"scattergl\":[{\"marker\":{\"colorbar\":{\"outlinewidth\":1,\"tickcolor\":\"rgb(36,36,36)\",\"ticks\":\"outside\"}},\"type\":\"scattergl\"}],\"scattermapbox\":[{\"marker\":{\"colorbar\":{\"outlinewidth\":1,\"tickcolor\":\"rgb(36,36,36)\",\"ticks\":\"outside\"}},\"type\":\"scattermapbox\"}],\"scatterpolargl\":[{\"marker\":{\"colorbar\":{\"outlinewidth\":1,\"tickcolor\":\"rgb(36,36,36)\",\"ticks\":\"outside\"}},\"type\":\"scatterpolargl\"}],\"scatterpolar\":[{\"marker\":{\"colorbar\":{\"outlinewidth\":1,\"tickcolor\":\"rgb(36,36,36)\",\"ticks\":\"outside\"}},\"type\":\"scatterpolar\"}],\"scatter\":[{\"fillpattern\":{\"fillmode\":\"overlay\",\"size\":10,\"solidity\":0.2},\"type\":\"scatter\"}],\"scatterternary\":[{\"marker\":{\"colorbar\":{\"outlinewidth\":1,\"tickcolor\":\"rgb(36,36,36)\",\"ticks\":\"outside\"}},\"type\":\"scatterternary\"}],\"surface\":[{\"colorbar\":{\"outlinewidth\":1,\"tickcolor\":\"rgb(36,36,36)\",\"ticks\":\"outside\"},\"colorscale\":[[0.0,\"#440154\"],[0.1111111111111111,\"#482878\"],[0.2222222222222222,\"#3e4989\"],[0.3333333333333333,\"#31688e\"],[0.4444444444444444,\"#26828e\"],[0.5555555555555556,\"#1f9e89\"],[0.6666666666666666,\"#35b779\"],[0.7777777777777778,\"#6ece58\"],[0.8888888888888888,\"#b5de2b\"],[1.0,\"#fde725\"]],\"type\":\"surface\"}],\"table\":[{\"cells\":{\"fill\":{\"color\":\"rgb(237,237,237)\"},\"line\":{\"color\":\"white\"}},\"header\":{\"fill\":{\"color\":\"rgb(217,217,217)\"},\"line\":{\"color\":\"white\"}},\"type\":\"table\"}]},\"layout\":{\"annotationdefaults\":{\"arrowhead\":0,\"arrowwidth\":1},\"autotypenumbers\":\"strict\",\"coloraxis\":{\"colorbar\":{\"outlinewidth\":1,\"tickcolor\":\"rgb(36,36,36)\",\"ticks\":\"outside\"}},\"colorscale\":{\"diverging\":[[0.0,\"rgb(103,0,31)\"],[0.1,\"rgb(178,24,43)\"],[0.2,\"rgb(214,96,77)\"],[0.3,\"rgb(244,165,130)\"],[0.4,\"rgb(253,219,199)\"],[0.5,\"rgb(247,247,247)\"],[0.6,\"rgb(209,229,240)\"],[0.7,\"rgb(146,197,222)\"],[0.8,\"rgb(67,147,195)\"],[0.9,\"rgb(33,102,172)\"],[1.0,\"rgb(5,48,97)\"]],\"sequential\":[[0.0,\"#440154\"],[0.1111111111111111,\"#482878\"],[0.2222222222222222,\"#3e4989\"],[0.3333333333333333,\"#31688e\"],[0.4444444444444444,\"#26828e\"],[0.5555555555555556,\"#1f9e89\"],[0.6666666666666666,\"#35b779\"],[0.7777777777777778,\"#6ece58\"],[0.8888888888888888,\"#b5de2b\"],[1.0,\"#fde725\"]],\"sequentialminus\":[[0.0,\"#440154\"],[0.1111111111111111,\"#482878\"],[0.2222222222222222,\"#3e4989\"],[0.3333333333333333,\"#31688e\"],[0.4444444444444444,\"#26828e\"],[0.5555555555555556,\"#1f9e89\"],[0.6666666666666666,\"#35b779\"],[0.7777777777777778,\"#6ece58\"],[0.8888888888888888,\"#b5de2b\"],[1.0,\"#fde725\"]]},\"colorway\":[\"#1F77B4\",\"#FF7F0E\",\"#2CA02C\",\"#D62728\",\"#9467BD\",\"#8C564B\",\"#E377C2\",\"#7F7F7F\",\"#BCBD22\",\"#17BECF\"],\"font\":{\"color\":\"rgb(36,36,36)\"},\"geo\":{\"bgcolor\":\"white\",\"lakecolor\":\"white\",\"landcolor\":\"white\",\"showlakes\":true,\"showland\":true,\"subunitcolor\":\"white\"},\"hoverlabel\":{\"align\":\"left\"},\"hovermode\":\"closest\",\"mapbox\":{\"style\":\"light\"},\"paper_bgcolor\":\"white\",\"plot_bgcolor\":\"white\",\"polar\":{\"angularaxis\":{\"gridcolor\":\"rgb(232,232,232)\",\"linecolor\":\"rgb(36,36,36)\",\"showgrid\":false,\"showline\":true,\"ticks\":\"outside\"},\"bgcolor\":\"white\",\"radialaxis\":{\"gridcolor\":\"rgb(232,232,232)\",\"linecolor\":\"rgb(36,36,36)\",\"showgrid\":false,\"showline\":true,\"ticks\":\"outside\"}},\"scene\":{\"xaxis\":{\"backgroundcolor\":\"white\",\"gridcolor\":\"rgb(232,232,232)\",\"gridwidth\":2,\"linecolor\":\"rgb(36,36,36)\",\"showbackground\":true,\"showgrid\":false,\"showline\":true,\"ticks\":\"outside\",\"zeroline\":false,\"zerolinecolor\":\"rgb(36,36,36)\"},\"yaxis\":{\"backgroundcolor\":\"white\",\"gridcolor\":\"rgb(232,232,232)\",\"gridwidth\":2,\"linecolor\":\"rgb(36,36,36)\",\"showbackground\":true,\"showgrid\":false,\"showline\":true,\"ticks\":\"outside\",\"zeroline\":false,\"zerolinecolor\":\"rgb(36,36,36)\"},\"zaxis\":{\"backgroundcolor\":\"white\",\"gridcolor\":\"rgb(232,232,232)\",\"gridwidth\":2,\"linecolor\":\"rgb(36,36,36)\",\"showbackground\":true,\"showgrid\":false,\"showline\":true,\"ticks\":\"outside\",\"zeroline\":false,\"zerolinecolor\":\"rgb(36,36,36)\"}},\"shapedefaults\":{\"fillcolor\":\"black\",\"line\":{\"width\":0},\"opacity\":0.3},\"ternary\":{\"aaxis\":{\"gridcolor\":\"rgb(232,232,232)\",\"linecolor\":\"rgb(36,36,36)\",\"showgrid\":false,\"showline\":true,\"ticks\":\"outside\"},\"baxis\":{\"gridcolor\":\"rgb(232,232,232)\",\"linecolor\":\"rgb(36,36,36)\",\"showgrid\":false,\"showline\":true,\"ticks\":\"outside\"},\"bgcolor\":\"white\",\"caxis\":{\"gridcolor\":\"rgb(232,232,232)\",\"linecolor\":\"rgb(36,36,36)\",\"showgrid\":false,\"showline\":true,\"ticks\":\"outside\"}},\"title\":{\"x\":0.05},\"xaxis\":{\"automargin\":true,\"gridcolor\":\"rgb(232,232,232)\",\"linecolor\":\"rgb(36,36,36)\",\"showgrid\":false,\"showline\":true,\"ticks\":\"outside\",\"title\":{\"standoff\":15},\"zeroline\":false,\"zerolinecolor\":\"rgb(36,36,36)\"},\"yaxis\":{\"automargin\":true,\"gridcolor\":\"rgb(232,232,232)\",\"linecolor\":\"rgb(36,36,36)\",\"showgrid\":false,\"showline\":true,\"ticks\":\"outside\",\"title\":{\"standoff\":15},\"zeroline\":false,\"zerolinecolor\":\"rgb(36,36,36)\"}}},\"shapes\":[{\"line\":{\"color\":\"#CFD8DC\",\"width\":2},\"type\":\"line\",\"x0\":7.542771428823471,\"x1\":7.542771428823471,\"y0\":6.643824529647827,\"y1\":16.183976268768312},{\"line\":{\"color\":\"#9E9E9E\",\"width\":2},\"type\":\"line\",\"x0\":2.622241723537445,\"x1\":12.463301134109496,\"y0\":11.41390039920807,\"y1\":11.41390039920807}],\"annotations\":[{\"showarrow\":false,\"text\":\"D1\",\"x\":2.622241723537445,\"y\":11.41390039920807,\"yshift\":10},{\"showarrow\":false,\"text\":\"D2\",\"x\":7.542771428823471,\"xshift\":10,\"y\":16.183976268768312}],\"title\":{\"font\":{\"size\":22,\"color\":\"Black\"},\"text\":\"<b>Documents and Topics\",\"x\":0.5,\"xanchor\":\"center\",\"yanchor\":\"top\"},\"width\":1200,\"height\":750,\"xaxis\":{\"visible\":false},\"yaxis\":{\"visible\":false}},                        {\"responsive\": true}                    ).then(function(){\n",
       "                            \n",
       "var gd = document.getElementById('428a08bd-755c-47f5-b786-4413adb7fe51');\n",
       "var x = new MutationObserver(function (mutations, observer) {{\n",
       "        var display = window.getComputedStyle(gd).display;\n",
       "        if (!display || display === 'none') {{\n",
       "            console.log([gd, 'removed!']);\n",
       "            Plotly.purge(gd);\n",
       "            observer.disconnect();\n",
       "        }}\n",
       "}});\n",
       "\n",
       "// Listen for the removal of the full notebook cells\n",
       "var notebookContainer = gd.closest('#notebook-container');\n",
       "if (notebookContainer) {{\n",
       "    x.observe(notebookContainer, {childList: true});\n",
       "}}\n",
       "\n",
       "// Listen for the clearing of the current output cell\n",
       "var outputEl = gd.closest('.output');\n",
       "if (outputEl) {{\n",
       "    x.observe(outputEl, {childList: true});\n",
       "}}\n",
       "\n",
       "                        })                };                });            </script>        </div>"
      ]
     },
     "metadata": {},
     "output_type": "display_data"
    }
   ],
   "source": [
    "model.visualize_documents(tweets)"
   ]
  },
  {
   "cell_type": "code",
   "execution_count": 44,
   "id": "67ba1d47",
   "metadata": {},
   "outputs": [],
   "source": [
    "save_model(model.get_topics(), params, \"12 topics, 225 unmatchde, not bad with trump appeering twice but for different topics\")"
   ]
  },
  {
   "cell_type": "code",
   "execution_count": 45,
   "id": "6f632a71",
   "metadata": {},
   "outputs": [],
   "source": [
    "write_good_params()"
   ]
  },
  {
   "cell_type": "markdown",
   "id": "08e63d29",
   "metadata": {},
   "source": [
    "### Topics \n",
    "We can give categories we used for labelling to these clusters\n",
    "1. 'white/black - racism'\n",
    "1. 'immigration', 'islam'\n",
    "1. 'american elections', 'farright'\n",
    "1. 'India - Pakistan'\n",
    "1. 'tweeter acccounts'\n",
    "1. 'jew - antisemtism'\n",
    "1. 'fantasy sex play'\n",
    "1. 'Alain Soral'\n",
    "1. 'coronavirus - vaccination'\n",
    "1. 'communism - against bankers, against state order', 'farright\n",
    "\n",
    "categories = \n",
    "\n",
    "Don't have :\n",
    "['terrorism', 'homophobia', 'women', 'other', \"Don't know\"]"
   ]
  },
  {
   "cell_type": "code",
   "execution_count": 46,
   "id": "77960ff3",
   "metadata": {},
   "outputs": [],
   "source": [
    "my_topics = [['white/black - racism'],\n",
    "    ['immigration', 'islam'],\n",
    "    ['american elections', 'farright'],\n",
    "    ['India - Pakistan'],\n",
    "    ['tweeter acccounts'],\n",
    "    ['jew - antisemtism'],\n",
    "    ['fantasy sex play'],\n",
    "    ['Alain Soral', 'farright'],\n",
    "    ['coronavirus - vaccination'],\n",
    "    ['communism - against bankers, against state order', 'farright'],\n",
    "    ['other']]"
   ]
  },
  {
   "cell_type": "code",
   "execution_count": 47,
   "id": "9c8dd30b",
   "metadata": {},
   "outputs": [],
   "source": [
    "df_labeled = get_labeled_tweets(country = 'France')"
   ]
  },
  {
   "cell_type": "code",
   "execution_count": 48,
   "id": "5f116721",
   "metadata": {},
   "outputs": [],
   "source": [
    "labels_idx = df_labeled.index\n",
    "labeled_tweets = df_labeled.join(df.loc[labels_idx][['topics','clean']])"
   ]
  },
  {
   "cell_type": "code",
   "execution_count": 49,
   "id": "898cf69e",
   "metadata": {},
   "outputs": [
    {
     "data": {
      "text/html": [
       "<div>\n",
       "<style scoped>\n",
       "    .dataframe tbody tr th:only-of-type {\n",
       "        vertical-align: middle;\n",
       "    }\n",
       "\n",
       "    .dataframe tbody tr th {\n",
       "        vertical-align: top;\n",
       "    }\n",
       "\n",
       "    .dataframe thead th {\n",
       "        text-align: right;\n",
       "    }\n",
       "</style>\n",
       "<table border=\"1\" class=\"dataframe\">\n",
       "  <thead>\n",
       "    <tr style=\"text-align: right;\">\n",
       "      <th></th>\n",
       "      <th>translated</th>\n",
       "      <th>labels</th>\n",
       "      <th>topics</th>\n",
       "      <th>clean</th>\n",
       "    </tr>\n",
       "    <tr>\n",
       "      <th>index</th>\n",
       "      <th></th>\n",
       "      <th></th>\n",
       "      <th></th>\n",
       "      <th></th>\n",
       "    </tr>\n",
       "  </thead>\n",
       "  <tbody>\n",
       "    <tr>\n",
       "      <th>262</th>\n",
       "      <td>The writing is on the wall. The White race is ...</td>\n",
       "      <td>[white/black - racism]</td>\n",
       "      <td>0</td>\n",
       "      <td>write wall white race slat genocide hyperbole ...</td>\n",
       "    </tr>\n",
       "    <tr>\n",
       "      <th>443</th>\n",
       "      <td>One good thing about French police, they never...</td>\n",
       "      <td>[islam, farright]</td>\n",
       "      <td>1</td>\n",
       "      <td>one good thing french police never hesitate fi...</td>\n",
       "    </tr>\n",
       "    <tr>\n",
       "      <th>470</th>\n",
       "      <td>No Muslim ever respects a religious teacher of...</td>\n",
       "      <td>[islam]</td>\n",
       "      <td>1</td>\n",
       "      <td>muslim ever respect religious teacher religion...</td>\n",
       "    </tr>\n",
       "    <tr>\n",
       "      <th>731</th>\n",
       "      <td>WARNING: Communists Weaponize Fake Asian Hate ...</td>\n",
       "      <td>[jew - antisemtism]</td>\n",
       "      <td>9</td>\n",
       "      <td>warn communist weaponize fake asian hate crime...</td>\n",
       "    </tr>\n",
       "    <tr>\n",
       "      <th>1065</th>\n",
       "      <td>Panic in the kitchen: rebel restaurateurs depr...</td>\n",
       "      <td>[other]</td>\n",
       "      <td>7</td>\n",
       "      <td>panic kitchen rebel restaurateur deprive aid b...</td>\n",
       "    </tr>\n",
       "    <tr>\n",
       "      <th>...</th>\n",
       "      <td>...</td>\n",
       "      <td>...</td>\n",
       "      <td>...</td>\n",
       "      <td>...</td>\n",
       "    </tr>\n",
       "    <tr>\n",
       "      <th>21752</th>\n",
       "      <td>I didn't think it was possible for a man to pr...</td>\n",
       "      <td>[women]</td>\n",
       "      <td>2</td>\n",
       "      <td>think possible man produce much estrogen</td>\n",
       "    </tr>\n",
       "    <tr>\n",
       "      <th>21823</th>\n",
       "      <td>This is how the new regime is going to force t...</td>\n",
       "      <td>[communism - against bankers , against state  ...</td>\n",
       "      <td>3</td>\n",
       "      <td>new regime go force mass obey send people disa...</td>\n",
       "    </tr>\n",
       "    <tr>\n",
       "      <th>22079</th>\n",
       "      <td>Appalling •   homeless queuing for food last n...</td>\n",
       "      <td>[other]</td>\n",
       "      <td>-1</td>\n",
       "      <td>appal homeless queue food last night soup kitc...</td>\n",
       "    </tr>\n",
       "    <tr>\n",
       "      <th>22390</th>\n",
       "      <td>You can have diversity or you can have strengt...</td>\n",
       "      <td>[homophobia]</td>\n",
       "      <td>0</td>\n",
       "      <td>diversity strength army choose diversity</td>\n",
       "    </tr>\n",
       "    <tr>\n",
       "      <th>22718</th>\n",
       "      <td>Ever notice how literally all over-seas protes...</td>\n",
       "      <td>[other]</td>\n",
       "      <td>-1</td>\n",
       "      <td>ever notice literally sea protest medium like ...</td>\n",
       "    </tr>\n",
       "  </tbody>\n",
       "</table>\n",
       "<p>125 rows × 4 columns</p>\n",
       "</div>"
      ],
      "text/plain": [
       "                                              translated  \\\n",
       "index                                                      \n",
       "262    The writing is on the wall. The White race is ...   \n",
       "443    One good thing about French police, they never...   \n",
       "470    No Muslim ever respects a religious teacher of...   \n",
       "731    WARNING: Communists Weaponize Fake Asian Hate ...   \n",
       "1065   Panic in the kitchen: rebel restaurateurs depr...   \n",
       "...                                                  ...   \n",
       "21752  I didn't think it was possible for a man to pr...   \n",
       "21823  This is how the new regime is going to force t...   \n",
       "22079  Appalling •   homeless queuing for food last n...   \n",
       "22390  You can have diversity or you can have strengt...   \n",
       "22718  Ever notice how literally all over-seas protes...   \n",
       "\n",
       "                                                  labels  topics  \\\n",
       "index                                                              \n",
       "262                               [white/black - racism]       0   \n",
       "443                                    [islam, farright]       1   \n",
       "470                                              [islam]       1   \n",
       "731                                  [jew - antisemtism]       9   \n",
       "1065                                             [other]       7   \n",
       "...                                                  ...     ...   \n",
       "21752                                            [women]       2   \n",
       "21823  [communism - against bankers , against state  ...       3   \n",
       "22079                                            [other]      -1   \n",
       "22390                                       [homophobia]       0   \n",
       "22718                                            [other]      -1   \n",
       "\n",
       "                                                   clean  \n",
       "index                                                     \n",
       "262    write wall white race slat genocide hyperbole ...  \n",
       "443    one good thing french police never hesitate fi...  \n",
       "470    muslim ever respect religious teacher religion...  \n",
       "731    warn communist weaponize fake asian hate crime...  \n",
       "1065   panic kitchen rebel restaurateur deprive aid b...  \n",
       "...                                                  ...  \n",
       "21752           think possible man produce much estrogen  \n",
       "21823  new regime go force mass obey send people disa...  \n",
       "22079  appal homeless queue food last night soup kitc...  \n",
       "22390           diversity strength army choose diversity  \n",
       "22718  ever notice literally sea protest medium like ...  \n",
       "\n",
       "[125 rows x 4 columns]"
      ]
     },
     "execution_count": 49,
     "metadata": {},
     "output_type": "execute_result"
    }
   ],
   "source": [
    "labeled_tweets"
   ]
  },
  {
   "cell_type": "code",
   "execution_count": 50,
   "id": "9da01b97",
   "metadata": {},
   "outputs": [],
   "source": [
    "labeled_tweets['topics'] = labeled_tweets['topics'].apply(lambda x: my_topics[x])"
   ]
  },
  {
   "cell_type": "code",
   "execution_count": 51,
   "id": "8fc831fa",
   "metadata": {},
   "outputs": [
    {
     "data": {
      "text/html": [
       "<div>\n",
       "<style scoped>\n",
       "    .dataframe tbody tr th:only-of-type {\n",
       "        vertical-align: middle;\n",
       "    }\n",
       "\n",
       "    .dataframe tbody tr th {\n",
       "        vertical-align: top;\n",
       "    }\n",
       "\n",
       "    .dataframe thead th {\n",
       "        text-align: right;\n",
       "    }\n",
       "</style>\n",
       "<table border=\"1\" class=\"dataframe\">\n",
       "  <thead>\n",
       "    <tr style=\"text-align: right;\">\n",
       "      <th></th>\n",
       "      <th>translated</th>\n",
       "      <th>labels</th>\n",
       "      <th>topics</th>\n",
       "      <th>clean</th>\n",
       "    </tr>\n",
       "    <tr>\n",
       "      <th>index</th>\n",
       "      <th></th>\n",
       "      <th></th>\n",
       "      <th></th>\n",
       "      <th></th>\n",
       "    </tr>\n",
       "  </thead>\n",
       "  <tbody>\n",
       "    <tr>\n",
       "      <th>262</th>\n",
       "      <td>The writing is on the wall. The White race is ...</td>\n",
       "      <td>[white/black - racism]</td>\n",
       "      <td>[white/black - racism]</td>\n",
       "      <td>write wall white race slat genocide hyperbole ...</td>\n",
       "    </tr>\n",
       "    <tr>\n",
       "      <th>443</th>\n",
       "      <td>One good thing about French police, they never...</td>\n",
       "      <td>[islam, farright]</td>\n",
       "      <td>[immigration, islam]</td>\n",
       "      <td>one good thing french police never hesitate fi...</td>\n",
       "    </tr>\n",
       "    <tr>\n",
       "      <th>470</th>\n",
       "      <td>No Muslim ever respects a religious teacher of...</td>\n",
       "      <td>[islam]</td>\n",
       "      <td>[immigration, islam]</td>\n",
       "      <td>muslim ever respect religious teacher religion...</td>\n",
       "    </tr>\n",
       "    <tr>\n",
       "      <th>731</th>\n",
       "      <td>WARNING: Communists Weaponize Fake Asian Hate ...</td>\n",
       "      <td>[jew - antisemtism]</td>\n",
       "      <td>[communism - against bankers, against state or...</td>\n",
       "      <td>warn communist weaponize fake asian hate crime...</td>\n",
       "    </tr>\n",
       "    <tr>\n",
       "      <th>1065</th>\n",
       "      <td>Panic in the kitchen: rebel restaurateurs depr...</td>\n",
       "      <td>[other]</td>\n",
       "      <td>[Alain Soral, farright]</td>\n",
       "      <td>panic kitchen rebel restaurateur deprive aid b...</td>\n",
       "    </tr>\n",
       "    <tr>\n",
       "      <th>...</th>\n",
       "      <td>...</td>\n",
       "      <td>...</td>\n",
       "      <td>...</td>\n",
       "      <td>...</td>\n",
       "    </tr>\n",
       "    <tr>\n",
       "      <th>21752</th>\n",
       "      <td>I didn't think it was possible for a man to pr...</td>\n",
       "      <td>[women]</td>\n",
       "      <td>[american elections, farright]</td>\n",
       "      <td>think possible man produce much estrogen</td>\n",
       "    </tr>\n",
       "    <tr>\n",
       "      <th>21823</th>\n",
       "      <td>This is how the new regime is going to force t...</td>\n",
       "      <td>[communism - against bankers , against state  ...</td>\n",
       "      <td>[India - Pakistan]</td>\n",
       "      <td>new regime go force mass obey send people disa...</td>\n",
       "    </tr>\n",
       "    <tr>\n",
       "      <th>22079</th>\n",
       "      <td>Appalling •   homeless queuing for food last n...</td>\n",
       "      <td>[other]</td>\n",
       "      <td>[other]</td>\n",
       "      <td>appal homeless queue food last night soup kitc...</td>\n",
       "    </tr>\n",
       "    <tr>\n",
       "      <th>22390</th>\n",
       "      <td>You can have diversity or you can have strengt...</td>\n",
       "      <td>[homophobia]</td>\n",
       "      <td>[white/black - racism]</td>\n",
       "      <td>diversity strength army choose diversity</td>\n",
       "    </tr>\n",
       "    <tr>\n",
       "      <th>22718</th>\n",
       "      <td>Ever notice how literally all over-seas protes...</td>\n",
       "      <td>[other]</td>\n",
       "      <td>[other]</td>\n",
       "      <td>ever notice literally sea protest medium like ...</td>\n",
       "    </tr>\n",
       "  </tbody>\n",
       "</table>\n",
       "<p>125 rows × 4 columns</p>\n",
       "</div>"
      ],
      "text/plain": [
       "                                              translated  \\\n",
       "index                                                      \n",
       "262    The writing is on the wall. The White race is ...   \n",
       "443    One good thing about French police, they never...   \n",
       "470    No Muslim ever respects a religious teacher of...   \n",
       "731    WARNING: Communists Weaponize Fake Asian Hate ...   \n",
       "1065   Panic in the kitchen: rebel restaurateurs depr...   \n",
       "...                                                  ...   \n",
       "21752  I didn't think it was possible for a man to pr...   \n",
       "21823  This is how the new regime is going to force t...   \n",
       "22079  Appalling •   homeless queuing for food last n...   \n",
       "22390  You can have diversity or you can have strengt...   \n",
       "22718  Ever notice how literally all over-seas protes...   \n",
       "\n",
       "                                                  labels  \\\n",
       "index                                                      \n",
       "262                               [white/black - racism]   \n",
       "443                                    [islam, farright]   \n",
       "470                                              [islam]   \n",
       "731                                  [jew - antisemtism]   \n",
       "1065                                             [other]   \n",
       "...                                                  ...   \n",
       "21752                                            [women]   \n",
       "21823  [communism - against bankers , against state  ...   \n",
       "22079                                            [other]   \n",
       "22390                                       [homophobia]   \n",
       "22718                                            [other]   \n",
       "\n",
       "                                                  topics  \\\n",
       "index                                                      \n",
       "262                               [white/black - racism]   \n",
       "443                                 [immigration, islam]   \n",
       "470                                 [immigration, islam]   \n",
       "731    [communism - against bankers, against state or...   \n",
       "1065                             [Alain Soral, farright]   \n",
       "...                                                  ...   \n",
       "21752                     [american elections, farright]   \n",
       "21823                                 [India - Pakistan]   \n",
       "22079                                            [other]   \n",
       "22390                             [white/black - racism]   \n",
       "22718                                            [other]   \n",
       "\n",
       "                                                   clean  \n",
       "index                                                     \n",
       "262    write wall white race slat genocide hyperbole ...  \n",
       "443    one good thing french police never hesitate fi...  \n",
       "470    muslim ever respect religious teacher religion...  \n",
       "731    warn communist weaponize fake asian hate crime...  \n",
       "1065   panic kitchen rebel restaurateur deprive aid b...  \n",
       "...                                                  ...  \n",
       "21752           think possible man produce much estrogen  \n",
       "21823  new regime go force mass obey send people disa...  \n",
       "22079  appal homeless queue food last night soup kitc...  \n",
       "22390           diversity strength army choose diversity  \n",
       "22718  ever notice literally sea protest medium like ...  \n",
       "\n",
       "[125 rows x 4 columns]"
      ]
     },
     "execution_count": 51,
     "metadata": {},
     "output_type": "execute_result"
    }
   ],
   "source": [
    "labeled_tweets"
   ]
  },
  {
   "cell_type": "code",
   "execution_count": 52,
   "id": "0f3f13f4",
   "metadata": {},
   "outputs": [
    {
     "data": {
      "text/plain": [
       "0.456"
      ]
     },
     "execution_count": 52,
     "metadata": {},
     "output_type": "execute_result"
    }
   ],
   "source": [
    "get_score(labeled_tweets)"
   ]
  },
  {
   "cell_type": "markdown",
   "id": "f9fbcc3a",
   "metadata": {},
   "source": [
    "## Metric"
   ]
  },
  {
   "cell_type": "code",
   "execution_count": 53,
   "id": "828f0395",
   "metadata": {},
   "outputs": [],
   "source": [
    "import gensim.corpora as corpora\n",
    "from gensim.models.coherencemodel import CoherenceModel"
   ]
  },
  {
   "cell_type": "code",
   "execution_count": 71,
   "id": "7038f2b2",
   "metadata": {},
   "outputs": [],
   "source": [
    "# Preprocess Documents\n",
    "documents = pd.DataFrame({\"Document\": tweets,\n",
    "                          \"ID\": range(len(tweets)),\n",
    "                          \"Topic\": topics})\n",
    "documents_per_topic = documents.groupby(['Topic'], as_index=False).agg({'Document': ' '.join})\n",
    "cleaned_docs = model._preprocess_text(documents_per_topic.Document.values)"
   ]
  },
  {
   "cell_type": "code",
   "execution_count": 59,
   "id": "3afee2b4",
   "metadata": {},
   "outputs": [],
   "source": [
    "# Extract vectorizer and analyzer from BERTopic\n",
    "vectorizer = model.vectorizer_model\n",
    "analyzer = vectorizer.build_analyzer()"
   ]
  },
  {
   "cell_type": "code",
   "execution_count": 61,
   "id": "8c5f08db",
   "metadata": {},
   "outputs": [],
   "source": [
    "# Extract features for Topic Coherence evaluation\n",
    "words = vectorizer.get_feature_names()\n",
    "tokens = [analyzer(doc) for doc in cleaned_docs]\n",
    "dictionary = corpora.Dictionary(tokens)\n",
    "corpus = [dictionary.doc2bow(token) for token in tokens]\n",
    "topic_words = [[words for words, _ in model.get_topic(topic)] \n",
    "               for topic in range(len(set(topics))-1)]"
   ]
  },
  {
   "cell_type": "code",
   "execution_count": 64,
   "id": "bea060a3",
   "metadata": {},
   "outputs": [],
   "source": [
    "# Evaluate\n",
    "coherence_model = CoherenceModel(topics=topic_words, \n",
    "                                 texts=tokens, \n",
    "                                 corpus=corpus,\n",
    "                                 dictionary=dictionary, \n",
    "                                 coherence='u_mass')\n",
    "coherence = coherence_model.get_coherence()"
   ]
  },
  {
   "cell_type": "code",
   "execution_count": 65,
   "id": "1962b16e",
   "metadata": {},
   "outputs": [
    {
     "data": {
      "text/plain": [
       "-0.43320278277544444"
      ]
     },
     "execution_count": 65,
     "metadata": {},
     "output_type": "execute_result"
    }
   ],
   "source": [
    "coherence"
   ]
  },
  {
   "cell_type": "code",
   "execution_count": null,
   "id": "39da315f",
   "metadata": {},
   "outputs": [],
   "source": []
  }
 ],
 "metadata": {
  "kernelspec": {
   "display_name": "Python 3 (ipykernel)",
   "language": "python",
   "name": "python3"
  },
  "language_info": {
   "codemirror_mode": {
    "name": "ipython",
    "version": 3
   },
   "file_extension": ".py",
   "mimetype": "text/x-python",
   "name": "python",
   "nbconvert_exporter": "python",
   "pygments_lexer": "ipython3",
   "version": "3.8.13"
  }
 },
 "nbformat": 4,
 "nbformat_minor": 5
}
