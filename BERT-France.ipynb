{
 "cells": [
  {
   "cell_type": "code",
   "execution_count": 85,
   "id": "841408ef",
   "metadata": {},
   "outputs": [
    {
     "name": "stdout",
     "output_type": "stream",
     "text": [
      "The autoreload extension is already loaded. To reload it, use:\n",
      "  %reload_ext autoreload\n"
     ]
    }
   ],
   "source": [
    "import pandas as pd\n",
    "from nltk.corpus import stopwords\n",
    "from sentence_transformers import SentenceTransformer\n",
    "\n",
    "from bertopic import BERTopic\n",
    "from sklearn.feature_extraction.text import CountVectorizer\n",
    "from hdbscan import HDBSCAN\n",
    "from umap import UMAP\n",
    "\n",
    "from pre_processing import *\n",
    "from helpers import *\n",
    "\n",
    "%load_ext autoreload\n",
    "%autoreload 2"
   ]
  },
  {
   "cell_type": "code",
   "execution_count": 2,
   "id": "73b464a7",
   "metadata": {},
   "outputs": [],
   "source": [
    "# Load data\n",
    "df = pd.read_csv('data/to_be_clustered.csv.gz', compression=\"gzip\")\n",
    "\n",
    "# array that can save the models\n",
    "saved_models = []"
   ]
  },
  {
   "cell_type": "code",
   "execution_count": 3,
   "id": "697aa981",
   "metadata": {},
   "outputs": [],
   "source": [
    "import pickle\n",
    "def save_model(model, params, message = \"\"):\n",
    "    saved_models.append((model, params, message))\n",
    "    \n",
    "def write_good_params():\n",
    "    pickle.dump(saved_models, open( \"data/saved_models/save_models_for_\"+country+\".pkl\", \"wb\" ))\n",
    "    \n",
    "def get_model(params, additional_stop_words =  []) :\n",
    "    embedding_model = SentenceTransformer(\"all-mpnet-base-v2\") #'digio/Twitter4SSE'\n",
    "    s = list(stopwords.words('english'))\n",
    "    vectorizer_model = CountVectorizer(stop_words=s)\n",
    "    \n",
    "    umap_model = UMAP(n_neighbors = params['UMAP']['n_neighbors'], \n",
    "                  n_components = params['UMAP']['n_components'], \n",
    "                  min_dist = params['UMAP']['min_dist'], \n",
    "                  metric = params['UMAP']['metric'], \n",
    "                  low_memory = params['UMAP']['low_memory'], \n",
    "                  random_state = params['UMAP']['random_state'])\n",
    "\n",
    "    hdbscan_model = HDBSCAN(min_cluster_size = params['HDBSCAN']['min_cluster_size'],\n",
    "                       min_samples = params['HDBSCAN']['min_samples'],\n",
    "                       cluster_selection_epsilon = params['HDBSCAN']['cluster_selection_epsilon'],\n",
    "                       metric = params['HDBSCAN']['metric'],                      \n",
    "                       cluster_selection_method = params['HDBSCAN']['cluster_selection_method'],\n",
    "                       prediction_data = params['HDBSCAN']['prediction_data'])\n",
    "\n",
    "    model = BERTopic(\n",
    "        umap_model = umap_model,\n",
    "        vectorizer_model=vectorizer_model,\n",
    "        hdbscan_model = hdbscan_model,\n",
    "        embedding_model=embedding_model,\n",
    "        language='english', calculate_probabilities=False,\n",
    "        verbose=True\n",
    "    )\n",
    "    return model"
   ]
  },
  {
   "cell_type": "markdown",
   "id": "7c2b7b73",
   "metadata": {},
   "source": [
    "## Chose the country"
   ]
  },
  {
   "cell_type": "code",
   "execution_count": 4,
   "id": "841d07a1",
   "metadata": {},
   "outputs": [],
   "source": [
    "country = 'France'"
   ]
  },
  {
   "cell_type": "markdown",
   "id": "0be33a93",
   "metadata": {},
   "source": [
    "## Set parameters"
   ]
  },
  {
   "cell_type": "code",
   "execution_count": 151,
   "id": "bca23a5a",
   "metadata": {},
   "outputs": [],
   "source": [
    "## Best params until now but cannot catch coronavirus\n",
    "params = {\n",
    "    'UMAP' : {\n",
    "        'metric' : 'cosine', \n",
    "        'n_neighbors' : 15, \n",
    "        'n_components' : 20, \n",
    "        'min_dist' : 0.3, \n",
    "        'low_memory' : False,\n",
    "        'random_state': 8\n",
    "    },\n",
    "    'HDBSCAN': {\n",
    "        'min_cluster_size':15,\n",
    "        'min_samples': 1,\n",
    "        'cluster_selection_epsilon': 0.6,\n",
    "        'metric': 'euclidean',                      \n",
    "        'cluster_selection_method': 'eom',\n",
    "        'prediction_data': True}\n",
    "}"
   ]
  },
  {
   "cell_type": "markdown",
   "id": "5052636e",
   "metadata": {},
   "source": [
    "## Load Model"
   ]
  },
  {
   "cell_type": "code",
   "execution_count": 152,
   "id": "f4f39e16",
   "metadata": {},
   "outputs": [],
   "source": [
    "df = df[df.whcs == country]\n",
    "df.drop(df[df.clean.isna()].index,inplace =True)\n",
    "tweets = df.clean.to_list()\n",
    "model = get_model(params, additional_stop_words= ['lol','true', 'amp'])"
   ]
  },
  {
   "cell_type": "code",
   "execution_count": 153,
   "id": "a13b76ce",
   "metadata": {},
   "outputs": [
    {
     "data": {
      "application/vnd.jupyter.widget-view+json": {
       "model_id": "c89d800338384a67a81f0c40aa331091",
       "version_major": 2,
       "version_minor": 0
      },
      "text/plain": [
       "Batches:   0%|          | 0/29 [00:00<?, ?it/s]"
      ]
     },
     "metadata": {},
     "output_type": "display_data"
    },
    {
     "name": "stderr",
     "output_type": "stream",
     "text": [
      "2022-12-15 14:57:08,409 - BERTopic - Transformed documents to Embeddings\n",
      "2022-12-15 14:57:22,298 - BERTopic - Reduced dimensionality\n",
      "2022-12-15 14:57:22,598 - BERTopic - Clustered reduced embeddings\n"
     ]
    }
   ],
   "source": [
    "topics, probs = model.fit_transform(tweets)"
   ]
  },
  {
   "cell_type": "code",
   "execution_count": 142,
   "id": "8cab8d2c",
   "metadata": {},
   "outputs": [],
   "source": [
    "df['topics'] = topics\n",
    "my_topcis = ['white/black - racism', 'islam - terrorism', 'coronavirus - vaccination', \n",
    "          'american elections', 'India - Pakistan', 'jew - antisemtism', 'farright - anti communism'\n",
    "          'tweeter acccounts', 'fantasy sex play', 'Alain Soral', 'immigration', 'homophobia']"
   ]
  },
  {
   "cell_type": "code",
   "execution_count": 94,
   "id": "3395e615",
   "metadata": {},
   "outputs": [
    {
     "data": {
      "application/vnd.plotly.v1+json": {
       "config": {
        "plotlyServerURL": "https://plot.ly"
       },
       "data": [
        {
         "coloraxis": "coloraxis",
         "hovertemplate": "x: %{x}<br>y: %{y}<br>Similarity Score: %{z}<extra></extra>",
         "name": "0",
         "type": "heatmap",
         "x": [
          "0_white_people_black",
          "1_muslim_biden_migrant",
          "2_trump_cpac_democrat",
          "3_india_hindu_pakistan",
          "4_jew_anti_say",
          "5_twitter_follower_many",
          "6_play_sit_fantasy",
          "7_soral_alain_answer",
          "8_reset_great_cleaning",
          "9_communism_socialism_hitler"
         ],
         "xaxis": "x",
         "y": [
          "0_white_people_black",
          "1_muslim_biden_migrant",
          "2_trump_cpac_democrat",
          "3_india_hindu_pakistan",
          "4_jew_anti_say",
          "5_twitter_follower_many",
          "6_play_sit_fantasy",
          "7_soral_alain_answer",
          "8_reset_great_cleaning",
          "9_communism_socialism_hitler"
         ],
         "yaxis": "y",
         "z": [
          [
           0.9999999999999997,
           0.6510027527525742,
           0.7485927601497613,
           0.7044732601697764,
           0.5943753749198666,
           0.6254431828762625,
           0.6988520699318961,
           0.605353297088513,
           0.598660385382522,
           0.6631098543419987
          ],
          [
           0.6510027527525742,
           0.9999999999999998,
           0.64330060027382,
           0.5656919563415758,
           0.463981955319951,
           0.7450847840290199,
           0.560031221464257,
           0.493716878693219,
           0.492322388004082,
           0.5444018862701804
          ],
          [
           0.7485927601497613,
           0.64330060027382,
           1,
           0.7254623041601138,
           0.6708832814127033,
           0.7035065034566286,
           0.6387926667123999,
           0.514936631712922,
           0.610455823119318,
           0.6030493827682728
          ],
          [
           0.7044732601697764,
           0.5656919563415758,
           0.7254623041601138,
           1.0000000000000002,
           0.5842801224464816,
           0.5755211086303392,
           0.6493478864584602,
           0.5236565196038201,
           0.5383709449379671,
           0.6236468103944173
          ],
          [
           0.5943753749198666,
           0.463981955319951,
           0.6708832814127033,
           0.5842801224464816,
           1.0000000000000004,
           0.5164748038630417,
           0.553879558875473,
           0.43945556996600565,
           0.5318788081971438,
           0.4869384288941785
          ],
          [
           0.6254431828762625,
           0.7450847840290199,
           0.7035065034566286,
           0.5755211086303392,
           0.5164748038630417,
           0.9999999999999996,
           0.5633875767531843,
           0.4644046724052188,
           0.547364107733218,
           0.4787257752149341
          ],
          [
           0.6988520699318961,
           0.560031221464257,
           0.6387926667123999,
           0.6493478864584602,
           0.553879558875473,
           0.5633875767531843,
           1.0000000000000002,
           0.58996751603646,
           0.6004111757645184,
           0.6045096037459382
          ],
          [
           0.605353297088513,
           0.493716878693219,
           0.514936631712922,
           0.5236565196038201,
           0.43945556996600565,
           0.4644046724052188,
           0.58996751603646,
           1.0000000000000007,
           0.5489850413085305,
           0.5636903686217394
          ],
          [
           0.598660385382522,
           0.492322388004082,
           0.610455823119318,
           0.5383709449379671,
           0.5318788081971438,
           0.547364107733218,
           0.6004111757645184,
           0.5489850413085305,
           0.9999999999999991,
           0.5940904158530803
          ],
          [
           0.6631098543419987,
           0.5444018862701804,
           0.6030493827682728,
           0.6236468103944173,
           0.4869384288941785,
           0.4787257752149341,
           0.6045096037459382,
           0.5636903686217394,
           0.5940904158530803,
           1
          ]
         ]
        }
       ],
       "layout": {
        "coloraxis": {
         "colorbar": {
          "title": {
           "text": "Similarity Score"
          }
         },
         "colorscale": [
          [
           0,
           "rgb(247,252,240)"
          ],
          [
           0.125,
           "rgb(224,243,219)"
          ],
          [
           0.25,
           "rgb(204,235,197)"
          ],
          [
           0.375,
           "rgb(168,221,181)"
          ],
          [
           0.5,
           "rgb(123,204,196)"
          ],
          [
           0.625,
           "rgb(78,179,211)"
          ],
          [
           0.75,
           "rgb(43,140,190)"
          ],
          [
           0.875,
           "rgb(8,104,172)"
          ],
          [
           1,
           "rgb(8,64,129)"
          ]
         ]
        },
        "height": 800,
        "hoverlabel": {
         "bgcolor": "white",
         "font": {
          "family": "Rockwell",
          "size": 16
         }
        },
        "legend": {
         "title": {
          "text": "Trend"
         }
        },
        "margin": {
         "t": 60
        },
        "showlegend": true,
        "template": {
         "data": {
          "bar": [
           {
            "error_x": {
             "color": "#2a3f5f"
            },
            "error_y": {
             "color": "#2a3f5f"
            },
            "marker": {
             "line": {
              "color": "#E5ECF6",
              "width": 0.5
             },
             "pattern": {
              "fillmode": "overlay",
              "size": 10,
              "solidity": 0.2
             }
            },
            "type": "bar"
           }
          ],
          "barpolar": [
           {
            "marker": {
             "line": {
              "color": "#E5ECF6",
              "width": 0.5
             },
             "pattern": {
              "fillmode": "overlay",
              "size": 10,
              "solidity": 0.2
             }
            },
            "type": "barpolar"
           }
          ],
          "carpet": [
           {
            "aaxis": {
             "endlinecolor": "#2a3f5f",
             "gridcolor": "white",
             "linecolor": "white",
             "minorgridcolor": "white",
             "startlinecolor": "#2a3f5f"
            },
            "baxis": {
             "endlinecolor": "#2a3f5f",
             "gridcolor": "white",
             "linecolor": "white",
             "minorgridcolor": "white",
             "startlinecolor": "#2a3f5f"
            },
            "type": "carpet"
           }
          ],
          "choropleth": [
           {
            "colorbar": {
             "outlinewidth": 0,
             "ticks": ""
            },
            "type": "choropleth"
           }
          ],
          "contour": [
           {
            "colorbar": {
             "outlinewidth": 0,
             "ticks": ""
            },
            "colorscale": [
             [
              0,
              "#0d0887"
             ],
             [
              0.1111111111111111,
              "#46039f"
             ],
             [
              0.2222222222222222,
              "#7201a8"
             ],
             [
              0.3333333333333333,
              "#9c179e"
             ],
             [
              0.4444444444444444,
              "#bd3786"
             ],
             [
              0.5555555555555556,
              "#d8576b"
             ],
             [
              0.6666666666666666,
              "#ed7953"
             ],
             [
              0.7777777777777778,
              "#fb9f3a"
             ],
             [
              0.8888888888888888,
              "#fdca26"
             ],
             [
              1,
              "#f0f921"
             ]
            ],
            "type": "contour"
           }
          ],
          "contourcarpet": [
           {
            "colorbar": {
             "outlinewidth": 0,
             "ticks": ""
            },
            "type": "contourcarpet"
           }
          ],
          "heatmap": [
           {
            "colorbar": {
             "outlinewidth": 0,
             "ticks": ""
            },
            "colorscale": [
             [
              0,
              "#0d0887"
             ],
             [
              0.1111111111111111,
              "#46039f"
             ],
             [
              0.2222222222222222,
              "#7201a8"
             ],
             [
              0.3333333333333333,
              "#9c179e"
             ],
             [
              0.4444444444444444,
              "#bd3786"
             ],
             [
              0.5555555555555556,
              "#d8576b"
             ],
             [
              0.6666666666666666,
              "#ed7953"
             ],
             [
              0.7777777777777778,
              "#fb9f3a"
             ],
             [
              0.8888888888888888,
              "#fdca26"
             ],
             [
              1,
              "#f0f921"
             ]
            ],
            "type": "heatmap"
           }
          ],
          "heatmapgl": [
           {
            "colorbar": {
             "outlinewidth": 0,
             "ticks": ""
            },
            "colorscale": [
             [
              0,
              "#0d0887"
             ],
             [
              0.1111111111111111,
              "#46039f"
             ],
             [
              0.2222222222222222,
              "#7201a8"
             ],
             [
              0.3333333333333333,
              "#9c179e"
             ],
             [
              0.4444444444444444,
              "#bd3786"
             ],
             [
              0.5555555555555556,
              "#d8576b"
             ],
             [
              0.6666666666666666,
              "#ed7953"
             ],
             [
              0.7777777777777778,
              "#fb9f3a"
             ],
             [
              0.8888888888888888,
              "#fdca26"
             ],
             [
              1,
              "#f0f921"
             ]
            ],
            "type": "heatmapgl"
           }
          ],
          "histogram": [
           {
            "marker": {
             "pattern": {
              "fillmode": "overlay",
              "size": 10,
              "solidity": 0.2
             }
            },
            "type": "histogram"
           }
          ],
          "histogram2d": [
           {
            "colorbar": {
             "outlinewidth": 0,
             "ticks": ""
            },
            "colorscale": [
             [
              0,
              "#0d0887"
             ],
             [
              0.1111111111111111,
              "#46039f"
             ],
             [
              0.2222222222222222,
              "#7201a8"
             ],
             [
              0.3333333333333333,
              "#9c179e"
             ],
             [
              0.4444444444444444,
              "#bd3786"
             ],
             [
              0.5555555555555556,
              "#d8576b"
             ],
             [
              0.6666666666666666,
              "#ed7953"
             ],
             [
              0.7777777777777778,
              "#fb9f3a"
             ],
             [
              0.8888888888888888,
              "#fdca26"
             ],
             [
              1,
              "#f0f921"
             ]
            ],
            "type": "histogram2d"
           }
          ],
          "histogram2dcontour": [
           {
            "colorbar": {
             "outlinewidth": 0,
             "ticks": ""
            },
            "colorscale": [
             [
              0,
              "#0d0887"
             ],
             [
              0.1111111111111111,
              "#46039f"
             ],
             [
              0.2222222222222222,
              "#7201a8"
             ],
             [
              0.3333333333333333,
              "#9c179e"
             ],
             [
              0.4444444444444444,
              "#bd3786"
             ],
             [
              0.5555555555555556,
              "#d8576b"
             ],
             [
              0.6666666666666666,
              "#ed7953"
             ],
             [
              0.7777777777777778,
              "#fb9f3a"
             ],
             [
              0.8888888888888888,
              "#fdca26"
             ],
             [
              1,
              "#f0f921"
             ]
            ],
            "type": "histogram2dcontour"
           }
          ],
          "mesh3d": [
           {
            "colorbar": {
             "outlinewidth": 0,
             "ticks": ""
            },
            "type": "mesh3d"
           }
          ],
          "parcoords": [
           {
            "line": {
             "colorbar": {
              "outlinewidth": 0,
              "ticks": ""
             }
            },
            "type": "parcoords"
           }
          ],
          "pie": [
           {
            "automargin": true,
            "type": "pie"
           }
          ],
          "scatter": [
           {
            "fillpattern": {
             "fillmode": "overlay",
             "size": 10,
             "solidity": 0.2
            },
            "type": "scatter"
           }
          ],
          "scatter3d": [
           {
            "line": {
             "colorbar": {
              "outlinewidth": 0,
              "ticks": ""
             }
            },
            "marker": {
             "colorbar": {
              "outlinewidth": 0,
              "ticks": ""
             }
            },
            "type": "scatter3d"
           }
          ],
          "scattercarpet": [
           {
            "marker": {
             "colorbar": {
              "outlinewidth": 0,
              "ticks": ""
             }
            },
            "type": "scattercarpet"
           }
          ],
          "scattergeo": [
           {
            "marker": {
             "colorbar": {
              "outlinewidth": 0,
              "ticks": ""
             }
            },
            "type": "scattergeo"
           }
          ],
          "scattergl": [
           {
            "marker": {
             "colorbar": {
              "outlinewidth": 0,
              "ticks": ""
             }
            },
            "type": "scattergl"
           }
          ],
          "scattermapbox": [
           {
            "marker": {
             "colorbar": {
              "outlinewidth": 0,
              "ticks": ""
             }
            },
            "type": "scattermapbox"
           }
          ],
          "scatterpolar": [
           {
            "marker": {
             "colorbar": {
              "outlinewidth": 0,
              "ticks": ""
             }
            },
            "type": "scatterpolar"
           }
          ],
          "scatterpolargl": [
           {
            "marker": {
             "colorbar": {
              "outlinewidth": 0,
              "ticks": ""
             }
            },
            "type": "scatterpolargl"
           }
          ],
          "scatterternary": [
           {
            "marker": {
             "colorbar": {
              "outlinewidth": 0,
              "ticks": ""
             }
            },
            "type": "scatterternary"
           }
          ],
          "surface": [
           {
            "colorbar": {
             "outlinewidth": 0,
             "ticks": ""
            },
            "colorscale": [
             [
              0,
              "#0d0887"
             ],
             [
              0.1111111111111111,
              "#46039f"
             ],
             [
              0.2222222222222222,
              "#7201a8"
             ],
             [
              0.3333333333333333,
              "#9c179e"
             ],
             [
              0.4444444444444444,
              "#bd3786"
             ],
             [
              0.5555555555555556,
              "#d8576b"
             ],
             [
              0.6666666666666666,
              "#ed7953"
             ],
             [
              0.7777777777777778,
              "#fb9f3a"
             ],
             [
              0.8888888888888888,
              "#fdca26"
             ],
             [
              1,
              "#f0f921"
             ]
            ],
            "type": "surface"
           }
          ],
          "table": [
           {
            "cells": {
             "fill": {
              "color": "#EBF0F8"
             },
             "line": {
              "color": "white"
             }
            },
            "header": {
             "fill": {
              "color": "#C8D4E3"
             },
             "line": {
              "color": "white"
             }
            },
            "type": "table"
           }
          ]
         },
         "layout": {
          "annotationdefaults": {
           "arrowcolor": "#2a3f5f",
           "arrowhead": 0,
           "arrowwidth": 1
          },
          "autotypenumbers": "strict",
          "coloraxis": {
           "colorbar": {
            "outlinewidth": 0,
            "ticks": ""
           }
          },
          "colorscale": {
           "diverging": [
            [
             0,
             "#8e0152"
            ],
            [
             0.1,
             "#c51b7d"
            ],
            [
             0.2,
             "#de77ae"
            ],
            [
             0.3,
             "#f1b6da"
            ],
            [
             0.4,
             "#fde0ef"
            ],
            [
             0.5,
             "#f7f7f7"
            ],
            [
             0.6,
             "#e6f5d0"
            ],
            [
             0.7,
             "#b8e186"
            ],
            [
             0.8,
             "#7fbc41"
            ],
            [
             0.9,
             "#4d9221"
            ],
            [
             1,
             "#276419"
            ]
           ],
           "sequential": [
            [
             0,
             "#0d0887"
            ],
            [
             0.1111111111111111,
             "#46039f"
            ],
            [
             0.2222222222222222,
             "#7201a8"
            ],
            [
             0.3333333333333333,
             "#9c179e"
            ],
            [
             0.4444444444444444,
             "#bd3786"
            ],
            [
             0.5555555555555556,
             "#d8576b"
            ],
            [
             0.6666666666666666,
             "#ed7953"
            ],
            [
             0.7777777777777778,
             "#fb9f3a"
            ],
            [
             0.8888888888888888,
             "#fdca26"
            ],
            [
             1,
             "#f0f921"
            ]
           ],
           "sequentialminus": [
            [
             0,
             "#0d0887"
            ],
            [
             0.1111111111111111,
             "#46039f"
            ],
            [
             0.2222222222222222,
             "#7201a8"
            ],
            [
             0.3333333333333333,
             "#9c179e"
            ],
            [
             0.4444444444444444,
             "#bd3786"
            ],
            [
             0.5555555555555556,
             "#d8576b"
            ],
            [
             0.6666666666666666,
             "#ed7953"
            ],
            [
             0.7777777777777778,
             "#fb9f3a"
            ],
            [
             0.8888888888888888,
             "#fdca26"
            ],
            [
             1,
             "#f0f921"
            ]
           ]
          },
          "colorway": [
           "#636efa",
           "#EF553B",
           "#00cc96",
           "#ab63fa",
           "#FFA15A",
           "#19d3f3",
           "#FF6692",
           "#B6E880",
           "#FF97FF",
           "#FECB52"
          ],
          "font": {
           "color": "#2a3f5f"
          },
          "geo": {
           "bgcolor": "white",
           "lakecolor": "white",
           "landcolor": "#E5ECF6",
           "showlakes": true,
           "showland": true,
           "subunitcolor": "white"
          },
          "hoverlabel": {
           "align": "left"
          },
          "hovermode": "closest",
          "mapbox": {
           "style": "light"
          },
          "paper_bgcolor": "white",
          "plot_bgcolor": "#E5ECF6",
          "polar": {
           "angularaxis": {
            "gridcolor": "white",
            "linecolor": "white",
            "ticks": ""
           },
           "bgcolor": "#E5ECF6",
           "radialaxis": {
            "gridcolor": "white",
            "linecolor": "white",
            "ticks": ""
           }
          },
          "scene": {
           "xaxis": {
            "backgroundcolor": "#E5ECF6",
            "gridcolor": "white",
            "gridwidth": 2,
            "linecolor": "white",
            "showbackground": true,
            "ticks": "",
            "zerolinecolor": "white"
           },
           "yaxis": {
            "backgroundcolor": "#E5ECF6",
            "gridcolor": "white",
            "gridwidth": 2,
            "linecolor": "white",
            "showbackground": true,
            "ticks": "",
            "zerolinecolor": "white"
           },
           "zaxis": {
            "backgroundcolor": "#E5ECF6",
            "gridcolor": "white",
            "gridwidth": 2,
            "linecolor": "white",
            "showbackground": true,
            "ticks": "",
            "zerolinecolor": "white"
           }
          },
          "shapedefaults": {
           "line": {
            "color": "#2a3f5f"
           }
          },
          "ternary": {
           "aaxis": {
            "gridcolor": "white",
            "linecolor": "white",
            "ticks": ""
           },
           "baxis": {
            "gridcolor": "white",
            "linecolor": "white",
            "ticks": ""
           },
           "bgcolor": "#E5ECF6",
           "caxis": {
            "gridcolor": "white",
            "linecolor": "white",
            "ticks": ""
           }
          },
          "title": {
           "x": 0.05
          },
          "xaxis": {
           "automargin": true,
           "gridcolor": "white",
           "linecolor": "white",
           "ticks": "",
           "title": {
            "standoff": 15
           },
           "zerolinecolor": "white",
           "zerolinewidth": 2
          },
          "yaxis": {
           "automargin": true,
           "gridcolor": "white",
           "linecolor": "white",
           "ticks": "",
           "title": {
            "standoff": 15
           },
           "zerolinecolor": "white",
           "zerolinewidth": 2
          }
         }
        },
        "title": {
         "font": {
          "color": "Black",
          "size": 22
         },
         "text": "<b>Similarity Matrix",
         "x": 0.55,
         "xanchor": "center",
         "y": 0.95,
         "yanchor": "top"
        },
        "width": 800,
        "xaxis": {
         "anchor": "y",
         "constrain": "domain",
         "domain": [
          0,
          1
         ],
         "scaleanchor": "y"
        },
        "yaxis": {
         "anchor": "x",
         "autorange": "reversed",
         "constrain": "domain",
         "domain": [
          0,
          1
         ]
        }
       }
      },
      "text/html": [
       "<div>                            <div id=\"4bf8e865-91a4-45ae-a3fc-915184048024\" class=\"plotly-graph-div\" style=\"height:800px; width:800px;\"></div>            <script type=\"text/javascript\">                require([\"plotly\"], function(Plotly) {                    window.PLOTLYENV=window.PLOTLYENV || {};                                    if (document.getElementById(\"4bf8e865-91a4-45ae-a3fc-915184048024\")) {                    Plotly.newPlot(                        \"4bf8e865-91a4-45ae-a3fc-915184048024\",                        [{\"coloraxis\":\"coloraxis\",\"name\":\"0\",\"x\":[\"0_white_people_black\",\"1_muslim_biden_migrant\",\"2_trump_cpac_democrat\",\"3_india_hindu_pakistan\",\"4_jew_anti_say\",\"5_twitter_follower_many\",\"6_play_sit_fantasy\",\"7_soral_alain_answer\",\"8_reset_great_cleaning\",\"9_communism_socialism_hitler\"],\"y\":[\"0_white_people_black\",\"1_muslim_biden_migrant\",\"2_trump_cpac_democrat\",\"3_india_hindu_pakistan\",\"4_jew_anti_say\",\"5_twitter_follower_many\",\"6_play_sit_fantasy\",\"7_soral_alain_answer\",\"8_reset_great_cleaning\",\"9_communism_socialism_hitler\"],\"z\":[[0.9999999999999997,0.6510027527525742,0.7485927601497613,0.7044732601697764,0.5943753749198666,0.6254431828762625,0.6988520699318961,0.605353297088513,0.598660385382522,0.6631098543419987],[0.6510027527525742,0.9999999999999998,0.64330060027382,0.5656919563415758,0.463981955319951,0.7450847840290199,0.560031221464257,0.493716878693219,0.492322388004082,0.5444018862701804],[0.7485927601497613,0.64330060027382,1.0,0.7254623041601138,0.6708832814127033,0.7035065034566286,0.6387926667123999,0.514936631712922,0.610455823119318,0.6030493827682728],[0.7044732601697764,0.5656919563415758,0.7254623041601138,1.0000000000000002,0.5842801224464816,0.5755211086303392,0.6493478864584602,0.5236565196038201,0.5383709449379671,0.6236468103944173],[0.5943753749198666,0.463981955319951,0.6708832814127033,0.5842801224464816,1.0000000000000004,0.5164748038630417,0.553879558875473,0.43945556996600565,0.5318788081971438,0.4869384288941785],[0.6254431828762625,0.7450847840290199,0.7035065034566286,0.5755211086303392,0.5164748038630417,0.9999999999999996,0.5633875767531843,0.4644046724052188,0.547364107733218,0.4787257752149341],[0.6988520699318961,0.560031221464257,0.6387926667123999,0.6493478864584602,0.553879558875473,0.5633875767531843,1.0000000000000002,0.58996751603646,0.6004111757645184,0.6045096037459382],[0.605353297088513,0.493716878693219,0.514936631712922,0.5236565196038201,0.43945556996600565,0.4644046724052188,0.58996751603646,1.0000000000000007,0.5489850413085305,0.5636903686217394],[0.598660385382522,0.492322388004082,0.610455823119318,0.5383709449379671,0.5318788081971438,0.547364107733218,0.6004111757645184,0.5489850413085305,0.9999999999999991,0.5940904158530803],[0.6631098543419987,0.5444018862701804,0.6030493827682728,0.6236468103944173,0.4869384288941785,0.4787257752149341,0.6045096037459382,0.5636903686217394,0.5940904158530803,1.0]],\"type\":\"heatmap\",\"xaxis\":\"x\",\"yaxis\":\"y\",\"hovertemplate\":\"x: %{x}<br>y: %{y}<br>Similarity Score: %{z}<extra></extra>\"}],                        {\"template\":{\"data\":{\"histogram2dcontour\":[{\"type\":\"histogram2dcontour\",\"colorbar\":{\"outlinewidth\":0,\"ticks\":\"\"},\"colorscale\":[[0.0,\"#0d0887\"],[0.1111111111111111,\"#46039f\"],[0.2222222222222222,\"#7201a8\"],[0.3333333333333333,\"#9c179e\"],[0.4444444444444444,\"#bd3786\"],[0.5555555555555556,\"#d8576b\"],[0.6666666666666666,\"#ed7953\"],[0.7777777777777778,\"#fb9f3a\"],[0.8888888888888888,\"#fdca26\"],[1.0,\"#f0f921\"]]}],\"choropleth\":[{\"type\":\"choropleth\",\"colorbar\":{\"outlinewidth\":0,\"ticks\":\"\"}}],\"histogram2d\":[{\"type\":\"histogram2d\",\"colorbar\":{\"outlinewidth\":0,\"ticks\":\"\"},\"colorscale\":[[0.0,\"#0d0887\"],[0.1111111111111111,\"#46039f\"],[0.2222222222222222,\"#7201a8\"],[0.3333333333333333,\"#9c179e\"],[0.4444444444444444,\"#bd3786\"],[0.5555555555555556,\"#d8576b\"],[0.6666666666666666,\"#ed7953\"],[0.7777777777777778,\"#fb9f3a\"],[0.8888888888888888,\"#fdca26\"],[1.0,\"#f0f921\"]]}],\"heatmap\":[{\"type\":\"heatmap\",\"colorbar\":{\"outlinewidth\":0,\"ticks\":\"\"},\"colorscale\":[[0.0,\"#0d0887\"],[0.1111111111111111,\"#46039f\"],[0.2222222222222222,\"#7201a8\"],[0.3333333333333333,\"#9c179e\"],[0.4444444444444444,\"#bd3786\"],[0.5555555555555556,\"#d8576b\"],[0.6666666666666666,\"#ed7953\"],[0.7777777777777778,\"#fb9f3a\"],[0.8888888888888888,\"#fdca26\"],[1.0,\"#f0f921\"]]}],\"heatmapgl\":[{\"type\":\"heatmapgl\",\"colorbar\":{\"outlinewidth\":0,\"ticks\":\"\"},\"colorscale\":[[0.0,\"#0d0887\"],[0.1111111111111111,\"#46039f\"],[0.2222222222222222,\"#7201a8\"],[0.3333333333333333,\"#9c179e\"],[0.4444444444444444,\"#bd3786\"],[0.5555555555555556,\"#d8576b\"],[0.6666666666666666,\"#ed7953\"],[0.7777777777777778,\"#fb9f3a\"],[0.8888888888888888,\"#fdca26\"],[1.0,\"#f0f921\"]]}],\"contourcarpet\":[{\"type\":\"contourcarpet\",\"colorbar\":{\"outlinewidth\":0,\"ticks\":\"\"}}],\"contour\":[{\"type\":\"contour\",\"colorbar\":{\"outlinewidth\":0,\"ticks\":\"\"},\"colorscale\":[[0.0,\"#0d0887\"],[0.1111111111111111,\"#46039f\"],[0.2222222222222222,\"#7201a8\"],[0.3333333333333333,\"#9c179e\"],[0.4444444444444444,\"#bd3786\"],[0.5555555555555556,\"#d8576b\"],[0.6666666666666666,\"#ed7953\"],[0.7777777777777778,\"#fb9f3a\"],[0.8888888888888888,\"#fdca26\"],[1.0,\"#f0f921\"]]}],\"surface\":[{\"type\":\"surface\",\"colorbar\":{\"outlinewidth\":0,\"ticks\":\"\"},\"colorscale\":[[0.0,\"#0d0887\"],[0.1111111111111111,\"#46039f\"],[0.2222222222222222,\"#7201a8\"],[0.3333333333333333,\"#9c179e\"],[0.4444444444444444,\"#bd3786\"],[0.5555555555555556,\"#d8576b\"],[0.6666666666666666,\"#ed7953\"],[0.7777777777777778,\"#fb9f3a\"],[0.8888888888888888,\"#fdca26\"],[1.0,\"#f0f921\"]]}],\"mesh3d\":[{\"type\":\"mesh3d\",\"colorbar\":{\"outlinewidth\":0,\"ticks\":\"\"}}],\"scatter\":[{\"fillpattern\":{\"fillmode\":\"overlay\",\"size\":10,\"solidity\":0.2},\"type\":\"scatter\"}],\"parcoords\":[{\"type\":\"parcoords\",\"line\":{\"colorbar\":{\"outlinewidth\":0,\"ticks\":\"\"}}}],\"scatterpolargl\":[{\"type\":\"scatterpolargl\",\"marker\":{\"colorbar\":{\"outlinewidth\":0,\"ticks\":\"\"}}}],\"bar\":[{\"error_x\":{\"color\":\"#2a3f5f\"},\"error_y\":{\"color\":\"#2a3f5f\"},\"marker\":{\"line\":{\"color\":\"#E5ECF6\",\"width\":0.5},\"pattern\":{\"fillmode\":\"overlay\",\"size\":10,\"solidity\":0.2}},\"type\":\"bar\"}],\"scattergeo\":[{\"type\":\"scattergeo\",\"marker\":{\"colorbar\":{\"outlinewidth\":0,\"ticks\":\"\"}}}],\"scatterpolar\":[{\"type\":\"scatterpolar\",\"marker\":{\"colorbar\":{\"outlinewidth\":0,\"ticks\":\"\"}}}],\"histogram\":[{\"marker\":{\"pattern\":{\"fillmode\":\"overlay\",\"size\":10,\"solidity\":0.2}},\"type\":\"histogram\"}],\"scattergl\":[{\"type\":\"scattergl\",\"marker\":{\"colorbar\":{\"outlinewidth\":0,\"ticks\":\"\"}}}],\"scatter3d\":[{\"type\":\"scatter3d\",\"line\":{\"colorbar\":{\"outlinewidth\":0,\"ticks\":\"\"}},\"marker\":{\"colorbar\":{\"outlinewidth\":0,\"ticks\":\"\"}}}],\"scattermapbox\":[{\"type\":\"scattermapbox\",\"marker\":{\"colorbar\":{\"outlinewidth\":0,\"ticks\":\"\"}}}],\"scatterternary\":[{\"type\":\"scatterternary\",\"marker\":{\"colorbar\":{\"outlinewidth\":0,\"ticks\":\"\"}}}],\"scattercarpet\":[{\"type\":\"scattercarpet\",\"marker\":{\"colorbar\":{\"outlinewidth\":0,\"ticks\":\"\"}}}],\"carpet\":[{\"aaxis\":{\"endlinecolor\":\"#2a3f5f\",\"gridcolor\":\"white\",\"linecolor\":\"white\",\"minorgridcolor\":\"white\",\"startlinecolor\":\"#2a3f5f\"},\"baxis\":{\"endlinecolor\":\"#2a3f5f\",\"gridcolor\":\"white\",\"linecolor\":\"white\",\"minorgridcolor\":\"white\",\"startlinecolor\":\"#2a3f5f\"},\"type\":\"carpet\"}],\"table\":[{\"cells\":{\"fill\":{\"color\":\"#EBF0F8\"},\"line\":{\"color\":\"white\"}},\"header\":{\"fill\":{\"color\":\"#C8D4E3\"},\"line\":{\"color\":\"white\"}},\"type\":\"table\"}],\"barpolar\":[{\"marker\":{\"line\":{\"color\":\"#E5ECF6\",\"width\":0.5},\"pattern\":{\"fillmode\":\"overlay\",\"size\":10,\"solidity\":0.2}},\"type\":\"barpolar\"}],\"pie\":[{\"automargin\":true,\"type\":\"pie\"}]},\"layout\":{\"autotypenumbers\":\"strict\",\"colorway\":[\"#636efa\",\"#EF553B\",\"#00cc96\",\"#ab63fa\",\"#FFA15A\",\"#19d3f3\",\"#FF6692\",\"#B6E880\",\"#FF97FF\",\"#FECB52\"],\"font\":{\"color\":\"#2a3f5f\"},\"hovermode\":\"closest\",\"hoverlabel\":{\"align\":\"left\"},\"paper_bgcolor\":\"white\",\"plot_bgcolor\":\"#E5ECF6\",\"polar\":{\"bgcolor\":\"#E5ECF6\",\"angularaxis\":{\"gridcolor\":\"white\",\"linecolor\":\"white\",\"ticks\":\"\"},\"radialaxis\":{\"gridcolor\":\"white\",\"linecolor\":\"white\",\"ticks\":\"\"}},\"ternary\":{\"bgcolor\":\"#E5ECF6\",\"aaxis\":{\"gridcolor\":\"white\",\"linecolor\":\"white\",\"ticks\":\"\"},\"baxis\":{\"gridcolor\":\"white\",\"linecolor\":\"white\",\"ticks\":\"\"},\"caxis\":{\"gridcolor\":\"white\",\"linecolor\":\"white\",\"ticks\":\"\"}},\"coloraxis\":{\"colorbar\":{\"outlinewidth\":0,\"ticks\":\"\"}},\"colorscale\":{\"sequential\":[[0.0,\"#0d0887\"],[0.1111111111111111,\"#46039f\"],[0.2222222222222222,\"#7201a8\"],[0.3333333333333333,\"#9c179e\"],[0.4444444444444444,\"#bd3786\"],[0.5555555555555556,\"#d8576b\"],[0.6666666666666666,\"#ed7953\"],[0.7777777777777778,\"#fb9f3a\"],[0.8888888888888888,\"#fdca26\"],[1.0,\"#f0f921\"]],\"sequentialminus\":[[0.0,\"#0d0887\"],[0.1111111111111111,\"#46039f\"],[0.2222222222222222,\"#7201a8\"],[0.3333333333333333,\"#9c179e\"],[0.4444444444444444,\"#bd3786\"],[0.5555555555555556,\"#d8576b\"],[0.6666666666666666,\"#ed7953\"],[0.7777777777777778,\"#fb9f3a\"],[0.8888888888888888,\"#fdca26\"],[1.0,\"#f0f921\"]],\"diverging\":[[0,\"#8e0152\"],[0.1,\"#c51b7d\"],[0.2,\"#de77ae\"],[0.3,\"#f1b6da\"],[0.4,\"#fde0ef\"],[0.5,\"#f7f7f7\"],[0.6,\"#e6f5d0\"],[0.7,\"#b8e186\"],[0.8,\"#7fbc41\"],[0.9,\"#4d9221\"],[1,\"#276419\"]]},\"xaxis\":{\"gridcolor\":\"white\",\"linecolor\":\"white\",\"ticks\":\"\",\"title\":{\"standoff\":15},\"zerolinecolor\":\"white\",\"automargin\":true,\"zerolinewidth\":2},\"yaxis\":{\"gridcolor\":\"white\",\"linecolor\":\"white\",\"ticks\":\"\",\"title\":{\"standoff\":15},\"zerolinecolor\":\"white\",\"automargin\":true,\"zerolinewidth\":2},\"scene\":{\"xaxis\":{\"backgroundcolor\":\"#E5ECF6\",\"gridcolor\":\"white\",\"linecolor\":\"white\",\"showbackground\":true,\"ticks\":\"\",\"zerolinecolor\":\"white\",\"gridwidth\":2},\"yaxis\":{\"backgroundcolor\":\"#E5ECF6\",\"gridcolor\":\"white\",\"linecolor\":\"white\",\"showbackground\":true,\"ticks\":\"\",\"zerolinecolor\":\"white\",\"gridwidth\":2},\"zaxis\":{\"backgroundcolor\":\"#E5ECF6\",\"gridcolor\":\"white\",\"linecolor\":\"white\",\"showbackground\":true,\"ticks\":\"\",\"zerolinecolor\":\"white\",\"gridwidth\":2}},\"shapedefaults\":{\"line\":{\"color\":\"#2a3f5f\"}},\"annotationdefaults\":{\"arrowcolor\":\"#2a3f5f\",\"arrowhead\":0,\"arrowwidth\":1},\"geo\":{\"bgcolor\":\"white\",\"landcolor\":\"#E5ECF6\",\"subunitcolor\":\"white\",\"showland\":true,\"showlakes\":true,\"lakecolor\":\"white\"},\"title\":{\"x\":0.05},\"mapbox\":{\"style\":\"light\"}}},\"xaxis\":{\"anchor\":\"y\",\"domain\":[0.0,1.0],\"scaleanchor\":\"y\",\"constrain\":\"domain\"},\"yaxis\":{\"anchor\":\"x\",\"domain\":[0.0,1.0],\"autorange\":\"reversed\",\"constrain\":\"domain\"},\"coloraxis\":{\"colorbar\":{\"title\":{\"text\":\"Similarity Score\"}},\"colorscale\":[[0.0,\"rgb(247,252,240)\"],[0.125,\"rgb(224,243,219)\"],[0.25,\"rgb(204,235,197)\"],[0.375,\"rgb(168,221,181)\"],[0.5,\"rgb(123,204,196)\"],[0.625,\"rgb(78,179,211)\"],[0.75,\"rgb(43,140,190)\"],[0.875,\"rgb(8,104,172)\"],[1.0,\"rgb(8,64,129)\"]]},\"margin\":{\"t\":60},\"title\":{\"font\":{\"size\":22,\"color\":\"Black\"},\"text\":\"<b>Similarity Matrix\",\"y\":0.95,\"x\":0.55,\"xanchor\":\"center\",\"yanchor\":\"top\"},\"hoverlabel\":{\"font\":{\"size\":16,\"family\":\"Rockwell\"},\"bgcolor\":\"white\"},\"width\":800,\"height\":800,\"showlegend\":true,\"legend\":{\"title\":{\"text\":\"Trend\"}}},                        {\"responsive\": true}                    ).then(function(){\n",
       "                            \n",
       "var gd = document.getElementById('4bf8e865-91a4-45ae-a3fc-915184048024');\n",
       "var x = new MutationObserver(function (mutations, observer) {{\n",
       "        var display = window.getComputedStyle(gd).display;\n",
       "        if (!display || display === 'none') {{\n",
       "            console.log([gd, 'removed!']);\n",
       "            Plotly.purge(gd);\n",
       "            observer.disconnect();\n",
       "        }}\n",
       "}});\n",
       "\n",
       "// Listen for the removal of the full notebook cells\n",
       "var notebookContainer = gd.closest('#notebook-container');\n",
       "if (notebookContainer) {{\n",
       "    x.observe(notebookContainer, {childList: true});\n",
       "}}\n",
       "\n",
       "// Listen for the clearing of the current output cell\n",
       "var outputEl = gd.closest('.output');\n",
       "if (outputEl) {{\n",
       "    x.observe(outputEl, {childList: true});\n",
       "}}\n",
       "\n",
       "                        })                };                });            </script>        </div>"
      ]
     },
     "metadata": {},
     "output_type": "display_data"
    }
   ],
   "source": [
    "model.visualize_heatmap()"
   ]
  },
  {
   "cell_type": "code",
   "execution_count": 53,
   "id": "e4507ce6",
   "metadata": {},
   "outputs": [
    {
     "data": {
      "text/html": [
       "<div>\n",
       "<style scoped>\n",
       "    .dataframe tbody tr th:only-of-type {\n",
       "        vertical-align: middle;\n",
       "    }\n",
       "\n",
       "    .dataframe tbody tr th {\n",
       "        vertical-align: top;\n",
       "    }\n",
       "\n",
       "    .dataframe thead th {\n",
       "        text-align: right;\n",
       "    }\n",
       "</style>\n",
       "<table border=\"1\" class=\"dataframe\">\n",
       "  <thead>\n",
       "    <tr style=\"text-align: right;\">\n",
       "      <th></th>\n",
       "      <th>Topic</th>\n",
       "      <th>Count</th>\n",
       "      <th>Name</th>\n",
       "    </tr>\n",
       "  </thead>\n",
       "  <tbody>\n",
       "    <tr>\n",
       "      <th>0</th>\n",
       "      <td>-1</td>\n",
       "      <td>207</td>\n",
       "      <td>-1_people_want_america_amp</td>\n",
       "    </tr>\n",
       "    <tr>\n",
       "      <th>1</th>\n",
       "      <td>0</td>\n",
       "      <td>292</td>\n",
       "      <td>0_white_people_black_nigga</td>\n",
       "    </tr>\n",
       "    <tr>\n",
       "      <th>2</th>\n",
       "      <td>1</td>\n",
       "      <td>166</td>\n",
       "      <td>1_muslim_biden_migrant_amp</td>\n",
       "    </tr>\n",
       "    <tr>\n",
       "      <th>3</th>\n",
       "      <td>2</td>\n",
       "      <td>61</td>\n",
       "      <td>2_trump_cpac_democrat_president</td>\n",
       "    </tr>\n",
       "    <tr>\n",
       "      <th>4</th>\n",
       "      <td>3</td>\n",
       "      <td>42</td>\n",
       "      <td>3_india_hindu_pakistan_modi</td>\n",
       "    </tr>\n",
       "    <tr>\n",
       "      <th>5</th>\n",
       "      <td>4</td>\n",
       "      <td>31</td>\n",
       "      <td>4_jew_anti_say_semitism</td>\n",
       "    </tr>\n",
       "    <tr>\n",
       "      <th>6</th>\n",
       "      <td>5</td>\n",
       "      <td>24</td>\n",
       "      <td>5_twitter_follower_many_account</td>\n",
       "    </tr>\n",
       "    <tr>\n",
       "      <th>7</th>\n",
       "      <td>6</td>\n",
       "      <td>22</td>\n",
       "      <td>6_play_sit_fantasy_day</td>\n",
       "    </tr>\n",
       "    <tr>\n",
       "      <th>8</th>\n",
       "      <td>7</td>\n",
       "      <td>22</td>\n",
       "      <td>7_soral_alain_answer_episode</td>\n",
       "    </tr>\n",
       "    <tr>\n",
       "      <th>9</th>\n",
       "      <td>8</td>\n",
       "      <td>17</td>\n",
       "      <td>8_reset_great_cleaning_lockdown</td>\n",
       "    </tr>\n",
       "    <tr>\n",
       "      <th>10</th>\n",
       "      <td>9</td>\n",
       "      <td>16</td>\n",
       "      <td>9_communism_socialism_hitler_national</td>\n",
       "    </tr>\n",
       "  </tbody>\n",
       "</table>\n",
       "</div>"
      ],
      "text/plain": [
       "    Topic  Count                                   Name\n",
       "0      -1    207             -1_people_want_america_amp\n",
       "1       0    292             0_white_people_black_nigga\n",
       "2       1    166             1_muslim_biden_migrant_amp\n",
       "3       2     61        2_trump_cpac_democrat_president\n",
       "4       3     42            3_india_hindu_pakistan_modi\n",
       "5       4     31                4_jew_anti_say_semitism\n",
       "6       5     24        5_twitter_follower_many_account\n",
       "7       6     22                 6_play_sit_fantasy_day\n",
       "8       7     22           7_soral_alain_answer_episode\n",
       "9       8     17        8_reset_great_cleaning_lockdown\n",
       "10      9     16  9_communism_socialism_hitler_national"
      ]
     },
     "execution_count": 53,
     "metadata": {},
     "output_type": "execute_result"
    }
   ],
   "source": [
    "model.get_topic_info()"
   ]
  },
  {
   "cell_type": "code",
   "execution_count": 95,
   "id": "f921536e",
   "metadata": {},
   "outputs": [
    {
     "data": {
      "text/plain": [
       "{-1: [('people', 0.0257345512272812),\n",
       "  ('want', 0.02268441495277331),\n",
       "  ('america', 0.020353168646884186),\n",
       "  ('amp', 0.018462523593228673),\n",
       "  ('government', 0.018085438793691132),\n",
       "  ('go', 0.018014771074271855),\n",
       "  ('get', 0.01772035416938935),\n",
       "  ('attack', 0.01728125529290298),\n",
       "  ('mr', 0.01704868360727458),\n",
       "  ('gun', 0.01704868360727458)],\n",
       " 0: [('white', 0.10759500818477581),\n",
       "  ('people', 0.0608939013094943),\n",
       "  ('black', 0.045279520246625744),\n",
       "  ('nigga', 0.02265284131853321),\n",
       "  ('really', 0.02217414391669522),\n",
       "  ('racist', 0.021522313686534057),\n",
       "  ('like', 0.021062578982979217),\n",
       "  ('literally', 0.02019067271439289),\n",
       "  ('racism', 0.02019067271439289),\n",
       "  ('say', 0.020124231220722554)],\n",
       " 1: [('muslim', 0.04873762386510598),\n",
       "  ('biden', 0.040642116458368856),\n",
       "  ('migrant', 0.03408951517120118),\n",
       "  ('amp', 0.03147826659974266),\n",
       "  ('islamic', 0.026575855012353437),\n",
       "  ('attack', 0.025714233297801214),\n",
       "  ('border', 0.025446362967878725),\n",
       "  ('germany', 0.025446362967878725),\n",
       "  ('break', 0.02503812361844553),\n",
       "  ('sweden', 0.024795335839482003)],\n",
       " 2: [('trump', 0.10645930645588678),\n",
       "  ('cpac', 0.09143156528621049),\n",
       "  ('democrat', 0.05224660873497743),\n",
       "  ('president', 0.047443627126088114),\n",
       "  ('georgia', 0.04457726998104972),\n",
       "  ('one', 0.04134844394851569),\n",
       "  ('party', 0.040665966108075526),\n",
       "  ('show', 0.039184956551233066),\n",
       "  ('ballot', 0.03419968856395281),\n",
       "  ('watch', 0.033888305090062944)],\n",
       " 3: [('india', 0.07994721311448985),\n",
       "  ('hindu', 0.05915082492765125),\n",
       "  ('pakistan', 0.049408491242981224),\n",
       "  ('modi', 0.047320659942121),\n",
       "  ('friend', 0.04561701948177379),\n",
       "  ('shri', 0.03907779578254289),\n",
       "  ('delhi', 0.03907779578254289),\n",
       "  ('year', 0.037374004780013806),\n",
       "  ('ji', 0.03705636843223593),\n",
       "  ('let', 0.03542381893917227)],\n",
       " 4: [('jew', 0.23020977202098847),\n",
       "  ('anti', 0.1276149472400287),\n",
       "  ('say', 0.12675019825309933),\n",
       "  ('semitism', 0.10423243698792399),\n",
       "  ('zionism', 0.07526383074647679),\n",
       "  ('semitic', 0.07526383074647679),\n",
       "  ('white', 0.07426575465515681),\n",
       "  ('story', 0.06540129932703592),\n",
       "  ('people', 0.06219459928864217),\n",
       "  ('holocaust', 0.059527108270898674)],\n",
       " 5: [('twitter', 0.15112921368895893),\n",
       "  ('follower', 0.13823456448668958),\n",
       "  ('many', 0.13271347333749062),\n",
       "  ('account', 0.11275856208191239),\n",
       "  ('lose', 0.0718963775219945),\n",
       "  ('channel', 0.06817730122813968),\n",
       "  ('view', 0.06817730122813968),\n",
       "  ('thousand', 0.06529636517987476),\n",
       "  ('write', 0.057730678234169316),\n",
       "  ('year', 0.05500935768486881)],\n",
       " 6: [('play', 0.5883740759932072),\n",
       "  ('sit', 0.10607448665572199),\n",
       "  ('fantasy', 0.10607448665572199),\n",
       "  ('day', 0.06371877618438074),\n",
       "  ('accordion', 0.05921430158388955),\n",
       "  ('train', 0.05921430158388955),\n",
       "  ('wagner', 0.05921430158388955),\n",
       "  ('wolter', 0.05921430158388955),\n",
       "  ('ro', 0.05921430158388955),\n",
       "  ('viva', 0.05921430158388955)],\n",
       " 7: [('soral', 0.2599523736618938),\n",
       "  ('alain', 0.19675305265508117),\n",
       "  ('answer', 0.12042682919402052),\n",
       "  ('episode', 0.09032012189551539),\n",
       "  ('de', 0.08194743643222914),\n",
       "  ('le', 0.07798571209856814),\n",
       "  ('jus', 0.07113977548168182),\n",
       "  ('aid', 0.07113977548168182),\n",
       "  ('restaurateur', 0.07113977548168182),\n",
       "  ('fr', 0.07113977548168182)],\n",
       " 8: [('reset', 0.2217621583356483),\n",
       "  ('great', 0.20745248296070376),\n",
       "  ('cleaning', 0.13077215124079314),\n",
       "  ('lockdown', 0.10775765263135643),\n",
       "  ('climate', 0.09354600397984932),\n",
       "  ('spring', 0.09354600397984932),\n",
       "  ('reimburse', 0.09354600397984932),\n",
       "  ('episode', 0.07917826958819459),\n",
       "  ('old', 0.07632769007777111),\n",
       "  ('part', 0.0700041295122998)],\n",
       " 9: [('communism', 0.21062666534229843),\n",
       "  ('socialism', 0.1611480807323832),\n",
       "  ('hitler', 0.1462096355147678),\n",
       "  ('national', 0.11131293949111862),\n",
       "  ('anyone', 0.10108279096115927),\n",
       "  ('look', 0.07711398500787534),\n",
       "  ('historically', 0.076156041701544),\n",
       "  ('hysteria', 0.076156041701544),\n",
       "  ('dyed', 0.076156041701544),\n",
       "  ('blonde', 0.076156041701544)]}"
      ]
     },
     "execution_count": 95,
     "metadata": {},
     "output_type": "execute_result"
    }
   ],
   "source": [
    "model.get_topics()"
   ]
  },
  {
   "cell_type": "code",
   "execution_count": 54,
   "id": "6713ee64",
   "metadata": {},
   "outputs": [
    {
     "data": {
      "text/plain": [
       "([9, 1, -1, 4, 2],\n",
       " [0.6151157263833544,\n",
       "  0.5927522283217049,\n",
       "  0.5463597892060382,\n",
       "  0.5299337499163588,\n",
       "  0.4659209593942061])"
      ]
     },
     "execution_count": 54,
     "metadata": {},
     "output_type": "execute_result"
    }
   ],
   "source": [
    "model.find_topics(\"terrorism\")"
   ]
  },
  {
   "cell_type": "code",
   "execution_count": 23,
   "id": "d0f7101b",
   "metadata": {},
   "outputs": [
    {
     "data": {
      "application/vnd.plotly.v1+json": {
       "config": {
        "plotlyServerURL": "https://plot.ly"
       },
       "data": [
        {
         "hoverinfo": "text",
         "hovertext": [
          "whole event always control western country roll social credit system like comm",
          "fuck petty go year old man weak pathetic creature",
          "richard berry admits violent catherine hiegel jeane manson",
          "new gab post east west divide read way",
          "two tower hand signal hmm",
          "find ancient statue like sober experience excite one statue represent",
          "yes even ruin small humble little farm state like wisconsin live people incom",
          "basically back foreign war shipping american job sea",
          "still percent hungry live india constantly gini coefficient rise data present poverty al",
          "case understand politics work day age wrong opponent",
          "today first day zero degree entire hour",
          "satanism free rule everyday living mondaymotivation freedom sound monday blo",
          "everything come existence creates opposite light darkness heat cold life death matter anti",
          "make farm economically viable sustainable enterprise small farmer india need carefully listen",
          "seriously bad news government move piece place carry illegal act",
          "warn communist weaponize fake asian hate crime narrative plot march th u protest party liberation socialis",
          "conquer illegal minor brought dallas male age",
          "sister",
          "seethe harder parasite freak",
          "muslim natural ally race sourc",
          "whine tv artist lend voice family victim",
          "want live around u want live around mutually peacefully separate",
          "flashback democrat whitewash jihad pulse nightclub islamic terror attack amp blame gun instead left u jihad attack",
          "daily reminder george soros bill gate one let see keep distract pacify",
          "julian assange release bail",
          "people want walk car well illusion remain anyway good morning thursday thought",
          "attack u military eleven soldier fort bliss texas injured drinking antifreeze believe dr",
          "leader proud boy former informant case human traffic narcotic",
          "good pornography toxic legally allow exist",
          "well guy entire continent call sure would great deal easy get",
          "time people put position power influence base ability base merit",
          "nobody owes fuck thing",
          "favor report guy try dox",
          "manage",
          "anyone knowingly allows baby poison toxic metal like deserves death penalty serio",
          "happy palm sunday amp begin week change world may walk close jesus death amp",
          "black dude see white guy get shot death response shit like see creature want",
          "warn conservative dangerous new antifa doxxing group beware deplatform hate left wing deplatform hate lat",
          "downfall america sum single image",
          "kind interest timing soros myanmar",
          "struggle real god nowhere bible say worry stress amp",
          "yes trump praise amaze international supporter thank supporter america stand",
          "help dad attack antifa attack break arm brave dad campaign canada give child drug change",
          "remember current era become naturally manufacture slowly generation",
          "terrorist come terrorist come",
          "never go solve world problem spread lie hitler germany outlaw firearm ownership",
          "clearly target harassment veil threat violence",
          "buzyn amp co judged crime humanity want new nuremberg",
          "call domestic terrorism see call terrorism ground political affiliat",
          "timeline evidence lazy choice",
          "crack smoking hunter biden cry racism deflect swedish sex scandal hunter smear come swedish authorit",
          "ficed rothschild return face face reality hysterical assa traor",
          "accusatory inversion modus operandi",
          "great talk common challenge opportunity u congress always bastion su",
          "america strange fetish reward idiocy need order become rich famous even get",
          "appal homeless queue food last night soup kitchen freeze condition ten year toryism",
          "isolated act bullying result illegitimate government flood white country",
          "current swallower",
          "pulse farmer need price support edible oil",
          "possibly scam divert funding community could possibly scam get",
          "day say something sign point israel manufacturing war america china ru",
          "warn parent virginia meet atif qarni secretary education appoint va governor northam qarni born",
          "firearm registration always lead firearm confiscation always without exception need contact",
          "much bad everything try pretend trump",
          "vote ossoff would need remain vote win",
          "insane insane dangerous rhetoric use justify vicious attack innocent whi",
          "freedom gift beyond estimate give god nation perseverance courage consistency",
          "time school place child could learn safety thanks importation di",
          "way bad apartheid state terrorist state terrorizes surround country",
          "right give british journalism coverage brexit covid",
          "although one neutral today time everyone inclination towards mine also neutral",
          "governor denounce democrat run twitter allows left attack jewish sile",
          "fact politician scream gun control trace back george soros gun control",
          "get ready lady gentleman criminal illegitimate government go wag open war p",
          "left preaches unity heal carry violence denounce violent",
          "everything david hogg reinforces belief one allow vote engage political discours",
          "turn violent criminal care gun illegal carry",
          "muslim mayor london fire new year eve firework display feature black life matter marxist clenched",
          "boris johnson mr crisis mr liar mr clueless mr corrupt mr racist mr money grabber mr public heal",
          "tik tok innocent social network indian redneck year old quiet fun",
          "dead boris johnson say everything could political epitaph indolent prime minister",
          "cosmetic industry perfumery trade also see existence danger open letter appeal",
          "china amp iran control biden commie amp islamic supremacist long history unite destroy common enemy",
          "anyone know ratio jew ce major american corporation",
          "leftist never held accountable vicious public threat violence keep make trump",
          "play celine dion leave without eurovision grand prix",
          "capitol wrap barbed wire look like capitol socialist country america",
          "none organic happen naturally manufacture",
          "equality liberal construct",
          "right style commission investigate blm antifa riot torched city su",
          "must watch arizona parent fight back school board communist anti racism initiative child indoctrin",
          "archive footage jeane manson sings child god pedophile sect via",
          "america laughingstock",
          "mine christine",
          "berry case jeane manson accuse member pedophile sect coline berry via",
          "big bank corporation funding inversion normal healthy society question big bank",
          "thank advertising",
          "parliament need time",
          "thank australia israel chamber commerce infrastructure showcase great event discus many opportuni",
          "go take people stand shame everyone stood watch",
          "always little shit think smarter elder inevitably end shit",
          "fiery mostly peaceful prize",
          "gt little girl also kinky someone explain part campaign normalize idea",
          "three sea rescue ng accuse complicity criminal smuggler",
          "tell russia never cucked j",
          "say",
          "queer activist hit woman come shout revolt system prostitution ra",
          "assange never gaol expose war crime u government always mystifies",
          "shill foreign domestic enemy",
          "end attack natural order era insanity become universal new age religion",
          "firstly thousand people hundred nice gaslighting sky news usual secondly cop",
          "safely enjoy stroll around mall anymore virtually every mall go",
          "illustrate little government care people nothing",
          "threatens violence manager video say hope others find beat tri",
          "teach child follow god world teach",
          "new gab post burn coal pay toll meme",
          "yes true leftist lot common nazi",
          "enrichment ireland mob african migrant black life matter communist try attack bus full irish people",
          "hat white people era late great pop culture cool fashion trend",
          "whole road map thing psy ops lockdown end people amp business simply realise power amp n",
          "even know could shoot mile wow seriousness idiot like allow",
          "baaaaaaaaaaaaa",
          "still believe live free country",
          "encourage people call attitude like attitude could get arrest sentence",
          "world live world people celebrate turn family member mob",
          "nothing civil politics anymore politics war either accept prepare accordingly",
          "arrest people fraudulently get child college however even investigate official fraudulent",
          "israel still forefront dictatorship",
          "man reaps sow lago puelo neighbor receive alberto badly must end run away",
          "patriot fight back san diego gym owner sue state amp county official tyrannical lockdown measure wa",
          "main stream medium work international banker international banker fully human hurt u",
          "country need endless warfare behalf israel get ta make world safe god chosen",
          "censorship laughable pathetic scar conservative",
          "ammo hoarder make sure buy enough magazine load ammo boxed amm",
          "want know exactly many firearm exactly many round ammunition",
          "level security require wef aka enemy life annual meeting tell u",
          "one legally obligate hire people foreign country law tell hire citizen f",
          "put account protect mode",
          "video perfectly illustrates rapid decline quality living u america bust je",
          "government surround fence arm military guard planning unspeakably ho",
          "accusation incest richard berry marilou berry support cousin coline",
          "want drive neighborhood let driven away gegendemo af",
          "shame wrongly announce julian assange release bail instead issue correction chan",
          "left protects domestic terrorist whereas right abandon",
          "wrong incite intense dislike religion activity teach religion outrageous ir",
          "brittany huge slut",
          "detest people every part medium idiot support imagine guy n h ei r si de nobod",
          "people celebrate genocide social medium platform allow yet told live wh",
          "expose left wing agitator like greta thunberg sacrifice farmer feed global hatred modi thunberg may puppet",
          "didnt happen would b funny",
          "see biden openly celebrate white people go extinct america decade really care",
          "barack obama blame boulder islamic attack disaffection racism misogyny call gun control mean",
          "friend waffen veteran wiking division swore cold ext",
          "hesitate worn bottom people see inside let go colorful",
          "dark circle know sign",
          "never want equality always secretly want revenge",
          "people think boris johnson resign prime minister think continue office accord",
          "ever notice literally sea protest medium like hype sign write english",
          "yeah stock market hello",
          "hey general heard retire general major ig investigation involve army hid",
          "sayer die",
          "keep weed clean crop care farmer brother weed sister mia khalifa",
          "best left wing joke day islamic terrorist shoot someone gun fault make stu",
          "rail go work",
          "terror canada nye amir abdulrahman amp al azan shah muhammad drag police sgt andrew harnett death enrichers",
          "get ready people government move",
          "nikol pashinyan prime minister armenia confesses occupation percent shusha populati",
          "know go use eternal justification rob freedom right",
          "wave illegal alien clearly fund believe really bought shirt th",
          "allahu akbar allahu akbar allahu akbar last word cockpit flight",
          "brexit disaster volume export go british port channel tunnell eu fell last month",
          "trouble get upset say aaj english",
          "arrogation double entendre via",
          "call target harassment",
          "come religious place thief come steal robber",
          "love george monbiot pummel andrew bowie monbiot absolutely cool measure logical bowie typic",
          "banker rob u generation feel slightest bit sorry finally robbed",
          "whole point right keep bear arm protect civilian government force crimina",
          "brexit cost uk gdp first year body blow uk economy plummet almost cer",
          "amount money ever bring equality equality exist anywhere nature brib",
          "innovation molasses possible clamp liquor",
          "right guy trial face ten year prison meme another guy give year sent",
          "voice even low eye level straight neither sign show saxon begin",
          "pay middle eastern terrorist smuggle u via mexican border people sw",
          "go year old woman nothing justice act revenge",
          "great reset eat bug future proclaims world economic forum unelected self anoint global elitist post vi",
          "fraud alert joe biden amp harris resurrect left wing lie call hate crime asian american",
          "allege nurse practitioner threaten deny people treatment political leaning someone sho",
          "never want equality never want mere empowerment either aim always empow",
          "people arm security shut hell gun control laughable allow protect themse",
          "fact get hit hard game stop stock tell one thing people short stock",
          "let perfectly honest left actually care victim mass shooting se",
          "daily reminder current president united state say good thing found stock america",
          "people really need stop use child instrument propaganda fair hardl",
          "stop banker eat dumpster",
          "america soft weak embarrass joke entire world laugh u pathetic government",
          "true juice extractor gas chamber one step",
          "almost every day quietly think amerindian actually choice fight openly",
          "gradually begin hate video link",
          "major victory domestic terrorism america today fail huffington post fire radical",
          "power",
          "anyone know ratio jew ce major american corporation",
          "want keep america safe stop import people want kill u simple",
          "accord news source suspect detain release name description virtual",
          "texas lead freedom via",
          "pay global security bunch scar trickster",
          null
         ],
         "marker": {
          "color": "#CFD8DC",
          "opacity": 0.5,
          "size": 5
         },
         "mode": "markers+text",
         "name": "other",
         "showlegend": false,
         "type": "scattergl",
         "x": [
          5.171604633331299,
          7.032675266265869,
          4.60221529006958,
          4.696227550506592,
          7.175290584564209,
          6.622921466827393,
          5.752747058868408,
          3.302468776702881,
          5.517903804779053,
          3.9931540489196777,
          4.148021221160889,
          6.425249099731445,
          6.605793476104736,
          5.418407440185547,
          6.53837776184082,
          4.759851932525635,
          6.54230260848999,
          6.2140421867370605,
          5.895567417144775,
          7.280517101287842,
          6.464443683624268,
          7.366964340209961,
          5.042530536651611,
          4.113704681396484,
          3.4313929080963135,
          6.219937324523926,
          4.054585933685303,
          3.702192783355713,
          5.824899196624756,
          5.022813320159912,
          5.633221626281738,
          5.336681842803955,
          3.6936216354370117,
          5.904941082000732,
          7.287294387817383,
          4.596937656402588,
          7.832304954528809,
          4.661147594451904,
          5.683882713317871,
          4.209361553192139,
          6.42134952545166,
          2.3399741649627686,
          4.261803150177002,
          5.784593105316162,
          4.289694786071777,
          6.682212829589844,
          5.332834243774414,
          3.6041955947875977,
          5.0709228515625,
          5.6552042961120605,
          6.24826192855835,
          4.00325345993042,
          5.754298210144043,
          4.033360958099365,
          7.562206745147705,
          3.812744617462158,
          7.340334415435791,
          5.832458972930908,
          5.601415634155273,
          5.391210556030273,
          4.306996822357178,
          2.674483060836792,
          6.644320964813232,
          5.797849655151367,
          3.5089504718780518,
          5.261847019195557,
          6.123372554779053,
          3.964571952819824,
          5.1844987869262695,
          3.4937989711761475,
          4.2468156814575195,
          4.8021240234375,
          6.563656330108643,
          4.73025369644165,
          5.19832706451416,
          3.9416656494140625,
          6.673976898193359,
          4.6778106689453125,
          3.4705092906951904,
          6.924914836883545,
          3.499195098876953,
          5.693212032318115,
          4.259681224822998,
          6.755356311798096,
          5.098981857299805,
          5.758539199829102,
          2.2805252075195312,
          5.770869255065918,
          8.731788635253906,
          5.062808036804199,
          7.9911885261535645,
          4.633333683013916,
          5.724982738494873,
          6.212973594665527,
          4.600766658782959,
          5.27017879486084,
          5.001068115234375,
          3.920121908187866,
          5.3362812995910645,
          5.987585067749023,
          6.998056888580322,
          6.253388404846191,
          8.91843032836914,
          3.5789835453033447,
          6.983493328094482,
          6.428728103637695,
          3.624436855316162,
          3.616159439086914,
          4.814519882202148,
          6.443446159362793,
          3.7568914890289307,
          6.280131816864014,
          5.529026985168457,
          5.085700511932373,
          4.338488578796387,
          4.8575119972229,
          5.514597415924072,
          4.110291004180908,
          7.025190353393555,
          5.194826602935791,
          6.808534622192383,
          6.615133762359619,
          6.302661418914795,
          5.326013565063477,
          4.997779846191406,
          4.475736618041992,
          6.061291217803955,
          5.178506851196289,
          8.367181777954102,
          2.259835958480835,
          5.196712017059326,
          5.234310626983643,
          5.279928207397461,
          6.748071670532227,
          6.773419380187988,
          4.8643364906311035,
          5.156516075134277,
          4.937670707702637,
          5.700398921966553,
          2.2771308422088623,
          4.591393947601318,
          6.571623802185059,
          3.457296371459961,
          5.103072643280029,
          4.559607028961182,
          6.26242733001709,
          4.480353832244873,
          5.013538360595703,
          3.946328639984131,
          4.512446403503418,
          8.44825553894043,
          7.079524993896484,
          4.671988010406494,
          6.415310382843018,
          7.253950595855713,
          8.692745208740234,
          3.5303127765655518,
          7.115773677825928,
          5.318589687347412,
          3.716369867324829,
          6.383663654327393,
          5.922625541687012,
          4.928973197937012,
          4.889336109161377,
          3.9024484157562256,
          5.164579391479492,
          2.9963550567626953,
          6.387723445892334,
          7.014035701751709,
          4.2572922706604,
          3.38568115234375,
          7.100281715393066,
          3.953113555908203,
          5.4212870597839355,
          4.330587387084961,
          6.279647350311279,
          5.241552829742432,
          6.578803062438965,
          3.4626035690307617,
          8.690159797668457,
          4.100821495056152,
          3.8391611576080322,
          7.19552755355835,
          3.3972291946411133,
          6.949158668518066,
          4.05351448059082,
          4.889236927032471,
          4.821004867553711,
          8.723878860473633,
          6.609724044799805,
          5.272079944610596,
          5.106220245361328,
          4.1170477867126465,
          7.529046058654785,
          5.22990083694458,
          5.732020854949951,
          4.032623767852783,
          7.1083478927612305,
          5.085883617401123,
          3.329080581665039,
          5.750184059143066,
          6.741347312927246,
          3.2401273250579834,
          3.4146082401275635,
          6.219374179840088,
          5.135229587554932,
          5.355088710784912
         ],
         "y": [
          14.465117454528809,
          13.240675926208496,
          16.710439682006836,
          13.636763572692871,
          13.63433837890625,
          16.15134048461914,
          14.496171951293945,
          15.279701232910156,
          14.492731094360352,
          14.392452239990234,
          13.960790634155273,
          15.652727127075195,
          15.633511543273926,
          14.250385284423828,
          14.483526229858398,
          15.162240028381348,
          14.785941123962402,
          12.009685516357422,
          16.181001663208008,
          15.457810401916504,
          12.98159408569336,
          15.531095504760742,
          15.71272087097168,
          13.954657554626465,
          15.41173267364502,
          13.834240913391113,
          15.303077697753906,
          15.117904663085938,
          14.022310256958008,
          14.29293155670166,
          13.604297637939453,
          13.457831382751465,
          15.11567211151123,
          14.150996208190918,
          14.624229431152344,
          13.641702651977539,
          14.69378662109375,
          15.178862571716309,
          14.430336952209473,
          13.99353313446045,
          15.63913631439209,
          13.855780601501465,
          15.225993156433105,
          14.00619888305664,
          15.700044631958008,
          14.52106761932373,
          16.059995651245117,
          15.325089454650879,
          15.596818923950195,
          13.44227123260498,
          16.53767967224121,
          14.388080596923828,
          15.093157768249512,
          14.400906562805176,
          14.959122657775879,
          14.805021286010742,
          14.674362182617188,
          13.448695182800293,
          14.181129455566406,
          14.347233772277832,
          14.161787033081055,
          13.606034278869629,
          14.445676803588867,
          14.50003719329834,
          14.555840492248535,
          15.730989456176758,
          14.636857986450195,
          15.817588806152344,
          16.34988021850586,
          14.655792236328125,
          14.126421928405762,
          15.400980949401855,
          14.5680513381958,
          14.60326099395752,
          15.593002319335938,
          14.435545921325684,
          14.454302787780762,
          16.017154693603516,
          14.6104154586792,
          13.605649948120117,
          14.589909553527832,
          13.991888046264648,
          14.478189468383789,
          14.119927406311035,
          15.686278343200684,
          11.430008888244629,
          15.187257766723633,
          14.01345157623291,
          14.359267234802246,
          15.84907341003418,
          15.279756546020508,
          16.67217254638672,
          14.450418472290039,
          11.984611511230469,
          16.69924545288086,
          14.148416519165039,
          12.56650161743164,
          14.488800048828125,
          16.259998321533203,
          13.068216323852539,
          13.303437232971191,
          14.645037651062012,
          14.688102722167969,
          15.179417610168457,
          14.708866119384766,
          12.720243453979492,
          13.635489463806152,
          15.265100479125977,
          15.285017967224121,
          15.699322700500488,
          14.686973571777344,
          14.000497817993164,
          14.693994522094727,
          15.95950698852539,
          15.924688339233398,
          13.488121032714844,
          15.589210510253906,
          14.88368034362793,
          16.167219161987305,
          13.724577903747559,
          14.189021110534668,
          12.48214054107666,
          14.401386260986328,
          15.19676685333252,
          15.065363883972168,
          14.361820220947266,
          14.774040222167969,
          16.354076385498047,
          14.620172500610352,
          15.285985946655273,
          14.086068153381348,
          16.35338020324707,
          14.622111320495605,
          14.310403823852539,
          14.183504104614258,
          13.090726852416992,
          14.183160781860352,
          13.022689819335938,
          14.483891487121582,
          15.213160514831543,
          16.7069034576416,
          14.104467391967773,
          15.354461669921875,
          15.613054275512695,
          15.761231422424316,
          12.010878562927246,
          15.01590633392334,
          14.994894981384277,
          14.431692123413086,
          15.591059684753418,
          15.25566577911377,
          15.613988876342773,
          13.297320365905762,
          13.363014221191406,
          13.682388305664062,
          14.310174942016602,
          14.58044719696045,
          13.913042068481445,
          13.69340705871582,
          15.083503723144531,
          12.682280540466309,
          14.15174388885498,
          15.59122085571289,
          13.392597198486328,
          15.562018394470215,
          14.592692375183105,
          16.143142700195312,
          15.75940990447998,
          14.003069877624512,
          15.651923179626465,
          14.805645942687988,
          13.859393119812012,
          12.327920913696289,
          16.089557647705078,
          15.94653606414795,
          12.045403480529785,
          13.88198184967041,
          14.453396797180176,
          14.704670906066895,
          14.422460556030273,
          13.086540222167969,
          15.332375526428223,
          13.774140357971191,
          15.681943893432617,
          13.245962142944336,
          13.889147758483887,
          15.249263763427734,
          15.124655723571777,
          14.365259170532227,
          14.417899131774902,
          13.682058334350586,
          15.660682678222656,
          13.940309524536133,
          15.454815864562988,
          13.949143409729004,
          14.437434196472168,
          12.952071189880371,
          14.54903507232666,
          15.971567153930664,
          14.320545196533203,
          13.6033296585083,
          14.160642623901367,
          15.38912582397461,
          15.422236442565918,
          14.459070205688477,
          13.942447662353516,
          14.599864959716797
         ]
        },
        {
         "hoverinfo": "text",
         "hovertext": [
          "available preview",
          "year say wag war white people finally understand sa",
          "imagine desperate attention relevancy surgically remove part body",
          "jesus fuck christ guy happens talk tough try look sound cool violence g",
          "actually watch right funny listen black dude talk sell crack",
          "even eat meat whole eat bug synthetic meat thing pretty sketch",
          "year literal white genocide",
          "wan na fuck time man body see nigga leave tf alone",
          "need keep drive story home power blame white people murder commit bl",
          "buy story second pipe bomb really plant dc capitol guarantee",
          "assume fight back know one actually start fight",
          "historically speak virtually every time communism come power regime manufacture artificial famine",
          "love reading golden globe hashtags left master exploit identity politics political correctness virt",
          "false perception humanity impose people",
          "marxism virus mutates spread host host time bolshevism communism social democracy",
          "someone dm please send picture cat anyrtgingh im boredddd",
          "happens white become minority",
          "everyone understands concept foreign invasive specie plant animal world foreign invasive specie",
          "lot picture show holodomor gulag mostly white folk",
          "natural redhead rare people planet easily one beautiful anyone natural",
          "sovereign mind power choice come single set belief define",
          "america really white supremacist nation consume institutional racism big mega corp like coca",
          "total utter bullshit",
          "nigger cocksluts help crave white dick much take matter attach",
          "new regime go force mass obey send people disappear",
          "rub face know know know say go happen c",
          "advanced civilization",
          "america literally white people single western country planet anti american e",
          "white supremacy mean white people believe white life matter war wag agai",
          "expropriation without compensation really mean steal farm white farmer destroy say farm blame whit",
          "communism always creates resistance logical response communism always fascism na",
          "nation yahweh mayor miami xavier su rez declare yahweh ben yahweh day october mon",
          "think possible man produce much estrogen",
          "tomorrow recover woman day intelligence day",
          "nigga like life anime yea bro one piece shit",
          "read write wall yet guy war wag white man ever surren",
          "fact liberal consider white guy star athlete change white supremacy tell everythi",
          "city burn ransack violent terrorist savage summer long give fuck le th",
          "never entirely comfortable truth behind champion always fight something otherwi",
          "fuck sake kill two white people death count racism motivation",
          "high culture civilization diversity",
          "two amaze people fighter keep go need",
          "act spiritual psychological warfare native european people white people nowhere else",
          "treat big deal rioter antifa whatever reason police always se",
          "global war white people",
          "daily reminder real time choreograph synchronize dance routine office hou",
          "one try murder lie po",
          "refer white people disease probably great way convince u racist go ahead",
          "plan take back hagia sophia",
          "overcome lust ego word well sex",
          "gymnastics say dirty arab",
          "call whatever want coca cola anti white actively participate war wag",
          "man white supremacist asian hater keep get darker darker",
          "black actually oppose police shooting oppose police shoot black criminal",
          "february shape one long cold rape big frozen winter wiener",
          "call mass shoot however medium report shooter white",
          "democrat rep jackie speier think lot white american u military national security threat",
          "interestingly enough know sole authority define word like hate racism bigotry extremis",
          "left furious brandon elliot white supremacist instead lifetime parole murder mother sai",
          "warrior",
          "yes invisible",
          "woman kill kidnap afrin whole world silent woman together afrin",
          "racist always mean white people call u racist justify violence u fal",
          "lil nigga lil nigga lil nigga lil nigga lil nigga lil nigga lil nigga lil nigga lil nigga lil",
          "like cold cold make white ancestor hard strong broke weak bloodline ensure",
          "rhetoric creature manufacture cultivate endless hatred white people people wh",
          "want really think white man every dollar government take give black",
          "black community none white people concern black community allow behave whatever",
          "let spell black separatist treat random individual isolated social medium",
          "replace white people",
          "basically say long racism direct toward white people white country",
          "say year ago lot people say hyperbolic",
          "man white supremacist asian hater keep get darker darker",
          "diversity sensitivity training really mean anti white indoctrination critical race theory",
          "white supremacist keep get darker darker day",
          "cry laugh zehma mtn catapult whore",
          "talk jq day long however people like michael jones catholic even admit whit",
          "freak wonder white nationalism rise world",
          "homosexual find criticize heteros much without u even exist",
          "hitler nazi war happen racist hat anyone blonde hair amp blue eye",
          "trans child like vegan dog know chose",
          "um exactly dc capitol bombed see already rewrite history le two mon",
          "blame anyone know truth adolf hitler amp national socialism victor write history",
          "new year eve wuhan v nyc spot communist nation",
          "people fanatically anti racist really anti white tend also mentally ill literally watch",
          "many year ago say would eventually consider racist arrest black person crime committ",
          "well really want get subject serial killer start samuel little",
          "much institutional white supremacy racism",
          "black people really little lie small shit",
          "apparently special kind hate black woman experience call misogynoir seriously",
          "diversity strength army choose diversity",
          "ok groomers",
          "white genocide conspiracy theory need challenge misinformation u experience great",
          "look like everything prove hitler right",
          "deep",
          "strength ancestor life within blood strength survive long enough conti",
          "philosophy ideology tactic method optic superior others feel",
          "black life matter movement nominate nobel peace prize via",
          "enough people drop look",
          "remove portrait white judge white go ahead tell war",
          "mom mom sheep meeeeeeh black sheep yeah nigga moderfacka hahahahahahahaha yeah nigg",
          "racist cookie lecture u wokeness",
          "never forget",
          "dude fuck robot",
          "right replace white man twenty dollar bill black woman worthy high priority",
          "live every stereotype",
          "want socialism",
          "openly admit displace white people white place living white supremacist conspirac",
          "parody account",
          "remember watch mother breakdown cry weight poverty hearing pain sorrow shame",
          "eventually go consider racist white person deny non white access body",
          "hostile people really except crazy notion planet father god chose",
          "drop photography mine",
          "please keep mind",
          "behind",
          "think even one race government target deprogramming know becau",
          "ever reason storm street overthrow exist regime",
          "good kyle rittenhouse never arrest first place defend violent mob shoul",
          "one one",
          "nothing allow white white problem need address",
          "communism symptom disease disease look communism come look",
          "stereotypical behavior nope way",
          "salute",
          "people ready admit yet real war wag white people",
          "literally neither men kill white people let alone white nationalist kill black",
          "yeah war white people",
          "say keep right say one single white man alive today ever slave",
          "believe",
          "best really",
          "wow",
          "hysteria freak see hitler literally everywhere go continue affirm say fo",
          "join corona cult today tire people still enjoy life exactly right thing cont",
          "philosophy national socialism reawaking mankind consciousness nature importance ra",
          "say thousand time bear repeat anti racism dangerous new age religion religi",
          "whoever control country institution control society perception reality",
          "term radical thrown around pretty loosely day literally anything left like",
          "assume fight back know one actually start fight",
          "yes",
          "guy charge proud boy name enrique tarrio yet proud boy still label white supre",
          "post still anti white butthurt black history month",
          "u call suarez something wen call u nigger u bitch",
          "non white prioritize white tell systemic racism exists",
          "hundred salutation foot madhav",
          "gt billion covid relief black farmer tell living white supremacist society",
          "even black want segregation back peaceful separation solution today catastrophic failure race r",
          "literally zero justification flood white country non white foreigner whole age dy",
          "little junk",
          "rapist black call rapist call pervert downplay black crim",
          "social medium like densest major city human existence loud chaotic fast pace emotional irr",
          "read write wall white people normalize discrimination stop w",
          "salute brave soldier",
          "everybody want believe secret underground army organization go fix everything",
          "russia international regulation social medium moderation",
          "expose back october",
          "excuse pedophile time never tolerate white person believe white life matter",
          "wish men shut fuck today",
          "course even let white one thing non white ob acce",
          "time social medium limited use time wisely anti white take war white ser",
          "make white people happy racist need stop",
          "gt replaces white men normalize concept white people replace non white white",
          "stupid fuck bitch",
          "gt white supremacy virus like virus die body left infect w",
          "institutional white genocide look like",
          "blackwashing white history continue force stop",
          "around world white people get dangerously fed violently attack forei",
          "someone something require perpetual reinforcement via word like amaze beautiful vibrant talented incr",
          "marijuana popular people miserable era smoke tolerate world rather fix",
          "say even okay u pride nationality already",
          "literally institutional racism exists",
          "unlawful best produce anything beautiful plato",
          "weak argument difference white kid already die fentanyl overdose l",
          "injury today insurrection oh wait mean medium full crap",
          "asks compromise always include give right gain control refer democr",
          "diversity strength army choose diversity",
          "every non white race planet encourage celebrate history heritage culture white race",
          "new comic",
          "caught k say true",
          "prove u right every single time",
          "go walk condition yeah white thing understand",
          "multiculturalism culture mix amp blend together create singular monoculture multicultur",
          "god bless eric zemmour",
          "replace white people white country tell u source st",
          "workout functional real world extend period time",
          "folkish state make certain suitable education youth day obtain race ripe",
          "lick foot nigga white trash paris france interracial gay amateur gay",
          "lie repeat often enough eventually becomes truth",
          "reason white people child simulate experience slave",
          "diversity safe neighborhood",
          "say lot year keep repeat hunt racism era witch hunt",
          "enemy good mean stood something sometime life winston churchill value yo",
          "power go force individual citizen comply average citizen know",
          "blackwashing never end white people erase little little",
          "institutional white genocide look like",
          "accident",
          "hypothetical anymore matter matter government force prep",
          "event like go continue occur white country citizen form powerful group real li",
          "medium try get black murder innocent white people white people fully prepared defend yourselv",
          "white privilege actually exist listen mindless robot drone repeat",
          "guy invent hate crime never happen get free paycheck",
          "abolish whiteness mean abolish white people fact popular well receive slogan",
          "one white person alive today ever black slave one black person alive today ever white",
          "eventually go consider racist white person deny non white access body",
          "people still oblivious truth right plain sight",
          "even issue black asian racism violence narrative remains white people real pro",
          "hunt white supremacist era witch hunt new regime want look every white person w",
          "goodnight",
          "homosexual scum vote vanilla",
          "really live white supremacist country repeatedly told would law make",
          "arbitrariness censorship back west via",
          "look accept random cop beating people baton like use one call",
          "ally people white people always always stop",
          "blame white people violent crime commit black end piss entire wh",
          "fanart prefer",
          "blackwashing white history continue force stop",
          "basically illegal immigrant get citizenship replace u either way cool steven repeat",
          "way win socio political fight attract fighter side pro white community need foc",
          "many innocent white child die start storm street righteous hatred",
          "white want something call white supremacy black want thing call response",
          "thus globalists use power compete opposition make opposition illegal",
          "pride wake",
          "hence social justice warrior infect",
          "many generation american government organize crime syndicate illegal occupation",
          "heartbreaking",
          "law enforcement earn every bit hate receive chosen side enemy people",
          "translation many white people science statistic technology go replace white",
          "repeat lie truth know want erase white history",
          "diversity mean death white people able get conceal carry permit get reliable firearm",
          "good morning ji",
          "repeat white get dictate white people anti white raci",
          "imagine someone snuck punch face behind start kick stomp yo",
          "white country simply never ask ask reject foreign people foreign c",
          "shut shut goy know goy really know",
          "deny racist actually proof racist",
          "black need liberal woman offend behalf even think liberal really offend anywa",
          "historically whenever marxist bolshevik communist regime take power one first thing",
          "white people get dangerously fed foreigner get away countless act violence",
          "write wall white race slat genocide hyperbole exaggeration",
          "okay checked fuck real",
          "every single time",
          "apart weapon way mamma favorite weapon slipper",
          "multi racial society create peace prosperity people create animosity hostility hatred vi",
          "true black woman africa landmass black overwhelm super majority",
          "imagine power like power declare act criminal ability declare anti semit",
          "truth",
          "particular point time obvious naked eye race people happier segregation",
          "white white law protects discriminate white people",
          "proof globalism exist party",
          "sorry break bimbo every guy planet want sleep",
          "nothing see folk diversity continue great strength",
          "doubt fauci visit gay sauna bar highly doubt anything understand h",
          "netflix already rag machine diversity propaganda",
          "feel whole lot well impend collapse western civilization white people form group",
          "ego always ruin man one vision clearest lens",
          "lol invention exactly even congo finally penetrate native people disco",
          "kind woman foot hit floor morning devil say oh crap woman fear f",
          "white people ally literally every non white race united",
          "global war white people",
          "see work literally anything infringes money power decry white",
          "literally nothing label racist white supremacist pathological hatred white men",
          "philosophy lie national socialism man lie",
          "expect someone else save expect group save people country",
          "white elder abuse rampant",
          "stereotypical behavior nope way",
          "guarantee chick like anything luxury",
          "anti white amp anti american rhetoric exactly taught kid across america",
          "know beat white people say care white black yellow blue purple",
          "white men deserve job white men tell white men persecute",
          "bodybuilding",
          "beating u game shut game fucker literally take ball g",
          "men pig u stop living stop filth serious",
          "well yes certainly full crap",
          "anti hitler sentiment reach fanatical insanity le severity religious hysteria anyone stoop",
          "outside environment impose upon artificially construct human race mix almos",
          "law enforcement earn every bit hate receive chosen side enemy people",
          "many innocent white people beaten shot murder savage collectively defen",
          "war wag white people everything fault",
          "replace white people",
          "exactly think culture come think magically fall sky arbitrarily",
          "live age manufacture tragedy tyranny impose upon u result artificial tragedy",
          "fagot take arm",
          "lady question imagine pill men begin market would really trust",
          "quick way get rich america black falsely accuse white person racist toward",
          "true never forget",
          "biophobia contagious",
          "toxic upbringing environment anti white hatred racism cultivate hollywood medium school un",
          "ancient celt dyed hair blonde lime also dyed clothes various color plant berry",
          "apparently white people fault black woman sprayed hair gorilla glue anything",
          "anyone good explanation china allow access u power grid hell",
          "anyone pretend anyone even want integration first place literally everyone want separation w",
          "people fake hate crime free government money",
          "let cry woman afrin woman together afrin",
          "yet another evil white man save helpless animal almost behavior genetic something",
          "white people well black people thread",
          "imagine force wake morning everyday",
          "non white responsible action black gun gang motivate mass sh",
          "dictatorship forbidden make fun powerful",
          "suck whitedick nigger gayraceplay gaysex oral gayoral interracialgaysex blacksucker bwc",
          "okay checked fuck real",
          "inca people conquer genocided killke people another south american tribe big deal b",
          "european never use feel way country flood foreigner feel",
          "illegal adopt black child black",
          "war adolf hitler never end evolve war white people",
          "like well negro",
          "oppose islam racist oppose german national socialism soviet communism nothing w color",
          "people still oblivious truth right plain sight",
          "black woman move white neighborhood complains many",
          "white literally nothing bad could ever accuse racism accuse l",
          "let billionaire cry",
          null
         ],
         "marker": {
          "opacity": 0.5,
          "size": 5
         },
         "mode": "markers+text",
         "name": "0_white_people_black",
         "text": [
          "",
          "",
          "",
          "",
          "",
          "",
          "",
          "",
          "",
          "",
          "",
          "",
          "",
          "",
          "",
          "",
          "",
          "",
          "",
          "",
          "",
          "",
          "",
          "",
          "",
          "",
          "",
          "",
          "",
          "",
          "",
          "",
          "",
          "",
          "",
          "",
          "",
          "",
          "",
          "",
          "",
          "",
          "",
          "",
          "",
          "",
          "",
          "",
          "",
          "",
          "",
          "",
          "",
          "",
          "",
          "",
          "",
          "",
          "",
          "",
          "",
          "",
          "",
          "",
          "",
          "",
          "",
          "",
          "",
          "",
          "",
          "",
          "",
          "",
          "",
          "",
          "",
          "",
          "",
          "",
          "",
          "",
          "",
          "",
          "",
          "",
          "",
          "",
          "",
          "",
          "",
          "",
          "",
          "",
          "",
          "",
          "",
          "",
          "",
          "",
          "",
          "",
          "",
          "",
          "",
          "",
          "",
          "",
          "",
          "",
          "",
          "",
          "",
          "",
          "",
          "",
          "",
          "",
          "",
          "",
          "",
          "",
          "",
          "",
          "",
          "",
          "",
          "",
          "",
          "",
          "",
          "",
          "",
          "",
          "",
          "",
          "",
          "",
          "",
          "",
          "",
          "",
          "",
          "",
          "",
          "",
          "",
          "",
          "",
          "",
          "",
          "",
          "",
          "",
          "",
          "",
          "",
          "",
          "",
          "",
          "",
          "",
          "",
          "",
          "",
          "",
          "",
          "",
          "",
          "",
          "",
          "",
          "",
          "",
          "",
          "",
          "",
          "",
          "",
          "",
          "",
          "",
          "",
          "",
          "",
          "",
          "",
          "",
          "",
          "",
          "",
          "",
          "",
          "",
          "",
          "",
          "",
          "",
          "",
          "",
          "",
          "",
          "",
          "",
          "",
          "",
          "",
          "",
          "",
          "",
          "",
          "",
          "",
          "",
          "",
          "",
          "",
          "",
          "",
          "",
          "",
          "",
          "",
          "",
          "",
          "",
          "",
          "",
          "",
          "",
          "",
          "",
          "",
          "",
          "",
          "",
          "",
          "",
          "",
          "",
          "",
          "",
          "",
          "",
          "",
          "",
          "",
          "",
          "",
          "",
          "",
          "",
          "",
          "",
          "",
          "",
          "",
          "",
          "",
          "",
          "",
          "",
          "",
          "",
          "",
          "",
          "",
          "",
          "",
          "",
          "",
          "",
          "",
          "",
          "",
          "",
          "",
          "",
          "",
          "",
          "",
          "",
          "",
          "",
          "",
          "",
          "",
          "",
          "",
          "",
          "",
          "",
          "",
          "",
          "",
          "",
          "",
          "",
          "",
          "",
          "",
          "",
          "",
          "",
          "",
          "",
          "",
          "",
          "0_white_people_black"
         ],
         "textfont": {
          "size": 12
         },
         "type": "scattergl",
         "x": [
          5.721174716949463,
          8.02161693572998,
          6.098832607269287,
          7.4764838218688965,
          8.316550254821777,
          7.300308704376221,
          8.444284439086914,
          7.301900386810303,
          7.327751636505127,
          3.1583120822906494,
          6.8898444175720215,
          5.764700889587402,
          5.352010250091553,
          6.1306071281433105,
          5.890156269073486,
          5.417192459106445,
          8.989786148071289,
          6.714442729949951,
          8.492128372192383,
          6.617851257324219,
          5.877518653869629,
          7.780630588531494,
          6.006057262420654,
          8.260575294494629,
          5.865818500518799,
          6.907562732696533,
          7.411017417907715,
          7.740978717803955,
          8.2929048538208,
          8.568337440490723,
          5.8053998947143555,
          3.9227540493011475,
          7.097346782684326,
          6.670915126800537,
          7.1607794761657715,
          8.421606063842773,
          8.41649055480957,
          4.218841552734375,
          6.893569469451904,
          7.408466815948486,
          7.323135852813721,
          6.608992576599121,
          7.571902275085449,
          6.5183424949646,
          7.830206871032715,
          5.75066614151001,
          6.918051242828369,
          7.929476261138916,
          3.1722822189331055,
          6.098377704620361,
          8.008830070495605,
          8.313977241516113,
          8.318643569946289,
          7.0137410163879395,
          4.245599269866943,
          7.292479515075684,
          8.504035949707031,
          6.813228607177734,
          7.091056823730469,
          6.243163585662842,
          5.945193290710449,
          6.641299724578857,
          8.138941764831543,
          7.386569976806641,
          7.594910621643066,
          7.850376129150391,
          8.56921672821045,
          7.968837261199951,
          7.750988006591797,
          9.073718070983887,
          8.206720352172852,
          6.731485843658447,
          8.350118637084961,
          8.167930603027344,
          8.315230369567871,
          6.60837984085083,
          8.49789810180664,
          7.8574371337890625,
          7.834258556365967,
          6.598878860473633,
          7.330909252166748,
          3.184413433074951,
          6.337007522583008,
          4.589508056640625,
          8.113847732543945,
          6.929178714752197,
          3.5224788188934326,
          8.462774276733398,
          8.342748641967773,
          8.471463203430176,
          7.262303352355957,
          7.950873851776123,
          8.521041870117188,
          6.4553751945495605,
          6.017538070678711,
          7.433712482452393,
          5.970350742340088,
          7.7642083168029785,
          5.836136817932129,
          8.486037254333496,
          8.306659698486328,
          8.336023330688477,
          6.219580173492432,
          7.092778205871582,
          9.063608169555664,
          8.699431419372559,
          5.91062593460083,
          8.357194900512695,
          5.7833027839660645,
          6.354626655578613,
          7.908463001251221,
          7.526125907897949,
          5.839169979095459,
          6.195852756500244,
          5.995447158813477,
          8.262200355529785,
          6.212819576263428,
          6.702502727508545,
          6.920177459716797,
          7.858628273010254,
          5.83425760269165,
          8.699450492858887,
          5.078465461730957,
          7.98028564453125,
          7.538934707641602,
          7.8526105880737305,
          8.615748405456543,
          6.3259782791137695,
          6.183587074279785,
          6.177353382110596,
          6.474459171295166,
          6.133391380310059,
          5.945193767547607,
          7.82440710067749,
          5.5189971923828125,
          6.63269567489624,
          6.852776050567627,
          5.956092834472656,
          8.244428634643555,
          8.612820625305176,
          8.310253143310547,
          8.429292678833008,
          5.063655376434326,
          7.5235490798950195,
          7.753122806549072,
          7.55732536315918,
          5.839914321899414,
          8.332220077514648,
          7.175335884094238,
          8.445956230163574,
          4.763298034667969,
          5.781452178955078,
          5.5684494972229,
          5.916240215301514,
          8.091288566589355,
          6.834371089935303,
          7.920275688171387,
          7.858234405517578,
          8.369538307189941,
          9.01765251159668,
          7.108131408691406,
          7.501370906829834,
          8.488516807556152,
          8.63659381866455,
          7.756381988525391,
          5.92595100402832,
          6.057611465454102,
          7.4491071701049805,
          8.541681289672852,
          5.989726543426514,
          7.54067325592041,
          5.757933616638184,
          5.543175220489502,
          7.24514627456665,
          7.605514049530029,
          5.5976152420043945,
          6.993143081665039,
          7.030745983123779,
          7.918564319610596,
          7.252817630767822,
          4.013342380523682,
          9.018294334411621,
          5.836359977722168,
          7.458857536315918,
          8.029301643371582,
          6.1198835372924805,
          7.790736198425293,
          7.3050856590271,
          8.166418075561523,
          6.283786296844482,
          5.69247579574585,
          8.622015953063965,
          8.48503303527832,
          5.875060558319092,
          5.912917137145996,
          6.626295566558838,
          7.446778774261475,
          8.469987869262695,
          6.693779945373535,
          8.479348182678223,
          8.529111862182617,
          7.899445056915283,
          6.029508113861084,
          7.994195461273193,
          8.199843406677246,
          6.581567287445068,
          7.934525489807129,
          7.927384376525879,
          5.56036901473999,
          6.688187599182129,
          7.598608493804932,
          7.552159786224365,
          5.517677307128906,
          8.618451118469238,
          2.915722131729126,
          7.9147419929504395,
          7.5812482833862305,
          8.176997184753418,
          5.696547985076904,
          6.155495643615723,
          7.4903669357299805,
          5.973650932312012,
          6.380026340484619,
          6.333438396453857,
          9.030723571777344,
          8.624874114990234,
          7.136294841766357,
          6.484705924987793,
          8.364047050476074,
          6.8944268226623535,
          7.584550380706787,
          7.110630035400391,
          7.980765342712402,
          8.445670127868652,
          5.863264560699463,
          7.579146862030029,
          8.048168182373047,
          7.100790023803711,
          6.590508937835693,
          6.180296421051025,
          7.200253009796143,
          8.397379875183105,
          5.844808101654053,
          5.996001720428467,
          8.1309175491333,
          8.393170356750488,
          5.663074493408203,
          6.903409004211426,
          7.339200019836426,
          7.689145088195801,
          8.126175880432129,
          7.645444393157959,
          6.127148151397705,
          7.841477870941162,
          6.603533744812012,
          7.548468589782715,
          7.849078178405762,
          8.556891441345215,
          8.219639778137207,
          5.932866096496582,
          5.774835109710693,
          7.773392677307129,
          8.720561027526855,
          7.636744976043701,
          8.05319881439209,
          8.220426559448242,
          8.574318885803223,
          5.928420543670654,
          7.324799537658691,
          7.063395977020264,
          5.827082633972168,
          6.510601043701172,
          7.301324844360352,
          6.35029411315918,
          7.509696006774902,
          7.821797847747803,
          9.104501724243164,
          6.197731018066406,
          6.0429205894470215,
          6.671118259429932,
          7.467658519744873,
          7.900287628173828,
          6.278894901275635,
          7.524730205535889,
          7.715934753417969,
          6.648915767669678,
          7.978650093078613,
          5.396413803100586,
          7.680536270141602,
          6.360915184020996,
          6.617696762084961,
          7.714871883392334,
          8.234430313110352,
          6.551146030426025,
          7.355637073516846,
          5.8912858963012695,
          8.125824928283691,
          7.0987348556518555,
          8.521486282348633,
          7.2183732986450195,
          6.88234806060791,
          7.667950630187988,
          8.293482780456543,
          5.9076619148254395,
          6.019687652587891,
          7.942724227905273,
          8.143695831298828,
          6.379217147827148,
          7.116353511810303
         ],
         "y": [
          12.693367004394531,
          15.850593566894531,
          13.669363975524902,
          13.309904098510742,
          14.239872932434082,
          14.395309448242188,
          15.837345123291016,
          13.109786987304688,
          14.790781021118164,
          14.269659996032715,
          12.402841567993164,
          15.308756828308105,
          15.632918357849121,
          13.783712387084961,
          15.500558853149414,
          12.32358455657959,
          14.901496887207031,
          14.224077224731445,
          15.86149787902832,
          16.131807327270508,
          14.887819290161133,
          15.067964553833008,
          13.136025428771973,
          14.916842460632324,
          14.787254333496094,
          12.508694648742676,
          15.692368507385254,
          15.155409812927246,
          15.113646507263184,
          14.726519584655762,
          15.375554084777832,
          13.588961601257324,
          13.408833503723145,
          13.14311695098877,
          13.251180648803711,
          15.372283935546875,
          14.94543743133545,
          15.315082550048828,
          12.407681465148926,
          14.768863677978516,
          15.515953063964844,
          12.392011642456055,
          15.629049301147461,
          15.111933708190918,
          15.800079345703125,
          13.466025352478027,
          13.085765838623047,
          14.482251167297363,
          14.309846878051758,
          13.7174711227417,
          13.922774314880371,
          15.360559463500977,
          15.136106491088867,
          14.898663520812988,
          15.321990013122559,
          14.758803367614746,
          15.465968132019043,
          15.38272762298584,
          14.900153160095215,
          12.60448932647705,
          12.8866548538208,
          13.048933029174805,
          14.747314453125,
          13.202949523925781,
          14.973384857177734,
          15.373584747314453,
          14.745440483093262,
          14.946440696716309,
          15.493400573730469,
          14.867537498474121,
          15.206674575805664,
          15.351049423217773,
          15.114789009094238,
          15.175172805786133,
          15.161903381347656,
          12.956097602844238,
          14.407155990600586,
          15.2103910446167,
          13.71938419342041,
          16.162099838256836,
          14.488574028015137,
          14.293835639953613,
          15.893292427062988,
          15.13295841217041,
          15.193909645080566,
          14.915667533874512,
          13.456061363220215,
          15.827128410339355,
          14.24495792388916,
          14.186965942382812,
          15.385828971862793,
          13.981382369995117,
          15.633048057556152,
          15.989411354064941,
          12.924447059631348,
          15.176694869995117,
          15.354387283325195,
          14.921792984008789,
          12.715813636779785,
          15.510217666625977,
          14.264678955078125,
          15.037676811218262,
          13.10805892944336,
          12.836443901062012,
          14.863499641418457,
          13.983484268188477,
          15.581954956054688,
          15.24107837677002,
          13.014564514160156,
          12.932596206665039,
          14.380576133728027,
          15.63122272491455,
          12.704877853393555,
          13.130617141723633,
          12.854671478271484,
          15.954947471618652,
          15.063676834106445,
          14.944392204284668,
          13.046198844909668,
          14.342294692993164,
          15.412701606750488,
          13.965607643127441,
          12.902892112731934,
          15.812737464904785,
          14.790885925292969,
          15.840714454650879,
          15.232415199279785,
          13.773937225341797,
          12.46180248260498,
          12.567971229553223,
          16.034093856811523,
          14.194626808166504,
          15.594285011291504,
          15.609350204467773,
          14.845373153686523,
          15.414240837097168,
          12.400200843811035,
          12.637426376342773,
          15.095999717712402,
          15.48483657836914,
          14.62047004699707,
          15.04366683959961,
          12.87984561920166,
          15.086644172668457,
          15.55848503112793,
          14.49750804901123,
          12.639187812805176,
          14.253135681152344,
          15.636370658874512,
          14.984692573547363,
          12.994841575622559,
          14.788430213928223,
          14.870251655578613,
          12.829499244689941,
          14.730573654174805,
          13.196489334106445,
          14.305046081542969,
          15.441813468933105,
          15.00308895111084,
          14.853690147399902,
          12.919663429260254,
          15.139700889587402,
          15.825963020324707,
          15.491761207580566,
          14.991355895996094,
          13.733806610107422,
          14.229742050170898,
          14.236959457397461,
          15.713868141174316,
          14.485452651977539,
          14.723508834838867,
          12.555218696594238,
          15.006427764892578,
          15.382262229919434,
          15.33410930633545,
          12.648162841796875,
          12.636687278747559,
          12.674712181091309,
          14.296244621276855,
          15.405477523803711,
          13.205245018005371,
          14.858899116516113,
          13.48574447631836,
          15.490474700927734,
          13.96930980682373,
          13.223125457763672,
          14.90342903137207,
          15.343838691711426,
          15.825406074523926,
          14.861454010009766,
          14.845866203308105,
          15.490882873535156,
          15.79878044128418,
          12.786454200744629,
          14.763151168823242,
          15.18978214263916,
          14.827579498291016,
          14.997709274291992,
          14.93895435333252,
          15.046449661254883,
          15.178767204284668,
          14.371956825256348,
          13.23041820526123,
          14.896343231201172,
          15.853665351867676,
          13.237842559814453,
          13.813641548156738,
          15.28792667388916,
          14.828621864318848,
          15.032272338867188,
          15.196331977844238,
          14.820107460021973,
          12.392537117004395,
          15.486343383789062,
          16.907384872436523,
          14.967140197753906,
          14.948060035705566,
          14.929302215576172,
          15.020310401916504,
          12.841649055480957,
          14.775362968444824,
          14.894704818725586,
          12.52342700958252,
          14.8689603805542,
          14.868807792663574,
          15.49987506866455,
          15.20301342010498,
          13.26953411102295,
          15.014728546142578,
          12.398918151855469,
          14.279650688171387,
          12.704961776733398,
          14.638798713684082,
          14.259618759155273,
          15.418428421020508,
          14.72829818725586,
          15.471949577331543,
          12.681573867797852,
          12.517548561096191,
          12.609712600708008,
          15.636309623718262,
          14.263062477111816,
          14.929553985595703,
          13.172359466552734,
          15.646248817443848,
          14.994011878967285,
          15.143867492675781,
          13.232897758483887,
          15.498919486999512,
          13.60218334197998,
          15.230360984802246,
          15.222203254699707,
          13.74044132232666,
          15.735302925109863,
          13.075993537902832,
          15.312545776367188,
          15.825813293457031,
          14.727319717407227,
          15.106195449829102,
          15.614178657531738,
          14.830636024475098,
          14.870462417602539,
          13.976956367492676,
          13.539515495300293,
          15.275737762451172,
          14.766654014587402,
          14.853137016296387,
          13.528712272644043,
          13.09503173828125,
          13.276330947875977,
          12.636238098144531,
          16.039506912231445,
          15.2587308883667,
          14.877511978149414,
          14.833395004272461,
          15.760966300964355,
          14.837549209594727,
          13.978822708129883,
          14.313313484191895,
          12.700685501098633,
          13.502041816711426,
          14.601093292236328,
          13.04964542388916,
          14.497956275939941,
          15.232274055480957,
          16.13743019104004,
          14.773507118225098,
          14.583914756774902,
          15.513176918029785,
          14.84743881225586,
          12.978397369384766,
          14.782615661621094,
          14.433555603027344,
          13.309954643249512,
          14.789366722106934,
          14.598654747009277,
          14.074580192565918,
          12.693268775939941,
          15.6349515914917,
          14.156721115112305,
          14.85340690612793,
          15.845526695251465,
          14.260947227478027,
          15.624296188354492,
          13.200315475463867,
          14.403157234191895,
          14.755572319030762,
          12.901814460754395,
          14.481809616088867
         ]
        },
        {
         "hoverinfo": "text",
         "hovertext": [
          "pau manager reception center kill knife sudanese migrant via",
          "sharia sweden conservative journalist ingrid carlqvist amp maria celander indict thought crime islam face",
          "actually sour though pickle except cabbage instead cucumber delicio",
          "biden amp eu join force eu commissioner ylva johansson see video work biden fight right wing extremist",
          "islamophobia slay unbeliever wherever ye find koran verse",
          "woman march silent taxpayer fund german school put hijab non muslim german girl dress rehearsal",
          "italy naked jaybird illegal alien muslim invader take leak middle street broad daylight",
          "hungary continue put people st illegals prime minister viktor orb n vowed never allow christian country chang",
          "londonistan tesco worker help police take muslim attacker brandishing multiple knife",
          "remember nato bombing yugoslavia",
          "break new year eve canada police violently raid family gathering six people neighbor report coronavirus",
          "germany threatens citizen merkel release ultimatum get vaccinate banish germany already throw quarantine",
          "warn u democratic party copy germany deploys antifa stormtroopers conservative germany left wing gov",
          "trump accomplish last president combine",
          "break massive cover expose virologist sucharit bhakdi healthy people dangerous vaccine young",
          "back another twitter ban new crime quote world health organization discus new vaccination",
          "french geneticist covid health crisis test healthy people medicine see viral video focus",
          "father botros coptic orthodox priest try wake west year many christian must die",
          "wow german parliament left stun afd martin hess slam german lawmaker allow war machine ente",
          "allahu akbar migrant attack migrant riot man commits suicide greek detention center hundred illegal migrant",
          "course american medium never show capital city european union new year eve bruss",
          "easy meat another fail muslim asylum seeker rape murder chop body british woman lure",
          "know term islamophobia invent front group muslim brotherhood order export",
          "enrich sweden isi child back sweden pose weapon sever head social service take child fro",
          "break see inside germany maximum security corona jail quarantine violator barbed wire amp security fence surround",
          "linda sarsour organizer woman march amp openly support sharia law let sink adaywithoutwomen internati",
          "demographic jihad swedish government lie massive migration number video within generation sweden third large",
          "biden let million illegals america vaccination record democrat",
          "chinese corona virus like",
          "enrich germany syrian refugee tell job center would rather fight jihadis meanwhile muslim brotherhood ba",
          "shock famous journalist expose suicidal effect sweden open border policy video swede told",
          "morocco muslim youth vandalize brand new casablanca bus apparent reason",
          "keep warn america know many syrian muslim refugee way america next eu",
          "migrant party taxpayer fund resort pool spain remains lockdown two week ago migrant left wing red",
          "afd gottfried curio warn world amp stuns german parliament un amp merkel plan expose make every call refugee",
          "venezuela start free distribution drug covid",
          "netherlands like last week former soldier stood today protection protester",
          "vaccination blackmail restaurant expect reopen january",
          "hamas link cair amp soros unite push blasphemy law wan america cair call legislator label criticism",
          "belgium first islamic state europe one third country population foreign origin brussels belg",
          "people die vaccination accord pej bos cichutek bpk however people",
          "alert america face invasion border biden flood america refugee terr",
          "syrian muslim terrorist ahmad al issa try travel syria summer unable due coronavirus lockdown acco",
          "france sudanese muslim illegal alien stab immigration official death asylum claim reject",
          "covid plot gay man flee venezuela warns communist take canada trudeau use virus power grab",
          "break christian attack jihad attack suicide bomber strike catholic church indonesia palm sunday church",
          "well uganda damn well leave sweden",
          "flashback fbi take poster seek islamic terrorist hamas link cair complain show photo fb",
          "muslim commit multiple terrorist attack across europe gt muslim look back anger random",
          "yet bombed middle eastern country",
          "fifteen girl saudi arabia burn alive islamic sharia religious police let leave burning",
          "anti christian twitter iftar amp ramadan hashtag emoji honor islamic holy day one christian ho",
          "demographic jihad swedish government lie massive migration number almost illegal migrant grant citizensh",
          "bloody man throw decapitate head window onto street france short month ago islamic migrant",
          "one good thing french police never hesitate fire weapon knife wield muslim",
          "global plot left wing western leader continue open border mass migration impose harsh coronavirus lock",
          "germany stab spree frankfurt leaf several injured german authority probe attacker motif",
          "trump peace biden war thanks left",
          "biden obama back terrorist please islamic pakistani sharia court overturn conviction",
          "anyone yet investigate mosque ahmad al issa attend",
          "enough mr laschet enough merkel cry help hairdresser bianka fuse burn",
          "radical somali congressmuslim ilhan omar mn threatens force republican congresswoman office",
          "biden need another war middle east also biden proceeds bomb syria",
          "coronavirus tyranny german state police detain maskless elderly cyclist citizen violate chancellor angela merkel lockd",
          "globalists celebrate eu biden join force fight right wing extremist islamize west ban free speech islamic",
          "turkish president recep tayyip erdogan file criminal complaint dutch opposition leader geert wilder",
          "colorado shooter facebook page quote prophet muhammad also know extremely religious sure thi",
          "stop steal twitter suspends spain conservative vox party ahead election video vox leader santiago abascal vow",
          "report government dominate committee call seat inbound flight quarantine place australia",
          "tell u else could seem may side effect",
          "woman speak islam france threaten rape amp death american understand happen",
          "biden test illegal alien coronavirus le month biden number people illegally",
          "warn attack france come muslim mayor incites jihadis threaten teacher samuel paty style death teacher",
          "trump accomplish last president combine",
          "coronavirus tyranny truth teller arrest uk woman arrest film inside empty hospital post online",
          "alabama litigation jihadist cair file federal lawsuit prison execute two convert islam without",
          "kill kill war police france mainly african arab muslim commu",
          "alert mandatory coronavirus vaccination come spain video refuse injection mislabelled vaccine wi",
          "still catholic apostate",
          "german try warn u",
          "meanwhile enrich belgium four minor arrest plot islamic terrorist attack one already bought mac",
          "austrian girl told wear hijab prevent assault migrant fmr member parliament suggests austrian born girl",
          "ten people slaughter syrian muslim refugee ahmad al issa white non muslim terrorist attack also goin",
          "hungarian prime minister orb n soros population replacement make europe muslim orb n leader pa sto",
          "syrian muslim refugee welcome america hand citizenship along host taxpayer fund handout",
          "west full country protect border dangerous illegal migrant problem imposi",
          "sure many research danger associate gene alter prick",
          "biden sign executive order first ten day president anyone sign many executive order",
          "break pandemic number fake blame trump change guideline covid test hour biden inauguration thes",
          "expose covid lockdown rule apply salvini left wing italian trial judge salvini trial kidnapping w",
          "make germany great warn globalists socialist amp enemy west germany fed amp rise af lead",
          "deeply disappointed gov abbott proud gab amp jewish support christian run business amp thank",
          "government enforces hospital put every death covid",
          "bioterrorism bangladeshi muslim doctor arrest boston try obtain deadly ricin fbi investigate dr ishtiaq",
          "hey know syrian muslim terrorist colorado twitter account delete show h",
          "share caution vaccine know long term side effect basically modify pe",
          "open border joe biden vow increase refugee admission trump demand low refugee admission u histo",
          "go forward twitter tweet mention coronavirus vaccination censor twitter part",
          "sharia uk every woman cover top toe otherwise police collect situati",
          "suicidal sweden left wing open border policy blame late allahu akbar attack afghani tamim sultani grant",
          "german parliament left stun afd gottfried curio migrant go save germany ruin",
          "biden legislate executive order unless dictator also biden proceeds sign record break",
          "break u custom border protection report illegals attempt cross border february",
          "break terror attack sweden eight injured vetlanda video police refuse answer medium question",
          "america corrupt refugee resettlement program brainchild senator biden one reason muslim brotherhood end",
          "democrat darling rep ilhan omar say chuckle israel call democracy compare iran anti",
          "threat alert terror tie migrant run dangerous mosque amp islamic school florida dr fadi yousef kablawi long history",
          "warn socialist spain keep register vaccine refusers country receive name dissenter strategy designe",
          "easter australia day allow",
          "global plot left wing western leader continue open border mass migration imposin",
          "population control group cheer biden force taxpayer fund overseas abortion trump like reagan stop taxpayer fun",
          "enrichment father beat sexually abuse daughter check muslim sweden refuse deport court h",
          "break sweden admits people die high rate due pandemic video statistic reveal overall death rate",
          "clarkston georgia one georgia large mosque built small city clarkston resident",
          "christian refugee austria return syria safer young christian syria flee austria esca",
          "muslim brotherhood congressman andre carson arrest yet republican allow serve spy house intelligenc",
          "globalists celebrate open border joe biden european union joe biden join force fight right wing extremist",
          "terror attack update afghani migrant behind stab sweden medium reporting terrorist suffer",
          "france call islamophobe live hr police protection due death threat receive",
          "world hijab day one many subtle tactic use muslim brotherhood front group introduce sharia america illino",
          "france muslim arrest try carry attack jewish school amp kosher grocery video prosecutor cry mental illness",
          "suicidal socialist spain moroccan migrant mohamed professional robber commit crime h",
          "start go biden bomb",
          "question point baby wear hijab hijab suppose prevent men tempt sin appea",
          "new year austria civil war like incident amp yell allahu akbar new year eve vienna meanwhile elec",
          "sharia compliant nike harshly condemn depict iranian female mathematician hijab chosen never",
          "predict biden break trump peacetime record launch air strike syria",
          "new follower syria last week see",
          "hamas link cair amp iihan omar unite demand sharia compliance pro sharia muslim rep elect ilhan omar demand amazon give",
          "enrich france police crew attack mortar fire car burn amp fire set throughout lyon mayor refuse",
          "muslim ever respect religious teacher religion koran order religion",
          "shock video famous journalist expose suicidal effect sweden open border policy swede told",
          "geert wilder shock dutch parliament koran full jew hatred wilder demand parliament stop pretend care abo",
          "bolder muslim refugee terrorist convict misdemeanor assault another student high school suspe",
          "go war germany protect america english replace german ensure",
          "astra zeneca prove dangerous yet country throughout europe push citizen meanwhile famous german doctor",
          "spain attack military age migrant infect coronavirus storm border fence socialist gov caught distri",
          "fbi arrest doug mackey aka ricky vaughn conservative journalist florida face year hurt democrat",
          "happen make american listen put video year ago man interrogate islamic",
          "eu schmuck blast bosnia take well care illegal alien muslim invader burn calle",
          "hijab amp niqab represent subjugation woman sign woman accept responsibility keep men tempt",
          "america deal deadly islamic terrorist attack colorado jihadist kill mali one",
          "tuesday biden address nation islamic attack say would speculate shooter motive",
          "politician marine le pen party france slam famous ballet du nord put woman sharia hijab",
          "islamic migrant threatens gang rape politician expose illegally operate mosque see video islamic community",
          "must watch video break famous doctor develops safe vaccine covid germany prosecutes state targete",
          "read two new openly anti illegal migrant pro border minister appoint conservative prime minister kyriakos",
          "igrant enrichment german woman begs help go street anymore without think pepper spr",
          "enrich belgium brussels mohamed mohammed ahmed common name many municipality new stati",
          "elderly abuse grandma ban nursing home activity refuse vaccinate vaccine suppose vol",
          "break swedish news reporting suspect first enter country",
          "army illegal migrant invade hungarian home mayor demand military action woman found army illegals",
          "get ready white people joe biden america inbound gt unrelenting stream immigration non stop gt",
          "break germany suspends astra zeneca vaccination although report side effect increase several st",
          "alabama litigation jihadist cair file federal lawsuit prison execute two convert islam wit",
          "israel law allows authority know identity unvaccinated people",
          "warn isi order wolf attack church amp police spain despite anti terrorist unit warn left wing gov",
          "putin responds biden threat wish good health",
          "female palestinian muslim terrorist say prepare carry suicide bombing mission jew like prep",
          "dr fauci covid expert back march",
          "biden threat global security china ate secretary blinken lunch ccp order press back room",
          "belgium first islamic state europe one third country population foreign origin brussels belgian",
          "follow france footstep austria begin crackdown muslim",
          "fbi interviewed terrorist amp nothing major hasan fort hood tx kill amp wound omar mateen orland",
          "enrich uk refugee demand hotel set fire barrack threaten kidnapping staff commonplace europ",
          "yes af slam merkel import culture hate woman turn berlin baghdad migrant willi",
          null
         ],
         "marker": {
          "opacity": 0.5,
          "size": 5
         },
         "mode": "markers+text",
         "name": "1_muslim_biden_migrant",
         "text": [
          "",
          "",
          "",
          "",
          "",
          "",
          "",
          "",
          "",
          "",
          "",
          "",
          "",
          "",
          "",
          "",
          "",
          "",
          "",
          "",
          "",
          "",
          "",
          "",
          "",
          "",
          "",
          "",
          "",
          "",
          "",
          "",
          "",
          "",
          "",
          "",
          "",
          "",
          "",
          "",
          "",
          "",
          "",
          "",
          "",
          "",
          "",
          "",
          "",
          "",
          "",
          "",
          "",
          "",
          "",
          "",
          "",
          "",
          "",
          "",
          "",
          "",
          "",
          "",
          "",
          "",
          "",
          "",
          "",
          "",
          "",
          "",
          "",
          "",
          "",
          "",
          "",
          "",
          "",
          "",
          "",
          "",
          "",
          "",
          "",
          "",
          "",
          "",
          "",
          "",
          "",
          "",
          "",
          "",
          "",
          "",
          "",
          "",
          "",
          "",
          "",
          "",
          "",
          "",
          "",
          "",
          "",
          "",
          "",
          "",
          "",
          "",
          "",
          "",
          "",
          "",
          "",
          "",
          "",
          "",
          "",
          "",
          "",
          "",
          "",
          "",
          "",
          "",
          "",
          "",
          "",
          "",
          "",
          "",
          "",
          "",
          "",
          "",
          "",
          "",
          "",
          "",
          "",
          "",
          "",
          "",
          "",
          "",
          "",
          "",
          "",
          "",
          "",
          "",
          "",
          "",
          "",
          "",
          "",
          "",
          "",
          "",
          "",
          "",
          "",
          "",
          "1_muslim_biden_migrant"
         ],
         "textfont": {
          "size": 12
         },
         "type": "scattergl",
         "x": [
          3.545703172683716,
          3.180436134338379,
          2.2620110511779785,
          2.718278408050537,
          3.8825833797454834,
          3.340801239013672,
          2.8916361331939697,
          2.9397311210632324,
          3.482712745666504,
          4.2772674560546875,
          2.2815003395080566,
          2.1581287384033203,
          2.496534824371338,
          2.385772705078125,
          1.638476014137268,
          1.5955257415771484,
          1.739635705947876,
          4.361927509307861,
          2.466982364654541,
          3.4510817527770996,
          4.3012566566467285,
          3.4123568534851074,
          3.784484624862671,
          2.8827216625213623,
          2.211068868637085,
          3.345461130142212,
          2.759460210800171,
          2.5666353702545166,
          1.8079999685287476,
          3.1928889751434326,
          2.711897373199463,
          3.658527374267578,
          3.2245473861694336,
          2.4239888191223145,
          2.502026081085205,
          1.7842705249786377,
          2.492680788040161,
          1.6078481674194336,
          4.076903343200684,
          3.689729928970337,
          1.6437965631484985,
          2.9996795654296875,
          3.4680380821228027,
          3.722987413406372,
          2.0877161026000977,
          4.410521984100342,
          2.8162779808044434,
          3.8474323749542236,
          3.8850059509277344,
          4.255192756652832,
          3.397035598754883,
          4.42958402633667,
          2.812274217605591,
          3.589433193206787,
          3.971890926361084,
          2.3592257499694824,
          2.4207732677459717,
          2.703632354736328,
          3.394021987915039,
          3.750683069229126,
          2.7880659103393555,
          3.6179397106170654,
          2.687955856323242,
          2.220442295074463,
          2.960082530975342,
          2.6100387573242188,
          4.015494346618652,
          2.27311110496521,
          2.0740654468536377,
          1.6560394763946533,
          3.862870454788208,
          2.6136536598205566,
          3.919551372528076,
          2.431779623031616,
          1.8900660276412964,
          3.8186075687408447,
          4.116497993469238,
          1.6870520114898682,
          4.3474531173706055,
          2.568688154220581,
          3.8001909255981445,
          3.3558409214019775,
          3.7076330184936523,
          2.834411859512329,
          3.2633419036865234,
          3.0281715393066406,
          1.6585882902145386,
          2.472151279449463,
          2.431238889694214,
          2.319671630859375,
          2.5595667362213135,
          4.498756408691406,
          1.920828938484192,
          3.6147782802581787,
          3.9940712451934814,
          1.6549240350723267,
          2.8308990001678467,
          1.6123331785202026,
          3.352855920791626,
          2.8329994678497314,
          2.522179126739502,
          2.477041244506836,
          3.0402679443359375,
          2.7886834144592285,
          3.240032196044922,
          4.094832897186279,
          3.8332440853118896,
          1.7241300344467163,
          4.443457126617432,
          2.587829351425171,
          2.612931251525879,
          2.951369524002075,
          2.544118881225586,
          3.8106281757354736,
          3.2910654544830322,
          3.6148602962493896,
          2.7423956394195557,
          2.8404734134674072,
          3.9142544269561768,
          3.4534363746643066,
          3.9548964500427246,
          3.4883296489715576,
          2.649404764175415,
          3.3890838623046875,
          4.342733860015869,
          3.3616058826446533,
          2.551955461502075,
          4.064576148986816,
          3.970033645629883,
          3.929478645324707,
          4.26581335067749,
          2.728982925415039,
          2.5726072788238525,
          3.8039186000823975,
          2.508300542831421,
          1.9192098379135132,
          2.14517879486084,
          3.650909900665283,
          3.749361276626587,
          3.1082215309143066,
          3.3844971656799316,
          4.016233921051025,
          3.0489661693573,
          3.363380193710327,
          3.6449432373046875,
          1.7683621644973755,
          2.5907509326934814,
          2.1969547271728516,
          3.7098097801208496,
          1.7406764030456543,
          2.7885658740997314,
          2.87048077583313,
          2.828744888305664,
          1.8251184225082397,
          3.810577869415283,
          1.6649279594421387,
          2.4018192291259766,
          2.685957908630371,
          3.8585989475250244,
          1.763823390007019,
          2.716226577758789,
          3.713388681411743,
          3.761944055557251,
          3.660992383956909,
          3.2180445194244385,
          2.8045592308044434,
          3.0236237049102783
         ],
         "y": [
          16.574405670166016,
          16.873022079467773,
          15.5090913772583,
          14.747095108032227,
          16.464500427246094,
          16.924396514892578,
          15.843944549560547,
          16.164323806762695,
          16.58417320251465,
          16.495784759521484,
          15.788569450378418,
          15.595596313476562,
          15.591691970825195,
          14.408935546875,
          15.6406888961792,
          15.559593200683594,
          15.785370826721191,
          16.19389533996582,
          15.605626106262207,
          16.4862060546875,
          15.524211883544922,
          16.5754337310791,
          16.40461540222168,
          16.863801956176758,
          15.418416976928711,
          16.908300399780273,
          16.847753524780273,
          14.91418170928955,
          15.831247329711914,
          15.903678894042969,
          16.810405731201172,
          16.713693618774414,
          15.876273155212402,
          16.164278030395508,
          15.631394386291504,
          15.81784725189209,
          15.685049057006836,
          15.637056350708008,
          16.09760284423828,
          16.385128021240234,
          15.654134750366211,
          15.340481758117676,
          16.054853439331055,
          16.679290771484375,
          16.028947830200195,
          16.11393928527832,
          16.860504150390625,
          16.004928588867188,
          16.556472778320312,
          16.487165451049805,
          16.894012451171875,
          16.110471725463867,
          16.857736587524414,
          16.64594268798828,
          16.776363372802734,
          16.187946319580078,
          15.622715950012207,
          14.665472984313965,
          15.614133834838867,
          16.02033805847168,
          15.676268577575684,
          16.388824462890625,
          14.580831527709961,
          15.615839004516602,
          14.944869995117188,
          15.766600608825684,
          16.279617309570312,
          16.089677810668945,
          15.811473846435547,
          15.628149032592773,
          16.72622299194336,
          14.969460487365723,
          16.718748092651367,
          14.442556381225586,
          15.743539810180664,
          16.074905395507812,
          16.57124900817871,
          15.722301483154297,
          16.167051315307617,
          15.546202659606934,
          16.54874038696289,
          16.911745071411133,
          16.22881507873535,
          16.273967742919922,
          15.808526992797852,
          15.581814765930176,
          15.650251388549805,
          14.510860443115234,
          14.839309692382812,
          15.825337409973145,
          15.55258846282959,
          16.124704360961914,
          15.79883098602295,
          15.989306449890137,
          16.26308250427246,
          15.651546478271484,
          15.162161827087402,
          15.574820518493652,
          16.965171813964844,
          16.77464485168457,
          15.642240524291992,
          14.493673324584961,
          15.220558166503906,
          16.815105438232422,
          15.766542434692383,
          16.033222198486328,
          16.00481605529785,
          15.72280216217041,
          16.04377555847168,
          16.272666931152344,
          14.879958152770996,
          16.847412109375,
          16.778398513793945,
          16.09528160095215,
          15.978985786437988,
          15.686117172241211,
          14.869224548339844,
          16.791784286499023,
          16.720867156982422,
          16.826566696166992,
          16.766963958740234,
          16.446626663208008,
          14.525430679321289,
          16.997045516967773,
          15.60236930847168,
          16.970867156982422,
          14.522353172302246,
          16.35074234008789,
          16.014463424682617,
          16.738094329833984,
          16.356433868408203,
          16.83839988708496,
          15.731208801269531,
          16.194393157958984,
          15.576125144958496,
          15.640686988830566,
          15.987853050231934,
          15.613680839538574,
          16.191509246826172,
          15.885738372802734,
          16.969257354736328,
          16.30609130859375,
          15.085553169250488,
          16.929950714111328,
          16.438251495361328,
          15.712509155273438,
          16.300983428955078,
          15.562721252441406,
          16.332462310791016,
          15.624149322509766,
          16.81410026550293,
          16.238521575927734,
          15.044889450073242,
          15.619118690490723,
          16.06456756591797,
          15.70406436920166,
          16.048343658447266,
          14.611836433410645,
          16.694246292114258,
          15.738679885864258,
          14.509220123291016,
          16.404090881347656,
          16.56519889831543,
          15.989791870117188,
          16.171112060546875,
          15.733660697937012,
          15.982999801635742
         ]
        },
        {
         "hoverinfo": "text",
         "hovertext": [
          "john kohn aka john kerry claim earth nine year",
          "trump present future republican party plan run",
          "march nyc mayor de blasio msnbc amp healthy n yers little th",
          "united remove traitor like party good choice show cpac",
          "trump want every american read follow time magazine article democrat crook flaunt corruptness know",
          "warn joe biden radical hud secretary marcia fudge threat america watch like many others biden admin",
          "rino nikki haley scar show face cpac",
          "george lincoln rockwell born march assassinate august",
          "antifa always corporate manufacture product anarcho marxism package sell capitalist impre",
          "many vote discover georgia tonight watch suitcase ga sen",
          "show one politician corrupt core",
          "democrat work harder rebuild c swamp american job",
          "threat alert radical communist tie nominate secretary interior deb haaland nomination completel",
          "necessary win election help someone heart big must heart",
          "trump cpac trumpism mean strong border riot support police nd amendment video",
          "wa po typical left wing news organization exists harm conservative jeff bezos u power money",
          "happen look like suitcase democrat ballot show",
          "trump cpac warmonger liz cheney",
          "trump slam traitor republican party yes name every last one time take back party",
          "president trump cpac must voter id republican party actually tackle issue must stop speaki",
          "guy tune est click link see donald trump cpac address cpac general",
          "counting stop ballot fairy go work",
          "george conway lie national tv say know fellow co founder lincoln project well r",
          "win seat georgia mitt romney go officially declare democrat good riddance",
          "get teary eyed see elderly veteran show freedom plaza fight trump incredible co",
          "rino nikki haley scar show face cpac",
          "time see mike penny truly patriot",
          "make remain ballot de kalb county must manually scan order tabulate",
          "shame gop ballot atlanta start come even though poll close five hour ago democrat co",
          "lincoln project every one work trump admin held accountable action also lp w",
          "house democrat push cable company big tech get rid conservative news network",
          "cqfd well totally fire like trump",
          "one trump lawyer play unedited fine people hoax video debunk front america network",
          "rashida tlaib give oscar worthy performance house floor favorite line happen january th",
          "yes trump might decide beat third time usa usa usa",
          "expose georgia election bribe democrat group caught break federal law bribing georgia voter",
          "cool story first time radio legendary rush limbaugh right somewhat infamou",
          "alert communist senator chris murphy connecticut national security threat murphy infiltrate senate fo",
          "cnn rest liberal medium fake plan attack today u capitol go today",
          "jake tapper dnc operative expose wikileaks left wing hack nerve say kaleigh mc ne",
          "greta thunberg expose creation powerful marxist soros back ngo al gore amp",
          "ryan girdusky lincoln project part grift part groom operation john weaver",
          "trump take stage cpac love president",
          "already election need mike penny stop democrat steal",
          "end every trump speech music come help get dance president give much ho",
          "watch president trump take stage cpac give burst joy hope",
          "uncle mla aunt vice president",
          "gayle oprah paid pr harry witch",
          "long machine shut georgia night",
          "entire world watch trump cpac",
          "one president trump told u corruption go take place georgia right free",
          "surprised new age neo marxist refuse join take wall street crook",
          "president run third term cpac",
          "trump one address illegal immigration cpac republican party wake f",
          "donald trump jr gov cuomo get emmy send grandma death gov de santis get hell open beach h",
          "flag ny dems let let one credible scandal distract another credible disa",
          "year ago today one america great patriot hero born born bloomington illinois",
          "thought hillary aka schrillary clinton new book welcome",
          "entire world watch trump cpac",
          "gab run beautifully thank msm announce moment hate fo",
          "love trigger left amaze marjorie taylor greene look one strong conservative woman scare",
          null
         ],
         "marker": {
          "opacity": 0.5,
          "size": 5
         },
         "mode": "markers+text",
         "name": "2_trump_cpac_democrat",
         "text": [
          "",
          "",
          "",
          "",
          "",
          "",
          "",
          "",
          "",
          "",
          "",
          "",
          "",
          "",
          "",
          "",
          "",
          "",
          "",
          "",
          "",
          "",
          "",
          "",
          "",
          "",
          "",
          "",
          "",
          "",
          "",
          "",
          "",
          "",
          "",
          "",
          "",
          "",
          "",
          "",
          "",
          "",
          "",
          "",
          "",
          "",
          "",
          "",
          "",
          "",
          "",
          "",
          "",
          "",
          "",
          "",
          "",
          "",
          "",
          "",
          "",
          "2_trump_cpac_democrat"
         ],
         "textfont": {
          "size": 12
         },
         "type": "scattergl",
         "x": [
          2.6756367683410645,
          2.2797718048095703,
          2.897843360900879,
          2.719729423522949,
          3.1194307804107666,
          2.801408052444458,
          2.513025999069214,
          3.439807415008545,
          5.656965255737305,
          2.809394359588623,
          2.7187297344207764,
          3.0671370029449463,
          2.844853401184082,
          2.7538797855377197,
          2.2510266304016113,
          3.2967922687530518,
          2.7877044677734375,
          2.5507397651672363,
          2.5654184818267822,
          2.266587018966675,
          2.238232374191284,
          2.7718448638916016,
          3.3291828632354736,
          2.781738519668579,
          2.318413257598877,
          2.47005295753479,
          2.6595263481140137,
          2.7946367263793945,
          2.820368528366089,
          2.988421678543091,
          3.1766374111175537,
          2.504516839981079,
          3.221426010131836,
          2.4503750801086426,
          2.258739709854126,
          2.8244495391845703,
          3.12226939201355,
          2.820805549621582,
          3.142012357711792,
          3.039449453353882,
          3.4782681465148926,
          3.4189438819885254,
          2.248337507247925,
          2.665565252304077,
          2.330660820007324,
          2.2484893798828125,
          2.7876901626586914,
          3.2740769386291504,
          3.03859543800354,
          2.2101197242736816,
          2.9062681198120117,
          3.51631498336792,
          2.2584991455078125,
          2.2695178985595703,
          2.588005542755127,
          2.730879545211792,
          3.5641603469848633,
          3.04435396194458,
          2.235809564590454,
          2.86783766746521,
          3.295173406600952,
          2.83158278465271
         ],
         "y": [
          13.093255043029785,
          13.693867683410645,
          13.763094902038574,
          13.472131729125977,
          13.816031455993652,
          13.95761775970459,
          13.6038236618042,
          13.415671348571777,
          15.129955291748047,
          12.89493179321289,
          13.414369583129883,
          13.757076263427734,
          13.97276782989502,
          13.018945693969727,
          13.583032608032227,
          13.929512023925781,
          12.896050453186035,
          13.589058876037598,
          13.560654640197754,
          13.583800315856934,
          13.556832313537598,
          12.884956359863281,
          13.437799453735352,
          12.940200805664062,
          13.514411926269531,
          13.566036224365234,
          13.243825912475586,
          12.90468692779541,
          12.893884658813477,
          13.425098419189453,
          13.872349739074707,
          13.510831832885742,
          13.899835586547852,
          13.47100830078125,
          13.84494400024414,
          12.929525375366211,
          13.803832054138184,
          13.843828201293945,
          13.935364723205566,
          13.809316635131836,
          13.799174308776855,
          13.428201675415039,
          13.55649471282959,
          13.145092964172363,
          13.57895565032959,
          13.53323745727539,
          13.372176170349121,
          13.404397964477539,
          12.847139358520508,
          13.56336498260498,
          13.030967712402344,
          13.871663093566895,
          13.643391609191895,
          13.585487365722656,
          13.761216163635254,
          13.45433521270752,
          13.386882781982422,
          13.454743385314941,
          13.548766136169434,
          12.913553237915039,
          13.65290641784668,
          13.507649421691895
         ]
        },
        {
         "hoverinfo": "text",
         "hovertext": [
          "medium want believe hundred people freedom reclaim",
          "two private school girl adelaide appear film hang black baby doll give part",
          "friend let support dear friend let solidarity problem account friend get notification",
          "tell everyone year ever give scandinavian brother sister war th",
          "savitri devi write numerous time determine quality person people view",
          "islamic pakistan medium blackout muslim destroy another hindu temple pakistan modi caa give citizenship persecute",
          "sharia pakistan little hindu girl pakistan abduct beg india modi protection islamic ca",
          "inter n national c chutiya",
          "friend india please contact help expose left coordinate attack country indian fa",
          "agree ignoramus toby young free describe journalist illiterate make",
          "india innovative thrust jai swadeshi",
          "modi ji slogan self reliance penetrate even among love couple",
          "happy republic day india america stand care deeply war jihadis amp left wag country amp",
          "really modi ji get credit rejuvenation include go journey become possible",
          "rahul gandhi big asset bjp",
          "shameful samuel paty style threat head school bow violent jihad mob parent issue apology su",
          "warn biden terror tie hijabi appointee sameera fazili threat u amp india fazili member stand kash",
          "australian student year behind average chinese student sat test year behind",
          "facebook ban gay ex muslim iraq life germany one photo show kiss man",
          "g link anon r pls research post u find fault let know learn hhx news clipping lie flie",
          "south australia trinity college apologise video circulate show student school hang black",
          "time fix mukhtar ansari salwar peeli",
          "lgbt deviant disrespect kaaba bo azi university detain",
          "associate every work r interest country mithun chakraborty",
          "terrorist attack india islamic mob drag hindu rinku sharma home slaughter front parent wh",
          "u bulat home pawri ho rai hai",
          "ok theek hai",
          "day since kashmiri hindu turn away home let sink",
          "america pay attention coordinate global attack india left radical launch campaign destr",
          "case prima facie seem fault delivery boy kamaraj hitesha pull whole",
          "holy place vrindavan cm shri ji hon union jal shakti minister shri water power",
          "cnrs investigate sa bouamama via",
          "sucial science uba must close",
          "pride india rajputana chittorgarh fort",
          "u press reporting muslim girl father lie samuel paty start campaign get",
          "downfall one kill sadhu insult woman certain parambir singh anil deshmukh uddhav thackeray sanjay raut ht",
          "final round shivgaan competition full swing across maharashtra eve chhatrapati shivaji maharaj birth anniversary umbrella",
          "try tell everyone year matter nothing good enough crea",
          "fund dedication shri ram mandir zomato pizza hut domino swiggy mango shopkeeper",
          "heard psycho back send agra soon",
          "year delhi trouble riot delhi ankit rinku sharma kill jihadis delhi",
          "hindu le sikh today e hoist flag religion red fort",
          null
         ],
         "marker": {
          "opacity": 0.5,
          "size": 5
         },
         "mode": "markers+text",
         "name": "3_india_hindu_pakistan",
         "text": [
          "",
          "",
          "",
          "",
          "",
          "",
          "",
          "",
          "",
          "",
          "",
          "",
          "",
          "",
          "",
          "",
          "",
          "",
          "",
          "",
          "",
          "",
          "",
          "",
          "",
          "",
          "",
          "",
          "",
          "",
          "",
          "",
          "",
          "",
          "",
          "",
          "",
          "",
          "",
          "",
          "",
          "",
          "3_india_hindu_pakistan"
         ],
         "textfont": {
          "size": 12
         },
         "type": "scattergl",
         "x": [
          4.972139358520508,
          4.699769496917725,
          4.68427038192749,
          4.701411247253418,
          4.934393882751465,
          4.399865627288818,
          4.337406158447266,
          4.5994415283203125,
          4.268396377563477,
          3.514374256134033,
          4.70480489730835,
          4.876461982727051,
          4.598061561584473,
          4.870256423950195,
          4.779006004333496,
          4.518104553222656,
          4.176230430603027,
          4.685328006744385,
          4.189117908477783,
          3.9984476566314697,
          4.655765056610107,
          4.27138090133667,
          4.27658748626709,
          4.949641227722168,
          4.3635735511779785,
          4.746590614318848,
          4.667745113372803,
          4.463232040405273,
          4.333992004394531,
          4.32064962387085,
          4.584875583648682,
          4.5603928565979,
          4.494264125823975,
          4.596970558166504,
          4.107713222503662,
          4.397393703460693,
          4.612538814544678,
          4.708262920379639,
          4.6213603019714355,
          4.787940979003906,
          4.348260402679443,
          4.490118026733398,
          4.520631313323975
         ],
         "y": [
          14.686173439025879,
          15.402889251708984,
          13.269185066223145,
          15.662278175354004,
          14.010089874267578,
          14.736416816711426,
          14.82376480102539,
          14.358137130737305,
          14.55380630493164,
          14.365209579467773,
          14.33833122253418,
          14.232815742492676,
          14.343631744384766,
          14.305798530578613,
          14.348265647888184,
          15.292088508605957,
          14.870810508728027,
          15.524561882019043,
          15.21478271484375,
          14.501678466796875,
          15.470586776733398,
          14.510117530822754,
          15.150240898132324,
          14.294965744018555,
          14.79092788696289,
          14.315868377685547,
          14.206084251403809,
          14.639331817626953,
          14.544944763183594,
          14.484855651855469,
          14.472097396850586,
          14.25412654876709,
          14.211642265319824,
          14.465126991271973,
          15.34445571899414,
          14.58586597442627,
          14.455023765563965,
          15.605088233947754,
          14.473062515258789,
          13.267793655395508,
          14.72303581237793,
          14.62849235534668,
          14.612724304199219
         ]
        },
        {
         "hoverinfo": "text",
         "hovertext": [
          "idea guy god work love see clip float around",
          "know many people receive permanent ban social medium account express concern drag",
          "anyway would never stop repeat place woman tiktok quite simply",
          "post need many many million view share many people",
          "new normal watchword great reset",
          "create beast finally bring",
          "covid warn yr old survivor call resistance recur fascism tend hold onto rather magical amp",
          "anyone think create video channel want deal tube censorship bit chute shitty",
          "post need many many million view share many people",
          "mdrrrr see pair look like clutch pedal",
          "neat idea fiction novel anyone interested write bunch retire sof operator use",
          "twitter purge account every single day add follower year instead lose follow",
          "see yet another major purge go today linktree find place",
          "amaze article people write two year ago show ten thousand follower",
          "recent psych science paper use national iq predict stuff ran simple probability calculation measur",
          "bought paid",
          "book write",
          "heal unity creature",
          "amazon dictate ebooks online book sale audiobooks sale head thi",
          "lose follower twitter seem like tolerant free speech love place",
          "good news would prefer rehabilitation center",
          "daniel year old athletic intensive care bfm tv manipulation",
          "go leclerc reimburse x psk difference found penny product cheaper htt",
          "great many level",
          "great reset spring cleaning episode free extract",
          "start reimburse ruin fn",
          "shakespeare sex arcuri johnson read shakespeare sex sofa london mayo",
          "watch first part minute great reset great reset spring cleaning great r",
          "warn left wing fight morph pandemic lockdown climate lockdown climate lockdown private vehicle use b",
          "disability heval",
          "video deserves every thumb get",
          "think twitter allow certain conservative account maintain follower erase account like min",
          "might audio version concept odysee channel find someone want put together vid",
          "twitter thousand retweets twitter dozen retweets twitter new follower daily twitter followe",
          "actually interviewed tube channel couple year ago gotten thousand view",
          "every day come onto twitter lose another hundred follower add follower two year",
          "plz support student amp part campaign",
          "friend india website story rinku sharma block twitter however continue",
          "people bailing tube switch lbry odysee",
          "know many purge account able survive account survive night",
          "delete first one get ratio ed hard uploaded new one allow",
          "great reset big cleaning episode great reset health",
          null
         ],
         "marker": {
          "opacity": 0.5,
          "size": 5
         },
         "mode": "markers+text",
         "name": "4_twitter_follower_many",
         "text": [
          "",
          "",
          "",
          "",
          "",
          "",
          "",
          "",
          "",
          "",
          "",
          "",
          "",
          "",
          "",
          "",
          "",
          "",
          "",
          "",
          "",
          "",
          "",
          "",
          "",
          "",
          "",
          "",
          "",
          "",
          "",
          "",
          "",
          "",
          "",
          "",
          "",
          "",
          "",
          "",
          "",
          "",
          "4_twitter_follower_many"
         ],
         "textfont": {
          "size": 12
         },
         "type": "scattergl",
         "x": [
          5.301530361175537,
          4.737244129180908,
          4.9010186195373535,
          5.0221967697143555,
          4.364805221557617,
          4.677479267120361,
          4.6233391761779785,
          5.291391849517822,
          5.052712440490723,
          4.973194599151611,
          5.255105018615723,
          4.763290882110596,
          4.438996315002441,
          4.964225769042969,
          5.079676628112793,
          4.874410152435303,
          5.344639778137207,
          4.591616153717041,
          5.359479904174805,
          4.791145324707031,
          4.6995930671691895,
          4.779514789581299,
          4.517464637756348,
          5.076779842376709,
          4.3455119132995605,
          4.505522727966309,
          5.465143203735352,
          4.390583515167236,
          4.788928508758545,
          4.716890335083008,
          5.090570449829102,
          4.752011775970459,
          5.309706687927246,
          4.856231212615967,
          5.151316165924072,
          4.809178352355957,
          4.867758274078369,
          4.781055450439453,
          4.992305278778076,
          4.655889987945557,
          4.971525192260742,
          4.388827800750732,
          4.864757537841797
         ],
         "y": [
          12.455214500427246,
          12.070394515991211,
          12.067907333374023,
          12.302847862243652,
          12.749794006347656,
          13.501922607421875,
          13.561060905456543,
          12.508049011230469,
          12.336522102355957,
          13.451347351074219,
          12.056198120117188,
          12.054495811462402,
          12.469783782958984,
          12.251531600952148,
          12.372883796691895,
          12.503806114196777,
          11.904977798461914,
          13.158056259155273,
          11.920092582702637,
          12.030534744262695,
          13.084024429321289,
          12.992132186889648,
          12.71466064453125,
          12.729293823242188,
          12.694901466369629,
          12.756124496459961,
          11.720532417297363,
          12.722005844116211,
          13.676274299621582,
          13.134464263916016,
          12.381954193115234,
          12.050994873046875,
          12.445666313171387,
          12.10209846496582,
          12.470535278320312,
          12.066078186035156,
          13.675736427307129,
          12.04796314239502,
          13.51244068145752,
          12.138285636901855,
          12.378838539123535,
          12.744651794433594,
          12.570643424987793
         ]
        },
        {
         "hoverinfo": "text",
         "hovertext": [
          "myth semitic armenoid story",
          "say denounce anti semitism jew say video link",
          "semite member people speak spoke semitic language include particular jew",
          "old south wealthy white allied jewish merchant pamper color slave class mass poor white",
          "people draw comparison jeffrey epstein lincoln project",
          "remember allow even much question woman story story holocaust told",
          "white people say jew white consider anti semitism jew say",
          "try say jew one lead impeachment",
          "new swedish school report jew malm enemy arab student craze hitler today",
          "social zionism wreak havoc suburb national zionism reap benefit",
          "get align hebrew mythology story",
          "take name main parasitic beneficiary anti semitism journalistic investigation",
          "well jew allow hate white people white people allow hate jew",
          "identity generation techouva anti semitism anti zionism place u",
          "ric dupond moretti act submit zionist lobby via",
          "lol say republican today like jewish holocaust apparently",
          "community say black jew operate together coordinate effort dismiss bigotry r",
          "harassment violence impersonation zionism ulcan trial via",
          "hebrew mythology make race slave benefit",
          "hell holocaust denial illegal place mean illegal simply say something like loo",
          "try say jew stock market beating game anti semitism",
          "law anti white law anti jewish white people really wer",
          "daily reminder jew perfect people never commit crime certainly war crime",
          "average people need start ask okay jew anti white okay white",
          "collect coin like jew anti semitic humor slippage elect official sarcelles see",
          "try say jew one lead impeachment",
          "abrahamic summit jew pope interfaith meeting iraq",
          "amaze often jew involve significant world event",
          "literally every single time hear someone spray paint swastika synagogue end hoax lit",
          "whenever biden speaks know semitic armenoid handler speak instead",
          "white people say jew white consider anti semitism jew say",
          null
         ],
         "marker": {
          "opacity": 0.5,
          "size": 5
         },
         "mode": "markers+text",
         "name": "5_jew_anti_say",
         "text": [
          "",
          "",
          "",
          "",
          "",
          "",
          "",
          "",
          "",
          "",
          "",
          "",
          "",
          "",
          "",
          "",
          "",
          "",
          "",
          "",
          "",
          "",
          "",
          "",
          "",
          "",
          "",
          "",
          "",
          "",
          "",
          "5_jew_anti_say"
         ],
         "textfont": {
          "size": 12
         },
         "type": "scattergl",
         "x": [
          6.714459419250488,
          6.813425540924072,
          7.024406909942627,
          7.226667881011963,
          6.317381858825684,
          6.419521331787109,
          7.025445461273193,
          6.619974613189697,
          6.253992557525635,
          5.818346977233887,
          6.694376468658447,
          5.817281723022461,
          7.065203666687012,
          5.842934608459473,
          5.761631965637207,
          6.931621074676514,
          7.145088195800781,
          5.733783721923828,
          6.824099063873291,
          7.035171031951904,
          6.672670841217041,
          7.06325626373291,
          6.879406452178955,
          7.044921398162842,
          6.620701313018799,
          6.597244739532471,
          6.600954055786133,
          6.699821949005127,
          6.846060752868652,
          6.5687456130981445,
          7.052390098571777,
          6.636483192443848
         ],
         "y": [
          16.575353622436523,
          16.92869758605957,
          16.83220863342285,
          16.463836669921875,
          16.585330963134766,
          16.43879508972168,
          16.86428451538086,
          16.97919464111328,
          16.415935516357422,
          16.409221649169922,
          16.5479679107666,
          16.388818740844727,
          16.849143981933594,
          16.36411476135254,
          16.41910171508789,
          16.876672744750977,
          16.7252140045166,
          16.35973358154297,
          16.575746536254883,
          16.772640228271484,
          16.855684280395508,
          16.805828094482422,
          16.818408966064453,
          16.85688591003418,
          16.924686431884766,
          16.961782455444336,
          16.944717407226562,
          16.813106536865234,
          16.90032958984375,
          16.942110061645508,
          16.830461502075195,
          16.71051788330078
         ]
        },
        {
         "hoverinfo": "text",
         "hovertext": [
          "play wolter kroes viva hollandia",
          "play f aschtb nkler partyplanet",
          "play nicole wonderful",
          "ptdrrrr nintendo schwitz",
          "play semino rossi alone tonight",
          "play fantasy casanova",
          "play hansi hinterseer god life earth",
          "play bobby day rockin robin",
          "play lisa del bo pearl like",
          "get ro pfp would sit one bestie",
          "play various artist fanfare hunger thirst",
          "play hut jordan jay idetto mood",
          "play django wagner de muzikant",
          "play snollebollekes springen nondeju nd bass remix",
          "play jayh nice day",
          "bose dk sit naked",
          "play luc steeno played accordion",
          "play richard anthony j entends siffler le train version remastered",
          "play anja speak silver silent gold",
          "play bob benny love anyway",
          "play sugarfree fantasy",
          "anyone else clubhouse join wonder u",
          null
         ],
         "marker": {
          "opacity": 0.5,
          "size": 5
         },
         "mode": "markers+text",
         "name": "6_play_sit_fantasy",
         "text": [
          "",
          "",
          "",
          "",
          "",
          "",
          "",
          "",
          "",
          "",
          "",
          "",
          "",
          "",
          "",
          "",
          "",
          "",
          "",
          "",
          "",
          "",
          "6_play_sit_fantasy"
         ],
         "textfont": {
          "size": 12
         },
         "type": "scattergl",
         "x": [
          5.896575927734375,
          5.792420864105225,
          5.956185340881348,
          5.823507308959961,
          5.926904678344727,
          5.923158645629883,
          5.916134357452393,
          5.905435562133789,
          5.924846172332764,
          6.018721103668213,
          5.868718147277832,
          5.929458141326904,
          5.889878273010254,
          5.847309112548828,
          5.994503498077393,
          5.852011203765869,
          5.88445520401001,
          5.920248508453369,
          5.941754341125488,
          5.924916744232178,
          5.920172214508057,
          5.6946234703063965,
          5.897816181182861
         ],
         "y": [
          11.1013822555542,
          11.176793098449707,
          11.161116600036621,
          11.117280960083008,
          11.322676658630371,
          11.143949508666992,
          11.057467460632324,
          11.123127937316895,
          11.121180534362793,
          11.460833549499512,
          11.077263832092285,
          11.087579727172852,
          11.029007911682129,
          11.131982803344727,
          11.140487670898438,
          11.181819915771484,
          11.096016883850098,
          11.06000804901123,
          11.077290534973145,
          11.122381210327148,
          11.149983406066895,
          11.403642654418945,
          11.15196704864502
         ]
        },
        {
         "hoverinfo": "text",
         "hovertext": [
          "didier raoult must stop war press release say go die",
          "panic kitchen rebel restaurateur deprive aid bruno le maire via",
          "piece bravery alain soral ntm alain soral fr jus",
          "celebration napoleon bicentenary disturb laughter minister woman elisabeth moreno",
          "panic kitchen rebel restaurateur deprive aid bruno le maire",
          "peugeot affair documentary available vo kontre kulture",
          "meryeminelindentut",
          "see episode",
          "afghanistan saudi arabia dream afternoon b ziers lidl supermarket avenue de badones",
          "soral answer episode alexandre langlois",
          "dr louis fouch hold bonus",
          "race alain soral fr jus may",
          "france freak theory small bubble heat pan water first surface",
          "soral answer episode alain soral family program st phane douard",
          "soral answer erfm twenty fourth batch",
          "piece bravery alain soral russie toulon",
          "alain soral answer pierre de brague question understand era compensation complacency",
          "alain soral transition formal logic concrete logic",
          "franco albrecht neo nazi terrorist disguise syrian migrant victor young repentant lfi return v",
          "marcel obama lukashenko karine lacombe fourtillan student",
          "philippe de maistre courageous priest people respect health dictatorship",
          "quite simply interest le",
          null
         ],
         "marker": {
          "opacity": 0.5,
          "size": 5
         },
         "mode": "markers+text",
         "name": "7_soral_alain_answer",
         "text": [
          "",
          "",
          "",
          "",
          "",
          "",
          "",
          "",
          "",
          "",
          "",
          "",
          "",
          "",
          "",
          "",
          "",
          "",
          "",
          "",
          "",
          "",
          "7_soral_alain_answer"
         ],
         "textfont": {
          "size": 12
         },
         "type": "scattergl",
         "x": [
          3.731132984161377,
          3.589447498321533,
          3.699983596801758,
          3.6473567485809326,
          3.600261926651001,
          3.7599287033081055,
          2.910900592803955,
          4.074394226074219,
          2.8995909690856934,
          3.806562900543213,
          4.091398239135742,
          3.7451844215393066,
          3.649693727493286,
          3.790461540222168,
          3.96863055229187,
          3.699057102203369,
          3.9059722423553467,
          3.854142904281616,
          3.628638982772827,
          3.5473215579986572,
          3.616934061050415,
          4.06378698348999,
          3.6945815086364746
         ],
         "y": [
          12.633450508117676,
          12.416979789733887,
          12.358799934387207,
          12.436083793640137,
          12.35472583770752,
          12.312227249145508,
          15.580254554748535,
          12.399813652038574,
          15.857586860656738,
          12.308188438415527,
          12.766228675842285,
          12.316522598266602,
          12.404374122619629,
          12.331615447998047,
          12.489409446716309,
          12.346924781799316,
          12.447463989257812,
          12.326926231384277,
          15.227339744567871,
          12.628718376159668,
          12.427398681640625,
          12.626554489135742,
          12.863526344299316
         ]
        }
       ],
       "layout": {
        "annotations": [
         {
          "showarrow": false,
          "text": "D1",
          "x": 1.3561968803405762,
          "y": 14.460629534721376,
          "yshift": 10
         },
         {
          "showarrow": false,
          "text": "D2",
          "x": 5.913186931610108,
          "xshift": 10,
          "y": 19.54660234451294
         }
        ],
        "height": 750,
        "shapes": [
         {
          "line": {
           "color": "#CFD8DC",
           "width": 2
          },
          "type": "line",
          "x0": 5.913186931610108,
          "x1": 5.913186931610108,
          "y0": 9.37465672492981,
          "y1": 19.54660234451294
         },
         {
          "line": {
           "color": "#9E9E9E",
           "width": 2
          },
          "type": "line",
          "x0": 1.3561968803405762,
          "x1": 10.47017698287964,
          "y0": 14.460629534721376,
          "y1": 14.460629534721376
         }
        ],
        "template": {
         "data": {
          "bar": [
           {
            "error_x": {
             "color": "rgb(36,36,36)"
            },
            "error_y": {
             "color": "rgb(36,36,36)"
            },
            "marker": {
             "line": {
              "color": "white",
              "width": 0.5
             },
             "pattern": {
              "fillmode": "overlay",
              "size": 10,
              "solidity": 0.2
             }
            },
            "type": "bar"
           }
          ],
          "barpolar": [
           {
            "marker": {
             "line": {
              "color": "white",
              "width": 0.5
             },
             "pattern": {
              "fillmode": "overlay",
              "size": 10,
              "solidity": 0.2
             }
            },
            "type": "barpolar"
           }
          ],
          "carpet": [
           {
            "aaxis": {
             "endlinecolor": "rgb(36,36,36)",
             "gridcolor": "white",
             "linecolor": "white",
             "minorgridcolor": "white",
             "startlinecolor": "rgb(36,36,36)"
            },
            "baxis": {
             "endlinecolor": "rgb(36,36,36)",
             "gridcolor": "white",
             "linecolor": "white",
             "minorgridcolor": "white",
             "startlinecolor": "rgb(36,36,36)"
            },
            "type": "carpet"
           }
          ],
          "choropleth": [
           {
            "colorbar": {
             "outlinewidth": 1,
             "tickcolor": "rgb(36,36,36)",
             "ticks": "outside"
            },
            "type": "choropleth"
           }
          ],
          "contour": [
           {
            "colorbar": {
             "outlinewidth": 1,
             "tickcolor": "rgb(36,36,36)",
             "ticks": "outside"
            },
            "colorscale": [
             [
              0,
              "#440154"
             ],
             [
              0.1111111111111111,
              "#482878"
             ],
             [
              0.2222222222222222,
              "#3e4989"
             ],
             [
              0.3333333333333333,
              "#31688e"
             ],
             [
              0.4444444444444444,
              "#26828e"
             ],
             [
              0.5555555555555556,
              "#1f9e89"
             ],
             [
              0.6666666666666666,
              "#35b779"
             ],
             [
              0.7777777777777778,
              "#6ece58"
             ],
             [
              0.8888888888888888,
              "#b5de2b"
             ],
             [
              1,
              "#fde725"
             ]
            ],
            "type": "contour"
           }
          ],
          "contourcarpet": [
           {
            "colorbar": {
             "outlinewidth": 1,
             "tickcolor": "rgb(36,36,36)",
             "ticks": "outside"
            },
            "type": "contourcarpet"
           }
          ],
          "heatmap": [
           {
            "colorbar": {
             "outlinewidth": 1,
             "tickcolor": "rgb(36,36,36)",
             "ticks": "outside"
            },
            "colorscale": [
             [
              0,
              "#440154"
             ],
             [
              0.1111111111111111,
              "#482878"
             ],
             [
              0.2222222222222222,
              "#3e4989"
             ],
             [
              0.3333333333333333,
              "#31688e"
             ],
             [
              0.4444444444444444,
              "#26828e"
             ],
             [
              0.5555555555555556,
              "#1f9e89"
             ],
             [
              0.6666666666666666,
              "#35b779"
             ],
             [
              0.7777777777777778,
              "#6ece58"
             ],
             [
              0.8888888888888888,
              "#b5de2b"
             ],
             [
              1,
              "#fde725"
             ]
            ],
            "type": "heatmap"
           }
          ],
          "heatmapgl": [
           {
            "colorbar": {
             "outlinewidth": 1,
             "tickcolor": "rgb(36,36,36)",
             "ticks": "outside"
            },
            "colorscale": [
             [
              0,
              "#440154"
             ],
             [
              0.1111111111111111,
              "#482878"
             ],
             [
              0.2222222222222222,
              "#3e4989"
             ],
             [
              0.3333333333333333,
              "#31688e"
             ],
             [
              0.4444444444444444,
              "#26828e"
             ],
             [
              0.5555555555555556,
              "#1f9e89"
             ],
             [
              0.6666666666666666,
              "#35b779"
             ],
             [
              0.7777777777777778,
              "#6ece58"
             ],
             [
              0.8888888888888888,
              "#b5de2b"
             ],
             [
              1,
              "#fde725"
             ]
            ],
            "type": "heatmapgl"
           }
          ],
          "histogram": [
           {
            "marker": {
             "line": {
              "color": "white",
              "width": 0.6
             }
            },
            "type": "histogram"
           }
          ],
          "histogram2d": [
           {
            "colorbar": {
             "outlinewidth": 1,
             "tickcolor": "rgb(36,36,36)",
             "ticks": "outside"
            },
            "colorscale": [
             [
              0,
              "#440154"
             ],
             [
              0.1111111111111111,
              "#482878"
             ],
             [
              0.2222222222222222,
              "#3e4989"
             ],
             [
              0.3333333333333333,
              "#31688e"
             ],
             [
              0.4444444444444444,
              "#26828e"
             ],
             [
              0.5555555555555556,
              "#1f9e89"
             ],
             [
              0.6666666666666666,
              "#35b779"
             ],
             [
              0.7777777777777778,
              "#6ece58"
             ],
             [
              0.8888888888888888,
              "#b5de2b"
             ],
             [
              1,
              "#fde725"
             ]
            ],
            "type": "histogram2d"
           }
          ],
          "histogram2dcontour": [
           {
            "colorbar": {
             "outlinewidth": 1,
             "tickcolor": "rgb(36,36,36)",
             "ticks": "outside"
            },
            "colorscale": [
             [
              0,
              "#440154"
             ],
             [
              0.1111111111111111,
              "#482878"
             ],
             [
              0.2222222222222222,
              "#3e4989"
             ],
             [
              0.3333333333333333,
              "#31688e"
             ],
             [
              0.4444444444444444,
              "#26828e"
             ],
             [
              0.5555555555555556,
              "#1f9e89"
             ],
             [
              0.6666666666666666,
              "#35b779"
             ],
             [
              0.7777777777777778,
              "#6ece58"
             ],
             [
              0.8888888888888888,
              "#b5de2b"
             ],
             [
              1,
              "#fde725"
             ]
            ],
            "type": "histogram2dcontour"
           }
          ],
          "mesh3d": [
           {
            "colorbar": {
             "outlinewidth": 1,
             "tickcolor": "rgb(36,36,36)",
             "ticks": "outside"
            },
            "type": "mesh3d"
           }
          ],
          "parcoords": [
           {
            "line": {
             "colorbar": {
              "outlinewidth": 1,
              "tickcolor": "rgb(36,36,36)",
              "ticks": "outside"
             }
            },
            "type": "parcoords"
           }
          ],
          "pie": [
           {
            "automargin": true,
            "type": "pie"
           }
          ],
          "scatter": [
           {
            "fillpattern": {
             "fillmode": "overlay",
             "size": 10,
             "solidity": 0.2
            },
            "type": "scatter"
           }
          ],
          "scatter3d": [
           {
            "line": {
             "colorbar": {
              "outlinewidth": 1,
              "tickcolor": "rgb(36,36,36)",
              "ticks": "outside"
             }
            },
            "marker": {
             "colorbar": {
              "outlinewidth": 1,
              "tickcolor": "rgb(36,36,36)",
              "ticks": "outside"
             }
            },
            "type": "scatter3d"
           }
          ],
          "scattercarpet": [
           {
            "marker": {
             "colorbar": {
              "outlinewidth": 1,
              "tickcolor": "rgb(36,36,36)",
              "ticks": "outside"
             }
            },
            "type": "scattercarpet"
           }
          ],
          "scattergeo": [
           {
            "marker": {
             "colorbar": {
              "outlinewidth": 1,
              "tickcolor": "rgb(36,36,36)",
              "ticks": "outside"
             }
            },
            "type": "scattergeo"
           }
          ],
          "scattergl": [
           {
            "marker": {
             "colorbar": {
              "outlinewidth": 1,
              "tickcolor": "rgb(36,36,36)",
              "ticks": "outside"
             }
            },
            "type": "scattergl"
           }
          ],
          "scattermapbox": [
           {
            "marker": {
             "colorbar": {
              "outlinewidth": 1,
              "tickcolor": "rgb(36,36,36)",
              "ticks": "outside"
             }
            },
            "type": "scattermapbox"
           }
          ],
          "scatterpolar": [
           {
            "marker": {
             "colorbar": {
              "outlinewidth": 1,
              "tickcolor": "rgb(36,36,36)",
              "ticks": "outside"
             }
            },
            "type": "scatterpolar"
           }
          ],
          "scatterpolargl": [
           {
            "marker": {
             "colorbar": {
              "outlinewidth": 1,
              "tickcolor": "rgb(36,36,36)",
              "ticks": "outside"
             }
            },
            "type": "scatterpolargl"
           }
          ],
          "scatterternary": [
           {
            "marker": {
             "colorbar": {
              "outlinewidth": 1,
              "tickcolor": "rgb(36,36,36)",
              "ticks": "outside"
             }
            },
            "type": "scatterternary"
           }
          ],
          "surface": [
           {
            "colorbar": {
             "outlinewidth": 1,
             "tickcolor": "rgb(36,36,36)",
             "ticks": "outside"
            },
            "colorscale": [
             [
              0,
              "#440154"
             ],
             [
              0.1111111111111111,
              "#482878"
             ],
             [
              0.2222222222222222,
              "#3e4989"
             ],
             [
              0.3333333333333333,
              "#31688e"
             ],
             [
              0.4444444444444444,
              "#26828e"
             ],
             [
              0.5555555555555556,
              "#1f9e89"
             ],
             [
              0.6666666666666666,
              "#35b779"
             ],
             [
              0.7777777777777778,
              "#6ece58"
             ],
             [
              0.8888888888888888,
              "#b5de2b"
             ],
             [
              1,
              "#fde725"
             ]
            ],
            "type": "surface"
           }
          ],
          "table": [
           {
            "cells": {
             "fill": {
              "color": "rgb(237,237,237)"
             },
             "line": {
              "color": "white"
             }
            },
            "header": {
             "fill": {
              "color": "rgb(217,217,217)"
             },
             "line": {
              "color": "white"
             }
            },
            "type": "table"
           }
          ]
         },
         "layout": {
          "annotationdefaults": {
           "arrowhead": 0,
           "arrowwidth": 1
          },
          "autotypenumbers": "strict",
          "coloraxis": {
           "colorbar": {
            "outlinewidth": 1,
            "tickcolor": "rgb(36,36,36)",
            "ticks": "outside"
           }
          },
          "colorscale": {
           "diverging": [
            [
             0,
             "rgb(103,0,31)"
            ],
            [
             0.1,
             "rgb(178,24,43)"
            ],
            [
             0.2,
             "rgb(214,96,77)"
            ],
            [
             0.3,
             "rgb(244,165,130)"
            ],
            [
             0.4,
             "rgb(253,219,199)"
            ],
            [
             0.5,
             "rgb(247,247,247)"
            ],
            [
             0.6,
             "rgb(209,229,240)"
            ],
            [
             0.7,
             "rgb(146,197,222)"
            ],
            [
             0.8,
             "rgb(67,147,195)"
            ],
            [
             0.9,
             "rgb(33,102,172)"
            ],
            [
             1,
             "rgb(5,48,97)"
            ]
           ],
           "sequential": [
            [
             0,
             "#440154"
            ],
            [
             0.1111111111111111,
             "#482878"
            ],
            [
             0.2222222222222222,
             "#3e4989"
            ],
            [
             0.3333333333333333,
             "#31688e"
            ],
            [
             0.4444444444444444,
             "#26828e"
            ],
            [
             0.5555555555555556,
             "#1f9e89"
            ],
            [
             0.6666666666666666,
             "#35b779"
            ],
            [
             0.7777777777777778,
             "#6ece58"
            ],
            [
             0.8888888888888888,
             "#b5de2b"
            ],
            [
             1,
             "#fde725"
            ]
           ],
           "sequentialminus": [
            [
             0,
             "#440154"
            ],
            [
             0.1111111111111111,
             "#482878"
            ],
            [
             0.2222222222222222,
             "#3e4989"
            ],
            [
             0.3333333333333333,
             "#31688e"
            ],
            [
             0.4444444444444444,
             "#26828e"
            ],
            [
             0.5555555555555556,
             "#1f9e89"
            ],
            [
             0.6666666666666666,
             "#35b779"
            ],
            [
             0.7777777777777778,
             "#6ece58"
            ],
            [
             0.8888888888888888,
             "#b5de2b"
            ],
            [
             1,
             "#fde725"
            ]
           ]
          },
          "colorway": [
           "#1F77B4",
           "#FF7F0E",
           "#2CA02C",
           "#D62728",
           "#9467BD",
           "#8C564B",
           "#E377C2",
           "#7F7F7F",
           "#BCBD22",
           "#17BECF"
          ],
          "font": {
           "color": "rgb(36,36,36)"
          },
          "geo": {
           "bgcolor": "white",
           "lakecolor": "white",
           "landcolor": "white",
           "showlakes": true,
           "showland": true,
           "subunitcolor": "white"
          },
          "hoverlabel": {
           "align": "left"
          },
          "hovermode": "closest",
          "mapbox": {
           "style": "light"
          },
          "paper_bgcolor": "white",
          "plot_bgcolor": "white",
          "polar": {
           "angularaxis": {
            "gridcolor": "rgb(232,232,232)",
            "linecolor": "rgb(36,36,36)",
            "showgrid": false,
            "showline": true,
            "ticks": "outside"
           },
           "bgcolor": "white",
           "radialaxis": {
            "gridcolor": "rgb(232,232,232)",
            "linecolor": "rgb(36,36,36)",
            "showgrid": false,
            "showline": true,
            "ticks": "outside"
           }
          },
          "scene": {
           "xaxis": {
            "backgroundcolor": "white",
            "gridcolor": "rgb(232,232,232)",
            "gridwidth": 2,
            "linecolor": "rgb(36,36,36)",
            "showbackground": true,
            "showgrid": false,
            "showline": true,
            "ticks": "outside",
            "zeroline": false,
            "zerolinecolor": "rgb(36,36,36)"
           },
           "yaxis": {
            "backgroundcolor": "white",
            "gridcolor": "rgb(232,232,232)",
            "gridwidth": 2,
            "linecolor": "rgb(36,36,36)",
            "showbackground": true,
            "showgrid": false,
            "showline": true,
            "ticks": "outside",
            "zeroline": false,
            "zerolinecolor": "rgb(36,36,36)"
           },
           "zaxis": {
            "backgroundcolor": "white",
            "gridcolor": "rgb(232,232,232)",
            "gridwidth": 2,
            "linecolor": "rgb(36,36,36)",
            "showbackground": true,
            "showgrid": false,
            "showline": true,
            "ticks": "outside",
            "zeroline": false,
            "zerolinecolor": "rgb(36,36,36)"
           }
          },
          "shapedefaults": {
           "fillcolor": "black",
           "line": {
            "width": 0
           },
           "opacity": 0.3
          },
          "ternary": {
           "aaxis": {
            "gridcolor": "rgb(232,232,232)",
            "linecolor": "rgb(36,36,36)",
            "showgrid": false,
            "showline": true,
            "ticks": "outside"
           },
           "baxis": {
            "gridcolor": "rgb(232,232,232)",
            "linecolor": "rgb(36,36,36)",
            "showgrid": false,
            "showline": true,
            "ticks": "outside"
           },
           "bgcolor": "white",
           "caxis": {
            "gridcolor": "rgb(232,232,232)",
            "linecolor": "rgb(36,36,36)",
            "showgrid": false,
            "showline": true,
            "ticks": "outside"
           }
          },
          "title": {
           "x": 0.05
          },
          "xaxis": {
           "automargin": true,
           "gridcolor": "rgb(232,232,232)",
           "linecolor": "rgb(36,36,36)",
           "showgrid": false,
           "showline": true,
           "ticks": "outside",
           "title": {
            "standoff": 15
           },
           "zeroline": false,
           "zerolinecolor": "rgb(36,36,36)"
          },
          "yaxis": {
           "automargin": true,
           "gridcolor": "rgb(232,232,232)",
           "linecolor": "rgb(36,36,36)",
           "showgrid": false,
           "showline": true,
           "ticks": "outside",
           "title": {
            "standoff": 15
           },
           "zeroline": false,
           "zerolinecolor": "rgb(36,36,36)"
          }
         }
        },
        "title": {
         "font": {
          "color": "Black",
          "size": 22
         },
         "text": "<b>Documents and Topics",
         "x": 0.5,
         "xanchor": "center",
         "yanchor": "top"
        },
        "width": 1200,
        "xaxis": {
         "visible": false
        },
        "yaxis": {
         "visible": false
        }
       }
      },
      "text/html": [
       "<div>                            <div id=\"e2050da7-cb20-4add-9623-f13da3b06c19\" class=\"plotly-graph-div\" style=\"height:750px; width:1200px;\"></div>            <script type=\"text/javascript\">                require([\"plotly\"], function(Plotly) {                    window.PLOTLYENV=window.PLOTLYENV || {};                                    if (document.getElementById(\"e2050da7-cb20-4add-9623-f13da3b06c19\")) {                    Plotly.newPlot(                        \"e2050da7-cb20-4add-9623-f13da3b06c19\",                        [{\"hoverinfo\":\"text\",\"hovertext\":[\"whole event always control western country roll social credit system like comm\",\"fuck petty go year old man weak pathetic creature\",\"richard berry admits violent catherine hiegel jeane manson\",\"new gab post east west divide read way\",\"two tower hand signal hmm\",\"find ancient statue like sober experience excite one statue represent\",\"yes even ruin small humble little farm state like wisconsin live people incom\",\"basically back foreign war shipping american job sea\",\"still percent hungry live india constantly gini coefficient rise data present poverty al\",\"case understand politics work day age wrong opponent\",\"today first day zero degree entire hour\",\"satanism free rule everyday living mondaymotivation freedom sound monday blo\",\"everything come existence creates opposite light darkness heat cold life death matter anti\",\"make farm economically viable sustainable enterprise small farmer india need carefully listen\",\"seriously bad news government move piece place carry illegal act\",\"warn communist weaponize fake asian hate crime narrative plot march th u protest party liberation socialis\",\"conquer illegal minor brought dallas male age\",\"sister\",\"seethe harder parasite freak\",\"muslim natural ally race sourc\",\"whine tv artist lend voice family victim\",\"want live around u want live around mutually peacefully separate\",\"flashback democrat whitewash jihad pulse nightclub islamic terror attack amp blame gun instead left u jihad attack\",\"daily reminder george soros bill gate one let see keep distract pacify\",\"julian assange release bail\",\"people want walk car well illusion remain anyway good morning thursday thought\",\"attack u military eleven soldier fort bliss texas injured drinking antifreeze believe dr\",\"leader proud boy former informant case human traffic narcotic\",\"good pornography toxic legally allow exist\",\"well guy entire continent call sure would great deal easy get\",\"time people put position power influence base ability base merit\",\"nobody owes fuck thing\",\"favor report guy try dox\",\"manage\",\"anyone knowingly allows baby poison toxic metal like deserves death penalty serio\",\"happy palm sunday amp begin week change world may walk close jesus death amp\",\"black dude see white guy get shot death response shit like see creature want\",\"warn conservative dangerous new antifa doxxing group beware deplatform hate left wing deplatform hate lat\",\"downfall america sum single image\",\"kind interest timing soros myanmar\",\"struggle real god nowhere bible say worry stress amp\",\"yes trump praise amaze international supporter thank supporter america stand\",\"help dad attack antifa attack break arm brave dad campaign canada give child drug change\",\"remember current era become naturally manufacture slowly generation\",\"terrorist come terrorist come\",\"never go solve world problem spread lie hitler germany outlaw firearm ownership\",\"clearly target harassment veil threat violence\",\"buzyn amp co judged crime humanity want new nuremberg\",\"call domestic terrorism see call terrorism ground political affiliat\",\"timeline evidence lazy choice\",\"crack smoking hunter biden cry racism deflect swedish sex scandal hunter smear come swedish authorit\",\"ficed rothschild return face face reality hysterical assa traor\",\"accusatory inversion modus operandi\",\"great talk common challenge opportunity u congress always bastion su\",\"america strange fetish reward idiocy need order become rich famous even get\",\"appal homeless queue food last night soup kitchen freeze condition ten year toryism\",\"isolated act bullying result illegitimate government flood white country\",\"current swallower\",\"pulse farmer need price support edible oil\",\"possibly scam divert funding community could possibly scam get\",\"day say something sign point israel manufacturing war america china ru\",\"warn parent virginia meet atif qarni secretary education appoint va governor northam qarni born\",\"firearm registration always lead firearm confiscation always without exception need contact\",\"much bad everything try pretend trump\",\"vote ossoff would need remain vote win\",\"insane insane dangerous rhetoric use justify vicious attack innocent whi\",\"freedom gift beyond estimate give god nation perseverance courage consistency\",\"time school place child could learn safety thanks importation di\",\"way bad apartheid state terrorist state terrorizes surround country\",\"right give british journalism coverage brexit covid\",\"although one neutral today time everyone inclination towards mine also neutral\",\"governor denounce democrat run twitter allows left attack jewish sile\",\"fact politician scream gun control trace back george soros gun control\",\"get ready lady gentleman criminal illegitimate government go wag open war p\",\"left preaches unity heal carry violence denounce violent\",\"everything david hogg reinforces belief one allow vote engage political discours\",\"turn violent criminal care gun illegal carry\",\"muslim mayor london fire new year eve firework display feature black life matter marxist clenched\",\"boris johnson mr crisis mr liar mr clueless mr corrupt mr racist mr money grabber mr public heal\",\"tik tok innocent social network indian redneck year old quiet fun\",\"dead boris johnson say everything could political epitaph indolent prime minister\",\"cosmetic industry perfumery trade also see existence danger open letter appeal\",\"china amp iran control biden commie amp islamic supremacist long history unite destroy common enemy\",\"anyone know ratio jew ce major american corporation\",\"leftist never held accountable vicious public threat violence keep make trump\",\"play celine dion leave without eurovision grand prix\",\"capitol wrap barbed wire look like capitol socialist country america\",\"none organic happen naturally manufacture\",\"equality liberal construct\",\"right style commission investigate blm antifa riot torched city su\",\"must watch arizona parent fight back school board communist anti racism initiative child indoctrin\",\"archive footage jeane manson sings child god pedophile sect via\",\"america laughingstock\",\"mine christine\",\"berry case jeane manson accuse member pedophile sect coline berry via\",\"big bank corporation funding inversion normal healthy society question big bank\",\"thank advertising\",\"parliament need time\",\"thank australia israel chamber commerce infrastructure showcase great event discus many opportuni\",\"go take people stand shame everyone stood watch\",\"always little shit think smarter elder inevitably end shit\",\"fiery mostly peaceful prize\",\"gt little girl also kinky someone explain part campaign normalize idea\",\"three sea rescue ng accuse complicity criminal smuggler\",\"tell russia never cucked j\",\"say\",\"queer activist hit woman come shout revolt system prostitution ra\",\"assange never gaol expose war crime u government always mystifies\",\"shill foreign domestic enemy\",\"end attack natural order era insanity become universal new age religion\",\"firstly thousand people hundred nice gaslighting sky news usual secondly cop\",\"safely enjoy stroll around mall anymore virtually every mall go\",\"illustrate little government care people nothing\",\"threatens violence manager video say hope others find beat tri\",\"teach child follow god world teach\",\"new gab post burn coal pay toll meme\",\"yes true leftist lot common nazi\",\"enrichment ireland mob african migrant black life matter communist try attack bus full irish people\",\"hat white people era late great pop culture cool fashion trend\",\"whole road map thing psy ops lockdown end people amp business simply realise power amp n\",\"even know could shoot mile wow seriousness idiot like allow\",\"baaaaaaaaaaaaa\",\"still believe live free country\",\"encourage people call attitude like attitude could get arrest sentence\",\"world live world people celebrate turn family member mob\",\"nothing civil politics anymore politics war either accept prepare accordingly\",\"arrest people fraudulently get child college however even investigate official fraudulent\",\"israel still forefront dictatorship\",\"man reaps sow lago puelo neighbor receive alberto badly must end run away\",\"patriot fight back san diego gym owner sue state amp county official tyrannical lockdown measure wa\",\"main stream medium work international banker international banker fully human hurt u\",\"country need endless warfare behalf israel get ta make world safe god chosen\",\"censorship laughable pathetic scar conservative\",\"ammo hoarder make sure buy enough magazine load ammo boxed amm\",\"want know exactly many firearm exactly many round ammunition\",\"level security require wef aka enemy life annual meeting tell u\",\"one legally obligate hire people foreign country law tell hire citizen f\",\"put account protect mode\",\"video perfectly illustrates rapid decline quality living u america bust je\",\"government surround fence arm military guard planning unspeakably ho\",\"accusation incest richard berry marilou berry support cousin coline\",\"want drive neighborhood let driven away gegendemo af\",\"shame wrongly announce julian assange release bail instead issue correction chan\",\"left protects domestic terrorist whereas right abandon\",\"wrong incite intense dislike religion activity teach religion outrageous ir\",\"brittany huge slut\",\"detest people every part medium idiot support imagine guy n h ei r si de nobod\",\"people celebrate genocide social medium platform allow yet told live wh\",\"expose left wing agitator like greta thunberg sacrifice farmer feed global hatred modi thunberg may puppet\",\"didnt happen would b funny\",\"see biden openly celebrate white people go extinct america decade really care\",\"barack obama blame boulder islamic attack disaffection racism misogyny call gun control mean\",\"friend waffen veteran wiking division swore cold ext\",\"hesitate worn bottom people see inside let go colorful\",\"dark circle know sign\",\"never want equality always secretly want revenge\",\"people think boris johnson resign prime minister think continue office accord\",\"ever notice literally sea protest medium like hype sign write english\",\"yeah stock market hello\",\"hey general heard retire general major ig investigation involve army hid\",\"sayer die\",\"keep weed clean crop care farmer brother weed sister mia khalifa\",\"best left wing joke day islamic terrorist shoot someone gun fault make stu\",\"rail go work\",\"terror canada nye amir abdulrahman amp al azan shah muhammad drag police sgt andrew harnett death enrichers\",\"get ready people government move\",\"nikol pashinyan prime minister armenia confesses occupation percent shusha populati\",\"know go use eternal justification rob freedom right\",\"wave illegal alien clearly fund believe really bought shirt th\",\"allahu akbar allahu akbar allahu akbar last word cockpit flight\",\"brexit disaster volume export go british port channel tunnell eu fell last month\",\"trouble get upset say aaj english\",\"arrogation double entendre via\",\"call target harassment\",\"come religious place thief come steal robber\",\"love george monbiot pummel andrew bowie monbiot absolutely cool measure logical bowie typic\",\"banker rob u generation feel slightest bit sorry finally robbed\",\"whole point right keep bear arm protect civilian government force crimina\",\"brexit cost uk gdp first year body blow uk economy plummet almost cer\",\"amount money ever bring equality equality exist anywhere nature brib\",\"innovation molasses possible clamp liquor\",\"right guy trial face ten year prison meme another guy give year sent\",\"voice even low eye level straight neither sign show saxon begin\",\"pay middle eastern terrorist smuggle u via mexican border people sw\",\"go year old woman nothing justice act revenge\",\"great reset eat bug future proclaims world economic forum unelected self anoint global elitist post vi\",\"fraud alert joe biden amp harris resurrect left wing lie call hate crime asian american\",\"allege nurse practitioner threaten deny people treatment political leaning someone sho\",\"never want equality never want mere empowerment either aim always empow\",\"people arm security shut hell gun control laughable allow protect themse\",\"fact get hit hard game stop stock tell one thing people short stock\",\"let perfectly honest left actually care victim mass shooting se\",\"daily reminder current president united state say good thing found stock america\",\"people really need stop use child instrument propaganda fair hardl\",\"stop banker eat dumpster\",\"america soft weak embarrass joke entire world laugh u pathetic government\",\"true juice extractor gas chamber one step\",\"almost every day quietly think amerindian actually choice fight openly\",\"gradually begin hate video link\",\"major victory domestic terrorism america today fail huffington post fire radical\",\"power\",\"anyone know ratio jew ce major american corporation\",\"want keep america safe stop import people want kill u simple\",\"accord news source suspect detain release name description virtual\",\"texas lead freedom via\",\"pay global security bunch scar trickster\",null],\"marker\":{\"color\":\"#CFD8DC\",\"opacity\":0.5,\"size\":5},\"mode\":\"markers+text\",\"name\":\"other\",\"showlegend\":false,\"x\":[5.171604633331299,7.032675266265869,4.60221529006958,4.696227550506592,7.175290584564209,6.622921466827393,5.752747058868408,3.302468776702881,5.517903804779053,3.9931540489196777,4.148021221160889,6.425249099731445,6.605793476104736,5.418407440185547,6.53837776184082,4.759851932525635,6.54230260848999,6.2140421867370605,5.895567417144775,7.280517101287842,6.464443683624268,7.366964340209961,5.042530536651611,4.113704681396484,3.4313929080963135,6.219937324523926,4.054585933685303,3.702192783355713,5.824899196624756,5.022813320159912,5.633221626281738,5.336681842803955,3.6936216354370117,5.904941082000732,7.287294387817383,4.596937656402588,7.832304954528809,4.661147594451904,5.683882713317871,4.209361553192139,6.42134952545166,2.3399741649627686,4.261803150177002,5.784593105316162,4.289694786071777,6.682212829589844,5.332834243774414,3.6041955947875977,5.0709228515625,5.6552042961120605,6.24826192855835,4.00325345993042,5.754298210144043,4.033360958099365,7.562206745147705,3.812744617462158,7.340334415435791,5.832458972930908,5.601415634155273,5.391210556030273,4.306996822357178,2.674483060836792,6.644320964813232,5.797849655151367,3.5089504718780518,5.261847019195557,6.123372554779053,3.964571952819824,5.1844987869262695,3.4937989711761475,4.2468156814575195,4.8021240234375,6.563656330108643,4.73025369644165,5.19832706451416,3.9416656494140625,6.673976898193359,4.6778106689453125,3.4705092906951904,6.924914836883545,3.499195098876953,5.693212032318115,4.259681224822998,6.755356311798096,5.098981857299805,5.758539199829102,2.2805252075195312,5.770869255065918,8.731788635253906,5.062808036804199,7.9911885261535645,4.633333683013916,5.724982738494873,6.212973594665527,4.600766658782959,5.27017879486084,5.001068115234375,3.920121908187866,5.3362812995910645,5.987585067749023,6.998056888580322,6.253388404846191,8.91843032836914,3.5789835453033447,6.983493328094482,6.428728103637695,3.624436855316162,3.616159439086914,4.814519882202148,6.443446159362793,3.7568914890289307,6.280131816864014,5.529026985168457,5.085700511932373,4.338488578796387,4.8575119972229,5.514597415924072,4.110291004180908,7.025190353393555,5.194826602935791,6.808534622192383,6.615133762359619,6.302661418914795,5.326013565063477,4.997779846191406,4.475736618041992,6.061291217803955,5.178506851196289,8.367181777954102,2.259835958480835,5.196712017059326,5.234310626983643,5.279928207397461,6.748071670532227,6.773419380187988,4.8643364906311035,5.156516075134277,4.937670707702637,5.700398921966553,2.2771308422088623,4.591393947601318,6.571623802185059,3.457296371459961,5.103072643280029,4.559607028961182,6.26242733001709,4.480353832244873,5.013538360595703,3.946328639984131,4.512446403503418,8.44825553894043,7.079524993896484,4.671988010406494,6.415310382843018,7.253950595855713,8.692745208740234,3.5303127765655518,7.115773677825928,5.318589687347412,3.716369867324829,6.383663654327393,5.922625541687012,4.928973197937012,4.889336109161377,3.9024484157562256,5.164579391479492,2.9963550567626953,6.387723445892334,7.014035701751709,4.2572922706604,3.38568115234375,7.100281715393066,3.953113555908203,5.4212870597839355,4.330587387084961,6.279647350311279,5.241552829742432,6.578803062438965,3.4626035690307617,8.690159797668457,4.100821495056152,3.8391611576080322,7.19552755355835,3.3972291946411133,6.949158668518066,4.05351448059082,4.889236927032471,4.821004867553711,8.723878860473633,6.609724044799805,5.272079944610596,5.106220245361328,4.1170477867126465,7.529046058654785,5.22990083694458,5.732020854949951,4.032623767852783,7.1083478927612305,5.085883617401123,3.329080581665039,5.750184059143066,6.741347312927246,3.2401273250579834,3.4146082401275635,6.219374179840088,5.135229587554932,5.355088710784912],\"y\":[14.465117454528809,13.240675926208496,16.710439682006836,13.636763572692871,13.63433837890625,16.15134048461914,14.496171951293945,15.279701232910156,14.492731094360352,14.392452239990234,13.960790634155273,15.652727127075195,15.633511543273926,14.250385284423828,14.483526229858398,15.162240028381348,14.785941123962402,12.009685516357422,16.181001663208008,15.457810401916504,12.98159408569336,15.531095504760742,15.71272087097168,13.954657554626465,15.41173267364502,13.834240913391113,15.303077697753906,15.117904663085938,14.022310256958008,14.29293155670166,13.604297637939453,13.457831382751465,15.11567211151123,14.150996208190918,14.624229431152344,13.641702651977539,14.69378662109375,15.178862571716309,14.430336952209473,13.99353313446045,15.63913631439209,13.855780601501465,15.225993156433105,14.00619888305664,15.700044631958008,14.52106761932373,16.059995651245117,15.325089454650879,15.596818923950195,13.44227123260498,16.53767967224121,14.388080596923828,15.093157768249512,14.400906562805176,14.959122657775879,14.805021286010742,14.674362182617188,13.448695182800293,14.181129455566406,14.347233772277832,14.161787033081055,13.606034278869629,14.445676803588867,14.50003719329834,14.555840492248535,15.730989456176758,14.636857986450195,15.817588806152344,16.34988021850586,14.655792236328125,14.126421928405762,15.400980949401855,14.5680513381958,14.60326099395752,15.593002319335938,14.435545921325684,14.454302787780762,16.017154693603516,14.6104154586792,13.605649948120117,14.589909553527832,13.991888046264648,14.478189468383789,14.119927406311035,15.686278343200684,11.430008888244629,15.187257766723633,14.01345157623291,14.359267234802246,15.84907341003418,15.279756546020508,16.67217254638672,14.450418472290039,11.984611511230469,16.69924545288086,14.148416519165039,12.56650161743164,14.488800048828125,16.259998321533203,13.068216323852539,13.303437232971191,14.645037651062012,14.688102722167969,15.179417610168457,14.708866119384766,12.720243453979492,13.635489463806152,15.265100479125977,15.285017967224121,15.699322700500488,14.686973571777344,14.000497817993164,14.693994522094727,15.95950698852539,15.924688339233398,13.488121032714844,15.589210510253906,14.88368034362793,16.167219161987305,13.724577903747559,14.189021110534668,12.48214054107666,14.401386260986328,15.19676685333252,15.065363883972168,14.361820220947266,14.774040222167969,16.354076385498047,14.620172500610352,15.285985946655273,14.086068153381348,16.35338020324707,14.622111320495605,14.310403823852539,14.183504104614258,13.090726852416992,14.183160781860352,13.022689819335938,14.483891487121582,15.213160514831543,16.7069034576416,14.104467391967773,15.354461669921875,15.613054275512695,15.761231422424316,12.010878562927246,15.01590633392334,14.994894981384277,14.431692123413086,15.591059684753418,15.25566577911377,15.613988876342773,13.297320365905762,13.363014221191406,13.682388305664062,14.310174942016602,14.58044719696045,13.913042068481445,13.69340705871582,15.083503723144531,12.682280540466309,14.15174388885498,15.59122085571289,13.392597198486328,15.562018394470215,14.592692375183105,16.143142700195312,15.75940990447998,14.003069877624512,15.651923179626465,14.805645942687988,13.859393119812012,12.327920913696289,16.089557647705078,15.94653606414795,12.045403480529785,13.88198184967041,14.453396797180176,14.704670906066895,14.422460556030273,13.086540222167969,15.332375526428223,13.774140357971191,15.681943893432617,13.245962142944336,13.889147758483887,15.249263763427734,15.124655723571777,14.365259170532227,14.417899131774902,13.682058334350586,15.660682678222656,13.940309524536133,15.454815864562988,13.949143409729004,14.437434196472168,12.952071189880371,14.54903507232666,15.971567153930664,14.320545196533203,13.6033296585083,14.160642623901367,15.38912582397461,15.422236442565918,14.459070205688477,13.942447662353516,14.599864959716797],\"type\":\"scattergl\"},{\"hoverinfo\":\"text\",\"hovertext\":[\"available preview\",\"year say wag war white people finally understand sa\",\"imagine desperate attention relevancy surgically remove part body\",\"jesus fuck christ guy happens talk tough try look sound cool violence g\",\"actually watch right funny listen black dude talk sell crack\",\"even eat meat whole eat bug synthetic meat thing pretty sketch\",\"year literal white genocide\",\"wan na fuck time man body see nigga leave tf alone\",\"need keep drive story home power blame white people murder commit bl\",\"buy story second pipe bomb really plant dc capitol guarantee\",\"assume fight back know one actually start fight\",\"historically speak virtually every time communism come power regime manufacture artificial famine\",\"love reading golden globe hashtags left master exploit identity politics political correctness virt\",\"false perception humanity impose people\",\"marxism virus mutates spread host host time bolshevism communism social democracy\",\"someone dm please send picture cat anyrtgingh im boredddd\",\"happens white become minority\",\"everyone understands concept foreign invasive specie plant animal world foreign invasive specie\",\"lot picture show holodomor gulag mostly white folk\",\"natural redhead rare people planet easily one beautiful anyone natural\",\"sovereign mind power choice come single set belief define\",\"america really white supremacist nation consume institutional racism big mega corp like coca\",\"total utter bullshit\",\"nigger cocksluts help crave white dick much take matter attach\",\"new regime go force mass obey send people disappear\",\"rub face know know know say go happen c\",\"advanced civilization\",\"america literally white people single western country planet anti american e\",\"white supremacy mean white people believe white life matter war wag agai\",\"expropriation without compensation really mean steal farm white farmer destroy say farm blame whit\",\"communism always creates resistance logical response communism always fascism na\",\"nation yahweh mayor miami xavier su rez declare yahweh ben yahweh day october mon\",\"think possible man produce much estrogen\",\"tomorrow recover woman day intelligence day\",\"nigga like life anime yea bro one piece shit\",\"read write wall yet guy war wag white man ever surren\",\"fact liberal consider white guy star athlete change white supremacy tell everythi\",\"city burn ransack violent terrorist savage summer long give fuck le th\",\"never entirely comfortable truth behind champion always fight something otherwi\",\"fuck sake kill two white people death count racism motivation\",\"high culture civilization diversity\",\"two amaze people fighter keep go need\",\"act spiritual psychological warfare native european people white people nowhere else\",\"treat big deal rioter antifa whatever reason police always se\",\"global war white people\",\"daily reminder real time choreograph synchronize dance routine office hou\",\"one try murder lie po\",\"refer white people disease probably great way convince u racist go ahead\",\"plan take back hagia sophia\",\"overcome lust ego word well sex\",\"gymnastics say dirty arab\",\"call whatever want coca cola anti white actively participate war wag\",\"man white supremacist asian hater keep get darker darker\",\"black actually oppose police shooting oppose police shoot black criminal\",\"february shape one long cold rape big frozen winter wiener\",\"call mass shoot however medium report shooter white\",\"democrat rep jackie speier think lot white american u military national security threat\",\"interestingly enough know sole authority define word like hate racism bigotry extremis\",\"left furious brandon elliot white supremacist instead lifetime parole murder mother sai\",\"warrior\",\"yes invisible\",\"woman kill kidnap afrin whole world silent woman together afrin\",\"racist always mean white people call u racist justify violence u fal\",\"lil nigga lil nigga lil nigga lil nigga lil nigga lil nigga lil nigga lil nigga lil nigga lil\",\"like cold cold make white ancestor hard strong broke weak bloodline ensure\",\"rhetoric creature manufacture cultivate endless hatred white people people wh\",\"want really think white man every dollar government take give black\",\"black community none white people concern black community allow behave whatever\",\"let spell black separatist treat random individual isolated social medium\",\"replace white people\",\"basically say long racism direct toward white people white country\",\"say year ago lot people say hyperbolic\",\"man white supremacist asian hater keep get darker darker\",\"diversity sensitivity training really mean anti white indoctrination critical race theory\",\"white supremacist keep get darker darker day\",\"cry laugh zehma mtn catapult whore\",\"talk jq day long however people like michael jones catholic even admit whit\",\"freak wonder white nationalism rise world\",\"homosexual find criticize heteros much without u even exist\",\"hitler nazi war happen racist hat anyone blonde hair amp blue eye\",\"trans child like vegan dog know chose\",\"um exactly dc capitol bombed see already rewrite history le two mon\",\"blame anyone know truth adolf hitler amp national socialism victor write history\",\"new year eve wuhan v nyc spot communist nation\",\"people fanatically anti racist really anti white tend also mentally ill literally watch\",\"many year ago say would eventually consider racist arrest black person crime committ\",\"well really want get subject serial killer start samuel little\",\"much institutional white supremacy racism\",\"black people really little lie small shit\",\"apparently special kind hate black woman experience call misogynoir seriously\",\"diversity strength army choose diversity\",\"ok groomers\",\"white genocide conspiracy theory need challenge misinformation u experience great\",\"look like everything prove hitler right\",\"deep\",\"strength ancestor life within blood strength survive long enough conti\",\"philosophy ideology tactic method optic superior others feel\",\"black life matter movement nominate nobel peace prize via\",\"enough people drop look\",\"remove portrait white judge white go ahead tell war\",\"mom mom sheep meeeeeeh black sheep yeah nigga moderfacka hahahahahahahaha yeah nigg\",\"racist cookie lecture u wokeness\",\"never forget\",\"dude fuck robot\",\"right replace white man twenty dollar bill black woman worthy high priority\",\"live every stereotype\",\"want socialism\",\"openly admit displace white people white place living white supremacist conspirac\",\"parody account\",\"remember watch mother breakdown cry weight poverty hearing pain sorrow shame\",\"eventually go consider racist white person deny non white access body\",\"hostile people really except crazy notion planet father god chose\",\"drop photography mine\",\"please keep mind\",\"behind\",\"think even one race government target deprogramming know becau\",\"ever reason storm street overthrow exist regime\",\"good kyle rittenhouse never arrest first place defend violent mob shoul\",\"one one\",\"nothing allow white white problem need address\",\"communism symptom disease disease look communism come look\",\"stereotypical behavior nope way\",\"salute\",\"people ready admit yet real war wag white people\",\"literally neither men kill white people let alone white nationalist kill black\",\"yeah war white people\",\"say keep right say one single white man alive today ever slave\",\"believe\",\"best really\",\"wow\",\"hysteria freak see hitler literally everywhere go continue affirm say fo\",\"join corona cult today tire people still enjoy life exactly right thing cont\",\"philosophy national socialism reawaking mankind consciousness nature importance ra\",\"say thousand time bear repeat anti racism dangerous new age religion religi\",\"whoever control country institution control society perception reality\",\"term radical thrown around pretty loosely day literally anything left like\",\"assume fight back know one actually start fight\",\"yes\",\"guy charge proud boy name enrique tarrio yet proud boy still label white supre\",\"post still anti white butthurt black history month\",\"u call suarez something wen call u nigger u bitch\",\"non white prioritize white tell systemic racism exists\",\"hundred salutation foot madhav\",\"gt billion covid relief black farmer tell living white supremacist society\",\"even black want segregation back peaceful separation solution today catastrophic failure race r\",\"literally zero justification flood white country non white foreigner whole age dy\",\"little junk\",\"rapist black call rapist call pervert downplay black crim\",\"social medium like densest major city human existence loud chaotic fast pace emotional irr\",\"read write wall white people normalize discrimination stop w\",\"salute brave soldier\",\"everybody want believe secret underground army organization go fix everything\",\"russia international regulation social medium moderation\",\"expose back october\",\"excuse pedophile time never tolerate white person believe white life matter\",\"wish men shut fuck today\",\"course even let white one thing non white ob acce\",\"time social medium limited use time wisely anti white take war white ser\",\"make white people happy racist need stop\",\"gt replaces white men normalize concept white people replace non white white\",\"stupid fuck bitch\",\"gt white supremacy virus like virus die body left infect w\",\"institutional white genocide look like\",\"blackwashing white history continue force stop\",\"around world white people get dangerously fed violently attack forei\",\"someone something require perpetual reinforcement via word like amaze beautiful vibrant talented incr\",\"marijuana popular people miserable era smoke tolerate world rather fix\",\"say even okay u pride nationality already\",\"literally institutional racism exists\",\"unlawful best produce anything beautiful plato\",\"weak argument difference white kid already die fentanyl overdose l\",\"injury today insurrection oh wait mean medium full crap\",\"asks compromise always include give right gain control refer democr\",\"diversity strength army choose diversity\",\"every non white race planet encourage celebrate history heritage culture white race\",\"new comic\",\"caught k say true\",\"prove u right every single time\",\"go walk condition yeah white thing understand\",\"multiculturalism culture mix amp blend together create singular monoculture multicultur\",\"god bless eric zemmour\",\"replace white people white country tell u source st\",\"workout functional real world extend period time\",\"folkish state make certain suitable education youth day obtain race ripe\",\"lick foot nigga white trash paris france interracial gay amateur gay\",\"lie repeat often enough eventually becomes truth\",\"reason white people child simulate experience slave\",\"diversity safe neighborhood\",\"say lot year keep repeat hunt racism era witch hunt\",\"enemy good mean stood something sometime life winston churchill value yo\",\"power go force individual citizen comply average citizen know\",\"blackwashing never end white people erase little little\",\"institutional white genocide look like\",\"accident\",\"hypothetical anymore matter matter government force prep\",\"event like go continue occur white country citizen form powerful group real li\",\"medium try get black murder innocent white people white people fully prepared defend yourselv\",\"white privilege actually exist listen mindless robot drone repeat\",\"guy invent hate crime never happen get free paycheck\",\"abolish whiteness mean abolish white people fact popular well receive slogan\",\"one white person alive today ever black slave one black person alive today ever white\",\"eventually go consider racist white person deny non white access body\",\"people still oblivious truth right plain sight\",\"even issue black asian racism violence narrative remains white people real pro\",\"hunt white supremacist era witch hunt new regime want look every white person w\",\"goodnight\",\"homosexual scum vote vanilla\",\"really live white supremacist country repeatedly told would law make\",\"arbitrariness censorship back west via\",\"look accept random cop beating people baton like use one call\",\"ally people white people always always stop\",\"blame white people violent crime commit black end piss entire wh\",\"fanart prefer\",\"blackwashing white history continue force stop\",\"basically illegal immigrant get citizenship replace u either way cool steven repeat\",\"way win socio political fight attract fighter side pro white community need foc\",\"many innocent white child die start storm street righteous hatred\",\"white want something call white supremacy black want thing call response\",\"thus globalists use power compete opposition make opposition illegal\",\"pride wake\",\"hence social justice warrior infect\",\"many generation american government organize crime syndicate illegal occupation\",\"heartbreaking\",\"law enforcement earn every bit hate receive chosen side enemy people\",\"translation many white people science statistic technology go replace white\",\"repeat lie truth know want erase white history\",\"diversity mean death white people able get conceal carry permit get reliable firearm\",\"good morning ji\",\"repeat white get dictate white people anti white raci\",\"imagine someone snuck punch face behind start kick stomp yo\",\"white country simply never ask ask reject foreign people foreign c\",\"shut shut goy know goy really know\",\"deny racist actually proof racist\",\"black need liberal woman offend behalf even think liberal really offend anywa\",\"historically whenever marxist bolshevik communist regime take power one first thing\",\"white people get dangerously fed foreigner get away countless act violence\",\"write wall white race slat genocide hyperbole exaggeration\",\"okay checked fuck real\",\"every single time\",\"apart weapon way mamma favorite weapon slipper\",\"multi racial society create peace prosperity people create animosity hostility hatred vi\",\"true black woman africa landmass black overwhelm super majority\",\"imagine power like power declare act criminal ability declare anti semit\",\"truth\",\"particular point time obvious naked eye race people happier segregation\",\"white white law protects discriminate white people\",\"proof globalism exist party\",\"sorry break bimbo every guy planet want sleep\",\"nothing see folk diversity continue great strength\",\"doubt fauci visit gay sauna bar highly doubt anything understand h\",\"netflix already rag machine diversity propaganda\",\"feel whole lot well impend collapse western civilization white people form group\",\"ego always ruin man one vision clearest lens\",\"lol invention exactly even congo finally penetrate native people disco\",\"kind woman foot hit floor morning devil say oh crap woman fear f\",\"white people ally literally every non white race united\",\"global war white people\",\"see work literally anything infringes money power decry white\",\"literally nothing label racist white supremacist pathological hatred white men\",\"philosophy lie national socialism man lie\",\"expect someone else save expect group save people country\",\"white elder abuse rampant\",\"stereotypical behavior nope way\",\"guarantee chick like anything luxury\",\"anti white amp anti american rhetoric exactly taught kid across america\",\"know beat white people say care white black yellow blue purple\",\"white men deserve job white men tell white men persecute\",\"bodybuilding\",\"beating u game shut game fucker literally take ball g\",\"men pig u stop living stop filth serious\",\"well yes certainly full crap\",\"anti hitler sentiment reach fanatical insanity le severity religious hysteria anyone stoop\",\"outside environment impose upon artificially construct human race mix almos\",\"law enforcement earn every bit hate receive chosen side enemy people\",\"many innocent white people beaten shot murder savage collectively defen\",\"war wag white people everything fault\",\"replace white people\",\"exactly think culture come think magically fall sky arbitrarily\",\"live age manufacture tragedy tyranny impose upon u result artificial tragedy\",\"fagot take arm\",\"lady question imagine pill men begin market would really trust\",\"quick way get rich america black falsely accuse white person racist toward\",\"true never forget\",\"biophobia contagious\",\"toxic upbringing environment anti white hatred racism cultivate hollywood medium school un\",\"ancient celt dyed hair blonde lime also dyed clothes various color plant berry\",\"apparently white people fault black woman sprayed hair gorilla glue anything\",\"anyone good explanation china allow access u power grid hell\",\"anyone pretend anyone even want integration first place literally everyone want separation w\",\"people fake hate crime free government money\",\"let cry woman afrin woman together afrin\",\"yet another evil white man save helpless animal almost behavior genetic something\",\"white people well black people thread\",\"imagine force wake morning everyday\",\"non white responsible action black gun gang motivate mass sh\",\"dictatorship forbidden make fun powerful\",\"suck whitedick nigger gayraceplay gaysex oral gayoral interracialgaysex blacksucker bwc\",\"okay checked fuck real\",\"inca people conquer genocided killke people another south american tribe big deal b\",\"european never use feel way country flood foreigner feel\",\"illegal adopt black child black\",\"war adolf hitler never end evolve war white people\",\"like well negro\",\"oppose islam racist oppose german national socialism soviet communism nothing w color\",\"people still oblivious truth right plain sight\",\"black woman move white neighborhood complains many\",\"white literally nothing bad could ever accuse racism accuse l\",\"let billionaire cry\",null],\"marker\":{\"opacity\":0.5,\"size\":5},\"mode\":\"markers+text\",\"name\":\"0_white_people_black\",\"text\":[\"\",\"\",\"\",\"\",\"\",\"\",\"\",\"\",\"\",\"\",\"\",\"\",\"\",\"\",\"\",\"\",\"\",\"\",\"\",\"\",\"\",\"\",\"\",\"\",\"\",\"\",\"\",\"\",\"\",\"\",\"\",\"\",\"\",\"\",\"\",\"\",\"\",\"\",\"\",\"\",\"\",\"\",\"\",\"\",\"\",\"\",\"\",\"\",\"\",\"\",\"\",\"\",\"\",\"\",\"\",\"\",\"\",\"\",\"\",\"\",\"\",\"\",\"\",\"\",\"\",\"\",\"\",\"\",\"\",\"\",\"\",\"\",\"\",\"\",\"\",\"\",\"\",\"\",\"\",\"\",\"\",\"\",\"\",\"\",\"\",\"\",\"\",\"\",\"\",\"\",\"\",\"\",\"\",\"\",\"\",\"\",\"\",\"\",\"\",\"\",\"\",\"\",\"\",\"\",\"\",\"\",\"\",\"\",\"\",\"\",\"\",\"\",\"\",\"\",\"\",\"\",\"\",\"\",\"\",\"\",\"\",\"\",\"\",\"\",\"\",\"\",\"\",\"\",\"\",\"\",\"\",\"\",\"\",\"\",\"\",\"\",\"\",\"\",\"\",\"\",\"\",\"\",\"\",\"\",\"\",\"\",\"\",\"\",\"\",\"\",\"\",\"\",\"\",\"\",\"\",\"\",\"\",\"\",\"\",\"\",\"\",\"\",\"\",\"\",\"\",\"\",\"\",\"\",\"\",\"\",\"\",\"\",\"\",\"\",\"\",\"\",\"\",\"\",\"\",\"\",\"\",\"\",\"\",\"\",\"\",\"\",\"\",\"\",\"\",\"\",\"\",\"\",\"\",\"\",\"\",\"\",\"\",\"\",\"\",\"\",\"\",\"\",\"\",\"\",\"\",\"\",\"\",\"\",\"\",\"\",\"\",\"\",\"\",\"\",\"\",\"\",\"\",\"\",\"\",\"\",\"\",\"\",\"\",\"\",\"\",\"\",\"\",\"\",\"\",\"\",\"\",\"\",\"\",\"\",\"\",\"\",\"\",\"\",\"\",\"\",\"\",\"\",\"\",\"\",\"\",\"\",\"\",\"\",\"\",\"\",\"\",\"\",\"\",\"\",\"\",\"\",\"\",\"\",\"\",\"\",\"\",\"\",\"\",\"\",\"\",\"\",\"\",\"\",\"\",\"\",\"\",\"\",\"\",\"\",\"\",\"\",\"\",\"\",\"\",\"\",\"\",\"\",\"\",\"\",\"\",\"\",\"\",\"\",\"\",\"\",\"\",\"\",\"\",\"\",\"\",\"\",\"\",\"\",\"\",\"\",\"\",\"\",\"\",\"\",\"\",\"\",\"\",\"\",\"0_white_people_black\"],\"textfont\":{\"size\":12},\"x\":[5.721174716949463,8.02161693572998,6.098832607269287,7.4764838218688965,8.316550254821777,7.300308704376221,8.444284439086914,7.301900386810303,7.327751636505127,3.1583120822906494,6.8898444175720215,5.764700889587402,5.352010250091553,6.1306071281433105,5.890156269073486,5.417192459106445,8.989786148071289,6.714442729949951,8.492128372192383,6.617851257324219,5.877518653869629,7.780630588531494,6.006057262420654,8.260575294494629,5.865818500518799,6.907562732696533,7.411017417907715,7.740978717803955,8.2929048538208,8.568337440490723,5.8053998947143555,3.9227540493011475,7.097346782684326,6.670915126800537,7.1607794761657715,8.421606063842773,8.41649055480957,4.218841552734375,6.893569469451904,7.408466815948486,7.323135852813721,6.608992576599121,7.571902275085449,6.5183424949646,7.830206871032715,5.75066614151001,6.918051242828369,7.929476261138916,3.1722822189331055,6.098377704620361,8.008830070495605,8.313977241516113,8.318643569946289,7.0137410163879395,4.245599269866943,7.292479515075684,8.504035949707031,6.813228607177734,7.091056823730469,6.243163585662842,5.945193290710449,6.641299724578857,8.138941764831543,7.386569976806641,7.594910621643066,7.850376129150391,8.56921672821045,7.968837261199951,7.750988006591797,9.073718070983887,8.206720352172852,6.731485843658447,8.350118637084961,8.167930603027344,8.315230369567871,6.60837984085083,8.49789810180664,7.8574371337890625,7.834258556365967,6.598878860473633,7.330909252166748,3.184413433074951,6.337007522583008,4.589508056640625,8.113847732543945,6.929178714752197,3.5224788188934326,8.462774276733398,8.342748641967773,8.471463203430176,7.262303352355957,7.950873851776123,8.521041870117188,6.4553751945495605,6.017538070678711,7.433712482452393,5.970350742340088,7.7642083168029785,5.836136817932129,8.486037254333496,8.306659698486328,8.336023330688477,6.219580173492432,7.092778205871582,9.063608169555664,8.699431419372559,5.91062593460083,8.357194900512695,5.7833027839660645,6.354626655578613,7.908463001251221,7.526125907897949,5.839169979095459,6.195852756500244,5.995447158813477,8.262200355529785,6.212819576263428,6.702502727508545,6.920177459716797,7.858628273010254,5.83425760269165,8.699450492858887,5.078465461730957,7.98028564453125,7.538934707641602,7.8526105880737305,8.615748405456543,6.3259782791137695,6.183587074279785,6.177353382110596,6.474459171295166,6.133391380310059,5.945193767547607,7.82440710067749,5.5189971923828125,6.63269567489624,6.852776050567627,5.956092834472656,8.244428634643555,8.612820625305176,8.310253143310547,8.429292678833008,5.063655376434326,7.5235490798950195,7.753122806549072,7.55732536315918,5.839914321899414,8.332220077514648,7.175335884094238,8.445956230163574,4.763298034667969,5.781452178955078,5.5684494972229,5.916240215301514,8.091288566589355,6.834371089935303,7.920275688171387,7.858234405517578,8.369538307189941,9.01765251159668,7.108131408691406,7.501370906829834,8.488516807556152,8.63659381866455,7.756381988525391,5.92595100402832,6.057611465454102,7.4491071701049805,8.541681289672852,5.989726543426514,7.54067325592041,5.757933616638184,5.543175220489502,7.24514627456665,7.605514049530029,5.5976152420043945,6.993143081665039,7.030745983123779,7.918564319610596,7.252817630767822,4.013342380523682,9.018294334411621,5.836359977722168,7.458857536315918,8.029301643371582,6.1198835372924805,7.790736198425293,7.3050856590271,8.166418075561523,6.283786296844482,5.69247579574585,8.622015953063965,8.48503303527832,5.875060558319092,5.912917137145996,6.626295566558838,7.446778774261475,8.469987869262695,6.693779945373535,8.479348182678223,8.529111862182617,7.899445056915283,6.029508113861084,7.994195461273193,8.199843406677246,6.581567287445068,7.934525489807129,7.927384376525879,5.56036901473999,6.688187599182129,7.598608493804932,7.552159786224365,5.517677307128906,8.618451118469238,2.915722131729126,7.9147419929504395,7.5812482833862305,8.176997184753418,5.696547985076904,6.155495643615723,7.4903669357299805,5.973650932312012,6.380026340484619,6.333438396453857,9.030723571777344,8.624874114990234,7.136294841766357,6.484705924987793,8.364047050476074,6.8944268226623535,7.584550380706787,7.110630035400391,7.980765342712402,8.445670127868652,5.863264560699463,7.579146862030029,8.048168182373047,7.100790023803711,6.590508937835693,6.180296421051025,7.200253009796143,8.397379875183105,5.844808101654053,5.996001720428467,8.1309175491333,8.393170356750488,5.663074493408203,6.903409004211426,7.339200019836426,7.689145088195801,8.126175880432129,7.645444393157959,6.127148151397705,7.841477870941162,6.603533744812012,7.548468589782715,7.849078178405762,8.556891441345215,8.219639778137207,5.932866096496582,5.774835109710693,7.773392677307129,8.720561027526855,7.636744976043701,8.05319881439209,8.220426559448242,8.574318885803223,5.928420543670654,7.324799537658691,7.063395977020264,5.827082633972168,6.510601043701172,7.301324844360352,6.35029411315918,7.509696006774902,7.821797847747803,9.104501724243164,6.197731018066406,6.0429205894470215,6.671118259429932,7.467658519744873,7.900287628173828,6.278894901275635,7.524730205535889,7.715934753417969,6.648915767669678,7.978650093078613,5.396413803100586,7.680536270141602,6.360915184020996,6.617696762084961,7.714871883392334,8.234430313110352,6.551146030426025,7.355637073516846,5.8912858963012695,8.125824928283691,7.0987348556518555,8.521486282348633,7.2183732986450195,6.88234806060791,7.667950630187988,8.293482780456543,5.9076619148254395,6.019687652587891,7.942724227905273,8.143695831298828,6.379217147827148,7.116353511810303],\"y\":[12.693367004394531,15.850593566894531,13.669363975524902,13.309904098510742,14.239872932434082,14.395309448242188,15.837345123291016,13.109786987304688,14.790781021118164,14.269659996032715,12.402841567993164,15.308756828308105,15.632918357849121,13.783712387084961,15.500558853149414,12.32358455657959,14.901496887207031,14.224077224731445,15.86149787902832,16.131807327270508,14.887819290161133,15.067964553833008,13.136025428771973,14.916842460632324,14.787254333496094,12.508694648742676,15.692368507385254,15.155409812927246,15.113646507263184,14.726519584655762,15.375554084777832,13.588961601257324,13.408833503723145,13.14311695098877,13.251180648803711,15.372283935546875,14.94543743133545,15.315082550048828,12.407681465148926,14.768863677978516,15.515953063964844,12.392011642456055,15.629049301147461,15.111933708190918,15.800079345703125,13.466025352478027,13.085765838623047,14.482251167297363,14.309846878051758,13.7174711227417,13.922774314880371,15.360559463500977,15.136106491088867,14.898663520812988,15.321990013122559,14.758803367614746,15.465968132019043,15.38272762298584,14.900153160095215,12.60448932647705,12.8866548538208,13.048933029174805,14.747314453125,13.202949523925781,14.973384857177734,15.373584747314453,14.745440483093262,14.946440696716309,15.493400573730469,14.867537498474121,15.206674575805664,15.351049423217773,15.114789009094238,15.175172805786133,15.161903381347656,12.956097602844238,14.407155990600586,15.2103910446167,13.71938419342041,16.162099838256836,14.488574028015137,14.293835639953613,15.893292427062988,15.13295841217041,15.193909645080566,14.915667533874512,13.456061363220215,15.827128410339355,14.24495792388916,14.186965942382812,15.385828971862793,13.981382369995117,15.633048057556152,15.989411354064941,12.924447059631348,15.176694869995117,15.354387283325195,14.921792984008789,12.715813636779785,15.510217666625977,14.264678955078125,15.037676811218262,13.10805892944336,12.836443901062012,14.863499641418457,13.983484268188477,15.581954956054688,15.24107837677002,13.014564514160156,12.932596206665039,14.380576133728027,15.63122272491455,12.704877853393555,13.130617141723633,12.854671478271484,15.954947471618652,15.063676834106445,14.944392204284668,13.046198844909668,14.342294692993164,15.412701606750488,13.965607643127441,12.902892112731934,15.812737464904785,14.790885925292969,15.840714454650879,15.232415199279785,13.773937225341797,12.46180248260498,12.567971229553223,16.034093856811523,14.194626808166504,15.594285011291504,15.609350204467773,14.845373153686523,15.414240837097168,12.400200843811035,12.637426376342773,15.095999717712402,15.48483657836914,14.62047004699707,15.04366683959961,12.87984561920166,15.086644172668457,15.55848503112793,14.49750804901123,12.639187812805176,14.253135681152344,15.636370658874512,14.984692573547363,12.994841575622559,14.788430213928223,14.870251655578613,12.829499244689941,14.730573654174805,13.196489334106445,14.305046081542969,15.441813468933105,15.00308895111084,14.853690147399902,12.919663429260254,15.139700889587402,15.825963020324707,15.491761207580566,14.991355895996094,13.733806610107422,14.229742050170898,14.236959457397461,15.713868141174316,14.485452651977539,14.723508834838867,12.555218696594238,15.006427764892578,15.382262229919434,15.33410930633545,12.648162841796875,12.636687278747559,12.674712181091309,14.296244621276855,15.405477523803711,13.205245018005371,14.858899116516113,13.48574447631836,15.490474700927734,13.96930980682373,13.223125457763672,14.90342903137207,15.343838691711426,15.825406074523926,14.861454010009766,14.845866203308105,15.490882873535156,15.79878044128418,12.786454200744629,14.763151168823242,15.18978214263916,14.827579498291016,14.997709274291992,14.93895435333252,15.046449661254883,15.178767204284668,14.371956825256348,13.23041820526123,14.896343231201172,15.853665351867676,13.237842559814453,13.813641548156738,15.28792667388916,14.828621864318848,15.032272338867188,15.196331977844238,14.820107460021973,12.392537117004395,15.486343383789062,16.907384872436523,14.967140197753906,14.948060035705566,14.929302215576172,15.020310401916504,12.841649055480957,14.775362968444824,14.894704818725586,12.52342700958252,14.8689603805542,14.868807792663574,15.49987506866455,15.20301342010498,13.26953411102295,15.014728546142578,12.398918151855469,14.279650688171387,12.704961776733398,14.638798713684082,14.259618759155273,15.418428421020508,14.72829818725586,15.471949577331543,12.681573867797852,12.517548561096191,12.609712600708008,15.636309623718262,14.263062477111816,14.929553985595703,13.172359466552734,15.646248817443848,14.994011878967285,15.143867492675781,13.232897758483887,15.498919486999512,13.60218334197998,15.230360984802246,15.222203254699707,13.74044132232666,15.735302925109863,13.075993537902832,15.312545776367188,15.825813293457031,14.727319717407227,15.106195449829102,15.614178657531738,14.830636024475098,14.870462417602539,13.976956367492676,13.539515495300293,15.275737762451172,14.766654014587402,14.853137016296387,13.528712272644043,13.09503173828125,13.276330947875977,12.636238098144531,16.039506912231445,15.2587308883667,14.877511978149414,14.833395004272461,15.760966300964355,14.837549209594727,13.978822708129883,14.313313484191895,12.700685501098633,13.502041816711426,14.601093292236328,13.04964542388916,14.497956275939941,15.232274055480957,16.13743019104004,14.773507118225098,14.583914756774902,15.513176918029785,14.84743881225586,12.978397369384766,14.782615661621094,14.433555603027344,13.309954643249512,14.789366722106934,14.598654747009277,14.074580192565918,12.693268775939941,15.6349515914917,14.156721115112305,14.85340690612793,15.845526695251465,14.260947227478027,15.624296188354492,13.200315475463867,14.403157234191895,14.755572319030762,12.901814460754395,14.481809616088867],\"type\":\"scattergl\"},{\"hoverinfo\":\"text\",\"hovertext\":[\"pau manager reception center kill knife sudanese migrant via\",\"sharia sweden conservative journalist ingrid carlqvist amp maria celander indict thought crime islam face\",\"actually sour though pickle except cabbage instead cucumber delicio\",\"biden amp eu join force eu commissioner ylva johansson see video work biden fight right wing extremist\",\"islamophobia slay unbeliever wherever ye find koran verse\",\"woman march silent taxpayer fund german school put hijab non muslim german girl dress rehearsal\",\"italy naked jaybird illegal alien muslim invader take leak middle street broad daylight\",\"hungary continue put people st illegals prime minister viktor orb n vowed never allow christian country chang\",\"londonistan tesco worker help police take muslim attacker brandishing multiple knife\",\"remember nato bombing yugoslavia\",\"break new year eve canada police violently raid family gathering six people neighbor report coronavirus\",\"germany threatens citizen merkel release ultimatum get vaccinate banish germany already throw quarantine\",\"warn u democratic party copy germany deploys antifa stormtroopers conservative germany left wing gov\",\"trump accomplish last president combine\",\"break massive cover expose virologist sucharit bhakdi healthy people dangerous vaccine young\",\"back another twitter ban new crime quote world health organization discus new vaccination\",\"french geneticist covid health crisis test healthy people medicine see viral video focus\",\"father botros coptic orthodox priest try wake west year many christian must die\",\"wow german parliament left stun afd martin hess slam german lawmaker allow war machine ente\",\"allahu akbar migrant attack migrant riot man commits suicide greek detention center hundred illegal migrant\",\"course american medium never show capital city european union new year eve bruss\",\"easy meat another fail muslim asylum seeker rape murder chop body british woman lure\",\"know term islamophobia invent front group muslim brotherhood order export\",\"enrich sweden isi child back sweden pose weapon sever head social service take child fro\",\"break see inside germany maximum security corona jail quarantine violator barbed wire amp security fence surround\",\"linda sarsour organizer woman march amp openly support sharia law let sink adaywithoutwomen internati\",\"demographic jihad swedish government lie massive migration number video within generation sweden third large\",\"biden let million illegals america vaccination record democrat\",\"chinese corona virus like\",\"enrich germany syrian refugee tell job center would rather fight jihadis meanwhile muslim brotherhood ba\",\"shock famous journalist expose suicidal effect sweden open border policy video swede told\",\"morocco muslim youth vandalize brand new casablanca bus apparent reason\",\"keep warn america know many syrian muslim refugee way america next eu\",\"migrant party taxpayer fund resort pool spain remains lockdown two week ago migrant left wing red\",\"afd gottfried curio warn world amp stuns german parliament un amp merkel plan expose make every call refugee\",\"venezuela start free distribution drug covid\",\"netherlands like last week former soldier stood today protection protester\",\"vaccination blackmail restaurant expect reopen january\",\"hamas link cair amp soros unite push blasphemy law wan america cair call legislator label criticism\",\"belgium first islamic state europe one third country population foreign origin brussels belg\",\"people die vaccination accord pej bos cichutek bpk however people\",\"alert america face invasion border biden flood america refugee terr\",\"syrian muslim terrorist ahmad al issa try travel syria summer unable due coronavirus lockdown acco\",\"france sudanese muslim illegal alien stab immigration official death asylum claim reject\",\"covid plot gay man flee venezuela warns communist take canada trudeau use virus power grab\",\"break christian attack jihad attack suicide bomber strike catholic church indonesia palm sunday church\",\"well uganda damn well leave sweden\",\"flashback fbi take poster seek islamic terrorist hamas link cair complain show photo fb\",\"muslim commit multiple terrorist attack across europe gt muslim look back anger random\",\"yet bombed middle eastern country\",\"fifteen girl saudi arabia burn alive islamic sharia religious police let leave burning\",\"anti christian twitter iftar amp ramadan hashtag emoji honor islamic holy day one christian ho\",\"demographic jihad swedish government lie massive migration number almost illegal migrant grant citizensh\",\"bloody man throw decapitate head window onto street france short month ago islamic migrant\",\"one good thing french police never hesitate fire weapon knife wield muslim\",\"global plot left wing western leader continue open border mass migration impose harsh coronavirus lock\",\"germany stab spree frankfurt leaf several injured german authority probe attacker motif\",\"trump peace biden war thanks left\",\"biden obama back terrorist please islamic pakistani sharia court overturn conviction\",\"anyone yet investigate mosque ahmad al issa attend\",\"enough mr laschet enough merkel cry help hairdresser bianka fuse burn\",\"radical somali congressmuslim ilhan omar mn threatens force republican congresswoman office\",\"biden need another war middle east also biden proceeds bomb syria\",\"coronavirus tyranny german state police detain maskless elderly cyclist citizen violate chancellor angela merkel lockd\",\"globalists celebrate eu biden join force fight right wing extremist islamize west ban free speech islamic\",\"turkish president recep tayyip erdogan file criminal complaint dutch opposition leader geert wilder\",\"colorado shooter facebook page quote prophet muhammad also know extremely religious sure thi\",\"stop steal twitter suspends spain conservative vox party ahead election video vox leader santiago abascal vow\",\"report government dominate committee call seat inbound flight quarantine place australia\",\"tell u else could seem may side effect\",\"woman speak islam france threaten rape amp death american understand happen\",\"biden test illegal alien coronavirus le month biden number people illegally\",\"warn attack france come muslim mayor incites jihadis threaten teacher samuel paty style death teacher\",\"trump accomplish last president combine\",\"coronavirus tyranny truth teller arrest uk woman arrest film inside empty hospital post online\",\"alabama litigation jihadist cair file federal lawsuit prison execute two convert islam without\",\"kill kill war police france mainly african arab muslim commu\",\"alert mandatory coronavirus vaccination come spain video refuse injection mislabelled vaccine wi\",\"still catholic apostate\",\"german try warn u\",\"meanwhile enrich belgium four minor arrest plot islamic terrorist attack one already bought mac\",\"austrian girl told wear hijab prevent assault migrant fmr member parliament suggests austrian born girl\",\"ten people slaughter syrian muslim refugee ahmad al issa white non muslim terrorist attack also goin\",\"hungarian prime minister orb n soros population replacement make europe muslim orb n leader pa sto\",\"syrian muslim refugee welcome america hand citizenship along host taxpayer fund handout\",\"west full country protect border dangerous illegal migrant problem imposi\",\"sure many research danger associate gene alter prick\",\"biden sign executive order first ten day president anyone sign many executive order\",\"break pandemic number fake blame trump change guideline covid test hour biden inauguration thes\",\"expose covid lockdown rule apply salvini left wing italian trial judge salvini trial kidnapping w\",\"make germany great warn globalists socialist amp enemy west germany fed amp rise af lead\",\"deeply disappointed gov abbott proud gab amp jewish support christian run business amp thank\",\"government enforces hospital put every death covid\",\"bioterrorism bangladeshi muslim doctor arrest boston try obtain deadly ricin fbi investigate dr ishtiaq\",\"hey know syrian muslim terrorist colorado twitter account delete show h\",\"share caution vaccine know long term side effect basically modify pe\",\"open border joe biden vow increase refugee admission trump demand low refugee admission u histo\",\"go forward twitter tweet mention coronavirus vaccination censor twitter part\",\"sharia uk every woman cover top toe otherwise police collect situati\",\"suicidal sweden left wing open border policy blame late allahu akbar attack afghani tamim sultani grant\",\"german parliament left stun afd gottfried curio migrant go save germany ruin\",\"biden legislate executive order unless dictator also biden proceeds sign record break\",\"break u custom border protection report illegals attempt cross border february\",\"break terror attack sweden eight injured vetlanda video police refuse answer medium question\",\"america corrupt refugee resettlement program brainchild senator biden one reason muslim brotherhood end\",\"democrat darling rep ilhan omar say chuckle israel call democracy compare iran anti\",\"threat alert terror tie migrant run dangerous mosque amp islamic school florida dr fadi yousef kablawi long history\",\"warn socialist spain keep register vaccine refusers country receive name dissenter strategy designe\",\"easter australia day allow\",\"global plot left wing western leader continue open border mass migration imposin\",\"population control group cheer biden force taxpayer fund overseas abortion trump like reagan stop taxpayer fun\",\"enrichment father beat sexually abuse daughter check muslim sweden refuse deport court h\",\"break sweden admits people die high rate due pandemic video statistic reveal overall death rate\",\"clarkston georgia one georgia large mosque built small city clarkston resident\",\"christian refugee austria return syria safer young christian syria flee austria esca\",\"muslim brotherhood congressman andre carson arrest yet republican allow serve spy house intelligenc\",\"globalists celebrate open border joe biden european union joe biden join force fight right wing extremist\",\"terror attack update afghani migrant behind stab sweden medium reporting terrorist suffer\",\"france call islamophobe live hr police protection due death threat receive\",\"world hijab day one many subtle tactic use muslim brotherhood front group introduce sharia america illino\",\"france muslim arrest try carry attack jewish school amp kosher grocery video prosecutor cry mental illness\",\"suicidal socialist spain moroccan migrant mohamed professional robber commit crime h\",\"start go biden bomb\",\"question point baby wear hijab hijab suppose prevent men tempt sin appea\",\"new year austria civil war like incident amp yell allahu akbar new year eve vienna meanwhile elec\",\"sharia compliant nike harshly condemn depict iranian female mathematician hijab chosen never\",\"predict biden break trump peacetime record launch air strike syria\",\"new follower syria last week see\",\"hamas link cair amp iihan omar unite demand sharia compliance pro sharia muslim rep elect ilhan omar demand amazon give\",\"enrich france police crew attack mortar fire car burn amp fire set throughout lyon mayor refuse\",\"muslim ever respect religious teacher religion koran order religion\",\"shock video famous journalist expose suicidal effect sweden open border policy swede told\",\"geert wilder shock dutch parliament koran full jew hatred wilder demand parliament stop pretend care abo\",\"bolder muslim refugee terrorist convict misdemeanor assault another student high school suspe\",\"go war germany protect america english replace german ensure\",\"astra zeneca prove dangerous yet country throughout europe push citizen meanwhile famous german doctor\",\"spain attack military age migrant infect coronavirus storm border fence socialist gov caught distri\",\"fbi arrest doug mackey aka ricky vaughn conservative journalist florida face year hurt democrat\",\"happen make american listen put video year ago man interrogate islamic\",\"eu schmuck blast bosnia take well care illegal alien muslim invader burn calle\",\"hijab amp niqab represent subjugation woman sign woman accept responsibility keep men tempt\",\"america deal deadly islamic terrorist attack colorado jihadist kill mali one\",\"tuesday biden address nation islamic attack say would speculate shooter motive\",\"politician marine le pen party france slam famous ballet du nord put woman sharia hijab\",\"islamic migrant threatens gang rape politician expose illegally operate mosque see video islamic community\",\"must watch video break famous doctor develops safe vaccine covid germany prosecutes state targete\",\"read two new openly anti illegal migrant pro border minister appoint conservative prime minister kyriakos\",\"igrant enrichment german woman begs help go street anymore without think pepper spr\",\"enrich belgium brussels mohamed mohammed ahmed common name many municipality new stati\",\"elderly abuse grandma ban nursing home activity refuse vaccinate vaccine suppose vol\",\"break swedish news reporting suspect first enter country\",\"army illegal migrant invade hungarian home mayor demand military action woman found army illegals\",\"get ready white people joe biden america inbound gt unrelenting stream immigration non stop gt\",\"break germany suspends astra zeneca vaccination although report side effect increase several st\",\"alabama litigation jihadist cair file federal lawsuit prison execute two convert islam wit\",\"israel law allows authority know identity unvaccinated people\",\"warn isi order wolf attack church amp police spain despite anti terrorist unit warn left wing gov\",\"putin responds biden threat wish good health\",\"female palestinian muslim terrorist say prepare carry suicide bombing mission jew like prep\",\"dr fauci covid expert back march\",\"biden threat global security china ate secretary blinken lunch ccp order press back room\",\"belgium first islamic state europe one third country population foreign origin brussels belgian\",\"follow france footstep austria begin crackdown muslim\",\"fbi interviewed terrorist amp nothing major hasan fort hood tx kill amp wound omar mateen orland\",\"enrich uk refugee demand hotel set fire barrack threaten kidnapping staff commonplace europ\",\"yes af slam merkel import culture hate woman turn berlin baghdad migrant willi\",null],\"marker\":{\"opacity\":0.5,\"size\":5},\"mode\":\"markers+text\",\"name\":\"1_muslim_biden_migrant\",\"text\":[\"\",\"\",\"\",\"\",\"\",\"\",\"\",\"\",\"\",\"\",\"\",\"\",\"\",\"\",\"\",\"\",\"\",\"\",\"\",\"\",\"\",\"\",\"\",\"\",\"\",\"\",\"\",\"\",\"\",\"\",\"\",\"\",\"\",\"\",\"\",\"\",\"\",\"\",\"\",\"\",\"\",\"\",\"\",\"\",\"\",\"\",\"\",\"\",\"\",\"\",\"\",\"\",\"\",\"\",\"\",\"\",\"\",\"\",\"\",\"\",\"\",\"\",\"\",\"\",\"\",\"\",\"\",\"\",\"\",\"\",\"\",\"\",\"\",\"\",\"\",\"\",\"\",\"\",\"\",\"\",\"\",\"\",\"\",\"\",\"\",\"\",\"\",\"\",\"\",\"\",\"\",\"\",\"\",\"\",\"\",\"\",\"\",\"\",\"\",\"\",\"\",\"\",\"\",\"\",\"\",\"\",\"\",\"\",\"\",\"\",\"\",\"\",\"\",\"\",\"\",\"\",\"\",\"\",\"\",\"\",\"\",\"\",\"\",\"\",\"\",\"\",\"\",\"\",\"\",\"\",\"\",\"\",\"\",\"\",\"\",\"\",\"\",\"\",\"\",\"\",\"\",\"\",\"\",\"\",\"\",\"\",\"\",\"\",\"\",\"\",\"\",\"\",\"\",\"\",\"\",\"\",\"\",\"\",\"\",\"\",\"\",\"\",\"\",\"\",\"\",\"\",\"1_muslim_biden_migrant\"],\"textfont\":{\"size\":12},\"x\":[3.545703172683716,3.180436134338379,2.2620110511779785,2.718278408050537,3.8825833797454834,3.340801239013672,2.8916361331939697,2.9397311210632324,3.482712745666504,4.2772674560546875,2.2815003395080566,2.1581287384033203,2.496534824371338,2.385772705078125,1.638476014137268,1.5955257415771484,1.739635705947876,4.361927509307861,2.466982364654541,3.4510817527770996,4.3012566566467285,3.4123568534851074,3.784484624862671,2.8827216625213623,2.211068868637085,3.345461130142212,2.759460210800171,2.5666353702545166,1.8079999685287476,3.1928889751434326,2.711897373199463,3.658527374267578,3.2245473861694336,2.4239888191223145,2.502026081085205,1.7842705249786377,2.492680788040161,1.6078481674194336,4.076903343200684,3.689729928970337,1.6437965631484985,2.9996795654296875,3.4680380821228027,3.722987413406372,2.0877161026000977,4.410521984100342,2.8162779808044434,3.8474323749542236,3.8850059509277344,4.255192756652832,3.397035598754883,4.42958402633667,2.812274217605591,3.589433193206787,3.971890926361084,2.3592257499694824,2.4207732677459717,2.703632354736328,3.394021987915039,3.750683069229126,2.7880659103393555,3.6179397106170654,2.687955856323242,2.220442295074463,2.960082530975342,2.6100387573242188,4.015494346618652,2.27311110496521,2.0740654468536377,1.6560394763946533,3.862870454788208,2.6136536598205566,3.919551372528076,2.431779623031616,1.8900660276412964,3.8186075687408447,4.116497993469238,1.6870520114898682,4.3474531173706055,2.568688154220581,3.8001909255981445,3.3558409214019775,3.7076330184936523,2.834411859512329,3.2633419036865234,3.0281715393066406,1.6585882902145386,2.472151279449463,2.431238889694214,2.319671630859375,2.5595667362213135,4.498756408691406,1.920828938484192,3.6147782802581787,3.9940712451934814,1.6549240350723267,2.8308990001678467,1.6123331785202026,3.352855920791626,2.8329994678497314,2.522179126739502,2.477041244506836,3.0402679443359375,2.7886834144592285,3.240032196044922,4.094832897186279,3.8332440853118896,1.7241300344467163,4.443457126617432,2.587829351425171,2.612931251525879,2.951369524002075,2.544118881225586,3.8106281757354736,3.2910654544830322,3.6148602962493896,2.7423956394195557,2.8404734134674072,3.9142544269561768,3.4534363746643066,3.9548964500427246,3.4883296489715576,2.649404764175415,3.3890838623046875,4.342733860015869,3.3616058826446533,2.551955461502075,4.064576148986816,3.970033645629883,3.929478645324707,4.26581335067749,2.728982925415039,2.5726072788238525,3.8039186000823975,2.508300542831421,1.9192098379135132,2.14517879486084,3.650909900665283,3.749361276626587,3.1082215309143066,3.3844971656799316,4.016233921051025,3.0489661693573,3.363380193710327,3.6449432373046875,1.7683621644973755,2.5907509326934814,2.1969547271728516,3.7098097801208496,1.7406764030456543,2.7885658740997314,2.87048077583313,2.828744888305664,1.8251184225082397,3.810577869415283,1.6649279594421387,2.4018192291259766,2.685957908630371,3.8585989475250244,1.763823390007019,2.716226577758789,3.713388681411743,3.761944055557251,3.660992383956909,3.2180445194244385,2.8045592308044434,3.0236237049102783],\"y\":[16.574405670166016,16.873022079467773,15.5090913772583,14.747095108032227,16.464500427246094,16.924396514892578,15.843944549560547,16.164323806762695,16.58417320251465,16.495784759521484,15.788569450378418,15.595596313476562,15.591691970825195,14.408935546875,15.6406888961792,15.559593200683594,15.785370826721191,16.19389533996582,15.605626106262207,16.4862060546875,15.524211883544922,16.5754337310791,16.40461540222168,16.863801956176758,15.418416976928711,16.908300399780273,16.847753524780273,14.91418170928955,15.831247329711914,15.903678894042969,16.810405731201172,16.713693618774414,15.876273155212402,16.164278030395508,15.631394386291504,15.81784725189209,15.685049057006836,15.637056350708008,16.09760284423828,16.385128021240234,15.654134750366211,15.340481758117676,16.054853439331055,16.679290771484375,16.028947830200195,16.11393928527832,16.860504150390625,16.004928588867188,16.556472778320312,16.487165451049805,16.894012451171875,16.110471725463867,16.857736587524414,16.64594268798828,16.776363372802734,16.187946319580078,15.622715950012207,14.665472984313965,15.614133834838867,16.02033805847168,15.676268577575684,16.388824462890625,14.580831527709961,15.615839004516602,14.944869995117188,15.766600608825684,16.279617309570312,16.089677810668945,15.811473846435547,15.628149032592773,16.72622299194336,14.969460487365723,16.718748092651367,14.442556381225586,15.743539810180664,16.074905395507812,16.57124900817871,15.722301483154297,16.167051315307617,15.546202659606934,16.54874038696289,16.911745071411133,16.22881507873535,16.273967742919922,15.808526992797852,15.581814765930176,15.650251388549805,14.510860443115234,14.839309692382812,15.825337409973145,15.55258846282959,16.124704360961914,15.79883098602295,15.989306449890137,16.26308250427246,15.651546478271484,15.162161827087402,15.574820518493652,16.965171813964844,16.77464485168457,15.642240524291992,14.493673324584961,15.220558166503906,16.815105438232422,15.766542434692383,16.033222198486328,16.00481605529785,15.72280216217041,16.04377555847168,16.272666931152344,14.879958152770996,16.847412109375,16.778398513793945,16.09528160095215,15.978985786437988,15.686117172241211,14.869224548339844,16.791784286499023,16.720867156982422,16.826566696166992,16.766963958740234,16.446626663208008,14.525430679321289,16.997045516967773,15.60236930847168,16.970867156982422,14.522353172302246,16.35074234008789,16.014463424682617,16.738094329833984,16.356433868408203,16.83839988708496,15.731208801269531,16.194393157958984,15.576125144958496,15.640686988830566,15.987853050231934,15.613680839538574,16.191509246826172,15.885738372802734,16.969257354736328,16.30609130859375,15.085553169250488,16.929950714111328,16.438251495361328,15.712509155273438,16.300983428955078,15.562721252441406,16.332462310791016,15.624149322509766,16.81410026550293,16.238521575927734,15.044889450073242,15.619118690490723,16.06456756591797,15.70406436920166,16.048343658447266,14.611836433410645,16.694246292114258,15.738679885864258,14.509220123291016,16.404090881347656,16.56519889831543,15.989791870117188,16.171112060546875,15.733660697937012,15.982999801635742],\"type\":\"scattergl\"},{\"hoverinfo\":\"text\",\"hovertext\":[\"john kohn aka john kerry claim earth nine year\",\"trump present future republican party plan run\",\"march nyc mayor de blasio msnbc amp healthy n yers little th\",\"united remove traitor like party good choice show cpac\",\"trump want every american read follow time magazine article democrat crook flaunt corruptness know\",\"warn joe biden radical hud secretary marcia fudge threat america watch like many others biden admin\",\"rino nikki haley scar show face cpac\",\"george lincoln rockwell born march assassinate august\",\"antifa always corporate manufacture product anarcho marxism package sell capitalist impre\",\"many vote discover georgia tonight watch suitcase ga sen\",\"show one politician corrupt core\",\"democrat work harder rebuild c swamp american job\",\"threat alert radical communist tie nominate secretary interior deb haaland nomination completel\",\"necessary win election help someone heart big must heart\",\"trump cpac trumpism mean strong border riot support police nd amendment video\",\"wa po typical left wing news organization exists harm conservative jeff bezos u power money\",\"happen look like suitcase democrat ballot show\",\"trump cpac warmonger liz cheney\",\"trump slam traitor republican party yes name every last one time take back party\",\"president trump cpac must voter id republican party actually tackle issue must stop speaki\",\"guy tune est click link see donald trump cpac address cpac general\",\"counting stop ballot fairy go work\",\"george conway lie national tv say know fellow co founder lincoln project well r\",\"win seat georgia mitt romney go officially declare democrat good riddance\",\"get teary eyed see elderly veteran show freedom plaza fight trump incredible co\",\"rino nikki haley scar show face cpac\",\"time see mike penny truly patriot\",\"make remain ballot de kalb county must manually scan order tabulate\",\"shame gop ballot atlanta start come even though poll close five hour ago democrat co\",\"lincoln project every one work trump admin held accountable action also lp w\",\"house democrat push cable company big tech get rid conservative news network\",\"cqfd well totally fire like trump\",\"one trump lawyer play unedited fine people hoax video debunk front america network\",\"rashida tlaib give oscar worthy performance house floor favorite line happen january th\",\"yes trump might decide beat third time usa usa usa\",\"expose georgia election bribe democrat group caught break federal law bribing georgia voter\",\"cool story first time radio legendary rush limbaugh right somewhat infamou\",\"alert communist senator chris murphy connecticut national security threat murphy infiltrate senate fo\",\"cnn rest liberal medium fake plan attack today u capitol go today\",\"jake tapper dnc operative expose wikileaks left wing hack nerve say kaleigh mc ne\",\"greta thunberg expose creation powerful marxist soros back ngo al gore amp\",\"ryan girdusky lincoln project part grift part groom operation john weaver\",\"trump take stage cpac love president\",\"already election need mike penny stop democrat steal\",\"end every trump speech music come help get dance president give much ho\",\"watch president trump take stage cpac give burst joy hope\",\"uncle mla aunt vice president\",\"gayle oprah paid pr harry witch\",\"long machine shut georgia night\",\"entire world watch trump cpac\",\"one president trump told u corruption go take place georgia right free\",\"surprised new age neo marxist refuse join take wall street crook\",\"president run third term cpac\",\"trump one address illegal immigration cpac republican party wake f\",\"donald trump jr gov cuomo get emmy send grandma death gov de santis get hell open beach h\",\"flag ny dems let let one credible scandal distract another credible disa\",\"year ago today one america great patriot hero born born bloomington illinois\",\"thought hillary aka schrillary clinton new book welcome\",\"entire world watch trump cpac\",\"gab run beautifully thank msm announce moment hate fo\",\"love trigger left amaze marjorie taylor greene look one strong conservative woman scare\",null],\"marker\":{\"opacity\":0.5,\"size\":5},\"mode\":\"markers+text\",\"name\":\"2_trump_cpac_democrat\",\"text\":[\"\",\"\",\"\",\"\",\"\",\"\",\"\",\"\",\"\",\"\",\"\",\"\",\"\",\"\",\"\",\"\",\"\",\"\",\"\",\"\",\"\",\"\",\"\",\"\",\"\",\"\",\"\",\"\",\"\",\"\",\"\",\"\",\"\",\"\",\"\",\"\",\"\",\"\",\"\",\"\",\"\",\"\",\"\",\"\",\"\",\"\",\"\",\"\",\"\",\"\",\"\",\"\",\"\",\"\",\"\",\"\",\"\",\"\",\"\",\"\",\"\",\"2_trump_cpac_democrat\"],\"textfont\":{\"size\":12},\"x\":[2.6756367683410645,2.2797718048095703,2.897843360900879,2.719729423522949,3.1194307804107666,2.801408052444458,2.513025999069214,3.439807415008545,5.656965255737305,2.809394359588623,2.7187297344207764,3.0671370029449463,2.844853401184082,2.7538797855377197,2.2510266304016113,3.2967922687530518,2.7877044677734375,2.5507397651672363,2.5654184818267822,2.266587018966675,2.238232374191284,2.7718448638916016,3.3291828632354736,2.781738519668579,2.318413257598877,2.47005295753479,2.6595263481140137,2.7946367263793945,2.820368528366089,2.988421678543091,3.1766374111175537,2.504516839981079,3.221426010131836,2.4503750801086426,2.258739709854126,2.8244495391845703,3.12226939201355,2.820805549621582,3.142012357711792,3.039449453353882,3.4782681465148926,3.4189438819885254,2.248337507247925,2.665565252304077,2.330660820007324,2.2484893798828125,2.7876901626586914,3.2740769386291504,3.03859543800354,2.2101197242736816,2.9062681198120117,3.51631498336792,2.2584991455078125,2.2695178985595703,2.588005542755127,2.730879545211792,3.5641603469848633,3.04435396194458,2.235809564590454,2.86783766746521,3.295173406600952,2.83158278465271],\"y\":[13.093255043029785,13.693867683410645,13.763094902038574,13.472131729125977,13.816031455993652,13.95761775970459,13.6038236618042,13.415671348571777,15.129955291748047,12.89493179321289,13.414369583129883,13.757076263427734,13.97276782989502,13.018945693969727,13.583032608032227,13.929512023925781,12.896050453186035,13.589058876037598,13.560654640197754,13.583800315856934,13.556832313537598,12.884956359863281,13.437799453735352,12.940200805664062,13.514411926269531,13.566036224365234,13.243825912475586,12.90468692779541,12.893884658813477,13.425098419189453,13.872349739074707,13.510831832885742,13.899835586547852,13.47100830078125,13.84494400024414,12.929525375366211,13.803832054138184,13.843828201293945,13.935364723205566,13.809316635131836,13.799174308776855,13.428201675415039,13.55649471282959,13.145092964172363,13.57895565032959,13.53323745727539,13.372176170349121,13.404397964477539,12.847139358520508,13.56336498260498,13.030967712402344,13.871663093566895,13.643391609191895,13.585487365722656,13.761216163635254,13.45433521270752,13.386882781982422,13.454743385314941,13.548766136169434,12.913553237915039,13.65290641784668,13.507649421691895],\"type\":\"scattergl\"},{\"hoverinfo\":\"text\",\"hovertext\":[\"medium want believe hundred people freedom reclaim\",\"two private school girl adelaide appear film hang black baby doll give part\",\"friend let support dear friend let solidarity problem account friend get notification\",\"tell everyone year ever give scandinavian brother sister war th\",\"savitri devi write numerous time determine quality person people view\",\"islamic pakistan medium blackout muslim destroy another hindu temple pakistan modi caa give citizenship persecute\",\"sharia pakistan little hindu girl pakistan abduct beg india modi protection islamic ca\",\"inter n national c chutiya\",\"friend india please contact help expose left coordinate attack country indian fa\",\"agree ignoramus toby young free describe journalist illiterate make\",\"india innovative thrust jai swadeshi\",\"modi ji slogan self reliance penetrate even among love couple\",\"happy republic day india america stand care deeply war jihadis amp left wag country amp\",\"really modi ji get credit rejuvenation include go journey become possible\",\"rahul gandhi big asset bjp\",\"shameful samuel paty style threat head school bow violent jihad mob parent issue apology su\",\"warn biden terror tie hijabi appointee sameera fazili threat u amp india fazili member stand kash\",\"australian student year behind average chinese student sat test year behind\",\"facebook ban gay ex muslim iraq life germany one photo show kiss man\",\"g link anon r pls research post u find fault let know learn hhx news clipping lie flie\",\"south australia trinity college apologise video circulate show student school hang black\",\"time fix mukhtar ansari salwar peeli\",\"lgbt deviant disrespect kaaba bo azi university detain\",\"associate every work r interest country mithun chakraborty\",\"terrorist attack india islamic mob drag hindu rinku sharma home slaughter front parent wh\",\"u bulat home pawri ho rai hai\",\"ok theek hai\",\"day since kashmiri hindu turn away home let sink\",\"america pay attention coordinate global attack india left radical launch campaign destr\",\"case prima facie seem fault delivery boy kamaraj hitesha pull whole\",\"holy place vrindavan cm shri ji hon union jal shakti minister shri water power\",\"cnrs investigate sa bouamama via\",\"sucial science uba must close\",\"pride india rajputana chittorgarh fort\",\"u press reporting muslim girl father lie samuel paty start campaign get\",\"downfall one kill sadhu insult woman certain parambir singh anil deshmukh uddhav thackeray sanjay raut ht\",\"final round shivgaan competition full swing across maharashtra eve chhatrapati shivaji maharaj birth anniversary umbrella\",\"try tell everyone year matter nothing good enough crea\",\"fund dedication shri ram mandir zomato pizza hut domino swiggy mango shopkeeper\",\"heard psycho back send agra soon\",\"year delhi trouble riot delhi ankit rinku sharma kill jihadis delhi\",\"hindu le sikh today e hoist flag religion red fort\",null],\"marker\":{\"opacity\":0.5,\"size\":5},\"mode\":\"markers+text\",\"name\":\"3_india_hindu_pakistan\",\"text\":[\"\",\"\",\"\",\"\",\"\",\"\",\"\",\"\",\"\",\"\",\"\",\"\",\"\",\"\",\"\",\"\",\"\",\"\",\"\",\"\",\"\",\"\",\"\",\"\",\"\",\"\",\"\",\"\",\"\",\"\",\"\",\"\",\"\",\"\",\"\",\"\",\"\",\"\",\"\",\"\",\"\",\"\",\"3_india_hindu_pakistan\"],\"textfont\":{\"size\":12},\"x\":[4.972139358520508,4.699769496917725,4.68427038192749,4.701411247253418,4.934393882751465,4.399865627288818,4.337406158447266,4.5994415283203125,4.268396377563477,3.514374256134033,4.70480489730835,4.876461982727051,4.598061561584473,4.870256423950195,4.779006004333496,4.518104553222656,4.176230430603027,4.685328006744385,4.189117908477783,3.9984476566314697,4.655765056610107,4.27138090133667,4.27658748626709,4.949641227722168,4.3635735511779785,4.746590614318848,4.667745113372803,4.463232040405273,4.333992004394531,4.32064962387085,4.584875583648682,4.5603928565979,4.494264125823975,4.596970558166504,4.107713222503662,4.397393703460693,4.612538814544678,4.708262920379639,4.6213603019714355,4.787940979003906,4.348260402679443,4.490118026733398,4.520631313323975],\"y\":[14.686173439025879,15.402889251708984,13.269185066223145,15.662278175354004,14.010089874267578,14.736416816711426,14.82376480102539,14.358137130737305,14.55380630493164,14.365209579467773,14.33833122253418,14.232815742492676,14.343631744384766,14.305798530578613,14.348265647888184,15.292088508605957,14.870810508728027,15.524561882019043,15.21478271484375,14.501678466796875,15.470586776733398,14.510117530822754,15.150240898132324,14.294965744018555,14.79092788696289,14.315868377685547,14.206084251403809,14.639331817626953,14.544944763183594,14.484855651855469,14.472097396850586,14.25412654876709,14.211642265319824,14.465126991271973,15.34445571899414,14.58586597442627,14.455023765563965,15.605088233947754,14.473062515258789,13.267793655395508,14.72303581237793,14.62849235534668,14.612724304199219],\"type\":\"scattergl\"},{\"hoverinfo\":\"text\",\"hovertext\":[\"idea guy god work love see clip float around\",\"know many people receive permanent ban social medium account express concern drag\",\"anyway would never stop repeat place woman tiktok quite simply\",\"post need many many million view share many people\",\"new normal watchword great reset\",\"create beast finally bring\",\"covid warn yr old survivor call resistance recur fascism tend hold onto rather magical amp\",\"anyone think create video channel want deal tube censorship bit chute shitty\",\"post need many many million view share many people\",\"mdrrrr see pair look like clutch pedal\",\"neat idea fiction novel anyone interested write bunch retire sof operator use\",\"twitter purge account every single day add follower year instead lose follow\",\"see yet another major purge go today linktree find place\",\"amaze article people write two year ago show ten thousand follower\",\"recent psych science paper use national iq predict stuff ran simple probability calculation measur\",\"bought paid\",\"book write\",\"heal unity creature\",\"amazon dictate ebooks online book sale audiobooks sale head thi\",\"lose follower twitter seem like tolerant free speech love place\",\"good news would prefer rehabilitation center\",\"daniel year old athletic intensive care bfm tv manipulation\",\"go leclerc reimburse x psk difference found penny product cheaper htt\",\"great many level\",\"great reset spring cleaning episode free extract\",\"start reimburse ruin fn\",\"shakespeare sex arcuri johnson read shakespeare sex sofa london mayo\",\"watch first part minute great reset great reset spring cleaning great r\",\"warn left wing fight morph pandemic lockdown climate lockdown climate lockdown private vehicle use b\",\"disability heval\",\"video deserves every thumb get\",\"think twitter allow certain conservative account maintain follower erase account like min\",\"might audio version concept odysee channel find someone want put together vid\",\"twitter thousand retweets twitter dozen retweets twitter new follower daily twitter followe\",\"actually interviewed tube channel couple year ago gotten thousand view\",\"every day come onto twitter lose another hundred follower add follower two year\",\"plz support student amp part campaign\",\"friend india website story rinku sharma block twitter however continue\",\"people bailing tube switch lbry odysee\",\"know many purge account able survive account survive night\",\"delete first one get ratio ed hard uploaded new one allow\",\"great reset big cleaning episode great reset health\",null],\"marker\":{\"opacity\":0.5,\"size\":5},\"mode\":\"markers+text\",\"name\":\"4_twitter_follower_many\",\"text\":[\"\",\"\",\"\",\"\",\"\",\"\",\"\",\"\",\"\",\"\",\"\",\"\",\"\",\"\",\"\",\"\",\"\",\"\",\"\",\"\",\"\",\"\",\"\",\"\",\"\",\"\",\"\",\"\",\"\",\"\",\"\",\"\",\"\",\"\",\"\",\"\",\"\",\"\",\"\",\"\",\"\",\"\",\"4_twitter_follower_many\"],\"textfont\":{\"size\":12},\"x\":[5.301530361175537,4.737244129180908,4.9010186195373535,5.0221967697143555,4.364805221557617,4.677479267120361,4.6233391761779785,5.291391849517822,5.052712440490723,4.973194599151611,5.255105018615723,4.763290882110596,4.438996315002441,4.964225769042969,5.079676628112793,4.874410152435303,5.344639778137207,4.591616153717041,5.359479904174805,4.791145324707031,4.6995930671691895,4.779514789581299,4.517464637756348,5.076779842376709,4.3455119132995605,4.505522727966309,5.465143203735352,4.390583515167236,4.788928508758545,4.716890335083008,5.090570449829102,4.752011775970459,5.309706687927246,4.856231212615967,5.151316165924072,4.809178352355957,4.867758274078369,4.781055450439453,4.992305278778076,4.655889987945557,4.971525192260742,4.388827800750732,4.864757537841797],\"y\":[12.455214500427246,12.070394515991211,12.067907333374023,12.302847862243652,12.749794006347656,13.501922607421875,13.561060905456543,12.508049011230469,12.336522102355957,13.451347351074219,12.056198120117188,12.054495811462402,12.469783782958984,12.251531600952148,12.372883796691895,12.503806114196777,11.904977798461914,13.158056259155273,11.920092582702637,12.030534744262695,13.084024429321289,12.992132186889648,12.71466064453125,12.729293823242188,12.694901466369629,12.756124496459961,11.720532417297363,12.722005844116211,13.676274299621582,13.134464263916016,12.381954193115234,12.050994873046875,12.445666313171387,12.10209846496582,12.470535278320312,12.066078186035156,13.675736427307129,12.04796314239502,13.51244068145752,12.138285636901855,12.378838539123535,12.744651794433594,12.570643424987793],\"type\":\"scattergl\"},{\"hoverinfo\":\"text\",\"hovertext\":[\"myth semitic armenoid story\",\"say denounce anti semitism jew say video link\",\"semite member people speak spoke semitic language include particular jew\",\"old south wealthy white allied jewish merchant pamper color slave class mass poor white\",\"people draw comparison jeffrey epstein lincoln project\",\"remember allow even much question woman story story holocaust told\",\"white people say jew white consider anti semitism jew say\",\"try say jew one lead impeachment\",\"new swedish school report jew malm enemy arab student craze hitler today\",\"social zionism wreak havoc suburb national zionism reap benefit\",\"get align hebrew mythology story\",\"take name main parasitic beneficiary anti semitism journalistic investigation\",\"well jew allow hate white people white people allow hate jew\",\"identity generation techouva anti semitism anti zionism place u\",\"ric dupond moretti act submit zionist lobby via\",\"lol say republican today like jewish holocaust apparently\",\"community say black jew operate together coordinate effort dismiss bigotry r\",\"harassment violence impersonation zionism ulcan trial via\",\"hebrew mythology make race slave benefit\",\"hell holocaust denial illegal place mean illegal simply say something like loo\",\"try say jew stock market beating game anti semitism\",\"law anti white law anti jewish white people really wer\",\"daily reminder jew perfect people never commit crime certainly war crime\",\"average people need start ask okay jew anti white okay white\",\"collect coin like jew anti semitic humor slippage elect official sarcelles see\",\"try say jew one lead impeachment\",\"abrahamic summit jew pope interfaith meeting iraq\",\"amaze often jew involve significant world event\",\"literally every single time hear someone spray paint swastika synagogue end hoax lit\",\"whenever biden speaks know semitic armenoid handler speak instead\",\"white people say jew white consider anti semitism jew say\",null],\"marker\":{\"opacity\":0.5,\"size\":5},\"mode\":\"markers+text\",\"name\":\"5_jew_anti_say\",\"text\":[\"\",\"\",\"\",\"\",\"\",\"\",\"\",\"\",\"\",\"\",\"\",\"\",\"\",\"\",\"\",\"\",\"\",\"\",\"\",\"\",\"\",\"\",\"\",\"\",\"\",\"\",\"\",\"\",\"\",\"\",\"\",\"5_jew_anti_say\"],\"textfont\":{\"size\":12},\"x\":[6.714459419250488,6.813425540924072,7.024406909942627,7.226667881011963,6.317381858825684,6.419521331787109,7.025445461273193,6.619974613189697,6.253992557525635,5.818346977233887,6.694376468658447,5.817281723022461,7.065203666687012,5.842934608459473,5.761631965637207,6.931621074676514,7.145088195800781,5.733783721923828,6.824099063873291,7.035171031951904,6.672670841217041,7.06325626373291,6.879406452178955,7.044921398162842,6.620701313018799,6.597244739532471,6.600954055786133,6.699821949005127,6.846060752868652,6.5687456130981445,7.052390098571777,6.636483192443848],\"y\":[16.575353622436523,16.92869758605957,16.83220863342285,16.463836669921875,16.585330963134766,16.43879508972168,16.86428451538086,16.97919464111328,16.415935516357422,16.409221649169922,16.5479679107666,16.388818740844727,16.849143981933594,16.36411476135254,16.41910171508789,16.876672744750977,16.7252140045166,16.35973358154297,16.575746536254883,16.772640228271484,16.855684280395508,16.805828094482422,16.818408966064453,16.85688591003418,16.924686431884766,16.961782455444336,16.944717407226562,16.813106536865234,16.90032958984375,16.942110061645508,16.830461502075195,16.71051788330078],\"type\":\"scattergl\"},{\"hoverinfo\":\"text\",\"hovertext\":[\"play wolter kroes viva hollandia\",\"play f aschtb nkler partyplanet\",\"play nicole wonderful\",\"ptdrrrr nintendo schwitz\",\"play semino rossi alone tonight\",\"play fantasy casanova\",\"play hansi hinterseer god life earth\",\"play bobby day rockin robin\",\"play lisa del bo pearl like\",\"get ro pfp would sit one bestie\",\"play various artist fanfare hunger thirst\",\"play hut jordan jay idetto mood\",\"play django wagner de muzikant\",\"play snollebollekes springen nondeju nd bass remix\",\"play jayh nice day\",\"bose dk sit naked\",\"play luc steeno played accordion\",\"play richard anthony j entends siffler le train version remastered\",\"play anja speak silver silent gold\",\"play bob benny love anyway\",\"play sugarfree fantasy\",\"anyone else clubhouse join wonder u\",null],\"marker\":{\"opacity\":0.5,\"size\":5},\"mode\":\"markers+text\",\"name\":\"6_play_sit_fantasy\",\"text\":[\"\",\"\",\"\",\"\",\"\",\"\",\"\",\"\",\"\",\"\",\"\",\"\",\"\",\"\",\"\",\"\",\"\",\"\",\"\",\"\",\"\",\"\",\"6_play_sit_fantasy\"],\"textfont\":{\"size\":12},\"x\":[5.896575927734375,5.792420864105225,5.956185340881348,5.823507308959961,5.926904678344727,5.923158645629883,5.916134357452393,5.905435562133789,5.924846172332764,6.018721103668213,5.868718147277832,5.929458141326904,5.889878273010254,5.847309112548828,5.994503498077393,5.852011203765869,5.88445520401001,5.920248508453369,5.941754341125488,5.924916744232178,5.920172214508057,5.6946234703063965,5.897816181182861],\"y\":[11.1013822555542,11.176793098449707,11.161116600036621,11.117280960083008,11.322676658630371,11.143949508666992,11.057467460632324,11.123127937316895,11.121180534362793,11.460833549499512,11.077263832092285,11.087579727172852,11.029007911682129,11.131982803344727,11.140487670898438,11.181819915771484,11.096016883850098,11.06000804901123,11.077290534973145,11.122381210327148,11.149983406066895,11.403642654418945,11.15196704864502],\"type\":\"scattergl\"},{\"hoverinfo\":\"text\",\"hovertext\":[\"didier raoult must stop war press release say go die\",\"panic kitchen rebel restaurateur deprive aid bruno le maire via\",\"piece bravery alain soral ntm alain soral fr jus\",\"celebration napoleon bicentenary disturb laughter minister woman elisabeth moreno\",\"panic kitchen rebel restaurateur deprive aid bruno le maire\",\"peugeot affair documentary available vo kontre kulture\",\"meryeminelindentut\",\"see episode\",\"afghanistan saudi arabia dream afternoon b ziers lidl supermarket avenue de badones\",\"soral answer episode alexandre langlois\",\"dr louis fouch hold bonus\",\"race alain soral fr jus may\",\"france freak theory small bubble heat pan water first surface\",\"soral answer episode alain soral family program st phane douard\",\"soral answer erfm twenty fourth batch\",\"piece bravery alain soral russie toulon\",\"alain soral answer pierre de brague question understand era compensation complacency\",\"alain soral transition formal logic concrete logic\",\"franco albrecht neo nazi terrorist disguise syrian migrant victor young repentant lfi return v\",\"marcel obama lukashenko karine lacombe fourtillan student\",\"philippe de maistre courageous priest people respect health dictatorship\",\"quite simply interest le\",null],\"marker\":{\"opacity\":0.5,\"size\":5},\"mode\":\"markers+text\",\"name\":\"7_soral_alain_answer\",\"text\":[\"\",\"\",\"\",\"\",\"\",\"\",\"\",\"\",\"\",\"\",\"\",\"\",\"\",\"\",\"\",\"\",\"\",\"\",\"\",\"\",\"\",\"\",\"7_soral_alain_answer\"],\"textfont\":{\"size\":12},\"x\":[3.731132984161377,3.589447498321533,3.699983596801758,3.6473567485809326,3.600261926651001,3.7599287033081055,2.910900592803955,4.074394226074219,2.8995909690856934,3.806562900543213,4.091398239135742,3.7451844215393066,3.649693727493286,3.790461540222168,3.96863055229187,3.699057102203369,3.9059722423553467,3.854142904281616,3.628638982772827,3.5473215579986572,3.616934061050415,4.06378698348999,3.6945815086364746],\"y\":[12.633450508117676,12.416979789733887,12.358799934387207,12.436083793640137,12.35472583770752,12.312227249145508,15.580254554748535,12.399813652038574,15.857586860656738,12.308188438415527,12.766228675842285,12.316522598266602,12.404374122619629,12.331615447998047,12.489409446716309,12.346924781799316,12.447463989257812,12.326926231384277,15.227339744567871,12.628718376159668,12.427398681640625,12.626554489135742,12.863526344299316],\"type\":\"scattergl\"}],                        {\"template\":{\"data\":{\"barpolar\":[{\"marker\":{\"line\":{\"color\":\"white\",\"width\":0.5},\"pattern\":{\"fillmode\":\"overlay\",\"size\":10,\"solidity\":0.2}},\"type\":\"barpolar\"}],\"bar\":[{\"error_x\":{\"color\":\"rgb(36,36,36)\"},\"error_y\":{\"color\":\"rgb(36,36,36)\"},\"marker\":{\"line\":{\"color\":\"white\",\"width\":0.5},\"pattern\":{\"fillmode\":\"overlay\",\"size\":10,\"solidity\":0.2}},\"type\":\"bar\"}],\"carpet\":[{\"aaxis\":{\"endlinecolor\":\"rgb(36,36,36)\",\"gridcolor\":\"white\",\"linecolor\":\"white\",\"minorgridcolor\":\"white\",\"startlinecolor\":\"rgb(36,36,36)\"},\"baxis\":{\"endlinecolor\":\"rgb(36,36,36)\",\"gridcolor\":\"white\",\"linecolor\":\"white\",\"minorgridcolor\":\"white\",\"startlinecolor\":\"rgb(36,36,36)\"},\"type\":\"carpet\"}],\"choropleth\":[{\"colorbar\":{\"outlinewidth\":1,\"tickcolor\":\"rgb(36,36,36)\",\"ticks\":\"outside\"},\"type\":\"choropleth\"}],\"contourcarpet\":[{\"colorbar\":{\"outlinewidth\":1,\"tickcolor\":\"rgb(36,36,36)\",\"ticks\":\"outside\"},\"type\":\"contourcarpet\"}],\"contour\":[{\"colorbar\":{\"outlinewidth\":1,\"tickcolor\":\"rgb(36,36,36)\",\"ticks\":\"outside\"},\"colorscale\":[[0.0,\"#440154\"],[0.1111111111111111,\"#482878\"],[0.2222222222222222,\"#3e4989\"],[0.3333333333333333,\"#31688e\"],[0.4444444444444444,\"#26828e\"],[0.5555555555555556,\"#1f9e89\"],[0.6666666666666666,\"#35b779\"],[0.7777777777777778,\"#6ece58\"],[0.8888888888888888,\"#b5de2b\"],[1.0,\"#fde725\"]],\"type\":\"contour\"}],\"heatmapgl\":[{\"colorbar\":{\"outlinewidth\":1,\"tickcolor\":\"rgb(36,36,36)\",\"ticks\":\"outside\"},\"colorscale\":[[0.0,\"#440154\"],[0.1111111111111111,\"#482878\"],[0.2222222222222222,\"#3e4989\"],[0.3333333333333333,\"#31688e\"],[0.4444444444444444,\"#26828e\"],[0.5555555555555556,\"#1f9e89\"],[0.6666666666666666,\"#35b779\"],[0.7777777777777778,\"#6ece58\"],[0.8888888888888888,\"#b5de2b\"],[1.0,\"#fde725\"]],\"type\":\"heatmapgl\"}],\"heatmap\":[{\"colorbar\":{\"outlinewidth\":1,\"tickcolor\":\"rgb(36,36,36)\",\"ticks\":\"outside\"},\"colorscale\":[[0.0,\"#440154\"],[0.1111111111111111,\"#482878\"],[0.2222222222222222,\"#3e4989\"],[0.3333333333333333,\"#31688e\"],[0.4444444444444444,\"#26828e\"],[0.5555555555555556,\"#1f9e89\"],[0.6666666666666666,\"#35b779\"],[0.7777777777777778,\"#6ece58\"],[0.8888888888888888,\"#b5de2b\"],[1.0,\"#fde725\"]],\"type\":\"heatmap\"}],\"histogram2dcontour\":[{\"colorbar\":{\"outlinewidth\":1,\"tickcolor\":\"rgb(36,36,36)\",\"ticks\":\"outside\"},\"colorscale\":[[0.0,\"#440154\"],[0.1111111111111111,\"#482878\"],[0.2222222222222222,\"#3e4989\"],[0.3333333333333333,\"#31688e\"],[0.4444444444444444,\"#26828e\"],[0.5555555555555556,\"#1f9e89\"],[0.6666666666666666,\"#35b779\"],[0.7777777777777778,\"#6ece58\"],[0.8888888888888888,\"#b5de2b\"],[1.0,\"#fde725\"]],\"type\":\"histogram2dcontour\"}],\"histogram2d\":[{\"colorbar\":{\"outlinewidth\":1,\"tickcolor\":\"rgb(36,36,36)\",\"ticks\":\"outside\"},\"colorscale\":[[0.0,\"#440154\"],[0.1111111111111111,\"#482878\"],[0.2222222222222222,\"#3e4989\"],[0.3333333333333333,\"#31688e\"],[0.4444444444444444,\"#26828e\"],[0.5555555555555556,\"#1f9e89\"],[0.6666666666666666,\"#35b779\"],[0.7777777777777778,\"#6ece58\"],[0.8888888888888888,\"#b5de2b\"],[1.0,\"#fde725\"]],\"type\":\"histogram2d\"}],\"histogram\":[{\"marker\":{\"line\":{\"color\":\"white\",\"width\":0.6}},\"type\":\"histogram\"}],\"mesh3d\":[{\"colorbar\":{\"outlinewidth\":1,\"tickcolor\":\"rgb(36,36,36)\",\"ticks\":\"outside\"},\"type\":\"mesh3d\"}],\"parcoords\":[{\"line\":{\"colorbar\":{\"outlinewidth\":1,\"tickcolor\":\"rgb(36,36,36)\",\"ticks\":\"outside\"}},\"type\":\"parcoords\"}],\"pie\":[{\"automargin\":true,\"type\":\"pie\"}],\"scatter3d\":[{\"line\":{\"colorbar\":{\"outlinewidth\":1,\"tickcolor\":\"rgb(36,36,36)\",\"ticks\":\"outside\"}},\"marker\":{\"colorbar\":{\"outlinewidth\":1,\"tickcolor\":\"rgb(36,36,36)\",\"ticks\":\"outside\"}},\"type\":\"scatter3d\"}],\"scattercarpet\":[{\"marker\":{\"colorbar\":{\"outlinewidth\":1,\"tickcolor\":\"rgb(36,36,36)\",\"ticks\":\"outside\"}},\"type\":\"scattercarpet\"}],\"scattergeo\":[{\"marker\":{\"colorbar\":{\"outlinewidth\":1,\"tickcolor\":\"rgb(36,36,36)\",\"ticks\":\"outside\"}},\"type\":\"scattergeo\"}],\"scattergl\":[{\"marker\":{\"colorbar\":{\"outlinewidth\":1,\"tickcolor\":\"rgb(36,36,36)\",\"ticks\":\"outside\"}},\"type\":\"scattergl\"}],\"scattermapbox\":[{\"marker\":{\"colorbar\":{\"outlinewidth\":1,\"tickcolor\":\"rgb(36,36,36)\",\"ticks\":\"outside\"}},\"type\":\"scattermapbox\"}],\"scatterpolargl\":[{\"marker\":{\"colorbar\":{\"outlinewidth\":1,\"tickcolor\":\"rgb(36,36,36)\",\"ticks\":\"outside\"}},\"type\":\"scatterpolargl\"}],\"scatterpolar\":[{\"marker\":{\"colorbar\":{\"outlinewidth\":1,\"tickcolor\":\"rgb(36,36,36)\",\"ticks\":\"outside\"}},\"type\":\"scatterpolar\"}],\"scatter\":[{\"fillpattern\":{\"fillmode\":\"overlay\",\"size\":10,\"solidity\":0.2},\"type\":\"scatter\"}],\"scatterternary\":[{\"marker\":{\"colorbar\":{\"outlinewidth\":1,\"tickcolor\":\"rgb(36,36,36)\",\"ticks\":\"outside\"}},\"type\":\"scatterternary\"}],\"surface\":[{\"colorbar\":{\"outlinewidth\":1,\"tickcolor\":\"rgb(36,36,36)\",\"ticks\":\"outside\"},\"colorscale\":[[0.0,\"#440154\"],[0.1111111111111111,\"#482878\"],[0.2222222222222222,\"#3e4989\"],[0.3333333333333333,\"#31688e\"],[0.4444444444444444,\"#26828e\"],[0.5555555555555556,\"#1f9e89\"],[0.6666666666666666,\"#35b779\"],[0.7777777777777778,\"#6ece58\"],[0.8888888888888888,\"#b5de2b\"],[1.0,\"#fde725\"]],\"type\":\"surface\"}],\"table\":[{\"cells\":{\"fill\":{\"color\":\"rgb(237,237,237)\"},\"line\":{\"color\":\"white\"}},\"header\":{\"fill\":{\"color\":\"rgb(217,217,217)\"},\"line\":{\"color\":\"white\"}},\"type\":\"table\"}]},\"layout\":{\"annotationdefaults\":{\"arrowhead\":0,\"arrowwidth\":1},\"autotypenumbers\":\"strict\",\"coloraxis\":{\"colorbar\":{\"outlinewidth\":1,\"tickcolor\":\"rgb(36,36,36)\",\"ticks\":\"outside\"}},\"colorscale\":{\"diverging\":[[0.0,\"rgb(103,0,31)\"],[0.1,\"rgb(178,24,43)\"],[0.2,\"rgb(214,96,77)\"],[0.3,\"rgb(244,165,130)\"],[0.4,\"rgb(253,219,199)\"],[0.5,\"rgb(247,247,247)\"],[0.6,\"rgb(209,229,240)\"],[0.7,\"rgb(146,197,222)\"],[0.8,\"rgb(67,147,195)\"],[0.9,\"rgb(33,102,172)\"],[1.0,\"rgb(5,48,97)\"]],\"sequential\":[[0.0,\"#440154\"],[0.1111111111111111,\"#482878\"],[0.2222222222222222,\"#3e4989\"],[0.3333333333333333,\"#31688e\"],[0.4444444444444444,\"#26828e\"],[0.5555555555555556,\"#1f9e89\"],[0.6666666666666666,\"#35b779\"],[0.7777777777777778,\"#6ece58\"],[0.8888888888888888,\"#b5de2b\"],[1.0,\"#fde725\"]],\"sequentialminus\":[[0.0,\"#440154\"],[0.1111111111111111,\"#482878\"],[0.2222222222222222,\"#3e4989\"],[0.3333333333333333,\"#31688e\"],[0.4444444444444444,\"#26828e\"],[0.5555555555555556,\"#1f9e89\"],[0.6666666666666666,\"#35b779\"],[0.7777777777777778,\"#6ece58\"],[0.8888888888888888,\"#b5de2b\"],[1.0,\"#fde725\"]]},\"colorway\":[\"#1F77B4\",\"#FF7F0E\",\"#2CA02C\",\"#D62728\",\"#9467BD\",\"#8C564B\",\"#E377C2\",\"#7F7F7F\",\"#BCBD22\",\"#17BECF\"],\"font\":{\"color\":\"rgb(36,36,36)\"},\"geo\":{\"bgcolor\":\"white\",\"lakecolor\":\"white\",\"landcolor\":\"white\",\"showlakes\":true,\"showland\":true,\"subunitcolor\":\"white\"},\"hoverlabel\":{\"align\":\"left\"},\"hovermode\":\"closest\",\"mapbox\":{\"style\":\"light\"},\"paper_bgcolor\":\"white\",\"plot_bgcolor\":\"white\",\"polar\":{\"angularaxis\":{\"gridcolor\":\"rgb(232,232,232)\",\"linecolor\":\"rgb(36,36,36)\",\"showgrid\":false,\"showline\":true,\"ticks\":\"outside\"},\"bgcolor\":\"white\",\"radialaxis\":{\"gridcolor\":\"rgb(232,232,232)\",\"linecolor\":\"rgb(36,36,36)\",\"showgrid\":false,\"showline\":true,\"ticks\":\"outside\"}},\"scene\":{\"xaxis\":{\"backgroundcolor\":\"white\",\"gridcolor\":\"rgb(232,232,232)\",\"gridwidth\":2,\"linecolor\":\"rgb(36,36,36)\",\"showbackground\":true,\"showgrid\":false,\"showline\":true,\"ticks\":\"outside\",\"zeroline\":false,\"zerolinecolor\":\"rgb(36,36,36)\"},\"yaxis\":{\"backgroundcolor\":\"white\",\"gridcolor\":\"rgb(232,232,232)\",\"gridwidth\":2,\"linecolor\":\"rgb(36,36,36)\",\"showbackground\":true,\"showgrid\":false,\"showline\":true,\"ticks\":\"outside\",\"zeroline\":false,\"zerolinecolor\":\"rgb(36,36,36)\"},\"zaxis\":{\"backgroundcolor\":\"white\",\"gridcolor\":\"rgb(232,232,232)\",\"gridwidth\":2,\"linecolor\":\"rgb(36,36,36)\",\"showbackground\":true,\"showgrid\":false,\"showline\":true,\"ticks\":\"outside\",\"zeroline\":false,\"zerolinecolor\":\"rgb(36,36,36)\"}},\"shapedefaults\":{\"fillcolor\":\"black\",\"line\":{\"width\":0},\"opacity\":0.3},\"ternary\":{\"aaxis\":{\"gridcolor\":\"rgb(232,232,232)\",\"linecolor\":\"rgb(36,36,36)\",\"showgrid\":false,\"showline\":true,\"ticks\":\"outside\"},\"baxis\":{\"gridcolor\":\"rgb(232,232,232)\",\"linecolor\":\"rgb(36,36,36)\",\"showgrid\":false,\"showline\":true,\"ticks\":\"outside\"},\"bgcolor\":\"white\",\"caxis\":{\"gridcolor\":\"rgb(232,232,232)\",\"linecolor\":\"rgb(36,36,36)\",\"showgrid\":false,\"showline\":true,\"ticks\":\"outside\"}},\"title\":{\"x\":0.05},\"xaxis\":{\"automargin\":true,\"gridcolor\":\"rgb(232,232,232)\",\"linecolor\":\"rgb(36,36,36)\",\"showgrid\":false,\"showline\":true,\"ticks\":\"outside\",\"title\":{\"standoff\":15},\"zeroline\":false,\"zerolinecolor\":\"rgb(36,36,36)\"},\"yaxis\":{\"automargin\":true,\"gridcolor\":\"rgb(232,232,232)\",\"linecolor\":\"rgb(36,36,36)\",\"showgrid\":false,\"showline\":true,\"ticks\":\"outside\",\"title\":{\"standoff\":15},\"zeroline\":false,\"zerolinecolor\":\"rgb(36,36,36)\"}}},\"shapes\":[{\"line\":{\"color\":\"#CFD8DC\",\"width\":2},\"type\":\"line\",\"x0\":5.913186931610108,\"x1\":5.913186931610108,\"y0\":9.37465672492981,\"y1\":19.54660234451294},{\"line\":{\"color\":\"#9E9E9E\",\"width\":2},\"type\":\"line\",\"x0\":1.3561968803405762,\"x1\":10.47017698287964,\"y0\":14.460629534721376,\"y1\":14.460629534721376}],\"annotations\":[{\"showarrow\":false,\"text\":\"D1\",\"x\":1.3561968803405762,\"y\":14.460629534721376,\"yshift\":10},{\"showarrow\":false,\"text\":\"D2\",\"x\":5.913186931610108,\"xshift\":10,\"y\":19.54660234451294}],\"title\":{\"font\":{\"size\":22,\"color\":\"Black\"},\"text\":\"<b>Documents and Topics\",\"x\":0.5,\"xanchor\":\"center\",\"yanchor\":\"top\"},\"width\":1200,\"height\":750,\"xaxis\":{\"visible\":false},\"yaxis\":{\"visible\":false}},                        {\"responsive\": true}                    ).then(function(){\n",
       "                            \n",
       "var gd = document.getElementById('e2050da7-cb20-4add-9623-f13da3b06c19');\n",
       "var x = new MutationObserver(function (mutations, observer) {{\n",
       "        var display = window.getComputedStyle(gd).display;\n",
       "        if (!display || display === 'none') {{\n",
       "            console.log([gd, 'removed!']);\n",
       "            Plotly.purge(gd);\n",
       "            observer.disconnect();\n",
       "        }}\n",
       "}});\n",
       "\n",
       "// Listen for the removal of the full notebook cells\n",
       "var notebookContainer = gd.closest('#notebook-container');\n",
       "if (notebookContainer) {{\n",
       "    x.observe(notebookContainer, {childList: true});\n",
       "}}\n",
       "\n",
       "// Listen for the clearing of the current output cell\n",
       "var outputEl = gd.closest('.output');\n",
       "if (outputEl) {{\n",
       "    x.observe(outputEl, {childList: true});\n",
       "}}\n",
       "\n",
       "                        })                };                });            </script>        </div>"
      ]
     },
     "metadata": {},
     "output_type": "display_data"
    }
   ],
   "source": [
    "model.visualize_documents(tweets)"
   ]
  },
  {
   "cell_type": "code",
   "execution_count": null,
   "id": "67ba1d47",
   "metadata": {},
   "outputs": [],
   "source": [
    "save_model(model.get_topics(), params, \"12 topics, 225 unmatchde, not bad with trump appeering twice but for different topics\")"
   ]
  },
  {
   "cell_type": "code",
   "execution_count": null,
   "id": "6f632a71",
   "metadata": {},
   "outputs": [],
   "source": [
    "write_good_params()"
   ]
  },
  {
   "cell_type": "markdown",
   "id": "08e63d29",
   "metadata": {},
   "source": [
    "### Topics \n",
    "We can give categories we used for labelling to these clusters\n",
    "1. 'white/black - racism'\n",
    "1. 'immigration', 'islam'\n",
    "1. 'american elections', 'farright'\n",
    "1. 'India - Pakistan'\n",
    "1. 'tweeter acccounts'\n",
    "1. 'jew - antisemtism'\n",
    "1. 'fantasy sex play'\n",
    "1. 'Alain Soral'\n",
    "1. 'coronavirus - vaccination'\n",
    "1. 'communism - against bankers, against state order', 'farright\n",
    "\n",
    "categories = \n",
    "\n",
    "Don't have :\n",
    "['terrorism', 'homophobia', 'women', 'other', \"Don't know\"]"
   ]
  },
  {
   "cell_type": "code",
   "execution_count": 154,
   "id": "77960ff3",
   "metadata": {},
   "outputs": [],
   "source": [
    "my_topics = [['white/black - racism'],\n",
    "    ['immigration', 'islam'],\n",
    "    ['american elections', 'farright'],\n",
    "    ['India - Pakistan'],\n",
    "    ['tweeter acccounts'],\n",
    "    ['jew - antisemtism'],\n",
    "    ['fantasy sex play'],\n",
    "    ['Alain Soral', 'farright'],\n",
    "    ['coronavirus - vaccination'],\n",
    "    ['communism - against bankers, against state order', 'farright'],\n",
    "    ['terrorism', 'homophobia', 'women', 'other', \"Don't know\"]]"
   ]
  },
  {
   "cell_type": "code",
   "execution_count": 155,
   "id": "fa7a17c9",
   "metadata": {},
   "outputs": [],
   "source": [
    "df_labeled = get_labeled_tweets(country = 'France')\n",
    "labeled_tweets = df_labeled.join(df.loc[df_labeled.index][['topics','clean']])\n",
    "labeled_tweets['topics'] = labeled_tweets['topics'].apply(lambda x: my_topics[x])"
   ]
  },
  {
   "cell_type": "code",
   "execution_count": 156,
   "id": "d8039438",
   "metadata": {},
   "outputs": [
    {
     "data": {
      "text/plain": [
       "0.576"
      ]
     },
     "execution_count": 156,
     "metadata": {},
     "output_type": "execute_result"
    }
   ],
   "source": [
    "get_score(labeled_tweets)"
   ]
  },
  {
   "cell_type": "code",
   "execution_count": null,
   "id": "44240a53",
   "metadata": {},
   "outputs": [],
   "source": []
  }
 ],
 "metadata": {
  "kernelspec": {
   "display_name": "Python 3 (ipykernel)",
   "language": "python",
   "name": "python3"
  },
  "language_info": {
   "codemirror_mode": {
    "name": "ipython",
    "version": 3
   },
   "file_extension": ".py",
   "mimetype": "text/x-python",
   "name": "python",
   "nbconvert_exporter": "python",
   "pygments_lexer": "ipython3",
   "version": "3.9.7"
  }
 },
 "nbformat": 4,
 "nbformat_minor": 5
}
