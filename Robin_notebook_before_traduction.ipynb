{
 "cells": [
  {
   "cell_type": "code",
   "execution_count": 24,
   "id": "03c46489",
   "metadata": {},
   "outputs": [],
   "source": [
    "import os\n",
    "import pandas as pd\n",
    "import json\n",
    "import re\n",
    "from deep_translator import GoogleTranslator\n",
    "import swifter"
   ]
  },
  {
   "cell_type": "code",
   "execution_count": 25,
   "id": "3f103148",
   "metadata": {},
   "outputs": [],
   "source": [
    "pd.options.display.max_colwidth = 500"
   ]
  },
  {
   "cell_type": "code",
   "execution_count": 26,
   "id": "67745d07",
   "metadata": {},
   "outputs": [],
   "source": [
    "dfs = []\n",
    "for r, d, f in os.walk(os.getcwd()):\n",
    "    for file in f:\n",
    "        if 'withheldtweets.json' in file:\n",
    "            dfs.append(pd.read_json(\"./censored_tweets/%s\" % file, lines=True))\n",
    "\n",
    "df_cen = pd.concat(dfs)\n",
    "df_cen = df_cen.dropna(subset=['withheld_in_countries'])"
   ]
  },
  {
   "cell_type": "code",
   "execution_count": 27,
   "id": "147776ee",
   "metadata": {},
   "outputs": [
    {
     "data": {
      "text/plain": [
       "Index(['created_at', 'id', 'id_str', 'text', 'source', 'truncated',\n",
       "       'in_reply_to_status_id', 'in_reply_to_status_id_str',\n",
       "       'in_reply_to_user_id', 'in_reply_to_user_id_str',\n",
       "       'in_reply_to_screen_name', 'user', 'geo', 'coordinates', 'place',\n",
       "       'contributors', 'quoted_status_id', 'quoted_status_id_str',\n",
       "       'quoted_status', 'quoted_status_permalink', 'is_quote_status',\n",
       "       'extended_tweet', 'quote_count', 'reply_count', 'retweet_count',\n",
       "       'favorite_count', 'entities', 'favorited', 'retweeted', 'filter_level',\n",
       "       'lang', 'timestamp_ms', 'linked', 'display_text_range',\n",
       "       'withheld_in_countries', 'extended_entities', 'possibly_sensitive',\n",
       "       'retweeted_status', 'withheld_copyright'],\n",
       "      dtype='object')"
      ]
     },
     "execution_count": 27,
     "metadata": {},
     "output_type": "execute_result"
    }
   ],
   "source": [
    "df_cen.columns"
   ]
  },
  {
   "cell_type": "markdown",
   "id": "7b384cbc",
   "metadata": {},
   "source": [
    "### create dataset with traduction"
   ]
  },
  {
   "cell_type": "code",
   "execution_count": 28,
   "id": "8d871f7c",
   "metadata": {},
   "outputs": [],
   "source": [
    "df_cen.set_index('id', inplace=True)"
   ]
  },
  {
   "cell_type": "code",
   "execution_count": 29,
   "id": "764f07ff",
   "metadata": {},
   "outputs": [
    {
     "data": {
      "text/plain": [
       "(41727, 38)"
      ]
     },
     "execution_count": 29,
     "metadata": {},
     "output_type": "execute_result"
    }
   ],
   "source": [
    "df_cen.shape"
   ]
  },
  {
   "cell_type": "code",
   "execution_count": 30,
   "id": "ba8111bd",
   "metadata": {},
   "outputs": [],
   "source": [
    "df_without_duplicate = df_cen.drop_duplicates(\"text\")"
   ]
  },
  {
   "cell_type": "code",
   "execution_count": 31,
   "id": "4233c944",
   "metadata": {},
   "outputs": [
    {
     "data": {
      "text/plain": [
       "(23081, 38)"
      ]
     },
     "execution_count": 31,
     "metadata": {},
     "output_type": "execute_result"
    }
   ],
   "source": [
    "df_without_duplicate.shape"
   ]
  },
  {
   "cell_type": "code",
   "execution_count": 33,
   "id": "ce6a5a6f",
   "metadata": {},
   "outputs": [],
   "source": [
    "def remove_user_mentions(tweets):\n",
    "    return re.sub(r\"@\\w+\", \" \", tweets)\n",
    "\n",
    "def remove_numbers(tweets):\n",
    "\treturn re.sub(r\"\\d+([.,]\\d+)?\", \" \", tweets)\n",
    "\n",
    "def remove_URLs(tweets):   \n",
    "    return re.sub(r'http\\S+', '', tweets)\n",
    "\n",
    "def remove_RT(tweets):\n",
    "    return re.sub(\"RT  :\", \" \", tweets)\n",
    "\n",
    "def remove_n(tweets):\n",
    "    return tweets.replace(\"\\n\", \"\")"
   ]
  },
  {
   "cell_type": "code",
   "execution_count": 34,
   "id": "1056cdc3",
   "metadata": {},
   "outputs": [],
   "source": [
    "clean_tweets = df_without_duplicate[\"text\"].apply(lambda x: remove_user_mentions(x))"
   ]
  },
  {
   "cell_type": "code",
   "execution_count": 35,
   "id": "b1acfe80",
   "metadata": {},
   "outputs": [],
   "source": [
    "clean_tweets = clean_tweets.apply(lambda x: remove_n(x))\n",
    "clean_tweets = clean_tweets.apply(lambda x: remove_URLs(x))\n",
    "clean_tweets = clean_tweets.apply(lambda x: remove_numbers(x))\n",
    "clean_tweets = clean_tweets.apply(lambda x: remove_RT(x))"
   ]
  },
  {
   "cell_type": "code",
   "execution_count": 36,
   "id": "cc43dc37",
   "metadata": {},
   "outputs": [],
   "source": [
    "df_clean = df_without_duplicate.copy()"
   ]
  },
  {
   "cell_type": "code",
   "execution_count": 37,
   "id": "2b09104a",
   "metadata": {},
   "outputs": [],
   "source": [
    "df_clean['text'] = clean_tweets"
   ]
  },
  {
   "cell_type": "code",
   "execution_count": 39,
   "id": "ab176de7",
   "metadata": {},
   "outputs": [
    {
     "data": {
      "text/plain": [
       "(23081, 38)"
      ]
     },
     "execution_count": 39,
     "metadata": {},
     "output_type": "execute_result"
    }
   ],
   "source": [
    "df_clean.shape"
   ]
  },
  {
   "cell_type": "code",
   "execution_count": 40,
   "id": "72a0b612",
   "metadata": {},
   "outputs": [
    {
     "data": {
      "text/plain": [
       "(530, 38)"
      ]
     },
     "execution_count": 40,
     "metadata": {},
     "output_type": "execute_result"
    }
   ],
   "source": [
    "df_clean[clean_tweets.apply(lambda x: x.isspace())].shape"
   ]
  },
  {
   "cell_type": "code",
   "execution_count": 41,
   "id": "07fea393",
   "metadata": {
    "scrolled": false
   },
   "outputs": [
    {
     "data": {
      "text/html": [
       "<div>\n",
       "<style scoped>\n",
       "    .dataframe tbody tr th:only-of-type {\n",
       "        vertical-align: middle;\n",
       "    }\n",
       "\n",
       "    .dataframe tbody tr th {\n",
       "        vertical-align: top;\n",
       "    }\n",
       "\n",
       "    .dataframe thead th {\n",
       "        text-align: right;\n",
       "    }\n",
       "</style>\n",
       "<table border=\"1\" class=\"dataframe\">\n",
       "  <thead>\n",
       "    <tr style=\"text-align: right;\">\n",
       "      <th></th>\n",
       "      <th>created_at</th>\n",
       "      <th>id_str</th>\n",
       "      <th>text</th>\n",
       "      <th>source</th>\n",
       "      <th>truncated</th>\n",
       "      <th>in_reply_to_status_id</th>\n",
       "      <th>in_reply_to_status_id_str</th>\n",
       "      <th>in_reply_to_user_id</th>\n",
       "      <th>in_reply_to_user_id_str</th>\n",
       "      <th>in_reply_to_screen_name</th>\n",
       "      <th>...</th>\n",
       "      <th>filter_level</th>\n",
       "      <th>lang</th>\n",
       "      <th>timestamp_ms</th>\n",
       "      <th>linked</th>\n",
       "      <th>display_text_range</th>\n",
       "      <th>withheld_in_countries</th>\n",
       "      <th>extended_entities</th>\n",
       "      <th>possibly_sensitive</th>\n",
       "      <th>retweeted_status</th>\n",
       "      <th>withheld_copyright</th>\n",
       "    </tr>\n",
       "    <tr>\n",
       "      <th>id</th>\n",
       "      <th></th>\n",
       "      <th></th>\n",
       "      <th></th>\n",
       "      <th></th>\n",
       "      <th></th>\n",
       "      <th></th>\n",
       "      <th></th>\n",
       "      <th></th>\n",
       "      <th></th>\n",
       "      <th></th>\n",
       "      <th></th>\n",
       "      <th></th>\n",
       "      <th></th>\n",
       "      <th></th>\n",
       "      <th></th>\n",
       "      <th></th>\n",
       "      <th></th>\n",
       "      <th></th>\n",
       "      <th></th>\n",
       "      <th></th>\n",
       "      <th></th>\n",
       "    </tr>\n",
       "  </thead>\n",
       "  <tbody>\n",
       "    <tr>\n",
       "      <th>1365252415444946945</th>\n",
       "      <td>2021-02-26 10:48:35+00:00</td>\n",
       "      <td>1365252415444946944</td>\n",
       "      <td>#Balakot Pak Army is our pride ❤️👍</td>\n",
       "      <td>&lt;a href=\"http://twitter.com/download/android\" rel=\"nofollow\"&gt;Twitter for Android&lt;/a&gt;</td>\n",
       "      <td>False</td>\n",
       "      <td>NaN</td>\n",
       "      <td>NaN</td>\n",
       "      <td>NaN</td>\n",
       "      <td>NaN</td>\n",
       "      <td>None</td>\n",
       "      <td>...</td>\n",
       "      <td>low</td>\n",
       "      <td>en</td>\n",
       "      <td>2021-02-26 10:48:35.662</td>\n",
       "      <td>no</td>\n",
       "      <td>[0, 35]</td>\n",
       "      <td>[IN]</td>\n",
       "      <td>{'media': [{'id': 1365252409015033857, 'id_str': '1365252409015033857', 'indices': [36, 59], 'media_url': 'http://pbs.twimg.com/media/EvJZ1SQWYAEW5qu.jpg', 'media_url_https': 'https://pbs.twimg.com/media/EvJZ1SQWYAEW5qu.jpg', 'url': 'https://t.co/JirGPSMMGO', 'display_url': 'pic.twitter.com/JirGPSMMGO', 'expanded_url': 'https://twitter.com/hafizmirzaki/status/1365252415444946945/photo/1', 'type': 'photo', 'sizes': {'thumb': {'w': 150, 'h': 150, 'resize': 'crop'}, 'small': {'w': 680, 'h': 636...</td>\n",
       "      <td>0.0</td>\n",
       "      <td>NaN</td>\n",
       "      <td>NaN</td>\n",
       "    </tr>\n",
       "    <tr>\n",
       "      <th>1365251727574900738</th>\n",
       "      <td>2021-02-26 10:45:51+00:00</td>\n",
       "      <td>1365251727574900736</td>\n",
       "      <td>لوگوں کی اکثریت ہدایت نہیں لینا چاہ رہی۔ ہمارے فیس بک پیج پر   لاکھ ممبر ہیں۔ ہمارے ٹویٹر پیج پر سوا تین لاکھ۔۔اس کے…</td>\n",
       "      <td>&lt;a href=\"http://twitter.com/download/android\" rel=\"nofollow\"&gt;Twitter for Android&lt;/a&gt;</td>\n",
       "      <td>False</td>\n",
       "      <td>NaN</td>\n",
       "      <td>NaN</td>\n",
       "      <td>NaN</td>\n",
       "      <td>NaN</td>\n",
       "      <td>None</td>\n",
       "      <td>...</td>\n",
       "      <td>low</td>\n",
       "      <td>ur</td>\n",
       "      <td>2021-02-26 10:45:51.661</td>\n",
       "      <td>no</td>\n",
       "      <td>NaN</td>\n",
       "      <td>[IN]</td>\n",
       "      <td>NaN</td>\n",
       "      <td>NaN</td>\n",
       "      <td>{'created_at': 'Thu Feb 25 18:59:12 +0000 2021', 'id': 1365013492537978880, 'id_str': '1365013492537978880', 'text': 'لوگوں کی اکثریت ہدایت نہیں لینا چاہ رہی۔ \n",
       "ہمارے فیس بک پیج پر 13 لاکھ ممبر ہیں۔ ہمارے ٹویٹر پیج پر سوا تین لاکھ۔۔\n",
       "ا… https://t.co/ar04grdquW', 'display_text_range': [0, 140], 'source': '&lt;a href=\"http://twitter.com/download/android\" rel=\"nofollow\"&gt;Twitter for Android&lt;/a&gt;', 'truncated': True, 'in_reply_to_status_id': None, 'in_reply_to_status_id_str': None, 'in_reply_to_user_id...</td>\n",
       "      <td>NaN</td>\n",
       "    </tr>\n",
       "    <tr>\n",
       "      <th>1365249991137251328</th>\n",
       "      <td>2021-02-26 10:38:57+00:00</td>\n",
       "      <td>1365249991137251328</td>\n",
       "      <td>سید ابراہیم کا تعلق قبائلی ضلع کرم سے ہے۔ احساس بلا سود قرضہ  لے کر انہوں  نے اپنا سبزی کا کاروبار بڑھایا ہے جس سے ان کی…</td>\n",
       "      <td>&lt;a href=\"http://twitter.com/download/android\" rel=\"nofollow\"&gt;Twitter for Android&lt;/a&gt;</td>\n",
       "      <td>False</td>\n",
       "      <td>NaN</td>\n",
       "      <td>NaN</td>\n",
       "      <td>NaN</td>\n",
       "      <td>NaN</td>\n",
       "      <td>None</td>\n",
       "      <td>...</td>\n",
       "      <td>low</td>\n",
       "      <td>ur</td>\n",
       "      <td>2021-02-26 10:38:57.662</td>\n",
       "      <td>no</td>\n",
       "      <td>NaN</td>\n",
       "      <td>[IN]</td>\n",
       "      <td>NaN</td>\n",
       "      <td>NaN</td>\n",
       "      <td>{'created_at': 'Fri Feb 26 05:23:00 +0000 2021', 'id': 1365170479468859396, 'id_str': '1365170479468859396', 'text': 'سید ابراہیم کا تعلق قبائلی ضلع کرم سے ہے۔ احساس بلا سود قرضہ  لے کر انہوں  نے اپنا سبزی کا کاروبار بڑھایا ہے جس سے… https://t.co/9afHbWpU1p', 'display_text_range': [0, 140], 'source': '&lt;a href=\"https://mobile.twitter.com\" rel=\"nofollow\"&gt;Twitter Web App&lt;/a&gt;', 'truncated': True, 'in_reply_to_status_id': None, 'in_reply_to_status_id_str': None, 'in_reply_to_user_id': None, 'in_r...</td>\n",
       "      <td>NaN</td>\n",
       "    </tr>\n",
       "    <tr>\n",
       "      <th>1365242894362279938</th>\n",
       "      <td>2021-02-26 10:10:45+00:00</td>\n",
       "      <td>1365242894362279936</td>\n",
       "      <td>في مثل فجر هذا اليوم قبل   عامًا، قدّم المسجد الإبراهيمي ثلةً من الشهداء، وهم ركّع سجود. ستبقى #ذكرى_مجزرة_الحرم_الإ…</td>\n",
       "      <td>&lt;a href=\"https://mobile.twitter.com\" rel=\"nofollow\"&gt;Twitter Web App&lt;/a&gt;</td>\n",
       "      <td>False</td>\n",
       "      <td>NaN</td>\n",
       "      <td>NaN</td>\n",
       "      <td>NaN</td>\n",
       "      <td>NaN</td>\n",
       "      <td>None</td>\n",
       "      <td>...</td>\n",
       "      <td>low</td>\n",
       "      <td>ar</td>\n",
       "      <td>2021-02-26 10:10:45.659</td>\n",
       "      <td>no</td>\n",
       "      <td>NaN</td>\n",
       "      <td>[IL]</td>\n",
       "      <td>NaN</td>\n",
       "      <td>NaN</td>\n",
       "      <td>{'created_at': 'Thu Feb 25 19:04:40 +0000 2021', 'id': 1365014870475866114, 'id_str': '1365014870475866114', 'text': 'في مثل فجر هذا اليوم قبل 27 عامًا، قدّم المسجد الإبراهيمي ثلةً من الشهداء، وهم ركّع سجود. \n",
       "ستبقى… https://t.co/ZRweXMKZdW', 'display_text_range': [0, 140], 'source': '&lt;a href=\"http://twitter.com/download/iphone\" rel=\"nofollow\"&gt;Twitter for iPhone&lt;/a&gt;', 'truncated': True, 'in_reply_to_status_id': None, 'in_reply_to_status_id_str': None, 'in_reply_to_user_id': None, 'in_reply_to...</td>\n",
       "      <td>NaN</td>\n",
       "    </tr>\n",
       "    <tr>\n",
       "      <th>1365242898569134080</th>\n",
       "      <td>2021-02-26 10:10:46+00:00</td>\n",
       "      <td>1365242898569134080</td>\n",
       "      <td>Mujhe aj bhi batting ki bari ni di😔 Yahin so jata hun! Subha jb sab ayenge pehle pehle me kheilunga🤔🤔😁</td>\n",
       "      <td>&lt;a href=\"http://twitter.com/download/android\" rel=\"nofollow\"&gt;Twitter for Android&lt;/a&gt;</td>\n",
       "      <td>False</td>\n",
       "      <td>NaN</td>\n",
       "      <td>NaN</td>\n",
       "      <td>NaN</td>\n",
       "      <td>NaN</td>\n",
       "      <td>None</td>\n",
       "      <td>...</td>\n",
       "      <td>low</td>\n",
       "      <td>hi</td>\n",
       "      <td>2021-02-26 10:10:46.662</td>\n",
       "      <td>no</td>\n",
       "      <td>NaN</td>\n",
       "      <td>[IN]</td>\n",
       "      <td>{'media': [{'id': 1365238103892516864, 'id_str': '1365238103892516864', 'indices': [117, 140], 'media_url': 'http://pbs.twimg.com/media/EvJM0nhXYAA-W0p.jpg', 'media_url_https': 'https://pbs.twimg.com/media/EvJM0nhXYAA-W0p.jpg', 'url': 'https://t.co/0PjHxburfB', 'display_url': 'pic.twitter.com/0PjHxburfB', 'expanded_url': 'https://twitter.com/Jon__wicks/status/1365238106270687232/photo/1', 'type': 'photo', 'sizes': {'large': {'w': 539, 'h': 285, 'resize': 'fit'}, 'thumb': {'w': 150, 'h': 150,...</td>\n",
       "      <td>0.0</td>\n",
       "      <td>{'created_at': 'Fri Feb 26 09:51:44 +0000 2021', 'id': 1365238106270687232, 'id_str': '1365238106270687232', 'text': 'Mujhe aj bhi batting ki bari ni di😔\n",
       " Yahin so jata hun! Subha jb sab ayenge pehle pehle me kheilunga🤔🤔😁 https://t.co/0PjHxburfB', 'display_text_range': [0, 103], 'source': '&lt;a href=\"http://twitter.com/download/android\" rel=\"nofollow\"&gt;Twitter for Android&lt;/a&gt;', 'truncated': False, 'in_reply_to_status_id': None, 'in_reply_to_status_id_str': None, 'in_reply_to_user_id': None, 'in...</td>\n",
       "      <td>NaN</td>\n",
       "    </tr>\n",
       "    <tr>\n",
       "      <th>...</th>\n",
       "      <td>...</td>\n",
       "      <td>...</td>\n",
       "      <td>...</td>\n",
       "      <td>...</td>\n",
       "      <td>...</td>\n",
       "      <td>...</td>\n",
       "      <td>...</td>\n",
       "      <td>...</td>\n",
       "      <td>...</td>\n",
       "      <td>...</td>\n",
       "      <td>...</td>\n",
       "      <td>...</td>\n",
       "      <td>...</td>\n",
       "      <td>...</td>\n",
       "      <td>...</td>\n",
       "      <td>...</td>\n",
       "      <td>...</td>\n",
       "      <td>...</td>\n",
       "      <td>...</td>\n",
       "      <td>...</td>\n",
       "      <td>...</td>\n",
       "    </tr>\n",
       "    <tr>\n",
       "      <th>1361903355984023552</th>\n",
       "      <td>2021-02-17 05:00:37+00:00</td>\n",
       "      <td>1361903355984023552</td>\n",
       "      <td>مجھ سے ملو تو زرا فاصلے سے ملا کرو۔۔۔میں دل میں اتر جانے کا کمال رکتهی ہوں۔۔۔😌💕#مروہ_خان #محفل_سخن</td>\n",
       "      <td>&lt;a href=\"http://twitter.com/download/android\" rel=\"nofollow\"&gt;Twitter for Android&lt;/a&gt;</td>\n",
       "      <td>False</td>\n",
       "      <td>NaN</td>\n",
       "      <td>NaN</td>\n",
       "      <td>NaN</td>\n",
       "      <td>NaN</td>\n",
       "      <td>None</td>\n",
       "      <td>...</td>\n",
       "      <td>low</td>\n",
       "      <td>ur</td>\n",
       "      <td>2021-02-17 05:00:37.664</td>\n",
       "      <td>no</td>\n",
       "      <td>NaN</td>\n",
       "      <td>[IN]</td>\n",
       "      <td>NaN</td>\n",
       "      <td>NaN</td>\n",
       "      <td>{'created_at': 'Wed Feb 17 04:58:43 +0000 2021', 'id': 1361902875862007809, 'id_str': '1361902875862007809', 'text': 'مجھ سے ملو تو زرا فاصلے سے ملا کرو۔۔۔\n",
       "میں دل میں اتر جانے کا کمال رکتهی ہوں۔۔۔😌💕\n",
       "#مروہ_خان \n",
       "#محفل_سخن https://t.co/uXvmMkXTmj', 'display_text_range': [0, 101], 'source': '&lt;a href=\"http://twitter.com/download/android\" rel=\"nofollow\"&gt;Twitter for Android&lt;/a&gt;', 'truncated': False, 'in_reply_to_status_id': None, 'in_reply_to_status_id_str': None, 'in_reply_to_user_id': None, 'in_r...</td>\n",
       "      <td>NaN</td>\n",
       "    </tr>\n",
       "    <tr>\n",
       "      <th>1361917897631805442</th>\n",
       "      <td>2021-02-17 05:58:24+00:00</td>\n",
       "      <td>1361917897631805440</td>\n",
       "      <td>\"Her zaman demeye çalışıyorum da bugünlerde daha çok söylemek içimden geldi.\"</td>\n",
       "      <td>&lt;a href=\"http://twitter.com/download/android\" rel=\"nofollow\"&gt;Twitter for Android&lt;/a&gt;</td>\n",
       "      <td>False</td>\n",
       "      <td>NaN</td>\n",
       "      <td>NaN</td>\n",
       "      <td>NaN</td>\n",
       "      <td>NaN</td>\n",
       "      <td>None</td>\n",
       "      <td>...</td>\n",
       "      <td>low</td>\n",
       "      <td>tr</td>\n",
       "      <td>2021-02-17 05:58:24.663</td>\n",
       "      <td>no</td>\n",
       "      <td>NaN</td>\n",
       "      <td>[TR]</td>\n",
       "      <td>{'media': [{'id': 1361765784171778048, 'id_str': '1361765784171778048', 'indices': [99, 122], 'media_url': 'http://pbs.twimg.com/media/EuX2xAjXEAAOHlV.jpg', 'media_url_https': 'https://pbs.twimg.com/media/EuX2xAjXEAAOHlV.jpg', 'url': 'https://t.co/iT6HnOX3xq', 'display_url': 'pic.twitter.com/iT6HnOX3xq', 'expanded_url': 'https://twitter.com/YakaranGonuller/status/1361902947395768321/photo/1', 'type': 'photo', 'sizes': {'thumb': {'w': 150, 'h': 150, 'resize': 'crop'}, 'large': {'w': 921, 'h':...</td>\n",
       "      <td>0.0</td>\n",
       "      <td>{'created_at': 'Wed Feb 17 04:59:00 +0000 2021', 'id': 1361902947395768321, 'id_str': '1361902947395768321', 'text': '\"Her zaman demeye çalışıyorum da bugünlerde daha çok söylemek içimden geldi.\" https://t.co/iT6HnOX3xq', 'display_text_range': [0, 77], 'source': '&lt;a href=\"https://mobile.twitter.com\" rel=\"nofollow\"&gt;Twitter Web App&lt;/a&gt;', 'truncated': False, 'in_reply_to_status_id': None, 'in_reply_to_status_id_str': None, 'in_reply_to_user_id': None, 'in_reply_to_user_id_str': None, 'in_reply_...</td>\n",
       "      <td>NaN</td>\n",
       "    </tr>\n",
       "    <tr>\n",
       "      <th>1361912499562553344</th>\n",
       "      <td>2021-02-17 05:36:57+00:00</td>\n",
       "      <td>1361912499562553344</td>\n",
       "      <td>Bu arada,    bir haftaya kalmaz Yunanistan ile kriz çıkartır...</td>\n",
       "      <td>&lt;a href=\"http://twitter.com/download/android\" rel=\"nofollow\"&gt;Twitter for Android&lt;/a&gt;</td>\n",
       "      <td>False</td>\n",
       "      <td>NaN</td>\n",
       "      <td>NaN</td>\n",
       "      <td>NaN</td>\n",
       "      <td>NaN</td>\n",
       "      <td>None</td>\n",
       "      <td>...</td>\n",
       "      <td>low</td>\n",
       "      <td>tr</td>\n",
       "      <td>2021-02-17 05:36:57.663</td>\n",
       "      <td>no</td>\n",
       "      <td>NaN</td>\n",
       "      <td>[TR]</td>\n",
       "      <td>NaN</td>\n",
       "      <td>NaN</td>\n",
       "      <td>{'created_at': 'Tue Feb 16 22:14:28 +0000 2021', 'id': 1361801145702842372, 'id_str': '1361801145702842372', 'text': 'Bu arada,  @RTErdogan bir haftaya kalmaz Yunanistan ile kriz çıkartır...', 'source': '&lt;a href=\"https://mobile.twitter.com\" rel=\"nofollow\"&gt;Twitter Web App&lt;/a&gt;', 'truncated': False, 'in_reply_to_status_id': None, 'in_reply_to_status_id_str': None, 'in_reply_to_user_id': None, 'in_reply_to_user_id_str': None, 'in_reply_to_screen_name': None, 'user': {'id': 764617494761971714, 'i...</td>\n",
       "      <td>NaN</td>\n",
       "    </tr>\n",
       "    <tr>\n",
       "      <th>1361916228311408640</th>\n",
       "      <td>2021-02-17 05:51:46+00:00</td>\n",
       "      <td>1361916228311408640</td>\n",
       "      <td>السلام علیکمبسم الله الرحمن الرحيمسيده عائشہ رضی اللہ عنہا سے روایت ہے کہ نبی صلی اللہ علیہ وسلم نے فرمایا: شریف لوگوں کی…</td>\n",
       "      <td>&lt;a href=\"http://twitter.com/download/iphone\" rel=\"nofollow\"&gt;Twitter for iPhone&lt;/a&gt;</td>\n",
       "      <td>False</td>\n",
       "      <td>NaN</td>\n",
       "      <td>NaN</td>\n",
       "      <td>NaN</td>\n",
       "      <td>NaN</td>\n",
       "      <td>None</td>\n",
       "      <td>...</td>\n",
       "      <td>low</td>\n",
       "      <td>ur</td>\n",
       "      <td>2021-02-17 05:51:46.666</td>\n",
       "      <td>no</td>\n",
       "      <td>NaN</td>\n",
       "      <td>[IN]</td>\n",
       "      <td>NaN</td>\n",
       "      <td>NaN</td>\n",
       "      <td>{'created_at': 'Wed Feb 17 05:27:51 +0000 2021', 'id': 1361910208151367681, 'id_str': '1361910208151367681', 'text': 'السلام علیکم\n",
       "بسم الله الرحمن الرحيم\n",
       "\n",
       "سيده عائشہ رضی اللہ عنہا سے روایت ہے کہ نبی صلی اللہ علیہ وسلم نے فرمایا: شریف… https://t.co/ks0SvwxkWa', 'source': '&lt;a href=\"http://twitter.com/download/android\" rel=\"nofollow\"&gt;Twitter for Android&lt;/a&gt;', 'truncated': True, 'in_reply_to_status_id': None, 'in_reply_to_status_id_str': None, 'in_reply_to_user_id': None, 'in_reply_to_user_id_st...</td>\n",
       "      <td>NaN</td>\n",
       "    </tr>\n",
       "    <tr>\n",
       "      <th>1361908103915053060</th>\n",
       "      <td>2021-02-17 05:19:29+00:00</td>\n",
       "      <td>1361908103915053056</td>\n",
       "      <td>मैं RSS के देशहित के हर कार्य से जुड़ा हूं - मिथुन चक्रवर्ती</td>\n",
       "      <td>&lt;a href=\"http://twitter.com/download/android\" rel=\"nofollow\"&gt;Twitter for Android&lt;/a&gt;</td>\n",
       "      <td>False</td>\n",
       "      <td>NaN</td>\n",
       "      <td>NaN</td>\n",
       "      <td>NaN</td>\n",
       "      <td>NaN</td>\n",
       "      <td>None</td>\n",
       "      <td>...</td>\n",
       "      <td>low</td>\n",
       "      <td>hi</td>\n",
       "      <td>2021-02-17 05:19:29.659</td>\n",
       "      <td>no</td>\n",
       "      <td>NaN</td>\n",
       "      <td>[FR]</td>\n",
       "      <td>{'media': [{'id': 1361898951583039491, 'id_str': '1361898951583039491', 'indices': [61, 84], 'additional_media_info': {'monetizable': False}, 'media_url': 'http://pbs.twimg.com/ext_tw_video_thumb/1361898951583039491/pu/img/vgF6dxFs6R7nC1S5.jpg', 'media_url_https': 'https://pbs.twimg.com/ext_tw_video_thumb/1361898951583039491/pu/img/vgF6dxFs6R7nC1S5.jpg', 'url': 'https://t.co/Joj8i8vTAe', 'display_url': 'pic.twitter.com/Joj8i8vTAe', 'expanded_url': 'https://twitter.com/iKaranSharma99/status/1...</td>\n",
       "      <td>0.0</td>\n",
       "      <td>NaN</td>\n",
       "      <td>NaN</td>\n",
       "    </tr>\n",
       "  </tbody>\n",
       "</table>\n",
       "<p>23081 rows × 38 columns</p>\n",
       "</div>"
      ],
      "text/plain": [
       "                                   created_at               id_str  \\\n",
       "id                                                                   \n",
       "1365252415444946945 2021-02-26 10:48:35+00:00  1365252415444946944   \n",
       "1365251727574900738 2021-02-26 10:45:51+00:00  1365251727574900736   \n",
       "1365249991137251328 2021-02-26 10:38:57+00:00  1365249991137251328   \n",
       "1365242894362279938 2021-02-26 10:10:45+00:00  1365242894362279936   \n",
       "1365242898569134080 2021-02-26 10:10:46+00:00  1365242898569134080   \n",
       "...                                       ...                  ...   \n",
       "1361903355984023552 2021-02-17 05:00:37+00:00  1361903355984023552   \n",
       "1361917897631805442 2021-02-17 05:58:24+00:00  1361917897631805440   \n",
       "1361912499562553344 2021-02-17 05:36:57+00:00  1361912499562553344   \n",
       "1361916228311408640 2021-02-17 05:51:46+00:00  1361916228311408640   \n",
       "1361908103915053060 2021-02-17 05:19:29+00:00  1361908103915053056   \n",
       "\n",
       "                                                                                                                                             text  \\\n",
       "id                                                                                                                                                  \n",
       "1365252415444946945                                                                                           #Balakot Pak Army is our pride ❤️👍    \n",
       "1365251727574900738         لوگوں کی اکثریت ہدایت نہیں لینا چاہ رہی۔ ہمارے فیس بک پیج پر   لاکھ ممبر ہیں۔ ہمارے ٹویٹر پیج پر سوا تین لاکھ۔۔اس کے…   \n",
       "1365249991137251328     سید ابراہیم کا تعلق قبائلی ضلع کرم سے ہے۔ احساس بلا سود قرضہ  لے کر انہوں  نے اپنا سبزی کا کاروبار بڑھایا ہے جس سے ان کی…   \n",
       "1365242894362279938         في مثل فجر هذا اليوم قبل   عامًا، قدّم المسجد الإبراهيمي ثلةً من الشهداء، وهم ركّع سجود. ستبقى #ذكرى_مجزرة_الحرم_الإ…   \n",
       "1365242898569134080                       Mujhe aj bhi batting ki bari ni di😔 Yahin so jata hun! Subha jb sab ayenge pehle pehle me kheilunga🤔🤔😁    \n",
       "...                                                                                                                                           ...   \n",
       "1361903355984023552                           مجھ سے ملو تو زرا فاصلے سے ملا کرو۔۔۔میں دل میں اتر جانے کا کمال رکتهی ہوں۔۔۔😌💕#مروہ_خان #محفل_سخن    \n",
       "1361917897631805442                                                \"Her zaman demeye çalışıyorum da bugünlerde daha çok söylemek içimden geldi.\"    \n",
       "1361912499562553344                                                               Bu arada,    bir haftaya kalmaz Yunanistan ile kriz çıkartır...   \n",
       "1361916228311408640    السلام علیکمبسم الله الرحمن الرحيمسيده عائشہ رضی اللہ عنہا سے روایت ہے کہ نبی صلی اللہ علیہ وسلم نے فرمایا: شریف لوگوں کی…   \n",
       "1361908103915053060                                                                 मैं RSS के देशहित के हर कार्य से जुड़ा हूं - मिथुन चक्रवर्ती    \n",
       "\n",
       "                                                                                                   source  \\\n",
       "id                                                                                                          \n",
       "1365252415444946945  <a href=\"http://twitter.com/download/android\" rel=\"nofollow\">Twitter for Android</a>   \n",
       "1365251727574900738  <a href=\"http://twitter.com/download/android\" rel=\"nofollow\">Twitter for Android</a>   \n",
       "1365249991137251328  <a href=\"http://twitter.com/download/android\" rel=\"nofollow\">Twitter for Android</a>   \n",
       "1365242894362279938               <a href=\"https://mobile.twitter.com\" rel=\"nofollow\">Twitter Web App</a>   \n",
       "1365242898569134080  <a href=\"http://twitter.com/download/android\" rel=\"nofollow\">Twitter for Android</a>   \n",
       "...                                                                                                   ...   \n",
       "1361903355984023552  <a href=\"http://twitter.com/download/android\" rel=\"nofollow\">Twitter for Android</a>   \n",
       "1361917897631805442  <a href=\"http://twitter.com/download/android\" rel=\"nofollow\">Twitter for Android</a>   \n",
       "1361912499562553344  <a href=\"http://twitter.com/download/android\" rel=\"nofollow\">Twitter for Android</a>   \n",
       "1361916228311408640    <a href=\"http://twitter.com/download/iphone\" rel=\"nofollow\">Twitter for iPhone</a>   \n",
       "1361908103915053060  <a href=\"http://twitter.com/download/android\" rel=\"nofollow\">Twitter for Android</a>   \n",
       "\n",
       "                     truncated  in_reply_to_status_id  \\\n",
       "id                                                      \n",
       "1365252415444946945      False                    NaN   \n",
       "1365251727574900738      False                    NaN   \n",
       "1365249991137251328      False                    NaN   \n",
       "1365242894362279938      False                    NaN   \n",
       "1365242898569134080      False                    NaN   \n",
       "...                        ...                    ...   \n",
       "1361903355984023552      False                    NaN   \n",
       "1361917897631805442      False                    NaN   \n",
       "1361912499562553344      False                    NaN   \n",
       "1361916228311408640      False                    NaN   \n",
       "1361908103915053060      False                    NaN   \n",
       "\n",
       "                     in_reply_to_status_id_str  in_reply_to_user_id  \\\n",
       "id                                                                    \n",
       "1365252415444946945                        NaN                  NaN   \n",
       "1365251727574900738                        NaN                  NaN   \n",
       "1365249991137251328                        NaN                  NaN   \n",
       "1365242894362279938                        NaN                  NaN   \n",
       "1365242898569134080                        NaN                  NaN   \n",
       "...                                        ...                  ...   \n",
       "1361903355984023552                        NaN                  NaN   \n",
       "1361917897631805442                        NaN                  NaN   \n",
       "1361912499562553344                        NaN                  NaN   \n",
       "1361916228311408640                        NaN                  NaN   \n",
       "1361908103915053060                        NaN                  NaN   \n",
       "\n",
       "                     in_reply_to_user_id_str in_reply_to_screen_name  ...  \\\n",
       "id                                                                    ...   \n",
       "1365252415444946945                      NaN                    None  ...   \n",
       "1365251727574900738                      NaN                    None  ...   \n",
       "1365249991137251328                      NaN                    None  ...   \n",
       "1365242894362279938                      NaN                    None  ...   \n",
       "1365242898569134080                      NaN                    None  ...   \n",
       "...                                      ...                     ...  ...   \n",
       "1361903355984023552                      NaN                    None  ...   \n",
       "1361917897631805442                      NaN                    None  ...   \n",
       "1361912499562553344                      NaN                    None  ...   \n",
       "1361916228311408640                      NaN                    None  ...   \n",
       "1361908103915053060                      NaN                    None  ...   \n",
       "\n",
       "                    filter_level lang            timestamp_ms linked  \\\n",
       "id                                                                     \n",
       "1365252415444946945          low   en 2021-02-26 10:48:35.662     no   \n",
       "1365251727574900738          low   ur 2021-02-26 10:45:51.661     no   \n",
       "1365249991137251328          low   ur 2021-02-26 10:38:57.662     no   \n",
       "1365242894362279938          low   ar 2021-02-26 10:10:45.659     no   \n",
       "1365242898569134080          low   hi 2021-02-26 10:10:46.662     no   \n",
       "...                          ...  ...                     ...    ...   \n",
       "1361903355984023552          low   ur 2021-02-17 05:00:37.664     no   \n",
       "1361917897631805442          low   tr 2021-02-17 05:58:24.663     no   \n",
       "1361912499562553344          low   tr 2021-02-17 05:36:57.663     no   \n",
       "1361916228311408640          low   ur 2021-02-17 05:51:46.666     no   \n",
       "1361908103915053060          low   hi 2021-02-17 05:19:29.659     no   \n",
       "\n",
       "                     display_text_range  withheld_in_countries  \\\n",
       "id                                                               \n",
       "1365252415444946945             [0, 35]                   [IN]   \n",
       "1365251727574900738                 NaN                   [IN]   \n",
       "1365249991137251328                 NaN                   [IN]   \n",
       "1365242894362279938                 NaN                   [IL]   \n",
       "1365242898569134080                 NaN                   [IN]   \n",
       "...                                 ...                    ...   \n",
       "1361903355984023552                 NaN                   [IN]   \n",
       "1361917897631805442                 NaN                   [TR]   \n",
       "1361912499562553344                 NaN                   [TR]   \n",
       "1361916228311408640                 NaN                   [IN]   \n",
       "1361908103915053060                 NaN                   [FR]   \n",
       "\n",
       "                                                                                                                                                                                                                                                                                                                                                                                                                                                                                                                       extended_entities  \\\n",
       "id                                                                                                                                                                                                                                                                                                                                                                                                                                                                                                                                         \n",
       "1365252415444946945  {'media': [{'id': 1365252409015033857, 'id_str': '1365252409015033857', 'indices': [36, 59], 'media_url': 'http://pbs.twimg.com/media/EvJZ1SQWYAEW5qu.jpg', 'media_url_https': 'https://pbs.twimg.com/media/EvJZ1SQWYAEW5qu.jpg', 'url': 'https://t.co/JirGPSMMGO', 'display_url': 'pic.twitter.com/JirGPSMMGO', 'expanded_url': 'https://twitter.com/hafizmirzaki/status/1365252415444946945/photo/1', 'type': 'photo', 'sizes': {'thumb': {'w': 150, 'h': 150, 'resize': 'crop'}, 'small': {'w': 680, 'h': 636...   \n",
       "1365251727574900738                                                                                                                                                                                                                                                                                                                                                                                                                                                                                                                  NaN   \n",
       "1365249991137251328                                                                                                                                                                                                                                                                                                                                                                                                                                                                                                                  NaN   \n",
       "1365242894362279938                                                                                                                                                                                                                                                                                                                                                                                                                                                                                                                  NaN   \n",
       "1365242898569134080  {'media': [{'id': 1365238103892516864, 'id_str': '1365238103892516864', 'indices': [117, 140], 'media_url': 'http://pbs.twimg.com/media/EvJM0nhXYAA-W0p.jpg', 'media_url_https': 'https://pbs.twimg.com/media/EvJM0nhXYAA-W0p.jpg', 'url': 'https://t.co/0PjHxburfB', 'display_url': 'pic.twitter.com/0PjHxburfB', 'expanded_url': 'https://twitter.com/Jon__wicks/status/1365238106270687232/photo/1', 'type': 'photo', 'sizes': {'large': {'w': 539, 'h': 285, 'resize': 'fit'}, 'thumb': {'w': 150, 'h': 150,...   \n",
       "...                                                                                                                                                                                                                                                                                                                                                                                                                                                                                                                                  ...   \n",
       "1361903355984023552                                                                                                                                                                                                                                                                                                                                                                                                                                                                                                                  NaN   \n",
       "1361917897631805442  {'media': [{'id': 1361765784171778048, 'id_str': '1361765784171778048', 'indices': [99, 122], 'media_url': 'http://pbs.twimg.com/media/EuX2xAjXEAAOHlV.jpg', 'media_url_https': 'https://pbs.twimg.com/media/EuX2xAjXEAAOHlV.jpg', 'url': 'https://t.co/iT6HnOX3xq', 'display_url': 'pic.twitter.com/iT6HnOX3xq', 'expanded_url': 'https://twitter.com/YakaranGonuller/status/1361902947395768321/photo/1', 'type': 'photo', 'sizes': {'thumb': {'w': 150, 'h': 150, 'resize': 'crop'}, 'large': {'w': 921, 'h':...   \n",
       "1361912499562553344                                                                                                                                                                                                                                                                                                                                                                                                                                                                                                                  NaN   \n",
       "1361916228311408640                                                                                                                                                                                                                                                                                                                                                                                                                                                                                                                  NaN   \n",
       "1361908103915053060  {'media': [{'id': 1361898951583039491, 'id_str': '1361898951583039491', 'indices': [61, 84], 'additional_media_info': {'monetizable': False}, 'media_url': 'http://pbs.twimg.com/ext_tw_video_thumb/1361898951583039491/pu/img/vgF6dxFs6R7nC1S5.jpg', 'media_url_https': 'https://pbs.twimg.com/ext_tw_video_thumb/1361898951583039491/pu/img/vgF6dxFs6R7nC1S5.jpg', 'url': 'https://t.co/Joj8i8vTAe', 'display_url': 'pic.twitter.com/Joj8i8vTAe', 'expanded_url': 'https://twitter.com/iKaranSharma99/status/1...   \n",
       "\n",
       "                    possibly_sensitive  \\\n",
       "id                                       \n",
       "1365252415444946945                0.0   \n",
       "1365251727574900738                NaN   \n",
       "1365249991137251328                NaN   \n",
       "1365242894362279938                NaN   \n",
       "1365242898569134080                0.0   \n",
       "...                                ...   \n",
       "1361903355984023552                NaN   \n",
       "1361917897631805442                0.0   \n",
       "1361912499562553344                NaN   \n",
       "1361916228311408640                NaN   \n",
       "1361908103915053060                0.0   \n",
       "\n",
       "                                                                                                                                                                                                                                                                                                                                                                                                                                                                                                                        retweeted_status  \\\n",
       "id                                                                                                                                                                                                                                                                                                                                                                                                                                                                                                                                         \n",
       "1365252415444946945                                                                                                                                                                                                                                                                                                                                                                                                                                                                                                                  NaN   \n",
       "1365251727574900738  {'created_at': 'Thu Feb 25 18:59:12 +0000 2021', 'id': 1365013492537978880, 'id_str': '1365013492537978880', 'text': 'لوگوں کی اکثریت ہدایت نہیں لینا چاہ رہی۔ \n",
       "ہمارے فیس بک پیج پر 13 لاکھ ممبر ہیں۔ ہمارے ٹویٹر پیج پر سوا تین لاکھ۔۔\n",
       "ا… https://t.co/ar04grdquW', 'display_text_range': [0, 140], 'source': '<a href=\"http://twitter.com/download/android\" rel=\"nofollow\">Twitter for Android</a>', 'truncated': True, 'in_reply_to_status_id': None, 'in_reply_to_status_id_str': None, 'in_reply_to_user_id...   \n",
       "1365249991137251328  {'created_at': 'Fri Feb 26 05:23:00 +0000 2021', 'id': 1365170479468859396, 'id_str': '1365170479468859396', 'text': 'سید ابراہیم کا تعلق قبائلی ضلع کرم سے ہے۔ احساس بلا سود قرضہ  لے کر انہوں  نے اپنا سبزی کا کاروبار بڑھایا ہے جس سے… https://t.co/9afHbWpU1p', 'display_text_range': [0, 140], 'source': '<a href=\"https://mobile.twitter.com\" rel=\"nofollow\">Twitter Web App</a>', 'truncated': True, 'in_reply_to_status_id': None, 'in_reply_to_status_id_str': None, 'in_reply_to_user_id': None, 'in_r...   \n",
       "1365242894362279938  {'created_at': 'Thu Feb 25 19:04:40 +0000 2021', 'id': 1365014870475866114, 'id_str': '1365014870475866114', 'text': 'في مثل فجر هذا اليوم قبل 27 عامًا، قدّم المسجد الإبراهيمي ثلةً من الشهداء، وهم ركّع سجود. \n",
       "ستبقى… https://t.co/ZRweXMKZdW', 'display_text_range': [0, 140], 'source': '<a href=\"http://twitter.com/download/iphone\" rel=\"nofollow\">Twitter for iPhone</a>', 'truncated': True, 'in_reply_to_status_id': None, 'in_reply_to_status_id_str': None, 'in_reply_to_user_id': None, 'in_reply_to...   \n",
       "1365242898569134080  {'created_at': 'Fri Feb 26 09:51:44 +0000 2021', 'id': 1365238106270687232, 'id_str': '1365238106270687232', 'text': 'Mujhe aj bhi batting ki bari ni di😔\n",
       " Yahin so jata hun! Subha jb sab ayenge pehle pehle me kheilunga🤔🤔😁 https://t.co/0PjHxburfB', 'display_text_range': [0, 103], 'source': '<a href=\"http://twitter.com/download/android\" rel=\"nofollow\">Twitter for Android</a>', 'truncated': False, 'in_reply_to_status_id': None, 'in_reply_to_status_id_str': None, 'in_reply_to_user_id': None, 'in...   \n",
       "...                                                                                                                                                                                                                                                                                                                                                                                                                                                                                                                                  ...   \n",
       "1361903355984023552  {'created_at': 'Wed Feb 17 04:58:43 +0000 2021', 'id': 1361902875862007809, 'id_str': '1361902875862007809', 'text': 'مجھ سے ملو تو زرا فاصلے سے ملا کرو۔۔۔\n",
       "میں دل میں اتر جانے کا کمال رکتهی ہوں۔۔۔😌💕\n",
       "#مروہ_خان \n",
       "#محفل_سخن https://t.co/uXvmMkXTmj', 'display_text_range': [0, 101], 'source': '<a href=\"http://twitter.com/download/android\" rel=\"nofollow\">Twitter for Android</a>', 'truncated': False, 'in_reply_to_status_id': None, 'in_reply_to_status_id_str': None, 'in_reply_to_user_id': None, 'in_r...   \n",
       "1361917897631805442  {'created_at': 'Wed Feb 17 04:59:00 +0000 2021', 'id': 1361902947395768321, 'id_str': '1361902947395768321', 'text': '\"Her zaman demeye çalışıyorum da bugünlerde daha çok söylemek içimden geldi.\" https://t.co/iT6HnOX3xq', 'display_text_range': [0, 77], 'source': '<a href=\"https://mobile.twitter.com\" rel=\"nofollow\">Twitter Web App</a>', 'truncated': False, 'in_reply_to_status_id': None, 'in_reply_to_status_id_str': None, 'in_reply_to_user_id': None, 'in_reply_to_user_id_str': None, 'in_reply_...   \n",
       "1361912499562553344  {'created_at': 'Tue Feb 16 22:14:28 +0000 2021', 'id': 1361801145702842372, 'id_str': '1361801145702842372', 'text': 'Bu arada,  @RTErdogan bir haftaya kalmaz Yunanistan ile kriz çıkartır...', 'source': '<a href=\"https://mobile.twitter.com\" rel=\"nofollow\">Twitter Web App</a>', 'truncated': False, 'in_reply_to_status_id': None, 'in_reply_to_status_id_str': None, 'in_reply_to_user_id': None, 'in_reply_to_user_id_str': None, 'in_reply_to_screen_name': None, 'user': {'id': 764617494761971714, 'i...   \n",
       "1361916228311408640  {'created_at': 'Wed Feb 17 05:27:51 +0000 2021', 'id': 1361910208151367681, 'id_str': '1361910208151367681', 'text': 'السلام علیکم\n",
       "بسم الله الرحمن الرحيم\n",
       "\n",
       "سيده عائشہ رضی اللہ عنہا سے روایت ہے کہ نبی صلی اللہ علیہ وسلم نے فرمایا: شریف… https://t.co/ks0SvwxkWa', 'source': '<a href=\"http://twitter.com/download/android\" rel=\"nofollow\">Twitter for Android</a>', 'truncated': True, 'in_reply_to_status_id': None, 'in_reply_to_status_id_str': None, 'in_reply_to_user_id': None, 'in_reply_to_user_id_st...   \n",
       "1361908103915053060                                                                                                                                                                                                                                                                                                                                                                                                                                                                                                                  NaN   \n",
       "\n",
       "                     withheld_copyright  \n",
       "id                                       \n",
       "1365252415444946945                 NaN  \n",
       "1365251727574900738                 NaN  \n",
       "1365249991137251328                 NaN  \n",
       "1365242894362279938                 NaN  \n",
       "1365242898569134080                 NaN  \n",
       "...                                 ...  \n",
       "1361903355984023552                 NaN  \n",
       "1361917897631805442                 NaN  \n",
       "1361912499562553344                 NaN  \n",
       "1361916228311408640                 NaN  \n",
       "1361908103915053060                 NaN  \n",
       "\n",
       "[23081 rows x 38 columns]"
      ]
     },
     "execution_count": 41,
     "metadata": {},
     "output_type": "execute_result"
    }
   ],
   "source": [
    "df_clean"
   ]
  },
  {
   "cell_type": "code",
   "execution_count": 42,
   "id": "e84fcedb",
   "metadata": {},
   "outputs": [],
   "source": [
    "df = df_clean.drop(df_clean[df_clean.text.apply(lambda x: x.isspace())].index)"
   ]
  },
  {
   "cell_type": "code",
   "execution_count": 43,
   "id": "ed630fa4",
   "metadata": {},
   "outputs": [
    {
     "data": {
      "text/plain": [
       "Int64Index([1365363136698679299, 1365461602166857733, 1365202687789305857,\n",
       "            1365224900827389953, 1365219544663531520, 1365386226317025285,\n",
       "            1365413761918504961, 1365848396699996163, 1365566690449387520,\n",
       "            1365681815688798210,\n",
       "            ...\n",
       "            1361636627580416000, 1361659683677868040, 1361651186026360835,\n",
       "            1361610450945802240, 1361837723506589698, 1361734002563043338,\n",
       "            1361579048204263424, 1361663278204739593, 1361757016700690436,\n",
       "            1361789837121105922],\n",
       "           dtype='int64', name='id', length=530)"
      ]
     },
     "execution_count": 43,
     "metadata": {},
     "output_type": "execute_result"
    }
   ],
   "source": [
    "df_clean[df_clean.text.apply(lambda x: x.isspace())].index"
   ]
  },
  {
   "cell_type": "code",
   "execution_count": 44,
   "id": "cee12a35",
   "metadata": {},
   "outputs": [],
   "source": [
    "df_without_duplicate[df_clean.text.apply(lambda x: x.isspace())].to_csv(\"empty_text.csv\")"
   ]
  },
  {
   "cell_type": "code",
   "execution_count": 45,
   "id": "ab1171ae",
   "metadata": {},
   "outputs": [
    {
     "ename": "TooManyRequests",
     "evalue": "Server Error: You made too many requests to the server. According to google, you are allowed to make 5 requests per second and up to 200k requests per day. You can wait and try again later or you can try the translate_batch function",
     "output_type": "error",
     "traceback": [
      "\u001b[0;31m---------------------------------------------------------------------------\u001b[0m",
      "\u001b[0;31mTooManyRequests\u001b[0m                           Traceback (most recent call last)",
      "\u001b[0;32m/var/folders/4z/k7wkc9t97453h4tqprj_1j3h0000gn/T/ipykernel_26856/428231735.py\u001b[0m in \u001b[0;36m<module>\u001b[0;34m\u001b[0m\n\u001b[0;32m----> 1\u001b[0;31m \u001b[0mtranslated\u001b[0m \u001b[0;34m=\u001b[0m \u001b[0mdf_clean\u001b[0m\u001b[0;34m.\u001b[0m\u001b[0mtext\u001b[0m\u001b[0;34m.\u001b[0m\u001b[0mswifter\u001b[0m\u001b[0;34m.\u001b[0m\u001b[0mapply\u001b[0m\u001b[0;34m(\u001b[0m\u001b[0;32mlambda\u001b[0m \u001b[0mx\u001b[0m\u001b[0;34m:\u001b[0m \u001b[0mGoogleTranslator\u001b[0m\u001b[0;34m(\u001b[0m\u001b[0msource\u001b[0m\u001b[0;34m=\u001b[0m\u001b[0;34m'auto'\u001b[0m\u001b[0;34m,\u001b[0m \u001b[0mtarget\u001b[0m\u001b[0;34m=\u001b[0m\u001b[0;34m'en'\u001b[0m\u001b[0;34m)\u001b[0m\u001b[0;34m.\u001b[0m\u001b[0mtranslate\u001b[0m\u001b[0;34m(\u001b[0m\u001b[0mstr\u001b[0m\u001b[0;34m(\u001b[0m\u001b[0mx\u001b[0m\u001b[0;34m)\u001b[0m\u001b[0;34m)\u001b[0m\u001b[0;34m)\u001b[0m\u001b[0;34m\u001b[0m\u001b[0;34m\u001b[0m\u001b[0m\n\u001b[0m",
      "\u001b[0;32m~/opt/anaconda3/lib/python3.8/site-packages/swifter/swifter.py\u001b[0m in \u001b[0;36mapply\u001b[0;34m(self, func, convert_dtype, args, **kwds)\u001b[0m\n\u001b[1;32m    307\u001b[0m         \u001b[0;32mtry\u001b[0m\u001b[0;34m:\u001b[0m  \u001b[0;31m# try to vectorize\u001b[0m\u001b[0;34m\u001b[0m\u001b[0;34m\u001b[0m\u001b[0m\n\u001b[1;32m    308\u001b[0m             \u001b[0;32mwith\u001b[0m \u001b[0msuppress_stdout_stderr_logging\u001b[0m\u001b[0;34m(\u001b[0m\u001b[0;34m)\u001b[0m\u001b[0;34m:\u001b[0m\u001b[0;34m\u001b[0m\u001b[0;34m\u001b[0m\u001b[0m\n\u001b[0;32m--> 309\u001b[0;31m                 \u001b[0mtmp_df\u001b[0m \u001b[0;34m=\u001b[0m \u001b[0mfunc\u001b[0m\u001b[0;34m(\u001b[0m\u001b[0msample\u001b[0m\u001b[0;34m,\u001b[0m \u001b[0;34m*\u001b[0m\u001b[0margs\u001b[0m\u001b[0;34m,\u001b[0m \u001b[0;34m**\u001b[0m\u001b[0mkwds\u001b[0m\u001b[0;34m)\u001b[0m\u001b[0;34m\u001b[0m\u001b[0;34m\u001b[0m\u001b[0m\n\u001b[0m\u001b[1;32m    310\u001b[0m                 \u001b[0msample_df\u001b[0m \u001b[0;34m=\u001b[0m \u001b[0msample\u001b[0m\u001b[0;34m.\u001b[0m\u001b[0mapply\u001b[0m\u001b[0;34m(\u001b[0m\u001b[0mfunc\u001b[0m\u001b[0;34m,\u001b[0m \u001b[0mconvert_dtype\u001b[0m\u001b[0;34m=\u001b[0m\u001b[0mconvert_dtype\u001b[0m\u001b[0;34m,\u001b[0m \u001b[0margs\u001b[0m\u001b[0;34m=\u001b[0m\u001b[0margs\u001b[0m\u001b[0;34m,\u001b[0m \u001b[0;34m**\u001b[0m\u001b[0mkwds\u001b[0m\u001b[0;34m)\u001b[0m\u001b[0;34m\u001b[0m\u001b[0;34m\u001b[0m\u001b[0m\n\u001b[1;32m    311\u001b[0m                 self._validate_apply(\n",
      "\u001b[0;32m/var/folders/4z/k7wkc9t97453h4tqprj_1j3h0000gn/T/ipykernel_26856/428231735.py\u001b[0m in \u001b[0;36m<lambda>\u001b[0;34m(x)\u001b[0m\n\u001b[0;32m----> 1\u001b[0;31m \u001b[0mtranslated\u001b[0m \u001b[0;34m=\u001b[0m \u001b[0mdf_clean\u001b[0m\u001b[0;34m.\u001b[0m\u001b[0mtext\u001b[0m\u001b[0;34m.\u001b[0m\u001b[0mswifter\u001b[0m\u001b[0;34m.\u001b[0m\u001b[0mapply\u001b[0m\u001b[0;34m(\u001b[0m\u001b[0;32mlambda\u001b[0m \u001b[0mx\u001b[0m\u001b[0;34m:\u001b[0m \u001b[0mGoogleTranslator\u001b[0m\u001b[0;34m(\u001b[0m\u001b[0msource\u001b[0m\u001b[0;34m=\u001b[0m\u001b[0;34m'auto'\u001b[0m\u001b[0;34m,\u001b[0m \u001b[0mtarget\u001b[0m\u001b[0;34m=\u001b[0m\u001b[0;34m'en'\u001b[0m\u001b[0;34m)\u001b[0m\u001b[0;34m.\u001b[0m\u001b[0mtranslate\u001b[0m\u001b[0;34m(\u001b[0m\u001b[0mstr\u001b[0m\u001b[0;34m(\u001b[0m\u001b[0mx\u001b[0m\u001b[0;34m)\u001b[0m\u001b[0;34m)\u001b[0m\u001b[0;34m)\u001b[0m\u001b[0;34m\u001b[0m\u001b[0;34m\u001b[0m\u001b[0m\n\u001b[0m",
      "\u001b[0;32m~/opt/anaconda3/lib/python3.8/site-packages/deep_translator/google.py\u001b[0m in \u001b[0;36mtranslate\u001b[0;34m(self, text, **kwargs)\u001b[0m\n\u001b[1;32m     67\u001b[0m             )\n\u001b[1;32m     68\u001b[0m             \u001b[0;32mif\u001b[0m \u001b[0mresponse\u001b[0m\u001b[0;34m.\u001b[0m\u001b[0mstatus_code\u001b[0m \u001b[0;34m==\u001b[0m \u001b[0;36m429\u001b[0m\u001b[0;34m:\u001b[0m\u001b[0;34m\u001b[0m\u001b[0;34m\u001b[0m\u001b[0m\n\u001b[0;32m---> 69\u001b[0;31m                 \u001b[0;32mraise\u001b[0m \u001b[0mTooManyRequests\u001b[0m\u001b[0;34m(\u001b[0m\u001b[0;34m)\u001b[0m\u001b[0;34m\u001b[0m\u001b[0;34m\u001b[0m\u001b[0m\n\u001b[0m\u001b[1;32m     70\u001b[0m \u001b[0;34m\u001b[0m\u001b[0m\n\u001b[1;32m     71\u001b[0m             \u001b[0;32mif\u001b[0m \u001b[0mresponse\u001b[0m\u001b[0;34m.\u001b[0m\u001b[0mstatus_code\u001b[0m \u001b[0;34m!=\u001b[0m \u001b[0;36m200\u001b[0m\u001b[0;34m:\u001b[0m\u001b[0;34m\u001b[0m\u001b[0;34m\u001b[0m\u001b[0m\n",
      "\u001b[0;31mTooManyRequests\u001b[0m: Server Error: You made too many requests to the server. According to google, you are allowed to make 5 requests per second and up to 200k requests per day. You can wait and try again later or you can try the translate_batch function"
     ]
    }
   ],
   "source": [
    "translated = df_clean.text.swifter.apply(lambda x: GoogleTranslator(source='auto', target='en').translate(str(x)))"
   ]
  },
  {
   "cell_type": "code",
   "execution_count": null,
   "id": "f63e41c7",
   "metadata": {},
   "outputs": [],
   "source": [
    "df_clean['translated'] = translated"
   ]
  },
  {
   "cell_type": "code",
   "execution_count": null,
   "id": "0b82617b",
   "metadata": {},
   "outputs": [],
   "source": []
  },
  {
   "cell_type": "code",
   "execution_count": null,
   "id": "e05d65bd",
   "metadata": {},
   "outputs": [],
   "source": []
  },
  {
   "cell_type": "code",
   "execution_count": null,
   "id": "7d170750",
   "metadata": {},
   "outputs": [],
   "source": []
  },
  {
   "cell_type": "code",
   "execution_count": null,
   "id": "611d3323",
   "metadata": {},
   "outputs": [],
   "source": []
  },
  {
   "cell_type": "code",
   "execution_count": null,
   "id": "469c3469",
   "metadata": {},
   "outputs": [],
   "source": []
  },
  {
   "cell_type": "code",
   "execution_count": null,
   "id": "b8d3c79e",
   "metadata": {},
   "outputs": [],
   "source": []
  },
  {
   "cell_type": "code",
   "execution_count": null,
   "id": "f5158947",
   "metadata": {},
   "outputs": [],
   "source": []
  },
  {
   "cell_type": "code",
   "execution_count": null,
   "id": "34d80e96",
   "metadata": {},
   "outputs": [],
   "source": []
  },
  {
   "cell_type": "code",
   "execution_count": null,
   "id": "23660ed4",
   "metadata": {},
   "outputs": [],
   "source": []
  },
  {
   "cell_type": "code",
   "execution_count": null,
   "id": "57089d26",
   "metadata": {},
   "outputs": [],
   "source": []
  },
  {
   "cell_type": "code",
   "execution_count": null,
   "id": "6a79d874",
   "metadata": {},
   "outputs": [],
   "source": []
  },
  {
   "cell_type": "code",
   "execution_count": null,
   "id": "02958d17",
   "metadata": {},
   "outputs": [],
   "source": []
  },
  {
   "cell_type": "code",
   "execution_count": null,
   "id": "3a58ebab",
   "metadata": {},
   "outputs": [],
   "source": []
  },
  {
   "cell_type": "code",
   "execution_count": null,
   "id": "bdc9eb9a",
   "metadata": {},
   "outputs": [],
   "source": []
  },
  {
   "cell_type": "code",
   "execution_count": 63,
   "id": "31bf4e04",
   "metadata": {},
   "outputs": [],
   "source": [
    "def remove_RT(tweets):\n",
    "    return re.sub(\"RT  :\", \" \", tweets)"
   ]
  },
  {
   "cell_type": "code",
   "execution_count": 80,
   "id": "a52b7254",
   "metadata": {},
   "outputs": [
    {
     "ename": "google_new_transError",
     "evalue": "404 (Not Found) from TTS API. Probable cause: Unknown",
     "output_type": "error",
     "traceback": [
      "\u001b[0;31m---------------------------------------------------------------------------\u001b[0m",
      "\u001b[0;31mHTTPError\u001b[0m                                 Traceback (most recent call last)",
      "\u001b[0;32m~/opt/anaconda3/lib/python3.8/site-packages/google_trans_new/google_trans_new.py\u001b[0m in \u001b[0;36mtranslate\u001b[0;34m(self, text, lang_tgt, lang_src, pronounce)\u001b[0m\n\u001b[1;32m    188\u001b[0m                         \u001b[0;32mraise\u001b[0m \u001b[0me\u001b[0m\u001b[0;34m\u001b[0m\u001b[0;34m\u001b[0m\u001b[0m\n\u001b[0;32m--> 189\u001b[0;31m             \u001b[0mr\u001b[0m\u001b[0;34m.\u001b[0m\u001b[0mraise_for_status\u001b[0m\u001b[0;34m(\u001b[0m\u001b[0;34m)\u001b[0m\u001b[0;34m\u001b[0m\u001b[0;34m\u001b[0m\u001b[0m\n\u001b[0m\u001b[1;32m    190\u001b[0m         \u001b[0;32mexcept\u001b[0m \u001b[0mrequests\u001b[0m\u001b[0;34m.\u001b[0m\u001b[0mexceptions\u001b[0m\u001b[0;34m.\u001b[0m\u001b[0mConnectTimeout\u001b[0m \u001b[0;32mas\u001b[0m \u001b[0me\u001b[0m\u001b[0;34m:\u001b[0m\u001b[0;34m\u001b[0m\u001b[0;34m\u001b[0m\u001b[0m\n",
      "\u001b[0;32m~/opt/anaconda3/lib/python3.8/site-packages/requests/models.py\u001b[0m in \u001b[0;36mraise_for_status\u001b[0;34m(self)\u001b[0m\n\u001b[1;32m   1020\u001b[0m         \u001b[0;32mif\u001b[0m \u001b[0mhttp_error_msg\u001b[0m\u001b[0;34m:\u001b[0m\u001b[0;34m\u001b[0m\u001b[0;34m\u001b[0m\u001b[0m\n\u001b[0;32m-> 1021\u001b[0;31m             \u001b[0;32mraise\u001b[0m \u001b[0mHTTPError\u001b[0m\u001b[0;34m(\u001b[0m\u001b[0mhttp_error_msg\u001b[0m\u001b[0;34m,\u001b[0m \u001b[0mresponse\u001b[0m\u001b[0;34m=\u001b[0m\u001b[0mself\u001b[0m\u001b[0;34m)\u001b[0m\u001b[0;34m\u001b[0m\u001b[0;34m\u001b[0m\u001b[0m\n\u001b[0m\u001b[1;32m   1022\u001b[0m \u001b[0;34m\u001b[0m\u001b[0m\n",
      "\u001b[0;31mHTTPError\u001b[0m: 404 Client Error: Not Found for url: https://translate.google.cn/_/TranslateWebserverUi/data/batchexecute",
      "\nDuring handling of the above exception, another exception occurred:\n",
      "\u001b[0;31mgoogle_new_transError\u001b[0m                     Traceback (most recent call last)",
      "\u001b[0;32m/var/folders/4z/k7wkc9t97453h4tqprj_1j3h0000gn/T/ipykernel_99164/3125108278.py\u001b[0m in \u001b[0;36m<module>\u001b[0;34m\u001b[0m\n\u001b[0;32m----> 1\u001b[0;31m \u001b[0mtranslator\u001b[0m\u001b[0;34m.\u001b[0m\u001b[0mtranslate\u001b[0m\u001b[0;34m(\u001b[0m\u001b[0;34m\"bonjour\"\u001b[0m\u001b[0;34m,\u001b[0m\u001b[0mlang_tgt\u001b[0m\u001b[0;34m=\u001b[0m\u001b[0;34m'en'\u001b[0m\u001b[0;34m)\u001b[0m\u001b[0;34m\u001b[0m\u001b[0;34m\u001b[0m\u001b[0m\n\u001b[0m",
      "\u001b[0;32m~/opt/anaconda3/lib/python3.8/site-packages/google_trans_new/google_trans_new.py\u001b[0m in \u001b[0;36mtranslate\u001b[0;34m(self, text, lang_tgt, lang_src, pronounce)\u001b[0m\n\u001b[1;32m    192\u001b[0m         \u001b[0;32mexcept\u001b[0m \u001b[0mrequests\u001b[0m\u001b[0;34m.\u001b[0m\u001b[0mexceptions\u001b[0m\u001b[0;34m.\u001b[0m\u001b[0mHTTPError\u001b[0m \u001b[0;32mas\u001b[0m \u001b[0me\u001b[0m\u001b[0;34m:\u001b[0m\u001b[0;34m\u001b[0m\u001b[0;34m\u001b[0m\u001b[0m\n\u001b[1;32m    193\u001b[0m             \u001b[0;31m# Request successful, bad response\u001b[0m\u001b[0;34m\u001b[0m\u001b[0;34m\u001b[0m\u001b[0;34m\u001b[0m\u001b[0m\n\u001b[0;32m--> 194\u001b[0;31m             \u001b[0;32mraise\u001b[0m \u001b[0mgoogle_new_transError\u001b[0m\u001b[0;34m(\u001b[0m\u001b[0mtts\u001b[0m\u001b[0;34m=\u001b[0m\u001b[0mself\u001b[0m\u001b[0;34m,\u001b[0m \u001b[0mresponse\u001b[0m\u001b[0;34m=\u001b[0m\u001b[0mr\u001b[0m\u001b[0;34m)\u001b[0m\u001b[0;34m\u001b[0m\u001b[0;34m\u001b[0m\u001b[0m\n\u001b[0m\u001b[1;32m    195\u001b[0m         \u001b[0;32mexcept\u001b[0m \u001b[0mrequests\u001b[0m\u001b[0;34m.\u001b[0m\u001b[0mexceptions\u001b[0m\u001b[0;34m.\u001b[0m\u001b[0mRequestException\u001b[0m \u001b[0;32mas\u001b[0m \u001b[0me\u001b[0m\u001b[0;34m:\u001b[0m\u001b[0;34m\u001b[0m\u001b[0;34m\u001b[0m\u001b[0m\n\u001b[1;32m    196\u001b[0m             \u001b[0;31m# Request failed\u001b[0m\u001b[0;34m\u001b[0m\u001b[0;34m\u001b[0m\u001b[0;34m\u001b[0m\u001b[0m\n",
      "\u001b[0;31mgoogle_new_transError\u001b[0m: 404 (Not Found) from TTS API. Probable cause: Unknown"
     ]
    }
   ],
   "source": [
    "translator.translate(\"bonjour\",lang_tgt='en') "
   ]
  },
  {
   "cell_type": "code",
   "execution_count": 81,
   "id": "e369aa36",
   "metadata": {},
   "outputs": [],
   "source": [
    "from googletrans import Translator, constants"
   ]
  },
  {
   "cell_type": "code",
   "execution_count": 82,
   "id": "63f3c03e",
   "metadata": {},
   "outputs": [],
   "source": [
    "translator = Translator()"
   ]
  },
  {
   "cell_type": "code",
   "execution_count": 84,
   "id": "3cfe8f19",
   "metadata": {},
   "outputs": [
    {
     "ename": "AttributeError",
     "evalue": "'NoneType' object has no attribute 'group'",
     "output_type": "error",
     "traceback": [
      "\u001b[0;31m---------------------------------------------------------------------------\u001b[0m",
      "\u001b[0;31mAttributeError\u001b[0m                            Traceback (most recent call last)",
      "\u001b[0;32m/var/folders/4z/k7wkc9t97453h4tqprj_1j3h0000gn/T/ipykernel_99164/660523743.py\u001b[0m in \u001b[0;36m<module>\u001b[0;34m\u001b[0m\n\u001b[0;32m----> 1\u001b[0;31m \u001b[0mtranslator\u001b[0m\u001b[0;34m.\u001b[0m\u001b[0mtranslate\u001b[0m\u001b[0;34m(\u001b[0m\u001b[0;34m'Hola Mundo'\u001b[0m\u001b[0;34m)\u001b[0m\u001b[0;34m\u001b[0m\u001b[0;34m\u001b[0m\u001b[0m\n\u001b[0m",
      "\u001b[0;32m~/opt/anaconda3/lib/python3.8/site-packages/googletrans/client.py\u001b[0m in \u001b[0;36mtranslate\u001b[0;34m(self, text, dest, src, **kwargs)\u001b[0m\n\u001b[1;32m    180\u001b[0m \u001b[0;34m\u001b[0m\u001b[0m\n\u001b[1;32m    181\u001b[0m         \u001b[0morigin\u001b[0m \u001b[0;34m=\u001b[0m \u001b[0mtext\u001b[0m\u001b[0;34m\u001b[0m\u001b[0;34m\u001b[0m\u001b[0m\n\u001b[0;32m--> 182\u001b[0;31m         \u001b[0mdata\u001b[0m \u001b[0;34m=\u001b[0m \u001b[0mself\u001b[0m\u001b[0;34m.\u001b[0m\u001b[0m_translate\u001b[0m\u001b[0;34m(\u001b[0m\u001b[0mtext\u001b[0m\u001b[0;34m,\u001b[0m \u001b[0mdest\u001b[0m\u001b[0;34m,\u001b[0m \u001b[0msrc\u001b[0m\u001b[0;34m,\u001b[0m \u001b[0mkwargs\u001b[0m\u001b[0;34m)\u001b[0m\u001b[0;34m\u001b[0m\u001b[0;34m\u001b[0m\u001b[0m\n\u001b[0m\u001b[1;32m    183\u001b[0m \u001b[0;34m\u001b[0m\u001b[0m\n\u001b[1;32m    184\u001b[0m         \u001b[0;31m# this code will be updated when the format is changed.\u001b[0m\u001b[0;34m\u001b[0m\u001b[0;34m\u001b[0m\u001b[0;34m\u001b[0m\u001b[0m\n",
      "\u001b[0;32m~/opt/anaconda3/lib/python3.8/site-packages/googletrans/client.py\u001b[0m in \u001b[0;36m_translate\u001b[0;34m(self, text, dest, src, override)\u001b[0m\n\u001b[1;32m     76\u001b[0m \u001b[0;34m\u001b[0m\u001b[0m\n\u001b[1;32m     77\u001b[0m     \u001b[0;32mdef\u001b[0m \u001b[0m_translate\u001b[0m\u001b[0;34m(\u001b[0m\u001b[0mself\u001b[0m\u001b[0;34m,\u001b[0m \u001b[0mtext\u001b[0m\u001b[0;34m,\u001b[0m \u001b[0mdest\u001b[0m\u001b[0;34m,\u001b[0m \u001b[0msrc\u001b[0m\u001b[0;34m,\u001b[0m \u001b[0moverride\u001b[0m\u001b[0;34m)\u001b[0m\u001b[0;34m:\u001b[0m\u001b[0;34m\u001b[0m\u001b[0;34m\u001b[0m\u001b[0m\n\u001b[0;32m---> 78\u001b[0;31m         \u001b[0mtoken\u001b[0m \u001b[0;34m=\u001b[0m \u001b[0mself\u001b[0m\u001b[0;34m.\u001b[0m\u001b[0mtoken_acquirer\u001b[0m\u001b[0;34m.\u001b[0m\u001b[0mdo\u001b[0m\u001b[0;34m(\u001b[0m\u001b[0mtext\u001b[0m\u001b[0;34m)\u001b[0m\u001b[0;34m\u001b[0m\u001b[0;34m\u001b[0m\u001b[0m\n\u001b[0m\u001b[1;32m     79\u001b[0m         params = utils.build_params(query=text, src=src, dest=dest,\n\u001b[1;32m     80\u001b[0m                                     token=token, override=override)\n",
      "\u001b[0;32m~/opt/anaconda3/lib/python3.8/site-packages/googletrans/gtoken.py\u001b[0m in \u001b[0;36mdo\u001b[0;34m(self, text)\u001b[0m\n\u001b[1;32m    192\u001b[0m \u001b[0;34m\u001b[0m\u001b[0m\n\u001b[1;32m    193\u001b[0m     \u001b[0;32mdef\u001b[0m \u001b[0mdo\u001b[0m\u001b[0;34m(\u001b[0m\u001b[0mself\u001b[0m\u001b[0;34m,\u001b[0m \u001b[0mtext\u001b[0m\u001b[0;34m)\u001b[0m\u001b[0;34m:\u001b[0m\u001b[0;34m\u001b[0m\u001b[0;34m\u001b[0m\u001b[0m\n\u001b[0;32m--> 194\u001b[0;31m         \u001b[0mself\u001b[0m\u001b[0;34m.\u001b[0m\u001b[0m_update\u001b[0m\u001b[0;34m(\u001b[0m\u001b[0;34m)\u001b[0m\u001b[0;34m\u001b[0m\u001b[0;34m\u001b[0m\u001b[0m\n\u001b[0m\u001b[1;32m    195\u001b[0m         \u001b[0mtk\u001b[0m \u001b[0;34m=\u001b[0m \u001b[0mself\u001b[0m\u001b[0;34m.\u001b[0m\u001b[0macquire\u001b[0m\u001b[0;34m(\u001b[0m\u001b[0mtext\u001b[0m\u001b[0;34m)\u001b[0m\u001b[0;34m\u001b[0m\u001b[0;34m\u001b[0m\u001b[0m\n\u001b[1;32m    196\u001b[0m         \u001b[0;32mreturn\u001b[0m \u001b[0mtk\u001b[0m\u001b[0;34m\u001b[0m\u001b[0;34m\u001b[0m\u001b[0m\n",
      "\u001b[0;32m~/opt/anaconda3/lib/python3.8/site-packages/googletrans/gtoken.py\u001b[0m in \u001b[0;36m_update\u001b[0;34m(self)\u001b[0m\n\u001b[1;32m     60\u001b[0m \u001b[0;34m\u001b[0m\u001b[0m\n\u001b[1;32m     61\u001b[0m         \u001b[0;31m# this will be the same as python code after stripping out a reserved word 'var'\u001b[0m\u001b[0;34m\u001b[0m\u001b[0;34m\u001b[0m\u001b[0;34m\u001b[0m\u001b[0m\n\u001b[0;32m---> 62\u001b[0;31m         \u001b[0mcode\u001b[0m \u001b[0;34m=\u001b[0m \u001b[0mself\u001b[0m\u001b[0;34m.\u001b[0m\u001b[0mRE_TKK\u001b[0m\u001b[0;34m.\u001b[0m\u001b[0msearch\u001b[0m\u001b[0;34m(\u001b[0m\u001b[0mr\u001b[0m\u001b[0;34m.\u001b[0m\u001b[0mtext\u001b[0m\u001b[0;34m)\u001b[0m\u001b[0;34m.\u001b[0m\u001b[0mgroup\u001b[0m\u001b[0;34m(\u001b[0m\u001b[0;36m1\u001b[0m\u001b[0;34m)\u001b[0m\u001b[0;34m.\u001b[0m\u001b[0mreplace\u001b[0m\u001b[0;34m(\u001b[0m\u001b[0;34m'var '\u001b[0m\u001b[0;34m,\u001b[0m \u001b[0;34m''\u001b[0m\u001b[0;34m)\u001b[0m\u001b[0;34m\u001b[0m\u001b[0;34m\u001b[0m\u001b[0m\n\u001b[0m\u001b[1;32m     63\u001b[0m         \u001b[0;31m# unescape special ascii characters such like a \\x3d(=)\u001b[0m\u001b[0;34m\u001b[0m\u001b[0;34m\u001b[0m\u001b[0;34m\u001b[0m\u001b[0m\n\u001b[1;32m     64\u001b[0m         \u001b[0mcode\u001b[0m \u001b[0;34m=\u001b[0m \u001b[0mcode\u001b[0m\u001b[0;34m.\u001b[0m\u001b[0mencode\u001b[0m\u001b[0;34m(\u001b[0m\u001b[0;34m)\u001b[0m\u001b[0;34m.\u001b[0m\u001b[0mdecode\u001b[0m\u001b[0;34m(\u001b[0m\u001b[0;34m'unicode-escape'\u001b[0m\u001b[0;34m)\u001b[0m\u001b[0;34m\u001b[0m\u001b[0;34m\u001b[0m\u001b[0m\n",
      "\u001b[0;31mAttributeError\u001b[0m: 'NoneType' object has no attribute 'group'"
     ]
    }
   ],
   "source": [
    "translator.translate('Hola Mundo')"
   ]
  },
  {
   "cell_type": "code",
   "execution_count": 85,
   "id": "dbf50f6a",
   "metadata": {},
   "outputs": [],
   "source": [
    "from deep_translator import GoogleTranslator\n",
    "translated = GoogleTranslator(source='auto', target='de').translate(\"keep it up, you are awesome\")  # output -> Weiter so, du bist großartig"
   ]
  },
  {
   "cell_type": "code",
   "execution_count": null,
   "id": "11aa6aca",
   "metadata": {},
   "outputs": [],
   "source": [
    "def (text):\n",
    "    if te\n",
    "    return ''.join([i for i in text if not i.isdigit()]"
   ]
  },
  {
   "cell_type": "code",
   "execution_count": 89,
   "id": "d2fbc122",
   "metadata": {},
   "outputs": [],
   "source": [
    "dd = df_cen[\"text\"].apply(lambda x: ''.join([i for i in x if not i.isdigit()]))"
   ]
  },
  {
   "cell_type": "code",
   "execution_count": 113,
   "id": "6ad1d1ac",
   "metadata": {},
   "outputs": [
    {
     "data": {
      "text/plain": [
       "1      {'media': [{'id': 1365252409015033857, 'id_str': '1365252409015033857', 'indices': [36, 59], 'media_url': 'http://pbs.twimg.com/media/EvJZ1SQWYAEW5qu.jpg', 'media_url_https': 'https://pbs.twimg.com/media/EvJZ1SQWYAEW5qu.jpg', 'url': 'https://t.co/JirGPSMMGO', 'display_url': 'pic.twitter.com/JirGPSMMGO', 'expanded_url': 'https://twitter.com/hafizmirzaki/status/1365252415444946945/photo/1', 'type': 'photo', 'sizes': {'thumb': {'w': 150, 'h': 150, 'resize': 'crop'}, 'small': {'w': 680, 'h': 636...\n",
       "2                                                                                                                                                                                                                                                                                                                                                                                                                                                                                                                      NaN\n",
       "3                                                                                                                                                                                                                                                                                                                                                                                                                                                                                                                      NaN\n",
       "4                                                                                                                                                                                                                                                                                                                                                                                                                                                                                                                      NaN\n",
       "5                                                                                                                                                                                                                                                                                                                                                                                                                                                                                                                      NaN\n",
       "                                                                                                                                                                                                                                                              ...                                                                                                                                                                                                                                                         \n",
       "636                                                                                                                                                                                                                                                                                                                                                                                                                                                                                                                    NaN\n",
       "637                                                                                                                                                                                                                                                                                                                                                                                                                                                                                                                    NaN\n",
       "638                                                                                                                                                                                                                                                                                                                                                                                                                                                                                                                    NaN\n",
       "639                                                                                                                                                                                                                                                                                                                                                                                                                                                                                                                    NaN\n",
       "640    {'media': [{'id': 1361898951583039491, 'id_str': '1361898951583039491', 'indices': [61, 84], 'additional_media_info': {'monetizable': False}, 'media_url': 'http://pbs.twimg.com/ext_tw_video_thumb/1361898951583039491/pu/img/vgF6dxFs6R7nC1S5.jpg', 'media_url_https': 'https://pbs.twimg.com/ext_tw_video_thumb/1361898951583039491/pu/img/vgF6dxFs6R7nC1S5.jpg', 'url': 'https://t.co/Joj8i8vTAe', 'display_url': 'pic.twitter.com/Joj8i8vTAe', 'expanded_url': 'https://twitter.com/iKaranSharma99/status/1...\n",
       "Name: extended_entities, Length: 41727, dtype: object"
      ]
     },
     "execution_count": 113,
     "metadata": {},
     "output_type": "execute_result"
    }
   ],
   "source": [
    "df_cen['extended_entities']"
   ]
  },
  {
   "cell_type": "code",
   "execution_count": 96,
   "id": "40dd02f9",
   "metadata": {},
   "outputs": [
    {
     "data": {
      "text/plain": [
       "41727"
      ]
     },
     "execution_count": 96,
     "metadata": {},
     "output_type": "execute_result"
    }
   ],
   "source": [
    "dd.size"
   ]
  },
  {
   "cell_type": "code",
   "execution_count": 98,
   "id": "c1e9c0b4",
   "metadata": {},
   "outputs": [],
   "source": [
    "import swifter"
   ]
  },
  {
   "cell_type": "code",
   "execution_count": 115,
   "id": "7f71a86a",
   "metadata": {},
   "outputs": [],
   "source": [
    "aa = dd.head(12).apply(lambda x: GoogleTranslator(source='auto', target='en').translate(str(x)))"
   ]
  },
  {
   "cell_type": "code",
   "execution_count": 116,
   "id": "e3a4fb7c",
   "metadata": {},
   "outputs": [
    {
     "data": {
      "text/plain": [
       "1                                                                                                                                 #Balakot \\nPak Army is our pride ❤️👍 https://t.co/JirGPSMMGO\n",
       "2                                           RT @ZaidZamanHamid: Majority of people don't want to be guided.\\nWe have lakhs of members on our Facebook page. 300,000 on our Twitter page.\\nhis…\n",
       "3                                           RT @ZaidZamanHamid: Majority of people don't want to be guided.\\nWe have lakhs of members on our Facebook page. 300,000 on our Twitter page.\\nhis…\n",
       "4                              RT @SaniaNishtar: Syed Ibrahim belongs to tribal district Karam. By taking Ehsaas interest-free loan, he has expanded his vegetable business through which his…\n",
       "5     RT @mosa_abumarzook: At the dawn of this day a year ago, the Ibrahimi Mosque presented a group of martyrs, as they knelt in prostration.\\nThe #Memory_of_the_Haram_Massacre_will remain…\n",
       "6     RT @mosa_abumarzook: At the dawn of this day a year ago, the Ibrahimi Mosque presented a group of martyrs, as they knelt in prostration.\\nThe #Memory_of_the_Haram_Massacre_will remain…\n",
       "7                                                                                  RT @Saimhun:\\n Yahin so jata hun! Morning jb sab aayenge pehle pehle me kheilunga🤔🤔😁 https://t.co/PjHxburfB\n",
       "8                                                                                  RT @Saimhun:\\n Yahin so jata hun! Morning jb sab aayenge pehle pehle me kheilunga🤔🤔😁 https://t.co/PjHxburfB\n",
       "9                                                                  RT @iVeenaKhan: Say (O Prophet! To the people) If you love Allah then follow me, Allah will love you and for your sake you…\n",
       "10                                                                 RT @iVeenaKhan: Say (O Prophet! To the people) If you love Allah then follow me, Allah will love you and for your sake you…\n",
       "11                                                RT @Saj_PakPassion: Ben Dunk \"If you haven't seen Lahore, you haven't even been born. It was my first time in Lahore last year. The home fa…\n",
       "12                               RT @HTAustralia: #EstablishTheCaliphate\\n#ReturnTheKhilafah\\n#YenidenHilafet\\n#Khalifat_ku_qaim_karoo\\n#TurudisheniKhilafah\\n#EtablerKhilafah\\n#Stananovitel…\n",
       "Name: text, dtype: object"
      ]
     },
     "execution_count": 116,
     "metadata": {},
     "output_type": "execute_result"
    }
   ],
   "source": [
    "aa"
   ]
  },
  {
   "cell_type": "code",
   "execution_count": 31,
   "id": "1ee5351e",
   "metadata": {},
   "outputs": [],
   "source": [
    "aa = dd.apply(lambda x: cleaning_URLs(x))"
   ]
  },
  {
   "cell_type": "code",
   "execution_count": null,
   "id": "06bd0693",
   "metadata": {},
   "outputs": [],
   "source": [
    "def remove_hashtags(tweet):"
   ]
  },
  {
   "cell_type": "code",
   "execution_count": 64,
   "id": "dbbc7de2",
   "metadata": {},
   "outputs": [],
   "source": [
    "def clean_tweets(df_text):\n",
    "    clean_tweets = df_text.apply(lambda x: remove_URLs(x))\n",
    "    clean_tweets = clean_tweets.apply(lambda x: remove_hashtags(x))\n",
    "    clean_tweets = clean_tweets.apply(lambda x: remove_user_mentions(x))\n",
    "    clean_tweets = clean_tweets.apply(lambda x: remove_numbers(x))\n",
    "    clean_tweets = clean_tweets.apply(lambda x: remove_RT(x))\n",
    "    return clean_tweets\n",
    "    "
   ]
  },
  {
   "cell_type": "code",
   "execution_count": 65,
   "id": "6d75febb",
   "metadata": {},
   "outputs": [
    {
     "data": {
      "text/plain": [
       "1                                                                                                      \\nPak Army is our pride ❤️👍  \n",
       "2          لوگوں کی اکثریت ہدایت نہیں لینا چاہ رہی۔ \\nہمارے فیس بک پیج پر   لاکھ ممبر ہیں۔ ہمارے ٹویٹر پیج پر سوا تین لاکھ۔۔\\nاس کے…\n",
       "3          لوگوں کی اکثریت ہدایت نہیں لینا چاہ رہی۔ \\nہمارے فیس بک پیج پر   لاکھ ممبر ہیں۔ ہمارے ٹویٹر پیج پر سوا تین لاکھ۔۔\\nاس کے…\n",
       "4          سید ابراہیم کا تعلق قبائلی ضلع کرم سے ہے۔ احساس بلا سود قرضہ  لے کر انہوں  نے اپنا سبزی کا کاروبار بڑھایا ہے جس سے ان کی…\n",
       "5                                في مثل فجر هذا اليوم قبل   عامًا، قدّم المسجد الإبراهيمي ثلةً من الشهداء، وهم ركّع سجود. \\nستبقى  …\n",
       "6                                في مثل فجر هذا اليوم قبل   عامًا، قدّم المسجد الإبراهيمي ثلةً من الشهداء، وهم ركّع سجود. \\nستبقى  …\n",
       "7                         Mujhe aj bhi batting ki bari ni di😔\\n Yahin so jata hun! Subha jb sab ayenge pehle pehle me kheilunga🤔🤔😁  \n",
       "8                         Mujhe aj bhi batting ki bari ni di😔\\n Yahin so jata hun! Subha jb sab ayenge pehle pehle me kheilunga🤔🤔😁  \n",
       "9       (اے پیغمبرﷺ! لوگوں سے) کہہ دو کہ اگر تم اللہ سے محبت رکھتے ہو تو میری اتباع کرو، اللہ تم سے محبت کرے گا اور تمہاری خاطر تمہ…\n",
       "10      (اے پیغمبرﷺ! لوگوں سے) کہہ دو کہ اگر تم اللہ سے محبت رکھتے ہو تو میری اتباع کرو، اللہ تم سے محبت کرے گا اور تمہاری خاطر تمہ…\n",
       "Name: text, dtype: object"
      ]
     },
     "execution_count": 65,
     "metadata": {},
     "output_type": "execute_result"
    }
   ],
   "source": [
    "clean_tweets(df_cen[\"text\"]).head(10)"
   ]
  },
  {
   "cell_type": "code",
   "execution_count": 34,
   "id": "afcffc7b",
   "metadata": {},
   "outputs": [
    {
     "data": {
      "text/plain": [
       "1                                                                                        #Balakot \\nPak Army is our pride ❤️👍 https://t.co/JirGPSMMGO\n",
       "2      RT @ZaidZamanHamid: لوگوں کی اکثریت ہدایت نہیں لینا چاہ رہی۔ \\nہمارے فیس بک پیج پر 13 لاکھ ممبر ہیں۔ ہمارے ٹویٹر پیج پر سوا تین لاکھ۔۔\\nاس کے…\n",
       "3      RT @ZaidZamanHamid: لوگوں کی اکثریت ہدایت نہیں لینا چاہ رہی۔ \\nہمارے فیس بک پیج پر 13 لاکھ ممبر ہیں۔ ہمارے ٹویٹر پیج پر سوا تین لاکھ۔۔\\nاس کے…\n",
       "4         RT @SaniaNishtar: سید ابراہیم کا تعلق قبائلی ضلع کرم سے ہے۔ احساس بلا سود قرضہ  لے کر انہوں  نے اپنا سبزی کا کاروبار بڑھایا ہے جس سے ان کی…\n",
       "5       RT @mosa_abumarzook: في مثل فجر هذا اليوم قبل 27 عامًا، قدّم المسجد الإبراهيمي ثلةً من الشهداء، وهم ركّع سجود. \\nستبقى #ذكرى_مجزرة_الحرم_الإ…\n",
       "                                                                            ...                                                                      \n",
       "636      RT @ZaidZamanHamid: یہ کوئی افریقہ کا ملک نہیں امریکی ریاست ٹیکساس ہے۔۔ شدید سردی اور برف باری کی وجہ سے کئی دنوں سے بجلی غائب ہے۔۔۔ ٹیکساس…\n",
       "637     RT @ZaidZamanHamid: پاکستانی دیہات اور امریکہ کی ریاست ٹیکساس ایک برابر ہو گئے۔۔\\nٹیکساس میں اب لوگ لکڑیاں جمع کرکے کھانے پکا رہے ہیں۔۔ کڑوڑ…\n",
       "638     RT @ZaidZamanHamid: پاکستانی دیہات اور امریکہ کی ریاست ٹیکساس ایک برابر ہو گئے۔۔\\nٹیکساس میں اب لوگ لکڑیاں جمع کرکے کھانے پکا رہے ہیں۔۔ کڑوڑ…\n",
       "639    RT @HfzUsama: السلام علیکم\\nبسم الله الرحمن الرحيم\\n\\nسيده عائشہ رضی اللہ عنہا سے روایت ہے کہ نبی صلی اللہ علیہ وسلم نے فرمایا: شریف لوگوں کی…\n",
       "640                                                              मैं RSS के देशहित के हर कार्य से जुड़ा हूं - मिथुन चक्रवर्ती https://t.co/Joj8i8vTAe\n",
       "Name: text, Length: 41727, dtype: object"
      ]
     },
     "execution_count": 34,
     "metadata": {},
     "output_type": "execute_result"
    }
   ],
   "source": [
    "df_cen[\"text\"]"
   ]
  },
  {
   "cell_type": "code",
   "execution_count": null,
   "id": "65a30447",
   "metadata": {},
   "outputs": [],
   "source": []
  },
  {
   "cell_type": "code",
   "execution_count": 36,
   "id": "acc7f34e",
   "metadata": {},
   "outputs": [
    {
     "data": {
      "text/plain": [
       "1                                                                                       #Balakot \\nPak Army is our pride ❤️👍 https://t.co/JirGPSMMGO\n",
       "2     RT @ZaidZamanHamid: لوگوں کی اکثریت ہدایت نہیں لینا چاہ رہی۔ \\nہمارے فیس بک پیج پر 13 لاکھ ممبر ہیں۔ ہمارے ٹویٹر پیج پر سوا تین لاکھ۔۔\\nاس کے…\n",
       "3     RT @ZaidZamanHamid: لوگوں کی اکثریت ہدایت نہیں لینا چاہ رہی۔ \\nہمارے فیس بک پیج پر 13 لاکھ ممبر ہیں۔ ہمارے ٹویٹر پیج پر سوا تین لاکھ۔۔\\nاس کے…\n",
       "4        RT @SaniaNishtar: سید ابراہیم کا تعلق قبائلی ضلع کرم سے ہے۔ احساس بلا سود قرضہ  لے کر انہوں  نے اپنا سبزی کا کاروبار بڑھایا ہے جس سے ان کی…\n",
       "5      RT @mosa_abumarzook: في مثل فجر هذا اليوم قبل 27 عامًا، قدّم المسجد الإبراهيمي ثلةً من الشهداء، وهم ركّع سجود. \\nستبقى #ذكرى_مجزرة_الحرم_الإ…\n",
       "6      RT @mosa_abumarzook: في مثل فجر هذا اليوم قبل 27 عامًا، قدّم المسجد الإبراهيمي ثلةً من الشهداء، وهم ركّع سجود. \\nستبقى #ذكرى_مجزرة_الحرم_الإ…\n",
       "7      RT @Saimhun: Mujhe aj bhi batting ki bari ni di😔\\n Yahin so jata hun! Subha jb sab ayenge pehle pehle me kheilunga🤔🤔😁 https://t.co/0PjHxburfB\n",
       "8      RT @Saimhun: Mujhe aj bhi batting ki bari ni di😔\\n Yahin so jata hun! Subha jb sab ayenge pehle pehle me kheilunga🤔🤔😁 https://t.co/0PjHxburfB\n",
       "9       RT @iVeenaKhan: (اے پیغمبرﷺ! لوگوں سے) کہہ دو کہ اگر تم اللہ سے محبت رکھتے ہو تو میری اتباع کرو، اللہ تم سے محبت کرے گا اور تمہاری خاطر تمہ…\n",
       "10      RT @iVeenaKhan: (اے پیغمبرﷺ! لوگوں سے) کہہ دو کہ اگر تم اللہ سے محبت رکھتے ہو تو میری اتباع کرو، اللہ تم سے محبت کرے گا اور تمہاری خاطر تمہ…\n",
       "Name: text, dtype: object"
      ]
     },
     "execution_count": 36,
     "metadata": {},
     "output_type": "execute_result"
    }
   ],
   "source": [
    "df_cen[\"text\"].head(10)"
   ]
  },
  {
   "cell_type": "code",
   "execution_count": null,
   "id": "17ac5e7d",
   "metadata": {},
   "outputs": [],
   "source": []
  }
 ],
 "metadata": {
  "kernelspec": {
   "display_name": "Python 3 (ipykernel)",
   "language": "python",
   "name": "python3"
  },
  "language_info": {
   "codemirror_mode": {
    "name": "ipython",
    "version": 3
   },
   "file_extension": ".py",
   "mimetype": "text/x-python",
   "name": "python",
   "nbconvert_exporter": "python",
   "pygments_lexer": "ipython3",
   "version": "3.8.13"
  }
 },
 "nbformat": 4,
 "nbformat_minor": 5
}
