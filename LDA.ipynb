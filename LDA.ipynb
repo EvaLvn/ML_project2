{
 "cells": [
  {
   "cell_type": "code",
   "execution_count": 2,
   "id": "b55a4b6b",
   "metadata": {},
   "outputs": [
    {
     "name": "stderr",
     "output_type": "stream",
     "text": [
      "[nltk_data] Downloading package stopwords to\n",
      "[nltk_data]     C:\\Users\\mathi\\AppData\\Roaming\\nltk_data...\n",
      "[nltk_data]   Package stopwords is already up-to-date!\n",
      "[nltk_data] Downloading package averaged_perceptron_tagger to\n",
      "[nltk_data]     C:\\Users\\mathi\\AppData\\Roaming\\nltk_data...\n",
      "[nltk_data]   Package averaged_perceptron_tagger is already up-to-\n",
      "[nltk_data]       date!\n",
      "[nltk_data] Downloading package omw-1.4 to\n",
      "[nltk_data]     C:\\Users\\mathi\\AppData\\Roaming\\nltk_data...\n",
      "[nltk_data]   Package omw-1.4 is already up-to-date!\n",
      "[nltk_data] Downloading package wordnet to\n",
      "[nltk_data]     C:\\Users\\mathi\\AppData\\Roaming\\nltk_data...\n",
      "[nltk_data]   Package wordnet is already up-to-date!\n",
      "[nltk_data] Downloading package punkt to\n",
      "[nltk_data]     C:\\Users\\mathi\\AppData\\Roaming\\nltk_data...\n",
      "[nltk_data]   Package punkt is already up-to-date!\n"
     ]
    }
   ],
   "source": [
    "import pandas as pd\n",
    "import numpy as np\n",
    "\n",
    "from helpers import *\n",
    "from pre_processing import *\n",
    "\n",
    "\n",
    "%load_ext autoreload\n",
    "%autoreload 2\n",
    "\n",
    "from sklearn.feature_extraction.text import TfidfVectorizer, CountVectorizer\n",
    "from sklearn.decomposition import NMF, LatentDirichletAllocation\n",
    "import gensim\n",
    "import pyLDAvis.gensim_models"
   ]
  },
  {
   "cell_type": "code",
   "execution_count": 3,
   "id": "5ddd89fd",
   "metadata": {},
   "outputs": [],
   "source": [
    "#Load the tweets \n",
    "df = pd.read_csv('data/to_be_clustered.csv.gz', compression=\"gzip\")\n",
    "country = 'France'\n",
    "clean_tweets = df[df.whcs == country].clean.copy()"
   ]
  },
  {
   "cell_type": "markdown",
   "id": "8f609f79",
   "metadata": {},
   "source": [
    "## Params "
   ]
  },
  {
   "cell_type": "code",
   "execution_count": 7,
   "id": "816f93b4",
   "metadata": {},
   "outputs": [],
   "source": [
    "params = {\n",
    "    'vec_repr': {\n",
    "        'max_df' : 0.95, \n",
    "        'min_df' : 1, \n",
    "                },\n",
    "    'LDA' : {\n",
    "        'nb_topics' : 9,\n",
    "        'passes': 10, \n",
    "        'random_state': 50\n",
    "            }\n",
    "     }\n",
    "params['LDA']['alpha'] = 1/params['LDA']['nb_topics'],\n",
    "params['LDA']['beta'] = 1/params['LDA']['nb_topics'],\n",
    "\n",
    "more_stop_words = ['u', 'amp', 'get', 'one', 'go']"
   ]
  },
  {
   "cell_type": "markdown",
   "id": "a6f3f8ba",
   "metadata": {},
   "source": [
    "### LDA with `gensim.LdaMulticore`"
   ]
  },
  {
   "cell_type": "code",
   "execution_count": 8,
   "id": "5d7154ae",
   "metadata": {},
   "outputs": [],
   "source": [
    "def add_bi_tri_grams(data_words):\n",
    "    bigram = gensim.models.Phrases(data_words, min_count=3, threshold=1) # higher threshold fewer phrases.\n",
    "    trigram = gensim.models.Phrases(bigram[data_words], threshold=1)  \n",
    "    bigram_mod = gensim.models.phrases.Phraser(bigram)\n",
    "    trigram_mod = gensim.models.phrases.Phraser(trigram)\n",
    "    data_bi_tri = [bigram_mod[doc] for doc in data_words]\n",
    "    data_bi_tri = [trigram_mod[bigram_mod[doc]] for doc in data_words]\n",
    "    return data_bi_tri\n",
    "def show_topics(model, nb_word_per_model = 8):\n",
    "    for topic in model.show_topics(num_words=nb_word_per_model):\n",
    "        print(topic)\n",
    "\n",
    "def tune_params(params,corpus,nb_topics = [params['LDA']['nb_topics']], alphas = [params['LDA']['alpha']], betas = [params['LDA']['beta']]):\n",
    "    base_beta = params['LDA']['beta']\n",
    "    base_alpha = params['LDA']['alpha']\n",
    "    base_k = params['LDA']['nb_topics']\n",
    "    for k in nb_topics:\n",
    "        params['LDA']['nb_topics'] = k\n",
    "        for alpha in alphas :\n",
    "            params['LDA']['alpha'] = alpha\n",
    "            for beta in betas:\n",
    "                params['LDA']['beta'] = beta\n",
    "                model = get_model(params,corpus)\n",
    "                print(\"alpha = %3.4f, beta = %3.4f, nb_topics = %d\"%(alpha, beta, k))\n",
    "                show_topics(model)\n",
    "                print()\n",
    "    params['LDA']['beta'] = base_beta\n",
    "    params['LDA']['alpha'] = base_alpha\n",
    "    params['LDA']['nb_topics'] = base_k\n",
    "    \n",
    "def get_model(params, corpus):\n",
    "    return LdaMulticore(corpus=corpus, num_topics=params['LDA']['nb_topics'], alpha = params['LDA']['alpha'], eta = params['LDA']['beta'],\n",
    "                        id2word=dictionary, workers=6, passes=params2['passes'], random_state=params2['random_state'])"
   ]
  },
  {
   "cell_type": "markdown",
   "id": "9b66aaf3",
   "metadata": {},
   "source": [
    "## Construct the models"
   ]
  },
  {
   "cell_type": "code",
   "execution_count": 10,
   "id": "3ed80fd0",
   "metadata": {},
   "outputs": [],
   "source": [
    "# models\n",
    "from gensim.models import LdaMulticore\n",
    "from gensim.corpora import Dictionary\n",
    "\n",
    "data_words = clean_tweets.apply(lambda x : remove_stop_words(str(x), more_stop_words).split(' ')).tolist()\n",
    "data_words = add_bi_tri_grams(data_words)\n",
    "dictionary = Dictionary(data_words)\n",
    "dictionary.filter_extremes(no_below=params['vec_repr']['min_df'], no_above=params['vec_repr']['min_df'])\n",
    "corpus = [dictionary.doc2bow(doc) for doc in data_words]"
   ]
  },
  {
   "cell_type": "markdown",
   "id": "dea55763",
   "metadata": {},
   "source": [
    "## Find best parameters for alpha, betas and number of topics\n",
    "### For the alphas \n",
    "The alpha parameter represents the document-topic relation. If alpha is big, every documents will have a lot of topics whereas if it is small each documents would be assigned to only one topic.\n",
    "\n",
    "In our case, because the documents which are tweets are small, we will make alpha small, so that each tweet is assign to one or two topics at most.\n",
    "\n",
    "Otherwise we can see that when alpha grows, we have in one topics both communism and black people which we would prefer not to have and have differenciating categories.\n",
    "\n",
    "### For the betas\n",
    "The beta parameter repesents the topics-word relation. If beta is big, all the topics will have the same distribution over word whereas when it is small the distibution are different and more words in the corpus are taken into account. \n",
    "\n",
    "For our purpose, because we want to explain the whole data and not only the main topic we have to set beta low i.e. < 0.1\n",
    "\n",
    "### For the number of topics \n",
    "From the exploratory data analysis, we already saw that there were multiple topics like racist, antisemtism, american elections, covid"
   ]
  },
  {
   "cell_type": "code",
   "execution_count": 84,
   "id": "8ff08038",
   "metadata": {},
   "outputs": [
    {
     "name": "stdout",
     "output_type": "stream",
     "text": [
      "alpha = 0.0001, beta = 0.0001\n",
      "(0, '0.010*\"white\" + 0.010*\"account\" + 0.009*\"play\" + 0.008*\"know\" + 0.007*\"today\" + 0.006*\"yet\" + 0.006*\"follower\" + 0.006*\"allow\"')\n",
      "(1, '0.012*\"stop\" + 0.009*\"white\" + 0.008*\"muslim\" + 0.007*\"never\" + 0.006*\"like\" + 0.006*\"racist\" + 0.006*\"must\" + 0.005*\"video\"')\n",
      "(2, '0.012*\"black\" + 0.011*\"like\" + 0.009*\"let\" + 0.007*\"communist\" + 0.007*\"try\" + 0.007*\"trump\" + 0.006*\"want\" + 0.006*\"never\"')\n",
      "(3, '0.012*\"america\" + 0.008*\"time\" + 0.007*\"attack\" + 0.007*\"country\" + 0.006*\"left\" + 0.006*\"power\" + 0.006*\"write\" + 0.006*\"state\"')\n",
      "(4, '0.015*\"say\" + 0.009*\"call\" + 0.008*\"world\" + 0.008*\"live\" + 0.008*\"german\" + 0.008*\"covid\" + 0.008*\"christian\" + 0.008*\"sign\"')\n",
      "(5, '0.032*\"white\" + 0.012*\"like\" + 0.007*\"muslim\" + 0.006*\"via\" + 0.006*\"woman\" + 0.006*\"jew\" + 0.006*\"make\" + 0.005*\"arrest\"')\n",
      "(6, '0.015*\"many\" + 0.013*\"white\" + 0.012*\"know\" + 0.011*\"trump\" + 0.008*\"mr\" + 0.007*\"take\" + 0.006*\"end\" + 0.006*\"time\"')\n",
      "(7, '0.010*\"keep\" + 0.008*\"really\" + 0.008*\"darker\" + 0.008*\"racist\" + 0.007*\"call\" + 0.007*\"play\" + 0.007*\"two\" + 0.007*\"great_reset\"')\n",
      "(8, '0.009*\"woman\" + 0.008*\"know\" + 0.008*\"black\" + 0.008*\"year\" + 0.007*\"white\" + 0.006*\"always\" + 0.006*\"biden\" + 0.006*\"twitter\"')\n",
      "\n",
      "alpha = 0.0001, beta = 0.0010\n",
      "(0, '0.010*\"white\" + 0.010*\"account\" + 0.009*\"play\" + 0.008*\"know\" + 0.007*\"today\" + 0.006*\"yet\" + 0.006*\"follower\" + 0.006*\"allow\"')\n",
      "(1, '0.012*\"stop\" + 0.009*\"white\" + 0.008*\"muslim\" + 0.007*\"never\" + 0.006*\"like\" + 0.006*\"racist\" + 0.006*\"must\" + 0.005*\"video\"')\n",
      "(2, '0.012*\"black\" + 0.011*\"like\" + 0.009*\"let\" + 0.007*\"communist\" + 0.007*\"try\" + 0.007*\"trump\" + 0.006*\"never\" + 0.006*\"want\"')\n",
      "(3, '0.012*\"america\" + 0.008*\"time\" + 0.007*\"attack\" + 0.007*\"country\" + 0.006*\"left\" + 0.006*\"power\" + 0.006*\"write\" + 0.006*\"state\"')\n",
      "(4, '0.015*\"say\" + 0.009*\"call\" + 0.008*\"world\" + 0.008*\"german\" + 0.008*\"live\" + 0.008*\"covid\" + 0.008*\"christian\" + 0.008*\"sign\"')\n",
      "(5, '0.032*\"white\" + 0.012*\"like\" + 0.007*\"muslim\" + 0.006*\"via\" + 0.006*\"woman\" + 0.006*\"jew\" + 0.006*\"make\" + 0.005*\"arrest\"')\n",
      "(6, '0.014*\"many\" + 0.013*\"white\" + 0.012*\"know\" + 0.011*\"trump\" + 0.008*\"mr\" + 0.007*\"take\" + 0.006*\"end\" + 0.006*\"want\"')\n",
      "(7, '0.010*\"keep\" + 0.008*\"really\" + 0.008*\"darker\" + 0.008*\"racist\" + 0.007*\"call\" + 0.007*\"play\" + 0.007*\"two\" + 0.007*\"great_reset\"')\n",
      "(8, '0.009*\"woman\" + 0.008*\"know\" + 0.008*\"black\" + 0.008*\"year\" + 0.007*\"white\" + 0.006*\"always\" + 0.006*\"biden\" + 0.006*\"twitter\"')\n",
      "\n",
      "alpha = 0.0001, beta = 0.0100\n",
      "(0, '0.010*\"white\" + 0.009*\"account\" + 0.009*\"play\" + 0.007*\"know\" + 0.006*\"today\" + 0.006*\"yet\" + 0.006*\"allow\" + 0.006*\"follower\"')\n",
      "(1, '0.011*\"stop\" + 0.008*\"white\" + 0.008*\"muslim\" + 0.007*\"never\" + 0.006*\"like\" + 0.006*\"racist\" + 0.006*\"must\" + 0.005*\"video\"')\n",
      "(2, '0.012*\"black\" + 0.011*\"like\" + 0.008*\"let\" + 0.007*\"communist\" + 0.007*\"try\" + 0.007*\"trump\" + 0.006*\"never\" + 0.006*\"want\"')\n",
      "(3, '0.012*\"america\" + 0.008*\"time\" + 0.007*\"attack\" + 0.007*\"country\" + 0.005*\"left\" + 0.005*\"power\" + 0.005*\"write\" + 0.005*\"state\"')\n",
      "(4, '0.014*\"say\" + 0.009*\"call\" + 0.007*\"german\" + 0.007*\"live\" + 0.007*\"world\" + 0.007*\"covid\" + 0.007*\"christian\" + 0.007*\"sign\"')\n",
      "(5, '0.031*\"white\" + 0.012*\"like\" + 0.007*\"muslim\" + 0.006*\"via\" + 0.006*\"woman\" + 0.006*\"jew\" + 0.006*\"make\" + 0.005*\"arrest\"')\n",
      "(6, '0.014*\"many\" + 0.013*\"white\" + 0.012*\"know\" + 0.010*\"trump\" + 0.008*\"mr\" + 0.007*\"take\" + 0.006*\"end\" + 0.006*\"time\"')\n",
      "(7, '0.009*\"keep\" + 0.008*\"really\" + 0.008*\"darker\" + 0.007*\"racist\" + 0.007*\"call\" + 0.007*\"play\" + 0.007*\"two\" + 0.006*\"great_reset\"')\n",
      "(8, '0.009*\"woman\" + 0.008*\"know\" + 0.008*\"black\" + 0.008*\"year\" + 0.007*\"white\" + 0.006*\"always\" + 0.006*\"biden\" + 0.006*\"twitter\"')\n",
      "\n",
      "alpha = 0.0001, beta = 0.1000\n",
      "(0, '0.008*\"white\" + 0.007*\"play\" + 0.006*\"account\" + 0.006*\"know\" + 0.005*\"today\" + 0.005*\"yet\" + 0.004*\"allow\" + 0.004*\"new\"')\n",
      "(1, '0.009*\"stop\" + 0.007*\"white\" + 0.006*\"muslim\" + 0.005*\"never\" + 0.005*\"video\" + 0.005*\"like\" + 0.004*\"racist\" + 0.004*\"must\"')\n",
      "(2, '0.009*\"black\" + 0.008*\"like\" + 0.006*\"let\" + 0.005*\"communist\" + 0.005*\"try\" + 0.005*\"trump\" + 0.005*\"never\" + 0.005*\"want\"')\n",
      "(3, '0.008*\"america\" + 0.006*\"time\" + 0.005*\"attack\" + 0.005*\"country\" + 0.004*\"power\" + 0.004*\"write\" + 0.004*\"state\" + 0.004*\"georgia\"')\n",
      "(4, '0.009*\"say\" + 0.005*\"live\" + 0.005*\"world\" + 0.005*\"covid\" + 0.005*\"christian\" + 0.005*\"sign\" + 0.005*\"expose\" + 0.005*\"german\"')\n",
      "(5, '0.025*\"white\" + 0.009*\"like\" + 0.006*\"want\" + 0.005*\"muslim\" + 0.005*\"call\" + 0.004*\"via\" + 0.004*\"jew\" + 0.004*\"woman\"')\n",
      "(6, '0.011*\"many\" + 0.010*\"white\" + 0.009*\"know\" + 0.007*\"trump\" + 0.006*\"mr\" + 0.005*\"end\" + 0.005*\"take\" + 0.005*\"time\"')\n",
      "(7, '0.007*\"keep\" + 0.006*\"really\" + 0.006*\"darker\" + 0.005*\"call\" + 0.005*\"play\" + 0.005*\"racist\" + 0.005*\"two\" + 0.004*\"even\"')\n",
      "(8, '0.007*\"woman\" + 0.006*\"know\" + 0.006*\"black\" + 0.006*\"year\" + 0.006*\"white\" + 0.005*\"always\" + 0.005*\"biden\" + 0.005*\"come\"')\n",
      "\n",
      "alpha = 0.0010, beta = 0.0001\n",
      "(0, '0.010*\"white\" + 0.010*\"account\" + 0.009*\"play\" + 0.008*\"know\" + 0.007*\"today\" + 0.006*\"yet\" + 0.006*\"follower\" + 0.006*\"allow\"')\n",
      "(1, '0.012*\"stop\" + 0.009*\"white\" + 0.008*\"muslim\" + 0.007*\"never\" + 0.006*\"like\" + 0.006*\"racist\" + 0.006*\"must\" + 0.005*\"video\"')\n",
      "(2, '0.012*\"black\" + 0.011*\"like\" + 0.009*\"let\" + 0.007*\"communist\" + 0.007*\"try\" + 0.007*\"trump\" + 0.006*\"want\" + 0.006*\"never\"')\n",
      "(3, '0.012*\"america\" + 0.008*\"time\" + 0.007*\"attack\" + 0.007*\"country\" + 0.006*\"left\" + 0.006*\"power\" + 0.006*\"write\" + 0.006*\"state\"')\n",
      "(4, '0.015*\"say\" + 0.009*\"call\" + 0.009*\"german\" + 0.008*\"live\" + 0.008*\"world\" + 0.008*\"covid\" + 0.008*\"christian\" + 0.008*\"sign\"')\n",
      "(5, '0.032*\"white\" + 0.012*\"like\" + 0.007*\"muslim\" + 0.006*\"via\" + 0.006*\"woman\" + 0.006*\"jew\" + 0.006*\"make\" + 0.005*\"arrest\"')\n",
      "(6, '0.015*\"many\" + 0.013*\"white\" + 0.012*\"know\" + 0.011*\"trump\" + 0.008*\"mr\" + 0.007*\"take\" + 0.006*\"end\" + 0.006*\"time\"')\n",
      "(7, '0.010*\"keep\" + 0.008*\"really\" + 0.008*\"darker\" + 0.008*\"racist\" + 0.007*\"call\" + 0.007*\"play\" + 0.007*\"two\" + 0.007*\"great_reset\"')\n",
      "(8, '0.009*\"woman\" + 0.008*\"know\" + 0.008*\"black\" + 0.008*\"year\" + 0.007*\"white\" + 0.006*\"always\" + 0.006*\"biden\" + 0.006*\"twitter\"')\n",
      "\n",
      "alpha = 0.0010, beta = 0.0010\n",
      "(0, '0.010*\"white\" + 0.010*\"account\" + 0.009*\"play\" + 0.008*\"know\" + 0.007*\"today\" + 0.006*\"yet\" + 0.006*\"follower\" + 0.006*\"allow\"')\n",
      "(1, '0.012*\"stop\" + 0.009*\"white\" + 0.008*\"muslim\" + 0.007*\"never\" + 0.006*\"like\" + 0.006*\"racist\" + 0.006*\"must\" + 0.005*\"video\"')\n",
      "(2, '0.012*\"black\" + 0.011*\"like\" + 0.009*\"let\" + 0.007*\"communist\" + 0.007*\"try\" + 0.007*\"trump\" + 0.006*\"want\" + 0.006*\"never\"')\n",
      "(3, '0.012*\"america\" + 0.008*\"time\" + 0.007*\"attack\" + 0.007*\"country\" + 0.006*\"left\" + 0.006*\"power\" + 0.006*\"write\" + 0.006*\"state\"')\n",
      "(4, '0.014*\"say\" + 0.009*\"call\" + 0.009*\"german\" + 0.008*\"live\" + 0.008*\"world\" + 0.008*\"covid\" + 0.008*\"christian\" + 0.008*\"sign\"')\n",
      "(5, '0.032*\"white\" + 0.012*\"like\" + 0.007*\"muslim\" + 0.006*\"via\" + 0.006*\"jew\" + 0.006*\"woman\" + 0.006*\"make\" + 0.005*\"arrest\"')\n",
      "(6, '0.014*\"many\" + 0.013*\"white\" + 0.012*\"know\" + 0.011*\"trump\" + 0.008*\"mr\" + 0.007*\"take\" + 0.006*\"end\" + 0.006*\"time\"')\n",
      "(7, '0.010*\"keep\" + 0.008*\"really\" + 0.008*\"darker\" + 0.008*\"racist\" + 0.007*\"call\" + 0.007*\"play\" + 0.007*\"two\" + 0.007*\"great_reset\"')\n",
      "(8, '0.009*\"woman\" + 0.008*\"know\" + 0.008*\"black\" + 0.008*\"year\" + 0.007*\"white\" + 0.006*\"always\" + 0.006*\"biden\" + 0.006*\"twitter\"')\n",
      "\n",
      "alpha = 0.0010, beta = 0.0100\n",
      "(0, '0.010*\"white\" + 0.009*\"account\" + 0.009*\"play\" + 0.008*\"know\" + 0.006*\"today\" + 0.006*\"yet\" + 0.006*\"follower\" + 0.006*\"allow\"')\n",
      "(1, '0.011*\"stop\" + 0.008*\"white\" + 0.008*\"muslim\" + 0.007*\"never\" + 0.006*\"like\" + 0.006*\"racist\" + 0.006*\"must\" + 0.005*\"video\"')\n",
      "(2, '0.012*\"black\" + 0.011*\"like\" + 0.008*\"let\" + 0.007*\"communist\" + 0.007*\"try\" + 0.007*\"trump\" + 0.006*\"never\" + 0.006*\"want\"')\n",
      "(3, '0.012*\"america\" + 0.008*\"time\" + 0.007*\"attack\" + 0.007*\"country\" + 0.005*\"left\" + 0.005*\"write\" + 0.005*\"power\" + 0.005*\"state\"')\n",
      "(4, '0.014*\"say\" + 0.009*\"call\" + 0.008*\"german\" + 0.007*\"live\" + 0.007*\"world\" + 0.007*\"covid\" + 0.007*\"christian\" + 0.007*\"sign\"')\n",
      "(5, '0.031*\"white\" + 0.012*\"like\" + 0.007*\"muslim\" + 0.006*\"via\" + 0.006*\"woman\" + 0.006*\"jew\" + 0.006*\"make\" + 0.005*\"arrest\"')\n",
      "(6, '0.014*\"many\" + 0.013*\"white\" + 0.012*\"know\" + 0.010*\"trump\" + 0.008*\"mr\" + 0.007*\"take\" + 0.006*\"end\" + 0.006*\"time\"')\n",
      "(7, '0.009*\"keep\" + 0.008*\"really\" + 0.008*\"darker\" + 0.007*\"racist\" + 0.007*\"call\" + 0.007*\"play\" + 0.007*\"two\" + 0.006*\"great_reset\"')\n",
      "(8, '0.009*\"woman\" + 0.008*\"know\" + 0.008*\"black\" + 0.008*\"year\" + 0.007*\"white\" + 0.006*\"always\" + 0.006*\"biden\" + 0.006*\"twitter\"')\n",
      "\n"
     ]
    },
    {
     "name": "stdout",
     "output_type": "stream",
     "text": [
      "alpha = 0.0010, beta = 0.1000\n",
      "(0, '0.008*\"white\" + 0.007*\"play\" + 0.006*\"account\" + 0.006*\"know\" + 0.005*\"today\" + 0.005*\"yet\" + 0.004*\"allow\" + 0.004*\"new\"')\n",
      "(1, '0.009*\"stop\" + 0.007*\"white\" + 0.006*\"muslim\" + 0.005*\"never\" + 0.005*\"video\" + 0.005*\"like\" + 0.004*\"racist\" + 0.004*\"must\"')\n",
      "(2, '0.009*\"black\" + 0.008*\"like\" + 0.006*\"let\" + 0.005*\"communist\" + 0.005*\"try\" + 0.005*\"trump\" + 0.005*\"never\" + 0.005*\"want\"')\n",
      "(3, '0.008*\"america\" + 0.006*\"time\" + 0.005*\"attack\" + 0.005*\"country\" + 0.004*\"left\" + 0.004*\"write\" + 0.004*\"power\" + 0.004*\"state\"')\n",
      "(4, '0.009*\"say\" + 0.005*\"live\" + 0.005*\"world\" + 0.005*\"covid\" + 0.005*\"christian\" + 0.005*\"sign\" + 0.005*\"expose\" + 0.005*\"german\"')\n",
      "(5, '0.025*\"white\" + 0.009*\"like\" + 0.006*\"want\" + 0.005*\"muslim\" + 0.005*\"call\" + 0.004*\"via\" + 0.004*\"jew\" + 0.004*\"woman\"')\n",
      "(6, '0.011*\"many\" + 0.010*\"white\" + 0.009*\"know\" + 0.007*\"trump\" + 0.006*\"mr\" + 0.005*\"take\" + 0.005*\"end\" + 0.005*\"time\"')\n",
      "(7, '0.007*\"keep\" + 0.006*\"really\" + 0.006*\"darker\" + 0.005*\"call\" + 0.005*\"play\" + 0.005*\"racist\" + 0.005*\"two\" + 0.004*\"even\"')\n",
      "(8, '0.007*\"woman\" + 0.006*\"know\" + 0.006*\"black\" + 0.006*\"year\" + 0.006*\"white\" + 0.005*\"always\" + 0.005*\"biden\" + 0.005*\"come\"')\n",
      "\n",
      "alpha = 0.0100, beta = 0.0001\n",
      "(0, '0.010*\"white\" + 0.009*\"play\" + 0.008*\"account\" + 0.008*\"know\" + 0.007*\"today\" + 0.007*\"yet\" + 0.006*\"allow\" + 0.006*\"follower\"')\n",
      "(1, '0.012*\"stop\" + 0.009*\"white\" + 0.008*\"muslim\" + 0.007*\"never\" + 0.006*\"like\" + 0.006*\"racist\" + 0.006*\"must\" + 0.005*\"video\"')\n",
      "(2, '0.012*\"black\" + 0.011*\"like\" + 0.008*\"let\" + 0.008*\"try\" + 0.007*\"communist\" + 0.007*\"trump\" + 0.006*\"never\" + 0.006*\"want\"')\n",
      "(3, '0.012*\"america\" + 0.009*\"attack\" + 0.008*\"time\" + 0.007*\"country\" + 0.007*\"left\" + 0.005*\"state\" + 0.005*\"write\" + 0.005*\"georgia\"')\n",
      "(4, '0.012*\"say\" + 0.010*\"world\" + 0.010*\"german\" + 0.009*\"call\" + 0.009*\"live\" + 0.008*\"covid\" + 0.008*\"christian\" + 0.007*\"germany\"')\n",
      "(5, '0.031*\"white\" + 0.012*\"like\" + 0.007*\"muslim\" + 0.006*\"via\" + 0.006*\"jew\" + 0.006*\"woman\" + 0.006*\"make\" + 0.005*\"arrest\"')\n",
      "(6, '0.014*\"many\" + 0.013*\"white\" + 0.013*\"know\" + 0.011*\"trump\" + 0.008*\"mr\" + 0.007*\"take\" + 0.006*\"end\" + 0.006*\"time\"')\n",
      "(7, '0.010*\"keep\" + 0.008*\"really\" + 0.008*\"darker\" + 0.008*\"racist\" + 0.007*\"great_reset\" + 0.007*\"call\" + 0.007*\"play\" + 0.007*\"two\"')\n",
      "(8, '0.009*\"woman\" + 0.008*\"know\" + 0.008*\"black\" + 0.008*\"year\" + 0.007*\"white\" + 0.006*\"always\" + 0.006*\"biden\" + 0.006*\"every\"')\n",
      "\n",
      "alpha = 0.0100, beta = 0.0010\n",
      "(0, '0.010*\"white\" + 0.009*\"play\" + 0.008*\"know\" + 0.008*\"account\" + 0.007*\"today\" + 0.006*\"yet\" + 0.006*\"allow\" + 0.006*\"follower\"')\n",
      "(1, '0.012*\"stop\" + 0.009*\"white\" + 0.008*\"muslim\" + 0.007*\"never\" + 0.006*\"like\" + 0.006*\"racist\" + 0.006*\"must\" + 0.005*\"video\"')\n",
      "(2, '0.012*\"black\" + 0.011*\"like\" + 0.008*\"let\" + 0.008*\"try\" + 0.007*\"communist\" + 0.007*\"trump\" + 0.006*\"never\" + 0.006*\"want\"')\n",
      "(3, '0.012*\"america\" + 0.009*\"attack\" + 0.008*\"time\" + 0.007*\"country\" + 0.007*\"left\" + 0.005*\"state\" + 0.005*\"write\" + 0.005*\"georgia\"')\n",
      "(4, '0.012*\"say\" + 0.010*\"world\" + 0.010*\"german\" + 0.009*\"call\" + 0.009*\"live\" + 0.008*\"covid\" + 0.008*\"christian\" + 0.007*\"germany\"')\n",
      "(5, '0.031*\"white\" + 0.012*\"like\" + 0.007*\"muslim\" + 0.006*\"via\" + 0.006*\"woman\" + 0.006*\"jew\" + 0.006*\"make\" + 0.005*\"arrest\"')\n",
      "(6, '0.014*\"many\" + 0.013*\"white\" + 0.012*\"know\" + 0.011*\"trump\" + 0.008*\"mr\" + 0.007*\"take\" + 0.006*\"end\" + 0.006*\"time\"')\n",
      "(7, '0.010*\"keep\" + 0.008*\"really\" + 0.008*\"darker\" + 0.008*\"racist\" + 0.007*\"call\" + 0.007*\"play\" + 0.007*\"two\" + 0.007*\"great_reset\"')\n",
      "(8, '0.009*\"woman\" + 0.008*\"know\" + 0.008*\"black\" + 0.008*\"year\" + 0.007*\"white\" + 0.006*\"always\" + 0.006*\"biden\" + 0.006*\"part\"')\n",
      "\n",
      "alpha = 0.0100, beta = 0.0100\n",
      "(0, '0.010*\"white\" + 0.009*\"play\" + 0.008*\"know\" + 0.007*\"account\" + 0.007*\"today\" + 0.006*\"yet\" + 0.006*\"allow\" + 0.006*\"follower\"')\n",
      "(1, '0.012*\"stop\" + 0.009*\"white\" + 0.008*\"muslim\" + 0.007*\"never\" + 0.006*\"like\" + 0.006*\"racist\" + 0.006*\"must\" + 0.005*\"video\"')\n",
      "(2, '0.012*\"black\" + 0.011*\"like\" + 0.008*\"let\" + 0.008*\"try\" + 0.007*\"communist\" + 0.007*\"trump\" + 0.006*\"want\" + 0.006*\"never\"')\n",
      "(3, '0.012*\"america\" + 0.008*\"attack\" + 0.008*\"time\" + 0.007*\"country\" + 0.006*\"left\" + 0.005*\"write\" + 0.005*\"state\" + 0.005*\"first\"')\n",
      "(4, '0.012*\"say\" + 0.010*\"german\" + 0.009*\"world\" + 0.009*\"call\" + 0.008*\"live\" + 0.007*\"covid\" + 0.007*\"christian\" + 0.007*\"germany\"')\n",
      "(5, '0.030*\"white\" + 0.012*\"like\" + 0.006*\"muslim\" + 0.006*\"via\" + 0.006*\"woman\" + 0.006*\"jew\" + 0.006*\"make\" + 0.005*\"arrest\"')\n",
      "(6, '0.014*\"many\" + 0.013*\"white\" + 0.012*\"know\" + 0.010*\"trump\" + 0.008*\"mr\" + 0.007*\"take\" + 0.006*\"end\" + 0.006*\"time\"')\n",
      "(7, '0.009*\"keep\" + 0.008*\"really\" + 0.008*\"darker\" + 0.007*\"racist\" + 0.007*\"call\" + 0.007*\"play\" + 0.007*\"two\" + 0.006*\"great_reset\"')\n",
      "(8, '0.009*\"woman\" + 0.008*\"know\" + 0.008*\"black\" + 0.008*\"year\" + 0.007*\"white\" + 0.006*\"always\" + 0.006*\"biden\" + 0.006*\"part\"')\n",
      "\n",
      "alpha = 0.0100, beta = 0.1000\n",
      "(0, '0.008*\"white\" + 0.007*\"play\" + 0.006*\"know\" + 0.005*\"today\" + 0.005*\"yet\" + 0.004*\"new\" + 0.004*\"attack\" + 0.004*\"america\"')\n",
      "(1, '0.009*\"stop\" + 0.007*\"white\" + 0.006*\"muslim\" + 0.005*\"video\" + 0.005*\"never\" + 0.004*\"like\" + 0.004*\"racist\" + 0.004*\"must\"')\n",
      "(2, '0.009*\"black\" + 0.008*\"like\" + 0.006*\"let\" + 0.005*\"communist\" + 0.005*\"try\" + 0.005*\"trump\" + 0.005*\"want\" + 0.005*\"never\"')\n",
      "(3, '0.008*\"america\" + 0.006*\"time\" + 0.005*\"attack\" + 0.005*\"country\" + 0.004*\"left\" + 0.004*\"state\" + 0.004*\"write\" + 0.004*\"first\"')\n",
      "(4, '0.009*\"say\" + 0.005*\"live\" + 0.005*\"world\" + 0.005*\"covid\" + 0.005*\"christian\" + 0.005*\"german\" + 0.004*\"call\" + 0.004*\"sign\"')\n",
      "(5, '0.025*\"white\" + 0.009*\"like\" + 0.006*\"want\" + 0.005*\"muslim\" + 0.005*\"call\" + 0.004*\"via\" + 0.004*\"jew\" + 0.004*\"woman\"')\n",
      "(6, '0.011*\"many\" + 0.010*\"white\" + 0.009*\"know\" + 0.007*\"trump\" + 0.006*\"mr\" + 0.005*\"end\" + 0.005*\"take\" + 0.005*\"time\"')\n",
      "(7, '0.007*\"keep\" + 0.006*\"really\" + 0.006*\"darker\" + 0.005*\"call\" + 0.005*\"play\" + 0.005*\"racist\" + 0.005*\"two\" + 0.004*\"even\"')\n",
      "(8, '0.007*\"woman\" + 0.006*\"know\" + 0.006*\"black\" + 0.006*\"year\" + 0.006*\"white\" + 0.005*\"always\" + 0.005*\"biden\" + 0.005*\"come\"')\n",
      "\n",
      "alpha = 0.1000, beta = 0.0001\n",
      "(0, '0.012*\"white\" + 0.008*\"account\" + 0.007*\"play\" + 0.007*\"know\" + 0.006*\"like\" + 0.006*\"america\" + 0.006*\"attack\" + 0.006*\"fuck\"')\n",
      "(1, '0.012*\"stop\" + 0.010*\"white\" + 0.008*\"video\" + 0.007*\"never\" + 0.007*\"muslim\" + 0.006*\"racist\" + 0.006*\"must\" + 0.006*\"like\"')\n",
      "(2, '0.010*\"let\" + 0.010*\"try\" + 0.009*\"black\" + 0.008*\"like\" + 0.008*\"trump\" + 0.008*\"communist\" + 0.007*\"want\" + 0.006*\"never\"')\n",
      "(3, '0.010*\"america\" + 0.008*\"country\" + 0.008*\"time\" + 0.007*\"power\" + 0.005*\"first\" + 0.005*\"break\" + 0.005*\"good\" + 0.005*\"left\"')\n",
      "(4, '0.015*\"say\" + 0.014*\"world\" + 0.012*\"live\" + 0.009*\"call\" + 0.008*\"german\" + 0.007*\"day\" + 0.007*\"christian\" + 0.007*\"germany\"')\n",
      "(5, '0.032*\"white\" + 0.014*\"like\" + 0.007*\"muslim\" + 0.007*\"jew\" + 0.007*\"want\" + 0.006*\"woman\" + 0.006*\"attack\" + 0.005*\"guy\"')\n",
      "(6, '0.017*\"white\" + 0.016*\"many\" + 0.013*\"know\" + 0.011*\"trump\" + 0.011*\"take\" + 0.009*\"mr\" + 0.007*\"time\" + 0.007*\"new\"')\n",
      "(7, '0.010*\"call\" + 0.010*\"keep\" + 0.010*\"really\" + 0.008*\"darker\" + 0.008*\"play\" + 0.008*\"black\" + 0.008*\"racist\" + 0.007*\"two\"')\n",
      "(8, '0.010*\"woman\" + 0.008*\"know\" + 0.008*\"year\" + 0.007*\"black\" + 0.007*\"part\" + 0.007*\"every\" + 0.006*\"twitter\" + 0.006*\"always\"')\n",
      "\n",
      "alpha = 0.1000, beta = 0.0010\n",
      "(0, '0.012*\"white\" + 0.008*\"account\" + 0.007*\"play\" + 0.007*\"know\" + 0.006*\"like\" + 0.006*\"america\" + 0.006*\"attack\" + 0.006*\"fuck\"')\n",
      "(1, '0.012*\"stop\" + 0.010*\"white\" + 0.008*\"video\" + 0.007*\"never\" + 0.007*\"muslim\" + 0.006*\"racist\" + 0.006*\"must\" + 0.006*\"like\"')\n",
      "(2, '0.010*\"let\" + 0.010*\"try\" + 0.009*\"black\" + 0.008*\"like\" + 0.008*\"trump\" + 0.008*\"communist\" + 0.007*\"want\" + 0.006*\"never\"')\n",
      "(3, '0.010*\"america\" + 0.008*\"country\" + 0.008*\"time\" + 0.007*\"power\" + 0.005*\"first\" + 0.005*\"break\" + 0.005*\"good\" + 0.005*\"left\"')\n",
      "(4, '0.015*\"say\" + 0.014*\"world\" + 0.012*\"live\" + 0.009*\"call\" + 0.008*\"german\" + 0.007*\"day\" + 0.007*\"christian\" + 0.007*\"germany\"')\n",
      "(5, '0.032*\"white\" + 0.014*\"like\" + 0.007*\"muslim\" + 0.007*\"jew\" + 0.007*\"want\" + 0.006*\"woman\" + 0.006*\"attack\" + 0.005*\"guy\"')\n",
      "(6, '0.017*\"white\" + 0.016*\"many\" + 0.013*\"know\" + 0.011*\"trump\" + 0.010*\"take\" + 0.009*\"mr\" + 0.007*\"time\" + 0.007*\"new\"')\n",
      "(7, '0.010*\"call\" + 0.010*\"keep\" + 0.010*\"really\" + 0.008*\"darker\" + 0.008*\"play\" + 0.008*\"black\" + 0.008*\"racist\" + 0.007*\"two\"')\n",
      "(8, '0.010*\"woman\" + 0.008*\"know\" + 0.008*\"year\" + 0.007*\"black\" + 0.007*\"part\" + 0.007*\"every\" + 0.006*\"twitter\" + 0.006*\"always\"')\n",
      "\n"
     ]
    },
    {
     "name": "stdout",
     "output_type": "stream",
     "text": [
      "alpha = 0.1000, beta = 0.0100\n",
      "(0, '0.012*\"white\" + 0.007*\"account\" + 0.007*\"play\" + 0.007*\"know\" + 0.006*\"like\" + 0.006*\"attack\" + 0.006*\"america\" + 0.006*\"fuck\"')\n",
      "(1, '0.011*\"stop\" + 0.009*\"white\" + 0.007*\"video\" + 0.006*\"never\" + 0.006*\"muslim\" + 0.006*\"racist\" + 0.006*\"must\" + 0.006*\"like\"')\n",
      "(2, '0.010*\"let\" + 0.010*\"try\" + 0.009*\"black\" + 0.007*\"like\" + 0.007*\"trump\" + 0.007*\"communist\" + 0.007*\"want\" + 0.006*\"never\"')\n",
      "(3, '0.009*\"america\" + 0.008*\"country\" + 0.008*\"time\" + 0.007*\"power\" + 0.005*\"first\" + 0.005*\"break\" + 0.005*\"good\" + 0.005*\"left\"')\n",
      "(4, '0.014*\"say\" + 0.013*\"world\" + 0.011*\"live\" + 0.008*\"call\" + 0.008*\"german\" + 0.007*\"day\" + 0.007*\"christian\" + 0.006*\"germany\"')\n",
      "(5, '0.031*\"white\" + 0.014*\"like\" + 0.007*\"muslim\" + 0.006*\"want\" + 0.006*\"jew\" + 0.005*\"woman\" + 0.005*\"attack\" + 0.005*\"guy\"')\n",
      "(6, '0.016*\"white\" + 0.015*\"many\" + 0.013*\"know\" + 0.010*\"trump\" + 0.010*\"take\" + 0.009*\"mr\" + 0.006*\"time\" + 0.006*\"new\"')\n",
      "(7, '0.009*\"call\" + 0.009*\"keep\" + 0.009*\"really\" + 0.008*\"darker\" + 0.008*\"play\" + 0.008*\"black\" + 0.008*\"racist\" + 0.007*\"two\"')\n",
      "(8, '0.010*\"woman\" + 0.008*\"know\" + 0.008*\"year\" + 0.007*\"black\" + 0.007*\"part\" + 0.006*\"every\" + 0.006*\"twitter\" + 0.005*\"always\"')\n",
      "\n",
      "alpha = 0.1000, beta = 0.1000\n",
      "(0, '0.009*\"white\" + 0.006*\"play\" + 0.006*\"know\" + 0.005*\"account\" + 0.005*\"like\" + 0.005*\"attack\" + 0.005*\"america\" + 0.005*\"fuck\"')\n",
      "(1, '0.009*\"stop\" + 0.008*\"white\" + 0.006*\"video\" + 0.005*\"never\" + 0.005*\"muslim\" + 0.005*\"racist\" + 0.004*\"must\" + 0.004*\"like\"')\n",
      "(2, '0.007*\"let\" + 0.007*\"try\" + 0.007*\"black\" + 0.006*\"like\" + 0.006*\"trump\" + 0.006*\"communist\" + 0.005*\"want\" + 0.005*\"never\"')\n",
      "(3, '0.007*\"america\" + 0.006*\"country\" + 0.006*\"time\" + 0.005*\"power\" + 0.004*\"left\" + 0.004*\"first\" + 0.004*\"break\" + 0.004*\"good\"')\n",
      "(4, '0.010*\"say\" + 0.008*\"live\" + 0.008*\"world\" + 0.006*\"german\" + 0.005*\"day\" + 0.005*\"christian\" + 0.005*\"call\" + 0.004*\"biden\"')\n",
      "(5, '0.025*\"white\" + 0.011*\"like\" + 0.007*\"want\" + 0.006*\"muslim\" + 0.005*\"jew\" + 0.004*\"woman\" + 0.004*\"attack\" + 0.004*\"guy\"')\n",
      "(6, '0.012*\"white\" + 0.011*\"many\" + 0.010*\"know\" + 0.008*\"trump\" + 0.007*\"mr\" + 0.007*\"take\" + 0.005*\"time\" + 0.005*\"new\"')\n",
      "(7, '0.007*\"call\" + 0.007*\"keep\" + 0.006*\"really\" + 0.006*\"darker\" + 0.006*\"play\" + 0.006*\"black\" + 0.005*\"racist\" + 0.005*\"two\"')\n",
      "(8, '0.007*\"woman\" + 0.006*\"know\" + 0.006*\"year\" + 0.006*\"black\" + 0.006*\"part\" + 0.005*\"twitter\" + 0.004*\"every\" + 0.004*\"always\"')\n",
      "\n"
     ]
    }
   ],
   "source": [
    "alphas = [0.0001, 0.001, 0.01, 0.1, 1, 10]   \n",
    "betas  = [0.0001, 0.001, 0.01, 0.1, 1, 10]\n",
    "alphas = [0.0001, 0.001, 0.01, 0.1]   \n",
    "betas  = [0.0001, 0.001, 0.01, 0.1]\n",
    "tune_params(params,corpus, alphas = alphas, betas = betas)"
   ]
  },
  {
   "cell_type": "code",
   "execution_count": 91,
   "id": "11b9bcfd",
   "metadata": {
    "scrolled": true
   },
   "outputs": [
    {
     "name": "stdout",
     "output_type": "stream",
     "text": [
      "alpha = 0.0100, beta = 0.0100, nb_topics = 3\n",
      "(0, '0.011*\"white\" + 0.008*\"know\" + 0.005*\"islamic\" + 0.004*\"black\" + 0.004*\"play\" + 0.004*\"america\" + 0.004*\"day\" + 0.004*\"biden\"')\n",
      "(1, '0.014*\"white\" + 0.007*\"woman\" + 0.005*\"say\" + 0.005*\"attack\" + 0.004*\"stop\" + 0.004*\"racist\" + 0.004*\"video\" + 0.004*\"like\"')\n",
      "(2, '0.009*\"black\" + 0.007*\"like\" + 0.007*\"america\" + 0.006*\"right\" + 0.006*\"trump\" + 0.006*\"many\" + 0.005*\"see\" + 0.005*\"say\"')\n",
      "\n",
      "alpha = 0.0100, beta = 0.0100, nb_topics = 5\n",
      "(0, '0.015*\"white\" + 0.011*\"know\" + 0.008*\"black\" + 0.007*\"today\" + 0.006*\"play\" + 0.006*\"new\" + 0.005*\"america\" + 0.005*\"twitter\"')\n",
      "(1, '0.012*\"white\" + 0.007*\"woman\" + 0.007*\"video\" + 0.007*\"like\" + 0.007*\"stop\" + 0.006*\"say\" + 0.005*\"racist\" + 0.005*\"never\"')\n",
      "(2, '0.008*\"trump\" + 0.008*\"black\" + 0.006*\"right\" + 0.006*\"like\" + 0.006*\"let\" + 0.005*\"year\" + 0.005*\"white\" + 0.005*\"president\"')\n",
      "(3, '0.010*\"many\" + 0.008*\"america\" + 0.006*\"biden\" + 0.006*\"white\" + 0.006*\"attack\" + 0.006*\"muslim\" + 0.005*\"time\" + 0.005*\"country\"')\n",
      "(4, '0.011*\"white\" + 0.008*\"world\" + 0.007*\"say\" + 0.007*\"call\" + 0.006*\"woman\" + 0.006*\"biden\" + 0.006*\"really\" + 0.006*\"anti\"')\n",
      "\n",
      "alpha = 0.0100, beta = 0.0100, nb_topics = 7\n",
      "(0, '0.010*\"attack\" + 0.010*\"know\" + 0.008*\"twitter\" + 0.007*\"play\" + 0.007*\"america\" + 0.006*\"white\" + 0.006*\"black\" + 0.006*\"new\"')\n",
      "(1, '0.008*\"white\" + 0.007*\"stop\" + 0.007*\"never\" + 0.006*\"video\" + 0.006*\"trump\" + 0.006*\"always\" + 0.006*\"literally\" + 0.005*\"woman\"')\n",
      "(2, '0.010*\"black\" + 0.009*\"let\" + 0.008*\"biden\" + 0.007*\"year\" + 0.007*\"trump\" + 0.006*\"need\" + 0.006*\"never\" + 0.006*\"government\"')\n",
      "(3, '0.008*\"right\" + 0.006*\"america\" + 0.006*\"darker\" + 0.006*\"keep\" + 0.005*\"many\" + 0.005*\"power\" + 0.005*\"government\" + 0.005*\"country\"')\n",
      "(4, '0.012*\"say\" + 0.010*\"day\" + 0.009*\"biden\" + 0.008*\"country\" + 0.007*\"call\" + 0.007*\"white\" + 0.007*\"think\" + 0.006*\"continue\"')\n",
      "(5, '0.025*\"white\" + 0.010*\"like\" + 0.008*\"black\" + 0.008*\"woman\" + 0.008*\"jew\" + 0.006*\"say\" + 0.006*\"muslim\" + 0.006*\"want\"')\n",
      "(6, '0.014*\"white\" + 0.011*\"know\" + 0.011*\"many\" + 0.009*\"trump\" + 0.009*\"time\" + 0.008*\"law\" + 0.007*\"mr\" + 0.007*\"every\"')\n",
      "\n",
      "alpha = 0.0100, beta = 0.0100, nb_topics = 9\n",
      "(0, '0.010*\"white\" + 0.009*\"play\" + 0.008*\"know\" + 0.007*\"account\" + 0.007*\"today\" + 0.006*\"yet\" + 0.006*\"allow\" + 0.006*\"follower\"')\n",
      "(1, '0.012*\"stop\" + 0.009*\"white\" + 0.008*\"muslim\" + 0.007*\"never\" + 0.006*\"like\" + 0.006*\"racist\" + 0.006*\"must\" + 0.005*\"video\"')\n",
      "(2, '0.012*\"black\" + 0.011*\"like\" + 0.008*\"let\" + 0.008*\"try\" + 0.007*\"communist\" + 0.007*\"trump\" + 0.006*\"want\" + 0.006*\"never\"')\n",
      "(3, '0.012*\"america\" + 0.008*\"attack\" + 0.008*\"time\" + 0.007*\"country\" + 0.006*\"left\" + 0.005*\"write\" + 0.005*\"state\" + 0.005*\"first\"')\n",
      "(4, '0.012*\"say\" + 0.010*\"german\" + 0.009*\"world\" + 0.009*\"call\" + 0.008*\"live\" + 0.007*\"covid\" + 0.007*\"christian\" + 0.007*\"germany\"')\n",
      "(5, '0.030*\"white\" + 0.012*\"like\" + 0.006*\"muslim\" + 0.006*\"via\" + 0.006*\"woman\" + 0.006*\"jew\" + 0.006*\"make\" + 0.005*\"arrest\"')\n",
      "(6, '0.014*\"many\" + 0.013*\"white\" + 0.012*\"know\" + 0.010*\"trump\" + 0.008*\"mr\" + 0.007*\"take\" + 0.006*\"end\" + 0.006*\"time\"')\n",
      "(7, '0.009*\"keep\" + 0.008*\"really\" + 0.008*\"darker\" + 0.007*\"racist\" + 0.007*\"call\" + 0.007*\"play\" + 0.007*\"two\" + 0.006*\"great_reset\"')\n",
      "(8, '0.009*\"woman\" + 0.008*\"know\" + 0.008*\"black\" + 0.008*\"year\" + 0.007*\"white\" + 0.006*\"always\" + 0.006*\"biden\" + 0.006*\"part\"')\n",
      "\n",
      "alpha = 0.0100, beta = 0.0100, nb_topics = 11\n",
      "(2, '0.014*\"trump\" + 0.010*\"black\" + 0.010*\"say\" + 0.009*\"last\" + 0.009*\"like\" + 0.007*\"well\" + 0.006*\"year\" + 0.006*\"twitter\"')\n",
      "(1, '0.008*\"video\" + 0.008*\"state\" + 0.008*\"country\" + 0.007*\"say\" + 0.007*\"diversity\" + 0.007*\"army\" + 0.007*\"trump\" + 0.006*\"take\"')\n",
      "(0, '0.008*\"every\" + 0.008*\"know\" + 0.007*\"america\" + 0.007*\"like\" + 0.007*\"warn\" + 0.007*\"time\" + 0.006*\"black\" + 0.006*\"attack\"')\n",
      "(7, '0.016*\"many\" + 0.013*\"call\" + 0.011*\"lie\" + 0.009*\"play\" + 0.009*\"see\" + 0.009*\"darker\" + 0.009*\"keep\" + 0.008*\"racist\"')\n",
      "(3, '0.011*\"white\" + 0.008*\"america\" + 0.007*\"power\" + 0.006*\"many\" + 0.006*\"community\" + 0.006*\"kill\" + 0.006*\"islamic\" + 0.005*\"country\"')\n",
      "(10, '0.018*\"white\" + 0.009*\"never\" + 0.006*\"say\" + 0.006*\"everything\" + 0.005*\"let\" + 0.005*\"violent\" + 0.005*\"america\" + 0.005*\"year\"')\n",
      "(8, '0.010*\"know\" + 0.009*\"start\" + 0.008*\"white\" + 0.007*\"woman\" + 0.007*\"biden\" + 0.006*\"part\" + 0.006*\"school\" + 0.006*\"government\"')\n",
      "(9, '0.011*\"want\" + 0.008*\"every\" + 0.008*\"come\" + 0.008*\"like\" + 0.008*\"anyone\" + 0.008*\"know\" + 0.008*\"even\" + 0.007*\"yes\"')\n",
      "(5, '0.031*\"white\" + 0.011*\"attack\" + 0.009*\"like\" + 0.008*\"want\" + 0.008*\"muslim\" + 0.007*\"world\" + 0.006*\"woman\" + 0.006*\"use\"')\n",
      "(6, '0.012*\"mr\" + 0.012*\"white\" + 0.011*\"know\" + 0.008*\"trump\" + 0.007*\"see\" + 0.007*\"refugee\" + 0.007*\"sharia\" + 0.007*\"let\"')\n",
      "\n"
     ]
    }
   ],
   "source": [
    "nb_topics = range(3,12,2)\n",
    "params['LDA']['beta'] = 0.001\n",
    "params['LDA']['alpha'] = 0.001\n",
    "tune_params(params,corpus, nb_topics=nb_topics)"
   ]
  },
  {
   "cell_type": "markdown",
   "id": "e132451d",
   "metadata": {},
   "source": [
    "### Topics "
   ]
  },
  {
   "cell_type": "code",
   "execution_count": 12,
   "id": "6dcf46dd",
   "metadata": {},
   "outputs": [
    {
     "ename": "NameError",
     "evalue": "name 'params2' is not defined",
     "output_type": "error",
     "traceback": [
      "\u001b[1;31m---------------------------------------------------------------------------\u001b[0m",
      "\u001b[1;31mNameError\u001b[0m                                 Traceback (most recent call last)",
      "\u001b[1;32m~\\AppData\\Local\\Temp/ipykernel_28552/2418738165.py\u001b[0m in \u001b[0;36m<module>\u001b[1;34m\u001b[0m\n\u001b[0;32m      2\u001b[0m \u001b[0mparams\u001b[0m\u001b[1;33m[\u001b[0m\u001b[1;34m'LDA'\u001b[0m\u001b[1;33m]\u001b[0m\u001b[1;33m[\u001b[0m\u001b[1;34m'alpha'\u001b[0m\u001b[1;33m]\u001b[0m \u001b[1;33m=\u001b[0m \u001b[1;36m0.001\u001b[0m\u001b[1;33m\u001b[0m\u001b[1;33m\u001b[0m\u001b[0m\n\u001b[0;32m      3\u001b[0m \u001b[0mparams\u001b[0m\u001b[1;33m[\u001b[0m\u001b[1;34m'LDA'\u001b[0m\u001b[1;33m]\u001b[0m\u001b[1;33m[\u001b[0m\u001b[1;34m'nb_topics'\u001b[0m\u001b[1;33m]\u001b[0m \u001b[1;33m=\u001b[0m \u001b[1;36m9\u001b[0m\u001b[1;33m\u001b[0m\u001b[1;33m\u001b[0m\u001b[0m\n\u001b[1;32m----> 4\u001b[1;33m \u001b[0mmodel\u001b[0m \u001b[1;33m=\u001b[0m \u001b[0mget_model\u001b[0m\u001b[1;33m(\u001b[0m\u001b[0mparams\u001b[0m\u001b[1;33m,\u001b[0m \u001b[0mcorpus\u001b[0m\u001b[1;33m)\u001b[0m\u001b[1;33m\u001b[0m\u001b[1;33m\u001b[0m\u001b[0m\n\u001b[0m\u001b[0;32m      5\u001b[0m \u001b[0mshow_topics\u001b[0m\u001b[1;33m(\u001b[0m\u001b[0mmodel\u001b[0m\u001b[1;33m)\u001b[0m\u001b[1;33m\u001b[0m\u001b[1;33m\u001b[0m\u001b[0m\n",
      "\u001b[1;32m~\\AppData\\Local\\Temp/ipykernel_28552/3862522424.py\u001b[0m in \u001b[0;36mget_model\u001b[1;34m(params, corpus)\u001b[0m\n\u001b[0;32m     31\u001b[0m \u001b[1;32mdef\u001b[0m \u001b[0mget_model\u001b[0m\u001b[1;33m(\u001b[0m\u001b[0mparams\u001b[0m\u001b[1;33m,\u001b[0m \u001b[0mcorpus\u001b[0m\u001b[1;33m)\u001b[0m\u001b[1;33m:\u001b[0m\u001b[1;33m\u001b[0m\u001b[1;33m\u001b[0m\u001b[0m\n\u001b[0;32m     32\u001b[0m     return LdaMulticore(corpus=corpus, num_topics=params['LDA']['nb_topics'], alpha = params['LDA']['alpha'], eta = params['LDA']['beta'],\n\u001b[1;32m---> 33\u001b[1;33m                         id2word=dictionary, workers=6, passes=params2['passes'], random_state=params2['random_state'])\n\u001b[0m",
      "\u001b[1;31mNameError\u001b[0m: name 'params2' is not defined"
     ]
    }
   ],
   "source": [
    "params['LDA']['beta'] = 0.001\n",
    "params['LDA']['alpha'] = 0.001\n",
    "params['LDA']['nb_topics'] = 9\n",
    "model = get_model(params, corpus)\n",
    "show_topics(model)"
   ]
  },
  {
   "cell_type": "code",
   "execution_count": 1,
   "id": "83e39d0a",
   "metadata": {},
   "outputs": [
    {
     "ename": "NameError",
     "evalue": "name 'pyLDAvis' is not defined",
     "output_type": "error",
     "traceback": [
      "\u001b[1;31m---------------------------------------------------------------------------\u001b[0m",
      "\u001b[1;31mNameError\u001b[0m                                 Traceback (most recent call last)",
      "\u001b[1;32m~\\AppData\\Local\\Temp/ipykernel_28552/3026102594.py\u001b[0m in \u001b[0;36m<module>\u001b[1;34m\u001b[0m\n\u001b[0;32m      1\u001b[0m \u001b[1;31m# plot topics\u001b[0m\u001b[1;33m\u001b[0m\u001b[1;33m\u001b[0m\u001b[0m\n\u001b[1;32m----> 2\u001b[1;33m \u001b[0mdata\u001b[0m \u001b[1;33m=\u001b[0m  \u001b[0mpyLDAvis\u001b[0m\u001b[1;33m.\u001b[0m\u001b[0mgensim_models\u001b[0m\u001b[1;33m.\u001b[0m\u001b[0mprepare\u001b[0m\u001b[1;33m(\u001b[0m\u001b[0mmodel\u001b[0m\u001b[1;33m,\u001b[0m \u001b[0mcorpus\u001b[0m\u001b[1;33m,\u001b[0m \u001b[0mdictionary\u001b[0m\u001b[1;33m)\u001b[0m\u001b[1;33m\u001b[0m\u001b[1;33m\u001b[0m\u001b[0m\n\u001b[0m\u001b[0;32m      3\u001b[0m \u001b[0mpyLDAvis\u001b[0m\u001b[1;33m.\u001b[0m\u001b[0mdisplay\u001b[0m\u001b[1;33m(\u001b[0m\u001b[0mdata\u001b[0m\u001b[1;33m)\u001b[0m\u001b[1;33m\u001b[0m\u001b[1;33m\u001b[0m\u001b[0m\n",
      "\u001b[1;31mNameError\u001b[0m: name 'pyLDAvis' is not defined"
     ]
    }
   ],
   "source": [
    "# plot topics\n",
    "data =  pyLDAvis.gensim_models.prepare(model, corpus, dictionary)\n",
    "pyLDAvis.display(data)"
   ]
  },
  {
   "cell_type": "markdown",
   "id": "6e267462",
   "metadata": {},
   "source": [
    "## Analysis "
   ]
  },
  {
   "cell_type": "code",
   "execution_count": null,
   "id": "1cc7f4c3",
   "metadata": {},
   "outputs": [],
   "source": []
  }
 ],
 "metadata": {
  "kernelspec": {
   "display_name": "Python 3 (ipykernel)",
   "language": "python",
   "name": "python3"
  },
  "language_info": {
   "codemirror_mode": {
    "name": "ipython",
    "version": 3
   },
   "file_extension": ".py",
   "mimetype": "text/x-python",
   "name": "python",
   "nbconvert_exporter": "python",
   "pygments_lexer": "ipython3",
   "version": "3.9.7"
  }
 },
 "nbformat": 4,
 "nbformat_minor": 5
}
