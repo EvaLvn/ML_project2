{
 "cells": [
  {
   "cell_type": "code",
   "execution_count": 2,
   "id": "841408ef",
   "metadata": {},
   "outputs": [
    {
     "name": "stderr",
     "output_type": "stream",
     "text": [
      "[nltk_data] Downloading package stopwords to\n",
      "[nltk_data]     C:\\Users\\mathi\\AppData\\Roaming\\nltk_data...\n",
      "[nltk_data]   Package stopwords is already up-to-date!\n",
      "[nltk_data] Downloading package averaged_perceptron_tagger to\n",
      "[nltk_data]     C:\\Users\\mathi\\AppData\\Roaming\\nltk_data...\n",
      "[nltk_data]   Package averaged_perceptron_tagger is already up-to-\n",
      "[nltk_data]       date!\n",
      "[nltk_data] Downloading package omw-1.4 to\n",
      "[nltk_data]     C:\\Users\\mathi\\AppData\\Roaming\\nltk_data...\n",
      "[nltk_data]   Package omw-1.4 is already up-to-date!\n",
      "[nltk_data] Downloading package wordnet to\n",
      "[nltk_data]     C:\\Users\\mathi\\AppData\\Roaming\\nltk_data...\n",
      "[nltk_data]   Package wordnet is already up-to-date!\n",
      "[nltk_data] Downloading package punkt to\n",
      "[nltk_data]     C:\\Users\\mathi\\AppData\\Roaming\\nltk_data...\n",
      "[nltk_data]   Package punkt is already up-to-date!\n"
     ]
    }
   ],
   "source": [
    "import pandas as pd\n",
    "from nltk.corpus import stopwords\n",
    "from sentence_transformers import SentenceTransformer\n",
    "\n",
    "from bertopic import BERTopic\n",
    "from sklearn.feature_extraction.text import CountVectorizer\n",
    "from hdbscan import HDBSCAN\n",
    "from umap import UMAP\n",
    "\n",
    "from pre_processing import *\n",
    "from helpers import *\n",
    "\n",
    "%load_ext autoreload\n",
    "%autoreload 2"
   ]
  },
  {
   "cell_type": "code",
   "execution_count": 33,
   "id": "73b464a7",
   "metadata": {},
   "outputs": [],
   "source": [
    "# Load data\n",
    "df = pd.read_csv('data/to_be_clustered.csv.gz', compression=\"gzip\")\n",
    "\n",
    "# array that can save the models\n",
    "saved_models = []"
   ]
  },
  {
   "cell_type": "markdown",
   "id": "7c2b7b73",
   "metadata": {},
   "source": [
    "## Chose the country"
   ]
  },
  {
   "cell_type": "code",
   "execution_count": 17,
   "id": "841d07a1",
   "metadata": {},
   "outputs": [],
   "source": [
    "country = 'France'"
   ]
  },
  {
   "cell_type": "markdown",
   "id": "0be33a93",
   "metadata": {},
   "source": [
    "## Set parameters"
   ]
  },
  {
   "cell_type": "code",
   "execution_count": 76,
   "id": "bca23a5a",
   "metadata": {},
   "outputs": [],
   "source": [
    "params = {\n",
    "    'UMAP' : {\n",
    "        'metric' : 'cosine', \n",
    "        'n_neighbors' : 15, \n",
    "        'n_components' : 20, \n",
    "        'min_dist' : 0.3, \n",
    "        'low_memory' : False,\n",
    "        'random_state': 8\n",
    "    },\n",
    "    'HDBSCAN': {\n",
    "        'min_cluster_size':20,\n",
    "        'min_samples': 1,\n",
    "        'cluster_selection_epsilon': 0.6,\n",
    "        'metric': 'euclidean',                      \n",
    "        'cluster_selection_method': 'eom',\n",
    "        'prediction_data': True}\n",
    "}"
   ]
  },
  {
   "cell_type": "markdown",
   "id": "5052636e",
   "metadata": {},
   "source": [
    "## Load Model"
   ]
  },
  {
   "cell_type": "code",
   "execution_count": 83,
   "id": "f4f39e16",
   "metadata": {},
   "outputs": [],
   "source": [
    "tweets = df[df.whcs == country].clean.to_list()\n",
    "embedding_model = SentenceTransformer(\"all-mpnet-base-v2\") #'digio/Twitter4SSE'\n",
    "s = list(stopwords.words('english')) + ['lol', 'true']\n",
    "vectorizer_model = CountVectorizer(stop_words=s)\n",
    "model = get_model(params)"
   ]
  },
  {
   "cell_type": "code",
   "execution_count": 84,
   "id": "a13b76ce",
   "metadata": {},
   "outputs": [
    {
     "data": {
      "application/vnd.jupyter.widget-view+json": {
       "model_id": "0d5804362dab47f99c772d3eafab9edd",
       "version_major": 2,
       "version_minor": 0
      },
      "text/plain": [
       "Batches:   0%|          | 0/29 [00:00<?, ?it/s]"
      ]
     },
     "metadata": {},
     "output_type": "display_data"
    },
    {
     "name": "stderr",
     "output_type": "stream",
     "text": [
      "2022-12-08 13:59:24,927 - BERTopic - Transformed documents to Embeddings\n",
      "2022-12-08 13:59:30,129 - BERTopic - Reduced dimensionality\n",
      "2022-12-08 13:59:30,221 - BERTopic - Clustered reduced embeddings\n"
     ]
    }
   ],
   "source": [
    "topics, probs = model.fit_transform(tweets)"
   ]
  },
  {
   "cell_type": "code",
   "execution_count": null,
   "id": "8cab8d2c",
   "metadata": {},
   "outputs": [],
   "source": [
    "topcis = ['white/black - racism', 'islam - terrorism', 'coronavirus - vaccination', \n",
    "          'american elections', 'India - Pakistan', 'jew - antisemtism', 'farright - anti communism'\n",
    "          'tweeter acccounts', 'fantasy sex play', 'Alain Soral', 'immigration']"
   ]
  },
  {
   "cell_type": "code",
   "execution_count": 85,
   "id": "3395e615",
   "metadata": {},
   "outputs": [
    {
     "data": {
      "application/vnd.plotly.v1+json": {
       "config": {
        "plotlyServerURL": "https://plot.ly"
       },
       "data": [
        {
         "coloraxis": "coloraxis",
         "hovertemplate": "x: %{x}<br>y: %{y}<br>Similarity Score: %{z}<extra></extra>",
         "name": "0",
         "type": "heatmap",
         "x": [
          "0_muslim_biden_migrant",
          "1_white_people_black",
          "2_nigga_lil_twitter",
          "3_trump_cpac_democrat",
          "4_power_communism_regime",
          "5_jew_anti_say",
          "6_woman_afrin_cry",
          "7_india_hindu_pakistan",
          "8_play_fantasy_sit",
          "9_soral_alain_answer"
         ],
         "xaxis": "x",
         "y": [
          "0_muslim_biden_migrant",
          "1_white_people_black",
          "2_nigga_lil_twitter",
          "3_trump_cpac_democrat",
          "4_power_communism_regime",
          "5_jew_anti_say",
          "6_woman_afrin_cry",
          "7_india_hindu_pakistan",
          "8_play_fantasy_sit",
          "9_soral_alain_answer"
         ],
         "yaxis": "y",
         "z": [
          [
           1.0000000000000009,
           0.6802402395847554,
           0.6520126473405743,
           0.7191057648751272,
           0.6985270985243736,
           0.704124447422582,
           0.6604114796076438,
           0.7099379481044232,
           0.550936800754684,
           0.6068288445025577
          ],
          [
           0.6802402395847554,
           1.0000000000000007,
           0.6684482956682914,
           0.6210190438561018,
           0.7120938113619615,
           0.6424728007372309,
           0.7279518173424491,
           0.645985768567601,
           0.660135827728376,
           0.47336581704719227
          ],
          [
           0.6520126473405743,
           0.6684482956682914,
           1.0000000000000002,
           0.6119778150422277,
           0.582184482702726,
           0.5729226509585043,
           0.7498603537228106,
           0.6525109733297786,
           0.4546682815274705,
           0.49893477953937476
          ],
          [
           0.7191057648751272,
           0.6210190438561018,
           0.6119778150422277,
           1.0000000000000004,
           0.6321644542548306,
           0.6025509480704806,
           0.6358343100470862,
           0.6950338467620496,
           0.5387020587879615,
           0.5889926940987849
          ],
          [
           0.6985270985243736,
           0.7120938113619615,
           0.582184482702726,
           0.6321644542548306,
           1.0000000000000004,
           0.6577206635080323,
           0.6008581710089883,
           0.6281804360535479,
           0.5504057038546376,
           0.5289576077429359
          ],
          [
           0.704124447422582,
           0.6424728007372309,
           0.5729226509585043,
           0.6025509480704806,
           0.6577206635080323,
           1,
           0.6246822948380026,
           0.5952462530718514,
           0.5105329747472369,
           0.5277671546880577
          ],
          [
           0.6604114796076438,
           0.7279518173424491,
           0.7498603537228106,
           0.6358343100470862,
           0.6008581710089883,
           0.6246822948380026,
           1,
           0.6602055379940739,
           0.5116196380826237,
           0.48000926923511666
          ],
          [
           0.7099379481044232,
           0.645985768567601,
           0.6525109733297786,
           0.6950338467620496,
           0.6281804360535479,
           0.5952462530718514,
           0.6602055379940739,
           1,
           0.5127806743256916,
           0.600570557486243
          ],
          [
           0.550936800754684,
           0.660135827728376,
           0.4546682815274705,
           0.5387020587879615,
           0.5504057038546376,
           0.5105329747472369,
           0.5116196380826237,
           0.5127806743256916,
           1.0000000000000007,
           0.40847772772813645
          ],
          [
           0.6068288445025577,
           0.47336581704719227,
           0.49893477953937476,
           0.5889926940987849,
           0.5289576077429359,
           0.5277671546880577,
           0.48000926923511666,
           0.600570557486243,
           0.40847772772813645,
           1
          ]
         ]
        }
       ],
       "layout": {
        "coloraxis": {
         "colorbar": {
          "title": {
           "text": "Similarity Score"
          }
         },
         "colorscale": [
          [
           0,
           "rgb(247,252,240)"
          ],
          [
           0.125,
           "rgb(224,243,219)"
          ],
          [
           0.25,
           "rgb(204,235,197)"
          ],
          [
           0.375,
           "rgb(168,221,181)"
          ],
          [
           0.5,
           "rgb(123,204,196)"
          ],
          [
           0.625,
           "rgb(78,179,211)"
          ],
          [
           0.75,
           "rgb(43,140,190)"
          ],
          [
           0.875,
           "rgb(8,104,172)"
          ],
          [
           1,
           "rgb(8,64,129)"
          ]
         ]
        },
        "height": 800,
        "hoverlabel": {
         "bgcolor": "white",
         "font": {
          "family": "Rockwell",
          "size": 16
         }
        },
        "legend": {
         "title": {
          "text": "Trend"
         }
        },
        "margin": {
         "t": 60
        },
        "showlegend": true,
        "template": {
         "data": {
          "bar": [
           {
            "error_x": {
             "color": "#2a3f5f"
            },
            "error_y": {
             "color": "#2a3f5f"
            },
            "marker": {
             "line": {
              "color": "#E5ECF6",
              "width": 0.5
             },
             "pattern": {
              "fillmode": "overlay",
              "size": 10,
              "solidity": 0.2
             }
            },
            "type": "bar"
           }
          ],
          "barpolar": [
           {
            "marker": {
             "line": {
              "color": "#E5ECF6",
              "width": 0.5
             },
             "pattern": {
              "fillmode": "overlay",
              "size": 10,
              "solidity": 0.2
             }
            },
            "type": "barpolar"
           }
          ],
          "carpet": [
           {
            "aaxis": {
             "endlinecolor": "#2a3f5f",
             "gridcolor": "white",
             "linecolor": "white",
             "minorgridcolor": "white",
             "startlinecolor": "#2a3f5f"
            },
            "baxis": {
             "endlinecolor": "#2a3f5f",
             "gridcolor": "white",
             "linecolor": "white",
             "minorgridcolor": "white",
             "startlinecolor": "#2a3f5f"
            },
            "type": "carpet"
           }
          ],
          "choropleth": [
           {
            "colorbar": {
             "outlinewidth": 0,
             "ticks": ""
            },
            "type": "choropleth"
           }
          ],
          "contour": [
           {
            "colorbar": {
             "outlinewidth": 0,
             "ticks": ""
            },
            "colorscale": [
             [
              0,
              "#0d0887"
             ],
             [
              0.1111111111111111,
              "#46039f"
             ],
             [
              0.2222222222222222,
              "#7201a8"
             ],
             [
              0.3333333333333333,
              "#9c179e"
             ],
             [
              0.4444444444444444,
              "#bd3786"
             ],
             [
              0.5555555555555556,
              "#d8576b"
             ],
             [
              0.6666666666666666,
              "#ed7953"
             ],
             [
              0.7777777777777778,
              "#fb9f3a"
             ],
             [
              0.8888888888888888,
              "#fdca26"
             ],
             [
              1,
              "#f0f921"
             ]
            ],
            "type": "contour"
           }
          ],
          "contourcarpet": [
           {
            "colorbar": {
             "outlinewidth": 0,
             "ticks": ""
            },
            "type": "contourcarpet"
           }
          ],
          "heatmap": [
           {
            "colorbar": {
             "outlinewidth": 0,
             "ticks": ""
            },
            "colorscale": [
             [
              0,
              "#0d0887"
             ],
             [
              0.1111111111111111,
              "#46039f"
             ],
             [
              0.2222222222222222,
              "#7201a8"
             ],
             [
              0.3333333333333333,
              "#9c179e"
             ],
             [
              0.4444444444444444,
              "#bd3786"
             ],
             [
              0.5555555555555556,
              "#d8576b"
             ],
             [
              0.6666666666666666,
              "#ed7953"
             ],
             [
              0.7777777777777778,
              "#fb9f3a"
             ],
             [
              0.8888888888888888,
              "#fdca26"
             ],
             [
              1,
              "#f0f921"
             ]
            ],
            "type": "heatmap"
           }
          ],
          "heatmapgl": [
           {
            "colorbar": {
             "outlinewidth": 0,
             "ticks": ""
            },
            "colorscale": [
             [
              0,
              "#0d0887"
             ],
             [
              0.1111111111111111,
              "#46039f"
             ],
             [
              0.2222222222222222,
              "#7201a8"
             ],
             [
              0.3333333333333333,
              "#9c179e"
             ],
             [
              0.4444444444444444,
              "#bd3786"
             ],
             [
              0.5555555555555556,
              "#d8576b"
             ],
             [
              0.6666666666666666,
              "#ed7953"
             ],
             [
              0.7777777777777778,
              "#fb9f3a"
             ],
             [
              0.8888888888888888,
              "#fdca26"
             ],
             [
              1,
              "#f0f921"
             ]
            ],
            "type": "heatmapgl"
           }
          ],
          "histogram": [
           {
            "marker": {
             "pattern": {
              "fillmode": "overlay",
              "size": 10,
              "solidity": 0.2
             }
            },
            "type": "histogram"
           }
          ],
          "histogram2d": [
           {
            "colorbar": {
             "outlinewidth": 0,
             "ticks": ""
            },
            "colorscale": [
             [
              0,
              "#0d0887"
             ],
             [
              0.1111111111111111,
              "#46039f"
             ],
             [
              0.2222222222222222,
              "#7201a8"
             ],
             [
              0.3333333333333333,
              "#9c179e"
             ],
             [
              0.4444444444444444,
              "#bd3786"
             ],
             [
              0.5555555555555556,
              "#d8576b"
             ],
             [
              0.6666666666666666,
              "#ed7953"
             ],
             [
              0.7777777777777778,
              "#fb9f3a"
             ],
             [
              0.8888888888888888,
              "#fdca26"
             ],
             [
              1,
              "#f0f921"
             ]
            ],
            "type": "histogram2d"
           }
          ],
          "histogram2dcontour": [
           {
            "colorbar": {
             "outlinewidth": 0,
             "ticks": ""
            },
            "colorscale": [
             [
              0,
              "#0d0887"
             ],
             [
              0.1111111111111111,
              "#46039f"
             ],
             [
              0.2222222222222222,
              "#7201a8"
             ],
             [
              0.3333333333333333,
              "#9c179e"
             ],
             [
              0.4444444444444444,
              "#bd3786"
             ],
             [
              0.5555555555555556,
              "#d8576b"
             ],
             [
              0.6666666666666666,
              "#ed7953"
             ],
             [
              0.7777777777777778,
              "#fb9f3a"
             ],
             [
              0.8888888888888888,
              "#fdca26"
             ],
             [
              1,
              "#f0f921"
             ]
            ],
            "type": "histogram2dcontour"
           }
          ],
          "mesh3d": [
           {
            "colorbar": {
             "outlinewidth": 0,
             "ticks": ""
            },
            "type": "mesh3d"
           }
          ],
          "parcoords": [
           {
            "line": {
             "colorbar": {
              "outlinewidth": 0,
              "ticks": ""
             }
            },
            "type": "parcoords"
           }
          ],
          "pie": [
           {
            "automargin": true,
            "type": "pie"
           }
          ],
          "scatter": [
           {
            "fillpattern": {
             "fillmode": "overlay",
             "size": 10,
             "solidity": 0.2
            },
            "type": "scatter"
           }
          ],
          "scatter3d": [
           {
            "line": {
             "colorbar": {
              "outlinewidth": 0,
              "ticks": ""
             }
            },
            "marker": {
             "colorbar": {
              "outlinewidth": 0,
              "ticks": ""
             }
            },
            "type": "scatter3d"
           }
          ],
          "scattercarpet": [
           {
            "marker": {
             "colorbar": {
              "outlinewidth": 0,
              "ticks": ""
             }
            },
            "type": "scattercarpet"
           }
          ],
          "scattergeo": [
           {
            "marker": {
             "colorbar": {
              "outlinewidth": 0,
              "ticks": ""
             }
            },
            "type": "scattergeo"
           }
          ],
          "scattergl": [
           {
            "marker": {
             "colorbar": {
              "outlinewidth": 0,
              "ticks": ""
             }
            },
            "type": "scattergl"
           }
          ],
          "scattermapbox": [
           {
            "marker": {
             "colorbar": {
              "outlinewidth": 0,
              "ticks": ""
             }
            },
            "type": "scattermapbox"
           }
          ],
          "scatterpolar": [
           {
            "marker": {
             "colorbar": {
              "outlinewidth": 0,
              "ticks": ""
             }
            },
            "type": "scatterpolar"
           }
          ],
          "scatterpolargl": [
           {
            "marker": {
             "colorbar": {
              "outlinewidth": 0,
              "ticks": ""
             }
            },
            "type": "scatterpolargl"
           }
          ],
          "scatterternary": [
           {
            "marker": {
             "colorbar": {
              "outlinewidth": 0,
              "ticks": ""
             }
            },
            "type": "scatterternary"
           }
          ],
          "surface": [
           {
            "colorbar": {
             "outlinewidth": 0,
             "ticks": ""
            },
            "colorscale": [
             [
              0,
              "#0d0887"
             ],
             [
              0.1111111111111111,
              "#46039f"
             ],
             [
              0.2222222222222222,
              "#7201a8"
             ],
             [
              0.3333333333333333,
              "#9c179e"
             ],
             [
              0.4444444444444444,
              "#bd3786"
             ],
             [
              0.5555555555555556,
              "#d8576b"
             ],
             [
              0.6666666666666666,
              "#ed7953"
             ],
             [
              0.7777777777777778,
              "#fb9f3a"
             ],
             [
              0.8888888888888888,
              "#fdca26"
             ],
             [
              1,
              "#f0f921"
             ]
            ],
            "type": "surface"
           }
          ],
          "table": [
           {
            "cells": {
             "fill": {
              "color": "#EBF0F8"
             },
             "line": {
              "color": "white"
             }
            },
            "header": {
             "fill": {
              "color": "#C8D4E3"
             },
             "line": {
              "color": "white"
             }
            },
            "type": "table"
           }
          ]
         },
         "layout": {
          "annotationdefaults": {
           "arrowcolor": "#2a3f5f",
           "arrowhead": 0,
           "arrowwidth": 1
          },
          "autotypenumbers": "strict",
          "coloraxis": {
           "colorbar": {
            "outlinewidth": 0,
            "ticks": ""
           }
          },
          "colorscale": {
           "diverging": [
            [
             0,
             "#8e0152"
            ],
            [
             0.1,
             "#c51b7d"
            ],
            [
             0.2,
             "#de77ae"
            ],
            [
             0.3,
             "#f1b6da"
            ],
            [
             0.4,
             "#fde0ef"
            ],
            [
             0.5,
             "#f7f7f7"
            ],
            [
             0.6,
             "#e6f5d0"
            ],
            [
             0.7,
             "#b8e186"
            ],
            [
             0.8,
             "#7fbc41"
            ],
            [
             0.9,
             "#4d9221"
            ],
            [
             1,
             "#276419"
            ]
           ],
           "sequential": [
            [
             0,
             "#0d0887"
            ],
            [
             0.1111111111111111,
             "#46039f"
            ],
            [
             0.2222222222222222,
             "#7201a8"
            ],
            [
             0.3333333333333333,
             "#9c179e"
            ],
            [
             0.4444444444444444,
             "#bd3786"
            ],
            [
             0.5555555555555556,
             "#d8576b"
            ],
            [
             0.6666666666666666,
             "#ed7953"
            ],
            [
             0.7777777777777778,
             "#fb9f3a"
            ],
            [
             0.8888888888888888,
             "#fdca26"
            ],
            [
             1,
             "#f0f921"
            ]
           ],
           "sequentialminus": [
            [
             0,
             "#0d0887"
            ],
            [
             0.1111111111111111,
             "#46039f"
            ],
            [
             0.2222222222222222,
             "#7201a8"
            ],
            [
             0.3333333333333333,
             "#9c179e"
            ],
            [
             0.4444444444444444,
             "#bd3786"
            ],
            [
             0.5555555555555556,
             "#d8576b"
            ],
            [
             0.6666666666666666,
             "#ed7953"
            ],
            [
             0.7777777777777778,
             "#fb9f3a"
            ],
            [
             0.8888888888888888,
             "#fdca26"
            ],
            [
             1,
             "#f0f921"
            ]
           ]
          },
          "colorway": [
           "#636efa",
           "#EF553B",
           "#00cc96",
           "#ab63fa",
           "#FFA15A",
           "#19d3f3",
           "#FF6692",
           "#B6E880",
           "#FF97FF",
           "#FECB52"
          ],
          "font": {
           "color": "#2a3f5f"
          },
          "geo": {
           "bgcolor": "white",
           "lakecolor": "white",
           "landcolor": "#E5ECF6",
           "showlakes": true,
           "showland": true,
           "subunitcolor": "white"
          },
          "hoverlabel": {
           "align": "left"
          },
          "hovermode": "closest",
          "mapbox": {
           "style": "light"
          },
          "paper_bgcolor": "white",
          "plot_bgcolor": "#E5ECF6",
          "polar": {
           "angularaxis": {
            "gridcolor": "white",
            "linecolor": "white",
            "ticks": ""
           },
           "bgcolor": "#E5ECF6",
           "radialaxis": {
            "gridcolor": "white",
            "linecolor": "white",
            "ticks": ""
           }
          },
          "scene": {
           "xaxis": {
            "backgroundcolor": "#E5ECF6",
            "gridcolor": "white",
            "gridwidth": 2,
            "linecolor": "white",
            "showbackground": true,
            "ticks": "",
            "zerolinecolor": "white"
           },
           "yaxis": {
            "backgroundcolor": "#E5ECF6",
            "gridcolor": "white",
            "gridwidth": 2,
            "linecolor": "white",
            "showbackground": true,
            "ticks": "",
            "zerolinecolor": "white"
           },
           "zaxis": {
            "backgroundcolor": "#E5ECF6",
            "gridcolor": "white",
            "gridwidth": 2,
            "linecolor": "white",
            "showbackground": true,
            "ticks": "",
            "zerolinecolor": "white"
           }
          },
          "shapedefaults": {
           "line": {
            "color": "#2a3f5f"
           }
          },
          "ternary": {
           "aaxis": {
            "gridcolor": "white",
            "linecolor": "white",
            "ticks": ""
           },
           "baxis": {
            "gridcolor": "white",
            "linecolor": "white",
            "ticks": ""
           },
           "bgcolor": "#E5ECF6",
           "caxis": {
            "gridcolor": "white",
            "linecolor": "white",
            "ticks": ""
           }
          },
          "title": {
           "x": 0.05
          },
          "xaxis": {
           "automargin": true,
           "gridcolor": "white",
           "linecolor": "white",
           "ticks": "",
           "title": {
            "standoff": 15
           },
           "zerolinecolor": "white",
           "zerolinewidth": 2
          },
          "yaxis": {
           "automargin": true,
           "gridcolor": "white",
           "linecolor": "white",
           "ticks": "",
           "title": {
            "standoff": 15
           },
           "zerolinecolor": "white",
           "zerolinewidth": 2
          }
         }
        },
        "title": {
         "font": {
          "color": "Black",
          "size": 22
         },
         "text": "<b>Similarity Matrix",
         "x": 0.55,
         "xanchor": "center",
         "y": 0.95,
         "yanchor": "top"
        },
        "width": 800,
        "xaxis": {
         "anchor": "y",
         "constrain": "domain",
         "domain": [
          0,
          1
         ],
         "scaleanchor": "y"
        },
        "yaxis": {
         "anchor": "x",
         "autorange": "reversed",
         "constrain": "domain",
         "domain": [
          0,
          1
         ]
        }
       }
      },
      "text/html": [
       "<div>                            <div id=\"6ade0cb3-97dd-4660-98f8-028686d29905\" class=\"plotly-graph-div\" style=\"height:800px; width:800px;\"></div>            <script type=\"text/javascript\">                require([\"plotly\"], function(Plotly) {                    window.PLOTLYENV=window.PLOTLYENV || {};                                    if (document.getElementById(\"6ade0cb3-97dd-4660-98f8-028686d29905\")) {                    Plotly.newPlot(                        \"6ade0cb3-97dd-4660-98f8-028686d29905\",                        [{\"coloraxis\":\"coloraxis\",\"name\":\"0\",\"x\":[\"0_muslim_biden_migrant\",\"1_white_people_black\",\"2_nigga_lil_twitter\",\"3_trump_cpac_democrat\",\"4_power_communism_regime\",\"5_jew_anti_say\",\"6_woman_afrin_cry\",\"7_india_hindu_pakistan\",\"8_play_fantasy_sit\",\"9_soral_alain_answer\"],\"y\":[\"0_muslim_biden_migrant\",\"1_white_people_black\",\"2_nigga_lil_twitter\",\"3_trump_cpac_democrat\",\"4_power_communism_regime\",\"5_jew_anti_say\",\"6_woman_afrin_cry\",\"7_india_hindu_pakistan\",\"8_play_fantasy_sit\",\"9_soral_alain_answer\"],\"z\":[[1.0000000000000009,0.6802402395847554,0.6520126473405743,0.7191057648751272,0.6985270985243736,0.704124447422582,0.6604114796076438,0.7099379481044232,0.550936800754684,0.6068288445025577],[0.6802402395847554,1.0000000000000007,0.6684482956682914,0.6210190438561018,0.7120938113619615,0.6424728007372309,0.7279518173424491,0.645985768567601,0.660135827728376,0.47336581704719227],[0.6520126473405743,0.6684482956682914,1.0000000000000002,0.6119778150422277,0.582184482702726,0.5729226509585043,0.7498603537228106,0.6525109733297786,0.4546682815274705,0.49893477953937476],[0.7191057648751272,0.6210190438561018,0.6119778150422277,1.0000000000000004,0.6321644542548306,0.6025509480704806,0.6358343100470862,0.6950338467620496,0.5387020587879615,0.5889926940987849],[0.6985270985243736,0.7120938113619615,0.582184482702726,0.6321644542548306,1.0000000000000004,0.6577206635080323,0.6008581710089883,0.6281804360535479,0.5504057038546376,0.5289576077429359],[0.704124447422582,0.6424728007372309,0.5729226509585043,0.6025509480704806,0.6577206635080323,1.0,0.6246822948380026,0.5952462530718514,0.5105329747472369,0.5277671546880577],[0.6604114796076438,0.7279518173424491,0.7498603537228106,0.6358343100470862,0.6008581710089883,0.6246822948380026,1.0,0.6602055379940739,0.5116196380826237,0.48000926923511666],[0.7099379481044232,0.645985768567601,0.6525109733297786,0.6950338467620496,0.6281804360535479,0.5952462530718514,0.6602055379940739,1.0,0.5127806743256916,0.600570557486243],[0.550936800754684,0.660135827728376,0.4546682815274705,0.5387020587879615,0.5504057038546376,0.5105329747472369,0.5116196380826237,0.5127806743256916,1.0000000000000007,0.40847772772813645],[0.6068288445025577,0.47336581704719227,0.49893477953937476,0.5889926940987849,0.5289576077429359,0.5277671546880577,0.48000926923511666,0.600570557486243,0.40847772772813645,1.0]],\"type\":\"heatmap\",\"xaxis\":\"x\",\"yaxis\":\"y\",\"hovertemplate\":\"x: %{x}<br>y: %{y}<br>Similarity Score: %{z}<extra></extra>\"}],                        {\"template\":{\"data\":{\"histogram2dcontour\":[{\"type\":\"histogram2dcontour\",\"colorbar\":{\"outlinewidth\":0,\"ticks\":\"\"},\"colorscale\":[[0.0,\"#0d0887\"],[0.1111111111111111,\"#46039f\"],[0.2222222222222222,\"#7201a8\"],[0.3333333333333333,\"#9c179e\"],[0.4444444444444444,\"#bd3786\"],[0.5555555555555556,\"#d8576b\"],[0.6666666666666666,\"#ed7953\"],[0.7777777777777778,\"#fb9f3a\"],[0.8888888888888888,\"#fdca26\"],[1.0,\"#f0f921\"]]}],\"choropleth\":[{\"type\":\"choropleth\",\"colorbar\":{\"outlinewidth\":0,\"ticks\":\"\"}}],\"histogram2d\":[{\"type\":\"histogram2d\",\"colorbar\":{\"outlinewidth\":0,\"ticks\":\"\"},\"colorscale\":[[0.0,\"#0d0887\"],[0.1111111111111111,\"#46039f\"],[0.2222222222222222,\"#7201a8\"],[0.3333333333333333,\"#9c179e\"],[0.4444444444444444,\"#bd3786\"],[0.5555555555555556,\"#d8576b\"],[0.6666666666666666,\"#ed7953\"],[0.7777777777777778,\"#fb9f3a\"],[0.8888888888888888,\"#fdca26\"],[1.0,\"#f0f921\"]]}],\"heatmap\":[{\"type\":\"heatmap\",\"colorbar\":{\"outlinewidth\":0,\"ticks\":\"\"},\"colorscale\":[[0.0,\"#0d0887\"],[0.1111111111111111,\"#46039f\"],[0.2222222222222222,\"#7201a8\"],[0.3333333333333333,\"#9c179e\"],[0.4444444444444444,\"#bd3786\"],[0.5555555555555556,\"#d8576b\"],[0.6666666666666666,\"#ed7953\"],[0.7777777777777778,\"#fb9f3a\"],[0.8888888888888888,\"#fdca26\"],[1.0,\"#f0f921\"]]}],\"heatmapgl\":[{\"type\":\"heatmapgl\",\"colorbar\":{\"outlinewidth\":0,\"ticks\":\"\"},\"colorscale\":[[0.0,\"#0d0887\"],[0.1111111111111111,\"#46039f\"],[0.2222222222222222,\"#7201a8\"],[0.3333333333333333,\"#9c179e\"],[0.4444444444444444,\"#bd3786\"],[0.5555555555555556,\"#d8576b\"],[0.6666666666666666,\"#ed7953\"],[0.7777777777777778,\"#fb9f3a\"],[0.8888888888888888,\"#fdca26\"],[1.0,\"#f0f921\"]]}],\"contourcarpet\":[{\"type\":\"contourcarpet\",\"colorbar\":{\"outlinewidth\":0,\"ticks\":\"\"}}],\"contour\":[{\"type\":\"contour\",\"colorbar\":{\"outlinewidth\":0,\"ticks\":\"\"},\"colorscale\":[[0.0,\"#0d0887\"],[0.1111111111111111,\"#46039f\"],[0.2222222222222222,\"#7201a8\"],[0.3333333333333333,\"#9c179e\"],[0.4444444444444444,\"#bd3786\"],[0.5555555555555556,\"#d8576b\"],[0.6666666666666666,\"#ed7953\"],[0.7777777777777778,\"#fb9f3a\"],[0.8888888888888888,\"#fdca26\"],[1.0,\"#f0f921\"]]}],\"surface\":[{\"type\":\"surface\",\"colorbar\":{\"outlinewidth\":0,\"ticks\":\"\"},\"colorscale\":[[0.0,\"#0d0887\"],[0.1111111111111111,\"#46039f\"],[0.2222222222222222,\"#7201a8\"],[0.3333333333333333,\"#9c179e\"],[0.4444444444444444,\"#bd3786\"],[0.5555555555555556,\"#d8576b\"],[0.6666666666666666,\"#ed7953\"],[0.7777777777777778,\"#fb9f3a\"],[0.8888888888888888,\"#fdca26\"],[1.0,\"#f0f921\"]]}],\"mesh3d\":[{\"type\":\"mesh3d\",\"colorbar\":{\"outlinewidth\":0,\"ticks\":\"\"}}],\"scatter\":[{\"fillpattern\":{\"fillmode\":\"overlay\",\"size\":10,\"solidity\":0.2},\"type\":\"scatter\"}],\"parcoords\":[{\"type\":\"parcoords\",\"line\":{\"colorbar\":{\"outlinewidth\":0,\"ticks\":\"\"}}}],\"scatterpolargl\":[{\"type\":\"scatterpolargl\",\"marker\":{\"colorbar\":{\"outlinewidth\":0,\"ticks\":\"\"}}}],\"bar\":[{\"error_x\":{\"color\":\"#2a3f5f\"},\"error_y\":{\"color\":\"#2a3f5f\"},\"marker\":{\"line\":{\"color\":\"#E5ECF6\",\"width\":0.5},\"pattern\":{\"fillmode\":\"overlay\",\"size\":10,\"solidity\":0.2}},\"type\":\"bar\"}],\"scattergeo\":[{\"type\":\"scattergeo\",\"marker\":{\"colorbar\":{\"outlinewidth\":0,\"ticks\":\"\"}}}],\"scatterpolar\":[{\"type\":\"scatterpolar\",\"marker\":{\"colorbar\":{\"outlinewidth\":0,\"ticks\":\"\"}}}],\"histogram\":[{\"marker\":{\"pattern\":{\"fillmode\":\"overlay\",\"size\":10,\"solidity\":0.2}},\"type\":\"histogram\"}],\"scattergl\":[{\"type\":\"scattergl\",\"marker\":{\"colorbar\":{\"outlinewidth\":0,\"ticks\":\"\"}}}],\"scatter3d\":[{\"type\":\"scatter3d\",\"line\":{\"colorbar\":{\"outlinewidth\":0,\"ticks\":\"\"}},\"marker\":{\"colorbar\":{\"outlinewidth\":0,\"ticks\":\"\"}}}],\"scattermapbox\":[{\"type\":\"scattermapbox\",\"marker\":{\"colorbar\":{\"outlinewidth\":0,\"ticks\":\"\"}}}],\"scatterternary\":[{\"type\":\"scatterternary\",\"marker\":{\"colorbar\":{\"outlinewidth\":0,\"ticks\":\"\"}}}],\"scattercarpet\":[{\"type\":\"scattercarpet\",\"marker\":{\"colorbar\":{\"outlinewidth\":0,\"ticks\":\"\"}}}],\"carpet\":[{\"aaxis\":{\"endlinecolor\":\"#2a3f5f\",\"gridcolor\":\"white\",\"linecolor\":\"white\",\"minorgridcolor\":\"white\",\"startlinecolor\":\"#2a3f5f\"},\"baxis\":{\"endlinecolor\":\"#2a3f5f\",\"gridcolor\":\"white\",\"linecolor\":\"white\",\"minorgridcolor\":\"white\",\"startlinecolor\":\"#2a3f5f\"},\"type\":\"carpet\"}],\"table\":[{\"cells\":{\"fill\":{\"color\":\"#EBF0F8\"},\"line\":{\"color\":\"white\"}},\"header\":{\"fill\":{\"color\":\"#C8D4E3\"},\"line\":{\"color\":\"white\"}},\"type\":\"table\"}],\"barpolar\":[{\"marker\":{\"line\":{\"color\":\"#E5ECF6\",\"width\":0.5},\"pattern\":{\"fillmode\":\"overlay\",\"size\":10,\"solidity\":0.2}},\"type\":\"barpolar\"}],\"pie\":[{\"automargin\":true,\"type\":\"pie\"}]},\"layout\":{\"autotypenumbers\":\"strict\",\"colorway\":[\"#636efa\",\"#EF553B\",\"#00cc96\",\"#ab63fa\",\"#FFA15A\",\"#19d3f3\",\"#FF6692\",\"#B6E880\",\"#FF97FF\",\"#FECB52\"],\"font\":{\"color\":\"#2a3f5f\"},\"hovermode\":\"closest\",\"hoverlabel\":{\"align\":\"left\"},\"paper_bgcolor\":\"white\",\"plot_bgcolor\":\"#E5ECF6\",\"polar\":{\"bgcolor\":\"#E5ECF6\",\"angularaxis\":{\"gridcolor\":\"white\",\"linecolor\":\"white\",\"ticks\":\"\"},\"radialaxis\":{\"gridcolor\":\"white\",\"linecolor\":\"white\",\"ticks\":\"\"}},\"ternary\":{\"bgcolor\":\"#E5ECF6\",\"aaxis\":{\"gridcolor\":\"white\",\"linecolor\":\"white\",\"ticks\":\"\"},\"baxis\":{\"gridcolor\":\"white\",\"linecolor\":\"white\",\"ticks\":\"\"},\"caxis\":{\"gridcolor\":\"white\",\"linecolor\":\"white\",\"ticks\":\"\"}},\"coloraxis\":{\"colorbar\":{\"outlinewidth\":0,\"ticks\":\"\"}},\"colorscale\":{\"sequential\":[[0.0,\"#0d0887\"],[0.1111111111111111,\"#46039f\"],[0.2222222222222222,\"#7201a8\"],[0.3333333333333333,\"#9c179e\"],[0.4444444444444444,\"#bd3786\"],[0.5555555555555556,\"#d8576b\"],[0.6666666666666666,\"#ed7953\"],[0.7777777777777778,\"#fb9f3a\"],[0.8888888888888888,\"#fdca26\"],[1.0,\"#f0f921\"]],\"sequentialminus\":[[0.0,\"#0d0887\"],[0.1111111111111111,\"#46039f\"],[0.2222222222222222,\"#7201a8\"],[0.3333333333333333,\"#9c179e\"],[0.4444444444444444,\"#bd3786\"],[0.5555555555555556,\"#d8576b\"],[0.6666666666666666,\"#ed7953\"],[0.7777777777777778,\"#fb9f3a\"],[0.8888888888888888,\"#fdca26\"],[1.0,\"#f0f921\"]],\"diverging\":[[0,\"#8e0152\"],[0.1,\"#c51b7d\"],[0.2,\"#de77ae\"],[0.3,\"#f1b6da\"],[0.4,\"#fde0ef\"],[0.5,\"#f7f7f7\"],[0.6,\"#e6f5d0\"],[0.7,\"#b8e186\"],[0.8,\"#7fbc41\"],[0.9,\"#4d9221\"],[1,\"#276419\"]]},\"xaxis\":{\"gridcolor\":\"white\",\"linecolor\":\"white\",\"ticks\":\"\",\"title\":{\"standoff\":15},\"zerolinecolor\":\"white\",\"automargin\":true,\"zerolinewidth\":2},\"yaxis\":{\"gridcolor\":\"white\",\"linecolor\":\"white\",\"ticks\":\"\",\"title\":{\"standoff\":15},\"zerolinecolor\":\"white\",\"automargin\":true,\"zerolinewidth\":2},\"scene\":{\"xaxis\":{\"backgroundcolor\":\"#E5ECF6\",\"gridcolor\":\"white\",\"linecolor\":\"white\",\"showbackground\":true,\"ticks\":\"\",\"zerolinecolor\":\"white\",\"gridwidth\":2},\"yaxis\":{\"backgroundcolor\":\"#E5ECF6\",\"gridcolor\":\"white\",\"linecolor\":\"white\",\"showbackground\":true,\"ticks\":\"\",\"zerolinecolor\":\"white\",\"gridwidth\":2},\"zaxis\":{\"backgroundcolor\":\"#E5ECF6\",\"gridcolor\":\"white\",\"linecolor\":\"white\",\"showbackground\":true,\"ticks\":\"\",\"zerolinecolor\":\"white\",\"gridwidth\":2}},\"shapedefaults\":{\"line\":{\"color\":\"#2a3f5f\"}},\"annotationdefaults\":{\"arrowcolor\":\"#2a3f5f\",\"arrowhead\":0,\"arrowwidth\":1},\"geo\":{\"bgcolor\":\"white\",\"landcolor\":\"#E5ECF6\",\"subunitcolor\":\"white\",\"showland\":true,\"showlakes\":true,\"lakecolor\":\"white\"},\"title\":{\"x\":0.05},\"mapbox\":{\"style\":\"light\"}}},\"xaxis\":{\"anchor\":\"y\",\"domain\":[0.0,1.0],\"scaleanchor\":\"y\",\"constrain\":\"domain\"},\"yaxis\":{\"anchor\":\"x\",\"domain\":[0.0,1.0],\"autorange\":\"reversed\",\"constrain\":\"domain\"},\"coloraxis\":{\"colorbar\":{\"title\":{\"text\":\"Similarity Score\"}},\"colorscale\":[[0.0,\"rgb(247,252,240)\"],[0.125,\"rgb(224,243,219)\"],[0.25,\"rgb(204,235,197)\"],[0.375,\"rgb(168,221,181)\"],[0.5,\"rgb(123,204,196)\"],[0.625,\"rgb(78,179,211)\"],[0.75,\"rgb(43,140,190)\"],[0.875,\"rgb(8,104,172)\"],[1.0,\"rgb(8,64,129)\"]]},\"margin\":{\"t\":60},\"title\":{\"font\":{\"size\":22,\"color\":\"Black\"},\"text\":\"<b>Similarity Matrix\",\"y\":0.95,\"x\":0.55,\"xanchor\":\"center\",\"yanchor\":\"top\"},\"hoverlabel\":{\"font\":{\"size\":16,\"family\":\"Rockwell\"},\"bgcolor\":\"white\"},\"width\":800,\"height\":800,\"showlegend\":true,\"legend\":{\"title\":{\"text\":\"Trend\"}}},                        {\"responsive\": true}                    ).then(function(){\n",
       "                            \n",
       "var gd = document.getElementById('6ade0cb3-97dd-4660-98f8-028686d29905');\n",
       "var x = new MutationObserver(function (mutations, observer) {{\n",
       "        var display = window.getComputedStyle(gd).display;\n",
       "        if (!display || display === 'none') {{\n",
       "            console.log([gd, 'removed!']);\n",
       "            Plotly.purge(gd);\n",
       "            observer.disconnect();\n",
       "        }}\n",
       "}});\n",
       "\n",
       "// Listen for the removal of the full notebook cells\n",
       "var notebookContainer = gd.closest('#notebook-container');\n",
       "if (notebookContainer) {{\n",
       "    x.observe(notebookContainer, {childList: true});\n",
       "}}\n",
       "\n",
       "// Listen for the clearing of the current output cell\n",
       "var outputEl = gd.closest('.output');\n",
       "if (outputEl) {{\n",
       "    x.observe(outputEl, {childList: true});\n",
       "}}\n",
       "\n",
       "                        })                };                });            </script>        </div>"
      ]
     },
     "metadata": {},
     "output_type": "display_data"
    }
   ],
   "source": [
    "model.visualize_heatmap()"
   ]
  },
  {
   "cell_type": "code",
   "execution_count": 71,
   "id": "e4507ce6",
   "metadata": {},
   "outputs": [
    {
     "data": {
      "text/html": [
       "<div>\n",
       "<style scoped>\n",
       "    .dataframe tbody tr th:only-of-type {\n",
       "        vertical-align: middle;\n",
       "    }\n",
       "\n",
       "    .dataframe tbody tr th {\n",
       "        vertical-align: top;\n",
       "    }\n",
       "\n",
       "    .dataframe thead th {\n",
       "        text-align: right;\n",
       "    }\n",
       "</style>\n",
       "<table border=\"1\" class=\"dataframe\">\n",
       "  <thead>\n",
       "    <tr style=\"text-align: right;\">\n",
       "      <th></th>\n",
       "      <th>Topic</th>\n",
       "      <th>Count</th>\n",
       "      <th>Name</th>\n",
       "    </tr>\n",
       "  </thead>\n",
       "  <tbody>\n",
       "    <tr>\n",
       "      <th>0</th>\n",
       "      <td>-1</td>\n",
       "      <td>362</td>\n",
       "      <td>-1_people_year_want_new</td>\n",
       "    </tr>\n",
       "    <tr>\n",
       "      <th>1</th>\n",
       "      <td>0</td>\n",
       "      <td>128</td>\n",
       "      <td>0_white_people_black_racist</td>\n",
       "    </tr>\n",
       "    <tr>\n",
       "      <th>2</th>\n",
       "      <td>1</td>\n",
       "      <td>67</td>\n",
       "      <td>1_muslim_sweden_islamic_sharia</td>\n",
       "    </tr>\n",
       "    <tr>\n",
       "      <th>3</th>\n",
       "      <td>2</td>\n",
       "      <td>55</td>\n",
       "      <td>2_germany_german_coronavirus_warn</td>\n",
       "    </tr>\n",
       "    <tr>\n",
       "      <th>4</th>\n",
       "      <td>3</td>\n",
       "      <td>50</td>\n",
       "      <td>3_trump_cpac_democrat_party</td>\n",
       "    </tr>\n",
       "    <tr>\n",
       "      <th>5</th>\n",
       "      <td>4</td>\n",
       "      <td>46</td>\n",
       "      <td>4_woman_afrin_fight_cry</td>\n",
       "    </tr>\n",
       "    <tr>\n",
       "      <th>6</th>\n",
       "      <td>5</td>\n",
       "      <td>40</td>\n",
       "      <td>5_india_hindu_pakistan_banker</td>\n",
       "    </tr>\n",
       "    <tr>\n",
       "      <th>7</th>\n",
       "      <td>6</td>\n",
       "      <td>38</td>\n",
       "      <td>6_jew_anti_say_semitism</td>\n",
       "    </tr>\n",
       "    <tr>\n",
       "      <th>8</th>\n",
       "      <td>7</td>\n",
       "      <td>29</td>\n",
       "      <td>7_nigga_lil_fuck_know</td>\n",
       "    </tr>\n",
       "    <tr>\n",
       "      <th>9</th>\n",
       "      <td>8</td>\n",
       "      <td>23</td>\n",
       "      <td>8_twitter_follower_account_many</td>\n",
       "    </tr>\n",
       "    <tr>\n",
       "      <th>10</th>\n",
       "      <td>9</td>\n",
       "      <td>22</td>\n",
       "      <td>9_soral_alain_answer_episode</td>\n",
       "    </tr>\n",
       "    <tr>\n",
       "      <th>11</th>\n",
       "      <td>10</td>\n",
       "      <td>22</td>\n",
       "      <td>10_play_sit_fantasy_day</td>\n",
       "    </tr>\n",
       "    <tr>\n",
       "      <th>12</th>\n",
       "      <td>11</td>\n",
       "      <td>20</td>\n",
       "      <td>11_biden_border_trump_order</td>\n",
       "    </tr>\n",
       "  </tbody>\n",
       "</table>\n",
       "</div>"
      ],
      "text/plain": [
       "    Topic  Count                               Name\n",
       "0      -1    362            -1_people_year_want_new\n",
       "1       0    128        0_white_people_black_racist\n",
       "2       1     67     1_muslim_sweden_islamic_sharia\n",
       "3       2     55  2_germany_german_coronavirus_warn\n",
       "4       3     50        3_trump_cpac_democrat_party\n",
       "5       4     46            4_woman_afrin_fight_cry\n",
       "6       5     40      5_india_hindu_pakistan_banker\n",
       "7       6     38            6_jew_anti_say_semitism\n",
       "8       7     29              7_nigga_lil_fuck_know\n",
       "9       8     23    8_twitter_follower_account_many\n",
       "10      9     22       9_soral_alain_answer_episode\n",
       "11     10     22            10_play_sit_fantasy_day\n",
       "12     11     20        11_biden_border_trump_order"
      ]
     },
     "execution_count": 71,
     "metadata": {},
     "output_type": "execute_result"
    }
   ],
   "source": [
    "model.get_topic_info()"
   ]
  },
  {
   "cell_type": "code",
   "execution_count": 86,
   "id": "f921536e",
   "metadata": {},
   "outputs": [
    {
     "data": {
      "text/plain": [
       "{-1: [('people', 0.024474605863375003),\n",
       "  ('year', 0.023269604670209477),\n",
       "  ('great', 0.022056617126275616),\n",
       "  ('like', 0.018427810000464718),\n",
       "  ('amp', 0.018293013940034453),\n",
       "  ('left', 0.0175561013846154),\n",
       "  ('america', 0.017064376758153615),\n",
       "  ('see', 0.016819633198227213),\n",
       "  ('reset', 0.016047192711665097),\n",
       "  ('child', 0.01595091805524648)],\n",
       " 0: [('muslim', 0.04723991215950561),\n",
       "  ('biden', 0.03787839965276231),\n",
       "  ('migrant', 0.03304375428148503),\n",
       "  ('amp', 0.03189709230438733),\n",
       "  ('terrorist', 0.027477851458930627),\n",
       "  ('border', 0.02656383287670483),\n",
       "  ('islamic', 0.025760485742747464),\n",
       "  ('attack', 0.024924494061609882),\n",
       "  ('germany', 0.024666416242654483),\n",
       "  ('sweden', 0.024035730301690768)],\n",
       " 1: [('white', 0.16090744258682363),\n",
       "  ('people', 0.07806751537835034),\n",
       "  ('black', 0.06819606931793223),\n",
       "  ('racist', 0.03241798986657192),\n",
       "  ('want', 0.03151476720342683),\n",
       "  ('racism', 0.030412355104225592),\n",
       "  ('diversity', 0.02790933574516534),\n",
       "  ('war', 0.027585590039714163),\n",
       "  ('supremacist', 0.02730478752636207),\n",
       "  ('literally', 0.025343629253521325)],\n",
       " 2: [('nigga', 0.10226845724657886),\n",
       "  ('lil', 0.09885880884677017),\n",
       "  ('twitter', 0.0794970681939152),\n",
       "  ('follower', 0.07271763108206583),\n",
       "  ('many', 0.06980711941167174),\n",
       "  ('account', 0.06920116619273912),\n",
       "  ('fuck', 0.06770218957276791),\n",
       "  ('know', 0.06570677394627637),\n",
       "  ('truth', 0.05194116505861845),\n",
       "  ('fight', 0.044885357049231966)],\n",
       " 3: [('trump', 0.10764516859160618),\n",
       "  ('cpac', 0.09245607020638057),\n",
       "  ('democrat', 0.052832040117931744),\n",
       "  ('president', 0.04797576645473395),\n",
       "  ('georgia', 0.04507842792896243),\n",
       "  ('party', 0.041122085532629096),\n",
       "  ('show', 0.03962403008844881),\n",
       "  ('one', 0.03716166413852616),\n",
       "  ('ballot', 0.034585429962054666),\n",
       "  ('watch', 0.034268404610524245)],\n",
       " 4: [('power', 0.09598243382048616),\n",
       "  ('communism', 0.08130842445737241),\n",
       "  ('regime', 0.04976741230943115),\n",
       "  ('socialism', 0.04976741230943115),\n",
       "  ('time', 0.04310051137984827),\n",
       "  ('philosophy', 0.04109930305405148),\n",
       "  ('come', 0.038392973528194464),\n",
       "  ('feel', 0.03732555923207336),\n",
       "  ('always', 0.037252388826308734),\n",
       "  ('government', 0.037252388826308734)],\n",
       " 5: [('jew', 0.15036401560942336),\n",
       "  ('anti', 0.09092770638049835),\n",
       "  ('say', 0.08968146898659902),\n",
       "  ('semitism', 0.06808663084856771),\n",
       "  ('hitler', 0.06408104391775223),\n",
       "  ('zionism', 0.04916476811936108),\n",
       "  ('semitic', 0.04916476811936108),\n",
       "  ('white', 0.04849443396059321),\n",
       "  ('people', 0.04512657016963487),\n",
       "  ('story', 0.04272069594516815)],\n",
       " 6: [('woman', 0.11217606463161518),\n",
       "  ('afrin', 0.10496677993483591),\n",
       "  ('cry', 0.09385315280222414),\n",
       "  ('morning', 0.07872508495112693),\n",
       "  ('gay', 0.07539762964878818),\n",
       "  ('men', 0.06368841690523952),\n",
       "  ('forget', 0.059388545968356854),\n",
       "  ('naturally', 0.059388545968356854),\n",
       "  ('doubt', 0.059388545968356854),\n",
       "  ('homosexual', 0.059388545968356854)],\n",
       " 7: [('india', 0.11753341066710869),\n",
       "  ('hindu', 0.0869638173573105),\n",
       "  ('pakistan', 0.07264137019711828),\n",
       "  ('modi', 0.06957105388584839),\n",
       "  ('friend', 0.06706572404230315),\n",
       "  ('shri', 0.0574536970028955),\n",
       "  ('delhi', 0.0574536970028955),\n",
       "  ('ji', 0.0544810276478387),\n",
       "  ('home', 0.05029929303172736),\n",
       "  ('hai', 0.04109933977048917)],\n",
       " 8: [('play', 0.5399569293659493),\n",
       "  ('fantasy', 0.09735827207927353),\n",
       "  ('sit', 0.09735827207927353),\n",
       "  ('shakespeare', 0.09735827207927353),\n",
       "  ('sex', 0.0860383442088819),\n",
       "  ('day', 0.0584748949592202),\n",
       "  ('thirst', 0.05434986381674076),\n",
       "  ('rockin', 0.05434986381674076),\n",
       "  ('kroes', 0.05434986381674076),\n",
       "  ('played', 0.05434986381674076)],\n",
       " 9: [('soral', 0.259874353794803),\n",
       "  ('alain', 0.1966982244357991),\n",
       "  ('answer', 0.12039541660485141),\n",
       "  ('episode', 0.09029656245363855),\n",
       "  ('de', 0.0819239693200006),\n",
       "  ('le', 0.07796230613844089),\n",
       "  ('jus', 0.07112400714773276),\n",
       "  ('aid', 0.07112400714773276),\n",
       "  ('restaurateur', 0.07112400714773276),\n",
       "  ('fr', 0.07112400714773276)]}"
      ]
     },
     "execution_count": 86,
     "metadata": {},
     "output_type": "execute_result"
    }
   ],
   "source": [
    "model.get_topics()"
   ]
  },
  {
   "cell_type": "code",
   "execution_count": 87,
   "id": "d0f7101b",
   "metadata": {},
   "outputs": [
    {
     "data": {
      "application/vnd.plotly.v1+json": {
       "config": {
        "plotlyServerURL": "https://plot.ly"
       },
       "data": [
        {
         "hoverinfo": "text",
         "hovertext": [
          "well guy entire continent call sure would great deal easy get",
          "clearly target harassment veil threat violence",
          "people think boris johnson resign prime minister think continue office accord",
          "even eat meat whole eat bug synthetic meat thing pretty sketch",
          "great reset big cleaning episode great reset health",
          "whole point right keep bear arm protect civilian government force crimina",
          "governor denounce democrat run twitter allows left attack jewish sile",
          "sayer die",
          "daily reminder george soros bill gate one let see keep distract pacify",
          "leader proud boy former informant case human traffic narcotic",
          "south australia trinity college apologise video circulate show student school hang black",
          "still percent hungry live india constantly gini coefficient rise data present poverty al",
          "salute brave soldier",
          "freedom gift beyond estimate give god nation perseverance courage consistency",
          "create beast finally bring",
          "salute",
          "warn parent virginia meet atif qarni secretary education appoint va governor northam qarni born",
          "good pornography toxic legally allow exist",
          "city burn ransack violent terrorist savage summer long give fuck le th",
          "fraud alert joe biden amp harris resurrect left wing lie call hate crime asian american",
          "still believe live free country",
          "warn left wing fight morph pandemic lockdown climate lockdown climate lockdown private vehicle use b",
          "nikol pashinyan prime minister armenia confesses occupation percent shusha populati",
          "wave illegal alien clearly fund believe really bought shirt th",
          "never go solve world problem spread lie hitler germany outlaw firearm ownership",
          "flashback democrat whitewash jihad pulse nightclub islamic terror attack amp blame gun instead left u jihad attack",
          "america soft weak embarrass joke entire world laugh u pathetic government",
          "trans child like vegan dog know chose",
          "great talk common challenge opportunity u congress always bastion su",
          "dark circle know sign",
          "struggle real god nowhere bible say worry stress amp",
          "anyone know ratio jew ce major american corporation",
          "safely enjoy stroll around mall anymore virtually every mall go",
          "firstly thousand people hundred nice gaslighting sky news usual secondly cop",
          "new year eve wuhan v nyc spot communist nation",
          "julian assange release bail",
          "berry case jeane manson accuse member pedophile sect coline berry via",
          "ammo hoarder make sure buy enough magazine load ammo boxed amm",
          "amazon dictate ebooks online book sale audiobooks sale head thi",
          "queer activist hit woman come shout revolt system prostitution ra",
          "insane insane dangerous rhetoric use justify vicious attack innocent whi",
          "enrichment ireland mob african migrant black life matter communist try attack bus full irish people",
          "muslim mayor london fire new year eve firework display feature black life matter marxist clenched",
          "everything come existence creates opposite light darkness heat cold life death matter anti",
          "fact get hit hard game stop stock tell one thing people short stock",
          "illustrate little government care people nothing",
          "um exactly dc capitol bombed see already rewrite history le two mon",
          "seriously bad news government move piece place carry illegal act",
          "happy palm sunday amp begin week change world may walk close jesus death amp",
          "video perfectly illustrates rapid decline quality living u america bust je",
          "allahu akbar allahu akbar allahu akbar last word cockpit flight",
          "accusatory inversion modus operandi",
          "year ago today one america great patriot hero born born bloomington illinois",
          "tell everyone year ever give scandinavian brother sister war th",
          "biophobia contagious",
          "muslim natural ally race sourc",
          "see biden openly celebrate white people go extinct america decade really care",
          "love reading golden globe hashtags left master exploit identity politics political correctness virt",
          "capitol wrap barbed wire look like capitol socialist country america",
          "arrest people fraudulently get child college however even investigate official fraudulent",
          "attack u military eleven soldier fort bliss texas injured drinking antifreeze believe dr",
          "assange never gaol expose war crime u government always mystifies",
          "nation yahweh mayor miami xavier su rez declare yahweh ben yahweh day october mon",
          "gt little girl also kinky someone explain part campaign normalize idea",
          "possibly scam divert funding community could possibly scam get",
          "wrong incite intense dislike religion activity teach religion outrageous ir",
          "new normal watchword great reset",
          "covid warn yr old survivor call resistance recur fascism tend hold onto rather magical amp",
          "fact politician scream gun control trace back george soros gun control",
          "left protects domestic terrorist whereas right abandon",
          "teach child follow god world teach",
          "hundred salutation foot madhav",
          "help dad attack antifa attack break arm brave dad campaign canada give child drug change",
          "gymnastics say dirty arab",
          "although one neutral today time everyone inclination towards mine also neutral",
          "parliament need time",
          "go take people stand shame everyone stood watch",
          "level security require wef aka enemy life annual meeting tell u",
          "isolated act bullying result illegitimate government flood white country",
          "see yet another major purge go today linktree find place",
          "facebook ban gay ex muslim iraq life germany one photo show kiss man",
          "new gab post east west divide read way",
          "current swallower",
          "good news would prefer rehabilitation center",
          "yes trump praise amaze international supporter thank supporter america stand",
          "case understand politics work day age wrong opponent",
          "ficed rothschild return face face reality hysterical assa traor",
          "tik tok innocent social network indian redneck year old quiet fun",
          "voice even low eye level straight neither sign show saxon begin",
          "hesitate worn bottom people see inside let go colorful",
          "two private school girl adelaide appear film hang black baby doll give part",
          "china amp iran control biden commie amp islamic supremacist long history unite destroy common enemy",
          "sister",
          "february shape one long cold rape big frozen winter wiener",
          "god bless eric zemmour",
          "brexit disaster volume export go british port channel tunnell eu fell last month",
          "yeah stock market hello",
          "term radical thrown around pretty loosely day literally anything left like",
          "pulse farmer need price support edible oil",
          "book write",
          "seethe harder parasite freak",
          "buzyn amp co judged crime humanity want new nuremberg",
          "right style commission investigate blm antifa riot torched city su",
          "love george monbiot pummel andrew bowie monbiot absolutely cool measure logical bowie typic",
          "downfall america sum single image",
          "satanism free rule everyday living mondaymotivation freedom sound monday blo",
          "lol invention exactly even congo finally penetrate native people disco",
          "heal unity creature",
          "right guy trial face ten year prison meme another guy give year sent",
          "people arm security shut hell gun control laughable allow protect themse",
          "agree ignoramus toby young free describe journalist illiterate make",
          "call target harassment",
          "brexit cost uk gdp first year body blow uk economy plummet almost cer",
          "world live world people celebrate turn family member mob",
          "black dude see white guy get shot death response shit like see creature want",
          "want drive neighborhood let driven away gegendemo af",
          "way bad apartheid state terrorist state terrorizes surround country",
          "actually sour though pickle except cabbage instead cucumber delicio",
          "firearm registration always lead firearm confiscation always without exception need contact",
          "want know exactly many firearm exactly many round ammunition",
          "savitri devi write numerous time determine quality person people view",
          "plz support student amp part campaign",
          "yes even ruin small humble little farm state like wisconsin live people incom",
          "threatens violence manager video say hope others find beat tri",
          "dead boris johnson say everything could political epitaph indolent prime minister",
          "censorship laughable pathetic scar conservative",
          "mdrrrr see pair look like clutch pedal",
          "lgbt deviant disrespect kaaba bo azi university detain",
          "start reimburse ruin fn",
          "guarantee chick like anything luxury",
          "everything david hogg reinforces belief one allow vote engage political discours",
          "boris johnson mr crisis mr liar mr clueless mr corrupt mr racist mr money grabber mr public heal",
          "expose left wing agitator like greta thunberg sacrifice farmer feed global hatred modi thunberg may puppet",
          "pay global security bunch scar trickster",
          "big bank corporation funding inversion normal healthy society question big bank",
          "play celine dion leave without eurovision grand prix",
          "texas lead freedom via",
          "turn violent criminal care gun illegal carry",
          "much bad everything try pretend trump",
          "tell russia never cucked j",
          "cosmetic industry perfumery trade also see existence danger open letter appeal",
          "people really need stop use child instrument propaganda fair hardl",
          "rail go work",
          "barack obama blame boulder islamic attack disaffection racism misogyny call gun control mean",
          "anyone know ratio jew ce major american corporation",
          "one legally obligate hire people foreign country law tell hire citizen f",
          "whole road map thing psy ops lockdown end people amp business simply realise power amp n",
          "great reset eat bug future proclaims world economic forum unelected self anoint global elitist post vi",
          "leftist never held accountable vicious public threat violence keep make trump",
          "shame wrongly announce julian assange release bail instead issue correction chan",
          "archive footage jeane manson sings child god pedophile sect via",
          "injury today insurrection oh wait mean medium full crap",
          "best left wing joke day islamic terrorist shoot someone gun fault make stu",
          "accusation incest richard berry marilou berry support cousin coline",
          "stop banker eat dumpster",
          "didnt happen would b funny",
          "hey general heard retire general major ig investigation involve army hid",
          "anyone knowingly allows baby poison toxic metal like deserves death penalty serio",
          "government surround fence arm military guard planning unspeakably ho",
          "new gab post burn coal pay toll meme",
          "break new year eve canada police violently raid family gathering six people neighbor report coronavirus",
          "people bailing tube switch lbry odysee",
          "buy story second pipe bomb really plant dc capitol guarantee",
          "arrogation double entendre via",
          "plan take back hagia sophia",
          "detest people every part medium idiot support imagine guy n h ei r si de nobod",
          "allege nurse practitioner threaten deny people treatment political leaning someone sho",
          "well really want get subject serial killer start samuel little",
          "trouble get upset say aaj english",
          "put account protect mode",
          "g link anon r pls research post u find fault let know learn hhx news clipping lie flie",
          "favor report guy try dox",
          "people celebrate genocide social medium platform allow yet told live wh",
          "patriot fight back san diego gym owner sue state amp county official tyrannical lockdown measure wa",
          "encourage people call attitude like attitude could get arrest sentence",
          "go leclerc reimburse x psk difference found penny product cheaper htt",
          "people want walk car well illusion remain anyway good morning thursday thought",
          "fiery mostly peaceful prize",
          "watch first part minute great reset great reset spring cleaning great r",
          "main stream medium work international banker international banker fully human hurt u",
          "think even one race government target deprogramming know becau",
          "gradually begin hate video link",
          "say year ago lot people say hyperbolic",
          "break pandemic number fake blame trump change guideline covid test hour biden inauguration thes",
          "kind interest timing soros myanmar",
          "america laughingstock",
          "mine christine",
          "banker rob u generation feel slightest bit sorry finally robbed",
          "three sea rescue ng accuse complicity criminal smuggler",
          "u press reporting muslim girl father lie samuel paty start campaign get",
          "great reset spring cleaning episode free extract",
          "brittany huge slut",
          "richard berry admits violent catherine hiegel jeane manson",
          "time school place child could learn safety thanks importation di",
          "daily reminder current president united state say good thing found stock america",
          "ever notice literally sea protest medium like hype sign write english",
          "make farm economically viable sustainable enterprise small farmer india need carefully listen",
          "two tower hand signal hmm",
          "shameful samuel paty style threat head school bow violent jihad mob parent issue apology su",
          "right give british journalism coverage brexit covid",
          "try tell everyone year matter nothing good enough crea",
          "day say something sign point israel manufacturing war america china ru",
          "hat white people era late great pop culture cool fashion trend",
          "vote ossoff would need remain vote win",
          "call domestic terrorism see call terrorism ground political affiliat",
          "australian student year behind average chinese student sat test year behind",
          "daniel year old athletic intensive care bfm tv manipulation",
          "appal homeless queue food last night soup kitchen freeze condition ten year toryism",
          "man reaps sow lago puelo neighbor receive alberto badly must end run away",
          "accord news source suspect detain release name description virtual",
          "america strange fetish reward idiocy need order become rich famous even get",
          "left preaches unity heal carry violence denounce violent",
          "neat idea fiction novel anyone interested write bunch retire sof operator use",
          "today first day zero degree entire hour",
          "let perfectly honest left actually care victim mass shooting se",
          "must watch arizona parent fight back school board communist anti racism initiative child indoctrin",
          "even know could shoot mile wow seriousness idiot like allow",
          "say",
          "almost every day quietly think amerindian actually choice fight openly",
          "whole event always control western country roll social credit system like comm",
          "friend waffen veteran wiking division swore cold ext",
          "nobody owes fuck thing",
          "believe",
          "conquer illegal minor brought dallas male age",
          "disability heval",
          null
         ],
         "marker": {
          "color": "#CFD8DC",
          "opacity": 0.5,
          "size": 5
         },
         "mode": "markers+text",
         "name": "other",
         "showlegend": false,
         "type": "scattergl",
         "x": [
          4.6445722579956055,
          4.593059062957764,
          3.184605121612549,
          6.678947925567627,
          4.707483291625977,
          4.469526767730713,
          3.8392467498779297,
          6.618096828460693,
          4.1109137535095215,
          5.198176383972168,
          6.720824241638184,
          5.123841762542725,
          5.329317569732666,
          5.454568862915039,
          4.927159786224365,
          5.571824073791504,
          1.6259416341781616,
          5.6168670654296875,
          3.943675994873047,
          3.9720277786254883,
          5.7266645431518555,
          4.871273517608643,
          2.011791706085205,
          6.226629734039307,
          4.62086296081543,
          4.256004333496094,
          5.255934238433838,
          6.666043758392334,
          3.93705153465271,
          6.569723129272461,
          5.2996931076049805,
          4.488471508026123,
          5.753628730773926,
          3.31148099899292,
          3.835350513458252,
          3.030738592147827,
          3.575535535812378,
          4.548745155334473,
          5.705854415893555,
          6.211421012878418,
          4.611252784729004,
          3.5419809818267822,
          3.281266927719116,
          6.197497367858887,
          4.55037260055542,
          5.021549224853516,
          3.815479040145874,
          4.442709445953369,
          4.970921993255615,
          5.267535209655762,
          3.652416944503784,
          5.10758638381958,
          3.871950149536133,
          6.732031345367432,
          6.938793182373047,
          6.670276641845703,
          7.552052021026611,
          4.44684362411499,
          4.106369495391846,
          4.7519755363464355,
          3.6561713218688965,
          3.156647205352783,
          4.254911422729492,
          6.380705833435059,
          4.7301130294799805,
          3.819718360900879,
          4.688847541809082,
          4.957313537597656,
          4.459707260131836,
          4.286996841430664,
          3.4388656616210938,
          5.454825401306152,
          3.939810276031494,
          7.53318452835083,
          4.198421001434326,
          3.7432608604431152,
          5.451114177703857,
          5.03532075881958,
          6.5959930419921875,
          4.875036239624023,
          3.5606281757354736,
          4.578273773193359,
          5.381175994873047,
          4.945323944091797,
          2.7332637310028076,
          3.6519064903259277,
          3.938845157623291,
          5.485969543457031,
          6.442920207977295,
          5.9133734703063965,
          6.686625003814697,
          4.082276821136475,
          6.721571445465088,
          4.038848400115967,
          4.313666343688965,
          3.052621364593506,
          4.617048740386963,
          5.965307235717773,
          5.390511989593506,
          5.674017429351807,
          5.362899303436279,
          3.1604316234588623,
          4.359841823577881,
          4.350927829742432,
          5.285178184509277,
          5.193556308746338,
          7.278860092163086,
          4.904439926147461,
          3.281094551086426,
          4.445886611938477,
          3.444889783859253,
          4.681962013244629,
          3.130653142929077,
          5.760226249694824,
          7.131592750549316,
          5.9341959953308105,
          4.970367431640625,
          2.0315141677856445,
          4.506092071533203,
          4.492039680480957,
          4.792998313903809,
          4.899590492248535,
          8.522010803222656,
          5.523918151855469,
          3.183530807495117,
          4.675164699554443,
          5.150684833526611,
          3.784161329269409,
          4.783297538757324,
          7.300915241241455,
          3.6164772510528564,
          3.1890082359313965,
          3.7634215354919434,
          4.639522075653076,
          4.714619159698486,
          2.16731595993042,
          5.561712265014648,
          4.491286277770996,
          5.150952339172363,
          6.460256576538086,
          5.464080810546875,
          4.870265483856201,
          4.678179740905762,
          7.173985004425049,
          4.481594085693359,
          4.722465515136719,
          5.0714850425720215,
          3.984342336654663,
          4.299236297607422,
          3.087395668029785,
          3.7005679607391357,
          6.300955772399902,
          4.2273945808410645,
          3.5836219787597656,
          4.7738847732543945,
          4.023341178894043,
          4.876257419586182,
          6.433868885040283,
          4.191753387451172,
          4.65074348449707,
          1.5045647621154785,
          5.046995639801025,
          3.8132548332214355,
          3.815154790878296,
          3.811518669128418,
          4.198599338531494,
          3.7528445720672607,
          4.005397796630859,
          6.38468074798584,
          5.013970375061035,
          3.742398500442505,
          5.345007419586182,
          5.6573638916015625,
          4.213375091552734,
          3.976731777191162,
          4.799339294433594,
          5.840387344360352,
          5.553042888641357,
          4.7047810554504395,
          4.768166542053223,
          7.497931003570557,
          5.511706829071045,
          5.996744155883789,
          2.196232557296753,
          4.092890739440918,
          5.26563835144043,
          6.799200534820557,
          4.784945964813232,
          3.2102127075195312,
          3.5607378482818604,
          4.692115783691406,
          6.942084312438965,
          3.583324432373047,
          3.310762643814087,
          4.117668151855469,
          6.346458435058594,
          5.248323440551758,
          6.451085567474365,
          3.721024513244629,
          3.115488290786743,
          6.8138909339904785,
          4.151560306549072,
          7.081752777099609,
          3.2185826301574707,
          4.238657474517822,
          6.778292179107666,
          5.046451568603516,
          3.3149783611297607,
          7.82905387878418,
          2.976440668106079,
          6.493047714233398,
          4.3645100593566895,
          5.596799373626709,
          4.385240077972412,
          4.249721050262451,
          7.500493049621582,
          4.506965637207031,
          6.7004714012146,
          6.62528657913208,
          4.784674644470215,
          4.98689079284668,
          5.415862083435059,
          5.851137161254883,
          6.173518180847168,
          4.969297885894775,
          4.838728904724121
         ],
         "y": [
          11.685218811035156,
          12.794489860534668,
          12.036914825439453,
          12.511067390441895,
          10.055749893188477,
          13.409204483032227,
          12.704669952392578,
          10.613252639770508,
          12.043670654296875,
          10.841039657592773,
          12.017813682556152,
          12.139232635498047,
          10.754362106323242,
          12.81299877166748,
          11.053473472595215,
          10.807501792907715,
          12.038371086120605,
          12.218097686767578,
          10.697053909301758,
          12.72071361541748,
          12.760899543762207,
          11.6331148147583,
          10.914928436279297,
          12.10110092163086,
          13.482989311218262,
          12.841102600097656,
          12.290178298950195,
          12.513751029968262,
          11.841605186462402,
          11.724645614624023,
          11.196680068969727,
          13.778172492980957,
          12.051410675048828,
          11.908587455749512,
          12.485931396484375,
          11.430646896362305,
          10.06151294708252,
          13.656296730041504,
          9.109931945800781,
          12.057548522949219,
          12.781846046447754,
          11.716175079345703,
          10.454703330993652,
          13.370133399963379,
          11.940162658691406,
          12.587809562683105,
          12.807554244995117,
          13.384607315063477,
          11.109055519104004,
          12.221772193908691,
          10.78059196472168,
          12.949429512023926,
          13.456436157226562,
          11.880684852600098,
          12.830822944641113,
          12.97203254699707,
          13.536931037902832,
          12.953490257263184,
          13.143427848815918,
          12.502091407775879,
          10.784015655517578,
          11.444190979003906,
          10.673044204711914,
          12.119161605834961,
          12.392135620117188,
          10.920835494995117,
          10.0758638381958,
          11.075088500976562,
          13.375115394592285,
          12.78720474243164,
          10.665863990783691,
          10.802292823791504,
          11.44056224822998,
          12.162430763244629,
          11.45193099975586,
          11.77064323425293,
          11.875014305114746,
          10.617040634155273,
          13.050365447998047,
          9.822450637817383,
          11.226873397827148,
          11.817072868347168,
          10.937368392944336,
          10.617676734924316,
          12.82287311553955,
          12.357359886169434,
          11.800060272216797,
          10.013226509094238,
          11.846673965454102,
          10.96939754486084,
          12.072452545166016,
          12.169658660888672,
          10.885383605957031,
          10.695414543151855,
          10.566390037536621,
          11.979910850524902,
          11.891006469726562,
          13.289922714233398,
          11.951861381530762,
          9.145646095275879,
          14.063482284545898,
          11.51025104522705,
          12.799933433532715,
          10.028291702270508,
          12.310015678405762,
          11.25403881072998,
          13.941238403320312,
          10.682332992553711,
          11.487738609313965,
          13.416330337524414,
          12.2334623336792,
          12.826037406921387,
          12.022130966186523,
          12.472071647644043,
          12.751803398132324,
          12.006662368774414,
          12.388995170593262,
          11.757951736450195,
          13.544221878051758,
          13.743809700012207,
          11.260416030883789,
          11.310853004455566,
          13.246822357177734,
          10.264244079589844,
          12.04659366607666,
          12.584538459777832,
          11.510674476623535,
          11.212267875671387,
          10.020427703857422,
          11.861176490783691,
          12.256860733032227,
          12.046361923217773,
          12.19365406036377,
          11.883627891540527,
          12.217921257019043,
          11.251178741455078,
          12.768807411193848,
          13.544023513793945,
          12.460654258728027,
          13.032273292541504,
          12.043296813964844,
          11.30176067352295,
          11.879354476928711,
          13.424155235290527,
          13.798198699951172,
          11.7075834274292,
          11.66917896270752,
          11.859251022338867,
          12.841863632202148,
          11.482989311218262,
          10.128202438354492,
          10.278310775756836,
          12.722981452941895,
          10.054883003234863,
          11.73998737335205,
          10.685169219970703,
          10.66063117980957,
          12.47111988067627,
          13.23816204071045,
          11.906648635864258,
          11.352129936218262,
          11.573768615722656,
          12.865509986877441,
          9.189170837402344,
          12.812478065490723,
          11.1332426071167,
          12.44747257232666,
          13.582015037536621,
          11.925256729125977,
          10.590167045593262,
          11.588255882263184,
          10.422066688537598,
          12.557781219482422,
          13.20760440826416,
          10.969281196594238,
          9.981456756591797,
          11.924306869506836,
          12.871186256408691,
          10.05733585357666,
          11.709624290466309,
          14.132210731506348,
          10.233813285827637,
          13.333425521850586,
          12.33259391784668,
          11.951183319091797,
          12.260491371154785,
          10.982892036437988,
          11.775615692138672,
          11.561237335205078,
          11.269999504089355,
          9.99901008605957,
          11.104177474975586,
          10.039100646972656,
          10.734001159667969,
          12.04428482055664,
          12.029860496520996,
          11.930813789367676,
          11.692073822021484,
          11.289007186889648,
          11.990970611572266,
          11.978131294250488,
          12.109530448913574,
          14.102717399597168,
          12.120613098144531,
          12.712303161621094,
          11.995903968811035,
          10.503780364990234,
          11.796637535095215,
          12.881281852722168,
          11.462539672851562,
          12.568615913391113,
          12.8642578125,
          9.33837604522705,
          10.904426574707031,
          12.817300796508789,
          13.385202407836914,
          13.662455558776855,
          10.64113712310791,
          11.844266891479492,
          12.089513778686523,
          10.588702201843262,
          10.818252563476562,
          12.22191047668457,
          12.656327247619629,
          10.601994514465332,
          11.865598678588867
         ]
        },
        {
         "hoverinfo": "text",
         "hovertext": [
          "pay middle eastern terrorist smuggle u via mexican border people sw",
          "austrian girl told wear hijab prevent assault migrant fmr member parliament suggests austrian born girl",
          "chinese corona virus like",
          "break christian attack jihad attack suicide bomber strike catholic church indonesia palm sunday church",
          "yes af slam merkel import culture hate woman turn berlin baghdad migrant willi",
          "easter australia day allow",
          "afd gottfried curio warn world amp stuns german parliament un amp merkel plan expose make every call refugee",
          "warn socialist spain keep register vaccine refusers country receive name dissenter strategy designe",
          "german parliament left stun afd gottfried curio migrant go save germany ruin",
          "syrian muslim refugee welcome america hand citizenship along host taxpayer fund handout",
          "biden legislate executive order unless dictator also biden proceeds sign record break",
          "break germany suspends astra zeneca vaccination although report side effect increase several st",
          "know term islamophobia invent front group muslim brotherhood order export",
          "terrorist come terrorist come",
          "predict biden break trump peacetime record launch air strike syria",
          "france sudanese muslim illegal alien stab immigration official death asylum claim reject",
          "get ready white people joe biden america inbound gt unrelenting stream immigration non stop gt",
          "ten people slaughter syrian muslim refugee ahmad al issa white non muslim terrorist attack also goin",
          "islamic migrant threatens gang rape politician expose illegally operate mosque see video islamic community",
          "suicidal sweden left wing open border policy blame late allahu akbar attack afghani tamim sultani grant",
          "tuesday biden address nation islamic attack say would speculate shooter motive",
          "woman speak islam france threaten rape amp death american understand happen",
          "sharia compliant nike harshly condemn depict iranian female mathematician hijab chosen never",
          "allahu akbar migrant attack migrant riot man commits suicide greek detention center hundred illegal migrant",
          "anti christian twitter iftar amp ramadan hashtag emoji honor islamic holy day one christian ho",
          "sure many research danger associate gene alter prick",
          "father botros coptic orthodox priest try wake west year many christian must die",
          "come religious place thief come steal robber",
          "basically back foreign war shipping american job sea",
          "fifteen girl saudi arabia burn alive islamic sharia religious police let leave burning",
          "alabama litigation jihadist cair file federal lawsuit prison execute two convert islam wit",
          "wow german parliament left stun afd martin hess slam german lawmaker allow war machine ente",
          "sharia uk every woman cover top toe otherwise police collect situati",
          "enrichment father beat sexually abuse daughter check muslim sweden refuse deport court h",
          "army illegal migrant invade hungarian home mayor demand military action woman found army illegals",
          "still catholic apostate",
          "globalists celebrate open border joe biden european union joe biden join force fight right wing extremist",
          "syrian muslim terrorist ahmad al issa try travel syria summer unable due coronavirus lockdown acco",
          "enrich sweden isi child back sweden pose weapon sever head social service take child fro",
          "population control group cheer biden force taxpayer fund overseas abortion trump like reagan stop taxpayer fun",
          "happen make american listen put video year ago man interrogate islamic",
          "enrich germany syrian refugee tell job center would rather fight jihadis meanwhile muslim brotherhood ba",
          "biden test illegal alien coronavirus le month biden number people illegally",
          "hamas link cair amp iihan omar unite demand sharia compliance pro sharia muslim rep elect ilhan omar demand amazon give",
          "expose covid lockdown rule apply salvini left wing italian trial judge salvini trial kidnapping w",
          "belgium first islamic state europe one third country population foreign origin brussels belgian",
          "muslim commit multiple terrorist attack across europe gt muslim look back anger random",
          "make germany great warn globalists socialist amp enemy west germany fed amp rise af lead",
          "government enforces hospital put every death covid",
          "igrant enrichment german woman begs help go street anymore without think pepper spr",
          "people die vaccination accord pej bos cichutek bpk however people",
          "warn communist weaponize fake asian hate crime narrative plot march th u protest party liberation socialis",
          "report government dominate committee call seat inbound flight quarantine place australia",
          "spain attack military age migrant infect coronavirus storm border fence socialist gov caught distri",
          "biden amp eu join force eu commissioner ylva johansson see video work biden fight right wing extremist",
          "france call islamophobe live hr police protection due death threat receive",
          "fbi interviewed terrorist amp nothing major hasan fort hood tx kill amp wound omar mateen orland",
          "start go biden bomb",
          "stop steal twitter suspends spain conservative vox party ahead election video vox leader santiago abascal vow",
          "demographic jihad swedish government lie massive migration number almost illegal migrant grant citizensh",
          "major victory domestic terrorism america today fail huffington post fire radical",
          "america deal deadly islamic terrorist attack colorado jihadist kill mali one",
          "break sweden admits people die high rate due pandemic video statistic reveal overall death rate",
          "share caution vaccine know long term side effect basically modify pe",
          "globalists celebrate eu biden join force fight right wing extremist islamize west ban free speech islamic",
          "londonistan tesco worker help police take muslim attacker brandishing multiple knife",
          "go war germany protect america english replace german ensure",
          "morocco muslim youth vandalize brand new casablanca bus apparent reason",
          "go forward twitter tweet mention coronavirus vaccination censor twitter part",
          "warn isi order wolf attack church amp police spain despite anti terrorist unit warn left wing gov",
          "back another twitter ban new crime quote world health organization discus new vaccination",
          "biden threat global security china ate secretary blinken lunch ccp order press back room",
          "open border joe biden vow increase refugee admission trump demand low refugee admission u histo",
          "global plot left wing western leader continue open border mass migration impose harsh coronavirus lock",
          "democrat darling rep ilhan omar say chuckle israel call democracy compare iran anti",
          "alert mandatory coronavirus vaccination come spain video refuse injection mislabelled vaccine wi",
          "bioterrorism bangladeshi muslim doctor arrest boston try obtain deadly ricin fbi investigate dr ishtiaq",
          "putin responds biden threat wish good health",
          "israel law allows authority know identity unvaccinated people",
          "must watch video break famous doctor develops safe vaccine covid germany prosecutes state targete",
          "turkish president recep tayyip erdogan file criminal complaint dutch opposition leader geert wilder",
          "muslim brotherhood congressman andre carson arrest yet republican allow serve spy house intelligenc",
          "demographic jihad swedish government lie massive migration number video within generation sweden third large",
          "warn u democratic party copy germany deploys antifa stormtroopers conservative germany left wing gov",
          "trump accomplish last president combine",
          "german try warn u",
          "sharia sweden conservative journalist ingrid carlqvist amp maria celander indict thought crime islam face",
          "alert america face invasion border biden flood america refugee terr",
          "keep warn america know many syrian muslim refugee way america next eu",
          "global plot left wing western leader continue open border mass migration imposin",
          "read two new openly anti illegal migrant pro border minister appoint conservative prime minister kyriakos",
          "flashback fbi take poster seek islamic terrorist hamas link cair complain show photo fb",
          "biden sign executive order first ten day president anyone sign many executive order",
          "islamophobia slay unbeliever wherever ye find koran verse",
          "warn attack france come muslim mayor incites jihadis threaten teacher samuel paty style death teacher",
          "terror attack update afghani migrant behind stab sweden medium reporting terrorist suffer",
          "clarkston georgia one georgia large mosque built small city clarkston resident",
          "female palestinian muslim terrorist say prepare carry suicide bombing mission jew like prep",
          "america corrupt refugee resettlement program brainchild senator biden one reason muslim brotherhood end",
          "easy meat another fail muslim asylum seeker rape murder chop body british woman lure",
          "break terror attack sweden eight injured vetlanda video police refuse answer medium question",
          "shock video famous journalist expose suicidal effect sweden open border policy swede told",
          "enrich belgium brussels mohamed mohammed ahmed common name many municipality new stati",
          "elderly abuse grandma ban nursing home activity refuse vaccinate vaccine suppose vol",
          "break swedish news reporting suspect first enter country",
          "suicidal socialist spain moroccan migrant mohamed professional robber commit crime h",
          "linda sarsour organizer woman march amp openly support sharia law let sink adaywithoutwomen internati",
          "want keep america safe stop import people want kill u simple",
          "alabama litigation jihadist cair file federal lawsuit prison execute two convert islam without",
          "course american medium never show capital city european union new year eve bruss",
          "enrich uk refugee demand hotel set fire barrack threaten kidnapping staff commonplace europ",
          "anyone yet investigate mosque ahmad al issa attend",
          "covid plot gay man flee venezuela warns communist take canada trudeau use virus power grab",
          "follow france footstep austria begin crackdown muslim",
          "hey know syrian muslim terrorist colorado twitter account delete show h",
          "world hijab day one many subtle tactic use muslim brotherhood front group introduce sharia america illino",
          "shill foreign domestic enemy",
          "new follower syria last week see",
          "yet bombed middle eastern country",
          "threat alert terror tie migrant run dangerous mosque amp islamic school florida dr fadi yousef kablawi long history",
          "meanwhile enrich belgium four minor arrest plot islamic terrorist attack one already bought mac",
          "venezuela start free distribution drug covid",
          "belgium first islamic state europe one third country population foreign origin brussels belg",
          "pau manager reception center kill knife sudanese migrant via",
          "bolder muslim refugee terrorist convict misdemeanor assault another student high school suspe",
          "geert wilder shock dutch parliament koran full jew hatred wilder demand parliament stop pretend care abo",
          "coronavirus tyranny german state police detain maskless elderly cyclist citizen violate chancellor angela merkel lockd",
          "enough mr laschet enough merkel cry help hairdresser bianka fuse burn",
          "remember nato bombing yugoslavia",
          "hamas link cair amp soros unite push blasphemy law wan america cair call legislator label criticism",
          "dr fauci covid expert back march",
          "trump accomplish last president combine",
          "biden need another war middle east also biden proceeds bomb syria",
          "muslim ever respect religious teacher religion koran order religion",
          "break see inside germany maximum security corona jail quarantine violator barbed wire amp security fence surround",
          "eu schmuck blast bosnia take well care illegal alien muslim invader burn calle",
          "netherlands like last week former soldier stood today protection protester",
          "terror canada nye amir abdulrahman amp al azan shah muhammad drag police sgt andrew harnett death enrichers",
          "christian refugee austria return syria safer young christian syria flee austria esca",
          "break massive cover expose virologist sucharit bhakdi healthy people dangerous vaccine young",
          "enrich france police crew attack mortar fire car burn amp fire set throughout lyon mayor refuse",
          "germany threatens citizen merkel release ultimatum get vaccinate banish germany already throw quarantine",
          "france muslim arrest try carry attack jewish school amp kosher grocery video prosecutor cry mental illness",
          "tell u else could seem may side effect",
          "radical somali congressmuslim ilhan omar mn threatens force republican congresswoman office",
          "kill kill war police france mainly african arab muslim commu",
          "astra zeneca prove dangerous yet country throughout europe push citizen meanwhile famous german doctor",
          "bloody man throw decapitate head window onto street france short month ago islamic migrant",
          "biden let million illegals america vaccination record democrat",
          "question point baby wear hijab hijab suppose prevent men tempt sin appea",
          "italy naked jaybird illegal alien muslim invader take leak middle street broad daylight",
          "new year austria civil war like incident amp yell allahu akbar new year eve vienna meanwhile elec",
          "woman march silent taxpayer fund german school put hijab non muslim german girl dress rehearsal",
          "west full country protect border dangerous illegal migrant problem imposi",
          "trump peace biden war thanks left",
          "politician marine le pen party france slam famous ballet du nord put woman sharia hijab",
          "hijab amp niqab represent subjugation woman sign woman accept responsibility keep men tempt",
          "fbi arrest doug mackey aka ricky vaughn conservative journalist florida face year hurt democrat",
          "well uganda damn well leave sweden",
          "deeply disappointed gov abbott proud gab amp jewish support christian run business amp thank",
          "biden obama back terrorist please islamic pakistani sharia court overturn conviction",
          "break u custom border protection report illegals attempt cross border february",
          "french geneticist covid health crisis test healthy people medicine see viral video focus",
          "germany stab spree frankfurt leaf several injured german authority probe attacker motif",
          "warn conservative dangerous new antifa doxxing group beware deplatform hate left wing deplatform hate lat",
          "shock famous journalist expose suicidal effect sweden open border policy video swede told",
          "colorado shooter facebook page quote prophet muhammad also know extremely religious sure thi",
          "hungary continue put people st illegals prime minister viktor orb n vowed never allow christian country chang",
          "hungarian prime minister orb n soros population replacement make europe muslim orb n leader pa sto",
          "coronavirus tyranny truth teller arrest uk woman arrest film inside empty hospital post online",
          "migrant party taxpayer fund resort pool spain remains lockdown two week ago migrant left wing red",
          "one good thing french police never hesitate fire weapon knife wield muslim",
          "vaccination blackmail restaurant expect reopen january",
          null
         ],
         "marker": {
          "opacity": 0.5,
          "size": 5
         },
         "mode": "markers+text",
         "name": "0_muslim_biden_migrant",
         "text": [
          "",
          "",
          "",
          "",
          "",
          "",
          "",
          "",
          "",
          "",
          "",
          "",
          "",
          "",
          "",
          "",
          "",
          "",
          "",
          "",
          "",
          "",
          "",
          "",
          "",
          "",
          "",
          "",
          "",
          "",
          "",
          "",
          "",
          "",
          "",
          "",
          "",
          "",
          "",
          "",
          "",
          "",
          "",
          "",
          "",
          "",
          "",
          "",
          "",
          "",
          "",
          "",
          "",
          "",
          "",
          "",
          "",
          "",
          "",
          "",
          "",
          "",
          "",
          "",
          "",
          "",
          "",
          "",
          "",
          "",
          "",
          "",
          "",
          "",
          "",
          "",
          "",
          "",
          "",
          "",
          "",
          "",
          "",
          "",
          "",
          "",
          "",
          "",
          "",
          "",
          "",
          "",
          "",
          "",
          "",
          "",
          "",
          "",
          "",
          "",
          "",
          "",
          "",
          "",
          "",
          "",
          "",
          "",
          "",
          "",
          "",
          "",
          "",
          "",
          "",
          "",
          "",
          "",
          "",
          "",
          "",
          "",
          "",
          "",
          "",
          "",
          "",
          "",
          "",
          "",
          "",
          "",
          "",
          "",
          "",
          "",
          "",
          "",
          "",
          "",
          "",
          "",
          "",
          "",
          "",
          "",
          "",
          "",
          "",
          "",
          "",
          "",
          "",
          "",
          "",
          "",
          "",
          "",
          "",
          "",
          "",
          "",
          "",
          "",
          "",
          "",
          "",
          "",
          "",
          "",
          "",
          "",
          "",
          "0_muslim_biden_migrant"
         ],
         "textfont": {
          "size": 12
         },
         "type": "scattergl",
         "x": [
          2.786526679992676,
          2.0484397411346436,
          1.082724928855896,
          3.5416746139526367,
          2.2030909061431885,
          3.589993476867676,
          2.116264820098877,
          1.0767261981964111,
          2.09171462059021,
          2.616546869277954,
          2.362699031829834,
          1.1703476905822754,
          2.550626516342163,
          3.6949069499969482,
          2.4042327404022217,
          2.700319766998291,
          2.473217725753784,
          2.620248317718506,
          2.8054895401000977,
          1.6353760957717896,
          2.510709524154663,
          2.5808422565460205,
          2.0250895023345947,
          2.6605818271636963,
          3.544825315475464,
          1.066351056098938,
          3.2167627811431885,
          3.5798275470733643,
          2.7096896171569824,
          2.1729536056518555,
          2.9015822410583496,
          2.0318398475646973,
          2.047389030456543,
          1.7473937273025513,
          1.942634105682373,
          3.2899887561798096,
          2.4387879371643066,
          2.5795304775238037,
          1.6809360980987549,
          2.386533498764038,
          2.871260404586792,
          2.4109268188476562,
          2.360039234161377,
          3.0438530445098877,
          1.5764682292938232,
          2.5631954669952393,
          2.700456142425537,
          2.1797690391540527,
          1.276218056678772,
          1.8298102617263794,
          1.0272917747497559,
          4.0151872634887695,
          1.4826384782791138,
          1.4784072637557983,
          2.4806900024414062,
          2.655067205429077,
          2.806077241897583,
          2.4952776432037354,
          1.5610543489456177,
          1.660036563873291,
          3.650238037109375,
          2.7580296993255615,
          1.526586890220642,
          0.9964821934700012,
          2.570580005645752,
          2.5775389671325684,
          2.271117925643921,
          2.6085867881774902,
          1.0913282632827759,
          2.16646146774292,
          1.1508445739746094,
          2.5610098838806152,
          2.386763095855713,
          1.534110188484192,
          3.1845154762268066,
          1.1096171140670776,
          2.726531744003296,
          2.4960098266601562,
          1.0183931589126587,
          1.1384661197662354,
          2.0799560546875,
          2.9439868927001953,
          1.6069769859313965,
          2.1482021808624268,
          2.380751848220825,
          2.275665521621704,
          1.887974500656128,
          2.488131284713745,
          2.4977681636810303,
          1.713650107383728,
          1.708041787147522,
          3.0260026454925537,
          2.3795852661132812,
          2.6425788402557373,
          2.654945135116577,
          1.7151613235473633,
          2.8921122550964355,
          2.4779531955718994,
          2.6378307342529297,
          2.5833420753479004,
          1.6605656147003174,
          1.5894296169281006,
          2.6257801055908203,
          1.2520338296890259,
          1.6092000007629395,
          2.7490761280059814,
          2.0752689838409424,
          2.6027979850769043,
          2.9225540161132812,
          3.5877795219421387,
          2.497774600982666,
          2.9351556301116943,
          1.392052412033081,
          2.502138137817383,
          2.8041129112243652,
          2.091667890548706,
          4.013765335083008,
          2.718264102935791,
          2.630544662475586,
          2.9795873165130615,
          2.6663589477539062,
          1.2178865671157837,
          2.5898265838623047,
          2.658592939376831,
          2.8076729774475098,
          2.0721828937530518,
          1.7687243223190308,
          2.217433214187622,
          2.473865032196045,
          3.1056835651397705,
          1.1687792539596558,
          2.3416223526000977,
          2.479480028152466,
          3.2304608821868896,
          1.8515313863754272,
          2.3465118408203125,
          2.011775493621826,
          3.4065442085266113,
          2.4861977100372314,
          1.015671730041504,
          2.665316581726074,
          1.8168909549713135,
          2.6384871006011963,
          1.0006256103515625,
          2.8950319290161133,
          2.800894021987915,
          1.2292155027389526,
          2.6499524116516113,
          2.3291525840759277,
          2.0597448348999023,
          2.912635087966919,
          3.708380937576294,
          2.033095121383667,
          2.460516929626465,
          2.5609548091888428,
          2.056171417236328,
          2.0379109382629395,
          3.0342438220977783,
          1.6643632650375366,
          3.2867112159729004,
          2.902137517929077,
          2.442807197570801,
          1.1314491033554077,
          1.9268864393234253,
          4.0623369216918945,
          1.5900672674179077,
          2.8083090782165527,
          1.9932173490524292,
          1.9032444953918457,
          1.3355538845062256,
          1.577138900756836,
          2.656064033508301,
          1.026419758796692,
          2.310839891433716
         ],
         "y": [
          11.42294692993164,
          9.936259269714355,
          11.478541374206543,
          10.532280921936035,
          11.313660621643066,
          10.567469596862793,
          11.449845314025879,
          11.755321502685547,
          11.466415405273438,
          11.213065147399902,
          12.805200576782227,
          11.695813179016113,
          10.161748886108398,
          10.681726455688477,
          12.75924301147461,
          9.847917556762695,
          12.174691200256348,
          10.609771728515625,
          10.17642879486084,
          10.519067764282227,
          12.54247760772705,
          9.880193710327148,
          9.944391250610352,
          10.121315002441406,
          10.56950569152832,
          11.645602226257324,
          10.30880069732666,
          10.538345336914062,
          11.929351806640625,
          9.924370765686035,
          10.877018928527832,
          11.51559829711914,
          9.940982818603516,
          10.340815544128418,
          10.899226188659668,
          10.446558952331543,
          12.356391906738281,
          10.743912696838379,
          10.393070220947266,
          12.346715927124023,
          10.370083808898926,
          11.083707809448242,
          12.222134590148926,
          10.956062316894531,
          11.45040225982666,
          10.2122220993042,
          10.13603401184082,
          11.569761276245117,
          11.60175609588623,
          11.632472038269043,
          11.803799629211426,
          12.483307838439941,
          11.519163131713867,
          11.251721382141113,
          12.468082427978516,
          9.787784576416016,
          10.650915145874023,
          12.709603309631348,
          11.1284818649292,
          10.44070053100586,
          12.661137580871582,
          10.42949104309082,
          10.576582908630371,
          11.782464981079102,
          12.337400436401367,
          10.07084846496582,
          11.649571418762207,
          9.901046752929688,
          11.754176139831543,
          10.556296348571777,
          11.782938957214355,
          12.660369873046875,
          12.110044479370117,
          11.15793228149414,
          11.029181480407715,
          11.715909957885742,
          10.631917953491211,
          12.649850845336914,
          11.81132698059082,
          11.692530632019043,
          11.391515731811523,
          11.169326782226562,
          10.471415519714355,
          11.5720796585083,
          12.897558212280273,
          11.630882263183594,
          10.211897850036621,
          11.949384689331055,
          11.082647323608398,
          10.94797134399414,
          10.951498031616211,
          10.87016773223877,
          12.775808334350586,
          10.185750961303711,
          9.806402206420898,
          10.426593780517578,
          10.59664249420166,
          9.95628833770752,
          11.235812187194824,
          10.106207847595215,
          10.448248863220215,
          10.493523597717285,
          10.241927146911621,
          11.865870475769043,
          10.482373237609863,
          9.893814086914062,
          10.13909912109375,
          11.831686019897461,
          10.885401725769043,
          10.762199401855469,
          10.35203742980957,
          10.68134880065918,
          11.309110641479492,
          10.168327331542969,
          10.45596981048584,
          10.034346580505371,
          12.535209655761719,
          10.451690673828125,
          10.68195629119873,
          10.678431510925293,
          9.951791763305664,
          11.573542594909668,
          10.221946716308594,
          9.962693214416504,
          10.514113426208496,
          11.45151424407959,
          11.566701889038086,
          11.290853500366211,
          10.849258422851562,
          10.925613403320312,
          11.605985641479492,
          12.911469459533691,
          12.68346881866455,
          10.491842269897461,
          11.555230140686035,
          10.994400978088379,
          11.456801414489746,
          10.951521873474121,
          10.959709167480469,
          11.813746452331543,
          9.773279190063477,
          11.614352226257324,
          9.781990051269531,
          11.793259620666504,
          10.740131378173828,
          9.790605545043945,
          11.68407917022705,
          9.947815895080566,
          12.302778244018555,
          9.92218017578125,
          10.091259002685547,
          10.72000503540039,
          9.986130714416504,
          11.78320026397705,
          12.627169609069824,
          10.101112365722656,
          9.927437782287598,
          11.146339416503906,
          10.392485618591309,
          10.852124214172363,
          11.262853622436523,
          12.009919166564941,
          11.611193656921387,
          11.456933975219727,
          12.500383377075195,
          10.476045608520508,
          10.378079414367676,
          10.884907722473145,
          10.863008499145508,
          11.620556831359863,
          11.065610885620117,
          9.802434921264648,
          11.778916358947754,
          11.059656143188477
         ]
        },
        {
         "hoverinfo": "text",
         "hovertext": [
          "call mass shoot however medium report shooter white",
          "people fake hate crime free government money",
          "gt replaces white men normalize concept white people replace non white white",
          "hostile people really except crazy notion planet father god chose",
          "equality liberal construct",
          "really live white supremacist country repeatedly told would law make",
          "white literally nothing bad could ever accuse racism accuse l",
          "guy invent hate crime never happen get free paycheck",
          "write wall white race slat genocide hyperbole exaggeration",
          "year say wag war white people finally understand sa",
          "many year ago say would eventually consider racist arrest black person crime committ",
          "white supremacist keep get darker darker day",
          "people ready admit yet real war wag white people",
          "freak wonder white nationalism rise world",
          "nothing see folk diversity continue great strength",
          "u call suarez something wen call u nigger u bitch",
          "literally institutional racism exists",
          "racist cookie lecture u wokeness",
          "mom mom sheep meeeeeeh black sheep yeah nigga moderfacka hahahahahahahaha yeah nigg",
          "see work literally anything infringes money power decry white",
          "good kyle rittenhouse never arrest first place defend violent mob shoul",
          "time social medium limited use time wisely anti white take war white ser",
          "law enforcement earn every bit hate receive chosen side enemy people",
          "global war white people",
          "way win socio political fight attract fighter side pro white community need foc",
          "quick way get rich america black falsely accuse white person racist toward",
          "strength ancestor life within blood strength survive long enough conti",
          "war adolf hitler never end evolve war white people",
          "refer white people disease probably great way convince u racist go ahead",
          "blackwashing white history continue force stop",
          "replace white people white country tell u source st",
          "diversity mean death white people able get conceal carry permit get reliable firearm",
          "black woman move white neighborhood complains many",
          "diversity strength army choose diversity",
          "white white law protects discriminate white people",
          "basically illegal immigrant get citizenship replace u either way cool steven repeat",
          "democrat rep jackie speier think lot white american u military national security threat",
          "read write wall white people normalize discrimination stop w",
          "say thousand time bear repeat anti racism dangerous new age religion religi",
          "blame white people violent crime commit black end piss entire wh",
          "black need liberal woman offend behalf even think liberal really offend anywa",
          "right replace white man twenty dollar bill black woman worthy high priority",
          "white people ally literally every non white race united",
          "repeat lie truth know want erase white history",
          "course even let white one thing non white ob acce",
          "want really think white man every dollar government take give black",
          "left furious brandon elliot white supremacist instead lifetime parole murder mother sai",
          "nothing allow white white problem need address",
          "never want equality always secretly want revenge",
          "one white person alive today ever black slave one black person alive today ever white",
          "reason white people child simulate experience slave",
          "like well negro",
          "multi racial society create peace prosperity people create animosity hostility hatred vi",
          "anyone pretend anyone even want integration first place literally everyone want separation w",
          "black community none white people concern black community allow behave whatever",
          "actually watch right funny listen black dude talk sell crack",
          "institutional white genocide look like",
          "like cold cold make white ancestor hard strong broke weak bloodline ensure",
          "say keep right say one single white man alive today ever slave",
          "people fanatically anti racist really anti white tend also mentally ill literally watch",
          "replace white people",
          "weak argument difference white kid already die fentanyl overdose l",
          "enemy good mean stood something sometime life winston churchill value yo",
          "never want equality never want mere empowerment either aim always empow",
          "white privilege actually exist listen mindless robot drone repeat",
          "fact liberal consider white guy star athlete change white supremacy tell everythi",
          "america really white supremacist nation consume institutional racism big mega corp like coca",
          "look accept random cop beating people baton like use one call",
          "outside environment impose upon artificially construct human race mix almos",
          "interestingly enough know sole authority define word like hate racism bigotry extremis",
          "man white supremacist asian hater keep get darker darker",
          "illegal adopt black child black",
          "ally people white people always always stop",
          "diversity sensitivity training really mean anti white indoctrination critical race theory",
          "black actually oppose police shooting oppose police shoot black criminal",
          "many innocent white people beaten shot murder savage collectively defen",
          "high culture civilization diversity",
          "guy charge proud boy name enrique tarrio yet proud boy still label white supre",
          "true black woman africa landmass black overwhelm super majority",
          "expropriation without compensation really mean steal farm white farmer destroy say farm blame whit",
          "openly admit displace white people white place living white supremacist conspirac",
          "white country simply never ask ask reject foreign people foreign c",
          "much institutional white supremacy racism",
          "live every stereotype",
          "remove portrait white judge white go ahead tell war",
          "make white people happy racist need stop",
          "white genocide conspiracy theory need challenge misinformation u experience great",
          "event like go continue occur white country citizen form powerful group real li",
          "even issue black asian racism violence narrative remains white people real pro",
          "amount money ever bring equality equality exist anywhere nature brib",
          "white men deserve job white men tell white men persecute",
          "want live around u want live around mutually peacefully separate",
          "talk jq day long however people like michael jones catholic even admit whit",
          "apparently white people fault black woman sprayed hair gorilla glue anything",
          "fuck sake kill two white people death count racism motivation",
          "america literally white people single western country planet anti american e",
          "non white responsible action black gun gang motivate mass sh",
          "black life matter movement nominate nobel peace prize via",
          "act spiritual psychological warfare native european people white people nowhere else",
          "basically say long racism direct toward white people white country",
          "rapist black call rapist call pervert downplay black crim",
          "hunt white supremacist era witch hunt new regime want look every white person w",
          "law enforcement earn every bit hate receive chosen side enemy people",
          "every non white race planet encourage celebrate history heritage culture white race",
          "stereotypical behavior nope way",
          "inca people conquer genocided killke people another south american tribe big deal b",
          "particular point time obvious naked eye race people happier segregation",
          "gt billion covid relief black farmer tell living white supremacist society",
          "know beat white people say care white black yellow blue purple",
          "racist always mean white people call u racist justify violence u fal",
          "deny racist actually proof racist",
          "year literal white genocide",
          "diversity strength army choose diversity",
          "white people well black people thread",
          "man white supremacist asian hater keep get darker darker",
          "diversity safe neighborhood",
          "white elder abuse rampant",
          "toxic upbringing environment anti white hatred racism cultivate hollywood medium school un",
          "translation many white people science statistic technology go replace white",
          "non white prioritize white tell systemic racism exists",
          "yet another evil white man save helpless animal almost behavior genetic something",
          "suck whitedick nigger gayraceplay gaysex oral gayoral interracialgaysex blacksucker bwc",
          "white supremacy mean white people believe white life matter war wag agai",
          "say lot year keep repeat hunt racism era witch hunt",
          "white people get dangerously fed foreigner get away countless act violence",
          "say even okay u pride nationality already",
          "stereotypical behavior nope way",
          "white want something call white supremacy black want thing call response",
          "call whatever want coca cola anti white actively participate war wag",
          "excuse pedophile time never tolerate white person believe white life matter",
          "lot picture show holodomor gulag mostly white folk",
          "go walk condition yeah white thing understand",
          "nigger cocksluts help crave white dick much take matter attach",
          "abolish whiteness mean abolish white people fact popular well receive slogan",
          "institutional white genocide look like",
          "global war white people",
          "netflix already rag machine diversity propaganda",
          "read write wall yet guy war wag white man ever surren",
          "advanced civilization",
          "literally zero justification flood white country non white foreigner whole age dy",
          "black people really little lie small shit",
          "multiculturalism culture mix amp blend together create singular monoculture multicultur",
          "war wag white people everything fault",
          "eventually go consider racist white person deny non white access body",
          "around world white people get dangerously fed violently attack forei",
          "apparently special kind hate black woman experience call misogynoir seriously",
          "social medium like densest major city human existence loud chaotic fast pace emotional irr",
          "replace white people",
          "post still anti white butthurt black history month",
          "feel whole lot well impend collapse western civilization white people form group",
          "even black want segregation back peaceful separation solution today catastrophic failure race r",
          "folkish state make certain suitable education youth day obtain race ripe",
          "happens white become minority",
          "repeat white get dictate white people anti white raci",
          "hence social justice warrior infect",
          "blackwashing never end white people erase little little",
          "literally nothing label racist white supremacist pathological hatred white men",
          "eventually go consider racist white person deny non white access body",
          "need keep drive story home power blame white people murder commit bl",
          "rhetoric creature manufacture cultivate endless hatred white people people wh",
          "treat big deal rioter antifa whatever reason police always se",
          "literally neither men kill white people let alone white nationalist kill black",
          "yeah war white people",
          "gt white supremacy virus like virus die body left infect w",
          "medium try get black murder innocent white people white people fully prepared defend yourselv",
          "let spell black separatist treat random individual isolated social medium",
          "blackwashing white history continue force stop",
          "many innocent white child die start storm street righteous hatred",
          "anti white amp anti american rhetoric exactly taught kid across america",
          null
         ],
         "marker": {
          "opacity": 0.5,
          "size": 5
         },
         "mode": "markers+text",
         "name": "1_white_people_black",
         "text": [
          "",
          "",
          "",
          "",
          "",
          "",
          "",
          "",
          "",
          "",
          "",
          "",
          "",
          "",
          "",
          "",
          "",
          "",
          "",
          "",
          "",
          "",
          "",
          "",
          "",
          "",
          "",
          "",
          "",
          "",
          "",
          "",
          "",
          "",
          "",
          "",
          "",
          "",
          "",
          "",
          "",
          "",
          "",
          "",
          "",
          "",
          "",
          "",
          "",
          "",
          "",
          "",
          "",
          "",
          "",
          "",
          "",
          "",
          "",
          "",
          "",
          "",
          "",
          "",
          "",
          "",
          "",
          "",
          "",
          "",
          "",
          "",
          "",
          "",
          "",
          "",
          "",
          "",
          "",
          "",
          "",
          "",
          "",
          "",
          "",
          "",
          "",
          "",
          "",
          "",
          "",
          "",
          "",
          "",
          "",
          "",
          "",
          "",
          "",
          "",
          "",
          "",
          "",
          "",
          "",
          "",
          "",
          "",
          "",
          "",
          "",
          "",
          "",
          "",
          "",
          "",
          "",
          "",
          "",
          "",
          "",
          "",
          "",
          "",
          "",
          "",
          "",
          "",
          "",
          "",
          "",
          "",
          "",
          "",
          "",
          "",
          "",
          "",
          "",
          "",
          "",
          "",
          "",
          "",
          "",
          "",
          "",
          "",
          "",
          "",
          "",
          "",
          "",
          "",
          "",
          "",
          "",
          "",
          "",
          "",
          "",
          "",
          "",
          "",
          "",
          "",
          "",
          "",
          "",
          "1_white_people_black"
         ],
         "textfont": {
          "size": 12
         },
         "type": "scattergl",
         "x": [
          6.557648658752441,
          5.515867710113525,
          8.634883880615234,
          6.710312366485596,
          8.335251808166504,
          6.466580867767334,
          7.624749183654785,
          5.972074508666992,
          7.589157581329346,
          7.390905380249023,
          6.384530067443848,
          7.463393211364746,
          7.16015625,
          6.963928699493408,
          6.659409999847412,
          7.762412071228027,
          7.793059349060059,
          7.732349395751953,
          7.878767490386963,
          8.204350471496582,
          6.102747917175293,
          7.126513481140137,
          5.52714204788208,
          7.045544147491455,
          7.410188674926758,
          7.584926128387451,
          6.7296600341796875,
          6.687081336975098,
          7.426900863647461,
          7.89275598526001,
          8.66069221496582,
          6.652612209320068,
          7.437137603759766,
          6.674800872802734,
          7.9482831954956055,
          8.742005348205566,
          7.943832874298096,
          7.842089653015137,
          7.182747840881348,
          7.009037971496582,
          8.103693962097168,
          8.700447082519531,
          6.877631187438965,
          7.923150539398193,
          7.392032146453857,
          8.200455665588379,
          6.905266284942627,
          7.448017120361328,
          8.363380432128906,
          7.937018871307373,
          7.29044246673584,
          7.850307941436768,
          6.593395233154297,
          7.160813808441162,
          7.1783766746521,
          7.884483814239502,
          7.704920291900635,
          6.863768100738525,
          8.084423065185547,
          7.2141265869140625,
          8.691838264465332,
          7.100541591644287,
          5.484988212585449,
          8.36882209777832,
          7.915980815887451,
          7.918860912322998,
          7.173853874206543,
          6.109791278839111,
          6.597307205200195,
          6.280378341674805,
          7.708378791809082,
          6.3999152183532715,
          7.079445838928223,
          7.671693325042725,
          6.499614715576172,
          6.86852502822876,
          6.660135746002197,
          7.7187066078186035,
          8.026505470275879,
          8.267609596252441,
          7.718288898468018,
          7.174754619598389,
          7.768781661987305,
          8.375960350036621,
          7.834635257720947,
          7.762564182281494,
          7.674559593200684,
          6.831087589263916,
          7.392289161682129,
          8.33384895324707,
          8.085559844970703,
          6.509047985076904,
          7.92403507232666,
          7.615194797515869,
          6.826118469238281,
          7.016112327575684,
          6.725343227386475,
          7.391395092010498,
          6.9133453369140625,
          7.613492488861084,
          7.8656816482543945,
          7.4106221199035645,
          5.523829936981201,
          6.767996788024902,
          8.382412910461426,
          7.567225456237793,
          7.457434177398682,
          7.101800441741943,
          7.916077136993408,
          7.572084903717041,
          7.661416530609131,
          7.63366174697876,
          6.667915344238281,
          7.866572380065918,
          7.644274711608887,
          6.73136568069458,
          7.199229717254639,
          7.191283226013184,
          8.665044784545898,
          7.9074859619140625,
          6.909606456756592,
          7.747104644775391,
          7.74393367767334,
          7.364469528198242,
          7.038900375366211,
          6.980223178863525,
          8.381686210632324,
          7.636390209197998,
          7.702731132507324,
          7.7495527267456055,
          7.640244960784912,
          7.393039703369141,
          7.747273921966553,
          8.001688957214355,
          7.667535305023193,
          7.046367168426514,
          7.463082313537598,
          7.7695488929748535,
          6.712680339813232,
          6.968002796173096,
          7.907001495361328,
          6.698101997375488,
          7.018911361694336,
          7.410576343536377,
          7.0588698387146,
          8.047734260559082,
          6.47313117980957,
          8.694880485534668,
          7.838235378265381,
          6.858193397521973,
          7.180731296539307,
          6.630499839782715,
          8.561002731323242,
          7.720353603363037,
          6.991752624511719,
          7.913149833679199,
          7.6184844970703125,
          7.422074794769287,
          6.942837715148926,
          7.338331699371338,
          5.887966156005859,
          6.8082380294799805,
          7.15256929397583,
          6.992534160614014,
          6.816675662994385,
          7.090482234954834,
          7.876379013061523,
          7.015113830566406,
          7.487112045288086,
          7.372672080993652
         ],
         "y": [
          13.204652786254883,
          13.00417709350586,
          13.427273750305176,
          13.632545471191406,
          12.712079048156738,
          13.777324676513672,
          13.045356750488281,
          12.972613334655762,
          13.373519897460938,
          13.87104606628418,
          12.89782428741455,
          13.64450454711914,
          13.657770156860352,
          13.410310745239258,
          13.880574226379395,
          12.887275695800781,
          13.996528625488281,
          13.45187759399414,
          12.566291809082031,
          13.142852783203125,
          12.86800765991211,
          13.5907621383667,
          13.016190528869629,
          13.654693603515625,
          13.17004680633545,
          12.825343132019043,
          12.745279312133789,
          13.71470832824707,
          12.67723560333252,
          13.730690956115723,
          13.426759719848633,
          13.916563987731934,
          12.653033256530762,
          13.899739265441895,
          13.302095413208008,
          13.492999076843262,
          13.788764953613281,
          13.263440132141113,
          13.877603530883789,
          13.207706451416016,
          12.754229545593262,
          13.452543258666992,
          13.278596878051758,
          13.755499839782715,
          12.60953140258789,
          13.098987579345703,
          13.071503639221191,
          12.578226089477539,
          12.706071853637695,
          13.206138610839844,
          13.179427146911621,
          12.58028793334961,
          13.779016494750977,
          13.719461441040039,
          13.648801803588867,
          12.482039451599121,
          14.098294258117676,
          12.819977760314941,
          13.397619247436523,
          13.483075141906738,
          13.447772979736328,
          12.957145690917969,
          12.991150856018066,
          12.745362281799316,
          13.400288581848145,
          13.174639701843262,
          13.050212860107422,
          12.868367195129395,
          12.9424409866333,
          13.361410140991211,
          13.564109802246094,
          12.722338676452637,
          13.07008171081543,
          13.425725936889648,
          12.94420051574707,
          13.14433765411377,
          13.837203979492188,
          13.210453987121582,
          12.74288558959961,
          13.117879867553711,
          13.597190856933594,
          12.54300308227539,
          14.045907974243164,
          12.52463436126709,
          13.414506912231445,
          13.184989929199219,
          13.862812995910645,
          13.289510726928711,
          13.114924430847168,
          12.8109769821167,
          13.361855506896973,
          13.489557266235352,
          12.552722930908203,
          13.042936325073242,
          13.053004264831543,
          13.26081657409668,
          13.159727096557617,
          13.072175979614258,
          13.651708602905273,
          13.290225982666016,
          12.64566707611084,
          13.994994163513184,
          12.986166954040527,
          13.421689987182617,
          12.532573699951172,
          13.804548263549805,
          13.842941284179688,
          13.202277183532715,
          13.059539794921875,
          13.020564079284668,
          12.876138687133789,
          14.067278861999512,
          13.910934448242188,
          12.805875778198242,
          13.549209594726562,
          13.899945259094238,
          13.129460334777832,
          13.474018096923828,
          13.43115234375,
          13.475008010864258,
          12.872706413269043,
          12.434507369995117,
          13.338534355163574,
          13.977649688720703,
          12.960874557495117,
          12.389838218688965,
          12.531783103942871,
          13.210070610046387,
          13.312495231628418,
          13.180374145507812,
          14.159687995910645,
          12.551735877990723,
          13.025400161743164,
          13.447689056396484,
          14.107972145080566,
          13.687713623046875,
          13.70931625366211,
          13.415865898132324,
          13.827547073364258,
          12.793071746826172,
          12.604348182678223,
          13.864326477050781,
          13.599203109741211,
          12.627001762390137,
          13.373209953308105,
          12.6668701171875,
          13.6647367477417,
          13.432579040527344,
          13.706189155578613,
          13.321365356445312,
          13.750271797180176,
          13.581269264221191,
          13.467530250549316,
          13.245380401611328,
          13.161004066467285,
          13.734049797058105,
          13.283895492553711,
          12.605181694030762,
          13.19631290435791,
          13.525029182434082,
          12.931650161743164,
          13.0177001953125,
          13.695633888244629,
          13.28490924835205,
          13.217964172363281,
          13.717195510864258,
          13.70180606842041,
          13.162538528442383,
          13.414669036865234,
          13.270634651184082
         ]
        },
        {
         "hoverinfo": "text",
         "hovertext": [
          "know many people receive permanent ban social medium account express concern drag",
          "someone dm please send picture cat anyrtgingh im boredddd",
          "jesus fuck christ guy happens talk tough try look sound cool violence g",
          "anyway would never stop repeat place woman tiktok quite simply",
          " ",
          "never entirely comfortable truth behind champion always fight something otherwi",
          "little junk",
          "anyone think create video channel want deal tube censorship bit chute shitty",
          " ",
          "nigga like life anime yea bro one piece shit",
          "go year old woman nothing justice act revenge",
          "twitter purge account every single day add follower year instead lose follow",
          "accident",
          "lie repeat often enough eventually becomes truth",
          "bought paid",
          "okay checked fuck real",
          "yes invisible",
          "every single time",
          "drop photography mine",
          "assume fight back know one actually start fight",
          "wow",
          "amaze article people write two year ago show ten thousand follower",
          "total utter bullshit",
          "beating u game shut game fucker literally take ball g",
          "great many level",
          "baaaaaaaaaaaaa",
          "expose back october",
          "idea guy god work love see clip float around",
          "people still oblivious truth right plain sight",
          "delete first one get ratio ed hard uploaded new one allow",
          "prove u right every single time",
          "fuck petty go year old man weak pathetic creature",
          "think twitter allow certain conservative account maintain follower erase account like min",
          "every day come onto twitter lose another hundred follower add follower two year",
          "okay checked fuck real",
          "well yes certainly full crap",
          "actually interviewed tube channel couple year ago gotten thousand view",
          "shut shut goy know goy really know",
          "always little shit think smarter elder inevitably end shit",
          "fanart prefer",
          "recent psych science paper use national iq predict stuff ran simple probability calculation measur",
          "yes",
          "might audio version concept odysee channel find someone want put together vid",
          "enough people drop look",
          "caught k say true",
          "lose follower twitter seem like tolerant free speech love place",
          "assume fight back know one actually start fight",
          "twitter thousand retweets twitter dozen retweets twitter new follower daily twitter followe",
          "stupid fuck bitch",
          "parody account",
          "dude fuck robot",
          "rub face know know know say go happen c",
          "post need many many million view share many people",
          "deep",
          "people still oblivious truth right plain sight",
          "know many purge account able survive account survive night",
          "post need many many million view share many people",
          "new comic",
          "friend india website story rinku sharma block twitter however continue",
          "lil nigga lil nigga lil nigga lil nigga lil nigga lil nigga lil nigga lil nigga lil nigga lil",
          "imagine someone snuck punch face behind start kick stomp yo",
          "wan na fuck time man body see nigga leave tf alone",
          "truth",
          "behind",
          "thank advertising",
          "best really",
          "video deserves every thumb get",
          "available preview",
          "heartbreaking",
          null
         ],
         "marker": {
          "opacity": 0.5,
          "size": 5
         },
         "mode": "markers+text",
         "name": "2_nigga_lil_twitter",
         "text": [
          "",
          "",
          "",
          "",
          "",
          "",
          "",
          "",
          "",
          "",
          "",
          "",
          "",
          "",
          "",
          "",
          "",
          "",
          "",
          "",
          "",
          "",
          "",
          "",
          "",
          "",
          "",
          "",
          "",
          "",
          "",
          "",
          "",
          "",
          "",
          "",
          "",
          "",
          "",
          "",
          "",
          "",
          "",
          "",
          "",
          "",
          "",
          "",
          "",
          "",
          "",
          "",
          "",
          "",
          "",
          "",
          "",
          "",
          "",
          "",
          "",
          "",
          "",
          "",
          "",
          "",
          "",
          "",
          "",
          "2_nigga_lil_twitter"
         ],
         "textfont": {
          "size": 12
         },
         "type": "scattergl",
         "x": [
          5.069440841674805,
          5.7563581466674805,
          7.171846866607666,
          5.288325786590576,
          6.671698093414307,
          6.792049407958984,
          6.384726047515869,
          5.65166711807251,
          6.673943996429443,
          7.029628753662109,
          6.874719619750977,
          5.1663899421691895,
          6.173503398895264,
          6.253517150878906,
          5.346660614013672,
          7.224792957305908,
          6.196324825286865,
          6.95217227935791,
          6.083870887756348,
          6.813350677490234,
          6.6455230712890625,
          5.408403396606445,
          6.029319763183594,
          7.113030433654785,
          5.4691243171691895,
          6.70657205581665,
          6.070064544677734,
          5.68947696685791,
          6.110142230987549,
          5.511207103729248,
          7.171535968780518,
          6.875968933105469,
          5.145776271820068,
          5.2218852043151855,
          7.218241214752197,
          6.370539665222168,
          5.637068748474121,
          7.159428596496582,
          6.829733848571777,
          5.866461753845215,
          5.453789710998535,
          6.349210739135742,
          5.663941860198975,
          6.147201061248779,
          7.167575359344482,
          5.161339282989502,
          6.809010982513428,
          5.291922092437744,
          7.029752731323242,
          6.015671253204346,
          7.13238525390625,
          6.919050216674805,
          5.535959720611572,
          6.151139736175537,
          6.065338134765625,
          4.953032493591309,
          5.499155044555664,
          5.97827672958374,
          5.1460041999816895,
          7.182518005371094,
          6.834945201873779,
          7.122899532318115,
          6.060171604156494,
          6.1371846199035645,
          6.628660202026367,
          6.494185447692871,
          5.631013870239258,
          6.039987564086914,
          6.785147190093994,
          6.2204484939575195
         ],
         "y": [
          9.608755111694336,
          10.06280517578125,
          11.284697532653809,
          9.657184600830078,
          9.936588287353516,
          10.783268928527832,
          10.404428482055664,
          9.951215744018555,
          9.940606117248535,
          11.2822847366333,
          11.387248992919922,
          9.513230323791504,
          10.523775100708008,
          11.297614097595215,
          9.881383895874023,
          10.822044372558594,
          10.535213470458984,
          10.463748931884766,
          10.441317558288574,
          10.781190872192383,
          10.027153015136719,
          9.624491691589355,
          11.338582038879395,
          11.208089828491211,
          10.552855491638184,
          9.933011054992676,
          10.545214653015137,
          9.898392677307129,
          11.355462074279785,
          9.702807426452637,
          10.758072853088379,
          11.364301681518555,
          9.546239852905273,
          9.564502716064453,
          10.823649406433105,
          10.40501594543457,
          9.664348602294922,
          10.82181167602539,
          11.340967178344727,
          10.138073921203613,
          9.687301635742188,
          10.233755111694336,
          9.864712715148926,
          10.409668922424316,
          10.786748886108398,
          9.540188789367676,
          10.768689155578613,
          9.55845832824707,
          11.121881484985352,
          10.649042129516602,
          10.988471031188965,
          10.735033988952637,
          9.724105834960938,
          10.74111557006836,
          11.40068531036377,
          9.713996887207031,
          9.690204620361328,
          10.408790588378906,
          9.579338073730469,
          11.152371406555176,
          10.772259712219238,
          11.183029174804688,
          11.292366981506348,
          10.629745483398438,
          9.914204597473145,
          10.162507057189941,
          9.845926284790039,
          10.395288467407227,
          10.479750633239746,
          10.414511680603027
         ]
        },
        {
         "hoverinfo": "text",
         "hovertext": [
          "shame gop ballot atlanta start come even though poll close five hour ago democrat co",
          "democrat work harder rebuild c swamp american job",
          "trump cpac warmonger liz cheney",
          "rino nikki haley scar show face cpac",
          "entire world watch trump cpac",
          "trump one address illegal immigration cpac republican party wake f",
          "uncle mla aunt vice president",
          "gayle oprah paid pr harry witch",
          "cnn rest liberal medium fake plan attack today u capitol go today",
          "guy tune est click link see donald trump cpac address cpac general",
          "entire world watch trump cpac",
          "trump slam traitor republican party yes name every last one time take back party",
          "yes trump might decide beat third time usa usa usa",
          "trump want every american read follow time magazine article democrat crook flaunt corruptness know",
          "show one politician corrupt core",
          "rino nikki haley scar show face cpac",
          "love trigger left amaze marjorie taylor greene look one strong conservative woman scare",
          "watch president trump take stage cpac give burst joy hope",
          "long machine shut georgia night",
          "threat alert radical communist tie nominate secretary interior deb haaland nomination completel",
          "george conway lie national tv say know fellow co founder lincoln project well r",
          "wa po typical left wing news organization exists harm conservative jeff bezos u power money",
          "one trump lawyer play unedited fine people hoax video debunk front america network",
          "get teary eyed see elderly veteran show freedom plaza fight trump incredible co",
          "ryan girdusky lincoln project part grift part groom operation john weaver",
          "trump cpac trumpism mean strong border riot support police nd amendment video",
          "end every trump speech music come help get dance president give much ho",
          "president run third term cpac",
          "john kohn aka john kerry claim earth nine year",
          "expose georgia election bribe democrat group caught break federal law bribing georgia voter",
          "thought hillary aka schrillary clinton new book welcome",
          "jake tapper dnc operative expose wikileaks left wing hack nerve say kaleigh mc ne",
          "happen look like suitcase democrat ballot show",
          "counting stop ballot fairy go work",
          "george lincoln rockwell born march assassinate august",
          "make remain ballot de kalb county must manually scan order tabulate",
          "rashida tlaib give oscar worthy performance house floor favorite line happen january th",
          "already election need mike penny stop democrat steal",
          "trump take stage cpac love president",
          "march nyc mayor de blasio msnbc amp healthy n yers little th",
          "president trump cpac must voter id republican party actually tackle issue must stop speaki",
          "greta thunberg expose creation powerful marxist soros back ngo al gore amp",
          "win seat georgia mitt romney go officially declare democrat good riddance",
          "lincoln project every one work trump admin held accountable action also lp w",
          "gab run beautifully thank msm announce moment hate fo",
          "warn joe biden radical hud secretary marcia fudge threat america watch like many others biden admin",
          "surprised new age neo marxist refuse join take wall street crook",
          "house democrat push cable company big tech get rid conservative news network",
          "one president trump told u corruption go take place georgia right free",
          "many vote discover georgia tonight watch suitcase ga sen",
          "cqfd well totally fire like trump",
          "yes true leftist lot common nazi",
          "trump present future republican party plan run",
          "alert communist senator chris murphy connecticut national security threat murphy infiltrate senate fo",
          "necessary win election help someone heart big must heart",
          "time see mike penny truly patriot",
          "cool story first time radio legendary rush limbaugh right somewhat infamou",
          "united remove traitor like party good choice show cpac",
          "antifa always corporate manufacture product anarcho marxism package sell capitalist impre",
          "flag ny dems let let one credible scandal distract another credible disa",
          "donald trump jr gov cuomo get emmy send grandma death gov de santis get hell open beach h",
          null
         ],
         "marker": {
          "opacity": 0.5,
          "size": 5
         },
         "mode": "markers+text",
         "name": "3_trump_cpac_democrat",
         "text": [
          "",
          "",
          "",
          "",
          "",
          "",
          "",
          "",
          "",
          "",
          "",
          "",
          "",
          "",
          "",
          "",
          "",
          "",
          "",
          "",
          "",
          "",
          "",
          "",
          "",
          "",
          "",
          "",
          "",
          "",
          "",
          "",
          "",
          "",
          "",
          "",
          "",
          "",
          "",
          "",
          "",
          "",
          "",
          "",
          "",
          "",
          "",
          "",
          "",
          "",
          "",
          "",
          "",
          "",
          "",
          "",
          "",
          "",
          "",
          "",
          "",
          "3_trump_cpac_democrat"
         ],
         "textfont": {
          "size": 12
         },
         "type": "scattergl",
         "x": [
          3.1487860679626465,
          3.4780092239379883,
          3.0370676517486572,
          3.0206565856933594,
          2.7131636142730713,
          2.784423828125,
          2.745295524597168,
          3.377203941345215,
          3.5510616302490234,
          2.7465720176696777,
          2.719960927963257,
          3.0472097396850586,
          2.6093552112579346,
          3.4958741664886475,
          3.2099039554595947,
          3.051969289779663,
          3.4713830947875977,
          2.7309811115264893,
          4.49957799911499,
          3.2176570892333984,
          3.7959532737731934,
          3.609051465988159,
          3.562875747680664,
          2.70231556892395,
          3.865000009536743,
          2.8166141510009766,
          2.8078699111938477,
          2.671692371368408,
          3.142599105834961,
          3.1935102939605713,
          3.268062114715576,
          3.3813230991363525,
          3.1198832988739014,
          3.1291911602020264,
          3.8425791263580322,
          3.106933832168579,
          2.7147741317749023,
          3.0966756343841553,
          2.748070478439331,
          3.060652732849121,
          2.8019826412200928,
          3.7664222717285156,
          3.1054422855377197,
          3.451439619064331,
          3.1387360095977783,
          3.1341049671173096,
          4.171834468841553,
          3.518834352493286,
          3.3226606845855713,
          3.1237964630126953,
          2.853365182876587,
          4.354121685028076,
          2.713972806930542,
          3.262972354888916,
          3.067786693572998,
          3.197559118270874,
          3.4654643535614014,
          3.206549882888794,
          4.619741439819336,
          3.243980646133423,
          2.873565435409546,
          3.2243611812591553
         ],
         "y": [
          13.774786949157715,
          13.20860767364502,
          13.198290824890137,
          13.249080657958984,
          13.32511043548584,
          13.359273910522461,
          12.871437072753906,
          13.208634376525879,
          13.001641273498535,
          13.329691886901855,
          13.313237190246582,
          13.353804588317871,
          13.039897918701172,
          13.092082977294922,
          13.380049705505371,
          13.214781761169434,
          13.121099472045898,
          13.366963386535645,
          10.758116722106934,
          12.968801498413086,
          13.52767276763916,
          13.008538246154785,
          12.993124008178711,
          13.302267074584961,
          13.544682502746582,
          13.415767669677734,
          13.326781272888184,
          13.23200798034668,
          13.57280445098877,
          13.779271125793457,
          13.091103553771973,
          13.039960861206055,
          13.749300003051758,
          13.68135929107666,
          13.4993314743042,
          13.727333068847656,
          13.491971969604492,
          13.63296127319336,
          13.347241401672363,
          12.803726196289062,
          13.358152389526367,
          12.994951248168945,
          13.735543251037598,
          13.426668167114258,
          13.758009910583496,
          13.036968231201172,
          13.065228462219238,
          13.101452827453613,
          13.645515441894531,
          13.783053398132324,
          13.372664451599121,
          13.010149002075195,
          13.243880271911621,
          13.158196449279785,
          13.656368255615234,
          13.40344524383545,
          12.84407901763916,
          13.326520919799805,
          13.00292682647705,
          13.33279037475586,
          12.850953102111816,
          13.262460708618164
         ]
        },
        {
         "hoverinfo": "text",
         "hovertext": [
          "everyone understands concept foreign invasive specie plant animal world foreign invasive specie",
          "marxism virus mutates spread host host time bolshevism communism social democracy",
          "power go force individual citizen comply average citizen know",
          "false perception humanity impose people",
          "get ready lady gentleman criminal illegitimate government go wag open war p",
          "historically speak virtually every time communism come power regime manufacture artificial famine",
          "nothing civil politics anymore politics war either accept prepare accordingly",
          "new regime go force mass obey send people disappear",
          "european never use feel way country flood foreigner feel",
          "unlawful best produce anything beautiful plato",
          "hypothetical anymore matter matter government force prep",
          "want socialism",
          "manage",
          "daily reminder real time choreograph synchronize dance routine office hou",
          "russia international regulation social medium moderation",
          "get ready people government move",
          "exactly think culture come think magically fall sky arbitrarily",
          "keep weed clean crop care farmer brother weed sister mia khalifa",
          "whoever control country institution control society perception reality",
          "historically whenever marxist bolshevik communist regime take power one first thing",
          "everybody want believe secret underground army organization go fix everything",
          "imagine desperate attention relevancy surgically remove part body",
          "ever reason storm street overthrow exist regime",
          "oppose islam racist oppose german national socialism soviet communism nothing w color",
          "expect someone else save expect group save people country",
          "thus globalists use power compete opposition make opposition illegal",
          "communism symptom disease disease look communism come look",
          "marijuana popular people miserable era smoke tolerate world rather fix",
          "join corona cult today tire people still enjoy life exactly right thing cont",
          "timeline evidence lazy choice",
          "bodybuilding",
          "dictatorship forbidden make fun powerful",
          "philosophy ideology tactic method optic superior others feel",
          "overcome lust ego word well sex",
          "philosophy national socialism reawaking mankind consciousness nature importance ra",
          "ego always ruin man one vision clearest lens",
          "arbitrariness censorship back west via",
          "workout functional real world extend period time",
          "sovereign mind power choice come single set belief define",
          "proof globalism exist party",
          "power",
          "communism always creates resistance logical response communism always fascism na",
          "asks compromise always include give right gain control refer democr",
          "time people put position power influence base ability base merit",
          "anyone good explanation china allow access u power grid hell",
          "someone something require perpetual reinforcement via word like amaze beautiful vibrant talented incr",
          "live age manufacture tragedy tyranny impose upon u result artificial tragedy",
          "many generation american government organize crime syndicate illegal occupation",
          "imagine power like power declare act criminal ability declare anti semit",
          "philosophy lie national socialism man lie",
          null
         ],
         "marker": {
          "opacity": 0.5,
          "size": 5
         },
         "mode": "markers+text",
         "name": "4_power_communism_regime",
         "text": [
          "",
          "",
          "",
          "",
          "",
          "",
          "",
          "",
          "",
          "",
          "",
          "",
          "",
          "",
          "",
          "",
          "",
          "",
          "",
          "",
          "",
          "",
          "",
          "",
          "",
          "",
          "",
          "",
          "",
          "",
          "",
          "",
          "",
          "",
          "",
          "",
          "",
          "",
          "",
          "",
          "",
          "",
          "",
          "",
          "",
          "",
          "",
          "",
          "",
          "",
          "4_power_communism_regime"
         ],
         "textfont": {
          "size": 12
         },
         "type": "scattergl",
         "x": [
          6.5084404945373535,
          5.143554210662842,
          5.077531814575195,
          5.903233051300049,
          4.2313761711120605,
          5.124074459075928,
          4.246272563934326,
          5.24782133102417,
          6.641961574554443,
          5.486895561218262,
          5.213253021240234,
          4.926206111907959,
          5.913364887237549,
          5.617488384246826,
          5.271082401275635,
          4.42636251449585,
          5.8222575187683105,
          5.985182285308838,
          5.032588481903076,
          5.1652398109436035,
          4.882278919219971,
          5.902132034301758,
          5.869666576385498,
          4.946596622467041,
          5.332584857940674,
          5.0381550788879395,
          5.150473117828369,
          6.038974761962891,
          5.967577934265137,
          5.708506107330322,
          5.781660556793213,
          5.340381622314453,
          5.243185520172119,
          5.87112283706665,
          5.1564788818359375,
          5.856949806213379,
          5.235214710235596,
          5.669211387634277,
          5.2521185874938965,
          4.875086307525635,
          5.578685760498047,
          5.158615589141846,
          5.052569389343262,
          5.533188343048096,
          4.94312858581543,
          5.695248603820801,
          5.5589599609375,
          4.874524116516113,
          5.238463878631592,
          5.031944274902344,
          5.375357151031494
         ],
         "y": [
          12.49502182006836,
          13.410295486450195,
          12.642970085144043,
          11.673593521118164,
          12.182280540466309,
          13.377758026123047,
          12.2101469039917,
          12.709367752075195,
          12.480464935302734,
          12.508374214172363,
          12.747184753417969,
          13.210038185119629,
          12.342087745666504,
          11.406508445739746,
          12.64967155456543,
          12.392058372497559,
          11.962556838989258,
          12.278257369995117,
          12.48375129699707,
          13.380572319030762,
          12.16135311126709,
          11.589926719665527,
          12.984575271606445,
          13.280695915222168,
          12.65556812286377,
          12.953214645385742,
          13.395190238952637,
          12.36805534362793,
          12.368209838867188,
          11.453560829162598,
          11.514145851135254,
          12.555336952209473,
          13.169727325439453,
          11.60361385345459,
          13.395953178405762,
          11.64408016204834,
          12.631717681884766,
          11.429643630981445,
          12.780778884887695,
          13.107894897460938,
          11.649935722351074,
          13.386444091796875,
          12.814502716064453,
          11.619473457336426,
          12.136837005615234,
          11.474494934082031,
          12.373286247253418,
          12.403520584106445,
          12.780274391174316,
          13.303698539733887,
          12.470575332641602
         ]
        },
        {
         "hoverinfo": "text",
         "hovertext": [
          "collect coin like jew anti semitic humor slippage elect official sarcelles see",
          "remember allow even much question woman story story holocaust told",
          "try say jew one lead impeachment",
          "semite member people speak spoke semitic language include particular jew",
          "lol say republican today like jewish holocaust apparently",
          "natural redhead rare people planet easily one beautiful anyone natural",
          "old south wealthy white allied jewish merchant pamper color slave class mass poor white",
          "hell holocaust denial illegal place mean illegal simply say something like loo",
          "say denounce anti semitism jew say video link",
          "look like everything prove hitler right",
          "abrahamic summit jew pope interfaith meeting iraq",
          "new swedish school report jew malm enemy arab student craze hitler today",
          "social zionism wreak havoc suburb national zionism reap benefit",
          "israel still forefront dictatorship",
          "community say black jew operate together coordinate effort dismiss bigotry r",
          "myth semitic armenoid story",
          "hitler nazi war happen racist hat anyone blonde hair amp blue eye",
          "well jew allow hate white people white people allow hate jew",
          "try say jew one lead impeachment",
          "white people say jew white consider anti semitism jew say",
          "country need endless warfare behalf israel get ta make world safe god chosen",
          "whenever biden speaks know semitic armenoid handler speak instead",
          "end attack natural order era insanity become universal new age religion",
          "try say jew stock market beating game anti semitism",
          "thank australia israel chamber commerce infrastructure showcase great event discus many opportuni",
          "people draw comparison jeffrey epstein lincoln project",
          "take name main parasitic beneficiary anti semitism journalistic investigation",
          "hebrew mythology make race slave benefit",
          "blame anyone know truth adolf hitler amp national socialism victor write history",
          "hysteria freak see hitler literally everywhere go continue affirm say fo",
          "white people say jew white consider anti semitism jew say",
          "daily reminder jew perfect people never commit crime certainly war crime",
          "know go use eternal justification rob freedom right",
          "literally every single time hear someone spray paint swastika synagogue end hoax lit",
          "ancient celt dyed hair blonde lime also dyed clothes various color plant berry",
          "harassment violence impersonation zionism ulcan trial via",
          "law anti white law anti jewish white people really wer",
          "get align hebrew mythology story",
          "crack smoking hunter biden cry racism deflect swedish sex scandal hunter smear come swedish authorit",
          "ric dupond moretti act submit zionist lobby via",
          "identity generation techouva anti semitism anti zionism place u",
          "find ancient statue like sober experience excite one statue represent",
          "anti hitler sentiment reach fanatical insanity le severity religious hysteria anyone stoop",
          "amaze often jew involve significant world event",
          "average people need start ask okay jew anti white okay white",
          null
         ],
         "marker": {
          "opacity": 0.5,
          "size": 5
         },
         "mode": "markers+text",
         "name": "5_jew_anti_say",
         "text": [
          "",
          "",
          "",
          "",
          "",
          "",
          "",
          "",
          "",
          "",
          "",
          "",
          "",
          "",
          "",
          "",
          "",
          "",
          "",
          "",
          "",
          "",
          "",
          "",
          "",
          "",
          "",
          "",
          "",
          "",
          "",
          "",
          "",
          "",
          "",
          "",
          "",
          "",
          "",
          "",
          "",
          "",
          "",
          "",
          "",
          "5_jew_anti_say"
         ],
         "textfont": {
          "size": 12
         },
         "type": "scattergl",
         "x": [
          5.84813117980957,
          5.922264099121094,
          5.872180938720703,
          6.3445634841918945,
          6.181126117706299,
          6.010448932647705,
          6.497518062591553,
          6.264746189117432,
          6.069477558135986,
          5.812966346740723,
          5.895806312561035,
          5.677701473236084,
          5.312421798706055,
          4.186401844024658,
          6.408467769622803,
          6.1061530113220215,
          5.944379806518555,
          6.333361625671387,
          5.876499652862549,
          6.356959819793701,
          4.179686069488525,
          5.852526664733887,
          5.677515983581543,
          5.989731311798096,
          3.4466049671173096,
          5.6365485191345215,
          5.3150634765625,
          6.147150993347168,
          5.596649646759033,
          5.8016357421875,
          6.367149353027344,
          6.120255947113037,
          5.700781345367432,
          6.055850505828857,
          6.045102119445801,
          5.2652153968811035,
          6.381675720214844,
          6.093501091003418,
          5.629323482513428,
          5.295032978057861,
          5.320367336273193,
          6.119988441467285,
          5.8095622062683105,
          5.9931416511535645,
          6.286713123321533,
          5.801074981689453
         ],
         "y": [
          14.790414810180664,
          14.308095932006836,
          14.859813690185547,
          14.800985336303711,
          14.839381217956543,
          13.987611770629883,
          14.578937530517578,
          14.635263442993164,
          14.820754051208496,
          13.840742111206055,
          14.851146697998047,
          14.224360466003418,
          14.200281143188477,
          12.134519577026367,
          14.75822925567627,
          14.45513916015625,
          13.98847484588623,
          14.792749404907227,
          14.8626708984375,
          14.813430786132812,
          12.159675598144531,
          14.854342460632324,
          13.350086212158203,
          14.75275993347168,
          11.051416397094727,
          14.406460762023926,
          14.194747924804688,
          14.501375198364258,
          13.602665901184082,
          13.862709999084473,
          14.790292739868164,
          14.749048233032227,
          13.355367660522461,
          14.83191967010498,
          13.978946685791016,
          14.149121284484863,
          14.743764877319336,
          14.4509859085083,
          14.34492015838623,
          14.191266059875488,
          14.180057525634766,
          14.064505577087402,
          13.82377815246582,
          14.740030288696289,
          14.793390274047852,
          14.232592582702637
         ]
        },
        {
         "hoverinfo": "text",
         "hovertext": [
          "pride wake",
          "cry laugh zehma mtn catapult whore",
          "let cry woman afrin woman together afrin",
          "sorry break bimbo every guy planet want sleep",
          "warrior",
          "wish men shut fuck today",
          "homosexual find criticize heteros much without u even exist",
          "men pig u stop living stop filth serious",
          "none organic happen naturally manufacture",
          "remember current era become naturally manufacture slowly generation",
          "apart weapon way mamma favorite weapon slipper",
          "doubt fauci visit gay sauna bar highly doubt anything understand h",
          "two amaze people fighter keep go need",
          "tomorrow recover woman day intelligence day",
          "imagine force wake morning everyday",
          "think possible man produce much estrogen",
          "innovation molasses possible clamp liquor",
          "homosexual scum vote vanilla",
          "fagot take arm",
          "please keep mind",
          "true never forget",
          "true juice extractor gas chamber one step",
          "one one",
          "goodnight",
          "ok groomers",
          "good morning ji",
          "lick foot nigga white trash paris france interracial gay amateur gay",
          "lady question imagine pill men begin market would really trust",
          "let billionaire cry",
          "woman kill kidnap afrin whole world silent woman together afrin",
          "remember watch mother breakdown cry weight poverty hearing pain sorrow shame",
          "one try murder lie po",
          "whine tv artist lend voice family victim",
          "never forget",
          "kind woman foot hit floor morning devil say oh crap woman fear f",
          null
         ],
         "marker": {
          "opacity": 0.5,
          "size": 5
         },
         "mode": "markers+text",
         "name": "6_woman_afrin_cry",
         "text": [
          "",
          "",
          "",
          "",
          "",
          "",
          "",
          "",
          "",
          "",
          "",
          "",
          "",
          "",
          "",
          "",
          "",
          "",
          "",
          "",
          "",
          "",
          "",
          "",
          "",
          "",
          "",
          "",
          "",
          "",
          "",
          "",
          "",
          "",
          "",
          "6_woman_afrin_cry"
         ],
         "textfont": {
          "size": 12
         },
         "type": "scattergl",
         "x": [
          6.048612594604492,
          6.363470554351807,
          6.203206539154053,
          6.057898044586182,
          6.349380016326904,
          6.044249534606934,
          7.53895378112793,
          6.526520729064941,
          5.785029888153076,
          5.671553134918213,
          6.301111698150635,
          7.430444717407227,
          6.618824481964111,
          5.794612407684326,
          5.645062446594238,
          6.326534748077393,
          4.020992279052734,
          7.614946365356445,
          6.511116981506348,
          6.2916178703308105,
          6.3128886222839355,
          3.97489070892334,
          6.623403549194336,
          5.700931549072266,
          7.528780937194824,
          5.5177788734436035,
          7.5759429931640625,
          7.1846795082092285,
          6.028322219848633,
          6.285727024078369,
          6.028980731964111,
          6.631913185119629,
          5.852248191833496,
          6.2656145095825195,
          6.137784957885742,
          6.251256942749023
         ],
         "y": [
          10.809049606323242,
          10.9304780960083,
          10.965645790100098,
          11.191932678222656,
          10.761923789978027,
          11.146960258483887,
          12.001561164855957,
          11.416935920715332,
          11.921988487243652,
          11.978422164916992,
          10.733154296875,
          11.923175811767578,
          10.781036376953125,
          11.088005065917969,
          11.297300338745117,
          11.683938980102539,
          9.866569519042969,
          12.076240539550781,
          10.938546180725098,
          11.254518508911133,
          11.224980354309082,
          9.825535774230957,
          11.103262901306152,
          11.109621047973633,
          12.147406578063965,
          11.125044822692871,
          12.145163536071777,
          11.807104110717773,
          10.914841651916504,
          10.999372482299805,
          10.925201416015625,
          11.211204528808594,
          10.806291580200195,
          11.19937515258789,
          10.97599983215332,
          11.208222389221191
         ]
        },
        {
         "hoverinfo": "text",
         "hovertext": [
          "downfall one kill sadhu insult woman certain parambir singh anil deshmukh uddhav thackeray sanjay raut ht",
          "islamic pakistan medium blackout muslim destroy another hindu temple pakistan modi caa give citizenship persecute",
          "fund dedication shri ram mandir zomato pizza hut domino swiggy mango shopkeeper",
          "medium want believe hundred people freedom reclaim",
          "case prima facie seem fault delivery boy kamaraj hitesha pull whole",
          "modi ji slogan self reliance penetrate even among love couple",
          "terrorist attack india islamic mob drag hindu rinku sharma home slaughter front parent wh",
          "rahul gandhi big asset bjp",
          "happy republic day india america stand care deeply war jihadis amp left wag country amp",
          "final round shivgaan competition full swing across maharashtra eve chhatrapati shivaji maharaj birth anniversary umbrella",
          "associate every work r interest country mithun chakraborty",
          "u bulat home pawri ho rai hai",
          "really modi ji get credit rejuvenation include go journey become possible",
          "friend let support dear friend let solidarity problem account friend get notification",
          "warn biden terror tie hijabi appointee sameera fazili threat u amp india fazili member stand kash",
          "sharia pakistan little hindu girl pakistan abduct beg india modi protection islamic ca",
          "inter n national c chutiya",
          "pride india rajputana chittorgarh fort",
          "friend india please contact help expose left coordinate attack country indian fa",
          "sucial science uba must close",
          "holy place vrindavan cm shri ji hon union jal shakti minister shri water power",
          "year delhi trouble riot delhi ankit rinku sharma kill jihadis delhi",
          "heard psycho back send agra soon",
          "time fix mukhtar ansari salwar peeli",
          "cnrs investigate sa bouamama via",
          "day since kashmiri hindu turn away home let sink",
          "america pay attention coordinate global attack india left radical launch campaign destr",
          "hindu le sikh today e hoist flag religion red fort",
          "india innovative thrust jai swadeshi",
          "ok theek hai",
          null
         ],
         "marker": {
          "opacity": 0.5,
          "size": 5
         },
         "mode": "markers+text",
         "name": "7_india_hindu_pakistan",
         "text": [
          "",
          "",
          "",
          "",
          "",
          "",
          "",
          "",
          "",
          "",
          "",
          "",
          "",
          "",
          "",
          "",
          "",
          "",
          "",
          "",
          "",
          "",
          "",
          "",
          "",
          "",
          "",
          "",
          "",
          "",
          "7_india_hindu_pakistan"
         ],
         "textfont": {
          "size": 12
         },
         "type": "scattergl",
         "x": [
          4.143740653991699,
          3.9276092052459717,
          4.278735637664795,
          5.482180118560791,
          4.187348365783691,
          4.659402370452881,
          3.9458117485046387,
          4.426386833190918,
          4.235791206359863,
          4.2821173667907715,
          4.561005592346191,
          4.490808010101318,
          4.475527763366699,
          4.885193824768066,
          3.8275537490844727,
          3.879127025604248,
          4.27942419052124,
          4.316658020019531,
          4.111167907714844,
          4.24530029296875,
          4.226278305053711,
          4.001260757446289,
          4.819478988647461,
          4.1437530517578125,
          4.270524501800537,
          4.053122043609619,
          4.101441860198975,
          4.118978977203369,
          4.39475154876709,
          4.453871250152588,
          4.307478427886963
         ],
         "y": [
          11.209957122802734,
          11.264169692993164,
          11.267781257629395,
          12.470999717712402,
          11.119632720947266,
          11.371820449829102,
          11.293405532836914,
          11.399786949157715,
          11.884001731872559,
          11.301196098327637,
          11.529081344604492,
          11.29306697845459,
          11.389122009277344,
          10.5410737991333,
          11.29106616973877,
          11.306805610656738,
          11.28877067565918,
          11.27313232421875,
          11.771145820617676,
          11.344054222106934,
          11.323554992675781,
          11.272242546081543,
          10.666024208068848,
          11.170435905456543,
          11.31666088104248,
          11.321436882019043,
          11.891603469848633,
          11.281561851501465,
          11.330897331237793,
          11.21181583404541,
          11.346543312072754
         ]
        },
        {
         "hoverinfo": "text",
         "hovertext": [
          "play snollebollekes springen nondeju nd bass remix",
          "ptdrrrr nintendo schwitz",
          "play nicole wonderful",
          "play hansi hinterseer god life earth",
          "play jayh nice day",
          "play various artist fanfare hunger thirst",
          "play semino rossi alone tonight",
          "bose dk sit naked",
          "shakespeare sex arcuri johnson read shakespeare sex sofa london mayo",
          "play f aschtb nkler partyplanet",
          "play django wagner de muzikant",
          "play bobby day rockin robin",
          "play sugarfree fantasy",
          "play fantasy casanova",
          "play luc steeno played accordion",
          "play richard anthony j entends siffler le train version remastered",
          "play lisa del bo pearl like",
          "get ro pfp would sit one bestie",
          "play wolter kroes viva hollandia",
          "play bob benny love anyway",
          "anyone else clubhouse join wonder u",
          "play hut jordan jay idetto mood",
          "play anja speak silver silent gold",
          null
         ],
         "marker": {
          "opacity": 0.5,
          "size": 5
         },
         "mode": "markers+text",
         "name": "8_play_fantasy_sit",
         "text": [
          "",
          "",
          "",
          "",
          "",
          "",
          "",
          "",
          "",
          "",
          "",
          "",
          "",
          "",
          "",
          "",
          "",
          "",
          "",
          "",
          "",
          "",
          "",
          "8_play_fantasy_sit"
         ],
         "textfont": {
          "size": 12
         },
         "type": "scattergl",
         "x": [
          5.903066158294678,
          5.924010753631592,
          5.98502254486084,
          5.975783824920654,
          5.968644618988037,
          5.963874816894531,
          5.8810715675354,
          5.85454797744751,
          5.708768367767334,
          5.878070831298828,
          5.966638565063477,
          5.9530720710754395,
          5.910050868988037,
          5.924365997314453,
          5.920507907867432,
          5.913675308227539,
          5.954853057861328,
          5.83665132522583,
          5.896536827087402,
          5.935213088989258,
          5.899843692779541,
          5.958118915557861,
          5.985213279724121,
          5.917287349700928
         ],
         "y": [
          8.1378755569458,
          8.109461784362793,
          8.08711051940918,
          8.08340072631836,
          8.095547676086426,
          8.120670318603516,
          8.260103225708008,
          8.246308326721191,
          8.82028865814209,
          8.168128967285156,
          8.142133712768555,
          8.102773666381836,
          8.168313980102539,
          8.143696784973145,
          8.119633674621582,
          8.104155540466309,
          8.111334800720215,
          8.397333145141602,
          8.051213264465332,
          8.099111557006836,
          8.217729568481445,
          8.12114429473877,
          8.080567359924316,
          8.173392295837402
         ]
        },
        {
         "hoverinfo": "text",
         "hovertext": [
          "celebration napoleon bicentenary disturb laughter minister woman elisabeth moreno",
          "alain soral transition formal logic concrete logic",
          "soral answer episode alain soral family program st phane douard",
          "race alain soral fr jus may",
          "france freak theory small bubble heat pan water first surface",
          "marcel obama lukashenko karine lacombe fourtillan student",
          "franco albrecht neo nazi terrorist disguise syrian migrant victor young repentant lfi return v",
          "soral answer episode alexandre langlois",
          "piece bravery alain soral russie toulon",
          "philippe de maistre courageous priest people respect health dictatorship",
          "peugeot affair documentary available vo kontre kulture",
          "dr louis fouch hold bonus",
          "quite simply interest le",
          "alain soral answer pierre de brague question understand era compensation complacency",
          "piece bravery alain soral ntm alain soral fr jus",
          "panic kitchen rebel restaurateur deprive aid bruno le maire",
          "meryeminelindentut",
          "afghanistan saudi arabia dream afternoon b ziers lidl supermarket avenue de badones",
          "panic kitchen rebel restaurateur deprive aid bruno le maire via",
          "soral answer erfm twenty fourth batch",
          "didier raoult must stop war press release say go die",
          "see episode",
          null
         ],
         "marker": {
          "opacity": 0.5,
          "size": 5
         },
         "mode": "markers+text",
         "name": "9_soral_alain_answer",
         "text": [
          "",
          "",
          "",
          "",
          "",
          "",
          "",
          "",
          "",
          "",
          "",
          "",
          "",
          "",
          "",
          "",
          "",
          "",
          "",
          "",
          "",
          "",
          "9_soral_alain_answer"
         ],
         "textfont": {
          "size": 12
         },
         "type": "scattergl",
         "x": [
          3.3974454402923584,
          3.774155616760254,
          3.6594321727752686,
          3.634807825088501,
          3.3783352375030518,
          3.1852829456329346,
          3.1986308097839355,
          3.718527317047119,
          3.514981508255005,
          3.4099996089935303,
          3.6316416263580322,
          3.99062180519104,
          3.9631106853485107,
          3.8479092121124268,
          3.561915397644043,
          3.3554883003234863,
          3.220148801803589,
          3.163811683654785,
          3.334808826446533,
          3.843120574951172,
          3.1528706550598145,
          4.216280460357666,
          3.5524239540100098
         ],
         "y": [
          9.429696083068848,
          9.137859344482422,
          9.274919509887695,
          9.237009048461914,
          9.40114974975586,
          9.611196517944336,
          9.686943054199219,
          9.284082412719727,
          9.345392227172852,
          9.403664588928223,
          9.256789207458496,
          9.41382884979248,
          9.393401145935059,
          9.318928718566895,
          9.290335655212402,
          9.391656875610352,
          9.600641250610352,
          9.609684944152832,
          9.424286842346191,
          9.355620384216309,
          9.56120777130127,
          9.520170211791992,
          9.406747817993164
         ]
        }
       ],
       "layout": {
        "annotations": [
         {
          "showarrow": false,
          "text": "D1",
          "x": 0.847009864449501,
          "y": 11.967801403999328,
          "yshift": 10
         },
         {
          "showarrow": false,
          "text": "D2",
          "x": 5.450158007442951,
          "xshift": 10,
          "y": 17.092071533203125
         }
        ],
        "height": 750,
        "shapes": [
         {
          "line": {
           "color": "#CFD8DC",
           "width": 2
          },
          "type": "line",
          "x0": 5.450158007442951,
          "x1": 5.450158007442951,
          "y0": 6.843531274795533,
          "y1": 17.092071533203125
         },
         {
          "line": {
           "color": "#9E9E9E",
           "width": 2
          },
          "type": "line",
          "x0": 0.847009864449501,
          "x1": 10.053306150436402,
          "y0": 11.967801403999328,
          "y1": 11.967801403999328
         }
        ],
        "template": {
         "data": {
          "bar": [
           {
            "error_x": {
             "color": "rgb(36,36,36)"
            },
            "error_y": {
             "color": "rgb(36,36,36)"
            },
            "marker": {
             "line": {
              "color": "white",
              "width": 0.5
             },
             "pattern": {
              "fillmode": "overlay",
              "size": 10,
              "solidity": 0.2
             }
            },
            "type": "bar"
           }
          ],
          "barpolar": [
           {
            "marker": {
             "line": {
              "color": "white",
              "width": 0.5
             },
             "pattern": {
              "fillmode": "overlay",
              "size": 10,
              "solidity": 0.2
             }
            },
            "type": "barpolar"
           }
          ],
          "carpet": [
           {
            "aaxis": {
             "endlinecolor": "rgb(36,36,36)",
             "gridcolor": "white",
             "linecolor": "white",
             "minorgridcolor": "white",
             "startlinecolor": "rgb(36,36,36)"
            },
            "baxis": {
             "endlinecolor": "rgb(36,36,36)",
             "gridcolor": "white",
             "linecolor": "white",
             "minorgridcolor": "white",
             "startlinecolor": "rgb(36,36,36)"
            },
            "type": "carpet"
           }
          ],
          "choropleth": [
           {
            "colorbar": {
             "outlinewidth": 1,
             "tickcolor": "rgb(36,36,36)",
             "ticks": "outside"
            },
            "type": "choropleth"
           }
          ],
          "contour": [
           {
            "colorbar": {
             "outlinewidth": 1,
             "tickcolor": "rgb(36,36,36)",
             "ticks": "outside"
            },
            "colorscale": [
             [
              0,
              "#440154"
             ],
             [
              0.1111111111111111,
              "#482878"
             ],
             [
              0.2222222222222222,
              "#3e4989"
             ],
             [
              0.3333333333333333,
              "#31688e"
             ],
             [
              0.4444444444444444,
              "#26828e"
             ],
             [
              0.5555555555555556,
              "#1f9e89"
             ],
             [
              0.6666666666666666,
              "#35b779"
             ],
             [
              0.7777777777777778,
              "#6ece58"
             ],
             [
              0.8888888888888888,
              "#b5de2b"
             ],
             [
              1,
              "#fde725"
             ]
            ],
            "type": "contour"
           }
          ],
          "contourcarpet": [
           {
            "colorbar": {
             "outlinewidth": 1,
             "tickcolor": "rgb(36,36,36)",
             "ticks": "outside"
            },
            "type": "contourcarpet"
           }
          ],
          "heatmap": [
           {
            "colorbar": {
             "outlinewidth": 1,
             "tickcolor": "rgb(36,36,36)",
             "ticks": "outside"
            },
            "colorscale": [
             [
              0,
              "#440154"
             ],
             [
              0.1111111111111111,
              "#482878"
             ],
             [
              0.2222222222222222,
              "#3e4989"
             ],
             [
              0.3333333333333333,
              "#31688e"
             ],
             [
              0.4444444444444444,
              "#26828e"
             ],
             [
              0.5555555555555556,
              "#1f9e89"
             ],
             [
              0.6666666666666666,
              "#35b779"
             ],
             [
              0.7777777777777778,
              "#6ece58"
             ],
             [
              0.8888888888888888,
              "#b5de2b"
             ],
             [
              1,
              "#fde725"
             ]
            ],
            "type": "heatmap"
           }
          ],
          "heatmapgl": [
           {
            "colorbar": {
             "outlinewidth": 1,
             "tickcolor": "rgb(36,36,36)",
             "ticks": "outside"
            },
            "colorscale": [
             [
              0,
              "#440154"
             ],
             [
              0.1111111111111111,
              "#482878"
             ],
             [
              0.2222222222222222,
              "#3e4989"
             ],
             [
              0.3333333333333333,
              "#31688e"
             ],
             [
              0.4444444444444444,
              "#26828e"
             ],
             [
              0.5555555555555556,
              "#1f9e89"
             ],
             [
              0.6666666666666666,
              "#35b779"
             ],
             [
              0.7777777777777778,
              "#6ece58"
             ],
             [
              0.8888888888888888,
              "#b5de2b"
             ],
             [
              1,
              "#fde725"
             ]
            ],
            "type": "heatmapgl"
           }
          ],
          "histogram": [
           {
            "marker": {
             "line": {
              "color": "white",
              "width": 0.6
             }
            },
            "type": "histogram"
           }
          ],
          "histogram2d": [
           {
            "colorbar": {
             "outlinewidth": 1,
             "tickcolor": "rgb(36,36,36)",
             "ticks": "outside"
            },
            "colorscale": [
             [
              0,
              "#440154"
             ],
             [
              0.1111111111111111,
              "#482878"
             ],
             [
              0.2222222222222222,
              "#3e4989"
             ],
             [
              0.3333333333333333,
              "#31688e"
             ],
             [
              0.4444444444444444,
              "#26828e"
             ],
             [
              0.5555555555555556,
              "#1f9e89"
             ],
             [
              0.6666666666666666,
              "#35b779"
             ],
             [
              0.7777777777777778,
              "#6ece58"
             ],
             [
              0.8888888888888888,
              "#b5de2b"
             ],
             [
              1,
              "#fde725"
             ]
            ],
            "type": "histogram2d"
           }
          ],
          "histogram2dcontour": [
           {
            "colorbar": {
             "outlinewidth": 1,
             "tickcolor": "rgb(36,36,36)",
             "ticks": "outside"
            },
            "colorscale": [
             [
              0,
              "#440154"
             ],
             [
              0.1111111111111111,
              "#482878"
             ],
             [
              0.2222222222222222,
              "#3e4989"
             ],
             [
              0.3333333333333333,
              "#31688e"
             ],
             [
              0.4444444444444444,
              "#26828e"
             ],
             [
              0.5555555555555556,
              "#1f9e89"
             ],
             [
              0.6666666666666666,
              "#35b779"
             ],
             [
              0.7777777777777778,
              "#6ece58"
             ],
             [
              0.8888888888888888,
              "#b5de2b"
             ],
             [
              1,
              "#fde725"
             ]
            ],
            "type": "histogram2dcontour"
           }
          ],
          "mesh3d": [
           {
            "colorbar": {
             "outlinewidth": 1,
             "tickcolor": "rgb(36,36,36)",
             "ticks": "outside"
            },
            "type": "mesh3d"
           }
          ],
          "parcoords": [
           {
            "line": {
             "colorbar": {
              "outlinewidth": 1,
              "tickcolor": "rgb(36,36,36)",
              "ticks": "outside"
             }
            },
            "type": "parcoords"
           }
          ],
          "pie": [
           {
            "automargin": true,
            "type": "pie"
           }
          ],
          "scatter": [
           {
            "fillpattern": {
             "fillmode": "overlay",
             "size": 10,
             "solidity": 0.2
            },
            "type": "scatter"
           }
          ],
          "scatter3d": [
           {
            "line": {
             "colorbar": {
              "outlinewidth": 1,
              "tickcolor": "rgb(36,36,36)",
              "ticks": "outside"
             }
            },
            "marker": {
             "colorbar": {
              "outlinewidth": 1,
              "tickcolor": "rgb(36,36,36)",
              "ticks": "outside"
             }
            },
            "type": "scatter3d"
           }
          ],
          "scattercarpet": [
           {
            "marker": {
             "colorbar": {
              "outlinewidth": 1,
              "tickcolor": "rgb(36,36,36)",
              "ticks": "outside"
             }
            },
            "type": "scattercarpet"
           }
          ],
          "scattergeo": [
           {
            "marker": {
             "colorbar": {
              "outlinewidth": 1,
              "tickcolor": "rgb(36,36,36)",
              "ticks": "outside"
             }
            },
            "type": "scattergeo"
           }
          ],
          "scattergl": [
           {
            "marker": {
             "colorbar": {
              "outlinewidth": 1,
              "tickcolor": "rgb(36,36,36)",
              "ticks": "outside"
             }
            },
            "type": "scattergl"
           }
          ],
          "scattermapbox": [
           {
            "marker": {
             "colorbar": {
              "outlinewidth": 1,
              "tickcolor": "rgb(36,36,36)",
              "ticks": "outside"
             }
            },
            "type": "scattermapbox"
           }
          ],
          "scatterpolar": [
           {
            "marker": {
             "colorbar": {
              "outlinewidth": 1,
              "tickcolor": "rgb(36,36,36)",
              "ticks": "outside"
             }
            },
            "type": "scatterpolar"
           }
          ],
          "scatterpolargl": [
           {
            "marker": {
             "colorbar": {
              "outlinewidth": 1,
              "tickcolor": "rgb(36,36,36)",
              "ticks": "outside"
             }
            },
            "type": "scatterpolargl"
           }
          ],
          "scatterternary": [
           {
            "marker": {
             "colorbar": {
              "outlinewidth": 1,
              "tickcolor": "rgb(36,36,36)",
              "ticks": "outside"
             }
            },
            "type": "scatterternary"
           }
          ],
          "surface": [
           {
            "colorbar": {
             "outlinewidth": 1,
             "tickcolor": "rgb(36,36,36)",
             "ticks": "outside"
            },
            "colorscale": [
             [
              0,
              "#440154"
             ],
             [
              0.1111111111111111,
              "#482878"
             ],
             [
              0.2222222222222222,
              "#3e4989"
             ],
             [
              0.3333333333333333,
              "#31688e"
             ],
             [
              0.4444444444444444,
              "#26828e"
             ],
             [
              0.5555555555555556,
              "#1f9e89"
             ],
             [
              0.6666666666666666,
              "#35b779"
             ],
             [
              0.7777777777777778,
              "#6ece58"
             ],
             [
              0.8888888888888888,
              "#b5de2b"
             ],
             [
              1,
              "#fde725"
             ]
            ],
            "type": "surface"
           }
          ],
          "table": [
           {
            "cells": {
             "fill": {
              "color": "rgb(237,237,237)"
             },
             "line": {
              "color": "white"
             }
            },
            "header": {
             "fill": {
              "color": "rgb(217,217,217)"
             },
             "line": {
              "color": "white"
             }
            },
            "type": "table"
           }
          ]
         },
         "layout": {
          "annotationdefaults": {
           "arrowhead": 0,
           "arrowwidth": 1
          },
          "autotypenumbers": "strict",
          "coloraxis": {
           "colorbar": {
            "outlinewidth": 1,
            "tickcolor": "rgb(36,36,36)",
            "ticks": "outside"
           }
          },
          "colorscale": {
           "diverging": [
            [
             0,
             "rgb(103,0,31)"
            ],
            [
             0.1,
             "rgb(178,24,43)"
            ],
            [
             0.2,
             "rgb(214,96,77)"
            ],
            [
             0.3,
             "rgb(244,165,130)"
            ],
            [
             0.4,
             "rgb(253,219,199)"
            ],
            [
             0.5,
             "rgb(247,247,247)"
            ],
            [
             0.6,
             "rgb(209,229,240)"
            ],
            [
             0.7,
             "rgb(146,197,222)"
            ],
            [
             0.8,
             "rgb(67,147,195)"
            ],
            [
             0.9,
             "rgb(33,102,172)"
            ],
            [
             1,
             "rgb(5,48,97)"
            ]
           ],
           "sequential": [
            [
             0,
             "#440154"
            ],
            [
             0.1111111111111111,
             "#482878"
            ],
            [
             0.2222222222222222,
             "#3e4989"
            ],
            [
             0.3333333333333333,
             "#31688e"
            ],
            [
             0.4444444444444444,
             "#26828e"
            ],
            [
             0.5555555555555556,
             "#1f9e89"
            ],
            [
             0.6666666666666666,
             "#35b779"
            ],
            [
             0.7777777777777778,
             "#6ece58"
            ],
            [
             0.8888888888888888,
             "#b5de2b"
            ],
            [
             1,
             "#fde725"
            ]
           ],
           "sequentialminus": [
            [
             0,
             "#440154"
            ],
            [
             0.1111111111111111,
             "#482878"
            ],
            [
             0.2222222222222222,
             "#3e4989"
            ],
            [
             0.3333333333333333,
             "#31688e"
            ],
            [
             0.4444444444444444,
             "#26828e"
            ],
            [
             0.5555555555555556,
             "#1f9e89"
            ],
            [
             0.6666666666666666,
             "#35b779"
            ],
            [
             0.7777777777777778,
             "#6ece58"
            ],
            [
             0.8888888888888888,
             "#b5de2b"
            ],
            [
             1,
             "#fde725"
            ]
           ]
          },
          "colorway": [
           "#1F77B4",
           "#FF7F0E",
           "#2CA02C",
           "#D62728",
           "#9467BD",
           "#8C564B",
           "#E377C2",
           "#7F7F7F",
           "#BCBD22",
           "#17BECF"
          ],
          "font": {
           "color": "rgb(36,36,36)"
          },
          "geo": {
           "bgcolor": "white",
           "lakecolor": "white",
           "landcolor": "white",
           "showlakes": true,
           "showland": true,
           "subunitcolor": "white"
          },
          "hoverlabel": {
           "align": "left"
          },
          "hovermode": "closest",
          "mapbox": {
           "style": "light"
          },
          "paper_bgcolor": "white",
          "plot_bgcolor": "white",
          "polar": {
           "angularaxis": {
            "gridcolor": "rgb(232,232,232)",
            "linecolor": "rgb(36,36,36)",
            "showgrid": false,
            "showline": true,
            "ticks": "outside"
           },
           "bgcolor": "white",
           "radialaxis": {
            "gridcolor": "rgb(232,232,232)",
            "linecolor": "rgb(36,36,36)",
            "showgrid": false,
            "showline": true,
            "ticks": "outside"
           }
          },
          "scene": {
           "xaxis": {
            "backgroundcolor": "white",
            "gridcolor": "rgb(232,232,232)",
            "gridwidth": 2,
            "linecolor": "rgb(36,36,36)",
            "showbackground": true,
            "showgrid": false,
            "showline": true,
            "ticks": "outside",
            "zeroline": false,
            "zerolinecolor": "rgb(36,36,36)"
           },
           "yaxis": {
            "backgroundcolor": "white",
            "gridcolor": "rgb(232,232,232)",
            "gridwidth": 2,
            "linecolor": "rgb(36,36,36)",
            "showbackground": true,
            "showgrid": false,
            "showline": true,
            "ticks": "outside",
            "zeroline": false,
            "zerolinecolor": "rgb(36,36,36)"
           },
           "zaxis": {
            "backgroundcolor": "white",
            "gridcolor": "rgb(232,232,232)",
            "gridwidth": 2,
            "linecolor": "rgb(36,36,36)",
            "showbackground": true,
            "showgrid": false,
            "showline": true,
            "ticks": "outside",
            "zeroline": false,
            "zerolinecolor": "rgb(36,36,36)"
           }
          },
          "shapedefaults": {
           "fillcolor": "black",
           "line": {
            "width": 0
           },
           "opacity": 0.3
          },
          "ternary": {
           "aaxis": {
            "gridcolor": "rgb(232,232,232)",
            "linecolor": "rgb(36,36,36)",
            "showgrid": false,
            "showline": true,
            "ticks": "outside"
           },
           "baxis": {
            "gridcolor": "rgb(232,232,232)",
            "linecolor": "rgb(36,36,36)",
            "showgrid": false,
            "showline": true,
            "ticks": "outside"
           },
           "bgcolor": "white",
           "caxis": {
            "gridcolor": "rgb(232,232,232)",
            "linecolor": "rgb(36,36,36)",
            "showgrid": false,
            "showline": true,
            "ticks": "outside"
           }
          },
          "title": {
           "x": 0.05
          },
          "xaxis": {
           "automargin": true,
           "gridcolor": "rgb(232,232,232)",
           "linecolor": "rgb(36,36,36)",
           "showgrid": false,
           "showline": true,
           "ticks": "outside",
           "title": {
            "standoff": 15
           },
           "zeroline": false,
           "zerolinecolor": "rgb(36,36,36)"
          },
          "yaxis": {
           "automargin": true,
           "gridcolor": "rgb(232,232,232)",
           "linecolor": "rgb(36,36,36)",
           "showgrid": false,
           "showline": true,
           "ticks": "outside",
           "title": {
            "standoff": 15
           },
           "zeroline": false,
           "zerolinecolor": "rgb(36,36,36)"
          }
         }
        },
        "title": {
         "font": {
          "color": "Black",
          "size": 22
         },
         "text": "<b>Documents and Topics",
         "x": 0.5,
         "xanchor": "center",
         "yanchor": "top"
        },
        "width": 1200,
        "xaxis": {
         "visible": false
        },
        "yaxis": {
         "visible": false
        }
       }
      },
      "text/html": [
       "<div>                            <div id=\"e5454010-b90d-491a-87a2-5ff1769ced19\" class=\"plotly-graph-div\" style=\"height:750px; width:1200px;\"></div>            <script type=\"text/javascript\">                require([\"plotly\"], function(Plotly) {                    window.PLOTLYENV=window.PLOTLYENV || {};                                    if (document.getElementById(\"e5454010-b90d-491a-87a2-5ff1769ced19\")) {                    Plotly.newPlot(                        \"e5454010-b90d-491a-87a2-5ff1769ced19\",                        [{\"hoverinfo\":\"text\",\"hovertext\":[\"well guy entire continent call sure would great deal easy get\",\"clearly target harassment veil threat violence\",\"people think boris johnson resign prime minister think continue office accord\",\"even eat meat whole eat bug synthetic meat thing pretty sketch\",\"great reset big cleaning episode great reset health\",\"whole point right keep bear arm protect civilian government force crimina\",\"governor denounce democrat run twitter allows left attack jewish sile\",\"sayer die\",\"daily reminder george soros bill gate one let see keep distract pacify\",\"leader proud boy former informant case human traffic narcotic\",\"south australia trinity college apologise video circulate show student school hang black\",\"still percent hungry live india constantly gini coefficient rise data present poverty al\",\"salute brave soldier\",\"freedom gift beyond estimate give god nation perseverance courage consistency\",\"create beast finally bring\",\"salute\",\"warn parent virginia meet atif qarni secretary education appoint va governor northam qarni born\",\"good pornography toxic legally allow exist\",\"city burn ransack violent terrorist savage summer long give fuck le th\",\"fraud alert joe biden amp harris resurrect left wing lie call hate crime asian american\",\"still believe live free country\",\"warn left wing fight morph pandemic lockdown climate lockdown climate lockdown private vehicle use b\",\"nikol pashinyan prime minister armenia confesses occupation percent shusha populati\",\"wave illegal alien clearly fund believe really bought shirt th\",\"never go solve world problem spread lie hitler germany outlaw firearm ownership\",\"flashback democrat whitewash jihad pulse nightclub islamic terror attack amp blame gun instead left u jihad attack\",\"america soft weak embarrass joke entire world laugh u pathetic government\",\"trans child like vegan dog know chose\",\"great talk common challenge opportunity u congress always bastion su\",\"dark circle know sign\",\"struggle real god nowhere bible say worry stress amp\",\"anyone know ratio jew ce major american corporation\",\"safely enjoy stroll around mall anymore virtually every mall go\",\"firstly thousand people hundred nice gaslighting sky news usual secondly cop\",\"new year eve wuhan v nyc spot communist nation\",\"julian assange release bail\",\"berry case jeane manson accuse member pedophile sect coline berry via\",\"ammo hoarder make sure buy enough magazine load ammo boxed amm\",\"amazon dictate ebooks online book sale audiobooks sale head thi\",\"queer activist hit woman come shout revolt system prostitution ra\",\"insane insane dangerous rhetoric use justify vicious attack innocent whi\",\"enrichment ireland mob african migrant black life matter communist try attack bus full irish people\",\"muslim mayor london fire new year eve firework display feature black life matter marxist clenched\",\"everything come existence creates opposite light darkness heat cold life death matter anti\",\"fact get hit hard game stop stock tell one thing people short stock\",\"illustrate little government care people nothing\",\"um exactly dc capitol bombed see already rewrite history le two mon\",\"seriously bad news government move piece place carry illegal act\",\"happy palm sunday amp begin week change world may walk close jesus death amp\",\"video perfectly illustrates rapid decline quality living u america bust je\",\"allahu akbar allahu akbar allahu akbar last word cockpit flight\",\"accusatory inversion modus operandi\",\"year ago today one america great patriot hero born born bloomington illinois\",\"tell everyone year ever give scandinavian brother sister war th\",\"biophobia contagious\",\"muslim natural ally race sourc\",\"see biden openly celebrate white people go extinct america decade really care\",\"love reading golden globe hashtags left master exploit identity politics political correctness virt\",\"capitol wrap barbed wire look like capitol socialist country america\",\"arrest people fraudulently get child college however even investigate official fraudulent\",\"attack u military eleven soldier fort bliss texas injured drinking antifreeze believe dr\",\"assange never gaol expose war crime u government always mystifies\",\"nation yahweh mayor miami xavier su rez declare yahweh ben yahweh day october mon\",\"gt little girl also kinky someone explain part campaign normalize idea\",\"possibly scam divert funding community could possibly scam get\",\"wrong incite intense dislike religion activity teach religion outrageous ir\",\"new normal watchword great reset\",\"covid warn yr old survivor call resistance recur fascism tend hold onto rather magical amp\",\"fact politician scream gun control trace back george soros gun control\",\"left protects domestic terrorist whereas right abandon\",\"teach child follow god world teach\",\"hundred salutation foot madhav\",\"help dad attack antifa attack break arm brave dad campaign canada give child drug change\",\"gymnastics say dirty arab\",\"although one neutral today time everyone inclination towards mine also neutral\",\"parliament need time\",\"go take people stand shame everyone stood watch\",\"level security require wef aka enemy life annual meeting tell u\",\"isolated act bullying result illegitimate government flood white country\",\"see yet another major purge go today linktree find place\",\"facebook ban gay ex muslim iraq life germany one photo show kiss man\",\"new gab post east west divide read way\",\"current swallower\",\"good news would prefer rehabilitation center\",\"yes trump praise amaze international supporter thank supporter america stand\",\"case understand politics work day age wrong opponent\",\"ficed rothschild return face face reality hysterical assa traor\",\"tik tok innocent social network indian redneck year old quiet fun\",\"voice even low eye level straight neither sign show saxon begin\",\"hesitate worn bottom people see inside let go colorful\",\"two private school girl adelaide appear film hang black baby doll give part\",\"china amp iran control biden commie amp islamic supremacist long history unite destroy common enemy\",\"sister\",\"february shape one long cold rape big frozen winter wiener\",\"god bless eric zemmour\",\"brexit disaster volume export go british port channel tunnell eu fell last month\",\"yeah stock market hello\",\"term radical thrown around pretty loosely day literally anything left like\",\"pulse farmer need price support edible oil\",\"book write\",\"seethe harder parasite freak\",\"buzyn amp co judged crime humanity want new nuremberg\",\"right style commission investigate blm antifa riot torched city su\",\"love george monbiot pummel andrew bowie monbiot absolutely cool measure logical bowie typic\",\"downfall america sum single image\",\"satanism free rule everyday living mondaymotivation freedom sound monday blo\",\"lol invention exactly even congo finally penetrate native people disco\",\"heal unity creature\",\"right guy trial face ten year prison meme another guy give year sent\",\"people arm security shut hell gun control laughable allow protect themse\",\"agree ignoramus toby young free describe journalist illiterate make\",\"call target harassment\",\"brexit cost uk gdp first year body blow uk economy plummet almost cer\",\"world live world people celebrate turn family member mob\",\"black dude see white guy get shot death response shit like see creature want\",\"want drive neighborhood let driven away gegendemo af\",\"way bad apartheid state terrorist state terrorizes surround country\",\"actually sour though pickle except cabbage instead cucumber delicio\",\"firearm registration always lead firearm confiscation always without exception need contact\",\"want know exactly many firearm exactly many round ammunition\",\"savitri devi write numerous time determine quality person people view\",\"plz support student amp part campaign\",\"yes even ruin small humble little farm state like wisconsin live people incom\",\"threatens violence manager video say hope others find beat tri\",\"dead boris johnson say everything could political epitaph indolent prime minister\",\"censorship laughable pathetic scar conservative\",\"mdrrrr see pair look like clutch pedal\",\"lgbt deviant disrespect kaaba bo azi university detain\",\"start reimburse ruin fn\",\"guarantee chick like anything luxury\",\"everything david hogg reinforces belief one allow vote engage political discours\",\"boris johnson mr crisis mr liar mr clueless mr corrupt mr racist mr money grabber mr public heal\",\"expose left wing agitator like greta thunberg sacrifice farmer feed global hatred modi thunberg may puppet\",\"pay global security bunch scar trickster\",\"big bank corporation funding inversion normal healthy society question big bank\",\"play celine dion leave without eurovision grand prix\",\"texas lead freedom via\",\"turn violent criminal care gun illegal carry\",\"much bad everything try pretend trump\",\"tell russia never cucked j\",\"cosmetic industry perfumery trade also see existence danger open letter appeal\",\"people really need stop use child instrument propaganda fair hardl\",\"rail go work\",\"barack obama blame boulder islamic attack disaffection racism misogyny call gun control mean\",\"anyone know ratio jew ce major american corporation\",\"one legally obligate hire people foreign country law tell hire citizen f\",\"whole road map thing psy ops lockdown end people amp business simply realise power amp n\",\"great reset eat bug future proclaims world economic forum unelected self anoint global elitist post vi\",\"leftist never held accountable vicious public threat violence keep make trump\",\"shame wrongly announce julian assange release bail instead issue correction chan\",\"archive footage jeane manson sings child god pedophile sect via\",\"injury today insurrection oh wait mean medium full crap\",\"best left wing joke day islamic terrorist shoot someone gun fault make stu\",\"accusation incest richard berry marilou berry support cousin coline\",\"stop banker eat dumpster\",\"didnt happen would b funny\",\"hey general heard retire general major ig investigation involve army hid\",\"anyone knowingly allows baby poison toxic metal like deserves death penalty serio\",\"government surround fence arm military guard planning unspeakably ho\",\"new gab post burn coal pay toll meme\",\"break new year eve canada police violently raid family gathering six people neighbor report coronavirus\",\"people bailing tube switch lbry odysee\",\"buy story second pipe bomb really plant dc capitol guarantee\",\"arrogation double entendre via\",\"plan take back hagia sophia\",\"detest people every part medium idiot support imagine guy n h ei r si de nobod\",\"allege nurse practitioner threaten deny people treatment political leaning someone sho\",\"well really want get subject serial killer start samuel little\",\"trouble get upset say aaj english\",\"put account protect mode\",\"g link anon r pls research post u find fault let know learn hhx news clipping lie flie\",\"favor report guy try dox\",\"people celebrate genocide social medium platform allow yet told live wh\",\"patriot fight back san diego gym owner sue state amp county official tyrannical lockdown measure wa\",\"encourage people call attitude like attitude could get arrest sentence\",\"go leclerc reimburse x psk difference found penny product cheaper htt\",\"people want walk car well illusion remain anyway good morning thursday thought\",\"fiery mostly peaceful prize\",\"watch first part minute great reset great reset spring cleaning great r\",\"main stream medium work international banker international banker fully human hurt u\",\"think even one race government target deprogramming know becau\",\"gradually begin hate video link\",\"say year ago lot people say hyperbolic\",\"break pandemic number fake blame trump change guideline covid test hour biden inauguration thes\",\"kind interest timing soros myanmar\",\"america laughingstock\",\"mine christine\",\"banker rob u generation feel slightest bit sorry finally robbed\",\"three sea rescue ng accuse complicity criminal smuggler\",\"u press reporting muslim girl father lie samuel paty start campaign get\",\"great reset spring cleaning episode free extract\",\"brittany huge slut\",\"richard berry admits violent catherine hiegel jeane manson\",\"time school place child could learn safety thanks importation di\",\"daily reminder current president united state say good thing found stock america\",\"ever notice literally sea protest medium like hype sign write english\",\"make farm economically viable sustainable enterprise small farmer india need carefully listen\",\"two tower hand signal hmm\",\"shameful samuel paty style threat head school bow violent jihad mob parent issue apology su\",\"right give british journalism coverage brexit covid\",\"try tell everyone year matter nothing good enough crea\",\"day say something sign point israel manufacturing war america china ru\",\"hat white people era late great pop culture cool fashion trend\",\"vote ossoff would need remain vote win\",\"call domestic terrorism see call terrorism ground political affiliat\",\"australian student year behind average chinese student sat test year behind\",\"daniel year old athletic intensive care bfm tv manipulation\",\"appal homeless queue food last night soup kitchen freeze condition ten year toryism\",\"man reaps sow lago puelo neighbor receive alberto badly must end run away\",\"accord news source suspect detain release name description virtual\",\"america strange fetish reward idiocy need order become rich famous even get\",\"left preaches unity heal carry violence denounce violent\",\"neat idea fiction novel anyone interested write bunch retire sof operator use\",\"today first day zero degree entire hour\",\"let perfectly honest left actually care victim mass shooting se\",\"must watch arizona parent fight back school board communist anti racism initiative child indoctrin\",\"even know could shoot mile wow seriousness idiot like allow\",\"say\",\"almost every day quietly think amerindian actually choice fight openly\",\"whole event always control western country roll social credit system like comm\",\"friend waffen veteran wiking division swore cold ext\",\"nobody owes fuck thing\",\"believe\",\"conquer illegal minor brought dallas male age\",\"disability heval\",null],\"marker\":{\"color\":\"#CFD8DC\",\"opacity\":0.5,\"size\":5},\"mode\":\"markers+text\",\"name\":\"other\",\"showlegend\":false,\"x\":[4.6445722579956055,4.593059062957764,3.184605121612549,6.678947925567627,4.707483291625977,4.469526767730713,3.8392467498779297,6.618096828460693,4.1109137535095215,5.198176383972168,6.720824241638184,5.123841762542725,5.329317569732666,5.454568862915039,4.927159786224365,5.571824073791504,1.6259416341781616,5.6168670654296875,3.943675994873047,3.9720277786254883,5.7266645431518555,4.871273517608643,2.011791706085205,6.226629734039307,4.62086296081543,4.256004333496094,5.255934238433838,6.666043758392334,3.93705153465271,6.569723129272461,5.2996931076049805,4.488471508026123,5.753628730773926,3.31148099899292,3.835350513458252,3.030738592147827,3.575535535812378,4.548745155334473,5.705854415893555,6.211421012878418,4.611252784729004,3.5419809818267822,3.281266927719116,6.197497367858887,4.55037260055542,5.021549224853516,3.815479040145874,4.442709445953369,4.970921993255615,5.267535209655762,3.652416944503784,5.10758638381958,3.871950149536133,6.732031345367432,6.938793182373047,6.670276641845703,7.552052021026611,4.44684362411499,4.106369495391846,4.7519755363464355,3.6561713218688965,3.156647205352783,4.254911422729492,6.380705833435059,4.7301130294799805,3.819718360900879,4.688847541809082,4.957313537597656,4.459707260131836,4.286996841430664,3.4388656616210938,5.454825401306152,3.939810276031494,7.53318452835083,4.198421001434326,3.7432608604431152,5.451114177703857,5.03532075881958,6.5959930419921875,4.875036239624023,3.5606281757354736,4.578273773193359,5.381175994873047,4.945323944091797,2.7332637310028076,3.6519064903259277,3.938845157623291,5.485969543457031,6.442920207977295,5.9133734703063965,6.686625003814697,4.082276821136475,6.721571445465088,4.038848400115967,4.313666343688965,3.052621364593506,4.617048740386963,5.965307235717773,5.390511989593506,5.674017429351807,5.362899303436279,3.1604316234588623,4.359841823577881,4.350927829742432,5.285178184509277,5.193556308746338,7.278860092163086,4.904439926147461,3.281094551086426,4.445886611938477,3.444889783859253,4.681962013244629,3.130653142929077,5.760226249694824,7.131592750549316,5.9341959953308105,4.970367431640625,2.0315141677856445,4.506092071533203,4.492039680480957,4.792998313903809,4.899590492248535,8.522010803222656,5.523918151855469,3.183530807495117,4.675164699554443,5.150684833526611,3.784161329269409,4.783297538757324,7.300915241241455,3.6164772510528564,3.1890082359313965,3.7634215354919434,4.639522075653076,4.714619159698486,2.16731595993042,5.561712265014648,4.491286277770996,5.150952339172363,6.460256576538086,5.464080810546875,4.870265483856201,4.678179740905762,7.173985004425049,4.481594085693359,4.722465515136719,5.0714850425720215,3.984342336654663,4.299236297607422,3.087395668029785,3.7005679607391357,6.300955772399902,4.2273945808410645,3.5836219787597656,4.7738847732543945,4.023341178894043,4.876257419586182,6.433868885040283,4.191753387451172,4.65074348449707,1.5045647621154785,5.046995639801025,3.8132548332214355,3.815154790878296,3.811518669128418,4.198599338531494,3.7528445720672607,4.005397796630859,6.38468074798584,5.013970375061035,3.742398500442505,5.345007419586182,5.6573638916015625,4.213375091552734,3.976731777191162,4.799339294433594,5.840387344360352,5.553042888641357,4.7047810554504395,4.768166542053223,7.497931003570557,5.511706829071045,5.996744155883789,2.196232557296753,4.092890739440918,5.26563835144043,6.799200534820557,4.784945964813232,3.2102127075195312,3.5607378482818604,4.692115783691406,6.942084312438965,3.583324432373047,3.310762643814087,4.117668151855469,6.346458435058594,5.248323440551758,6.451085567474365,3.721024513244629,3.115488290786743,6.8138909339904785,4.151560306549072,7.081752777099609,3.2185826301574707,4.238657474517822,6.778292179107666,5.046451568603516,3.3149783611297607,7.82905387878418,2.976440668106079,6.493047714233398,4.3645100593566895,5.596799373626709,4.385240077972412,4.249721050262451,7.500493049621582,4.506965637207031,6.7004714012146,6.62528657913208,4.784674644470215,4.98689079284668,5.415862083435059,5.851137161254883,6.173518180847168,4.969297885894775,4.838728904724121],\"y\":[11.685218811035156,12.794489860534668,12.036914825439453,12.511067390441895,10.055749893188477,13.409204483032227,12.704669952392578,10.613252639770508,12.043670654296875,10.841039657592773,12.017813682556152,12.139232635498047,10.754362106323242,12.81299877166748,11.053473472595215,10.807501792907715,12.038371086120605,12.218097686767578,10.697053909301758,12.72071361541748,12.760899543762207,11.6331148147583,10.914928436279297,12.10110092163086,13.482989311218262,12.841102600097656,12.290178298950195,12.513751029968262,11.841605186462402,11.724645614624023,11.196680068969727,13.778172492980957,12.051410675048828,11.908587455749512,12.485931396484375,11.430646896362305,10.06151294708252,13.656296730041504,9.109931945800781,12.057548522949219,12.781846046447754,11.716175079345703,10.454703330993652,13.370133399963379,11.940162658691406,12.587809562683105,12.807554244995117,13.384607315063477,11.109055519104004,12.221772193908691,10.78059196472168,12.949429512023926,13.456436157226562,11.880684852600098,12.830822944641113,12.97203254699707,13.536931037902832,12.953490257263184,13.143427848815918,12.502091407775879,10.784015655517578,11.444190979003906,10.673044204711914,12.119161605834961,12.392135620117188,10.920835494995117,10.0758638381958,11.075088500976562,13.375115394592285,12.78720474243164,10.665863990783691,10.802292823791504,11.44056224822998,12.162430763244629,11.45193099975586,11.77064323425293,11.875014305114746,10.617040634155273,13.050365447998047,9.822450637817383,11.226873397827148,11.817072868347168,10.937368392944336,10.617676734924316,12.82287311553955,12.357359886169434,11.800060272216797,10.013226509094238,11.846673965454102,10.96939754486084,12.072452545166016,12.169658660888672,10.885383605957031,10.695414543151855,10.566390037536621,11.979910850524902,11.891006469726562,13.289922714233398,11.951861381530762,9.145646095275879,14.063482284545898,11.51025104522705,12.799933433532715,10.028291702270508,12.310015678405762,11.25403881072998,13.941238403320312,10.682332992553711,11.487738609313965,13.416330337524414,12.2334623336792,12.826037406921387,12.022130966186523,12.472071647644043,12.751803398132324,12.006662368774414,12.388995170593262,11.757951736450195,13.544221878051758,13.743809700012207,11.260416030883789,11.310853004455566,13.246822357177734,10.264244079589844,12.04659366607666,12.584538459777832,11.510674476623535,11.212267875671387,10.020427703857422,11.861176490783691,12.256860733032227,12.046361923217773,12.19365406036377,11.883627891540527,12.217921257019043,11.251178741455078,12.768807411193848,13.544023513793945,12.460654258728027,13.032273292541504,12.043296813964844,11.30176067352295,11.879354476928711,13.424155235290527,13.798198699951172,11.7075834274292,11.66917896270752,11.859251022338867,12.841863632202148,11.482989311218262,10.128202438354492,10.278310775756836,12.722981452941895,10.054883003234863,11.73998737335205,10.685169219970703,10.66063117980957,12.47111988067627,13.23816204071045,11.906648635864258,11.352129936218262,11.573768615722656,12.865509986877441,9.189170837402344,12.812478065490723,11.1332426071167,12.44747257232666,13.582015037536621,11.925256729125977,10.590167045593262,11.588255882263184,10.422066688537598,12.557781219482422,13.20760440826416,10.969281196594238,9.981456756591797,11.924306869506836,12.871186256408691,10.05733585357666,11.709624290466309,14.132210731506348,10.233813285827637,13.333425521850586,12.33259391784668,11.951183319091797,12.260491371154785,10.982892036437988,11.775615692138672,11.561237335205078,11.269999504089355,9.99901008605957,11.104177474975586,10.039100646972656,10.734001159667969,12.04428482055664,12.029860496520996,11.930813789367676,11.692073822021484,11.289007186889648,11.990970611572266,11.978131294250488,12.109530448913574,14.102717399597168,12.120613098144531,12.712303161621094,11.995903968811035,10.503780364990234,11.796637535095215,12.881281852722168,11.462539672851562,12.568615913391113,12.8642578125,9.33837604522705,10.904426574707031,12.817300796508789,13.385202407836914,13.662455558776855,10.64113712310791,11.844266891479492,12.089513778686523,10.588702201843262,10.818252563476562,12.22191047668457,12.656327247619629,10.601994514465332,11.865598678588867],\"type\":\"scattergl\"},{\"hoverinfo\":\"text\",\"hovertext\":[\"pay middle eastern terrorist smuggle u via mexican border people sw\",\"austrian girl told wear hijab prevent assault migrant fmr member parliament suggests austrian born girl\",\"chinese corona virus like\",\"break christian attack jihad attack suicide bomber strike catholic church indonesia palm sunday church\",\"yes af slam merkel import culture hate woman turn berlin baghdad migrant willi\",\"easter australia day allow\",\"afd gottfried curio warn world amp stuns german parliament un amp merkel plan expose make every call refugee\",\"warn socialist spain keep register vaccine refusers country receive name dissenter strategy designe\",\"german parliament left stun afd gottfried curio migrant go save germany ruin\",\"syrian muslim refugee welcome america hand citizenship along host taxpayer fund handout\",\"biden legislate executive order unless dictator also biden proceeds sign record break\",\"break germany suspends astra zeneca vaccination although report side effect increase several st\",\"know term islamophobia invent front group muslim brotherhood order export\",\"terrorist come terrorist come\",\"predict biden break trump peacetime record launch air strike syria\",\"france sudanese muslim illegal alien stab immigration official death asylum claim reject\",\"get ready white people joe biden america inbound gt unrelenting stream immigration non stop gt\",\"ten people slaughter syrian muslim refugee ahmad al issa white non muslim terrorist attack also goin\",\"islamic migrant threatens gang rape politician expose illegally operate mosque see video islamic community\",\"suicidal sweden left wing open border policy blame late allahu akbar attack afghani tamim sultani grant\",\"tuesday biden address nation islamic attack say would speculate shooter motive\",\"woman speak islam france threaten rape amp death american understand happen\",\"sharia compliant nike harshly condemn depict iranian female mathematician hijab chosen never\",\"allahu akbar migrant attack migrant riot man commits suicide greek detention center hundred illegal migrant\",\"anti christian twitter iftar amp ramadan hashtag emoji honor islamic holy day one christian ho\",\"sure many research danger associate gene alter prick\",\"father botros coptic orthodox priest try wake west year many christian must die\",\"come religious place thief come steal robber\",\"basically back foreign war shipping american job sea\",\"fifteen girl saudi arabia burn alive islamic sharia religious police let leave burning\",\"alabama litigation jihadist cair file federal lawsuit prison execute two convert islam wit\",\"wow german parliament left stun afd martin hess slam german lawmaker allow war machine ente\",\"sharia uk every woman cover top toe otherwise police collect situati\",\"enrichment father beat sexually abuse daughter check muslim sweden refuse deport court h\",\"army illegal migrant invade hungarian home mayor demand military action woman found army illegals\",\"still catholic apostate\",\"globalists celebrate open border joe biden european union joe biden join force fight right wing extremist\",\"syrian muslim terrorist ahmad al issa try travel syria summer unable due coronavirus lockdown acco\",\"enrich sweden isi child back sweden pose weapon sever head social service take child fro\",\"population control group cheer biden force taxpayer fund overseas abortion trump like reagan stop taxpayer fun\",\"happen make american listen put video year ago man interrogate islamic\",\"enrich germany syrian refugee tell job center would rather fight jihadis meanwhile muslim brotherhood ba\",\"biden test illegal alien coronavirus le month biden number people illegally\",\"hamas link cair amp iihan omar unite demand sharia compliance pro sharia muslim rep elect ilhan omar demand amazon give\",\"expose covid lockdown rule apply salvini left wing italian trial judge salvini trial kidnapping w\",\"belgium first islamic state europe one third country population foreign origin brussels belgian\",\"muslim commit multiple terrorist attack across europe gt muslim look back anger random\",\"make germany great warn globalists socialist amp enemy west germany fed amp rise af lead\",\"government enforces hospital put every death covid\",\"igrant enrichment german woman begs help go street anymore without think pepper spr\",\"people die vaccination accord pej bos cichutek bpk however people\",\"warn communist weaponize fake asian hate crime narrative plot march th u protest party liberation socialis\",\"report government dominate committee call seat inbound flight quarantine place australia\",\"spain attack military age migrant infect coronavirus storm border fence socialist gov caught distri\",\"biden amp eu join force eu commissioner ylva johansson see video work biden fight right wing extremist\",\"france call islamophobe live hr police protection due death threat receive\",\"fbi interviewed terrorist amp nothing major hasan fort hood tx kill amp wound omar mateen orland\",\"start go biden bomb\",\"stop steal twitter suspends spain conservative vox party ahead election video vox leader santiago abascal vow\",\"demographic jihad swedish government lie massive migration number almost illegal migrant grant citizensh\",\"major victory domestic terrorism america today fail huffington post fire radical\",\"america deal deadly islamic terrorist attack colorado jihadist kill mali one\",\"break sweden admits people die high rate due pandemic video statistic reveal overall death rate\",\"share caution vaccine know long term side effect basically modify pe\",\"globalists celebrate eu biden join force fight right wing extremist islamize west ban free speech islamic\",\"londonistan tesco worker help police take muslim attacker brandishing multiple knife\",\"go war germany protect america english replace german ensure\",\"morocco muslim youth vandalize brand new casablanca bus apparent reason\",\"go forward twitter tweet mention coronavirus vaccination censor twitter part\",\"warn isi order wolf attack church amp police spain despite anti terrorist unit warn left wing gov\",\"back another twitter ban new crime quote world health organization discus new vaccination\",\"biden threat global security china ate secretary blinken lunch ccp order press back room\",\"open border joe biden vow increase refugee admission trump demand low refugee admission u histo\",\"global plot left wing western leader continue open border mass migration impose harsh coronavirus lock\",\"democrat darling rep ilhan omar say chuckle israel call democracy compare iran anti\",\"alert mandatory coronavirus vaccination come spain video refuse injection mislabelled vaccine wi\",\"bioterrorism bangladeshi muslim doctor arrest boston try obtain deadly ricin fbi investigate dr ishtiaq\",\"putin responds biden threat wish good health\",\"israel law allows authority know identity unvaccinated people\",\"must watch video break famous doctor develops safe vaccine covid germany prosecutes state targete\",\"turkish president recep tayyip erdogan file criminal complaint dutch opposition leader geert wilder\",\"muslim brotherhood congressman andre carson arrest yet republican allow serve spy house intelligenc\",\"demographic jihad swedish government lie massive migration number video within generation sweden third large\",\"warn u democratic party copy germany deploys antifa stormtroopers conservative germany left wing gov\",\"trump accomplish last president combine\",\"german try warn u\",\"sharia sweden conservative journalist ingrid carlqvist amp maria celander indict thought crime islam face\",\"alert america face invasion border biden flood america refugee terr\",\"keep warn america know many syrian muslim refugee way america next eu\",\"global plot left wing western leader continue open border mass migration imposin\",\"read two new openly anti illegal migrant pro border minister appoint conservative prime minister kyriakos\",\"flashback fbi take poster seek islamic terrorist hamas link cair complain show photo fb\",\"biden sign executive order first ten day president anyone sign many executive order\",\"islamophobia slay unbeliever wherever ye find koran verse\",\"warn attack france come muslim mayor incites jihadis threaten teacher samuel paty style death teacher\",\"terror attack update afghani migrant behind stab sweden medium reporting terrorist suffer\",\"clarkston georgia one georgia large mosque built small city clarkston resident\",\"female palestinian muslim terrorist say prepare carry suicide bombing mission jew like prep\",\"america corrupt refugee resettlement program brainchild senator biden one reason muslim brotherhood end\",\"easy meat another fail muslim asylum seeker rape murder chop body british woman lure\",\"break terror attack sweden eight injured vetlanda video police refuse answer medium question\",\"shock video famous journalist expose suicidal effect sweden open border policy swede told\",\"enrich belgium brussels mohamed mohammed ahmed common name many municipality new stati\",\"elderly abuse grandma ban nursing home activity refuse vaccinate vaccine suppose vol\",\"break swedish news reporting suspect first enter country\",\"suicidal socialist spain moroccan migrant mohamed professional robber commit crime h\",\"linda sarsour organizer woman march amp openly support sharia law let sink adaywithoutwomen internati\",\"want keep america safe stop import people want kill u simple\",\"alabama litigation jihadist cair file federal lawsuit prison execute two convert islam without\",\"course american medium never show capital city european union new year eve bruss\",\"enrich uk refugee demand hotel set fire barrack threaten kidnapping staff commonplace europ\",\"anyone yet investigate mosque ahmad al issa attend\",\"covid plot gay man flee venezuela warns communist take canada trudeau use virus power grab\",\"follow france footstep austria begin crackdown muslim\",\"hey know syrian muslim terrorist colorado twitter account delete show h\",\"world hijab day one many subtle tactic use muslim brotherhood front group introduce sharia america illino\",\"shill foreign domestic enemy\",\"new follower syria last week see\",\"yet bombed middle eastern country\",\"threat alert terror tie migrant run dangerous mosque amp islamic school florida dr fadi yousef kablawi long history\",\"meanwhile enrich belgium four minor arrest plot islamic terrorist attack one already bought mac\",\"venezuela start free distribution drug covid\",\"belgium first islamic state europe one third country population foreign origin brussels belg\",\"pau manager reception center kill knife sudanese migrant via\",\"bolder muslim refugee terrorist convict misdemeanor assault another student high school suspe\",\"geert wilder shock dutch parliament koran full jew hatred wilder demand parliament stop pretend care abo\",\"coronavirus tyranny german state police detain maskless elderly cyclist citizen violate chancellor angela merkel lockd\",\"enough mr laschet enough merkel cry help hairdresser bianka fuse burn\",\"remember nato bombing yugoslavia\",\"hamas link cair amp soros unite push blasphemy law wan america cair call legislator label criticism\",\"dr fauci covid expert back march\",\"trump accomplish last president combine\",\"biden need another war middle east also biden proceeds bomb syria\",\"muslim ever respect religious teacher religion koran order religion\",\"break see inside germany maximum security corona jail quarantine violator barbed wire amp security fence surround\",\"eu schmuck blast bosnia take well care illegal alien muslim invader burn calle\",\"netherlands like last week former soldier stood today protection protester\",\"terror canada nye amir abdulrahman amp al azan shah muhammad drag police sgt andrew harnett death enrichers\",\"christian refugee austria return syria safer young christian syria flee austria esca\",\"break massive cover expose virologist sucharit bhakdi healthy people dangerous vaccine young\",\"enrich france police crew attack mortar fire car burn amp fire set throughout lyon mayor refuse\",\"germany threatens citizen merkel release ultimatum get vaccinate banish germany already throw quarantine\",\"france muslim arrest try carry attack jewish school amp kosher grocery video prosecutor cry mental illness\",\"tell u else could seem may side effect\",\"radical somali congressmuslim ilhan omar mn threatens force republican congresswoman office\",\"kill kill war police france mainly african arab muslim commu\",\"astra zeneca prove dangerous yet country throughout europe push citizen meanwhile famous german doctor\",\"bloody man throw decapitate head window onto street france short month ago islamic migrant\",\"biden let million illegals america vaccination record democrat\",\"question point baby wear hijab hijab suppose prevent men tempt sin appea\",\"italy naked jaybird illegal alien muslim invader take leak middle street broad daylight\",\"new year austria civil war like incident amp yell allahu akbar new year eve vienna meanwhile elec\",\"woman march silent taxpayer fund german school put hijab non muslim german girl dress rehearsal\",\"west full country protect border dangerous illegal migrant problem imposi\",\"trump peace biden war thanks left\",\"politician marine le pen party france slam famous ballet du nord put woman sharia hijab\",\"hijab amp niqab represent subjugation woman sign woman accept responsibility keep men tempt\",\"fbi arrest doug mackey aka ricky vaughn conservative journalist florida face year hurt democrat\",\"well uganda damn well leave sweden\",\"deeply disappointed gov abbott proud gab amp jewish support christian run business amp thank\",\"biden obama back terrorist please islamic pakistani sharia court overturn conviction\",\"break u custom border protection report illegals attempt cross border february\",\"french geneticist covid health crisis test healthy people medicine see viral video focus\",\"germany stab spree frankfurt leaf several injured german authority probe attacker motif\",\"warn conservative dangerous new antifa doxxing group beware deplatform hate left wing deplatform hate lat\",\"shock famous journalist expose suicidal effect sweden open border policy video swede told\",\"colorado shooter facebook page quote prophet muhammad also know extremely religious sure thi\",\"hungary continue put people st illegals prime minister viktor orb n vowed never allow christian country chang\",\"hungarian prime minister orb n soros population replacement make europe muslim orb n leader pa sto\",\"coronavirus tyranny truth teller arrest uk woman arrest film inside empty hospital post online\",\"migrant party taxpayer fund resort pool spain remains lockdown two week ago migrant left wing red\",\"one good thing french police never hesitate fire weapon knife wield muslim\",\"vaccination blackmail restaurant expect reopen january\",null],\"marker\":{\"opacity\":0.5,\"size\":5},\"mode\":\"markers+text\",\"name\":\"0_muslim_biden_migrant\",\"text\":[\"\",\"\",\"\",\"\",\"\",\"\",\"\",\"\",\"\",\"\",\"\",\"\",\"\",\"\",\"\",\"\",\"\",\"\",\"\",\"\",\"\",\"\",\"\",\"\",\"\",\"\",\"\",\"\",\"\",\"\",\"\",\"\",\"\",\"\",\"\",\"\",\"\",\"\",\"\",\"\",\"\",\"\",\"\",\"\",\"\",\"\",\"\",\"\",\"\",\"\",\"\",\"\",\"\",\"\",\"\",\"\",\"\",\"\",\"\",\"\",\"\",\"\",\"\",\"\",\"\",\"\",\"\",\"\",\"\",\"\",\"\",\"\",\"\",\"\",\"\",\"\",\"\",\"\",\"\",\"\",\"\",\"\",\"\",\"\",\"\",\"\",\"\",\"\",\"\",\"\",\"\",\"\",\"\",\"\",\"\",\"\",\"\",\"\",\"\",\"\",\"\",\"\",\"\",\"\",\"\",\"\",\"\",\"\",\"\",\"\",\"\",\"\",\"\",\"\",\"\",\"\",\"\",\"\",\"\",\"\",\"\",\"\",\"\",\"\",\"\",\"\",\"\",\"\",\"\",\"\",\"\",\"\",\"\",\"\",\"\",\"\",\"\",\"\",\"\",\"\",\"\",\"\",\"\",\"\",\"\",\"\",\"\",\"\",\"\",\"\",\"\",\"\",\"\",\"\",\"\",\"\",\"\",\"\",\"\",\"\",\"\",\"\",\"\",\"\",\"\",\"\",\"\",\"\",\"\",\"\",\"\",\"\",\"\",\"0_muslim_biden_migrant\"],\"textfont\":{\"size\":12},\"x\":[2.786526679992676,2.0484397411346436,1.082724928855896,3.5416746139526367,2.2030909061431885,3.589993476867676,2.116264820098877,1.0767261981964111,2.09171462059021,2.616546869277954,2.362699031829834,1.1703476905822754,2.550626516342163,3.6949069499969482,2.4042327404022217,2.700319766998291,2.473217725753784,2.620248317718506,2.8054895401000977,1.6353760957717896,2.510709524154663,2.5808422565460205,2.0250895023345947,2.6605818271636963,3.544825315475464,1.066351056098938,3.2167627811431885,3.5798275470733643,2.7096896171569824,2.1729536056518555,2.9015822410583496,2.0318398475646973,2.047389030456543,1.7473937273025513,1.942634105682373,3.2899887561798096,2.4387879371643066,2.5795304775238037,1.6809360980987549,2.386533498764038,2.871260404586792,2.4109268188476562,2.360039234161377,3.0438530445098877,1.5764682292938232,2.5631954669952393,2.700456142425537,2.1797690391540527,1.276218056678772,1.8298102617263794,1.0272917747497559,4.0151872634887695,1.4826384782791138,1.4784072637557983,2.4806900024414062,2.655067205429077,2.806077241897583,2.4952776432037354,1.5610543489456177,1.660036563873291,3.650238037109375,2.7580296993255615,1.526586890220642,0.9964821934700012,2.570580005645752,2.5775389671325684,2.271117925643921,2.6085867881774902,1.0913282632827759,2.16646146774292,1.1508445739746094,2.5610098838806152,2.386763095855713,1.534110188484192,3.1845154762268066,1.1096171140670776,2.726531744003296,2.4960098266601562,1.0183931589126587,1.1384661197662354,2.0799560546875,2.9439868927001953,1.6069769859313965,2.1482021808624268,2.380751848220825,2.275665521621704,1.887974500656128,2.488131284713745,2.4977681636810303,1.713650107383728,1.708041787147522,3.0260026454925537,2.3795852661132812,2.6425788402557373,2.654945135116577,1.7151613235473633,2.8921122550964355,2.4779531955718994,2.6378307342529297,2.5833420753479004,1.6605656147003174,1.5894296169281006,2.6257801055908203,1.2520338296890259,1.6092000007629395,2.7490761280059814,2.0752689838409424,2.6027979850769043,2.9225540161132812,3.5877795219421387,2.497774600982666,2.9351556301116943,1.392052412033081,2.502138137817383,2.8041129112243652,2.091667890548706,4.013765335083008,2.718264102935791,2.630544662475586,2.9795873165130615,2.6663589477539062,1.2178865671157837,2.5898265838623047,2.658592939376831,2.8076729774475098,2.0721828937530518,1.7687243223190308,2.217433214187622,2.473865032196045,3.1056835651397705,1.1687792539596558,2.3416223526000977,2.479480028152466,3.2304608821868896,1.8515313863754272,2.3465118408203125,2.011775493621826,3.4065442085266113,2.4861977100372314,1.015671730041504,2.665316581726074,1.8168909549713135,2.6384871006011963,1.0006256103515625,2.8950319290161133,2.800894021987915,1.2292155027389526,2.6499524116516113,2.3291525840759277,2.0597448348999023,2.912635087966919,3.708380937576294,2.033095121383667,2.460516929626465,2.5609548091888428,2.056171417236328,2.0379109382629395,3.0342438220977783,1.6643632650375366,3.2867112159729004,2.902137517929077,2.442807197570801,1.1314491033554077,1.9268864393234253,4.0623369216918945,1.5900672674179077,2.8083090782165527,1.9932173490524292,1.9032444953918457,1.3355538845062256,1.577138900756836,2.656064033508301,1.026419758796692,2.310839891433716],\"y\":[11.42294692993164,9.936259269714355,11.478541374206543,10.532280921936035,11.313660621643066,10.567469596862793,11.449845314025879,11.755321502685547,11.466415405273438,11.213065147399902,12.805200576782227,11.695813179016113,10.161748886108398,10.681726455688477,12.75924301147461,9.847917556762695,12.174691200256348,10.609771728515625,10.17642879486084,10.519067764282227,12.54247760772705,9.880193710327148,9.944391250610352,10.121315002441406,10.56950569152832,11.645602226257324,10.30880069732666,10.538345336914062,11.929351806640625,9.924370765686035,10.877018928527832,11.51559829711914,9.940982818603516,10.340815544128418,10.899226188659668,10.446558952331543,12.356391906738281,10.743912696838379,10.393070220947266,12.346715927124023,10.370083808898926,11.083707809448242,12.222134590148926,10.956062316894531,11.45040225982666,10.2122220993042,10.13603401184082,11.569761276245117,11.60175609588623,11.632472038269043,11.803799629211426,12.483307838439941,11.519163131713867,11.251721382141113,12.468082427978516,9.787784576416016,10.650915145874023,12.709603309631348,11.1284818649292,10.44070053100586,12.661137580871582,10.42949104309082,10.576582908630371,11.782464981079102,12.337400436401367,10.07084846496582,11.649571418762207,9.901046752929688,11.754176139831543,10.556296348571777,11.782938957214355,12.660369873046875,12.110044479370117,11.15793228149414,11.029181480407715,11.715909957885742,10.631917953491211,12.649850845336914,11.81132698059082,11.692530632019043,11.391515731811523,11.169326782226562,10.471415519714355,11.5720796585083,12.897558212280273,11.630882263183594,10.211897850036621,11.949384689331055,11.082647323608398,10.94797134399414,10.951498031616211,10.87016773223877,12.775808334350586,10.185750961303711,9.806402206420898,10.426593780517578,10.59664249420166,9.95628833770752,11.235812187194824,10.106207847595215,10.448248863220215,10.493523597717285,10.241927146911621,11.865870475769043,10.482373237609863,9.893814086914062,10.13909912109375,11.831686019897461,10.885401725769043,10.762199401855469,10.35203742980957,10.68134880065918,11.309110641479492,10.168327331542969,10.45596981048584,10.034346580505371,12.535209655761719,10.451690673828125,10.68195629119873,10.678431510925293,9.951791763305664,11.573542594909668,10.221946716308594,9.962693214416504,10.514113426208496,11.45151424407959,11.566701889038086,11.290853500366211,10.849258422851562,10.925613403320312,11.605985641479492,12.911469459533691,12.68346881866455,10.491842269897461,11.555230140686035,10.994400978088379,11.456801414489746,10.951521873474121,10.959709167480469,11.813746452331543,9.773279190063477,11.614352226257324,9.781990051269531,11.793259620666504,10.740131378173828,9.790605545043945,11.68407917022705,9.947815895080566,12.302778244018555,9.92218017578125,10.091259002685547,10.72000503540039,9.986130714416504,11.78320026397705,12.627169609069824,10.101112365722656,9.927437782287598,11.146339416503906,10.392485618591309,10.852124214172363,11.262853622436523,12.009919166564941,11.611193656921387,11.456933975219727,12.500383377075195,10.476045608520508,10.378079414367676,10.884907722473145,10.863008499145508,11.620556831359863,11.065610885620117,9.802434921264648,11.778916358947754,11.059656143188477],\"type\":\"scattergl\"},{\"hoverinfo\":\"text\",\"hovertext\":[\"call mass shoot however medium report shooter white\",\"people fake hate crime free government money\",\"gt replaces white men normalize concept white people replace non white white\",\"hostile people really except crazy notion planet father god chose\",\"equality liberal construct\",\"really live white supremacist country repeatedly told would law make\",\"white literally nothing bad could ever accuse racism accuse l\",\"guy invent hate crime never happen get free paycheck\",\"write wall white race slat genocide hyperbole exaggeration\",\"year say wag war white people finally understand sa\",\"many year ago say would eventually consider racist arrest black person crime committ\",\"white supremacist keep get darker darker day\",\"people ready admit yet real war wag white people\",\"freak wonder white nationalism rise world\",\"nothing see folk diversity continue great strength\",\"u call suarez something wen call u nigger u bitch\",\"literally institutional racism exists\",\"racist cookie lecture u wokeness\",\"mom mom sheep meeeeeeh black sheep yeah nigga moderfacka hahahahahahahaha yeah nigg\",\"see work literally anything infringes money power decry white\",\"good kyle rittenhouse never arrest first place defend violent mob shoul\",\"time social medium limited use time wisely anti white take war white ser\",\"law enforcement earn every bit hate receive chosen side enemy people\",\"global war white people\",\"way win socio political fight attract fighter side pro white community need foc\",\"quick way get rich america black falsely accuse white person racist toward\",\"strength ancestor life within blood strength survive long enough conti\",\"war adolf hitler never end evolve war white people\",\"refer white people disease probably great way convince u racist go ahead\",\"blackwashing white history continue force stop\",\"replace white people white country tell u source st\",\"diversity mean death white people able get conceal carry permit get reliable firearm\",\"black woman move white neighborhood complains many\",\"diversity strength army choose diversity\",\"white white law protects discriminate white people\",\"basically illegal immigrant get citizenship replace u either way cool steven repeat\",\"democrat rep jackie speier think lot white american u military national security threat\",\"read write wall white people normalize discrimination stop w\",\"say thousand time bear repeat anti racism dangerous new age religion religi\",\"blame white people violent crime commit black end piss entire wh\",\"black need liberal woman offend behalf even think liberal really offend anywa\",\"right replace white man twenty dollar bill black woman worthy high priority\",\"white people ally literally every non white race united\",\"repeat lie truth know want erase white history\",\"course even let white one thing non white ob acce\",\"want really think white man every dollar government take give black\",\"left furious brandon elliot white supremacist instead lifetime parole murder mother sai\",\"nothing allow white white problem need address\",\"never want equality always secretly want revenge\",\"one white person alive today ever black slave one black person alive today ever white\",\"reason white people child simulate experience slave\",\"like well negro\",\"multi racial society create peace prosperity people create animosity hostility hatred vi\",\"anyone pretend anyone even want integration first place literally everyone want separation w\",\"black community none white people concern black community allow behave whatever\",\"actually watch right funny listen black dude talk sell crack\",\"institutional white genocide look like\",\"like cold cold make white ancestor hard strong broke weak bloodline ensure\",\"say keep right say one single white man alive today ever slave\",\"people fanatically anti racist really anti white tend also mentally ill literally watch\",\"replace white people\",\"weak argument difference white kid already die fentanyl overdose l\",\"enemy good mean stood something sometime life winston churchill value yo\",\"never want equality never want mere empowerment either aim always empow\",\"white privilege actually exist listen mindless robot drone repeat\",\"fact liberal consider white guy star athlete change white supremacy tell everythi\",\"america really white supremacist nation consume institutional racism big mega corp like coca\",\"look accept random cop beating people baton like use one call\",\"outside environment impose upon artificially construct human race mix almos\",\"interestingly enough know sole authority define word like hate racism bigotry extremis\",\"man white supremacist asian hater keep get darker darker\",\"illegal adopt black child black\",\"ally people white people always always stop\",\"diversity sensitivity training really mean anti white indoctrination critical race theory\",\"black actually oppose police shooting oppose police shoot black criminal\",\"many innocent white people beaten shot murder savage collectively defen\",\"high culture civilization diversity\",\"guy charge proud boy name enrique tarrio yet proud boy still label white supre\",\"true black woman africa landmass black overwhelm super majority\",\"expropriation without compensation really mean steal farm white farmer destroy say farm blame whit\",\"openly admit displace white people white place living white supremacist conspirac\",\"white country simply never ask ask reject foreign people foreign c\",\"much institutional white supremacy racism\",\"live every stereotype\",\"remove portrait white judge white go ahead tell war\",\"make white people happy racist need stop\",\"white genocide conspiracy theory need challenge misinformation u experience great\",\"event like go continue occur white country citizen form powerful group real li\",\"even issue black asian racism violence narrative remains white people real pro\",\"amount money ever bring equality equality exist anywhere nature brib\",\"white men deserve job white men tell white men persecute\",\"want live around u want live around mutually peacefully separate\",\"talk jq day long however people like michael jones catholic even admit whit\",\"apparently white people fault black woman sprayed hair gorilla glue anything\",\"fuck sake kill two white people death count racism motivation\",\"america literally white people single western country planet anti american e\",\"non white responsible action black gun gang motivate mass sh\",\"black life matter movement nominate nobel peace prize via\",\"act spiritual psychological warfare native european people white people nowhere else\",\"basically say long racism direct toward white people white country\",\"rapist black call rapist call pervert downplay black crim\",\"hunt white supremacist era witch hunt new regime want look every white person w\",\"law enforcement earn every bit hate receive chosen side enemy people\",\"every non white race planet encourage celebrate history heritage culture white race\",\"stereotypical behavior nope way\",\"inca people conquer genocided killke people another south american tribe big deal b\",\"particular point time obvious naked eye race people happier segregation\",\"gt billion covid relief black farmer tell living white supremacist society\",\"know beat white people say care white black yellow blue purple\",\"racist always mean white people call u racist justify violence u fal\",\"deny racist actually proof racist\",\"year literal white genocide\",\"diversity strength army choose diversity\",\"white people well black people thread\",\"man white supremacist asian hater keep get darker darker\",\"diversity safe neighborhood\",\"white elder abuse rampant\",\"toxic upbringing environment anti white hatred racism cultivate hollywood medium school un\",\"translation many white people science statistic technology go replace white\",\"non white prioritize white tell systemic racism exists\",\"yet another evil white man save helpless animal almost behavior genetic something\",\"suck whitedick nigger gayraceplay gaysex oral gayoral interracialgaysex blacksucker bwc\",\"white supremacy mean white people believe white life matter war wag agai\",\"say lot year keep repeat hunt racism era witch hunt\",\"white people get dangerously fed foreigner get away countless act violence\",\"say even okay u pride nationality already\",\"stereotypical behavior nope way\",\"white want something call white supremacy black want thing call response\",\"call whatever want coca cola anti white actively participate war wag\",\"excuse pedophile time never tolerate white person believe white life matter\",\"lot picture show holodomor gulag mostly white folk\",\"go walk condition yeah white thing understand\",\"nigger cocksluts help crave white dick much take matter attach\",\"abolish whiteness mean abolish white people fact popular well receive slogan\",\"institutional white genocide look like\",\"global war white people\",\"netflix already rag machine diversity propaganda\",\"read write wall yet guy war wag white man ever surren\",\"advanced civilization\",\"literally zero justification flood white country non white foreigner whole age dy\",\"black people really little lie small shit\",\"multiculturalism culture mix amp blend together create singular monoculture multicultur\",\"war wag white people everything fault\",\"eventually go consider racist white person deny non white access body\",\"around world white people get dangerously fed violently attack forei\",\"apparently special kind hate black woman experience call misogynoir seriously\",\"social medium like densest major city human existence loud chaotic fast pace emotional irr\",\"replace white people\",\"post still anti white butthurt black history month\",\"feel whole lot well impend collapse western civilization white people form group\",\"even black want segregation back peaceful separation solution today catastrophic failure race r\",\"folkish state make certain suitable education youth day obtain race ripe\",\"happens white become minority\",\"repeat white get dictate white people anti white raci\",\"hence social justice warrior infect\",\"blackwashing never end white people erase little little\",\"literally nothing label racist white supremacist pathological hatred white men\",\"eventually go consider racist white person deny non white access body\",\"need keep drive story home power blame white people murder commit bl\",\"rhetoric creature manufacture cultivate endless hatred white people people wh\",\"treat big deal rioter antifa whatever reason police always se\",\"literally neither men kill white people let alone white nationalist kill black\",\"yeah war white people\",\"gt white supremacy virus like virus die body left infect w\",\"medium try get black murder innocent white people white people fully prepared defend yourselv\",\"let spell black separatist treat random individual isolated social medium\",\"blackwashing white history continue force stop\",\"many innocent white child die start storm street righteous hatred\",\"anti white amp anti american rhetoric exactly taught kid across america\",null],\"marker\":{\"opacity\":0.5,\"size\":5},\"mode\":\"markers+text\",\"name\":\"1_white_people_black\",\"text\":[\"\",\"\",\"\",\"\",\"\",\"\",\"\",\"\",\"\",\"\",\"\",\"\",\"\",\"\",\"\",\"\",\"\",\"\",\"\",\"\",\"\",\"\",\"\",\"\",\"\",\"\",\"\",\"\",\"\",\"\",\"\",\"\",\"\",\"\",\"\",\"\",\"\",\"\",\"\",\"\",\"\",\"\",\"\",\"\",\"\",\"\",\"\",\"\",\"\",\"\",\"\",\"\",\"\",\"\",\"\",\"\",\"\",\"\",\"\",\"\",\"\",\"\",\"\",\"\",\"\",\"\",\"\",\"\",\"\",\"\",\"\",\"\",\"\",\"\",\"\",\"\",\"\",\"\",\"\",\"\",\"\",\"\",\"\",\"\",\"\",\"\",\"\",\"\",\"\",\"\",\"\",\"\",\"\",\"\",\"\",\"\",\"\",\"\",\"\",\"\",\"\",\"\",\"\",\"\",\"\",\"\",\"\",\"\",\"\",\"\",\"\",\"\",\"\",\"\",\"\",\"\",\"\",\"\",\"\",\"\",\"\",\"\",\"\",\"\",\"\",\"\",\"\",\"\",\"\",\"\",\"\",\"\",\"\",\"\",\"\",\"\",\"\",\"\",\"\",\"\",\"\",\"\",\"\",\"\",\"\",\"\",\"\",\"\",\"\",\"\",\"\",\"\",\"\",\"\",\"\",\"\",\"\",\"\",\"\",\"\",\"\",\"\",\"\",\"\",\"\",\"\",\"\",\"\",\"\",\"1_white_people_black\"],\"textfont\":{\"size\":12},\"x\":[6.557648658752441,5.515867710113525,8.634883880615234,6.710312366485596,8.335251808166504,6.466580867767334,7.624749183654785,5.972074508666992,7.589157581329346,7.390905380249023,6.384530067443848,7.463393211364746,7.16015625,6.963928699493408,6.659409999847412,7.762412071228027,7.793059349060059,7.732349395751953,7.878767490386963,8.204350471496582,6.102747917175293,7.126513481140137,5.52714204788208,7.045544147491455,7.410188674926758,7.584926128387451,6.7296600341796875,6.687081336975098,7.426900863647461,7.89275598526001,8.66069221496582,6.652612209320068,7.437137603759766,6.674800872802734,7.9482831954956055,8.742005348205566,7.943832874298096,7.842089653015137,7.182747840881348,7.009037971496582,8.103693962097168,8.700447082519531,6.877631187438965,7.923150539398193,7.392032146453857,8.200455665588379,6.905266284942627,7.448017120361328,8.363380432128906,7.937018871307373,7.29044246673584,7.850307941436768,6.593395233154297,7.160813808441162,7.1783766746521,7.884483814239502,7.704920291900635,6.863768100738525,8.084423065185547,7.2141265869140625,8.691838264465332,7.100541591644287,5.484988212585449,8.36882209777832,7.915980815887451,7.918860912322998,7.173853874206543,6.109791278839111,6.597307205200195,6.280378341674805,7.708378791809082,6.3999152183532715,7.079445838928223,7.671693325042725,6.499614715576172,6.86852502822876,6.660135746002197,7.7187066078186035,8.026505470275879,8.267609596252441,7.718288898468018,7.174754619598389,7.768781661987305,8.375960350036621,7.834635257720947,7.762564182281494,7.674559593200684,6.831087589263916,7.392289161682129,8.33384895324707,8.085559844970703,6.509047985076904,7.92403507232666,7.615194797515869,6.826118469238281,7.016112327575684,6.725343227386475,7.391395092010498,6.9133453369140625,7.613492488861084,7.8656816482543945,7.4106221199035645,5.523829936981201,6.767996788024902,8.382412910461426,7.567225456237793,7.457434177398682,7.101800441741943,7.916077136993408,7.572084903717041,7.661416530609131,7.63366174697876,6.667915344238281,7.866572380065918,7.644274711608887,6.73136568069458,7.199229717254639,7.191283226013184,8.665044784545898,7.9074859619140625,6.909606456756592,7.747104644775391,7.74393367767334,7.364469528198242,7.038900375366211,6.980223178863525,8.381686210632324,7.636390209197998,7.702731132507324,7.7495527267456055,7.640244960784912,7.393039703369141,7.747273921966553,8.001688957214355,7.667535305023193,7.046367168426514,7.463082313537598,7.7695488929748535,6.712680339813232,6.968002796173096,7.907001495361328,6.698101997375488,7.018911361694336,7.410576343536377,7.0588698387146,8.047734260559082,6.47313117980957,8.694880485534668,7.838235378265381,6.858193397521973,7.180731296539307,6.630499839782715,8.561002731323242,7.720353603363037,6.991752624511719,7.913149833679199,7.6184844970703125,7.422074794769287,6.942837715148926,7.338331699371338,5.887966156005859,6.8082380294799805,7.15256929397583,6.992534160614014,6.816675662994385,7.090482234954834,7.876379013061523,7.015113830566406,7.487112045288086,7.372672080993652],\"y\":[13.204652786254883,13.00417709350586,13.427273750305176,13.632545471191406,12.712079048156738,13.777324676513672,13.045356750488281,12.972613334655762,13.373519897460938,13.87104606628418,12.89782428741455,13.64450454711914,13.657770156860352,13.410310745239258,13.880574226379395,12.887275695800781,13.996528625488281,13.45187759399414,12.566291809082031,13.142852783203125,12.86800765991211,13.5907621383667,13.016190528869629,13.654693603515625,13.17004680633545,12.825343132019043,12.745279312133789,13.71470832824707,12.67723560333252,13.730690956115723,13.426759719848633,13.916563987731934,12.653033256530762,13.899739265441895,13.302095413208008,13.492999076843262,13.788764953613281,13.263440132141113,13.877603530883789,13.207706451416016,12.754229545593262,13.452543258666992,13.278596878051758,13.755499839782715,12.60953140258789,13.098987579345703,13.071503639221191,12.578226089477539,12.706071853637695,13.206138610839844,13.179427146911621,12.58028793334961,13.779016494750977,13.719461441040039,13.648801803588867,12.482039451599121,14.098294258117676,12.819977760314941,13.397619247436523,13.483075141906738,13.447772979736328,12.957145690917969,12.991150856018066,12.745362281799316,13.400288581848145,13.174639701843262,13.050212860107422,12.868367195129395,12.9424409866333,13.361410140991211,13.564109802246094,12.722338676452637,13.07008171081543,13.425725936889648,12.94420051574707,13.14433765411377,13.837203979492188,13.210453987121582,12.74288558959961,13.117879867553711,13.597190856933594,12.54300308227539,14.045907974243164,12.52463436126709,13.414506912231445,13.184989929199219,13.862812995910645,13.289510726928711,13.114924430847168,12.8109769821167,13.361855506896973,13.489557266235352,12.552722930908203,13.042936325073242,13.053004264831543,13.26081657409668,13.159727096557617,13.072175979614258,13.651708602905273,13.290225982666016,12.64566707611084,13.994994163513184,12.986166954040527,13.421689987182617,12.532573699951172,13.804548263549805,13.842941284179688,13.202277183532715,13.059539794921875,13.020564079284668,12.876138687133789,14.067278861999512,13.910934448242188,12.805875778198242,13.549209594726562,13.899945259094238,13.129460334777832,13.474018096923828,13.43115234375,13.475008010864258,12.872706413269043,12.434507369995117,13.338534355163574,13.977649688720703,12.960874557495117,12.389838218688965,12.531783103942871,13.210070610046387,13.312495231628418,13.180374145507812,14.159687995910645,12.551735877990723,13.025400161743164,13.447689056396484,14.107972145080566,13.687713623046875,13.70931625366211,13.415865898132324,13.827547073364258,12.793071746826172,12.604348182678223,13.864326477050781,13.599203109741211,12.627001762390137,13.373209953308105,12.6668701171875,13.6647367477417,13.432579040527344,13.706189155578613,13.321365356445312,13.750271797180176,13.581269264221191,13.467530250549316,13.245380401611328,13.161004066467285,13.734049797058105,13.283895492553711,12.605181694030762,13.19631290435791,13.525029182434082,12.931650161743164,13.0177001953125,13.695633888244629,13.28490924835205,13.217964172363281,13.717195510864258,13.70180606842041,13.162538528442383,13.414669036865234,13.270634651184082],\"type\":\"scattergl\"},{\"hoverinfo\":\"text\",\"hovertext\":[\"know many people receive permanent ban social medium account express concern drag\",\"someone dm please send picture cat anyrtgingh im boredddd\",\"jesus fuck christ guy happens talk tough try look sound cool violence g\",\"anyway would never stop repeat place woman tiktok quite simply\",\" \",\"never entirely comfortable truth behind champion always fight something otherwi\",\"little junk\",\"anyone think create video channel want deal tube censorship bit chute shitty\",\" \",\"nigga like life anime yea bro one piece shit\",\"go year old woman nothing justice act revenge\",\"twitter purge account every single day add follower year instead lose follow\",\"accident\",\"lie repeat often enough eventually becomes truth\",\"bought paid\",\"okay checked fuck real\",\"yes invisible\",\"every single time\",\"drop photography mine\",\"assume fight back know one actually start fight\",\"wow\",\"amaze article people write two year ago show ten thousand follower\",\"total utter bullshit\",\"beating u game shut game fucker literally take ball g\",\"great many level\",\"baaaaaaaaaaaaa\",\"expose back october\",\"idea guy god work love see clip float around\",\"people still oblivious truth right plain sight\",\"delete first one get ratio ed hard uploaded new one allow\",\"prove u right every single time\",\"fuck petty go year old man weak pathetic creature\",\"think twitter allow certain conservative account maintain follower erase account like min\",\"every day come onto twitter lose another hundred follower add follower two year\",\"okay checked fuck real\",\"well yes certainly full crap\",\"actually interviewed tube channel couple year ago gotten thousand view\",\"shut shut goy know goy really know\",\"always little shit think smarter elder inevitably end shit\",\"fanart prefer\",\"recent psych science paper use national iq predict stuff ran simple probability calculation measur\",\"yes\",\"might audio version concept odysee channel find someone want put together vid\",\"enough people drop look\",\"caught k say true\",\"lose follower twitter seem like tolerant free speech love place\",\"assume fight back know one actually start fight\",\"twitter thousand retweets twitter dozen retweets twitter new follower daily twitter followe\",\"stupid fuck bitch\",\"parody account\",\"dude fuck robot\",\"rub face know know know say go happen c\",\"post need many many million view share many people\",\"deep\",\"people still oblivious truth right plain sight\",\"know many purge account able survive account survive night\",\"post need many many million view share many people\",\"new comic\",\"friend india website story rinku sharma block twitter however continue\",\"lil nigga lil nigga lil nigga lil nigga lil nigga lil nigga lil nigga lil nigga lil nigga lil\",\"imagine someone snuck punch face behind start kick stomp yo\",\"wan na fuck time man body see nigga leave tf alone\",\"truth\",\"behind\",\"thank advertising\",\"best really\",\"video deserves every thumb get\",\"available preview\",\"heartbreaking\",null],\"marker\":{\"opacity\":0.5,\"size\":5},\"mode\":\"markers+text\",\"name\":\"2_nigga_lil_twitter\",\"text\":[\"\",\"\",\"\",\"\",\"\",\"\",\"\",\"\",\"\",\"\",\"\",\"\",\"\",\"\",\"\",\"\",\"\",\"\",\"\",\"\",\"\",\"\",\"\",\"\",\"\",\"\",\"\",\"\",\"\",\"\",\"\",\"\",\"\",\"\",\"\",\"\",\"\",\"\",\"\",\"\",\"\",\"\",\"\",\"\",\"\",\"\",\"\",\"\",\"\",\"\",\"\",\"\",\"\",\"\",\"\",\"\",\"\",\"\",\"\",\"\",\"\",\"\",\"\",\"\",\"\",\"\",\"\",\"\",\"\",\"2_nigga_lil_twitter\"],\"textfont\":{\"size\":12},\"x\":[5.069440841674805,5.7563581466674805,7.171846866607666,5.288325786590576,6.671698093414307,6.792049407958984,6.384726047515869,5.65166711807251,6.673943996429443,7.029628753662109,6.874719619750977,5.1663899421691895,6.173503398895264,6.253517150878906,5.346660614013672,7.224792957305908,6.196324825286865,6.95217227935791,6.083870887756348,6.813350677490234,6.6455230712890625,5.408403396606445,6.029319763183594,7.113030433654785,5.4691243171691895,6.70657205581665,6.070064544677734,5.68947696685791,6.110142230987549,5.511207103729248,7.171535968780518,6.875968933105469,5.145776271820068,5.2218852043151855,7.218241214752197,6.370539665222168,5.637068748474121,7.159428596496582,6.829733848571777,5.866461753845215,5.453789710998535,6.349210739135742,5.663941860198975,6.147201061248779,7.167575359344482,5.161339282989502,6.809010982513428,5.291922092437744,7.029752731323242,6.015671253204346,7.13238525390625,6.919050216674805,5.535959720611572,6.151139736175537,6.065338134765625,4.953032493591309,5.499155044555664,5.97827672958374,5.1460041999816895,7.182518005371094,6.834945201873779,7.122899532318115,6.060171604156494,6.1371846199035645,6.628660202026367,6.494185447692871,5.631013870239258,6.039987564086914,6.785147190093994,6.2204484939575195],\"y\":[9.608755111694336,10.06280517578125,11.284697532653809,9.657184600830078,9.936588287353516,10.783268928527832,10.404428482055664,9.951215744018555,9.940606117248535,11.2822847366333,11.387248992919922,9.513230323791504,10.523775100708008,11.297614097595215,9.881383895874023,10.822044372558594,10.535213470458984,10.463748931884766,10.441317558288574,10.781190872192383,10.027153015136719,9.624491691589355,11.338582038879395,11.208089828491211,10.552855491638184,9.933011054992676,10.545214653015137,9.898392677307129,11.355462074279785,9.702807426452637,10.758072853088379,11.364301681518555,9.546239852905273,9.564502716064453,10.823649406433105,10.40501594543457,9.664348602294922,10.82181167602539,11.340967178344727,10.138073921203613,9.687301635742188,10.233755111694336,9.864712715148926,10.409668922424316,10.786748886108398,9.540188789367676,10.768689155578613,9.55845832824707,11.121881484985352,10.649042129516602,10.988471031188965,10.735033988952637,9.724105834960938,10.74111557006836,11.40068531036377,9.713996887207031,9.690204620361328,10.408790588378906,9.579338073730469,11.152371406555176,10.772259712219238,11.183029174804688,11.292366981506348,10.629745483398438,9.914204597473145,10.162507057189941,9.845926284790039,10.395288467407227,10.479750633239746,10.414511680603027],\"type\":\"scattergl\"},{\"hoverinfo\":\"text\",\"hovertext\":[\"shame gop ballot atlanta start come even though poll close five hour ago democrat co\",\"democrat work harder rebuild c swamp american job\",\"trump cpac warmonger liz cheney\",\"rino nikki haley scar show face cpac\",\"entire world watch trump cpac\",\"trump one address illegal immigration cpac republican party wake f\",\"uncle mla aunt vice president\",\"gayle oprah paid pr harry witch\",\"cnn rest liberal medium fake plan attack today u capitol go today\",\"guy tune est click link see donald trump cpac address cpac general\",\"entire world watch trump cpac\",\"trump slam traitor republican party yes name every last one time take back party\",\"yes trump might decide beat third time usa usa usa\",\"trump want every american read follow time magazine article democrat crook flaunt corruptness know\",\"show one politician corrupt core\",\"rino nikki haley scar show face cpac\",\"love trigger left amaze marjorie taylor greene look one strong conservative woman scare\",\"watch president trump take stage cpac give burst joy hope\",\"long machine shut georgia night\",\"threat alert radical communist tie nominate secretary interior deb haaland nomination completel\",\"george conway lie national tv say know fellow co founder lincoln project well r\",\"wa po typical left wing news organization exists harm conservative jeff bezos u power money\",\"one trump lawyer play unedited fine people hoax video debunk front america network\",\"get teary eyed see elderly veteran show freedom plaza fight trump incredible co\",\"ryan girdusky lincoln project part grift part groom operation john weaver\",\"trump cpac trumpism mean strong border riot support police nd amendment video\",\"end every trump speech music come help get dance president give much ho\",\"president run third term cpac\",\"john kohn aka john kerry claim earth nine year\",\"expose georgia election bribe democrat group caught break federal law bribing georgia voter\",\"thought hillary aka schrillary clinton new book welcome\",\"jake tapper dnc operative expose wikileaks left wing hack nerve say kaleigh mc ne\",\"happen look like suitcase democrat ballot show\",\"counting stop ballot fairy go work\",\"george lincoln rockwell born march assassinate august\",\"make remain ballot de kalb county must manually scan order tabulate\",\"rashida tlaib give oscar worthy performance house floor favorite line happen january th\",\"already election need mike penny stop democrat steal\",\"trump take stage cpac love president\",\"march nyc mayor de blasio msnbc amp healthy n yers little th\",\"president trump cpac must voter id republican party actually tackle issue must stop speaki\",\"greta thunberg expose creation powerful marxist soros back ngo al gore amp\",\"win seat georgia mitt romney go officially declare democrat good riddance\",\"lincoln project every one work trump admin held accountable action also lp w\",\"gab run beautifully thank msm announce moment hate fo\",\"warn joe biden radical hud secretary marcia fudge threat america watch like many others biden admin\",\"surprised new age neo marxist refuse join take wall street crook\",\"house democrat push cable company big tech get rid conservative news network\",\"one president trump told u corruption go take place georgia right free\",\"many vote discover georgia tonight watch suitcase ga sen\",\"cqfd well totally fire like trump\",\"yes true leftist lot common nazi\",\"trump present future republican party plan run\",\"alert communist senator chris murphy connecticut national security threat murphy infiltrate senate fo\",\"necessary win election help someone heart big must heart\",\"time see mike penny truly patriot\",\"cool story first time radio legendary rush limbaugh right somewhat infamou\",\"united remove traitor like party good choice show cpac\",\"antifa always corporate manufacture product anarcho marxism package sell capitalist impre\",\"flag ny dems let let one credible scandal distract another credible disa\",\"donald trump jr gov cuomo get emmy send grandma death gov de santis get hell open beach h\",null],\"marker\":{\"opacity\":0.5,\"size\":5},\"mode\":\"markers+text\",\"name\":\"3_trump_cpac_democrat\",\"text\":[\"\",\"\",\"\",\"\",\"\",\"\",\"\",\"\",\"\",\"\",\"\",\"\",\"\",\"\",\"\",\"\",\"\",\"\",\"\",\"\",\"\",\"\",\"\",\"\",\"\",\"\",\"\",\"\",\"\",\"\",\"\",\"\",\"\",\"\",\"\",\"\",\"\",\"\",\"\",\"\",\"\",\"\",\"\",\"\",\"\",\"\",\"\",\"\",\"\",\"\",\"\",\"\",\"\",\"\",\"\",\"\",\"\",\"\",\"\",\"\",\"\",\"3_trump_cpac_democrat\"],\"textfont\":{\"size\":12},\"x\":[3.1487860679626465,3.4780092239379883,3.0370676517486572,3.0206565856933594,2.7131636142730713,2.784423828125,2.745295524597168,3.377203941345215,3.5510616302490234,2.7465720176696777,2.719960927963257,3.0472097396850586,2.6093552112579346,3.4958741664886475,3.2099039554595947,3.051969289779663,3.4713830947875977,2.7309811115264893,4.49957799911499,3.2176570892333984,3.7959532737731934,3.609051465988159,3.562875747680664,2.70231556892395,3.865000009536743,2.8166141510009766,2.8078699111938477,2.671692371368408,3.142599105834961,3.1935102939605713,3.268062114715576,3.3813230991363525,3.1198832988739014,3.1291911602020264,3.8425791263580322,3.106933832168579,2.7147741317749023,3.0966756343841553,2.748070478439331,3.060652732849121,2.8019826412200928,3.7664222717285156,3.1054422855377197,3.451439619064331,3.1387360095977783,3.1341049671173096,4.171834468841553,3.518834352493286,3.3226606845855713,3.1237964630126953,2.853365182876587,4.354121685028076,2.713972806930542,3.262972354888916,3.067786693572998,3.197559118270874,3.4654643535614014,3.206549882888794,4.619741439819336,3.243980646133423,2.873565435409546,3.2243611812591553],\"y\":[13.774786949157715,13.20860767364502,13.198290824890137,13.249080657958984,13.32511043548584,13.359273910522461,12.871437072753906,13.208634376525879,13.001641273498535,13.329691886901855,13.313237190246582,13.353804588317871,13.039897918701172,13.092082977294922,13.380049705505371,13.214781761169434,13.121099472045898,13.366963386535645,10.758116722106934,12.968801498413086,13.52767276763916,13.008538246154785,12.993124008178711,13.302267074584961,13.544682502746582,13.415767669677734,13.326781272888184,13.23200798034668,13.57280445098877,13.779271125793457,13.091103553771973,13.039960861206055,13.749300003051758,13.68135929107666,13.4993314743042,13.727333068847656,13.491971969604492,13.63296127319336,13.347241401672363,12.803726196289062,13.358152389526367,12.994951248168945,13.735543251037598,13.426668167114258,13.758009910583496,13.036968231201172,13.065228462219238,13.101452827453613,13.645515441894531,13.783053398132324,13.372664451599121,13.010149002075195,13.243880271911621,13.158196449279785,13.656368255615234,13.40344524383545,12.84407901763916,13.326520919799805,13.00292682647705,13.33279037475586,12.850953102111816,13.262460708618164],\"type\":\"scattergl\"},{\"hoverinfo\":\"text\",\"hovertext\":[\"everyone understands concept foreign invasive specie plant animal world foreign invasive specie\",\"marxism virus mutates spread host host time bolshevism communism social democracy\",\"power go force individual citizen comply average citizen know\",\"false perception humanity impose people\",\"get ready lady gentleman criminal illegitimate government go wag open war p\",\"historically speak virtually every time communism come power regime manufacture artificial famine\",\"nothing civil politics anymore politics war either accept prepare accordingly\",\"new regime go force mass obey send people disappear\",\"european never use feel way country flood foreigner feel\",\"unlawful best produce anything beautiful plato\",\"hypothetical anymore matter matter government force prep\",\"want socialism\",\"manage\",\"daily reminder real time choreograph synchronize dance routine office hou\",\"russia international regulation social medium moderation\",\"get ready people government move\",\"exactly think culture come think magically fall sky arbitrarily\",\"keep weed clean crop care farmer brother weed sister mia khalifa\",\"whoever control country institution control society perception reality\",\"historically whenever marxist bolshevik communist regime take power one first thing\",\"everybody want believe secret underground army organization go fix everything\",\"imagine desperate attention relevancy surgically remove part body\",\"ever reason storm street overthrow exist regime\",\"oppose islam racist oppose german national socialism soviet communism nothing w color\",\"expect someone else save expect group save people country\",\"thus globalists use power compete opposition make opposition illegal\",\"communism symptom disease disease look communism come look\",\"marijuana popular people miserable era smoke tolerate world rather fix\",\"join corona cult today tire people still enjoy life exactly right thing cont\",\"timeline evidence lazy choice\",\"bodybuilding\",\"dictatorship forbidden make fun powerful\",\"philosophy ideology tactic method optic superior others feel\",\"overcome lust ego word well sex\",\"philosophy national socialism reawaking mankind consciousness nature importance ra\",\"ego always ruin man one vision clearest lens\",\"arbitrariness censorship back west via\",\"workout functional real world extend period time\",\"sovereign mind power choice come single set belief define\",\"proof globalism exist party\",\"power\",\"communism always creates resistance logical response communism always fascism na\",\"asks compromise always include give right gain control refer democr\",\"time people put position power influence base ability base merit\",\"anyone good explanation china allow access u power grid hell\",\"someone something require perpetual reinforcement via word like amaze beautiful vibrant talented incr\",\"live age manufacture tragedy tyranny impose upon u result artificial tragedy\",\"many generation american government organize crime syndicate illegal occupation\",\"imagine power like power declare act criminal ability declare anti semit\",\"philosophy lie national socialism man lie\",null],\"marker\":{\"opacity\":0.5,\"size\":5},\"mode\":\"markers+text\",\"name\":\"4_power_communism_regime\",\"text\":[\"\",\"\",\"\",\"\",\"\",\"\",\"\",\"\",\"\",\"\",\"\",\"\",\"\",\"\",\"\",\"\",\"\",\"\",\"\",\"\",\"\",\"\",\"\",\"\",\"\",\"\",\"\",\"\",\"\",\"\",\"\",\"\",\"\",\"\",\"\",\"\",\"\",\"\",\"\",\"\",\"\",\"\",\"\",\"\",\"\",\"\",\"\",\"\",\"\",\"\",\"4_power_communism_regime\"],\"textfont\":{\"size\":12},\"x\":[6.5084404945373535,5.143554210662842,5.077531814575195,5.903233051300049,4.2313761711120605,5.124074459075928,4.246272563934326,5.24782133102417,6.641961574554443,5.486895561218262,5.213253021240234,4.926206111907959,5.913364887237549,5.617488384246826,5.271082401275635,4.42636251449585,5.8222575187683105,5.985182285308838,5.032588481903076,5.1652398109436035,4.882278919219971,5.902132034301758,5.869666576385498,4.946596622467041,5.332584857940674,5.0381550788879395,5.150473117828369,6.038974761962891,5.967577934265137,5.708506107330322,5.781660556793213,5.340381622314453,5.243185520172119,5.87112283706665,5.1564788818359375,5.856949806213379,5.235214710235596,5.669211387634277,5.2521185874938965,4.875086307525635,5.578685760498047,5.158615589141846,5.052569389343262,5.533188343048096,4.94312858581543,5.695248603820801,5.5589599609375,4.874524116516113,5.238463878631592,5.031944274902344,5.375357151031494],\"y\":[12.49502182006836,13.410295486450195,12.642970085144043,11.673593521118164,12.182280540466309,13.377758026123047,12.2101469039917,12.709367752075195,12.480464935302734,12.508374214172363,12.747184753417969,13.210038185119629,12.342087745666504,11.406508445739746,12.64967155456543,12.392058372497559,11.962556838989258,12.278257369995117,12.48375129699707,13.380572319030762,12.16135311126709,11.589926719665527,12.984575271606445,13.280695915222168,12.65556812286377,12.953214645385742,13.395190238952637,12.36805534362793,12.368209838867188,11.453560829162598,11.514145851135254,12.555336952209473,13.169727325439453,11.60361385345459,13.395953178405762,11.64408016204834,12.631717681884766,11.429643630981445,12.780778884887695,13.107894897460938,11.649935722351074,13.386444091796875,12.814502716064453,11.619473457336426,12.136837005615234,11.474494934082031,12.373286247253418,12.403520584106445,12.780274391174316,13.303698539733887,12.470575332641602],\"type\":\"scattergl\"},{\"hoverinfo\":\"text\",\"hovertext\":[\"collect coin like jew anti semitic humor slippage elect official sarcelles see\",\"remember allow even much question woman story story holocaust told\",\"try say jew one lead impeachment\",\"semite member people speak spoke semitic language include particular jew\",\"lol say republican today like jewish holocaust apparently\",\"natural redhead rare people planet easily one beautiful anyone natural\",\"old south wealthy white allied jewish merchant pamper color slave class mass poor white\",\"hell holocaust denial illegal place mean illegal simply say something like loo\",\"say denounce anti semitism jew say video link\",\"look like everything prove hitler right\",\"abrahamic summit jew pope interfaith meeting iraq\",\"new swedish school report jew malm enemy arab student craze hitler today\",\"social zionism wreak havoc suburb national zionism reap benefit\",\"israel still forefront dictatorship\",\"community say black jew operate together coordinate effort dismiss bigotry r\",\"myth semitic armenoid story\",\"hitler nazi war happen racist hat anyone blonde hair amp blue eye\",\"well jew allow hate white people white people allow hate jew\",\"try say jew one lead impeachment\",\"white people say jew white consider anti semitism jew say\",\"country need endless warfare behalf israel get ta make world safe god chosen\",\"whenever biden speaks know semitic armenoid handler speak instead\",\"end attack natural order era insanity become universal new age religion\",\"try say jew stock market beating game anti semitism\",\"thank australia israel chamber commerce infrastructure showcase great event discus many opportuni\",\"people draw comparison jeffrey epstein lincoln project\",\"take name main parasitic beneficiary anti semitism journalistic investigation\",\"hebrew mythology make race slave benefit\",\"blame anyone know truth adolf hitler amp national socialism victor write history\",\"hysteria freak see hitler literally everywhere go continue affirm say fo\",\"white people say jew white consider anti semitism jew say\",\"daily reminder jew perfect people never commit crime certainly war crime\",\"know go use eternal justification rob freedom right\",\"literally every single time hear someone spray paint swastika synagogue end hoax lit\",\"ancient celt dyed hair blonde lime also dyed clothes various color plant berry\",\"harassment violence impersonation zionism ulcan trial via\",\"law anti white law anti jewish white people really wer\",\"get align hebrew mythology story\",\"crack smoking hunter biden cry racism deflect swedish sex scandal hunter smear come swedish authorit\",\"ric dupond moretti act submit zionist lobby via\",\"identity generation techouva anti semitism anti zionism place u\",\"find ancient statue like sober experience excite one statue represent\",\"anti hitler sentiment reach fanatical insanity le severity religious hysteria anyone stoop\",\"amaze often jew involve significant world event\",\"average people need start ask okay jew anti white okay white\",null],\"marker\":{\"opacity\":0.5,\"size\":5},\"mode\":\"markers+text\",\"name\":\"5_jew_anti_say\",\"text\":[\"\",\"\",\"\",\"\",\"\",\"\",\"\",\"\",\"\",\"\",\"\",\"\",\"\",\"\",\"\",\"\",\"\",\"\",\"\",\"\",\"\",\"\",\"\",\"\",\"\",\"\",\"\",\"\",\"\",\"\",\"\",\"\",\"\",\"\",\"\",\"\",\"\",\"\",\"\",\"\",\"\",\"\",\"\",\"\",\"\",\"5_jew_anti_say\"],\"textfont\":{\"size\":12},\"x\":[5.84813117980957,5.922264099121094,5.872180938720703,6.3445634841918945,6.181126117706299,6.010448932647705,6.497518062591553,6.264746189117432,6.069477558135986,5.812966346740723,5.895806312561035,5.677701473236084,5.312421798706055,4.186401844024658,6.408467769622803,6.1061530113220215,5.944379806518555,6.333361625671387,5.876499652862549,6.356959819793701,4.179686069488525,5.852526664733887,5.677515983581543,5.989731311798096,3.4466049671173096,5.6365485191345215,5.3150634765625,6.147150993347168,5.596649646759033,5.8016357421875,6.367149353027344,6.120255947113037,5.700781345367432,6.055850505828857,6.045102119445801,5.2652153968811035,6.381675720214844,6.093501091003418,5.629323482513428,5.295032978057861,5.320367336273193,6.119988441467285,5.8095622062683105,5.9931416511535645,6.286713123321533,5.801074981689453],\"y\":[14.790414810180664,14.308095932006836,14.859813690185547,14.800985336303711,14.839381217956543,13.987611770629883,14.578937530517578,14.635263442993164,14.820754051208496,13.840742111206055,14.851146697998047,14.224360466003418,14.200281143188477,12.134519577026367,14.75822925567627,14.45513916015625,13.98847484588623,14.792749404907227,14.8626708984375,14.813430786132812,12.159675598144531,14.854342460632324,13.350086212158203,14.75275993347168,11.051416397094727,14.406460762023926,14.194747924804688,14.501375198364258,13.602665901184082,13.862709999084473,14.790292739868164,14.749048233032227,13.355367660522461,14.83191967010498,13.978946685791016,14.149121284484863,14.743764877319336,14.4509859085083,14.34492015838623,14.191266059875488,14.180057525634766,14.064505577087402,13.82377815246582,14.740030288696289,14.793390274047852,14.232592582702637],\"type\":\"scattergl\"},{\"hoverinfo\":\"text\",\"hovertext\":[\"pride wake\",\"cry laugh zehma mtn catapult whore\",\"let cry woman afrin woman together afrin\",\"sorry break bimbo every guy planet want sleep\",\"warrior\",\"wish men shut fuck today\",\"homosexual find criticize heteros much without u even exist\",\"men pig u stop living stop filth serious\",\"none organic happen naturally manufacture\",\"remember current era become naturally manufacture slowly generation\",\"apart weapon way mamma favorite weapon slipper\",\"doubt fauci visit gay sauna bar highly doubt anything understand h\",\"two amaze people fighter keep go need\",\"tomorrow recover woman day intelligence day\",\"imagine force wake morning everyday\",\"think possible man produce much estrogen\",\"innovation molasses possible clamp liquor\",\"homosexual scum vote vanilla\",\"fagot take arm\",\"please keep mind\",\"true never forget\",\"true juice extractor gas chamber one step\",\"one one\",\"goodnight\",\"ok groomers\",\"good morning ji\",\"lick foot nigga white trash paris france interracial gay amateur gay\",\"lady question imagine pill men begin market would really trust\",\"let billionaire cry\",\"woman kill kidnap afrin whole world silent woman together afrin\",\"remember watch mother breakdown cry weight poverty hearing pain sorrow shame\",\"one try murder lie po\",\"whine tv artist lend voice family victim\",\"never forget\",\"kind woman foot hit floor morning devil say oh crap woman fear f\",null],\"marker\":{\"opacity\":0.5,\"size\":5},\"mode\":\"markers+text\",\"name\":\"6_woman_afrin_cry\",\"text\":[\"\",\"\",\"\",\"\",\"\",\"\",\"\",\"\",\"\",\"\",\"\",\"\",\"\",\"\",\"\",\"\",\"\",\"\",\"\",\"\",\"\",\"\",\"\",\"\",\"\",\"\",\"\",\"\",\"\",\"\",\"\",\"\",\"\",\"\",\"\",\"6_woman_afrin_cry\"],\"textfont\":{\"size\":12},\"x\":[6.048612594604492,6.363470554351807,6.203206539154053,6.057898044586182,6.349380016326904,6.044249534606934,7.53895378112793,6.526520729064941,5.785029888153076,5.671553134918213,6.301111698150635,7.430444717407227,6.618824481964111,5.794612407684326,5.645062446594238,6.326534748077393,4.020992279052734,7.614946365356445,6.511116981506348,6.2916178703308105,6.3128886222839355,3.97489070892334,6.623403549194336,5.700931549072266,7.528780937194824,5.5177788734436035,7.5759429931640625,7.1846795082092285,6.028322219848633,6.285727024078369,6.028980731964111,6.631913185119629,5.852248191833496,6.2656145095825195,6.137784957885742,6.251256942749023],\"y\":[10.809049606323242,10.9304780960083,10.965645790100098,11.191932678222656,10.761923789978027,11.146960258483887,12.001561164855957,11.416935920715332,11.921988487243652,11.978422164916992,10.733154296875,11.923175811767578,10.781036376953125,11.088005065917969,11.297300338745117,11.683938980102539,9.866569519042969,12.076240539550781,10.938546180725098,11.254518508911133,11.224980354309082,9.825535774230957,11.103262901306152,11.109621047973633,12.147406578063965,11.125044822692871,12.145163536071777,11.807104110717773,10.914841651916504,10.999372482299805,10.925201416015625,11.211204528808594,10.806291580200195,11.19937515258789,10.97599983215332,11.208222389221191],\"type\":\"scattergl\"},{\"hoverinfo\":\"text\",\"hovertext\":[\"downfall one kill sadhu insult woman certain parambir singh anil deshmukh uddhav thackeray sanjay raut ht\",\"islamic pakistan medium blackout muslim destroy another hindu temple pakistan modi caa give citizenship persecute\",\"fund dedication shri ram mandir zomato pizza hut domino swiggy mango shopkeeper\",\"medium want believe hundred people freedom reclaim\",\"case prima facie seem fault delivery boy kamaraj hitesha pull whole\",\"modi ji slogan self reliance penetrate even among love couple\",\"terrorist attack india islamic mob drag hindu rinku sharma home slaughter front parent wh\",\"rahul gandhi big asset bjp\",\"happy republic day india america stand care deeply war jihadis amp left wag country amp\",\"final round shivgaan competition full swing across maharashtra eve chhatrapati shivaji maharaj birth anniversary umbrella\",\"associate every work r interest country mithun chakraborty\",\"u bulat home pawri ho rai hai\",\"really modi ji get credit rejuvenation include go journey become possible\",\"friend let support dear friend let solidarity problem account friend get notification\",\"warn biden terror tie hijabi appointee sameera fazili threat u amp india fazili member stand kash\",\"sharia pakistan little hindu girl pakistan abduct beg india modi protection islamic ca\",\"inter n national c chutiya\",\"pride india rajputana chittorgarh fort\",\"friend india please contact help expose left coordinate attack country indian fa\",\"sucial science uba must close\",\"holy place vrindavan cm shri ji hon union jal shakti minister shri water power\",\"year delhi trouble riot delhi ankit rinku sharma kill jihadis delhi\",\"heard psycho back send agra soon\",\"time fix mukhtar ansari salwar peeli\",\"cnrs investigate sa bouamama via\",\"day since kashmiri hindu turn away home let sink\",\"america pay attention coordinate global attack india left radical launch campaign destr\",\"hindu le sikh today e hoist flag religion red fort\",\"india innovative thrust jai swadeshi\",\"ok theek hai\",null],\"marker\":{\"opacity\":0.5,\"size\":5},\"mode\":\"markers+text\",\"name\":\"7_india_hindu_pakistan\",\"text\":[\"\",\"\",\"\",\"\",\"\",\"\",\"\",\"\",\"\",\"\",\"\",\"\",\"\",\"\",\"\",\"\",\"\",\"\",\"\",\"\",\"\",\"\",\"\",\"\",\"\",\"\",\"\",\"\",\"\",\"\",\"7_india_hindu_pakistan\"],\"textfont\":{\"size\":12},\"x\":[4.143740653991699,3.9276092052459717,4.278735637664795,5.482180118560791,4.187348365783691,4.659402370452881,3.9458117485046387,4.426386833190918,4.235791206359863,4.2821173667907715,4.561005592346191,4.490808010101318,4.475527763366699,4.885193824768066,3.8275537490844727,3.879127025604248,4.27942419052124,4.316658020019531,4.111167907714844,4.24530029296875,4.226278305053711,4.001260757446289,4.819478988647461,4.1437530517578125,4.270524501800537,4.053122043609619,4.101441860198975,4.118978977203369,4.39475154876709,4.453871250152588,4.307478427886963],\"y\":[11.209957122802734,11.264169692993164,11.267781257629395,12.470999717712402,11.119632720947266,11.371820449829102,11.293405532836914,11.399786949157715,11.884001731872559,11.301196098327637,11.529081344604492,11.29306697845459,11.389122009277344,10.5410737991333,11.29106616973877,11.306805610656738,11.28877067565918,11.27313232421875,11.771145820617676,11.344054222106934,11.323554992675781,11.272242546081543,10.666024208068848,11.170435905456543,11.31666088104248,11.321436882019043,11.891603469848633,11.281561851501465,11.330897331237793,11.21181583404541,11.346543312072754],\"type\":\"scattergl\"},{\"hoverinfo\":\"text\",\"hovertext\":[\"play snollebollekes springen nondeju nd bass remix\",\"ptdrrrr nintendo schwitz\",\"play nicole wonderful\",\"play hansi hinterseer god life earth\",\"play jayh nice day\",\"play various artist fanfare hunger thirst\",\"play semino rossi alone tonight\",\"bose dk sit naked\",\"shakespeare sex arcuri johnson read shakespeare sex sofa london mayo\",\"play f aschtb nkler partyplanet\",\"play django wagner de muzikant\",\"play bobby day rockin robin\",\"play sugarfree fantasy\",\"play fantasy casanova\",\"play luc steeno played accordion\",\"play richard anthony j entends siffler le train version remastered\",\"play lisa del bo pearl like\",\"get ro pfp would sit one bestie\",\"play wolter kroes viva hollandia\",\"play bob benny love anyway\",\"anyone else clubhouse join wonder u\",\"play hut jordan jay idetto mood\",\"play anja speak silver silent gold\",null],\"marker\":{\"opacity\":0.5,\"size\":5},\"mode\":\"markers+text\",\"name\":\"8_play_fantasy_sit\",\"text\":[\"\",\"\",\"\",\"\",\"\",\"\",\"\",\"\",\"\",\"\",\"\",\"\",\"\",\"\",\"\",\"\",\"\",\"\",\"\",\"\",\"\",\"\",\"\",\"8_play_fantasy_sit\"],\"textfont\":{\"size\":12},\"x\":[5.903066158294678,5.924010753631592,5.98502254486084,5.975783824920654,5.968644618988037,5.963874816894531,5.8810715675354,5.85454797744751,5.708768367767334,5.878070831298828,5.966638565063477,5.9530720710754395,5.910050868988037,5.924365997314453,5.920507907867432,5.913675308227539,5.954853057861328,5.83665132522583,5.896536827087402,5.935213088989258,5.899843692779541,5.958118915557861,5.985213279724121,5.917287349700928],\"y\":[8.1378755569458,8.109461784362793,8.08711051940918,8.08340072631836,8.095547676086426,8.120670318603516,8.260103225708008,8.246308326721191,8.82028865814209,8.168128967285156,8.142133712768555,8.102773666381836,8.168313980102539,8.143696784973145,8.119633674621582,8.104155540466309,8.111334800720215,8.397333145141602,8.051213264465332,8.099111557006836,8.217729568481445,8.12114429473877,8.080567359924316,8.173392295837402],\"type\":\"scattergl\"},{\"hoverinfo\":\"text\",\"hovertext\":[\"celebration napoleon bicentenary disturb laughter minister woman elisabeth moreno\",\"alain soral transition formal logic concrete logic\",\"soral answer episode alain soral family program st phane douard\",\"race alain soral fr jus may\",\"france freak theory small bubble heat pan water first surface\",\"marcel obama lukashenko karine lacombe fourtillan student\",\"franco albrecht neo nazi terrorist disguise syrian migrant victor young repentant lfi return v\",\"soral answer episode alexandre langlois\",\"piece bravery alain soral russie toulon\",\"philippe de maistre courageous priest people respect health dictatorship\",\"peugeot affair documentary available vo kontre kulture\",\"dr louis fouch hold bonus\",\"quite simply interest le\",\"alain soral answer pierre de brague question understand era compensation complacency\",\"piece bravery alain soral ntm alain soral fr jus\",\"panic kitchen rebel restaurateur deprive aid bruno le maire\",\"meryeminelindentut\",\"afghanistan saudi arabia dream afternoon b ziers lidl supermarket avenue de badones\",\"panic kitchen rebel restaurateur deprive aid bruno le maire via\",\"soral answer erfm twenty fourth batch\",\"didier raoult must stop war press release say go die\",\"see episode\",null],\"marker\":{\"opacity\":0.5,\"size\":5},\"mode\":\"markers+text\",\"name\":\"9_soral_alain_answer\",\"text\":[\"\",\"\",\"\",\"\",\"\",\"\",\"\",\"\",\"\",\"\",\"\",\"\",\"\",\"\",\"\",\"\",\"\",\"\",\"\",\"\",\"\",\"\",\"9_soral_alain_answer\"],\"textfont\":{\"size\":12},\"x\":[3.3974454402923584,3.774155616760254,3.6594321727752686,3.634807825088501,3.3783352375030518,3.1852829456329346,3.1986308097839355,3.718527317047119,3.514981508255005,3.4099996089935303,3.6316416263580322,3.99062180519104,3.9631106853485107,3.8479092121124268,3.561915397644043,3.3554883003234863,3.220148801803589,3.163811683654785,3.334808826446533,3.843120574951172,3.1528706550598145,4.216280460357666,3.5524239540100098],\"y\":[9.429696083068848,9.137859344482422,9.274919509887695,9.237009048461914,9.40114974975586,9.611196517944336,9.686943054199219,9.284082412719727,9.345392227172852,9.403664588928223,9.256789207458496,9.41382884979248,9.393401145935059,9.318928718566895,9.290335655212402,9.391656875610352,9.600641250610352,9.609684944152832,9.424286842346191,9.355620384216309,9.56120777130127,9.520170211791992,9.406747817993164],\"type\":\"scattergl\"}],                        {\"template\":{\"data\":{\"barpolar\":[{\"marker\":{\"line\":{\"color\":\"white\",\"width\":0.5},\"pattern\":{\"fillmode\":\"overlay\",\"size\":10,\"solidity\":0.2}},\"type\":\"barpolar\"}],\"bar\":[{\"error_x\":{\"color\":\"rgb(36,36,36)\"},\"error_y\":{\"color\":\"rgb(36,36,36)\"},\"marker\":{\"line\":{\"color\":\"white\",\"width\":0.5},\"pattern\":{\"fillmode\":\"overlay\",\"size\":10,\"solidity\":0.2}},\"type\":\"bar\"}],\"carpet\":[{\"aaxis\":{\"endlinecolor\":\"rgb(36,36,36)\",\"gridcolor\":\"white\",\"linecolor\":\"white\",\"minorgridcolor\":\"white\",\"startlinecolor\":\"rgb(36,36,36)\"},\"baxis\":{\"endlinecolor\":\"rgb(36,36,36)\",\"gridcolor\":\"white\",\"linecolor\":\"white\",\"minorgridcolor\":\"white\",\"startlinecolor\":\"rgb(36,36,36)\"},\"type\":\"carpet\"}],\"choropleth\":[{\"colorbar\":{\"outlinewidth\":1,\"tickcolor\":\"rgb(36,36,36)\",\"ticks\":\"outside\"},\"type\":\"choropleth\"}],\"contourcarpet\":[{\"colorbar\":{\"outlinewidth\":1,\"tickcolor\":\"rgb(36,36,36)\",\"ticks\":\"outside\"},\"type\":\"contourcarpet\"}],\"contour\":[{\"colorbar\":{\"outlinewidth\":1,\"tickcolor\":\"rgb(36,36,36)\",\"ticks\":\"outside\"},\"colorscale\":[[0.0,\"#440154\"],[0.1111111111111111,\"#482878\"],[0.2222222222222222,\"#3e4989\"],[0.3333333333333333,\"#31688e\"],[0.4444444444444444,\"#26828e\"],[0.5555555555555556,\"#1f9e89\"],[0.6666666666666666,\"#35b779\"],[0.7777777777777778,\"#6ece58\"],[0.8888888888888888,\"#b5de2b\"],[1.0,\"#fde725\"]],\"type\":\"contour\"}],\"heatmapgl\":[{\"colorbar\":{\"outlinewidth\":1,\"tickcolor\":\"rgb(36,36,36)\",\"ticks\":\"outside\"},\"colorscale\":[[0.0,\"#440154\"],[0.1111111111111111,\"#482878\"],[0.2222222222222222,\"#3e4989\"],[0.3333333333333333,\"#31688e\"],[0.4444444444444444,\"#26828e\"],[0.5555555555555556,\"#1f9e89\"],[0.6666666666666666,\"#35b779\"],[0.7777777777777778,\"#6ece58\"],[0.8888888888888888,\"#b5de2b\"],[1.0,\"#fde725\"]],\"type\":\"heatmapgl\"}],\"heatmap\":[{\"colorbar\":{\"outlinewidth\":1,\"tickcolor\":\"rgb(36,36,36)\",\"ticks\":\"outside\"},\"colorscale\":[[0.0,\"#440154\"],[0.1111111111111111,\"#482878\"],[0.2222222222222222,\"#3e4989\"],[0.3333333333333333,\"#31688e\"],[0.4444444444444444,\"#26828e\"],[0.5555555555555556,\"#1f9e89\"],[0.6666666666666666,\"#35b779\"],[0.7777777777777778,\"#6ece58\"],[0.8888888888888888,\"#b5de2b\"],[1.0,\"#fde725\"]],\"type\":\"heatmap\"}],\"histogram2dcontour\":[{\"colorbar\":{\"outlinewidth\":1,\"tickcolor\":\"rgb(36,36,36)\",\"ticks\":\"outside\"},\"colorscale\":[[0.0,\"#440154\"],[0.1111111111111111,\"#482878\"],[0.2222222222222222,\"#3e4989\"],[0.3333333333333333,\"#31688e\"],[0.4444444444444444,\"#26828e\"],[0.5555555555555556,\"#1f9e89\"],[0.6666666666666666,\"#35b779\"],[0.7777777777777778,\"#6ece58\"],[0.8888888888888888,\"#b5de2b\"],[1.0,\"#fde725\"]],\"type\":\"histogram2dcontour\"}],\"histogram2d\":[{\"colorbar\":{\"outlinewidth\":1,\"tickcolor\":\"rgb(36,36,36)\",\"ticks\":\"outside\"},\"colorscale\":[[0.0,\"#440154\"],[0.1111111111111111,\"#482878\"],[0.2222222222222222,\"#3e4989\"],[0.3333333333333333,\"#31688e\"],[0.4444444444444444,\"#26828e\"],[0.5555555555555556,\"#1f9e89\"],[0.6666666666666666,\"#35b779\"],[0.7777777777777778,\"#6ece58\"],[0.8888888888888888,\"#b5de2b\"],[1.0,\"#fde725\"]],\"type\":\"histogram2d\"}],\"histogram\":[{\"marker\":{\"line\":{\"color\":\"white\",\"width\":0.6}},\"type\":\"histogram\"}],\"mesh3d\":[{\"colorbar\":{\"outlinewidth\":1,\"tickcolor\":\"rgb(36,36,36)\",\"ticks\":\"outside\"},\"type\":\"mesh3d\"}],\"parcoords\":[{\"line\":{\"colorbar\":{\"outlinewidth\":1,\"tickcolor\":\"rgb(36,36,36)\",\"ticks\":\"outside\"}},\"type\":\"parcoords\"}],\"pie\":[{\"automargin\":true,\"type\":\"pie\"}],\"scatter3d\":[{\"line\":{\"colorbar\":{\"outlinewidth\":1,\"tickcolor\":\"rgb(36,36,36)\",\"ticks\":\"outside\"}},\"marker\":{\"colorbar\":{\"outlinewidth\":1,\"tickcolor\":\"rgb(36,36,36)\",\"ticks\":\"outside\"}},\"type\":\"scatter3d\"}],\"scattercarpet\":[{\"marker\":{\"colorbar\":{\"outlinewidth\":1,\"tickcolor\":\"rgb(36,36,36)\",\"ticks\":\"outside\"}},\"type\":\"scattercarpet\"}],\"scattergeo\":[{\"marker\":{\"colorbar\":{\"outlinewidth\":1,\"tickcolor\":\"rgb(36,36,36)\",\"ticks\":\"outside\"}},\"type\":\"scattergeo\"}],\"scattergl\":[{\"marker\":{\"colorbar\":{\"outlinewidth\":1,\"tickcolor\":\"rgb(36,36,36)\",\"ticks\":\"outside\"}},\"type\":\"scattergl\"}],\"scattermapbox\":[{\"marker\":{\"colorbar\":{\"outlinewidth\":1,\"tickcolor\":\"rgb(36,36,36)\",\"ticks\":\"outside\"}},\"type\":\"scattermapbox\"}],\"scatterpolargl\":[{\"marker\":{\"colorbar\":{\"outlinewidth\":1,\"tickcolor\":\"rgb(36,36,36)\",\"ticks\":\"outside\"}},\"type\":\"scatterpolargl\"}],\"scatterpolar\":[{\"marker\":{\"colorbar\":{\"outlinewidth\":1,\"tickcolor\":\"rgb(36,36,36)\",\"ticks\":\"outside\"}},\"type\":\"scatterpolar\"}],\"scatter\":[{\"fillpattern\":{\"fillmode\":\"overlay\",\"size\":10,\"solidity\":0.2},\"type\":\"scatter\"}],\"scatterternary\":[{\"marker\":{\"colorbar\":{\"outlinewidth\":1,\"tickcolor\":\"rgb(36,36,36)\",\"ticks\":\"outside\"}},\"type\":\"scatterternary\"}],\"surface\":[{\"colorbar\":{\"outlinewidth\":1,\"tickcolor\":\"rgb(36,36,36)\",\"ticks\":\"outside\"},\"colorscale\":[[0.0,\"#440154\"],[0.1111111111111111,\"#482878\"],[0.2222222222222222,\"#3e4989\"],[0.3333333333333333,\"#31688e\"],[0.4444444444444444,\"#26828e\"],[0.5555555555555556,\"#1f9e89\"],[0.6666666666666666,\"#35b779\"],[0.7777777777777778,\"#6ece58\"],[0.8888888888888888,\"#b5de2b\"],[1.0,\"#fde725\"]],\"type\":\"surface\"}],\"table\":[{\"cells\":{\"fill\":{\"color\":\"rgb(237,237,237)\"},\"line\":{\"color\":\"white\"}},\"header\":{\"fill\":{\"color\":\"rgb(217,217,217)\"},\"line\":{\"color\":\"white\"}},\"type\":\"table\"}]},\"layout\":{\"annotationdefaults\":{\"arrowhead\":0,\"arrowwidth\":1},\"autotypenumbers\":\"strict\",\"coloraxis\":{\"colorbar\":{\"outlinewidth\":1,\"tickcolor\":\"rgb(36,36,36)\",\"ticks\":\"outside\"}},\"colorscale\":{\"diverging\":[[0.0,\"rgb(103,0,31)\"],[0.1,\"rgb(178,24,43)\"],[0.2,\"rgb(214,96,77)\"],[0.3,\"rgb(244,165,130)\"],[0.4,\"rgb(253,219,199)\"],[0.5,\"rgb(247,247,247)\"],[0.6,\"rgb(209,229,240)\"],[0.7,\"rgb(146,197,222)\"],[0.8,\"rgb(67,147,195)\"],[0.9,\"rgb(33,102,172)\"],[1.0,\"rgb(5,48,97)\"]],\"sequential\":[[0.0,\"#440154\"],[0.1111111111111111,\"#482878\"],[0.2222222222222222,\"#3e4989\"],[0.3333333333333333,\"#31688e\"],[0.4444444444444444,\"#26828e\"],[0.5555555555555556,\"#1f9e89\"],[0.6666666666666666,\"#35b779\"],[0.7777777777777778,\"#6ece58\"],[0.8888888888888888,\"#b5de2b\"],[1.0,\"#fde725\"]],\"sequentialminus\":[[0.0,\"#440154\"],[0.1111111111111111,\"#482878\"],[0.2222222222222222,\"#3e4989\"],[0.3333333333333333,\"#31688e\"],[0.4444444444444444,\"#26828e\"],[0.5555555555555556,\"#1f9e89\"],[0.6666666666666666,\"#35b779\"],[0.7777777777777778,\"#6ece58\"],[0.8888888888888888,\"#b5de2b\"],[1.0,\"#fde725\"]]},\"colorway\":[\"#1F77B4\",\"#FF7F0E\",\"#2CA02C\",\"#D62728\",\"#9467BD\",\"#8C564B\",\"#E377C2\",\"#7F7F7F\",\"#BCBD22\",\"#17BECF\"],\"font\":{\"color\":\"rgb(36,36,36)\"},\"geo\":{\"bgcolor\":\"white\",\"lakecolor\":\"white\",\"landcolor\":\"white\",\"showlakes\":true,\"showland\":true,\"subunitcolor\":\"white\"},\"hoverlabel\":{\"align\":\"left\"},\"hovermode\":\"closest\",\"mapbox\":{\"style\":\"light\"},\"paper_bgcolor\":\"white\",\"plot_bgcolor\":\"white\",\"polar\":{\"angularaxis\":{\"gridcolor\":\"rgb(232,232,232)\",\"linecolor\":\"rgb(36,36,36)\",\"showgrid\":false,\"showline\":true,\"ticks\":\"outside\"},\"bgcolor\":\"white\",\"radialaxis\":{\"gridcolor\":\"rgb(232,232,232)\",\"linecolor\":\"rgb(36,36,36)\",\"showgrid\":false,\"showline\":true,\"ticks\":\"outside\"}},\"scene\":{\"xaxis\":{\"backgroundcolor\":\"white\",\"gridcolor\":\"rgb(232,232,232)\",\"gridwidth\":2,\"linecolor\":\"rgb(36,36,36)\",\"showbackground\":true,\"showgrid\":false,\"showline\":true,\"ticks\":\"outside\",\"zeroline\":false,\"zerolinecolor\":\"rgb(36,36,36)\"},\"yaxis\":{\"backgroundcolor\":\"white\",\"gridcolor\":\"rgb(232,232,232)\",\"gridwidth\":2,\"linecolor\":\"rgb(36,36,36)\",\"showbackground\":true,\"showgrid\":false,\"showline\":true,\"ticks\":\"outside\",\"zeroline\":false,\"zerolinecolor\":\"rgb(36,36,36)\"},\"zaxis\":{\"backgroundcolor\":\"white\",\"gridcolor\":\"rgb(232,232,232)\",\"gridwidth\":2,\"linecolor\":\"rgb(36,36,36)\",\"showbackground\":true,\"showgrid\":false,\"showline\":true,\"ticks\":\"outside\",\"zeroline\":false,\"zerolinecolor\":\"rgb(36,36,36)\"}},\"shapedefaults\":{\"fillcolor\":\"black\",\"line\":{\"width\":0},\"opacity\":0.3},\"ternary\":{\"aaxis\":{\"gridcolor\":\"rgb(232,232,232)\",\"linecolor\":\"rgb(36,36,36)\",\"showgrid\":false,\"showline\":true,\"ticks\":\"outside\"},\"baxis\":{\"gridcolor\":\"rgb(232,232,232)\",\"linecolor\":\"rgb(36,36,36)\",\"showgrid\":false,\"showline\":true,\"ticks\":\"outside\"},\"bgcolor\":\"white\",\"caxis\":{\"gridcolor\":\"rgb(232,232,232)\",\"linecolor\":\"rgb(36,36,36)\",\"showgrid\":false,\"showline\":true,\"ticks\":\"outside\"}},\"title\":{\"x\":0.05},\"xaxis\":{\"automargin\":true,\"gridcolor\":\"rgb(232,232,232)\",\"linecolor\":\"rgb(36,36,36)\",\"showgrid\":false,\"showline\":true,\"ticks\":\"outside\",\"title\":{\"standoff\":15},\"zeroline\":false,\"zerolinecolor\":\"rgb(36,36,36)\"},\"yaxis\":{\"automargin\":true,\"gridcolor\":\"rgb(232,232,232)\",\"linecolor\":\"rgb(36,36,36)\",\"showgrid\":false,\"showline\":true,\"ticks\":\"outside\",\"title\":{\"standoff\":15},\"zeroline\":false,\"zerolinecolor\":\"rgb(36,36,36)\"}}},\"shapes\":[{\"line\":{\"color\":\"#CFD8DC\",\"width\":2},\"type\":\"line\",\"x0\":5.450158007442951,\"x1\":5.450158007442951,\"y0\":6.843531274795533,\"y1\":17.092071533203125},{\"line\":{\"color\":\"#9E9E9E\",\"width\":2},\"type\":\"line\",\"x0\":0.847009864449501,\"x1\":10.053306150436402,\"y0\":11.967801403999328,\"y1\":11.967801403999328}],\"annotations\":[{\"showarrow\":false,\"text\":\"D1\",\"x\":0.847009864449501,\"y\":11.967801403999328,\"yshift\":10},{\"showarrow\":false,\"text\":\"D2\",\"x\":5.450158007442951,\"xshift\":10,\"y\":17.092071533203125}],\"title\":{\"font\":{\"size\":22,\"color\":\"Black\"},\"text\":\"<b>Documents and Topics\",\"x\":0.5,\"xanchor\":\"center\",\"yanchor\":\"top\"},\"width\":1200,\"height\":750,\"xaxis\":{\"visible\":false},\"yaxis\":{\"visible\":false}},                        {\"responsive\": true}                    ).then(function(){\n",
       "                            \n",
       "var gd = document.getElementById('e5454010-b90d-491a-87a2-5ff1769ced19');\n",
       "var x = new MutationObserver(function (mutations, observer) {{\n",
       "        var display = window.getComputedStyle(gd).display;\n",
       "        if (!display || display === 'none') {{\n",
       "            console.log([gd, 'removed!']);\n",
       "            Plotly.purge(gd);\n",
       "            observer.disconnect();\n",
       "        }}\n",
       "}});\n",
       "\n",
       "// Listen for the removal of the full notebook cells\n",
       "var notebookContainer = gd.closest('#notebook-container');\n",
       "if (notebookContainer) {{\n",
       "    x.observe(notebookContainer, {childList: true});\n",
       "}}\n",
       "\n",
       "// Listen for the clearing of the current output cell\n",
       "var outputEl = gd.closest('.output');\n",
       "if (outputEl) {{\n",
       "    x.observe(outputEl, {childList: true});\n",
       "}}\n",
       "\n",
       "                        })                };                });            </script>        </div>"
      ]
     },
     "metadata": {},
     "output_type": "display_data"
    }
   ],
   "source": [
    "model.visualize_documents(tweets)"
   ]
  },
  {
   "cell_type": "code",
   "execution_count": 66,
   "id": "67ba1d47",
   "metadata": {},
   "outputs": [],
   "source": [
    "save_model(model.get_topics(), params, \"12 topics, 225 unmatchde, not bad with trump appeering twice but for different topics\")"
   ]
  },
  {
   "cell_type": "code",
   "execution_count": 100,
   "id": "6f632a71",
   "metadata": {},
   "outputs": [],
   "source": [
    "write_good_params()"
   ]
  },
  {
   "cell_type": "markdown",
   "id": "08e63d29",
   "metadata": {},
   "source": [
    "## Functions "
   ]
  },
  {
   "cell_type": "code",
   "execution_count": 99,
   "id": "697aa981",
   "metadata": {},
   "outputs": [],
   "source": [
    "import pickle\n",
    "def save_model(model, params, message = \"\"):\n",
    "    saved_models.append((model, params, message))\n",
    "    \n",
    "def write_good_params():\n",
    "    pickle.dump(saved_models, open( \"data/saved_models/save_models_for_\"+country+\".pkl\", \"wb\" ))\n",
    "    \n",
    "def get_model(params) :\n",
    "    umap_model = UMAP(n_neighbors = params['UMAP']['n_neighbors'], \n",
    "                  n_components = params['UMAP']['n_components'], \n",
    "                  min_dist = params['UMAP']['min_dist'], \n",
    "                  metric = params['UMAP']['metric'], \n",
    "                  low_memory = params['UMAP']['low_memory'], \n",
    "                  random_state = params['UMAP']['random_state'])\n",
    "\n",
    "    hdbscan_model = HDBSCAN(min_cluster_size = params['HDBSCAN']['min_cluster_size'],\n",
    "                       min_samples = params['HDBSCAN']['min_samples'],\n",
    "                       cluster_selection_epsilon = params['HDBSCAN']['cluster_selection_epsilon'],\n",
    "                       metric = params['HDBSCAN']['metric'],                      \n",
    "                       cluster_selection_method = params['HDBSCAN']['cluster_selection_method'],\n",
    "                       prediction_data = params['HDBSCAN']['prediction_data'])\n",
    "\n",
    "    model = BERTopic(\n",
    "        umap_model = umap_model,\n",
    "        vectorizer_model=vectorizer_model,\n",
    "        hdbscan_model = hdbscan_model,\n",
    "        embedding_model=embedding_model,\n",
    "        language='english', calculate_probabilities=False,\n",
    "        verbose=True\n",
    "    )\n",
    "    return model"
   ]
  },
  {
   "cell_type": "code",
   "execution_count": null,
   "id": "77960ff3",
   "metadata": {},
   "outputs": [],
   "source": []
  }
 ],
 "metadata": {
  "kernelspec": {
   "display_name": "Python 3 (ipykernel)",
   "language": "python",
   "name": "python3"
  },
  "language_info": {
   "codemirror_mode": {
    "name": "ipython",
    "version": 3
   },
   "file_extension": ".py",
   "mimetype": "text/x-python",
   "name": "python",
   "nbconvert_exporter": "python",
   "pygments_lexer": "ipython3",
   "version": "3.9.7"
  }
 },
 "nbformat": 4,
 "nbformat_minor": 5
}
