{
 "cells": [
  {
   "cell_type": "code",
   "execution_count": 163,
   "id": "b55a4b6b",
   "metadata": {},
   "outputs": [
    {
     "name": "stdout",
     "output_type": "stream",
     "text": [
      "The autoreload extension is already loaded. To reload it, use:\n",
      "  %reload_ext autoreload\n"
     ]
    }
   ],
   "source": [
    "import pandas as pd\n",
    "import numpy as np\n",
    "\n",
    "from helpers import *\n",
    "\n",
    "\n",
    "%load_ext autoreload\n",
    "%autoreload 2\n",
    "\n",
    "from sklearn.feature_extraction.text import TfidfVectorizer, CountVectorizer\n",
    "from sklearn.decomposition import NMF, LatentDirichletAllocation\n",
    "import gensim\n",
    "import pyLDAvis.gensim_models"
   ]
  },
  {
   "cell_type": "code",
   "execution_count": 74,
   "id": "5ddd89fd",
   "metadata": {},
   "outputs": [],
   "source": [
    "#Load the tweets \n",
    "df = pd.read_csv('data/out_clean.csv')\n",
    "df = eda_processing(df)"
   ]
  },
  {
   "cell_type": "code",
   "execution_count": 189,
   "id": "2c014e62",
   "metadata": {},
   "outputs": [],
   "source": [
    "countries = df.whcs.unique()\n",
    "country = 'India'\n",
    "#params = {'max_df' : 1.0, 'min_df' : 1, 'n_components': 5}\n",
    "params = {'max_df' : 0.95, 'min_df' : 3, 'seed' : 50}"
   ]
  },
  {
   "cell_type": "code",
   "execution_count": 190,
   "id": "d68ef1a2",
   "metadata": {},
   "outputs": [],
   "source": [
    "clean_tweets = df[df.whcs == country].clean.copy()\n",
    "clean_tweets.dropna(inplace = True)\n",
    "assert clean_tweets.isna().sum() == 0"
   ]
  },
  {
   "cell_type": "markdown",
   "id": "cc491b53",
   "metadata": {},
   "source": [
    " ## LDA\n",
    " \n",
    " ### LDA with `sklearn.LatentDirichletAllocation`\n",
    " We run LDA with a different number of clusters \n",
    " Just by displaying "
   ]
  },
  {
   "cell_type": "code",
   "execution_count": 123,
   "id": "88f5fd65",
   "metadata": {},
   "outputs": [],
   "source": [
    "def display_topics(model, feature_names, no_top_words = 10):\n",
    "    for topic_idx, topic in enumerate(model.components_):\n",
    "        print(\"Topic %d:\" % (topic_idx+1))\n",
    "        print(\", \".join([feature_names[i]\n",
    "                        for i in topic.argsort()[:-no_top_words - 1:-1]]))\n",
    "        \n"
   ]
  },
  {
   "cell_type": "code",
   "execution_count": 191,
   "id": "806ea177",
   "metadata": {},
   "outputs": [
    {
     "name": "stdout",
     "output_type": "stream",
     "text": [
      "****** k = 3 ******\n",
      "Topic 1:\n",
      "imran khan, prime minister, minister imran, prime minister imran, minister imran khan, prime ministerik, prime ministerl, may allah, vote confidence, tehreek insaf\n",
      "Topic 2:\n",
      "peace upon, election commission, maryam nawaz, peace blessing, good morning, pakistan army, surprise day, yusuf raza, blessing upon, happy surprise day\n",
      "Topic 3:\n",
      "nawaz sharif, open ballot, senate election, nation demand, demand open, nation demand open, demand open ballot, pakistan day, people party, high court\n",
      "\n",
      "****** k = 4 ******\n",
      "Topic 1:\n",
      "imran khan, prime minister, minister imran, prime minister imran, minister imran khan, prime ministerik, vote confidence, prime ministerl, god bless, may god\n",
      "Topic 2:\n",
      "election commission, senate election, nawaz sharif, maryam nawaz, open ballot, nation demand, demand open, nation demand open, demand open ballot, pakistan army\n",
      "Topic 3:\n",
      "pakistan day, tehreek insaf, people party, high court, khatim al, follow back, march pakistan, chairman senate, pakistan resolution, heaven earth\n",
      "Topic 4:\n",
      "peace upon, may allah, good morning, blessing upon, mercy blessing, assalamu alaikum, ray hope, may god, arm force, khan sahib\n",
      "\n",
      "****** k = 5 ******\n",
      "Topic 1:\n",
      "imran khan, prime minister, minister imran, prime minister imran, minister imran khan, prime ministerik, may allah, vote confidence, god bless, may god\n",
      "Topic 2:\n",
      "election commission, pakistan army, surprise day, yusuf raza, happy surprise day, happy surprise, day india, surprise day india, raza gilani, behind skipper\n",
      "Topic 3:\n",
      "senate election, open ballot, nation demand, demand open, nation demand open, demand open ballot, pakistan day, people party, high court, god willing\n",
      "Topic 4:\n",
      "peace upon, good morning, blessing upon, may allah, mercy blessing, non league, pak army, assalamu alaikum, ray hope, may god\n",
      "Topic 5:\n",
      "nawaz sharif, prime ministerl, maryam nawaz, peace blessing, supreme court, tehreek insaf, blessing allah, happy birthday, messenger allah, team al\n",
      "\n",
      "****** k = 6 ******\n",
      "Topic 1:\n",
      "imran khan, prime minister, minister imran, prime minister imran, minister imran khan, prime ministerik, prime ministerl, vote confidence, may allah, hard time\n",
      "Topic 2:\n",
      "election commission, senate election, maryam nawaz, open ballot, nation demand, demand open, nation demand open, demand open ballot, pakistan army, yusuf raza\n",
      "Topic 3:\n",
      "tehreek insaf, people party, high court, developrime ministerent, team al, enforce traffic law, traffic law, enforce traffic, law rigorously, traffic law rigorously\n",
      "Topic 4:\n",
      "peace upon, good morning, blessing upon, may allah, mercy blessing, assalamu alaikum, pakistan resolution, assalam alaikum, upon good morning, upon good\n",
      "Topic 5:\n",
      "nawaz sharif, surprise day, happy surprise, happy surprise day, day india, surprise day india, happy birthday, behind skipper, indian army, khatim al\n",
      "Topic 6:\n",
      "pakistan day, supreme court, may god, god bless, may god bless, grant peace, pak army, bless grant peace, bless grant, march pakistan\n",
      "\n",
      "****** k = 7 ******\n",
      "Topic 1:\n",
      "imran khan, prime ministerl, nation demand, nation demand open, demand open, demand open ballot, prime ministerik, tehreek insaf, people party, developrime ministerent\n",
      "Topic 2:\n",
      "election commission, senate election, open ballot, pakistan army, yusuf raza, supreme court, raza gilani, prime ministerln, farmer protest, yusuf raza gilani\n",
      "Topic 3:\n",
      "pakistan day, happy birthday, high court, break news, march pakistan, chairman senate, pakistan resolution, lahore high court, lahore high, march pakistan day\n",
      "Topic 4:\n",
      "surprise day, happy surprise day, happy surprise, day india, surprise day india, non league, ray hope, follow back, adab ka, ka safar\n",
      "Topic 5:\n",
      "nawaz sharif, peace blessing, blessing allah, team al, peace upon, behind skipper, allah upon, blessing allah upon, messenger allah, peace blessing allah\n",
      "Topic 6:\n",
      "maryam nawaz, peace upon, may god, good morning, god bless, may allah, may god bless, mercy blessing, grant peace, pak army\n",
      "Topic 7:\n",
      "imran khan, prime minister, minister imran, prime minister imran, minister imran khan, may allah, vote confidence, prime ministerik, hard time, take vote\n",
      "\n",
      "****** k = 8 ******\n",
      "Topic 1:\n",
      "prime ministerl, tehreek insaf, people party, farmer protest, non league, chief minister, human right, whole world, pakistan tehreek, pakistan tehreek insaf\n",
      "Topic 2:\n",
      "election commission, yusuf raza, peace blessing, raza gilani, blessing allah, team al, allah upon, blessing allah upon, peace blessing allah, yusuf raza gilani\n",
      "Topic 3:\n",
      "senate election, open ballot, nation demand, demand open, nation demand open, demand open ballot, high court, chairman senate, sadiq sanjrani, lahore high court\n",
      "Topic 4:\n",
      "peace upon, good morning, blessing upon, follow back, mercy blessing, may allah, assalamu alaikum, pakistan resolution, retweet follow, assalam alaikum\n",
      "Topic 5:\n",
      "nawaz sharif, maryam nawaz, pakistan army, surprise day, happy surprise, happy surprise day, day india, surprise day india, prime ministerln, social medium\n",
      "Topic 6:\n",
      "pakistan day, supreme court, may god, god bless, may god bless, grant peace, pak army, bless grant peace, bless grant, march pakistan\n",
      "Topic 7:\n",
      "imran khan, prime minister, minister imran, prime minister imran, minister imran khan, may allah, vote confidence, prime ministerik, developrime ministerent, behind skipper\n",
      "Topic 8:\n",
      "imran khan, prime ministerik, happy birthday, god willing, enforce traffic law, enforce traffic, traffic law, law rigorously, traffic law rigorously, hope prime\n",
      "\n",
      "****** k = 9 ******\n",
      "Topic 1:\n",
      "prime ministerl, imran khan, peace blessing, tehreek insaf, blessing allah, team al, allah upon, blessing allah upon, peace blessing allah, messenger allah\n",
      "Topic 2:\n",
      "election commission, senate election, open ballot, nation demand, demand open, nation demand open, demand open ballot, yusuf raza, raza gilani, behind skipper\n",
      "Topic 3:\n",
      "maryam nawaz, high court, chairman senate, lahore high court, lahore high, whole world, vaccine save, khyber pakhtunkhwa, chief justice, wear mask\n",
      "Topic 4:\n",
      "peace upon, good morning, blessing upon, supreme court, may allah, mercy blessing, assalamu alaikum, ray hope, assalam alaikum, upon good\n",
      "Topic 5:\n",
      "nawaz sharif, surprise day, happy surprise, happy surprise day, day india, surprise day india, happy birthday, indian army, adab ka, ka safar\n",
      "Topic 6:\n",
      "may god, pakistan day, god bless, may god bless, non league, grant peace, pak army, bless grant peace, bless grant, god willing\n",
      "Topic 7:\n",
      "follow back, khatim al, arm force, nawaz sharif, nabiyin muhammad, retweet follow, add follower, al nabiyin, join list, al nabiyin muhammad\n",
      "Topic 8:\n",
      "imran khan, prime minister, minister imran, prime minister imran, minister imran khan, prime ministerik, may allah, vote confidence, developrime ministerent, hard time\n",
      "Topic 9:\n",
      "pakistan army, prime ministerln, people party, long live, traffic law, enforce traffic, enforce traffic law, social medium, traffic law rigorously, law rigorously\n",
      "\n",
      "****** k = 10 ******\n",
      "Topic 1:\n",
      "prime ministerl, nation demand, nation demand open, demand open, demand open ballot, people party, take vote, enforce traffic law, enforce traffic, traffic law\n",
      "Topic 2:\n",
      "maryam nawaz, farmer protest, break news, shahbaz gul, maryam safdar, allah almighty, aurat march, may allah, ptm expose, stay strong\n",
      "Topic 3:\n",
      "election commission, senate election, open ballot, pakistan day, indian army, march pakistan, chairman senate, hamid mir, adab ka, ka safar\n",
      "Topic 4:\n",
      "peace upon, good morning, blessing upon, may allah, high court, mercy blessing, ray hope, assalamu alaikum, assalam alaikum, upon good morning\n",
      "Topic 5:\n",
      "imran khan, prime minister, minister imran, prime minister imran, minister imran khan, vote confidence, may allah, behind skipper, developrime ministerent, khan sahib\n",
      "Topic 6:\n",
      "supreme court, may god, god bless, may god bless, tehreek insaf, non league, grant peace, pak army, bless grant peace, bless grant\n",
      "Topic 7:\n",
      "surprise day, prime minister, happy surprise day, happy surprise, day india, surprise day india, happy birthday, hard time, prime ministerik, prime ministerik hard\n",
      "Topic 8:\n",
      "prime ministerik, peace blessing, blessing allah, team al, allah upon, blessing allah upon, peace blessing allah, messenger allah, upon say, holy prophet\n",
      "Topic 9:\n",
      "follow back, pakistan resolution, retweet follow, add follower, resolution day, pakistan resolution day, human right, join list, pakistan pakistan, ali sadpara\n",
      "Topic 10:\n",
      "nawaz sharif, pakistan army, raza gilani, prime ministerln, social medium, yusuf raza gilani, yusuf raza, long live, prime minister pakistan, minister pakistan\n",
      "\n"
     ]
    }
   ],
   "source": [
    "for k in range(3,10+1):    #tf_vectorizer = CountVectorizer(max_df=0.95, min_df=2) # , max_features=no_features, stop_words='english')\n",
    "    print(\"****** k = %d ******\"%(k))\n",
    "    tf_vectorizer = CountVectorizer(max_df=params['max_df'], min_df=params['min_df'],ngram_range = [2,3]) \n",
    "    tf = tf_vectorizer.fit_transform(clean_tweets)\n",
    "    tf_feature_names = tf_vectorizer.get_feature_names()\n",
    "\n",
    "    \n",
    "    lda = LatentDirichletAllocation(n_components=k, max_iter=5, learning_method='online', learning_offset=50.,random_state=0).fit(tf)\n",
    "\n",
    "    display_topics(lda, tf_feature_names)\n",
    "    print()"
   ]
  },
  {
   "cell_type": "markdown",
   "id": "a6f3f8ba",
   "metadata": {},
   "source": [
    "### LDA with `gensim.LdaMulticore`"
   ]
  },
  {
   "cell_type": "code",
   "execution_count": 192,
   "id": "5d7154ae",
   "metadata": {},
   "outputs": [],
   "source": [
    "def add_bi_tri_grams(data_words):\n",
    "    bigram = gensim.models.Phrases(data_words, min_count=3, threshold=1) # higher threshold fewer phrases.\n",
    "    trigram = gensim.models.Phrases(bigram[data_words], threshold=1)  \n",
    "    bigram_mod = gensim.models.phrases.Phraser(bigram)\n",
    "    trigram_mod = gensim.models.phrases.Phraser(trigram)\n",
    "    data_bi_tri = [bigram_mod[doc] for doc in data_words]\n",
    "    data_bi_tri = [trigram_mod[bigram_mod[doc]] for doc in data_words]\n",
    "    return data_bi_tri"
   ]
  },
  {
   "cell_type": "code",
   "execution_count": 206,
   "id": "3ed80fd0",
   "metadata": {},
   "outputs": [],
   "source": [
    "# models\n",
    "from gensim.models import LdaMulticore\n",
    "from gensim.corpora import Dictionary\n",
    "\n",
    "\n",
    "data_words =clean_tweets.apply(lambda x : x.split(' ')).tolist()\n",
    "data_words = add_bi_tri_grams(data_words)\n",
    "dictionary = Dictionary(data_words)\n",
    "#dictionary.filter_extremes(no_below=params['min_df'], no_above=params['max_df'])\n",
    "dictionary.filter_extremes(no_below=2, no_above=0.9)\n",
    "corpus = [dictionary.doc2bow(doc) for doc in data_words]\n",
    "\n",
    "params2 = {'passes': 10, 'random_state': params['seed']}\n",
    "base_models = dict()\n",
    "model = LdaMulticore(corpus=corpus, num_topics=4, id2word=dictionary, workers=6,\n",
    "                passes=params2['passes'], random_state=params2['random_state'])"
   ]
  },
  {
   "cell_type": "code",
   "execution_count": 207,
   "id": "6dcf46dd",
   "metadata": {},
   "outputs": [
    {
     "name": "stdout",
     "output_type": "stream",
     "text": [
      "[(0, '0.012*\"pakistan\" + 0.012*\"people\" + 0.008*\"today\" + 0.007*\"say\" + 0.006*\"come\"'), (1, '0.011*\"pakistan\" + 0.009*\"imran_khan\" + 0.007*\"say\" + 0.006*\"give\" + 0.005*\"even\"'), (2, '0.007*\"one\" + 0.007*\"amp\" + 0.005*\"say\" + 0.004*\"kashmir\" + 0.004*\"also\"'), (3, '0.008*\"country\" + 0.006*\"make\" + 0.006*\"imran_khan\" + 0.005*\"every\" + 0.005*\"become\"')]\n",
      "[(2, 0.606948), (3, 0.31873545), (0, 0.037533898), (1, 0.036782637)]\n"
     ]
    }
   ],
   "source": [
    "print(model.show_topics(num_words=5))\n",
    "print(sorted(model[corpus[0]],key=lambda x:x[1],reverse=True))"
   ]
  },
  {
   "cell_type": "code",
   "execution_count": 208,
   "id": "83e39d0a",
   "metadata": {},
   "outputs": [
    {
     "data": {
      "text/html": [
       "\n",
       "<link rel=\"stylesheet\" type=\"text/css\" href=\"https://cdn.jsdelivr.net/gh/bmabey/pyLDAvis@3.3.1/pyLDAvis/js/ldavis.v1.0.0.css\">\n",
       "\n",
       "\n",
       "<div id=\"ldavis_el3648823971744635049241215478\"></div>\n",
       "<script type=\"text/javascript\">\n",
       "\n",
       "var ldavis_el3648823971744635049241215478_data = {\"mdsDat\": {\"x\": [-0.021072613320514574, -0.051162609698066894, 0.1751068884445785, -0.10287166542599709], \"y\": [-0.04062614453559424, -0.1315869871371939, 0.03643237517299544, 0.13578075649979257], \"topics\": [1, 2, 3, 4], \"cluster\": [1, 1, 1, 1], \"Freq\": [28.906404408902798, 25.135010792079598, 23.071426725918318, 22.887158073099283]}, \"tinfo\": {\"Term\": [\"pakistan\", \"people\", \"amp\", \"congratulation\", \"kashmir\", \"every\", \"country\", \"say\", \"government\", \"sometimes\", \"poor\", \"prayer\", \"also\", \"need\", \"behind_skipper\", \"karachi\", \"get\", \"punjab\", \"covid\", \"become\", \"senate_election\", \"make\", \"ho\", \"listen\", \"know\", \"give\", \"god_willing\", \"nab\", \"leader\", \"strong\", \"poor\", \"mpa\", \"wing\", \"bhai\", \"burnt\", \"collect\", \"take_notice\", \"occasion\", \"rich\", \"type\", \"sharif\", \"show_love\", \"easily\", \"good_night\", \"izzat\", \"one_person\", \"rig\", \"leadership_prime_minister_imran\", \"offer\", \"many_time\", \"whole_nation\", \"stay_safe\", \"senate_chairman\", \"damage\", \"percentage\", \"till_last\", \"bear_witness\", \"forward\", \"daily\", \"building\", \"elect\", \"sri_lanka\", \"respect_vote\", \"completely\", \"lahore\", \"people\", \"success\", \"government\", \"little\", \"senate_election\", \"witness\", \"prime_minister\", \"read\", \"hope\", \"today\", \"come\", \"pakistan\", \"know\", \"twitter\", \"listen\", \"problem\", \"also\", \"like\", \"life\", \"big\", \"night\", \"say\", \"nation_demand_open_ballot\", \"time\", \"pti\", \"love\", \"must\", \"one\", \"make\", \"take\", \"video\", \"right\", \"u\", \"party\", \"election_commission\", \"name\", \"imran_khan\", \"day\", \"even\", \"amp\", \"learn\", \"sleep\", \"give_money\", \"pain\", \"plane\", \"come_back\", \"phase\", \"cancelexamspakistan\", \"zong\", \"walk\", \"trouble\", \"rashid\", \"title\", \"opponent\", \"jai\", \"boy\", \"karachi\", \"aman\", \"pawri\", \"destruction\", \"provincial_assembly\", \"corner_tiger\", \"friendly\", \"honorable\", \"company\", \"sleeve\", \"beat_cry\", \"gutter\", \"third\", \"ar\", \"congratulation\", \"something\", \"mark\", \"school\", \"dangerous\", \"prayer\", \"snake\", \"haram\", \"away\", \"run\", \"god_willing\", \"islam\", \"peace_upon\", \"tomorrow\", \"victory\", \"leader\", \"give\", \"fire\", \"fall\", \"start\", \"lord\", \"imran_khan\", \"pakistan\", \"even\", \"speech\", \"show\", \"get\", \"may\", \"say\", \"india\", \"power\", \"go\", \"maryam\", \"first\", \"prime_minister_imran_khan\", \"always\", \"follow\", \"country\", \"pdm\", \"want\", \"nation\", \"allah\", \"world\", \"well\", \"day\", \"vote\", \"sometimes\", \"ho\", \"laugh\", \"child_labour\", \"unit\", \"verse\", \"add_follower_mention_id\", \"dirty\", \"syrian\", \"desert\", \"wound\", \"olive\", \"ali_sadpara\", \"desire\", \"personality\", \"strange\", \"tbz\", \"notification\", \"ignorance\", \"defense\", \"arif\", \"award\", \"sky\", \"birthday\", \"join_list_retweet_follow\", \"darkness\", \"term\", \"wrap\", \"syria\", \"gb_heaven_earth\", \"joke\", \"teach\", \"anti\", \"chairman\", \"tree\", \"chor\", \"crime\", \"every\", \"everything\", \"bless\", \"list\", \"picture\", \"seem\", \"strong\", \"become\", \"follow_back\", \"country\", \"way\", \"pakistan_army\", \"make\", \"attack\", \"someone\", \"behind_skipper\", \"may_allah\", \"happy\", \"non_league\", \"stop\", \"khan\", \"heart\", \"truth\", \"al\", \"nab\", \"imran_khan\", \"would\", \"die\", \"today\", \"prime_minister_imran_khan\", \"one\", \"come\", \"allah\", \"want\", \"year\", \"also\", \"corruption\", \"pti\", \"nation_demand_open_ballot\", \"world\", \"people\", \"use\", \"coronavirus\", \"chief_election_commissioner\", \"teacher\", \"ficial\", \"ran_away\", \"navy\", \"glory_god\", \"pakistan_ki\", \"wipe\", \"resignation\", \"peace_upon_may_god\", \"careful\", \"koran\", \"bitter\", \"immediately\", \"final\", \"sanjrani\", \"scenario\", \"arrive\", \"although\", \"daska\", \"regional\", \"shameful\", \"wali\", \"happy_see\", \"french\", \"faisal\", \"suddenly\", \"dy\", \"gt\", \"farmer_protest\", \"shot\", \"improve\", \"anchor\", \"drama\", \"lion\", \"wonderful\", \"covid\", \"complete_trust\", \"kashmir\", \"bill\", \"kept\", \"amp\", \"assembly\", \"court\", \"farmer\", \"gul\", \"girl\", \"lead\", \"prime_ministerl_n\", \"work\", \"need\", \"result\", \"one\", \"land\", \"money\", \"many\", \"lose\", \"senate\", \"kill\", \"best\", \"well\", \"woman\", \"call\", \"also\", \"say\", \"khan\", \"u\", \"new\", \"father\", \"world\", \"go\", \"punjab\", \"see\", \"like\", \"pakistan\", \"get\", \"imran_khan\", \"india\", \"today\"], \"Freq\": [814.0, 528.0, 316.0, 102.0, 121.0, 169.0, 396.0, 539.0, 254.0, 69.0, 79.0, 92.0, 341.0, 124.0, 116.0, 65.0, 262.0, 118.0, 75.0, 184.0, 193.0, 357.0, 50.0, 116.0, 204.0, 305.0, 79.0, 84.0, 202.0, 69.0, 78.0523640274167, 29.173973716486767, 25.309445702199785, 27.812716680328908, 24.394142334550445, 22.696074680026765, 20.57739082267307, 22.645019146888774, 19.28583697710461, 18.415667857193124, 19.648446174845116, 17.155361783805777, 17.532968155569616, 17.114622754711654, 16.68234513289059, 16.674116449193306, 21.2709607162132, 16.672632468210765, 23.772798948214913, 25.394674883710113, 17.067978908563692, 15.802069937804525, 28.269116769835378, 19.55452719594133, 15.38195327481204, 14.939470767738639, 14.511770431278645, 14.522613922403858, 14.517717334106344, 19.471488304487846, 20.72171757976069, 16.97909741380903, 17.357047791028748, 22.99336492692408, 79.0386276694224, 369.6756699839993, 32.158636414528736, 184.7140223049432, 22.059327900459362, 129.66752816873506, 19.145160703445068, 193.64131520972964, 33.450354943560114, 50.5231224812623, 244.32999214645005, 198.5112760211063, 391.3372397462821, 126.02402731948297, 78.66282732630192, 78.11639295780034, 39.48488767169572, 176.33545469860923, 154.5541417606204, 125.90617251415175, 96.44040714861298, 44.949454594294586, 223.07948694614788, 120.1342733130499, 125.2631458051983, 98.41585481936683, 97.32602357734643, 60.31951589326748, 176.34520395961414, 135.62419489596914, 97.66737945928888, 86.10635150723112, 73.36048093394515, 101.26873598056325, 76.15532032354322, 77.36419209182786, 80.16082470135552, 128.09893648257602, 84.78223059196193, 90.74012695571916, 92.01592608333486, 35.75099182881097, 31.61072037549876, 25.125735451877468, 28.7507764620689, 27.3688424442921, 27.314144237322864, 19.629171853600035, 18.70095228685455, 18.69428406341491, 36.505244112648505, 19.586174461513913, 18.240130473832092, 17.32220997898468, 19.965295819894937, 16.854963378023953, 21.744155400369056, 62.99870840481073, 15.944909191142564, 15.46965626702548, 15.488897218124409, 15.466528200386888, 15.002894945985794, 15.000538553975746, 16.757065711591636, 15.87304480362207, 14.523907753099241, 14.077956189722904, 17.161504362115732, 14.967975475732905, 15.402089391199207, 96.49694810389113, 32.89815368629054, 17.603155231634428, 27.528361114206632, 21.042774761699587, 80.97849813411605, 18.797543675204324, 18.786689315790042, 24.606800970539677, 56.56214009757416, 64.03907218360499, 55.16798975444074, 85.35633399730018, 46.26580167787849, 51.84566795007766, 122.39977740861103, 168.35163002596371, 66.06113337644366, 48.45993199314707, 83.38132427274046, 43.75636033614178, 233.22470269079156, 295.8058667050466, 127.80922610119354, 56.19299641258612, 86.85890064803972, 120.29281609581544, 70.38947386984482, 180.55315195836698, 97.83051641989788, 52.19721108920807, 117.34190685895649, 60.57122049970708, 78.71248592942818, 102.95482417736577, 73.08627462922855, 52.633912103532126, 98.41133761536317, 71.4248607450554, 72.33893718649546, 65.61616510156308, 68.58875123561643, 67.83954268079432, 62.78316138361879, 63.032261135876155, 62.313607714180975, 68.3943481303847, 49.747979335290914, 27.233236139627195, 22.349982086641532, 44.638216181531455, 21.448810455554966, 20.149324845414657, 44.97925261828372, 18.805475026536445, 23.535299632467773, 19.244953359788646, 22.589097825655628, 19.195070095685807, 19.64330531064432, 17.901560662987496, 16.598402011237557, 15.293555074755712, 15.285938807561184, 15.680851389434475, 17.818804041591918, 14.381373081563769, 23.28850482674057, 15.659401702706568, 15.256843644560343, 13.950451547830788, 14.349196360791026, 16.032946383271486, 13.049791075616337, 13.046242172589933, 14.768529192666177, 18.80022177378501, 15.086141408990247, 27.686277708437515, 31.054566398515416, 25.198201675235502, 42.08050570540804, 37.16761758192493, 123.33545040829974, 46.45336178277021, 20.66808245927813, 27.694996618341893, 39.55844490947992, 37.80539488802581, 52.60997246480753, 115.97546366771128, 25.53875616219406, 195.2634719516085, 70.99343618697894, 45.93218711766859, 153.1494721959916, 83.39094910951943, 61.391395638791806, 66.4909969541736, 51.41079375082342, 63.15596279986165, 39.00000530214712, 61.40647920688099, 113.20662997286476, 77.9896705905383, 43.43667737401209, 59.90208899081035, 49.96378769019044, 143.51343228053915, 70.33846349642008, 49.667946460456754, 98.68845617258356, 72.98270294641529, 89.9218828940612, 77.44542367440327, 64.69661900768196, 63.281579362457194, 57.69772073617192, 62.004605189044874, 51.44663913184404, 53.50810489128588, 53.76281389680736, 52.812157705538205, 52.49868587607828, 51.704625395962736, 35.97840569964197, 27.366496938286655, 36.069412857994934, 25.885619695288543, 20.58582762242017, 17.889628999425526, 16.99030453606686, 16.538343075523763, 16.972882842880498, 18.73831537378214, 17.42278122724086, 16.953655958034243, 30.428362775565834, 16.934389955872728, 18.68483765744992, 16.925300250837285, 16.488110647568877, 14.719800820811258, 16.01443473068672, 15.139722302575448, 20.753568465423648, 13.359885906920477, 13.353454730533427, 13.771705758056962, 12.908373571108172, 12.905670129986696, 13.758158127871043, 12.46621462001197, 12.461523439759377, 12.89142852965223, 31.541070744892064, 20.04717204972916, 15.422581058028147, 17.908612487643477, 26.043665239264737, 20.733725845059375, 18.546216033685745, 64.21868784078923, 14.94667545417603, 98.91484822917832, 39.72439860991563, 24.575160658205213, 169.93910862776173, 47.22393262351917, 73.56215124671064, 60.53087541741601, 28.56244655449152, 44.93796887599815, 43.35040857275298, 65.4625141532965, 71.27792604653463, 70.4450169893339, 45.39453458942659, 180.0979739191197, 39.2291762962711, 79.31403082480463, 66.5109277442257, 62.65751289108335, 54.847778567448074, 50.23108347827227, 48.872808594043605, 75.93661284925001, 70.58687665752812, 82.17222004545916, 98.2590102190659, 124.3486600356059, 86.40668391052094, 79.62105828593174, 62.42745671607723, 53.88755568817294, 72.07025161354522, 77.7997039308887, 54.88423590527274, 68.37948945484332, 72.53438580308223, 93.33848080071996, 67.23884013210403, 80.43522000759555, 61.59136032207733, 69.10917516101355], \"Total\": [814.0, 528.0, 316.0, 102.0, 121.0, 169.0, 396.0, 539.0, 254.0, 69.0, 79.0, 92.0, 341.0, 124.0, 116.0, 65.0, 262.0, 118.0, 75.0, 184.0, 193.0, 357.0, 50.0, 116.0, 204.0, 305.0, 79.0, 84.0, 202.0, 69.0, 79.45847924298319, 29.975760367609084, 26.055764025918815, 28.694185011192737, 25.188796400303342, 23.46678454138048, 21.290132636241594, 23.49048578506324, 20.006440256723053, 19.13527175447301, 20.466746176186845, 17.871656298276726, 18.26516324912056, 17.829933719233207, 17.394994168815472, 17.39463643555619, 22.191261686493853, 17.394694117947957, 24.8090190001932, 26.512732716198425, 17.832362782568666, 16.523891588600442, 29.562255417495283, 20.449281299880543, 16.089244710351526, 15.653434186981256, 15.219279727252651, 15.240540388418255, 15.240147958024288, 20.45488013693414, 21.77752404493478, 17.855977646559086, 18.268311655747404, 24.38586518720136, 96.37516810323014, 528.0262709283137, 36.18062722588429, 254.69821775011408, 24.032797632482872, 193.05406109244717, 20.451765286534616, 319.9981357487378, 39.69522103820267, 66.00662505711092, 452.837046433905, 351.8066865703604, 814.0409927738635, 204.4508331723455, 116.29485393241391, 116.675568045894, 49.29354246580857, 341.8943761886281, 292.5775981613731, 230.85932921961762, 166.65497792796248, 60.22375030420741, 539.8003676877547, 239.94353422420352, 262.58471624410873, 194.45710080164503, 192.3060836590037, 95.48730405498165, 496.22678030127554, 357.8157786647888, 216.468113606859, 184.6018462379796, 143.62194122022666, 255.02530983938215, 155.9758883848111, 160.5224820079496, 175.23925779489772, 585.2722914615024, 206.37980947018332, 268.84985575227665, 316.2916451481643, 36.552213328514995, 32.377824570134024, 25.861202906425063, 29.609971092548065, 28.197767155369032, 28.194231683080428, 20.33993576061334, 19.389985483854897, 19.39017704833576, 37.90317874179123, 20.33661733173329, 18.94765574947257, 18.02094587955923, 20.79456544249246, 17.557102510301473, 22.668265386836534, 65.69315317399702, 16.651022998460075, 16.16470589436008, 16.187879504048418, 16.165041815653087, 15.699522728986437, 15.700364078005418, 17.57428511636482, 16.649140244502505, 15.236673548279466, 14.773611209690964, 18.016867762337917, 15.719183950403597, 16.182559398528298, 102.31690531076453, 34.69782008233074, 18.4977967676093, 29.13008573523144, 22.188633900591828, 92.05085723641906, 19.867155540906676, 19.900138598371115, 26.77752115243531, 67.4653537720461, 79.14487504413731, 67.34432466665777, 118.6774008525582, 58.83438535629426, 69.77574805622841, 202.3980708488148, 305.9789982409683, 99.26021892521341, 67.40662146334651, 137.79816114734305, 59.58210407740927, 585.2722914615024, 814.0409927738635, 268.84985575227665, 86.57320493649797, 162.4879004525996, 262.15009745089276, 125.85541230167198, 539.8003676877547, 219.1272022225944, 79.87867668756664, 297.3049315218615, 103.18677707077568, 165.22387609094923, 274.6745338543182, 151.113279581992, 85.38137106166836, 396.2138223011073, 190.2920763814779, 216.7534135632493, 167.79790164972067, 221.2869836646382, 236.39192587625223, 180.85165091253288, 206.37980947018332, 197.7619503408981, 69.21776100264874, 50.55948556038558, 27.96424079655222, 23.050416615114276, 46.095528454554014, 22.205399034971016, 20.871416719215958, 46.609326744429616, 19.514571759020495, 24.426406305101427, 19.98064094903425, 23.490609421555607, 19.979234380169736, 20.448930837135737, 18.647182348718516, 17.334046760290757, 15.999859952251242, 16.000548680702227, 16.423560992602084, 18.67388639857534, 15.088462055941722, 24.437215639474093, 16.44276183698125, 16.021184628796842, 14.667261496324949, 15.111242748940521, 16.90840835204588, 13.775596750923919, 13.775905617544312, 15.599701741768854, 19.971727669018005, 15.995732161898914, 30.242290207527684, 34.20153045398995, 27.51659178412636, 47.98260126001901, 43.62861136146068, 169.22545064083502, 56.71991932344318, 22.71013958838957, 31.967712270171624, 48.68742607809576, 46.50379085918703, 69.55635806100783, 184.72694812164994, 29.313047725454954, 396.2138223011073, 113.08463075658018, 64.4954789061986, 357.8157786647888, 155.75585494050452, 101.40512132072965, 116.29010313153577, 80.13202494771967, 108.04760511378826, 53.77330747990299, 108.57103939730996, 286.5242611889273, 168.26011962437673, 65.57621308773733, 113.28762838683832, 84.55081646436892, 585.2722914615024, 179.07743887124988, 88.59171642139387, 452.837046433905, 274.6745338543182, 496.22678030127554, 351.8066865703604, 221.2869836646382, 216.7534135632493, 167.1072068538679, 341.8943761886281, 114.58906161325618, 194.45710080164503, 239.94353422420352, 236.39192587625223, 528.0262709283137, 151.98475016766017, 36.74107961359442, 28.117064793571203, 37.2288786915702, 26.755256530673297, 21.336613812457657, 18.605094883959403, 17.693457472388285, 17.24037577065146, 17.69397377522322, 19.536891081820524, 18.172045175419754, 17.69501119360651, 31.77319350469275, 17.691140255490463, 19.53216483511461, 17.693120231937183, 17.258150045285863, 15.419488534620832, 16.806865214481885, 15.896159788581468, 21.834655054743383, 14.075936167691587, 14.074237795381078, 14.528413724738387, 13.620736011893804, 13.620214075059222, 14.528364825352687, 13.166848888559272, 13.165626823928044, 13.620287565473609, 33.57041012658059, 21.33285397416261, 16.351325700714717, 19.070145863233332, 28.128151950462208, 22.230426614422868, 19.93679682737965, 75.03018515641057, 15.864605214571586, 121.121233794362, 45.68282691456355, 27.231342311430577, 316.2916451481643, 65.44341647017231, 116.62189070328404, 90.85173726235958, 35.02627724215811, 64.36363952206239, 61.76659620718904, 107.31751688457226, 121.26795208088839, 124.7289069751897, 68.02515098578192, 496.22678030127554, 57.00706744568605, 172.59566478021742, 133.68378115321508, 125.53920127364046, 102.18713534841332, 90.73347523007976, 86.91104794834142, 180.85165091253288, 163.30616590463376, 230.11364087660587, 341.8943761886281, 539.8003676877547, 286.5242611889273, 255.02530983938215, 152.56585172659038, 111.18969921758111, 236.39192587625223, 297.3049315218615, 118.23185830640219, 223.3488788783136, 292.5775981613731, 814.0409927738635, 262.15009745089276, 585.2722914615024, 219.1272022225944, 452.837046433905], \"Category\": [\"Default\", \"Default\", \"Default\", \"Default\", \"Default\", \"Default\", \"Default\", \"Default\", \"Default\", \"Default\", \"Default\", \"Default\", \"Default\", \"Default\", \"Default\", \"Default\", \"Default\", \"Default\", \"Default\", \"Default\", \"Default\", \"Default\", \"Default\", \"Default\", \"Default\", \"Default\", \"Default\", \"Default\", \"Default\", \"Default\", \"Topic1\", \"Topic1\", \"Topic1\", \"Topic1\", \"Topic1\", \"Topic1\", \"Topic1\", \"Topic1\", \"Topic1\", \"Topic1\", \"Topic1\", \"Topic1\", \"Topic1\", \"Topic1\", \"Topic1\", \"Topic1\", \"Topic1\", \"Topic1\", \"Topic1\", \"Topic1\", \"Topic1\", \"Topic1\", \"Topic1\", \"Topic1\", \"Topic1\", \"Topic1\", \"Topic1\", \"Topic1\", \"Topic1\", \"Topic1\", \"Topic1\", \"Topic1\", \"Topic1\", \"Topic1\", \"Topic1\", \"Topic1\", \"Topic1\", \"Topic1\", \"Topic1\", \"Topic1\", \"Topic1\", \"Topic1\", \"Topic1\", \"Topic1\", \"Topic1\", \"Topic1\", \"Topic1\", \"Topic1\", \"Topic1\", \"Topic1\", \"Topic1\", \"Topic1\", \"Topic1\", \"Topic1\", \"Topic1\", \"Topic1\", \"Topic1\", \"Topic1\", \"Topic1\", \"Topic1\", \"Topic1\", \"Topic1\", \"Topic1\", \"Topic1\", \"Topic1\", \"Topic1\", \"Topic1\", \"Topic1\", \"Topic1\", \"Topic1\", \"Topic1\", \"Topic1\", \"Topic1\", \"Topic1\", \"Topic1\", \"Topic2\", \"Topic2\", \"Topic2\", \"Topic2\", \"Topic2\", \"Topic2\", \"Topic2\", \"Topic2\", \"Topic2\", \"Topic2\", \"Topic2\", \"Topic2\", \"Topic2\", \"Topic2\", \"Topic2\", \"Topic2\", \"Topic2\", \"Topic2\", \"Topic2\", \"Topic2\", \"Topic2\", \"Topic2\", \"Topic2\", \"Topic2\", \"Topic2\", \"Topic2\", \"Topic2\", \"Topic2\", \"Topic2\", \"Topic2\", \"Topic2\", \"Topic2\", \"Topic2\", \"Topic2\", \"Topic2\", \"Topic2\", \"Topic2\", \"Topic2\", \"Topic2\", \"Topic2\", \"Topic2\", \"Topic2\", \"Topic2\", \"Topic2\", \"Topic2\", \"Topic2\", \"Topic2\", \"Topic2\", \"Topic2\", \"Topic2\", \"Topic2\", \"Topic2\", \"Topic2\", \"Topic2\", \"Topic2\", \"Topic2\", \"Topic2\", \"Topic2\", \"Topic2\", \"Topic2\", \"Topic2\", \"Topic2\", \"Topic2\", \"Topic2\", \"Topic2\", \"Topic2\", \"Topic2\", \"Topic2\", \"Topic2\", \"Topic2\", \"Topic2\", \"Topic2\", \"Topic2\", \"Topic2\", \"Topic2\", \"Topic2\", \"Topic3\", \"Topic3\", \"Topic3\", \"Topic3\", \"Topic3\", \"Topic3\", \"Topic3\", \"Topic3\", \"Topic3\", \"Topic3\", \"Topic3\", \"Topic3\", \"Topic3\", \"Topic3\", \"Topic3\", \"Topic3\", \"Topic3\", \"Topic3\", \"Topic3\", \"Topic3\", \"Topic3\", \"Topic3\", \"Topic3\", \"Topic3\", \"Topic3\", \"Topic3\", \"Topic3\", \"Topic3\", \"Topic3\", \"Topic3\", \"Topic3\", \"Topic3\", \"Topic3\", \"Topic3\", \"Topic3\", \"Topic3\", \"Topic3\", \"Topic3\", \"Topic3\", \"Topic3\", \"Topic3\", \"Topic3\", \"Topic3\", \"Topic3\", \"Topic3\", \"Topic3\", \"Topic3\", \"Topic3\", \"Topic3\", \"Topic3\", \"Topic3\", \"Topic3\", \"Topic3\", \"Topic3\", \"Topic3\", \"Topic3\", \"Topic3\", \"Topic3\", \"Topic3\", \"Topic3\", \"Topic3\", \"Topic3\", \"Topic3\", \"Topic3\", \"Topic3\", \"Topic3\", \"Topic3\", \"Topic3\", \"Topic3\", \"Topic3\", \"Topic3\", \"Topic3\", \"Topic3\", \"Topic3\", \"Topic3\", \"Topic3\", \"Topic3\", \"Topic3\", \"Topic3\", \"Topic4\", \"Topic4\", \"Topic4\", \"Topic4\", \"Topic4\", \"Topic4\", \"Topic4\", \"Topic4\", \"Topic4\", \"Topic4\", \"Topic4\", \"Topic4\", \"Topic4\", \"Topic4\", \"Topic4\", \"Topic4\", \"Topic4\", \"Topic4\", \"Topic4\", \"Topic4\", \"Topic4\", \"Topic4\", \"Topic4\", \"Topic4\", \"Topic4\", \"Topic4\", \"Topic4\", \"Topic4\", \"Topic4\", \"Topic4\", \"Topic4\", \"Topic4\", \"Topic4\", \"Topic4\", \"Topic4\", \"Topic4\", \"Topic4\", \"Topic4\", \"Topic4\", \"Topic4\", \"Topic4\", \"Topic4\", \"Topic4\", \"Topic4\", \"Topic4\", \"Topic4\", \"Topic4\", \"Topic4\", \"Topic4\", \"Topic4\", \"Topic4\", \"Topic4\", \"Topic4\", \"Topic4\", \"Topic4\", \"Topic4\", \"Topic4\", \"Topic4\", \"Topic4\", \"Topic4\", \"Topic4\", \"Topic4\", \"Topic4\", \"Topic4\", \"Topic4\", \"Topic4\", \"Topic4\", \"Topic4\", \"Topic4\", \"Topic4\", \"Topic4\", \"Topic4\", \"Topic4\", \"Topic4\", \"Topic4\", \"Topic4\", \"Topic4\", \"Topic4\", \"Topic4\", \"Topic4\"], \"logprob\": [30.0, 29.0, 28.0, 27.0, 26.0, 25.0, 24.0, 23.0, 22.0, 21.0, 20.0, 19.0, 18.0, 17.0, 16.0, 15.0, 14.0, 13.0, 12.0, 11.0, 10.0, 9.0, 8.0, 7.0, 6.0, 5.0, 4.0, 3.0, 2.0, 1.0, -5.9983, -6.9824, -7.1245, -7.0302, -7.1614, -7.2335, -7.3315, -7.2358, -7.3963, -7.4425, -7.3777, -7.5134, -7.4916, -7.5158, -7.5414, -7.5419, -7.2984, -7.5419, -7.1872, -7.1212, -7.5185, -7.5956, -7.0139, -7.3825, -7.6225, -7.6517, -7.6807, -7.68, -7.6803, -7.3868, -7.3245, -7.5237, -7.5017, -7.2205, -5.9858, -4.4431, -6.885, -5.1369, -7.262, -5.4907, -7.4037, -5.0897, -6.8456, -6.4333, -4.8572, -5.0649, -4.3861, -5.5192, -5.9905, -5.9975, -6.6798, -5.1833, -5.3152, -5.5202, -5.7868, -6.5502, -4.9482, -5.5671, -5.5253, -5.7665, -5.7776, -6.2561, -5.1833, -5.4458, -5.7741, -5.9001, -6.0603, -5.7379, -6.0229, -6.0072, -5.9717, -5.5029, -5.9156, -5.8477, -5.8337, -6.6393, -6.7624, -6.992, -6.8572, -6.9065, -6.9085, -7.2389, -7.2873, -7.2877, -6.6185, -7.2411, -7.3123, -7.3639, -7.2219, -7.3913, -7.1366, -6.0728, -7.4468, -7.477, -7.4758, -7.4772, -7.5077, -7.5078, -7.3971, -7.4513, -7.5401, -7.5713, -7.3732, -7.51, -7.4814, -5.6464, -6.7225, -7.3478, -6.9007, -7.1694, -5.8217, -7.2822, -7.2828, -7.0129, -6.1806, -6.0564, -6.2055, -5.7691, -6.3815, -6.2676, -5.4086, -5.0899, -6.0253, -6.3352, -5.7925, -6.4373, -4.7639, -4.5262, -5.3654, -6.1871, -5.7516, -5.426, -5.9619, -5.0199, -5.6327, -6.2609, -5.4508, -6.1121, -5.8501, -5.5816, -5.9243, -6.2525, -5.6268, -5.9473, -5.9345, -6.0321, -5.9878, -5.9988, -6.0762, -6.0723, -6.0837, -5.905, -6.2233, -6.8258, -7.0234, -6.3317, -7.0646, -7.1271, -6.324, -7.1961, -6.9717, -7.173, -7.0128, -7.1756, -7.1525, -7.2454, -7.3209, -7.4028, -7.4033, -7.3778, -7.25, -7.4643, -6.9823, -7.3792, -7.4052, -7.4947, -7.4665, -7.3556, -7.5615, -7.5617, -7.4377, -7.1964, -7.4165, -6.8093, -6.6945, -6.9035, -6.3907, -6.5148, -5.3153, -6.2918, -7.1017, -6.809, -6.4525, -6.4978, -6.1673, -5.3769, -6.89, -4.8559, -5.8677, -6.3031, -5.0988, -5.7067, -6.013, -5.9332, -6.1904, -5.9846, -6.4667, -6.0127, -5.401, -5.7737, -6.3589, -6.0375, -6.2189, -5.1638, -5.8769, -6.2249, -5.5383, -5.84, -5.6313, -5.7807, -5.9605, -5.9826, -6.075, -6.003, -6.1897, -6.1504, -6.1457, -6.1635, -6.1695, -6.1847, -6.5393, -6.8129, -6.5368, -6.8685, -7.0976, -7.238, -7.2896, -7.3165, -7.2906, -7.1917, -7.2644, -7.2917, -6.7068, -7.2929, -7.1945, -7.2934, -7.3196, -7.433, -7.3487, -7.4049, -7.0895, -7.53, -7.5304, -7.4996, -7.5643, -7.5646, -7.5006, -7.5992, -7.5996, -7.5657, -6.6709, -7.1241, -7.3864, -7.2369, -6.8624, -7.0905, -7.202, -5.9599, -7.4177, -5.528, -6.4403, -6.9205, -4.9868, -6.2673, -5.8241, -6.0191, -6.7701, -6.3169, -6.3529, -5.9407, -5.8556, -5.8674, -6.3068, -4.9287, -6.4528, -5.7488, -5.9249, -5.9845, -6.1177, -6.2056, -6.233, -5.7923, -5.8654, -5.7134, -5.5346, -5.2991, -5.6632, -5.7449, -5.9882, -6.1353, -5.8446, -5.7681, -6.117, -5.8971, -5.8382, -5.586, -5.914, -5.7348, -6.0017, -5.8865], \"loglift\": [30.0, 29.0, 28.0, 27.0, 26.0, 25.0, 24.0, 23.0, 22.0, 21.0, 20.0, 19.0, 18.0, 17.0, 16.0, 15.0, 14.0, 13.0, 12.0, 11.0, 10.0, 9.0, 8.0, 7.0, 6.0, 5.0, 4.0, 3.0, 2.0, 1.0, 1.2233, 1.214, 1.212, 1.2099, 1.2091, 1.2077, 1.2071, 1.2045, 1.2044, 1.2028, 1.2003, 1.2002, 1.2002, 1.2002, 1.1993, 1.1988, 1.1988, 1.1987, 1.1984, 1.198, 1.1973, 1.1964, 1.1964, 1.1964, 1.1962, 1.1944, 1.1935, 1.1929, 1.1925, 1.1918, 1.1914, 1.1908, 1.1899, 1.1823, 1.0428, 0.8846, 1.1233, 0.9198, 1.1554, 0.8431, 1.1751, 0.7388, 1.0699, 0.9738, 0.6241, 0.6689, 0.5087, 0.7573, 0.8501, 0.8399, 1.0192, 0.579, 0.6029, 0.6348, 0.6941, 0.9486, 0.3574, 0.5493, 0.5009, 0.5601, 0.5601, 0.7818, 0.2065, 0.271, 0.4452, 0.4785, 0.5693, 0.3175, 0.5242, 0.5112, 0.459, -0.2782, 0.3515, 0.155, 0.0064, 1.3587, 1.3569, 1.3521, 1.3515, 1.3511, 1.3492, 1.3453, 1.3447, 1.3444, 1.3433, 1.3433, 1.3429, 1.3414, 1.3402, 1.3401, 1.3393, 1.339, 1.3376, 1.337, 1.3368, 1.3367, 1.3355, 1.3353, 1.3333, 1.3332, 1.333, 1.3327, 1.3323, 1.3319, 1.3315, 1.3223, 1.3276, 1.3313, 1.3244, 1.3279, 1.2528, 1.3256, 1.3233, 1.2964, 1.2046, 1.1691, 1.1815, 1.0513, 1.1406, 1.0839, 0.878, 0.7834, 0.9737, 1.0509, 0.8785, 1.0722, 0.4608, 0.3686, 0.6373, 0.9487, 0.7546, 0.6019, 0.7998, 0.2857, 0.5745, 0.9554, 0.4512, 0.8482, 0.6394, 0.3996, 0.6545, 0.8971, -0.0119, 0.401, 0.2835, 0.442, 0.2096, 0.1326, 0.3229, 0.1948, 0.226, 1.4546, 1.4504, 1.4401, 1.4357, 1.4344, 1.4319, 1.4314, 1.431, 1.4296, 1.4294, 1.4291, 1.4274, 1.4265, 1.4264, 1.4258, 1.4232, 1.4214, 1.4209, 1.4203, 1.4197, 1.4186, 1.4184, 1.4178, 1.4177, 1.4165, 1.4148, 1.4134, 1.4124, 1.4122, 1.4118, 1.4061, 1.408, 1.3783, 1.3701, 1.3786, 1.3353, 1.3063, 1.1503, 1.2669, 1.3724, 1.3231, 1.2589, 1.2595, 1.1873, 1.0011, 1.3287, 0.759, 1.001, 1.1271, 0.618, 0.8418, 0.9647, 0.9076, 1.0227, 0.9296, 1.1454, 0.8967, 0.538, 0.6976, 1.0547, 0.8294, 0.9405, 0.0609, 0.5321, 0.8879, -0.057, 0.1412, -0.2415, -0.0469, 0.2368, 0.2354, 0.4032, -0.2407, 0.6658, 0.1762, -0.0292, -0.0322, -0.8418, 0.3883, 1.4536, 1.4475, 1.443, 1.4416, 1.4388, 1.4354, 1.434, 1.433, 1.433, 1.4329, 1.4325, 1.4318, 1.4313, 1.4309, 1.4302, 1.4302, 1.4289, 1.4282, 1.4263, 1.4258, 1.4238, 1.4224, 1.422, 1.4211, 1.4209, 1.4207, 1.4201, 1.4199, 1.4196, 1.4196, 1.4122, 1.4124, 1.4161, 1.4118, 1.3976, 1.4049, 1.4023, 1.319, 1.415, 1.2721, 1.3348, 1.372, 0.8534, 1.1483, 1.0138, 1.0685, 1.2706, 1.1153, 1.1205, 0.9803, 0.9432, 0.9033, 1.0701, 0.4611, 1.1008, 0.6971, 0.7765, 0.7797, 0.8524, 0.8833, 0.8989, 0.6068, 0.6358, 0.4448, 0.2277, 0.0065, 0.2758, 0.3105, 0.581, 0.7503, 0.2867, 0.134, 0.7072, 0.2909, 0.0799, -0.6912, 0.1139, -0.51, 0.2055, -0.4053]}, \"token.table\": {\"Topic\": [3, 1, 2, 3, 4, 3, 1, 2, 3, 4, 1, 2, 3, 4, 4, 1, 2, 3, 2, 1, 2, 3, 4, 3, 4, 2, 3, 4, 2, 3, 4, 1, 4, 1, 2, 3, 4, 3, 4, 1, 2, 3, 1, 2, 1, 2, 3, 4, 2, 3, 1, 2, 4, 1, 1, 2, 3, 4, 3, 4, 3, 4, 2, 3, 4, 2, 1, 1, 1, 2, 3, 4, 2, 4, 1, 2, 3, 4, 4, 3, 3, 4, 1, 1, 2, 3, 4, 2, 2, 4, 1, 4, 1, 2, 2, 4, 1, 2, 3, 4, 1, 2, 3, 4, 1, 2, 3, 4, 1, 2, 3, 4, 2, 3, 4, 1, 1, 1, 2, 3, 4, 1, 2, 3, 4, 3, 3, 3, 2, 1, 3, 4, 2, 3, 3, 4, 4, 1, 1, 1, 2, 3, 4, 1, 2, 3, 4, 1, 2, 3, 4, 2, 3, 4, 1, 2, 4, 1, 2, 3, 4, 1, 4, 1, 2, 3, 4, 4, 4, 1, 2, 3, 1, 2, 3, 4, 1, 2, 1, 2, 3, 1, 4, 2, 3, 1, 2, 3, 4, 2, 3, 4, 1, 2, 3, 4, 2, 4, 1, 2, 3, 4, 1, 2, 4, 1, 1, 2, 3, 4, 4, 2, 4, 2, 1, 3, 4, 4, 2, 3, 1, 2, 3, 4, 3, 2, 1, 2, 4, 3, 4, 4, 1, 2, 3, 4, 1, 2, 3, 4, 1, 2, 4, 1, 2, 3, 1, 3, 2, 4, 2, 3, 4, 1, 2, 4, 1, 2, 3, 4, 1, 2, 3, 4, 1, 2, 3, 4, 3, 4, 1, 2, 4, 2, 3, 4, 3, 2, 3, 4, 1, 2, 3, 4, 1, 2, 1, 2, 3, 4, 1, 2, 3, 4, 1, 4, 1, 3, 4, 1, 2, 3, 1, 2, 1, 2, 3, 4, 1, 2, 3, 4, 1, 2, 3, 4, 1, 2, 3, 4, 1, 2, 3, 4, 1, 2, 2, 1, 2, 3, 4, 1, 2, 3, 4, 2, 3, 4, 1, 2, 3, 4, 1, 1, 2, 3, 4, 3, 4, 1, 2, 3, 4, 1, 2, 3, 4, 1, 2, 3, 4, 4, 1, 2, 4, 1, 2, 3, 4, 1, 2, 3, 4, 2, 3, 4, 3, 1, 1, 2, 3, 1, 2, 3, 4, 1, 2, 2, 1, 2, 3, 4, 1, 2, 3, 4, 4, 1, 2, 3, 4, 2, 1, 2, 3, 4, 1, 2, 3, 4, 4, 1, 2, 3, 4, 1, 3, 2, 1, 2, 3, 2, 1, 4, 1, 2, 3, 4, 1, 2, 3, 1, 2, 3, 4, 1, 2, 3, 4, 1, 2, 3, 4, 1, 2, 3, 2, 1, 2, 3, 4, 1, 4, 4, 2, 1, 2, 3, 4, 4, 1, 1, 3, 4, 1, 1, 1, 2, 3, 4, 1, 2, 3, 4, 4, 1, 2, 3, 4, 4, 1, 2, 3, 1, 2, 3, 4, 1, 2, 3, 2, 3, 4, 1, 2, 1, 2, 3, 4, 4, 1, 1, 4, 1, 2, 3, 4, 1, 3, 2, 2, 2, 4, 1, 2, 3, 2, 4, 3, 1, 2, 4, 1, 1, 2, 3, 4, 1, 1, 3, 4, 3, 3, 4, 1, 3, 4, 3, 3, 1, 2, 3, 4, 1, 3, 3, 3, 4, 3, 2, 1, 1, 2, 3, 4, 2, 1, 2, 3, 4, 1, 2, 3, 4, 1, 3, 2, 1, 2, 3, 4, 1, 2, 3, 1, 1, 2, 3, 4, 3, 4, 1, 2, 3, 4, 3, 2, 3, 4, 1, 2, 3, 4, 1, 2, 3, 4, 4, 1, 2, 1, 2, 3, 4, 1, 2, 3, 4, 1, 2, 3, 4, 1, 1, 4, 1, 3, 1, 2, 3, 4, 1, 4, 1, 2, 3, 4, 1, 2, 3, 4, 1, 2, 3, 4, 3, 3, 1, 2, 3, 4, 2], \"Freq\": [0.9582483196546184, 0.1324063378640089, 0.008827089190933926, 0.5296253514560356, 0.32660230006455526, 0.9509873921324198, 0.1852797635044624, 0.311812284922144, 0.2937362104339038, 0.21239387523682274, 0.5147788681463957, 0.014624399663249878, 0.1813425558242985, 0.28663823339969763, 0.9436241330924972, 0.397053125747594, 0.483081302992906, 0.1191159377242782, 0.9609019218506705, 0.2908707878037794, 0.16756686688695988, 0.0031616389978671674, 0.5374786296374184, 0.05243798380839708, 0.9438837085511474, 0.03306627881479318, 0.9258558068142091, 0.03306627881479318, 0.9269238339001034, 0.9278612987920069, 0.9519919268593504, 0.2597663893013323, 0.7181776645389775, 0.0963045659229291, 0.20544974063558208, 0.532885264773541, 0.1605076098715485, 0.9411874224675367, 0.04092119228119725, 0.037344756234430385, 0.9336189058607596, 0.037344756234430385, 0.9855919773351696, 0.9476356052213217, 0.16240186017821193, 0.11368130212474835, 0.6279538593557528, 0.09744111610692716, 0.42136001844091653, 0.5675461472877651, 0.17259025583163798, 0.2646383922751782, 0.563794835716684, 0.9758074672299647, 0.5760403991142499, 0.28201977873301814, 0.0960067331857083, 0.042002945768747385, 0.1094503194679928, 0.8756025557439424, 0.9362603544958005, 0.9609329729169963, 0.044033194781032715, 0.924697090401687, 0.044033194781032715, 0.9705197828138806, 0.9288736904252423, 0.9528045571764983, 0.29985184597118236, 0.2346666620644036, 0.10864197317796463, 0.35634567202372397, 0.979887273036918, 0.9607227604434843, 0.02923845765748006, 0.02923845765748006, 0.9063921873818819, 0.02923845765748006, 0.960270931486895, 0.954429603913297, 0.8753172795364067, 0.10420443804004842, 0.9801087132087751, 0.5656515569387864, 0.0824316339257528, 0.21887020042355051, 0.13075362622705616, 0.9576426945587918, 0.96101058463263, 0.9455009940129206, 0.943169324665638, 0.04100736194198426, 0.048867779814231356, 0.938261372433242, 0.9554430576609255, 0.9798296723616086, 0.11344887388881542, 0.3490734581194321, 0.4450686591022759, 0.08726836452985802, 0.1968633995325963, 0.24734119428454407, 0.4921584988314907, 0.06309724343993471, 0.12004607295914611, 0.18864382893580103, 0.05144831698249119, 0.6345292427840581, 0.01332796924218386, 0.11995172317965473, 0.01332796924218386, 0.852990031499767, 0.022920738680290653, 0.8480673311707542, 0.11460369340145327, 0.9842424129551941, 0.9780294821469756, 0.04506811931190263, 0.9464305055499552, 0.9264625175174006, 0.9617738383019675, 0.41186199472812457, 0.3052624196220218, 0.174435668355441, 0.10659957510610284, 0.963912900389779, 0.9825432239284265, 0.9780462440451669, 0.9266192027342839, 0.1467405816833305, 0.5643868526281943, 0.293481163366661, 0.02145493337595811, 0.965472001918115, 0.07110314262815036, 0.9243408541659547, 0.9114643883260036, 0.9854825688933643, 0.9642969493074387, 0.47968358722603543, 0.186889709308845, 0.199349023262768, 0.13705245349315298, 0.3384788872040501, 0.4761021710122903, 0.11902554275307257, 0.06695186779860332, 0.10045770264238142, 0.14182263902453848, 0.7268410250007598, 0.029546383130112184, 0.1763049052128474, 0.811002563979098, 0.9636321890519527, 0.07417668904706691, 0.7120962148518423, 0.20769472933178734, 0.1430902742394336, 0.17611110675622596, 0.011006944172264123, 0.6714235945081115, 0.02978813771501152, 0.9532204068803687, 0.2518218881517821, 0.22484097156409114, 0.03597455545025458, 0.48565649857843685, 0.9717716580363399, 0.9608254382013378, 0.25186323655840404, 0.6649189445141868, 0.0805962356986893, 0.10289069837970737, 0.47813912776452244, 0.199729002737079, 0.2239385788264219, 0.3747890154737311, 0.6207443068783671, 0.06822900227679955, 0.034114501138399776, 0.8869770295983942, 0.9842170695862563, 0.9544637058095193, 0.9553918575056132, 0.9615568456566623, 0.2822810318194219, 0.4577530245720354, 0.0038146085381002954, 0.2555787720527198, 0.2951977256271724, 0.015536722401430125, 0.6991525080643556, 0.22877387141738648, 0.5490572914017275, 0.12092333203490428, 0.10131414305627115, 0.9666990391150327, 0.960807124697337, 0.18835879954410442, 0.3935353490475039, 0.15472329962551434, 0.2623568993650026, 0.025270113811976393, 0.8086436419832446, 0.16425573977784655, 0.9534527871891103, 0.7263498018722085, 0.16490103610071763, 0.07067187261459326, 0.03926215145255182, 0.9544585558497318, 0.17129996312535087, 0.8279498217725292, 0.9435602361214219, 0.2406346718431991, 0.583076320235444, 0.17584841403926088, 0.9544271314448963, 0.9547672196391238, 0.05025090629679599, 0.19612490513895436, 0.14857947359011694, 0.46356795760116487, 0.1901817261953497, 0.9889341128734911, 0.967322419514518, 0.7726497144168977, 0.16664993840364462, 0.06059997760132531, 0.9742101610732974, 0.9727544366122749, 0.9173568109737028, 0.2187016229324082, 0.3981052979941493, 0.2460393257989592, 0.1366885143327551, 0.050199153224372156, 0.4472288196353156, 0.2236144098176578, 0.2829406818100976, 0.014849061223047662, 0.8166983672676214, 0.16333967345352426, 0.9772926529907328, 0.9682691087567212, 0.9545067430281966, 0.050070780884484654, 0.9513448368052084, 0.95900405074386, 0.030444573039487617, 0.17338000400205233, 0.008256190666764397, 0.8173628760096753, 0.03672239100678639, 0.03672239100678639, 0.9180597751696599, 0.19893603342167088, 0.10121306963558693, 0.39438196099383876, 0.30014910305725784, 0.16531935938707695, 0.1873619406386872, 0.09919161563224617, 0.5510645312902565, 0.616285089402331, 0.0048911515031931025, 0.1809726056181448, 0.1956460601277241, 0.031473071784625765, 0.944192153538773, 0.8197132264960709, 0.09338505111980555, 0.08300893432871605, 0.28066695441304945, 0.03508336930163118, 0.684125701381808, 0.9655187922473081, 0.1780897876111183, 0.1133298648434389, 0.6961691697525533, 0.16304503230492742, 0.602772543672762, 0.06917061976572679, 0.16304503230492742, 0.9773095108616651, 0.9848924790531302, 0.5457869102622904, 0.11262269576840914, 0.15593911721779727, 0.18626061223236895, 0.5297739846593065, 0.09911900358141863, 0.12304428030796795, 0.24950645729115725, 0.04498339223734062, 0.9446512369841531, 0.06256312566558465, 0.8758837593181852, 0.06256312566558465, 0.6685204221102993, 0.008570774642439735, 0.31711866177027015, 0.9154156888611532, 0.04160980403914333, 0.10070137825620894, 0.7384767738788656, 0.01678356304270149, 0.15105206738431343, 0.11151895071790287, 0.2310035407727988, 0.15931278673986124, 0.501835278230563, 0.5044042193277669, 0.20800173992897608, 0.13520113095383443, 0.15600130494673206, 0.3800838535055447, 0.12576303976286407, 0.4275943351937378, 0.06707362120686083, 0.17204779668552075, 0.17204779668552075, 0.1496067797265398, 0.5011827120839083, 0.9429431612202618, 0.03771772644881047, 0.9730888616702195, 0.0775293136107237, 0.5911610162817682, 0.06783814940938324, 0.26166143343619247, 0.190695017092095, 0.5561937998519437, 0.19864064280426563, 0.04767375427302375, 0.33694393742845685, 0.6364496595870851, 0.012479405089942846, 0.23754941963466594, 0.15643498366185318, 0.1448472070943085, 0.45771717441801485, 0.9674483530811961, 0.6283557860786598, 0.08378077147715465, 0.1675615429543093, 0.11519856078108764, 0.5913603450662219, 0.4021250346450309, 0.45651871051424464, 0.26249825854569064, 0.07989077433999281, 0.20543341973141008, 0.40524940616927674, 0.3933303059878274, 0.13111010199594247, 0.0715146010886959, 0.5001176647163655, 0.17087353544475822, 0.2250529491223645, 0.10419118014924282, 0.9674769256629219, 0.42492154613799693, 0.008017387662981074, 0.5612171364086752, 0.3736091619122498, 0.11142729390365344, 0.09831820050322362, 0.4063818954133243, 0.7472135124878825, 0.11623321305367061, 0.09962846833171767, 0.04981423416585883, 0.24175563321743906, 0.7252668996523172, 0.018596587170572235, 0.937467851842546, 0.9791198109076518, 0.9673901253335773, 0.040307921888899055, 0.9791146575743833, 0.35467654505293855, 0.10076038211731209, 0.18136868781116178, 0.36273737562232355, 0.9773127517198624, 0.9617897548910154, 0.9793998079011439, 0.4803197915963156, 0.36361805195015195, 0.04176693839967962, 0.11424486091677072, 0.015504962781257695, 0.13954466503131924, 0.713228287937854, 0.13954466503131924, 0.9860573937686059, 0.48725479807814237, 0.2372161516959377, 0.2628611410684715, 0.012822494686266903, 0.9279475975639959, 0.24173365951288456, 0.3731106483785827, 0.20494810263048907, 0.17867270485734946, 0.14324546946490993, 0.7162273473245496, 0.06740963268936938, 0.06740963268936938, 0.9355028471420976, 0.7007227109164654, 0.10226763889051117, 0.09847994856123297, 0.09847994856123297, 0.932299823269471, 0.9652932900737686, 0.9832872746200311, 0.14377428761117578, 0.020539183944453684, 0.8215673577781473, 0.9575226240868874, 0.9816447626876526, 0.012585189265226315, 0.15022782671946588, 0.6509872491176855, 0.01251898555995549, 0.17526579783937687, 0.010863559884419624, 0.8799483506379896, 0.10863559884419624, 0.6062535319028501, 0.13750080105013096, 0.1187506918160222, 0.14062581925581577, 0.18203362102188542, 0.374989259305084, 0.2657690866919527, 0.17475227618101, 0.1397721493699261, 0.1397721493699261, 0.11181771949594088, 0.6056793139363464, 0.7911786828275028, 0.02028663289301289, 0.18257969603711605, 0.9279283141399026, 0.5039671968572873, 0.046282701752199853, 0.27769621051319915, 0.17484576217497722, 0.5328513050749248, 0.4651876472876328, 0.9842236535086406, 0.9499855938907403, 0.831334330352785, 0.02519194940462985, 0.12595974702314924, 0.923562017128127, 0.9725191137334992, 0.930573132337143, 0.2940089027392272, 0.029400890273922717, 0.6615200311632612, 0.9496941862815977, 0.9463184336554021, 0.5082788839907367, 0.25065807977625376, 0.09747814213520979, 0.1392544887645854, 0.10375695981157682, 0.8448781013228398, 0.02964484566045052, 0.02964484566045052, 0.9270982091368749, 0.4131156874813272, 0.3353091454444853, 0.02223044058195483, 0.22971455268019988, 0.9727949125109455, 0.03432876954394089, 0.9612055472303449, 0.03432876954394089, 0.31788832053498994, 0.1746147112797832, 0.20147851301513447, 0.3044564196673143, 0.17202898628681504, 0.02150362328585188, 0.8171376848623715, 0.1859333852076226, 0.27400709399018064, 0.5382282203378549, 0.9471537135637248, 0.0338269183415616, 0.6733865077189302, 0.11395771669089588, 0.00517989621322254, 0.2071958485289016, 0.9236734655901846, 0.9771949008323606, 0.046876053303095536, 0.9375210660619108, 0.024617217582713895, 0.5354244824240272, 0.2584807846184959, 0.1846291318703542, 0.9512268877753219, 0.9730725384597227, 0.9883307610949706, 0.9844668491761319, 0.956352305234577, 0.05033433185445142, 0.1479215231404061, 0.24653587190067686, 0.6015475274376515, 0.9510683933946811, 0.028820254345293367, 0.9824068131501372, 0.2772220344343745, 0.6468514136802072, 0.06930550860859362, 0.9520621237603287, 0.12336884511704374, 0.6023302438067429, 0.17416778134170882, 0.09434088156009228, 0.9682949028204793, 0.2394745426066557, 0.5618441191925384, 0.1934217459515296, 0.9807288647071151, 0.7619720393283637, 0.23002929489158147, 0.8844512230320488, 0.08291730215925458, 0.9113797918974257, 0.9436766163266859, 0.973631409114441, 0.45272256669628397, 0.1940239571555503, 0.10625121463280135, 0.24945937348570751, 0.9863724364146182, 0.9375082059946057, 0.9377501353598117, 0.026860868098786753, 0.9669912515563232, 0.9462747567285975, 0.9542480097775603, 0.9582561769400922, 0.47603684551006104, 0.2284976858448293, 0.17898985391178293, 0.11424884292241465, 0.9433467096354101, 0.5388251732527225, 0.09054029550558042, 0.218621689147621, 0.1523726924362207, 0.016996863210928696, 0.7818557077027201, 0.13597490568742956, 0.06798745284371478, 0.07268342008670385, 0.9085427510837981, 0.9834477225861927, 0.09149659178965296, 0.13724488768447943, 0.6557255744925129, 0.10674602375459512, 0.6793077881667211, 0.11178482590085283, 0.20637198627849754, 0.9406712499806734, 0.3960391227976978, 0.1999801511156692, 0.09018712697373317, 0.3136943546912458, 0.9762335200119442, 0.02169407822248765, 0.46715213152422985, 0.10527371978010815, 0.34213958928535143, 0.09211450480759462, 0.9457159480416161, 0.7452446078843337, 0.10032138952289107, 0.14331627074698725, 0.4658674967374543, 0.005417063915551794, 0.2654361318620379, 0.2600190679464861, 0.32362140386296795, 0.3135082349922502, 0.202263377414355, 0.1567541174961251, 0.9636289456818933, 0.02638301148334616, 0.9761714248838078, 0.1937685746653502, 0.3321746994263146, 0.2906528619980253, 0.17992796218925375, 0.20338749701105313, 0.008842934652654484, 0.6278483603384684, 0.15917282374778072, 0.22670514641765283, 0.34835181034907625, 0.005529393815064703, 0.42023392994491743, 0.953322911118525, 0.9594805961218945, 0.960779088742915, 0.9290151600023273, 0.0488955347369646, 0.3061733751633028, 0.25718563513717435, 0.006123467503266056, 0.43476619273189, 0.05015850884464437, 0.9530116680482431, 0.11544682465373615, 0.11544682465373615, 0.1814164387415854, 0.5854803250296619, 0.18613156873654546, 0.2876578789564793, 0.22420393506902067, 0.3045789306598016, 0.15635693796207895, 0.16194111431786745, 0.3908923449051973, 0.29037717050100376, 0.9509204458687974, 0.9436977747717608, 0.2333831121604753, 0.29322493579136644, 0.3470825770591684, 0.12566782962487133, 0.9798775922796822], \"Term\": [\"add_follower_mention_id\", \"al\", \"al\", \"al\", \"al\", \"ali_sadpara\", \"allah\", \"allah\", \"allah\", \"allah\", \"also\", \"also\", \"also\", \"also\", \"although\", \"always\", \"always\", \"always\", \"aman\", \"amp\", \"amp\", \"amp\", \"amp\", \"anchor\", \"anchor\", \"anti\", \"anti\", \"anti\", \"ar\", \"arif\", \"arrive\", \"assembly\", \"assembly\", \"attack\", \"attack\", \"attack\", \"attack\", \"award\", \"award\", \"away\", \"away\", \"away\", \"bear_witness\", \"beat_cry\", \"become\", \"become\", \"become\", \"become\", \"behind_skipper\", \"behind_skipper\", \"best\", \"best\", \"best\", \"bhai\", \"big\", \"big\", \"big\", \"big\", \"bill\", \"bill\", \"birthday\", \"bitter\", \"bless\", \"bless\", \"bless\", \"boy\", \"building\", \"burnt\", \"call\", \"call\", \"call\", \"call\", \"cancelexamspakistan\", \"careful\", \"chairman\", \"chairman\", \"chairman\", \"chairman\", \"chief_election_commissioner\", \"child_labour\", \"chor\", \"chor\", \"collect\", \"come\", \"come\", \"come\", \"come\", \"come_back\", \"company\", \"complete_trust\", \"completely\", \"completely\", \"congratulation\", \"congratulation\", \"corner_tiger\", \"coronavirus\", \"corruption\", \"corruption\", \"corruption\", \"corruption\", \"country\", \"country\", \"country\", \"country\", \"court\", \"court\", \"court\", \"court\", \"covid\", \"covid\", \"covid\", \"covid\", \"crime\", \"crime\", \"crime\", \"daily\", \"damage\", \"dangerous\", \"dangerous\", \"darkness\", \"daska\", \"day\", \"day\", \"day\", \"day\", \"defense\", \"desert\", \"desire\", \"destruction\", \"die\", \"die\", \"die\", \"dirty\", \"dirty\", \"drama\", \"drama\", \"dy\", \"easily\", \"elect\", \"election_commission\", \"election_commission\", \"election_commission\", \"election_commission\", \"even\", \"even\", \"even\", \"even\", \"every\", \"every\", \"every\", \"every\", \"everything\", \"everything\", \"faisal\", \"fall\", \"fall\", \"fall\", \"farmer\", \"farmer\", \"farmer\", \"farmer\", \"farmer_protest\", \"farmer_protest\", \"father\", \"father\", \"father\", \"father\", \"ficial\", \"final\", \"fire\", \"fire\", \"fire\", \"first\", \"first\", \"first\", \"first\", \"follow\", \"follow\", \"follow_back\", \"follow_back\", \"follow_back\", \"forward\", \"french\", \"friendly\", \"gb_heaven_earth\", \"get\", \"get\", \"get\", \"get\", \"girl\", \"girl\", \"girl\", \"give\", \"give\", \"give\", \"give\", \"give_money\", \"glory_god\", \"go\", \"go\", \"go\", \"go\", \"god_willing\", \"god_willing\", \"god_willing\", \"good_night\", \"government\", \"government\", \"government\", \"government\", \"gt\", \"gul\", \"gul\", \"gutter\", \"happy\", \"happy\", \"happy\", \"happy_see\", \"haram\", \"haram\", \"heart\", \"heart\", \"heart\", \"heart\", \"ho\", \"honorable\", \"hope\", \"hope\", \"hope\", \"ignorance\", \"immediately\", \"improve\", \"imran_khan\", \"imran_khan\", \"imran_khan\", \"imran_khan\", \"india\", \"india\", \"india\", \"india\", \"islam\", \"islam\", \"islam\", \"izzat\", \"jai\", \"join_list_retweet_follow\", \"joke\", \"joke\", \"karachi\", \"karachi\", \"kashmir\", \"kashmir\", \"kashmir\", \"kept\", \"kept\", \"kept\", \"khan\", \"khan\", \"khan\", \"khan\", \"kill\", \"kill\", \"kill\", \"kill\", \"know\", \"know\", \"know\", \"know\", \"koran\", \"koran\", \"lahore\", \"lahore\", \"lahore\", \"land\", \"land\", \"land\", \"laugh\", \"lead\", \"lead\", \"lead\", \"leader\", \"leader\", \"leader\", \"leader\", \"leadership_prime_minister_imran\", \"learn\", \"life\", \"life\", \"life\", \"life\", \"like\", \"like\", \"like\", \"like\", \"lion\", \"lion\", \"list\", \"list\", \"list\", \"listen\", \"listen\", \"listen\", \"little\", \"little\", \"lord\", \"lord\", \"lord\", \"lord\", \"lose\", \"lose\", \"lose\", \"lose\", \"love\", \"love\", \"love\", \"love\", \"make\", \"make\", \"make\", \"make\", \"many\", \"many\", \"many\", \"many\", \"many_time\", \"many_time\", \"mark\", \"maryam\", \"maryam\", \"maryam\", \"maryam\", \"may\", \"may\", \"may\", \"may\", \"may_allah\", \"may_allah\", \"may_allah\", \"money\", \"money\", \"money\", \"money\", \"mpa\", \"must\", \"must\", \"must\", \"must\", \"nab\", \"nab\", \"name\", \"name\", \"name\", \"name\", \"nation\", \"nation\", \"nation\", \"nation\", \"nation_demand_open_ballot\", \"nation_demand_open_ballot\", \"nation_demand_open_ballot\", \"nation_demand_open_ballot\", \"navy\", \"need\", \"need\", \"need\", \"new\", \"new\", \"new\", \"new\", \"night\", \"night\", \"night\", \"night\", \"non_league\", \"non_league\", \"non_league\", \"notification\", \"occasion\", \"offer\", \"offer\", \"olive\", \"one\", \"one\", \"one\", \"one\", \"one_person\", \"opponent\", \"pain\", \"pakistan\", \"pakistan\", \"pakistan\", \"pakistan\", \"pakistan_army\", \"pakistan_army\", \"pakistan_army\", \"pakistan_army\", \"pakistan_ki\", \"party\", \"party\", \"party\", \"party\", \"pawri\", \"pdm\", \"pdm\", \"pdm\", \"pdm\", \"peace_upon\", \"peace_upon\", \"peace_upon\", \"peace_upon\", \"peace_upon_may_god\", \"people\", \"people\", \"people\", \"people\", \"percentage\", \"personality\", \"phase\", \"picture\", \"picture\", \"picture\", \"plane\", \"poor\", \"poor\", \"power\", \"power\", \"power\", \"power\", \"prayer\", \"prayer\", \"prayer\", \"prime_minister\", \"prime_minister\", \"prime_minister\", \"prime_minister\", \"prime_minister_imran_khan\", \"prime_minister_imran_khan\", \"prime_minister_imran_khan\", \"prime_minister_imran_khan\", \"prime_ministerl_n\", \"prime_ministerl_n\", \"prime_ministerl_n\", \"prime_ministerl_n\", \"problem\", \"problem\", \"problem\", \"provincial_assembly\", \"pti\", \"pti\", \"pti\", \"pti\", \"punjab\", \"punjab\", \"ran_away\", \"rashid\", \"read\", \"read\", \"read\", \"regional\", \"resignation\", \"respect_vote\", \"result\", \"result\", \"result\", \"rich\", \"rig\", \"right\", \"right\", \"right\", \"right\", \"run\", \"run\", \"run\", \"run\", \"sanjrani\", \"say\", \"say\", \"say\", \"say\", \"scenario\", \"school\", \"school\", \"school\", \"see\", \"see\", \"see\", \"see\", \"seem\", \"seem\", \"seem\", \"senate\", \"senate\", \"senate\", \"senate_chairman\", \"senate_chairman\", \"senate_election\", \"senate_election\", \"senate_election\", \"senate_election\", \"shameful\", \"sharif\", \"shot\", \"shot\", \"show\", \"show\", \"show\", \"show\", \"show_love\", \"sky\", \"sleep\", \"sleeve\", \"snake\", \"snake\", \"someone\", \"someone\", \"someone\", \"something\", \"something\", \"sometimes\", \"speech\", \"speech\", \"speech\", \"sri_lanka\", \"start\", \"start\", \"start\", \"start\", \"stay_safe\", \"stop\", \"stop\", \"stop\", \"strange\", \"strong\", \"strong\", \"success\", \"success\", \"suddenly\", \"syria\", \"syrian\", \"take\", \"take\", \"take\", \"take\", \"take_notice\", \"tbz\", \"teach\", \"teacher\", \"teacher\", \"term\", \"third\", \"till_last\", \"time\", \"time\", \"time\", \"time\", \"title\", \"today\", \"today\", \"today\", \"today\", \"tomorrow\", \"tomorrow\", \"tomorrow\", \"tomorrow\", \"tree\", \"tree\", \"trouble\", \"truth\", \"truth\", \"truth\", \"truth\", \"twitter\", \"twitter\", \"twitter\", \"type\", \"u\", \"u\", \"u\", \"u\", \"unit\", \"unit\", \"use\", \"use\", \"use\", \"use\", \"verse\", \"victory\", \"victory\", \"victory\", \"video\", \"video\", \"video\", \"video\", \"vote\", \"vote\", \"vote\", \"vote\", \"wali\", \"walk\", \"walk\", \"want\", \"want\", \"want\", \"want\", \"way\", \"way\", \"way\", \"way\", \"well\", \"well\", \"well\", \"well\", \"whole_nation\", \"wing\", \"wipe\", \"witness\", \"witness\", \"woman\", \"woman\", \"woman\", \"woman\", \"wonderful\", \"wonderful\", \"work\", \"work\", \"work\", \"work\", \"world\", \"world\", \"world\", \"world\", \"would\", \"would\", \"would\", \"would\", \"wound\", \"wrap\", \"year\", \"year\", \"year\", \"year\", \"zong\"]}, \"R\": 30, \"lambda.step\": 0.01, \"plot.opts\": {\"xlab\": \"PC1\", \"ylab\": \"PC2\"}, \"topic.order\": [1, 2, 4, 3]};\n",
       "\n",
       "function LDAvis_load_lib(url, callback){\n",
       "  var s = document.createElement('script');\n",
       "  s.src = url;\n",
       "  s.async = true;\n",
       "  s.onreadystatechange = s.onload = callback;\n",
       "  s.onerror = function(){console.warn(\"failed to load library \" + url);};\n",
       "  document.getElementsByTagName(\"head\")[0].appendChild(s);\n",
       "}\n",
       "\n",
       "if(typeof(LDAvis) !== \"undefined\"){\n",
       "   // already loaded: just create the visualization\n",
       "   !function(LDAvis){\n",
       "       new LDAvis(\"#\" + \"ldavis_el3648823971744635049241215478\", ldavis_el3648823971744635049241215478_data);\n",
       "   }(LDAvis);\n",
       "}else if(typeof define === \"function\" && define.amd){\n",
       "   // require.js is available: use it to load d3/LDAvis\n",
       "   require.config({paths: {d3: \"https://d3js.org/d3.v5\"}});\n",
       "   require([\"d3\"], function(d3){\n",
       "      window.d3 = d3;\n",
       "      LDAvis_load_lib(\"https://cdn.jsdelivr.net/gh/bmabey/pyLDAvis@3.3.1/pyLDAvis/js/ldavis.v3.0.0.js\", function(){\n",
       "        new LDAvis(\"#\" + \"ldavis_el3648823971744635049241215478\", ldavis_el3648823971744635049241215478_data);\n",
       "      });\n",
       "    });\n",
       "}else{\n",
       "    // require.js not available: dynamically load d3 & LDAvis\n",
       "    LDAvis_load_lib(\"https://d3js.org/d3.v5.js\", function(){\n",
       "         LDAvis_load_lib(\"https://cdn.jsdelivr.net/gh/bmabey/pyLDAvis@3.3.1/pyLDAvis/js/ldavis.v3.0.0.js\", function(){\n",
       "                 new LDAvis(\"#\" + \"ldavis_el3648823971744635049241215478\", ldavis_el3648823971744635049241215478_data);\n",
       "            })\n",
       "         });\n",
       "}\n",
       "</script>"
      ],
      "text/plain": [
       "<IPython.core.display.HTML object>"
      ]
     },
     "execution_count": 208,
     "metadata": {},
     "output_type": "execute_result"
    }
   ],
   "source": [
    "# plot topics\n",
    "data =  pyLDAvis.gensim_models.prepare(model, corpus, dictionary)\n",
    "pyLDAvis.display(data)"
   ]
  },
  {
   "cell_type": "code",
   "execution_count": 202,
   "id": "b889545e",
   "metadata": {},
   "outputs": [
    {
     "data": {
      "text/plain": [
       "<gensim.models.ldamulticore.LdaMulticore at 0x22e408a70a0>"
      ]
     },
     "execution_count": 202,
     "metadata": {},
     "output_type": "execute_result"
    }
   ],
   "source": [
    "model"
   ]
  },
  {
   "cell_type": "markdown",
   "id": "c1ef6ba9",
   "metadata": {},
   "source": [
    "## NFM"
   ]
  },
  {
   "cell_type": "code",
   "execution_count": 110,
   "id": "927acae0",
   "metadata": {},
   "outputs": [
    {
     "name": "stdout",
     "output_type": "stream",
     "text": [
      "****** k = 3 ******\n",
      "Topic 0:\n",
      "via, back, freedom, violence, zionism, peace, pedophile, sect, matter, jeane, manson, life, black, sudanese, migrant, center, knife, god, kill, berry\n",
      "Topic 1:\n",
      "soral, alain, answer, episode, bravery, piece, fr, jus, family, question, de, race, first, female, hebrew, health, farmer, hai, federal, great\n",
      "Topic 2:\n",
      "like, well, look, see, jew, fire, trump, people, everything, right, chose, child, know, catholic, official, semitic, even, week, anti, day\n",
      "\n",
      "****** k = 4 ******\n",
      "Topic 0:\n",
      "via, back, freedom, violence, zionism, peace, pedophile, sect, matter, jeane, manson, life, black, sudanese, migrant, center, knife, god, berry, kill\n",
      "Topic 1:\n",
      "soral, alain, answer, episode, bravery, piece, fr, jus, family, question, de, race, first, female, hebrew, health, farmer, hai, federal, great\n",
      "Topic 2:\n",
      "like, well, look, see, jew, fire, trump, people, right, everything, chose, child, know, catholic, official, semitic, week, even, anti, day\n",
      "Topic 3:\n",
      "woman, one, kill, afrin, come, minister, together, true, day, would, whole, muslim, show, corrupt, cry, let, sit, asylum, british, body\n",
      "\n",
      "****** k = 5 ******\n",
      "Topic 0:\n",
      "via, back, freedom, violence, zionism, peace, pedophile, sect, matter, jeane, manson, life, black, sudanese, migrant, center, knife, god, berry, kill\n",
      "Topic 1:\n",
      "soral, alain, answer, episode, bravery, piece, fr, jus, family, question, de, race, first, female, hebrew, health, farmer, hai, federal, great\n",
      "Topic 2:\n",
      "like, well, look, see, jew, fire, trump, right, people, everything, chose, child, know, catholic, official, week, semitic, even, anti, day\n",
      "Topic 3:\n",
      "woman, one, kill, afrin, come, minister, together, day, true, whole, cry, muslim, let, would, asylum, show, corrupt, british, body, sit\n",
      "Topic 4:\n",
      "say, true, arab, trouble, get, white, die, war, stop, everything, must, prime, boris, johnson, go, bombing, female, minister, terrorist, care\n",
      "\n",
      "****** k = 6 ******\n",
      "Topic 0:\n",
      "via, back, freedom, violence, zionism, peace, pedophile, sect, matter, jeane, manson, life, black, sudanese, migrant, center, knife, god, berry, kill\n",
      "Topic 1:\n",
      "soral, alain, answer, episode, bravery, piece, fr, jus, family, question, de, race, first, female, hebrew, health, farmer, hai, federal, great\n",
      "Topic 2:\n",
      "like, well, look, see, jew, fire, trump, right, people, everything, chose, child, know, catholic, official, week, semitic, even, anti, day\n",
      "Topic 3:\n",
      "woman, one, kill, afrin, come, minister, together, day, true, whole, cry, muslim, let, would, asylum, show, corrupt, british, body, sit\n",
      "Topic 4:\n",
      "say, true, arab, trouble, get, white, die, war, stop, everything, must, prime, boris, johnson, go, bombing, female, minister, terrorist, care\n",
      "Topic 5:\n",
      "great, reset, cleaning, episode, spring, new, free, big, health, first, part, see, fuck, hai, government, good, hebrew, god, go, get\n",
      "\n",
      "****** k = 7 ******\n",
      "Topic 0:\n",
      "via, back, freedom, violence, zionism, peace, pedophile, sect, matter, jeane, manson, life, black, migrant, center, sudanese, knife, god, berry, kill\n",
      "Topic 1:\n",
      "soral, alain, answer, episode, bravery, piece, fr, jus, family, question, de, race, first, female, hebrew, health, farmer, hai, federal, great\n",
      "Topic 2:\n",
      "like, well, look, see, jew, fire, trump, right, people, everything, chose, child, know, catholic, official, week, even, semitic, anti, day\n",
      "Topic 3:\n",
      "woman, one, kill, afrin, come, minister, together, day, true, whole, cry, let, would, show, corrupt, asylum, british, body, sit, muslim\n",
      "Topic 4:\n",
      "say, true, arab, trouble, get, white, die, war, stop, everything, must, prime, boris, johnson, go, bombing, female, minister, terrorist, care\n",
      "Topic 5:\n",
      "take, muslim, illegal, alien, invader, help, police, france, naked, knife, race, attacker, eu, plan, back, care, begin, well, new, asylum\n",
      "Topic 6:\n",
      "great, reset, cleaning, episode, spring, new, free, big, health, first, part, see, fuck, hai, government, good, hebrew, god, go, get\n",
      "\n",
      "****** k = 8 ******\n",
      "Topic 0:\n",
      "via, back, freedom, violence, zionism, pedophile, sect, peace, jeane, manson, matter, life, migrant, center, sudanese, knife, god, berry, kill, black\n",
      "Topic 1:\n",
      "soral, alain, answer, episode, bravery, piece, fr, jus, family, question, de, race, first, female, hebrew, health, farmer, hai, federal, great\n",
      "Topic 2:\n",
      "like, well, look, see, jew, fire, trump, right, everything, people, chose, child, catholic, official, know, week, even, semitic, anti, day\n",
      "Topic 3:\n",
      "woman, one, kill, afrin, come, minister, together, day, true, whole, cry, let, would, asylum, show, corrupt, british, body, muslim, sit\n",
      "Topic 4:\n",
      "nigga, black, white, foot, life, france, shit, child, people, know, matter, elder, illegal, piece, care, lie, peace, man, time, fuck\n",
      "Topic 5:\n",
      "take, muslim, alien, illegal, invader, help, police, naked, france, knife, race, attacker, eu, plan, back, care, well, begin, new, asylum\n",
      "Topic 6:\n",
      "great, reset, cleaning, episode, spring, new, free, big, health, first, part, see, fuck, hai, government, good, hebrew, god, go, get\n",
      "Topic 7:\n",
      "say, true, arab, trouble, get, die, war, stop, white, everything, must, boris, prime, johnson, go, female, bombing, minister, terrorist, jew\n",
      "\n",
      "****** k = 9 ******\n",
      "Topic 0:\n",
      "via, back, freedom, violence, zionism, pedophile, sect, peace, jeane, manson, matter, life, migrant, center, sudanese, knife, god, kill, black, berry\n",
      "Topic 1:\n",
      "soral, alain, answer, episode, bravery, piece, fr, jus, family, question, de, race, first, female, hebrew, health, farmer, hai, federal, great\n",
      "Topic 2:\n",
      "like, well, look, see, fire, jew, trump, right, everything, official, week, chose, catholic, anti, even, last, semitic, day, child, former\n",
      "Topic 3:\n",
      "woman, come, afrin, kill, minister, together, day, cry, whole, let, place, asylum, body, british, terrorist, muslim, religious, quite, anyway, repeat\n",
      "Topic 4:\n",
      "nigga, black, life, foot, france, shit, white, piece, man, matter, fuck, body, time, illegal, peace, child, see, good, get, government\n",
      "Topic 5:\n",
      "take, muslim, alien, illegal, invader, help, police, naked, france, knife, race, attacker, eu, plan, back, care, begin, well, new, asylum\n",
      "Topic 6:\n",
      "people, know, white, want, child, humanity, chose, lie, black, really, reason, slave, israel, care, authority, identity, truth, elder, medium, repeat\n",
      "Topic 7:\n",
      "say, true, arab, trouble, get, die, war, stop, everything, prime, boris, must, johnson, go, female, bombing, minister, terrorist, jew, white\n",
      "Topic 8:\n",
      "one, true, show, corrupt, sit, would, kill, get, mine, also, time, today, piece, shit, life, never, weapon, thing, hesitate, police\n",
      "\n",
      "****** k = 10 ******\n",
      "Topic 0:\n",
      "via, back, freedom, violence, zionism, pedophile, sect, peace, jeane, manson, matter, life, migrant, center, sudanese, knife, god, kill, berry, black\n",
      "Topic 1:\n",
      "soral, alain, answer, episode, bravery, piece, fr, jus, family, question, de, race, first, female, hebrew, health, farmer, hai, federal, great\n",
      "Topic 2:\n",
      "like, well, look, see, jew, fire, trump, right, everything, chose, people, catholic, official, child, week, semitic, even, anti, day, last\n",
      "Topic 3:\n",
      "woman, come, afrin, kill, minister, together, day, cry, whole, let, place, asylum, body, british, terrorist, muslim, religious, quite, anyway, repeat\n",
      "Topic 4:\n",
      "nigga, black, white, know, people, child, foot, france, life, shit, elder, matter, lie, care, illegal, slave, reason, lot, peace, piece\n",
      "Topic 5:\n",
      "take, muslim, alien, illegal, invader, help, police, naked, france, knife, race, attacker, eu, plan, back, care, begin, well, new, asylum\n",
      "Topic 6:\n",
      "great, reset, cleaning, episode, spring, new, free, big, health, first, part, see, fuck, hai, government, good, hebrew, god, go, get\n",
      "Topic 7:\n",
      "say, arab, true, trouble, get, die, war, stop, everything, prime, boris, must, johnson, go, minister, bombing, terrorist, jew, white, female\n",
      "Topic 8:\n",
      "one, true, corrupt, show, sit, would, kill, get, mine, time, also, today, piece, shit, life, nigga, thing, hesitate, weapon, police\n",
      "Topic 9:\n",
      "never, forget, true, female, crime, always, government, war, leftist, public, violence, threat, keep, trump, make, repeat, quite, anyway, good, god\n",
      "\n"
     ]
    },
    {
     "name": "stderr",
     "output_type": "stream",
     "text": [
      "C:\\Users\\mathi\\anaconda3\\lib\\site-packages\\sklearn\\decomposition\\_nmf.py:1090: ConvergenceWarning: Maximum number of iterations 200 reached. Increase it to improve convergence.\n",
      "  warnings.warn(\"Maximum number of iterations %d reached. Increase it to\"\n"
     ]
    }
   ],
   "source": [
    "\n",
    "for k in range(3,10+1):    #tf_vectorizer = CountVectorizer(max_df=0.95, min_df=2) # , max_features=no_features, stop_words='english')\n",
    "    print(\"****** k = %d ******\"%(k))\n",
    "    \n",
    "    tfidf_vectorizer = TfidfVectorizer(max_df=params['max_df'], min_df=params['min_df'])\n",
    "    tfidf = tfidf_vectorizer.fit_transform(clean_tweets)\n",
    "    tfidf_feature_names = tfidf_vectorizer.get_feature_names()\n",
    "\n",
    "    nmf = NMF(n_components=k, random_state=1, alpha=.1, l1_ratio=.5, init='nndsvd').fit(tfidf)\n",
    "    \n",
    "    display_topics(nmf, tfidf_feature_names)\n",
    "    print()# NMF is able to use tf-idf\n"
   ]
  },
  {
   "cell_type": "code",
   "execution_count": 92,
   "id": "c783727b",
   "metadata": {},
   "outputs": [],
   "source": [
    "# Run NMF\n",
    "#nmf = NMF(n_components=no_topics, random_state=1, alpha=.1, l1_ratio=.5, init='nndsvd').fit(tfidf)\n",
    "\n",
    "# Run LDA\n"
   ]
  },
  {
   "cell_type": "code",
   "execution_count": null,
   "id": "c74ffb5b",
   "metadata": {},
   "outputs": [],
   "source": []
  }
 ],
 "metadata": {
  "kernelspec": {
   "display_name": "Python 3 (ipykernel)",
   "language": "python",
   "name": "python3"
  },
  "language_info": {
   "codemirror_mode": {
    "name": "ipython",
    "version": 3
   },
   "file_extension": ".py",
   "mimetype": "text/x-python",
   "name": "python",
   "nbconvert_exporter": "python",
   "pygments_lexer": "ipython3",
   "version": "3.9.7"
  }
 },
 "nbformat": 4,
 "nbformat_minor": 5
}
