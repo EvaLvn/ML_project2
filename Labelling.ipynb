{
 "cells": [
  {
   "cell_type": "code",
   "execution_count": 1,
   "id": "95bd62b9",
   "metadata": {},
   "outputs": [],
   "source": [
    "import pandas as pd\n",
    "from helpers import *"
   ]
  },
  {
   "cell_type": "code",
   "execution_count": 18,
   "id": "653bd5ba",
   "metadata": {},
   "outputs": [],
   "source": [
    "df = pd.read_csv('data/to_be_clustered.csv.gz', compression=\"gzip\")\n",
    "country = 'France'"
   ]
  },
  {
   "cell_type": "code",
   "execution_count": 15,
   "id": "8ef4a90a",
   "metadata": {},
   "outputs": [
    {
     "data": {
      "text/plain": [
       "Index(['Unnamed: 0', 'created_at', 'text', 'source', 'translated', 'clean',\n",
       "       'whcs', 'duplicated', 'language'],\n",
       "      dtype='object')"
      ]
     },
     "execution_count": 15,
     "metadata": {},
     "output_type": "execute_result"
    }
   ],
   "source": [
    "df.columns"
   ]
  },
  {
   "cell_type": "code",
   "execution_count": 8,
   "id": "83e6bd03",
   "metadata": {},
   "outputs": [],
   "source": [
    "categories = {}\n",
    "categories['France'] = ['white/black - racism', 'islam', 'terrorism', 'coronavirus - vaccination', \n",
    "          'american elections', 'India - Pakistan', 'jew - antisemtism', 'farright', 'anti communism'\n",
    "          'tweeter acccounts', 'fantasy sex play', 'Alain Soral', 'immigration', 'homophobia', 'other']"
   ]
  },
  {
   "cell_type": "code",
   "execution_count": 4,
   "id": "b05627f5",
   "metadata": {},
   "outputs": [],
   "source": [
    "def prepare_xlsx_for_labelling(country, nb, text_column = 'translated'):\n",
    "    df_c =pd.DataFrame(df[df.whcs == country][text_column])\n",
    "    assert nb < len(df_c)\n",
    "    df_c = df_c.sample(nb)\n",
    "    for cat in categories[country]:\n",
    "        df_c[cat] = 0\n",
    "    df_c.to_excel('data/labelling/'+country+\"_to_be_labeled.xlsx\")"
   ]
  },
  {
   "cell_type": "code",
   "execution_count": 16,
   "id": "4a19bbad",
   "metadata": {},
   "outputs": [],
   "source": [
    "prepare_xlsx_for_labelling('France', 200, text_column = ['text', 'translated', 'source'])"
   ]
  },
  {
   "cell_type": "markdown",
   "id": "561e6962",
   "metadata": {},
   "source": [
    "## Get back the labeled tweets"
   ]
  },
  {
   "cell_type": "code",
   "execution_count": 44,
   "id": "d18b5599",
   "metadata": {},
   "outputs": [],
   "source": [
    "df_lab = pd.read_excel('data/labelling/'+country+\"_labeled.xlsx\")\n",
    "categories = ['white/black - racism',\n",
    "       'islam', 'terrorism', 'coronavirus - vaccination', 'american elections',\n",
    "       'India - Pakistan', 'jew - antisemtism', 'farright',\n",
    "       'communism - against bankers , against state  prder ',\n",
    "       'fantasy sex play', 'Alain Soral', 'immigration', 'homophobia',\n",
    "       'tweeter acccounts', 'women', 'other', \"Don't know\"]\n",
    "df_lab[categories] = df_lab[categories].astype(int)\n",
    "df_lab.rename(columns={'Unnamed: 0' : 'index'}, inplace = True)\n",
    "df_lab.set_index('index', inplace = True)"
   ]
  },
  {
   "cell_type": "code",
   "execution_count": 53,
   "id": "d856dfb5",
   "metadata": {},
   "outputs": [],
   "source": [
    "df_lab['sum'] = df_lab[categories].sum(axis = 1)\n",
    "df_lab = df_lab[df_lab['sum'] > 0]\n",
    "df_lab = df_lab[df_lab[\"Don't know\"] != 1]\n",
    "df_lab['labels'] = df_lab[categories].apply(lambda row: [col for col, b in zip(categories, row) if b],axis=1)\n",
    "df_out = df_lab[['translated','labels']]"
   ]
  },
  {
   "cell_type": "code",
   "execution_count": 54,
   "id": "6dcc12c0",
   "metadata": {},
   "outputs": [
    {
     "data": {
      "text/html": [
       "<div>\n",
       "<style scoped>\n",
       "    .dataframe tbody tr th:only-of-type {\n",
       "        vertical-align: middle;\n",
       "    }\n",
       "\n",
       "    .dataframe tbody tr th {\n",
       "        vertical-align: top;\n",
       "    }\n",
       "\n",
       "    .dataframe thead th {\n",
       "        text-align: right;\n",
       "    }\n",
       "</style>\n",
       "<table border=\"1\" class=\"dataframe\">\n",
       "  <thead>\n",
       "    <tr style=\"text-align: right;\">\n",
       "      <th></th>\n",
       "      <th>translated</th>\n",
       "      <th>labels</th>\n",
       "    </tr>\n",
       "    <tr>\n",
       "      <th>index</th>\n",
       "      <th></th>\n",
       "      <th></th>\n",
       "    </tr>\n",
       "  </thead>\n",
       "  <tbody>\n",
       "    <tr>\n",
       "      <th>12259</th>\n",
       "      <td>Trump at CPAC: Trumpism means strong border, n...</td>\n",
       "      <td>[american elections, farright]</td>\n",
       "    </tr>\n",
       "    <tr>\n",
       "      <th>19690</th>\n",
       "      <td>This post still has anti-Whites butthurt.#Blac...</td>\n",
       "      <td>[white/black - racism]</td>\n",
       "    </tr>\n",
       "    <tr>\n",
       "      <th>5455</th>\n",
       "      <td>Democrat Rep. Jackie Speier thinks a lot of wh...</td>\n",
       "      <td>[american elections]</td>\n",
       "    </tr>\n",
       "    <tr>\n",
       "      <th>6841</th>\n",
       "      <td>This is what happens to Whites when they becom...</td>\n",
       "      <td>[white/black - racism]</td>\n",
       "    </tr>\n",
       "    <tr>\n",
       "      <th>18285</th>\n",
       "      <td>WARNING: Attack in France is ComingMuslim Mayo...</td>\n",
       "      <td>[islam, terrorism]</td>\n",
       "    </tr>\n",
       "    <tr>\n",
       "      <th>...</th>\n",
       "      <td>...</td>\n",
       "      <td>...</td>\n",
       "    </tr>\n",
       "    <tr>\n",
       "      <th>9295</th>\n",
       "      <td>Female ‘Palestinian’ Muslim terrorist says: “P...</td>\n",
       "      <td>[islam, jew - antisemtism]</td>\n",
       "    </tr>\n",
       "    <tr>\n",
       "      <th>15165</th>\n",
       "      <td>Outside of environments that have been imposed...</td>\n",
       "      <td>[white/black - racism]</td>\n",
       "    </tr>\n",
       "    <tr>\n",
       "      <th>470</th>\n",
       "      <td>No Muslim ever respects a religious teacher of...</td>\n",
       "      <td>[islam]</td>\n",
       "    </tr>\n",
       "    <tr>\n",
       "      <th>13988</th>\n",
       "      <td>Blacks don't actually oppose police shootings....</td>\n",
       "      <td>[white/black - racism]</td>\n",
       "    </tr>\n",
       "    <tr>\n",
       "      <th>1361</th>\n",
       "      <td>Amazing that articles people wrote about me tw...</td>\n",
       "      <td>[tweeter acccounts]</td>\n",
       "    </tr>\n",
       "  </tbody>\n",
       "</table>\n",
       "<p>125 rows × 2 columns</p>\n",
       "</div>"
      ],
      "text/plain": [
       "                                              translated  \\\n",
       "index                                                      \n",
       "12259  Trump at CPAC: Trumpism means strong border, n...   \n",
       "19690  This post still has anti-Whites butthurt.#Blac...   \n",
       "5455   Democrat Rep. Jackie Speier thinks a lot of wh...   \n",
       "6841   This is what happens to Whites when they becom...   \n",
       "18285  WARNING: Attack in France is ComingMuslim Mayo...   \n",
       "...                                                  ...   \n",
       "9295   Female ‘Palestinian’ Muslim terrorist says: “P...   \n",
       "15165  Outside of environments that have been imposed...   \n",
       "470    No Muslim ever respects a religious teacher of...   \n",
       "13988  Blacks don't actually oppose police shootings....   \n",
       "1361   Amazing that articles people wrote about me tw...   \n",
       "\n",
       "                               labels  \n",
       "index                                  \n",
       "12259  [american elections, farright]  \n",
       "19690          [white/black - racism]  \n",
       "5455             [american elections]  \n",
       "6841           [white/black - racism]  \n",
       "18285              [islam, terrorism]  \n",
       "...                               ...  \n",
       "9295       [islam, jew - antisemtism]  \n",
       "15165          [white/black - racism]  \n",
       "470                           [islam]  \n",
       "13988          [white/black - racism]  \n",
       "1361              [tweeter acccounts]  \n",
       "\n",
       "[125 rows x 2 columns]"
      ]
     },
     "execution_count": 54,
     "metadata": {},
     "output_type": "execute_result"
    }
   ],
   "source": [
    "df_out.to_csv('data/labelling/'+country+\"_to_be_labeled.xlsx\"')"
   ]
  },
  {
   "cell_type": "code",
   "execution_count": 38,
   "id": "89c997b0",
   "metadata": {},
   "outputs": [],
   "source": []
  },
  {
   "cell_type": "code",
   "execution_count": null,
   "id": "f01394a2",
   "metadata": {},
   "outputs": [],
   "source": []
  }
 ],
 "metadata": {
  "kernelspec": {
   "display_name": "Python 3 (ipykernel)",
   "language": "python",
   "name": "python3"
  },
  "language_info": {
   "codemirror_mode": {
    "name": "ipython",
    "version": 3
   },
   "file_extension": ".py",
   "mimetype": "text/x-python",
   "name": "python",
   "nbconvert_exporter": "python",
   "pygments_lexer": "ipython3",
   "version": "3.9.7"
  }
 },
 "nbformat": 4,
 "nbformat_minor": 5
}
