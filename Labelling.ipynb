{
 "cells": [
  {
   "cell_type": "code",
   "execution_count": 6,
   "id": "95bd62b9",
   "metadata": {},
   "outputs": [],
   "source": [
    "import pandas as pd\n",
    "from helpers import *"
   ]
  },
  {
   "cell_type": "code",
   "execution_count": 21,
   "id": "653bd5ba",
   "metadata": {},
   "outputs": [],
   "source": [
    "df = pd.read_csv('data/to_be_clustered.csv.gz', compression=\"gzip\")"
   ]
  },
  {
   "cell_type": "code",
   "execution_count": 22,
   "id": "83e6bd03",
   "metadata": {},
   "outputs": [],
   "source": [
    "categories = {}\n",
    "categories['France'] = ['covid', 'antisemit', 'racism', 'porn']"
   ]
  },
  {
   "cell_type": "code",
   "execution_count": 28,
   "id": "b05627f5",
   "metadata": {},
   "outputs": [],
   "source": [
    "def prepare_xlsx_for_labelling(country, nb, text_column = 'translated'):\n",
    "    df_c =pd.DataFrame(df[df.whcs == country][text_column])\n",
    "    assert nb < len(df_c)\n",
    "    df_c = df_c.sample(nb)\n",
    "    for cat in categories[country]:\n",
    "        df_c[cat] = 0\n",
    "    df_c.to_excel('data/labelling/'+country+\"_to_be_labeled.xlsx\")"
   ]
  },
  {
   "cell_type": "code",
   "execution_count": 31,
   "id": "4a19bbad",
   "metadata": {},
   "outputs": [],
   "source": [
    "prepare_xlsx_for_labelling('France', 200, text_column = ['text', 'translated'])"
   ]
  },
  {
   "cell_type": "code",
   "execution_count": null,
   "id": "d18b5599",
   "metadata": {},
   "outputs": [],
   "source": []
  }
 ],
 "metadata": {
  "kernelspec": {
   "display_name": "Python 3 (ipykernel)",
   "language": "python",
   "name": "python3"
  },
  "language_info": {
   "codemirror_mode": {
    "name": "ipython",
    "version": 3
   },
   "file_extension": ".py",
   "mimetype": "text/x-python",
   "name": "python",
   "nbconvert_exporter": "python",
   "pygments_lexer": "ipython3",
   "version": "3.9.7"
  }
 },
 "nbformat": 4,
 "nbformat_minor": 5
}
